{
 "cells": [
  {
   "cell_type": "markdown",
   "id": "52623bf6",
   "metadata": {},
   "source": [
    "# 02. Trouble404/kaggle-Job-Salary-Prediction\n",
    "\n",
    "## Predictions with ML Regression Models - Train_rev1.csv"
   ]
  },
  {
   "cell_type": "code",
   "execution_count": 2,
   "id": "382e8a69",
   "metadata": {},
   "outputs": [],
   "source": [
    "import numpy as np\n",
    "import pandas as pd\n",
    "import matplotlib.pyplot as plt\n",
    "import seaborn as sns\n",
    "import warnings\n",
    "warnings.filterwarnings('ignore')\n",
    "from sklearn.linear_model import LinearRegression, Lasso, Ridge\n",
    "from sklearn.tree import DecisionTreeRegressor\n",
    "from sklearn.ensemble import RandomForestRegressor\n",
    "from sklearn.neighbors import KNeighborsRegressor\n",
    "from sklearn.svm import SVR\n",
    "from sklearn.neural_network import MLPRegressor\n",
    "from sklearn.model_selection import train_test_split, cross_val_score, cross_validate\n",
    "from sklearn.preprocessing import OneHotEncoder, PolynomialFeatures, StandardScaler, MinMaxScaler\n",
    "from sklearn.metrics import mean_squared_error, mean_absolute_error, r2_score, get_scorer_names\n",
    "salary_data = pd.read_csv('02_Train_rev1.csv')"
   ]
  },
  {
   "cell_type": "code",
   "execution_count": 3,
   "id": "59b6067c",
   "metadata": {},
   "outputs": [
    {
     "name": "stdout",
     "output_type": "stream",
     "text": [
      "(244768, 12)\n"
     ]
    }
   ],
   "source": [
    "# Print the shape of the dataset\n",
    "print(salary_data.shape)"
   ]
  },
  {
   "cell_type": "code",
   "execution_count": 4,
   "id": "ffb563e2",
   "metadata": {},
   "outputs": [
    {
     "data": {
      "text/html": [
       "<div>\n",
       "<style scoped>\n",
       "    .dataframe tbody tr th:only-of-type {\n",
       "        vertical-align: middle;\n",
       "    }\n",
       "\n",
       "    .dataframe tbody tr th {\n",
       "        vertical-align: top;\n",
       "    }\n",
       "\n",
       "    .dataframe thead th {\n",
       "        text-align: right;\n",
       "    }\n",
       "</style>\n",
       "<table border=\"1\" class=\"dataframe\">\n",
       "  <thead>\n",
       "    <tr style=\"text-align: right;\">\n",
       "      <th></th>\n",
       "      <th>Id</th>\n",
       "      <th>Title</th>\n",
       "      <th>FullDescription</th>\n",
       "      <th>LocationRaw</th>\n",
       "      <th>LocationNormalized</th>\n",
       "      <th>ContractType</th>\n",
       "      <th>ContractTime</th>\n",
       "      <th>Company</th>\n",
       "      <th>Category</th>\n",
       "      <th>SalaryRaw</th>\n",
       "      <th>SalaryNormalized</th>\n",
       "      <th>SourceName</th>\n",
       "    </tr>\n",
       "  </thead>\n",
       "  <tbody>\n",
       "    <tr>\n",
       "      <th>0</th>\n",
       "      <td>12612628</td>\n",
       "      <td>Engineering Systems Analyst</td>\n",
       "      <td>Engineering Systems Analyst Dorking Surrey Sal...</td>\n",
       "      <td>Dorking, Surrey, Surrey</td>\n",
       "      <td>Dorking</td>\n",
       "      <td>NaN</td>\n",
       "      <td>permanent</td>\n",
       "      <td>Gregory Martin International</td>\n",
       "      <td>Engineering Jobs</td>\n",
       "      <td>20000 - 30000/annum 20-30K</td>\n",
       "      <td>25000</td>\n",
       "      <td>cv-library.co.uk</td>\n",
       "    </tr>\n",
       "    <tr>\n",
       "      <th>1</th>\n",
       "      <td>12612830</td>\n",
       "      <td>Stress Engineer Glasgow</td>\n",
       "      <td>Stress Engineer Glasgow Salary **** to **** We...</td>\n",
       "      <td>Glasgow, Scotland, Scotland</td>\n",
       "      <td>Glasgow</td>\n",
       "      <td>NaN</td>\n",
       "      <td>permanent</td>\n",
       "      <td>Gregory Martin International</td>\n",
       "      <td>Engineering Jobs</td>\n",
       "      <td>25000 - 35000/annum 25-35K</td>\n",
       "      <td>30000</td>\n",
       "      <td>cv-library.co.uk</td>\n",
       "    </tr>\n",
       "    <tr>\n",
       "      <th>2</th>\n",
       "      <td>12612844</td>\n",
       "      <td>Modelling and simulation analyst</td>\n",
       "      <td>Mathematical Modeller / Simulation Analyst / O...</td>\n",
       "      <td>Hampshire, South East, South East</td>\n",
       "      <td>Hampshire</td>\n",
       "      <td>NaN</td>\n",
       "      <td>permanent</td>\n",
       "      <td>Gregory Martin International</td>\n",
       "      <td>Engineering Jobs</td>\n",
       "      <td>20000 - 40000/annum 20-40K</td>\n",
       "      <td>30000</td>\n",
       "      <td>cv-library.co.uk</td>\n",
       "    </tr>\n",
       "    <tr>\n",
       "      <th>3</th>\n",
       "      <td>12613049</td>\n",
       "      <td>Engineering Systems Analyst / Mathematical Mod...</td>\n",
       "      <td>Engineering Systems Analyst / Mathematical Mod...</td>\n",
       "      <td>Surrey, South East, South East</td>\n",
       "      <td>Surrey</td>\n",
       "      <td>NaN</td>\n",
       "      <td>permanent</td>\n",
       "      <td>Gregory Martin International</td>\n",
       "      <td>Engineering Jobs</td>\n",
       "      <td>25000 - 30000/annum 25K-30K negotiable</td>\n",
       "      <td>27500</td>\n",
       "      <td>cv-library.co.uk</td>\n",
       "    </tr>\n",
       "    <tr>\n",
       "      <th>4</th>\n",
       "      <td>12613647</td>\n",
       "      <td>Pioneer, Miser Engineering Systems Analyst</td>\n",
       "      <td>Pioneer, Miser  Engineering Systems Analyst Do...</td>\n",
       "      <td>Surrey, South East, South East</td>\n",
       "      <td>Surrey</td>\n",
       "      <td>NaN</td>\n",
       "      <td>permanent</td>\n",
       "      <td>Gregory Martin International</td>\n",
       "      <td>Engineering Jobs</td>\n",
       "      <td>20000 - 30000/annum 20-30K</td>\n",
       "      <td>25000</td>\n",
       "      <td>cv-library.co.uk</td>\n",
       "    </tr>\n",
       "  </tbody>\n",
       "</table>\n",
       "</div>"
      ],
      "text/plain": [
       "         Id                                              Title  \\\n",
       "0  12612628                        Engineering Systems Analyst   \n",
       "1  12612830                            Stress Engineer Glasgow   \n",
       "2  12612844                   Modelling and simulation analyst   \n",
       "3  12613049  Engineering Systems Analyst / Mathematical Mod...   \n",
       "4  12613647         Pioneer, Miser Engineering Systems Analyst   \n",
       "\n",
       "                                     FullDescription  \\\n",
       "0  Engineering Systems Analyst Dorking Surrey Sal...   \n",
       "1  Stress Engineer Glasgow Salary **** to **** We...   \n",
       "2  Mathematical Modeller / Simulation Analyst / O...   \n",
       "3  Engineering Systems Analyst / Mathematical Mod...   \n",
       "4  Pioneer, Miser  Engineering Systems Analyst Do...   \n",
       "\n",
       "                         LocationRaw LocationNormalized ContractType  \\\n",
       "0            Dorking, Surrey, Surrey            Dorking          NaN   \n",
       "1        Glasgow, Scotland, Scotland            Glasgow          NaN   \n",
       "2  Hampshire, South East, South East          Hampshire          NaN   \n",
       "3     Surrey, South East, South East             Surrey          NaN   \n",
       "4     Surrey, South East, South East             Surrey          NaN   \n",
       "\n",
       "  ContractTime                       Company          Category  \\\n",
       "0    permanent  Gregory Martin International  Engineering Jobs   \n",
       "1    permanent  Gregory Martin International  Engineering Jobs   \n",
       "2    permanent  Gregory Martin International  Engineering Jobs   \n",
       "3    permanent  Gregory Martin International  Engineering Jobs   \n",
       "4    permanent  Gregory Martin International  Engineering Jobs   \n",
       "\n",
       "                                SalaryRaw  SalaryNormalized        SourceName  \n",
       "0              20000 - 30000/annum 20-30K             25000  cv-library.co.uk  \n",
       "1              25000 - 35000/annum 25-35K             30000  cv-library.co.uk  \n",
       "2              20000 - 40000/annum 20-40K             30000  cv-library.co.uk  \n",
       "3  25000 - 30000/annum 25K-30K negotiable             27500  cv-library.co.uk  \n",
       "4              20000 - 30000/annum 20-30K             25000  cv-library.co.uk  "
      ]
     },
     "execution_count": 4,
     "metadata": {},
     "output_type": "execute_result"
    }
   ],
   "source": [
    "# First 5 rows of the dataset\n",
    "salary_data.head()"
   ]
  },
  {
   "cell_type": "code",
   "execution_count": 5,
   "id": "497061d0",
   "metadata": {},
   "outputs": [
    {
     "data": {
      "text/html": [
       "<div>\n",
       "<style scoped>\n",
       "    .dataframe tbody tr th:only-of-type {\n",
       "        vertical-align: middle;\n",
       "    }\n",
       "\n",
       "    .dataframe tbody tr th {\n",
       "        vertical-align: top;\n",
       "    }\n",
       "\n",
       "    .dataframe thead th {\n",
       "        text-align: right;\n",
       "    }\n",
       "</style>\n",
       "<table border=\"1\" class=\"dataframe\">\n",
       "  <thead>\n",
       "    <tr style=\"text-align: right;\">\n",
       "      <th></th>\n",
       "      <th>Id</th>\n",
       "      <th>Title</th>\n",
       "      <th>FullDescription</th>\n",
       "      <th>LocationRaw</th>\n",
       "      <th>LocationNormalized</th>\n",
       "      <th>ContractType</th>\n",
       "      <th>ContractTime</th>\n",
       "      <th>Company</th>\n",
       "      <th>Category</th>\n",
       "      <th>SalaryRaw</th>\n",
       "      <th>SalaryNormalized</th>\n",
       "      <th>SourceName</th>\n",
       "    </tr>\n",
       "  </thead>\n",
       "  <tbody>\n",
       "    <tr>\n",
       "      <th>244763</th>\n",
       "      <td>72705211</td>\n",
       "      <td>TEACHER OF SCIENCE</td>\n",
       "      <td>Position: Qualified Teacher Subject/Specialism...</td>\n",
       "      <td>Swindon</td>\n",
       "      <td>Swindon</td>\n",
       "      <td>NaN</td>\n",
       "      <td>contract</td>\n",
       "      <td>NaN</td>\n",
       "      <td>Teaching Jobs</td>\n",
       "      <td>450 - 500 per week</td>\n",
       "      <td>22800</td>\n",
       "      <td>hays.co.uk</td>\n",
       "    </tr>\n",
       "    <tr>\n",
       "      <th>244764</th>\n",
       "      <td>72705212</td>\n",
       "      <td>TEACHER OF BUSINESS STUDIES AND ICT</td>\n",
       "      <td>Position: Qualified Teacher or NQT Subject/Spe...</td>\n",
       "      <td>Swindon</td>\n",
       "      <td>Swindon</td>\n",
       "      <td>NaN</td>\n",
       "      <td>contract</td>\n",
       "      <td>NaN</td>\n",
       "      <td>Teaching Jobs</td>\n",
       "      <td>450 - 500 per week</td>\n",
       "      <td>22800</td>\n",
       "      <td>hays.co.uk</td>\n",
       "    </tr>\n",
       "    <tr>\n",
       "      <th>244765</th>\n",
       "      <td>72705213</td>\n",
       "      <td>ENGLISH TEACHER</td>\n",
       "      <td>Position: Qualified Teacher Subject/Specialism...</td>\n",
       "      <td>Swindon</td>\n",
       "      <td>Swindon</td>\n",
       "      <td>NaN</td>\n",
       "      <td>contract</td>\n",
       "      <td>NaN</td>\n",
       "      <td>Teaching Jobs</td>\n",
       "      <td>450 - 500 per week</td>\n",
       "      <td>22800</td>\n",
       "      <td>hays.co.uk</td>\n",
       "    </tr>\n",
       "    <tr>\n",
       "      <th>244766</th>\n",
       "      <td>72705216</td>\n",
       "      <td>SUPPLY TEACHERS</td>\n",
       "      <td>Position: Qualified Teacher Subject/Specialism...</td>\n",
       "      <td>Wiltshire</td>\n",
       "      <td>Wiltshire</td>\n",
       "      <td>NaN</td>\n",
       "      <td>contract</td>\n",
       "      <td>NaN</td>\n",
       "      <td>Teaching Jobs</td>\n",
       "      <td>450 to 500 per week</td>\n",
       "      <td>22800</td>\n",
       "      <td>hays.co.uk</td>\n",
       "    </tr>\n",
       "    <tr>\n",
       "      <th>244767</th>\n",
       "      <td>72705235</td>\n",
       "      <td>Accountant</td>\n",
       "      <td>This entrepreneurial and growing private equit...</td>\n",
       "      <td>Hitchin</td>\n",
       "      <td>Hitchin</td>\n",
       "      <td>NaN</td>\n",
       "      <td>permanent</td>\n",
       "      <td>NaN</td>\n",
       "      <td>Teaching Jobs</td>\n",
       "      <td>40-45,000</td>\n",
       "      <td>42500</td>\n",
       "      <td>hays.co.uk</td>\n",
       "    </tr>\n",
       "  </tbody>\n",
       "</table>\n",
       "</div>"
      ],
      "text/plain": [
       "              Id                                Title  \\\n",
       "244763  72705211                   TEACHER OF SCIENCE   \n",
       "244764  72705212  TEACHER OF BUSINESS STUDIES AND ICT   \n",
       "244765  72705213                      ENGLISH TEACHER   \n",
       "244766  72705216                      SUPPLY TEACHERS   \n",
       "244767  72705235                           Accountant   \n",
       "\n",
       "                                          FullDescription LocationRaw  \\\n",
       "244763  Position: Qualified Teacher Subject/Specialism...     Swindon   \n",
       "244764  Position: Qualified Teacher or NQT Subject/Spe...     Swindon   \n",
       "244765  Position: Qualified Teacher Subject/Specialism...     Swindon   \n",
       "244766  Position: Qualified Teacher Subject/Specialism...   Wiltshire   \n",
       "244767  This entrepreneurial and growing private equit...     Hitchin   \n",
       "\n",
       "       LocationNormalized ContractType ContractTime Company       Category  \\\n",
       "244763            Swindon          NaN     contract     NaN  Teaching Jobs   \n",
       "244764            Swindon          NaN     contract     NaN  Teaching Jobs   \n",
       "244765            Swindon          NaN     contract     NaN  Teaching Jobs   \n",
       "244766          Wiltshire          NaN     contract     NaN  Teaching Jobs   \n",
       "244767            Hitchin          NaN    permanent     NaN  Teaching Jobs   \n",
       "\n",
       "                  SalaryRaw  SalaryNormalized  SourceName  \n",
       "244763   450 - 500 per week             22800  hays.co.uk  \n",
       "244764   450 - 500 per week             22800  hays.co.uk  \n",
       "244765   450 - 500 per week             22800  hays.co.uk  \n",
       "244766  450 to 500 per week             22800  hays.co.uk  \n",
       "244767            40-45,000             42500  hays.co.uk  "
      ]
     },
     "execution_count": 5,
     "metadata": {},
     "output_type": "execute_result"
    }
   ],
   "source": [
    "# Last 5 rows of the dataset\n",
    "salary_data.tail()"
   ]
  },
  {
   "cell_type": "markdown",
   "id": "ff8e8d3d",
   "metadata": {},
   "source": [
    "## Preprocessing"
   ]
  },
  {
   "cell_type": "code",
   "execution_count": 6,
   "id": "b4583d50",
   "metadata": {},
   "outputs": [],
   "source": [
    "# First, remore rows whose normalized salary values are greater than 100K (there are 297 of them)\n",
    "outliers = salary_data[salary_data['SalaryNormalized'] > 100000].index\n",
    "salary_data.drop(outliers, axis=0, inplace=True)"
   ]
  },
  {
   "cell_type": "code",
   "execution_count": 7,
   "id": "65ac5e78",
   "metadata": {},
   "outputs": [
    {
     "name": "stdout",
     "output_type": "stream",
     "text": [
      "<class 'pandas.core.frame.DataFrame'>\n",
      "Int64Index: 244471 entries, 0 to 244767\n",
      "Data columns (total 12 columns):\n",
      " #   Column              Non-Null Count   Dtype \n",
      "---  ------              --------------   ----- \n",
      " 0   Id                  244471 non-null  int64 \n",
      " 1   Title               244470 non-null  object\n",
      " 2   FullDescription     244471 non-null  object\n",
      " 3   LocationRaw         244471 non-null  object\n",
      " 4   LocationNormalized  244471 non-null  object\n",
      " 5   ContractType        65387 non-null   object\n",
      " 6   ContractTime        180628 non-null  object\n",
      " 7   Company             212144 non-null  object\n",
      " 8   Category            244471 non-null  object\n",
      " 9   SalaryRaw           244471 non-null  object\n",
      " 10  SalaryNormalized    244471 non-null  int64 \n",
      " 11  SourceName          244471 non-null  object\n",
      "dtypes: int64(2), object(10)\n",
      "memory usage: 24.2+ MB\n"
     ]
    }
   ],
   "source": [
    "salary_data.info()"
   ]
  },
  {
   "cell_type": "code",
   "execution_count": 8,
   "id": "31c08eca",
   "metadata": {},
   "outputs": [
    {
     "data": {
      "text/plain": [
       "OTHER            110625\n",
       "MANAGER           50032\n",
       "ENGINEER          25267\n",
       "DEVELOPER         13564\n",
       "EXECUTIVE         10137\n",
       "ANALYST            8819\n",
       "TEACHER            7477\n",
       "ADMINISTRATOR      6224\n",
       "WORKER             5032\n",
       "ACCOUNTANT         3686\n",
       "OFFICER            3608\n",
       "Name: TitleSimp, dtype: int64"
      ]
     },
     "execution_count": 8,
     "metadata": {},
     "output_type": "execute_result"
    }
   ],
   "source": [
    "# Simplify the job titles into these words below\n",
    "title_simp = []\n",
    "for x in salary_data['Title']:\n",
    "    if type(x) == float:                  title_simp.append('OTHER')\n",
    "    elif 'manager' in x.lower():          title_simp.append('MANAGER')\n",
    "    elif 'engineer' in x.lower():         title_simp.append('ENGINEER')\n",
    "    elif 'developer' in x.lower():        title_simp.append('DEVELOPER')\n",
    "    elif 'executive' in x.lower():        title_simp.append('EXECUTIVE')\n",
    "    elif 'analyst' in x.lower():          title_simp.append('ANALYST')\n",
    "    elif 'administrator' in x.lower():    title_simp.append('ADMINISTRATOR')\n",
    "    elif 'accountant' in x.lower():       title_simp.append('ACCOUNTANT')\n",
    "    elif 'teach' in x.lower():            title_simp.append('TEACHER')\n",
    "    elif 'worker' in x.lower():           title_simp.append('WORKER')\n",
    "    elif 'officer' in x.lower():          title_simp.append('OFFICER')\n",
    "    else:                                 title_simp.append('OTHER')\n",
    "salary_data['TitleSimp'] = title_simp\n",
    "salary_data['TitleSimp'].value_counts()"
   ]
  },
  {
   "cell_type": "code",
   "execution_count": 9,
   "id": "20a8036f",
   "metadata": {},
   "outputs": [
    {
     "data": {
      "text/plain": [
       "OTHER            65405\n",
       "ENGINEER         63617\n",
       "SALES            23852\n",
       "FINANCE          21771\n",
       "HEALTH           20971\n",
       "SERVICE          17411\n",
       "EDUCATION        12633\n",
       "ADVERTISEMENT     8851\n",
       "RECRUITMENT       7713\n",
       "ENERGY            2247\n",
       "Name: CategorySimp, dtype: int64"
      ]
     },
     "execution_count": 9,
     "metadata": {},
     "output_type": "execute_result"
    }
   ],
   "source": [
    "# Simplify the job categories into these words below\n",
    "cat_simp = []\n",
    "for x in salary_data['Category']:\n",
    "    if 'it jobs' in x.lower() or 'engineer' in x.lower():    cat_simp.append('ENGINEER')\n",
    "    elif 'sales' in x.lower() or 'retail' in x.lower():      cat_simp.append('SALES')\n",
    "    elif 'finance' in x.lower():        cat_simp.append('FINANCE')\n",
    "    elif 'health' in x.lower():         cat_simp.append('HEALTH')\n",
    "    elif 'teach' in x.lower():          cat_simp.append('EDUCATION')\n",
    "    elif 'advertising' in x.lower():    cat_simp.append('ADVERTISEMENT')\n",
    "    elif 'energy' in x.lower():         cat_simp.append('ENERGY')\n",
    "    elif 'service' in x.lower() or 'catering' in x.lower():  cat_simp.append('SERVICE')\n",
    "    elif 'recruit' in x.lower():        cat_simp.append('RECRUITMENT')\n",
    "    else:    cat_simp.append('OTHER')\n",
    "salary_data['CategorySimp'] = cat_simp\n",
    "salary_data['CategorySimp'].value_counts()"
   ]
  },
  {
   "cell_type": "code",
   "execution_count": 10,
   "id": "9204a885",
   "metadata": {},
   "outputs": [
    {
     "data": {
      "text/plain": [
       "UNKNOWN      179084\n",
       "FULL_TIME     57490\n",
       "PART_TIME      7897\n",
       "Name: ContractTypeEdit, dtype: int64"
      ]
     },
     "execution_count": 10,
     "metadata": {},
     "output_type": "execute_result"
    }
   ],
   "source": [
    "# Change contract types to also include unknowns\n",
    "contract_type_edit = []\n",
    "for x in salary_data['ContractType']:\n",
    "    if type(x) == float:\n",
    "        contract_type_edit.append('UNKNOWN')\n",
    "    elif x == 'full_time':\n",
    "        contract_type_edit.append('FULL_TIME')\n",
    "    elif x == 'part_time':\n",
    "        contract_type_edit.append('PART_TIME')\n",
    "salary_data['ContractTypeEdit'] = contract_type_edit\n",
    "salary_data['ContractTypeEdit'].value_counts()"
   ]
  },
  {
   "cell_type": "code",
   "execution_count": 11,
   "id": "075684ff",
   "metadata": {},
   "outputs": [
    {
     "data": {
      "text/plain": [
       "PERMANENT    151431\n",
       "UNKNOWN       63843\n",
       "CONTRACT      29197\n",
       "Name: ContractTimeEdit, dtype: int64"
      ]
     },
     "execution_count": 11,
     "metadata": {},
     "output_type": "execute_result"
    }
   ],
   "source": [
    "# Change contract times to also include unknowns\n",
    "contract_time_edit = []\n",
    "for x in salary_data['ContractTime']:\n",
    "    if type(x) == float:\n",
    "        contract_time_edit.append('UNKNOWN')\n",
    "    elif x == 'permanent':\n",
    "        contract_time_edit.append('PERMANENT')\n",
    "    elif x == 'contract':\n",
    "        contract_time_edit.append('CONTRACT')\n",
    "salary_data['ContractTimeEdit'] = contract_time_edit\n",
    "salary_data['ContractTimeEdit'].value_counts()"
   ]
  },
  {
   "cell_type": "code",
   "execution_count": 12,
   "id": "237425e4",
   "metadata": {},
   "outputs": [
    {
     "data": {
      "text/plain": [
       "0          348\n",
       "1         1649\n",
       "2         1771\n",
       "3          397\n",
       "4          216\n",
       "          ... \n",
       "244763    2345\n",
       "244764    1689\n",
       "244765    2320\n",
       "244766    2502\n",
       "244767     696\n",
       "Name: DescLength, Length: 244471, dtype: int64"
      ]
     },
     "execution_count": 12,
     "metadata": {},
     "output_type": "execute_result"
    }
   ],
   "source": [
    "# Get the description length of each job\n",
    "salary_data['DescLength'] = salary_data['FullDescription'].apply(lambda x: len(x))\n",
    "salary_data['DescLength']"
   ]
  },
  {
   "cell_type": "code",
   "execution_count": 13,
   "id": "d81e95ac",
   "metadata": {},
   "outputs": [
    {
     "data": {
      "text/html": [
       "<div>\n",
       "<style scoped>\n",
       "    .dataframe tbody tr th:only-of-type {\n",
       "        vertical-align: middle;\n",
       "    }\n",
       "\n",
       "    .dataframe tbody tr th {\n",
       "        vertical-align: top;\n",
       "    }\n",
       "\n",
       "    .dataframe thead th {\n",
       "        text-align: right;\n",
       "    }\n",
       "</style>\n",
       "<table border=\"1\" class=\"dataframe\">\n",
       "  <thead>\n",
       "    <tr style=\"text-align: right;\">\n",
       "      <th></th>\n",
       "      <th>Id</th>\n",
       "      <th>Title</th>\n",
       "      <th>FullDescription</th>\n",
       "      <th>LocationRaw</th>\n",
       "      <th>LocationNormalized</th>\n",
       "      <th>ContractType</th>\n",
       "      <th>ContractTime</th>\n",
       "      <th>Company</th>\n",
       "      <th>Category</th>\n",
       "      <th>SalaryRaw</th>\n",
       "      <th>SalaryNormalized</th>\n",
       "      <th>SourceName</th>\n",
       "      <th>TitleSimp</th>\n",
       "      <th>CategorySimp</th>\n",
       "      <th>ContractTypeEdit</th>\n",
       "      <th>ContractTimeEdit</th>\n",
       "      <th>DescLength</th>\n",
       "    </tr>\n",
       "  </thead>\n",
       "  <tbody>\n",
       "    <tr>\n",
       "      <th>0</th>\n",
       "      <td>12612628</td>\n",
       "      <td>Engineering Systems Analyst</td>\n",
       "      <td>Engineering Systems Analyst Dorking Surrey Sal...</td>\n",
       "      <td>Dorking, Surrey, Surrey</td>\n",
       "      <td>Dorking</td>\n",
       "      <td>NaN</td>\n",
       "      <td>permanent</td>\n",
       "      <td>Gregory Martin International</td>\n",
       "      <td>Engineering Jobs</td>\n",
       "      <td>20000 - 30000/annum 20-30K</td>\n",
       "      <td>25000</td>\n",
       "      <td>cv-library.co.uk</td>\n",
       "      <td>ENGINEER</td>\n",
       "      <td>ENGINEER</td>\n",
       "      <td>UNKNOWN</td>\n",
       "      <td>PERMANENT</td>\n",
       "      <td>348</td>\n",
       "    </tr>\n",
       "    <tr>\n",
       "      <th>1</th>\n",
       "      <td>12612830</td>\n",
       "      <td>Stress Engineer Glasgow</td>\n",
       "      <td>Stress Engineer Glasgow Salary **** to **** We...</td>\n",
       "      <td>Glasgow, Scotland, Scotland</td>\n",
       "      <td>Glasgow</td>\n",
       "      <td>NaN</td>\n",
       "      <td>permanent</td>\n",
       "      <td>Gregory Martin International</td>\n",
       "      <td>Engineering Jobs</td>\n",
       "      <td>25000 - 35000/annum 25-35K</td>\n",
       "      <td>30000</td>\n",
       "      <td>cv-library.co.uk</td>\n",
       "      <td>ENGINEER</td>\n",
       "      <td>ENGINEER</td>\n",
       "      <td>UNKNOWN</td>\n",
       "      <td>PERMANENT</td>\n",
       "      <td>1649</td>\n",
       "    </tr>\n",
       "    <tr>\n",
       "      <th>2</th>\n",
       "      <td>12612844</td>\n",
       "      <td>Modelling and simulation analyst</td>\n",
       "      <td>Mathematical Modeller / Simulation Analyst / O...</td>\n",
       "      <td>Hampshire, South East, South East</td>\n",
       "      <td>Hampshire</td>\n",
       "      <td>NaN</td>\n",
       "      <td>permanent</td>\n",
       "      <td>Gregory Martin International</td>\n",
       "      <td>Engineering Jobs</td>\n",
       "      <td>20000 - 40000/annum 20-40K</td>\n",
       "      <td>30000</td>\n",
       "      <td>cv-library.co.uk</td>\n",
       "      <td>ANALYST</td>\n",
       "      <td>ENGINEER</td>\n",
       "      <td>UNKNOWN</td>\n",
       "      <td>PERMANENT</td>\n",
       "      <td>1771</td>\n",
       "    </tr>\n",
       "    <tr>\n",
       "      <th>3</th>\n",
       "      <td>12613049</td>\n",
       "      <td>Engineering Systems Analyst / Mathematical Mod...</td>\n",
       "      <td>Engineering Systems Analyst / Mathematical Mod...</td>\n",
       "      <td>Surrey, South East, South East</td>\n",
       "      <td>Surrey</td>\n",
       "      <td>NaN</td>\n",
       "      <td>permanent</td>\n",
       "      <td>Gregory Martin International</td>\n",
       "      <td>Engineering Jobs</td>\n",
       "      <td>25000 - 30000/annum 25K-30K negotiable</td>\n",
       "      <td>27500</td>\n",
       "      <td>cv-library.co.uk</td>\n",
       "      <td>ENGINEER</td>\n",
       "      <td>ENGINEER</td>\n",
       "      <td>UNKNOWN</td>\n",
       "      <td>PERMANENT</td>\n",
       "      <td>397</td>\n",
       "    </tr>\n",
       "    <tr>\n",
       "      <th>4</th>\n",
       "      <td>12613647</td>\n",
       "      <td>Pioneer, Miser Engineering Systems Analyst</td>\n",
       "      <td>Pioneer, Miser  Engineering Systems Analyst Do...</td>\n",
       "      <td>Surrey, South East, South East</td>\n",
       "      <td>Surrey</td>\n",
       "      <td>NaN</td>\n",
       "      <td>permanent</td>\n",
       "      <td>Gregory Martin International</td>\n",
       "      <td>Engineering Jobs</td>\n",
       "      <td>20000 - 30000/annum 20-30K</td>\n",
       "      <td>25000</td>\n",
       "      <td>cv-library.co.uk</td>\n",
       "      <td>ENGINEER</td>\n",
       "      <td>ENGINEER</td>\n",
       "      <td>UNKNOWN</td>\n",
       "      <td>PERMANENT</td>\n",
       "      <td>216</td>\n",
       "    </tr>\n",
       "    <tr>\n",
       "      <th>...</th>\n",
       "      <td>...</td>\n",
       "      <td>...</td>\n",
       "      <td>...</td>\n",
       "      <td>...</td>\n",
       "      <td>...</td>\n",
       "      <td>...</td>\n",
       "      <td>...</td>\n",
       "      <td>...</td>\n",
       "      <td>...</td>\n",
       "      <td>...</td>\n",
       "      <td>...</td>\n",
       "      <td>...</td>\n",
       "      <td>...</td>\n",
       "      <td>...</td>\n",
       "      <td>...</td>\n",
       "      <td>...</td>\n",
       "      <td>...</td>\n",
       "    </tr>\n",
       "    <tr>\n",
       "      <th>244763</th>\n",
       "      <td>72705211</td>\n",
       "      <td>TEACHER OF SCIENCE</td>\n",
       "      <td>Position: Qualified Teacher Subject/Specialism...</td>\n",
       "      <td>Swindon</td>\n",
       "      <td>Swindon</td>\n",
       "      <td>NaN</td>\n",
       "      <td>contract</td>\n",
       "      <td>NaN</td>\n",
       "      <td>Teaching Jobs</td>\n",
       "      <td>450 - 500 per week</td>\n",
       "      <td>22800</td>\n",
       "      <td>hays.co.uk</td>\n",
       "      <td>TEACHER</td>\n",
       "      <td>EDUCATION</td>\n",
       "      <td>UNKNOWN</td>\n",
       "      <td>CONTRACT</td>\n",
       "      <td>2345</td>\n",
       "    </tr>\n",
       "    <tr>\n",
       "      <th>244764</th>\n",
       "      <td>72705212</td>\n",
       "      <td>TEACHER OF BUSINESS STUDIES AND ICT</td>\n",
       "      <td>Position: Qualified Teacher or NQT Subject/Spe...</td>\n",
       "      <td>Swindon</td>\n",
       "      <td>Swindon</td>\n",
       "      <td>NaN</td>\n",
       "      <td>contract</td>\n",
       "      <td>NaN</td>\n",
       "      <td>Teaching Jobs</td>\n",
       "      <td>450 - 500 per week</td>\n",
       "      <td>22800</td>\n",
       "      <td>hays.co.uk</td>\n",
       "      <td>TEACHER</td>\n",
       "      <td>EDUCATION</td>\n",
       "      <td>UNKNOWN</td>\n",
       "      <td>CONTRACT</td>\n",
       "      <td>1689</td>\n",
       "    </tr>\n",
       "    <tr>\n",
       "      <th>244765</th>\n",
       "      <td>72705213</td>\n",
       "      <td>ENGLISH TEACHER</td>\n",
       "      <td>Position: Qualified Teacher Subject/Specialism...</td>\n",
       "      <td>Swindon</td>\n",
       "      <td>Swindon</td>\n",
       "      <td>NaN</td>\n",
       "      <td>contract</td>\n",
       "      <td>NaN</td>\n",
       "      <td>Teaching Jobs</td>\n",
       "      <td>450 - 500 per week</td>\n",
       "      <td>22800</td>\n",
       "      <td>hays.co.uk</td>\n",
       "      <td>TEACHER</td>\n",
       "      <td>EDUCATION</td>\n",
       "      <td>UNKNOWN</td>\n",
       "      <td>CONTRACT</td>\n",
       "      <td>2320</td>\n",
       "    </tr>\n",
       "    <tr>\n",
       "      <th>244766</th>\n",
       "      <td>72705216</td>\n",
       "      <td>SUPPLY TEACHERS</td>\n",
       "      <td>Position: Qualified Teacher Subject/Specialism...</td>\n",
       "      <td>Wiltshire</td>\n",
       "      <td>Wiltshire</td>\n",
       "      <td>NaN</td>\n",
       "      <td>contract</td>\n",
       "      <td>NaN</td>\n",
       "      <td>Teaching Jobs</td>\n",
       "      <td>450 to 500 per week</td>\n",
       "      <td>22800</td>\n",
       "      <td>hays.co.uk</td>\n",
       "      <td>TEACHER</td>\n",
       "      <td>EDUCATION</td>\n",
       "      <td>UNKNOWN</td>\n",
       "      <td>CONTRACT</td>\n",
       "      <td>2502</td>\n",
       "    </tr>\n",
       "    <tr>\n",
       "      <th>244767</th>\n",
       "      <td>72705235</td>\n",
       "      <td>Accountant</td>\n",
       "      <td>This entrepreneurial and growing private equit...</td>\n",
       "      <td>Hitchin</td>\n",
       "      <td>Hitchin</td>\n",
       "      <td>NaN</td>\n",
       "      <td>permanent</td>\n",
       "      <td>NaN</td>\n",
       "      <td>Teaching Jobs</td>\n",
       "      <td>40-45,000</td>\n",
       "      <td>42500</td>\n",
       "      <td>hays.co.uk</td>\n",
       "      <td>ACCOUNTANT</td>\n",
       "      <td>EDUCATION</td>\n",
       "      <td>UNKNOWN</td>\n",
       "      <td>PERMANENT</td>\n",
       "      <td>696</td>\n",
       "    </tr>\n",
       "  </tbody>\n",
       "</table>\n",
       "<p>244471 rows × 17 columns</p>\n",
       "</div>"
      ],
      "text/plain": [
       "              Id                                              Title  \\\n",
       "0       12612628                        Engineering Systems Analyst   \n",
       "1       12612830                            Stress Engineer Glasgow   \n",
       "2       12612844                   Modelling and simulation analyst   \n",
       "3       12613049  Engineering Systems Analyst / Mathematical Mod...   \n",
       "4       12613647         Pioneer, Miser Engineering Systems Analyst   \n",
       "...          ...                                                ...   \n",
       "244763  72705211                                 TEACHER OF SCIENCE   \n",
       "244764  72705212                TEACHER OF BUSINESS STUDIES AND ICT   \n",
       "244765  72705213                                    ENGLISH TEACHER   \n",
       "244766  72705216                                    SUPPLY TEACHERS   \n",
       "244767  72705235                                         Accountant   \n",
       "\n",
       "                                          FullDescription  \\\n",
       "0       Engineering Systems Analyst Dorking Surrey Sal...   \n",
       "1       Stress Engineer Glasgow Salary **** to **** We...   \n",
       "2       Mathematical Modeller / Simulation Analyst / O...   \n",
       "3       Engineering Systems Analyst / Mathematical Mod...   \n",
       "4       Pioneer, Miser  Engineering Systems Analyst Do...   \n",
       "...                                                   ...   \n",
       "244763  Position: Qualified Teacher Subject/Specialism...   \n",
       "244764  Position: Qualified Teacher or NQT Subject/Spe...   \n",
       "244765  Position: Qualified Teacher Subject/Specialism...   \n",
       "244766  Position: Qualified Teacher Subject/Specialism...   \n",
       "244767  This entrepreneurial and growing private equit...   \n",
       "\n",
       "                              LocationRaw LocationNormalized ContractType  \\\n",
       "0                 Dorking, Surrey, Surrey            Dorking          NaN   \n",
       "1             Glasgow, Scotland, Scotland            Glasgow          NaN   \n",
       "2       Hampshire, South East, South East          Hampshire          NaN   \n",
       "3          Surrey, South East, South East             Surrey          NaN   \n",
       "4          Surrey, South East, South East             Surrey          NaN   \n",
       "...                                   ...                ...          ...   \n",
       "244763                            Swindon            Swindon          NaN   \n",
       "244764                            Swindon            Swindon          NaN   \n",
       "244765                            Swindon            Swindon          NaN   \n",
       "244766                          Wiltshire          Wiltshire          NaN   \n",
       "244767                            Hitchin            Hitchin          NaN   \n",
       "\n",
       "       ContractTime                       Company          Category  \\\n",
       "0         permanent  Gregory Martin International  Engineering Jobs   \n",
       "1         permanent  Gregory Martin International  Engineering Jobs   \n",
       "2         permanent  Gregory Martin International  Engineering Jobs   \n",
       "3         permanent  Gregory Martin International  Engineering Jobs   \n",
       "4         permanent  Gregory Martin International  Engineering Jobs   \n",
       "...             ...                           ...               ...   \n",
       "244763     contract                           NaN     Teaching Jobs   \n",
       "244764     contract                           NaN     Teaching Jobs   \n",
       "244765     contract                           NaN     Teaching Jobs   \n",
       "244766     contract                           NaN     Teaching Jobs   \n",
       "244767    permanent                           NaN     Teaching Jobs   \n",
       "\n",
       "                                     SalaryRaw  SalaryNormalized  \\\n",
       "0                   20000 - 30000/annum 20-30K             25000   \n",
       "1                   25000 - 35000/annum 25-35K             30000   \n",
       "2                   20000 - 40000/annum 20-40K             30000   \n",
       "3       25000 - 30000/annum 25K-30K negotiable             27500   \n",
       "4                   20000 - 30000/annum 20-30K             25000   \n",
       "...                                        ...               ...   \n",
       "244763                      450 - 500 per week             22800   \n",
       "244764                      450 - 500 per week             22800   \n",
       "244765                      450 - 500 per week             22800   \n",
       "244766                     450 to 500 per week             22800   \n",
       "244767                               40-45,000             42500   \n",
       "\n",
       "              SourceName   TitleSimp CategorySimp ContractTypeEdit  \\\n",
       "0       cv-library.co.uk    ENGINEER     ENGINEER          UNKNOWN   \n",
       "1       cv-library.co.uk    ENGINEER     ENGINEER          UNKNOWN   \n",
       "2       cv-library.co.uk     ANALYST     ENGINEER          UNKNOWN   \n",
       "3       cv-library.co.uk    ENGINEER     ENGINEER          UNKNOWN   \n",
       "4       cv-library.co.uk    ENGINEER     ENGINEER          UNKNOWN   \n",
       "...                  ...         ...          ...              ...   \n",
       "244763        hays.co.uk     TEACHER    EDUCATION          UNKNOWN   \n",
       "244764        hays.co.uk     TEACHER    EDUCATION          UNKNOWN   \n",
       "244765        hays.co.uk     TEACHER    EDUCATION          UNKNOWN   \n",
       "244766        hays.co.uk     TEACHER    EDUCATION          UNKNOWN   \n",
       "244767        hays.co.uk  ACCOUNTANT    EDUCATION          UNKNOWN   \n",
       "\n",
       "       ContractTimeEdit  DescLength  \n",
       "0             PERMANENT         348  \n",
       "1             PERMANENT        1649  \n",
       "2             PERMANENT        1771  \n",
       "3             PERMANENT         397  \n",
       "4             PERMANENT         216  \n",
       "...                 ...         ...  \n",
       "244763         CONTRACT        2345  \n",
       "244764         CONTRACT        1689  \n",
       "244765         CONTRACT        2320  \n",
       "244766         CONTRACT        2502  \n",
       "244767        PERMANENT         696  \n",
       "\n",
       "[244471 rows x 17 columns]"
      ]
     },
     "execution_count": 13,
     "metadata": {},
     "output_type": "execute_result"
    }
   ],
   "source": [
    "# Here is the current status of salary dataset\n",
    "salary_data"
   ]
  },
  {
   "cell_type": "markdown",
   "id": "4029e218",
   "metadata": {},
   "source": [
    "## Prepare Train and Test Sets"
   ]
  },
  {
   "cell_type": "code",
   "execution_count": 14,
   "id": "094ebc4c",
   "metadata": {},
   "outputs": [
    {
     "data": {
      "text/html": [
       "<div>\n",
       "<style scoped>\n",
       "    .dataframe tbody tr th:only-of-type {\n",
       "        vertical-align: middle;\n",
       "    }\n",
       "\n",
       "    .dataframe tbody tr th {\n",
       "        vertical-align: top;\n",
       "    }\n",
       "\n",
       "    .dataframe thead th {\n",
       "        text-align: right;\n",
       "    }\n",
       "</style>\n",
       "<table border=\"1\" class=\"dataframe\">\n",
       "  <thead>\n",
       "    <tr style=\"text-align: right;\">\n",
       "      <th></th>\n",
       "      <th>title_ACCOUNTANT</th>\n",
       "      <th>title_ADMINISTRATOR</th>\n",
       "      <th>title_ANALYST</th>\n",
       "      <th>title_DEVELOPER</th>\n",
       "      <th>title_ENGINEER</th>\n",
       "      <th>title_EXECUTIVE</th>\n",
       "      <th>title_MANAGER</th>\n",
       "      <th>title_OFFICER</th>\n",
       "      <th>title_OTHER</th>\n",
       "      <th>title_TEACHER</th>\n",
       "      <th>...</th>\n",
       "      <th>cat_SALES</th>\n",
       "      <th>cat_SERVICE</th>\n",
       "      <th>type_FULL_TIME</th>\n",
       "      <th>type_PART_TIME</th>\n",
       "      <th>type_UNKNOWN</th>\n",
       "      <th>time_CONTRACT</th>\n",
       "      <th>time_PERMANENT</th>\n",
       "      <th>time_UNKNOWN</th>\n",
       "      <th>DescLength</th>\n",
       "      <th>SalaryNormalized</th>\n",
       "    </tr>\n",
       "  </thead>\n",
       "  <tbody>\n",
       "    <tr>\n",
       "      <th>0</th>\n",
       "      <td>0</td>\n",
       "      <td>0</td>\n",
       "      <td>0</td>\n",
       "      <td>0</td>\n",
       "      <td>1</td>\n",
       "      <td>0</td>\n",
       "      <td>0</td>\n",
       "      <td>0</td>\n",
       "      <td>0</td>\n",
       "      <td>0</td>\n",
       "      <td>...</td>\n",
       "      <td>0</td>\n",
       "      <td>0</td>\n",
       "      <td>0</td>\n",
       "      <td>0</td>\n",
       "      <td>1</td>\n",
       "      <td>0</td>\n",
       "      <td>1</td>\n",
       "      <td>0</td>\n",
       "      <td>348</td>\n",
       "      <td>25000</td>\n",
       "    </tr>\n",
       "    <tr>\n",
       "      <th>1</th>\n",
       "      <td>0</td>\n",
       "      <td>0</td>\n",
       "      <td>0</td>\n",
       "      <td>0</td>\n",
       "      <td>1</td>\n",
       "      <td>0</td>\n",
       "      <td>0</td>\n",
       "      <td>0</td>\n",
       "      <td>0</td>\n",
       "      <td>0</td>\n",
       "      <td>...</td>\n",
       "      <td>0</td>\n",
       "      <td>0</td>\n",
       "      <td>0</td>\n",
       "      <td>0</td>\n",
       "      <td>1</td>\n",
       "      <td>0</td>\n",
       "      <td>1</td>\n",
       "      <td>0</td>\n",
       "      <td>1649</td>\n",
       "      <td>30000</td>\n",
       "    </tr>\n",
       "    <tr>\n",
       "      <th>2</th>\n",
       "      <td>0</td>\n",
       "      <td>0</td>\n",
       "      <td>1</td>\n",
       "      <td>0</td>\n",
       "      <td>0</td>\n",
       "      <td>0</td>\n",
       "      <td>0</td>\n",
       "      <td>0</td>\n",
       "      <td>0</td>\n",
       "      <td>0</td>\n",
       "      <td>...</td>\n",
       "      <td>0</td>\n",
       "      <td>0</td>\n",
       "      <td>0</td>\n",
       "      <td>0</td>\n",
       "      <td>1</td>\n",
       "      <td>0</td>\n",
       "      <td>1</td>\n",
       "      <td>0</td>\n",
       "      <td>1771</td>\n",
       "      <td>30000</td>\n",
       "    </tr>\n",
       "    <tr>\n",
       "      <th>3</th>\n",
       "      <td>0</td>\n",
       "      <td>0</td>\n",
       "      <td>0</td>\n",
       "      <td>0</td>\n",
       "      <td>1</td>\n",
       "      <td>0</td>\n",
       "      <td>0</td>\n",
       "      <td>0</td>\n",
       "      <td>0</td>\n",
       "      <td>0</td>\n",
       "      <td>...</td>\n",
       "      <td>0</td>\n",
       "      <td>0</td>\n",
       "      <td>0</td>\n",
       "      <td>0</td>\n",
       "      <td>1</td>\n",
       "      <td>0</td>\n",
       "      <td>1</td>\n",
       "      <td>0</td>\n",
       "      <td>397</td>\n",
       "      <td>27500</td>\n",
       "    </tr>\n",
       "    <tr>\n",
       "      <th>4</th>\n",
       "      <td>0</td>\n",
       "      <td>0</td>\n",
       "      <td>0</td>\n",
       "      <td>0</td>\n",
       "      <td>1</td>\n",
       "      <td>0</td>\n",
       "      <td>0</td>\n",
       "      <td>0</td>\n",
       "      <td>0</td>\n",
       "      <td>0</td>\n",
       "      <td>...</td>\n",
       "      <td>0</td>\n",
       "      <td>0</td>\n",
       "      <td>0</td>\n",
       "      <td>0</td>\n",
       "      <td>1</td>\n",
       "      <td>0</td>\n",
       "      <td>1</td>\n",
       "      <td>0</td>\n",
       "      <td>216</td>\n",
       "      <td>25000</td>\n",
       "    </tr>\n",
       "  </tbody>\n",
       "</table>\n",
       "<p>5 rows × 29 columns</p>\n",
       "</div>"
      ],
      "text/plain": [
       "   title_ACCOUNTANT  title_ADMINISTRATOR  title_ANALYST  title_DEVELOPER  \\\n",
       "0                 0                    0              0                0   \n",
       "1                 0                    0              0                0   \n",
       "2                 0                    0              1                0   \n",
       "3                 0                    0              0                0   \n",
       "4                 0                    0              0                0   \n",
       "\n",
       "   title_ENGINEER  title_EXECUTIVE  title_MANAGER  title_OFFICER  title_OTHER  \\\n",
       "0               1                0              0              0            0   \n",
       "1               1                0              0              0            0   \n",
       "2               0                0              0              0            0   \n",
       "3               1                0              0              0            0   \n",
       "4               1                0              0              0            0   \n",
       "\n",
       "   title_TEACHER  ...  cat_SALES  cat_SERVICE  type_FULL_TIME  type_PART_TIME  \\\n",
       "0              0  ...          0            0               0               0   \n",
       "1              0  ...          0            0               0               0   \n",
       "2              0  ...          0            0               0               0   \n",
       "3              0  ...          0            0               0               0   \n",
       "4              0  ...          0            0               0               0   \n",
       "\n",
       "   type_UNKNOWN  time_CONTRACT  time_PERMANENT  time_UNKNOWN  DescLength  \\\n",
       "0             1              0               1             0         348   \n",
       "1             1              0               1             0        1649   \n",
       "2             1              0               1             0        1771   \n",
       "3             1              0               1             0         397   \n",
       "4             1              0               1             0         216   \n",
       "\n",
       "   SalaryNormalized  \n",
       "0             25000  \n",
       "1             30000  \n",
       "2             30000  \n",
       "3             27500  \n",
       "4             25000  \n",
       "\n",
       "[5 rows x 29 columns]"
      ]
     },
     "execution_count": 14,
     "metadata": {},
     "output_type": "execute_result"
    }
   ],
   "source": [
    "# Let's create dummy columns from these preprocessed ones\n",
    "# Then, merge all with normalized salaries (which is the only numerical column)\n",
    "dummy_title = pd.get_dummies(salary_data['TitleSimp'], prefix='title')\n",
    "dummy_category = pd.get_dummies(salary_data['CategorySimp'], prefix='cat')\n",
    "dummy_contract_type = pd.get_dummies(salary_data['ContractTypeEdit'], prefix='type')\n",
    "dummy_contract_time = pd.get_dummies(salary_data['ContractTimeEdit'], prefix='time')\n",
    "salary_ = pd.concat([dummy_title, dummy_category, dummy_contract_type, dummy_contract_time, \n",
    "                     salary_data['DescLength'], \n",
    "                     salary_data['SalaryNormalized']], axis=1)\n",
    "salary_.head()"
   ]
  },
  {
   "cell_type": "code",
   "execution_count": 15,
   "id": "f5a0f354",
   "metadata": {},
   "outputs": [
    {
     "data": {
      "image/png": "[encoded data removed]",
      "text/plain": [
       "<Figure size 1100x650 with 2 Axes>"
      ]
     },
     "metadata": {},
     "output_type": "display_data"
    },
    {
     "name": "stdout",
     "output_type": "stream",
     "text": [
      "#### CORRELATION VALUES AGAINST NORMALIZED SALARIES ####\n",
      "title_ACCOUNTANT       0.022029\n",
      "title_ADMINISTRATOR   -0.105840\n",
      "title_ANALYST          0.073159\n",
      "title_DEVELOPER        0.123467\n",
      "title_ENGINEER         0.078882\n",
      "title_EXECUTIVE       -0.076125\n",
      "title_MANAGER          0.168416\n",
      "title_OFFICER         -0.048545\n",
      "title_OTHER           -0.156697\n",
      "title_TEACHER         -0.052664\n",
      "title_WORKER          -0.083021\n",
      "cat_ADVERTISEMENT      0.017611\n",
      "cat_EDUCATION         -0.086039\n",
      "cat_ENERGY             0.063503\n",
      "cat_ENGINEER           0.230537\n",
      "cat_FINANCE            0.079949\n",
      "cat_HEALTH            -0.034455\n",
      "cat_OTHER             -0.088534\n",
      "cat_RECRUITMENT       -0.014714\n",
      "cat_SALES             -0.049646\n",
      "cat_SERVICE           -0.186945\n",
      "type_FULL_TIME        -0.079845\n",
      "type_PART_TIME        -0.157392\n",
      "type_UNKNOWN           0.139369\n",
      "time_CONTRACT          0.037872\n",
      "time_PERMANENT         0.096680\n",
      "time_UNKNOWN          -0.134824\n",
      "DescLength             0.105651\n",
      "SalaryNormalized       1.000000\n",
      "Name: SalaryNormalized, dtype: float64\n"
     ]
    }
   ],
   "source": [
    "# Show the correlations of all included columns in a heat map\n",
    "plt.figure(figsize=(11,6.5))\n",
    "sns.heatmap(salary_.corr())\n",
    "plt.show()\n",
    "print(\"#### CORRELATION VALUES AGAINST NORMALIZED SALARIES ####\")\n",
    "print(salary_.corr()['SalaryNormalized'])"
   ]
  },
  {
   "cell_type": "code",
   "execution_count": 16,
   "id": "add18517",
   "metadata": {},
   "outputs": [
    {
     "name": "stdout",
     "output_type": "stream",
     "text": [
      "TRAIN SIZE: (195576, 28)  TEST SIZE: (48895, 28)\n"
     ]
    }
   ],
   "source": [
    "# Use 80% of the dataset as training, and 20% as testing\n",
    "X = salary_.drop(columns='SalaryNormalized', axis=1)\n",
    "Y = salary_.iloc[:,-1]\n",
    "x_train, x_test, y_train, y_test = train_test_split(X, Y, test_size=0.2, random_state=21)\n",
    "print(\"TRAIN SIZE:\", x_train.shape, \" TEST SIZE:\", x_test.shape)"
   ]
  },
  {
   "cell_type": "code",
   "execution_count": 17,
   "id": "a0f22345",
   "metadata": {},
   "outputs": [],
   "source": [
    "# Create lists to store results of error values of all regression methods\n",
    "res_mse, res_rmse, res_mae, res_r2, res_cv_train, res_cv_test = [], [], [], [], [], []"
   ]
  },
  {
   "cell_type": "markdown",
   "id": "2fea624a",
   "metadata": {},
   "source": [
    "# ML Regression Models"
   ]
  },
  {
   "cell_type": "markdown",
   "id": "cb944e44",
   "metadata": {},
   "source": [
    "## 1 - Linear Regression"
   ]
  },
  {
   "cell_type": "code",
   "execution_count": 18,
   "id": "c641b213",
   "metadata": {},
   "outputs": [
    {
     "data": {
      "text/plain": [
       "{'copy_X': True,\n",
       " 'fit_intercept': True,\n",
       " 'n_jobs': None,\n",
       " 'normalize': 'deprecated',\n",
       " 'positive': False}"
      ]
     },
     "execution_count": 18,
     "metadata": {},
     "output_type": "execute_result"
    }
   ],
   "source": [
    "linreg = LinearRegression(fit_intercept=True, positive=False)\n",
    "linreg.get_params()"
   ]
  },
  {
   "cell_type": "code",
   "execution_count": 19,
   "id": "b2b45838",
   "metadata": {},
   "outputs": [],
   "source": [
    "# Fit the training data into the linear reg. model, then make predictions on the test data\n",
    "linreg.fit(x_train, y_train)\n",
    "y_pred = linreg.predict(x_test)"
   ]
  },
  {
   "cell_type": "code",
   "execution_count": 20,
   "id": "07332294",
   "metadata": {},
   "outputs": [
    {
     "name": "stdout",
     "output_type": "stream",
     "text": [
      "COEF: [ 1.31731232e+03 -1.00209042e+04  4.13575826e+03  5.58176624e+03\n",
      "  1.35701103e+03 -2.61796527e+03  8.37391292e+03 -4.37860324e+03\n",
      "  1.70424439e+02  1.17054728e+03 -5.08925975e+03  7.66011203e+02\n",
      " -5.47888427e+03  1.12943342e+04  5.71735232e+03  4.98835854e+03\n",
      "  1.56436971e+02 -1.12573126e+03 -9.29445956e+02 -3.53182344e+03\n",
      " -1.18566083e+04  1.77618487e+03 -6.03042218e+03  4.25423732e+03\n",
      "  2.41982166e+03 -1.50415882e+03 -9.15662839e+02  1.47387015e+00]\n",
      "RANK: 24\n",
      "INTERCEPT: 26948.188128952825\n"
     ]
    }
   ],
   "source": [
    "print(\"COEF:\", linreg.coef_)   # Estimated coefficients for the linear reg.\n",
    "print(\"RANK:\", linreg.rank_)   # Rank of matrix\n",
    "print(\"INTERCEPT:\", linreg.intercept_)   # Independent term in the linear model"
   ]
  },
  {
   "cell_type": "code",
   "execution_count": 21,
   "id": "86d1cfa4",
   "metadata": {},
   "outputs": [
    {
     "name": "stdout",
     "output_type": "stream",
     "text": [
      "   27871.84761211016 |    19200\n",
      "  39227.999290487925 |    37500\n",
      "   8892.202480372587 |    13440\n",
      "  28524.073704271344 |    37500\n",
      "   37552.94670762824 |    30500\n",
      "  45687.876625408215 |   100000\n",
      "    37807.1657094746 |    31000\n",
      "   35365.53481050351 |    32500\n",
      "  41257.518492510935 |    26500\n",
      "   35691.26011453189 |    14000\n",
      "   47204.39053178708 |    58800\n",
      "   34682.65620332803 |    60000\n",
      "   27530.77415964948 |    24920\n",
      "   27152.59897697056 |    15360\n",
      "  45053.210535209975 |    52500\n",
      "  31719.424198088258 |    23500\n",
      "   33293.33510037129 |    20640\n",
      "  33962.472150275746 |    13689\n",
      "  34265.400790101594 |    12720\n",
      "   37254.46440173413 |    75000\n"
     ]
    }
   ],
   "source": [
    "# Compare the predicted values against the actual ones for the top 20 rows\n",
    "for i in range(20):\n",
    "    print(\"{:20} | {:8}\".format(y_pred[i], y_test.iloc[i]))"
   ]
  },
  {
   "cell_type": "code",
   "execution_count": 22,
   "id": "296edd7e",
   "metadata": {},
   "outputs": [
    {
     "name": "stdout",
     "output_type": "stream",
     "text": [
      "MSE: 242245662.6881392\n",
      "RMSE: 15564.243081118311\n",
      "MAE: 11526.773853512976\n",
      "R2 SCORE: 0.18170044019165765\n",
      "ADJUSTED R2 SCORE: 0.1818339772284101\n",
      "\n",
      "# CROSS VALIDATION #\n",
      "FITTING TIME: [0.32490087 0.30627918 0.31377745 0.31375241 0.30403948] -> 0.31254987716674804\n",
      "SCORING TIME: [0.01468778 0.00880265 0.01058173 0.00908184 0.00876832] -> 0.010384464263916015\n",
      "TRAIN SCORE: [0.17401269 0.18547573 0.1786791  0.18328004 0.19022615] -> 0.18233474108943232\n",
      "TEST SCORE: [0.2048904  0.1634308  0.19313829 0.17568343 0.14315751] -> 0.17606008754456043\n"
     ]
    }
   ],
   "source": [
    "# Results of metrics\n",
    "mse, rmse, mae, r2 = mean_squared_error(y_test, y_pred), mean_squared_error(y_test, y_pred, squared=False), \\\n",
    "    mean_absolute_error(y_test, y_pred), r2_score(y_test, y_pred)\n",
    "adj_r2 = 1-(1-linreg.score(X, Y))*(len(Y)-1)/(len(Y)-X.shape[1]-1)\n",
    "print(\"MSE:\", mse)         # Mean squared error\n",
    "print(\"RMSE:\", rmse)       # Root mean squared error\n",
    "print(\"MAE:\", mae)         # Mean absolute error\n",
    "print(\"R2 SCORE:\", r2)     # R2 score\n",
    "print(\"ADJUSTED R2 SCORE:\", adj_r2)   # Adjusted R2 score\n",
    "res_mse.append(mse)\n",
    "res_rmse.append(rmse)\n",
    "res_mae.append(mae)\n",
    "res_r2.append(r2)\n",
    "print(\"\\n# CROSS VALIDATION #\")\n",
    "cross_val = cross_validate(linreg, X, Y, cv=5, return_train_score=True)    # 5-fold Cross Validation\n",
    "# The time in seconds for fitting the estimator on the train set for each cv split\n",
    "print(\"FITTING TIME:\", cross_val['fit_time'], \"->\", cross_val['fit_time'].mean())\n",
    "# The time in seconds for scoring the estimator on the test set for each cv split\n",
    "print(\"SCORING TIME:\", cross_val['score_time'], \"->\", cross_val['score_time'].mean())\n",
    "# The score array for train scores for each cv split\n",
    "print(\"TRAIN SCORE:\", cross_val['train_score'], \"->\", cross_val['train_score'].mean())\n",
    "res_cv_train.append(cross_val['train_score'].mean())\n",
    "# The score array for test score for each cv split\n",
    "print(\"TEST SCORE:\", cross_val['test_score'], \"->\", cross_val['test_score'].mean())\n",
    "res_cv_test.append(cross_val['test_score'].mean())"
   ]
  },
  {
   "cell_type": "markdown",
   "id": "d6b79c35",
   "metadata": {},
   "source": [
    "## 2 - Lasso Regression"
   ]
  },
  {
   "cell_type": "code",
   "execution_count": 23,
   "id": "18dceda1",
   "metadata": {},
   "outputs": [
    {
     "data": {
      "text/plain": [
       "{'alpha': 1.0,\n",
       " 'copy_X': True,\n",
       " 'fit_intercept': True,\n",
       " 'max_iter': 1000,\n",
       " 'normalize': 'deprecated',\n",
       " 'positive': False,\n",
       " 'precompute': False,\n",
       " 'random_state': None,\n",
       " 'selection': 'cyclic',\n",
       " 'tol': 0.0001,\n",
       " 'warm_start': False}"
      ]
     },
     "execution_count": 23,
     "metadata": {},
     "output_type": "execute_result"
    }
   ],
   "source": [
    "lasso = Lasso(alpha=1.0, fit_intercept=True, positive=False, tol=0.0001, selection='cyclic')\n",
    "lasso.get_params()"
   ]
  },
  {
   "cell_type": "code",
   "execution_count": 24,
   "id": "9dcf9a4d",
   "metadata": {},
   "outputs": [],
   "source": [
    "# Fit the training data into the lasso model, then make predictions on the test data\n",
    "lasso.fit(x_train, y_train)\n",
    "y_pred = lasso.predict(x_test)"
   ]
  },
  {
   "cell_type": "code",
   "execution_count": 25,
   "id": "bb24630d",
   "metadata": {},
   "outputs": [
    {
     "name": "stdout",
     "output_type": "stream",
     "text": [
      "COEF: [ 1.12074392e+02 -1.11245518e+04  2.96637888e+03  4.41739634e+03\n",
      "  2.04935217e+02 -3.73552504e+03  7.22724253e+03 -5.45150741e+03\n",
      " -9.70001136e+02  0.00000000e+00 -6.17573812e+03  1.63415759e+03\n",
      " -4.54461159e+03  1.20914023e+04  6.62026473e+03  5.88380074e+03\n",
      "  1.03780321e+03 -2.27375003e+02 -0.00000000e+00 -2.62654082e+03\n",
      " -1.09431038e+04 -0.00000000e+00 -7.78237829e+03  2.47621564e+03\n",
      "  3.32900222e+03 -5.79685315e+02 -0.00000000e+00  1.47320618e+00]\n",
      "INTERCEPT: 28048.51417128805\n",
      "ITERATIONS: 428\n"
     ]
    }
   ],
   "source": [
    "print(\"COEF:\", lasso.coef_)   # Parameter vector (w in the cost function function formula)\n",
    "print(\"INTERCEPT:\", lasso.intercept_)   # Independent term in decision function\n",
    "print(\"ITERATIONS:\", lasso.n_iter_)   # Number of iterations run by the coord. descent solver to reach the specified tolerance"
   ]
  },
  {
   "cell_type": "code",
   "execution_count": 26,
   "id": "734610ce",
   "metadata": {},
   "outputs": [
    {
     "name": "stdout",
     "output_type": "stream",
     "text": [
      "   27869.12350506503 |    19200\n",
      "   39225.43519934606 |    37500\n",
      "   8929.054572746656 |    13440\n",
      "   28528.10017269074 |    37500\n",
      "  37556.979652432696 |    30500\n",
      "   45690.04131977055 |   100000\n",
      "   37815.42980461138 |    31000\n",
      "    35367.1002308414 |    32500\n",
      "   41254.04011533244 |    26500\n",
      "  35692.678797604654 |    14000\n",
      "  47173.389478366575 |    58800\n",
      "   34685.24972420942 |    60000\n",
      "  27601.500879603573 |    24920\n",
      "  27150.198887053873 |    15360\n",
      "  45047.862528135156 |    52500\n",
      "  31722.011180576355 |    23500\n",
      "  33282.468523417716 |    20640\n",
      "  33951.304131157594 |    13689\n",
      "   34267.43534718932 |    12720\n",
      "   37262.97748544298 |    75000\n"
     ]
    }
   ],
   "source": [
    "# Compare the predicted values against the actual ones for the top 20 rows\n",
    "for i in range(20):\n",
    "    print(\"{:20} | {:8}\".format(y_pred[i], y_test.iloc[i]))"
   ]
  },
  {
   "cell_type": "code",
   "execution_count": 27,
   "id": "2aa88793",
   "metadata": {},
   "outputs": [
    {
     "name": "stdout",
     "output_type": "stream",
     "text": [
      "MSE: 242239920.00883973\n",
      "RMSE: 15564.058596935432\n",
      "MAE: 11526.631494673986\n",
      "R2 SCORE: 0.18171983881324993\n",
      "ADJUSTED R2 SCORE: 0.18183623829869322\n",
      "\n",
      "# CROSS VALIDATION #\n",
      "FITTING TIME: [3.56303215 4.36780238 2.84384537 3.77125812 4.70624709] -> 3.8504370212554933\n",
      "SCORING TIME: [0.00906897 0.00859904 0.00956917 0.01021361 0.00972319] -> 0.009434795379638672\n",
      "TRAIN SCORE: [0.17401068 0.18547374 0.1786771  0.18327805 0.19022394] -> 0.1823326996334819\n",
      "TEST SCORE: [0.20488156 0.16344628 0.19312419 0.17568254 0.14320552] -> 0.17606801929682492\n"
     ]
    }
   ],
   "source": [
    "# Results of metrics\n",
    "mse, rmse, mae, r2 = mean_squared_error(y_test, y_pred), mean_squared_error(y_test, y_pred, squared=False), \\\n",
    "    mean_absolute_error(y_test, y_pred), r2_score(y_test, y_pred)\n",
    "adj_r2 = 1-(1-lasso.score(X, Y))*(len(Y)-1)/(len(Y)-X.shape[1]-1)\n",
    "print(\"MSE:\", mse)          \n",
    "print(\"RMSE:\", rmse)       \n",
    "print(\"MAE:\", mae)        \n",
    "print(\"R2 SCORE:\", r2)\n",
    "print(\"ADJUSTED R2 SCORE:\", adj_r2)\n",
    "res_mse.append(mse)\n",
    "res_rmse.append(rmse)\n",
    "res_mae.append(mae)\n",
    "res_r2.append(r2)\n",
    "print(\"\\n# CROSS VALIDATION #\")\n",
    "cross_val = cross_validate(lasso, X, Y, cv=5, return_train_score=True)\n",
    "print(\"FITTING TIME:\", cross_val['fit_time'], \"->\", cross_val['fit_time'].mean())\n",
    "print(\"SCORING TIME:\", cross_val['score_time'], \"->\", cross_val['score_time'].mean())\n",
    "print(\"TRAIN SCORE:\", cross_val['train_score'], \"->\", cross_val['train_score'].mean())\n",
    "res_cv_train.append(cross_val['train_score'].mean())\n",
    "print(\"TEST SCORE:\", cross_val['test_score'], \"->\", cross_val['test_score'].mean())\n",
    "res_cv_test.append(cross_val['test_score'].mean())"
   ]
  },
  {
   "cell_type": "markdown",
   "id": "c6e5cdf6",
   "metadata": {},
   "source": [
    "## 3 - Ridge Regression"
   ]
  },
  {
   "cell_type": "code",
   "execution_count": 28,
   "id": "ad036628",
   "metadata": {},
   "outputs": [
    {
     "data": {
      "text/plain": [
       "{'alpha': 1.0,\n",
       " 'copy_X': True,\n",
       " 'fit_intercept': True,\n",
       " 'max_iter': None,\n",
       " 'normalize': 'deprecated',\n",
       " 'positive': True,\n",
       " 'random_state': None,\n",
       " 'solver': 'auto',\n",
       " 'tol': 0.0001}"
      ]
     },
     "execution_count": 28,
     "metadata": {},
     "output_type": "execute_result"
    }
   ],
   "source": [
    "ridge = Ridge(alpha=1.0, fit_intercept=True, positive=True, tol=0.0001, solver='auto')\n",
    "ridge.get_params()"
   ]
  },
  {
   "cell_type": "code",
   "execution_count": 29,
   "id": "27c2ca8a",
   "metadata": {},
   "outputs": [],
   "source": [
    "# Fit the training data into the ridge model, then make predictions on the test data\n",
    "ridge.fit(x_train, y_train)\n",
    "y_pred = ridge.predict(x_test)"
   ]
  },
  {
   "cell_type": "code",
   "execution_count": 30,
   "id": "466a850e",
   "metadata": {},
   "outputs": [
    {
     "name": "stdout",
     "output_type": "stream",
     "text": [
      "COEF: [2.40195430e+02 0.00000000e+00 1.04301111e+03 2.30413989e+03\n",
      " 1.77991121e+03 0.00000000e+00 4.96333220e+03 0.00000000e+00\n",
      " 0.00000000e+00 0.00000000e+00 0.00000000e+00 2.26417155e+02\n",
      " 0.00000000e+00 5.20152449e+02 7.78082811e+03 1.91094743e+03\n",
      " 7.93192448e-03 7.60473283e-04 2.80051980e-04 0.00000000e+00\n",
      " 0.00000000e+00 1.42982351e-02 0.00000000e+00 4.54481923e+03\n",
      " 1.25732450e+03 3.07299507e+03 9.36747164e-04 1.13560502e+00]\n",
      "INTERCEPT: 23190.970773226793\n",
      "ITERATIONS: None\n"
     ]
    }
   ],
   "source": [
    "print(\"COEF:\", ridge.coef_)   # Weight vector(s)\n",
    "print(\"INTERCEPT:\", ridge.intercept_)   # Independent term in decision function\n",
    "print(\"ITERATIONS:\", ridge.n_iter_)   # Actual number of iterations for each target. (Only for 'sag' & 'lsqr' solvers)"
   ]
  },
  {
   "cell_type": "code",
   "execution_count": 31,
   "id": "7ea21308",
   "metadata": {},
   "outputs": [
    {
     "name": "stdout",
     "output_type": "stream",
     "text": [
      "  23975.689835243003 |    19200\n",
      "   37530.03460159844 |    37500\n",
      "  23634.993271515497 |    13440\n",
      "   34024.37419294053 |    37500\n",
      "   38093.29392942337 |    30500\n",
      "    45015.6046514955 |   100000\n",
      "   40300.96995231925 |    31000\n",
      "   33111.51623591731 |    32500\n",
      "   39093.76270963603 |    26500\n",
      "  33362.484944614705 |    14000\n",
      "   40837.13468379535 |    58800\n",
      "   29949.87821392779 |    60000\n",
      "   33379.79559573713 |    24920\n",
      "  23421.514587078625 |    15360\n",
      "  39218.402685604895 |    52500\n",
      "  36486.365869211775 |    23500\n",
      "  29475.747398894404 |    20640\n",
      "  29991.312076489954 |    13689\n",
      "   31410.15765938721 |    12720\n",
      "   39875.11807104539 |    75000\n"
     ]
    }
   ],
   "source": [
    "# Compare the predicted values against the actual ones for the top 20 rows\n",
    "for i in range(20):\n",
    "    print(\"{:20} | {:8}\".format(y_pred[i], y_test.iloc[i]))"
   ]
  },
  {
   "cell_type": "code",
   "execution_count": 32,
   "id": "7ce68eca",
   "metadata": {},
   "outputs": [
    {
     "name": "stdout",
     "output_type": "stream",
     "text": [
      "MSE: 263636399.27556014\n",
      "RMSE: 16236.883915196295\n",
      "MAE: 12204.923506064555\n",
      "R2 SCORE: 0.10944308730770935\n",
      "ADJUSTED R2 SCORE: 0.10685248863492802\n",
      "\n",
      "# CROSS VALIDATION #\n",
      "FITTING TIME: [0.22481704 0.2386663  0.25241399 0.24940109 0.21840119] -> 0.2367399215698242\n",
      "SCORING TIME: [0.01156855 0.00872564 0.01386976 0.01120472 0.00951457] -> 0.010976648330688477\n",
      "TRAIN SCORE: [0.10123738 0.10918306 0.10495805 0.10783366 0.11314317] -> 0.10727106505163744\n",
      "TEST SCORE: [0.13568187 0.0806526  0.12551951 0.10980349 0.06193375] -> 0.1027182432673756\n"
     ]
    }
   ],
   "source": [
    "# Results of metrics\n",
    "mse, rmse, mae, r2 = mean_squared_error(y_test, y_pred), mean_squared_error(y_test, y_pred, squared=False), \\\n",
    "    mean_absolute_error(y_test, y_pred), r2_score(y_test, y_pred)\n",
    "adj_r2 = 1-(1-ridge.score(X, Y))*(len(Y)-1)/(len(Y)-X.shape[1]-1)\n",
    "print(\"MSE:\", mse)        \n",
    "print(\"RMSE:\", rmse)      \n",
    "print(\"MAE:\", mae)        \n",
    "print(\"R2 SCORE:\", r2)  \n",
    "print(\"ADJUSTED R2 SCORE:\", adj_r2)\n",
    "res_mse.append(mse)\n",
    "res_rmse.append(rmse)\n",
    "res_mae.append(mae)\n",
    "res_r2.append(r2)\n",
    "print(\"\\n# CROSS VALIDATION #\")\n",
    "cross_val = cross_validate(ridge, X, Y, cv=5, return_train_score=True)\n",
    "print(\"FITTING TIME:\", cross_val['fit_time'], \"->\", cross_val['fit_time'].mean())\n",
    "print(\"SCORING TIME:\", cross_val['score_time'], \"->\", cross_val['score_time'].mean())\n",
    "print(\"TRAIN SCORE:\", cross_val['train_score'], \"->\", cross_val['train_score'].mean())\n",
    "res_cv_train.append(cross_val['train_score'].mean())\n",
    "print(\"TEST SCORE:\", cross_val['test_score'], \"->\", cross_val['test_score'].mean())\n",
    "res_cv_test.append(cross_val['test_score'].mean())"
   ]
  },
  {
   "cell_type": "markdown",
   "id": "c6a8ecaf",
   "metadata": {},
   "source": [
    "## 4 - Polynomial Regression"
   ]
  },
  {
   "cell_type": "code",
   "execution_count": 33,
   "id": "2a07fb12",
   "metadata": {},
   "outputs": [
    {
     "data": {
      "text/plain": [
       "{'degree': 2, 'include_bias': True, 'interaction_only': True, 'order': 'C'}"
      ]
     },
     "execution_count": 33,
     "metadata": {},
     "output_type": "execute_result"
    }
   ],
   "source": [
    "poly_feat = PolynomialFeatures(degree=2, include_bias=True, interaction_only=True, order='C')\n",
    "poly_feat.get_params()"
   ]
  },
  {
   "cell_type": "code",
   "execution_count": 34,
   "id": "08579039",
   "metadata": {},
   "outputs": [
    {
     "name": "stdout",
     "output_type": "stream",
     "text": [
      "(195576, 407) (48895, 407)\n"
     ]
    }
   ],
   "source": [
    "# Fit then transform for both training and test data (the number of columns must increase)\n",
    "x_poly_train = poly_feat.fit_transform(x_train)\n",
    "x_poly_test = poly_feat.fit_transform(x_test)\n",
    "print(x_poly_train.shape, x_poly_test.shape)"
   ]
  },
  {
   "cell_type": "markdown",
   "id": "c99b27f5",
   "metadata": {},
   "source": [
    "### Polynomial Regression with Lasso"
   ]
  },
  {
   "cell_type": "code",
   "execution_count": 35,
   "id": "29c65b5a",
   "metadata": {},
   "outputs": [],
   "source": [
    "lasso = Lasso(max_iter=500)\n",
    "lasso.fit(x_poly_train, y_train)\n",
    "y_poly_pred = lasso.predict(x_poly_test)"
   ]
  },
  {
   "cell_type": "code",
   "execution_count": 36,
   "id": "bcf16951",
   "metadata": {},
   "outputs": [
    {
     "name": "stdout",
     "output_type": "stream",
     "text": [
      "MSE: 221676092.8807162\n",
      "RMSE: 14888.790846832264\n",
      "MAE: 10880.991198893471\n",
      "R2 SCORE: 0.25118391301044807\n",
      "\n",
      "# CROSS VALIDATION #\n",
      "FITTING TIME: [3.65849686 4.50823402 2.84956789 4.11476874 5.07832003] -> 4.041877508163452\n",
      "SCORING TIME: [0.00969052 0.0097301  0.00969291 0.00948334 0.01273894] -> 0.010267162322998047\n",
      "TRAIN SCORE: [0.17401068 0.18547376 0.1786771  0.18327805 0.19022395] -> 0.182332706209933\n",
      "TEST SCORE: [0.20488156 0.16344688 0.19312419 0.17568254 0.14320681] -> 0.17606839820436926\n"
     ]
    }
   ],
   "source": [
    "# Results of metrics\n",
    "mse, rmse, mae, r2 = mean_squared_error(y_test, y_poly_pred), mean_squared_error(y_test, y_poly_pred, squared=False), \\\n",
    "    mean_absolute_error(y_test, y_poly_pred), r2_score(y_test, y_poly_pred)\n",
    "print(\"MSE:\", mse)          \n",
    "print(\"RMSE:\", rmse)     \n",
    "print(\"MAE:\", mae)         \n",
    "print(\"R2 SCORE:\", r2)    \n",
    "res_mse.append(mse)\n",
    "res_rmse.append(rmse)\n",
    "res_mae.append(mae)\n",
    "res_r2.append(r2)\n",
    "print(\"\\n# CROSS VALIDATION #\")\n",
    "cross_val = cross_validate(lasso, X, Y, cv=5, return_train_score=True)\n",
    "print(\"FITTING TIME:\", cross_val['fit_time'], \"->\", cross_val['fit_time'].mean())\n",
    "print(\"SCORING TIME:\", cross_val['score_time'], \"->\", cross_val['score_time'].mean())\n",
    "print(\"TRAIN SCORE:\", cross_val['train_score'], \"->\", cross_val['train_score'].mean())\n",
    "res_cv_train.append(cross_val['train_score'].mean())\n",
    "print(\"TEST SCORE:\", cross_val['test_score'], \"->\", cross_val['test_score'].mean())\n",
    "res_cv_test.append(cross_val['test_score'].mean())"
   ]
  },
  {
   "cell_type": "markdown",
   "id": "90010baf",
   "metadata": {},
   "source": [
    "### Polynomial Regression with Ridge"
   ]
  },
  {
   "cell_type": "code",
   "execution_count": 37,
   "id": "1ed74654",
   "metadata": {},
   "outputs": [],
   "source": [
    "ridge = Ridge(max_iter=2000)\n",
    "ridge.fit(x_poly_train, y_train)\n",
    "y_poly_pred = ridge.predict(x_poly_test)"
   ]
  },
  {
   "cell_type": "code",
   "execution_count": 38,
   "id": "2bce10bb",
   "metadata": {},
   "outputs": [
    {
     "name": "stdout",
     "output_type": "stream",
     "text": [
      "MSE: 221638542.2065658\n",
      "RMSE: 14887.529755018655\n",
      "MAE: 10874.36893361682\n",
      "R2 SCORE: 0.25131075821290416\n",
      "\n",
      "# CROSS VALIDATION #\n",
      "FITTING TIME: [0.12401891 0.11570668 0.10417509 0.12231421 0.1097064 ] -> 0.11518425941467285\n",
      "SCORING TIME: [0.01080656 0.00985098 0.00873137 0.00967646 0.01152205] -> 0.010117483139038087\n",
      "TRAIN SCORE: [0.17401269 0.18547573 0.17867909 0.18328004 0.19022615] -> 0.18233473875813017\n",
      "TEST SCORE: [0.20489111 0.16343209 0.19313835 0.17568294 0.14315769] -> 0.17606043529618995\n"
     ]
    }
   ],
   "source": [
    "# Results of metrics\n",
    "mse, rmse, mae, r2 = mean_squared_error(y_test, y_poly_pred), mean_squared_error(y_test, y_poly_pred, squared=False), \\\n",
    "    mean_absolute_error(y_test, y_poly_pred), r2_score(y_test, y_poly_pred)\n",
    "print(\"MSE:\", mse)        \n",
    "print(\"RMSE:\", rmse)       \n",
    "print(\"MAE:\", mae)          \n",
    "print(\"R2 SCORE:\", r2)      \n",
    "res_mse.append(mse)\n",
    "res_rmse.append(rmse)\n",
    "res_mae.append(mae)\n",
    "res_r2.append(r2)\n",
    "print(\"\\n# CROSS VALIDATION #\")\n",
    "cross_val = cross_validate(ridge, X, Y, cv=5, return_train_score=True)\n",
    "print(\"FITTING TIME:\", cross_val['fit_time'], \"->\", cross_val['fit_time'].mean())\n",
    "print(\"SCORING TIME:\", cross_val['score_time'], \"->\", cross_val['score_time'].mean())\n",
    "print(\"TRAIN SCORE:\", cross_val['train_score'], \"->\", cross_val['train_score'].mean())\n",
    "res_cv_train.append(cross_val['train_score'].mean())\n",
    "print(\"TEST SCORE:\", cross_val['test_score'], \"->\", cross_val['test_score'].mean())\n",
    "res_cv_test.append(cross_val['test_score'].mean())"
   ]
  },
  {
   "cell_type": "markdown",
   "id": "5307f0b5",
   "metadata": {},
   "source": [
    "## 5 - Decision Tree Regression"
   ]
  },
  {
   "cell_type": "code",
   "execution_count": 41,
   "id": "35384729",
   "metadata": {},
   "outputs": [
    {
     "data": {
      "text/plain": [
       "{'ccp_alpha': 0.0,\n",
       " 'criterion': 'absolute_error',\n",
       " 'max_depth': None,\n",
       " 'max_features': 'log2',\n",
       " 'max_leaf_nodes': 10,\n",
       " 'min_impurity_decrease': 0.2,\n",
       " 'min_samples_leaf': 1,\n",
       " 'min_samples_split': 2,\n",
       " 'min_weight_fraction_leaf': 0.0,\n",
       " 'random_state': None,\n",
       " 'splitter': 'random'}"
      ]
     },
     "execution_count": 41,
     "metadata": {},
     "output_type": "execute_result"
    }
   ],
   "source": [
    "dtree = DecisionTreeRegressor(criterion='absolute_error', splitter='random', max_depth=None, min_samples_split=2,\n",
    "                             min_samples_leaf=1, min_weight_fraction_leaf=0.0, max_features='log2', max_leaf_nodes=10,\n",
    "                             min_impurity_decrease=0.2, ccp_alpha=0.0)\n",
    "dtree.get_params()"
   ]
  },
  {
   "cell_type": "code",
   "execution_count": 47,
   "id": "d392fc9e",
   "metadata": {},
   "outputs": [],
   "source": [
    "# Fit the training data into the decision tree and make predictions on the test data\n",
    "# dtree.fit(x_train, y_train)\n",
    "# y_pred = dtree.predict(x_test)"
   ]
  },
  {
   "cell_type": "code",
   "execution_count": 39,
   "id": "fd4957f4",
   "metadata": {},
   "outputs": [
    {
     "name": "stdout",
     "output_type": "stream",
     "text": [
      "MSE: 280585581.50557315\n",
      "RMSE: 16750.688985996163\n",
      "MAE: 11508.514428878208\n",
      "R2 SCORE: 0.05218918973932951\n",
      "# CROSS VALIDATION #\n",
      "FITTING TIME: [0.12397575 0.10896587 0.10191512 0.1043613  0.10155749] -> 0.10815510749816895\n",
      "SCORING TIME: [0.00969529 0.00923848 0.00879478 0.00980115 0.00970602] -> 0.009447145462036132\n",
      "TRAIN SCORE: [0.17401269 0.18547573 0.17867909 0.18328004 0.19022615] -> 0.18233473875813017\n",
      "TEST SCORE: [0.20489111 0.16343209 0.19313835 0.17568294 0.14315769] -> 0.17606043529618995\n"
     ]
    }
   ],
   "source": [
    "# Results of metrics\n",
    "\"\"\"mse, rmse, mae, r2 = mean_squared_error(y_test, y_pred), mean_squared_error(y_test, y_pred, squared=False), \\\n",
    "    mean_absolute_error(y_test, y_pred), r2_score(y_test, y_pred)\n",
    "print(\"MSE:\", mse)        \n",
    "print(\"RMSE:\", rmse)      \n",
    "print(\"MAE:\", mae)        \n",
    "print(\"R2 SCORE:\", r2)  \n",
    "res_mse.append(mse)\n",
    "res_rmse.append(rmse)\n",
    "res_mae.append(mae)\n",
    "res_r2.append(r2)\n",
    "print(\"\\n# CROSS VALIDATION #\")\n",
    "cross_val = cross_validate(dtree, X, Y, cv=5, return_train_score=True)\n",
    "print(\"FITTING TIME:\", cross_val['fit_time'], \"->\", cross_val['fit_time'].mean())\n",
    "print(\"SCORING TIME:\", cross_val['score_time'], \"->\", cross_val['score_time'].mean())\n",
    "print(\"TRAIN SCORE:\", cross_val['train_score'], \"->\", cross_val['train_score'].mean())\n",
    "res_cv_train.append(cross_val['train_score'].mean())\n",
    "print(\"TEST SCORE:\", cross_val['test_score'], \"->\", cross_val['test_score'].mean())\n",
    "res_cv_test.append(cross_val['test_score'].mean())\"\"\"\n",
    "print()"
   ]
  },
  {
   "cell_type": "markdown",
   "id": "8d1845d7",
   "metadata": {},
   "source": [
    "## 6 - Random Forest Regression"
   ]
  },
  {
   "cell_type": "code",
   "execution_count": 42,
   "id": "f0e5a6d8",
   "metadata": {},
   "outputs": [
    {
     "data": {
      "text/plain": [
       "{'bootstrap': True,\n",
       " 'ccp_alpha': 0.2,\n",
       " 'criterion': 'friedman_mse',\n",
       " 'max_depth': 20,\n",
       " 'max_features': None,\n",
       " 'max_leaf_nodes': None,\n",
       " 'max_samples': None,\n",
       " 'min_impurity_decrease': 0.0,\n",
       " 'min_samples_leaf': 4,\n",
       " 'min_samples_split': 4,\n",
       " 'min_weight_fraction_leaf': 0.1,\n",
       " 'n_estimators': 40,\n",
       " 'n_jobs': None,\n",
       " 'oob_score': False,\n",
       " 'random_state': None,\n",
       " 'verbose': 0,\n",
       " 'warm_start': False}"
      ]
     },
     "execution_count": 42,
     "metadata": {},
     "output_type": "execute_result"
    }
   ],
   "source": [
    "rforest = RandomForestRegressor(n_estimators=40, criterion='friedman_mse', max_depth=20, min_samples_split=4, \n",
    "                                min_samples_leaf=4, min_weight_fraction_leaf=0.1, max_features=None, max_leaf_nodes=None,\n",
    "                                bootstrap=True, warm_start=False, ccp_alpha=0.2, max_samples=None)\n",
    "rforest.get_params()"
   ]
  },
  {
   "cell_type": "code",
   "execution_count": 43,
   "id": "e3cb2b43",
   "metadata": {},
   "outputs": [],
   "source": [
    "# Fit the training data into the random forest, then make predictions on the test data\n",
    "rforest.fit(x_train, y_train)\n",
    "y_pred = rforest.predict(x_test)"
   ]
  },
  {
   "cell_type": "code",
   "execution_count": 44,
   "id": "d6cc2d0f",
   "metadata": {},
   "outputs": [
    {
     "name": "stdout",
     "output_type": "stream",
     "text": [
      "MSE: 266177079.33495963\n",
      "RMSE: 16314.934242434434\n",
      "MAE: 12238.746577111362\n",
      "R2 SCORE: 0.10086073602368684\n",
      "\n",
      "# CROSS VALIDATION #\n",
      "FITTING TIME: [4.66123247 4.62639999 4.70427489 4.7617538  4.67235065] -> 4.685202360153198\n",
      "SCORING TIME: [0.05664635 0.06077862 0.06369925 0.06237245 0.06143546] -> 0.06098642349243164\n",
      "TRAIN SCORE: [0.09196763 0.09944724 0.09383982 0.09710288 0.10258852] -> 0.09698921666403171\n",
      "TEST SCORE: [0.10876498 0.08854655 0.10178449 0.09695829 0.06574006] -> 0.09235887295384967\n"
     ]
    }
   ],
   "source": [
    "# Results of metrics\n",
    "mse, rmse, mae, r2 = mean_squared_error(y_test, y_pred), mean_squared_error(y_test, y_pred, squared=False), \\\n",
    "    mean_absolute_error(y_test, y_pred), r2_score(y_test, y_pred)\n",
    "print(\"MSE:\", mse)        \n",
    "print(\"RMSE:\", rmse)      \n",
    "print(\"MAE:\", mae)        \n",
    "print(\"R2 SCORE:\", r2)  \n",
    "res_mse.append(mse)\n",
    "res_rmse.append(rmse)\n",
    "res_mae.append(mae)\n",
    "res_r2.append(r2)\n",
    "print(\"\\n# CROSS VALIDATION #\")\n",
    "cross_val = cross_validate(rforest, X, Y, cv=5, return_train_score=True)\n",
    "print(\"FITTING TIME:\", cross_val['fit_time'], \"->\", cross_val['fit_time'].mean())\n",
    "print(\"SCORING TIME:\", cross_val['score_time'], \"->\", cross_val['score_time'].mean())\n",
    "print(\"TRAIN SCORE:\", cross_val['train_score'], \"->\", cross_val['train_score'].mean())\n",
    "res_cv_train.append(cross_val['train_score'].mean())\n",
    "print(\"TEST SCORE:\", cross_val['test_score'], \"->\", cross_val['test_score'].mean())\n",
    "res_cv_test.append(cross_val['test_score'].mean())"
   ]
  },
  {
   "cell_type": "markdown",
   "id": "04664071",
   "metadata": {},
   "source": [
    "## 7 - KNN Regression"
   ]
  },
  {
   "cell_type": "code",
   "execution_count": 45,
   "id": "680d6fdb",
   "metadata": {},
   "outputs": [
    {
     "data": {
      "text/plain": [
       "{'algorithm': 'auto',\n",
       " 'leaf_size': 100,\n",
       " 'metric': 'minkowski',\n",
       " 'metric_params': None,\n",
       " 'n_jobs': None,\n",
       " 'n_neighbors': 10,\n",
       " 'p': 1,\n",
       " 'weights': 'uniform'}"
      ]
     },
     "execution_count": 45,
     "metadata": {},
     "output_type": "execute_result"
    }
   ],
   "source": [
    "knnreg = KNeighborsRegressor(n_neighbors=10, leaf_size=100, weights='uniform', algorithm='auto', p=1)\n",
    "knnreg.get_params()"
   ]
  },
  {
   "cell_type": "code",
   "execution_count": 48,
   "id": "304b25fb",
   "metadata": {},
   "outputs": [],
   "source": [
    "# Fit the training data into the KNN regression model, then make predictions on the test data\n",
    "# knnreg.fit(x_train, y_train)\n",
    "# y_pred = knnreg.predict(x_test)"
   ]
  },
  {
   "cell_type": "code",
   "execution_count": 45,
   "id": "c4e17bae",
   "metadata": {},
   "outputs": [
    {
     "name": "stdout",
     "output_type": "stream",
     "text": [
      "EFFECTIVE METRIC: manhattan\n"
     ]
    }
   ],
   "source": [
    "# print(\"EFFECTIVE METRIC:\", knnreg.effective_metric_)"
   ]
  },
  {
   "cell_type": "code",
   "execution_count": 49,
   "id": "6d031bb0",
   "metadata": {},
   "outputs": [],
   "source": [
    "# Compare the predicted values against the actual ones for the first 20 rows\n",
    "# for i in range(20):\n",
    "#     print(\"{:20} | {:8}\".format(y_pred[i], y_test.iloc[i]))"
   ]
  },
  {
   "cell_type": "code",
   "execution_count": 50,
   "id": "1600fde7",
   "metadata": {},
   "outputs": [
    {
     "name": "stdout",
     "output_type": "stream",
     "text": [
      "\n"
     ]
    }
   ],
   "source": [
    "# Results of metrics\n",
    "\"\"\"mse, rmse, mae, r2 = mean_squared_error(y_test, y_pred), mean_squared_error(y_test, y_pred, squared=False), \\\n",
    "    mean_absolute_error(y_test, y_pred), r2_score(y_test, y_pred)\n",
    "print(\"MSE:\", mse)          \n",
    "print(\"RMSE:\", rmse)       \n",
    "print(\"MAE:\", mae)         \n",
    "print(\"R2 SCORE:\", r2)     \n",
    "res_mse.append(mse)\n",
    "res_rmse.append(rmse)\n",
    "res_mae.append(mae)\n",
    "res_r2.append(r2)\n",
    "print(\"\\n# CROSS VALIDATION #\")\n",
    "cross_val = cross_validate(knnreg, X, Y, cv=5, return_train_score=True)\n",
    "print(\"FITTING TIME:\", cross_val['fit_time'], \"->\", cross_val['fit_time'].mean())\n",
    "print(\"SCORING TIME:\", cross_val['score_time'], \"->\", cross_val['score_time'].mean())\n",
    "print(\"TRAIN SCORE:\", cross_val['train_score'], \"->\", cross_val['train_score'].mean())\n",
    "res_cv_train.append(cross_val['train_score'].mean())\n",
    "print(\"TEST SCORE:\", cross_val['test_score'], \"->\", cross_val['test_score'].mean())\n",
    "res_cv_test.append(cross_val['test_score'].mean())\"\"\"\n",
    "print()"
   ]
  },
  {
   "cell_type": "markdown",
   "id": "9fbbe8b1",
   "metadata": {},
   "source": [
    "## 8 - Multi-Layer Perceptron Regression"
   ]
  },
  {
   "cell_type": "code",
   "execution_count": 51,
   "id": "88c2416e",
   "metadata": {},
   "outputs": [
    {
     "data": {
      "text/plain": [
       "{'activation': 'relu',\n",
       " 'alpha': 0.1,\n",
       " 'batch_size': 'auto',\n",
       " 'beta_1': 0.9,\n",
       " 'beta_2': 0.999,\n",
       " 'early_stopping': False,\n",
       " 'epsilon': 1e-09,\n",
       " 'hidden_layer_sizes': (100,),\n",
       " 'learning_rate': 'adaptive',\n",
       " 'learning_rate_init': 0.01,\n",
       " 'max_fun': 15000,\n",
       " 'max_iter': 1000,\n",
       " 'momentum': 0.9,\n",
       " 'n_iter_no_change': 10,\n",
       " 'nesterovs_momentum': True,\n",
       " 'power_t': 0.5,\n",
       " 'random_state': None,\n",
       " 'shuffle': True,\n",
       " 'solver': 'adam',\n",
       " 'tol': 0.01,\n",
       " 'validation_fraction': 0.5,\n",
       " 'verbose': False,\n",
       " 'warm_start': False}"
      ]
     },
     "execution_count": 51,
     "metadata": {},
     "output_type": "execute_result"
    }
   ],
   "source": [
    "mlpr = MLPRegressor(max_iter=1000, hidden_layer_sizes=(100,), activation='relu', solver='adam', alpha=0.1,\n",
    "                    learning_rate='adaptive', learning_rate_init=0.01, shuffle=True, tol=0.01, max_fun=15000,\n",
    "                    beta_1=0.9, beta_2=0.999, epsilon=1e-9, n_iter_no_change=10, early_stopping=False, validation_fraction=0.5)\n",
    "mlpr.get_params()"
   ]
  },
  {
   "cell_type": "code",
   "execution_count": 52,
   "id": "773e5e9c",
   "metadata": {},
   "outputs": [],
   "source": [
    "# Fit the training data into the multi-layer perceptron regression model, then make predictions on the test data\n",
    "mlpr.fit(x_train, y_train)\n",
    "y_pred = mlpr.predict(x_test)"
   ]
  },
  {
   "cell_type": "code",
   "execution_count": 53,
   "id": "6fba118b",
   "metadata": {},
   "outputs": [
    {
     "name": "stdout",
     "output_type": "stream",
     "text": [
      "    28123.3609724997 |    19200\n",
      "    39824.4830645286 |    37500\n",
      "   9084.081795557337 |    13440\n",
      "   28979.28790532526 |    37500\n",
      "   38357.48601548539 |    30500\n",
      "  46127.960012284166 |   100000\n",
      "    38402.9870471195 |    31000\n",
      "   35430.66333978388 |    32500\n",
      "   42451.76751631185 |    26500\n",
      "   35852.32627648983 |    14000\n",
      "   47676.29102829115 |    58800\n",
      "  35266.336545871316 |    60000\n",
      "  28529.094312737336 |    24920\n",
      "    27192.2681529861 |    15360\n",
      "   45494.81621626755 |    52500\n",
      "   33115.78223463978 |    23500\n",
      "  33382.957253286484 |    20640\n",
      "  34249.178851768396 |    13689\n",
      "  34340.978951242745 |    12720\n",
      "    37687.4956386818 |    75000\n"
     ]
    }
   ],
   "source": [
    "# Compare the predicted values against the actual ones for the first 20 rows\n",
    "for i in range(20):\n",
    "    print(\"{:20} | {:8}\".format(y_pred[i], y_test.iloc[i]))"
   ]
  },
  {
   "cell_type": "code",
   "execution_count": 54,
   "id": "52c72ca4",
   "metadata": {},
   "outputs": [
    {
     "name": "stdout",
     "output_type": "stream",
     "text": [
      "MSE: 242795656.5010461\n",
      "RMSE: 15581.901568840887\n",
      "MAE: 11672.243282735357\n",
      "R2 SCORE: 0.1798425753696219\n"
     ]
    }
   ],
   "source": [
    "# Results of metrics\n",
    "mse, rmse, mae, r2 = mean_squared_error(y_test, y_pred), mean_squared_error(y_test, y_pred, squared=False), \\\n",
    "    mean_absolute_error(y_test, y_pred), r2_score(y_test, y_pred)\n",
    "print(\"MSE:\", mse)         \n",
    "print(\"RMSE:\", rmse)        \n",
    "print(\"MAE:\", mae)           \n",
    "print(\"R2 SCORE:\", r2)      \n",
    "res_mse.append(mse)\n",
    "res_rmse.append(rmse)\n",
    "res_mae.append(mae)\n",
    "res_r2.append(r2)\n",
    "# Cross validation is disabled due to taking lots of time for fitting\n",
    "# print(\"\\n# CROSS VALIDATION #\")\n",
    "# cross_val = cross_validate(mlpr, X, Y, cv=5, return_train_score=True)\n",
    "# print(\"FITTING TIME:\", cross_val['fit_time'], \"->\", cross_val['fit_time'].mean())\n",
    "# print(\"SCORING TIME:\", cross_val['score_time'], \"->\", cross_val['score_time'].mean())\n",
    "# print(\"TRAIN SCORE:\", cross_val['train_score'], \"->\", cross_val['train_score'].mean())\n",
    "# res_cv_train.append(cross_val['train_score'].mean())\n",
    "# print(\"TEST SCORE:\", cross_val['test_score'], \"->\", cross_val['test_score'].mean())\n",
    "# res_cv_test.append(cross_val['test_score'].mean())"
   ]
  },
  {
   "cell_type": "markdown",
   "id": "fc8b98ff",
   "metadata": {},
   "source": [
    "## Results of Metrics of all ML Models Together"
   ]
  },
  {
   "cell_type": "code",
   "execution_count": 58,
   "id": "82d100b1",
   "metadata": {},
   "outputs": [
    {
     "data": {
      "image/png": "[encoded data removed]",
      "text/plain": [
       "<Figure size 900x400 with 1 Axes>"
      ]
     },
     "metadata": {},
     "output_type": "display_data"
    }
   ],
   "source": [
    "methods = ['LinReg', 'Lasso', 'Ridge', 'PolyLasso', 'PolyRidge', 'RForest', 'MLPR']\n",
    "plt.figure(figsize=(9,4))\n",
    "plt.barh(range(7), res_mse, color='#00afff')\n",
    "plt.title(\"MSE Results\", fontsize=18, fontweight='bold')\n",
    "plt.yticks(range(7), methods)\n",
    "plt.ylim(6.7,-0.7)\n",
    "plt.xlabel('MSE Values', fontsize=13, fontweight='bold')\n",
    "plt.ylabel('ML Models', fontsize=13, fontweight='bold')\n",
    "for i in range(7):\n",
    "    plt.text(res_mse[i]-50000000, i+0.12, \"{:.2f}\".format(res_mse[i]), fontweight='bold')\n",
    "plt.show()"
   ]
  },
  {
   "cell_type": "code",
   "execution_count": 59,
   "id": "0bb46d8e",
   "metadata": {},
   "outputs": [
    {
     "data": {
      "image/png": "[encoded data removed]",
      "text/plain": [
       "<Figure size 900x400 with 1 Axes>"
      ]
     },
     "metadata": {},
     "output_type": "display_data"
    }
   ],
   "source": [
    "plt.figure(figsize=(9,4))\n",
    "plt.barh(range(7), res_rmse, color='#00afff')\n",
    "plt.title(\"RMSE Results\", fontsize=18, fontweight='bold')\n",
    "plt.yticks(range(7), methods)\n",
    "plt.ylim(6.7,-0.7)\n",
    "plt.xlabel('RMSE Values', fontsize=13, fontweight='bold')\n",
    "plt.ylabel('ML Models', fontsize=13, fontweight='bold')\n",
    "for i in range(7):\n",
    "    plt.text(res_rmse[i]-2000, i+0.12, \"{:.2f}\".format(res_rmse[i]), fontweight='bold')\n",
    "plt.show()"
   ]
  },
  {
   "cell_type": "code",
   "execution_count": 60,
   "id": "5e78ed0d",
   "metadata": {},
   "outputs": [
    {
     "data": {
      "image/png": "[encoded data removed]",
      "text/plain": [
       "<Figure size 900x400 with 1 Axes>"
      ]
     },
     "metadata": {},
     "output_type": "display_data"
    }
   ],
   "source": [
    "plt.figure(figsize=(9,4))\n",
    "plt.barh(range(7), res_mae, color='#00afff')\n",
    "plt.title(\"MAE Results\", fontsize=18, fontweight='bold')\n",
    "plt.yticks(range(7), methods)\n",
    "plt.ylim(6.7,-0.7)\n",
    "plt.xlabel('MAE Values', fontsize=13, fontweight='bold')\n",
    "plt.ylabel('ML Models', fontsize=13, fontweight='bold')\n",
    "for i in range(7):\n",
    "    plt.text(res_mae[i]-1500, i+0.12, \"{:.2f}\".format(res_mae[i]), fontweight='bold')\n",
    "plt.show()"
   ]
  },
  {
   "cell_type": "code",
   "execution_count": 61,
   "id": "74c4c6b2",
   "metadata": {},
   "outputs": [
    {
     "data": {
      "image/png": "[encoded data removed]",
      "text/plain": [
       "<Figure size 900x400 with 1 Axes>"
      ]
     },
     "metadata": {},
     "output_type": "display_data"
    }
   ],
   "source": [
    "plt.figure(figsize=(9,4))\n",
    "plt.barh(range(7), res_r2, color='#00afff')\n",
    "plt.title(\"R2 Score Results\", fontsize=18, fontweight='bold')\n",
    "plt.yticks(range(7), methods)\n",
    "plt.ylim(6.7,-0.7)\n",
    "plt.xlabel('R2 Scores', fontsize=13, fontweight='bold')\n",
    "plt.ylabel('ML Models', fontsize=13, fontweight='bold')\n",
    "for i in range(7):\n",
    "    plt.text(res_r2[i]-0.03, i+0.12, \"{:.4f}\".format(res_r2[i]), fontweight='bold')\n",
    "plt.show()"
   ]
  },
  {
   "cell_type": "code",
   "execution_count": 68,
   "id": "a0ca4e17",
   "metadata": {},
   "outputs": [
    {
     "data": {
      "image/png": "[encoded data removed]",
      "text/plain": [
       "<Figure size 900x400 with 1 Axes>"
      ]
     },
     "metadata": {},
     "output_type": "display_data"
    }
   ],
   "source": [
    "plt.figure(figsize=(9,4))\n",
    "plt.barh(range(6), res_cv_train, color='#00afff')\n",
    "plt.title(\"5-Fold CV Results (Train)\", fontsize=18, fontweight='bold')\n",
    "plt.yticks(range(6), methods[:6])\n",
    "plt.ylim(5.7,-0.7)\n",
    "plt.xlabel('Train Scores', fontsize=13, fontweight='bold')\n",
    "plt.ylabel('ML Models', fontsize=13, fontweight='bold')\n",
    "for i in range(6):\n",
    "    plt.text(res_cv_train[i]-0.02, i+0.12, \"{:.4f}\".format(res_cv_train[i]), fontweight='bold')\n",
    "plt.show()"
   ]
  },
  {
   "cell_type": "code",
   "execution_count": 69,
   "id": "c3f72d1b",
   "metadata": {},
   "outputs": [
    {
     "data": {
      "image/png": "[encoded data removed]",
      "text/plain": [
       "<Figure size 900x400 with 1 Axes>"
      ]
     },
     "metadata": {},
     "output_type": "display_data"
    }
   ],
   "source": [
    "plt.figure(figsize=(9,4))\n",
    "plt.barh(range(6), res_cv_test, color='#00afff')\n",
    "plt.title(\"5-Fold CV Results (Test)\", fontsize=18, fontweight='bold')\n",
    "plt.yticks(range(6), methods[:6])\n",
    "plt.ylim(5.7,-0.7)\n",
    "plt.xlabel('Test Scores', fontsize=13, fontweight='bold')\n",
    "plt.ylabel('ML Models', fontsize=13, fontweight='bold')\n",
    "for i in range(6):\n",
    "    plt.text(res_cv_test[i]-0.02, i+0.12, \"{:.4f}\".format(res_cv_test[i]), fontweight='bold')\n",
    "plt.show()"
   ]
  }
 ],
 "metadata": {
  "kernelspec": {
   "display_name": "Python 3 (ipykernel)",
   "language": "python",
   "name": "python3"
  },
  "language_info": {
   "codemirror_mode": {
    "name": "ipython",
    "version": 3
   },
   "file_extension": ".py",
   "mimetype": "text/x-python",
   "name": "python",
   "nbconvert_exporter": "python",
   "pygments_lexer": "ipython3",
   "version": "3.10.8"
  }
 },
 "nbformat": 4,
 "nbformat_minor": 5
}
