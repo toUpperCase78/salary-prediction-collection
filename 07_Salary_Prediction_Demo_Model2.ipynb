{
 "cells": [
  {
   "cell_type": "markdown",
   "id": "e6ef5b0e",
   "metadata": {},
   "source": [
    "# 07. bonniema/salary-predictor\n",
    "\n",
    "## Model 2: Count Vectorizer + TF-IDF with Grid Search\n",
    "\n",
    "## Import libraries and the final salary dataset"
   ]
  },
  {
   "cell_type": "code",
   "execution_count": 44,
   "id": "b1c15fb5",
   "metadata": {},
   "outputs": [
    {
     "name": "stderr",
     "output_type": "stream",
     "text": [
      "[nltk_data] Downloading package stopwords to C:\\Users\\Doğan Yiğit\n",
      "[nltk_data]     Yenigün\\AppData\\Roaming\\nltk_data...\n",
      "[nltk_data]   Package stopwords is already up-to-date!\n"
     ]
    }
   ],
   "source": [
    "import time\n",
    "from time import time\n",
    "from pprint import pprint\n",
    "import pickle\n",
    "import pandas as pd\n",
    "import numpy as np\n",
    "import seaborn as sns\n",
    "import matplotlib.pyplot as plt\n",
    "import logging\n",
    "\n",
    "# NLP\n",
    "import nltk\n",
    "nltk.download('stopwords')\n",
    "from nltk.corpus import stopwords\n",
    "from nltk import word_tokenize, FreqDist\n",
    "from nltk.collocations import *\n",
    "import string, re\n",
    "from gensim.models import Word2Vec\n",
    "from sklearn.manifold import TSNE\n",
    "from sklearn.feature_extraction.text import TfidfVectorizer\n",
    "\n",
    "# Model Data Preparation\n",
    "from sklearn.model_selection import train_test_split\n",
    "from sklearn.preprocessing import StandardScaler, OneHotEncoder\n",
    "from sklearn.impute import SimpleImputer\n",
    "\n",
    "# Machine Learning\n",
    "from sklearn.metrics import accuracy_score, f1_score, mean_squared_error, r2_score\n",
    "from sklearn.ensemble import RandomForestRegressor, RandomForestClassifier\n",
    "from sklearn.ensemble import GradientBoostingClassifier\n",
    "from sklearn.feature_extraction.text import CountVectorizer, TfidfTransformer\n",
    "from sklearn.decomposition import PCA\n",
    "from sklearn.svm import SVC\n",
    "from sklearn.svm import SVR\n",
    "from sklearn.linear_model import LinearRegression, SGDClassifier\n",
    "from sklearn.pipeline import Pipeline\n",
    "from sklearn.model_selection import cross_val_score\n",
    "from sklearn.model_selection import GridSearchCV\n",
    "from sklearn.metrics import confusion_matrix\n",
    "\n",
    "# Deep learning\n",
    "import tensorflow as tf\n",
    "# from keras.preprocessing.sequence import pad_sequences\n",
    "from keras.utils import pad_sequences\n",
    "from keras.layers import Input, Dense, LSTM, Embedding\n",
    "from keras.layers import Dropout, Activation, Bidirectional, GlobalMaxPool1D\n",
    "from keras.layers.convolutional import Conv1D, Conv2D\n",
    "from keras.layers.convolutional import MaxPooling1D, MaxPooling2D\n",
    "from keras.models import Sequential\n",
    "from keras import initializers, regularizers, constraints, optimizers, layers\n",
    "from keras.preprocessing import text, sequence\n",
    "from keras.layers import Flatten\n",
    "from keras.utils import to_categorical\n",
    "from keras.callbacks import EarlyStopping\n",
    "from keras import regularizers\n",
    "from keras.wrappers.scikit_learn import KerasClassifier #to use Keras in sklearn\n",
    "\n",
    "# Deep Learning - Mixed inputs\n",
    "# from keras.layers.normalization import BatchNormalization\n",
    "from tensorflow.keras.layers import BatchNormalization\n",
    "from keras.layers.core import Activation\n",
    "from keras.layers.core import Dropout\n",
    "from keras.layers.core import Dense\n",
    "from keras.layers import Flatten\n",
    "from keras.layers import Input\n",
    "from keras.models import Model\n",
    "from keras.layers import concatenate\n",
    "from keras.optimizers import Adam, RMSprop\n",
    "\n",
    "%matplotlib inline\n",
    "np.random.seed(0)"
   ]
  },
  {
   "cell_type": "code",
   "execution_count": 45,
   "id": "daecb1e8",
   "metadata": {},
   "outputs": [],
   "source": [
    "salary_df = pd.read_csv('salary_final_done.csv')"
   ]
  },
  {
   "cell_type": "code",
   "execution_count": 46,
   "id": "6d5d4403",
   "metadata": {},
   "outputs": [
    {
     "name": "stdout",
     "output_type": "stream",
     "text": [
      "(963, 27)\n"
     ]
    },
    {
     "data": {
      "text/html": [
       "<div>\n",
       "<style scoped>\n",
       "    .dataframe tbody tr th:only-of-type {\n",
       "        vertical-align: middle;\n",
       "    }\n",
       "\n",
       "    .dataframe tbody tr th {\n",
       "        vertical-align: top;\n",
       "    }\n",
       "\n",
       "    .dataframe thead th {\n",
       "        text-align: right;\n",
       "    }\n",
       "</style>\n",
       "<table border=\"1\" class=\"dataframe\">\n",
       "  <thead>\n",
       "    <tr style=\"text-align: right;\">\n",
       "      <th></th>\n",
       "      <th>Title</th>\n",
       "      <th>Company</th>\n",
       "      <th>Link</th>\n",
       "      <th>Review</th>\n",
       "      <th>Salary</th>\n",
       "      <th>Description</th>\n",
       "      <th>Location2</th>\n",
       "      <th>Rate_by</th>\n",
       "      <th>low</th>\n",
       "      <th>high</th>\n",
       "      <th>...</th>\n",
       "      <th>Rank</th>\n",
       "      <th>City</th>\n",
       "      <th>Cost of Living Index</th>\n",
       "      <th>Rent Index</th>\n",
       "      <th>Cost of Living Plus Rent Index</th>\n",
       "      <th>Groceries Index</th>\n",
       "      <th>Restaurant Price Index</th>\n",
       "      <th>Local Purchasing Power Index</th>\n",
       "      <th>combined_text</th>\n",
       "      <th>Salary_Bins</th>\n",
       "    </tr>\n",
       "  </thead>\n",
       "  <tbody>\n",
       "    <tr>\n",
       "      <th>0</th>\n",
       "      <td>2021048 Data Scientist $215,000.00</td>\n",
       "      <td>B4CORP</td>\n",
       "      <td>https://www.indeed.com/pagead/clk?mo=r&amp;ad=-6NY...</td>\n",
       "      <td>None</td>\n",
       "      <td>Up to $215,000 a year</td>\n",
       "      <td>Position Requires a Top Secret (TS/SCI) Cleara...</td>\n",
       "      <td>Arlington, VA</td>\n",
       "      <td>Yearly</td>\n",
       "      <td>Up to $215,000 a year</td>\n",
       "      <td>NaN</td>\n",
       "      <td>...</td>\n",
       "      <td>36.0</td>\n",
       "      <td>Arlington, VA</td>\n",
       "      <td>80.159143</td>\n",
       "      <td>58.838571</td>\n",
       "      <td>69.961143</td>\n",
       "      <td>76.886286</td>\n",
       "      <td>78.608571</td>\n",
       "      <td>115.594571</td>\n",
       "      <td>2021048 Data Scientist $215,000.00 Position Re...</td>\n",
       "      <td>5</td>\n",
       "    </tr>\n",
       "    <tr>\n",
       "      <th>1</th>\n",
       "      <td>Data Science/Data Analyst</td>\n",
       "      <td>CRAiC LLC</td>\n",
       "      <td>https://www.indeed.com/company/CRAiC-LLC/jobs/...</td>\n",
       "      <td>None</td>\n",
       "      <td>$60,000 a year</td>\n",
       "      <td>Cost Readiness Analytics (CRAiC LLC) is lookin...</td>\n",
       "      <td>Arlington, VA</td>\n",
       "      <td>Yearly</td>\n",
       "      <td>$60,000 a year</td>\n",
       "      <td>NaN</td>\n",
       "      <td>...</td>\n",
       "      <td>36.0</td>\n",
       "      <td>Arlington, VA</td>\n",
       "      <td>80.159143</td>\n",
       "      <td>58.838571</td>\n",
       "      <td>69.961143</td>\n",
       "      <td>76.886286</td>\n",
       "      <td>78.608571</td>\n",
       "      <td>115.594571</td>\n",
       "      <td>Data Science/Data Analyst Cost Readiness Analy...</td>\n",
       "      <td>1</td>\n",
       "    </tr>\n",
       "    <tr>\n",
       "      <th>2</th>\n",
       "      <td>Data Science Intern</td>\n",
       "      <td>MilliporeSigma</td>\n",
       "      <td>https://www.indeed.com/company/Serono/jobs/Dat...</td>\n",
       "      <td>3.9</td>\n",
       "      <td>$20 - $25 an hour</td>\n",
       "      <td>Job Title: Data Science Intern\\rA career with ...</td>\n",
       "      <td>Arlington, VA</td>\n",
       "      <td>Hourly</td>\n",
       "      <td>$20</td>\n",
       "      <td>$25 an hour</td>\n",
       "      <td>...</td>\n",
       "      <td>36.0</td>\n",
       "      <td>Arlington, VA</td>\n",
       "      <td>80.159143</td>\n",
       "      <td>58.838571</td>\n",
       "      <td>69.961143</td>\n",
       "      <td>76.886286</td>\n",
       "      <td>78.608571</td>\n",
       "      <td>115.594571</td>\n",
       "      <td>Data Science Intern Job Title: Data Science In...</td>\n",
       "      <td>0</td>\n",
       "    </tr>\n",
       "    <tr>\n",
       "      <th>3</th>\n",
       "      <td>Jr. Data Scientist</td>\n",
       "      <td>Numero Data LLC</td>\n",
       "      <td>https://www.indeed.com/company/Numero-Data-LLC...</td>\n",
       "      <td>None</td>\n",
       "      <td>$70,000 - $85,000 a year</td>\n",
       "      <td>Ideal candidate should have a degree in a quan...</td>\n",
       "      <td>Arlington, VA</td>\n",
       "      <td>Yearly</td>\n",
       "      <td>$70,000</td>\n",
       "      <td>$85,000 a year</td>\n",
       "      <td>...</td>\n",
       "      <td>36.0</td>\n",
       "      <td>Arlington, VA</td>\n",
       "      <td>80.159143</td>\n",
       "      <td>58.838571</td>\n",
       "      <td>69.961143</td>\n",
       "      <td>76.886286</td>\n",
       "      <td>78.608571</td>\n",
       "      <td>115.594571</td>\n",
       "      <td>Jr. Data Scientist Ideal candidate should have...</td>\n",
       "      <td>2</td>\n",
       "    </tr>\n",
       "    <tr>\n",
       "      <th>4</th>\n",
       "      <td>Business Data Quality Engineer</td>\n",
       "      <td>HRU Technical Resources</td>\n",
       "      <td>https://www.indeed.com/pagead/clk?mo=r&amp;ad=-6NY...</td>\n",
       "      <td>None</td>\n",
       "      <td>$45 - $55 an hour</td>\n",
       "      <td>Please note that this is not a corp to corp or...</td>\n",
       "      <td>Arlington, VA</td>\n",
       "      <td>Hourly</td>\n",
       "      <td>$45</td>\n",
       "      <td>$55 an hour</td>\n",
       "      <td>...</td>\n",
       "      <td>36.0</td>\n",
       "      <td>Arlington, VA</td>\n",
       "      <td>80.159143</td>\n",
       "      <td>58.838571</td>\n",
       "      <td>69.961143</td>\n",
       "      <td>76.886286</td>\n",
       "      <td>78.608571</td>\n",
       "      <td>115.594571</td>\n",
       "      <td>Business Data Quality Engineer Please note tha...</td>\n",
       "      <td>3</td>\n",
       "    </tr>\n",
       "  </tbody>\n",
       "</table>\n",
       "<p>5 rows × 24 columns</p>\n",
       "</div>"
      ],
      "text/plain": [
       "                                Title                  Company  \\\n",
       "0  2021048 Data Scientist $215,000.00                   B4CORP   \n",
       "1           Data Science/Data Analyst                CRAiC LLC   \n",
       "2                 Data Science Intern           MilliporeSigma   \n",
       "3                  Jr. Data Scientist          Numero Data LLC   \n",
       "4      Business Data Quality Engineer  HRU Technical Resources   \n",
       "\n",
       "                                                Link Review  \\\n",
       "0  https://www.indeed.com/pagead/clk?mo=r&ad=-6NY...   None   \n",
       "1  https://www.indeed.com/company/CRAiC-LLC/jobs/...   None   \n",
       "2  https://www.indeed.com/company/Serono/jobs/Dat...    3.9   \n",
       "3  https://www.indeed.com/company/Numero-Data-LLC...   None   \n",
       "4  https://www.indeed.com/pagead/clk?mo=r&ad=-6NY...   None   \n",
       "\n",
       "                     Salary  \\\n",
       "0     Up to $215,000 a year   \n",
       "1            $60,000 a year   \n",
       "2         $20 - $25 an hour   \n",
       "3  $70,000 - $85,000 a year   \n",
       "4         $45 - $55 an hour   \n",
       "\n",
       "                                         Description      Location2 Rate_by  \\\n",
       "0  Position Requires a Top Secret (TS/SCI) Cleara...  Arlington, VA  Yearly   \n",
       "1  Cost Readiness Analytics (CRAiC LLC) is lookin...  Arlington, VA  Yearly   \n",
       "2  Job Title: Data Science Intern\\rA career with ...  Arlington, VA  Hourly   \n",
       "3  Ideal candidate should have a degree in a quan...  Arlington, VA  Yearly   \n",
       "4  Please note that this is not a corp to corp or...  Arlington, VA  Hourly   \n",
       "\n",
       "                     low             high  ...  Rank           City  \\\n",
       "0  Up to $215,000 a year              NaN  ...  36.0  Arlington, VA   \n",
       "1         $60,000 a year              NaN  ...  36.0  Arlington, VA   \n",
       "2                   $20       $25 an hour  ...  36.0  Arlington, VA   \n",
       "3               $70,000    $85,000 a year  ...  36.0  Arlington, VA   \n",
       "4                   $45       $55 an hour  ...  36.0  Arlington, VA   \n",
       "\n",
       "   Cost of Living Index  Rent Index  Cost of Living Plus Rent Index  \\\n",
       "0             80.159143   58.838571                       69.961143   \n",
       "1             80.159143   58.838571                       69.961143   \n",
       "2             80.159143   58.838571                       69.961143   \n",
       "3             80.159143   58.838571                       69.961143   \n",
       "4             80.159143   58.838571                       69.961143   \n",
       "\n",
       "  Groceries Index  Restaurant Price Index  Local Purchasing Power Index  \\\n",
       "0       76.886286               78.608571                    115.594571   \n",
       "1       76.886286               78.608571                    115.594571   \n",
       "2       76.886286               78.608571                    115.594571   \n",
       "3       76.886286               78.608571                    115.594571   \n",
       "4       76.886286               78.608571                    115.594571   \n",
       "\n",
       "                                       combined_text  Salary_Bins  \n",
       "0  2021048 Data Scientist $215,000.00 Position Re...            5  \n",
       "1  Data Science/Data Analyst Cost Readiness Analy...            1  \n",
       "2  Data Science Intern Job Title: Data Science In...            0  \n",
       "3  Jr. Data Scientist Ideal candidate should have...            2  \n",
       "4  Business Data Quality Engineer Please note tha...            3  \n",
       "\n",
       "[5 rows x 24 columns]"
      ]
     },
     "execution_count": 46,
     "metadata": {},
     "output_type": "execute_result"
    }
   ],
   "source": [
    "print(salary_df.shape)\n",
    "salary_df.drop('Unnamed: 0.2', axis=1, inplace=True)\n",
    "salary_df.drop('Unnamed: 0.1', axis=1, inplace=True)\n",
    "salary_df.drop('Unnamed: 0', axis=1, inplace=True)\n",
    "salary_df.head()"
   ]
  },
  {
   "cell_type": "code",
   "execution_count": 47,
   "id": "9eac776e",
   "metadata": {},
   "outputs": [
    {
     "name": "stdout",
     "output_type": "stream",
     "text": [
      "<class 'pandas.core.frame.DataFrame'>\n",
      "RangeIndex: 963 entries, 0 to 962\n",
      "Data columns (total 24 columns):\n",
      " #   Column                          Non-Null Count  Dtype  \n",
      "---  ------                          --------------  -----  \n",
      " 0   Title                           963 non-null    object \n",
      " 1   Company                         963 non-null    object \n",
      " 2   Link                            963 non-null    object \n",
      " 3   Review                          963 non-null    object \n",
      " 4   Salary                          963 non-null    object \n",
      " 5   Description                     963 non-null    object \n",
      " 6   Location2                       958 non-null    object \n",
      " 7   Rate_by                         963 non-null    object \n",
      " 8   low                             963 non-null    object \n",
      " 9   high                            762 non-null    object \n",
      " 10  min                             963 non-null    float64\n",
      " 11  max                             963 non-null    float64\n",
      " 12  adjusted_salary                 963 non-null    float64\n",
      " 13  adjusted_yearly_salary          963 non-null    float64\n",
      " 14  Rank                            893 non-null    float64\n",
      " 15  City                            893 non-null    object \n",
      " 16  Cost of Living Index            893 non-null    float64\n",
      " 17  Rent Index                      893 non-null    float64\n",
      " 18  Cost of Living Plus Rent Index  893 non-null    float64\n",
      " 19  Groceries Index                 893 non-null    float64\n",
      " 20  Restaurant Price Index          893 non-null    float64\n",
      " 21  Local Purchasing Power Index    893 non-null    float64\n",
      " 22  combined_text                   963 non-null    object \n",
      " 23  Salary_Bins                     963 non-null    int64  \n",
      "dtypes: float64(11), int64(1), object(12)\n",
      "memory usage: 180.7+ KB\n"
     ]
    }
   ],
   "source": [
    "salary_df.info()"
   ]
  },
  {
   "cell_type": "code",
   "execution_count": 48,
   "id": "e854d2ad",
   "metadata": {},
   "outputs": [
    {
     "data": {
      "image/png": "[encoded data removed]",
      "text/plain": [
       "<Figure size 640x480 with 1 Axes>"
      ]
     },
     "metadata": {},
     "output_type": "display_data"
    }
   ],
   "source": [
    "salary_df.hist('adjusted_yearly_salary', bins=50)\n",
    "plt.grid(axis='both')\n",
    "plt.show()"
   ]
  },
  {
   "cell_type": "code",
   "execution_count": 49,
   "id": "e22dc1b1",
   "metadata": {},
   "outputs": [
    {
     "data": {
      "text/plain": [
       "352500.0"
      ]
     },
     "execution_count": 49,
     "metadata": {},
     "output_type": "execute_result"
    }
   ],
   "source": [
    "salary_df['adjusted_yearly_salary'].max() - salary_df['adjusted_yearly_salary'].min()"
   ]
  },
  {
   "cell_type": "code",
   "execution_count": 50,
   "id": "e6715367",
   "metadata": {},
   "outputs": [
    {
     "data": {
      "text/plain": [
       "0.000000     10000.000000\n",
       "0.166667     54026.666667\n",
       "0.333333     70000.000000\n",
       "0.500000     90000.000000\n",
       "0.666667    114400.000000\n",
       "0.833333    145600.000000\n",
       "1.000000    362500.000000\n",
       "Name: adjusted_yearly_salary, dtype: float64"
      ]
     },
     "execution_count": 50,
     "metadata": {},
     "output_type": "execute_result"
    }
   ],
   "source": [
    "salary_df['adjusted_yearly_salary'].quantile(list(np.linspace(0,1,7)))"
   ]
  },
  {
   "cell_type": "code",
   "execution_count": 51,
   "id": "70c5f3f4",
   "metadata": {},
   "outputs": [
    {
     "data": {
      "text/plain": [
       "0      5\n",
       "1      1\n",
       "2      0\n",
       "3      2\n",
       "4      3\n",
       "      ..\n",
       "958    3\n",
       "959    3\n",
       "960    3\n",
       "961    2\n",
       "962    2\n",
       "Name: Salary_Bins, Length: 963, dtype: int64"
      ]
     },
     "execution_count": 51,
     "metadata": {},
     "output_type": "execute_result"
    }
   ],
   "source": [
    "salary_df['Salary_Bins']"
   ]
  },
  {
   "cell_type": "code",
   "execution_count": 52,
   "id": "75a220ff",
   "metadata": {},
   "outputs": [
    {
     "data": {
      "image/png": "[encoded data removed]",
      "text/plain": [
       "<Figure size 640x480 with 1 Axes>"
      ]
     },
     "metadata": {},
     "output_type": "display_data"
    }
   ],
   "source": [
    "salary_df.groupby('Salary_Bins')['Location2'].count().plot.bar()\n",
    "plt.show()"
   ]
  },
  {
   "cell_type": "code",
   "execution_count": 53,
   "id": "69a456e7",
   "metadata": {},
   "outputs": [],
   "source": [
    "# Categorical target\n",
    "target_class = salary_df['Salary_Bins'].astype('category')"
   ]
  },
  {
   "cell_type": "code",
   "execution_count": 54,
   "id": "4c252040",
   "metadata": {},
   "outputs": [],
   "source": [
    "def clean_word(job_descriptions):\n",
    "    jd_data=[]\n",
    "    pattern = \"([a-zA-Z]+(?:'[a-z]+)?)\"\n",
    "    stopwords_list = stopwords.words('english')\n",
    "    stopwords_list += list(string.punctuation)\n",
    "    stopwords_list += ['0', '1', '2', '3', '4', '5', '6', '7', '8', '9']\n",
    "    stopwords_list += ['www','http','com','llc','covid','non','pm','am','eg','e','g','ie','i']\n",
    "    \n",
    "    for jd in job_descriptions:\n",
    "        jd_tokens_raw = nltk.regexp_tokenize(jd, pattern)\n",
    "        jd_tokens=[word.lower() for word in jd_tokens_raw]\n",
    "        jd_words_stopped = [word for word in jd_tokens if word not in stopwords_list]\n",
    "        jd_data.append(jd_words_stopped)\n",
    "\n",
    "    return pd.Series(jd_data) # Turn list of lists to series of lists to use in Word2Vec"
   ]
  },
  {
   "cell_type": "code",
   "execution_count": 55,
   "id": "dfd58872",
   "metadata": {},
   "outputs": [],
   "source": [
    "data = clean_word(salary_df['combined_text'])"
   ]
  },
  {
   "cell_type": "code",
   "execution_count": 56,
   "id": "eb57ce37",
   "metadata": {},
   "outputs": [
    {
     "data": {
      "text/plain": [
       "0      [data, scientist, position, requires, top, sec...\n",
       "1      [data, science, data, analyst, cost, readiness...\n",
       "2      [data, science, intern, job, title, data, scie...\n",
       "3      [jr, data, scientist, ideal, candidate, degree...\n",
       "4      [business, data, quality, engineer, please, no...\n",
       "                             ...                        \n",
       "958    [data, engineering, ii, data, engineering, ii,...\n",
       "959    [ir, day, shift, tier, ir, day, shift, salary,...\n",
       "960    [security, engineer, security, engineer, salar...\n",
       "961    [fdp, analyst, position, title, fdp, analyst, ...\n",
       "962    [junior, ms, access, vba, developer, want, acc...\n",
       "Length: 963, dtype: object"
      ]
     },
     "execution_count": 56,
     "metadata": {},
     "output_type": "execute_result"
    }
   ],
   "source": [
    "data"
   ]
  },
  {
   "cell_type": "markdown",
   "id": "949319f5",
   "metadata": {},
   "source": [
    "## Model 2: Count Vectorizer + TF-IDF with Grid Search\n",
    "\n",
    "TF means **Term-Frequency**, while TF-IDF means **Term-Frequency times Inverse-Document-Frequency**. This is a common term weighting scheme for information retrieval. \n",
    "\n",
    "The goal of using TF-IDF instead of the raw frequencies of occurrence of a token in a given document is to scale down the impact of tokens that occur very frequently in a given corpus. Therefore, they are empirically less informative than features that occur in a small fraction of the training corpus."
   ]
  },
  {
   "cell_type": "code",
   "execution_count": 57,
   "id": "7a76c2a9",
   "metadata": {},
   "outputs": [],
   "source": [
    "# The input needs to be raw text\n",
    "text = salary_df['combined_text']"
   ]
  },
  {
   "cell_type": "code",
   "execution_count": 58,
   "id": "54fdadfe",
   "metadata": {},
   "outputs": [
    {
     "data": {
      "text/plain": [
       "0      2021048 Data Scientist $215,000.00 Position Re...\n",
       "1      Data Science/Data Analyst Cost Readiness Analy...\n",
       "2      Data Science Intern Job Title: Data Science In...\n",
       "3      Jr. Data Scientist Ideal candidate should have...\n",
       "4      Business Data Quality Engineer Please note tha...\n",
       "                             ...                        \n",
       "958    Data Engineering II Data Engineering II\\rSalar...\n",
       "959    IR Day Shift Tier 2 IR Day Shift\\rSalary Range...\n",
       "960    Security Engineer Security Engineer\\rSalary Ra...\n",
       "961    FDP Analyst Position Title: FDP Analyst\\rCusto...\n",
       "962    Junior MS Access/ VBA Developer If you want an...\n",
       "Name: combined_text, Length: 963, dtype: object"
      ]
     },
     "execution_count": 58,
     "metadata": {},
     "output_type": "execute_result"
    }
   ],
   "source": [
    "text"
   ]
  },
  {
   "cell_type": "code",
   "execution_count": 79,
   "id": "da0199dd",
   "metadata": {},
   "outputs": [
    {
     "data": {
      "text/plain": [
       "'2021048 Data Scientist $215,000.00 Position Requires a Top Secret (TS/SCI) Clearance with a Polygraph.\\rEstimated Salary:\\rPosition Level: Level 1 \\x8a\\x97\\x96 Subject Matter Expert\\rSalary Range: Up to $215,000.00 per year\\rB4Corp Estimated Salary Ranges:\\rPosition Level Min Salary Max Salary\\rLevel 1 \\x8a\\x97\\x96 Subject Matter Expert $160,000 $215,000\\rLevel 2 \\x8a\\x97\\x96 Expert $140,000 $195,000\\rLevel 3 \\x8a\\x97\\x96 Senior $110,000 $170,000\\rLevel 4 \\x8a\\x97\\x96 Full Performance $60,000 $100,000\\rMandatory Requirements:\\r1. Java development experience in a production environment. (Required for Software Developer) (list years\\x8a\\x97È experience only)\\r2. Demonstrated on-the-job experience troubleshooting user issues (list years\\x8a\\x97È experience only)\\r3. Demonstrated on-the-job experience writing system automation scripts for a Linux environment using tools such as: bash/sh, python, ruby, or perl (list years\\x8a\\x97È experience only)\\r4. Demonstrated on-the-job experience installing, configuring, patching, and troubleshooting RHEL-based (e.g. SL, Redhat, or CentOS) Linux OS (list years\\x8a\\x97È experience only)\\r5. Demonstrated on-the-job experience installing, configuring, patching, and troubleshooting middleware components in a Linux environment (e.g. MySql, Tomcat, Apache, etc.) (list years\\x8a\\x97È experience only)\\r6. Strong writing, speaking, editing skills along with the ability to utilize internal social media tools to help with messaging, promotion, and marketing (list years\\x8a\\x97È experience only)\\r7. Ability to organize and prioritize under tight deadlines (list years\\x8a\\x97È experience only)\\r8. System Engineering experience in a production environment. (Required for System Engineer) (list years\\x8a\\x97È experience only)\\r9. System Administration experience in a production environment. (Required for System Engineer) (list years\\x8a\\x97È experience only)\\r10. Development skills experience in a production environment. (Required for System Engineer) (list years\\x8a\\x97È experience only)\\r11. Amazon cloud services (list years\\x8a\\x97È experience only)\\r12. DevOps practices (list years\\x8a\\x97È experience only)\\r13. Server automation tools (Docker, Jenkins, Puppet) (list years\\x8a\\x97È experience only)\\r14. Docker (list years\\x8a\\x97È experience only)\\r15. Kubernettes (list years\\x8a\\x97È experience only)\\rOptional Requirements:\\rB4CORP Company Information\\rB4Corp is a small defense contracting company that focuses on providing an optimum environment for mission-focused, highly-skilled consultants to support the United States of America\\x8a\\x97Ès intelligence community and other defense organizations. B4Corp provides a low overhead, highly efficient, high salary environment that allows employees to excel at meeting the client\\x8a\\x97Ès needs. B4Corp is looking for information technology professionals that have a high sense of personal responsibility, self-motivation, and mission drive.\\rB4Corp\\x8a\\x97Ès dedication and care for its employees is reflected in the outstanding compensation and benefits B4Corp provides. Our salaries are second to none. B4Corp\\x8a\\x97Ès benefits reflect the company\\x8a\\x97Ès policy of putting the employees first. Our health insurance demonstrates this with 100% employer coverage and providing employees with a plan that has $0 copay, 0% coinsurance and an HSA that can allow employees to accrue health savings for the future. B4Corp\\x8a\\x97Ès maximum flexibility comp / makeup time policy, along with the company\\x8a\\x97Ès cafeteria-style benefit plan that allows employees to maximize their benefit dollars, reflects B4Corp\\x8a\\x97Ès commitment to its employees.\\rCompensation:\\rOutstanding Salaries\\rRetirement:\\rFull Vanguard 401k Plan \\x8a\\x97\\x96 Featuring a full scope of investment options\\r\\x8a\\x97\\x96 100% employer matched contribution up to 6% of employee\\x8a\\x97Ès salary\\r\\x8a\\x97\\x96 Ability to max out 401k savings $57k ($63.5k if over 50)\\rEmployees receive B4Corp phantom stock each year (2-year vesting period)\\rInsurance 100% Employer-Paid Premiums:\\rUnited Health Care Choice Plus HSA POS Gold 1500 w/HSA\\r\\x8a\\x97\\x96 Employer funded HSA to cover 100% health care deductible\\r\\x8a\\x97\\x96 Health insurance: $0 copay, $0 co-insurance. Full scope protection for you and your family!\\r\\x8a\\x97\\x96 100% employer premium coverage for single and family\\rHealth Equity HSA \\x8a\\x97\\x96 B4Corp contributes $1500.00 for single and $3000.00 for family into your Health Equity HSA to cover 100% of your health care deductible.\\rMutual of Omaha Dental VSP Vision Insurance Mutual of Omaha short-term disability (60% of salary up to $2,000.00/week)\\rMutual of Omaha long-term disability (60% of salary up to $10,000.00/month)\\rMutual of Omaha life insurance ($200,000.00)\\rEmployee Referral Bonus:\\rRefer a friend or a coworker and receive $2,000 per year for every year the person works for B4CORP\\rPaid Time Off (PTO):\\rSeven weeks of leave per year (including ten federal holidays)\\rAbility to purchase 2 additional weeks of vacation\\rFlexible work schedule with comp time (with customer approval)\\rTuition and Training:\\rFree CBTNuggets Online Training Account\\r\\x8a\\x97\\x96 More than 200 online IT courses on a large variety of topics, including networking, security, virtualization, and the cloud \\x8a\\x97\\x94 from trusted vendors such as Cisco, Microsoft, and Google.\\r\\x8a\\x97\\x96 Train anytime, anywhere, and on a variety of devices \\x8a\\x97\\x96 even offline!\\r\\x8a\\x97\\x96 TranscenderÎÂ Practice Exams\\r\\x8a\\x97\\x96 Virtual Labs\\rFree L inux Academy Online Training Account\\rInternal Tracking -J615'"
      ]
     },
     "execution_count": 79,
     "metadata": {},
     "output_type": "execute_result"
    }
   ],
   "source": [
    "text[0]"
   ]
  },
  {
   "cell_type": "code",
   "execution_count": 59,
   "id": "30e14540",
   "metadata": {},
   "outputs": [
    {
     "data": {
      "text/plain": [
       "0      5\n",
       "1      1\n",
       "2      0\n",
       "3      2\n",
       "4      3\n",
       "      ..\n",
       "958    3\n",
       "959    3\n",
       "960    3\n",
       "961    2\n",
       "962    2\n",
       "Name: Salary_Bins, Length: 963, dtype: category\n",
       "Categories (6, int64): [0, 1, 2, 3, 4, 5]"
      ]
     },
     "execution_count": 59,
     "metadata": {},
     "output_type": "execute_result"
    }
   ],
   "source": [
    "target_class"
   ]
  },
  {
   "cell_type": "code",
   "execution_count": 60,
   "id": "3845e362",
   "metadata": {},
   "outputs": [],
   "source": [
    "# TRAIN TEST SPLIT\n",
    "X_train, X_test, y_train, y_test = train_test_split(text, target_class, test_size=0.1, random_state=4)"
   ]
  },
  {
   "cell_type": "markdown",
   "id": "10f4b894",
   "metadata": {},
   "source": [
    "### SGD Classifier with Grid Search"
   ]
  },
  {
   "cell_type": "code",
   "execution_count": 61,
   "id": "badfdc89",
   "metadata": {},
   "outputs": [
    {
     "name": "stdout",
     "output_type": "stream",
     "text": [
      "Performing grid search...\n",
      "pipeline: ['vect', 'tfidf', 'clf']\n",
      "parameters:\n",
      "{'clf__alpha': (0.0001, 0.001),\n",
      " 'clf__loss': ('hinge', 'log'),\n",
      " 'clf__max_iter': (100, 200, 500),\n",
      " 'vect__max_df': (0.2, 0.5),\n",
      " 'vect__min_df': (0.01, 0.05)}\n",
      "Fitting 5 folds for each of 48 candidates, totalling 240 fits\n",
      "done in 100.743s\n",
      "\n",
      "Best score: 0.549\n",
      "Best parameters set:\n",
      "\tclf__alpha: 0.001\n",
      "\tclf__loss: 'hinge'\n",
      "\tclf__max_iter: 200\n",
      "\tvect__max_df: 0.2\n",
      "\tvect__min_df: 0.01\n"
     ]
    }
   ],
   "source": [
    "pipeline = Pipeline([\n",
    "    ('vect', CountVectorizer(max_df=0.5, min_df=5, ngram_range=(1,2), stop_words='english')),\n",
    "    ('tfidf', TfidfTransformer()),\n",
    "    ('clf', SGDClassifier(n_jobs=3))\n",
    "])\n",
    "\n",
    "# Uncommenting more parameters will give better exploring power but will increase processing time in a combinatorial way\n",
    "parameters = {\n",
    "    'vect__max_df': (0.2,0.5),\n",
    "    'vect__min_df': (0.01,0.05),\n",
    "    #'tfidf__use_idf': (True, False),\n",
    "    #'tfidf__smooth_idf': (True, False),\n",
    "    'clf__alpha': (0.0001,0.001),\n",
    "    'clf__loss': ('hinge','log'), \n",
    "    #'clf__penalty': ('l2','elasticnet'),\n",
    "    'clf__max_iter': (100,200,500)\n",
    "}\n",
    "\n",
    "if __name__ == \"__main__\":\n",
    "    # Multiprocessing requires the fork to happen in a __main__ protected block\n",
    "    # Find the best parameters for both the feature extraction and the classifier\n",
    "    grid_search = GridSearchCV(pipeline, parameters, n_jobs=-1, verbose=1)\n",
    "\n",
    "    print(\"Performing grid search...\")\n",
    "    print(\"pipeline:\", [name for name, _ in pipeline.steps])\n",
    "    print(\"parameters:\")\n",
    "    pprint(parameters)\n",
    "    t0 = time()\n",
    "    grid_search.fit(X_train, y_train)\n",
    "    print(\"done in %0.3fs\" % (time() - t0))\n",
    "    print()\n",
    "\n",
    "    print(\"Best score: %0.3f\" % grid_search.best_score_)\n",
    "    print(\"Best parameters set:\")\n",
    "    best_parameters = grid_search.best_estimator_.get_params()\n",
    "    for param_name in sorted(parameters.keys()):\n",
    "        print(\"\\t%s: %r\" % (param_name, best_parameters[param_name]))"
   ]
  },
  {
   "cell_type": "code",
   "execution_count": 62,
   "id": "2e93bdd0",
   "metadata": {},
   "outputs": [],
   "source": [
    "SGD = Pipeline([\n",
    "    ('vect', CountVectorizer(max_df=0.5, min_df=0.01, ngram_range=(1,3), stop_words='english')),\n",
    "    ('tfidf', TfidfTransformer()),\n",
    "    ('clf', SGDClassifier(alpha=0.001, max_iter=200, n_jobs=3))\n",
    "])"
   ]
  },
  {
   "cell_type": "code",
   "execution_count": 63,
   "id": "e75534f0",
   "metadata": {},
   "outputs": [],
   "source": [
    "classifier = SGD.fit(X_train, y_train)"
   ]
  },
  {
   "cell_type": "code",
   "execution_count": 64,
   "id": "89879e61",
   "metadata": {},
   "outputs": [],
   "source": [
    "y_pred = SGD.predict(X_test)"
   ]
  },
  {
   "cell_type": "markdown",
   "id": "be1f958a",
   "metadata": {},
   "source": [
    "### Confusion Matrix"
   ]
  },
  {
   "cell_type": "code",
   "execution_count": 65,
   "id": "eaa4aaa0",
   "metadata": {},
   "outputs": [
    {
     "data": {
      "text/plain": [
       "array([[11,  1,  0,  0,  0,  0],\n",
       "       [ 1, 13,  2,  1,  0,  0],\n",
       "       [ 1,  4,  7,  1,  0,  0],\n",
       "       [ 0,  2,  3, 17,  0,  0],\n",
       "       [ 0,  0,  0,  2,  9,  1],\n",
       "       [ 1,  2,  0,  1,  4, 13]], dtype=int64)"
      ]
     },
     "execution_count": 65,
     "metadata": {},
     "output_type": "execute_result"
    }
   ],
   "source": [
    "confusion_matrix(y_test, y_pred)"
   ]
  },
  {
   "cell_type": "code",
   "execution_count": 66,
   "id": "daa0f16b",
   "metadata": {},
   "outputs": [
    {
     "name": "stderr",
     "output_type": "stream",
     "text": [
      "C:\\Users\\Doğan Yiğit Yenigün\\AppData\\Local\\Programs\\Python\\Python310\\lib\\site-packages\\sklearn\\utils\\deprecation.py:87: FutureWarning: Function plot_confusion_matrix is deprecated; Function `plot_confusion_matrix` is deprecated in 1.0 and will be removed in 1.2. Use one of the class methods: ConfusionMatrixDisplay.from_predictions or ConfusionMatrixDisplay.from_estimator.\n",
      "  warnings.warn(msg, category=FutureWarning)\n"
     ]
    },
    {
     "name": "stdout",
     "output_type": "stream",
     "text": [
      "Confusion matrix, without normalization\n",
      "[[11  1  0  0  0  0]\n",
      " [ 1 13  2  1  0  0]\n",
      " [ 1  4  7  1  0  0]\n",
      " [ 0  2  3 17  0  0]\n",
      " [ 0  0  0  2  9  1]\n",
      " [ 1  2  0  1  4 13]]\n"
     ]
    },
    {
     "name": "stderr",
     "output_type": "stream",
     "text": [
      "C:\\Users\\Doğan Yiğit Yenigün\\AppData\\Local\\Programs\\Python\\Python310\\lib\\site-packages\\sklearn\\utils\\deprecation.py:87: FutureWarning: Function plot_confusion_matrix is deprecated; Function `plot_confusion_matrix` is deprecated in 1.0 and will be removed in 1.2. Use one of the class methods: ConfusionMatrixDisplay.from_predictions or ConfusionMatrixDisplay.from_estimator.\n",
      "  warnings.warn(msg, category=FutureWarning)\n"
     ]
    },
    {
     "name": "stdout",
     "output_type": "stream",
     "text": [
      "Normalized confusion matrix\n",
      "[[0.92 0.08 0.   0.   0.   0.  ]\n",
      " [0.06 0.76 0.12 0.06 0.   0.  ]\n",
      " [0.08 0.31 0.54 0.08 0.   0.  ]\n",
      " [0.   0.09 0.14 0.77 0.   0.  ]\n",
      " [0.   0.   0.   0.17 0.75 0.08]\n",
      " [0.05 0.1  0.   0.05 0.19 0.62]]\n"
     ]
    },
    {
     "data": {
      "image/png": "[encoded data removed]",
      "text/plain": [
       "<Figure size 640x480 with 2 Axes>"
      ]
     },
     "metadata": {},
     "output_type": "display_data"
    },
    {
     "data": {
      "image/png": "[encoded data removed]",
      "text/plain": [
       "<Figure size 640x480 with 2 Axes>"
      ]
     },
     "metadata": {},
     "output_type": "display_data"
    }
   ],
   "source": [
    "# Visualize Confusion Matrix\n",
    "from sklearn.metrics import plot_confusion_matrix\n",
    "np.set_printoptions(precision=2)\n",
    "\n",
    "class_names = [\"0-50K\",\"50K-70K\",\"70K-90K\",\"90K-120K\",'120K-150K','150K and above']\n",
    "# Plot non-normalized confusion matrix\n",
    "titles_options = [(\"Confusion matrix, without normalization\", None),\n",
    "                  (\"Normalized confusion matrix\", 'true')]\n",
    "\n",
    "for title, normalize in titles_options:\n",
    "    disp = plot_confusion_matrix(classifier, X_test, y_test, display_labels=class_names, cmap=plt.cm.Blues,\n",
    "                                 normalize=normalize)\n",
    "    disp.ax_.set_title(title)  \n",
    "    print(title)\n",
    "    print(disp.confusion_matrix)\n",
    "plt.show()"
   ]
  },
  {
   "cell_type": "code",
   "execution_count": 67,
   "id": "bc4b716c",
   "metadata": {},
   "outputs": [
    {
     "data": {
      "text/plain": [
       "0.7216494845360825"
      ]
     },
     "execution_count": 67,
     "metadata": {},
     "output_type": "execute_result"
    }
   ],
   "source": [
    "# Mean accuracy on the given test data and labels\n",
    "SGD.score(X_test, y_test)"
   ]
  },
  {
   "cell_type": "code",
   "execution_count": 68,
   "id": "61ff87de",
   "metadata": {},
   "outputs": [],
   "source": [
    "# Save the model to disk\n",
    "filename = 'finalized_sgd_model.sav'\n",
    "pickle.dump(SGD, open(filename, 'wb'))"
   ]
  },
  {
   "cell_type": "code",
   "execution_count": 70,
   "id": "a2485df0",
   "metadata": {},
   "outputs": [
    {
     "name": "stdout",
     "output_type": "stream",
     "text": [
      "0.7216494845360825\n"
     ]
    }
   ],
   "source": [
    "# Load the model from disk\n",
    "loaded_model = pickle.load(open(filename, 'rb'))\n",
    "result = loaded_model.score(X_test, y_test)\n",
    "print(result)"
   ]
  },
  {
   "cell_type": "markdown",
   "id": "a0151bbc",
   "metadata": {},
   "source": [
    "Using CountVectorizer and TF-IDF Transformer with SGD did much better than previous model, Word2Vec and RandomForest! We can imply that TF-IDF was able to retrieve valuable information."
   ]
  },
  {
   "cell_type": "markdown",
   "id": "06fe2c8c",
   "metadata": {},
   "source": [
    "### Random Forest Classifier with Grid Search"
   ]
  },
  {
   "cell_type": "code",
   "execution_count": 71,
   "id": "eae2769f",
   "metadata": {},
   "outputs": [
    {
     "name": "stdout",
     "output_type": "stream",
     "text": [
      "Performing grid search...\n",
      "pipeline: ['vect', 'tfidf', 'rf']\n",
      "parameters:\n",
      "{'rf__criterion': ('gini', 'entropy'),\n",
      " 'rf__max_features': ('auto', 'sqrt', 'log2'),\n",
      " 'rf__min_samples_split': (2, 6, 8),\n",
      " 'rf__n_estimators': (30, 40, 50),\n",
      " 'tfidf__smooth_idf': (True, False),\n",
      " 'tfidf__use_idf': (True, False)}\n",
      "Fitting 5 folds for each of 216 candidates, totalling 1080 fits\n",
      "done in 695.684s\n",
      "\n",
      "Best score: 0.550\n",
      "Best parameters set:\n",
      "\trf__criterion: 'gini'\n",
      "\trf__max_features: 'sqrt'\n",
      "\trf__min_samples_split: 8\n",
      "\trf__n_estimators: 50\n",
      "\ttfidf__smooth_idf: False\n",
      "\ttfidf__use_idf: False\n"
     ]
    }
   ],
   "source": [
    "pipeline = Pipeline([\n",
    "    ('vect', CountVectorizer(max_df=0.5, min_df=0.01, ngram_range=(1,2), stop_words='english')),\n",
    "    ('tfidf', TfidfTransformer()),\n",
    "    ('rf', RandomForestClassifier(n_jobs=3))\n",
    "])\n",
    "\n",
    "# Uncommenting more parameters will give better exploring power but will increase processing time in a combinatorial way\n",
    "parameters = {\n",
    "    'tfidf__use_idf':(True, False),\n",
    "    'tfidf__smooth_idf':(True, False),\n",
    "    'rf__n_estimators':(30,40,50),\n",
    "    'rf__criterion':(\"gini\",\"entropy\"),\n",
    "    'rf__min_samples_split':(2,6,8),\n",
    "    'rf__max_features':(\"auto\",\"sqrt\",\"log2\")   \n",
    "}\n",
    "\n",
    "if __name__ == \"__main__\":\n",
    "    # Multiprocessing requires the fork to happen in a __main__ protected block\n",
    "    # Find the best parameters for both the feature extraction and the classifier\n",
    "    grid_search = GridSearchCV(pipeline, parameters, n_jobs=-1, verbose=1)\n",
    "\n",
    "    print(\"Performing grid search...\")\n",
    "    print(\"pipeline:\", [name for name, _ in pipeline.steps])\n",
    "    print(\"parameters:\")\n",
    "    pprint(parameters)\n",
    "    t0 = time()\n",
    "    grid_search.fit(X_train, y_train)\n",
    "    print(\"done in %0.3fs\" % (time() - t0))\n",
    "    print()\n",
    "\n",
    "    print(\"Best score: %0.3f\" % grid_search.best_score_)\n",
    "    print(\"Best parameters set:\")\n",
    "    best_parameters = grid_search.best_estimator_.get_params()\n",
    "    for param_name in sorted(parameters.keys()):\n",
    "        print(\"\\t%s: %r\" % (param_name, best_parameters[param_name]))"
   ]
  },
  {
   "cell_type": "markdown",
   "id": "8523760a",
   "metadata": {},
   "source": [
    "Yep, performance is similar to SGD."
   ]
  },
  {
   "cell_type": "code",
   "execution_count": 72,
   "id": "dc54c565",
   "metadata": {},
   "outputs": [],
   "source": [
    "rf = Pipeline([\n",
    "    ('vect', CountVectorizer(max_df=0.5, min_df=0.03, ngram_range=(1,3), stop_words='english')),\n",
    "    ('tfidf', TfidfTransformer()),\n",
    "    ('rf', RandomForestClassifier(max_features='sqrt', min_samples_split=8, n_estimators=50, n_jobs=3))\n",
    "])"
   ]
  },
  {
   "cell_type": "code",
   "execution_count": 73,
   "id": "ef0f63ae",
   "metadata": {},
   "outputs": [
    {
     "data": {
      "text/html": [
       "<style>#sk-container-id-1 {color: black;background-color: white;}#sk-container-id-1 pre{padding: 0;}#sk-container-id-1 div.sk-toggleable {background-color: white;}#sk-container-id-1 label.sk-toggleable__label {cursor: pointer;display: block;width: 100%;margin-bottom: 0;padding: 0.3em;box-sizing: border-box;text-align: center;}#sk-container-id-1 label.sk-toggleable__label-arrow:before {content: \"▸\";float: left;margin-right: 0.25em;color: #696969;}#sk-container-id-1 label.sk-toggleable__label-arrow:hover:before {color: black;}#sk-container-id-1 div.sk-estimator:hover label.sk-toggleable__label-arrow:before {color: black;}#sk-container-id-1 div.sk-toggleable__content {max-height: 0;max-width: 0;overflow: hidden;text-align: left;background-color: #f0f8ff;}#sk-container-id-1 div.sk-toggleable__content pre {margin: 0.2em;color: black;border-radius: 0.25em;background-color: #f0f8ff;}#sk-container-id-1 input.sk-toggleable__control:checked~div.sk-toggleable__content {max-height: 200px;max-width: 100%;overflow: auto;}#sk-container-id-1 input.sk-toggleable__control:checked~label.sk-toggleable__label-arrow:before {content: \"▾\";}#sk-container-id-1 div.sk-estimator input.sk-toggleable__control:checked~label.sk-toggleable__label {background-color: #d4ebff;}#sk-container-id-1 div.sk-label input.sk-toggleable__control:checked~label.sk-toggleable__label {background-color: #d4ebff;}#sk-container-id-1 input.sk-hidden--visually {border: 0;clip: rect(1px 1px 1px 1px);clip: rect(1px, 1px, 1px, 1px);height: 1px;margin: -1px;overflow: hidden;padding: 0;position: absolute;width: 1px;}#sk-container-id-1 div.sk-estimator {font-family: monospace;background-color: #f0f8ff;border: 1px dotted black;border-radius: 0.25em;box-sizing: border-box;margin-bottom: 0.5em;}#sk-container-id-1 div.sk-estimator:hover {background-color: #d4ebff;}#sk-container-id-1 div.sk-parallel-item::after {content: \"\";width: 100%;border-bottom: 1px solid gray;flex-grow: 1;}#sk-container-id-1 div.sk-label:hover label.sk-toggleable__label {background-color: #d4ebff;}#sk-container-id-1 div.sk-serial::before {content: \"\";position: absolute;border-left: 1px solid gray;box-sizing: border-box;top: 0;bottom: 0;left: 50%;z-index: 0;}#sk-container-id-1 div.sk-serial {display: flex;flex-direction: column;align-items: center;background-color: white;padding-right: 0.2em;padding-left: 0.2em;position: relative;}#sk-container-id-1 div.sk-item {position: relative;z-index: 1;}#sk-container-id-1 div.sk-parallel {display: flex;align-items: stretch;justify-content: center;background-color: white;position: relative;}#sk-container-id-1 div.sk-item::before, #sk-container-id-1 div.sk-parallel-item::before {content: \"\";position: absolute;border-left: 1px solid gray;box-sizing: border-box;top: 0;bottom: 0;left: 50%;z-index: -1;}#sk-container-id-1 div.sk-parallel-item {display: flex;flex-direction: column;z-index: 1;position: relative;background-color: white;}#sk-container-id-1 div.sk-parallel-item:first-child::after {align-self: flex-end;width: 50%;}#sk-container-id-1 div.sk-parallel-item:last-child::after {align-self: flex-start;width: 50%;}#sk-container-id-1 div.sk-parallel-item:only-child::after {width: 0;}#sk-container-id-1 div.sk-dashed-wrapped {border: 1px dashed gray;margin: 0 0.4em 0.5em 0.4em;box-sizing: border-box;padding-bottom: 0.4em;background-color: white;}#sk-container-id-1 div.sk-label label {font-family: monospace;font-weight: bold;display: inline-block;line-height: 1.2em;}#sk-container-id-1 div.sk-label-container {text-align: center;}#sk-container-id-1 div.sk-container {/* jupyter's `normalize.less` sets `[hidden] { display: none; }` but bootstrap.min.css set `[hidden] { display: none !important; }` so we also need the `!important` here to be able to override the default hidden behavior on the sphinx rendered scikit-learn.org. See: https://github.com/scikit-learn/scikit-learn/issues/21755 */display: inline-block !important;position: relative;}#sk-container-id-1 div.sk-text-repr-fallback {display: none;}</style><div id=\"sk-container-id-1\" class=\"sk-top-container\"><div class=\"sk-text-repr-fallback\"><pre>Pipeline(steps=[(&#x27;vect&#x27;,\n",
       "                 CountVectorizer(max_df=0.5, min_df=0.03, ngram_range=(1, 3),\n",
       "                                 stop_words=&#x27;english&#x27;)),\n",
       "                (&#x27;tfidf&#x27;, TfidfTransformer()),\n",
       "                (&#x27;rf&#x27;,\n",
       "                 RandomForestClassifier(min_samples_split=8, n_estimators=50,\n",
       "                                        n_jobs=3))])</pre><b>In a Jupyter environment, please rerun this cell to show the HTML representation or trust the notebook. <br />On GitHub, the HTML representation is unable to render, please try loading this page with nbviewer.org.</b></div><div class=\"sk-container\" hidden><div class=\"sk-item sk-dashed-wrapped\"><div class=\"sk-label-container\"><div class=\"sk-label sk-toggleable\"><input class=\"sk-toggleable__control sk-hidden--visually\" id=\"sk-estimator-id-1\" type=\"checkbox\" ><label for=\"sk-estimator-id-1\" class=\"sk-toggleable__label sk-toggleable__label-arrow\">Pipeline</label><div class=\"sk-toggleable__content\"><pre>Pipeline(steps=[(&#x27;vect&#x27;,\n",
       "                 CountVectorizer(max_df=0.5, min_df=0.03, ngram_range=(1, 3),\n",
       "                                 stop_words=&#x27;english&#x27;)),\n",
       "                (&#x27;tfidf&#x27;, TfidfTransformer()),\n",
       "                (&#x27;rf&#x27;,\n",
       "                 RandomForestClassifier(min_samples_split=8, n_estimators=50,\n",
       "                                        n_jobs=3))])</pre></div></div></div><div class=\"sk-serial\"><div class=\"sk-item\"><div class=\"sk-estimator sk-toggleable\"><input class=\"sk-toggleable__control sk-hidden--visually\" id=\"sk-estimator-id-2\" type=\"checkbox\" ><label for=\"sk-estimator-id-2\" class=\"sk-toggleable__label sk-toggleable__label-arrow\">CountVectorizer</label><div class=\"sk-toggleable__content\"><pre>CountVectorizer(max_df=0.5, min_df=0.03, ngram_range=(1, 3),\n",
       "                stop_words=&#x27;english&#x27;)</pre></div></div></div><div class=\"sk-item\"><div class=\"sk-estimator sk-toggleable\"><input class=\"sk-toggleable__control sk-hidden--visually\" id=\"sk-estimator-id-3\" type=\"checkbox\" ><label for=\"sk-estimator-id-3\" class=\"sk-toggleable__label sk-toggleable__label-arrow\">TfidfTransformer</label><div class=\"sk-toggleable__content\"><pre>TfidfTransformer()</pre></div></div></div><div class=\"sk-item\"><div class=\"sk-estimator sk-toggleable\"><input class=\"sk-toggleable__control sk-hidden--visually\" id=\"sk-estimator-id-4\" type=\"checkbox\" ><label for=\"sk-estimator-id-4\" class=\"sk-toggleable__label sk-toggleable__label-arrow\">RandomForestClassifier</label><div class=\"sk-toggleable__content\"><pre>RandomForestClassifier(min_samples_split=8, n_estimators=50, n_jobs=3)</pre></div></div></div></div></div></div></div>"
      ],
      "text/plain": [
       "Pipeline(steps=[('vect',\n",
       "                 CountVectorizer(max_df=0.5, min_df=0.03, ngram_range=(1, 3),\n",
       "                                 stop_words='english')),\n",
       "                ('tfidf', TfidfTransformer()),\n",
       "                ('rf',\n",
       "                 RandomForestClassifier(min_samples_split=8, n_estimators=50,\n",
       "                                        n_jobs=3))])"
      ]
     },
     "execution_count": 73,
     "metadata": {},
     "output_type": "execute_result"
    }
   ],
   "source": [
    "rf.fit(X_train, y_train)"
   ]
  },
  {
   "cell_type": "code",
   "execution_count": 77,
   "id": "b8402ad0",
   "metadata": {},
   "outputs": [],
   "source": [
    "y_pred = rf.predict(X_test)"
   ]
  },
  {
   "cell_type": "code",
   "execution_count": 78,
   "id": "cfc1c9b2",
   "metadata": {},
   "outputs": [
    {
     "data": {
      "text/plain": [
       "0.5979381443298969"
      ]
     },
     "execution_count": 78,
     "metadata": {},
     "output_type": "execute_result"
    }
   ],
   "source": [
    "rf.score(X_test, y_test)"
   ]
  },
  {
   "cell_type": "markdown",
   "id": "daae3890",
   "metadata": {},
   "source": [
    "Well, SGD outperforms RandomForest in this case."
   ]
  },
  {
   "cell_type": "code",
   "execution_count": null,
   "id": "3a497d90",
   "metadata": {},
   "outputs": [],
   "source": []
  }
 ],
 "metadata": {
  "kernelspec": {
   "display_name": "Python 3 (ipykernel)",
   "language": "python",
   "name": "python3"
  },
  "language_info": {
   "codemirror_mode": {
    "name": "ipython",
    "version": 3
   },
   "file_extension": ".py",
   "mimetype": "text/x-python",
   "name": "python",
   "nbconvert_exporter": "python",
   "pygments_lexer": "ipython3",
   "version": "3.10.8"
  }
 },
 "nbformat": 4,
 "nbformat_minor": 5
}
