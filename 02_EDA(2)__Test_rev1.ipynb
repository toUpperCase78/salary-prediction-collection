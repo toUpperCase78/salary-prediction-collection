{
 "cells": [
  {
   "cell_type": "markdown",
   "id": "333664a9",
   "metadata": {},
   "source": [
    "# 02. Trouble404/kaggle-Job-Salary-Prediction\n",
    "\n",
    "## Exploratory Data Analysis | Series 2 - Test_rev1.csv"
   ]
  },
  {
   "cell_type": "code",
   "execution_count": 1,
   "id": "5871bba6",
   "metadata": {},
   "outputs": [],
   "source": [
    "import numpy as np\n",
    "import pandas as pd\n",
    "import matplotlib.pyplot as plt\n",
    "import seaborn as sns\n",
    "import warnings\n",
    "warnings.filterwarnings('ignore')\n",
    "salary_data = pd.read_csv('02_Test_rev1.csv')"
   ]
  },
  {
   "cell_type": "code",
   "execution_count": 2,
   "id": "bb56a4a1",
   "metadata": {},
   "outputs": [
    {
     "data": {
      "text/html": [
       "<div>\n",
       "<style scoped>\n",
       "    .dataframe tbody tr th:only-of-type {\n",
       "        vertical-align: middle;\n",
       "    }\n",
       "\n",
       "    .dataframe tbody tr th {\n",
       "        vertical-align: top;\n",
       "    }\n",
       "\n",
       "    .dataframe thead th {\n",
       "        text-align: right;\n",
       "    }\n",
       "</style>\n",
       "<table border=\"1\" class=\"dataframe\">\n",
       "  <thead>\n",
       "    <tr style=\"text-align: right;\">\n",
       "      <th></th>\n",
       "      <th>Id</th>\n",
       "      <th>Title</th>\n",
       "      <th>FullDescription</th>\n",
       "      <th>LocationRaw</th>\n",
       "      <th>LocationNormalized</th>\n",
       "      <th>ContractType</th>\n",
       "      <th>ContractTime</th>\n",
       "      <th>Company</th>\n",
       "      <th>Category</th>\n",
       "      <th>SourceName</th>\n",
       "    </tr>\n",
       "  </thead>\n",
       "  <tbody>\n",
       "    <tr>\n",
       "      <th>0</th>\n",
       "      <td>11888454</td>\n",
       "      <td>Business Development Manager</td>\n",
       "      <td>The Company: Our client is a national training...</td>\n",
       "      <td>Tyne Wear, North East</td>\n",
       "      <td>Newcastle Upon Tyne</td>\n",
       "      <td>NaN</td>\n",
       "      <td>permanent</td>\n",
       "      <td>Asset Appointments</td>\n",
       "      <td>Teaching Jobs</td>\n",
       "      <td>cv-library.co.uk</td>\n",
       "    </tr>\n",
       "    <tr>\n",
       "      <th>1</th>\n",
       "      <td>11988350</td>\n",
       "      <td>Internal Account Manager</td>\n",
       "      <td>The Company: Founded in **** our client is a U...</td>\n",
       "      <td>Tyne and Wear, North East</td>\n",
       "      <td>Newcastle Upon Tyne</td>\n",
       "      <td>NaN</td>\n",
       "      <td>permanent</td>\n",
       "      <td>Asset Appointments</td>\n",
       "      <td>Consultancy Jobs</td>\n",
       "      <td>cv-library.co.uk</td>\n",
       "    </tr>\n",
       "    <tr>\n",
       "      <th>2</th>\n",
       "      <td>12612558</td>\n",
       "      <td>Engineering Systems Analysts</td>\n",
       "      <td>Engineering Systems Analysts Surrey ****K Loca...</td>\n",
       "      <td>Surrey, South East, South East</td>\n",
       "      <td>Surrey</td>\n",
       "      <td>NaN</td>\n",
       "      <td>permanent</td>\n",
       "      <td>Gregory Martin International</td>\n",
       "      <td>Engineering Jobs</td>\n",
       "      <td>cv-library.co.uk</td>\n",
       "    </tr>\n",
       "    <tr>\n",
       "      <th>3</th>\n",
       "      <td>12613014</td>\n",
       "      <td>CIS Systems Engineering Consultant</td>\n",
       "      <td>CIS Systems Engineering Consultant Bristol  So...</td>\n",
       "      <td>Bristol, South West, South West</td>\n",
       "      <td>Bristol</td>\n",
       "      <td>NaN</td>\n",
       "      <td>permanent</td>\n",
       "      <td>Gregory Martin International</td>\n",
       "      <td>Engineering Jobs</td>\n",
       "      <td>cv-library.co.uk</td>\n",
       "    </tr>\n",
       "    <tr>\n",
       "      <th>4</th>\n",
       "      <td>22454872</td>\n",
       "      <td>CNC Miller / Programmer Fanac</td>\n",
       "      <td>CNC Miller / Programmer Fanac Fleet, Hampshire...</td>\n",
       "      <td>Fleet, Hampshire</td>\n",
       "      <td>Fleet</td>\n",
       "      <td>NaN</td>\n",
       "      <td>permanent</td>\n",
       "      <td>Gregory Martin International</td>\n",
       "      <td>Manufacturing Jobs</td>\n",
       "      <td>cv-library.co.uk</td>\n",
       "    </tr>\n",
       "  </tbody>\n",
       "</table>\n",
       "</div>"
      ],
      "text/plain": [
       "         Id                               Title  \\\n",
       "0  11888454        Business Development Manager   \n",
       "1  11988350            Internal Account Manager   \n",
       "2  12612558        Engineering Systems Analysts   \n",
       "3  12613014  CIS Systems Engineering Consultant   \n",
       "4  22454872       CNC Miller / Programmer Fanac   \n",
       "\n",
       "                                     FullDescription  \\\n",
       "0  The Company: Our client is a national training...   \n",
       "1  The Company: Founded in **** our client is a U...   \n",
       "2  Engineering Systems Analysts Surrey ****K Loca...   \n",
       "3  CIS Systems Engineering Consultant Bristol  So...   \n",
       "4  CNC Miller / Programmer Fanac Fleet, Hampshire...   \n",
       "\n",
       "                       LocationRaw   LocationNormalized ContractType  \\\n",
       "0            Tyne Wear, North East  Newcastle Upon Tyne          NaN   \n",
       "1        Tyne and Wear, North East  Newcastle Upon Tyne          NaN   \n",
       "2   Surrey, South East, South East               Surrey          NaN   \n",
       "3  Bristol, South West, South West              Bristol          NaN   \n",
       "4                 Fleet, Hampshire                Fleet          NaN   \n",
       "\n",
       "  ContractTime                       Company            Category  \\\n",
       "0    permanent            Asset Appointments       Teaching Jobs   \n",
       "1    permanent            Asset Appointments    Consultancy Jobs   \n",
       "2    permanent  Gregory Martin International    Engineering Jobs   \n",
       "3    permanent  Gregory Martin International    Engineering Jobs   \n",
       "4    permanent  Gregory Martin International  Manufacturing Jobs   \n",
       "\n",
       "         SourceName  \n",
       "0  cv-library.co.uk  \n",
       "1  cv-library.co.uk  \n",
       "2  cv-library.co.uk  \n",
       "3  cv-library.co.uk  \n",
       "4  cv-library.co.uk  "
      ]
     },
     "execution_count": 2,
     "metadata": {},
     "output_type": "execute_result"
    }
   ],
   "source": [
    "# First 5 rows of the dataset\n",
    "salary_data.head()"
   ]
  },
  {
   "cell_type": "code",
   "execution_count": 3,
   "id": "79dcb5a9",
   "metadata": {},
   "outputs": [
    {
     "name": "stdout",
     "output_type": "stream",
     "text": [
      "<class 'pandas.core.frame.DataFrame'>\n",
      "RangeIndex: 122463 entries, 0 to 122462\n",
      "Data columns (total 10 columns):\n",
      " #   Column              Non-Null Count   Dtype \n",
      "---  ------              --------------   ----- \n",
      " 0   Id                  122463 non-null  int64 \n",
      " 1   Title               122463 non-null  object\n",
      " 2   FullDescription     122463 non-null  object\n",
      " 3   LocationRaw         122463 non-null  object\n",
      " 4   LocationNormalized  122463 non-null  object\n",
      " 5   ContractType        33013 non-null   object\n",
      " 6   ContractTime        90702 non-null   object\n",
      " 7   Company             106202 non-null  object\n",
      " 8   Category            122463 non-null  object\n",
      " 9   SourceName          122463 non-null  object\n",
      "dtypes: int64(1), object(9)\n",
      "memory usage: 9.3+ MB\n"
     ]
    }
   ],
   "source": [
    "# All columns, their counts and data types\n",
    "salary_data.info()"
   ]
  },
  {
   "cell_type": "markdown",
   "id": "98b3f249",
   "metadata": {},
   "source": [
    "When compared to Train_rev1.csv, this dataset does not contain `SalaryRaw` & `SalaryNormalized` columns."
   ]
  },
  {
   "cell_type": "code",
   "execution_count": 4,
   "id": "6dc906c4",
   "metadata": {},
   "outputs": [
    {
     "name": "stdout",
     "output_type": "stream",
     "text": [
      "Id                                                             11888454\n",
      "Title                                      Business Development Manager\n",
      "FullDescription       The Company: Our client is a national training...\n",
      "LocationRaw                                       Tyne Wear, North East\n",
      "LocationNormalized                                  Newcastle Upon Tyne\n",
      "ContractType                                                        NaN\n",
      "ContractTime                                                  permanent\n",
      "Company                                              Asset Appointments\n",
      "Category                                                  Teaching Jobs\n",
      "SourceName                                             cv-library.co.uk\n",
      "Name: 0, dtype: object\n",
      "The Company: Our client is a national training provider based in Gateshead, delivering learning programmes across many regions of England. Founded in **** they have developed a firm foundation that underpins their core offer to employers and individuals that is we work with you to fully understand your training and development needs . Their expertise enables them to deliver a range of learning programmes from NVQ certificates and diplomas to short courses that are designed to upskill individuals, including English and maths. They contract with the Skills Funding Agency to provide Workplace and Classroom based learning programmes, Apprenticeships and courses for individuals who are currently seeking employment or alternative employment. The Role:  Our client is looking for an exceptional business development person who could hit the ground running and have a possible client base to bring with them.  Selling to businesses local and nationally NVQ and apprenticeship opportunities in Business Admin, Customer Service, Health and Social Care, Plant and Construction, as well as commercial. The Individual:  Extremely motivated.  Excellent organisation skills.  Excellent knowledge of the delivering NVQ s and Apprenticeships. Additional: Mobile phone Laptop 20 days holiday and **** public holidays ****p per mile allowance **** per month car allowance Excellent bonus structure\n"
     ]
    }
   ],
   "source": [
    "# Example row\n",
    "print(salary_data.iloc[0])\n",
    "print(salary_data.loc[0,'FullDescription'])"
   ]
  },
  {
   "cell_type": "markdown",
   "id": "ef326530",
   "metadata": {},
   "source": [
    "## Column Analysis"
   ]
  },
  {
   "cell_type": "code",
   "execution_count": 5,
   "id": "73c693c9",
   "metadata": {},
   "outputs": [
    {
     "name": "stdout",
     "output_type": "stream",
     "text": [
      "78133 different titles available\n",
      "\n",
      "#### MOST FREQUENT TITLES ####\n",
      "Business Development Manager    410\n",
      "Project Manager                 350\n",
      "Management Accountant           327\n",
      "Sales Executive                 281\n",
      "Account Manager                 275\n",
      "Administrator                   235\n",
      "Mechanical Design Engineer      228\n",
      "Recruitment Consultant          227\n",
      "Assistant Manager               226\n",
      "Finance Manager                 223\n",
      "Credit Controller               209\n",
      "Cleaner                         206\n",
      "Accounts Assistant              206\n",
      "Financial Controller            195\n",
      "Business Analyst                184\n",
      "Store Manager                   176\n",
      "Quality Engineer                173\n",
      "Marketing Manager               163\n",
      "Sales Manager                   149\n",
      "Support Worker                  146\n",
      "Name: Title, dtype: int64\n"
     ]
    }
   ],
   "source": [
    "print(salary_data['Title'].nunique(), \"different titles available\")\n",
    "print(\"\\n#### MOST FREQUENT TITLES ####\")\n",
    "print(salary_data['Title'].value_counts()[:20])"
   ]
  },
  {
   "cell_type": "code",
   "execution_count": 6,
   "id": "105eed11",
   "metadata": {},
   "outputs": [
    {
     "name": "stdout",
     "output_type": "stream",
     "text": [
      "#### THE LONGEST JOB DESCRIPTIONS ####\n",
      "75651     12377\n",
      "78025     11800\n",
      "83589     11065\n",
      "97262     10095\n",
      "44829      9752\n",
      "44832      9680\n",
      "103270     9662\n",
      "16469      9612\n",
      "62527      9466\n",
      "57853      9198\n",
      "14030      9148\n",
      "14032      8972\n",
      "86415      8874\n",
      "45307      8775\n",
      "89925      8750\n",
      "84619      8673\n",
      "71672      8642\n",
      "92403      8611\n",
      "90633      8450\n",
      "57999      8431\n",
      "Name: FullDescriptionLength, dtype: int64\n"
     ]
    }
   ],
   "source": [
    "salary_data['FullDescriptionLength'] = salary_data['FullDescription'].apply(lambda x: len(x))\n",
    "print(\"#### THE LONGEST JOB DESCRIPTIONS ####\")\n",
    "print(salary_data['FullDescriptionLength'].sort_values(ascending=False)[:20])"
   ]
  },
  {
   "cell_type": "code",
   "execution_count": 7,
   "id": "269aae28",
   "metadata": {},
   "outputs": [
    {
     "name": "stdout",
     "output_type": "stream",
     "text": [
      "13994 unique raw locations\n",
      "\n",
      "#### MOST FREQUENT LOCATIONS ####\n",
      "London                                             8049\n",
      "London South East                                  4208\n",
      "UK                                                 2816\n",
      "City London South East                             1423\n",
      "City of London                                     1153\n",
      "West Midlands                                      1115\n",
      "City of London - London                            1106\n",
      "Birmingham                                         1026\n",
      "Manchester Lancashire North West                    918\n",
      "Central London                                      875\n",
      "Manchester                                          837\n",
      "Belfast                                             832\n",
      "Greater London                                      744\n",
      "Birmingham West Midlands (County) West Midlands     717\n",
      "Leeds West Yorkshire Yorkshire                      691\n",
      "Surrey                                              678\n",
      "South East                                          675\n",
      "Bristol Avon South West                             617\n",
      "Bristol                                             588\n",
      "Leeds                                               570\n",
      "Name: LocationRaw, dtype: int64\n"
     ]
    }
   ],
   "source": [
    "print(salary_data['LocationRaw'].nunique(), \"unique raw locations\")\n",
    "print(\"\\n#### MOST FREQUENT LOCATIONS ####\")\n",
    "print(salary_data['LocationRaw'].value_counts()[:20])"
   ]
  },
  {
   "cell_type": "code",
   "execution_count": 8,
   "id": "01e9a0f1",
   "metadata": {},
   "outputs": [
    {
     "name": "stdout",
     "output_type": "stream",
     "text": [
      "2142 unique normalized locations\n",
      "\n",
      "#### MOST FREQUENT LOCATIONS (NORMALIZED) ####\n",
      "UK                   20633\n",
      "London               15569\n",
      "South East London     5714\n",
      "The City              3324\n",
      "Manchester            1796\n",
      "Leeds                 1684\n",
      "Birmingham            1619\n",
      "Central London        1347\n",
      "Surrey                1264\n",
      "West Midlands         1236\n",
      "Reading               1052\n",
      "Bristol               1039\n",
      "Sheffield              933\n",
      "Nottingham             865\n",
      "Hampshire              845\n",
      "Belfast                844\n",
      "Aberdeen               797\n",
      "East Sheen             794\n",
      "Berkshire              786\n",
      "Milton Keynes          743\n",
      "Name: LocationNormalized, dtype: int64\n"
     ]
    }
   ],
   "source": [
    "print(salary_data['LocationNormalized'].nunique(), \"unique normalized locations\")\n",
    "print(\"\\n#### MOST FREQUENT LOCATIONS (NORMALIZED) ####\")\n",
    "print(salary_data['LocationNormalized'].value_counts()[:20])"
   ]
  },
  {
   "cell_type": "code",
   "execution_count": 9,
   "id": "375390d6",
   "metadata": {},
   "outputs": [
    {
     "name": "stdout",
     "output_type": "stream",
     "text": [
      "89450 contract types are null!\n",
      "\n",
      "#### CONTRACT TYPES ####\n",
      "full_time    29078\n",
      "part_time     3935\n",
      "Name: ContractType, dtype: int64\n"
     ]
    }
   ],
   "source": [
    "print(salary_data['ContractType'].isnull().sum(), \"contract types are null!\")\n",
    "print(\"\\n#### CONTRACT TYPES ####\")\n",
    "print(salary_data['ContractType'].value_counts())"
   ]
  },
  {
   "cell_type": "code",
   "execution_count": 10,
   "id": "b7d2f78b",
   "metadata": {},
   "outputs": [
    {
     "name": "stdout",
     "output_type": "stream",
     "text": [
      "31761 contract times are null!\n",
      "\n",
      "#### CONTRACT TIMES ####\n",
      "permanent    75523\n",
      "contract     15179\n",
      "Name: ContractTime, dtype: int64\n"
     ]
    }
   ],
   "source": [
    "print(salary_data['ContractTime'].isnull().sum(), \"contract times are null!\")\n",
    "print(\"\\n#### CONTRACT TIMES ####\")\n",
    "print(salary_data['ContractTime'].value_counts())"
   ]
  },
  {
   "cell_type": "code",
   "execution_count": 11,
   "id": "8661cd9e",
   "metadata": {},
   "outputs": [
    {
     "name": "stdout",
     "output_type": "stream",
     "text": [
      "15307 unique company names\n",
      "16261 company names are null!\n",
      "\n",
      "#### MOST ENCOUNTERED COMPANIES ####\n",
      "UKStaffsearch                  2509\n",
      "CVbrowser                      1479\n",
      "London4Jobs                    1194\n",
      "Hays                            976\n",
      "JAM Recruitment Ltd             523\n",
      "Office Angels                   479\n",
      "ARRAY                           472\n",
      "Jobsite Jobs                    453\n",
      "JOBG8                           451\n",
      "Matchtech Group plc.            421\n",
      "Perfect Placement               408\n",
      "Penguin Recruitment             388\n",
      "Randstad                        365\n",
      "Michael Page Finance            343\n",
      "Adecco                          328\n",
      "BMS Sales Specialists LLP       286\n",
      "Adecco Group                    278\n",
      "Michael Page Sales              256\n",
      "COREcruitment International     250\n",
      "Capita Resourcing               244\n",
      "Name: Company, dtype: int64\n"
     ]
    }
   ],
   "source": [
    "print(salary_data['Company'].nunique(), \"unique company names\")\n",
    "print(salary_data['Company'].isnull().sum(), \"company names are null!\")\n",
    "print(\"\\n#### MOST ENCOUNTERED COMPANIES ####\")\n",
    "print(salary_data['Company'].value_counts()[:20])"
   ]
  },
  {
   "cell_type": "code",
   "execution_count": 12,
   "id": "defdd69c",
   "metadata": {},
   "outputs": [
    {
     "name": "stdout",
     "output_type": "stream",
     "text": [
      "#### ALL JOB CATEGORIES ####\n",
      "IT Jobs                             19408\n",
      "Engineering Jobs                    12700\n",
      "Accounting & Finance Jobs           10886\n",
      "Healthcare & Nursing Jobs           10603\n",
      "Other/General Jobs                   8504\n",
      "Sales Jobs                           8354\n",
      "Teaching Jobs                        6417\n",
      "Hospitality & Catering Jobs          5633\n",
      "PR, Advertising & Marketing Jobs     4434\n",
      "Trade & Construction Jobs            4361\n",
      "HR & Recruitment Jobs                3883\n",
      "Admin Jobs                           3756\n",
      "Retail Jobs                          3368\n",
      "Customer Services Jobs               3104\n",
      "Legal Jobs                           1960\n",
      "Logistics & Warehouse Jobs           1896\n",
      "Manufacturing Jobs                   1800\n",
      "Social work Jobs                     1766\n",
      "Consultancy Jobs                     1693\n",
      "Travel Jobs                          1566\n",
      "Scientific & QA Jobs                 1237\n",
      "Charity & Voluntary Jobs             1116\n",
      "Energy, Oil & Gas Jobs               1045\n",
      "Creative & Design Jobs                812\n",
      "Maintenance Jobs                      764\n",
      "Graduate Jobs                         669\n",
      "Property Jobs                         518\n",
      "Domestic help & Cleaning Jobs         136\n",
      "Part time Jobs                         74\n",
      "Name: Category, dtype: int64\n"
     ]
    }
   ],
   "source": [
    "print(\"#### ALL JOB CATEGORIES ####\")\n",
    "print(salary_data['Category'].value_counts())"
   ]
  },
  {
   "cell_type": "code",
   "execution_count": 13,
   "id": "2900b9ef",
   "metadata": {},
   "outputs": [
    {
     "name": "stdout",
     "output_type": "stream",
     "text": [
      "168 unique source names\n",
      "\n",
      "#### MOST ENCOUNTERED SOURCE NAMES ####\n",
      "totaljobs.com                     23910\n",
      "cv-library.co.uk                  17194\n",
      "Jobcentre Plus                     8928\n",
      "jobsite.co.uk                      6142\n",
      "cwjobs.co.uk                       3441\n",
      "fish4.co.uk                        3142\n",
      "MyUkJobs                           2719\n",
      "jobs.guardian.co.uk                2527\n",
      "ukstaffsearch.com                  2509\n",
      "technojobs.co.uk                   2359\n",
      "staffnurse.com                     2273\n",
      "jobserve.com                       2120\n",
      "caterer.com                        2096\n",
      "careworx.co.uk                     2094\n",
      "jobs.catererandhotelkeeper.com     1823\n",
      "hays.co.uk                         1554\n",
      "cvbrowser.com                      1479\n",
      "gojobsearch.co.uk                  1410\n",
      "theitjobboard.co.uk                1318\n",
      "retailchoice.com                   1303\n",
      "Name: SourceName, dtype: int64\n"
     ]
    }
   ],
   "source": [
    "print(salary_data['SourceName'].nunique(), \"unique source names\")\n",
    "print(\"\\n#### MOST ENCOUNTERED SOURCE NAMES ####\")\n",
    "print(salary_data['SourceName'].value_counts()[:20])"
   ]
  }
 ],
 "metadata": {
  "kernelspec": {
   "display_name": "Python 3 (ipykernel)",
   "language": "python",
   "name": "python3"
  },
  "language_info": {
   "codemirror_mode": {
    "name": "ipython",
    "version": 3
   },
   "file_extension": ".py",
   "mimetype": "text/x-python",
   "name": "python",
   "nbconvert_exporter": "python",
   "pygments_lexer": "ipython3",
   "version": "3.10.8"
  }
 },
 "nbformat": 4,
 "nbformat_minor": 5
}
