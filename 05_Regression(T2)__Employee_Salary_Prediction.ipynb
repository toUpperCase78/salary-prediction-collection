{
 "cells": [
  {
   "cell_type": "markdown",
   "id": "5669a614",
   "metadata": {},
   "source": [
    "# 05. DheerajKumar97/Employee-Salary-Prediction----python--ML\n",
    "\n",
    "## Predictions with ML Regression Models (T2) - train.csv"
   ]
  },
  {
   "cell_type": "code",
   "execution_count": 1,
   "id": "6a85fdc1",
   "metadata": {},
   "outputs": [],
   "source": [
    "import numpy as np\n",
    "import pandas as pd \n",
    "import matplotlib.pyplot as plt \n",
    "import seaborn as sns\n",
    "import warnings\n",
    "import time\n",
    "warnings.filterwarnings('ignore')\n",
    "from sklearn.linear_model import LinearRegression, Lasso, Ridge\n",
    "from sklearn.tree import DecisionTreeRegressor\n",
    "from sklearn.ensemble import RandomForestRegressor, GradientBoostingRegressor\n",
    "from sklearn.neighbors import KNeighborsRegressor\n",
    "from sklearn.svm import SVR\n",
    "from sklearn.neural_network import MLPRegressor\n",
    "import xgboost\n",
    "from sklearn.model_selection import train_test_split, cross_val_score, cross_validate\n",
    "from sklearn.preprocessing import OneHotEncoder, PolynomialFeatures, StandardScaler, MinMaxScaler\n",
    "from sklearn.metrics import mean_squared_error, mean_absolute_error, r2_score, get_scorer_names\n",
    "df = pd.read_csv('05_train.csv')"
   ]
  },
  {
   "cell_type": "code",
   "execution_count": 2,
   "id": "d868dd09",
   "metadata": {},
   "outputs": [
    {
     "data": {
      "text/html": [
       "<div>\n",
       "<style scoped>\n",
       "    .dataframe tbody tr th:only-of-type {\n",
       "        vertical-align: middle;\n",
       "    }\n",
       "\n",
       "    .dataframe tbody tr th {\n",
       "        vertical-align: top;\n",
       "    }\n",
       "\n",
       "    .dataframe thead th {\n",
       "        text-align: right;\n",
       "    }\n",
       "</style>\n",
       "<table border=\"1\" class=\"dataframe\">\n",
       "  <thead>\n",
       "    <tr style=\"text-align: right;\">\n",
       "      <th></th>\n",
       "      <th>User_ID</th>\n",
       "      <th>Product_ID</th>\n",
       "      <th>Gender</th>\n",
       "      <th>Age</th>\n",
       "      <th>Occupation</th>\n",
       "      <th>City_Category</th>\n",
       "      <th>Stay_In_Current_City_Years</th>\n",
       "      <th>Marital_Status</th>\n",
       "      <th>Product_Category_1</th>\n",
       "      <th>Product_Category_2</th>\n",
       "      <th>Product_Category_3</th>\n",
       "      <th>Purchase</th>\n",
       "    </tr>\n",
       "  </thead>\n",
       "  <tbody>\n",
       "    <tr>\n",
       "      <th>0</th>\n",
       "      <td>1000001</td>\n",
       "      <td>P00069042</td>\n",
       "      <td>F</td>\n",
       "      <td>0-17</td>\n",
       "      <td>10</td>\n",
       "      <td>A</td>\n",
       "      <td>2</td>\n",
       "      <td>0</td>\n",
       "      <td>3</td>\n",
       "      <td>NaN</td>\n",
       "      <td>NaN</td>\n",
       "      <td>8370</td>\n",
       "    </tr>\n",
       "    <tr>\n",
       "      <th>1</th>\n",
       "      <td>1000001</td>\n",
       "      <td>P00248942</td>\n",
       "      <td>F</td>\n",
       "      <td>0-17</td>\n",
       "      <td>10</td>\n",
       "      <td>A</td>\n",
       "      <td>2</td>\n",
       "      <td>0</td>\n",
       "      <td>1</td>\n",
       "      <td>6.0</td>\n",
       "      <td>14.0</td>\n",
       "      <td>15200</td>\n",
       "    </tr>\n",
       "    <tr>\n",
       "      <th>2</th>\n",
       "      <td>1000001</td>\n",
       "      <td>P00087842</td>\n",
       "      <td>F</td>\n",
       "      <td>0-17</td>\n",
       "      <td>10</td>\n",
       "      <td>A</td>\n",
       "      <td>2</td>\n",
       "      <td>0</td>\n",
       "      <td>12</td>\n",
       "      <td>NaN</td>\n",
       "      <td>NaN</td>\n",
       "      <td>1422</td>\n",
       "    </tr>\n",
       "    <tr>\n",
       "      <th>3</th>\n",
       "      <td>1000001</td>\n",
       "      <td>P00085442</td>\n",
       "      <td>F</td>\n",
       "      <td>0-17</td>\n",
       "      <td>10</td>\n",
       "      <td>A</td>\n",
       "      <td>2</td>\n",
       "      <td>0</td>\n",
       "      <td>12</td>\n",
       "      <td>14.0</td>\n",
       "      <td>NaN</td>\n",
       "      <td>1057</td>\n",
       "    </tr>\n",
       "    <tr>\n",
       "      <th>4</th>\n",
       "      <td>1000002</td>\n",
       "      <td>P00285442</td>\n",
       "      <td>M</td>\n",
       "      <td>55+</td>\n",
       "      <td>16</td>\n",
       "      <td>C</td>\n",
       "      <td>4+</td>\n",
       "      <td>0</td>\n",
       "      <td>8</td>\n",
       "      <td>NaN</td>\n",
       "      <td>NaN</td>\n",
       "      <td>7969</td>\n",
       "    </tr>\n",
       "  </tbody>\n",
       "</table>\n",
       "</div>"
      ],
      "text/plain": [
       "   User_ID Product_ID Gender   Age  Occupation City_Category  \\\n",
       "0  1000001  P00069042      F  0-17          10             A   \n",
       "1  1000001  P00248942      F  0-17          10             A   \n",
       "2  1000001  P00087842      F  0-17          10             A   \n",
       "3  1000001  P00085442      F  0-17          10             A   \n",
       "4  1000002  P00285442      M   55+          16             C   \n",
       "\n",
       "  Stay_In_Current_City_Years  Marital_Status  Product_Category_1  \\\n",
       "0                          2               0                   3   \n",
       "1                          2               0                   1   \n",
       "2                          2               0                  12   \n",
       "3                          2               0                  12   \n",
       "4                         4+               0                   8   \n",
       "\n",
       "   Product_Category_2  Product_Category_3  Purchase  \n",
       "0                 NaN                 NaN      8370  \n",
       "1                 6.0                14.0     15200  \n",
       "2                 NaN                 NaN      1422  \n",
       "3                14.0                 NaN      1057  \n",
       "4                 NaN                 NaN      7969  "
      ]
     },
     "execution_count": 2,
     "metadata": {},
     "output_type": "execute_result"
    }
   ],
   "source": [
    "# First 5 rows of the dataset\n",
    "df.head()"
   ]
  },
  {
   "cell_type": "code",
   "execution_count": 3,
   "id": "60296a76",
   "metadata": {},
   "outputs": [
    {
     "data": {
      "text/html": [
       "<div>\n",
       "<style scoped>\n",
       "    .dataframe tbody tr th:only-of-type {\n",
       "        vertical-align: middle;\n",
       "    }\n",
       "\n",
       "    .dataframe tbody tr th {\n",
       "        vertical-align: top;\n",
       "    }\n",
       "\n",
       "    .dataframe thead th {\n",
       "        text-align: right;\n",
       "    }\n",
       "</style>\n",
       "<table border=\"1\" class=\"dataframe\">\n",
       "  <thead>\n",
       "    <tr style=\"text-align: right;\">\n",
       "      <th></th>\n",
       "      <th>User_ID</th>\n",
       "      <th>Product_ID</th>\n",
       "      <th>Gender</th>\n",
       "      <th>Age</th>\n",
       "      <th>Occupation</th>\n",
       "      <th>City_Category</th>\n",
       "      <th>Stay_In_Current_City_Years</th>\n",
       "      <th>Marital_Status</th>\n",
       "      <th>Product_Category_1</th>\n",
       "      <th>Product_Category_2</th>\n",
       "      <th>Product_Category_3</th>\n",
       "      <th>Purchase</th>\n",
       "    </tr>\n",
       "  </thead>\n",
       "  <tbody>\n",
       "    <tr>\n",
       "      <th>550063</th>\n",
       "      <td>1006033</td>\n",
       "      <td>P00372445</td>\n",
       "      <td>M</td>\n",
       "      <td>51-55</td>\n",
       "      <td>13</td>\n",
       "      <td>B</td>\n",
       "      <td>1</td>\n",
       "      <td>1</td>\n",
       "      <td>20</td>\n",
       "      <td>NaN</td>\n",
       "      <td>NaN</td>\n",
       "      <td>368</td>\n",
       "    </tr>\n",
       "    <tr>\n",
       "      <th>550064</th>\n",
       "      <td>1006035</td>\n",
       "      <td>P00375436</td>\n",
       "      <td>F</td>\n",
       "      <td>26-35</td>\n",
       "      <td>1</td>\n",
       "      <td>C</td>\n",
       "      <td>3</td>\n",
       "      <td>0</td>\n",
       "      <td>20</td>\n",
       "      <td>NaN</td>\n",
       "      <td>NaN</td>\n",
       "      <td>371</td>\n",
       "    </tr>\n",
       "    <tr>\n",
       "      <th>550065</th>\n",
       "      <td>1006036</td>\n",
       "      <td>P00375436</td>\n",
       "      <td>F</td>\n",
       "      <td>26-35</td>\n",
       "      <td>15</td>\n",
       "      <td>B</td>\n",
       "      <td>4+</td>\n",
       "      <td>1</td>\n",
       "      <td>20</td>\n",
       "      <td>NaN</td>\n",
       "      <td>NaN</td>\n",
       "      <td>137</td>\n",
       "    </tr>\n",
       "    <tr>\n",
       "      <th>550066</th>\n",
       "      <td>1006038</td>\n",
       "      <td>P00375436</td>\n",
       "      <td>F</td>\n",
       "      <td>55+</td>\n",
       "      <td>1</td>\n",
       "      <td>C</td>\n",
       "      <td>2</td>\n",
       "      <td>0</td>\n",
       "      <td>20</td>\n",
       "      <td>NaN</td>\n",
       "      <td>NaN</td>\n",
       "      <td>365</td>\n",
       "    </tr>\n",
       "    <tr>\n",
       "      <th>550067</th>\n",
       "      <td>1006039</td>\n",
       "      <td>P00371644</td>\n",
       "      <td>F</td>\n",
       "      <td>46-50</td>\n",
       "      <td>0</td>\n",
       "      <td>B</td>\n",
       "      <td>4+</td>\n",
       "      <td>1</td>\n",
       "      <td>20</td>\n",
       "      <td>NaN</td>\n",
       "      <td>NaN</td>\n",
       "      <td>490</td>\n",
       "    </tr>\n",
       "  </tbody>\n",
       "</table>\n",
       "</div>"
      ],
      "text/plain": [
       "        User_ID Product_ID Gender    Age  Occupation City_Category  \\\n",
       "550063  1006033  P00372445      M  51-55          13             B   \n",
       "550064  1006035  P00375436      F  26-35           1             C   \n",
       "550065  1006036  P00375436      F  26-35          15             B   \n",
       "550066  1006038  P00375436      F    55+           1             C   \n",
       "550067  1006039  P00371644      F  46-50           0             B   \n",
       "\n",
       "       Stay_In_Current_City_Years  Marital_Status  Product_Category_1  \\\n",
       "550063                          1               1                  20   \n",
       "550064                          3               0                  20   \n",
       "550065                         4+               1                  20   \n",
       "550066                          2               0                  20   \n",
       "550067                         4+               1                  20   \n",
       "\n",
       "        Product_Category_2  Product_Category_3  Purchase  \n",
       "550063                 NaN                 NaN       368  \n",
       "550064                 NaN                 NaN       371  \n",
       "550065                 NaN                 NaN       137  \n",
       "550066                 NaN                 NaN       365  \n",
       "550067                 NaN                 NaN       490  "
      ]
     },
     "execution_count": 3,
     "metadata": {},
     "output_type": "execute_result"
    }
   ],
   "source": [
    "# Last 5 rows of the dataset\n",
    "df.tail()"
   ]
  },
  {
   "cell_type": "code",
   "execution_count": 4,
   "id": "8e90f5eb",
   "metadata": {},
   "outputs": [
    {
     "name": "stdout",
     "output_type": "stream",
     "text": [
      "<class 'pandas.core.frame.DataFrame'>\n",
      "RangeIndex: 550068 entries, 0 to 550067\n",
      "Data columns (total 12 columns):\n",
      " #   Column                      Non-Null Count   Dtype  \n",
      "---  ------                      --------------   -----  \n",
      " 0   User_ID                     550068 non-null  int64  \n",
      " 1   Product_ID                  550068 non-null  object \n",
      " 2   Gender                      550068 non-null  object \n",
      " 3   Age                         550068 non-null  object \n",
      " 4   Occupation                  550068 non-null  int64  \n",
      " 5   City_Category               550068 non-null  object \n",
      " 6   Stay_In_Current_City_Years  550068 non-null  object \n",
      " 7   Marital_Status              550068 non-null  int64  \n",
      " 8   Product_Category_1          550068 non-null  int64  \n",
      " 9   Product_Category_2          376430 non-null  float64\n",
      " 10  Product_Category_3          166821 non-null  float64\n",
      " 11  Purchase                    550068 non-null  int64  \n",
      "dtypes: float64(2), int64(5), object(5)\n",
      "memory usage: 50.4+ MB\n"
     ]
    }
   ],
   "source": [
    "# All available columns, their counts and data types\n",
    "df.info()"
   ]
  },
  {
   "cell_type": "markdown",
   "id": "960ba9cc",
   "metadata": {},
   "source": [
    "## Preprocessing\n",
    "\n",
    "All preprocessing steps are done in almost exactly the same way as the author."
   ]
  },
  {
   "cell_type": "code",
   "execution_count": 5,
   "id": "f4eada37",
   "metadata": {},
   "outputs": [
    {
     "name": "stdout",
     "output_type": "stream",
     "text": [
      "Gender -> ['F' 'M']\n",
      "Age -> ['0-17' '55+' '26-35' '46-50' '51-55' '36-45' '18-25']\n",
      "City_Category -> ['A' 'C' 'B']\n",
      "Stay_In_Current_City_Years -> ['2' '4+' '3' '1' '0']\n"
     ]
    },
    {
     "data": {
      "text/html": [
       "<div>\n",
       "<style scoped>\n",
       "    .dataframe tbody tr th:only-of-type {\n",
       "        vertical-align: middle;\n",
       "    }\n",
       "\n",
       "    .dataframe tbody tr th {\n",
       "        vertical-align: top;\n",
       "    }\n",
       "\n",
       "    .dataframe thead th {\n",
       "        text-align: right;\n",
       "    }\n",
       "</style>\n",
       "<table border=\"1\" class=\"dataframe\">\n",
       "  <thead>\n",
       "    <tr style=\"text-align: right;\">\n",
       "      <th></th>\n",
       "      <th>Product_ID</th>\n",
       "      <th>Gender</th>\n",
       "      <th>Age</th>\n",
       "      <th>City_Category</th>\n",
       "      <th>Stay_In_Current_City_Years</th>\n",
       "    </tr>\n",
       "  </thead>\n",
       "  <tbody>\n",
       "    <tr>\n",
       "      <th>0</th>\n",
       "      <td>P00069042</td>\n",
       "      <td>F</td>\n",
       "      <td>0-17</td>\n",
       "      <td>A</td>\n",
       "      <td>2</td>\n",
       "    </tr>\n",
       "    <tr>\n",
       "      <th>1</th>\n",
       "      <td>P00248942</td>\n",
       "      <td>F</td>\n",
       "      <td>0-17</td>\n",
       "      <td>A</td>\n",
       "      <td>2</td>\n",
       "    </tr>\n",
       "    <tr>\n",
       "      <th>2</th>\n",
       "      <td>P00087842</td>\n",
       "      <td>F</td>\n",
       "      <td>0-17</td>\n",
       "      <td>A</td>\n",
       "      <td>2</td>\n",
       "    </tr>\n",
       "    <tr>\n",
       "      <th>3</th>\n",
       "      <td>P00085442</td>\n",
       "      <td>F</td>\n",
       "      <td>0-17</td>\n",
       "      <td>A</td>\n",
       "      <td>2</td>\n",
       "    </tr>\n",
       "    <tr>\n",
       "      <th>4</th>\n",
       "      <td>P00285442</td>\n",
       "      <td>M</td>\n",
       "      <td>55+</td>\n",
       "      <td>C</td>\n",
       "      <td>4+</td>\n",
       "    </tr>\n",
       "    <tr>\n",
       "      <th>5</th>\n",
       "      <td>P00193542</td>\n",
       "      <td>M</td>\n",
       "      <td>26-35</td>\n",
       "      <td>A</td>\n",
       "      <td>3</td>\n",
       "    </tr>\n",
       "    <tr>\n",
       "      <th>6</th>\n",
       "      <td>P00184942</td>\n",
       "      <td>M</td>\n",
       "      <td>46-50</td>\n",
       "      <td>B</td>\n",
       "      <td>2</td>\n",
       "    </tr>\n",
       "    <tr>\n",
       "      <th>7</th>\n",
       "      <td>P00346142</td>\n",
       "      <td>M</td>\n",
       "      <td>46-50</td>\n",
       "      <td>B</td>\n",
       "      <td>2</td>\n",
       "    </tr>\n",
       "    <tr>\n",
       "      <th>8</th>\n",
       "      <td>P0097242</td>\n",
       "      <td>M</td>\n",
       "      <td>46-50</td>\n",
       "      <td>B</td>\n",
       "      <td>2</td>\n",
       "    </tr>\n",
       "    <tr>\n",
       "      <th>9</th>\n",
       "      <td>P00274942</td>\n",
       "      <td>M</td>\n",
       "      <td>26-35</td>\n",
       "      <td>A</td>\n",
       "      <td>1</td>\n",
       "    </tr>\n",
       "  </tbody>\n",
       "</table>\n",
       "</div>"
      ],
      "text/plain": [
       "  Product_ID Gender    Age City_Category Stay_In_Current_City_Years\n",
       "0  P00069042      F   0-17             A                          2\n",
       "1  P00248942      F   0-17             A                          2\n",
       "2  P00087842      F   0-17             A                          2\n",
       "3  P00085442      F   0-17             A                          2\n",
       "4  P00285442      M    55+             C                         4+\n",
       "5  P00193542      M  26-35             A                          3\n",
       "6  P00184942      M  46-50             B                          2\n",
       "7  P00346142      M  46-50             B                          2\n",
       "8   P0097242      M  46-50             B                          2\n",
       "9  P00274942      M  26-35             A                          1"
      ]
     },
     "execution_count": 5,
     "metadata": {},
     "output_type": "execute_result"
    }
   ],
   "source": [
    "# Let's get the categorical columns by checking the data type\n",
    "cat_var = [var for var in df.columns if df[var].dtypes == \"object\"]\n",
    "cat_var = df[cat_var]\n",
    "# Also check the unique values in those columns\n",
    "print(\"Gender ->\", cat_var['Gender'].unique())\n",
    "print(\"Age ->\", cat_var[\"Age\"].unique())\n",
    "print(\"City_Category ->\", cat_var[\"City_Category\"].unique())\n",
    "print(\"Stay_In_Current_City_Years ->\", cat_var['Stay_In_Current_City_Years'].unique())\n",
    "cat_var.head(10)"
   ]
  },
  {
   "cell_type": "code",
   "execution_count": 6,
   "id": "3da5ce0f",
   "metadata": {},
   "outputs": [
    {
     "data": {
      "text/plain": [
       "Product_ID                    0\n",
       "Gender                        0\n",
       "Age                           0\n",
       "City_Category                 0\n",
       "Stay_In_Current_City_Years    0\n",
       "dtype: int64"
      ]
     },
     "execution_count": 6,
     "metadata": {},
     "output_type": "execute_result"
    }
   ],
   "source": [
    "# Is there any NaN values in these columns?\n",
    "cat_var.isna().sum()"
   ]
  },
  {
   "cell_type": "code",
   "execution_count": 7,
   "id": "3400e1a1",
   "metadata": {},
   "outputs": [],
   "source": [
    "# Give these categorical age ranges some ordered values\n",
    "def order_age(Age):\n",
    "    if Age == \"0-17\":      return 1\n",
    "    elif Age == \"18-25\":   return 2\n",
    "    elif Age == \"26-35\":   return 3\n",
    "    elif Age == \"36-45\":   return 4\n",
    "    elif Age == \"46-50\":   return 5\n",
    "    elif Age == \"51-55\":   return 6\n",
    "    elif Age == \"55+\":     return 7\n",
    "    else:    return 0\n",
    "cat_var['Age'] = cat_var['Age'].apply(order_age)"
   ]
  },
  {
   "cell_type": "code",
   "execution_count": 8,
   "id": "5bb7438b",
   "metadata": {},
   "outputs": [],
   "source": [
    "# Give these categorical current city years being stayed some ordered values\n",
    "def order_stay_in_current_city_years(Stay_In_Current_City_Years):\n",
    "    if Stay_In_Current_City_Years == \"0\":      return 1\n",
    "    elif Stay_In_Current_City_Years == \"1\":    return 2\n",
    "    elif Stay_In_Current_City_Years == \"2\":    return 3\n",
    "    elif Stay_In_Current_City_Years == \"3\":    return 4\n",
    "    elif Stay_In_Current_City_Years == \"4+\":   return 5\n",
    "cat_var['Stay_In_Current_City_Years'] = cat_var['Stay_In_Current_City_Years'].apply(order_stay_in_current_city_years)"
   ]
  },
  {
   "cell_type": "code",
   "execution_count": 9,
   "id": "f8dde6fc",
   "metadata": {},
   "outputs": [
    {
     "data": {
      "text/html": [
       "<div>\n",
       "<style scoped>\n",
       "    .dataframe tbody tr th:only-of-type {\n",
       "        vertical-align: middle;\n",
       "    }\n",
       "\n",
       "    .dataframe tbody tr th {\n",
       "        vertical-align: top;\n",
       "    }\n",
       "\n",
       "    .dataframe thead th {\n",
       "        text-align: right;\n",
       "    }\n",
       "</style>\n",
       "<table border=\"1\" class=\"dataframe\">\n",
       "  <thead>\n",
       "    <tr style=\"text-align: right;\">\n",
       "      <th></th>\n",
       "      <th>Product_ID</th>\n",
       "      <th>Gender</th>\n",
       "      <th>Age</th>\n",
       "      <th>City_Category</th>\n",
       "      <th>Stay_In_Current_City_Years</th>\n",
       "    </tr>\n",
       "  </thead>\n",
       "  <tbody>\n",
       "    <tr>\n",
       "      <th>0</th>\n",
       "      <td>P00069042</td>\n",
       "      <td>F</td>\n",
       "      <td>1</td>\n",
       "      <td>A</td>\n",
       "      <td>3</td>\n",
       "    </tr>\n",
       "    <tr>\n",
       "      <th>1</th>\n",
       "      <td>P00248942</td>\n",
       "      <td>F</td>\n",
       "      <td>1</td>\n",
       "      <td>A</td>\n",
       "      <td>3</td>\n",
       "    </tr>\n",
       "    <tr>\n",
       "      <th>2</th>\n",
       "      <td>P00087842</td>\n",
       "      <td>F</td>\n",
       "      <td>1</td>\n",
       "      <td>A</td>\n",
       "      <td>3</td>\n",
       "    </tr>\n",
       "    <tr>\n",
       "      <th>3</th>\n",
       "      <td>P00085442</td>\n",
       "      <td>F</td>\n",
       "      <td>1</td>\n",
       "      <td>A</td>\n",
       "      <td>3</td>\n",
       "    </tr>\n",
       "    <tr>\n",
       "      <th>4</th>\n",
       "      <td>P00285442</td>\n",
       "      <td>M</td>\n",
       "      <td>7</td>\n",
       "      <td>C</td>\n",
       "      <td>5</td>\n",
       "    </tr>\n",
       "    <tr>\n",
       "      <th>...</th>\n",
       "      <td>...</td>\n",
       "      <td>...</td>\n",
       "      <td>...</td>\n",
       "      <td>...</td>\n",
       "      <td>...</td>\n",
       "    </tr>\n",
       "    <tr>\n",
       "      <th>550063</th>\n",
       "      <td>P00372445</td>\n",
       "      <td>M</td>\n",
       "      <td>6</td>\n",
       "      <td>B</td>\n",
       "      <td>2</td>\n",
       "    </tr>\n",
       "    <tr>\n",
       "      <th>550064</th>\n",
       "      <td>P00375436</td>\n",
       "      <td>F</td>\n",
       "      <td>3</td>\n",
       "      <td>C</td>\n",
       "      <td>4</td>\n",
       "    </tr>\n",
       "    <tr>\n",
       "      <th>550065</th>\n",
       "      <td>P00375436</td>\n",
       "      <td>F</td>\n",
       "      <td>3</td>\n",
       "      <td>B</td>\n",
       "      <td>5</td>\n",
       "    </tr>\n",
       "    <tr>\n",
       "      <th>550066</th>\n",
       "      <td>P00375436</td>\n",
       "      <td>F</td>\n",
       "      <td>7</td>\n",
       "      <td>C</td>\n",
       "      <td>3</td>\n",
       "    </tr>\n",
       "    <tr>\n",
       "      <th>550067</th>\n",
       "      <td>P00371644</td>\n",
       "      <td>F</td>\n",
       "      <td>5</td>\n",
       "      <td>B</td>\n",
       "      <td>5</td>\n",
       "    </tr>\n",
       "  </tbody>\n",
       "</table>\n",
       "<p>550068 rows × 5 columns</p>\n",
       "</div>"
      ],
      "text/plain": [
       "       Product_ID Gender  Age City_Category  Stay_In_Current_City_Years\n",
       "0       P00069042      F    1             A                           3\n",
       "1       P00248942      F    1             A                           3\n",
       "2       P00087842      F    1             A                           3\n",
       "3       P00085442      F    1             A                           3\n",
       "4       P00285442      M    7             C                           5\n",
       "...           ...    ...  ...           ...                         ...\n",
       "550063  P00372445      M    6             B                           2\n",
       "550064  P00375436      F    3             C                           4\n",
       "550065  P00375436      F    3             B                           5\n",
       "550066  P00375436      F    7             C                           3\n",
       "550067  P00371644      F    5             B                           5\n",
       "\n",
       "[550068 rows x 5 columns]"
      ]
     },
     "execution_count": 9,
     "metadata": {},
     "output_type": "execute_result"
    }
   ],
   "source": [
    "# Latest status of categorical columns\n",
    "cat_var"
   ]
  },
  {
   "cell_type": "code",
   "execution_count": 10,
   "id": "f548cc84",
   "metadata": {},
   "outputs": [
    {
     "data": {
      "text/html": [
       "<div>\n",
       "<style scoped>\n",
       "    .dataframe tbody tr th:only-of-type {\n",
       "        vertical-align: middle;\n",
       "    }\n",
       "\n",
       "    .dataframe tbody tr th {\n",
       "        vertical-align: top;\n",
       "    }\n",
       "\n",
       "    .dataframe thead th {\n",
       "        text-align: right;\n",
       "    }\n",
       "</style>\n",
       "<table border=\"1\" class=\"dataframe\">\n",
       "  <thead>\n",
       "    <tr style=\"text-align: right;\">\n",
       "      <th></th>\n",
       "      <th>User_ID</th>\n",
       "      <th>Occupation</th>\n",
       "      <th>Marital_Status</th>\n",
       "      <th>Product_Category_1</th>\n",
       "      <th>Product_Category_2</th>\n",
       "      <th>Product_Category_3</th>\n",
       "      <th>Purchase</th>\n",
       "    </tr>\n",
       "  </thead>\n",
       "  <tbody>\n",
       "    <tr>\n",
       "      <th>0</th>\n",
       "      <td>1000001</td>\n",
       "      <td>10</td>\n",
       "      <td>0</td>\n",
       "      <td>3</td>\n",
       "      <td>NaN</td>\n",
       "      <td>NaN</td>\n",
       "      <td>8370</td>\n",
       "    </tr>\n",
       "    <tr>\n",
       "      <th>1</th>\n",
       "      <td>1000001</td>\n",
       "      <td>10</td>\n",
       "      <td>0</td>\n",
       "      <td>1</td>\n",
       "      <td>6.0</td>\n",
       "      <td>14.0</td>\n",
       "      <td>15200</td>\n",
       "    </tr>\n",
       "    <tr>\n",
       "      <th>2</th>\n",
       "      <td>1000001</td>\n",
       "      <td>10</td>\n",
       "      <td>0</td>\n",
       "      <td>12</td>\n",
       "      <td>NaN</td>\n",
       "      <td>NaN</td>\n",
       "      <td>1422</td>\n",
       "    </tr>\n",
       "    <tr>\n",
       "      <th>3</th>\n",
       "      <td>1000001</td>\n",
       "      <td>10</td>\n",
       "      <td>0</td>\n",
       "      <td>12</td>\n",
       "      <td>14.0</td>\n",
       "      <td>NaN</td>\n",
       "      <td>1057</td>\n",
       "    </tr>\n",
       "    <tr>\n",
       "      <th>4</th>\n",
       "      <td>1000002</td>\n",
       "      <td>16</td>\n",
       "      <td>0</td>\n",
       "      <td>8</td>\n",
       "      <td>NaN</td>\n",
       "      <td>NaN</td>\n",
       "      <td>7969</td>\n",
       "    </tr>\n",
       "    <tr>\n",
       "      <th>...</th>\n",
       "      <td>...</td>\n",
       "      <td>...</td>\n",
       "      <td>...</td>\n",
       "      <td>...</td>\n",
       "      <td>...</td>\n",
       "      <td>...</td>\n",
       "      <td>...</td>\n",
       "    </tr>\n",
       "    <tr>\n",
       "      <th>550063</th>\n",
       "      <td>1006033</td>\n",
       "      <td>13</td>\n",
       "      <td>1</td>\n",
       "      <td>20</td>\n",
       "      <td>NaN</td>\n",
       "      <td>NaN</td>\n",
       "      <td>368</td>\n",
       "    </tr>\n",
       "    <tr>\n",
       "      <th>550064</th>\n",
       "      <td>1006035</td>\n",
       "      <td>1</td>\n",
       "      <td>0</td>\n",
       "      <td>20</td>\n",
       "      <td>NaN</td>\n",
       "      <td>NaN</td>\n",
       "      <td>371</td>\n",
       "    </tr>\n",
       "    <tr>\n",
       "      <th>550065</th>\n",
       "      <td>1006036</td>\n",
       "      <td>15</td>\n",
       "      <td>1</td>\n",
       "      <td>20</td>\n",
       "      <td>NaN</td>\n",
       "      <td>NaN</td>\n",
       "      <td>137</td>\n",
       "    </tr>\n",
       "    <tr>\n",
       "      <th>550066</th>\n",
       "      <td>1006038</td>\n",
       "      <td>1</td>\n",
       "      <td>0</td>\n",
       "      <td>20</td>\n",
       "      <td>NaN</td>\n",
       "      <td>NaN</td>\n",
       "      <td>365</td>\n",
       "    </tr>\n",
       "    <tr>\n",
       "      <th>550067</th>\n",
       "      <td>1006039</td>\n",
       "      <td>0</td>\n",
       "      <td>1</td>\n",
       "      <td>20</td>\n",
       "      <td>NaN</td>\n",
       "      <td>NaN</td>\n",
       "      <td>490</td>\n",
       "    </tr>\n",
       "  </tbody>\n",
       "</table>\n",
       "<p>550068 rows × 7 columns</p>\n",
       "</div>"
      ],
      "text/plain": [
       "        User_ID  Occupation  Marital_Status  Product_Category_1  \\\n",
       "0       1000001          10               0                   3   \n",
       "1       1000001          10               0                   1   \n",
       "2       1000001          10               0                  12   \n",
       "3       1000001          10               0                  12   \n",
       "4       1000002          16               0                   8   \n",
       "...         ...         ...             ...                 ...   \n",
       "550063  1006033          13               1                  20   \n",
       "550064  1006035           1               0                  20   \n",
       "550065  1006036          15               1                  20   \n",
       "550066  1006038           1               0                  20   \n",
       "550067  1006039           0               1                  20   \n",
       "\n",
       "        Product_Category_2  Product_Category_3  Purchase  \n",
       "0                      NaN                 NaN      8370  \n",
       "1                      6.0                14.0     15200  \n",
       "2                      NaN                 NaN      1422  \n",
       "3                     14.0                 NaN      1057  \n",
       "4                      NaN                 NaN      7969  \n",
       "...                    ...                 ...       ...  \n",
       "550063                 NaN                 NaN       368  \n",
       "550064                 NaN                 NaN       371  \n",
       "550065                 NaN                 NaN       137  \n",
       "550066                 NaN                 NaN       365  \n",
       "550067                 NaN                 NaN       490  \n",
       "\n",
       "[550068 rows x 7 columns]"
      ]
     },
     "execution_count": 10,
     "metadata": {},
     "output_type": "execute_result"
    }
   ],
   "source": [
    "# Let's get the numerical columns by checking the data type (by not being object)\n",
    "num_var = [var for var in df.columns if df[var].dtypes !=\"object\"]\n",
    "num_var = df[num_var]\n",
    "num_var"
   ]
  },
  {
   "cell_type": "code",
   "execution_count": 11,
   "id": "5d956de2",
   "metadata": {},
   "outputs": [
    {
     "data": {
      "text/html": [
       "<div>\n",
       "<style scoped>\n",
       "    .dataframe tbody tr th:only-of-type {\n",
       "        vertical-align: middle;\n",
       "    }\n",
       "\n",
       "    .dataframe tbody tr th {\n",
       "        vertical-align: top;\n",
       "    }\n",
       "\n",
       "    .dataframe thead th {\n",
       "        text-align: right;\n",
       "    }\n",
       "</style>\n",
       "<table border=\"1\" class=\"dataframe\">\n",
       "  <thead>\n",
       "    <tr style=\"text-align: right;\">\n",
       "      <th></th>\n",
       "      <th>Occupation</th>\n",
       "      <th>Marital_Status</th>\n",
       "      <th>Product_Category_1</th>\n",
       "      <th>Purchase</th>\n",
       "    </tr>\n",
       "  </thead>\n",
       "  <tbody>\n",
       "    <tr>\n",
       "      <th>0</th>\n",
       "      <td>10</td>\n",
       "      <td>0</td>\n",
       "      <td>3</td>\n",
       "      <td>8370</td>\n",
       "    </tr>\n",
       "    <tr>\n",
       "      <th>1</th>\n",
       "      <td>10</td>\n",
       "      <td>0</td>\n",
       "      <td>1</td>\n",
       "      <td>15200</td>\n",
       "    </tr>\n",
       "    <tr>\n",
       "      <th>2</th>\n",
       "      <td>10</td>\n",
       "      <td>0</td>\n",
       "      <td>12</td>\n",
       "      <td>1422</td>\n",
       "    </tr>\n",
       "    <tr>\n",
       "      <th>3</th>\n",
       "      <td>10</td>\n",
       "      <td>0</td>\n",
       "      <td>12</td>\n",
       "      <td>1057</td>\n",
       "    </tr>\n",
       "    <tr>\n",
       "      <th>4</th>\n",
       "      <td>16</td>\n",
       "      <td>0</td>\n",
       "      <td>8</td>\n",
       "      <td>7969</td>\n",
       "    </tr>\n",
       "    <tr>\n",
       "      <th>...</th>\n",
       "      <td>...</td>\n",
       "      <td>...</td>\n",
       "      <td>...</td>\n",
       "      <td>...</td>\n",
       "    </tr>\n",
       "    <tr>\n",
       "      <th>550063</th>\n",
       "      <td>13</td>\n",
       "      <td>1</td>\n",
       "      <td>20</td>\n",
       "      <td>368</td>\n",
       "    </tr>\n",
       "    <tr>\n",
       "      <th>550064</th>\n",
       "      <td>1</td>\n",
       "      <td>0</td>\n",
       "      <td>20</td>\n",
       "      <td>371</td>\n",
       "    </tr>\n",
       "    <tr>\n",
       "      <th>550065</th>\n",
       "      <td>15</td>\n",
       "      <td>1</td>\n",
       "      <td>20</td>\n",
       "      <td>137</td>\n",
       "    </tr>\n",
       "    <tr>\n",
       "      <th>550066</th>\n",
       "      <td>1</td>\n",
       "      <td>0</td>\n",
       "      <td>20</td>\n",
       "      <td>365</td>\n",
       "    </tr>\n",
       "    <tr>\n",
       "      <th>550067</th>\n",
       "      <td>0</td>\n",
       "      <td>1</td>\n",
       "      <td>20</td>\n",
       "      <td>490</td>\n",
       "    </tr>\n",
       "  </tbody>\n",
       "</table>\n",
       "<p>550068 rows × 4 columns</p>\n",
       "</div>"
      ],
      "text/plain": [
       "        Occupation  Marital_Status  Product_Category_1  Purchase\n",
       "0               10               0                   3      8370\n",
       "1               10               0                   1     15200\n",
       "2               10               0                  12      1422\n",
       "3               10               0                  12      1057\n",
       "4               16               0                   8      7969\n",
       "...            ...             ...                 ...       ...\n",
       "550063          13               1                  20       368\n",
       "550064           1               0                  20       371\n",
       "550065          15               1                  20       137\n",
       "550066           1               0                  20       365\n",
       "550067           0               1                  20       490\n",
       "\n",
       "[550068 rows x 4 columns]"
      ]
     },
     "execution_count": 11,
     "metadata": {},
     "output_type": "execute_result"
    }
   ],
   "source": [
    "# However, these two columns will be dropped due to having null values, plus user ID has no meaning here.\n",
    "num_var = num_var.drop(['Product_Category_2','Product_Category_3','User_ID'], axis=1)\n",
    "num_var"
   ]
  },
  {
   "cell_type": "markdown",
   "id": "0280f927",
   "metadata": {},
   "source": [
    "## Prepare Train and Test Sets"
   ]
  },
  {
   "cell_type": "code",
   "execution_count": 12,
   "id": "47f52d50",
   "metadata": {},
   "outputs": [
    {
     "data": {
      "text/html": [
       "<div>\n",
       "<style scoped>\n",
       "    .dataframe tbody tr th:only-of-type {\n",
       "        vertical-align: middle;\n",
       "    }\n",
       "\n",
       "    .dataframe tbody tr th {\n",
       "        vertical-align: top;\n",
       "    }\n",
       "\n",
       "    .dataframe thead th {\n",
       "        text-align: right;\n",
       "    }\n",
       "</style>\n",
       "<table border=\"1\" class=\"dataframe\">\n",
       "  <thead>\n",
       "    <tr style=\"text-align: right;\">\n",
       "      <th></th>\n",
       "      <th>gender_F</th>\n",
       "      <th>gender_M</th>\n",
       "      <th>age_1</th>\n",
       "      <th>age_2</th>\n",
       "      <th>age_3</th>\n",
       "      <th>age_4</th>\n",
       "      <th>age_5</th>\n",
       "      <th>age_6</th>\n",
       "      <th>age_7</th>\n",
       "      <th>city_A</th>\n",
       "      <th>...</th>\n",
       "      <th>prod_cat1_13</th>\n",
       "      <th>prod_cat1_14</th>\n",
       "      <th>prod_cat1_15</th>\n",
       "      <th>prod_cat1_16</th>\n",
       "      <th>prod_cat1_17</th>\n",
       "      <th>prod_cat1_18</th>\n",
       "      <th>prod_cat1_19</th>\n",
       "      <th>prod_cat1_20</th>\n",
       "      <th>Marital_Status</th>\n",
       "      <th>Purchase</th>\n",
       "    </tr>\n",
       "  </thead>\n",
       "  <tbody>\n",
       "    <tr>\n",
       "      <th>0</th>\n",
       "      <td>1</td>\n",
       "      <td>0</td>\n",
       "      <td>1</td>\n",
       "      <td>0</td>\n",
       "      <td>0</td>\n",
       "      <td>0</td>\n",
       "      <td>0</td>\n",
       "      <td>0</td>\n",
       "      <td>0</td>\n",
       "      <td>1</td>\n",
       "      <td>...</td>\n",
       "      <td>0</td>\n",
       "      <td>0</td>\n",
       "      <td>0</td>\n",
       "      <td>0</td>\n",
       "      <td>0</td>\n",
       "      <td>0</td>\n",
       "      <td>0</td>\n",
       "      <td>0</td>\n",
       "      <td>0</td>\n",
       "      <td>8370</td>\n",
       "    </tr>\n",
       "    <tr>\n",
       "      <th>1</th>\n",
       "      <td>1</td>\n",
       "      <td>0</td>\n",
       "      <td>1</td>\n",
       "      <td>0</td>\n",
       "      <td>0</td>\n",
       "      <td>0</td>\n",
       "      <td>0</td>\n",
       "      <td>0</td>\n",
       "      <td>0</td>\n",
       "      <td>1</td>\n",
       "      <td>...</td>\n",
       "      <td>0</td>\n",
       "      <td>0</td>\n",
       "      <td>0</td>\n",
       "      <td>0</td>\n",
       "      <td>0</td>\n",
       "      <td>0</td>\n",
       "      <td>0</td>\n",
       "      <td>0</td>\n",
       "      <td>0</td>\n",
       "      <td>15200</td>\n",
       "    </tr>\n",
       "    <tr>\n",
       "      <th>2</th>\n",
       "      <td>1</td>\n",
       "      <td>0</td>\n",
       "      <td>1</td>\n",
       "      <td>0</td>\n",
       "      <td>0</td>\n",
       "      <td>0</td>\n",
       "      <td>0</td>\n",
       "      <td>0</td>\n",
       "      <td>0</td>\n",
       "      <td>1</td>\n",
       "      <td>...</td>\n",
       "      <td>0</td>\n",
       "      <td>0</td>\n",
       "      <td>0</td>\n",
       "      <td>0</td>\n",
       "      <td>0</td>\n",
       "      <td>0</td>\n",
       "      <td>0</td>\n",
       "      <td>0</td>\n",
       "      <td>0</td>\n",
       "      <td>1422</td>\n",
       "    </tr>\n",
       "    <tr>\n",
       "      <th>3</th>\n",
       "      <td>1</td>\n",
       "      <td>0</td>\n",
       "      <td>1</td>\n",
       "      <td>0</td>\n",
       "      <td>0</td>\n",
       "      <td>0</td>\n",
       "      <td>0</td>\n",
       "      <td>0</td>\n",
       "      <td>0</td>\n",
       "      <td>1</td>\n",
       "      <td>...</td>\n",
       "      <td>0</td>\n",
       "      <td>0</td>\n",
       "      <td>0</td>\n",
       "      <td>0</td>\n",
       "      <td>0</td>\n",
       "      <td>0</td>\n",
       "      <td>0</td>\n",
       "      <td>0</td>\n",
       "      <td>0</td>\n",
       "      <td>1057</td>\n",
       "    </tr>\n",
       "    <tr>\n",
       "      <th>4</th>\n",
       "      <td>0</td>\n",
       "      <td>1</td>\n",
       "      <td>0</td>\n",
       "      <td>0</td>\n",
       "      <td>0</td>\n",
       "      <td>0</td>\n",
       "      <td>0</td>\n",
       "      <td>0</td>\n",
       "      <td>1</td>\n",
       "      <td>0</td>\n",
       "      <td>...</td>\n",
       "      <td>0</td>\n",
       "      <td>0</td>\n",
       "      <td>0</td>\n",
       "      <td>0</td>\n",
       "      <td>0</td>\n",
       "      <td>0</td>\n",
       "      <td>0</td>\n",
       "      <td>0</td>\n",
       "      <td>0</td>\n",
       "      <td>7969</td>\n",
       "    </tr>\n",
       "    <tr>\n",
       "      <th>5</th>\n",
       "      <td>0</td>\n",
       "      <td>1</td>\n",
       "      <td>0</td>\n",
       "      <td>0</td>\n",
       "      <td>1</td>\n",
       "      <td>0</td>\n",
       "      <td>0</td>\n",
       "      <td>0</td>\n",
       "      <td>0</td>\n",
       "      <td>1</td>\n",
       "      <td>...</td>\n",
       "      <td>0</td>\n",
       "      <td>0</td>\n",
       "      <td>0</td>\n",
       "      <td>0</td>\n",
       "      <td>0</td>\n",
       "      <td>0</td>\n",
       "      <td>0</td>\n",
       "      <td>0</td>\n",
       "      <td>0</td>\n",
       "      <td>15227</td>\n",
       "    </tr>\n",
       "    <tr>\n",
       "      <th>6</th>\n",
       "      <td>0</td>\n",
       "      <td>1</td>\n",
       "      <td>0</td>\n",
       "      <td>0</td>\n",
       "      <td>0</td>\n",
       "      <td>0</td>\n",
       "      <td>1</td>\n",
       "      <td>0</td>\n",
       "      <td>0</td>\n",
       "      <td>0</td>\n",
       "      <td>...</td>\n",
       "      <td>0</td>\n",
       "      <td>0</td>\n",
       "      <td>0</td>\n",
       "      <td>0</td>\n",
       "      <td>0</td>\n",
       "      <td>0</td>\n",
       "      <td>0</td>\n",
       "      <td>0</td>\n",
       "      <td>1</td>\n",
       "      <td>19215</td>\n",
       "    </tr>\n",
       "    <tr>\n",
       "      <th>7</th>\n",
       "      <td>0</td>\n",
       "      <td>1</td>\n",
       "      <td>0</td>\n",
       "      <td>0</td>\n",
       "      <td>0</td>\n",
       "      <td>0</td>\n",
       "      <td>1</td>\n",
       "      <td>0</td>\n",
       "      <td>0</td>\n",
       "      <td>0</td>\n",
       "      <td>...</td>\n",
       "      <td>0</td>\n",
       "      <td>0</td>\n",
       "      <td>0</td>\n",
       "      <td>0</td>\n",
       "      <td>0</td>\n",
       "      <td>0</td>\n",
       "      <td>0</td>\n",
       "      <td>0</td>\n",
       "      <td>1</td>\n",
       "      <td>15854</td>\n",
       "    </tr>\n",
       "  </tbody>\n",
       "</table>\n",
       "<p>8 rows × 60 columns</p>\n",
       "</div>"
      ],
      "text/plain": [
       "   gender_F  gender_M  age_1  age_2  age_3  age_4  age_5  age_6  age_7  \\\n",
       "0         1         0      1      0      0      0      0      0      0   \n",
       "1         1         0      1      0      0      0      0      0      0   \n",
       "2         1         0      1      0      0      0      0      0      0   \n",
       "3         1         0      1      0      0      0      0      0      0   \n",
       "4         0         1      0      0      0      0      0      0      1   \n",
       "5         0         1      0      0      1      0      0      0      0   \n",
       "6         0         1      0      0      0      0      1      0      0   \n",
       "7         0         1      0      0      0      0      1      0      0   \n",
       "\n",
       "   city_A  ...  prod_cat1_13  prod_cat1_14  prod_cat1_15  prod_cat1_16  \\\n",
       "0       1  ...             0             0             0             0   \n",
       "1       1  ...             0             0             0             0   \n",
       "2       1  ...             0             0             0             0   \n",
       "3       1  ...             0             0             0             0   \n",
       "4       0  ...             0             0             0             0   \n",
       "5       1  ...             0             0             0             0   \n",
       "6       0  ...             0             0             0             0   \n",
       "7       0  ...             0             0             0             0   \n",
       "\n",
       "   prod_cat1_17  prod_cat1_18  prod_cat1_19  prod_cat1_20  Marital_Status  \\\n",
       "0             0             0             0             0               0   \n",
       "1             0             0             0             0               0   \n",
       "2             0             0             0             0               0   \n",
       "3             0             0             0             0               0   \n",
       "4             0             0             0             0               0   \n",
       "5             0             0             0             0               0   \n",
       "6             0             0             0             0               1   \n",
       "7             0             0             0             0               1   \n",
       "\n",
       "   Purchase  \n",
       "0      8370  \n",
       "1     15200  \n",
       "2      1422  \n",
       "3      1057  \n",
       "4      7969  \n",
       "5     15227  \n",
       "6     19215  \n",
       "7     15854  \n",
       "\n",
       "[8 rows x 60 columns]"
      ]
     },
     "execution_count": 12,
     "metadata": {},
     "output_type": "execute_result"
    }
   ],
   "source": [
    "# Create several dummy columns from categorical and numerical ones, then merge them with some other columns and purchase\n",
    "dummy_gender = pd.get_dummies(cat_var['Gender'], prefix='gender')\n",
    "dummy_age = pd.get_dummies(cat_var['Age'], prefix='age')\n",
    "dummy_city = pd.get_dummies(cat_var['City_Category'], prefix='city')\n",
    "dummy_city_years = pd.get_dummies(cat_var['Stay_In_Current_City_Years'], prefix='cityyears')\n",
    "dummy_occupation = pd.get_dummies(num_var['Occupation'], prefix='occ')\n",
    "dummy_prod_cat = pd.get_dummies(num_var['Product_Category_1'], prefix='prod_cat1')\n",
    "df_cons = pd.concat([dummy_gender, dummy_age, dummy_city, dummy_city_years, dummy_occupation, dummy_prod_cat,\n",
    "                    num_var['Marital_Status'], df['Purchase']], axis=1)\n",
    "df_cons.head(8)"
   ]
  },
  {
   "cell_type": "code",
   "execution_count": 13,
   "id": "e99e9681",
   "metadata": {},
   "outputs": [
    {
     "data": {
      "image/png": "[encoded data removed]",
      "text/plain": [
       "<Figure size 1100x1200 with 2 Axes>"
      ]
     },
     "metadata": {},
     "output_type": "display_data"
    },
    {
     "name": "stdout",
     "output_type": "stream",
     "text": [
      "#### COLUMN CORRELATIONS AGAINST PURCHASE ####\n",
      "gender_F         -0.060346\n",
      "gender_M          0.060346\n",
      "age_1            -0.011055\n",
      "age_2            -0.008831\n",
      "age_3            -0.001830\n",
      "age_4             0.006707\n",
      "age_5            -0.003317\n",
      "age_6             0.014792\n",
      "age_7             0.002904\n",
      "city_A           -0.042465\n",
      "city_B           -0.019098\n",
      "city_C            0.061012\n",
      "cityyears_1      -0.006605\n",
      "cityyears_2      -0.002030\n",
      "cityyears_3       0.005358\n",
      "cityyears_4       0.002090\n",
      "cityyears_5       0.000988\n",
      "occ_0            -0.010576\n",
      "occ_1            -0.019005\n",
      "occ_2            -0.013975\n",
      "occ_3            -0.003095\n",
      "occ_4            -0.003872\n",
      "occ_5             0.002072\n",
      "occ_6            -0.000290\n",
      "occ_7             0.011176\n",
      "occ_8             0.002839\n",
      "occ_9            -0.013409\n",
      "occ_10           -0.009409\n",
      "occ_11           -0.001464\n",
      "occ_12            0.025995\n",
      "occ_13            0.001007\n",
      "occ_14            0.010772\n",
      "occ_15            0.015416\n",
      "occ_16            0.005713\n",
      "occ_17            0.031099\n",
      "occ_18           -0.002073\n",
      "occ_19           -0.013769\n",
      "occ_20           -0.021693\n",
      "prod_cat1_1       0.506021\n",
      "prod_cat1_2       0.084282\n",
      "prod_cat1_3       0.032380\n",
      "prod_cat1_4      -0.203982\n",
      "prod_cat1_5      -0.370193\n",
      "prod_cat1_6       0.257298\n",
      "prod_cat1_7       0.116678\n",
      "prod_cat1_8      -0.179587\n",
      "prod_cat1_9       0.034110\n",
      "prod_cat1_10      0.201011\n",
      "prod_cat1_11     -0.195911\n",
      "prod_cat1_12     -0.133927\n",
      "prod_cat1_13     -0.171660\n",
      "prod_cat1_14      0.040677\n",
      "prod_cat1_15      0.118116\n",
      "prod_cat1_16      0.147740\n",
      "prod_cat1_17      0.005855\n",
      "prod_cat1_18     -0.094670\n",
      "prod_cat1_19     -0.099307\n",
      "prod_cat1_20     -0.120830\n",
      "Marital_Status   -0.000463\n",
      "Purchase          1.000000\n",
      "Name: Purchase, dtype: float64\n"
     ]
    }
   ],
   "source": [
    "# Get the correlations of all involved columns in a heat map\n",
    "plt.figure(figsize=(11,12))\n",
    "sns.heatmap(df_cons.corr())\n",
    "plt.show()\n",
    "print(\"#### COLUMN CORRELATIONS AGAINST PURCHASE ####\")\n",
    "print(df_cons.corr()['Purchase'])"
   ]
  },
  {
   "cell_type": "markdown",
   "id": "01589dd5-5bd8-46fd-bcbc-11cff74c2581",
   "metadata": {},
   "source": [
    "### Type 2: Use Positively Correlated Columns Only"
   ]
  },
  {
   "cell_type": "code",
   "execution_count": 14,
   "id": "9d21e5cb",
   "metadata": {},
   "outputs": [
    {
     "name": "stdout",
     "output_type": "stream",
     "text": [
      "TRAIN SIZE: (440054, 28)  TEST SIZE: (110014, 28)\n",
      "Index(['gender_M', 'age_4', 'age_6', 'age_7', 'city_C', 'cityyears_3',\n",
      "       'cityyears_4', 'cityyears_5', 'occ_5', 'occ_7', 'occ_8', 'occ_12',\n",
      "       'occ_13', 'occ_14', 'occ_15', 'occ_16', 'occ_17', 'prod_cat1_1',\n",
      "       'prod_cat1_2', 'prod_cat1_3', 'prod_cat1_6', 'prod_cat1_7',\n",
      "       'prod_cat1_9', 'prod_cat1_10', 'prod_cat1_14', 'prod_cat1_15',\n",
      "       'prod_cat1_16', 'prod_cat1_17'],\n",
      "      dtype='object')\n"
     ]
    }
   ],
   "source": [
    "# Use 80% of the dataset as training, and 20% as testing\n",
    "# X = df_cons.drop(columns='Purchase', axis=1)\n",
    "X = df_cons[['gender_M','age_4','age_6','age_7','city_C','cityyears_3','cityyears_4','cityyears_5','occ_5','occ_7','occ_8','occ_12',\n",
    "             'occ_13','occ_14','occ_15','occ_16','occ_17','prod_cat1_1','prod_cat1_2','prod_cat1_3','prod_cat1_6','prod_cat1_7',\n",
    "             'prod_cat1_9','prod_cat1_10','prod_cat1_14','prod_cat1_15','prod_cat1_16','prod_cat1_17']]\n",
    "Y = df_cons.iloc[:,-1]\n",
    "x_train, x_test, y_train, y_test = train_test_split(X, Y, test_size=0.2, random_state=21)\n",
    "print(\"TRAIN SIZE:\", x_train.shape, \" TEST SIZE:\", x_test.shape)\n",
    "print(X.columns)"
   ]
  },
  {
   "cell_type": "code",
   "execution_count": 15,
   "id": "01e2e09b",
   "metadata": {},
   "outputs": [],
   "source": [
    "# Create lists to store results of error values of all regression methods\n",
    "res_mse, res_rmse, res_mae, res_r2, res_cv_train, res_cv_test = [], [], [], [], [], []"
   ]
  },
  {
   "cell_type": "markdown",
   "id": "40243f41",
   "metadata": {},
   "source": [
    "# ML Regression Models\n",
    "\n",
    "## 1 - Linear Regression"
   ]
  },
  {
   "cell_type": "code",
   "execution_count": 16,
   "id": "095fb072",
   "metadata": {},
   "outputs": [
    {
     "data": {
      "text/plain": [
       "{'copy_X': True,\n",
       " 'fit_intercept': True,\n",
       " 'n_jobs': None,\n",
       " 'normalize': 'deprecated',\n",
       " 'positive': False}"
      ]
     },
     "execution_count": 16,
     "metadata": {},
     "output_type": "execute_result"
    }
   ],
   "source": [
    "linreg = LinearRegression(fit_intercept=True, positive=False)\n",
    "linreg.get_params()"
   ]
  },
  {
   "cell_type": "code",
   "execution_count": 17,
   "id": "f3f8ec41",
   "metadata": {},
   "outputs": [
    {
     "name": "stdout",
     "output_type": "stream",
     "text": [
      ">>> Fitting and prediction were completed in 0.679 seconds.\n"
     ]
    }
   ],
   "source": [
    "# Fit the training data into the linear reg. model, then make predictions on the test data\n",
    "s_time = time.time()\n",
    "linreg.fit(x_train, y_train)\n",
    "y_pred = linreg.predict(x_test)\n",
    "print(\">>> Fitting and prediction were completed in {:.3f} seconds.\".format(time.time()-s_time))"
   ]
  },
  {
   "cell_type": "code",
   "execution_count": 18,
   "id": "99a216c7",
   "metadata": {},
   "outputs": [
    {
     "name": "stdout",
     "output_type": "stream",
     "text": [
      "COEF: [-1.03692197e+02  1.14423931e+02  3.81950165e+02  2.92045091e+02\n",
      "  4.17411832e+02  2.30383228e+01 -8.01879227e+00  2.75515725e+01\n",
      " -6.29108190e+01  1.07623299e+02 -2.44682051e+02  2.34184471e+02\n",
      "  1.54816954e+02  1.72059889e+02  3.86702277e+02  9.25704495e+01\n",
      "  1.16027648e+02  7.44188019e+03  5.10100019e+03  3.93494463e+03\n",
      "  9.66152642e+03  1.02306764e+04  9.24017159e+03  1.34854538e+04\n",
      "  6.97634608e+03  8.64049107e+03  8.62505408e+03  3.89503170e+03]\n",
      "RANK: 28\n",
      "INTERCEPT: 5986.456230052194\n"
     ]
    }
   ],
   "source": [
    "print(\"COEF:\", linreg.coef_)   # Estimated coefficients for the linear reg.\n",
    "print(\"RANK:\", linreg.rank_)   # Rank of matrix\n",
    "print(\"INTERCEPT:\", linreg.intercept_)   # Independent term in the linear model"
   ]
  },
  {
   "cell_type": "code",
   "execution_count": 19,
   "id": "4916ad0e",
   "metadata": {},
   "outputs": [
    {
     "name": "stdout",
     "output_type": "stream",
     "text": [
      "   5978.437437777339 |     5977\n",
      "  13440.671868163878 |    19203\n",
      "   13848.80875100677 |    15582\n",
      "   6300.175864782485 |     5942\n",
      "  14786.283137867991 |    20266\n",
      "   5986.456230052194 |     8611\n",
      "   5986.456230052194 |     2762\n",
      "   6094.079528786373 |     3935\n",
      "  10330.793903337966 |     5722\n",
      "   6739.019117129943 |     6038\n",
      "   6009.494552835443 |     5191\n",
      "  13849.679350761195 |    15719\n",
      "   13586.38026343635 |    15499\n",
      "  6395.8492697019865 |     8612\n",
      "   5905.802355641086 |     7908\n",
      "   5882.764032857838 |     8584\n",
      "   6437.638118460028 |     3951\n",
      "   6009.494552835443 |     8770\n",
      "   6372.337497064663 |     7899\n",
      "  19540.277741556798 |    23301\n"
     ]
    }
   ],
   "source": [
    "# Compare the predicted values against the actual ones for the top 20 rows\n",
    "for i in range(20):\n",
    "    print(\"{:20} | {:8}\".format(y_pred[i], y_test.iloc[i]))"
   ]
  },
  {
   "cell_type": "code",
   "execution_count": 20,
   "id": "0ba0dfb7",
   "metadata": {},
   "outputs": [
    {
     "name": "stdout",
     "output_type": "stream",
     "text": [
      "MSE: 10623622.251559703\n",
      "RMSE: 3259.3898587864114\n",
      "MAE: 2593.185565144542\n",
      "R2 SCORE: 0.5780091065459737\n",
      "\n",
      "# CROSS VALIDATION #\n",
      "FITTING TIME: [0.94833565 0.66874433 0.64395452 0.64451241 0.64058661] -> 0.7092267036437988\n",
      "SCORING TIME: [0.01648974 0.01563501 0.01562905 0.01563168 0.01560378] -> 0.015797853469848633\n",
      "TRAIN SCORE: [0.57725181 0.57696515 0.5765783  0.57674324 0.57812308] -> 0.5771323181191805\n",
      "TEST SCORE: [0.57635741 0.57746019 0.57899087 0.57834738 0.57124507] -> 0.5764801824804888\n"
     ]
    }
   ],
   "source": [
    "# Results of metrics\n",
    "mse, rmse, mae, r2 = mean_squared_error(y_test, y_pred), mean_squared_error(y_test, y_pred, squared=False), \\\n",
    "    mean_absolute_error(y_test, y_pred), r2_score(y_test, y_pred)\n",
    "print(\"MSE:\", mse)         # Mean squared error\n",
    "print(\"RMSE:\", rmse)       # Root mean squared error\n",
    "print(\"MAE:\", mae)         # Mean absolute error\n",
    "print(\"R2 SCORE:\", r2)     # R2 score\n",
    "res_mse.append(mse)\n",
    "res_rmse.append(rmse)\n",
    "res_mae.append(mae)\n",
    "res_r2.append(r2)\n",
    "print(\"\\n# CROSS VALIDATION #\")\n",
    "cross_val = cross_validate(linreg, X, Y, cv=5, return_train_score=True)    # 5-fold Cross Validation\n",
    "# The time in seconds for fitting the estimator on the train set for each cv split\n",
    "print(\"FITTING TIME:\", cross_val['fit_time'], \"->\", cross_val['fit_time'].mean())\n",
    "# The time in seconds for scoring the estimator on the test set for each cv split\n",
    "print(\"SCORING TIME:\", cross_val['score_time'], \"->\", cross_val['score_time'].mean())\n",
    "# The score array for train scores for each cv split\n",
    "print(\"TRAIN SCORE:\", cross_val['train_score'], \"->\", cross_val['train_score'].mean())\n",
    "res_cv_train.append(cross_val['train_score'].mean())\n",
    "# The score array for test score for each cv split\n",
    "print(\"TEST SCORE:\", cross_val['test_score'], \"->\", cross_val['test_score'].mean())\n",
    "res_cv_test.append(cross_val['test_score'].mean())"
   ]
  },
  {
   "cell_type": "markdown",
   "id": "ff12a016",
   "metadata": {},
   "source": [
    "## 2 - Lasso Regression"
   ]
  },
  {
   "cell_type": "code",
   "execution_count": 21,
   "id": "230c44d6",
   "metadata": {},
   "outputs": [
    {
     "data": {
      "text/plain": [
       "{'alpha': 1.0,\n",
       " 'copy_X': True,\n",
       " 'fit_intercept': True,\n",
       " 'max_iter': 1000,\n",
       " 'normalize': 'deprecated',\n",
       " 'positive': False,\n",
       " 'precompute': False,\n",
       " 'random_state': None,\n",
       " 'selection': 'cyclic',\n",
       " 'tol': 0.0001,\n",
       " 'warm_start': False}"
      ]
     },
     "execution_count": 21,
     "metadata": {},
     "output_type": "execute_result"
    }
   ],
   "source": [
    "lasso = Lasso(alpha=1.0, fit_intercept=True, positive=False, tol=0.0001, selection='cyclic')\n",
    "lasso.get_params()"
   ]
  },
  {
   "cell_type": "code",
   "execution_count": 22,
   "id": "52478a76",
   "metadata": {},
   "outputs": [
    {
     "name": "stdout",
     "output_type": "stream",
     "text": [
      ">>> Fitting and prediction were completed in 0.298 seconds.\n"
     ]
    }
   ],
   "source": [
    "# Fit the training data into the lasso model, then make predictions on the test data\n",
    "s_time = time.time()\n",
    "lasso.fit(x_train, y_train)\n",
    "y_pred = lasso.predict(x_test)\n",
    "print(\">>> Fitting and prediction were completed in {:.3f} seconds.\".format(time.time()-s_time))"
   ]
  },
  {
   "cell_type": "code",
   "execution_count": 23,
   "id": "6f7a02d1",
   "metadata": {},
   "outputs": [
    {
     "name": "stdout",
     "output_type": "stream",
     "text": [
      "COEF: [-9.09457221e+01  1.09641438e+02  3.69053993e+02  2.79360410e+02\n",
      "  4.17168828e+02  1.65570544e+01 -2.12174298e+00  2.01548384e+01\n",
      " -2.84185577e+01  8.98215295e+01 -0.00000000e+00  2.07446143e+02\n",
      "  8.37770866e+01  1.41952729e+02  3.33708980e+02  6.46411284e+01\n",
      "  9.39782072e+01  7.41790819e+03  5.05855012e+03  3.88681203e+03\n",
      "  9.61529162e+03  1.00630089e+04  7.88832813e+03  1.33604199e+04\n",
      "  6.59263103e+03  8.53427688e+03  8.55078758e+03  2.95168932e+03]\n",
      "INTERCEPT: 6008.493639480552\n",
      "ITERATIONS: 8\n"
     ]
    }
   ],
   "source": [
    "print(\"COEF:\", lasso.coef_)   # Parameter vector (w in the cost function function formula)\n",
    "print(\"INTERCEPT:\", lasso.intercept_)   # Independent term in decision function\n",
    "print(\"ITERATIONS:\", lasso.n_iter_)   # Number of iterations run by the coord. descent solver to reach the specified tolerance"
   ]
  },
  {
   "cell_type": "code",
   "execution_count": 24,
   "id": "40e92863",
   "metadata": {},
   "outputs": [
    {
     "name": "stdout",
     "output_type": "stream",
     "text": [
      "  6006.3718964973605 |     5977\n",
      "  13429.434310477223 |    19203\n",
      "   13795.36357600582 |    15582\n",
      "   6334.716745846651 |     5942\n",
      "  14717.807920757432 |    20266\n",
      "   6008.493639480552 |     8611\n",
      "   6008.493639480552 |     2762\n",
      "   6098.315168962042 |     3935\n",
      "  10310.352759260722 |     5722\n",
      "   6695.732499463127 |     6038\n",
      "   6025.050693915912 |     5191\n",
      "  13842.446461203512 |    15719\n",
      "  13563.057084899636 |    15499\n",
      "   6423.540724951673 |     8612\n",
      "     5934.1049718277 |     7908\n",
      "  5917.5479173923395 |     8584\n",
      "   6460.915238527397 |     3951\n",
      "   6025.050693915912 |     8770\n",
      "   6376.423439588509 |     7899\n",
      "  19419.920562536914 |    23301\n"
     ]
    }
   ],
   "source": [
    "# Compare the predicted values against the actual ones for the top 20 rows\n",
    "for i in range(20):\n",
    "    print(\"{:20} | {:8}\".format(y_pred[i], y_test.iloc[i]))"
   ]
  },
  {
   "cell_type": "code",
   "execution_count": 25,
   "id": "725b70d7",
   "metadata": {},
   "outputs": [
    {
     "name": "stdout",
     "output_type": "stream",
     "text": [
      "MSE: 10629010.555572461\n",
      "RMSE: 3260.2163357011236\n",
      "MAE: 2593.9137211500674\n",
      "R2 SCORE: 0.5777950726533235\n",
      "ADJUSTED R2 SCORE: 0.5769057603737118\n",
      "# CROSS VALIDATION #\n",
      "FITTING TIME: [0.32398534 0.35156775 0.32195902 0.31764054 0.34523821] -> 0.3320781707763672\n",
      "SCORING TIME: [0.01788712 0.00900793 0.02369356 0.01564932 0.        ] -> 0.01324758529663086\n",
      "TRAIN SCORE: [0.57709464 0.57680992 0.57642466 0.5765918  0.57796351] -> 0.5769769040208853\n",
      "TEST SCORE: [0.57631605 0.57745359 0.57887625 0.57825087 0.5707589 ] -> 0.5763311311054082\n"
     ]
    }
   ],
   "source": [
    "# Results of metrics\n",
    "mse, rmse, mae, r2 = mean_squared_error(y_test, y_pred), mean_squared_error(y_test, y_pred, squared=False), \\\n",
    "    mean_absolute_error(y_test, y_pred), r2_score(y_test, y_pred)\n",
    "adj_r2 = 1-(1-lasso.score(X, Y))*(len(Y)-1)/(len(Y)-X.shape[1]-1)\n",
    "print(\"MSE:\", mse)          \n",
    "print(\"RMSE:\", rmse)       \n",
    "print(\"MAE:\", mae)        \n",
    "print(\"R2 SCORE:\", r2)\n",
    "print(\"ADJUSTED R2 SCORE:\", adj_r2)\n",
    "res_mse.append(mse)\n",
    "res_rmse.append(rmse)\n",
    "res_mae.append(mae)\n",
    "res_r2.append(r2)\n",
    "cross_val = cross_validate(lasso, X, Y, cv=5, return_train_score=True)\n",
    "print(\"# CROSS VALIDATION #\")\n",
    "print(\"FITTING TIME:\", cross_val['fit_time'], \"->\", cross_val['fit_time'].mean())\n",
    "print(\"SCORING TIME:\", cross_val['score_time'], \"->\", cross_val['score_time'].mean())\n",
    "print(\"TRAIN SCORE:\", cross_val['train_score'], \"->\", cross_val['train_score'].mean())\n",
    "res_cv_train.append(cross_val['train_score'].mean())\n",
    "print(\"TEST SCORE:\", cross_val['test_score'], \"->\", cross_val['test_score'].mean())\n",
    "res_cv_test.append(cross_val['test_score'].mean())"
   ]
  },
  {
   "cell_type": "markdown",
   "id": "9e277ab7",
   "metadata": {},
   "source": [
    "## 3 - Ridge Regression"
   ]
  },
  {
   "cell_type": "code",
   "execution_count": 26,
   "id": "763f22ec",
   "metadata": {},
   "outputs": [
    {
     "data": {
      "text/plain": [
       "{'alpha': 1.0,\n",
       " 'copy_X': True,\n",
       " 'fit_intercept': True,\n",
       " 'max_iter': None,\n",
       " 'normalize': 'deprecated',\n",
       " 'positive': True,\n",
       " 'random_state': None,\n",
       " 'solver': 'auto',\n",
       " 'tol': 0.0001}"
      ]
     },
     "execution_count": 26,
     "metadata": {},
     "output_type": "execute_result"
    }
   ],
   "source": [
    "ridge = Ridge(alpha=1.0, fit_intercept=True, positive=True, tol=0.0001, solver='auto')\n",
    "ridge.get_params()"
   ]
  },
  {
   "cell_type": "code",
   "execution_count": 27,
   "id": "ea5d5e4e",
   "metadata": {},
   "outputs": [
    {
     "name": "stdout",
     "output_type": "stream",
     "text": [
      ">>> Fitting and prediction were completed in 0.511 seconds.\n"
     ]
    }
   ],
   "source": [
    "# Fit the training data into the ridge model, then make predictions on the test data\n",
    "s_time = time.time()\n",
    "ridge.fit(x_train, y_train)\n",
    "y_pred = ridge.predict(x_test)\n",
    "print(\">>> Fitting and prediction were completed in {:.3f} seconds.\".format(time.time()-s_time))"
   ]
  },
  {
   "cell_type": "code",
   "execution_count": 28,
   "id": "cc96f273",
   "metadata": {},
   "outputs": [
    {
     "name": "stdout",
     "output_type": "stream",
     "text": [
      "COEF: [    0.           119.67993634   383.09791432   289.65546835\n",
      "   430.59365936    27.91467631     0.            35.0587693\n",
      "     0.            93.68047157     0.           213.41784841\n",
      "   151.12998666   162.31144037   356.29478174    78.58010125\n",
      "    99.61272204  7433.58672052  5097.59000706  3944.32965124\n",
      "  9695.60295345 10129.05261929  5843.58208656 13311.43365204\n",
      "  8001.18827524  8775.90885049  8568.4361226   3104.10225142]\n",
      "INTERCEPT: 5906.4172939408845\n",
      "ITERATIONS: None\n"
     ]
    }
   ],
   "source": [
    "print(\"COEF:\", ridge.coef_)   # Weight vector(s)\n",
    "print(\"INTERCEPT:\", ridge.intercept_)   # Independent term in decision function\n",
    "print(\"ITERATIONS:\", ridge.n_iter_)   # Actual number of iterations for each target. (Only for 'sag' & 'lsqr' solvers)"
   ]
  },
  {
   "cell_type": "code",
   "execution_count": 29,
   "id": "22594a3e",
   "metadata": {},
   "outputs": [
    {
     "name": "stdout",
     "output_type": "stream",
     "text": [
      "  5906.4172939408845 |     5977\n",
      "  13439.616736496904 |    19203\n",
      "  13843.893408846983 |    15582\n",
      "  6337.0109533056275 |     5942\n",
      "  14756.844793242628 |    20266\n",
      "  5906.4172939408845 |     8611\n",
      "  5906.4172939408845 |     2762\n",
      "   6000.097765510257 |     3935\n",
      "  10281.340604547768 |     5722\n",
      "   6777.796408314666 |     6038\n",
      "   5934.331970253929 |     5191\n",
      "  13864.278145394775 |    15719\n",
      "  13588.480632179015 |    15499\n",
      "  6337.0109533056275 |     8612\n",
      "   5934.331970253929 |     7908\n",
      "  5906.4172939408845 |     8584\n",
      "   6484.605565953719 |     3951\n",
      "   5934.331970253929 |     8770\n",
      "   6383.195679834703 |     7899\n",
      "  19380.162386351338 |    23301\n"
     ]
    }
   ],
   "source": [
    "# Compare the predicted values against the actual ones for the top 20 rows\n",
    "for i in range(20):\n",
    "    print(\"{:20} | {:8}\".format(y_pred[i], y_test.iloc[i]))"
   ]
  },
  {
   "cell_type": "code",
   "execution_count": 30,
   "id": "cfd171d6",
   "metadata": {},
   "outputs": [
    {
     "name": "stdout",
     "output_type": "stream",
     "text": [
      "MSE: 10641790.372058522\n",
      "RMSE: 3262.175711401598\n",
      "MAE: 2594.1382459937236\n",
      "R2 SCORE: 0.5772874335402762\n",
      "ADJUSTED R2 SCORE: 0.5764510520296242\n",
      "# CROSS VALIDATION #\n",
      "FITTING TIME: [0.59289479 0.56506968 0.65896177 0.66487145 0.61172366] -> 0.6187042713165283\n",
      "SCORING TIME: [0.01147103 0.0156517  0.01300669 0.01745629 0.01564837] -> 0.014646816253662109\n",
      "TRAIN SCORE: [0.57663913 0.57640158 0.57600024 0.57616997 0.57749888] -> 0.5765419601712093\n",
      "TEST SCORE: [0.57567197 0.57710592 0.57824994 0.57785464 0.57052987] -> 0.5758824689062342\n"
     ]
    }
   ],
   "source": [
    "# Results of metrics\n",
    "mse, rmse, mae, r2 = mean_squared_error(y_test, y_pred), mean_squared_error(y_test, y_pred, squared=False), \\\n",
    "    mean_absolute_error(y_test, y_pred), r2_score(y_test, y_pred)\n",
    "adj_r2 = 1-(1-ridge.score(X, Y))*(len(Y)-1)/(len(Y)-X.shape[1]-1)\n",
    "print(\"MSE:\", mse)        \n",
    "print(\"RMSE:\", rmse)      \n",
    "print(\"MAE:\", mae)        \n",
    "print(\"R2 SCORE:\", r2)  \n",
    "print(\"ADJUSTED R2 SCORE:\", adj_r2)\n",
    "res_mse.append(mse)\n",
    "res_rmse.append(rmse)\n",
    "res_mae.append(mae)\n",
    "res_r2.append(r2)\n",
    "cross_val = cross_validate(ridge, X, Y, cv=5, return_train_score=True)\n",
    "print(\"# CROSS VALIDATION #\")\n",
    "print(\"FITTING TIME:\", cross_val['fit_time'], \"->\", cross_val['fit_time'].mean())\n",
    "print(\"SCORING TIME:\", cross_val['score_time'], \"->\", cross_val['score_time'].mean())\n",
    "print(\"TRAIN SCORE:\", cross_val['train_score'], \"->\", cross_val['train_score'].mean())\n",
    "res_cv_train.append(cross_val['train_score'].mean())\n",
    "print(\"TEST SCORE:\", cross_val['test_score'], \"->\", cross_val['test_score'].mean())\n",
    "res_cv_test.append(cross_val['test_score'].mean())"
   ]
  },
  {
   "cell_type": "markdown",
   "id": "f3d39b9f",
   "metadata": {},
   "source": [
    "## 4 - Polynomial Regression"
   ]
  },
  {
   "cell_type": "code",
   "execution_count": 31,
   "id": "e9403a1e",
   "metadata": {},
   "outputs": [
    {
     "data": {
      "text/plain": [
       "{'degree': 2, 'include_bias': True, 'interaction_only': True, 'order': 'C'}"
      ]
     },
     "execution_count": 31,
     "metadata": {},
     "output_type": "execute_result"
    }
   ],
   "source": [
    "poly_feat = PolynomialFeatures(degree=2, include_bias=True, interaction_only=True, order='C')\n",
    "poly_feat.get_params()"
   ]
  },
  {
   "cell_type": "code",
   "execution_count": 32,
   "id": "1820bb28",
   "metadata": {},
   "outputs": [
    {
     "name": "stdout",
     "output_type": "stream",
     "text": [
      "(440054, 407) (110014, 407)\n"
     ]
    }
   ],
   "source": [
    "# Fit then transform for both training and test data (the number of columns must increase)\n",
    "x_poly_train = poly_feat.fit_transform(x_train)\n",
    "x_poly_test = poly_feat.fit_transform(x_test)\n",
    "print(x_poly_train.shape, x_poly_test.shape)"
   ]
  },
  {
   "cell_type": "markdown",
   "id": "706a9449",
   "metadata": {},
   "source": [
    "### Polynomial Regression with Ridge"
   ]
  },
  {
   "cell_type": "code",
   "execution_count": 33,
   "id": "6f9ac4fa",
   "metadata": {},
   "outputs": [
    {
     "name": "stdout",
     "output_type": "stream",
     "text": [
      ">>> Fitting and prediction were completed in 2.184 seconds.\n"
     ]
    }
   ],
   "source": [
    "ridge = Ridge(max_iter=1000)\n",
    "s_time = time.time()\n",
    "ridge.fit(x_poly_train, y_train)\n",
    "y_poly_pred = ridge.predict(x_poly_test)\n",
    "print(\">>> Fitting and prediction were completed in {:.3f} seconds.\".format(time.time()-s_time))"
   ]
  },
  {
   "cell_type": "code",
   "execution_count": 34,
   "id": "746a5597-68ae-4352-96a2-4086a393a0e2",
   "metadata": {},
   "outputs": [
    {
     "name": "stdout",
     "output_type": "stream",
     "text": [
      "COEF: [ 0.00000000e+00 -1.38048695e+02  3.20202313e+01  4.75916626e+02\n",
      "  8.88664390e+02  9.97301660e+01 -3.28948003e+01 -2.04901915e+02\n",
      " -1.01961191e+02  2.09481625e+02  2.14133796e+02  9.72467980e+02\n",
      " -1.17975476e+02 -3.46150634e+02  6.91203909e+01  7.95322808e+02\n",
      " -3.31737993e+02  2.90031830e+02  6.98704976e+03  4.94160819e+03\n",
      "  3.86800407e+03  9.17796502e+03  1.01751090e+04  8.82469388e+03\n",
      "  1.31645262e+04  6.61250772e+03  8.45716061e+03  8.09012561e+03\n",
      "  2.94306138e+03 -4.09056996e+01 -2.28290833e+02 -3.84879152e+02\n",
      "  4.08600867e+01  9.08089585e+01  1.93299439e+02  3.63712696e+01\n",
      " -2.85979875e+02 -1.76827908e+02 -3.33640738e+02  2.68491824e+02\n",
      "  2.91556153e+02  2.02503370e+02 -2.99741923e+02  1.94110741e+02\n",
      " -1.76723683e+02  3.43678434e+01 -1.87657341e+02 -1.41833377e+02\n",
      "  4.69066286e+02  3.98424686e+01  7.13432451e+02  2.63652936e+02\n",
      " -7.37647557e+02  1.42510989e+02  1.12750959e+02  5.79450622e+02\n",
      "  0.00000000e+00  0.00000000e+00  1.85573436e+02 -5.35204464e+01\n",
      "  1.37255003e+02  3.26468685e+02 -8.03990158e+02 -2.17214878e+02\n",
      " -3.29659977e+03 -6.36662726e+01 -6.80053343e+02  2.19821806e+02\n",
      "  1.64824214e+02  2.25862769e+02 -3.38307614e+02  1.52331202e+02\n",
      "  1.98433816e+02  2.06535704e+02 -2.09079734e+01  3.87689743e+01\n",
      " -1.72305899e+03  1.15260915e+02  4.83651279e+02  2.35755285e+02\n",
      "  2.70950902e+02  3.08822401e+02  0.00000000e+00 -1.11511566e+02\n",
      " -9.13605069e+01  1.15383191e+02 -1.96507283e+02 -1.16532335e+02\n",
      " -1.58504461e+02 -1.64571160e+03  2.23718190e+02  1.75234760e+02\n",
      "  1.67192244e+02  7.87240555e+02  5.75269317e+01  4.95552175e+02\n",
      "  2.26638107e+02  5.37337985e+02 -2.54002760e+01  9.97529884e+01\n",
      " -6.87174415e+01 -1.91217387e+03  8.15499892e+02  8.02312080e+02\n",
      "  1.07207591e+03  5.08349969e+02  6.00519068e+02 -2.78421105e+02\n",
      " -2.58942575e+01  5.00508423e+02 -1.37795127e+02  1.49206073e+02\n",
      " -3.17369277e+00 -1.68778143e+03  7.22154631e+01  3.61309548e+02\n",
      " -1.51082134e+03 -5.78226542e+02 -4.67885683e+02 -6.98281619e+02\n",
      "  3.96194485e+01  6.45843134e+02 -1.42266390e+02 -1.26960381e+02\n",
      "  3.20400651e+02  2.60555835e+03 -6.05727672e+01  2.85585927e+02\n",
      " -1.39866339e+02  1.22743233e+02  4.95722125e+02  5.03253956e+01\n",
      " -3.10618173e+01  1.03735819e+02  1.59307085e+02  4.99603214e+01\n",
      " -3.84553137e+02 -1.00074443e+02 -1.33139567e+02 -1.34404561e+02\n",
      " -3.38769836e+02  1.94710027e+02 -7.95083463e+01  7.41223584e+02\n",
      "  4.14513850e+02  4.70535268e+01  3.46938209e+02 -8.27071263e+01\n",
      "  6.65403612e+02  1.26792807e+02  7.38649976e+02  3.87421136e+02\n",
      "  8.51827571e+02 -1.09937477e+00  0.00000000e+00  0.00000000e+00\n",
      "  1.31948716e+01 -2.04609464e+02  7.41529012e+02  5.99517393e+01\n",
      "  3.42590052e+02 -4.83703413e+02 -4.13216059e+02  4.61134852e+00\n",
      " -6.29916058e+01  1.86126620e+02  4.08288095e+01  7.23602340e+01\n",
      " -9.34785944e+01 -1.61068132e+01  9.58891123e+02 -2.18856665e+02\n",
      "  5.66500390e+02 -1.53050443e+02 -2.64036607e+02  2.13997306e+02\n",
      "  0.00000000e+00  1.86849843e+02  5.80597927e+01  0.00000000e+00\n",
      " -7.02703581e+01 -3.65829291e+02  6.72034263e+01 -3.49290032e+02\n",
      "  2.84690377e+02 -1.43167477e+02 -2.93098544e+01 -1.32455218e+00\n",
      "  1.24868244e+01  4.54222377e+01 -1.51852005e+02  8.02038505e+02\n",
      "  2.09918034e+02  1.28373007e+03 -4.28685306e+02 -8.35078914e+01\n",
      "  3.06907730e+02 -3.58403389e+01  6.60019429e+01 -1.03323288e+03\n",
      "  2.56767919e+02  3.55607537e+02  1.49995591e+02 -8.27315749e+02\n",
      "  3.33924919e+02 -4.70379028e+01 -5.65159642e+00 -3.33294885e+00\n",
      "  2.23158003e+02 -1.28185358e+02  2.68564492e+02 -4.73718335e+02\n",
      " -6.09783048e+01  5.84170732e+02 -1.42112527e+02 -3.24316900e+01\n",
      "  4.63432125e+02  0.00000000e+00  0.00000000e+00  0.00000000e+00\n",
      "  0.00000000e+00  0.00000000e+00  0.00000000e+00  0.00000000e+00\n",
      "  0.00000000e+00  3.37974407e+02 -4.00094878e+01  4.37533265e+02\n",
      "  4.09453704e+01  6.95026858e+02 -1.18055279e+02 -5.33883380e+02\n",
      "  1.71239066e+02 -1.02414960e+03  7.32618856e+01 -1.76398371e+02\n",
      "  0.00000000e+00  0.00000000e+00  0.00000000e+00  0.00000000e+00\n",
      "  0.00000000e+00  0.00000000e+00  0.00000000e+00  3.44854282e+02\n",
      "  8.46850917e+01  2.16568230e+02  5.77809893e+01 -2.39742109e+02\n",
      " -8.39369702e+02 -1.33487360e+02  1.31882652e+02 -2.48133720e+02\n",
      "  4.65332925e+02 -1.11469455e+02  0.00000000e+00  0.00000000e+00\n",
      "  0.00000000e+00  0.00000000e+00  0.00000000e+00  0.00000000e+00\n",
      " -8.46567004e+01 -4.73195958e+02 -5.30096820e+02 -4.88548848e+02\n",
      "  5.17826615e+02 -3.34728411e+02  3.86759134e+02  0.00000000e+00\n",
      " -1.62905092e+03  2.00374064e+01  1.15861184e+03  0.00000000e+00\n",
      "  0.00000000e+00  0.00000000e+00  0.00000000e+00  0.00000000e+00\n",
      "  3.14810315e+02  1.46561163e+02  4.63853411e+01  1.91502141e+01\n",
      " -2.95508220e+02 -9.77648035e+02  1.46470351e+02  3.43512949e+02\n",
      "  2.31501456e+02  4.00997568e+02  3.78685322e+02  0.00000000e+00\n",
      "  0.00000000e+00  0.00000000e+00  0.00000000e+00  7.01658155e+01\n",
      " -2.89607320e+02 -4.04271128e+02 -3.72731609e+01 -5.73069094e+02\n",
      " -2.47962632e+02 -1.88837760e+02 -1.81148551e+03 -4.61489023e+02\n",
      "  5.44575873e+02 -5.55948847e+01  0.00000000e+00  0.00000000e+00\n",
      "  0.00000000e+00  7.63798100e+01  3.66947206e+02  3.60241413e+02\n",
      "  2.06981620e+02 -1.10830688e+02 -9.81132022e+00  1.60779145e+02\n",
      "  5.18046525e+02  6.28369948e+01  5.72536422e+02  3.06349479e+01\n",
      "  0.00000000e+00  0.00000000e+00  4.17565836e+02  3.31649656e+02\n",
      "  3.04222760e+02  1.11516039e+02  4.86194855e+01 -6.08487212e+02\n",
      "  6.60758367e+02  1.41309252e+02  2.89266352e+02  5.53939341e+02\n",
      " -1.87843796e+02  0.00000000e+00  1.50488169e+02  6.64703412e+01\n",
      "  1.56549630e+02  1.81141280e+02  1.35055764e+02  3.73337511e+02\n",
      " -7.28294836e+01  3.50862528e+02  4.82498472e+02  2.01919360e+02\n",
      "  9.08136125e+01  3.42638228e+02  3.40743914e+02  2.73425706e+02\n",
      "  2.34903387e+02  4.42409901e+02  4.45916776e+02 -2.36278978e+02\n",
      " -8.74000735e+02 -5.33024545e+02  5.25733302e+02  6.19042242e+02\n",
      "  0.00000000e+00  0.00000000e+00  0.00000000e+00  0.00000000e+00\n",
      "  0.00000000e+00  0.00000000e+00  0.00000000e+00  0.00000000e+00\n",
      "  0.00000000e+00  0.00000000e+00  0.00000000e+00  0.00000000e+00\n",
      "  0.00000000e+00  0.00000000e+00  0.00000000e+00  0.00000000e+00\n",
      "  0.00000000e+00  0.00000000e+00  0.00000000e+00  0.00000000e+00\n",
      "  0.00000000e+00  0.00000000e+00  0.00000000e+00  0.00000000e+00\n",
      "  0.00000000e+00  0.00000000e+00  0.00000000e+00  0.00000000e+00\n",
      "  0.00000000e+00  0.00000000e+00  0.00000000e+00  0.00000000e+00\n",
      "  0.00000000e+00  0.00000000e+00  0.00000000e+00  0.00000000e+00\n",
      "  0.00000000e+00  0.00000000e+00  0.00000000e+00  0.00000000e+00\n",
      "  0.00000000e+00  0.00000000e+00  0.00000000e+00  0.00000000e+00\n",
      "  0.00000000e+00  0.00000000e+00  0.00000000e+00  0.00000000e+00\n",
      "  0.00000000e+00  0.00000000e+00  0.00000000e+00  0.00000000e+00\n",
      "  0.00000000e+00  0.00000000e+00  0.00000000e+00]\n",
      "INTERCEPT: 6156.91653256426\n",
      "ITERATIONS: None\n",
      "FEATURES: 407\n"
     ]
    }
   ],
   "source": [
    "print(\"COEF:\", ridge.coef_)   # Weight vector(s)\n",
    "print(\"INTERCEPT:\", ridge.intercept_)   # Independent term in decision function. Set to 0.0 if fit_intercept = False\n",
    "# Actual number of iterations for each target. Only for 'sag' & 'lsqr' solvers. Other solvers will return None\n",
    "print(\"ITERATIONS:\", ridge.n_iter_)\n",
    "print(\"FEATURES:\", ridge.n_features_in_)   # Number of features seen during fit"
   ]
  },
  {
   "cell_type": "code",
   "execution_count": 35,
   "id": "e5c9cecb",
   "metadata": {},
   "outputs": [
    {
     "name": "stdout",
     "output_type": "stream",
     "text": [
      "MSE: 10563328.623218928\n",
      "RMSE: 3250.1274779951214\n",
      "MAE: 2579.0101373622592\n",
      "R2 SCORE: 0.5804040864775477\n",
      "# CROSS VALIDATION #\n",
      "FITTING TIME: [0.24470925 0.19978452 0.20433927 0.26373696 0.20417547] -> 0.22334909439086914\n",
      "SCORING TIME: [0.01500726 0.01560545 0.0156436  0.         0.01661634] -> 0.012574529647827149\n",
      "TRAIN SCORE: [0.57725177 0.57696511 0.57657826 0.5767432  0.57812304] -> 0.5771322747239722\n",
      "TEST SCORE: [0.57636012 0.57746277 0.57899173 0.57834869 0.57123807] -> 0.5764802780848559\n"
     ]
    }
   ],
   "source": [
    "# Results of metrics\n",
    "mse, rmse, mae, r2 = mean_squared_error(y_test, y_poly_pred), mean_squared_error(y_test, y_poly_pred, squared=False), \\\n",
    "    mean_absolute_error(y_test, y_poly_pred), r2_score(y_test, y_poly_pred)\n",
    "print(\"MSE:\", mse)        \n",
    "print(\"RMSE:\", rmse)       \n",
    "print(\"MAE:\", mae)          \n",
    "print(\"R2 SCORE:\", r2)      \n",
    "res_mse.append(mse)\n",
    "res_rmse.append(rmse)\n",
    "res_mae.append(mae)\n",
    "res_r2.append(r2)\n",
    "cross_val = cross_validate(ridge, X, Y, cv=5, return_train_score=True)\n",
    "print(\"# CROSS VALIDATION #\")\n",
    "print(\"FITTING TIME:\", cross_val['fit_time'], \"->\", cross_val['fit_time'].mean())\n",
    "print(\"SCORING TIME:\", cross_val['score_time'], \"->\", cross_val['score_time'].mean())\n",
    "print(\"TRAIN SCORE:\", cross_val['train_score'], \"->\", cross_val['train_score'].mean())\n",
    "res_cv_train.append(cross_val['train_score'].mean())\n",
    "print(\"TEST SCORE:\", cross_val['test_score'], \"->\", cross_val['test_score'].mean())\n",
    "res_cv_test.append(cross_val['test_score'].mean())"
   ]
  },
  {
   "cell_type": "markdown",
   "id": "9bd56ca9",
   "metadata": {},
   "source": [
    "## 5 - Random Forest Regression"
   ]
  },
  {
   "cell_type": "code",
   "execution_count": 36,
   "id": "feabb351",
   "metadata": {},
   "outputs": [
    {
     "data": {
      "text/plain": [
       "{'bootstrap': True,\n",
       " 'ccp_alpha': 0.2,\n",
       " 'criterion': 'friedman_mse',\n",
       " 'max_depth': 25,\n",
       " 'max_features': None,\n",
       " 'max_leaf_nodes': None,\n",
       " 'max_samples': None,\n",
       " 'min_impurity_decrease': 0.0,\n",
       " 'min_samples_leaf': 2,\n",
       " 'min_samples_split': 2,\n",
       " 'min_weight_fraction_leaf': 0.1,\n",
       " 'n_estimators': 25,\n",
       " 'n_jobs': None,\n",
       " 'oob_score': True,\n",
       " 'random_state': None,\n",
       " 'verbose': 0,\n",
       " 'warm_start': False}"
      ]
     },
     "execution_count": 36,
     "metadata": {},
     "output_type": "execute_result"
    }
   ],
   "source": [
    "rforest = RandomForestRegressor(n_estimators=25, criterion='friedman_mse', max_depth=25, min_samples_split=2, \n",
    "                                min_samples_leaf=2, min_weight_fraction_leaf=0.1, max_features=None, max_leaf_nodes=None,\n",
    "                                bootstrap=True, warm_start=False, ccp_alpha=0.2, max_samples=None, oob_score=True)\n",
    "# rforest = RandomForestRegressor(n_estimators=40, criterion='friedman_mse', max_depth=20, min_samples_split=4, \n",
    "#                                 min_samples_leaf=4, min_weight_fraction_leaf=0.1, max_features=None, max_leaf_nodes=None,\n",
    "#                                 bootstrap=True, warm_start=False, ccp_alpha=0.2, max_samples=None)\n",
    "rforest.get_params()"
   ]
  },
  {
   "cell_type": "code",
   "execution_count": 37,
   "id": "125588f3",
   "metadata": {},
   "outputs": [
    {
     "name": "stdout",
     "output_type": "stream",
     "text": [
      ">>> Fitting and prediction were completed in 5.213 seconds.\n"
     ]
    }
   ],
   "source": [
    "# Fit the training data into the random forest, then make predictions on the test data\n",
    "s_time = time.time()\n",
    "rforest.fit(x_train, y_train)\n",
    "y_pred = rforest.predict(x_test)\n",
    "print(\">>> Fitting and prediction were completed in {:.3f} seconds.\".format(time.time()-s_time))"
   ]
  },
  {
   "cell_type": "code",
   "execution_count": 38,
   "id": "efd1ffaa",
   "metadata": {},
   "outputs": [
    {
     "name": "stdout",
     "output_type": "stream",
     "text": [
      "MSE: 18671504.211212683\n",
      "RMSE: 4321.0535996690305\n",
      "MAE: 3240.048305976475\n",
      "R2 SCORE: 0.2583316163125555\n",
      "# CROSS VALIDATION #\n",
      "FITTING TIME: [5.05846715 5.23106074 5.25475049 4.95870519 4.89357567] -> 5.079311847686768\n",
      "SCORING TIME: [0.04744124 0.07866311 0.08682084 0.04730582 0.05811119] -> 0.06366844177246093\n",
      "TRAIN SCORE: [0.2568124  0.25690763 0.25754215 0.25739505 0.25592781] -> 0.25691700733475387\n",
      "TEST SCORE: [0.25713018 0.25659196 0.25396165 0.25460256 0.2572618 ] -> 0.2559096302321848\n"
     ]
    }
   ],
   "source": [
    "# Results of metrics\n",
    "mse, rmse, mae, r2 = mean_squared_error(y_test, y_pred), mean_squared_error(y_test, y_pred, squared=False), \\\n",
    "    mean_absolute_error(y_test, y_pred), r2_score(y_test, y_pred)\n",
    "print(\"MSE:\", mse)        \n",
    "print(\"RMSE:\", rmse)      \n",
    "print(\"MAE:\", mae)        \n",
    "print(\"R2 SCORE:\", r2)  \n",
    "res_mse.append(mse)\n",
    "res_rmse.append(rmse)\n",
    "res_mae.append(mae)\n",
    "res_r2.append(r2)\n",
    "cross_val = cross_validate(rforest, X, Y, cv=5, return_train_score=True)\n",
    "print(\"# CROSS VALIDATION #\")\n",
    "print(\"FITTING TIME:\", cross_val['fit_time'], \"->\", cross_val['fit_time'].mean())\n",
    "print(\"SCORING TIME:\", cross_val['score_time'], \"->\", cross_val['score_time'].mean())\n",
    "print(\"TRAIN SCORE:\", cross_val['train_score'], \"->\", cross_val['train_score'].mean())\n",
    "res_cv_train.append(cross_val['train_score'].mean())\n",
    "print(\"TEST SCORE:\", cross_val['test_score'], \"->\", cross_val['test_score'].mean())\n",
    "res_cv_test.append(cross_val['test_score'].mean())"
   ]
  },
  {
   "cell_type": "markdown",
   "id": "c294aae3",
   "metadata": {},
   "source": [
    "## 6 - Multi-Layer Perceptron Regression"
   ]
  },
  {
   "cell_type": "code",
   "execution_count": 39,
   "id": "b4a8b400",
   "metadata": {},
   "outputs": [
    {
     "data": {
      "text/plain": [
       "{'activation': 'relu',\n",
       " 'alpha': 0.1,\n",
       " 'batch_size': 'auto',\n",
       " 'beta_1': 0.9,\n",
       " 'beta_2': 0.999,\n",
       " 'early_stopping': False,\n",
       " 'epsilon': 1e-09,\n",
       " 'hidden_layer_sizes': (100,),\n",
       " 'learning_rate': 'adaptive',\n",
       " 'learning_rate_init': 0.01,\n",
       " 'max_fun': 15000,\n",
       " 'max_iter': 250,\n",
       " 'momentum': 0.9,\n",
       " 'n_iter_no_change': 10,\n",
       " 'nesterovs_momentum': True,\n",
       " 'power_t': 0.5,\n",
       " 'random_state': None,\n",
       " 'shuffle': True,\n",
       " 'solver': 'adam',\n",
       " 'tol': 0.01,\n",
       " 'validation_fraction': 0.5,\n",
       " 'verbose': False,\n",
       " 'warm_start': False}"
      ]
     },
     "execution_count": 39,
     "metadata": {},
     "output_type": "execute_result"
    }
   ],
   "source": [
    "mlpr = MLPRegressor(max_iter=250, hidden_layer_sizes=(100,), activation='relu', solver='adam', alpha=0.1,\n",
    "                    learning_rate='adaptive', learning_rate_init=0.01, shuffle=True, tol=0.01, max_fun=15000,\n",
    "                    beta_1=0.9, beta_2=0.999, epsilon=1e-9, n_iter_no_change=10, early_stopping=False, validation_fraction=0.5)\n",
    "mlpr.get_params()"
   ]
  },
  {
   "cell_type": "code",
   "execution_count": 40,
   "id": "3c576393",
   "metadata": {},
   "outputs": [
    {
     "name": "stdout",
     "output_type": "stream",
     "text": [
      ">>> Fitting and prediction were completed in 257.716 seconds.\n"
     ]
    }
   ],
   "source": [
    "# Fit the training data into the multi-layer perceptron regression model, then make predictions on the test data\n",
    "s_time = time.time()\n",
    "mlpr.fit(x_train, y_train)\n",
    "y_pred = mlpr.predict(x_test)\n",
    "print(\">>> Fitting and prediction were completed in {:.3f} seconds.\".format(time.time()-s_time))"
   ]
  },
  {
   "cell_type": "code",
   "execution_count": 41,
   "id": "f93caafb",
   "metadata": {},
   "outputs": [
    {
     "name": "stdout",
     "output_type": "stream",
     "text": [
      "  6034.8398399655025 |     5977\n",
      "  13559.370077571872 |    19203\n",
      "  14013.017543784172 |    15582\n",
      "   6227.646179399692 |     5942\n",
      "  15402.390800828989 |    20266\n",
      "   6147.831691202509 |     8611\n",
      "   6147.831691202509 |     2762\n",
      "  6078.6739444133045 |     3935\n",
      "  10388.201012336625 |     5722\n",
      "   6988.300273693693 |     6038\n",
      "   6309.904334925154 |     5191\n",
      "  14429.003374863993 |    15719\n",
      "  13504.295388458619 |    15499\n",
      "   6384.339657212171 |     8612\n",
      "   6143.038127419821 |     7908\n",
      "   6056.740668701975 |     8584\n",
      "   6282.409148981203 |     3951\n",
      "   6309.904334925154 |     8770\n",
      "   6285.114962480399 |     7899\n",
      "  19884.359447689767 |    23301\n"
     ]
    }
   ],
   "source": [
    "# Compare the predicted values against the actual ones for the first 20 rows\n",
    "for i in range(20):\n",
    "    print(\"{:20} | {:8}\".format(y_pred[i], y_test.iloc[i]))"
   ]
  },
  {
   "cell_type": "code",
   "execution_count": 42,
   "id": "e172e923",
   "metadata": {},
   "outputs": [
    {
     "name": "stdout",
     "output_type": "stream",
     "text": [
      "MSE: 10578768.088886539\n",
      "RMSE: 3252.5018199666756\n",
      "MAE: 2573.549797874534\n",
      "R2 SCORE: 0.5797908009373383\n"
     ]
    }
   ],
   "source": [
    "# Results of metrics\n",
    "mse, rmse, mae, r2 = mean_squared_error(y_test, y_pred), mean_squared_error(y_test, y_pred, squared=False), \\\n",
    "    mean_absolute_error(y_test, y_pred), r2_score(y_test, y_pred)\n",
    "print(\"MSE:\", mse)         \n",
    "print(\"RMSE:\", rmse)        \n",
    "print(\"MAE:\", mae)           \n",
    "print(\"R2 SCORE:\", r2)      \n",
    "res_mse.append(mse)\n",
    "res_rmse.append(rmse)\n",
    "res_mae.append(mae)\n",
    "res_r2.append(r2)\n",
    "# Cross validation is disabled due to taking lots of time for fitting\n",
    "# cross_val = cross_validate(mlpr, X, Y, cv=5, return_train_score=True)\n",
    "# print(\"# CROSS VALIDATION #\")\n",
    "# print(\"FITTING TIME:\", cross_val['fit_time'], \"->\", cross_val['fit_time'].mean())\n",
    "# print(\"SCORING TIME:\", cross_val['score_time'], \"->\", cross_val['score_time'].mean())\n",
    "# print(\"TRAIN SCORE:\", cross_val['train_score'], \"->\", cross_val['train_score'].mean())\n",
    "# print(\"TEST SCORE:\", cross_val['test_score'], \"->\", cross_val['test_score'].mean())"
   ]
  },
  {
   "cell_type": "markdown",
   "id": "3fe8b26f",
   "metadata": {},
   "source": [
    "## 7 - Gradient Boosting"
   ]
  },
  {
   "cell_type": "code",
   "execution_count": 43,
   "id": "2f722876",
   "metadata": {},
   "outputs": [
    {
     "data": {
      "text/plain": [
       "{'alpha': 0.9,\n",
       " 'ccp_alpha': 0.0,\n",
       " 'criterion': 'friedman_mse',\n",
       " 'init': None,\n",
       " 'learning_rate': 0.1,\n",
       " 'loss': 'squared_error',\n",
       " 'max_depth': 3,\n",
       " 'max_features': None,\n",
       " 'max_leaf_nodes': None,\n",
       " 'min_impurity_decrease': 0.0,\n",
       " 'min_samples_leaf': 1,\n",
       " 'min_samples_split': 2,\n",
       " 'min_weight_fraction_leaf': 0.0,\n",
       " 'n_estimators': 100,\n",
       " 'n_iter_no_change': None,\n",
       " 'random_state': None,\n",
       " 'subsample': 1.0,\n",
       " 'tol': 0.0001,\n",
       " 'validation_fraction': 0.1,\n",
       " 'verbose': 0,\n",
       " 'warm_start': False}"
      ]
     },
     "execution_count": 43,
     "metadata": {},
     "output_type": "execute_result"
    }
   ],
   "source": [
    "gradBoost = GradientBoostingRegressor()\n",
    "gradBoost.get_params()"
   ]
  },
  {
   "cell_type": "code",
   "execution_count": 44,
   "id": "bdb39daf",
   "metadata": {},
   "outputs": [
    {
     "name": "stdout",
     "output_type": "stream",
     "text": [
      ">>> Fitting and prediction were completed in 26.332 seconds.\n"
     ]
    }
   ],
   "source": [
    "# Fit the training data into the Gradient boosting regression model, then make predictions on the test data\n",
    "s_time = time.time()\n",
    "gradBoost.fit(x_train, y_train)\n",
    "y_pred = gradBoost.predict(x_test)\n",
    "print(\">>> Fitting and prediction were completed in {:.3f} seconds.\".format(time.time()-s_time))"
   ]
  },
  {
   "cell_type": "code",
   "execution_count": 45,
   "id": "4d6a6ee9",
   "metadata": {},
   "outputs": [
    {
     "name": "stdout",
     "output_type": "stream",
     "text": [
      "INIT: DummyRegressor()\n",
      "ESTIMATORS (FIRST 5):\n",
      "[[DecisionTreeRegressor(criterion='friedman_mse', max_depth=3,\n",
      "                        random_state=RandomState(MT19937) at 0x1D592D41340)]\n",
      " [DecisionTreeRegressor(criterion='friedman_mse', max_depth=3,\n",
      "                        random_state=RandomState(MT19937) at 0x1D592D41340)]\n",
      " [DecisionTreeRegressor(criterion='friedman_mse', max_depth=3,\n",
      "                        random_state=RandomState(MT19937) at 0x1D592D41340)]\n",
      " [DecisionTreeRegressor(criterion='friedman_mse', max_depth=3,\n",
      "                        random_state=RandomState(MT19937) at 0x1D592D41340)]\n",
      " [DecisionTreeRegressor(criterion='friedman_mse', max_depth=3,\n",
      "                        random_state=RandomState(MT19937) at 0x1D592D41340)]]\n",
      "# OF ESTIMATORS: 100\n",
      "# OF FEATURES: 28\n",
      "MAX FEATURES: 28\n",
      "FEATURE IMPORTANCES: [1.23774645e-04 1.60874720e-04 5.27174473e-04 8.95268020e-05\n",
      " 4.52533163e-03 4.54019443e-05 5.19314263e-05 1.53286731e-05\n",
      " 4.16963637e-05 1.15892112e-04 3.23610548e-06 5.70306051e-05\n",
      " 1.51923549e-05 1.90896115e-05 5.35436689e-05 6.28241461e-06\n",
      " 7.07329848e-05 4.65114159e-01 5.14015874e-02 2.50019848e-02\n",
      " 1.81510624e-01 3.99322020e-02 3.82994934e-03 9.94891031e-02\n",
      " 7.64676116e-03 4.76303250e-02 7.17203752e-02 8.00887894e-04]\n",
      "TRAIN SCORE:\n",
      "[23252743.59173096 21638879.61253874 20315844.66977794 19222287.06985365\n",
      " 18323615.02127505 17577881.57544741 16951404.05991038 16420509.00023942\n",
      " 15959286.7709424  15558217.19349762 15202752.52502874 14888591.3838381\n",
      " 14611299.39442152 14361728.89624838 14137709.46294065 13945978.15795089\n",
      " 13753953.92791967 13581495.76099502 13421285.12847133 13266781.1455808\n",
      " 13124948.48885279 12989870.57536501 12863866.42231462 12738572.84702723\n",
      " 12627356.07312358 12522496.62223428 12421741.46538692 12327383.86775864\n",
      " 12240115.34181285 12157781.78544864 12079576.53454536 12009163.45626022\n",
      " 11943869.77574151 11879238.78605616 11820089.82925334 11760434.92949225\n",
      " 11707157.40473227 11657477.36326726 11606089.69406149 11560075.35527523\n",
      " 11516089.41611033 11475989.19968642 11437405.24138901 11400160.02790887\n",
      " 11365890.5703928  11333453.9306857  11301029.08513453 11271187.48025071\n",
      " 11243160.47838165 11216678.97450313 11189972.95994634 11165204.30711788\n",
      " 11141539.17288701 11119596.58653475 11097195.71259374 11076816.94468389\n",
      " 11058008.24390152 11040263.06104107 11022757.0305512  11006435.12398191\n",
      " 10991825.44023403 10975998.12326484 10960897.71080176 10947539.18460477\n",
      " 10934763.43077153 10922432.6393008  10910913.17323795 10900299.58632382\n",
      " 10888929.44071813 10878890.87921783 10869588.32321691 10860331.75407044\n",
      " 10851825.63485393 10843774.28916122 10834685.71327015 10827304.40653856\n",
      " 10820386.18733075 10813654.4924409  10806407.91469981 10800094.3455766\n",
      " 10794178.887607   10788586.83456201 10783152.29608829 10777673.92866013\n",
      " 10772607.84871745 10767855.26471762 10763314.51428463 10758642.62741695\n",
      " 10754315.43809987 10750349.78409476 10746625.97695585 10742540.23775801\n",
      " 10738975.74188704 10735603.1646721  10732516.88352943 10729201.93291892\n",
      " 10726139.32517031 10723238.70724932 10720447.62037776 10717898.05171723]\n"
     ]
    }
   ],
   "source": [
    "print(\"INIT:\", gradBoost.init_)  # The estimator that provides the initial predictions\n",
    "print(\"ESTIMATORS (FIRST 5):\\n{}\".format(gradBoost.estimators_[:5]))  # The collection of fitted sub-estimators\n",
    "# The number of estimators as selected by early stopping (if 'n_iter_no_change' is specified).\n",
    "# Otherwise, it is set to 'n_estimators'\n",
    "print(\"# OF ESTIMATORS:\", gradBoost.n_estimators_)\n",
    "print(\"# OF FEATURES:\", gradBoost.n_features_in_)  # Number of features seen during fit\n",
    "print(\"MAX FEATURES:\", gradBoost.max_features_)  # The inferred value of max_features\n",
    "print(\"FEATURE IMPORTANCES:\", gradBoost.feature_importances_)  # The impurity-based feature importances\n",
    "# The i'th score 'train_score[i]' is the loss of the model at iteration i on the in-bag sample.\n",
    "# If subsample == 1, this is the loss on the training data.\n",
    "print(\"TRAIN SCORE:\\n{}\".format(gradBoost.train_score_))"
   ]
  },
  {
   "cell_type": "code",
   "execution_count": 46,
   "id": "3bd7d71b",
   "metadata": {},
   "outputs": [
    {
     "name": "stdout",
     "output_type": "stream",
     "text": [
      "   6306.157348550279 |     5977\n",
      "  13233.098380508747 |    19203\n",
      "   13272.08485559677 |    15582\n",
      "   6358.394156562297 |     5942\n",
      "  14291.595652807204 |    20266\n",
      "   6306.157348550279 |     8611\n",
      "   6306.157348550279 |     2762\n",
      "   6306.157348550279 |     3935\n",
      "   9857.792947762891 |     5722\n",
      "   6358.394156562297 |     6038\n",
      "   6306.157348550279 |     5191\n",
      "  14117.274813198002 |    15719\n",
      "  13267.312166795056 |    15499\n",
      "   6358.394156562297 |     8612\n",
      "   6306.157348550279 |     7908\n",
      "   6306.157348550279 |     8584\n",
      "   6358.394156562297 |     3951\n",
      "   6306.157348550279 |     8770\n",
      "   6306.157348550279 |     7899\n",
      "   18939.62384758688 |    23301\n"
     ]
    }
   ],
   "source": [
    "# Compare the predicted values against the actual ones for the first 20 rows\n",
    "for i in range(20):\n",
    "    print(\"{:20} | {:8}\".format(y_pred[i], y_test.iloc[i]))"
   ]
  },
  {
   "cell_type": "code",
   "execution_count": 47,
   "id": "6f0d43ee",
   "metadata": {},
   "outputs": [
    {
     "name": "stdout",
     "output_type": "stream",
     "text": [
      "MSE: 10676026.591660645\n",
      "RMSE: 3267.418949516674\n",
      "MAE: 2604.8109191042404\n",
      "R2 SCORE: 0.5759275044542937\n",
      "# CROSS VALIDATION #\n",
      "FITTING TIME: [24.28818536 24.37098885 23.54389715 23.977036   23.29249787] -> 23.894521045684815\n",
      "SCORING TIME: [0.1288271  0.15191245 0.12545347 0.12311578 0.1256609 ] -> 0.13099393844604493\n",
      "TRAIN SCORE: [0.57584628 0.57550395 0.57518515 0.57526316 0.5763606 ] -> 0.5756318277972502\n",
      "TEST SCORE: [0.57496294 0.57611241 0.57746961 0.57677221 0.56826677] -> 0.5747167880674942\n"
     ]
    }
   ],
   "source": [
    "# Results of metrics\n",
    "mse, rmse, mae, r2 = mean_squared_error(y_test, y_pred), mean_squared_error(y_test, y_pred, squared=False), \\\n",
    "    mean_absolute_error(y_test, y_pred), r2_score(y_test, y_pred)\n",
    "print(\"MSE:\", mse)         \n",
    "print(\"RMSE:\", rmse)        \n",
    "print(\"MAE:\", mae)           \n",
    "print(\"R2 SCORE:\", r2)      \n",
    "res_mse.append(mse)\n",
    "res_rmse.append(rmse)\n",
    "res_mae.append(mae)\n",
    "res_r2.append(r2)\n",
    "cross_val = cross_validate(gradBoost, X, Y, cv=5, return_train_score=True)\n",
    "print(\"# CROSS VALIDATION #\")\n",
    "print(\"FITTING TIME:\", cross_val['fit_time'], \"->\", cross_val['fit_time'].mean())\n",
    "print(\"SCORING TIME:\", cross_val['score_time'], \"->\", cross_val['score_time'].mean())\n",
    "print(\"TRAIN SCORE:\", cross_val['train_score'], \"->\", cross_val['train_score'].mean())\n",
    "res_cv_train.append(cross_val['train_score'].mean())\n",
    "print(\"TEST SCORE:\", cross_val['test_score'], \"->\", cross_val['test_score'].mean())\n",
    "res_cv_test.append(cross_val['test_score'].mean())"
   ]
  },
  {
   "cell_type": "markdown",
   "id": "cf68d669",
   "metadata": {},
   "source": [
    "## 8 - XGBoost"
   ]
  },
  {
   "cell_type": "code",
   "execution_count": 48,
   "id": "73d898a3",
   "metadata": {},
   "outputs": [
    {
     "data": {
      "text/plain": [
       "{'objective': 'reg:squarederror',\n",
       " 'base_score': None,\n",
       " 'booster': None,\n",
       " 'callbacks': None,\n",
       " 'colsample_bylevel': None,\n",
       " 'colsample_bynode': None,\n",
       " 'colsample_bytree': None,\n",
       " 'device': None,\n",
       " 'early_stopping_rounds': None,\n",
       " 'enable_categorical': False,\n",
       " 'eval_metric': None,\n",
       " 'feature_types': None,\n",
       " 'gamma': None,\n",
       " 'grow_policy': None,\n",
       " 'importance_type': None,\n",
       " 'interaction_constraints': None,\n",
       " 'learning_rate': None,\n",
       " 'max_bin': None,\n",
       " 'max_cat_threshold': None,\n",
       " 'max_cat_to_onehot': None,\n",
       " 'max_delta_step': None,\n",
       " 'max_depth': None,\n",
       " 'max_leaves': None,\n",
       " 'min_child_weight': None,\n",
       " 'missing': nan,\n",
       " 'monotone_constraints': None,\n",
       " 'multi_strategy': None,\n",
       " 'n_estimators': None,\n",
       " 'n_jobs': None,\n",
       " 'num_parallel_tree': None,\n",
       " 'random_state': None,\n",
       " 'reg_alpha': None,\n",
       " 'reg_lambda': None,\n",
       " 'sampling_method': None,\n",
       " 'scale_pos_weight': None,\n",
       " 'subsample': None,\n",
       " 'tree_method': None,\n",
       " 'validate_parameters': None,\n",
       " 'verbosity': None}"
      ]
     },
     "execution_count": 48,
     "metadata": {},
     "output_type": "execute_result"
    }
   ],
   "source": [
    "xgb = xgboost.XGBRegressor()\n",
    "xgb.get_params()"
   ]
  },
  {
   "cell_type": "code",
   "execution_count": 49,
   "id": "9511cf4f",
   "metadata": {},
   "outputs": [
    {
     "name": "stdout",
     "output_type": "stream",
     "text": [
      ">>> Fitting and prediction were completed in 2.162 seconds.\n"
     ]
    }
   ],
   "source": [
    "# Fit the training data into the extreme gradient boosting regression model, then make predictions on the test data\n",
    "s_time = time.time()\n",
    "xgb.fit(x_train, y_train)\n",
    "y_pred = xgb.predict(x_test)\n",
    "print(\">>> Fitting and prediction were completed in {:.3f} seconds.\".format(time.time()-s_time))"
   ]
  },
  {
   "cell_type": "code",
   "execution_count": 50,
   "id": "2132f44d",
   "metadata": {},
   "outputs": [
    {
     "name": "stdout",
     "output_type": "stream",
     "text": [
      "    5940.12451171875 |     5977\n",
      "    13667.1650390625 |    19203\n",
      "      14327.69140625 |    15582\n",
      "     6160.4990234375 |     5942\n",
      "      15407.24609375 |    20266\n",
      "       6108.30859375 |     8611\n",
      "       6108.30859375 |     2762\n",
      "    6347.10400390625 |     3935\n",
      "    10118.0966796875 |     5722\n",
      "    6748.69580078125 |     6038\n",
      "        6240.0390625 |     5191\n",
      "    14277.8994140625 |    15719\n",
      "     14003.822265625 |    15499\n",
      "    6078.05908203125 |     8612\n",
      "            6088.875 |     7908\n",
      "     6031.6005859375 |     8584\n",
      "    6216.72900390625 |     3951\n",
      "        6240.0390625 |     8770\n",
      "    6159.24560546875 |     7899\n",
      "     19986.998046875 |    23301\n"
     ]
    }
   ],
   "source": [
    "# Compare the predicted values against the actual ones for the first 20 rows\n",
    "for i in range(20):\n",
    "    print(\"{:20} | {:8}\".format(y_pred[i], y_test.iloc[i]))"
   ]
  },
  {
   "cell_type": "code",
   "execution_count": 51,
   "id": "a981e44d",
   "metadata": {},
   "outputs": [
    {
     "name": "stdout",
     "output_type": "stream",
     "text": [
      "MSE: 10499499.767814482\n",
      "RMSE: 3240.2931607825985\n",
      "MAE: 2566.42059808954\n",
      "R2 SCORE: 0.5829394924890252\n",
      "# CROSS VALIDATION #\n",
      "FITTING TIME: [1.9424119  1.98959112 1.88092661 2.06958032 2.10162044] -> 1.9968260765075683\n",
      "SCORING TIME: [0.04726076 0.06252837 0.05176425 0.06250024 0.06821346] -> 0.05845341682434082\n",
      "TRAIN SCORE: [0.58650879 0.58640271 0.58598394 0.58606148 0.58747554] -> 0.5864864926695617\n",
      "TEST SCORE: [0.58176716 0.58271233 0.58463785 0.58353094 0.57676644] -> 0.581882943490829\n"
     ]
    }
   ],
   "source": [
    "# Results of metrics\n",
    "mse, rmse, mae, r2 = mean_squared_error(y_test, y_pred), mean_squared_error(y_test, y_pred, squared=False), \\\n",
    "    mean_absolute_error(y_test, y_pred), r2_score(y_test, y_pred)\n",
    "print(\"MSE:\", mse)         \n",
    "print(\"RMSE:\", rmse)        \n",
    "print(\"MAE:\", mae)           \n",
    "print(\"R2 SCORE:\", r2)      \n",
    "res_mse.append(mse)\n",
    "res_rmse.append(rmse)\n",
    "res_mae.append(mae)\n",
    "res_r2.append(r2)\n",
    "cross_val = cross_validate(xgb, X, Y, cv=5, return_train_score=True)\n",
    "print(\"# CROSS VALIDATION #\")\n",
    "print(\"FITTING TIME:\", cross_val['fit_time'], \"->\", cross_val['fit_time'].mean())\n",
    "print(\"SCORING TIME:\", cross_val['score_time'], \"->\", cross_val['score_time'].mean())\n",
    "print(\"TRAIN SCORE:\", cross_val['train_score'], \"->\", cross_val['train_score'].mean())\n",
    "res_cv_train.append(cross_val['train_score'].mean())\n",
    "print(\"TEST SCORE:\", cross_val['test_score'], \"->\", cross_val['test_score'].mean())\n",
    "res_cv_test.append(cross_val['test_score'].mean())"
   ]
  },
  {
   "cell_type": "markdown",
   "id": "80237705",
   "metadata": {},
   "source": [
    "## Results of Metrics of All ML Methods Together"
   ]
  },
  {
   "cell_type": "code",
   "execution_count": 56,
   "id": "2762b7c3",
   "metadata": {},
   "outputs": [
    {
     "data": {
      "image/png": "[encoded data removed]",
      "text/plain": [
       "<Figure size 900x450 with 1 Axes>"
      ]
     },
     "metadata": {},
     "output_type": "display_data"
    }
   ],
   "source": [
    "methods = ['LinReg', 'Lasso', 'Ridge', 'PolyRidge', 'RForest', 'MLPR', 'GradBoost', 'XGBoost']\n",
    "plt.figure(figsize=(9,4.5))\n",
    "plt.barh(range(8), res_mse, color='#00afff')\n",
    "plt.title(\"MSE Results\", fontsize=18, fontweight='bold')\n",
    "plt.yticks(range(8), methods)\n",
    "plt.ylim(7.7,-0.7)\n",
    "plt.xlabel('MSE Values', fontsize=13, fontweight='bold')\n",
    "plt.ylabel('ML Models', fontsize=13, fontweight='bold')\n",
    "for i in range(8):\n",
    "    plt.text(res_mse[i]-3200000, i+0.12, \"{:.2f}\".format(res_mse[i]), fontweight='bold')\n",
    "plt.show()"
   ]
  },
  {
   "cell_type": "code",
   "execution_count": 57,
   "id": "35d1005d",
   "metadata": {},
   "outputs": [
    {
     "data": {
      "image/png": "[encoded data removed]",
      "text/plain": [
       "<Figure size 900x450 with 1 Axes>"
      ]
     },
     "metadata": {},
     "output_type": "display_data"
    }
   ],
   "source": [
    "plt.figure(figsize=(9,4.5))\n",
    "plt.barh(range(8), res_rmse, color='#00afff')\n",
    "plt.title(\"RMSE Results\", fontsize=18, fontweight='bold')\n",
    "plt.yticks(range(8), methods)\n",
    "plt.ylim(7.7,-0.7)\n",
    "plt.xlabel('RMSE Values', fontsize=13, fontweight='bold')\n",
    "plt.ylabel('ML Models', fontsize=13, fontweight='bold')\n",
    "for i in range(8):\n",
    "    plt.text(res_rmse[i]-450, i+0.12, \"{:.2f}\".format(res_rmse[i]), fontweight='bold')\n",
    "plt.show()"
   ]
  },
  {
   "cell_type": "code",
   "execution_count": 58,
   "id": "cdf02ba0",
   "metadata": {},
   "outputs": [
    {
     "data": {
      "image/png": "[encoded data removed]",
      "text/plain": [
       "<Figure size 900x450 with 1 Axes>"
      ]
     },
     "metadata": {},
     "output_type": "display_data"
    }
   ],
   "source": [
    "plt.figure(figsize=(9,4.5))\n",
    "plt.barh(range(8), res_mae, color='#00afff')\n",
    "plt.title(\"MAE Results\", fontsize=18, fontweight='bold')\n",
    "plt.yticks(range(8), methods)\n",
    "plt.ylim(7.7,-0.7)\n",
    "plt.xlabel('MAE Values', fontsize=13, fontweight='bold')\n",
    "plt.ylabel('ML Models', fontsize=13, fontweight='bold')\n",
    "for i in range(8):\n",
    "    plt.text(res_mae[i]-350, i+0.12, \"{:.2f}\".format(res_mae[i]), fontweight='bold')\n",
    "plt.show()"
   ]
  },
  {
   "cell_type": "code",
   "execution_count": 59,
   "id": "7a1af8d7",
   "metadata": {},
   "outputs": [
    {
     "data": {
      "image/png": "[encoded data removed]",
      "text/plain": [
       "<Figure size 900x450 with 1 Axes>"
      ]
     },
     "metadata": {},
     "output_type": "display_data"
    }
   ],
   "source": [
    "plt.figure(figsize=(9,4.5))\n",
    "plt.barh(range(8), res_r2, color='#00afff')\n",
    "plt.title(\"R2 Score Results\", fontsize=18, fontweight='bold')\n",
    "plt.yticks(range(8), methods)\n",
    "plt.ylim(7.7,-0.7)\n",
    "plt.xlabel('R2 Scores', fontsize=13, fontweight='bold')\n",
    "plt.ylabel('ML Models', fontsize=13, fontweight='bold')\n",
    "for i in range(8):\n",
    "    plt.text(res_r2[i]-0.06, i+0.12, \"{:.4f}\".format(res_r2[i]), fontweight='bold')\n",
    "plt.show()"
   ]
  },
  {
   "cell_type": "code",
   "execution_count": 70,
   "id": "0db51e8a-51bc-425b-b680-6d63a7fe9c12",
   "metadata": {},
   "outputs": [
    {
     "data": {
      "image/png": "[encoded data removed]",
      "text/plain": [
       "<Figure size 900x400 with 1 Axes>"
      ]
     },
     "metadata": {},
     "output_type": "display_data"
    }
   ],
   "source": [
    "plt.figure(figsize=(9,4))\n",
    "plt.barh(range(7), res_cv_train, color='#00afff')\n",
    "plt.title(\"5-Fold CV Results (Train)\", fontsize=18, fontweight='bold')\n",
    "plt.yticks(range(7), methods[:5]+methods[6:])\n",
    "plt.ylim(6.7,-0.7)\n",
    "plt.xlabel('Train Scores', fontsize=13, fontweight='bold')\n",
    "plt.ylabel('ML Models', fontsize=13, fontweight='bold')\n",
    "for i in range(7):\n",
    "    plt.text(res_cv_train[i]-0.055, i+0.12, \"{:.4f}\".format(res_cv_train[i]), fontweight='bold')\n",
    "plt.show()"
   ]
  },
  {
   "cell_type": "code",
   "execution_count": 72,
   "id": "dd7726ce-dfcf-4dbe-925d-f5069ab84f2b",
   "metadata": {},
   "outputs": [
    {
     "data": {
      "image/png": "[encoded data removed]",
      "text/plain": [
       "<Figure size 900x400 with 1 Axes>"
      ]
     },
     "metadata": {},
     "output_type": "display_data"
    }
   ],
   "source": [
    "plt.figure(figsize=(9,4))\n",
    "plt.barh(range(7), res_cv_test, color='#00afff')\n",
    "plt.title(\"5-Fold CV Results (Test)\", fontsize=18, fontweight='bold')\n",
    "plt.yticks(range(7), methods[:5]+methods[6:])\n",
    "plt.ylim(6.7,-0.7)\n",
    "plt.xlabel('Test Scores', fontsize=13, fontweight='bold')\n",
    "plt.ylabel('ML Models', fontsize=13, fontweight='bold')\n",
    "for i in range(7):\n",
    "    plt.text(res_cv_test[i]-0.055, i+0.12, \"{:.4f}\".format(res_cv_test[i]), fontweight='bold')\n",
    "plt.show()"
   ]
  }
 ],
 "metadata": {
  "kernelspec": {
   "display_name": "Python 3 (ipykernel)",
   "language": "python",
   "name": "python3"
  },
  "language_info": {
   "codemirror_mode": {
    "name": "ipython",
    "version": 3
   },
   "file_extension": ".py",
   "mimetype": "text/x-python",
   "name": "python",
   "nbconvert_exporter": "python",
   "pygments_lexer": "ipython3",
   "version": "3.10.8"
  }
 },
 "nbformat": 4,
 "nbformat_minor": 5
}
