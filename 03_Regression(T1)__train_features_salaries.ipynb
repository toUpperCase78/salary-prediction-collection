{
 "cells": [
  {
   "cell_type": "markdown",
   "id": "ba281020",
   "metadata": {},
   "source": [
    "# 03. rajpurohitpooja/Salary_Prediction_Portfolio\n",
    "\n",
    "## Predictions with ML Regression Models (T1) - train_features.csv & train_salaries.csv"
   ]
  },
  {
   "cell_type": "code",
   "execution_count": 1,
   "id": "cd4037f8",
   "metadata": {},
   "outputs": [],
   "source": [
    "import numpy as np\n",
    "import pandas as pd\n",
    "import matplotlib.pyplot as plt\n",
    "import seaborn as sns\n",
    "import warnings\n",
    "import time\n",
    "warnings.filterwarnings('ignore')\n",
    "from sklearn.linear_model import LinearRegression, Lasso, Ridge, QuantileRegressor\n",
    "from sklearn.tree import DecisionTreeRegressor\n",
    "from sklearn.ensemble import RandomForestRegressor, GradientBoostingRegressor\n",
    "from sklearn.neighbors import KNeighborsRegressor\n",
    "from sklearn.svm import SVR\n",
    "from sklearn.neural_network import MLPRegressor\n",
    "import xgboost\n",
    "from sklearn.model_selection import train_test_split, cross_val_score, cross_validate\n",
    "from sklearn.preprocessing import OneHotEncoder, PolynomialFeatures, StandardScaler, MinMaxScaler\n",
    "from sklearn.metrics import mean_squared_error, mean_absolute_error, r2_score, get_scorer_names\n",
    "df = pd.read_csv('03_train_features.csv')\n",
    "df_salary = pd.read_csv('03_train_salaries.csv')"
   ]
  },
  {
   "cell_type": "code",
   "execution_count": 2,
   "id": "1b7dd3b1",
   "metadata": {},
   "outputs": [
    {
     "name": "stdout",
     "output_type": "stream",
     "text": [
      "<class 'pandas.core.frame.DataFrame'>\n",
      "Int64Index: 1000000 entries, 0 to 999999\n",
      "Data columns (total 9 columns):\n",
      " #   Column               Non-Null Count    Dtype \n",
      "---  ------               --------------    ----- \n",
      " 0   jobId                1000000 non-null  object\n",
      " 1   companyId            1000000 non-null  object\n",
      " 2   jobType              1000000 non-null  object\n",
      " 3   degree               1000000 non-null  object\n",
      " 4   major                1000000 non-null  object\n",
      " 5   industry             1000000 non-null  object\n",
      " 6   yearsExperience      1000000 non-null  int64 \n",
      " 7   milesFromMetropolis  1000000 non-null  int64 \n",
      " 8   salary               1000000 non-null  int64 \n",
      "dtypes: int64(3), object(6)\n",
      "memory usage: 76.3+ MB\n"
     ]
    }
   ],
   "source": [
    "# Merge these two datasets with 'jobId' column; then show all the columns, counts and their data types\n",
    "df = df.merge(df_salary, on='jobId')\n",
    "df.info()"
   ]
  },
  {
   "cell_type": "code",
   "execution_count": 3,
   "id": "891faaca",
   "metadata": {},
   "outputs": [
    {
     "data": {
      "text/html": [
       "<div>\n",
       "<style scoped>\n",
       "    .dataframe tbody tr th:only-of-type {\n",
       "        vertical-align: middle;\n",
       "    }\n",
       "\n",
       "    .dataframe tbody tr th {\n",
       "        vertical-align: top;\n",
       "    }\n",
       "\n",
       "    .dataframe thead th {\n",
       "        text-align: right;\n",
       "    }\n",
       "</style>\n",
       "<table border=\"1\" class=\"dataframe\">\n",
       "  <thead>\n",
       "    <tr style=\"text-align: right;\">\n",
       "      <th></th>\n",
       "      <th>jobId</th>\n",
       "      <th>companyId</th>\n",
       "      <th>jobType</th>\n",
       "      <th>degree</th>\n",
       "      <th>major</th>\n",
       "      <th>industry</th>\n",
       "      <th>yearsExperience</th>\n",
       "      <th>milesFromMetropolis</th>\n",
       "      <th>salary</th>\n",
       "    </tr>\n",
       "  </thead>\n",
       "  <tbody>\n",
       "    <tr>\n",
       "      <th>0</th>\n",
       "      <td>JOB1362684407687</td>\n",
       "      <td>COMP37</td>\n",
       "      <td>CFO</td>\n",
       "      <td>MASTERS</td>\n",
       "      <td>MATH</td>\n",
       "      <td>HEALTH</td>\n",
       "      <td>10</td>\n",
       "      <td>83</td>\n",
       "      <td>130</td>\n",
       "    </tr>\n",
       "    <tr>\n",
       "      <th>1</th>\n",
       "      <td>JOB1362684407688</td>\n",
       "      <td>COMP19</td>\n",
       "      <td>CEO</td>\n",
       "      <td>HIGH_SCHOOL</td>\n",
       "      <td>NONE</td>\n",
       "      <td>WEB</td>\n",
       "      <td>3</td>\n",
       "      <td>73</td>\n",
       "      <td>101</td>\n",
       "    </tr>\n",
       "    <tr>\n",
       "      <th>2</th>\n",
       "      <td>JOB1362684407689</td>\n",
       "      <td>COMP52</td>\n",
       "      <td>VICE_PRESIDENT</td>\n",
       "      <td>DOCTORAL</td>\n",
       "      <td>PHYSICS</td>\n",
       "      <td>HEALTH</td>\n",
       "      <td>10</td>\n",
       "      <td>38</td>\n",
       "      <td>137</td>\n",
       "    </tr>\n",
       "    <tr>\n",
       "      <th>3</th>\n",
       "      <td>JOB1362684407690</td>\n",
       "      <td>COMP38</td>\n",
       "      <td>MANAGER</td>\n",
       "      <td>DOCTORAL</td>\n",
       "      <td>CHEMISTRY</td>\n",
       "      <td>AUTO</td>\n",
       "      <td>8</td>\n",
       "      <td>17</td>\n",
       "      <td>142</td>\n",
       "    </tr>\n",
       "    <tr>\n",
       "      <th>4</th>\n",
       "      <td>JOB1362684407691</td>\n",
       "      <td>COMP7</td>\n",
       "      <td>VICE_PRESIDENT</td>\n",
       "      <td>BACHELORS</td>\n",
       "      <td>PHYSICS</td>\n",
       "      <td>FINANCE</td>\n",
       "      <td>8</td>\n",
       "      <td>16</td>\n",
       "      <td>163</td>\n",
       "    </tr>\n",
       "  </tbody>\n",
       "</table>\n",
       "</div>"
      ],
      "text/plain": [
       "              jobId companyId         jobType       degree      major  \\\n",
       "0  JOB1362684407687    COMP37             CFO      MASTERS       MATH   \n",
       "1  JOB1362684407688    COMP19             CEO  HIGH_SCHOOL       NONE   \n",
       "2  JOB1362684407689    COMP52  VICE_PRESIDENT     DOCTORAL    PHYSICS   \n",
       "3  JOB1362684407690    COMP38         MANAGER     DOCTORAL  CHEMISTRY   \n",
       "4  JOB1362684407691     COMP7  VICE_PRESIDENT    BACHELORS    PHYSICS   \n",
       "\n",
       "  industry  yearsExperience  milesFromMetropolis  salary  \n",
       "0   HEALTH               10                   83     130  \n",
       "1      WEB                3                   73     101  \n",
       "2   HEALTH               10                   38     137  \n",
       "3     AUTO                8                   17     142  \n",
       "4  FINANCE                8                   16     163  "
      ]
     },
     "execution_count": 3,
     "metadata": {},
     "output_type": "execute_result"
    }
   ],
   "source": [
    "# First 5 rows of the dataset\n",
    "df.head()"
   ]
  },
  {
   "cell_type": "code",
   "execution_count": 4,
   "id": "0e9dae9d",
   "metadata": {},
   "outputs": [
    {
     "data": {
      "text/html": [
       "<div>\n",
       "<style scoped>\n",
       "    .dataframe tbody tr th:only-of-type {\n",
       "        vertical-align: middle;\n",
       "    }\n",
       "\n",
       "    .dataframe tbody tr th {\n",
       "        vertical-align: top;\n",
       "    }\n",
       "\n",
       "    .dataframe thead th {\n",
       "        text-align: right;\n",
       "    }\n",
       "</style>\n",
       "<table border=\"1\" class=\"dataframe\">\n",
       "  <thead>\n",
       "    <tr style=\"text-align: right;\">\n",
       "      <th></th>\n",
       "      <th>jobId</th>\n",
       "      <th>companyId</th>\n",
       "      <th>jobType</th>\n",
       "      <th>degree</th>\n",
       "      <th>major</th>\n",
       "      <th>industry</th>\n",
       "      <th>yearsExperience</th>\n",
       "      <th>milesFromMetropolis</th>\n",
       "      <th>salary</th>\n",
       "    </tr>\n",
       "  </thead>\n",
       "  <tbody>\n",
       "    <tr>\n",
       "      <th>999995</th>\n",
       "      <td>JOB1362685407682</td>\n",
       "      <td>COMP56</td>\n",
       "      <td>VICE_PRESIDENT</td>\n",
       "      <td>BACHELORS</td>\n",
       "      <td>CHEMISTRY</td>\n",
       "      <td>HEALTH</td>\n",
       "      <td>19</td>\n",
       "      <td>94</td>\n",
       "      <td>88</td>\n",
       "    </tr>\n",
       "    <tr>\n",
       "      <th>999996</th>\n",
       "      <td>JOB1362685407683</td>\n",
       "      <td>COMP24</td>\n",
       "      <td>CTO</td>\n",
       "      <td>HIGH_SCHOOL</td>\n",
       "      <td>NONE</td>\n",
       "      <td>FINANCE</td>\n",
       "      <td>12</td>\n",
       "      <td>35</td>\n",
       "      <td>160</td>\n",
       "    </tr>\n",
       "    <tr>\n",
       "      <th>999997</th>\n",
       "      <td>JOB1362685407684</td>\n",
       "      <td>COMP23</td>\n",
       "      <td>JUNIOR</td>\n",
       "      <td>HIGH_SCHOOL</td>\n",
       "      <td>NONE</td>\n",
       "      <td>EDUCATION</td>\n",
       "      <td>16</td>\n",
       "      <td>81</td>\n",
       "      <td>64</td>\n",
       "    </tr>\n",
       "    <tr>\n",
       "      <th>999998</th>\n",
       "      <td>JOB1362685407685</td>\n",
       "      <td>COMP3</td>\n",
       "      <td>CFO</td>\n",
       "      <td>MASTERS</td>\n",
       "      <td>NONE</td>\n",
       "      <td>HEALTH</td>\n",
       "      <td>6</td>\n",
       "      <td>5</td>\n",
       "      <td>149</td>\n",
       "    </tr>\n",
       "    <tr>\n",
       "      <th>999999</th>\n",
       "      <td>JOB1362685407686</td>\n",
       "      <td>COMP59</td>\n",
       "      <td>JUNIOR</td>\n",
       "      <td>BACHELORS</td>\n",
       "      <td>NONE</td>\n",
       "      <td>EDUCATION</td>\n",
       "      <td>20</td>\n",
       "      <td>11</td>\n",
       "      <td>88</td>\n",
       "    </tr>\n",
       "  </tbody>\n",
       "</table>\n",
       "</div>"
      ],
      "text/plain": [
       "                   jobId companyId         jobType       degree      major  \\\n",
       "999995  JOB1362685407682    COMP56  VICE_PRESIDENT    BACHELORS  CHEMISTRY   \n",
       "999996  JOB1362685407683    COMP24             CTO  HIGH_SCHOOL       NONE   \n",
       "999997  JOB1362685407684    COMP23          JUNIOR  HIGH_SCHOOL       NONE   \n",
       "999998  JOB1362685407685     COMP3             CFO      MASTERS       NONE   \n",
       "999999  JOB1362685407686    COMP59          JUNIOR    BACHELORS       NONE   \n",
       "\n",
       "         industry  yearsExperience  milesFromMetropolis  salary  \n",
       "999995     HEALTH               19                   94      88  \n",
       "999996    FINANCE               12                   35     160  \n",
       "999997  EDUCATION               16                   81      64  \n",
       "999998     HEALTH                6                    5     149  \n",
       "999999  EDUCATION               20                   11      88  "
      ]
     },
     "execution_count": 4,
     "metadata": {},
     "output_type": "execute_result"
    }
   ],
   "source": [
    "# Last 5 rows of the dataset\n",
    "df.tail()"
   ]
  },
  {
   "cell_type": "markdown",
   "id": "d8a4e0ff",
   "metadata": {},
   "source": [
    "## Prepare Train and Test Sets"
   ]
  },
  {
   "cell_type": "code",
   "execution_count": 5,
   "id": "310ffa3a",
   "metadata": {},
   "outputs": [
    {
     "data": {
      "text/html": [
       "<div>\n",
       "<style scoped>\n",
       "    .dataframe tbody tr th:only-of-type {\n",
       "        vertical-align: middle;\n",
       "    }\n",
       "\n",
       "    .dataframe tbody tr th {\n",
       "        vertical-align: top;\n",
       "    }\n",
       "\n",
       "    .dataframe thead th {\n",
       "        text-align: right;\n",
       "    }\n",
       "</style>\n",
       "<table border=\"1\" class=\"dataframe\">\n",
       "  <thead>\n",
       "    <tr style=\"text-align: right;\">\n",
       "      <th></th>\n",
       "      <th>job_CEO</th>\n",
       "      <th>job_CFO</th>\n",
       "      <th>job_CTO</th>\n",
       "      <th>job_JANITOR</th>\n",
       "      <th>job_JUNIOR</th>\n",
       "      <th>job_MANAGER</th>\n",
       "      <th>job_SENIOR</th>\n",
       "      <th>job_VICE_PRESIDENT</th>\n",
       "      <th>deg_BACHELORS</th>\n",
       "      <th>deg_DOCTORAL</th>\n",
       "      <th>...</th>\n",
       "      <th>ind_AUTO</th>\n",
       "      <th>ind_EDUCATION</th>\n",
       "      <th>ind_FINANCE</th>\n",
       "      <th>ind_HEALTH</th>\n",
       "      <th>ind_OIL</th>\n",
       "      <th>ind_SERVICE</th>\n",
       "      <th>ind_WEB</th>\n",
       "      <th>yearsExperience</th>\n",
       "      <th>milesFromMetropolis</th>\n",
       "      <th>salary</th>\n",
       "    </tr>\n",
       "  </thead>\n",
       "  <tbody>\n",
       "    <tr>\n",
       "      <th>0</th>\n",
       "      <td>0</td>\n",
       "      <td>1</td>\n",
       "      <td>0</td>\n",
       "      <td>0</td>\n",
       "      <td>0</td>\n",
       "      <td>0</td>\n",
       "      <td>0</td>\n",
       "      <td>0</td>\n",
       "      <td>0</td>\n",
       "      <td>0</td>\n",
       "      <td>...</td>\n",
       "      <td>0</td>\n",
       "      <td>0</td>\n",
       "      <td>0</td>\n",
       "      <td>1</td>\n",
       "      <td>0</td>\n",
       "      <td>0</td>\n",
       "      <td>0</td>\n",
       "      <td>10</td>\n",
       "      <td>83</td>\n",
       "      <td>130</td>\n",
       "    </tr>\n",
       "    <tr>\n",
       "      <th>1</th>\n",
       "      <td>1</td>\n",
       "      <td>0</td>\n",
       "      <td>0</td>\n",
       "      <td>0</td>\n",
       "      <td>0</td>\n",
       "      <td>0</td>\n",
       "      <td>0</td>\n",
       "      <td>0</td>\n",
       "      <td>0</td>\n",
       "      <td>0</td>\n",
       "      <td>...</td>\n",
       "      <td>0</td>\n",
       "      <td>0</td>\n",
       "      <td>0</td>\n",
       "      <td>0</td>\n",
       "      <td>0</td>\n",
       "      <td>0</td>\n",
       "      <td>1</td>\n",
       "      <td>3</td>\n",
       "      <td>73</td>\n",
       "      <td>101</td>\n",
       "    </tr>\n",
       "    <tr>\n",
       "      <th>2</th>\n",
       "      <td>0</td>\n",
       "      <td>0</td>\n",
       "      <td>0</td>\n",
       "      <td>0</td>\n",
       "      <td>0</td>\n",
       "      <td>0</td>\n",
       "      <td>0</td>\n",
       "      <td>1</td>\n",
       "      <td>0</td>\n",
       "      <td>1</td>\n",
       "      <td>...</td>\n",
       "      <td>0</td>\n",
       "      <td>0</td>\n",
       "      <td>0</td>\n",
       "      <td>1</td>\n",
       "      <td>0</td>\n",
       "      <td>0</td>\n",
       "      <td>0</td>\n",
       "      <td>10</td>\n",
       "      <td>38</td>\n",
       "      <td>137</td>\n",
       "    </tr>\n",
       "    <tr>\n",
       "      <th>3</th>\n",
       "      <td>0</td>\n",
       "      <td>0</td>\n",
       "      <td>0</td>\n",
       "      <td>0</td>\n",
       "      <td>0</td>\n",
       "      <td>1</td>\n",
       "      <td>0</td>\n",
       "      <td>0</td>\n",
       "      <td>0</td>\n",
       "      <td>1</td>\n",
       "      <td>...</td>\n",
       "      <td>1</td>\n",
       "      <td>0</td>\n",
       "      <td>0</td>\n",
       "      <td>0</td>\n",
       "      <td>0</td>\n",
       "      <td>0</td>\n",
       "      <td>0</td>\n",
       "      <td>8</td>\n",
       "      <td>17</td>\n",
       "      <td>142</td>\n",
       "    </tr>\n",
       "    <tr>\n",
       "      <th>4</th>\n",
       "      <td>0</td>\n",
       "      <td>0</td>\n",
       "      <td>0</td>\n",
       "      <td>0</td>\n",
       "      <td>0</td>\n",
       "      <td>0</td>\n",
       "      <td>0</td>\n",
       "      <td>1</td>\n",
       "      <td>1</td>\n",
       "      <td>0</td>\n",
       "      <td>...</td>\n",
       "      <td>0</td>\n",
       "      <td>0</td>\n",
       "      <td>1</td>\n",
       "      <td>0</td>\n",
       "      <td>0</td>\n",
       "      <td>0</td>\n",
       "      <td>0</td>\n",
       "      <td>8</td>\n",
       "      <td>16</td>\n",
       "      <td>163</td>\n",
       "    </tr>\n",
       "    <tr>\n",
       "      <th>5</th>\n",
       "      <td>0</td>\n",
       "      <td>0</td>\n",
       "      <td>0</td>\n",
       "      <td>0</td>\n",
       "      <td>0</td>\n",
       "      <td>1</td>\n",
       "      <td>0</td>\n",
       "      <td>0</td>\n",
       "      <td>0</td>\n",
       "      <td>1</td>\n",
       "      <td>...</td>\n",
       "      <td>0</td>\n",
       "      <td>0</td>\n",
       "      <td>1</td>\n",
       "      <td>0</td>\n",
       "      <td>0</td>\n",
       "      <td>0</td>\n",
       "      <td>0</td>\n",
       "      <td>2</td>\n",
       "      <td>31</td>\n",
       "      <td>113</td>\n",
       "    </tr>\n",
       "    <tr>\n",
       "      <th>6</th>\n",
       "      <td>0</td>\n",
       "      <td>1</td>\n",
       "      <td>0</td>\n",
       "      <td>0</td>\n",
       "      <td>0</td>\n",
       "      <td>0</td>\n",
       "      <td>0</td>\n",
       "      <td>0</td>\n",
       "      <td>0</td>\n",
       "      <td>0</td>\n",
       "      <td>...</td>\n",
       "      <td>0</td>\n",
       "      <td>0</td>\n",
       "      <td>0</td>\n",
       "      <td>1</td>\n",
       "      <td>0</td>\n",
       "      <td>0</td>\n",
       "      <td>0</td>\n",
       "      <td>23</td>\n",
       "      <td>24</td>\n",
       "      <td>178</td>\n",
       "    </tr>\n",
       "    <tr>\n",
       "      <th>7</th>\n",
       "      <td>0</td>\n",
       "      <td>0</td>\n",
       "      <td>0</td>\n",
       "      <td>0</td>\n",
       "      <td>1</td>\n",
       "      <td>0</td>\n",
       "      <td>0</td>\n",
       "      <td>0</td>\n",
       "      <td>1</td>\n",
       "      <td>0</td>\n",
       "      <td>...</td>\n",
       "      <td>0</td>\n",
       "      <td>1</td>\n",
       "      <td>0</td>\n",
       "      <td>0</td>\n",
       "      <td>0</td>\n",
       "      <td>0</td>\n",
       "      <td>0</td>\n",
       "      <td>9</td>\n",
       "      <td>70</td>\n",
       "      <td>73</td>\n",
       "    </tr>\n",
       "    <tr>\n",
       "      <th>8</th>\n",
       "      <td>0</td>\n",
       "      <td>0</td>\n",
       "      <td>0</td>\n",
       "      <td>1</td>\n",
       "      <td>0</td>\n",
       "      <td>0</td>\n",
       "      <td>0</td>\n",
       "      <td>0</td>\n",
       "      <td>0</td>\n",
       "      <td>0</td>\n",
       "      <td>...</td>\n",
       "      <td>0</td>\n",
       "      <td>1</td>\n",
       "      <td>0</td>\n",
       "      <td>0</td>\n",
       "      <td>0</td>\n",
       "      <td>0</td>\n",
       "      <td>0</td>\n",
       "      <td>1</td>\n",
       "      <td>54</td>\n",
       "      <td>31</td>\n",
       "    </tr>\n",
       "    <tr>\n",
       "      <th>9</th>\n",
       "      <td>0</td>\n",
       "      <td>0</td>\n",
       "      <td>0</td>\n",
       "      <td>0</td>\n",
       "      <td>0</td>\n",
       "      <td>0</td>\n",
       "      <td>0</td>\n",
       "      <td>1</td>\n",
       "      <td>1</td>\n",
       "      <td>0</td>\n",
       "      <td>...</td>\n",
       "      <td>1</td>\n",
       "      <td>0</td>\n",
       "      <td>0</td>\n",
       "      <td>0</td>\n",
       "      <td>0</td>\n",
       "      <td>0</td>\n",
       "      <td>0</td>\n",
       "      <td>17</td>\n",
       "      <td>68</td>\n",
       "      <td>104</td>\n",
       "    </tr>\n",
       "  </tbody>\n",
       "</table>\n",
       "<p>10 rows × 32 columns</p>\n",
       "</div>"
      ],
      "text/plain": [
       "   job_CEO  job_CFO  job_CTO  job_JANITOR  job_JUNIOR  job_MANAGER  \\\n",
       "0        0        1        0            0           0            0   \n",
       "1        1        0        0            0           0            0   \n",
       "2        0        0        0            0           0            0   \n",
       "3        0        0        0            0           0            1   \n",
       "4        0        0        0            0           0            0   \n",
       "5        0        0        0            0           0            1   \n",
       "6        0        1        0            0           0            0   \n",
       "7        0        0        0            0           1            0   \n",
       "8        0        0        0            1           0            0   \n",
       "9        0        0        0            0           0            0   \n",
       "\n",
       "   job_SENIOR  job_VICE_PRESIDENT  deg_BACHELORS  deg_DOCTORAL  ...  ind_AUTO  \\\n",
       "0           0                   0              0             0  ...         0   \n",
       "1           0                   0              0             0  ...         0   \n",
       "2           0                   1              0             1  ...         0   \n",
       "3           0                   0              0             1  ...         1   \n",
       "4           0                   1              1             0  ...         0   \n",
       "5           0                   0              0             1  ...         0   \n",
       "6           0                   0              0             0  ...         0   \n",
       "7           0                   0              1             0  ...         0   \n",
       "8           0                   0              0             0  ...         0   \n",
       "9           0                   1              1             0  ...         1   \n",
       "\n",
       "   ind_EDUCATION  ind_FINANCE  ind_HEALTH  ind_OIL  ind_SERVICE  ind_WEB  \\\n",
       "0              0            0           1        0            0        0   \n",
       "1              0            0           0        0            0        1   \n",
       "2              0            0           1        0            0        0   \n",
       "3              0            0           0        0            0        0   \n",
       "4              0            1           0        0            0        0   \n",
       "5              0            1           0        0            0        0   \n",
       "6              0            0           1        0            0        0   \n",
       "7              1            0           0        0            0        0   \n",
       "8              1            0           0        0            0        0   \n",
       "9              0            0           0        0            0        0   \n",
       "\n",
       "   yearsExperience  milesFromMetropolis  salary  \n",
       "0               10                   83     130  \n",
       "1                3                   73     101  \n",
       "2               10                   38     137  \n",
       "3                8                   17     142  \n",
       "4                8                   16     163  \n",
       "5                2                   31     113  \n",
       "6               23                   24     178  \n",
       "7                9                   70      73  \n",
       "8                1                   54      31  \n",
       "9               17                   68     104  \n",
       "\n",
       "[10 rows x 32 columns]"
      ]
     },
     "execution_count": 5,
     "metadata": {},
     "output_type": "execute_result"
    }
   ],
   "source": [
    "# Create dummy variables from these columns: jobType, degree, major, industry\n",
    "dummy_jobtype = pd.get_dummies(df['jobType'], prefix='job')\n",
    "dummy_degree = pd.get_dummies(df['degree'], prefix='deg')\n",
    "dummy_major = pd.get_dummies(df['major'], prefix='maj')\n",
    "dummy_industry = pd.get_dummies(df['industry'], prefix='ind')\n",
    "df_concat = pd.concat([dummy_jobtype, dummy_degree, dummy_major, dummy_industry,\n",
    "                       df['yearsExperience'], df['milesFromMetropolis'], df['salary']], axis=1)\n",
    "df_concat.head(10)"
   ]
  },
  {
   "cell_type": "code",
   "execution_count": 6,
   "id": "c194751d",
   "metadata": {},
   "outputs": [
    {
     "data": {
      "image/png": "[encoded data removed]",
      "text/plain": [
       "<Figure size 1100x650 with 2 Axes>"
      ]
     },
     "metadata": {},
     "output_type": "display_data"
    },
    {
     "name": "stdout",
     "output_type": "stream",
     "text": [
      "#### CORRELATION VALUES AGAINST SALARIES ####\n",
      "job_CEO                0.285245\n",
      "job_CFO                0.188804\n",
      "job_CTO                0.189600\n",
      "job_JANITOR           -0.441660\n",
      "job_JUNIOR            -0.201993\n",
      "job_MANAGER           -0.006781\n",
      "job_SENIOR            -0.103642\n",
      "job_VICE_PRESIDENT     0.090941\n",
      "deg_BACHELORS          0.111923\n",
      "deg_DOCTORAL           0.231391\n",
      "deg_HIGH_SCHOOL       -0.203543\n",
      "deg_MASTERS            0.171992\n",
      "deg_NONE              -0.257349\n",
      "maj_BIOLOGY            0.076341\n",
      "maj_BUSINESS           0.126124\n",
      "maj_CHEMISTRY          0.084046\n",
      "maj_COMPSCI            0.102987\n",
      "maj_ENGINEERING        0.144176\n",
      "maj_LITERATURE         0.053920\n",
      "maj_MATH               0.110401\n",
      "maj_NONE              -0.371421\n",
      "maj_PHYSICS            0.092057\n",
      "ind_AUTO              -0.069913\n",
      "ind_EDUCATION         -0.175148\n",
      "ind_FINANCE            0.154847\n",
      "ind_HEALTH            -0.003439\n",
      "ind_OIL                0.156959\n",
      "ind_SERVICE           -0.122361\n",
      "ind_WEB                0.058949\n",
      "yearsExperience        0.375013\n",
      "milesFromMetropolis   -0.297666\n",
      "salary                 1.000000\n",
      "Name: salary, dtype: float64\n"
     ]
    }
   ],
   "source": [
    "# Show the correlations of all concatenated columns in a heat map\n",
    "plt.figure(figsize=(11,6.5))\n",
    "sns.heatmap(df_concat.corr())\n",
    "plt.show()\n",
    "print(\"#### CORRELATION VALUES AGAINST SALARIES ####\")\n",
    "print(df_concat.corr()['salary'])"
   ]
  },
  {
   "cell_type": "markdown",
   "id": "17e46044-9482-43ce-8dcc-448dd7a29dd6",
   "metadata": {},
   "source": [
    "### Type 1: Use All Columns"
   ]
  },
  {
   "cell_type": "code",
   "execution_count": 7,
   "id": "54d7bd1c",
   "metadata": {},
   "outputs": [
    {
     "name": "stdout",
     "output_type": "stream",
     "text": [
      "TRAIN SIZE: (800000, 31) (800000,)   TEST SIZE: (200000, 31) (200000,)\n"
     ]
    }
   ],
   "source": [
    "# Use 80% of the dataset as train set, and 20% as test set\n",
    "X = df_concat.drop(columns='salary', axis=1)\n",
    "Y = df_concat.iloc[:,-1]\n",
    "x_train, x_test, y_train, y_test = train_test_split(X, Y, test_size=0.2, random_state=21)\n",
    "print(\"TRAIN SIZE:\", x_train.shape, y_train.shape, \"  TEST SIZE:\", x_test.shape, y_test.shape)"
   ]
  },
  {
   "cell_type": "code",
   "execution_count": 8,
   "id": "c772d188",
   "metadata": {},
   "outputs": [],
   "source": [
    "# Create lists to store results of error values of all regression methods\n",
    "res_mse, res_rmse, res_mae, res_r2, res_cv_train, res_cv_test = [], [], [], [], [], []"
   ]
  },
  {
   "cell_type": "markdown",
   "id": "f26dde5a",
   "metadata": {},
   "source": [
    "# ML Regression Models\n",
    "\n",
    "## 1 - Linear Regression"
   ]
  },
  {
   "cell_type": "code",
   "execution_count": 9,
   "id": "bcb6ebb4",
   "metadata": {},
   "outputs": [
    {
     "data": {
      "text/plain": [
       "{'copy_X': True,\n",
       " 'fit_intercept': True,\n",
       " 'n_jobs': None,\n",
       " 'normalize': 'deprecated',\n",
       " 'positive': False}"
      ]
     },
     "execution_count": 9,
     "metadata": {},
     "output_type": "execute_result"
    }
   ],
   "source": [
    "linreg = LinearRegression()\n",
    "linreg.get_params()"
   ]
  },
  {
   "cell_type": "code",
   "execution_count": 10,
   "id": "60343309",
   "metadata": {},
   "outputs": [
    {
     "name": "stdout",
     "output_type": "stream",
     "text": [
      ">>> Fitting and prediction were completed in 1.760 seconds.\n"
     ]
    }
   ],
   "source": [
    "# Fit the training data into the linear reg. model, then make predictions on the test data\n",
    "s_time = time.time()\n",
    "linreg.fit(x_train, y_train)\n",
    "y_pred = linreg.predict(x_test)\n",
    "print(\">>> Fitting and prediction were completed in {:.3f} seconds.\".format(time.time()-s_time))"
   ]
  },
  {
   "cell_type": "code",
   "execution_count": 11,
   "id": "bf63691e",
   "metadata": {},
   "outputs": [
    {
     "name": "stdout",
     "output_type": "stream",
     "text": [
      "COEF: [-4.33854087e+08 -4.33854097e+08 -4.33854097e+08 -4.33854149e+08\n",
      " -4.33854137e+08 -4.33854117e+08 -4.33854127e+08 -4.33854107e+08\n",
      " -4.81517924e+10 -4.81517924e+10 -4.81517924e+10 -4.81517924e+10\n",
      " -4.81517924e+10  7.53292977e+10  7.53292977e+10  7.53292977e+10\n",
      "  7.53292977e+10  7.53292977e+10  7.53292977e+10  7.53292977e+10\n",
      "  7.53292977e+10  7.53292977e+10 -1.68121693e+10 -1.68121693e+10\n",
      " -1.68121692e+10 -1.68121693e+10 -1.68121692e+10 -1.68121693e+10\n",
      " -1.68121692e+10  2.00997092e+00 -3.99147138e-01]\n",
      "RANK: 31\n",
      "INTERCEPT: -9931481842.496492\n"
     ]
    }
   ],
   "source": [
    "print(\"COEF:\", linreg.coef_)   # Estimated coefficients for the linear reg.\n",
    "print(\"RANK:\", linreg.rank_)   # Rank of matrix\n",
    "print(\"INTERCEPT:\", linreg.intercept_)   # Independent term in the linear model"
   ]
  },
  {
   "cell_type": "code",
   "execution_count": 12,
   "id": "0ef67f47",
   "metadata": {},
   "outputs": [
    {
     "name": "stdout",
     "output_type": "stream",
     "text": [
      "    93.6768684387207 |       73\n",
      "  120.95648002624512 |      100\n",
      "  130.86008834838867 |      101\n",
      "   121.6175537109375 |      112\n",
      "  123.17060852050781 |      130\n",
      "  110.71889305114746 |      108\n",
      "  114.63080978393555 |      130\n",
      "   57.87635040283203 |       43\n",
      "  172.63073921203613 |      174\n",
      "   104.1162052154541 |       88\n",
      "   107.2470760345459 |      103\n",
      "   167.2730369567871 |      162\n",
      "   88.12861633300781 |       73\n",
      "  105.22236442565918 |       96\n",
      "  131.92337608337402 |      121\n",
      "  151.19064140319824 |      187\n",
      "  141.27273750305176 |      173\n",
      "  100.52414321899414 |       89\n",
      "  106.47793960571289 |      106\n",
      "  123.68961524963379 |      160\n"
     ]
    }
   ],
   "source": [
    "# Compare the predicted values against the actual ones for the top 20 rows\n",
    "for i in range(20):\n",
    "    print(\"{:20} | {:8}\".format(y_pred[i], y_test.iloc[i]))"
   ]
  },
  {
   "cell_type": "code",
   "execution_count": 13,
   "id": "0f6557b2",
   "metadata": {},
   "outputs": [
    {
     "name": "stdout",
     "output_type": "stream",
     "text": [
      "MSE: 385.2080736421235\n",
      "RMSE: 19.626718361512285\n",
      "MAE: 15.854756020212173\n",
      "R2 SCORE: 0.7441113759288884\n",
      "ADJUSTED R2 SCORE: 0.7435248426029517\n",
      "\n",
      "# CROSS VALIDATION #\n",
      "FITTING TIME: [1.80877876 1.83000135 1.79938984 1.83947659 1.82321358] -> 1.8201720237731933\n",
      "SCORING TIME: [0.04929733 0.04914761 0.04917169 0.04888582 0.04770803] -> 0.04884209632873535\n",
      "TRAIN SCORE: [0.74368874 0.74351897 0.74361972 0.74342849 0.7434112 ] -> 0.7435334230969938\n",
      "TEST SCORE: [0.74287769 0.74357884 0.74311486 0.74394156 0.7440116 ] -> 0.7435049091634813\n"
     ]
    }
   ],
   "source": [
    "# Results of metrics\n",
    "mse, rmse, mae, r2 = mean_squared_error(y_test, y_pred), mean_squared_error(y_test, y_pred, squared=False), \\\n",
    "    mean_absolute_error(y_test, y_pred), r2_score(y_test, y_pred)\n",
    "adj_r2 = 1-(1-linreg.score(X, Y))*(len(Y)-1)/(len(Y)-X.shape[1]-1)\n",
    "print(\"MSE:\", mse)         # Mean squared error\n",
    "print(\"RMSE:\", rmse)       # Root mean squared error\n",
    "print(\"MAE:\", mae)         # Mean absolute error\n",
    "print(\"R2 SCORE:\", r2)     # R2 score\n",
    "print(\"ADJUSTED R2 SCORE:\", adj_r2)   # Adjusted R2 score\n",
    "res_mse.append(mse)\n",
    "res_rmse.append(rmse)\n",
    "res_mae.append(mae)\n",
    "res_r2.append(r2)\n",
    "print(\"\\n# CROSS VALIDATION #\")\n",
    "cross_val = cross_validate(linreg, X, Y, cv=5, return_train_score=True)    # 5-fold Cross Validation\n",
    "# The time in seconds for fitting the estimator on the train set for each cv split\n",
    "print(\"FITTING TIME:\", cross_val['fit_time'], \"->\", cross_val['fit_time'].mean())\n",
    "# The time in seconds for scoring the estimator on the test set for each cv split\n",
    "print(\"SCORING TIME:\", cross_val['score_time'], \"->\", cross_val['score_time'].mean())\n",
    "# The score array for train scores for each cv split\n",
    "print(\"TRAIN SCORE:\", cross_val['train_score'], \"->\", cross_val['train_score'].mean())\n",
    "res_cv_train.append(cross_val['train_score'].mean())\n",
    "# The score array for test score for each cv split\n",
    "print(\"TEST SCORE:\", cross_val['test_score'], \"->\", cross_val['test_score'].mean())\n",
    "res_cv_test.append(cross_val['test_score'].mean())"
   ]
  },
  {
   "cell_type": "markdown",
   "id": "432bb649",
   "metadata": {},
   "source": [
    "## 2 - Lasso Regression"
   ]
  },
  {
   "cell_type": "code",
   "execution_count": 14,
   "id": "061780a1",
   "metadata": {},
   "outputs": [
    {
     "data": {
      "text/plain": [
       "{'alpha': 1.0,\n",
       " 'copy_X': True,\n",
       " 'fit_intercept': True,\n",
       " 'max_iter': 1000,\n",
       " 'normalize': 'deprecated',\n",
       " 'positive': False,\n",
       " 'precompute': False,\n",
       " 'random_state': None,\n",
       " 'selection': 'cyclic',\n",
       " 'tol': 0.0001,\n",
       " 'warm_start': False}"
      ]
     },
     "execution_count": 14,
     "metadata": {},
     "output_type": "execute_result"
    }
   ],
   "source": [
    "lasso = Lasso()\n",
    "lasso.get_params()"
   ]
  },
  {
   "cell_type": "code",
   "execution_count": 15,
   "id": "2b5f4842",
   "metadata": {},
   "outputs": [
    {
     "name": "stdout",
     "output_type": "stream",
     "text": [
      ">>> Fitting and prediction were completed in 1.258 seconds.\n"
     ]
    }
   ],
   "source": [
    "# Fit the training data into the lasso model, then make predictions on the test data\n",
    "s_time = time.time()\n",
    "lasso.fit(x_train, y_train)\n",
    "y_pred = lasso.predict(x_test)\n",
    "print(\">>> Fitting and prediction were completed in {:.3f} seconds.\".format(time.time()-s_time))"
   ]
  },
  {
   "cell_type": "code",
   "execution_count": 16,
   "id": "fbb0a995",
   "metadata": {},
   "outputs": [
    {
     "name": "stdout",
     "output_type": "stream",
     "text": [
      "COEF: [ 16.8327781    7.03052323   7.05907956 -32.17705516 -16.93503114\n",
      "  -0.          -6.9665146    0.          -0.           3.33394759\n",
      "  -0.           0.          -1.78095878  -0.           0.\n",
      "  -0.           0.           0.          -0.           0.\n",
      " -15.23321194   0.          -0.          -9.08939804   8.00297096\n",
      "   0.           8.17876672  -4.13125712   0.           1.99222401\n",
      "  -0.39814119]\n",
      "INTERCEPT: 122.56614266995092\n",
      "ITERATIONS: 14\n"
     ]
    }
   ],
   "source": [
    "print(\"COEF:\", lasso.coef_)   # Parameter vector (w in the cost function function formula)\n",
    "print(\"INTERCEPT:\", lasso.intercept_)   # Independent term in decision function\n",
    "# Number of iterations run by the coord. descent solver to reach the specified tolerance\n",
    "print(\"ITERATIONS:\", lasso.n_iter_)   "
   ]
  },
  {
   "cell_type": "code",
   "execution_count": 17,
   "id": "a2892497",
   "metadata": {},
   "outputs": [
    {
     "name": "stdout",
     "output_type": "stream",
     "text": [
      "  111.34571030153384 |       73\n",
      "  120.78352232311617 |      100\n",
      "  122.51261590978811 |      101\n",
      "  121.41379811355475 |      112\n",
      "  110.80599055219591 |      130\n",
      "  115.76362690463284 |      108\n",
      "    94.5887977831174 |      130\n",
      "   64.81786738810945 |       43\n",
      "  163.86167660571033 |      174\n",
      "  108.60058116944681 |       88\n",
      "  118.52439626212475 |      103\n",
      "  171.32461934923248 |      162\n",
      "   85.08569635016534 |       73\n",
      "  105.56138559210112 |       96\n",
      "  119.56206051329174 |      121\n",
      "  150.86849369742524 |      187\n",
      "  141.41989967729472 |      173\n",
      "   103.3693474222228 |       89\n",
      "  112.57394318586202 |      106\n",
      "   115.9571871089093 |      160\n"
     ]
    }
   ],
   "source": [
    "# Compare the predicted values against the actual ones for the top 20 rows\n",
    "for i in range(20):\n",
    "    print(\"{:20} | {:8}\".format(y_pred[i], y_test.iloc[i]))"
   ]
  },
  {
   "cell_type": "code",
   "execution_count": 18,
   "id": "b93d6ed6",
   "metadata": {},
   "outputs": [
    {
     "name": "stdout",
     "output_type": "stream",
     "text": [
      "MSE: 498.6304400013666\n",
      "RMSE: 22.330034482762596\n",
      "MAE: 17.93502605054126\n",
      "R2 SCORE: 0.6687663994019415\n",
      "ADJUSTED R2 SCORE: 0.6684662628111722\n",
      "\n",
      "# CROSS VALIDATION #\n",
      "FITTING TIME: [1.38027549 1.3685801  1.36186528 1.36691475 1.48003387] -> 1.391533899307251\n",
      "SCORING TIME: [0.05742788 0.04880619 0.04985189 0.04512382 0.05045652] -> 0.050333261489868164\n",
      "TRAIN SCORE: [0.66875471 0.66873016 0.66884083 0.66848894 0.6687    ] -> 0.6687029279864458\n",
      "TEST SCORE: [0.66886467 0.66801017 0.66750686 0.66887905 0.67017997] -> 0.6686881449710003\n"
     ]
    }
   ],
   "source": [
    "# Results of metrics\n",
    "mse, rmse, mae, r2 = mean_squared_error(y_test, y_pred), mean_squared_error(y_test, y_pred, squared=False), \\\n",
    "    mean_absolute_error(y_test, y_pred), r2_score(y_test, y_pred)\n",
    "adj_r2 = 1-(1-lasso.score(X, Y))*(len(Y)-1)/(len(Y)-X.shape[1]-1)\n",
    "print(\"MSE:\", mse)          \n",
    "print(\"RMSE:\", rmse)       \n",
    "print(\"MAE:\", mae)        \n",
    "print(\"R2 SCORE:\", r2)\n",
    "print(\"ADJUSTED R2 SCORE:\", adj_r2)\n",
    "res_mse.append(mse)\n",
    "res_rmse.append(rmse)\n",
    "res_mae.append(mae)\n",
    "res_r2.append(r2)\n",
    "print(\"\\n# CROSS VALIDATION #\")\n",
    "cross_val = cross_validate(lasso, X, Y, cv=5, return_train_score=True)\n",
    "print(\"FITTING TIME:\", cross_val['fit_time'], \"->\", cross_val['fit_time'].mean())\n",
    "print(\"SCORING TIME:\", cross_val['score_time'], \"->\", cross_val['score_time'].mean())\n",
    "print(\"TRAIN SCORE:\", cross_val['train_score'], \"->\", cross_val['train_score'].mean())\n",
    "res_cv_train.append(cross_val['train_score'].mean())\n",
    "print(\"TEST SCORE:\", cross_val['test_score'], \"->\", cross_val['test_score'].mean())\n",
    "res_cv_test.append(cross_val['test_score'].mean())"
   ]
  },
  {
   "cell_type": "markdown",
   "id": "d1399233",
   "metadata": {},
   "source": [
    "## 3 - Ridge Regression"
   ]
  },
  {
   "cell_type": "code",
   "execution_count": 19,
   "id": "26788dc5",
   "metadata": {},
   "outputs": [
    {
     "data": {
      "text/plain": [
       "{'alpha': 1.0,\n",
       " 'copy_X': True,\n",
       " 'fit_intercept': True,\n",
       " 'max_iter': None,\n",
       " 'normalize': 'deprecated',\n",
       " 'positive': False,\n",
       " 'random_state': None,\n",
       " 'solver': 'auto',\n",
       " 'tol': 0.001}"
      ]
     },
     "execution_count": 19,
     "metadata": {},
     "output_type": "execute_result"
    }
   ],
   "source": [
    "ridge = Ridge()\n",
    "ridge.get_params()"
   ]
  },
  {
   "cell_type": "code",
   "execution_count": 20,
   "id": "b53cbb77",
   "metadata": {},
   "outputs": [
    {
     "name": "stdout",
     "output_type": "stream",
     "text": [
      ">>> Fitting and prediction were completed in 0.452 seconds.\n"
     ]
    }
   ],
   "source": [
    "# Fit the training data into the ridge model, then make predictions on the test data\n",
    "s_time = time.time()\n",
    "ridge.fit(x_train, y_train)\n",
    "y_pred = ridge.predict(x_test)\n",
    "print(\">>> Fitting and prediction were completed in {:.3f} seconds.\".format(time.time()-s_time))"
   ]
  },
  {
   "cell_type": "code",
   "execution_count": 21,
   "id": "52b7c16a",
   "metadata": {},
   "outputs": [
    {
     "name": "stdout",
     "output_type": "stream",
     "text": [
      "COEF: [ 2.76632193e+01  1.78501155e+01  1.78423439e+01 -3.46804398e+01\n",
      " -2.21478680e+01 -2.19907886e+00 -1.20974966e+01  7.76920455e+00\n",
      "  1.74379768e-02  1.00566805e+01 -5.69215846e+00  5.01467283e+00\n",
      " -9.39663289e+00 -2.42081385e+00  5.17390795e+00 -1.43623366e+00\n",
      "  1.57496196e+00  8.12204747e+00 -6.09520987e+00  2.63362480e+00\n",
      " -7.41581676e+00 -1.36468054e-01 -6.54764351e+00 -1.65225456e+01\n",
      "  1.45848916e+01 -2.78034663e-01  1.47321087e+01 -1.15589917e+01\n",
      "  5.59021520e+00  2.00997709e+00 -3.99146169e-01]\n",
      "INTERCEPT: 116.18827443148254\n",
      "ITERATIONS: None\n"
     ]
    }
   ],
   "source": [
    "print(\"COEF:\", ridge.coef_)   # Weight vector(s)\n",
    "print(\"INTERCEPT:\", ridge.intercept_)   # Independent term in decision function\n",
    "print(\"ITERATIONS:\", ridge.n_iter_)   # Actual number of iterations for each target. (Only for 'sag' & 'lsqr' solvers)"
   ]
  },
  {
   "cell_type": "code",
   "execution_count": 22,
   "id": "ce0c46c6",
   "metadata": {},
   "outputs": [
    {
     "name": "stdout",
     "output_type": "stream",
     "text": [
      "   93.68856320664834 |       73\n",
      "  120.96078568714736 |      100\n",
      "   130.8720473867805 |      101\n",
      "   121.6162005311343 |      112\n",
      "   123.1705004753123 |      130\n",
      "  110.68224869490643 |      108\n",
      "  114.68455143712723 |      130\n",
      "  57.872240494225046 |       43\n",
      "   172.6205050362438 |      174\n",
      "  104.12914326092923 |       88\n",
      "  107.25677302671363 |      103\n",
      "  167.21587919623028 |      162\n",
      "   88.07780707656579 |       73\n",
      "   105.2016450282884 |       96\n",
      "   131.9232237134629 |      121\n",
      "  151.19510065526487 |      187\n",
      "  141.30978254758236 |      173\n",
      "  100.52601112460057 |       89\n",
      "  106.48710777441612 |      106\n",
      "  123.63023430258079 |      160\n"
     ]
    }
   ],
   "source": [
    "# Compare the predicted values against the actual ones for the top 20 rows\n",
    "for i in range(20):\n",
    "    print(\"{:20} | {:8}\".format(y_pred[i], y_test.iloc[i]))"
   ]
  },
  {
   "cell_type": "code",
   "execution_count": 23,
   "id": "ff41a939",
   "metadata": {},
   "outputs": [
    {
     "name": "stdout",
     "output_type": "stream",
     "text": [
      "MSE: 385.20715649237894\n",
      "RMSE: 19.626694996671727\n",
      "MAE: 15.854798005385536\n",
      "R2 SCORE: 0.744111985179323\n",
      "ADJUSTED R2 SCORE: 0.743525278331092\n",
      "\n",
      "# CROSS VALIDATION #\n",
      "FITTING TIME: [0.58056474 0.57357407 0.58587909 0.55879807 0.56607103] -> 0.5729773998260498\n",
      "SCORING TIME: [0.05449581 0.05972075 0.06030846 0.05070949 0.05139422] -> 0.05532574653625488\n",
      "TRAIN SCORE: [0.74369195 0.74351929 0.74363104 0.74342996 0.74341245] -> 0.7435369388356413\n",
      "TEST SCORE: [0.7428896  0.74357978 0.74313147 0.74394331 0.74400965] -> 0.7435107622183186\n"
     ]
    }
   ],
   "source": [
    "# Results of metrics\n",
    "mse, rmse, mae, r2 = mean_squared_error(y_test, y_pred), mean_squared_error(y_test, y_pred, squared=False), \\\n",
    "    mean_absolute_error(y_test, y_pred), r2_score(y_test, y_pred)\n",
    "adj_r2 = 1-(1-ridge.score(X, Y))*(len(Y)-1)/(len(Y)-X.shape[1]-1)\n",
    "print(\"MSE:\", mse)        \n",
    "print(\"RMSE:\", rmse)      \n",
    "print(\"MAE:\", mae)        \n",
    "print(\"R2 SCORE:\", r2)  \n",
    "print(\"ADJUSTED R2 SCORE:\", adj_r2)\n",
    "res_mse.append(mse)\n",
    "res_rmse.append(rmse)\n",
    "res_mae.append(mae)\n",
    "res_r2.append(r2)\n",
    "print(\"\\n# CROSS VALIDATION #\")\n",
    "cross_val = cross_validate(ridge, X, Y, cv=5, return_train_score=True)\n",
    "print(\"FITTING TIME:\", cross_val['fit_time'], \"->\", cross_val['fit_time'].mean())\n",
    "print(\"SCORING TIME:\", cross_val['score_time'], \"->\", cross_val['score_time'].mean())\n",
    "print(\"TRAIN SCORE:\", cross_val['train_score'], \"->\", cross_val['train_score'].mean())\n",
    "res_cv_train.append(cross_val['train_score'].mean())\n",
    "print(\"TEST SCORE:\", cross_val['test_score'], \"->\", cross_val['test_score'].mean())\n",
    "res_cv_test.append(cross_val['test_score'].mean())"
   ]
  },
  {
   "cell_type": "markdown",
   "id": "c83dd2ed",
   "metadata": {},
   "source": [
    "## 4 - Polynomial Regression"
   ]
  },
  {
   "cell_type": "code",
   "execution_count": 24,
   "id": "23746f6d",
   "metadata": {},
   "outputs": [
    {
     "data": {
      "text/plain": [
       "{'degree': 2, 'include_bias': True, 'interaction_only': False, 'order': 'C'}"
      ]
     },
     "execution_count": 24,
     "metadata": {},
     "output_type": "execute_result"
    }
   ],
   "source": [
    "poly_feat = PolynomialFeatures(degree=2)\n",
    "poly_feat.get_params()"
   ]
  },
  {
   "cell_type": "code",
   "execution_count": 25,
   "id": "fa5b5926",
   "metadata": {},
   "outputs": [
    {
     "name": "stdout",
     "output_type": "stream",
     "text": [
      "(800000, 528) (200000, 528)\n"
     ]
    }
   ],
   "source": [
    "# Fit then transform for both training and test data (the number of columns must increase)\n",
    "x_poly_train = poly_feat.fit_transform(x_train)\n",
    "x_poly_test = poly_feat.fit_transform(x_test)\n",
    "print(x_poly_train.shape, x_poly_test.shape)"
   ]
  },
  {
   "cell_type": "markdown",
   "id": "9fa321b4",
   "metadata": {},
   "source": [
    "### Polynomial Regression with Lasso"
   ]
  },
  {
   "cell_type": "code",
   "execution_count": 26,
   "id": "d44b7edf",
   "metadata": {},
   "outputs": [
    {
     "name": "stdout",
     "output_type": "stream",
     "text": [
      ">>> Fitting and prediction were completed in 134.969 seconds.\n"
     ]
    }
   ],
   "source": [
    "lasso = Lasso(max_iter=500)\n",
    "s_time = time.time()\n",
    "lasso.fit(x_poly_train, y_train)\n",
    "y_poly_pred = lasso.predict(x_poly_test)\n",
    "print(\">>> Fitting and prediction were completed in {:.3f} seconds.\".format(time.time()-s_time))"
   ]
  },
  {
   "cell_type": "code",
   "execution_count": 27,
   "id": "8862f52d",
   "metadata": {},
   "outputs": [
    {
     "name": "stdout",
     "output_type": "stream",
     "text": [
      "COEF: [ 0.00000000e+00  0.00000000e+00  0.00000000e+00  0.00000000e+00\n",
      " -0.00000000e+00 -0.00000000e+00 -0.00000000e+00 -0.00000000e+00\n",
      "  0.00000000e+00  0.00000000e+00  0.00000000e+00 -0.00000000e+00\n",
      "  0.00000000e+00 -0.00000000e+00  0.00000000e+00  0.00000000e+00\n",
      "  0.00000000e+00  0.00000000e+00  0.00000000e+00  0.00000000e+00\n",
      "  0.00000000e+00 -1.90467842e+00  0.00000000e+00 -0.00000000e+00\n",
      " -0.00000000e+00  0.00000000e+00  0.00000000e+00  0.00000000e+00\n",
      " -0.00000000e+00  0.00000000e+00  2.52805939e+00 -2.03116905e-02\n",
      "  0.00000000e+00  0.00000000e+00  0.00000000e+00  0.00000000e+00\n",
      "  0.00000000e+00  0.00000000e+00  0.00000000e+00  0.00000000e+00\n",
      "  0.00000000e+00  0.00000000e+00  0.00000000e+00  0.00000000e+00\n",
      "  0.00000000e+00  0.00000000e+00  0.00000000e+00  0.00000000e+00\n",
      "  0.00000000e+00  0.00000000e+00  0.00000000e+00  0.00000000e+00\n",
      "  0.00000000e+00  0.00000000e+00  0.00000000e+00  0.00000000e+00\n",
      "  0.00000000e+00  0.00000000e+00  0.00000000e+00  0.00000000e+00\n",
      "  0.00000000e+00  9.81563900e-01  1.67793921e-01  0.00000000e+00\n",
      "  0.00000000e+00  0.00000000e+00  0.00000000e+00  0.00000000e+00\n",
      "  0.00000000e+00  0.00000000e+00  0.00000000e+00  0.00000000e+00\n",
      "  0.00000000e+00  0.00000000e+00  0.00000000e+00  0.00000000e+00\n",
      "  0.00000000e+00  0.00000000e+00  0.00000000e+00  0.00000000e+00\n",
      "  0.00000000e+00  0.00000000e+00  0.00000000e+00  0.00000000e+00\n",
      "  0.00000000e+00  0.00000000e+00  0.00000000e+00  0.00000000e+00\n",
      "  0.00000000e+00  0.00000000e+00  0.00000000e+00  6.26784346e-01\n",
      "  8.27161557e-02  0.00000000e+00  0.00000000e+00  0.00000000e+00\n",
      "  0.00000000e+00  0.00000000e+00  0.00000000e+00  0.00000000e+00\n",
      "  0.00000000e+00  0.00000000e+00  0.00000000e+00  0.00000000e+00\n",
      "  0.00000000e+00  0.00000000e+00  0.00000000e+00  0.00000000e+00\n",
      "  0.00000000e+00  0.00000000e+00  0.00000000e+00  0.00000000e+00\n",
      "  0.00000000e+00  0.00000000e+00  0.00000000e+00  0.00000000e+00\n",
      "  0.00000000e+00  0.00000000e+00  0.00000000e+00  0.00000000e+00\n",
      "  6.30673916e-01  8.36875182e-02 -0.00000000e+00  0.00000000e+00\n",
      "  0.00000000e+00  0.00000000e+00  0.00000000e+00  0.00000000e+00\n",
      "  0.00000000e+00 -0.00000000e+00  0.00000000e+00 -0.00000000e+00\n",
      "  0.00000000e+00  0.00000000e+00  0.00000000e+00  0.00000000e+00\n",
      "  0.00000000e+00  0.00000000e+00  0.00000000e+00 -0.00000000e+00\n",
      "  0.00000000e+00 -0.00000000e+00 -0.00000000e+00 -0.00000000e+00\n",
      " -0.00000000e+00 -0.00000000e+00 -0.00000000e+00 -0.00000000e+00\n",
      " -1.07967954e+00 -3.97628701e-01 -0.00000000e+00  0.00000000e+00\n",
      "  0.00000000e+00  0.00000000e+00 -0.00000000e+00 -0.00000000e+00\n",
      " -0.00000000e+00 -0.00000000e+00 -0.00000000e+00 -0.00000000e+00\n",
      " -0.00000000e+00 -0.00000000e+00 -0.00000000e+00 -0.00000000e+00\n",
      " -0.00000000e+00 -0.00000000e+00 -0.00000000e+00 -0.00000000e+00\n",
      " -0.00000000e+00 -0.00000000e+00 -0.00000000e+00 -0.00000000e+00\n",
      " -0.00000000e+00 -0.00000000e+00 -0.00000000e+00 -5.86716932e-01\n",
      " -2.94537548e-01 -0.00000000e+00  0.00000000e+00  0.00000000e+00\n",
      "  0.00000000e+00  0.00000000e+00 -0.00000000e+00  0.00000000e+00\n",
      " -0.00000000e+00 -0.00000000e+00  0.00000000e+00  0.00000000e+00\n",
      "  0.00000000e+00  0.00000000e+00 -0.00000000e+00  0.00000000e+00\n",
      " -0.00000000e+00  0.00000000e+00 -0.00000000e+00 -0.00000000e+00\n",
      "  0.00000000e+00  0.00000000e+00  0.00000000e+00 -0.00000000e+00\n",
      "  0.00000000e+00  0.00000000e+00 -9.89026376e-02 -0.00000000e+00\n",
      "  0.00000000e+00 -0.00000000e+00  0.00000000e+00 -0.00000000e+00\n",
      " -0.00000000e+00 -0.00000000e+00 -0.00000000e+00  0.00000000e+00\n",
      " -0.00000000e+00 -0.00000000e+00  0.00000000e+00 -0.00000000e+00\n",
      " -0.00000000e+00 -0.00000000e+00 -0.00000000e+00 -0.00000000e+00\n",
      " -0.00000000e+00  0.00000000e+00 -0.00000000e+00  0.00000000e+00\n",
      " -0.00000000e+00 -0.00000000e+00 -2.48894354e-01 -2.03711093e-01\n",
      "  0.00000000e+00  0.00000000e+00  0.00000000e+00  0.00000000e+00\n",
      "  0.00000000e+00 -0.00000000e+00  0.00000000e+00  0.00000000e+00\n",
      "  0.00000000e+00  0.00000000e+00  0.00000000e+00  0.00000000e+00\n",
      "  0.00000000e+00  0.00000000e+00  0.00000000e+00  0.00000000e+00\n",
      " -0.00000000e+00  0.00000000e+00  0.00000000e+00  0.00000000e+00\n",
      " -0.00000000e+00  0.00000000e+00  2.68863457e-01 -0.00000000e+00\n",
      "  0.00000000e+00  0.00000000e+00  0.00000000e+00  0.00000000e+00\n",
      "  0.00000000e+00  0.00000000e+00  0.00000000e+00  0.00000000e+00\n",
      "  0.00000000e+00  0.00000000e+00 -0.00000000e+00  0.00000000e+00\n",
      "  0.00000000e+00  0.00000000e+00 -0.00000000e+00 -0.00000000e+00\n",
      "  0.00000000e+00  0.00000000e+00  0.00000000e+00 -0.00000000e+00\n",
      "  0.00000000e+00  6.76445909e-05 -1.76189760e-04  0.00000000e+00\n",
      "  0.00000000e+00  0.00000000e+00  0.00000000e+00  0.00000000e+00\n",
      "  0.00000000e+00  0.00000000e+00  0.00000000e+00  0.00000000e+00\n",
      "  0.00000000e+00  0.00000000e+00  0.00000000e+00  0.00000000e+00\n",
      "  0.00000000e+00 -0.00000000e+00  0.00000000e+00  0.00000000e+00\n",
      "  0.00000000e+00 -0.00000000e+00  0.00000000e+00  3.66178712e-01\n",
      "  8.19355670e-02 -0.00000000e+00  0.00000000e+00  0.00000000e+00\n",
      "  0.00000000e+00  0.00000000e+00  0.00000000e+00  0.00000000e+00\n",
      "  0.00000000e+00  0.00000000e+00  0.00000000e+00 -0.00000000e+00\n",
      "  0.00000000e+00 -0.00000000e+00 -0.00000000e+00 -0.00000000e+00\n",
      " -0.00000000e+00  0.00000000e+00 -0.00000000e+00 -0.00000000e+00\n",
      " -7.62692639e-03 -8.10195009e-02  0.00000000e+00  0.00000000e+00\n",
      "  0.00000000e+00  0.00000000e+00  0.00000000e+00  0.00000000e+00\n",
      "  0.00000000e+00  0.00000000e+00  0.00000000e+00  0.00000000e+00\n",
      "  0.00000000e+00  0.00000000e+00 -0.00000000e+00  0.00000000e+00\n",
      "  0.00000000e+00  0.00000000e+00 -0.00000000e+00  0.00000000e+00\n",
      "  1.96839697e-01  3.57815301e-02 -0.00000000e+00  0.00000000e+00\n",
      "  0.00000000e+00  0.00000000e+00  0.00000000e+00  0.00000000e+00\n",
      "  0.00000000e+00  0.00000000e+00 -0.00000000e+00  0.00000000e+00\n",
      " -0.00000000e+00 -0.00000000e+00 -0.00000000e+00 -0.00000000e+00\n",
      " -0.00000000e+00 -0.00000000e+00 -0.00000000e+00 -1.25764401e-01\n",
      " -1.16167430e-01  0.00000000e+00  0.00000000e+00  0.00000000e+00\n",
      "  0.00000000e+00  0.00000000e+00  0.00000000e+00  0.00000000e+00\n",
      "  0.00000000e+00  0.00000000e+00 -0.00000000e+00 -0.00000000e+00\n",
      "  0.00000000e+00  0.00000000e+00  0.00000000e+00 -0.00000000e+00\n",
      " -0.00000000e+00 -0.00000000e+00 -3.51200409e-02  0.00000000e+00\n",
      "  0.00000000e+00  0.00000000e+00  0.00000000e+00  0.00000000e+00\n",
      "  0.00000000e+00  0.00000000e+00  0.00000000e+00 -0.00000000e+00\n",
      " -0.00000000e+00  0.00000000e+00 -0.00000000e+00  0.00000000e+00\n",
      "  0.00000000e+00 -0.00000000e+00  7.00247879e-02  5.43214473e-02\n",
      "  0.00000000e+00  0.00000000e+00  0.00000000e+00  0.00000000e+00\n",
      "  0.00000000e+00  0.00000000e+00  0.00000000e+00 -0.00000000e+00\n",
      " -0.00000000e+00  0.00000000e+00  0.00000000e+00  0.00000000e+00\n",
      " -0.00000000e+00 -0.00000000e+00 -0.00000000e+00 -2.01717373e-02\n",
      "  0.00000000e+00  0.00000000e+00  0.00000000e+00  0.00000000e+00\n",
      "  0.00000000e+00  0.00000000e+00  0.00000000e+00  0.00000000e+00\n",
      "  0.00000000e+00  0.00000000e+00  0.00000000e+00  0.00000000e+00\n",
      "  0.00000000e+00  0.00000000e+00  1.28706415e-02  0.00000000e+00\n",
      "  0.00000000e+00  0.00000000e+00  0.00000000e+00  0.00000000e+00\n",
      "  0.00000000e+00 -0.00000000e+00  0.00000000e+00 -0.00000000e+00\n",
      "  0.00000000e+00 -0.00000000e+00  0.00000000e+00  1.86111977e-01\n",
      "  7.80168803e-02  0.00000000e+00  0.00000000e+00  0.00000000e+00\n",
      "  0.00000000e+00 -0.00000000e+00  0.00000000e+00  0.00000000e+00\n",
      " -0.00000000e+00  0.00000000e+00 -0.00000000e+00 -0.00000000e+00\n",
      " -2.21124011e-02 -8.61244750e-02  0.00000000e+00  0.00000000e+00\n",
      "  0.00000000e+00  0.00000000e+00 -0.00000000e+00  0.00000000e+00\n",
      "  0.00000000e+00  0.00000000e+00 -0.00000000e+00  0.00000000e+00\n",
      "  0.00000000e+00  3.11932924e-02 -1.65159285e+00  0.00000000e+00\n",
      " -0.00000000e+00 -0.00000000e+00  0.00000000e+00 -0.00000000e+00\n",
      "  0.00000000e+00 -0.00000000e+00 -0.00000000e+00 -2.35492126e-01\n",
      " -2.45152700e-02  0.00000000e+00 -0.00000000e+00 -0.00000000e+00\n",
      "  0.00000000e+00 -0.00000000e+00  0.00000000e+00 -0.00000000e+00\n",
      "  0.00000000e+00 -0.00000000e+00 -0.00000000e+00 -0.00000000e+00\n",
      "  0.00000000e+00  0.00000000e+00  0.00000000e+00  0.00000000e+00\n",
      "  0.00000000e+00  0.00000000e+00 -7.95961308e-03 -8.75755063e-02\n",
      " -0.00000000e+00  0.00000000e+00  0.00000000e+00  0.00000000e+00\n",
      "  0.00000000e+00  0.00000000e+00 -3.64876941e-01 -1.72725128e-01\n",
      "  0.00000000e+00  0.00000000e+00  0.00000000e+00  0.00000000e+00\n",
      "  0.00000000e+00  5.78052531e-01  1.20825046e-01  0.00000000e+00\n",
      "  0.00000000e+00  0.00000000e+00  0.00000000e+00  3.00322459e-02\n",
      " -0.00000000e+00  0.00000000e+00  0.00000000e+00  0.00000000e+00\n",
      "  6.01054994e-01  1.17840356e-01 -0.00000000e+00  0.00000000e+00\n",
      " -1.92139443e-01 -1.29889412e-01  0.00000000e+00  2.66383152e-01\n",
      "  4.10011374e-02  1.06074896e-02 -1.91851378e-02 -1.22558114e-04]\n",
      "INTERCEPT: 103.16926299997081\n",
      "ITERATIONS: 281\n"
     ]
    }
   ],
   "source": [
    "print(\"COEF:\", lasso.coef_)   # Parameter vector (w in the cost function function formula)\n",
    "print(\"INTERCEPT:\", lasso.intercept_)   # Independent term in decision function\n",
    "# Number of iterations run by the coord. descent solver to reach the specified tolerance\n",
    "print(\"ITERATIONS:\", lasso.n_iter_)  "
   ]
  },
  {
   "cell_type": "code",
   "execution_count": 28,
   "id": "9410c2a8",
   "metadata": {},
   "outputs": [
    {
     "name": "stdout",
     "output_type": "stream",
     "text": [
      "MSE: 478.9705905015875\n",
      "RMSE: 21.885396740785566\n",
      "MAE: 17.63658342208891\n",
      "R2 SCORE: 0.6818261771744536\n",
      "\n",
      "# CROSS VALIDATION #\n",
      "FITTING TIME: [1.60807276 1.45224452 1.37939692 1.39006472 1.38940167] -> 1.4438361167907714\n",
      "SCORING TIME: [0.06898975 0.05359626 0.05552983 0.05543423 0.05148339] -> 0.05700669288635254\n",
      "TRAIN SCORE: [0.66875471 0.66873016 0.66884083 0.66848894 0.6687    ] -> 0.6687029279864458\n",
      "TEST SCORE: [0.66886467 0.66801017 0.66750686 0.66887905 0.67017997] -> 0.6686881449710003\n"
     ]
    }
   ],
   "source": [
    "# Results of metrics\n",
    "mse, rmse, mae, r2 = mean_squared_error(y_test, y_poly_pred), mean_squared_error(y_test, y_poly_pred, squared=False), \\\n",
    "    mean_absolute_error(y_test, y_poly_pred), r2_score(y_test, y_poly_pred)\n",
    "print(\"MSE:\", mse)          \n",
    "print(\"RMSE:\", rmse)     \n",
    "print(\"MAE:\", mae)         \n",
    "print(\"R2 SCORE:\", r2)    \n",
    "res_mse.append(mse)\n",
    "res_rmse.append(rmse)\n",
    "res_mae.append(mae)\n",
    "res_r2.append(r2)\n",
    "print(\"\\n# CROSS VALIDATION #\")\n",
    "cross_val = cross_validate(lasso, X, Y, cv=5, return_train_score=True)\n",
    "print(\"FITTING TIME:\", cross_val['fit_time'], \"->\", cross_val['fit_time'].mean())\n",
    "print(\"SCORING TIME:\", cross_val['score_time'], \"->\", cross_val['score_time'].mean())\n",
    "print(\"TRAIN SCORE:\", cross_val['train_score'], \"->\", cross_val['train_score'].mean())\n",
    "res_cv_train.append(cross_val['train_score'].mean())\n",
    "print(\"TEST SCORE:\", cross_val['test_score'], \"->\", cross_val['test_score'].mean())\n",
    "res_cv_test.append(cross_val['test_score'].mean())"
   ]
  },
  {
   "cell_type": "markdown",
   "id": "cfcd0bfd",
   "metadata": {},
   "source": [
    "### Polynomial Regression with Ridge"
   ]
  },
  {
   "cell_type": "code",
   "execution_count": 29,
   "id": "4649ec44",
   "metadata": {},
   "outputs": [
    {
     "name": "stdout",
     "output_type": "stream",
     "text": [
      ">>> Fitting and prediction were completed in 9.511 seconds.\n"
     ]
    }
   ],
   "source": [
    "ridge = Ridge(max_iter=2000)\n",
    "s_time = time.time()\n",
    "ridge.fit(x_poly_train, y_train)\n",
    "y_poly_pred = ridge.predict(x_poly_test)\n",
    "print(\">>> Fitting and prediction were completed in {:.3f} seconds.\".format(time.time()-s_time))"
   ]
  },
  {
   "cell_type": "code",
   "execution_count": 30,
   "id": "195d27f2",
   "metadata": {},
   "outputs": [
    {
     "name": "stdout",
     "output_type": "stream",
     "text": [
      "COEF: [ 0.00000000e+00  1.05934454e+01  6.83591731e+00  6.51387170e+00\n",
      " -9.72687342e+00 -9.58549654e+00 -1.60546220e+00 -5.53115156e+00\n",
      "  2.50574922e+00 -2.98931403e-01  3.74640888e+00 -1.98049967e+00\n",
      "  1.80141943e+00 -3.26839740e+00 -7.99293817e-01  2.11328129e+00\n",
      " -5.13027494e-01  9.16227354e-01  3.29353606e+00 -2.16111923e+00\n",
      "  1.10898988e+00 -3.98100118e+00  2.24070288e-02 -2.99045180e+00\n",
      " -6.97224873e+00  6.05694552e+00 -1.11683349e-01  6.29741444e+00\n",
      " -5.04746845e+00  2.76749187e+00  1.89617653e+00 -1.03363295e-01\n",
      "  1.05934454e+01  0.00000000e+00  0.00000000e+00  0.00000000e+00\n",
      "  0.00000000e+00  0.00000000e+00  0.00000000e+00  0.00000000e+00\n",
      "  1.87458232e+00  2.15428096e+00  2.57685244e+00  2.20165341e+00\n",
      "  1.78607641e+00  7.43450737e-01  1.45149572e+00  5.98921997e-01\n",
      "  1.22985477e+00  1.49180282e+00  8.33101108e-01  1.39760968e+00\n",
      "  1.84329959e+00  1.00390892e+00  1.42093696e+00  4.24339249e-01\n",
      "  2.27145937e+00  1.43966816e+00  2.62712957e+00  8.96379869e-01\n",
      "  1.51353221e+00  2.51060888e-01 -1.33145027e-02  6.83591731e+00\n",
      "  0.00000000e+00  0.00000000e+00  0.00000000e+00  0.00000000e+00\n",
      "  0.00000000e+00  0.00000000e+00  9.65373346e-01  1.71640965e+00\n",
      "  1.84601960e+00  1.05025099e+00  1.25786368e+00  5.06963520e-01\n",
      "  7.16456892e-01  5.18566988e-01  5.63495876e-01  1.41646681e+00\n",
      "  5.07939206e-01  8.17749616e-01  1.17006620e+00  6.18212200e-01\n",
      "  6.71248733e-01  2.51024416e-01  1.71590110e+00  7.83098330e-01\n",
      "  1.80576256e+00  3.67465325e-01  1.24141684e+00  2.20378300e-01\n",
      " -1.60239663e-02  6.51387170e+00  0.00000000e+00  0.00000000e+00\n",
      "  0.00000000e+00  0.00000000e+00  0.00000000e+00  1.02804413e+00\n",
      "  1.71077897e+00  1.66777541e+00  1.45536041e+00  6.51912762e-01\n",
      "  4.83361639e-01  6.06111866e-01  4.16095339e-01  1.01868699e+00\n",
      "  1.26156668e+00 -4.30521337e-01  7.41248077e-01  1.70975838e+00\n",
      "  7.07563981e-01  4.22373973e-01  1.30888207e-01  1.76187562e+00\n",
      "  1.24635625e+00  1.49047917e+00  1.41143235e-01  1.32075525e+00\n",
      "  2.43199624e-01 -1.08921258e-02 -9.72687343e+00  0.00000000e+00\n",
      "  0.00000000e+00  0.00000000e+00  0.00000000e+00  0.00000000e+00\n",
      "  0.00000000e+00 -6.92389091e+00  0.00000000e+00 -2.80298430e+00\n",
      "  0.00000000e+00  0.00000000e+00  0.00000000e+00  0.00000000e+00\n",
      "  0.00000000e+00  0.00000000e+00  0.00000000e+00 -9.72687342e+00\n",
      "  0.00000000e+00 -1.95225477e+00 -2.15028359e+00 -9.18048823e-01\n",
      " -1.36775303e+00 -4.04071793e-01 -1.96534970e+00 -9.69111718e-01\n",
      "  2.35674635e-01 -1.46568350e-02 -9.58549654e+00  0.00000000e+00\n",
      "  0.00000000e+00  0.00000000e+00 -2.29862702e+00 -1.83000394e+00\n",
      " -1.41016965e+00 -2.00344794e+00 -2.04324798e+00 -1.57975728e+00\n",
      " -8.37869944e-01 -1.18983592e+00 -1.30157639e+00 -6.82700165e-01\n",
      " -1.24360501e+00 -1.07977274e+00 -7.14771002e-01 -9.55608096e-01\n",
      " -1.70972624e+00 -2.19021069e+00 -5.08752907e-01 -1.36688434e+00\n",
      " -6.35820081e-01 -2.10020350e+00 -1.07389880e+00  2.39195627e-01\n",
      " -1.40411143e-02 -1.60546220e+00  0.00000000e+00  0.00000000e+00\n",
      " -5.46327602e-01 -1.45230009e-01  6.37265639e-02 -2.85194416e-01\n",
      " -6.92436732e-01 -4.31914271e-01  1.34516373e-01 -1.87247651e-01\n",
      " -2.82604510e-01 -5.42614701e-03 -9.00152822e-01  3.45874682e-02\n",
      "  5.89887935e-01 -5.57108580e-01 -6.95433421e-01 -9.58403560e-01\n",
      "  5.62331634e-01 -1.17875839e-01  4.60008147e-01 -9.03155280e-01\n",
      "  4.70661647e-02  2.41619388e-01 -9.98085320e-03 -5.53115156e+00\n",
      "  0.00000000e+00 -1.45096575e+00 -6.39187695e-01 -7.67278204e-01\n",
      " -9.91522127e-01 -1.68219785e+00 -7.25463476e-01 -3.17340256e-01\n",
      " -8.32140552e-01 -5.72728998e-01 -4.96114430e-01 -1.15396045e+00\n",
      " -9.22825408e-01  1.31979356e-01 -6.42557350e-01 -1.11947527e+00\n",
      " -1.75000774e+00  5.64320098e-02 -8.57484202e-01 -2.13927620e-01\n",
      " -1.23222678e+00 -4.14461990e-01  2.28995547e-01 -1.30659027e-02\n",
      "  2.50574922e+00  1.28989155e-01  7.79360959e-01  9.66465004e-01\n",
      "  3.74319093e-01  2.56614968e-01  2.04065259e-01  3.59910634e-01\n",
      "  1.62612328e-01  2.61099619e-01  3.07940447e-01  2.26080016e-01\n",
      "  1.20393203e-01  1.01565179e+00 -1.52004078e-01 -2.81217854e-02\n",
      " -7.29595064e-01  1.11574794e+00  1.29191339e-01  1.16785452e+00\n",
      " -2.51521549e-01  1.10219383e+00  2.36053066e-01 -1.13888741e-02\n",
      " -2.98931404e-01  0.00000000e+00  0.00000000e+00  0.00000000e+00\n",
      "  0.00000000e+00 -3.04550119e-01  5.74251499e-01 -3.15585558e-01\n",
      "  3.21016484e-01  8.63191677e-01 -1.17395057e+00  5.29207819e-02\n",
      "  1.18146911e-01 -4.34372500e-01 -7.84004266e-01 -1.45610047e+00\n",
      "  9.21889899e-01  1.00358800e-01  1.31762630e+00 -9.24681072e-01\n",
      "  5.25979407e-01  3.78463569e-01 -2.08308010e-02  3.74640888e+00\n",
      "  0.00000000e+00  0.00000000e+00  0.00000000e+00 -4.17072708e-02\n",
      "  7.57686151e-01  3.45234711e-03  2.70230098e-01  1.52810837e+00\n",
      " -2.54272994e-01  5.76480683e-01  6.36230782e-01  2.70200752e-01\n",
      " -1.18471665e-01 -1.09718903e+00  1.92608601e+00  5.68930565e-01\n",
      "  2.02890856e+00 -6.84574052e-01  1.12271846e+00  3.92859491e-01\n",
      " -1.73863952e-02 -1.98049968e+00  0.00000000e+00  0.00000000e+00\n",
      "  0.00000000e+00  0.00000000e+00  0.00000000e+00  0.00000000e+00\n",
      "  0.00000000e+00  0.00000000e+00  0.00000000e+00 -1.98049968e+00\n",
      "  0.00000000e+00 -7.21972774e-01 -1.49971113e+00  9.13514876e-01\n",
      " -5.73773239e-01  9.12891969e-01 -1.35768659e+00  3.46237174e-01\n",
      "  3.71439084e-01 -1.96959434e-02  1.80141943e+00  0.00000000e+00\n",
      " -4.53036462e-01  7.81343665e-01 -2.00894269e-01  3.24980767e-01\n",
      "  9.02235994e-01 -7.32895661e-01  4.79588433e-01  5.13518170e-01\n",
      "  1.86578773e-01 -4.40489018e-01 -1.10884917e+00  1.44218755e+00\n",
      "  2.35074289e-01  1.47018029e+00 -5.80553627e-01  7.83869196e-01\n",
      "  3.81223058e-01 -2.21071622e-02 -3.26839740e+00  0.00000000e+00\n",
      "  0.00000000e+00  0.00000000e+00  0.00000000e+00  0.00000000e+00\n",
      "  0.00000000e+00  0.00000000e+00 -3.26839740e+00  0.00000000e+00\n",
      " -9.25513996e-01 -1.81039898e+00  8.53267636e-01 -4.42273575e-01\n",
      "  5.67807385e-01 -1.49997305e+00 -1.13124640e-02  3.72191894e-01\n",
      " -2.33561480e-02 -7.99293817e-01  0.00000000e+00  0.00000000e+00\n",
      "  0.00000000e+00  0.00000000e+00  0.00000000e+00  0.00000000e+00\n",
      "  0.00000000e+00  0.00000000e+00 -1.00972568e+00 -1.86765913e+00\n",
      " -2.16013141e+00  1.17954309e+01 -2.51310017e+00 -1.35738488e+00\n",
      " -3.68672342e+00  2.14058530e-01 -1.27211302e-02  2.11328129e+00\n",
      "  0.00000000e+00  0.00000000e+00  0.00000000e+00  0.00000000e+00\n",
      "  0.00000000e+00  0.00000000e+00  0.00000000e+00 -4.17655328e+00\n",
      " -4.52195422e+00  1.47513257e+01 -6.05635776e+00  4.64286869e+00\n",
      "  5.13891603e+00 -7.66496385e+00  2.15373328e-01 -1.29535746e-02\n",
      " -5.13027495e-01  0.00000000e+00  0.00000000e+00  0.00000000e+00\n",
      "  0.00000000e+00  0.00000000e+00  0.00000000e+00 -1.17603530e+00\n",
      " -1.45178657e+00 -2.14352949e+00  1.18813093e+01 -2.31766627e+00\n",
      " -1.27117441e+00 -4.03414473e+00  2.23798744e-01 -9.43029138e-03\n",
      "  9.16227354e-01  0.00000000e+00  0.00000000e+00  0.00000000e+00\n",
      "  0.00000000e+00  0.00000000e+00  1.48952557e+00  7.12036440e-01\n",
      "  2.72088157e-01 -7.15490545e-01  2.71886667e-01  8.91884341e-01\n",
      " -2.00570326e+00  1.95842906e-01 -1.71088900e-02  3.29353606e+00\n",
      "  0.00000000e+00  0.00000000e+00  0.00000000e+00  0.00000000e+00\n",
      "  3.03299453e+00 -7.00997084e+00  1.68799535e+00 -8.64120964e+00\n",
      "  1.18986476e+01 -7.24424077e+00  9.56931984e+00  2.28376238e-01\n",
      " -1.87103014e-02 -2.16111923e+00  0.00000000e+00  0.00000000e+00\n",
      "  0.00000000e+00 -4.51118598e-01  9.04457454e+00 -2.15125726e+00\n",
      " -2.10327027e+00 -1.63920569e+00 -6.36519668e-01 -4.22432228e+00\n",
      "  1.92212315e-01 -8.02021368e-03  1.10898988e+00  0.00000000e+00\n",
      "  0.00000000e+00 -8.44249912e-01 -1.22638238e+00 -2.12901961e+00\n",
      " -2.62774962e+00 -1.99284091e+00 -8.25619078e-01  1.07548514e+01\n",
      "  2.00816976e-01 -8.05330460e-03 -3.98100118e+00  0.00000000e+00\n",
      "  4.80814874e-01 -1.00102628e-01 -3.98006879e-01 -1.22983601e+00\n",
      " -5.81682515e-01  3.85395415e-01 -2.53758329e+00  2.24323805e-01\n",
      " -9.82455038e-03  2.24070281e-02 -3.36104000e-01 -5.51003964e-01\n",
      " -1.67251852e+00 -2.41450973e+00 -1.47149295e+00 -1.28725310e-01\n",
      "  6.59676147e+00  2.01375989e-01 -6.53330857e-03 -2.99045180e+00\n",
      "  0.00000000e+00  0.00000000e+00  0.00000000e+00  0.00000000e+00\n",
      "  0.00000000e+00  0.00000000e+00  2.77379432e-01 -1.48153767e-02\n",
      " -6.97224873e+00  0.00000000e+00  0.00000000e+00  0.00000000e+00\n",
      "  0.00000000e+00  0.00000000e+00  2.61942514e-01 -1.49631206e-02\n",
      "  6.05694552e+00  0.00000000e+00  0.00000000e+00  0.00000000e+00\n",
      "  0.00000000e+00  2.70825284e-01 -1.33765582e-02 -1.11683349e-01\n",
      "  0.00000000e+00  0.00000000e+00  0.00000000e+00  2.74788846e-01\n",
      " -1.04010489e-02  6.29741444e+00  0.00000000e+00  0.00000000e+00\n",
      "  2.75931107e-01 -2.04343813e-02 -5.04746844e+00  0.00000000e+00\n",
      "  2.67950457e-01 -1.37029134e-02  2.76749187e+00  2.67358990e-01\n",
      " -1.56769878e-02  8.99150872e-05 -2.00007612e-02  3.34632297e-05]\n",
      "INTERCEPT: 107.00262825332572\n",
      "ITERATIONS: None\n"
     ]
    }
   ],
   "source": [
    "print(\"COEF:\", ridge.coef_)   # Weight vector(s)\n",
    "print(\"INTERCEPT:\", ridge.intercept_)   # Independent term in decision function\n",
    "print(\"ITERATIONS:\", ridge.n_iter_)   # Actual number of iterations for each target. (Only for 'sag' & 'lsqr' solvers)"
   ]
  },
  {
   "cell_type": "code",
   "execution_count": 31,
   "id": "7b94db4b",
   "metadata": {},
   "outputs": [
    {
     "name": "stdout",
     "output_type": "stream",
     "text": [
      "MSE: 354.743346172411\n",
      "RMSE: 18.8346315645518\n",
      "MAE: 15.312695797588338\n",
      "R2 SCORE: 0.7643486911056431\n",
      "\n",
      "# CROSS VALIDATION #\n",
      "FITTING TIME: [0.69457221 0.62305903 0.59656596 0.56163025 0.58894134] -> 0.6129537582397461\n",
      "SCORING TIME: [0.0428071  0.04200268 0.042207   0.04425716 0.04363894] -> 0.04298257827758789\n",
      "TRAIN SCORE: [0.74369195 0.74351929 0.74363104 0.74342996 0.74341245] -> 0.7435369388356413\n",
      "TEST SCORE: [0.7428896  0.74357978 0.74313147 0.74394331 0.74400965] -> 0.7435107622183186\n"
     ]
    }
   ],
   "source": [
    "# Results of metrics\n",
    "mse, rmse, mae, r2 = mean_squared_error(y_test, y_poly_pred), mean_squared_error(y_test, y_poly_pred, squared=False), \\\n",
    "    mean_absolute_error(y_test, y_poly_pred), r2_score(y_test, y_poly_pred)\n",
    "print(\"MSE:\", mse)        \n",
    "print(\"RMSE:\", rmse)       \n",
    "print(\"MAE:\", mae)          \n",
    "print(\"R2 SCORE:\", r2)      \n",
    "res_mse.append(mse)\n",
    "res_rmse.append(rmse)\n",
    "res_mae.append(mae)\n",
    "res_r2.append(r2)\n",
    "print(\"\\n# CROSS VALIDATION #\")\n",
    "cross_val = cross_validate(ridge, X, Y, cv=5, return_train_score=True)\n",
    "print(\"FITTING TIME:\", cross_val['fit_time'], \"->\", cross_val['fit_time'].mean())\n",
    "print(\"SCORING TIME:\", cross_val['score_time'], \"->\", cross_val['score_time'].mean())\n",
    "print(\"TRAIN SCORE:\", cross_val['train_score'], \"->\", cross_val['train_score'].mean())\n",
    "res_cv_train.append(cross_val['train_score'].mean())\n",
    "print(\"TEST SCORE:\", cross_val['test_score'], \"->\", cross_val['test_score'].mean())\n",
    "res_cv_test.append(cross_val['test_score'].mean())"
   ]
  },
  {
   "cell_type": "markdown",
   "id": "a980b65b",
   "metadata": {},
   "source": [
    "## 5 - Random Forest Regression"
   ]
  },
  {
   "cell_type": "code",
   "execution_count": 32,
   "id": "057ec43a",
   "metadata": {},
   "outputs": [
    {
     "data": {
      "text/plain": [
       "{'bootstrap': True,\n",
       " 'ccp_alpha': 0.2,\n",
       " 'criterion': 'friedman_mse',\n",
       " 'max_depth': 25,\n",
       " 'max_features': None,\n",
       " 'max_leaf_nodes': None,\n",
       " 'max_samples': None,\n",
       " 'min_impurity_decrease': 0.0,\n",
       " 'min_samples_leaf': 2,\n",
       " 'min_samples_split': 2,\n",
       " 'min_weight_fraction_leaf': 0.1,\n",
       " 'n_estimators': 25,\n",
       " 'n_jobs': None,\n",
       " 'oob_score': True,\n",
       " 'random_state': None,\n",
       " 'verbose': 0,\n",
       " 'warm_start': False}"
      ]
     },
     "execution_count": 32,
     "metadata": {},
     "output_type": "execute_result"
    }
   ],
   "source": [
    "rforest = RandomForestRegressor(n_estimators=25, criterion='friedman_mse', max_depth=25, min_samples_split=2, \n",
    "                                min_samples_leaf=2, min_weight_fraction_leaf=0.1, max_features=None, max_leaf_nodes=None,\n",
    "                                bootstrap=True, warm_start=False, ccp_alpha=0.2, max_samples=None, oob_score=True)\n",
    "# rforest = RandomForestRegressor(n_estimators=25, criterion='friedman_mse', max_depth=20, min_samples_split=4, \n",
    "#                                 min_samples_leaf=4, min_weight_fraction_leaf=0.1, max_features=None, max_leaf_nodes=None,\n",
    "#                                 bootstrap=True, warm_start=False, ccp_alpha=0.2, max_samples=None)\n",
    "# rforest = RandomForestRegressor(n_estimators=40)\n",
    "rforest.get_params()"
   ]
  },
  {
   "cell_type": "code",
   "execution_count": 33,
   "id": "cc0d5b39",
   "metadata": {},
   "outputs": [
    {
     "name": "stdout",
     "output_type": "stream",
     "text": [
      ">>> Fitting and prediction were completed in 23.013 seconds.\n"
     ]
    }
   ],
   "source": [
    "# Fit the training data into the random forest, then make predictions on the test data\n",
    "s_time = time.time()\n",
    "rforest.fit(x_train, y_train)\n",
    "y_pred = rforest.predict(x_test)\n",
    "print(\">>> Fitting and prediction were completed in {:.3f} seconds.\".format(time.time()-s_time))"
   ]
  },
  {
   "cell_type": "code",
   "execution_count": 34,
   "id": "43e93bf5-06ea-4796-8a14-2a50280e4bce",
   "metadata": {},
   "outputs": [
    {
     "name": "stdout",
     "output_type": "stream",
     "text": [
      "BASE ESTIMATOR: DecisionTreeRegressor()\n",
      "FEATURE IMPORTANCES: [0.         0.         0.         0.48950653 0.         0.\n",
      " 0.         0.         0.         0.         0.         0.\n",
      " 0.         0.         0.         0.         0.         0.\n",
      " 0.         0.         0.12844454 0.         0.         0.\n",
      " 0.         0.         0.         0.         0.         0.23218083\n",
      " 0.1498681 ]\n",
      "OOB SCORE: 0.4024140033116973\n",
      "OOB PREDICTION: [156.74545778 112.2234738   70.89948563 ... 156.23193188 130.72134889\n",
      " 125.41975507]  800000\n",
      "FEATURES: 31\n",
      "OUTPUTS: 1 \n",
      "\n"
     ]
    }
   ],
   "source": [
    "print(\"BASE ESTIMATOR:\", rforest.base_estimator_)   # Estimator used to grow the ensemble\n",
    "# print(\"ESTIMATORS:\", rforest.estimators_)   # The collection of fitted sub-estimators\n",
    "print(\"FEATURE IMPORTANCES:\", rforest.feature_importances_)   # The impurity-based feature importances\n",
    "# Score of the training dataset obtained using an out-of-bag estimate. Exists only when oob_score = True\n",
    "print(\"OOB SCORE:\", rforest.oob_score_)\n",
    "# Prediction computed with out-of-bag estimate on the training set. Exists only when oob_score = True\n",
    "print(\"OOB PREDICTION:\", rforest.oob_prediction_, \"\", len(rforest.oob_prediction_))\n",
    "print(\"FEATURES:\", rforest.n_features_in_)   # Number of features seen during fit\n",
    "print(\"OUTPUTS:\", rforest.n_outputs_, \"\\n\")   # The number of outputs when fit is performed"
   ]
  },
  {
   "cell_type": "code",
   "execution_count": 35,
   "id": "8ad03f34",
   "metadata": {},
   "outputs": [
    {
     "name": "stdout",
     "output_type": "stream",
     "text": [
      "MSE: 898.4003532194541\n",
      "RMSE: 29.973327363164973\n",
      "MAE: 24.06204411044353\n",
      "R2 SCORE: 0.4032045380650413\n",
      "\n",
      "# CROSS VALIDATION #\n",
      "FITTING TIME: [22.52141476 22.32525229 22.43259907 22.58224154 22.78602815] -> 22.529507160186768\n",
      "SCORING TIME: [0.24090815 0.25494695 0.23323607 0.24677873 0.2393446 ] -> 0.2430428981781006\n",
      "TRAIN SCORE: [0.40400103 0.40090741 0.40542249 0.40990673 0.41005431] -> 0.4060583951206265\n",
      "TEST SCORE: [0.40326937 0.40002456 0.40291834 0.40916917 0.4133772 ] -> 0.4057517285674013\n"
     ]
    }
   ],
   "source": [
    "# Results of metrics\n",
    "mse, rmse, mae, r2 = mean_squared_error(y_test, y_pred), mean_squared_error(y_test, y_pred, squared=False), \\\n",
    "    mean_absolute_error(y_test, y_pred), r2_score(y_test, y_pred)\n",
    "print(\"MSE:\", mse)        \n",
    "print(\"RMSE:\", rmse)      \n",
    "print(\"MAE:\", mae)        \n",
    "print(\"R2 SCORE:\", r2)  \n",
    "res_mse.append(mse)\n",
    "res_rmse.append(rmse)\n",
    "res_mae.append(mae)\n",
    "res_r2.append(r2)\n",
    "print(\"\\n# CROSS VALIDATION #\")\n",
    "cross_val = cross_validate(rforest, X, Y, cv=5, return_train_score=True)\n",
    "print(\"FITTING TIME:\", cross_val['fit_time'], \"->\", cross_val['fit_time'].mean())\n",
    "print(\"SCORING TIME:\", cross_val['score_time'], \"->\", cross_val['score_time'].mean())\n",
    "print(\"TRAIN SCORE:\", cross_val['train_score'], \"->\", cross_val['train_score'].mean())\n",
    "res_cv_train.append(cross_val['train_score'].mean())\n",
    "print(\"TEST SCORE:\", cross_val['test_score'], \"->\", cross_val['test_score'].mean())\n",
    "res_cv_test.append(cross_val['test_score'].mean())"
   ]
  },
  {
   "cell_type": "markdown",
   "id": "06e9a324",
   "metadata": {},
   "source": [
    "## 6 - Gradient Boosting"
   ]
  },
  {
   "cell_type": "code",
   "execution_count": 36,
   "id": "7670a48d",
   "metadata": {},
   "outputs": [
    {
     "data": {
      "text/plain": [
       "{'alpha': 0.9,\n",
       " 'ccp_alpha': 0.0,\n",
       " 'criterion': 'friedman_mse',\n",
       " 'init': None,\n",
       " 'learning_rate': 0.1,\n",
       " 'loss': 'squared_error',\n",
       " 'max_depth': 3,\n",
       " 'max_features': None,\n",
       " 'max_leaf_nodes': None,\n",
       " 'min_impurity_decrease': 0.0,\n",
       " 'min_samples_leaf': 1,\n",
       " 'min_samples_split': 2,\n",
       " 'min_weight_fraction_leaf': 0.0,\n",
       " 'n_estimators': 100,\n",
       " 'n_iter_no_change': None,\n",
       " 'random_state': None,\n",
       " 'subsample': 1.0,\n",
       " 'tol': 0.0001,\n",
       " 'validation_fraction': 0.1,\n",
       " 'verbose': 0,\n",
       " 'warm_start': False}"
      ]
     },
     "execution_count": 36,
     "metadata": {},
     "output_type": "execute_result"
    }
   ],
   "source": [
    "gradBoost = GradientBoostingRegressor()\n",
    "gradBoost.get_params()"
   ]
  },
  {
   "cell_type": "code",
   "execution_count": 37,
   "id": "52c8fa6a",
   "metadata": {},
   "outputs": [
    {
     "name": "stdout",
     "output_type": "stream",
     "text": [
      ">>> Fitting and prediction were completed in 101.026 seconds.\n"
     ]
    }
   ],
   "source": [
    "# Fit the training data into the Gradient boosting regression model, then make predictions on the test data\n",
    "s_time = time.time()\n",
    "gradBoost.fit(x_train, y_train)\n",
    "y_pred = gradBoost.predict(x_test)\n",
    "print(\">>> Fitting and prediction were completed in {:.3f} seconds.\".format(time.time()-s_time))"
   ]
  },
  {
   "cell_type": "code",
   "execution_count": 38,
   "id": "b3a3b749",
   "metadata": {},
   "outputs": [
    {
     "name": "stdout",
     "output_type": "stream",
     "text": [
      "INIT: DummyRegressor()\n",
      "ESTIMATORS (FIRST 5):\n",
      "[[DecisionTreeRegressor(criterion='friedman_mse', max_depth=3,\n",
      "                        random_state=RandomState(MT19937) at 0x1AF2D9A5340)]\n",
      " [DecisionTreeRegressor(criterion='friedman_mse', max_depth=3,\n",
      "                        random_state=RandomState(MT19937) at 0x1AF2D9A5340)]\n",
      " [DecisionTreeRegressor(criterion='friedman_mse', max_depth=3,\n",
      "                        random_state=RandomState(MT19937) at 0x1AF2D9A5340)]\n",
      " [DecisionTreeRegressor(criterion='friedman_mse', max_depth=3,\n",
      "                        random_state=RandomState(MT19937) at 0x1AF2D9A5340)]\n",
      " [DecisionTreeRegressor(criterion='friedman_mse', max_depth=3,\n",
      "                        random_state=RandomState(MT19937) at 0x1AF2D9A5340)]]\n",
      "# OF ESTIMATORS: 100\n",
      "# OF FEATURES: 31\n",
      "MAX FEATURES: 31\n",
      "FEATURE IMPORTANCES: [6.09678135e-02 2.52591000e-02 2.70740511e-02 1.98380494e-01\n",
      " 7.51156712e-02 3.30378922e-03 3.00889988e-02 1.53049348e-03\n",
      " 2.24693114e-05 1.39594233e-02 0.00000000e+00 4.30545148e-03\n",
      " 5.86174950e-03 3.70349025e-05 4.45721954e-03 0.00000000e+00\n",
      " 0.00000000e+00 5.01453073e-03 1.73511255e-03 0.00000000e+00\n",
      " 1.07995542e-01 0.00000000e+00 8.61620223e-03 3.03714220e-02\n",
      " 2.76957233e-02 0.00000000e+00 2.27012704e-02 1.74599643e-02\n",
      " 8.28727426e-03 1.89929986e-01 1.29829213e-01]\n",
      "TRAIN SCORE:\n",
      "[1384.79007417 1292.23513467 1215.76098722 1149.87534264 1089.24517862\n",
      " 1036.64536155  992.0107207   952.60063115  917.09486465  884.73678108\n",
      "  856.01714399  825.49321265  801.45634111  779.14489628  758.78898255\n",
      "  739.31627094  719.02045741  697.70196954  680.34914669  665.67563617\n",
      "  651.3493008   638.25020759  625.78324321  609.95729545  598.59114427\n",
      "  587.08262409  576.26667945  566.72050391  558.22275545  550.15911279\n",
      "  541.38617575  533.36229658  526.33212968  519.49858928  510.84587398\n",
      "  505.08211173  499.41276911  492.03581693  487.04888298  481.14939205\n",
      "  476.54810521  472.06090269  467.42757006  463.58040712  459.90776446\n",
      "  454.95152435  450.84901481  447.60519978  444.71510512  440.61286459\n",
      "  437.44060065  434.92732122  431.49509149  429.0614546   426.18462856\n",
      "  424.02151441  421.68164697  419.0014484   417.05460762  415.04064575\n",
      "  413.40883984  411.20606508  409.47765389  407.80849632  406.07262624\n",
      "  404.13487558  402.74403827  401.04732235  399.74224271  398.43937346\n",
      "  397.2126217   396.05650277  394.99572436  393.62882113  392.37876429\n",
      "  391.39988223  390.49110821  389.65018785  388.54775962  387.57545078\n",
      "  386.64795175  385.68538749  385.0136202   384.37454655  383.60020014\n",
      "  382.81254652  382.10220479  381.55803334  380.9573617   380.39043472\n",
      "  379.7066944   378.98303177  378.45006094  377.77951496  377.30024797\n",
      "  376.78567792  376.3327032   375.79054476  375.3901502   374.89876498]\n"
     ]
    }
   ],
   "source": [
    "print(\"INIT:\", gradBoost.init_)  # The estimator that provides the initial predictions\n",
    "print(\"ESTIMATORS (FIRST 5):\\n{}\".format(gradBoost.estimators_[:5]))  # The collection of fitted sub-estimators\n",
    "# The number of estimators as selected by early stopping (if 'n_iter_no_change' is specified).\n",
    "# Otherwise, it is set to 'n_estimators'\n",
    "print(\"# OF ESTIMATORS:\", gradBoost.n_estimators_)\n",
    "print(\"# OF FEATURES:\", gradBoost.n_features_in_)  # Number of features seen during fit\n",
    "print(\"MAX FEATURES:\", gradBoost.max_features_)  # The inferred value of max_features\n",
    "print(\"FEATURE IMPORTANCES:\", gradBoost.feature_importances_)  # The impurity-based feature importances\n",
    "# The i'th score 'train_score[i]' is the loss of the model at iteration i on the in-bag sample.\n",
    "# If subsample == 1, this is the loss on the training data.\n",
    "print(\"TRAIN SCORE:\\n{}\".format(gradBoost.train_score_))"
   ]
  },
  {
   "cell_type": "code",
   "execution_count": 39,
   "id": "5e8337fe",
   "metadata": {},
   "outputs": [
    {
     "name": "stdout",
     "output_type": "stream",
     "text": [
      "   95.56515709260967 |       73\n",
      "    121.054664762333 |      100\n",
      "  126.56726431833476 |      101\n",
      "  127.12494870642823 |      112\n",
      "    117.398810821169 |      130\n",
      "  114.93419457403164 |      108\n",
      "  121.27123075001788 |      130\n",
      "   61.29715524301716 |       43\n",
      "  174.47849776719903 |      174\n",
      "   93.89969166788136 |       88\n",
      "  107.90136502631303 |      103\n",
      "  171.99361038267233 |      162\n",
      "   89.39319046414813 |       73\n",
      "  107.01066555835212 |       96\n",
      "   127.4493139344515 |      121\n",
      "  158.06788096619866 |      187\n",
      "   143.3804639960046 |      173\n",
      "    95.1020260377865 |       89\n",
      "  106.70245988536486 |      106\n",
      "  126.97591525463228 |      160\n"
     ]
    }
   ],
   "source": [
    "# Compare the predicted values against the actual ones for the top 20 rows\n",
    "for i in range(20):\n",
    "    print(\"{:20} | {:8}\".format(y_pred[i], y_test.iloc[i]))"
   ]
  },
  {
   "cell_type": "code",
   "execution_count": 40,
   "id": "af1bbca1",
   "metadata": {},
   "outputs": [
    {
     "name": "stdout",
     "output_type": "stream",
     "text": [
      "MSE: 376.8694557258018\n",
      "RMSE: 19.41312586179263\n",
      "MAE: 15.696993660106163\n",
      "R2 SCORE: 0.7496506094270021\n",
      "\n",
      "# CROSS VALIDATION #\n",
      "FITTING TIME: [ 90.30981255  85.48078394  87.19272923  96.82843018 111.50252104] -> 94.262855386734\n",
      "SCORING TIME: [0.3887856  0.35547304 0.35988832 0.52526212 0.37113595] -> 0.40010900497436525\n",
      "TRAIN SCORE: [0.75009802 0.74972787 0.74996668 0.7499044  0.74962531] -> 0.7498644544786457\n",
      "TEST SCORE: [0.748973   0.74927833 0.74912566 0.74997693 0.749924  ] -> 0.7494555830447162\n"
     ]
    }
   ],
   "source": [
    "# Results of metrics\n",
    "mse, rmse, mae, r2 = mean_squared_error(y_test, y_pred), mean_squared_error(y_test, y_pred, squared=False), \\\n",
    "    mean_absolute_error(y_test, y_pred), r2_score(y_test, y_pred)\n",
    "print(\"MSE:\", mse)        \n",
    "print(\"RMSE:\", rmse)      \n",
    "print(\"MAE:\", mae)        \n",
    "print(\"R2 SCORE:\", r2)  \n",
    "res_mse.append(mse)\n",
    "res_rmse.append(rmse)\n",
    "res_mae.append(mae)\n",
    "res_r2.append(r2)\n",
    "print(\"\\n# CROSS VALIDATION #\")\n",
    "cross_val = cross_validate(gradBoost, X, Y, cv=5, return_train_score=True)\n",
    "print(\"FITTING TIME:\", cross_val['fit_time'], \"->\", cross_val['fit_time'].mean())\n",
    "print(\"SCORING TIME:\", cross_val['score_time'], \"->\", cross_val['score_time'].mean())\n",
    "print(\"TRAIN SCORE:\", cross_val['train_score'], \"->\", cross_val['train_score'].mean())\n",
    "res_cv_train.append(cross_val['train_score'].mean())\n",
    "print(\"TEST SCORE:\", cross_val['test_score'], \"->\", cross_val['test_score'].mean())\n",
    "res_cv_test.append(cross_val['test_score'].mean())"
   ]
  },
  {
   "cell_type": "markdown",
   "id": "6565d504",
   "metadata": {},
   "source": [
    "## 7 - XGBoost"
   ]
  },
  {
   "cell_type": "code",
   "execution_count": 41,
   "id": "545496d8",
   "metadata": {},
   "outputs": [
    {
     "data": {
      "text/plain": [
       "{'objective': 'reg:squarederror',\n",
       " 'base_score': None,\n",
       " 'booster': None,\n",
       " 'callbacks': None,\n",
       " 'colsample_bylevel': None,\n",
       " 'colsample_bynode': None,\n",
       " 'colsample_bytree': None,\n",
       " 'device': None,\n",
       " 'early_stopping_rounds': None,\n",
       " 'enable_categorical': False,\n",
       " 'eval_metric': None,\n",
       " 'feature_types': None,\n",
       " 'gamma': None,\n",
       " 'grow_policy': None,\n",
       " 'importance_type': None,\n",
       " 'interaction_constraints': None,\n",
       " 'learning_rate': None,\n",
       " 'max_bin': None,\n",
       " 'max_cat_threshold': None,\n",
       " 'max_cat_to_onehot': None,\n",
       " 'max_delta_step': None,\n",
       " 'max_depth': None,\n",
       " 'max_leaves': None,\n",
       " 'min_child_weight': None,\n",
       " 'missing': nan,\n",
       " 'monotone_constraints': None,\n",
       " 'multi_strategy': None,\n",
       " 'n_estimators': None,\n",
       " 'n_jobs': None,\n",
       " 'num_parallel_tree': None,\n",
       " 'random_state': None,\n",
       " 'reg_alpha': None,\n",
       " 'reg_lambda': None,\n",
       " 'sampling_method': None,\n",
       " 'scale_pos_weight': None,\n",
       " 'subsample': None,\n",
       " 'tree_method': None,\n",
       " 'validate_parameters': None,\n",
       " 'verbosity': None}"
      ]
     },
     "execution_count": 41,
     "metadata": {},
     "output_type": "execute_result"
    }
   ],
   "source": [
    "xgb = xgboost.XGBRegressor()\n",
    "xgb.get_params()"
   ]
  },
  {
   "cell_type": "code",
   "execution_count": 42,
   "id": "5a88a248",
   "metadata": {},
   "outputs": [
    {
     "name": "stdout",
     "output_type": "stream",
     "text": [
      ">>> Fitting and prediction were completed in 5.032 seconds.\n"
     ]
    }
   ],
   "source": [
    "# Fit the training data into the extreme gradient boosting regression model, then make predictions on the test data\n",
    "s_time = time.time()\n",
    "xgb.fit(x_train, y_train)\n",
    "y_pred = xgb.predict(x_test)\n",
    "print(\">>> Fitting and prediction were completed in {:.3f} seconds.\".format(time.time()-s_time))"
   ]
  },
  {
   "cell_type": "code",
   "execution_count": 43,
   "id": "6dd1d5a0",
   "metadata": {},
   "outputs": [
    {
     "name": "stdout",
     "output_type": "stream",
     "text": [
      "   94.25157928466797 |       73\n",
      "  125.50593566894531 |      100\n",
      "  126.61891174316406 |      101\n",
      "  127.32078552246094 |      112\n",
      "   118.7073974609375 |      130\n",
      "  108.66679382324219 |      108\n",
      "  116.02254486083984 |      130\n",
      "   53.67390060424805 |       43\n",
      "   189.6204071044922 |      174\n",
      "    92.7608642578125 |       88\n",
      "  105.73955535888672 |      103\n",
      "   172.6977081298828 |      162\n",
      "   82.91378784179688 |       73\n",
      "  108.14832305908203 |       96\n",
      "   131.7954864501953 |      121\n",
      "   156.1629638671875 |      187\n",
      "  139.32913208007812 |      173\n",
      "   92.02782440185547 |       89\n",
      "  104.64934539794922 |      106\n",
      "  121.75745391845703 |      160\n"
     ]
    }
   ],
   "source": [
    "# Compare the predicted values against the actual ones for the top 20 rows\n",
    "for i in range(20):\n",
    "    print(\"{:20} | {:8}\".format(y_pred[i], y_test.iloc[i]))"
   ]
  },
  {
   "cell_type": "code",
   "execution_count": 44,
   "id": "faf39bed",
   "metadata": {},
   "outputs": [
    {
     "name": "stdout",
     "output_type": "stream",
     "text": [
      "MSE: 358.53993012002655\n",
      "RMSE: 18.935150649520235\n",
      "MAE: 15.378409626455307\n",
      "R2 SCORE: 0.7618266706470885\n",
      "\n",
      "# CROSS VALIDATION #\n",
      "FITTING TIME: [5.64386654 5.39823389 5.20673728 5.29523993 5.32762384] -> 5.374340295791626\n",
      "SCORING TIME: [0.1762979  0.14045358 0.15705276 0.15418601 0.14122343] -> 0.15384273529052733\n",
      "TRAIN SCORE: [0.76511612 0.76463375 0.76527849 0.76481091 0.7646614 ] -> 0.7649001347028642\n",
      "TEST SCORE: [0.76044439 0.76061531 0.76088225 0.76101554 0.76102936] -> 0.7607973686139663\n"
     ]
    }
   ],
   "source": [
    "# Results of metrics\n",
    "mse, rmse, mae, r2 = mean_squared_error(y_test, y_pred), mean_squared_error(y_test, y_pred, squared=False), \\\n",
    "    mean_absolute_error(y_test, y_pred), r2_score(y_test, y_pred)\n",
    "print(\"MSE:\", mse)        \n",
    "print(\"RMSE:\", rmse)      \n",
    "print(\"MAE:\", mae)        \n",
    "print(\"R2 SCORE:\", r2)  \n",
    "res_mse.append(mse)\n",
    "res_rmse.append(rmse)\n",
    "res_mae.append(mae)\n",
    "res_r2.append(r2)\n",
    "print(\"\\n# CROSS VALIDATION #\")\n",
    "cross_val = cross_validate(xgb, X, Y, cv=5, return_train_score=True)\n",
    "print(\"FITTING TIME:\", cross_val['fit_time'], \"->\", cross_val['fit_time'].mean())\n",
    "print(\"SCORING TIME:\", cross_val['score_time'], \"->\", cross_val['score_time'].mean())\n",
    "print(\"TRAIN SCORE:\", cross_val['train_score'], \"->\", cross_val['train_score'].mean())\n",
    "res_cv_train.append(cross_val['train_score'].mean())\n",
    "print(\"TEST SCORE:\", cross_val['test_score'], \"->\", cross_val['test_score'].mean())\n",
    "res_cv_test.append(cross_val['test_score'].mean())"
   ]
  },
  {
   "cell_type": "markdown",
   "id": "196c40f5",
   "metadata": {},
   "source": [
    "## Results of Metrics of All ML Models Together"
   ]
  },
  {
   "cell_type": "code",
   "execution_count": 45,
   "id": "4e70bc10",
   "metadata": {},
   "outputs": [
    {
     "data": {
      "image/png": "[encoded data removed]",
      "text/plain": [
       "<Figure size 900x400 with 1 Axes>"
      ]
     },
     "metadata": {},
     "output_type": "display_data"
    }
   ],
   "source": [
    "methods = ['LinReg', 'Lasso', 'Ridge', 'PolyLasso', 'PolyRidge', 'RForest', 'GradBoost', 'XGBoost']\n",
    "plt.figure(figsize=(9,4))\n",
    "plt.barh(range(8), res_mse, color='#00afff')\n",
    "plt.title(\"MSE Results\", fontsize=18, fontweight='bold')\n",
    "plt.yticks(range(8), methods)\n",
    "plt.ylim(7.7,-0.7)\n",
    "plt.xlabel('MSE Values', fontsize=13, fontweight='bold')\n",
    "plt.ylabel('ML Models', fontsize=13, fontweight='bold')\n",
    "for i in range(8):\n",
    "    plt.text(res_mse[i]-95, i+0.12, \"{:.3f}\".format(res_mse[i]), fontweight='bold')\n",
    "plt.show()"
   ]
  },
  {
   "cell_type": "code",
   "execution_count": 46,
   "id": "1659d6b4",
   "metadata": {},
   "outputs": [
    {
     "data": {
      "image/png": "[encoded data removed]",
      "text/plain": [
       "<Figure size 900x400 with 1 Axes>"
      ]
     },
     "metadata": {},
     "output_type": "display_data"
    }
   ],
   "source": [
    "plt.figure(figsize=(9,4))\n",
    "plt.barh(range(8), res_rmse, color='#00afff')\n",
    "plt.title(\"RMSE Results\", fontsize=18, fontweight='bold')\n",
    "plt.yticks(range(8), methods)\n",
    "plt.ylim(7.7,-0.7)\n",
    "plt.xlabel('RMSE Values', fontsize=13, fontweight='bold')\n",
    "plt.ylabel('ML Models', fontsize=13, fontweight='bold')\n",
    "for i in range(8):\n",
    "    plt.text(res_rmse[i]-3, i+0.12, \"{:.3f}\".format(res_rmse[i]), fontweight='bold')\n",
    "plt.show()"
   ]
  },
  {
   "cell_type": "code",
   "execution_count": 47,
   "id": "e1b0a21d",
   "metadata": {},
   "outputs": [
    {
     "data": {
      "image/png": "[encoded data removed]",
      "text/plain": [
       "<Figure size 900x400 with 1 Axes>"
      ]
     },
     "metadata": {},
     "output_type": "display_data"
    }
   ],
   "source": [
    "plt.figure(figsize=(9,4))\n",
    "plt.barh(range(8), res_mae, color='#00afff')\n",
    "plt.title(\"MAE Results\", fontsize=18, fontweight='bold')\n",
    "plt.yticks(range(8), methods)\n",
    "plt.ylim(7.7,-0.7)\n",
    "plt.xlabel('MAE Values', fontsize=13, fontweight='bold')\n",
    "plt.ylabel('ML Models', fontsize=13, fontweight='bold')\n",
    "for i in range(8):\n",
    "    plt.text(res_mae[i]-2.4, i+0.12, \"{:.3f}\".format(res_mae[i]), fontweight='bold')\n",
    "plt.show()"
   ]
  },
  {
   "cell_type": "code",
   "execution_count": 48,
   "id": "38072650",
   "metadata": {},
   "outputs": [
    {
     "data": {
      "image/png": "[encoded data removed]",
      "text/plain": [
       "<Figure size 900x400 with 1 Axes>"
      ]
     },
     "metadata": {},
     "output_type": "display_data"
    }
   ],
   "source": [
    "plt.figure(figsize=(9,4))\n",
    "plt.barh(range(8), res_r2, color='#00afff')\n",
    "plt.title(\"R2 Score Results\", fontsize=18, fontweight='bold')\n",
    "plt.yticks(range(8), methods)\n",
    "plt.ylim(7.7,-0.7)\n",
    "plt.xlabel('R2 Scores', fontsize=13, fontweight='bold')\n",
    "plt.ylabel('ML Models', fontsize=13, fontweight='bold')\n",
    "for i in range(8):\n",
    "    plt.text(res_r2[i]-0.07, i+0.12, \"{:.4f}\".format(res_r2[i]), fontweight='bold')\n",
    "plt.show()"
   ]
  },
  {
   "cell_type": "code",
   "execution_count": 49,
   "id": "afa8edbb",
   "metadata": {},
   "outputs": [
    {
     "data": {
      "image/png": "[encoded data removed]",
      "text/plain": [
       "<Figure size 900x400 with 1 Axes>"
      ]
     },
     "metadata": {},
     "output_type": "display_data"
    }
   ],
   "source": [
    "plt.figure(figsize=(9,4))\n",
    "plt.barh(range(8), res_cv_train, color='#00afff')\n",
    "plt.title(\"5-Fold CV Results (Train)\", fontsize=18, fontweight='bold')\n",
    "plt.yticks(range(8), methods)\n",
    "plt.ylim(7.7,-0.7)\n",
    "plt.xlabel('Train Scores', fontsize=13, fontweight='bold')\n",
    "plt.ylabel('ML Models', fontsize=13, fontweight='bold')\n",
    "for i in range(8):\n",
    "    plt.text(res_cv_train[i]-0.07, i+0.12, \"{:.4f}\".format(res_cv_train[i]), fontweight='bold')\n",
    "plt.show()"
   ]
  },
  {
   "cell_type": "code",
   "execution_count": 50,
   "id": "5fe8c322",
   "metadata": {},
   "outputs": [
    {
     "data": {
      "image/png": "[encoded data removed]",
      "text/plain": [
       "<Figure size 900x400 with 1 Axes>"
      ]
     },
     "metadata": {},
     "output_type": "display_data"
    }
   ],
   "source": [
    "plt.figure(figsize=(9,4))\n",
    "plt.barh(range(8), res_cv_test, color='#00afff')\n",
    "plt.title(\"5-Fold CV Results (Test)\", fontsize=18, fontweight='bold')\n",
    "plt.yticks(range(8), methods)\n",
    "plt.ylim(7.7,-0.7)\n",
    "plt.xlabel('Test Scores', fontsize=13, fontweight='bold')\n",
    "plt.ylabel('ML Models', fontsize=13, fontweight='bold')\n",
    "for i in range(8):\n",
    "    plt.text(res_cv_test[i]-0.07, i+0.12, \"{:.4f}\".format(res_cv_test[i]), fontweight='bold')\n",
    "plt.show()"
   ]
  }
 ],
 "metadata": {
  "kernelspec": {
   "display_name": "Python 3 (ipykernel)",
   "language": "python",
   "name": "python3"
  },
  "language_info": {
   "codemirror_mode": {
    "name": "ipython",
    "version": 3
   },
   "file_extension": ".py",
   "mimetype": "text/x-python",
   "name": "python",
   "nbconvert_exporter": "python",
   "pygments_lexer": "ipython3",
   "version": "3.10.8"
  }
 },
 "nbformat": 4,
 "nbformat_minor": 5
}
