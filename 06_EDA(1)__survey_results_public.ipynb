{
 "cells": [
  {
   "cell_type": "markdown",
   "id": "69f8209b",
   "metadata": {},
   "source": [
    "# 06. jhanvi831/Software-Engineer-Salary-Prediction\n",
    "\n",
    "## Exploratory Data Analysis - survey_results_public.csv\n",
    "\n",
    "**Dataset is based on 2021 Stack Overflow data**"
   ]
  },
  {
   "cell_type": "code",
   "execution_count": 2,
   "id": "743372cd",
   "metadata": {},
   "outputs": [],
   "source": [
    "import numpy as np\n",
    "import pandas as pd\n",
    "import matplotlib.pyplot as plt\n",
    "import seaborn as sns\n",
    "import warnings\n",
    "warnings.filterwarnings('ignore')"
   ]
  },
  {
   "cell_type": "code",
   "execution_count": 3,
   "id": "e580f48a",
   "metadata": {},
   "outputs": [],
   "source": [
    "df = pd.read_csv('06_survey_results_public.csv')"
   ]
  },
  {
   "cell_type": "code",
   "execution_count": 4,
   "id": "109788da",
   "metadata": {},
   "outputs": [
    {
     "data": {
      "text/html": [
       "<div>\n",
       "<style scoped>\n",
       "    .dataframe tbody tr th:only-of-type {\n",
       "        vertical-align: middle;\n",
       "    }\n",
       "\n",
       "    .dataframe tbody tr th {\n",
       "        vertical-align: top;\n",
       "    }\n",
       "\n",
       "    .dataframe thead th {\n",
       "        text-align: right;\n",
       "    }\n",
       "</style>\n",
       "<table border=\"1\" class=\"dataframe\">\n",
       "  <thead>\n",
       "    <tr style=\"text-align: right;\">\n",
       "      <th></th>\n",
       "      <th>ResponseId</th>\n",
       "      <th>MainBranch</th>\n",
       "      <th>Employment</th>\n",
       "      <th>Country</th>\n",
       "      <th>US_State</th>\n",
       "      <th>UK_Country</th>\n",
       "      <th>EdLevel</th>\n",
       "      <th>Age1stCode</th>\n",
       "      <th>LearnCode</th>\n",
       "      <th>YearsCode</th>\n",
       "      <th>...</th>\n",
       "      <th>Age</th>\n",
       "      <th>Gender</th>\n",
       "      <th>Trans</th>\n",
       "      <th>Sexuality</th>\n",
       "      <th>Ethnicity</th>\n",
       "      <th>Accessibility</th>\n",
       "      <th>MentalHealth</th>\n",
       "      <th>SurveyLength</th>\n",
       "      <th>SurveyEase</th>\n",
       "      <th>ConvertedCompYearly</th>\n",
       "    </tr>\n",
       "  </thead>\n",
       "  <tbody>\n",
       "    <tr>\n",
       "      <th>0</th>\n",
       "      <td>1</td>\n",
       "      <td>I am a developer by profession</td>\n",
       "      <td>Independent contractor, freelancer, or self-em...</td>\n",
       "      <td>Slovakia</td>\n",
       "      <td>NaN</td>\n",
       "      <td>NaN</td>\n",
       "      <td>Secondary school (e.g. American high school, G...</td>\n",
       "      <td>18 - 24 years</td>\n",
       "      <td>Coding Bootcamp;Other online resources (ex: vi...</td>\n",
       "      <td>NaN</td>\n",
       "      <td>...</td>\n",
       "      <td>25-34 years old</td>\n",
       "      <td>Man</td>\n",
       "      <td>No</td>\n",
       "      <td>Straight / Heterosexual</td>\n",
       "      <td>White or of European descent</td>\n",
       "      <td>None of the above</td>\n",
       "      <td>None of the above</td>\n",
       "      <td>Appropriate in length</td>\n",
       "      <td>Easy</td>\n",
       "      <td>62268.0</td>\n",
       "    </tr>\n",
       "    <tr>\n",
       "      <th>1</th>\n",
       "      <td>2</td>\n",
       "      <td>I am a student who is learning to code</td>\n",
       "      <td>Student, full-time</td>\n",
       "      <td>Netherlands</td>\n",
       "      <td>NaN</td>\n",
       "      <td>NaN</td>\n",
       "      <td>Bachelor’s degree (B.A., B.S., B.Eng., etc.)</td>\n",
       "      <td>11 - 17 years</td>\n",
       "      <td>Other online resources (ex: videos, blogs, etc...</td>\n",
       "      <td>7</td>\n",
       "      <td>...</td>\n",
       "      <td>18-24 years old</td>\n",
       "      <td>Man</td>\n",
       "      <td>No</td>\n",
       "      <td>Straight / Heterosexual</td>\n",
       "      <td>White or of European descent</td>\n",
       "      <td>None of the above</td>\n",
       "      <td>None of the above</td>\n",
       "      <td>Appropriate in length</td>\n",
       "      <td>Easy</td>\n",
       "      <td>NaN</td>\n",
       "    </tr>\n",
       "    <tr>\n",
       "      <th>2</th>\n",
       "      <td>3</td>\n",
       "      <td>I am not primarily a developer, but I write co...</td>\n",
       "      <td>Student, full-time</td>\n",
       "      <td>Russian Federation</td>\n",
       "      <td>NaN</td>\n",
       "      <td>NaN</td>\n",
       "      <td>Bachelor’s degree (B.A., B.S., B.Eng., etc.)</td>\n",
       "      <td>11 - 17 years</td>\n",
       "      <td>Other online resources (ex: videos, blogs, etc...</td>\n",
       "      <td>NaN</td>\n",
       "      <td>...</td>\n",
       "      <td>18-24 years old</td>\n",
       "      <td>Man</td>\n",
       "      <td>No</td>\n",
       "      <td>Prefer not to say</td>\n",
       "      <td>Prefer not to say</td>\n",
       "      <td>None of the above</td>\n",
       "      <td>None of the above</td>\n",
       "      <td>Appropriate in length</td>\n",
       "      <td>Easy</td>\n",
       "      <td>NaN</td>\n",
       "    </tr>\n",
       "    <tr>\n",
       "      <th>3</th>\n",
       "      <td>4</td>\n",
       "      <td>I am a developer by profession</td>\n",
       "      <td>Employed full-time</td>\n",
       "      <td>Austria</td>\n",
       "      <td>NaN</td>\n",
       "      <td>NaN</td>\n",
       "      <td>Master’s degree (M.A., M.S., M.Eng., MBA, etc.)</td>\n",
       "      <td>11 - 17 years</td>\n",
       "      <td>NaN</td>\n",
       "      <td>NaN</td>\n",
       "      <td>...</td>\n",
       "      <td>35-44 years old</td>\n",
       "      <td>Man</td>\n",
       "      <td>No</td>\n",
       "      <td>Straight / Heterosexual</td>\n",
       "      <td>White or of European descent</td>\n",
       "      <td>I am deaf / hard of hearing</td>\n",
       "      <td>NaN</td>\n",
       "      <td>Appropriate in length</td>\n",
       "      <td>Neither easy nor difficult</td>\n",
       "      <td>NaN</td>\n",
       "    </tr>\n",
       "    <tr>\n",
       "      <th>4</th>\n",
       "      <td>5</td>\n",
       "      <td>I am a developer by profession</td>\n",
       "      <td>Independent contractor, freelancer, or self-em...</td>\n",
       "      <td>United Kingdom of Great Britain and Northern I...</td>\n",
       "      <td>NaN</td>\n",
       "      <td>England</td>\n",
       "      <td>Master’s degree (M.A., M.S., M.Eng., MBA, etc.)</td>\n",
       "      <td>5 - 10 years</td>\n",
       "      <td>Friend or family member</td>\n",
       "      <td>17</td>\n",
       "      <td>...</td>\n",
       "      <td>25-34 years old</td>\n",
       "      <td>Man</td>\n",
       "      <td>No</td>\n",
       "      <td>NaN</td>\n",
       "      <td>White or of European descent</td>\n",
       "      <td>None of the above</td>\n",
       "      <td>NaN</td>\n",
       "      <td>Appropriate in length</td>\n",
       "      <td>Easy</td>\n",
       "      <td>NaN</td>\n",
       "    </tr>\n",
       "  </tbody>\n",
       "</table>\n",
       "<p>5 rows × 48 columns</p>\n",
       "</div>"
      ],
      "text/plain": [
       "   ResponseId                                         MainBranch  \\\n",
       "0           1                     I am a developer by profession   \n",
       "1           2             I am a student who is learning to code   \n",
       "2           3  I am not primarily a developer, but I write co...   \n",
       "3           4                     I am a developer by profession   \n",
       "4           5                     I am a developer by profession   \n",
       "\n",
       "                                          Employment  \\\n",
       "0  Independent contractor, freelancer, or self-em...   \n",
       "1                                 Student, full-time   \n",
       "2                                 Student, full-time   \n",
       "3                                 Employed full-time   \n",
       "4  Independent contractor, freelancer, or self-em...   \n",
       "\n",
       "                                             Country US_State UK_Country  \\\n",
       "0                                           Slovakia      NaN        NaN   \n",
       "1                                        Netherlands      NaN        NaN   \n",
       "2                                 Russian Federation      NaN        NaN   \n",
       "3                                            Austria      NaN        NaN   \n",
       "4  United Kingdom of Great Britain and Northern I...      NaN    England   \n",
       "\n",
       "                                             EdLevel     Age1stCode  \\\n",
       "0  Secondary school (e.g. American high school, G...  18 - 24 years   \n",
       "1       Bachelor’s degree (B.A., B.S., B.Eng., etc.)  11 - 17 years   \n",
       "2       Bachelor’s degree (B.A., B.S., B.Eng., etc.)  11 - 17 years   \n",
       "3    Master’s degree (M.A., M.S., M.Eng., MBA, etc.)  11 - 17 years   \n",
       "4    Master’s degree (M.A., M.S., M.Eng., MBA, etc.)   5 - 10 years   \n",
       "\n",
       "                                           LearnCode YearsCode  ...  \\\n",
       "0  Coding Bootcamp;Other online resources (ex: vi...       NaN  ...   \n",
       "1  Other online resources (ex: videos, blogs, etc...         7  ...   \n",
       "2  Other online resources (ex: videos, blogs, etc...       NaN  ...   \n",
       "3                                                NaN       NaN  ...   \n",
       "4                            Friend or family member        17  ...   \n",
       "\n",
       "               Age Gender Trans                Sexuality  \\\n",
       "0  25-34 years old    Man    No  Straight / Heterosexual   \n",
       "1  18-24 years old    Man    No  Straight / Heterosexual   \n",
       "2  18-24 years old    Man    No        Prefer not to say   \n",
       "3  35-44 years old    Man    No  Straight / Heterosexual   \n",
       "4  25-34 years old    Man    No                      NaN   \n",
       "\n",
       "                      Ethnicity                Accessibility  \\\n",
       "0  White or of European descent            None of the above   \n",
       "1  White or of European descent            None of the above   \n",
       "2             Prefer not to say            None of the above   \n",
       "3  White or of European descent  I am deaf / hard of hearing   \n",
       "4  White or of European descent            None of the above   \n",
       "\n",
       "        MentalHealth           SurveyLength                  SurveyEase  \\\n",
       "0  None of the above  Appropriate in length                        Easy   \n",
       "1  None of the above  Appropriate in length                        Easy   \n",
       "2  None of the above  Appropriate in length                        Easy   \n",
       "3                NaN  Appropriate in length  Neither easy nor difficult   \n",
       "4                NaN  Appropriate in length                        Easy   \n",
       "\n",
       "  ConvertedCompYearly  \n",
       "0             62268.0  \n",
       "1                 NaN  \n",
       "2                 NaN  \n",
       "3                 NaN  \n",
       "4                 NaN  \n",
       "\n",
       "[5 rows x 48 columns]"
      ]
     },
     "execution_count": 4,
     "metadata": {},
     "output_type": "execute_result"
    }
   ],
   "source": [
    "# First 5 rows of the dataset\n",
    "df.head()"
   ]
  },
  {
   "cell_type": "code",
   "execution_count": 5,
   "id": "c5ebc650",
   "metadata": {},
   "outputs": [
    {
     "name": "stdout",
     "output_type": "stream",
     "text": [
      "<class 'pandas.core.frame.DataFrame'>\n",
      "RangeIndex: 83439 entries, 0 to 83438\n",
      "Data columns (total 48 columns):\n",
      " #   Column                        Non-Null Count  Dtype  \n",
      "---  ------                        --------------  -----  \n",
      " 0   ResponseId                    83439 non-null  int64  \n",
      " 1   MainBranch                    83439 non-null  object \n",
      " 2   Employment                    83323 non-null  object \n",
      " 3   Country                       83439 non-null  object \n",
      " 4   US_State                      14920 non-null  object \n",
      " 5   UK_Country                    4418 non-null   object \n",
      " 6   EdLevel                       83126 non-null  object \n",
      " 7   Age1stCode                    83243 non-null  object \n",
      " 8   LearnCode                     82963 non-null  object \n",
      " 9   YearsCode                     81641 non-null  object \n",
      " 10  YearsCodePro                  61216 non-null  object \n",
      " 11  DevType                       66484 non-null  object \n",
      " 12  OrgSize                       60726 non-null  object \n",
      " 13  Currency                      61080 non-null  object \n",
      " 14  CompTotal                     47183 non-null  float64\n",
      " 15  CompFreq                      52150 non-null  object \n",
      " 16  LanguageHaveWorkedWith        82357 non-null  object \n",
      " 17  LanguageWantToWorkWith        76821 non-null  object \n",
      " 18  DatabaseHaveWorkedWith        69546 non-null  object \n",
      " 19  DatabaseWantToWorkWith        58299 non-null  object \n",
      " 20  PlatformHaveWorkedWith        52135 non-null  object \n",
      " 21  PlatformWantToWorkWith        41619 non-null  object \n",
      " 22  WebframeHaveWorkedWith        61707 non-null  object \n",
      " 23  WebframeWantToWorkWith        52095 non-null  object \n",
      " 24  MiscTechHaveWorkedWith        47055 non-null  object \n",
      " 25  MiscTechWantToWorkWith        38021 non-null  object \n",
      " 26  ToolsTechHaveWorkedWith       72537 non-null  object \n",
      " 27  ToolsTechWantToWorkWith       65480 non-null  object \n",
      " 28  NEWCollabToolsHaveWorkedWith  81234 non-null  object \n",
      " 29  NEWCollabToolsWantToWorkWith  73022 non-null  object \n",
      " 30  OpSys                         83294 non-null  object \n",
      " 31  NEWStuck                      83052 non-null  object \n",
      " 32  NEWSOSites                    83171 non-null  object \n",
      " 33  SOVisitFreq                   82413 non-null  object \n",
      " 34  SOAccount                     82525 non-null  object \n",
      " 35  SOPartFreq                    67553 non-null  object \n",
      " 36  SOComm                        82319 non-null  object \n",
      " 37  NEWOtherComms                 82828 non-null  object \n",
      " 38  Age                           82407 non-null  object \n",
      " 39  Gender                        82286 non-null  object \n",
      " 40  Trans                         80678 non-null  object \n",
      " 41  Sexuality                     73366 non-null  object \n",
      " 42  Ethnicity                     79464 non-null  object \n",
      " 43  Accessibility                 77603 non-null  object \n",
      " 44  MentalHealth                  76920 non-null  object \n",
      " 45  SurveyLength                  81711 non-null  object \n",
      " 46  SurveyEase                    81948 non-null  object \n",
      " 47  ConvertedCompYearly           46844 non-null  float64\n",
      "dtypes: float64(2), int64(1), object(45)\n",
      "memory usage: 30.6+ MB\n"
     ]
    }
   ],
   "source": [
    "# Show all columns, their counts and data types\n",
    "df.info()"
   ]
  },
  {
   "cell_type": "code",
   "execution_count": 97,
   "id": "d54f64a9",
   "metadata": {},
   "outputs": [
    {
     "name": "stdout",
     "output_type": "stream",
     "text": [
      "ResponseId                                                                      1\n",
      "MainBranch                                         I am a developer by profession\n",
      "Employment                      Independent contractor, freelancer, or self-em...\n",
      "Country                                                                  Slovakia\n",
      "US_State                                                                      NaN\n",
      "UK_Country                                                                    NaN\n",
      "EdLevel                         Secondary school (e.g. American high school, G...\n",
      "Age1stCode                                                          18 - 24 years\n",
      "LearnCode                       Coding Bootcamp;Other online resources (ex: vi...\n",
      "YearsCode                                                                     NaN\n",
      "YearsCodePro                                                                  NaN\n",
      "DevType                                                         Developer, mobile\n",
      "OrgSize                                                        20 to 99 employees\n",
      "Currency                                                        EUR European Euro\n",
      "CompTotal                                                                  4800.0\n",
      "CompFreq                                                                  Monthly\n",
      "LanguageHaveWorkedWith              C++;HTML/CSS;JavaScript;Objective-C;PHP;Swift\n",
      "LanguageWantToWorkWith                                                      Swift\n",
      "DatabaseHaveWorkedWith                                          PostgreSQL;SQLite\n",
      "DatabaseWantToWorkWith                                                     SQLite\n",
      "PlatformHaveWorkedWith                                                        NaN\n",
      "PlatformWantToWorkWith                                                        NaN\n",
      "WebframeHaveWorkedWith                                            Laravel;Symfony\n",
      "WebframeWantToWorkWith                                                        NaN\n",
      "MiscTechHaveWorkedWith                                                        NaN\n",
      "MiscTechWantToWorkWith                                                        NaN\n",
      "ToolsTechHaveWorkedWith                                                       NaN\n",
      "ToolsTechWantToWorkWith                                                       NaN\n",
      "NEWCollabToolsHaveWorkedWith                                       PHPStorm;Xcode\n",
      "NEWCollabToolsWantToWorkWith                                           Atom;Xcode\n",
      "OpSys                                                                       MacOS\n",
      "NEWStuck                        Call a coworker or friend;Visit Stack Overflow...\n",
      "NEWSOSites                                                         Stack Overflow\n",
      "SOVisitFreq                                                Multiple times per day\n",
      "SOAccount                                                                     Yes\n",
      "SOPartFreq                                        A few times per month or weekly\n",
      "SOComm                                                            Yes, definitely\n",
      "NEWOtherComms                                                                  No\n",
      "Age                                                               25-34 years old\n",
      "Gender                                                                        Man\n",
      "Trans                                                                          No\n",
      "Sexuality                                                 Straight / Heterosexual\n",
      "Ethnicity                                            White or of European descent\n",
      "Accessibility                                                   None of the above\n",
      "MentalHealth                                                    None of the above\n",
      "SurveyLength                                                Appropriate in length\n",
      "SurveyEase                                                                   Easy\n",
      "ConvertedCompYearly                                                       62268.0\n",
      "Name: 0, dtype: object\n",
      "EMPLOYMENT -> Independent contractor, freelancer, or self-employed\n",
      "EDUCATION -> Secondary school (e.g. American high school, German Realschule or Gymnasium, etc.)\n",
      "LEARN CODE -> Coding Bootcamp;Other online resources (ex: videos, blogs, etc)\n",
      "STUCK -> Call a coworker or friend;Visit Stack Overflow;Go for a walk or other physical activity;Google it\n"
     ]
    }
   ],
   "source": [
    "print(df.iloc[0])\n",
    "print(\"EMPLOYMENT ->\", df.loc[0,'Employment'])\n",
    "print(\"EDUCATION ->\", df.loc[0,'EdLevel'])\n",
    "print(\"LEARN CODE ->\", df.loc[0,'LearnCode'])\n",
    "print(\"STUCK ->\", df.loc[0,'NEWStuck'])"
   ]
  },
  {
   "cell_type": "code",
   "execution_count": 6,
   "id": "a456daf9",
   "metadata": {},
   "outputs": [
    {
     "data": {
      "text/html": [
       "<div>\n",
       "<style scoped>\n",
       "    .dataframe tbody tr th:only-of-type {\n",
       "        vertical-align: middle;\n",
       "    }\n",
       "\n",
       "    .dataframe tbody tr th {\n",
       "        vertical-align: top;\n",
       "    }\n",
       "\n",
       "    .dataframe thead th {\n",
       "        text-align: right;\n",
       "    }\n",
       "</style>\n",
       "<table border=\"1\" class=\"dataframe\">\n",
       "  <thead>\n",
       "    <tr style=\"text-align: right;\">\n",
       "      <th></th>\n",
       "      <th>ResponseId</th>\n",
       "      <th>CompTotal</th>\n",
       "      <th>ConvertedCompYearly</th>\n",
       "    </tr>\n",
       "  </thead>\n",
       "  <tbody>\n",
       "    <tr>\n",
       "      <th>count</th>\n",
       "      <td>83439.000000</td>\n",
       "      <td>4.718300e+04</td>\n",
       "      <td>4.684400e+04</td>\n",
       "    </tr>\n",
       "    <tr>\n",
       "      <th>mean</th>\n",
       "      <td>41720.000000</td>\n",
       "      <td>2.119407e+69</td>\n",
       "      <td>1.184262e+05</td>\n",
       "    </tr>\n",
       "    <tr>\n",
       "      <th>std</th>\n",
       "      <td>24086.908893</td>\n",
       "      <td>4.603702e+71</td>\n",
       "      <td>5.272944e+05</td>\n",
       "    </tr>\n",
       "    <tr>\n",
       "      <th>min</th>\n",
       "      <td>1.000000</td>\n",
       "      <td>0.000000e+00</td>\n",
       "      <td>1.000000e+00</td>\n",
       "    </tr>\n",
       "    <tr>\n",
       "      <th>25%</th>\n",
       "      <td>20860.500000</td>\n",
       "      <td>1.600000e+04</td>\n",
       "      <td>2.702500e+04</td>\n",
       "    </tr>\n",
       "    <tr>\n",
       "      <th>50%</th>\n",
       "      <td>41720.000000</td>\n",
       "      <td>6.700000e+04</td>\n",
       "      <td>5.621100e+04</td>\n",
       "    </tr>\n",
       "    <tr>\n",
       "      <th>75%</th>\n",
       "      <td>62579.500000</td>\n",
       "      <td>1.400000e+05</td>\n",
       "      <td>1.000000e+05</td>\n",
       "    </tr>\n",
       "    <tr>\n",
       "      <th>max</th>\n",
       "      <td>83439.000000</td>\n",
       "      <td>1.000000e+74</td>\n",
       "      <td>4.524131e+07</td>\n",
       "    </tr>\n",
       "  </tbody>\n",
       "</table>\n",
       "</div>"
      ],
      "text/plain": [
       "         ResponseId     CompTotal  ConvertedCompYearly\n",
       "count  83439.000000  4.718300e+04         4.684400e+04\n",
       "mean   41720.000000  2.119407e+69         1.184262e+05\n",
       "std    24086.908893  4.603702e+71         5.272944e+05\n",
       "min        1.000000  0.000000e+00         1.000000e+00\n",
       "25%    20860.500000  1.600000e+04         2.702500e+04\n",
       "50%    41720.000000  6.700000e+04         5.621100e+04\n",
       "75%    62579.500000  1.400000e+05         1.000000e+05\n",
       "max    83439.000000  1.000000e+74         4.524131e+07"
      ]
     },
     "execution_count": 6,
     "metadata": {},
     "output_type": "execute_result"
    }
   ],
   "source": [
    "# Get statistical info about numerical columns (there are only two if we don't include ResponseId)\n",
    "df.describe()"
   ]
  },
  {
   "cell_type": "markdown",
   "id": "717476cc",
   "metadata": {},
   "source": [
    "## Column Analysis"
   ]
  },
  {
   "cell_type": "code",
   "execution_count": 7,
   "id": "1529c84f",
   "metadata": {},
   "outputs": [
    {
     "name": "stdout",
     "output_type": "stream",
     "text": [
      "#### MAIN BRACHES ####\n",
      "I am a developer by profession                                                   58153\n",
      "I am a student who is learning to code                                           12029\n",
      "I am not primarily a developer, but I write code sometimes as part of my work     6578\n",
      "I code primarily as a hobby                                                       4929\n",
      "I used to be a developer by profession, but no longer am                          1237\n",
      "None of these                                                                      513\n",
      "Name: MainBranch, dtype: int64\n",
      "\n",
      "0 null values were found\n"
     ]
    }
   ],
   "source": [
    "print(\"#### MAIN BRACHES ####\")\n",
    "print(df['MainBranch'].value_counts())\n",
    "print(\"\\n{} null values were found\".format(df['MainBranch'].isnull().sum()))"
   ]
  },
  {
   "cell_type": "code",
   "execution_count": 8,
   "id": "fdee7268",
   "metadata": {},
   "outputs": [
    {
     "name": "stdout",
     "output_type": "stream",
     "text": [
      "#### EMPLOYMENT TYPES ####\n",
      "Employed full-time                                      53584\n",
      "Student, full-time                                      11781\n",
      "Independent contractor, freelancer, or self-employed     8041\n",
      "Not employed, but looking for work                       2961\n",
      "Employed part-time                                       2461\n",
      "Student, part-time                                       2051\n",
      "Not employed, and not looking for work                   1228\n",
      "I prefer not to say                                       890\n",
      "Retired                                                   326\n",
      "Name: Employment, dtype: int64\n",
      "\n",
      "There are 116 null values in Employment\n"
     ]
    }
   ],
   "source": [
    "print(\"#### EMPLOYMENT TYPES ####\")\n",
    "print(df['Employment'].value_counts())\n",
    "print(\"\\nThere are {} null values in Employment\".format(df['Employment'].isnull().sum()))"
   ]
  },
  {
   "cell_type": "code",
   "execution_count": 9,
   "id": "575a7349",
   "metadata": {},
   "outputs": [
    {
     "name": "stdout",
     "output_type": "stream",
     "text": [
      "#### TOP 20 COUNTRIES ####\n",
      "United States of America                                15288\n",
      "India                                                   10511\n",
      "Germany                                                  5625\n",
      "United Kingdom of Great Britain and Northern Ireland     4475\n",
      "Canada                                                   3012\n",
      "France                                                   2708\n",
      "Brazil                                                   2254\n",
      "Poland                                                   1805\n",
      "Netherlands                                              1772\n",
      "Italy                                                    1666\n",
      "Australia                                                1646\n",
      "Spain                                                    1485\n",
      "Russian Federation                                       1474\n",
      "Sweden                                                   1196\n",
      "China                                                    1055\n",
      "Turkey                                                   1054\n",
      "Switzerland                                               922\n",
      "Israel                                                    913\n",
      "Iran, Islamic Republic of...                              900\n",
      "Pakistan                                                  838\n",
      "Name: Country, dtype: int64\n",
      "\n",
      "181 different countries exist\n"
     ]
    }
   ],
   "source": [
    "print(\"#### TOP 20 COUNTRIES ####\")\n",
    "print(df['Country'].value_counts()[:20])\n",
    "print(\"\\n{} different countries exist\".format(df['Country'].nunique()))"
   ]
  },
  {
   "cell_type": "code",
   "execution_count": 10,
   "id": "faaec42c",
   "metadata": {},
   "outputs": [
    {
     "name": "stdout",
     "output_type": "stream",
     "text": [
      "#### 20 MOST FREQUENT US STATES ####\n",
      "California        2163\n",
      "Texas             1023\n",
      "New York           961\n",
      "Washington         932\n",
      "Massachusetts      624\n",
      "Florida            613\n",
      "Illinois           587\n",
      "Colorado           549\n",
      "Pennsylvania       499\n",
      "Virginia           453\n",
      "Ohio               448\n",
      "Utah               415\n",
      "North Carolina     403\n",
      "Michigan           381\n",
      "Oregon             375\n",
      "Minnesota          359\n",
      "Georgia            356\n",
      "Maryland           350\n",
      "New Jersey         347\n",
      "Wisconsin          266\n",
      "Name: US_State, dtype: int64\n",
      "\n",
      "55 different US states exist here\n",
      "68519 out of 83439 rows contain null US State values!\n"
     ]
    }
   ],
   "source": [
    "print(\"#### 20 MOST FREQUENT US STATES ####\")\n",
    "print(df['US_State'].value_counts()[:20])\n",
    "print(\"\\n{} different US states exist here\".format(df['US_State'].nunique()))\n",
    "print(\"{} out of {} rows contain null US State values!\".format(df['US_State'].isnull().sum(), len(df)))"
   ]
  },
  {
   "cell_type": "code",
   "execution_count": 11,
   "id": "5860f3e9",
   "metadata": {},
   "outputs": [
    {
     "name": "stdout",
     "output_type": "stream",
     "text": [
      "#### COUNTRIES FROM UNITED KINGDOM ####\n",
      "England             3915\n",
      "Scotland             341\n",
      "Wales                 86\n",
      "Northern Ireland      76\n",
      "Name: UK_Country, dtype: int64\n",
      ">>> Total: 4418\n"
     ]
    }
   ],
   "source": [
    "print(\"#### COUNTRIES FROM UNITED KINGDOM ####\")\n",
    "print(df['UK_Country'].value_counts())\n",
    "print(\">>> Total:\", df['UK_Country'].value_counts().sum())"
   ]
  },
  {
   "cell_type": "code",
   "execution_count": 12,
   "id": "7c7b22f6",
   "metadata": {},
   "outputs": [
    {
     "name": "stdout",
     "output_type": "stream",
     "text": [
      "#### EDUCATION LEVELS ####\n",
      "Bachelor’s degree (B.A., B.S., B.Eng., etc.)                                          35357\n",
      "Master’s degree (M.A., M.S., M.Eng., MBA, etc.)                                       17512\n",
      "Some college/university study without earning a degree                                10589\n",
      "Secondary school (e.g. American high school, German Realschule or Gymnasium, etc.)     9534\n",
      "Other doctoral degree (Ph.D., Ed.D., etc.)                                             2567\n",
      "Primary/elementary school                                                              2479\n",
      "Associate degree (A.A., A.S., etc.)                                                    2231\n",
      "Something else                                                                         1601\n",
      "Professional degree (JD, MD, etc.)                                                     1256\n",
      "Name: EdLevel, dtype: int64\n",
      "\n",
      "313 out of 83439 rows contain null Education Level values\n"
     ]
    }
   ],
   "source": [
    "print(\"#### EDUCATION LEVELS ####\")\n",
    "print(df['EdLevel'].value_counts())\n",
    "print(\"\\n{} out of {} rows contain null Education Level values\".format(df['EdLevel'].isnull().sum(), len(df)))"
   ]
  },
  {
   "cell_type": "code",
   "execution_count": 13,
   "id": "a6b5b5ea",
   "metadata": {},
   "outputs": [
    {
     "name": "stdout",
     "output_type": "stream",
     "text": [
      "#### THE AGES WHEN PEOPLE WROTE THEIR FIRST CODE ####\n",
      "11 - 17 years           44170\n",
      "18 - 24 years           20065\n",
      "5 - 10 years            11720\n",
      "25 - 34 years            4199\n",
      "35 - 44 years            1312\n",
      "Younger than 5 years      905\n",
      "45 - 54 years             544\n",
      "55 - 64 years             245\n",
      "Older than 64 years        83\n",
      "Name: Age1stCode, dtype: int64\n",
      "\n",
      "196 out of 83439 rows contain null values\n"
     ]
    }
   ],
   "source": [
    "print(\"#### THE AGES WHEN PEOPLE WROTE THEIR FIRST CODE ####\")\n",
    "print(df['Age1stCode'].value_counts())\n",
    "print(\"\\n{} out of {} rows contain null values\".format(df['Age1stCode'].isnull().sum(), len(df)))"
   ]
  },
  {
   "cell_type": "code",
   "execution_count": 14,
   "id": "f1478233",
   "metadata": {},
   "outputs": [
    {
     "name": "stdout",
     "output_type": "stream",
     "text": [
      "#### 10 MOST COMMON WAY HOW PEOPLE STARTED TO LEARN CODING ####\n",
      "School                                                                                                                        7242\n",
      "Other online resources (ex: videos, blogs, etc)                                                                               3502\n",
      "Books / Physical media                                                                                                        3357\n",
      "School;Books / Physical media                                                                                                 3136\n",
      "Other online resources (ex: videos, blogs, etc);School;Books / Physical media                                                 2441\n",
      "Other online resources (ex: videos, blogs, etc);School                                                                        2292\n",
      "Other online resources (ex: videos, blogs, etc);School;Online Courses or Certification;Books / Physical media                 2238\n",
      "Other online resources (ex: videos, blogs, etc);School;Online Forum;Online Courses or Certification;Books / Physical media    1829\n",
      "Other online resources (ex: videos, blogs, etc);Books / Physical media                                                        1772\n",
      "Other (please specify):                                                                                                       1699\n",
      "Name: LearnCode, dtype: int64\n",
      "\n",
      "There are 458 different ways people started to learn coding...\n",
      "476 out of 83439 rows contain null values\n"
     ]
    }
   ],
   "source": [
    "print(\"#### 10 MOST COMMON WAY HOW PEOPLE STARTED TO LEARN CODING ####\")\n",
    "print(df['LearnCode'].value_counts()[:10])\n",
    "print(\"\\nThere are {} different ways people started to learn coding...\".format(df['LearnCode'].nunique()))\n",
    "print(\"{} out of {} rows contain null values\".format(df['LearnCode'].isnull().sum(), len(df)))"
   ]
  },
  {
   "cell_type": "code",
   "execution_count": 15,
   "id": "f351ffe7",
   "metadata": {},
   "outputs": [
    {
     "name": "stdout",
     "output_type": "stream",
     "text": [
      "#### EXPERIENCE YEARS OF CODING (TOP 10) ####\n",
      "5     6190\n",
      "10    6067\n",
      "6     5565\n",
      "4     5049\n",
      "7     4940\n",
      "8     4714\n",
      "3     4449\n",
      "15    3625\n",
      "20    3419\n",
      "2     3342\n",
      "Name: YearsCode, dtype: int64\n",
      "\n",
      "1798 out of 83439 rows have no years of experience of coding\n"
     ]
    }
   ],
   "source": [
    "print(\"#### EXPERIENCE YEARS OF CODING (TOP 10) ####\")\n",
    "print(df['YearsCode'].value_counts()[:10])\n",
    "print(\"\\n{} out of {} rows have no years of experience of coding\".format(df['YearsCode'].isnull().sum(), len(df)))"
   ]
  },
  {
   "cell_type": "code",
   "execution_count": 16,
   "id": "aa92c5fe",
   "metadata": {},
   "outputs": [
    {
     "name": "stdout",
     "output_type": "stream",
     "text": [
      "#### EXPERIENCE YEARS OF CODING AS PROFESSIONAL (TOP 10) ####\n",
      "3                   5812\n",
      "2                   5472\n",
      "5                   5095\n",
      "4                   4803\n",
      "6                   3804\n",
      "10                  3780\n",
      "7                   3159\n",
      "1                   3047\n",
      "8                   2844\n",
      "Less than 1 year    2699\n",
      "Name: YearsCodePro, dtype: int64\n",
      "\n",
      "22223 out of 83439 rows have no years of experience of coding\n"
     ]
    }
   ],
   "source": [
    "print(\"#### EXPERIENCE YEARS OF CODING AS PROFESSIONAL (TOP 10) ####\")\n",
    "print(df['YearsCodePro'].value_counts()[:10])\n",
    "print(\"\\n{} out of {} rows have no years of experience of coding\".format(df['YearsCodePro'].isnull().sum(), len(df)))"
   ]
  },
  {
   "cell_type": "code",
   "execution_count": 17,
   "id": "deb62a4b",
   "metadata": {},
   "outputs": [
    {
     "name": "stdout",
     "output_type": "stream",
     "text": [
      "#### DEVELOPER TYPES (20 RANDOM SAMPLES) ####\n",
      "67163                                                  NaN\n",
      "75695    Developer, mobile;Developer, front-end;Develop...\n",
      "77305                                                  NaN\n",
      "19059              Developer, full-stack;DevOps specialist\n",
      "26662        Data scientist or machine learning specialist\n",
      "5315         Data scientist or machine learning specialist\n",
      "48699                        Developer, front-end;Designer\n",
      "22152    Developer, mobile;Developer, full-stack;Engine...\n",
      "68824                                                  NaN\n",
      "15825    Developer, QA or test;Data or business analyst...\n",
      "73049                                  Engineering manager\n",
      "14056    Developer, front-end;Developer, desktop or ent...\n",
      "19357    Developer, front-end;Developer, full-stack;Dev...\n",
      "34877                                                  NaN\n",
      "79144    Engineer, data;Developer, back-end;Database ad...\n",
      "73242                                    Developer, mobile\n",
      "2181               Developer, full-stack;DevOps specialist\n",
      "40227                                    DevOps specialist\n",
      "4765     Developer, back-end;DevOps specialist;Data or ...\n",
      "64369                                                  NaN\n",
      "Name: DevType, dtype: object\n",
      "\n",
      "16955 out of 83439 rows contain null values\n"
     ]
    }
   ],
   "source": [
    "print(\"#### DEVELOPER TYPES (20 RANDOM SAMPLES) ####\")\n",
    "print(df['DevType'].sample(20))\n",
    "print(\"\\n{} out of {} rows contain null values\".format(df['DevType'].isnull().sum(), len(df)))"
   ]
  },
  {
   "cell_type": "code",
   "execution_count": 18,
   "id": "2cc81f4a",
   "metadata": {},
   "outputs": [
    {
     "name": "stdout",
     "output_type": "stream",
     "text": [
      "#### ALL ORGANIZATION SIZES ####\n",
      "20 to 99 employees                                    12507\n",
      "100 to 499 employees                                  10506\n",
      "10,000 or more employees                               8016\n",
      "2 to 9 employees                                       6551\n",
      "1,000 to 4,999 employees                               6287\n",
      "10 to 19 employees                                     5404\n",
      "Just me - I am a freelancer, sole proprietor, etc.     4033\n",
      "500 to 999 employees                                   3789\n",
      "5,000 to 9,999 employees                               2279\n",
      "I don’t know                                           1354\n",
      "Name: OrgSize, dtype: int64\n",
      "\n",
      "22713 out of 83439 rows do not have any organization sizes specified.\n"
     ]
    }
   ],
   "source": [
    "print(\"#### ALL ORGANIZATION SIZES ####\")\n",
    "print(df['OrgSize'].value_counts())\n",
    "print(\"\\n{} out of {} rows do not have any organization sizes specified.\".format(df['OrgSize'].isnull().sum(), len(df)))"
   ]
  },
  {
   "cell_type": "code",
   "execution_count": 19,
   "id": "f505762c",
   "metadata": {},
   "outputs": [
    {
     "name": "stdout",
     "output_type": "stream",
     "text": [
      "#### 20 MOST FREQUENT CURRENCIES ####\n",
      "USD\\tUnited States dollar     14363\n",
      "EUR European Euro             13932\n",
      "INR\\tIndian rupee              6427\n",
      "GBP\\tPound sterling            3547\n",
      "CAD\\tCanadian dollar           2108\n",
      "BRL\\tBrazilian real            1755\n",
      "AUD\\tAustralian dollar         1272\n",
      "PLN\\tPolish zloty              1268\n",
      "RUB\\tRussian ruble             1062\n",
      "SEK\\tSwedish krona              942\n",
      "CHF\\tSwiss franc                710\n",
      "ILS\\tIsraeli new shekel         652\n",
      "TRY\\tTurkish lira               635\n",
      "IRR\\tIranian rial               588\n",
      "CNY\\tChinese Yuan Renminbi      568\n",
      "CZK\\tCzech koruna               549\n",
      "MXN\\tMexican peso               503\n",
      "PKR\\tPakistani rupee            486\n",
      "NOK\\tNorwegian krone            478\n",
      "DKK\\tDanish krone               474\n",
      "Name: Currency, dtype: int64\n",
      "\n",
      "22359 out of 83439 rows contain null values\n"
     ]
    }
   ],
   "source": [
    "print(\"#### 20 MOST FREQUENT CURRENCIES ####\")\n",
    "print(df['Currency'].value_counts()[:20])\n",
    "print(\"\\n{} out of {} rows contain null values\".format(df['Currency'].isnull().sum(), len(df)))"
   ]
  },
  {
   "cell_type": "code",
   "execution_count": 20,
   "id": "99fad2f7",
   "metadata": {},
   "outputs": [
    {
     "name": "stdout",
     "output_type": "stream",
     "text": [
      "#### 20 HIGHEST COMPTOTAL VALUES ####\n",
      "6378     1.000000e+74\n",
      "18919    8.000000e+52\n",
      "62417    7.000000e+39\n",
      "103      1.000000e+29\n",
      "23552    1.000000e+25\n",
      "45850    6.675636e+15\n",
      "69035    4.162026e+15\n",
      "39571    5.474577e+10\n",
      "82156    3.500000e+10\n",
      "37018    1.000000e+10\n",
      "78554    9.000000e+09\n",
      "1216     6.000000e+09\n",
      "47547    6.000000e+09\n",
      "66910    5.123468e+09\n",
      "22568    2.000000e+09\n",
      "35770    2.000000e+09\n",
      "20897    1.654000e+09\n",
      "44662    1.500000e+09\n",
      "10817    1.430000e+09\n",
      "60971    1.408500e+09\n",
      "Name: CompTotal, dtype: float64\n",
      "\n",
      "36256 out of 83439 rows contain null values.\n",
      "167 out of 83439 rows are equal to 0\n"
     ]
    }
   ],
   "source": [
    "print(\"#### 20 HIGHEST COMPTOTAL VALUES ####\")\n",
    "print(df['CompTotal'].sort_values(ascending=False)[:20])\n",
    "print(\"\\n{} out of {} rows contain null values.\".format(df['CompTotal'].isnull().sum(), len(df)))\n",
    "print(\"{} out of {} rows are equal to 0\".format(len(df[df['CompTotal'] == 0]), len(df)))"
   ]
  },
  {
   "cell_type": "code",
   "execution_count": 21,
   "id": "d093b46f",
   "metadata": {},
   "outputs": [
    {
     "name": "stdout",
     "output_type": "stream",
     "text": [
      "#### COMPFREQ COUNTS ####\n",
      "Yearly     25767\n",
      "Monthly    24744\n",
      "Weekly      1639\n",
      "Name: CompFreq, dtype: int64\n",
      "\n",
      "31289 out of 83439 rows contain null values\n"
     ]
    }
   ],
   "source": [
    "print(\"#### COMPFREQ COUNTS ####\")\n",
    "print(df['CompFreq'].value_counts())\n",
    "print(\"\\n{} out of {} rows contain null values\".format(df['CompFreq'].isnull().sum(), len(df)))"
   ]
  },
  {
   "cell_type": "code",
   "execution_count": 22,
   "id": "d6c3ddb6",
   "metadata": {},
   "outputs": [
    {
     "name": "stdout",
     "output_type": "stream",
     "text": [
      "#### LANGUAGES PEOPLE HAVE WORKED WITH (20 RANDOM SAMPLES) ####\n",
      "8264     Bash/Shell;Go;HTML/CSS;Java;JavaScript;Python;...\n",
      "36562    Dart;HTML/CSS;Java;JavaScript;Node.js;Python;R...\n",
      "40675                                    Dart;Java;Node.js\n",
      "30938                           C#;HTML/CSS;JavaScript;SQL\n",
      "44277                                Assembly;C;Matlab;VBA\n",
      "35792           Bash/Shell;Elixir;Perl;PHP;Python;Ruby;SQL\n",
      "81503                                             Java;SQL\n",
      "56394                                    Objective-C;Swift\n",
      "66270    Bash/Shell;C;C#;Dart;Java;JavaScript;Node.js;P...\n",
      "16904                    C;C++;Java;Kotlin;Rust;TypeScript\n",
      "67774                                           Clojure;Go\n",
      "73330       HTML/CSS;JavaScript;Node.js;PHP;SQL;TypeScript\n",
      "23114                      C;C++;JavaScript;PHP;Python;SQL\n",
      "41934                       HTML/CSS;JavaScript;TypeScript\n",
      "68864                   HTML/CSS;JavaScript;PHP;Python;SQL\n",
      "41467                Bash/Shell;HTML/CSS;Java;Python;R;SQL\n",
      "65815    Bash/Shell;HTML/CSS;Java;JavaScript;Node.js;PH...\n",
      "58045                C;C#;C++;JavaScript;Python;TypeScript\n",
      "26457                        C;C#;C++;HTML/CSS;Java;Python\n",
      "3851     Bash/Shell;C;HTML/CSS;JavaScript;Perl;PHP;Pyth...\n",
      "Name: LanguageHaveWorkedWith, dtype: object\n",
      "\n",
      "1082 out of 83439 rows contain null values\n"
     ]
    }
   ],
   "source": [
    "print(\"#### LANGUAGES PEOPLE HAVE WORKED WITH (20 RANDOM SAMPLES) ####\")\n",
    "print(df['LanguageHaveWorkedWith'].sample(20))\n",
    "print(\"\\n{} out of {} rows contain null values\".format(df['LanguageHaveWorkedWith'].isnull().sum(), len(df)))"
   ]
  },
  {
   "cell_type": "code",
   "execution_count": 23,
   "id": "c623ffd5",
   "metadata": {},
   "outputs": [
    {
     "name": "stdout",
     "output_type": "stream",
     "text": [
      "#### LANGUAGES PEOPLE WANT TO WORK WITH (20 RANDOM SAMPLES) ####\n",
      "67130                                                  NaN\n",
      "17908         C;Go;HTML/CSS;JavaScript;Node.js;Python;Rust\n",
      "3165     C#;HTML/CSS;Java;JavaScript;Node.js;Python;Typ...\n",
      "10324                                                   Go\n",
      "35158         Go;HTML/CSS;JavaScript;PowerShell;TypeScript\n",
      "21405                                                  NaN\n",
      "34456                                               Erlang\n",
      "67127                                           Python;SQL\n",
      "4075     C#;Dart;Delphi;Go;HTML/CSS;Java;JavaScript;Nod...\n",
      "37539                                                Swift\n",
      "42122                            Assembly;C;C++;JavaScript\n",
      "12943                                                 Dart\n",
      "32082                             C#;JavaScript;TypeScript\n",
      "78238                                           Bash/Shell\n",
      "65912                                         C++;Python;R\n",
      "28530        Java;JavaScript;Node.js;Python;SQL;TypeScript\n",
      "21109     C#;HTML/CSS;JavaScript;PowerShell;SQL;TypeScript\n",
      "75788                              HTML/CSS;JavaScript;PHP\n",
      "70724    C++;Dart;Elixir;Erlang;Go;Haskell;HTML/CSS;Jav...\n",
      "36948                                           Python;SQL\n",
      "Name: LanguageWantToWorkWith, dtype: object\n",
      "\n",
      "6618 out of 83439 rows contain null values\n"
     ]
    }
   ],
   "source": [
    "print(\"#### LANGUAGES PEOPLE WANT TO WORK WITH (20 RANDOM SAMPLES) ####\")\n",
    "print(df['LanguageWantToWorkWith'].sample(20))\n",
    "print(\"\\n{} out of {} rows contain null values\".format(df['LanguageWantToWorkWith'].isnull().sum(), len(df)))"
   ]
  },
  {
   "cell_type": "code",
   "execution_count": 24,
   "id": "69e9bf9a",
   "metadata": {},
   "outputs": [
    {
     "name": "stdout",
     "output_type": "stream",
     "text": [
      "#### DATABASES PEOPLE HAVE WORKED WITH (20 RANDOM SAMPLES) ####\n",
      "82793                                         MySQL;Oracle\n",
      "25808                                   MongoDB;PostgreSQL\n",
      "14606                                   MongoDB;PostgreSQL\n",
      "15614                                                  NaN\n",
      "16357                                                  NaN\n",
      "41453                                         MySQL;SQLite\n",
      "73173                                               SQLite\n",
      "15539    MariaDB;Microsoft SQL Server;MongoDB;MySQL;Pos...\n",
      "15555                                 MariaDB;MySQL;SQLite\n",
      "51788          DynamoDB;Microsoft SQL Server;MongoDB;MySQL\n",
      "22334                  Firebase;Microsoft SQL Server;MySQL\n",
      "38305                                                  NaN\n",
      "77064    DynamoDB;Firebase;IBM DB2;Microsoft SQL Server...\n",
      "41812                                           PostgreSQL\n",
      "40530                                              MongoDB\n",
      "2139                                          MySQL;SQLite\n",
      "55527                             MariaDB;MySQL;PostgreSQL\n",
      "9871                                                   NaN\n",
      "21141                                               SQLite\n",
      "80695                                 MariaDB;MySQL;SQLite\n",
      "Name: DatabaseHaveWorkedWith, dtype: object\n",
      "\n",
      "13893 out of 83439 rows contain null values\n"
     ]
    }
   ],
   "source": [
    "print(\"#### DATABASES PEOPLE HAVE WORKED WITH (20 RANDOM SAMPLES) ####\")\n",
    "print(df['DatabaseHaveWorkedWith'].sample(20))\n",
    "print(\"\\n{} out of {} rows contain null values\".format(df['DatabaseHaveWorkedWith'].isnull().sum(), len(df)))"
   ]
  },
  {
   "cell_type": "code",
   "execution_count": 25,
   "id": "65d89234",
   "metadata": {},
   "outputs": [
    {
     "name": "stdout",
     "output_type": "stream",
     "text": [
      "#### DATABASES PEOPLE WANT TO WORK WITH (20 RANDOM SAMPLES) ####\n",
      "48279                                                  NaN\n",
      "65505    Cassandra;Couchbase;DynamoDB;MariaDB;MongoDB;R...\n",
      "23580                                                  NaN\n",
      "73363                                     Firebase;MongoDB\n",
      "83153                                                  NaN\n",
      "82807                                                  NaN\n",
      "40195                                              IBM DB2\n",
      "43003                                           PostgreSQL\n",
      "80746                          Firebase;MongoDB;PostgreSQL\n",
      "22325               Elasticsearch;MongoDB;PostgreSQL;Redis\n",
      "42495                    DynamoDB;Elasticsearch;PostgreSQL\n",
      "43422                                                  NaN\n",
      "27344                        Firebase;Microsoft SQL Server\n",
      "21489                                        MongoDB;Redis\n",
      "27635                                                  NaN\n",
      "36281                   MariaDB;Microsoft SQL Server;MySQL\n",
      "25549                                                  NaN\n",
      "38167                                           PostgreSQL\n",
      "76873                                                  NaN\n",
      "33293                                                MySQL\n",
      "Name: DatabaseWantToWorkWith, dtype: object\n",
      "\n",
      "25140 out of 83439 rows contain null values\n"
     ]
    }
   ],
   "source": [
    "print(\"#### DATABASES PEOPLE WANT TO WORK WITH (20 RANDOM SAMPLES) ####\")\n",
    "print(df['DatabaseWantToWorkWith'].sample(20))\n",
    "print(\"\\n{} out of {} rows contain null values\".format(df['DatabaseWantToWorkWith'].isnull().sum(), len(df)))"
   ]
  },
  {
   "cell_type": "code",
   "execution_count": 26,
   "id": "eea88e14",
   "metadata": {},
   "outputs": [
    {
     "name": "stdout",
     "output_type": "stream",
     "text": [
      "#### PLATFORMS PEOPLE HAVE WORKED WITH (20 RANDOM SAMPLES) ####\n",
      "69310                              Microsoft Azure\n",
      "30806                        Google Cloud Platform\n",
      "78050                                          NaN\n",
      "45575                              Microsoft Azure\n",
      "47602                                       Heroku\n",
      "26060                                 DigitalOcean\n",
      "74775                             AWS;DigitalOcean\n",
      "13340                                          NaN\n",
      "25813                                          NaN\n",
      "23041                                          AWS\n",
      "70554                                          NaN\n",
      "40221                                       Heroku\n",
      "53733                                          NaN\n",
      "68990                                          NaN\n",
      "38839                                          NaN\n",
      "40367                                          NaN\n",
      "43333                                          NaN\n",
      "47437    AWS;Google Cloud Platform;Microsoft Azure\n",
      "54536                                          NaN\n",
      "13405                              Microsoft Azure\n",
      "Name: PlatformHaveWorkedWith, dtype: object\n",
      "\n",
      "31304 out of 83439 rows contain null values\n"
     ]
    }
   ],
   "source": [
    "print(\"#### PLATFORMS PEOPLE HAVE WORKED WITH (20 RANDOM SAMPLES) ####\")\n",
    "print(df['PlatformHaveWorkedWith'].sample(20))\n",
    "print(\"\\n{} out of {} rows contain null values\".format(df['PlatformHaveWorkedWith'].isnull().sum(), len(df)))"
   ]
  },
  {
   "cell_type": "code",
   "execution_count": 27,
   "id": "5a0d6c8a",
   "metadata": {},
   "outputs": [
    {
     "name": "stdout",
     "output_type": "stream",
     "text": [
      "#### PLATFORMS PEOPLE WANT TO WORK WITH (20 RANDOM SAMPLES) ####\n",
      "48262                                               Heroku\n",
      "70617                                                  AWS\n",
      "76695                Google Cloud Platform;Microsoft Azure\n",
      "11436                                                  NaN\n",
      "22323    AWS;Google Cloud Platform;Heroku;IBM Cloud or ...\n",
      "160                                                    NaN\n",
      "9347                          Google Cloud Platform;Heroku\n",
      "38766    AWS;DigitalOcean;Google Cloud Platform;IBM Clo...\n",
      "67767                                                  NaN\n",
      "40367                                                  NaN\n",
      "27291                         Google Cloud Platform;Heroku\n",
      "69379                                                  AWS\n",
      "56177                                                  NaN\n",
      "51815                                  AWS;Microsoft Azure\n",
      "60363                                                  AWS\n",
      "16172                                                  NaN\n",
      "65601                                                  NaN\n",
      "64621                                                  NaN\n",
      "65405                                                  NaN\n",
      "76334                                                  AWS\n",
      "Name: PlatformWantToWorkWith, dtype: object\n",
      "\n",
      "41820 out of 83439 rows contain null values\n"
     ]
    }
   ],
   "source": [
    "print(\"#### PLATFORMS PEOPLE WANT TO WORK WITH (20 RANDOM SAMPLES) ####\")\n",
    "print(df['PlatformWantToWorkWith'].sample(20))\n",
    "print(\"\\n{} out of {} rows contain null values\".format(df['PlatformWantToWorkWith'].isnull().sum(), len(df)))"
   ]
  },
  {
   "cell_type": "code",
   "execution_count": 28,
   "id": "0b9f4886",
   "metadata": {},
   "outputs": [
    {
     "name": "stdout",
     "output_type": "stream",
     "text": [
      "#### WEB FRAMES PEOPLE HAVE WORKED WITH (20 RANDOM SAMPLES) ####\n",
      "27199                                        Angular.js\n",
      "71601                      Angular;ASP.NET Core ;Spring\n",
      "20873    Angular;Express;jQuery;Laravel;React.js;Vue.js\n",
      "75530             ASP.NET;ASP.NET Core ;jQuery;React.js\n",
      "47027                                             Flask\n",
      "13567                   Express;jQuery;Laravel;React.js\n",
      "61535                                           Angular\n",
      "65899                                            Vue.js\n",
      "8820                              Express;jQuery;Vue.js\n",
      "27449                                    Angular;Spring\n",
      "20507                                               NaN\n",
      "78113           Angular;Angular.js;Django;jQuery;Spring\n",
      "27913                      ASP.NET;ASP.NET Core ;jQuery\n",
      "42801                                               NaN\n",
      "51955                                           Angular\n",
      "61019                             ASP.NET;ASP.NET Core \n",
      "71883                            FastAPI;Flask;React.js\n",
      "29109         Angular;Angular.js;jQuery;React.js;Spring\n",
      "22133                                          React.js\n",
      "47392     ASP.NET;ASP.NET Core ;Express;jQuery;React.js\n",
      "Name: WebframeHaveWorkedWith, dtype: object\n",
      "\n",
      "21732 out of 83439 rows contain null values\n"
     ]
    }
   ],
   "source": [
    "print(\"#### WEB FRAMES PEOPLE HAVE WORKED WITH (20 RANDOM SAMPLES) ####\")\n",
    "print(df['WebframeHaveWorkedWith'].sample(20))\n",
    "print(\"\\n{} out of {} rows contain null values\".format(df['WebframeHaveWorkedWith'].isnull().sum(), len(df)))"
   ]
  },
  {
   "cell_type": "code",
   "execution_count": 29,
   "id": "a4a7ce19",
   "metadata": {},
   "outputs": [
    {
     "name": "stdout",
     "output_type": "stream",
     "text": [
      "#### WEB FRAMES PEOPLE WANT TO WORK WITH (20 RANDOM SAMPLES) ####\n",
      "70181    Angular.js;ASP.NET;ASP.NET Core ;jQuery;React.js\n",
      "81518                                            React.js\n",
      "63024               Django;Express;FastAPI;Flask;React.js\n",
      "74157                                                 NaN\n",
      "28994                               Angular;Ruby on Rails\n",
      "27440                                       ASP.NET Core \n",
      "29134                                                 NaN\n",
      "68310               Angular;jQuery;React.js;Svelte;Vue.js\n",
      "15349                             Angular;React.js;Spring\n",
      "16559                                    Express;React.js\n",
      "76740                                                 NaN\n",
      "74494                                                 NaN\n",
      "66552                                                 NaN\n",
      "68266                                                 NaN\n",
      "33531                                                 NaN\n",
      "65542                                                 NaN\n",
      "71042                                                 NaN\n",
      "48881               Angular;ASP.NET Core ;React.js;Vue.js\n",
      "25767                                              Vue.js\n",
      "52171                      ASP.NET Core ;Express;React.js\n",
      "Name: WebframeWantToWorkWith, dtype: object\n",
      "\n",
      "31344 out of 83439 rows contain null values\n"
     ]
    }
   ],
   "source": [
    "print(\"#### WEB FRAMES PEOPLE WANT TO WORK WITH (20 RANDOM SAMPLES) ####\")\n",
    "print(df['WebframeWantToWorkWith'].sample(20))\n",
    "print(\"\\n{} out of {} rows contain null values\".format(df['WebframeWantToWorkWith'].isnull().sum(), len(df)))"
   ]
  },
  {
   "cell_type": "code",
   "execution_count": 30,
   "id": "4fbcaed6",
   "metadata": {},
   "outputs": [
    {
     "name": "stdout",
     "output_type": "stream",
     "text": [
      "#### MISCELLANEOUS TECHNOLOGIES PEOPLE HAVE WORKED WITH (20 RANDOM SAMPLES) ####\n",
      "13903                                        NaN\n",
      "75083                               React Native\n",
      "39018                                        NaN\n",
      "75330                                        NaN\n",
      "39690          .NET Framework;.NET Core / .NET 5\n",
      "13572                                        NaN\n",
      "37832                                        NaN\n",
      "13400                                        NaN\n",
      "9277                         Hadoop;NumPy;Pandas\n",
      "12005    Hadoop;Keras;NumPy;Pandas;Qt;TensorFlow\n",
      "15720                       .NET Framework;NumPy\n",
      "37583                                        NaN\n",
      "24584                                        NaN\n",
      "51287                        Pandas;React Native\n",
      "44934                       Flutter;React Native\n",
      "32599                                        NaN\n",
      "54379                                        NaN\n",
      "13439                                         Qt\n",
      "66282                            Qt;React Native\n",
      "12889                               NumPy;Pandas\n",
      "Name: MiscTechHaveWorkedWith, dtype: object\n",
      "\n",
      "36384 out of 83439 rows contain null values\n"
     ]
    }
   ],
   "source": [
    "print(\"#### MISCELLANEOUS TECHNOLOGIES PEOPLE HAVE WORKED WITH (20 RANDOM SAMPLES) ####\")\n",
    "print(df['MiscTechHaveWorkedWith'].sample(20))\n",
    "print(\"\\n{} out of {} rows contain null values\".format(df['MiscTechHaveWorkedWith'].isnull().sum(), len(df)))"
   ]
  },
  {
   "cell_type": "code",
   "execution_count": 31,
   "id": "5ad4c925",
   "metadata": {},
   "outputs": [
    {
     "name": "stdout",
     "output_type": "stream",
     "text": [
      "#### MISCELLANEOUS TECHNOLOGIES PEOPLE WANT TO WORK WITH (20 RANDOM SAMPLES) ####\n",
      "78793                                                  NaN\n",
      "14548                                                  NaN\n",
      "73203    .NET Framework;.NET Core / .NET 5;Hadoop;NumPy...\n",
      "22376                                  Apache Spark;Pandas\n",
      "20146                                                  NaN\n",
      "19509                                       .NET Framework\n",
      "49091                                   .NET Core / .NET 5\n",
      "56099    .NET Framework;Keras;NumPy;Pandas;TensorFlow;T...\n",
      "53700                                                  NaN\n",
      "63433                                         NumPy;Pandas\n",
      "48843                                                  NaN\n",
      "75629                                                  NaN\n",
      "22225                                                  NaN\n",
      "15411            .NET Framework;.NET Core / .NET 5;Flutter\n",
      "22234                                                  NaN\n",
      "67092                                                  NaN\n",
      "23280                    .NET Framework;.NET Core / .NET 5\n",
      "70281        Flutter;React Native;TensorFlow;Torch/PyTorch\n",
      "33285                                  NumPy;Torch/PyTorch\n",
      "52748                                                  NaN\n",
      "Name: MiscTechWantToWorkWith, dtype: object\n",
      "\n",
      "45418 out of 83439 rows contain null values\n"
     ]
    }
   ],
   "source": [
    "print(\"#### MISCELLANEOUS TECHNOLOGIES PEOPLE WANT TO WORK WITH (20 RANDOM SAMPLES) ####\")\n",
    "print(df['MiscTechWantToWorkWith'].sample(20))\n",
    "print(\"\\n{} out of {} rows contain null values\".format(df['MiscTechWantToWorkWith'].isnull().sum(), len(df)))"
   ]
  },
  {
   "cell_type": "code",
   "execution_count": 32,
   "id": "f711f376",
   "metadata": {},
   "outputs": [
    {
     "name": "stdout",
     "output_type": "stream",
     "text": [
      "#### TECHNOLOGY TOOLS PEOPLE HAVE WORKED WITH (20 RANDOM SAMPLES) ####\n",
      "40826                   NaN\n",
      "73525                   NaN\n",
      "37087                   Git\n",
      "7269           Git;Unity 3D\n",
      "58627       Docker;Git;Yarn\n",
      "62142            Docker;Git\n",
      "21197     Git;Unity 3D;Yarn\n",
      "15697                   NaN\n",
      "22381                   Git\n",
      "38188                   Git\n",
      "42436                   Git\n",
      "28615            Docker;Git\n",
      "78061       Docker;Git;Yarn\n",
      "1088                 Docker\n",
      "4185                   Deno\n",
      "72912                   Git\n",
      "77531            Docker;Git\n",
      "67970                   Git\n",
      "44980            Docker;Git\n",
      "23864    Ansible;Docker;Git\n",
      "Name: ToolsTechHaveWorkedWith, dtype: object\n",
      "\n",
      "10902 out of 83439 rows contain null values\n"
     ]
    }
   ],
   "source": [
    "print(\"#### TECHNOLOGY TOOLS PEOPLE HAVE WORKED WITH (20 RANDOM SAMPLES) ####\")\n",
    "print(df['ToolsTechHaveWorkedWith'].sample(20))\n",
    "print(\"\\n{} out of {} rows contain null values\".format(df['ToolsTechHaveWorkedWith'].isnull().sum(), len(df)))"
   ]
  },
  {
   "cell_type": "code",
   "execution_count": 33,
   "id": "a54951e7",
   "metadata": {},
   "outputs": [
    {
     "name": "stdout",
     "output_type": "stream",
     "text": [
      "#### TECHNOLOGY TOOLS PEOPLE WANT TO WORK WITH (20 RANDOM SAMPLES) ####\n",
      "33152            Deno;Docker;Git;Unreal Engine;Yarn\n",
      "19499                                    Docker;Git\n",
      "61745                                    Docker;Git\n",
      "6588                     Docker;Git;Kubernetes;Yarn\n",
      "41606                                           Git\n",
      "60335                          Docker;Git;Terraform\n",
      "16162                                           Git\n",
      "14914                                    Docker;Git\n",
      "41389                                           NaN\n",
      "31290                         Docker;Git;Kubernetes\n",
      "18091                               Docker;Git;Yarn\n",
      "19612                         Docker;Git;Kubernetes\n",
      "62300    Ansible;Docker;Kubernetes;Pulumi;Terraform\n",
      "47492                                           NaN\n",
      "24630                                           Git\n",
      "10569                                Git;Kubernetes\n",
      "78723                         Docker;Git;Kubernetes\n",
      "15501                                           Git\n",
      "72834                                           Git\n",
      "57902                                      Git;Yarn\n",
      "Name: ToolsTechWantToWorkWith, dtype: object\n",
      "\n",
      "17959 out of 83439 rows contain null values\n"
     ]
    }
   ],
   "source": [
    "print(\"#### TECHNOLOGY TOOLS PEOPLE WANT TO WORK WITH (20 RANDOM SAMPLES) ####\")\n",
    "print(df['ToolsTechWantToWorkWith'].sample(20))\n",
    "print(\"\\n{} out of {} rows contain null values\".format(df['ToolsTechWantToWorkWith'].isnull().sum(), len(df)))"
   ]
  },
  {
   "cell_type": "code",
   "execution_count": 34,
   "id": "4a2f6cd6",
   "metadata": {},
   "outputs": [
    {
     "name": "stdout",
     "output_type": "stream",
     "text": [
      "#### IDE TOOLS PEOPLE HAVE WORKED WITH (20 RANDOM SAMPLES) ####\n",
      "12265                                   Visual Studio Code\n",
      "59684                               Vim;Visual Studio Code\n",
      "50267                  IntelliJ;PyCharm;Visual Studio Code\n",
      "32990                           Eclipse;Visual Studio Code\n",
      "41559                                                  NaN\n",
      "32249                  Notepad++;PHPStorm;Sublime Text;Vim\n",
      "72052                          IntelliJ;Visual Studio Code\n",
      "46276           Notepad++;Visual Studio;Visual Studio Code\n",
      "35122                                   Visual Studio Code\n",
      "28037          Android Studio;Vim;Visual Studio Code;Xcode\n",
      "15978                          IntelliJ;Visual Studio Code\n",
      "36541                                  Atom;TextMate;Xcode\n",
      "51712                            Android Studio;Atom;Xcode\n",
      "17668                 IntelliJ;IPython/Jupyter;PyCharm;Vim\n",
      "38151                           Atom;Eclipse;Visual Studio\n",
      "67464    Android Studio;Atom;Eclipse;IntelliJ;IPython/J...\n",
      "51935                                   Visual Studio Code\n",
      "16479                                             PHPStorm\n",
      "23598                                              PyCharm\n",
      "57379                          PHPStorm;Visual Studio Code\n",
      "Name: NEWCollabToolsHaveWorkedWith, dtype: object\n",
      "\n",
      "2205 out of 83439 rows contain null values\n"
     ]
    }
   ],
   "source": [
    "print(\"#### IDE TOOLS PEOPLE HAVE WORKED WITH (20 RANDOM SAMPLES) ####\")\n",
    "print(df['NEWCollabToolsHaveWorkedWith'].sample(20))\n",
    "print(\"\\n{} out of {} rows contain null values\".format(df['NEWCollabToolsHaveWorkedWith'].isnull().sum(), len(df)))"
   ]
  },
  {
   "cell_type": "code",
   "execution_count": 35,
   "id": "3457f207",
   "metadata": {},
   "outputs": [
    {
     "name": "stdout",
     "output_type": "stream",
     "text": [
      "#### IDE TOOLS PEOPLE WANT TO WORK WITH (20 RANDOM SAMPLES) ####\n",
      "64579    Atom;IPython/Jupyter;Neovim;Sublime Text;Visua...\n",
      "50854                               Vim;Visual Studio Code\n",
      "27609                                   Notepad++;Webstorm\n",
      "54180                                       TextMate;Xcode\n",
      "54329                                   Visual Studio Code\n",
      "55544                                   Visual Studio Code\n",
      "15397                                               Neovim\n",
      "947                                                  Emacs\n",
      "56164                               Vim;Visual Studio Code\n",
      "45851                               Vim;Visual Studio Code\n",
      "19480    Android Studio;Eclipse;IntelliJ;IPython/Jupyte...\n",
      "73353                            Android Studio;Atom;Xcode\n",
      "57357               Rider;Visual Studio;Visual Studio Code\n",
      "71198                Android Studio;Vim;Visual Studio Code\n",
      "33736                                                  NaN\n",
      "24859                                                  Vim\n",
      "68855                 Notepad++;PyCharm;Visual Studio Code\n",
      "74532                                                  NaN\n",
      "46619                                                Emacs\n",
      "83025                                                  Vim\n",
      "Name: NEWCollabToolsWantToWorkWith, dtype: object\n",
      "\n",
      "10417 out of 83439 rows contain null values\n"
     ]
    }
   ],
   "source": [
    "print(\"#### IDE TOOLS PEOPLE WANT TO WORK WITH (20 RANDOM SAMPLES) ####\")\n",
    "print(df['NEWCollabToolsWantToWorkWith'].sample(20))\n",
    "print(\"\\n{} out of {} rows contain null values\".format(df['NEWCollabToolsWantToWorkWith'].isnull().sum(), len(df)))"
   ]
  },
  {
   "cell_type": "code",
   "execution_count": 36,
   "id": "84029094",
   "metadata": {},
   "outputs": [
    {
     "name": "stdout",
     "output_type": "stream",
     "text": [
      "#### OPERATING SYSTEMS BEING USED ####\n",
      "Windows                              37758\n",
      "Linux-based                          21088\n",
      "MacOS                                20984\n",
      "Windows Subsystem for Linux (WSL)     2743\n",
      "Other (please specify):                575\n",
      "BSD                                    146\n",
      "Name: OpSys, dtype: int64\n",
      "\n",
      "145 out of 83439 rows' operating systems are unkonwn\n"
     ]
    }
   ],
   "source": [
    "print(\"#### OPERATING SYSTEMS BEING USED ####\")\n",
    "print(df['OpSys'].value_counts())\n",
    "print(\"\\n{} out of {} rows' operating systems are unkonwn\".format(df['OpSys'].isnull().sum(), len(df)))"
   ]
  },
  {
   "cell_type": "code",
   "execution_count": 37,
   "id": "569f3419",
   "metadata": {},
   "outputs": [
    {
     "name": "stdout",
     "output_type": "stream",
     "text": [
      "#### HOW PEOPLE GET HELP WHEN STUCK (20 RANDOM SAMPLES) ####\n",
      "66859    Call a coworker or friend;Google it;Do other w...\n",
      "9119                   Call a coworker or friend;Google it\n",
      "82162    Google it;Watch help / tutorial videos;Do othe...\n",
      "65520    Visit Stack Overflow;Go for a walk or other ph...\n",
      "55585    Visit Stack Overflow;Google it;Do other work a...\n",
      "55245    Visit Stack Overflow;Google it;Watch help / tu...\n",
      "51331    Call a coworker or friend;Visit Stack Overflow...\n",
      "25390    Call a coworker or friend;Visit Stack Overflow...\n",
      "4100     Call a coworker or friend;Visit Stack Overflow...\n",
      "44355    Call a coworker or friend;Visit Stack Overflow...\n",
      "31231    Call a coworker or friend;Visit Stack Overflow...\n",
      "68560    Call a coworker or friend;Visit Stack Overflow...\n",
      "160      Visit Stack Overflow;Google it;Do other work a...\n",
      "77271                  Call a coworker or friend;Google it\n",
      "30160                                            Google it\n",
      "3968     Visit Stack Overflow;Google it;Do other work a...\n",
      "62155    Visit Stack Overflow;Go for a walk or other ph...\n",
      "49694    Call a coworker or friend;Visit Stack Overflow...\n",
      "12475    Visit Stack Overflow;Google it;Meditate;Other ...\n",
      "28715    Call a coworker or friend;Visit Stack Overflow...\n",
      "Name: NEWStuck, dtype: object\n",
      "\n",
      "387 out of 83439 rows contain null values\n"
     ]
    }
   ],
   "source": [
    "print(\"#### HOW PEOPLE GET HELP WHEN STUCK (20 RANDOM SAMPLES) ####\")\n",
    "print(df['NEWStuck'].sample(20))\n",
    "print(\"\\n{} out of {} rows contain null values\".format(df['NEWStuck'].isnull().sum(), len(df)))"
   ]
  },
  {
   "cell_type": "code",
   "execution_count": 38,
   "id": "5f06ca67",
   "metadata": {},
   "outputs": [
    {
     "name": "stdout",
     "output_type": "stream",
     "text": [
      "#### WHICH SITES PEOPLE LOOK FOR THEIR ANSWERS ####\n",
      "Stack Overflow;Stack Exchange                                                                                                54658\n",
      "Stack Overflow                                                                                                               23473\n",
      "Stack Overflow;Stack Exchange;Stack Overflow for Teams (private knowledge sharing & collaboration platform for companies)     3099\n",
      "I have never visited Stack Overflow or the Stack Exchange network                                                              750\n",
      "Stack Overflow;Stack Overflow for Teams (private knowledge sharing & collaboration platform for companies)                     671\n",
      "Stack Exchange                                                                                                                 257\n",
      "Stack Overflow for Teams (private knowledge sharing & collaboration platform for companies)                                    246\n",
      "Stack Exchange;Stack Overflow for Teams (private knowledge sharing & collaboration platform for companies)                      17\n",
      "Name: NEWSOSites, dtype: int64\n",
      "\n",
      "268 out of 83439 rows contain null values\n"
     ]
    }
   ],
   "source": [
    "print(\"#### WHICH SITES PEOPLE LOOK FOR THEIR ANSWERS ####\")\n",
    "print(df['NEWSOSites'].value_counts())\n",
    "print(\"\\n{} out of {} rows contain null values\".format(df['NEWSOSites'].isnull().sum(), len(df)))"
   ]
  },
  {
   "cell_type": "code",
   "execution_count": 39,
   "id": "e60f31aa",
   "metadata": {},
   "outputs": [
    {
     "name": "stdout",
     "output_type": "stream",
     "text": [
      "#### VISIT FREQUENCY AT STACK OVERFLOW/EXCHANGE ####\n",
      "Daily or almost daily                  25262\n",
      "A few times per week                   22481\n",
      "Multiple times per day                 19580\n",
      "A few times per month or weekly        12710\n",
      "Less than once per month or monthly     2380\n",
      "Name: SOVisitFreq, dtype: int64\n",
      "\n",
      "1026 out of 83439 rows contain null values\n"
     ]
    }
   ],
   "source": [
    "print(\"#### VISIT FREQUENCY AT STACK OVERFLOW/EXCHANGE ####\")\n",
    "print(df['SOVisitFreq'].value_counts())\n",
    "print(\"\\n{} out of {} rows contain null values\".format(df['SOVisitFreq'].isnull().sum(), len(df)))"
   ]
  },
  {
   "cell_type": "code",
   "execution_count": 40,
   "id": "28eaac28",
   "metadata": {},
   "outputs": [
    {
     "name": "stdout",
     "output_type": "stream",
     "text": [
      "#### PEOPLE HAVING ACCOUNTS AT STACK OVERFLOW/EXCHANGE ####\n",
      "Yes                        67813\n",
      "No                         10510\n",
      "Not sure/can't remember     4202\n",
      "Name: SOAccount, dtype: int64\n",
      "\n",
      "914 out of 83439 rows contain null values\n"
     ]
    }
   ],
   "source": [
    "print(\"#### PEOPLE HAVING ACCOUNTS AT STACK OVERFLOW/EXCHANGE ####\")\n",
    "print(df['SOAccount'].value_counts())\n",
    "print(\"\\n{} out of {} rows contain null values\".format(df['SOAccount'].isnull().sum(), len(df)))"
   ]
  },
  {
   "cell_type": "code",
   "execution_count": 41,
   "id": "03ce41e9",
   "metadata": {},
   "outputs": [
    {
     "name": "stdout",
     "output_type": "stream",
     "text": [
      "#### PARTICIPATION FREQUENCY AT STACK OVERFLOW/EXCHANGE ####\n",
      "Less than once per month or monthly                   30778\n",
      "I have never participated in Q&A on Stack Overflow    14243\n",
      "A few times per month or weekly                       12978\n",
      "A few times per week                                   5687\n",
      "Daily or almost daily                                  2613\n",
      "Multiple times per day                                 1254\n",
      "Name: SOPartFreq, dtype: int64\n",
      "\n",
      "15886 out of 83439 rows contain null values.\n"
     ]
    }
   ],
   "source": [
    "print(\"#### PARTICIPATION FREQUENCY AT STACK OVERFLOW/EXCHANGE ####\")\n",
    "print(df['SOPartFreq'].value_counts())\n",
    "print(\"\\n{} out of {} rows contain null values.\".format(df['SOPartFreq'].isnull().sum(), len(df)))"
   ]
  },
  {
   "cell_type": "code",
   "execution_count": 42,
   "id": "5c973ef3",
   "metadata": {},
   "outputs": [
    {
     "name": "stdout",
     "output_type": "stream",
     "text": [
      "#### COMMUNICATION FREQUENCY AT STACK OVERFLOW/EXCHANGE ####\n",
      "Yes, somewhat      23584\n",
      "No, not really     20697\n",
      "Neutral            17084\n",
      "Yes, definitely    12888\n",
      "No, not at all      6633\n",
      "Not sure            1433\n",
      "Name: SOComm, dtype: int64\n",
      "\n",
      "1120 out of 83439 rows contain null values\n"
     ]
    }
   ],
   "source": [
    "print(\"#### COMMUNICATION FREQUENCY AT STACK OVERFLOW/EXCHANGE ####\")\n",
    "print(df['SOComm'].value_counts())\n",
    "print(\"\\n{} out of {} rows contain null values\".format(df['SOComm'].isnull().sum(), len(df)))"
   ]
  },
  {
   "cell_type": "code",
   "execution_count": 43,
   "id": "21058c8d",
   "metadata": {},
   "outputs": [
    {
     "name": "stdout",
     "output_type": "stream",
     "text": [
      "#### OTHER COMMUNICATIONS EXIST AT STACK OVERFLOW/EXCHANGE ####\n",
      "0         No\n",
      "1         No\n",
      "2        Yes\n",
      "3         No\n",
      "4         No\n",
      "        ... \n",
      "83434     No\n",
      "83435     No\n",
      "83436     No\n",
      "83437     No\n",
      "83438     No\n",
      "Name: NEWOtherComms, Length: 83439, dtype: object\n",
      "\n",
      "611 out of 83439 rows contain null values\n"
     ]
    }
   ],
   "source": [
    "print(\"#### OTHER COMMUNICATIONS EXIST AT STACK OVERFLOW/EXCHANGE ####\")\n",
    "print(df['NEWOtherComms'])\n",
    "print(\"\\n{} out of {} rows contain null values\".format(df['NEWOtherComms'].isnull().sum(), len(df)))"
   ]
  },
  {
   "cell_type": "code",
   "execution_count": 49,
   "id": "baa71414",
   "metadata": {},
   "outputs": [
    {
     "name": "stdout",
     "output_type": "stream",
     "text": [
      "#### AGE RANGES ####\n",
      "25-34 years old       32568\n",
      "18-24 years old       20993\n",
      "35-44 years old       15183\n",
      "45-54 years old        5472\n",
      "Under 18 years old     5376\n",
      "55-64 years old        1819\n",
      "Prefer not to say       575\n",
      "65 years or older       421\n",
      "Name: Age, dtype: int64\n",
      "\n",
      "1032 out of 83439 rows have no specified ages\n"
     ]
    }
   ],
   "source": [
    "print(\"#### AGE RANGES ####\")\n",
    "print(df['Age'].value_counts())\n",
    "print(\"\\n{} out of {} rows have no specified ages\".format(df['Age'].isnull().sum(), len(df)))"
   ]
  },
  {
   "cell_type": "code",
   "execution_count": 52,
   "id": "668dca7f",
   "metadata": {},
   "outputs": [
    {
     "name": "stdout",
     "output_type": "stream",
     "text": [
      "#### GENDERS ####\n",
      "Man                                                                                   74817\n",
      "Woman                                                                                  4120\n",
      "Prefer not to say                                                                      1442\n",
      "Non-binary, genderqueer, or gender non-conforming                                       690\n",
      "Or, in your own words:                                                                  413\n",
      "Man;Or, in your own words:                                                              268\n",
      "Man;Non-binary, genderqueer, or gender non-conforming                                   252\n",
      "Woman;Non-binary, genderqueer, or gender non-conforming                                 147\n",
      "Man;Woman                                                                                41\n",
      "Non-binary, genderqueer, or gender non-conforming;Or, in your own words:                 21\n",
      "Man;Woman;Non-binary, genderqueer, or gender non-conforming                              21\n",
      "Man;Woman;Non-binary, genderqueer, or gender non-conforming;Or, in your own words:       17\n",
      "Woman;Or, in your own words:                                                             16\n",
      "Man;Non-binary, genderqueer, or gender non-conforming;Or, in your own words:             11\n",
      "Woman;Non-binary, genderqueer, or gender non-conforming;Or, in your own words:            9\n",
      "Man;Woman;Or, in your own words:                                                          1\n",
      "Name: Gender, dtype: int64\n",
      "\n",
      "1153 out of 83439 rows have no specified gender\n"
     ]
    }
   ],
   "source": [
    "print(\"#### GENDERS ####\")\n",
    "print(df['Gender'].value_counts())\n",
    "print(\"\\n{} out of {} rows have no specified gender\".format(df['Gender'].isnull().sum(), len(df)))"
   ]
  },
  {
   "cell_type": "code",
   "execution_count": 54,
   "id": "cc357b12",
   "metadata": {},
   "outputs": [
    {
     "name": "stdout",
     "output_type": "stream",
     "text": [
      "#### TRANS STATUS ####\n",
      "No                        77275\n",
      "Prefer not to say          1764\n",
      "Yes                        1035\n",
      "Or, in your own words:      604\n",
      "Name: Trans, dtype: int64\n",
      "\n",
      "2761 out of 83439 rows have no trans status specified\n"
     ]
    }
   ],
   "source": [
    "print(\"#### TRANS STATUS ####\")\n",
    "print(df['Trans'].value_counts())\n",
    "print(\"\\n{} out of {} rows have no trans status specified\".format(df['Trans'].isnull().sum(), len(df)))"
   ]
  },
  {
   "cell_type": "code",
   "execution_count": 56,
   "id": "e6be4f25",
   "metadata": {},
   "outputs": [
    {
     "name": "stdout",
     "output_type": "stream",
     "text": [
      "#### SEXUALITY STATUS ####\n",
      "Straight / Heterosexual                                                           61094\n",
      "Prefer not to say                                                                  4783\n",
      "Bisexual                                                                           2879\n",
      "Gay or Lesbian                                                                     1367\n",
      "Prefer to self-describe:                                                           1258\n",
      "Straight / Heterosexual;Bisexual                                                    492\n",
      "Queer                                                                               376\n",
      "Bisexual;Queer                                                                      273\n",
      "Straight / Heterosexual;Prefer to self-describe:                                    225\n",
      "Gay or Lesbian;Queer                                                                149\n",
      "Straight / Heterosexual;Queer                                                        78\n",
      "Bisexual;Gay or Lesbian                                                              71\n",
      "Prefer to self-describe:;Queer                                                       61\n",
      "Bisexual;Gay or Lesbian;Queer                                                        49\n",
      "Bisexual;Prefer to self-describe:                                                    36\n",
      "Bisexual;Prefer to self-describe:;Queer                                              26\n",
      "Straight / Heterosexual;Bisexual;Prefer to self-describe:;Gay or Lesbian;Queer       22\n",
      "Straight / Heterosexual;Gay or Lesbian                                               21\n",
      "Straight / Heterosexual;Bisexual;Gay or Lesbian;Queer                                21\n",
      "Straight / Heterosexual;Bisexual;Gay or Lesbian                                      18\n",
      "Straight / Heterosexual;Bisexual;Queer                                               15\n",
      "Prefer to self-describe:;Gay or Lesbian;Queer                                        14\n",
      "Straight / Heterosexual;Bisexual;Prefer to self-describe:                            11\n",
      "Bisexual;Prefer to self-describe:;Gay or Lesbian;Queer                               10\n",
      "Straight / Heterosexual;Prefer to self-describe:;Queer                                5\n",
      "Prefer to self-describe:;Gay or Lesbian                                               5\n",
      "Bisexual;Prefer to self-describe:;Gay or Lesbian                                      3\n",
      "Straight / Heterosexual;Bisexual;Prefer to self-describe:;Gay or Lesbian              2\n",
      "Straight / Heterosexual;Gay or Lesbian;Queer                                          1\n",
      "Straight / Heterosexual;Bisexual;Prefer to self-describe:;Queer                       1\n",
      "Name: Sexuality, dtype: int64\n",
      "\n",
      "10073 out of 83439 rows have no sexuality status specified\n"
     ]
    }
   ],
   "source": [
    "print(\"#### SEXUALITY STATUS ####\")\n",
    "print(df['Sexuality'].value_counts())\n",
    "print(\"\\n{} out of {} rows have no sexuality status specified\".format(df['Sexuality'].isnull().sum(), len(df)))"
   ]
  },
  {
   "cell_type": "code",
   "execution_count": 61,
   "id": "c5babc9d",
   "metadata": {},
   "outputs": [
    {
     "name": "stdout",
     "output_type": "stream",
     "text": [
      "#### 20 MOST FREQUENT ETHNICITY STATUS ####\n",
      "White or of European descent                                                                                     42671\n",
      "South Asian                                                                                                       8328\n",
      "Hispanic or Latino/a/x                                                                                            3585\n",
      "Southeast Asian                                                                                                   3224\n",
      "Prefer not to say                                                                                                 3062\n",
      "Middle Eastern                                                                                                    2985\n",
      "East Asian                                                                                                        2947\n",
      "I don't know                                                                                                      2140\n",
      "Black or of African descent                                                                                       2085\n",
      "Or, in your own words:                                                                                            2014\n",
      "White or of European descent;Hispanic or Latino/a/x                                                               1155\n",
      "White or of European descent;Middle Eastern                                                                        621\n",
      "Multiracial                                                                                                        415\n",
      "Southeast Asian;South Asian                                                                                        290\n",
      "White or of European descent;Or, in your own words:                                                                276\n",
      "Biracial                                                                                                           235\n",
      "White or of European descent;Indigenous (such as Native American, Pacific Islander, or Indigenous Australian)      170\n",
      "South Asian;Or, in your own words:                                                                                 168\n",
      "Southeast Asian;East Asian                                                                                         150\n",
      "White or of European descent;I don't know                                                                          138\n",
      "Name: Ethnicity, dtype: int64\n",
      "\n",
      "3975 out of 83439 rows have no ethnicity status specified\n"
     ]
    }
   ],
   "source": [
    "print(\"#### 20 MOST FREQUENT ETHNICITY STATUS ####\")\n",
    "print(df['Ethnicity'].value_counts()[:20])\n",
    "print(\"\\n{} out of {} rows have no ethnicity status specified\".format(df['Ethnicity'].isnull().sum(), len(df)))"
   ]
  },
  {
   "cell_type": "code",
   "execution_count": 74,
   "id": "558e1881",
   "metadata": {},
   "outputs": [
    {
     "name": "stdout",
     "output_type": "stream",
     "text": [
      "#### ACCESSIBILITY STATUS (TOP 10) ####\n",
      "None of the above                                                                                                                                                                    72725\n",
      "Prefer not to say                                                                                                                                                                     1918\n",
      "I am blind / have difficulty seeing                                                                                                                                                   1030\n",
      "Or, in your own words:                                                                                                                                                                 842\n",
      "I am deaf / hard of hearing                                                                                                                                                            442\n",
      "I am unable to / find it difficult to walk or stand without assistance                                                                                                                 188\n",
      "I am unable to / find it difficult to type                                                                                                                                             160\n",
      "I am blind / have difficulty seeing;Or, in your own words:                                                                                                                              54\n",
      "I am deaf / hard of hearing;I am blind / have difficulty seeing;I am unable to / find it difficult to type;I am unable to / find it difficult to walk or stand without assistance       49\n",
      "I am deaf / hard of hearing;I am blind / have difficulty seeing                                                                                                                         45\n",
      "Name: Accessibility, dtype: int64\n",
      "\n",
      "5836 out of 83439 rows have no accessibility status specified\n"
     ]
    }
   ],
   "source": [
    "print(\"#### ACCESSIBILITY STATUS (TOP 10) ####\")\n",
    "print(df['Accessibility'].value_counts()[:10])\n",
    "print(\"\\n{} out of {} rows have no accessibility status specified\".format(df['Accessibility'].isnull().sum(), len(df)))"
   ]
  },
  {
   "cell_type": "code",
   "execution_count": 80,
   "id": "a09775b2",
   "metadata": {},
   "outputs": [
    {
     "name": "stdout",
     "output_type": "stream",
     "text": [
      "#### MENTAL HEALTH STATUS (TOP 10) ####\n",
      "None of the above                                                                                                                                               56459\n",
      "Prefer not to say                                                                                                                                                3932\n",
      "I have a concentration and/or memory disorder (e.g. ADHD)                                                                                                        3059\n",
      "I have an anxiety disorder                                                                                                                                       2840\n",
      "I have a mood or emotional disorder (e.g. depression, bipolar disorder)                                                                                          2324\n",
      "I have a mood or emotional disorder (e.g. depression, bipolar disorder);I have an anxiety disorder                                                               1811\n",
      "I have autism / an autism spectrum disorder (e.g. Asperger's)                                                                                                    1224\n",
      "Or, in your own words:                                                                                                                                           1050\n",
      "I have a concentration and/or memory disorder (e.g. ADHD);I have a mood or emotional disorder (e.g. depression, bipolar disorder);I have an anxiety disorder     1009\n",
      "I have a concentration and/or memory disorder (e.g. ADHD);I have a mood or emotional disorder (e.g. depression, bipolar disorder)                                 664\n",
      "Name: MentalHealth, dtype: int64\n",
      "\n",
      "6519 out of 83439 rows have no mental health status specified\n"
     ]
    }
   ],
   "source": [
    "print(\"#### MENTAL HEALTH STATUS (TOP 10) ####\")\n",
    "print(df['MentalHealth'].value_counts()[:10])\n",
    "print(\"\\n{} out of {} rows have no mental health status specified\".format(df['MentalHealth'].isnull().sum(), len(df)))"
   ]
  },
  {
   "cell_type": "code",
   "execution_count": 83,
   "id": "0d71d558",
   "metadata": {},
   "outputs": [
    {
     "name": "stdout",
     "output_type": "stream",
     "text": [
      "#### THOUGHTS ABOUT SURVEY LENGTH ####\n",
      "Appropriate in length    64514\n",
      "Too long                 13087\n",
      "Too short                 4110\n",
      "Name: SurveyLength, dtype: int64\n",
      "\n",
      "1728 out of 83439 rows have nothing about the usrvey length\n"
     ]
    }
   ],
   "source": [
    "print(\"#### THOUGHTS ABOUT SURVEY LENGTH ####\")\n",
    "print(df['SurveyLength'].value_counts())\n",
    "print(\"\\n{} out of {} rows have nothing about the survey length\".format(df['SurveyLength'].isnull().sum(), len(df)))"
   ]
  },
  {
   "cell_type": "code",
   "execution_count": 86,
   "id": "36258000",
   "metadata": {},
   "outputs": [
    {
     "name": "stdout",
     "output_type": "stream",
     "text": [
      "#### THOUGHTS ABOUT SURVEY EASINESS ####\n",
      "Easy                          63087\n",
      "Neither easy nor difficult    18091\n",
      "Difficult                       770\n",
      "Name: SurveyEase, dtype: int64\n",
      "\n",
      "1491 out of 83439 rows have nothing about the survey easiness\n"
     ]
    }
   ],
   "source": [
    "print(\"#### THOUGHTS ABOUT SURVEY EASINESS ####\")\n",
    "print(df['SurveyEase'].value_counts())\n",
    "print(\"\\n{} out of {} rows have nothing about the survey easiness\".format(df['SurveyEase'].isnull().sum(), len(df)))"
   ]
  },
  {
   "cell_type": "code",
   "execution_count": 91,
   "id": "48e37006",
   "metadata": {},
   "outputs": [
    {
     "name": "stdout",
     "output_type": "stream",
     "text": [
      "#### 20 HIGHEST CONVERTEDCOMP YEARLY ####\n",
      "66910    45241312.0\n",
      "65399    30468516.0\n",
      "40586    21822250.0\n",
      "28791    20000000.0\n",
      "12700    19200000.0\n",
      "9608     17500000.0\n",
      "5305     15000000.0\n",
      "12903    14411628.0\n",
      "66488    12750000.0\n",
      "7205     12500000.0\n",
      "47563    12500000.0\n",
      "3733     11250000.0\n",
      "33255    11250000.0\n",
      "35779    11000000.0\n",
      "7904     10500000.0\n",
      "10372    10350000.0\n",
      "9189     10200000.0\n",
      "66323    10000000.0\n",
      "53028    10000000.0\n",
      "52070    10000000.0\n",
      "Name: ConvertedCompYearly, dtype: float64\n",
      "\n",
      "36595 out of 83439 rows contain null values\n"
     ]
    }
   ],
   "source": [
    "print(\"#### 20 HIGHEST CONVERTEDCOMP YEARLY ####\")\n",
    "print(df['ConvertedCompYearly'].sort_values(ascending=False)[:20])\n",
    "print(\"\\n{} out of {} rows contain null values\".format(df['ConvertedCompYearly'].isnull().sum(), len(df)))"
   ]
  },
  {
   "cell_type": "code",
   "execution_count": 44,
   "id": "79c696b0",
   "metadata": {},
   "outputs": [
    {
     "data": {
      "text/plain": [
       "Index(['ResponseId', 'MainBranch', 'Employment', 'Country', 'US_State',\n",
       "       'UK_Country', 'EdLevel', 'Age1stCode', 'LearnCode', 'YearsCode',\n",
       "       'YearsCodePro', 'DevType', 'OrgSize', 'Currency', 'CompTotal',\n",
       "       'CompFreq', 'LanguageHaveWorkedWith', 'LanguageWantToWorkWith',\n",
       "       'DatabaseHaveWorkedWith', 'DatabaseWantToWorkWith',\n",
       "       'PlatformHaveWorkedWith', 'PlatformWantToWorkWith',\n",
       "       'WebframeHaveWorkedWith', 'WebframeWantToWorkWith',\n",
       "       'MiscTechHaveWorkedWith', 'MiscTechWantToWorkWith',\n",
       "       'ToolsTechHaveWorkedWith', 'ToolsTechWantToWorkWith',\n",
       "       'NEWCollabToolsHaveWorkedWith', 'NEWCollabToolsWantToWorkWith', 'OpSys',\n",
       "       'NEWStuck', 'NEWSOSites', 'SOVisitFreq', 'SOAccount', 'SOPartFreq',\n",
       "       'SOComm', 'NEWOtherComms', 'Age', 'Gender', 'Trans', 'Sexuality',\n",
       "       'Ethnicity', 'Accessibility', 'MentalHealth', 'SurveyLength',\n",
       "       'SurveyEase', 'ConvertedCompYearly'],\n",
       "      dtype='object')"
      ]
     },
     "execution_count": 44,
     "metadata": {},
     "output_type": "execute_result"
    }
   ],
   "source": [
    "df.columns"
   ]
  }
 ],
 "metadata": {
  "kernelspec": {
   "display_name": "Python 3 (ipykernel)",
   "language": "python",
   "name": "python3"
  },
  "language_info": {
   "codemirror_mode": {
    "name": "ipython",
    "version": 3
   },
   "file_extension": ".py",
   "mimetype": "text/x-python",
   "name": "python",
   "nbconvert_exporter": "python",
   "pygments_lexer": "ipython3",
   "version": "3.10.8"
  }
 },
 "nbformat": 4,
 "nbformat_minor": 5
}
