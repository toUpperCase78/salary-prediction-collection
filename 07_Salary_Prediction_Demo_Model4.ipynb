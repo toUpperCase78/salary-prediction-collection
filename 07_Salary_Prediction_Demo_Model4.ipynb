{
 "cells": [
  {
   "cell_type": "markdown",
   "id": "4ffefc22",
   "metadata": {},
   "source": [
    "# 07. bonniema/salary-predictor\n",
    "\n",
    "## Model 4: Deep Learning Models with Word Embeddings\n",
    "\n",
    "## Import libraries and the final salary dataset"
   ]
  },
  {
   "cell_type": "code",
   "execution_count": 1,
   "id": "92fe2431",
   "metadata": {},
   "outputs": [
    {
     "name": "stderr",
     "output_type": "stream",
     "text": [
      "[nltk_data] Downloading package stopwords to C:\\Users\\Doğan Yiğit\n",
      "[nltk_data]     Yenigün\\AppData\\Roaming\\nltk_data...\n",
      "[nltk_data]   Package stopwords is already up-to-date!\n"
     ]
    }
   ],
   "source": [
    "import time\n",
    "from time import time\n",
    "from pprint import pprint\n",
    "import pickle\n",
    "import pandas as pd\n",
    "import numpy as np\n",
    "import seaborn as sns\n",
    "import matplotlib.pyplot as plt\n",
    "import logging\n",
    "\n",
    "# NLP\n",
    "import nltk\n",
    "nltk.download('stopwords')\n",
    "from nltk.corpus import stopwords\n",
    "from nltk import word_tokenize, FreqDist\n",
    "from nltk.collocations import *\n",
    "import string, re\n",
    "from gensim.models import Word2Vec\n",
    "from sklearn.manifold import TSNE\n",
    "from sklearn.feature_extraction.text import TfidfVectorizer\n",
    "\n",
    "# Model Data Preparation\n",
    "from sklearn.model_selection import train_test_split\n",
    "from sklearn.preprocessing import StandardScaler, OneHotEncoder\n",
    "from sklearn.impute import SimpleImputer\n",
    "\n",
    "# Machine Learning\n",
    "from sklearn.metrics import accuracy_score, f1_score, mean_squared_error, r2_score\n",
    "from sklearn.ensemble import RandomForestRegressor, RandomForestClassifier\n",
    "from sklearn.ensemble import GradientBoostingClassifier\n",
    "from sklearn.feature_extraction.text import CountVectorizer, TfidfTransformer\n",
    "from sklearn.decomposition import PCA\n",
    "from sklearn.svm import SVC\n",
    "from sklearn.svm import SVR\n",
    "from sklearn.linear_model import LinearRegression, SGDClassifier\n",
    "from sklearn.pipeline import Pipeline\n",
    "from sklearn.model_selection import cross_val_score\n",
    "from sklearn.model_selection import GridSearchCV\n",
    "from sklearn.metrics import confusion_matrix\n",
    "\n",
    "# Deep learning\n",
    "import tensorflow as tf\n",
    "# from keras.preprocessing.sequence import pad_sequences\n",
    "from keras.utils import pad_sequences\n",
    "from keras.layers import Input, Dense, LSTM, Embedding\n",
    "from keras.layers import Dropout, Activation, Bidirectional, GlobalMaxPool1D\n",
    "from keras.layers.convolutional import Conv1D, Conv2D\n",
    "from keras.layers.convolutional import MaxPooling1D, MaxPooling2D\n",
    "from keras.models import Sequential\n",
    "from keras import initializers, regularizers, constraints, optimizers, layers\n",
    "from keras.preprocessing import text, sequence\n",
    "from keras.layers import Flatten\n",
    "from keras.utils import to_categorical\n",
    "from keras.callbacks import EarlyStopping\n",
    "from keras import regularizers\n",
    "from keras.wrappers.scikit_learn import KerasClassifier #to use Keras in sklearn\n",
    "\n",
    "# Deep Learning - Mixed inputs\n",
    "# from keras.layers.normalization import BatchNormalization\n",
    "from tensorflow.keras.layers import BatchNormalization\n",
    "from keras.layers.core import Activation\n",
    "from keras.layers.core import Dropout\n",
    "from keras.layers.core import Dense\n",
    "from keras.layers import Flatten\n",
    "from keras.layers import Input\n",
    "from keras.models import Model\n",
    "from keras.layers import concatenate\n",
    "from keras.optimizers import Adam, RMSprop\n",
    "\n",
    "%matplotlib inline\n",
    "np.random.seed(0)"
   ]
  },
  {
   "cell_type": "code",
   "execution_count": 2,
   "id": "bd2eb97d",
   "metadata": {},
   "outputs": [],
   "source": [
    "salary_df = pd.read_csv('salary_final_done.csv')"
   ]
  },
  {
   "cell_type": "code",
   "execution_count": 3,
   "id": "99efbd3c",
   "metadata": {},
   "outputs": [
    {
     "name": "stdout",
     "output_type": "stream",
     "text": [
      "(963, 27)\n"
     ]
    },
    {
     "data": {
      "text/html": [
       "<div>\n",
       "<style scoped>\n",
       "    .dataframe tbody tr th:only-of-type {\n",
       "        vertical-align: middle;\n",
       "    }\n",
       "\n",
       "    .dataframe tbody tr th {\n",
       "        vertical-align: top;\n",
       "    }\n",
       "\n",
       "    .dataframe thead th {\n",
       "        text-align: right;\n",
       "    }\n",
       "</style>\n",
       "<table border=\"1\" class=\"dataframe\">\n",
       "  <thead>\n",
       "    <tr style=\"text-align: right;\">\n",
       "      <th></th>\n",
       "      <th>Title</th>\n",
       "      <th>Company</th>\n",
       "      <th>Link</th>\n",
       "      <th>Review</th>\n",
       "      <th>Salary</th>\n",
       "      <th>Description</th>\n",
       "      <th>Location2</th>\n",
       "      <th>Rate_by</th>\n",
       "      <th>low</th>\n",
       "      <th>high</th>\n",
       "      <th>...</th>\n",
       "      <th>Rank</th>\n",
       "      <th>City</th>\n",
       "      <th>Cost of Living Index</th>\n",
       "      <th>Rent Index</th>\n",
       "      <th>Cost of Living Plus Rent Index</th>\n",
       "      <th>Groceries Index</th>\n",
       "      <th>Restaurant Price Index</th>\n",
       "      <th>Local Purchasing Power Index</th>\n",
       "      <th>combined_text</th>\n",
       "      <th>Salary_Bins</th>\n",
       "    </tr>\n",
       "  </thead>\n",
       "  <tbody>\n",
       "    <tr>\n",
       "      <th>0</th>\n",
       "      <td>2021048 Data Scientist $215,000.00</td>\n",
       "      <td>B4CORP</td>\n",
       "      <td>https://www.indeed.com/pagead/clk?mo=r&amp;ad=-6NY...</td>\n",
       "      <td>None</td>\n",
       "      <td>Up to $215,000 a year</td>\n",
       "      <td>Position Requires a Top Secret (TS/SCI) Cleara...</td>\n",
       "      <td>Arlington, VA</td>\n",
       "      <td>Yearly</td>\n",
       "      <td>Up to $215,000 a year</td>\n",
       "      <td>NaN</td>\n",
       "      <td>...</td>\n",
       "      <td>36.0</td>\n",
       "      <td>Arlington, VA</td>\n",
       "      <td>80.159143</td>\n",
       "      <td>58.838571</td>\n",
       "      <td>69.961143</td>\n",
       "      <td>76.886286</td>\n",
       "      <td>78.608571</td>\n",
       "      <td>115.594571</td>\n",
       "      <td>2021048 Data Scientist $215,000.00 Position Re...</td>\n",
       "      <td>5</td>\n",
       "    </tr>\n",
       "    <tr>\n",
       "      <th>1</th>\n",
       "      <td>Data Science/Data Analyst</td>\n",
       "      <td>CRAiC LLC</td>\n",
       "      <td>https://www.indeed.com/company/CRAiC-LLC/jobs/...</td>\n",
       "      <td>None</td>\n",
       "      <td>$60,000 a year</td>\n",
       "      <td>Cost Readiness Analytics (CRAiC LLC) is lookin...</td>\n",
       "      <td>Arlington, VA</td>\n",
       "      <td>Yearly</td>\n",
       "      <td>$60,000 a year</td>\n",
       "      <td>NaN</td>\n",
       "      <td>...</td>\n",
       "      <td>36.0</td>\n",
       "      <td>Arlington, VA</td>\n",
       "      <td>80.159143</td>\n",
       "      <td>58.838571</td>\n",
       "      <td>69.961143</td>\n",
       "      <td>76.886286</td>\n",
       "      <td>78.608571</td>\n",
       "      <td>115.594571</td>\n",
       "      <td>Data Science/Data Analyst Cost Readiness Analy...</td>\n",
       "      <td>1</td>\n",
       "    </tr>\n",
       "    <tr>\n",
       "      <th>2</th>\n",
       "      <td>Data Science Intern</td>\n",
       "      <td>MilliporeSigma</td>\n",
       "      <td>https://www.indeed.com/company/Serono/jobs/Dat...</td>\n",
       "      <td>3.9</td>\n",
       "      <td>$20 - $25 an hour</td>\n",
       "      <td>Job Title: Data Science Intern\\rA career with ...</td>\n",
       "      <td>Arlington, VA</td>\n",
       "      <td>Hourly</td>\n",
       "      <td>$20</td>\n",
       "      <td>$25 an hour</td>\n",
       "      <td>...</td>\n",
       "      <td>36.0</td>\n",
       "      <td>Arlington, VA</td>\n",
       "      <td>80.159143</td>\n",
       "      <td>58.838571</td>\n",
       "      <td>69.961143</td>\n",
       "      <td>76.886286</td>\n",
       "      <td>78.608571</td>\n",
       "      <td>115.594571</td>\n",
       "      <td>Data Science Intern Job Title: Data Science In...</td>\n",
       "      <td>0</td>\n",
       "    </tr>\n",
       "    <tr>\n",
       "      <th>3</th>\n",
       "      <td>Jr. Data Scientist</td>\n",
       "      <td>Numero Data LLC</td>\n",
       "      <td>https://www.indeed.com/company/Numero-Data-LLC...</td>\n",
       "      <td>None</td>\n",
       "      <td>$70,000 - $85,000 a year</td>\n",
       "      <td>Ideal candidate should have a degree in a quan...</td>\n",
       "      <td>Arlington, VA</td>\n",
       "      <td>Yearly</td>\n",
       "      <td>$70,000</td>\n",
       "      <td>$85,000 a year</td>\n",
       "      <td>...</td>\n",
       "      <td>36.0</td>\n",
       "      <td>Arlington, VA</td>\n",
       "      <td>80.159143</td>\n",
       "      <td>58.838571</td>\n",
       "      <td>69.961143</td>\n",
       "      <td>76.886286</td>\n",
       "      <td>78.608571</td>\n",
       "      <td>115.594571</td>\n",
       "      <td>Jr. Data Scientist Ideal candidate should have...</td>\n",
       "      <td>2</td>\n",
       "    </tr>\n",
       "    <tr>\n",
       "      <th>4</th>\n",
       "      <td>Business Data Quality Engineer</td>\n",
       "      <td>HRU Technical Resources</td>\n",
       "      <td>https://www.indeed.com/pagead/clk?mo=r&amp;ad=-6NY...</td>\n",
       "      <td>None</td>\n",
       "      <td>$45 - $55 an hour</td>\n",
       "      <td>Please note that this is not a corp to corp or...</td>\n",
       "      <td>Arlington, VA</td>\n",
       "      <td>Hourly</td>\n",
       "      <td>$45</td>\n",
       "      <td>$55 an hour</td>\n",
       "      <td>...</td>\n",
       "      <td>36.0</td>\n",
       "      <td>Arlington, VA</td>\n",
       "      <td>80.159143</td>\n",
       "      <td>58.838571</td>\n",
       "      <td>69.961143</td>\n",
       "      <td>76.886286</td>\n",
       "      <td>78.608571</td>\n",
       "      <td>115.594571</td>\n",
       "      <td>Business Data Quality Engineer Please note tha...</td>\n",
       "      <td>3</td>\n",
       "    </tr>\n",
       "  </tbody>\n",
       "</table>\n",
       "<p>5 rows × 24 columns</p>\n",
       "</div>"
      ],
      "text/plain": [
       "                                Title                  Company  \\\n",
       "0  2021048 Data Scientist $215,000.00                   B4CORP   \n",
       "1           Data Science/Data Analyst                CRAiC LLC   \n",
       "2                 Data Science Intern           MilliporeSigma   \n",
       "3                  Jr. Data Scientist          Numero Data LLC   \n",
       "4      Business Data Quality Engineer  HRU Technical Resources   \n",
       "\n",
       "                                                Link Review  \\\n",
       "0  https://www.indeed.com/pagead/clk?mo=r&ad=-6NY...   None   \n",
       "1  https://www.indeed.com/company/CRAiC-LLC/jobs/...   None   \n",
       "2  https://www.indeed.com/company/Serono/jobs/Dat...    3.9   \n",
       "3  https://www.indeed.com/company/Numero-Data-LLC...   None   \n",
       "4  https://www.indeed.com/pagead/clk?mo=r&ad=-6NY...   None   \n",
       "\n",
       "                     Salary  \\\n",
       "0     Up to $215,000 a year   \n",
       "1            $60,000 a year   \n",
       "2         $20 - $25 an hour   \n",
       "3  $70,000 - $85,000 a year   \n",
       "4         $45 - $55 an hour   \n",
       "\n",
       "                                         Description      Location2 Rate_by  \\\n",
       "0  Position Requires a Top Secret (TS/SCI) Cleara...  Arlington, VA  Yearly   \n",
       "1  Cost Readiness Analytics (CRAiC LLC) is lookin...  Arlington, VA  Yearly   \n",
       "2  Job Title: Data Science Intern\\rA career with ...  Arlington, VA  Hourly   \n",
       "3  Ideal candidate should have a degree in a quan...  Arlington, VA  Yearly   \n",
       "4  Please note that this is not a corp to corp or...  Arlington, VA  Hourly   \n",
       "\n",
       "                     low             high  ...  Rank           City  \\\n",
       "0  Up to $215,000 a year              NaN  ...  36.0  Arlington, VA   \n",
       "1         $60,000 a year              NaN  ...  36.0  Arlington, VA   \n",
       "2                   $20       $25 an hour  ...  36.0  Arlington, VA   \n",
       "3               $70,000    $85,000 a year  ...  36.0  Arlington, VA   \n",
       "4                   $45       $55 an hour  ...  36.0  Arlington, VA   \n",
       "\n",
       "   Cost of Living Index  Rent Index  Cost of Living Plus Rent Index  \\\n",
       "0             80.159143   58.838571                       69.961143   \n",
       "1             80.159143   58.838571                       69.961143   \n",
       "2             80.159143   58.838571                       69.961143   \n",
       "3             80.159143   58.838571                       69.961143   \n",
       "4             80.159143   58.838571                       69.961143   \n",
       "\n",
       "  Groceries Index  Restaurant Price Index  Local Purchasing Power Index  \\\n",
       "0       76.886286               78.608571                    115.594571   \n",
       "1       76.886286               78.608571                    115.594571   \n",
       "2       76.886286               78.608571                    115.594571   \n",
       "3       76.886286               78.608571                    115.594571   \n",
       "4       76.886286               78.608571                    115.594571   \n",
       "\n",
       "                                       combined_text  Salary_Bins  \n",
       "0  2021048 Data Scientist $215,000.00 Position Re...            5  \n",
       "1  Data Science/Data Analyst Cost Readiness Analy...            1  \n",
       "2  Data Science Intern Job Title: Data Science In...            0  \n",
       "3  Jr. Data Scientist Ideal candidate should have...            2  \n",
       "4  Business Data Quality Engineer Please note tha...            3  \n",
       "\n",
       "[5 rows x 24 columns]"
      ]
     },
     "execution_count": 3,
     "metadata": {},
     "output_type": "execute_result"
    }
   ],
   "source": [
    "print(salary_df.shape)\n",
    "salary_df.drop('Unnamed: 0.2', axis=1, inplace=True)\n",
    "salary_df.drop('Unnamed: 0.1', axis=1, inplace=True)\n",
    "salary_df.drop('Unnamed: 0', axis=1, inplace=True)\n",
    "salary_df.head()"
   ]
  },
  {
   "cell_type": "code",
   "execution_count": 4,
   "id": "4bd6256b",
   "metadata": {},
   "outputs": [
    {
     "name": "stdout",
     "output_type": "stream",
     "text": [
      "<class 'pandas.core.frame.DataFrame'>\n",
      "RangeIndex: 963 entries, 0 to 962\n",
      "Data columns (total 24 columns):\n",
      " #   Column                          Non-Null Count  Dtype  \n",
      "---  ------                          --------------  -----  \n",
      " 0   Title                           963 non-null    object \n",
      " 1   Company                         963 non-null    object \n",
      " 2   Link                            963 non-null    object \n",
      " 3   Review                          963 non-null    object \n",
      " 4   Salary                          963 non-null    object \n",
      " 5   Description                     963 non-null    object \n",
      " 6   Location2                       958 non-null    object \n",
      " 7   Rate_by                         963 non-null    object \n",
      " 8   low                             963 non-null    object \n",
      " 9   high                            762 non-null    object \n",
      " 10  min                             963 non-null    float64\n",
      " 11  max                             963 non-null    float64\n",
      " 12  adjusted_salary                 963 non-null    float64\n",
      " 13  adjusted_yearly_salary          963 non-null    float64\n",
      " 14  Rank                            893 non-null    float64\n",
      " 15  City                            893 non-null    object \n",
      " 16  Cost of Living Index            893 non-null    float64\n",
      " 17  Rent Index                      893 non-null    float64\n",
      " 18  Cost of Living Plus Rent Index  893 non-null    float64\n",
      " 19  Groceries Index                 893 non-null    float64\n",
      " 20  Restaurant Price Index          893 non-null    float64\n",
      " 21  Local Purchasing Power Index    893 non-null    float64\n",
      " 22  combined_text                   963 non-null    object \n",
      " 23  Salary_Bins                     963 non-null    int64  \n",
      "dtypes: float64(11), int64(1), object(12)\n",
      "memory usage: 180.7+ KB\n"
     ]
    }
   ],
   "source": [
    "salary_df.info()"
   ]
  },
  {
   "cell_type": "code",
   "execution_count": 5,
   "id": "24ce2dbe",
   "metadata": {},
   "outputs": [
    {
     "data": {
      "image/png": "[encoded data removed]",
      "text/plain": [
       "<Figure size 640x480 with 1 Axes>"
      ]
     },
     "metadata": {},
     "output_type": "display_data"
    }
   ],
   "source": [
    "salary_df.hist('adjusted_yearly_salary', bins=50)\n",
    "plt.grid(axis='both')\n",
    "plt.show()"
   ]
  },
  {
   "cell_type": "code",
   "execution_count": 6,
   "id": "0a7f59e5",
   "metadata": {},
   "outputs": [
    {
     "data": {
      "text/plain": [
       "352500.0"
      ]
     },
     "execution_count": 6,
     "metadata": {},
     "output_type": "execute_result"
    }
   ],
   "source": [
    "salary_df['adjusted_yearly_salary'].max() - salary_df['adjusted_yearly_salary'].min()"
   ]
  },
  {
   "cell_type": "code",
   "execution_count": 7,
   "id": "ef6ac0be",
   "metadata": {},
   "outputs": [
    {
     "data": {
      "text/plain": [
       "0.000000     10000.000000\n",
       "0.166667     54026.666667\n",
       "0.333333     70000.000000\n",
       "0.500000     90000.000000\n",
       "0.666667    114400.000000\n",
       "0.833333    145600.000000\n",
       "1.000000    362500.000000\n",
       "Name: adjusted_yearly_salary, dtype: float64"
      ]
     },
     "execution_count": 7,
     "metadata": {},
     "output_type": "execute_result"
    }
   ],
   "source": [
    "salary_df['adjusted_yearly_salary'].quantile(list(np.linspace(0,1,7)))"
   ]
  },
  {
   "cell_type": "code",
   "execution_count": 8,
   "id": "000f7b13",
   "metadata": {},
   "outputs": [
    {
     "data": {
      "text/plain": [
       "0      5\n",
       "1      1\n",
       "2      0\n",
       "3      2\n",
       "4      3\n",
       "      ..\n",
       "958    3\n",
       "959    3\n",
       "960    3\n",
       "961    2\n",
       "962    2\n",
       "Name: Salary_Bins, Length: 963, dtype: int64"
      ]
     },
     "execution_count": 8,
     "metadata": {},
     "output_type": "execute_result"
    }
   ],
   "source": [
    "salary_df['Salary_Bins']"
   ]
  },
  {
   "cell_type": "code",
   "execution_count": 9,
   "id": "a6383570",
   "metadata": {},
   "outputs": [
    {
     "data": {
      "image/png": "[encoded data removed]",
      "text/plain": [
       "<Figure size 640x480 with 1 Axes>"
      ]
     },
     "metadata": {},
     "output_type": "display_data"
    }
   ],
   "source": [
    "salary_df.groupby('Salary_Bins')['Location2'].count().plot.bar()\n",
    "plt.show()"
   ]
  },
  {
   "cell_type": "code",
   "execution_count": 10,
   "id": "17db2bba",
   "metadata": {},
   "outputs": [],
   "source": [
    "# Categorical target\n",
    "target_class = salary_df['Salary_Bins'].astype('category')"
   ]
  },
  {
   "cell_type": "code",
   "execution_count": 11,
   "id": "f353159e",
   "metadata": {},
   "outputs": [
    {
     "data": {
      "text/plain": [
       "0      5\n",
       "1      1\n",
       "2      0\n",
       "3      2\n",
       "4      3\n",
       "      ..\n",
       "958    3\n",
       "959    3\n",
       "960    3\n",
       "961    2\n",
       "962    2\n",
       "Name: Salary_Bins, Length: 963, dtype: category\n",
       "Categories (6, int64): [0, 1, 2, 3, 4, 5]"
      ]
     },
     "execution_count": 11,
     "metadata": {},
     "output_type": "execute_result"
    }
   ],
   "source": [
    "target_class"
   ]
  },
  {
   "cell_type": "code",
   "execution_count": 12,
   "id": "08c3cd76",
   "metadata": {},
   "outputs": [],
   "source": [
    "def clean_word(job_descriptions):\n",
    "    jd_data=[]\n",
    "    pattern = \"([a-zA-Z]+(?:'[a-z]+)?)\"\n",
    "    stopwords_list = stopwords.words('english')\n",
    "    stopwords_list += list(string.punctuation)\n",
    "    stopwords_list += ['0', '1', '2', '3', '4', '5', '6', '7', '8', '9']\n",
    "    stopwords_list += ['www','http','com','llc','covid','non','pm','am','eg','e','g','ie','i']\n",
    "    \n",
    "    for jd in job_descriptions:\n",
    "        jd_tokens_raw = nltk.regexp_tokenize(jd, pattern)\n",
    "        jd_tokens=[word.lower() for word in jd_tokens_raw]\n",
    "        jd_words_stopped = [word for word in jd_tokens if word not in stopwords_list]\n",
    "        jd_data.append(jd_words_stopped)\n",
    "\n",
    "    return pd.Series(jd_data) # Turn list of lists to series of lists to use in Word2Vec"
   ]
  },
  {
   "cell_type": "code",
   "execution_count": 13,
   "id": "4be8d406",
   "metadata": {},
   "outputs": [],
   "source": [
    "data = clean_word(salary_df['combined_text'])"
   ]
  },
  {
   "cell_type": "code",
   "execution_count": 14,
   "id": "39dfd6c6",
   "metadata": {},
   "outputs": [
    {
     "data": {
      "text/plain": [
       "0      [data, scientist, position, requires, top, sec...\n",
       "1      [data, science, data, analyst, cost, readiness...\n",
       "2      [data, science, intern, job, title, data, scie...\n",
       "3      [jr, data, scientist, ideal, candidate, degree...\n",
       "4      [business, data, quality, engineer, please, no...\n",
       "                             ...                        \n",
       "958    [data, engineering, ii, data, engineering, ii,...\n",
       "959    [ir, day, shift, tier, ir, day, shift, salary,...\n",
       "960    [security, engineer, security, engineer, salar...\n",
       "961    [fdp, analyst, position, title, fdp, analyst, ...\n",
       "962    [junior, ms, access, vba, developer, want, acc...\n",
       "Length: 963, dtype: object"
      ]
     },
     "execution_count": 14,
     "metadata": {},
     "output_type": "execute_result"
    }
   ],
   "source": [
    "data"
   ]
  },
  {
   "cell_type": "markdown",
   "id": "5d8ebd0d",
   "metadata": {},
   "source": [
    "## Model 4: Deep Learning Models with Word Embeddings"
   ]
  },
  {
   "cell_type": "markdown",
   "id": "2487a6cd",
   "metadata": {},
   "source": [
    "Each job description will be mapped into a real vector domain. It's a popular technique when working with text called 'word embedding'. Here, words are encoded as real-valued vectors in a high dimensional space; the similarity between words in terms of meaning translates to closeness in the vector space.\n",
    "\n",
    "Thankfully, Keras provides a convenient way to convert integer representations of word into a word embedding by 'Embedding' layer.\n",
    "\n",
    "Below each word is mapped into a 64-length real-valued vector (embedding size). There will also be a limit to the total number of words that we are interested in modeling to 1000 most frequent words, and the rest is zero. Then, the sequence length (number of words) in each review varies, thus each job description will be constrained to be 500 words, truncating long reviews and pad the shorter reviews with zero values."
   ]
  },
  {
   "cell_type": "code",
   "execution_count": 27,
   "id": "a973b7fe",
   "metadata": {},
   "outputs": [],
   "source": [
    "tokenizer = text.Tokenizer() \n",
    "tokenizer.num_words = 1000    # Limit the number of words to keep most common 1000 words\n",
    "tokenizer.fit_on_texts(list(salary_df['combined_text']))\n",
    "list_tokenized_jd = tokenizer.texts_to_sequences(salary_df['combined_text'])\n",
    "\n",
    "X_t = pad_sequences(list_tokenized_jd, maxlen=400, padding = 'post')"
   ]
  },
  {
   "cell_type": "code",
   "execution_count": 28,
   "id": "4c044a58",
   "metadata": {},
   "outputs": [
    {
     "data": {
      "text/plain": [
       "array([[947, 646,  13, ..., 227, 111, 893],\n",
       "       [  9,  69,   9, ...,   0,   0,   0],\n",
       "       [103, 338, 102, ...,   2, 305, 281],\n",
       "       ...,\n",
       "       [151,  97, 151, ...,   0,   0,   0],\n",
       "       [ 62,  47, 806, ...,   0,   0,   0],\n",
       "       [ 95, 953,  29, ..., 477, 100,  30]])"
      ]
     },
     "execution_count": 28,
     "metadata": {},
     "output_type": "execute_result"
    }
   ],
   "source": [
    "X_t"
   ]
  },
  {
   "cell_type": "code",
   "execution_count": 29,
   "id": "bee90ed7",
   "metadata": {},
   "outputs": [
    {
     "data": {
      "text/plain": [
       "(963, 400)"
      ]
     },
     "execution_count": 29,
     "metadata": {},
     "output_type": "execute_result"
    }
   ],
   "source": [
    "X_t.shape"
   ]
  },
  {
   "cell_type": "code",
   "execution_count": 30,
   "id": "5b10b950",
   "metadata": {},
   "outputs": [
    {
     "data": {
      "text/plain": [
       "963"
      ]
     },
     "execution_count": 30,
     "metadata": {},
     "output_type": "execute_result"
    }
   ],
   "source": [
    "len(list_tokenized_jd)"
   ]
  },
  {
   "cell_type": "code",
   "execution_count": 31,
   "id": "8190874d",
   "metadata": {},
   "outputs": [],
   "source": [
    "# Encoding to categorical classes\n",
    "y = to_categorical(target_class.values, num_classes=6, dtype=\"float32\")"
   ]
  },
  {
   "cell_type": "code",
   "execution_count": 33,
   "id": "19964598",
   "metadata": {},
   "outputs": [
    {
     "name": "stdout",
     "output_type": "stream",
     "text": [
      "(963, 6)\n"
     ]
    },
    {
     "data": {
      "text/plain": [
       "array([[0., 0., 0., 0., 0., 1.],\n",
       "       [0., 1., 0., 0., 0., 0.],\n",
       "       [1., 0., 0., 0., 0., 0.],\n",
       "       ...,\n",
       "       [0., 0., 0., 1., 0., 0.],\n",
       "       [0., 0., 1., 0., 0., 0.],\n",
       "       [0., 0., 1., 0., 0., 0.]], dtype=float32)"
      ]
     },
     "execution_count": 33,
     "metadata": {},
     "output_type": "execute_result"
    }
   ],
   "source": [
    "print(y.shape)\n",
    "y"
   ]
  },
  {
   "cell_type": "code",
   "execution_count": 36,
   "id": "35697c63",
   "metadata": {},
   "outputs": [],
   "source": [
    "# TRAIN TEST SPLIT\n",
    "X_train, X_test, y_train, y_test = train_test_split(X_t, y, test_size=0.2, random_state=4)"
   ]
  },
  {
   "cell_type": "code",
   "execution_count": 37,
   "id": "c46af5b6",
   "metadata": {},
   "outputs": [
    {
     "name": "stdout",
     "output_type": "stream",
     "text": [
      "(193, 400) (193, 6)\n"
     ]
    }
   ],
   "source": [
    "print(X_test.shape, y_test.shape)"
   ]
  },
  {
   "cell_type": "markdown",
   "id": "0bcd83da",
   "metadata": {},
   "source": [
    "### Create deep learning models"
   ]
  },
  {
   "cell_type": "code",
   "execution_count": 38,
   "id": "6c4493e1",
   "metadata": {},
   "outputs": [],
   "source": [
    "# ATTEMPT 1: Base model\n",
    "model = Sequential()\n",
    "embedding_size = 64  # each word onto a 64 length real valued vector\n",
    "model.add(Embedding(input_dim = 1000, output_dim = embedding_size, input_length = 400)) \n",
    "model.add(LSTM(100))\n",
    "# model.add(LSTM(64))\n",
    "# model.add(GlobalMaxPool1D())\n",
    "# model.add(Dropout(0.5))\n",
    "model.add(Dense(64, activation='relu'))\n",
    "model.add(Dropout(0.5))\n",
    "model.add(Dense(16, activation='relu'))\n",
    "# model.add(Flatten())   #add Flatten layer \n",
    "model.add(Dense(6, activation='softmax'))"
   ]
  },
  {
   "cell_type": "code",
   "execution_count": 39,
   "id": "e4f0cf5b",
   "metadata": {},
   "outputs": [
    {
     "name": "stdout",
     "output_type": "stream",
     "text": [
      "Model: \"sequential\"\n",
      "_________________________________________________________________\n",
      " Layer (type)                Output Shape              Param #   \n",
      "=================================================================\n",
      " embedding (Embedding)       (None, 400, 64)           64000     \n",
      "                                                                 \n",
      " lstm (LSTM)                 (None, 100)               66000     \n",
      "                                                                 \n",
      " dense (Dense)               (None, 64)                6464      \n",
      "                                                                 \n",
      " dropout (Dropout)           (None, 64)                0         \n",
      "                                                                 \n",
      " dense_1 (Dense)             (None, 16)                1040      \n",
      "                                                                 \n",
      " dense_2 (Dense)             (None, 6)                 102       \n",
      "                                                                 \n",
      "=================================================================\n",
      "Total params: 137,606\n",
      "Trainable params: 137,606\n",
      "Non-trainable params: 0\n",
      "_________________________________________________________________\n"
     ]
    }
   ],
   "source": [
    "model.summary()"
   ]
  },
  {
   "cell_type": "code",
   "execution_count": 40,
   "id": "bdd2958b",
   "metadata": {},
   "outputs": [],
   "source": [
    "model.compile(loss='categorical_crossentropy', optimizer='adam', metrics=['accuracy'])"
   ]
  },
  {
   "cell_type": "code",
   "execution_count": 41,
   "id": "520164ce",
   "metadata": {},
   "outputs": [
    {
     "name": "stdout",
     "output_type": "stream",
     "text": [
      "Epoch 1/20\n",
      "16/16 [==============================] - 9s 471ms/step - loss: 1.7883 - accuracy: 0.1831 - val_loss: 1.7808 - val_accuracy: 0.1969\n",
      "Epoch 2/20\n",
      "16/16 [==============================] - 8s 474ms/step - loss: 1.7822 - accuracy: 0.2169 - val_loss: 1.7728 - val_accuracy: 0.2021\n",
      "Epoch 3/20\n",
      "16/16 [==============================] - 8s 501ms/step - loss: 1.7692 - accuracy: 0.2312 - val_loss: 1.7577 - val_accuracy: 0.1969\n",
      "Epoch 4/20\n",
      "16/16 [==============================] - 9s 551ms/step - loss: 1.7605 - accuracy: 0.2221 - val_loss: 1.7549 - val_accuracy: 0.2021\n",
      "Epoch 5/20\n",
      "16/16 [==============================] - 9s 572ms/step - loss: 1.7354 - accuracy: 0.2597 - val_loss: 1.7505 - val_accuracy: 0.1813\n",
      "Epoch 6/20\n",
      "16/16 [==============================] - 9s 583ms/step - loss: 1.6989 - accuracy: 0.2805 - val_loss: 1.7505 - val_accuracy: 0.2124\n",
      "Epoch 7/20\n",
      "16/16 [==============================] - 9s 575ms/step - loss: 1.7014 - accuracy: 0.2792 - val_loss: 1.7622 - val_accuracy: 0.1969\n",
      "Epoch 8/20\n",
      "16/16 [==============================] - 9s 560ms/step - loss: 1.6646 - accuracy: 0.2909 - val_loss: 1.7588 - val_accuracy: 0.2124\n",
      "Epoch 9/20\n",
      "16/16 [==============================] - 8s 519ms/step - loss: 1.6805 - accuracy: 0.3000 - val_loss: 1.7589 - val_accuracy: 0.2073\n",
      "Epoch 10/20\n",
      "16/16 [==============================] - 8s 497ms/step - loss: 1.6986 - accuracy: 0.2831 - val_loss: 1.7584 - val_accuracy: 0.2176\n",
      "Epoch 11/20\n",
      "16/16 [==============================] - 8s 522ms/step - loss: 1.6877 - accuracy: 0.2688 - val_loss: 1.7521 - val_accuracy: 0.2021\n",
      "Epoch 12/20\n",
      "16/16 [==============================] - 8s 507ms/step - loss: 1.6637 - accuracy: 0.2844 - val_loss: 1.7449 - val_accuracy: 0.2332\n",
      "Epoch 13/20\n",
      "16/16 [==============================] - 8s 498ms/step - loss: 1.6466 - accuracy: 0.2961 - val_loss: 1.7448 - val_accuracy: 0.2435\n",
      "Epoch 14/20\n",
      "16/16 [==============================] - 8s 519ms/step - loss: 1.6214 - accuracy: 0.3013 - val_loss: 1.7588 - val_accuracy: 0.2487\n",
      "Epoch 15/20\n",
      "16/16 [==============================] - 9s 531ms/step - loss: 1.5901 - accuracy: 0.3273 - val_loss: 1.7715 - val_accuracy: 0.2228\n",
      "Epoch 16/20\n",
      "16/16 [==============================] - 8s 524ms/step - loss: 1.5662 - accuracy: 0.3286 - val_loss: 1.7862 - val_accuracy: 0.2332\n",
      "Epoch 17/20\n",
      "16/16 [==============================] - 9s 533ms/step - loss: 1.5555 - accuracy: 0.3221 - val_loss: 1.8075 - val_accuracy: 0.2435\n",
      "Epoch 18/20\n",
      "16/16 [==============================] - 9s 567ms/step - loss: 1.5275 - accuracy: 0.3584 - val_loss: 1.8031 - val_accuracy: 0.2487\n",
      "Epoch 19/20\n",
      "16/16 [==============================] - 9s 531ms/step - loss: 1.5211 - accuracy: 0.3468 - val_loss: 1.8112 - val_accuracy: 0.2383\n",
      "Epoch 20/20\n",
      "16/16 [==============================] - 9s 567ms/step - loss: 1.4841 - accuracy: 0.3662 - val_loss: 1.8796 - val_accuracy: 0.2435\n"
     ]
    }
   ],
   "source": [
    "history = model.fit(X_train, y_train, epochs=20, batch_size=50, validation_data=[X_test, y_test])"
   ]
  },
  {
   "cell_type": "code",
   "execution_count": 42,
   "id": "6768b2d4",
   "metadata": {},
   "outputs": [
    {
     "name": "stdout",
     "output_type": "stream",
     "text": [
      "Train: 0.378, Test: 0.244\n"
     ]
    },
    {
     "data": {
      "image/png": "[encoded data removed]",
      "text/plain": [
       "<Figure size 640x480 with 1 Axes>"
      ]
     },
     "metadata": {},
     "output_type": "display_data"
    }
   ],
   "source": [
    "# Evaluate the model\n",
    "_, train_acc = model.evaluate(X_train, y_train, verbose=0)\n",
    "_, test_acc = model.evaluate(X_test, y_test, verbose=0)\n",
    "print('Train: %.3f, Test: %.3f' % (train_acc, test_acc))\n",
    "# Plot training history\n",
    "plt.plot(history.history['loss'], label='train')\n",
    "plt.plot(history.history['val_loss'], label='test')\n",
    "plt.title('Training and test loss at each epoch', fontsize=14)\n",
    "plt.legend()\n",
    "plt.show()"
   ]
  },
  {
   "cell_type": "markdown",
   "id": "6ee37f42",
   "metadata": {},
   "source": [
    "The Neural Network model with simple LSTM layer didn't perform much better than previous SGD or RandomForest Classification models. Therefore, some hyperparameter tuning are required."
   ]
  },
  {
   "cell_type": "markdown",
   "id": "1a0bc36c",
   "metadata": {},
   "source": [
    "Options for tuning the Network Model:\n",
    "\n",
    "- Word2Vec / GloVe embedding:https://blog.keras.io/using-pre-trained-word-embeddings-in-a-keras-model.html\n",
    "- Optimizers\n",
    "- Learning Rate\n",
    "- Batch Size\n",
    "- Regularization (to prevent overfitting)\n",
    "- Dropout\n",
    "- Early Stopping"
   ]
  },
  {
   "cell_type": "markdown",
   "id": "20d340f5",
   "metadata": {},
   "source": [
    "### Hyperparameter tuning on a regular embedding layer"
   ]
  },
  {
   "cell_type": "code",
   "execution_count": 43,
   "id": "cc588678",
   "metadata": {},
   "outputs": [],
   "source": [
    "# TRAIN TEST SPLIT\n",
    "X_train, X_test, y_train, y_test = train_test_split(X_t, y, test_size=0.1, random_state=4)"
   ]
  },
  {
   "cell_type": "code",
   "execution_count": 44,
   "id": "7b0332f8",
   "metadata": {},
   "outputs": [],
   "source": [
    "# ATTEMPT 2: Add Convolutional Layer and MaxPooling Layer\n",
    "model = Sequential()\n",
    "embedding_size = 128  # Each word onto a 128 length real valued vector\n",
    "model.add(Embedding(input_dim = 1000, output_dim = embedding_size, input_length = 400))\n",
    "model.add(Conv1D(filters=32, kernel_size = 3, padding='same', activation='relu'))\n",
    "model.add(MaxPooling1D(pool_size=2))\n",
    "model.add(LSTM(64))\n",
    "# model.add(LSTM(64))\n",
    "# model.add(GlobalMaxPool1D())\n",
    "# model.add(Dropout(0.5))\n",
    "model.add(Dense(32, activation='relu'))\n",
    "model.add(Dropout(0.5))\n",
    "# model.add(Dense(32, activation='relu'))\n",
    "# model.add(Flatten())   #add Flatten layer \n",
    "model.add(Dense(6, activation='softmax'))"
   ]
  },
  {
   "cell_type": "code",
   "execution_count": 45,
   "id": "8355469d",
   "metadata": {},
   "outputs": [],
   "source": [
    "model.compile(loss='categorical_crossentropy', optimizer='adam', metrics=['accuracy'])"
   ]
  },
  {
   "cell_type": "code",
   "execution_count": 46,
   "id": "ea82fa3d",
   "metadata": {},
   "outputs": [
    {
     "name": "stdout",
     "output_type": "stream",
     "text": [
      "Model: \"sequential_1\"\n",
      "_________________________________________________________________\n",
      " Layer (type)                Output Shape              Param #   \n",
      "=================================================================\n",
      " embedding_1 (Embedding)     (None, 400, 128)          128000    \n",
      "                                                                 \n",
      " conv1d (Conv1D)             (None, 400, 32)           12320     \n",
      "                                                                 \n",
      " max_pooling1d (MaxPooling1D  (None, 200, 32)          0         \n",
      " )                                                               \n",
      "                                                                 \n",
      " lstm_1 (LSTM)               (None, 64)                24832     \n",
      "                                                                 \n",
      " dense_3 (Dense)             (None, 32)                2080      \n",
      "                                                                 \n",
      " dropout_1 (Dropout)         (None, 32)                0         \n",
      "                                                                 \n",
      " dense_4 (Dense)             (None, 6)                 198       \n",
      "                                                                 \n",
      "=================================================================\n",
      "Total params: 167,430\n",
      "Trainable params: 167,430\n",
      "Non-trainable params: 0\n",
      "_________________________________________________________________\n"
     ]
    }
   ],
   "source": [
    "model.summary()"
   ]
  },
  {
   "cell_type": "code",
   "execution_count": 47,
   "id": "ed5eaed2",
   "metadata": {},
   "outputs": [
    {
     "name": "stdout",
     "output_type": "stream",
     "text": [
      "Epoch 1/20\n",
      "28/28 [==============================] - 4s 95ms/step - loss: 1.7869 - accuracy: 0.1848 - val_loss: 1.7857 - val_accuracy: 0.2474\n",
      "Epoch 2/20\n",
      "28/28 [==============================] - 2s 77ms/step - loss: 1.7747 - accuracy: 0.2275 - val_loss: 1.7779 - val_accuracy: 0.2474\n",
      "Epoch 3/20\n",
      "28/28 [==============================] - 2s 74ms/step - loss: 1.7636 - accuracy: 0.2252 - val_loss: 1.7572 - val_accuracy: 0.2371\n",
      "Epoch 4/20\n",
      "28/28 [==============================] - 2s 76ms/step - loss: 1.7447 - accuracy: 0.2344 - val_loss: 1.7411 - val_accuracy: 0.2577\n",
      "Epoch 5/20\n",
      "28/28 [==============================] - 2s 73ms/step - loss: 1.7183 - accuracy: 0.2552 - val_loss: 1.7001 - val_accuracy: 0.2887\n",
      "Epoch 6/20\n",
      "28/28 [==============================] - 2s 73ms/step - loss: 1.6636 - accuracy: 0.2783 - val_loss: 1.6561 - val_accuracy: 0.2887\n",
      "Epoch 7/20\n",
      "28/28 [==============================] - 2s 77ms/step - loss: 1.6053 - accuracy: 0.2910 - val_loss: 1.7037 - val_accuracy: 0.3093\n",
      "Epoch 8/20\n",
      "28/28 [==============================] - 2s 73ms/step - loss: 1.5537 - accuracy: 0.3291 - val_loss: 1.7340 - val_accuracy: 0.2784\n",
      "Epoch 9/20\n",
      "28/28 [==============================] - 2s 74ms/step - loss: 1.5213 - accuracy: 0.3522 - val_loss: 1.7499 - val_accuracy: 0.2990\n",
      "Epoch 10/20\n",
      "28/28 [==============================] - 2s 76ms/step - loss: 1.4938 - accuracy: 0.3614 - val_loss: 1.7260 - val_accuracy: 0.2577\n",
      "Epoch 11/20\n",
      "28/28 [==============================] - 2s 78ms/step - loss: 1.4356 - accuracy: 0.3961 - val_loss: 1.7946 - val_accuracy: 0.2990\n",
      "Epoch 12/20\n",
      "28/28 [==============================] - 2s 76ms/step - loss: 1.3994 - accuracy: 0.4053 - val_loss: 1.7709 - val_accuracy: 0.3093\n",
      "Epoch 13/20\n",
      "28/28 [==============================] - 2s 75ms/step - loss: 1.3730 - accuracy: 0.4145 - val_loss: 1.8823 - val_accuracy: 0.2784\n",
      "Epoch 14/20\n",
      "28/28 [==============================] - 2s 76ms/step - loss: 1.3610 - accuracy: 0.4203 - val_loss: 1.8806 - val_accuracy: 0.2990\n",
      "Epoch 15/20\n",
      "28/28 [==============================] - 2s 78ms/step - loss: 1.3290 - accuracy: 0.4469 - val_loss: 1.9070 - val_accuracy: 0.3196\n",
      "Epoch 16/20\n",
      "28/28 [==============================] - 2s 75ms/step - loss: 1.3143 - accuracy: 0.4353 - val_loss: 2.0198 - val_accuracy: 0.2680\n",
      "Epoch 17/20\n",
      "28/28 [==============================] - 2s 76ms/step - loss: 1.3444 - accuracy: 0.4353 - val_loss: 2.0158 - val_accuracy: 0.2887\n",
      "Epoch 18/20\n",
      "28/28 [==============================] - 2s 76ms/step - loss: 1.2733 - accuracy: 0.4619 - val_loss: 2.0444 - val_accuracy: 0.2887\n",
      "Epoch 19/20\n",
      "28/28 [==============================] - 2s 75ms/step - loss: 1.2546 - accuracy: 0.4677 - val_loss: 2.1043 - val_accuracy: 0.3402\n",
      "Epoch 20/20\n",
      "28/28 [==============================] - 2s 77ms/step - loss: 1.2523 - accuracy: 0.4607 - val_loss: 2.1059 - val_accuracy: 0.3093\n"
     ]
    }
   ],
   "source": [
    "history = model.fit(X_train, y_train, epochs=20, batch_size=32, validation_data=[X_test, y_test])"
   ]
  },
  {
   "cell_type": "code",
   "execution_count": 48,
   "id": "0a4d8726",
   "metadata": {},
   "outputs": [
    {
     "name": "stdout",
     "output_type": "stream",
     "text": [
      "Train Accuracy: 0.471, Test Accuracy: 0.309\n"
     ]
    },
    {
     "data": {
      "image/png": "[encoded data removed]",
      "text/plain": [
       "<Figure size 640x480 with 1 Axes>"
      ]
     },
     "metadata": {},
     "output_type": "display_data"
    }
   ],
   "source": [
    "# Evaluate the model\n",
    "_, train_acc = model.evaluate(X_train, y_train, verbose=0)\n",
    "_, test_acc = model.evaluate(X_test, y_test, verbose=0)\n",
    "print('Train Accuracy: %.3f, Test Accuracy: %.3f' % (train_acc, test_acc))\n",
    "plt.plot(history.history['loss'], label='train')\n",
    "plt.plot(history.history['val_loss'], label='test')\n",
    "plt.title(\"Train vs Test Loss at each epoch\")\n",
    "plt.legend()\n",
    "plt.show()"
   ]
  },
  {
   "cell_type": "markdown",
   "id": "5e6e5c43",
   "metadata": {},
   "source": [
    "There is a slight increase for both train and test accuracies. In addition, train loss was decreased, but on the other hand, it was increased for test."
   ]
  },
  {
   "cell_type": "code",
   "execution_count": 53,
   "id": "632f1cb6",
   "metadata": {},
   "outputs": [],
   "source": [
    "# ATTEMPT 3: Add Early Stopping layer, L1 and L2 regularization\n",
    "model = Sequential()\n",
    "embedding_size = 64  \n",
    "model.add(Embedding(input_dim = 1000, output_dim = embedding_size, input_length = 400)) \n",
    "model.add(Conv1D(filters=32, kernel_size = 3, padding='same', activation='relu'))\n",
    "model.add(MaxPooling1D(pool_size=2))\n",
    "model.add(LSTM(128, return_sequences=True))\n",
    "model.add(Dense(100, activation='relu'))\n",
    "model.add(Dropout(0.5))\n",
    "model.add(Flatten())\n",
    "model.add(Dense(6, activation='softmax'))\n",
    "model.compile(loss='categorical_crossentropy', optimizer='Adam', metrics=['accuracy'])"
   ]
  },
  {
   "cell_type": "code",
   "execution_count": 54,
   "id": "21ee7d4f",
   "metadata": {},
   "outputs": [
    {
     "name": "stdout",
     "output_type": "stream",
     "text": [
      "Model: \"sequential_4\"\n",
      "_________________________________________________________________\n",
      " Layer (type)                Output Shape              Param #   \n",
      "=================================================================\n",
      " embedding_4 (Embedding)     (None, 400, 64)           64000     \n",
      "                                                                 \n",
      " conv1d_3 (Conv1D)           (None, 400, 32)           6176      \n",
      "                                                                 \n",
      " max_pooling1d_3 (MaxPooling  (None, 200, 32)          0         \n",
      " 1D)                                                             \n",
      "                                                                 \n",
      " lstm_4 (LSTM)               (None, 200, 128)          82432     \n",
      "                                                                 \n",
      " dense_9 (Dense)             (None, 200, 100)          12900     \n",
      "                                                                 \n",
      " dropout_4 (Dropout)         (None, 200, 100)          0         \n",
      "                                                                 \n",
      " flatten_2 (Flatten)         (None, 20000)             0         \n",
      "                                                                 \n",
      " dense_10 (Dense)            (None, 6)                 120006    \n",
      "                                                                 \n",
      "=================================================================\n",
      "Total params: 285,514\n",
      "Trainable params: 285,514\n",
      "Non-trainable params: 0\n",
      "_________________________________________________________________\n"
     ]
    }
   ],
   "source": [
    "model.summary()"
   ]
  },
  {
   "cell_type": "code",
   "execution_count": 55,
   "id": "7da4a562",
   "metadata": {},
   "outputs": [
    {
     "name": "stdout",
     "output_type": "stream",
     "text": [
      "Epoch 1/30\n",
      "28/28 [==============================] - 5s 135ms/step - loss: 1.7771 - accuracy: 0.2021 - val_loss: 1.7669 - val_accuracy: 0.2474\n",
      "Epoch 2/30\n",
      "28/28 [==============================] - 3s 118ms/step - loss: 1.7540 - accuracy: 0.2448 - val_loss: 1.7137 - val_accuracy: 0.2990\n",
      "Epoch 3/30\n",
      "28/28 [==============================] - 3s 116ms/step - loss: 1.5798 - accuracy: 0.3360 - val_loss: 1.9380 - val_accuracy: 0.2887\n",
      "Epoch 4/30\n",
      "28/28 [==============================] - 3s 123ms/step - loss: 1.3847 - accuracy: 0.4203 - val_loss: 1.7933 - val_accuracy: 0.4330\n",
      "Epoch 5/30\n",
      "28/28 [==============================] - 4s 127ms/step - loss: 1.1469 - accuracy: 0.5092 - val_loss: 1.5438 - val_accuracy: 0.4021\n",
      "Epoch 6/30\n",
      "28/28 [==============================] - 3s 121ms/step - loss: 0.8642 - accuracy: 0.6755 - val_loss: 1.5799 - val_accuracy: 0.4948\n",
      "Epoch 7/30\n",
      "28/28 [==============================] - 3s 121ms/step - loss: 0.6638 - accuracy: 0.7460 - val_loss: 1.7427 - val_accuracy: 0.4639\n",
      "Epoch 8/30\n",
      "28/28 [==============================] - 3s 122ms/step - loss: 0.4281 - accuracy: 0.8568 - val_loss: 2.0365 - val_accuracy: 0.4433\n",
      "Epoch 9/30\n",
      "28/28 [==============================] - 3s 123ms/step - loss: 0.2758 - accuracy: 0.9053 - val_loss: 3.2624 - val_accuracy: 0.4948\n",
      "Epoch 10/30\n",
      "28/28 [==============================] - 3s 123ms/step - loss: 0.1704 - accuracy: 0.9503 - val_loss: 3.0607 - val_accuracy: 0.4536\n",
      "Epoch 10: early stopping\n"
     ]
    }
   ],
   "source": [
    "es = EarlyStopping(monitor='val_loss', patience=5, mode='min', verbose=1)\n",
    "history = model.fit(X_train, y_train, epochs=30, batch_size=32, validation_data=[X_test, y_test], callbacks=[es])"
   ]
  },
  {
   "cell_type": "code",
   "execution_count": 56,
   "id": "bd296385",
   "metadata": {},
   "outputs": [
    {
     "name": "stdout",
     "output_type": "stream",
     "text": [
      "Train Accuracy: 0.954, Test Accuracy: 0.454\n"
     ]
    },
    {
     "data": {
      "image/png": "[encoded data removed]",
      "text/plain": [
       "<Figure size 640x480 with 1 Axes>"
      ]
     },
     "metadata": {},
     "output_type": "display_data"
    }
   ],
   "source": [
    "# Evaluate the model\n",
    "_, train_acc = model.evaluate(X_train, y_train, verbose=0)\n",
    "_, test_acc = model.evaluate(X_test, y_test, verbose=0)\n",
    "print('Train Accuracy: %.3f, Test Accuracy: %.3f' % (train_acc, test_acc))\n",
    "# Plot training history\n",
    "plt.plot(history.history['loss'], label='train')\n",
    "plt.plot(history.history['val_loss'], label='test')\n",
    "plt.title(\"Train vs Test Loss at each epoch\")\n",
    "plt.legend()\n",
    "plt.show()"
   ]
  },
  {
   "cell_type": "markdown",
   "id": "e5d83469",
   "metadata": {},
   "source": [
    "There is a significant increase to train accuracy (gets close to 100%, might be overfitting) and also small improvement for test accuracy.\n",
    "\n",
    "About loss, there is a big decrease for train, but unlike the previous two models, a large increase for test."
   ]
  },
  {
   "cell_type": "code",
   "execution_count": null,
   "id": "68eb7202",
   "metadata": {},
   "outputs": [],
   "source": []
  }
 ],
 "metadata": {
  "kernelspec": {
   "display_name": "Python 3 (ipykernel)",
   "language": "python",
   "name": "python3"
  },
  "language_info": {
   "codemirror_mode": {
    "name": "ipython",
    "version": 3
   },
   "file_extension": ".py",
   "mimetype": "text/x-python",
   "name": "python",
   "nbconvert_exporter": "python",
   "pygments_lexer": "ipython3",
   "version": "3.10.8"
  }
 },
 "nbformat": 4,
 "nbformat_minor": 5
}
