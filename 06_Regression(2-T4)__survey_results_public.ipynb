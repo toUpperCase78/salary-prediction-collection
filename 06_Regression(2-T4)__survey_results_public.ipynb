{
 "cells": [
  {
   "cell_type": "markdown",
   "id": "4e2ec67f",
   "metadata": {},
   "source": [
    "# 06. jhanvi831/Software-Engineer-Salary-Prediction\n",
    "\n",
    "## Predictions with ML Regression Models | Series 2 (T4) - survey_results_public.csv"
   ]
  },
  {
   "cell_type": "code",
   "execution_count": 1,
   "id": "17d11bfe",
   "metadata": {},
   "outputs": [],
   "source": [
    "import numpy as np\n",
    "import pandas as pd \n",
    "import matplotlib.pyplot as plt \n",
    "import seaborn as sns\n",
    "import warnings\n",
    "import time\n",
    "warnings.filterwarnings('ignore')\n",
    "from sklearn.linear_model import LinearRegression, Lasso, Ridge, QuantileRegressor\n",
    "from sklearn.tree import DecisionTreeRegressor\n",
    "from sklearn.ensemble import RandomForestRegressor, GradientBoostingRegressor\n",
    "from sklearn.neighbors import KNeighborsRegressor\n",
    "from sklearn.svm import SVR\n",
    "from sklearn.neural_network import MLPRegressor\n",
    "import xgboost\n",
    "from sklearn.model_selection import train_test_split, cross_val_score, cross_validate\n",
    "from sklearn.preprocessing import OneHotEncoder, LabelEncoder, PolynomialFeatures, StandardScaler, MinMaxScaler\n",
    "from sklearn.metrics import mean_squared_error, mean_absolute_error, r2_score, get_scorer_names\n",
    "df = pd.read_csv('06_survey_results_public.csv')"
   ]
  },
  {
   "cell_type": "code",
   "execution_count": 2,
   "id": "958407cc",
   "metadata": {},
   "outputs": [
    {
     "data": {
      "text/html": [
       "<div>\n",
       "<style scoped>\n",
       "    .dataframe tbody tr th:only-of-type {\n",
       "        vertical-align: middle;\n",
       "    }\n",
       "\n",
       "    .dataframe tbody tr th {\n",
       "        vertical-align: top;\n",
       "    }\n",
       "\n",
       "    .dataframe thead th {\n",
       "        text-align: right;\n",
       "    }\n",
       "</style>\n",
       "<table border=\"1\" class=\"dataframe\">\n",
       "  <thead>\n",
       "    <tr style=\"text-align: right;\">\n",
       "      <th></th>\n",
       "      <th>ResponseId</th>\n",
       "      <th>MainBranch</th>\n",
       "      <th>Employment</th>\n",
       "      <th>Country</th>\n",
       "      <th>US_State</th>\n",
       "      <th>UK_Country</th>\n",
       "      <th>EdLevel</th>\n",
       "      <th>Age1stCode</th>\n",
       "      <th>LearnCode</th>\n",
       "      <th>YearsCode</th>\n",
       "      <th>...</th>\n",
       "      <th>Age</th>\n",
       "      <th>Gender</th>\n",
       "      <th>Trans</th>\n",
       "      <th>Sexuality</th>\n",
       "      <th>Ethnicity</th>\n",
       "      <th>Accessibility</th>\n",
       "      <th>MentalHealth</th>\n",
       "      <th>SurveyLength</th>\n",
       "      <th>SurveyEase</th>\n",
       "      <th>ConvertedCompYearly</th>\n",
       "    </tr>\n",
       "  </thead>\n",
       "  <tbody>\n",
       "    <tr>\n",
       "      <th>0</th>\n",
       "      <td>1</td>\n",
       "      <td>I am a developer by profession</td>\n",
       "      <td>Independent contractor, freelancer, or self-em...</td>\n",
       "      <td>Slovakia</td>\n",
       "      <td>NaN</td>\n",
       "      <td>NaN</td>\n",
       "      <td>Secondary school (e.g. American high school, G...</td>\n",
       "      <td>18 - 24 years</td>\n",
       "      <td>Coding Bootcamp;Other online resources (ex: vi...</td>\n",
       "      <td>NaN</td>\n",
       "      <td>...</td>\n",
       "      <td>25-34 years old</td>\n",
       "      <td>Man</td>\n",
       "      <td>No</td>\n",
       "      <td>Straight / Heterosexual</td>\n",
       "      <td>White or of European descent</td>\n",
       "      <td>None of the above</td>\n",
       "      <td>None of the above</td>\n",
       "      <td>Appropriate in length</td>\n",
       "      <td>Easy</td>\n",
       "      <td>62268.0</td>\n",
       "    </tr>\n",
       "    <tr>\n",
       "      <th>1</th>\n",
       "      <td>2</td>\n",
       "      <td>I am a student who is learning to code</td>\n",
       "      <td>Student, full-time</td>\n",
       "      <td>Netherlands</td>\n",
       "      <td>NaN</td>\n",
       "      <td>NaN</td>\n",
       "      <td>Bachelor’s degree (B.A., B.S., B.Eng., etc.)</td>\n",
       "      <td>11 - 17 years</td>\n",
       "      <td>Other online resources (ex: videos, blogs, etc...</td>\n",
       "      <td>7</td>\n",
       "      <td>...</td>\n",
       "      <td>18-24 years old</td>\n",
       "      <td>Man</td>\n",
       "      <td>No</td>\n",
       "      <td>Straight / Heterosexual</td>\n",
       "      <td>White or of European descent</td>\n",
       "      <td>None of the above</td>\n",
       "      <td>None of the above</td>\n",
       "      <td>Appropriate in length</td>\n",
       "      <td>Easy</td>\n",
       "      <td>NaN</td>\n",
       "    </tr>\n",
       "    <tr>\n",
       "      <th>2</th>\n",
       "      <td>3</td>\n",
       "      <td>I am not primarily a developer, but I write co...</td>\n",
       "      <td>Student, full-time</td>\n",
       "      <td>Russian Federation</td>\n",
       "      <td>NaN</td>\n",
       "      <td>NaN</td>\n",
       "      <td>Bachelor’s degree (B.A., B.S., B.Eng., etc.)</td>\n",
       "      <td>11 - 17 years</td>\n",
       "      <td>Other online resources (ex: videos, blogs, etc...</td>\n",
       "      <td>NaN</td>\n",
       "      <td>...</td>\n",
       "      <td>18-24 years old</td>\n",
       "      <td>Man</td>\n",
       "      <td>No</td>\n",
       "      <td>Prefer not to say</td>\n",
       "      <td>Prefer not to say</td>\n",
       "      <td>None of the above</td>\n",
       "      <td>None of the above</td>\n",
       "      <td>Appropriate in length</td>\n",
       "      <td>Easy</td>\n",
       "      <td>NaN</td>\n",
       "    </tr>\n",
       "    <tr>\n",
       "      <th>3</th>\n",
       "      <td>4</td>\n",
       "      <td>I am a developer by profession</td>\n",
       "      <td>Employed full-time</td>\n",
       "      <td>Austria</td>\n",
       "      <td>NaN</td>\n",
       "      <td>NaN</td>\n",
       "      <td>Master’s degree (M.A., M.S., M.Eng., MBA, etc.)</td>\n",
       "      <td>11 - 17 years</td>\n",
       "      <td>NaN</td>\n",
       "      <td>NaN</td>\n",
       "      <td>...</td>\n",
       "      <td>35-44 years old</td>\n",
       "      <td>Man</td>\n",
       "      <td>No</td>\n",
       "      <td>Straight / Heterosexual</td>\n",
       "      <td>White or of European descent</td>\n",
       "      <td>I am deaf / hard of hearing</td>\n",
       "      <td>NaN</td>\n",
       "      <td>Appropriate in length</td>\n",
       "      <td>Neither easy nor difficult</td>\n",
       "      <td>NaN</td>\n",
       "    </tr>\n",
       "    <tr>\n",
       "      <th>4</th>\n",
       "      <td>5</td>\n",
       "      <td>I am a developer by profession</td>\n",
       "      <td>Independent contractor, freelancer, or self-em...</td>\n",
       "      <td>United Kingdom of Great Britain and Northern I...</td>\n",
       "      <td>NaN</td>\n",
       "      <td>England</td>\n",
       "      <td>Master’s degree (M.A., M.S., M.Eng., MBA, etc.)</td>\n",
       "      <td>5 - 10 years</td>\n",
       "      <td>Friend or family member</td>\n",
       "      <td>17</td>\n",
       "      <td>...</td>\n",
       "      <td>25-34 years old</td>\n",
       "      <td>Man</td>\n",
       "      <td>No</td>\n",
       "      <td>NaN</td>\n",
       "      <td>White or of European descent</td>\n",
       "      <td>None of the above</td>\n",
       "      <td>NaN</td>\n",
       "      <td>Appropriate in length</td>\n",
       "      <td>Easy</td>\n",
       "      <td>NaN</td>\n",
       "    </tr>\n",
       "  </tbody>\n",
       "</table>\n",
       "<p>5 rows × 48 columns</p>\n",
       "</div>"
      ],
      "text/plain": [
       "   ResponseId                                         MainBranch  \\\n",
       "0           1                     I am a developer by profession   \n",
       "1           2             I am a student who is learning to code   \n",
       "2           3  I am not primarily a developer, but I write co...   \n",
       "3           4                     I am a developer by profession   \n",
       "4           5                     I am a developer by profession   \n",
       "\n",
       "                                          Employment  \\\n",
       "0  Independent contractor, freelancer, or self-em...   \n",
       "1                                 Student, full-time   \n",
       "2                                 Student, full-time   \n",
       "3                                 Employed full-time   \n",
       "4  Independent contractor, freelancer, or self-em...   \n",
       "\n",
       "                                             Country US_State UK_Country  \\\n",
       "0                                           Slovakia      NaN        NaN   \n",
       "1                                        Netherlands      NaN        NaN   \n",
       "2                                 Russian Federation      NaN        NaN   \n",
       "3                                            Austria      NaN        NaN   \n",
       "4  United Kingdom of Great Britain and Northern I...      NaN    England   \n",
       "\n",
       "                                             EdLevel     Age1stCode  \\\n",
       "0  Secondary school (e.g. American high school, G...  18 - 24 years   \n",
       "1       Bachelor’s degree (B.A., B.S., B.Eng., etc.)  11 - 17 years   \n",
       "2       Bachelor’s degree (B.A., B.S., B.Eng., etc.)  11 - 17 years   \n",
       "3    Master’s degree (M.A., M.S., M.Eng., MBA, etc.)  11 - 17 years   \n",
       "4    Master’s degree (M.A., M.S., M.Eng., MBA, etc.)   5 - 10 years   \n",
       "\n",
       "                                           LearnCode YearsCode  ...  \\\n",
       "0  Coding Bootcamp;Other online resources (ex: vi...       NaN  ...   \n",
       "1  Other online resources (ex: videos, blogs, etc...         7  ...   \n",
       "2  Other online resources (ex: videos, blogs, etc...       NaN  ...   \n",
       "3                                                NaN       NaN  ...   \n",
       "4                            Friend or family member        17  ...   \n",
       "\n",
       "               Age Gender Trans                Sexuality  \\\n",
       "0  25-34 years old    Man    No  Straight / Heterosexual   \n",
       "1  18-24 years old    Man    No  Straight / Heterosexual   \n",
       "2  18-24 years old    Man    No        Prefer not to say   \n",
       "3  35-44 years old    Man    No  Straight / Heterosexual   \n",
       "4  25-34 years old    Man    No                      NaN   \n",
       "\n",
       "                      Ethnicity                Accessibility  \\\n",
       "0  White or of European descent            None of the above   \n",
       "1  White or of European descent            None of the above   \n",
       "2             Prefer not to say            None of the above   \n",
       "3  White or of European descent  I am deaf / hard of hearing   \n",
       "4  White or of European descent            None of the above   \n",
       "\n",
       "        MentalHealth           SurveyLength                  SurveyEase  \\\n",
       "0  None of the above  Appropriate in length                        Easy   \n",
       "1  None of the above  Appropriate in length                        Easy   \n",
       "2  None of the above  Appropriate in length                        Easy   \n",
       "3                NaN  Appropriate in length  Neither easy nor difficult   \n",
       "4                NaN  Appropriate in length                        Easy   \n",
       "\n",
       "  ConvertedCompYearly  \n",
       "0             62268.0  \n",
       "1                 NaN  \n",
       "2                 NaN  \n",
       "3                 NaN  \n",
       "4                 NaN  \n",
       "\n",
       "[5 rows x 48 columns]"
      ]
     },
     "execution_count": 2,
     "metadata": {},
     "output_type": "execute_result"
    }
   ],
   "source": [
    "# First 5 rows of the dataset\n",
    "df.head()"
   ]
  },
  {
   "cell_type": "code",
   "execution_count": 3,
   "id": "953f4e49",
   "metadata": {},
   "outputs": [
    {
     "data": {
      "text/html": [
       "<div>\n",
       "<style scoped>\n",
       "    .dataframe tbody tr th:only-of-type {\n",
       "        vertical-align: middle;\n",
       "    }\n",
       "\n",
       "    .dataframe tbody tr th {\n",
       "        vertical-align: top;\n",
       "    }\n",
       "\n",
       "    .dataframe thead th {\n",
       "        text-align: right;\n",
       "    }\n",
       "</style>\n",
       "<table border=\"1\" class=\"dataframe\">\n",
       "  <thead>\n",
       "    <tr style=\"text-align: right;\">\n",
       "      <th></th>\n",
       "      <th>ResponseId</th>\n",
       "      <th>MainBranch</th>\n",
       "      <th>Employment</th>\n",
       "      <th>Country</th>\n",
       "      <th>US_State</th>\n",
       "      <th>UK_Country</th>\n",
       "      <th>EdLevel</th>\n",
       "      <th>Age1stCode</th>\n",
       "      <th>LearnCode</th>\n",
       "      <th>YearsCode</th>\n",
       "      <th>...</th>\n",
       "      <th>Age</th>\n",
       "      <th>Gender</th>\n",
       "      <th>Trans</th>\n",
       "      <th>Sexuality</th>\n",
       "      <th>Ethnicity</th>\n",
       "      <th>Accessibility</th>\n",
       "      <th>MentalHealth</th>\n",
       "      <th>SurveyLength</th>\n",
       "      <th>SurveyEase</th>\n",
       "      <th>ConvertedCompYearly</th>\n",
       "    </tr>\n",
       "  </thead>\n",
       "  <tbody>\n",
       "    <tr>\n",
       "      <th>83434</th>\n",
       "      <td>83435</td>\n",
       "      <td>I am a developer by profession</td>\n",
       "      <td>Employed full-time</td>\n",
       "      <td>United States of America</td>\n",
       "      <td>Texas</td>\n",
       "      <td>NaN</td>\n",
       "      <td>Bachelor’s degree (B.A., B.S., B.Eng., etc.)</td>\n",
       "      <td>11 - 17 years</td>\n",
       "      <td>Other online resources (ex: videos, blogs, etc...</td>\n",
       "      <td>6</td>\n",
       "      <td>...</td>\n",
       "      <td>25-34 years old</td>\n",
       "      <td>Man</td>\n",
       "      <td>No</td>\n",
       "      <td>Straight / Heterosexual</td>\n",
       "      <td>White or of European descent</td>\n",
       "      <td>None of the above</td>\n",
       "      <td>I have a concentration and/or memory disorder ...</td>\n",
       "      <td>Appropriate in length</td>\n",
       "      <td>Easy</td>\n",
       "      <td>160500.0</td>\n",
       "    </tr>\n",
       "    <tr>\n",
       "      <th>83435</th>\n",
       "      <td>83436</td>\n",
       "      <td>I am a developer by profession</td>\n",
       "      <td>Independent contractor, freelancer, or self-em...</td>\n",
       "      <td>Benin</td>\n",
       "      <td>NaN</td>\n",
       "      <td>NaN</td>\n",
       "      <td>Bachelor’s degree (B.A., B.S., B.Eng., etc.)</td>\n",
       "      <td>11 - 17 years</td>\n",
       "      <td>Other online resources (ex: videos, blogs, etc...</td>\n",
       "      <td>4</td>\n",
       "      <td>...</td>\n",
       "      <td>18-24 years old</td>\n",
       "      <td>Man</td>\n",
       "      <td>No</td>\n",
       "      <td>Straight / Heterosexual</td>\n",
       "      <td>Black or of African descent</td>\n",
       "      <td>None of the above</td>\n",
       "      <td>None of the above</td>\n",
       "      <td>Appropriate in length</td>\n",
       "      <td>Easy</td>\n",
       "      <td>3960.0</td>\n",
       "    </tr>\n",
       "    <tr>\n",
       "      <th>83436</th>\n",
       "      <td>83437</td>\n",
       "      <td>I am a developer by profession</td>\n",
       "      <td>Employed full-time</td>\n",
       "      <td>United States of America</td>\n",
       "      <td>New Jersey</td>\n",
       "      <td>NaN</td>\n",
       "      <td>Secondary school (e.g. American high school, G...</td>\n",
       "      <td>11 - 17 years</td>\n",
       "      <td>School</td>\n",
       "      <td>10</td>\n",
       "      <td>...</td>\n",
       "      <td>25-34 years old</td>\n",
       "      <td>Man</td>\n",
       "      <td>No</td>\n",
       "      <td>NaN</td>\n",
       "      <td>White or of European descent</td>\n",
       "      <td>None of the above</td>\n",
       "      <td>None of the above</td>\n",
       "      <td>Appropriate in length</td>\n",
       "      <td>Neither easy nor difficult</td>\n",
       "      <td>90000.0</td>\n",
       "    </tr>\n",
       "    <tr>\n",
       "      <th>83437</th>\n",
       "      <td>83438</td>\n",
       "      <td>I am a developer by profession</td>\n",
       "      <td>Employed full-time</td>\n",
       "      <td>Canada</td>\n",
       "      <td>NaN</td>\n",
       "      <td>NaN</td>\n",
       "      <td>Bachelor’s degree (B.A., B.S., B.Eng., etc.)</td>\n",
       "      <td>11 - 17 years</td>\n",
       "      <td>Online Courses or Certification;Books / Physic...</td>\n",
       "      <td>5</td>\n",
       "      <td>...</td>\n",
       "      <td>25-34 years old</td>\n",
       "      <td>Man</td>\n",
       "      <td>No</td>\n",
       "      <td>Straight / Heterosexual</td>\n",
       "      <td>White or of European descent</td>\n",
       "      <td>None of the above</td>\n",
       "      <td>I have a mood or emotional disorder (e.g. depr...</td>\n",
       "      <td>Appropriate in length</td>\n",
       "      <td>Neither easy nor difficult</td>\n",
       "      <td>816816.0</td>\n",
       "    </tr>\n",
       "    <tr>\n",
       "      <th>83438</th>\n",
       "      <td>83439</td>\n",
       "      <td>I am a developer by profession</td>\n",
       "      <td>Employed full-time</td>\n",
       "      <td>Brazil</td>\n",
       "      <td>NaN</td>\n",
       "      <td>NaN</td>\n",
       "      <td>Professional degree (JD, MD, etc.)</td>\n",
       "      <td>11 - 17 years</td>\n",
       "      <td>School</td>\n",
       "      <td>14</td>\n",
       "      <td>...</td>\n",
       "      <td>18-24 years old</td>\n",
       "      <td>Man</td>\n",
       "      <td>No</td>\n",
       "      <td>Straight / Heterosexual</td>\n",
       "      <td>Hispanic or Latino/a/x</td>\n",
       "      <td>None of the above</td>\n",
       "      <td>None of the above</td>\n",
       "      <td>Appropriate in length</td>\n",
       "      <td>Easy</td>\n",
       "      <td>21168.0</td>\n",
       "    </tr>\n",
       "  </tbody>\n",
       "</table>\n",
       "<p>5 rows × 48 columns</p>\n",
       "</div>"
      ],
      "text/plain": [
       "       ResponseId                      MainBranch  \\\n",
       "83434       83435  I am a developer by profession   \n",
       "83435       83436  I am a developer by profession   \n",
       "83436       83437  I am a developer by profession   \n",
       "83437       83438  I am a developer by profession   \n",
       "83438       83439  I am a developer by profession   \n",
       "\n",
       "                                              Employment  \\\n",
       "83434                                 Employed full-time   \n",
       "83435  Independent contractor, freelancer, or self-em...   \n",
       "83436                                 Employed full-time   \n",
       "83437                                 Employed full-time   \n",
       "83438                                 Employed full-time   \n",
       "\n",
       "                        Country    US_State UK_Country  \\\n",
       "83434  United States of America       Texas        NaN   \n",
       "83435                     Benin         NaN        NaN   \n",
       "83436  United States of America  New Jersey        NaN   \n",
       "83437                    Canada         NaN        NaN   \n",
       "83438                    Brazil         NaN        NaN   \n",
       "\n",
       "                                                 EdLevel     Age1stCode  \\\n",
       "83434       Bachelor’s degree (B.A., B.S., B.Eng., etc.)  11 - 17 years   \n",
       "83435       Bachelor’s degree (B.A., B.S., B.Eng., etc.)  11 - 17 years   \n",
       "83436  Secondary school (e.g. American high school, G...  11 - 17 years   \n",
       "83437       Bachelor’s degree (B.A., B.S., B.Eng., etc.)  11 - 17 years   \n",
       "83438                 Professional degree (JD, MD, etc.)  11 - 17 years   \n",
       "\n",
       "                                               LearnCode YearsCode  ...  \\\n",
       "83434  Other online resources (ex: videos, blogs, etc...         6  ...   \n",
       "83435  Other online resources (ex: videos, blogs, etc...         4  ...   \n",
       "83436                                             School        10  ...   \n",
       "83437  Online Courses or Certification;Books / Physic...         5  ...   \n",
       "83438                                             School        14  ...   \n",
       "\n",
       "                   Age Gender Trans                Sexuality  \\\n",
       "83434  25-34 years old    Man    No  Straight / Heterosexual   \n",
       "83435  18-24 years old    Man    No  Straight / Heterosexual   \n",
       "83436  25-34 years old    Man    No                      NaN   \n",
       "83437  25-34 years old    Man    No  Straight / Heterosexual   \n",
       "83438  18-24 years old    Man    No  Straight / Heterosexual   \n",
       "\n",
       "                          Ethnicity      Accessibility  \\\n",
       "83434  White or of European descent  None of the above   \n",
       "83435   Black or of African descent  None of the above   \n",
       "83436  White or of European descent  None of the above   \n",
       "83437  White or of European descent  None of the above   \n",
       "83438        Hispanic or Latino/a/x  None of the above   \n",
       "\n",
       "                                            MentalHealth  \\\n",
       "83434  I have a concentration and/or memory disorder ...   \n",
       "83435                                  None of the above   \n",
       "83436                                  None of the above   \n",
       "83437  I have a mood or emotional disorder (e.g. depr...   \n",
       "83438                                  None of the above   \n",
       "\n",
       "                SurveyLength                  SurveyEase ConvertedCompYearly  \n",
       "83434  Appropriate in length                        Easy            160500.0  \n",
       "83435  Appropriate in length                        Easy              3960.0  \n",
       "83436  Appropriate in length  Neither easy nor difficult             90000.0  \n",
       "83437  Appropriate in length  Neither easy nor difficult            816816.0  \n",
       "83438  Appropriate in length                        Easy             21168.0  \n",
       "\n",
       "[5 rows x 48 columns]"
      ]
     },
     "execution_count": 3,
     "metadata": {},
     "output_type": "execute_result"
    }
   ],
   "source": [
    "# Last 5 rows of the dataset\n",
    "df.tail()"
   ]
  },
  {
   "cell_type": "code",
   "execution_count": 4,
   "id": "c9e66c4c",
   "metadata": {},
   "outputs": [
    {
     "name": "stdout",
     "output_type": "stream",
     "text": [
      "<class 'pandas.core.frame.DataFrame'>\n",
      "RangeIndex: 83439 entries, 0 to 83438\n",
      "Data columns (total 48 columns):\n",
      " #   Column                        Non-Null Count  Dtype  \n",
      "---  ------                        --------------  -----  \n",
      " 0   ResponseId                    83439 non-null  int64  \n",
      " 1   MainBranch                    83439 non-null  object \n",
      " 2   Employment                    83323 non-null  object \n",
      " 3   Country                       83439 non-null  object \n",
      " 4   US_State                      14920 non-null  object \n",
      " 5   UK_Country                    4418 non-null   object \n",
      " 6   EdLevel                       83126 non-null  object \n",
      " 7   Age1stCode                    83243 non-null  object \n",
      " 8   LearnCode                     82963 non-null  object \n",
      " 9   YearsCode                     81641 non-null  object \n",
      " 10  YearsCodePro                  61216 non-null  object \n",
      " 11  DevType                       66484 non-null  object \n",
      " 12  OrgSize                       60726 non-null  object \n",
      " 13  Currency                      61080 non-null  object \n",
      " 14  CompTotal                     47183 non-null  float64\n",
      " 15  CompFreq                      52150 non-null  object \n",
      " 16  LanguageHaveWorkedWith        82357 non-null  object \n",
      " 17  LanguageWantToWorkWith        76821 non-null  object \n",
      " 18  DatabaseHaveWorkedWith        69546 non-null  object \n",
      " 19  DatabaseWantToWorkWith        58299 non-null  object \n",
      " 20  PlatformHaveWorkedWith        52135 non-null  object \n",
      " 21  PlatformWantToWorkWith        41619 non-null  object \n",
      " 22  WebframeHaveWorkedWith        61707 non-null  object \n",
      " 23  WebframeWantToWorkWith        52095 non-null  object \n",
      " 24  MiscTechHaveWorkedWith        47055 non-null  object \n",
      " 25  MiscTechWantToWorkWith        38021 non-null  object \n",
      " 26  ToolsTechHaveWorkedWith       72537 non-null  object \n",
      " 27  ToolsTechWantToWorkWith       65480 non-null  object \n",
      " 28  NEWCollabToolsHaveWorkedWith  81234 non-null  object \n",
      " 29  NEWCollabToolsWantToWorkWith  73022 non-null  object \n",
      " 30  OpSys                         83294 non-null  object \n",
      " 31  NEWStuck                      83052 non-null  object \n",
      " 32  NEWSOSites                    83171 non-null  object \n",
      " 33  SOVisitFreq                   82413 non-null  object \n",
      " 34  SOAccount                     82525 non-null  object \n",
      " 35  SOPartFreq                    67553 non-null  object \n",
      " 36  SOComm                        82319 non-null  object \n",
      " 37  NEWOtherComms                 82828 non-null  object \n",
      " 38  Age                           82407 non-null  object \n",
      " 39  Gender                        82286 non-null  object \n",
      " 40  Trans                         80678 non-null  object \n",
      " 41  Sexuality                     73366 non-null  object \n",
      " 42  Ethnicity                     79464 non-null  object \n",
      " 43  Accessibility                 77603 non-null  object \n",
      " 44  MentalHealth                  76920 non-null  object \n",
      " 45  SurveyLength                  81711 non-null  object \n",
      " 46  SurveyEase                    81948 non-null  object \n",
      " 47  ConvertedCompYearly           46844 non-null  float64\n",
      "dtypes: float64(2), int64(1), object(45)\n",
      "memory usage: 30.6+ MB\n"
     ]
    }
   ],
   "source": [
    "# All available columns, their counts and data types\n",
    "df.info()"
   ]
  },
  {
   "cell_type": "markdown",
   "id": "5ddff6a2",
   "metadata": {},
   "source": [
    "## Preprocessing\n",
    "\n",
    "All preprocessing steps were carried out in almost exactly the same way as the author."
   ]
  },
  {
   "cell_type": "code",
   "execution_count": 5,
   "id": "58f24984",
   "metadata": {},
   "outputs": [
    {
     "name": "stdout",
     "output_type": "stream",
     "text": [
      "DATASET SHAPE: (83439, 5)\n"
     ]
    },
    {
     "data": {
      "text/html": [
       "<div>\n",
       "<style scoped>\n",
       "    .dataframe tbody tr th:only-of-type {\n",
       "        vertical-align: middle;\n",
       "    }\n",
       "\n",
       "    .dataframe tbody tr th {\n",
       "        vertical-align: top;\n",
       "    }\n",
       "\n",
       "    .dataframe thead th {\n",
       "        text-align: right;\n",
       "    }\n",
       "</style>\n",
       "<table border=\"1\" class=\"dataframe\">\n",
       "  <thead>\n",
       "    <tr style=\"text-align: right;\">\n",
       "      <th></th>\n",
       "      <th>Country</th>\n",
       "      <th>EdLevel</th>\n",
       "      <th>YearsCodePro</th>\n",
       "      <th>Employment</th>\n",
       "      <th>Salary</th>\n",
       "    </tr>\n",
       "  </thead>\n",
       "  <tbody>\n",
       "    <tr>\n",
       "      <th>0</th>\n",
       "      <td>Slovakia</td>\n",
       "      <td>Secondary school (e.g. American high school, G...</td>\n",
       "      <td>NaN</td>\n",
       "      <td>Independent contractor, freelancer, or self-em...</td>\n",
       "      <td>62268.0</td>\n",
       "    </tr>\n",
       "    <tr>\n",
       "      <th>1</th>\n",
       "      <td>Netherlands</td>\n",
       "      <td>Bachelor’s degree (B.A., B.S., B.Eng., etc.)</td>\n",
       "      <td>NaN</td>\n",
       "      <td>Student, full-time</td>\n",
       "      <td>NaN</td>\n",
       "    </tr>\n",
       "    <tr>\n",
       "      <th>2</th>\n",
       "      <td>Russian Federation</td>\n",
       "      <td>Bachelor’s degree (B.A., B.S., B.Eng., etc.)</td>\n",
       "      <td>NaN</td>\n",
       "      <td>Student, full-time</td>\n",
       "      <td>NaN</td>\n",
       "    </tr>\n",
       "    <tr>\n",
       "      <th>3</th>\n",
       "      <td>Austria</td>\n",
       "      <td>Master’s degree (M.A., M.S., M.Eng., MBA, etc.)</td>\n",
       "      <td>NaN</td>\n",
       "      <td>Employed full-time</td>\n",
       "      <td>NaN</td>\n",
       "    </tr>\n",
       "    <tr>\n",
       "      <th>4</th>\n",
       "      <td>United Kingdom of Great Britain and Northern I...</td>\n",
       "      <td>Master’s degree (M.A., M.S., M.Eng., MBA, etc.)</td>\n",
       "      <td>10</td>\n",
       "      <td>Independent contractor, freelancer, or self-em...</td>\n",
       "      <td>NaN</td>\n",
       "    </tr>\n",
       "    <tr>\n",
       "      <th>5</th>\n",
       "      <td>United States of America</td>\n",
       "      <td>Bachelor’s degree (B.A., B.S., B.Eng., etc.)</td>\n",
       "      <td>NaN</td>\n",
       "      <td>Student, part-time</td>\n",
       "      <td>NaN</td>\n",
       "    </tr>\n",
       "    <tr>\n",
       "      <th>6</th>\n",
       "      <td>United States of America</td>\n",
       "      <td>Secondary school (e.g. American high school, G...</td>\n",
       "      <td>NaN</td>\n",
       "      <td>I prefer not to say</td>\n",
       "      <td>NaN</td>\n",
       "    </tr>\n",
       "    <tr>\n",
       "      <th>7</th>\n",
       "      <td>Malaysia</td>\n",
       "      <td>Bachelor’s degree (B.A., B.S., B.Eng., etc.)</td>\n",
       "      <td>NaN</td>\n",
       "      <td>Student, full-time</td>\n",
       "      <td>NaN</td>\n",
       "    </tr>\n",
       "    <tr>\n",
       "      <th>8</th>\n",
       "      <td>India</td>\n",
       "      <td>Bachelor’s degree (B.A., B.S., B.Eng., etc.)</td>\n",
       "      <td>4</td>\n",
       "      <td>Employed part-time</td>\n",
       "      <td>NaN</td>\n",
       "    </tr>\n",
       "    <tr>\n",
       "      <th>9</th>\n",
       "      <td>Sweden</td>\n",
       "      <td>Master’s degree (M.A., M.S., M.Eng., MBA, etc.)</td>\n",
       "      <td>4</td>\n",
       "      <td>Employed full-time</td>\n",
       "      <td>51552.0</td>\n",
       "    </tr>\n",
       "  </tbody>\n",
       "</table>\n",
       "</div>"
      ],
      "text/plain": [
       "                                             Country  \\\n",
       "0                                           Slovakia   \n",
       "1                                        Netherlands   \n",
       "2                                 Russian Federation   \n",
       "3                                            Austria   \n",
       "4  United Kingdom of Great Britain and Northern I...   \n",
       "5                           United States of America   \n",
       "6                           United States of America   \n",
       "7                                           Malaysia   \n",
       "8                                              India   \n",
       "9                                             Sweden   \n",
       "\n",
       "                                             EdLevel YearsCodePro  \\\n",
       "0  Secondary school (e.g. American high school, G...          NaN   \n",
       "1       Bachelor’s degree (B.A., B.S., B.Eng., etc.)          NaN   \n",
       "2       Bachelor’s degree (B.A., B.S., B.Eng., etc.)          NaN   \n",
       "3    Master’s degree (M.A., M.S., M.Eng., MBA, etc.)          NaN   \n",
       "4    Master’s degree (M.A., M.S., M.Eng., MBA, etc.)           10   \n",
       "5       Bachelor’s degree (B.A., B.S., B.Eng., etc.)          NaN   \n",
       "6  Secondary school (e.g. American high school, G...          NaN   \n",
       "7       Bachelor’s degree (B.A., B.S., B.Eng., etc.)          NaN   \n",
       "8       Bachelor’s degree (B.A., B.S., B.Eng., etc.)            4   \n",
       "9    Master’s degree (M.A., M.S., M.Eng., MBA, etc.)            4   \n",
       "\n",
       "                                          Employment   Salary  \n",
       "0  Independent contractor, freelancer, or self-em...  62268.0  \n",
       "1                                 Student, full-time      NaN  \n",
       "2                                 Student, full-time      NaN  \n",
       "3                                 Employed full-time      NaN  \n",
       "4  Independent contractor, freelancer, or self-em...      NaN  \n",
       "5                                 Student, part-time      NaN  \n",
       "6                                I prefer not to say      NaN  \n",
       "7                                 Student, full-time      NaN  \n",
       "8                                 Employed part-time      NaN  \n",
       "9                                 Employed full-time  51552.0  "
      ]
     },
     "execution_count": 5,
     "metadata": {},
     "output_type": "execute_result"
    }
   ],
   "source": [
    "# Take only the meaningful columns:\n",
    "# country, education level, years of coding as professional, employment type & converted comp. yearly\n",
    "df_sub = df[[\"Country\", \"EdLevel\", \"YearsCodePro\", \"Employment\", \"ConvertedCompYearly\"]]\n",
    "# ConvertedCompYearly will be renamed to Salary\n",
    "df_sub = df_sub.rename({\"ConvertedCompYearly\": \"Salary\"}, axis=1)\n",
    "print(\"DATASET SHAPE:\", df_sub.shape)\n",
    "df_sub.head(10)"
   ]
  },
  {
   "cell_type": "code",
   "execution_count": 6,
   "id": "19fca85f",
   "metadata": {},
   "outputs": [
    {
     "name": "stdout",
     "output_type": "stream",
     "text": [
      "DATASET SHAPE AFTER REMOVAL OF NULL SALARIES: (46844, 5)\n"
     ]
    },
    {
     "data": {
      "text/html": [
       "<div>\n",
       "<style scoped>\n",
       "    .dataframe tbody tr th:only-of-type {\n",
       "        vertical-align: middle;\n",
       "    }\n",
       "\n",
       "    .dataframe tbody tr th {\n",
       "        vertical-align: top;\n",
       "    }\n",
       "\n",
       "    .dataframe thead th {\n",
       "        text-align: right;\n",
       "    }\n",
       "</style>\n",
       "<table border=\"1\" class=\"dataframe\">\n",
       "  <thead>\n",
       "    <tr style=\"text-align: right;\">\n",
       "      <th></th>\n",
       "      <th>Country</th>\n",
       "      <th>EdLevel</th>\n",
       "      <th>YearsCodePro</th>\n",
       "      <th>Employment</th>\n",
       "      <th>Salary</th>\n",
       "    </tr>\n",
       "  </thead>\n",
       "  <tbody>\n",
       "    <tr>\n",
       "      <th>0</th>\n",
       "      <td>Slovakia</td>\n",
       "      <td>Secondary school (e.g. American high school, G...</td>\n",
       "      <td>NaN</td>\n",
       "      <td>Independent contractor, freelancer, or self-em...</td>\n",
       "      <td>62268.0</td>\n",
       "    </tr>\n",
       "    <tr>\n",
       "      <th>9</th>\n",
       "      <td>Sweden</td>\n",
       "      <td>Master’s degree (M.A., M.S., M.Eng., MBA, etc.)</td>\n",
       "      <td>4</td>\n",
       "      <td>Employed full-time</td>\n",
       "      <td>51552.0</td>\n",
       "    </tr>\n",
       "    <tr>\n",
       "      <th>11</th>\n",
       "      <td>Spain</td>\n",
       "      <td>Bachelor’s degree (B.A., B.S., B.Eng., etc.)</td>\n",
       "      <td>5</td>\n",
       "      <td>Employed full-time</td>\n",
       "      <td>46482.0</td>\n",
       "    </tr>\n",
       "    <tr>\n",
       "      <th>12</th>\n",
       "      <td>Germany</td>\n",
       "      <td>Master’s degree (M.A., M.S., M.Eng., MBA, etc.)</td>\n",
       "      <td>6</td>\n",
       "      <td>Employed full-time</td>\n",
       "      <td>77290.0</td>\n",
       "    </tr>\n",
       "    <tr>\n",
       "      <th>16</th>\n",
       "      <td>Turkey</td>\n",
       "      <td>Bachelor’s degree (B.A., B.S., B.Eng., etc.)</td>\n",
       "      <td>2</td>\n",
       "      <td>Employed full-time</td>\n",
       "      <td>17748.0</td>\n",
       "    </tr>\n",
       "    <tr>\n",
       "      <th>17</th>\n",
       "      <td>Canada</td>\n",
       "      <td>Bachelor’s degree (B.A., B.S., B.Eng., etc.)</td>\n",
       "      <td>6</td>\n",
       "      <td>Employed full-time</td>\n",
       "      <td>46135.0</td>\n",
       "    </tr>\n",
       "    <tr>\n",
       "      <th>18</th>\n",
       "      <td>Singapore</td>\n",
       "      <td>Other doctoral degree (Ph.D., Ed.D., etc.)</td>\n",
       "      <td>30</td>\n",
       "      <td>I prefer not to say</td>\n",
       "      <td>160932.0</td>\n",
       "    </tr>\n",
       "    <tr>\n",
       "      <th>23</th>\n",
       "      <td>France</td>\n",
       "      <td>Master’s degree (M.A., M.S., M.Eng., MBA, etc.)</td>\n",
       "      <td>2</td>\n",
       "      <td>Employed full-time</td>\n",
       "      <td>38915.0</td>\n",
       "    </tr>\n",
       "    <tr>\n",
       "      <th>24</th>\n",
       "      <td>Germany</td>\n",
       "      <td>Master’s degree (M.A., M.S., M.Eng., MBA, etc.)</td>\n",
       "      <td>18</td>\n",
       "      <td>Employed full-time</td>\n",
       "      <td>77831.0</td>\n",
       "    </tr>\n",
       "    <tr>\n",
       "      <th>26</th>\n",
       "      <td>Switzerland</td>\n",
       "      <td>Master’s degree (M.A., M.S., M.Eng., MBA, etc.)</td>\n",
       "      <td>5</td>\n",
       "      <td>Employed full-time</td>\n",
       "      <td>81319.0</td>\n",
       "    </tr>\n",
       "  </tbody>\n",
       "</table>\n",
       "</div>"
      ],
      "text/plain": [
       "        Country                                            EdLevel  \\\n",
       "0      Slovakia  Secondary school (e.g. American high school, G...   \n",
       "9        Sweden    Master’s degree (M.A., M.S., M.Eng., MBA, etc.)   \n",
       "11        Spain       Bachelor’s degree (B.A., B.S., B.Eng., etc.)   \n",
       "12      Germany    Master’s degree (M.A., M.S., M.Eng., MBA, etc.)   \n",
       "16       Turkey       Bachelor’s degree (B.A., B.S., B.Eng., etc.)   \n",
       "17       Canada       Bachelor’s degree (B.A., B.S., B.Eng., etc.)   \n",
       "18    Singapore         Other doctoral degree (Ph.D., Ed.D., etc.)   \n",
       "23       France    Master’s degree (M.A., M.S., M.Eng., MBA, etc.)   \n",
       "24      Germany    Master’s degree (M.A., M.S., M.Eng., MBA, etc.)   \n",
       "26  Switzerland    Master’s degree (M.A., M.S., M.Eng., MBA, etc.)   \n",
       "\n",
       "   YearsCodePro                                         Employment    Salary  \n",
       "0           NaN  Independent contractor, freelancer, or self-em...   62268.0  \n",
       "9             4                                 Employed full-time   51552.0  \n",
       "11            5                                 Employed full-time   46482.0  \n",
       "12            6                                 Employed full-time   77290.0  \n",
       "16            2                                 Employed full-time   17748.0  \n",
       "17            6                                 Employed full-time   46135.0  \n",
       "18           30                                I prefer not to say  160932.0  \n",
       "23            2                                 Employed full-time   38915.0  \n",
       "24           18                                 Employed full-time   77831.0  \n",
       "26            5                                 Employed full-time   81319.0  "
      ]
     },
     "execution_count": 6,
     "metadata": {},
     "output_type": "execute_result"
    }
   ],
   "source": [
    "# Rows with null salaries will be removed\n",
    "df_sub = df_sub[df_sub['Salary'].notnull()]\n",
    "print(\"DATASET SHAPE AFTER REMOVAL OF NULL SALARIES:\", df_sub.shape)\n",
    "df_sub.head(10)"
   ]
  },
  {
   "cell_type": "code",
   "execution_count": 7,
   "id": "0c58f6ad",
   "metadata": {},
   "outputs": [
    {
     "name": "stdout",
     "output_type": "stream",
     "text": [
      "<class 'pandas.core.frame.DataFrame'>\n",
      "Int64Index: 46844 entries, 0 to 83438\n",
      "Data columns (total 5 columns):\n",
      " #   Column        Non-Null Count  Dtype  \n",
      "---  ------        --------------  -----  \n",
      " 0   Country       46844 non-null  object \n",
      " 1   EdLevel       46823 non-null  object \n",
      " 2   YearsCodePro  46391 non-null  object \n",
      " 3   Employment    46831 non-null  object \n",
      " 4   Salary        46844 non-null  float64\n",
      "dtypes: float64(1), object(4)\n",
      "memory usage: 2.1+ MB\n"
     ]
    }
   ],
   "source": [
    "# Info about the current dataset\n",
    "df_sub.info()"
   ]
  },
  {
   "cell_type": "code",
   "execution_count": 8,
   "id": "befedd38",
   "metadata": {},
   "outputs": [
    {
     "name": "stdout",
     "output_type": "stream",
     "text": [
      "DATASET SHAPE AFTER REMOVAL OF ROWS WITH NULL: (46359, 5)\n"
     ]
    },
    {
     "data": {
      "text/plain": [
       "Country         0\n",
       "EdLevel         0\n",
       "YearsCodePro    0\n",
       "Employment      0\n",
       "Salary          0\n",
       "dtype: int64"
      ]
     },
     "execution_count": 8,
     "metadata": {},
     "output_type": "execute_result"
    }
   ],
   "source": [
    "# Then, remove those rows containing null values. There should be no more...\n",
    "df_sub = df_sub.dropna()\n",
    "print(\"DATASET SHAPE AFTER REMOVAL OF ROWS WITH NULL:\", df_sub.shape)\n",
    "df_sub.isnull().sum()"
   ]
  },
  {
   "cell_type": "code",
   "execution_count": 9,
   "id": "b0dcf333",
   "metadata": {},
   "outputs": [
    {
     "name": "stdout",
     "output_type": "stream",
     "text": [
      "<class 'pandas.core.frame.DataFrame'>\n",
      "Int64Index: 40211 entries, 9 to 83438\n",
      "Data columns (total 4 columns):\n",
      " #   Column        Non-Null Count  Dtype  \n",
      "---  ------        --------------  -----  \n",
      " 0   Country       40211 non-null  object \n",
      " 1   EdLevel       40211 non-null  object \n",
      " 2   YearsCodePro  40211 non-null  object \n",
      " 3   Salary        40211 non-null  float64\n",
      "dtypes: float64(1), object(3)\n",
      "memory usage: 1.5+ MB\n"
     ]
    }
   ],
   "source": [
    "# Also, select such rows where person was employed as full time\n",
    "df_sub = df_sub[df_sub[\"Employment\"] == \"Employed full-time\"]\n",
    "df_sub = df_sub.drop(\"Employment\", axis=1)\n",
    "df_sub.info()"
   ]
  },
  {
   "cell_type": "code",
   "execution_count": 10,
   "id": "b0054748",
   "metadata": {},
   "outputs": [],
   "source": [
    "# Let's filter the countries such that their counts lower than the cutoff value are moved to 'Other'\n",
    "def shorten_categories(categories, cutoff):\n",
    "    categorical_map = {}\n",
    "    for i in range(len(categories)):\n",
    "        if categories.values[i] >= cutoff:\n",
    "            categorical_map[categories.index[i]] = categories.index[i]\n",
    "        else:\n",
    "            categorical_map[categories.index[i]] = 'Other'\n",
    "    return categorical_map"
   ]
  },
  {
   "cell_type": "code",
   "execution_count": 11,
   "id": "7495ffeb",
   "metadata": {},
   "outputs": [
    {
     "name": "stdout",
     "output_type": "stream",
     "text": [
      "CURRENT DATASET SHAPE: (40211, 4)\n"
     ]
    },
    {
     "data": {
      "text/plain": [
       "Other                                                   10725\n",
       "United States of America                                 9175\n",
       "India                                                    3385\n",
       "Germany                                                  2753\n",
       "United Kingdom of Great Britain and Northern Ireland     2604\n",
       "Canada                                                   1553\n",
       "France                                                   1396\n",
       "Brazil                                                   1340\n",
       "Spain                                                     890\n",
       "Netherlands                                               835\n",
       "Australia                                                 825\n",
       "Poland                                                    775\n",
       "Italy                                                     756\n",
       "Russian Federation                                        741\n",
       "Sweden                                                    735\n",
       "Turkey                                                    458\n",
       "Switzerland                                               438\n",
       "Israel                                                    425\n",
       "Norway                                                    402\n",
       "Name: Country, dtype: int64"
      ]
     },
     "execution_count": 11,
     "metadata": {},
     "output_type": "execute_result"
    }
   ],
   "source": [
    "# After that, we have these counts of countries as below\n",
    "country_map = shorten_categories(df_sub['Country'].value_counts(), 400)\n",
    "# print(country_map)\n",
    "print(\"CURRENT DATASET SHAPE:\", df_sub.shape)\n",
    "df_sub['Country'] = df_sub['Country'].map(country_map)\n",
    "df_sub['Country'].value_counts()"
   ]
  },
  {
   "cell_type": "code",
   "execution_count": 12,
   "id": "a624d7cd",
   "metadata": {},
   "outputs": [],
   "source": [
    "# It's better to remove the outliers once and for all!\n",
    "df_sub = df_sub[df_sub[\"Salary\"] <= 200000]\n",
    "df_sub = df_sub[df_sub[\"Salary\"] >= 10000]\n",
    "df_sub = df_sub[df_sub['Country'] != 'Other']  # Even other countries are dropped as well"
   ]
  },
  {
   "cell_type": "code",
   "execution_count": 13,
   "id": "b7b3a146",
   "metadata": {},
   "outputs": [
    {
     "data": {
      "image/png": "[encoded data removed]",
      "text/plain": [
       "<Figure size 1000x600 with 1 Axes>"
      ]
     },
     "metadata": {},
     "output_type": "display_data"
    }
   ],
   "source": [
    "# Box plot visualization: Salaries vs Countries\n",
    "plt.figure(figsize=(10,6))\n",
    "sns.boxplot(data=df_sub, x='Country', y='Salary')\n",
    "plt.title(\"Salaries vs Countries\", fontsize=18)\n",
    "plt.xlabel('Countries', fontsize=14)\n",
    "plt.ylabel('Salaries', fontsize=14)\n",
    "plt.xticks(rotation=90)\n",
    "plt.grid(color='#dddddd')\n",
    "plt.show()"
   ]
  },
  {
   "cell_type": "code",
   "execution_count": 14,
   "id": "881f08d7",
   "metadata": {},
   "outputs": [
    {
     "name": "stdout",
     "output_type": "stream",
     "text": [
      "CURRENT DATASET SHAPE: (25580, 4)\n"
     ]
    }
   ],
   "source": [
    "print(\"CURRENT DATASET SHAPE:\", df_sub.shape)"
   ]
  },
  {
   "cell_type": "code",
   "execution_count": 15,
   "id": "b6e08f01",
   "metadata": {},
   "outputs": [
    {
     "data": {
      "text/plain": [
       "array(['4', '5', '6', '2', '18', '21', '16', '10', 'Less than 1 year',\n",
       "       '3', '15', '12', '8', '17', '1', '14', '26', '34', '11', '25',\n",
       "       '24', '22', '13', '9', '7', '39', '20', '27', '23', '30', '19',\n",
       "       '35', '33', '43', '40', '29', '38', '31', '42', '28', '46', '32',\n",
       "       '36', '37', '47', '45', '44', '41', 'More than 50 years', '50',\n",
       "       '49', '48'], dtype=object)"
      ]
     },
     "execution_count": 15,
     "metadata": {},
     "output_type": "execute_result"
    }
   ],
   "source": [
    "# Let's check the unique values of 'years of coding as professional' column (note the data type: object)\n",
    "df_sub[\"YearsCodePro\"].unique()"
   ]
  },
  {
   "cell_type": "code",
   "execution_count": 16,
   "id": "5fdaa117",
   "metadata": {},
   "outputs": [],
   "source": [
    "# It's better to convert the such texts into numbers, so it can be processed appropriately.\n",
    "def clean_experience(x):\n",
    "    if x == 'More than 50 years':\n",
    "        return 50\n",
    "    if x == 'Less than 1 year':\n",
    "        return 0.5\n",
    "    return float(x)\n",
    "df_sub['YearsCodePro'] = df_sub['YearsCodePro'].apply(clean_experience)"
   ]
  },
  {
   "cell_type": "code",
   "execution_count": 17,
   "id": "f6bdb69f",
   "metadata": {},
   "outputs": [
    {
     "data": {
      "text/plain": [
       "array([ 4. ,  5. ,  6. ,  2. , 18. , 21. , 16. , 10. ,  0.5,  3. , 15. ,\n",
       "       12. ,  8. , 17. ,  1. , 14. , 26. , 34. , 11. , 25. , 24. , 22. ,\n",
       "       13. ,  9. ,  7. , 39. , 20. , 27. , 23. , 30. , 19. , 35. , 33. ,\n",
       "       43. , 40. , 29. , 38. , 31. , 42. , 28. , 46. , 32. , 36. , 37. ,\n",
       "       47. , 45. , 44. , 41. , 50. , 49. , 48. ])"
      ]
     },
     "execution_count": 17,
     "metadata": {},
     "output_type": "execute_result"
    }
   ],
   "source": [
    "df_sub[\"YearsCodePro\"].unique()"
   ]
  },
  {
   "cell_type": "code",
   "execution_count": 18,
   "id": "e2aee8a5",
   "metadata": {},
   "outputs": [
    {
     "data": {
      "text/plain": [
       "array(['Master’s degree (M.A., M.S., M.Eng., MBA, etc.)',\n",
       "       'Bachelor’s degree (B.A., B.S., B.Eng., etc.)',\n",
       "       'Professional degree (JD, MD, etc.)',\n",
       "       'Some college/university study without earning a degree',\n",
       "       'Other doctoral degree (Ph.D., Ed.D., etc.)', 'Something else',\n",
       "       'Primary/elementary school', 'Associate degree (A.A., A.S., etc.)',\n",
       "       'Secondary school (e.g. American high school, German Realschule or Gymnasium, etc.)'],\n",
       "      dtype=object)"
      ]
     },
     "execution_count": 18,
     "metadata": {},
     "output_type": "execute_result"
    }
   ],
   "source": [
    "# How about education levels?\n",
    "df_sub[\"EdLevel\"].unique()"
   ]
  },
  {
   "cell_type": "code",
   "execution_count": 19,
   "id": "87e5ca1f",
   "metadata": {},
   "outputs": [],
   "source": [
    "# Well, these need to be simplified, thus they can be handled easily\n",
    "def clean_education(x):\n",
    "    if 'Bachelor’s degree' in x:\n",
    "        return 'Bachelor'\n",
    "    if 'Master’s degree' in x:\n",
    "        return 'Master'\n",
    "    if 'Professional degree' in x or 'Other doctoral' in x:\n",
    "        return 'PostGrad'\n",
    "    return 'LessThanBachelor'\n",
    "df_sub['EdLevel'] = df_sub['EdLevel'].apply(clean_education)"
   ]
  },
  {
   "cell_type": "code",
   "execution_count": 20,
   "id": "42d9be04",
   "metadata": {},
   "outputs": [
    {
     "data": {
      "text/plain": [
       "array(['Master', 'Bachelor', 'PostGrad', 'LessThanBachelor'], dtype=object)"
      ]
     },
     "execution_count": 20,
     "metadata": {},
     "output_type": "execute_result"
    }
   ],
   "source": [
    "df_sub[\"EdLevel\"].unique()"
   ]
  },
  {
   "cell_type": "code",
   "execution_count": 21,
   "id": "b808f318",
   "metadata": {},
   "outputs": [],
   "source": [
    "# Simplify the country names especially for USA and United Kingdom\n",
    "def simplify_country_names(country):\n",
    "    if country == 'United States of America':\n",
    "        return 'USA'\n",
    "    elif country == 'United Kingdom of Great Britain and Northern Ireland':\n",
    "        return 'United Kingdom'\n",
    "    else:\n",
    "        return country\n",
    "df_sub['Country'] = df_sub['Country'].apply(simplify_country_names)"
   ]
  },
  {
   "cell_type": "code",
   "execution_count": 22,
   "id": "04d1688e",
   "metadata": {},
   "outputs": [
    {
     "data": {
      "text/plain": [
       "array(['Sweden', 'Spain', 'Germany', 'Turkey', 'Canada', 'France',\n",
       "       'Switzerland', 'United Kingdom', 'Russian Federation', 'Israel',\n",
       "       'USA', 'Brazil', 'Italy', 'Netherlands', 'Poland', 'Australia',\n",
       "       'India', 'Norway'], dtype=object)"
      ]
     },
     "execution_count": 22,
     "metadata": {},
     "output_type": "execute_result"
    }
   ],
   "source": [
    "df_sub['Country'].unique()"
   ]
  },
  {
   "cell_type": "markdown",
   "id": "30bde8f5",
   "metadata": {},
   "source": [
    "## Prepare Train and Test Sets"
   ]
  },
  {
   "cell_type": "code",
   "execution_count": 23,
   "id": "14d5f394",
   "metadata": {},
   "outputs": [
    {
     "name": "stdout",
     "output_type": "stream",
     "text": [
      "CURRENT DATASET SHAPE: (25580, 24)\n"
     ]
    },
    {
     "data": {
      "text/html": [
       "<div>\n",
       "<style scoped>\n",
       "    .dataframe tbody tr th:only-of-type {\n",
       "        vertical-align: middle;\n",
       "    }\n",
       "\n",
       "    .dataframe tbody tr th {\n",
       "        vertical-align: top;\n",
       "    }\n",
       "\n",
       "    .dataframe thead th {\n",
       "        text-align: right;\n",
       "    }\n",
       "</style>\n",
       "<table border=\"1\" class=\"dataframe\">\n",
       "  <thead>\n",
       "    <tr style=\"text-align: right;\">\n",
       "      <th></th>\n",
       "      <th>Bachelor</th>\n",
       "      <th>LessThanBachelor</th>\n",
       "      <th>Master</th>\n",
       "      <th>PostGrad</th>\n",
       "      <th>Australia</th>\n",
       "      <th>Brazil</th>\n",
       "      <th>Canada</th>\n",
       "      <th>France</th>\n",
       "      <th>Germany</th>\n",
       "      <th>India</th>\n",
       "      <th>...</th>\n",
       "      <th>Poland</th>\n",
       "      <th>Russian Federation</th>\n",
       "      <th>Spain</th>\n",
       "      <th>Sweden</th>\n",
       "      <th>Switzerland</th>\n",
       "      <th>Turkey</th>\n",
       "      <th>USA</th>\n",
       "      <th>United Kingdom</th>\n",
       "      <th>YearsCodePro</th>\n",
       "      <th>Salary</th>\n",
       "    </tr>\n",
       "  </thead>\n",
       "  <tbody>\n",
       "    <tr>\n",
       "      <th>9</th>\n",
       "      <td>0</td>\n",
       "      <td>0</td>\n",
       "      <td>1</td>\n",
       "      <td>0</td>\n",
       "      <td>0</td>\n",
       "      <td>0</td>\n",
       "      <td>0</td>\n",
       "      <td>0</td>\n",
       "      <td>0</td>\n",
       "      <td>0</td>\n",
       "      <td>...</td>\n",
       "      <td>0</td>\n",
       "      <td>0</td>\n",
       "      <td>0</td>\n",
       "      <td>1</td>\n",
       "      <td>0</td>\n",
       "      <td>0</td>\n",
       "      <td>0</td>\n",
       "      <td>0</td>\n",
       "      <td>4.0</td>\n",
       "      <td>51552.0</td>\n",
       "    </tr>\n",
       "    <tr>\n",
       "      <th>11</th>\n",
       "      <td>1</td>\n",
       "      <td>0</td>\n",
       "      <td>0</td>\n",
       "      <td>0</td>\n",
       "      <td>0</td>\n",
       "      <td>0</td>\n",
       "      <td>0</td>\n",
       "      <td>0</td>\n",
       "      <td>0</td>\n",
       "      <td>0</td>\n",
       "      <td>...</td>\n",
       "      <td>0</td>\n",
       "      <td>0</td>\n",
       "      <td>1</td>\n",
       "      <td>0</td>\n",
       "      <td>0</td>\n",
       "      <td>0</td>\n",
       "      <td>0</td>\n",
       "      <td>0</td>\n",
       "      <td>5.0</td>\n",
       "      <td>46482.0</td>\n",
       "    </tr>\n",
       "    <tr>\n",
       "      <th>12</th>\n",
       "      <td>0</td>\n",
       "      <td>0</td>\n",
       "      <td>1</td>\n",
       "      <td>0</td>\n",
       "      <td>0</td>\n",
       "      <td>0</td>\n",
       "      <td>0</td>\n",
       "      <td>0</td>\n",
       "      <td>1</td>\n",
       "      <td>0</td>\n",
       "      <td>...</td>\n",
       "      <td>0</td>\n",
       "      <td>0</td>\n",
       "      <td>0</td>\n",
       "      <td>0</td>\n",
       "      <td>0</td>\n",
       "      <td>0</td>\n",
       "      <td>0</td>\n",
       "      <td>0</td>\n",
       "      <td>6.0</td>\n",
       "      <td>77290.0</td>\n",
       "    </tr>\n",
       "    <tr>\n",
       "      <th>16</th>\n",
       "      <td>1</td>\n",
       "      <td>0</td>\n",
       "      <td>0</td>\n",
       "      <td>0</td>\n",
       "      <td>0</td>\n",
       "      <td>0</td>\n",
       "      <td>0</td>\n",
       "      <td>0</td>\n",
       "      <td>0</td>\n",
       "      <td>0</td>\n",
       "      <td>...</td>\n",
       "      <td>0</td>\n",
       "      <td>0</td>\n",
       "      <td>0</td>\n",
       "      <td>0</td>\n",
       "      <td>0</td>\n",
       "      <td>1</td>\n",
       "      <td>0</td>\n",
       "      <td>0</td>\n",
       "      <td>2.0</td>\n",
       "      <td>17748.0</td>\n",
       "    </tr>\n",
       "    <tr>\n",
       "      <th>17</th>\n",
       "      <td>1</td>\n",
       "      <td>0</td>\n",
       "      <td>0</td>\n",
       "      <td>0</td>\n",
       "      <td>0</td>\n",
       "      <td>0</td>\n",
       "      <td>1</td>\n",
       "      <td>0</td>\n",
       "      <td>0</td>\n",
       "      <td>0</td>\n",
       "      <td>...</td>\n",
       "      <td>0</td>\n",
       "      <td>0</td>\n",
       "      <td>0</td>\n",
       "      <td>0</td>\n",
       "      <td>0</td>\n",
       "      <td>0</td>\n",
       "      <td>0</td>\n",
       "      <td>0</td>\n",
       "      <td>6.0</td>\n",
       "      <td>46135.0</td>\n",
       "    </tr>\n",
       "    <tr>\n",
       "      <th>23</th>\n",
       "      <td>0</td>\n",
       "      <td>0</td>\n",
       "      <td>1</td>\n",
       "      <td>0</td>\n",
       "      <td>0</td>\n",
       "      <td>0</td>\n",
       "      <td>0</td>\n",
       "      <td>1</td>\n",
       "      <td>0</td>\n",
       "      <td>0</td>\n",
       "      <td>...</td>\n",
       "      <td>0</td>\n",
       "      <td>0</td>\n",
       "      <td>0</td>\n",
       "      <td>0</td>\n",
       "      <td>0</td>\n",
       "      <td>0</td>\n",
       "      <td>0</td>\n",
       "      <td>0</td>\n",
       "      <td>2.0</td>\n",
       "      <td>38915.0</td>\n",
       "    </tr>\n",
       "    <tr>\n",
       "      <th>24</th>\n",
       "      <td>0</td>\n",
       "      <td>0</td>\n",
       "      <td>1</td>\n",
       "      <td>0</td>\n",
       "      <td>0</td>\n",
       "      <td>0</td>\n",
       "      <td>0</td>\n",
       "      <td>0</td>\n",
       "      <td>1</td>\n",
       "      <td>0</td>\n",
       "      <td>...</td>\n",
       "      <td>0</td>\n",
       "      <td>0</td>\n",
       "      <td>0</td>\n",
       "      <td>0</td>\n",
       "      <td>0</td>\n",
       "      <td>0</td>\n",
       "      <td>0</td>\n",
       "      <td>0</td>\n",
       "      <td>18.0</td>\n",
       "      <td>77831.0</td>\n",
       "    </tr>\n",
       "    <tr>\n",
       "      <th>26</th>\n",
       "      <td>0</td>\n",
       "      <td>0</td>\n",
       "      <td>1</td>\n",
       "      <td>0</td>\n",
       "      <td>0</td>\n",
       "      <td>0</td>\n",
       "      <td>0</td>\n",
       "      <td>0</td>\n",
       "      <td>0</td>\n",
       "      <td>0</td>\n",
       "      <td>...</td>\n",
       "      <td>0</td>\n",
       "      <td>0</td>\n",
       "      <td>0</td>\n",
       "      <td>0</td>\n",
       "      <td>1</td>\n",
       "      <td>0</td>\n",
       "      <td>0</td>\n",
       "      <td>0</td>\n",
       "      <td>5.0</td>\n",
       "      <td>81319.0</td>\n",
       "    </tr>\n",
       "    <tr>\n",
       "      <th>27</th>\n",
       "      <td>1</td>\n",
       "      <td>0</td>\n",
       "      <td>0</td>\n",
       "      <td>0</td>\n",
       "      <td>0</td>\n",
       "      <td>0</td>\n",
       "      <td>0</td>\n",
       "      <td>0</td>\n",
       "      <td>0</td>\n",
       "      <td>0</td>\n",
       "      <td>...</td>\n",
       "      <td>0</td>\n",
       "      <td>0</td>\n",
       "      <td>0</td>\n",
       "      <td>0</td>\n",
       "      <td>0</td>\n",
       "      <td>0</td>\n",
       "      <td>0</td>\n",
       "      <td>1</td>\n",
       "      <td>21.0</td>\n",
       "      <td>68507.0</td>\n",
       "    </tr>\n",
       "    <tr>\n",
       "      <th>29</th>\n",
       "      <td>0</td>\n",
       "      <td>0</td>\n",
       "      <td>1</td>\n",
       "      <td>0</td>\n",
       "      <td>0</td>\n",
       "      <td>0</td>\n",
       "      <td>0</td>\n",
       "      <td>0</td>\n",
       "      <td>0</td>\n",
       "      <td>0</td>\n",
       "      <td>...</td>\n",
       "      <td>0</td>\n",
       "      <td>1</td>\n",
       "      <td>0</td>\n",
       "      <td>0</td>\n",
       "      <td>0</td>\n",
       "      <td>0</td>\n",
       "      <td>0</td>\n",
       "      <td>0</td>\n",
       "      <td>16.0</td>\n",
       "      <td>37752.0</td>\n",
       "    </tr>\n",
       "  </tbody>\n",
       "</table>\n",
       "<p>10 rows × 24 columns</p>\n",
       "</div>"
      ],
      "text/plain": [
       "    Bachelor  LessThanBachelor  Master  PostGrad  Australia  Brazil  Canada  \\\n",
       "9          0                 0       1         0          0       0       0   \n",
       "11         1                 0       0         0          0       0       0   \n",
       "12         0                 0       1         0          0       0       0   \n",
       "16         1                 0       0         0          0       0       0   \n",
       "17         1                 0       0         0          0       0       1   \n",
       "23         0                 0       1         0          0       0       0   \n",
       "24         0                 0       1         0          0       0       0   \n",
       "26         0                 0       1         0          0       0       0   \n",
       "27         1                 0       0         0          0       0       0   \n",
       "29         0                 0       1         0          0       0       0   \n",
       "\n",
       "    France  Germany  India  ...  Poland  Russian Federation  Spain  Sweden  \\\n",
       "9        0        0      0  ...       0                   0      0       1   \n",
       "11       0        0      0  ...       0                   0      1       0   \n",
       "12       0        1      0  ...       0                   0      0       0   \n",
       "16       0        0      0  ...       0                   0      0       0   \n",
       "17       0        0      0  ...       0                   0      0       0   \n",
       "23       1        0      0  ...       0                   0      0       0   \n",
       "24       0        1      0  ...       0                   0      0       0   \n",
       "26       0        0      0  ...       0                   0      0       0   \n",
       "27       0        0      0  ...       0                   0      0       0   \n",
       "29       0        0      0  ...       0                   1      0       0   \n",
       "\n",
       "    Switzerland  Turkey  USA  United Kingdom  YearsCodePro   Salary  \n",
       "9             0       0    0               0           4.0  51552.0  \n",
       "11            0       0    0               0           5.0  46482.0  \n",
       "12            0       0    0               0           6.0  77290.0  \n",
       "16            0       1    0               0           2.0  17748.0  \n",
       "17            0       0    0               0           6.0  46135.0  \n",
       "23            0       0    0               0           2.0  38915.0  \n",
       "24            0       0    0               0          18.0  77831.0  \n",
       "26            1       0    0               0           5.0  81319.0  \n",
       "27            0       0    0               1          21.0  68507.0  \n",
       "29            0       0    0               0          16.0  37752.0  \n",
       "\n",
       "[10 rows x 24 columns]"
      ]
     },
     "execution_count": 23,
     "metadata": {},
     "output_type": "execute_result"
    }
   ],
   "source": [
    "# Unlike what was done in 1st regression series, we'll create dummy variables for both education levels and countries\n",
    "dummy_edu = pd.get_dummies(df_sub['EdLevel'])\n",
    "dummy_country = pd.get_dummies(df_sub['Country'])\n",
    "df_sub2 = pd.concat([dummy_edu, dummy_country, df_sub['YearsCodePro'], df_sub['Salary']], axis=1)\n",
    "print(\"CURRENT DATASET SHAPE:\", df_sub2.shape)\n",
    "df_sub2.head(10)"
   ]
  },
  {
   "cell_type": "code",
   "execution_count": 24,
   "id": "947b4b3a",
   "metadata": {},
   "outputs": [
    {
     "data": {
      "image/png": "[encoded data removed]",
      "text/plain": [
       "<Figure size 900x600 with 2 Axes>"
      ]
     },
     "metadata": {},
     "output_type": "display_data"
    },
    {
     "name": "stdout",
     "output_type": "stream",
     "text": [
      "#### COLUMN CORRELATIONS AGAINST SALARIES ####\n",
      "Bachelor              0.044882\n",
      "LessThanBachelor     -0.051838\n",
      "Master               -0.015085\n",
      "PostGrad              0.021090\n",
      "Australia             0.021316\n",
      "Brazil               -0.208763\n",
      "Canada                0.008739\n",
      "France               -0.123342\n",
      "Germany              -0.069303\n",
      "India                -0.315436\n",
      "Israel                0.086299\n",
      "Italy                -0.140597\n",
      "Netherlands          -0.049947\n",
      "Norway                0.013708\n",
      "Poland               -0.136783\n",
      "Russian Federation   -0.135182\n",
      "Spain                -0.133264\n",
      "Sweden               -0.063445\n",
      "Switzerland           0.073046\n",
      "Turkey               -0.115985\n",
      "USA                   0.605722\n",
      "United Kingdom       -0.005894\n",
      "YearsCodePro          0.352294\n",
      "Salary                1.000000\n",
      "Name: Salary, dtype: float64\n"
     ]
    }
   ],
   "source": [
    "# The correlations of all presented columns\n",
    "plt.figure(figsize=(9,6))\n",
    "sns.heatmap(df_sub2.corr())\n",
    "plt.show()\n",
    "print(\"#### COLUMN CORRELATIONS AGAINST SALARIES ####\")\n",
    "print(df_sub2.corr()['Salary'])"
   ]
  },
  {
   "cell_type": "markdown",
   "id": "2813210f-da33-479f-ba43-a5626e43f44d",
   "metadata": {},
   "source": [
    "### Type 4: Use Negatively Correlated Columns Only"
   ]
  },
  {
   "cell_type": "code",
   "execution_count": 25,
   "id": "e2be7113",
   "metadata": {},
   "outputs": [
    {
     "name": "stdout",
     "output_type": "stream",
     "text": [
      "TRAIN SIZE: (20464, 14) (20464,)   TEST SIZE: (5116, 14) (5116,)\n",
      "Index(['LessThanBachelor', 'Master', 'Brazil', 'France', 'Germany', 'India',\n",
      "       'Italy', 'Netherlands', 'Poland', 'Russian Federation', 'Spain',\n",
      "       'Sweden', 'Turkey', 'United Kingdom'],\n",
      "      dtype='object')\n"
     ]
    }
   ],
   "source": [
    "# Use 80% of the dataset as training, and 20% as testing\n",
    "# X = df_sub2.drop(columns='Salary', axis=1)\n",
    "X = df_sub2[['LessThanBachelor','Master','Brazil','France','Germany','India','Italy','Netherlands','Poland','Russian Federation',\n",
    "             'Spain','Sweden','Turkey','United Kingdom']]\n",
    "Y = df_sub2.iloc[:,-1]\n",
    "x_train, x_test, y_train, y_test = train_test_split(X, Y, test_size=0.2, random_state=21)\n",
    "print(\"TRAIN SIZE:\", x_train.shape, y_train.shape, \"  TEST SIZE:\", x_test.shape, y_test.shape)\n",
    "print(X.columns)"
   ]
  },
  {
   "cell_type": "code",
   "execution_count": 26,
   "id": "615a8626",
   "metadata": {},
   "outputs": [],
   "source": [
    "# Create lists to store results of error values of all regression methods\n",
    "res_mse, res_rmse, res_mae, res_r2, res_cv_train, res_cv_test = [], [], [], [], [], []"
   ]
  },
  {
   "cell_type": "markdown",
   "id": "0d688d9d",
   "metadata": {},
   "source": [
    "# ML Regression Models\n",
    "\n",
    "## 1 - Linear Regression"
   ]
  },
  {
   "cell_type": "code",
   "execution_count": 27,
   "id": "c0e5353b",
   "metadata": {},
   "outputs": [
    {
     "data": {
      "text/plain": [
       "{'copy_X': True,\n",
       " 'fit_intercept': True,\n",
       " 'n_jobs': None,\n",
       " 'normalize': 'deprecated',\n",
       " 'positive': False}"
      ]
     },
     "execution_count": 27,
     "metadata": {},
     "output_type": "execute_result"
    }
   ],
   "source": [
    "linreg = LinearRegression()\n",
    "linreg.get_params()"
   ]
  },
  {
   "cell_type": "code",
   "execution_count": 28,
   "id": "d5044612",
   "metadata": {},
   "outputs": [
    {
     "name": "stdout",
     "output_type": "stream",
     "text": [
      ">>> Fitting and prediction were completed in 0.015 seconds.\n"
     ]
    }
   ],
   "source": [
    "# Fit the training data into the linear reg. model, then make predictions on the test data\n",
    "s_time = time.time()\n",
    "linreg.fit(x_train, y_train)\n",
    "y_pred = linreg.predict(x_test)\n",
    "print(\">>> Fitting and prediction were completed in {:.3f} seconds.\".format(time.time()-s_time))"
   ]
  },
  {
   "cell_type": "code",
   "execution_count": 29,
   "id": "b1fcf4a5",
   "metadata": {},
   "outputs": [
    {
     "name": "stdout",
     "output_type": "stream",
     "text": [
      "COEF: [ -7730.92334443   4958.56082596 -74957.2734404  -59472.42026439\n",
      " -41918.79661852 -79848.85825976 -69547.28076842 -44761.64722197\n",
      " -69577.92796095 -70014.28775095 -65188.33901756 -48335.08390297\n",
      " -74016.05381127 -32936.81772435]\n",
      "RANK: 14\n",
      "INTERCEPT: 108831.37840412339\n"
     ]
    }
   ],
   "source": [
    "print(\"COEF:\", linreg.coef_)   # Estimated coefficients for the linear reg.\n",
    "print(\"RANK:\", linreg.rank_)   # Rank of matrix\n",
    "print(\"INTERCEPT:\", linreg.intercept_)   # Independent term in the linear model"
   ]
  },
  {
   "cell_type": "code",
   "execution_count": 30,
   "id": "dbd41d6c",
   "metadata": {},
   "outputs": [
    {
     "name": "stdout",
     "output_type": "stream",
     "text": [
      "  108831.37840412339 |  69482.0\n",
      "   71871.14261156527 | 108098.0\n",
      "  108831.37840412339 | 189000.0\n",
      "  108831.37840412339 | 115000.0\n",
      "  108831.37840412339 |  47412.0\n",
      "  108831.37840412339 | 200000.0\n",
      "   68163.63733534927 |  84019.0\n",
      "  108831.37840412339 |  80172.0\n",
      "  54317.518965691874 |  37834.0\n",
      "    44242.6584616671 |  43239.0\n",
      "   68163.63733534927 | 148648.0\n",
      "  108831.37840412339 | 150000.0\n",
      "   113789.9392300827 | 183000.0\n",
      "  54317.518965691874 |  64859.0\n",
      "   71871.14261156527 |  70264.0\n",
      "  108831.37840412339 | 150000.0\n",
      "   101100.4550596959 |  66810.0\n",
      "   34815.32459285033 |  45360.0\n",
      "  108831.37840412339 |  84000.0\n",
      "   41628.03479530508 |  38916.0\n"
     ]
    }
   ],
   "source": [
    "# Compare the predicted values against the actual ones for the first 20 rows of the test set\n",
    "for i in range(20):\n",
    "    print(\"{:20} | {:8}\".format(y_pred[i], y_test.iloc[i]))"
   ]
  },
  {
   "cell_type": "code",
   "execution_count": 31,
   "id": "bed0a4ab",
   "metadata": {},
   "outputs": [
    {
     "name": "stdout",
     "output_type": "stream",
     "text": [
      "MSE: 1104951549.2130463\n",
      "RMSE: 33240.81150051915\n",
      "MAE: 25189.55928065117\n",
      "R2 SCORE: 0.4581171966402733\n",
      "\n",
      "# CROSS VALIDATION #\n",
      "FITTING TIME: [0.01402068 0.0211277  0.01127219 0.00605893 0.015661  ] -> 0.013628101348876953\n",
      "SCORING TIME: [0.         0.00203133 0.00099993 0.         0.        ] -> 0.0006062507629394532\n",
      "TRAIN SCORE: [0.47542304 0.46199838 0.46620698 0.46090231 0.46270829] -> 0.4654477996253445\n",
      "TEST SCORE: [0.42487896 0.47405089 0.45753918 0.45948841 0.476067  ] -> 0.45840488766264836\n"
     ]
    }
   ],
   "source": [
    "# Results of metrics\n",
    "mse, rmse, mae, r2 = mean_squared_error(y_test, y_pred), mean_squared_error(y_test, y_pred, squared=False), \\\n",
    "    mean_absolute_error(y_test, y_pred), r2_score(y_test, y_pred)\n",
    "print(\"MSE:\", mse)         # Mean squared error\n",
    "print(\"RMSE:\", rmse)       # Root mean squared error\n",
    "print(\"MAE:\", mae)         # Mean absolute error\n",
    "print(\"R2 SCORE:\", r2)     # R2 score\n",
    "res_mse.append(mse)\n",
    "res_rmse.append(rmse)\n",
    "res_mae.append(mae)\n",
    "res_r2.append(r2)\n",
    "print(\"\\n# CROSS VALIDATION #\")\n",
    "cross_val = cross_validate(linreg, X, Y, cv=5, return_train_score=True)    # 5-fold Cross Validation\n",
    "print(\"FITTING TIME:\", cross_val['fit_time'], \"->\", cross_val['fit_time'].mean())\n",
    "print(\"SCORING TIME:\", cross_val['score_time'], \"->\", cross_val['score_time'].mean())\n",
    "print(\"TRAIN SCORE:\", cross_val['train_score'], \"->\", cross_val['train_score'].mean())\n",
    "res_cv_train.append(cross_val['train_score'].mean())\n",
    "print(\"TEST SCORE:\", cross_val['test_score'], \"->\", cross_val['test_score'].mean())\n",
    "res_cv_test.append(cross_val['test_score'].mean())"
   ]
  },
  {
   "cell_type": "markdown",
   "id": "639c2667",
   "metadata": {},
   "source": [
    "## 2 - Lasso Regression"
   ]
  },
  {
   "cell_type": "code",
   "execution_count": 32,
   "id": "6ddee1b1",
   "metadata": {},
   "outputs": [
    {
     "data": {
      "text/plain": [
       "{'alpha': 1.0,\n",
       " 'copy_X': True,\n",
       " 'fit_intercept': True,\n",
       " 'max_iter': 1000,\n",
       " 'normalize': 'deprecated',\n",
       " 'positive': False,\n",
       " 'precompute': False,\n",
       " 'random_state': None,\n",
       " 'selection': 'cyclic',\n",
       " 'tol': 0.0001,\n",
       " 'warm_start': False}"
      ]
     },
     "execution_count": 32,
     "metadata": {},
     "output_type": "execute_result"
    }
   ],
   "source": [
    "lasso = Lasso()\n",
    "lasso.get_params()"
   ]
  },
  {
   "cell_type": "code",
   "execution_count": 33,
   "id": "ab374c92",
   "metadata": {},
   "outputs": [
    {
     "name": "stdout",
     "output_type": "stream",
     "text": [
      ">>> Fitting and prediction were completed in 0.048 seconds.\n"
     ]
    }
   ],
   "source": [
    "# Fit the training data into the lasso model, then make predictions on the test data\n",
    "s_time = time.time()\n",
    "lasso.fit(x_train, y_train)\n",
    "y_pred = lasso.predict(x_test)\n",
    "print(\">>> Fitting and prediction were completed in {:.3f} seconds.\".format(time.time()-s_time))"
   ]
  },
  {
   "cell_type": "code",
   "execution_count": 34,
   "id": "93d1e25e",
   "metadata": {},
   "outputs": [
    {
     "name": "stdout",
     "output_type": "stream",
     "text": [
      "COEF: [ -7730.16192005   4944.49776308 -74907.3588288  -59418.35997517\n",
      " -41878.55222314 -79809.12151235 -69482.28757335 -44701.05134465\n",
      " -69513.1427124  -69946.05927569 -65127.10620277 -48270.52116681\n",
      " -73922.99278398 -32897.54311306]\n",
      "INTERCEPT: 108806.32933367518\n",
      "ITERATIONS: 12\n"
     ]
    }
   ],
   "source": [
    "print(\"COEF:\", lasso.coef_)   # Parameter vector (w in the cost function function formula)\n",
    "print(\"INTERCEPT:\", lasso.intercept_)   # Independent term in decision function\n",
    "# Number of iterations run by the coord. descent solver to reach the specified tolerance\n",
    "print(\"ITERATIONS:\", lasso.n_iter_)  "
   ]
  },
  {
   "cell_type": "code",
   "execution_count": 35,
   "id": "e6be6282",
   "metadata": {},
   "outputs": [
    {
     "name": "stdout",
     "output_type": "stream",
     "text": [
      "  108806.32933367518 |  69482.0\n",
      "   71872.27487362115 | 108098.0\n",
      "  108806.32933367518 | 189000.0\n",
      "  108806.32933367518 | 115000.0\n",
      "  108806.32933367518 |  47412.0\n",
      "  108806.32933367518 | 200000.0\n",
      "   68178.62430057317 |  84019.0\n",
      "  108806.32933367518 |  80172.0\n",
      "   54332.46712158789 |  37834.0\n",
      "   44268.53952341209 |  43239.0\n",
      "   68178.62430057317 | 148648.0\n",
      "  108806.32933367518 | 150000.0\n",
      "  113750.82709675809 | 183000.0\n",
      "   54332.46712158789 |  64859.0\n",
      "   71872.27487362115 |  70264.0\n",
      "  108806.32933367518 | 150000.0\n",
      "  101076.16741362933 |  66810.0\n",
      "    34883.3365496981 |  45360.0\n",
      "  108806.32933367518 |  84000.0\n",
      "   41657.80743845913 |  38916.0\n"
     ]
    }
   ],
   "source": [
    "# Compare the predicted values against the actual ones for the first 20 rows of the test set\n",
    "for i in range(20):\n",
    "    print(\"{:20} | {:8}\".format(y_pred[i], y_test.iloc[i]))"
   ]
  },
  {
   "cell_type": "code",
   "execution_count": 36,
   "id": "9dcf844a",
   "metadata": {},
   "outputs": [
    {
     "name": "stdout",
     "output_type": "stream",
     "text": [
      "MSE: 1104937741.2287428\n",
      "RMSE: 33240.603803612576\n",
      "MAE: 25191.080515609883\n",
      "R2 SCORE: 0.4581239682577696\n",
      "\n",
      "# CROSS VALIDATION #\n",
      "FITTING TIME: [0.05119658 0.03762913 0.0383544  0.04159999 0.04537702] -> 0.0428314208984375\n",
      "SCORING TIME: [0.00202847 0.         0.00125623 0.00168562 0.00197673] -> 0.0013894081115722657\n",
      "TRAIN SCORE: [0.47542269 0.46199803 0.46620663 0.46090195 0.46270794] -> 0.46544744920637005\n",
      "TEST SCORE: [0.4249112  0.47406516 0.4575705  0.45941565 0.47605649] -> 0.45840380080325216\n"
     ]
    }
   ],
   "source": [
    "# Results of metrics\n",
    "mse, rmse, mae, r2 = mean_squared_error(y_test, y_pred), mean_squared_error(y_test, y_pred, squared=False), \\\n",
    "    mean_absolute_error(y_test, y_pred), r2_score(y_test, y_pred)\n",
    "print(\"MSE:\", mse)          \n",
    "print(\"RMSE:\", rmse)       \n",
    "print(\"MAE:\", mae)        \n",
    "print(\"R2 SCORE:\", r2)\n",
    "res_mse.append(mse)\n",
    "res_rmse.append(rmse)\n",
    "res_mae.append(mae)\n",
    "res_r2.append(r2)\n",
    "print(\"\\n# CROSS VALIDATION #\")\n",
    "cross_val = cross_validate(lasso, X, Y, cv=5, return_train_score=True)\n",
    "print(\"FITTING TIME:\", cross_val['fit_time'], \"->\", cross_val['fit_time'].mean())\n",
    "print(\"SCORING TIME:\", cross_val['score_time'], \"->\", cross_val['score_time'].mean())\n",
    "print(\"TRAIN SCORE:\", cross_val['train_score'], \"->\", cross_val['train_score'].mean())\n",
    "res_cv_train.append(cross_val['train_score'].mean())\n",
    "print(\"TEST SCORE:\", cross_val['test_score'], \"->\", cross_val['test_score'].mean())\n",
    "res_cv_test.append(cross_val['test_score'].mean())"
   ]
  },
  {
   "cell_type": "markdown",
   "id": "d4e54acd",
   "metadata": {},
   "source": [
    "## 3 - Ridge Regression"
   ]
  },
  {
   "cell_type": "code",
   "execution_count": 37,
   "id": "a0489cd1",
   "metadata": {},
   "outputs": [
    {
     "data": {
      "text/plain": [
       "{'alpha': 1.0,\n",
       " 'copy_X': True,\n",
       " 'fit_intercept': True,\n",
       " 'max_iter': None,\n",
       " 'normalize': 'deprecated',\n",
       " 'positive': False,\n",
       " 'random_state': None,\n",
       " 'solver': 'auto',\n",
       " 'tol': 0.001}"
      ]
     },
     "execution_count": 37,
     "metadata": {},
     "output_type": "execute_result"
    }
   ],
   "source": [
    "ridge = Ridge()\n",
    "ridge.get_params()"
   ]
  },
  {
   "cell_type": "code",
   "execution_count": 38,
   "id": "94c874fc",
   "metadata": {},
   "outputs": [
    {
     "name": "stdout",
     "output_type": "stream",
     "text": [
      ">>> Fitting and prediction were completed in 0.012 seconds.\n"
     ]
    }
   ],
   "source": [
    "# Fit the training data into the ridge model, then make predictions on the test data\n",
    "s_time = time.time()\n",
    "ridge.fit(x_train, y_train)\n",
    "y_pred = ridge.predict(x_test)\n",
    "print(\">>> Fitting and prediction were completed in {:.3f} seconds.\".format(time.time()-s_time))"
   ]
  },
  {
   "cell_type": "code",
   "execution_count": 39,
   "id": "7a8d5e74",
   "metadata": {},
   "outputs": [
    {
     "name": "stdout",
     "output_type": "stream",
     "text": [
      "COEF: [ -7739.37897628   4930.36521348 -74793.09464925 -59322.03742776\n",
      " -41811.06421871 -79722.99498858 -69339.01354931 -44608.199736\n",
      " -69374.81801184 -69797.66651635 -65001.41897617 -48165.91873081\n",
      " -73698.74559631 -32836.26524006]\n",
      "INTERCEPT: 108756.89084917761\n",
      "ITERATIONS: None\n"
     ]
    }
   ],
   "source": [
    "print(\"COEF:\", ridge.coef_)   # Weight vector(s)\n",
    "print(\"INTERCEPT:\", ridge.intercept_)   # Independent term in decision function\n",
    "print(\"ITERATIONS:\", ridge.n_iter_)   # Actual number of iterations for each target. (Only for 'sag' & 'lsqr' solvers)"
   ]
  },
  {
   "cell_type": "code",
   "execution_count": 40,
   "id": "e043c30e",
   "metadata": {},
   "outputs": [
    {
     "name": "stdout",
     "output_type": "stream",
     "text": [
      "  108756.89084917761 |  69482.0\n",
      "   71876.19184394613 | 108098.0\n",
      "  108756.89084917761 | 189000.0\n",
      "  108756.89084917761 | 115000.0\n",
      "  108756.89084917761 |  47412.0\n",
      "  108756.89084917761 | 200000.0\n",
      "   68181.24663283766 |  84019.0\n",
      "  108756.89084917761 |  80172.0\n",
      "   54365.21863488873 |  37834.0\n",
      "   44348.24251334116 |  43239.0\n",
      "   68181.24663283766 | 148648.0\n",
      "  108756.89084917761 | 150000.0\n",
      "  113687.25606265276 | 183000.0\n",
      "   54365.21863488873 |  64859.0\n",
      "   71876.19184394613 |  70264.0\n",
      "  108756.89084917761 | 150000.0\n",
      "   101017.5118729014 |  66810.0\n",
      "   35058.14525286657 |  45360.0\n",
      "  108756.89084917761 |  84000.0\n",
      "  41695.474445137384 |  38916.0\n"
     ]
    }
   ],
   "source": [
    "# Compare the predicted values against the actual ones for the first 20 rows of the test set\n",
    "for i in range(20):\n",
    "    print(\"{:20} | {:8}\".format(y_pred[i], y_test.iloc[i]))"
   ]
  },
  {
   "cell_type": "code",
   "execution_count": 41,
   "id": "a77b95d5",
   "metadata": {},
   "outputs": [
    {
     "name": "stdout",
     "output_type": "stream",
     "text": [
      "MSE: 1104919540.869291\n",
      "RMSE: 33240.33003550493\n",
      "MAE: 25194.696209433874\n",
      "R2 SCORE: 0.4581328939539314\n",
      "\n",
      "# CROSS VALIDATION #\n",
      "FITTING TIME: [0.0064075  0.00532269 0.01441193 0.00499463 0.00590706] -> 0.007408761978149414\n",
      "SCORING TIME: [0.         0.         0.00101924 0.00197649 0.00197077] -> 0.0009932994842529296\n",
      "TRAIN SCORE: [0.47541982 0.46199519 0.46620379 0.4608992  0.46270515] -> 0.465444631526823\n",
      "TEST SCORE: [0.42496602 0.47409512 0.45762287 0.45927374 0.47604834] -> 0.45840121883316576\n"
     ]
    }
   ],
   "source": [
    "# Results of metrics\n",
    "mse, rmse, mae, r2 = mean_squared_error(y_test, y_pred), mean_squared_error(y_test, y_pred, squared=False), \\\n",
    "    mean_absolute_error(y_test, y_pred), r2_score(y_test, y_pred)\n",
    "print(\"MSE:\", mse)        \n",
    "print(\"RMSE:\", rmse)      \n",
    "print(\"MAE:\", mae)        \n",
    "print(\"R2 SCORE:\", r2)  \n",
    "res_mse.append(mse)\n",
    "res_rmse.append(rmse)\n",
    "res_mae.append(mae)\n",
    "res_r2.append(r2)\n",
    "print(\"\\n# CROSS VALIDATION #\")\n",
    "cross_val = cross_validate(ridge, X, Y, cv=5, return_train_score=True)\n",
    "print(\"FITTING TIME:\", cross_val['fit_time'], \"->\", cross_val['fit_time'].mean())\n",
    "print(\"SCORING TIME:\", cross_val['score_time'], \"->\", cross_val['score_time'].mean())\n",
    "print(\"TRAIN SCORE:\", cross_val['train_score'], \"->\", cross_val['train_score'].mean())\n",
    "res_cv_train.append(cross_val['train_score'].mean())\n",
    "print(\"TEST SCORE:\", cross_val['test_score'], \"->\", cross_val['test_score'].mean())\n",
    "res_cv_test.append(cross_val['test_score'].mean())"
   ]
  },
  {
   "cell_type": "markdown",
   "id": "8784c503",
   "metadata": {},
   "source": [
    "## 4 - Polynomial Regression"
   ]
  },
  {
   "cell_type": "code",
   "execution_count": 42,
   "id": "80d631b6",
   "metadata": {},
   "outputs": [
    {
     "data": {
      "text/plain": [
       "{'degree': 2, 'include_bias': True, 'interaction_only': False, 'order': 'C'}"
      ]
     },
     "execution_count": 42,
     "metadata": {},
     "output_type": "execute_result"
    }
   ],
   "source": [
    "poly_feat = PolynomialFeatures(degree=2)\n",
    "poly_feat.get_params()"
   ]
  },
  {
   "cell_type": "code",
   "execution_count": 43,
   "id": "263c2a3f",
   "metadata": {},
   "outputs": [
    {
     "name": "stdout",
     "output_type": "stream",
     "text": [
      "(20464, 120) (5116, 120)\n"
     ]
    }
   ],
   "source": [
    "# Fit then transform for both training and test data (the number of columns must increase)\n",
    "x_poly_train = poly_feat.fit_transform(x_train)\n",
    "x_poly_test = poly_feat.fit_transform(x_test)\n",
    "print(x_poly_train.shape, x_poly_test.shape)"
   ]
  },
  {
   "cell_type": "markdown",
   "id": "1e3abd95",
   "metadata": {},
   "source": [
    "### Polynomial Regression with Lasso"
   ]
  },
  {
   "cell_type": "code",
   "execution_count": 44,
   "id": "268ccb9f",
   "metadata": {},
   "outputs": [
    {
     "name": "stdout",
     "output_type": "stream",
     "text": [
      ">>> Fitting and prediction were completed in 0.481 seconds.\n"
     ]
    }
   ],
   "source": [
    "lasso = Lasso()\n",
    "s_time = time.time()\n",
    "lasso.fit(x_poly_train, y_train)\n",
    "y_poly_pred = lasso.predict(x_poly_test)\n",
    "print(\">>> Fitting and prediction were completed in {:.3f} seconds.\".format(time.time()-s_time))"
   ]
  },
  {
   "cell_type": "code",
   "execution_count": 45,
   "id": "7fd41ecd",
   "metadata": {
    "scrolled": true
   },
   "outputs": [
    {
     "name": "stdout",
     "output_type": "stream",
     "text": [
      "COEF: [     0.          -7008.77361112   1960.43980811 -53394.33377953\n",
      " -37085.07922921 -20598.80743115 -62895.30592807 -53674.57897377\n",
      " -29078.16587375 -54611.00378369 -56383.90812416 -53029.66356603\n",
      " -36920.35015168 -63675.25654326 -23866.56911073  -1984.55213105\n",
      "      0.           3447.80819582   3350.14543379  -2222.44131221\n",
      "   7038.98149457   4213.99857069  10564.67190683   4574.13930436\n",
      "   1728.48208876   7122.33048      5605.20382798   1765.04217131\n",
      "   -613.36922901   4809.05946298  -2095.25454163  -6234.01722231\n",
      "  -1545.32060459  -5277.18424534  -6969.62163739   4549.47461015\n",
      "  -1375.02888066  -3585.08900019  -5063.05721107  -2305.96524195\n",
      "   4877.18141575  -2326.27704948 -21911.93910103      0.\n",
      "      0.              0.              0.              0.\n",
      "      0.              0.              0.              0.\n",
      "      0.              0.         -19371.19862069      0.\n",
      "      0.              0.              0.              0.\n",
      "      0.              0.              0.              0.\n",
      "      0.         -20391.30119456      0.              0.\n",
      "      0.              0.              0.              0.\n",
      "      0.              0.              0.         -16195.37484477\n",
      "      0.              0.              0.              0.\n",
      "      0.              0.              0.              0.\n",
      " -15365.92419188      0.              0.              0.\n",
      "      0.              0.              0.              0.\n",
      " -19525.79305032      0.              0.              0.\n",
      "      0.              0.              0.         -15807.5029197\n",
      "      0.              0.              0.              0.\n",
      "      0.         -12918.73988333      0.              0.\n",
      "      0.              0.         -12452.01141039      0.\n",
      "      0.              0.         -12475.03681927      0.\n",
      "      0.         -11325.19205791      0.          -8448.35170715]\n",
      "INTERCEPT: 108712.09432295768\n",
      "ITERATIONS: 39\n"
     ]
    }
   ],
   "source": [
    "print(\"COEF:\", lasso.coef_)   # Parameter vector (w in the cost function function formula)\n",
    "print(\"INTERCEPT:\", lasso.intercept_)   # Independent term in decision function\n",
    "# Number of iterations run by the coord. descent solver to reach the specified tolerance\n",
    "print(\"ITERATIONS:\", lasso.n_iter_) "
   ]
  },
  {
   "cell_type": "code",
   "execution_count": 46,
   "id": "735bd95a",
   "metadata": {},
   "outputs": [
    {
     "name": "stdout",
     "output_type": "stream",
     "text": [
      "MSE: 1103815183.7750955\n",
      "RMSE: 33223.71417790454\n",
      "MAE: 25173.355704357877\n",
      "R2 SCORE: 0.45867448522871546\n",
      "\n",
      "# CROSS VALIDATION #\n",
      "FITTING TIME: [0.05329418 0.04744267 0.04218316 0.04131413 0.04092526] -> 0.04503188133239746\n",
      "SCORING TIME: [0.         0.         0.00226736 0.00199914 0.00199962] -> 0.001253223419189453\n",
      "TRAIN SCORE: [0.47542269 0.46199803 0.46620663 0.46090195 0.46270794] -> 0.46544744920637005\n",
      "TEST SCORE: [0.4249112  0.47406516 0.4575705  0.45941565 0.47605649] -> 0.45840380080325216\n"
     ]
    }
   ],
   "source": [
    "# Results of metrics\n",
    "mse, rmse, mae, r2 = mean_squared_error(y_test, y_poly_pred), mean_squared_error(y_test, y_poly_pred, squared=False), \\\n",
    "    mean_absolute_error(y_test, y_poly_pred), r2_score(y_test, y_poly_pred)\n",
    "print(\"MSE:\", mse)          \n",
    "print(\"RMSE:\", rmse)     \n",
    "print(\"MAE:\", mae)         \n",
    "print(\"R2 SCORE:\", r2)    \n",
    "res_mse.append(mse)\n",
    "res_rmse.append(rmse)\n",
    "res_mae.append(mae)\n",
    "res_r2.append(r2)\n",
    "print(\"\\n# CROSS VALIDATION #\")\n",
    "cross_val = cross_validate(lasso, X, Y, cv=5, return_train_score=True)\n",
    "print(\"FITTING TIME:\", cross_val['fit_time'], \"->\", cross_val['fit_time'].mean())\n",
    "print(\"SCORING TIME:\", cross_val['score_time'], \"->\", cross_val['score_time'].mean())\n",
    "print(\"TRAIN SCORE:\", cross_val['train_score'], \"->\", cross_val['train_score'].mean())\n",
    "res_cv_train.append(cross_val['train_score'].mean())\n",
    "print(\"TEST SCORE:\", cross_val['test_score'], \"->\", cross_val['test_score'].mean())\n",
    "res_cv_test.append(cross_val['test_score'].mean())"
   ]
  },
  {
   "cell_type": "markdown",
   "id": "d2b8e368",
   "metadata": {},
   "source": [
    "### Polynomial Regression with Ridge"
   ]
  },
  {
   "cell_type": "code",
   "execution_count": 47,
   "id": "c07a2d92",
   "metadata": {},
   "outputs": [
    {
     "name": "stdout",
     "output_type": "stream",
     "text": [
      ">>> Fitting and prediction were completed in 0.030 seconds.\n"
     ]
    }
   ],
   "source": [
    "ridge = Ridge()\n",
    "s_time = time.time()\n",
    "ridge.fit(x_poly_train, y_train)\n",
    "y_poly_pred = ridge.predict(x_poly_test)\n",
    "print(\">>> Fitting and prediction were completed in {:.3f} seconds.\".format(time.time()-s_time))"
   ]
  },
  {
   "cell_type": "code",
   "execution_count": 48,
   "id": "3637088e",
   "metadata": {
    "scrolled": true
   },
   "outputs": [
    {
     "name": "stdout",
     "output_type": "stream",
     "text": [
      "COEF: [     0.          -4520.75099533   3440.49205998 -37624.0824162\n",
      " -28208.12346091 -20457.93735525 -39525.06468414 -34476.45262502\n",
      " -24324.66272814 -35151.2033555  -34613.10238483 -32703.40550306\n",
      " -24668.53824811 -37525.9582243  -16129.06378609  -4520.75099533\n",
      "      0.           3540.51129909   3595.51351263  -2257.14698167\n",
      "   7390.55023807   4271.60225422  10749.05518771   4639.33416516\n",
      "   1902.26395601   7204.27653763   5701.46494586   2293.55626357\n",
      "   -651.11946752   3440.49206     -2380.09010913  -6378.6385163\n",
      "  -1729.36379758  -5442.90976791  -7222.30070383   4591.49972591\n",
      "  -1647.26169034  -3833.20248515  -5300.53814681  -2551.2865398\n",
      "   5142.49246599  -2510.57901274 -37624.08241581      0.\n",
      "      0.              0.              0.              0.\n",
      "      0.              0.              0.              0.\n",
      "      0.              0.         -28208.1234609       0.\n",
      "      0.              0.              0.              0.\n",
      "      0.              0.              0.              0.\n",
      "      0.         -20457.93735526      0.              0.\n",
      "      0.              0.              0.              0.\n",
      "      0.              0.              0.         -39525.06468416\n",
      "      0.              0.              0.              0.\n",
      "      0.              0.              0.              0.\n",
      " -34476.45262502      0.              0.              0.\n",
      "      0.              0.              0.              0.\n",
      " -24324.66272814      0.              0.              0.\n",
      "      0.              0.              0.         -35151.20335548\n",
      "      0.              0.              0.              0.\n",
      "      0.         -34613.10238485      0.              0.\n",
      "      0.              0.         -32703.40550307      0.\n",
      "      0.              0.         -24668.53824817      0.\n",
      "      0.         -37525.95822429      0.         -16129.06378607]\n",
      "INTERCEPT: 108687.1164809326\n",
      "ITERATIONS: None\n"
     ]
    }
   ],
   "source": [
    "print(\"COEF:\", ridge.coef_)   # Weight vector(s)\n",
    "print(\"INTERCEPT:\", ridge.intercept_)   # Independent term in decision function\n",
    "print(\"ITERATIONS:\", ridge.n_iter_)   # Actual number of iterations for each target. (Only for 'sag' & 'lsqr' solvers)"
   ]
  },
  {
   "cell_type": "code",
   "execution_count": 49,
   "id": "ac946068",
   "metadata": {},
   "outputs": [
    {
     "name": "stdout",
     "output_type": "stream",
     "text": [
      "MSE: 1103867924.7767913\n",
      "RMSE: 33224.50789367378\n",
      "MAE: 25175.295251842257\n",
      "R2 SCORE: 0.45864862034634\n",
      "\n",
      "# CROSS VALIDATION #\n",
      "FITTING TIME: [0.00981951 0.         0.00600314 0.00706363 0.00600672] -> 0.005778598785400391\n",
      "SCORING TIME: [0.00324392 0.         0.00167084 0.00128412 0.00199199] -> 0.001638174057006836\n",
      "TRAIN SCORE: [0.47541982 0.46199519 0.46620379 0.4608992  0.46270515] -> 0.465444631526823\n",
      "TEST SCORE: [0.42496602 0.47409512 0.45762287 0.45927374 0.47604834] -> 0.45840121883316576\n"
     ]
    }
   ],
   "source": [
    "# Results of metrics\n",
    "mse, rmse, mae, r2 = mean_squared_error(y_test, y_poly_pred), mean_squared_error(y_test, y_poly_pred, squared=False), \\\n",
    "    mean_absolute_error(y_test, y_poly_pred), r2_score(y_test, y_poly_pred)\n",
    "print(\"MSE:\", mse)        \n",
    "print(\"RMSE:\", rmse)       \n",
    "print(\"MAE:\", mae)          \n",
    "print(\"R2 SCORE:\", r2)      \n",
    "res_mse.append(mse)\n",
    "res_rmse.append(rmse)\n",
    "res_mae.append(mae)\n",
    "res_r2.append(r2)\n",
    "print(\"\\n# CROSS VALIDATION #\")\n",
    "cross_val = cross_validate(ridge, X, Y, cv=5, return_train_score=True)\n",
    "print(\"FITTING TIME:\", cross_val['fit_time'], \"->\", cross_val['fit_time'].mean())\n",
    "print(\"SCORING TIME:\", cross_val['score_time'], \"->\", cross_val['score_time'].mean())\n",
    "print(\"TRAIN SCORE:\", cross_val['train_score'], \"->\", cross_val['train_score'].mean())\n",
    "res_cv_train.append(cross_val['train_score'].mean())\n",
    "print(\"TEST SCORE:\", cross_val['test_score'], \"->\", cross_val['test_score'].mean())\n",
    "res_cv_test.append(cross_val['test_score'].mean())"
   ]
  },
  {
   "cell_type": "markdown",
   "id": "735e01fb",
   "metadata": {},
   "source": [
    "## 5 - Decision Tree Regression"
   ]
  },
  {
   "cell_type": "code",
   "execution_count": 50,
   "id": "9f797d92",
   "metadata": {},
   "outputs": [
    {
     "data": {
      "text/plain": [
       "{'ccp_alpha': 0.0,\n",
       " 'criterion': 'squared_error',\n",
       " 'max_depth': None,\n",
       " 'max_features': None,\n",
       " 'max_leaf_nodes': None,\n",
       " 'min_impurity_decrease': 0.0,\n",
       " 'min_samples_leaf': 1,\n",
       " 'min_samples_split': 2,\n",
       " 'min_weight_fraction_leaf': 0.0,\n",
       " 'random_state': None,\n",
       " 'splitter': 'best'}"
      ]
     },
     "execution_count": 50,
     "metadata": {},
     "output_type": "execute_result"
    }
   ],
   "source": [
    "# dtree = DecisionTreeRegressor(criterion='absolute_error', splitter='random', max_depth=None, min_samples_split=2,\n",
    "#                              min_samples_leaf=1, min_weight_fraction_leaf=0.0, max_features='log2', max_leaf_nodes=10,\n",
    "#                              min_impurity_decrease=0.2, ccp_alpha=0.0)\n",
    "dtree = DecisionTreeRegressor()\n",
    "dtree.get_params()"
   ]
  },
  {
   "cell_type": "code",
   "execution_count": 51,
   "id": "905127c2",
   "metadata": {},
   "outputs": [
    {
     "name": "stdout",
     "output_type": "stream",
     "text": [
      ">>> Fitting and prediction were completed in 0.018 seconds.\n"
     ]
    }
   ],
   "source": [
    "# Fit the training data into the decision tree, then make predictions on the test data\n",
    "s_time = time.time()\n",
    "dtree.fit(x_train, y_train)\n",
    "y_pred = dtree.predict(x_test)\n",
    "print(\">>> Fitting and prediction were completed in {:.3f} seconds.\".format(time.time()-s_time))"
   ]
  },
  {
   "cell_type": "code",
   "execution_count": 52,
   "id": "99130013",
   "metadata": {},
   "outputs": [
    {
     "name": "stdout",
     "output_type": "stream",
     "text": [
      "  108758.47205773501 |  69482.0\n",
      "   72920.68679245283 | 108098.0\n",
      "  108758.47205773501 | 189000.0\n",
      "  108758.47205773501 | 115000.0\n",
      "  108758.47205773501 |  47412.0\n",
      "  108758.47205773501 | 200000.0\n",
      "   66734.58356164384 |  84019.0\n",
      "  108758.47205773501 |  80172.0\n",
      "  52764.453296703294 |  37834.0\n",
      "   39349.90476190476 |  43239.0\n",
      "   66734.58356164384 | 148648.0\n",
      "  108758.47205773501 | 150000.0\n",
      "  115587.19147694104 | 183000.0\n",
      "  52764.453296703294 |  64859.0\n",
      "   72920.68679245283 |  70264.0\n",
      "  108758.47205773501 | 150000.0\n",
      "   99616.37147595357 |  66810.0\n",
      "   33426.07441860465 |  45360.0\n",
      "  108758.47205773501 |  84000.0\n",
      "           46869.825 |  38916.0\n"
     ]
    }
   ],
   "source": [
    "# Compare the predicted values against the actual ones for the first 20 rows of the test set\n",
    "for i in range(20):\n",
    "    print(\"{:20} | {:8}\".format(y_pred[i], y_test.iloc[i]))"
   ]
  },
  {
   "cell_type": "code",
   "execution_count": 53,
   "id": "d61512ec",
   "metadata": {},
   "outputs": [
    {
     "name": "stdout",
     "output_type": "stream",
     "text": [
      "MSE: 1103962280.8956268\n",
      "RMSE: 33225.92784100433\n",
      "MAE: 25173.670582577848\n",
      "R2 SCORE: 0.4586023468620184\n",
      "\n",
      "# CROSS VALIDATION #\n",
      "FITTING TIME: [0.01939869 0.01413894 0.01204467 0.01251173 0.01199746] -> 0.01401829719543457\n",
      "SCORING TIME: [0.00200248 0.00201273 0.00199842 0.00200272 0.00151014] -> 0.0019052982330322265\n",
      "TRAIN SCORE: [0.47664825 0.46340156 0.46776972 0.46248194 0.46394298] -> 0.4668488910319438\n",
      "TEST SCORE: [0.42600704 0.47465618 0.45708401 0.45951014 0.47739464] -> 0.4589303993463686\n"
     ]
    }
   ],
   "source": [
    "# Results of metrics\n",
    "mse, rmse, mae, r2 = mean_squared_error(y_test, y_pred), mean_squared_error(y_test, y_pred, squared=False), \\\n",
    "    mean_absolute_error(y_test, y_pred), r2_score(y_test, y_pred)\n",
    "print(\"MSE:\", mse)        \n",
    "print(\"RMSE:\", rmse)      \n",
    "print(\"MAE:\", mae)        \n",
    "print(\"R2 SCORE:\", r2)  \n",
    "res_mse.append(mse)\n",
    "res_rmse.append(rmse)\n",
    "res_mae.append(mae)\n",
    "res_r2.append(r2)\n",
    "print(\"\\n# CROSS VALIDATION #\")\n",
    "cross_val = cross_validate(dtree, X, Y, cv=5, return_train_score=True)\n",
    "print(\"FITTING TIME:\", cross_val['fit_time'], \"->\", cross_val['fit_time'].mean())\n",
    "print(\"SCORING TIME:\", cross_val['score_time'], \"->\", cross_val['score_time'].mean())\n",
    "print(\"TRAIN SCORE:\", cross_val['train_score'], \"->\", cross_val['train_score'].mean())\n",
    "res_cv_train.append(cross_val['train_score'].mean())\n",
    "print(\"TEST SCORE:\", cross_val['test_score'], \"->\", cross_val['test_score'].mean())\n",
    "res_cv_test.append(cross_val['test_score'].mean())"
   ]
  },
  {
   "cell_type": "markdown",
   "id": "d7885ebd",
   "metadata": {},
   "source": [
    "## 6 - Random Forest Regression"
   ]
  },
  {
   "cell_type": "code",
   "execution_count": 54,
   "id": "e75ec064",
   "metadata": {},
   "outputs": [
    {
     "data": {
      "text/plain": [
       "{'bootstrap': True,\n",
       " 'ccp_alpha': 0.0,\n",
       " 'criterion': 'squared_error',\n",
       " 'max_depth': None,\n",
       " 'max_features': 1.0,\n",
       " 'max_leaf_nodes': None,\n",
       " 'max_samples': None,\n",
       " 'min_impurity_decrease': 0.0,\n",
       " 'min_samples_leaf': 1,\n",
       " 'min_samples_split': 2,\n",
       " 'min_weight_fraction_leaf': 0.0,\n",
       " 'n_estimators': 100,\n",
       " 'n_jobs': None,\n",
       " 'oob_score': False,\n",
       " 'random_state': None,\n",
       " 'verbose': 0,\n",
       " 'warm_start': False}"
      ]
     },
     "execution_count": 54,
     "metadata": {},
     "output_type": "execute_result"
    }
   ],
   "source": [
    "# rforest = RandomForestRegressor(n_estimators=100, criterion='friedman_mse', max_depth=20, min_samples_split=4, \n",
    "#                                 min_samples_leaf=4, min_weight_fraction_leaf=0.1, max_features=None, max_leaf_nodes=None,\n",
    "#                                 bootstrap=True, warm_start=False, ccp_alpha=0.2, max_samples=None)\n",
    "rforest = RandomForestRegressor()\n",
    "rforest.get_params()"
   ]
  },
  {
   "cell_type": "code",
   "execution_count": 55,
   "id": "905c5f25",
   "metadata": {},
   "outputs": [
    {
     "name": "stdout",
     "output_type": "stream",
     "text": [
      ">>> Fitting and prediction were completed in 0.747 seconds.\n"
     ]
    }
   ],
   "source": [
    "# Fit the training data into the random forest, then make predictions on the test data\n",
    "s_time = time.time()\n",
    "rforest.fit(x_train, y_train)\n",
    "y_pred = rforest.predict(x_test)\n",
    "print(\">>> Fitting and prediction were completed in {:.3f} seconds.\".format(time.time()-s_time))"
   ]
  },
  {
   "cell_type": "code",
   "execution_count": 56,
   "id": "1d7ed70d",
   "metadata": {},
   "outputs": [
    {
     "name": "stdout",
     "output_type": "stream",
     "text": [
      "   108778.2183142069 |  69482.0\n",
      "   72927.42393643597 | 108098.0\n",
      "   108778.2183142069 | 189000.0\n",
      "   108778.2183142069 | 115000.0\n",
      "   108778.2183142069 |  47412.0\n",
      "   108778.2183142069 | 200000.0\n",
      "   66605.27152253807 |  84019.0\n",
      "   108778.2183142069 |  80172.0\n",
      "   52645.46478498031 |  37834.0\n",
      "  39282.855325743716 |  43239.0\n",
      "   66605.27152253807 | 148648.0\n",
      "   108778.2183142069 | 150000.0\n",
      "  115565.74566717925 | 183000.0\n",
      "   52645.46478498031 |  64859.0\n",
      "   72927.42393643597 |  70264.0\n",
      "   108778.2183142069 | 150000.0\n",
      "   99476.23224471921 |  66810.0\n",
      "  33201.214578878455 |  45360.0\n",
      "   108778.2183142069 |  84000.0\n",
      "   47041.38880152354 |  38916.0\n"
     ]
    }
   ],
   "source": [
    "# Compare the predicted values against the actual ones for the first 20 rows of the test set\n",
    "for i in range(20):\n",
    "    print(\"{:20} | {:8}\".format(y_pred[i], y_test.iloc[i]))"
   ]
  },
  {
   "cell_type": "code",
   "execution_count": 57,
   "id": "3a62f65c",
   "metadata": {},
   "outputs": [
    {
     "name": "stdout",
     "output_type": "stream",
     "text": [
      "MSE: 1103974023.216525\n",
      "RMSE: 33226.10454471792\n",
      "MAE: 25168.26893414128\n",
      "R2 SCORE: 0.45859658827308225\n",
      "\n",
      "# CROSS VALIDATION #\n",
      "FITTING TIME: [0.70913124 0.70515633 0.77203107 0.74721289 0.71506786] -> 0.729719877243042\n",
      "SCORING TIME: [0.03124952 0.03131342 0.03339219 0.02474689 0.03290677] -> 0.030721759796142577\n",
      "TRAIN SCORE: [0.47664207 0.46339456 0.46776351 0.46247623 0.46393686] -> 0.4668426462828658\n",
      "TEST SCORE: [0.42598212 0.47455746 0.45702164 0.45966081 0.47735339] -> 0.458915084448343\n"
     ]
    }
   ],
   "source": [
    "# Results of metrics\n",
    "mse, rmse, mae, r2 = mean_squared_error(y_test, y_pred), mean_squared_error(y_test, y_pred, squared=False), \\\n",
    "    mean_absolute_error(y_test, y_pred), r2_score(y_test, y_pred)\n",
    "print(\"MSE:\", mse)        \n",
    "print(\"RMSE:\", rmse)      \n",
    "print(\"MAE:\", mae)        \n",
    "print(\"R2 SCORE:\", r2)  \n",
    "res_mse.append(mse)\n",
    "res_rmse.append(rmse)\n",
    "res_mae.append(mae)\n",
    "res_r2.append(r2)\n",
    "print(\"\\n# CROSS VALIDATION #\")\n",
    "cross_val = cross_validate(rforest, X, Y, cv=5, return_train_score=True)\n",
    "print(\"FITTING TIME:\", cross_val['fit_time'], \"->\", cross_val['fit_time'].mean())\n",
    "print(\"SCORING TIME:\", cross_val['score_time'], \"->\", cross_val['score_time'].mean())\n",
    "print(\"TRAIN SCORE:\", cross_val['train_score'], \"->\", cross_val['train_score'].mean())\n",
    "res_cv_train.append(cross_val['train_score'].mean())\n",
    "print(\"TEST SCORE:\", cross_val['test_score'], \"->\", cross_val['test_score'].mean())\n",
    "res_cv_test.append(cross_val['test_score'].mean())"
   ]
  },
  {
   "cell_type": "markdown",
   "id": "b4336914",
   "metadata": {},
   "source": [
    "## 7 - KNN Regression"
   ]
  },
  {
   "cell_type": "code",
   "execution_count": 58,
   "id": "f762b931",
   "metadata": {},
   "outputs": [
    {
     "data": {
      "text/plain": [
       "{'algorithm': 'auto',\n",
       " 'leaf_size': 30,\n",
       " 'metric': 'minkowski',\n",
       " 'metric_params': None,\n",
       " 'n_jobs': None,\n",
       " 'n_neighbors': 5,\n",
       " 'p': 2,\n",
       " 'weights': 'uniform'}"
      ]
     },
     "execution_count": 58,
     "metadata": {},
     "output_type": "execute_result"
    }
   ],
   "source": [
    "knnreg = KNeighborsRegressor()\n",
    "knnreg.get_params()"
   ]
  },
  {
   "cell_type": "code",
   "execution_count": 59,
   "id": "56d3c684",
   "metadata": {},
   "outputs": [
    {
     "name": "stdout",
     "output_type": "stream",
     "text": [
      ">>> Fitting and prediction were completed in 0.801 seconds.\n"
     ]
    }
   ],
   "source": [
    "# Fit the training data into the KNN regression model, then make predictions on the test data\n",
    "s_time = time.time()\n",
    "knnreg.fit(x_train, y_train)\n",
    "y_pred = knnreg.predict(x_test)\n",
    "print(\">>> Fitting and prediction were completed in {:.3f} seconds.\".format(time.time()-s_time))"
   ]
  },
  {
   "cell_type": "code",
   "execution_count": 60,
   "id": "5b9e7c4e",
   "metadata": {},
   "outputs": [
    {
     "name": "stdout",
     "output_type": "stream",
     "text": [
      "EFFECTIVE METRIC: euclidean\n",
      "EFFECTIVE METRIC PARAMS: {}\n",
      "FEATURES: 14\n",
      "FEATURE NAMES: ['LessThanBachelor' 'Master' 'Brazil' 'France' 'Germany' 'India' 'Italy'\n",
      " 'Netherlands' 'Poland' 'Russian Federation' 'Spain' 'Sweden' 'Turkey'\n",
      " 'United Kingdom']\n",
      "SAMPLES FIT: 20464\n"
     ]
    }
   ],
   "source": [
    "# The distance metric to use. It will be the same as the 'metric' parameter or a synonym of it, e.g. 'euclidean' if the\n",
    "# metric parameter set to 'minkowski' and 'p' parameter is set to 2.\n",
    "print(\"EFFECTIVE METRIC:\", knnreg.effective_metric_)\n",
    "# Additional keyword arguments for the metric function. For most metrics will be same with 'metric_params' parameter,\n",
    "# but may also contain the 'p' parameter value if the 'effective_metric_' attribute is set to 'miknowski'.\n",
    "print(\"EFFECTIVE METRIC PARAMS:\", knnreg.effective_metric_params_)\n",
    "print(\"FEATURES:\", knnreg.n_features_in_)  # Number of features seen during fit\n",
    "print(\"FEATURE NAMES:\", knnreg.feature_names_in_)  # Names of features seen during fit\n",
    "print(\"SAMPLES FIT:\", knnreg.n_samples_fit_)  # Number of samples in the fitted data"
   ]
  },
  {
   "cell_type": "code",
   "execution_count": 61,
   "id": "0d7379be",
   "metadata": {},
   "outputs": [
    {
     "name": "stdout",
     "output_type": "stream",
     "text": [
      "            107086.2 |  69482.0\n",
      "             81722.0 | 108098.0\n",
      "            107086.2 | 189000.0\n",
      "            107086.2 | 115000.0\n",
      "            107086.2 |  47412.0\n",
      "            107086.2 | 200000.0\n",
      "             69793.6 |  84019.0\n",
      "            107086.2 |  80172.0\n",
      "             51715.2 |  37834.0\n",
      "             59366.8 |  43239.0\n",
      "             69793.6 | 148648.0\n",
      "            107086.2 | 150000.0\n",
      "             97692.6 | 183000.0\n",
      "             51715.2 |  64859.0\n",
      "             81722.0 |  70264.0\n",
      "            107086.2 | 150000.0\n",
      "            114744.6 |  66810.0\n",
      "             37884.4 |  45360.0\n",
      "            107086.2 |  84000.0\n",
      "             53592.0 |  38916.0\n"
     ]
    }
   ],
   "source": [
    "# Compare the predicted values against the actual ones for the first 20 rows of the test set\n",
    "for i in range(20):\n",
    "    print(\"{:20} | {:8}\".format(y_pred[i], y_test.iloc[i]))"
   ]
  },
  {
   "cell_type": "code",
   "execution_count": 62,
   "id": "96d8e93d",
   "metadata": {},
   "outputs": [
    {
     "name": "stdout",
     "output_type": "stream",
     "text": [
      "MSE: 1212477696.4259343\n",
      "RMSE: 34820.65043082817\n",
      "MAE: 26757.39761532447\n",
      "R2 SCORE: 0.4053849568170085\n",
      "\n",
      "# CROSS VALIDATION #\n",
      "FITTING TIME: [0.04188061 0.04693103 0.04548335 0.03697634 0.03580523] -> 0.04141530990600586\n",
      "SCORING TIME: [0.6797719  0.65411615 0.67115855 0.71167135 0.67114925] -> 0.6775734424591064\n",
      "TRAIN SCORE: [0.39345289 0.34557255 0.40194496 0.36101365 0.35251543] -> 0.3708998954920216\n",
      "TEST SCORE: [0.33698903 0.37135382 0.3856238  0.32904796 0.37900269] -> 0.3604034598476483\n"
     ]
    }
   ],
   "source": [
    "# Results of metrics\n",
    "mse, rmse, mae, r2 = mean_squared_error(y_test, y_pred), mean_squared_error(y_test, y_pred, squared=False), \\\n",
    "    mean_absolute_error(y_test, y_pred), r2_score(y_test, y_pred)\n",
    "print(\"MSE:\", mse)        \n",
    "print(\"RMSE:\", rmse)      \n",
    "print(\"MAE:\", mae)        \n",
    "print(\"R2 SCORE:\", r2)  \n",
    "res_mse.append(mse)\n",
    "res_rmse.append(rmse)\n",
    "res_mae.append(mae)\n",
    "res_r2.append(r2)\n",
    "print(\"\\n# CROSS VALIDATION #\")\n",
    "cross_val = cross_validate(knnreg, X, Y, cv=5, return_train_score=True)\n",
    "print(\"FITTING TIME:\", cross_val['fit_time'], \"->\", cross_val['fit_time'].mean())\n",
    "print(\"SCORING TIME:\", cross_val['score_time'], \"->\", cross_val['score_time'].mean())\n",
    "print(\"TRAIN SCORE:\", cross_val['train_score'], \"->\", cross_val['train_score'].mean())\n",
    "res_cv_train.append(cross_val['train_score'].mean())\n",
    "print(\"TEST SCORE:\", cross_val['test_score'], \"->\", cross_val['test_score'].mean())\n",
    "res_cv_test.append(cross_val['test_score'].mean())"
   ]
  },
  {
   "cell_type": "markdown",
   "id": "ce85a379",
   "metadata": {},
   "source": [
    "## 8 - Gradient Boosting"
   ]
  },
  {
   "cell_type": "code",
   "execution_count": 63,
   "id": "d5be5b6a",
   "metadata": {},
   "outputs": [
    {
     "data": {
      "text/plain": [
       "{'alpha': 0.9,\n",
       " 'ccp_alpha': 0.0,\n",
       " 'criterion': 'friedman_mse',\n",
       " 'init': None,\n",
       " 'learning_rate': 0.1,\n",
       " 'loss': 'squared_error',\n",
       " 'max_depth': 3,\n",
       " 'max_features': None,\n",
       " 'max_leaf_nodes': None,\n",
       " 'min_impurity_decrease': 0.0,\n",
       " 'min_samples_leaf': 1,\n",
       " 'min_samples_split': 2,\n",
       " 'min_weight_fraction_leaf': 0.0,\n",
       " 'n_estimators': 100,\n",
       " 'n_iter_no_change': None,\n",
       " 'random_state': None,\n",
       " 'subsample': 1.0,\n",
       " 'tol': 0.0001,\n",
       " 'validation_fraction': 0.1,\n",
       " 'verbose': 0,\n",
       " 'warm_start': False}"
      ]
     },
     "execution_count": 63,
     "metadata": {},
     "output_type": "execute_result"
    }
   ],
   "source": [
    "gradBoost = GradientBoostingRegressor()\n",
    "gradBoost.get_params()"
   ]
  },
  {
   "cell_type": "code",
   "execution_count": 64,
   "id": "3940d511",
   "metadata": {},
   "outputs": [
    {
     "name": "stdout",
     "output_type": "stream",
     "text": [
      ">>> Fitting and prediction were completed in 0.435 seconds.\n"
     ]
    }
   ],
   "source": [
    "# Fit the training data into the Gradient boosting regression model, then make predictions on the test data\n",
    "s_time = time.time()\n",
    "gradBoost.fit(x_train, y_train)\n",
    "y_pred = gradBoost.predict(x_test)\n",
    "print(\">>> Fitting and prediction were completed in {:.3f} seconds.\".format(time.time()-s_time))"
   ]
  },
  {
   "cell_type": "code",
   "execution_count": 65,
   "id": "46b8e554",
   "metadata": {},
   "outputs": [
    {
     "name": "stdout",
     "output_type": "stream",
     "text": [
      "INIT: DummyRegressor()\n",
      "ESTIMATORS (FIRST 5):\n",
      "[[DecisionTreeRegressor(criterion='friedman_mse', max_depth=3,\n",
      "                        random_state=RandomState(MT19937) at 0x27E783E1340)]\n",
      " [DecisionTreeRegressor(criterion='friedman_mse', max_depth=3,\n",
      "                        random_state=RandomState(MT19937) at 0x27E783E1340)]\n",
      " [DecisionTreeRegressor(criterion='friedman_mse', max_depth=3,\n",
      "                        random_state=RandomState(MT19937) at 0x27E783E1340)]\n",
      " [DecisionTreeRegressor(criterion='friedman_mse', max_depth=3,\n",
      "                        random_state=RandomState(MT19937) at 0x27E783E1340)]\n",
      " [DecisionTreeRegressor(criterion='friedman_mse', max_depth=3,\n",
      "                        random_state=RandomState(MT19937) at 0x27E783E1340)]]\n",
      "# OF ESTIMATORS: 100\n",
      "# OF FEATURES: 14\n",
      "MAX FEATURES: 14\n",
      "FEATURE IMPORTANCES: [0.01189733 0.00287267 0.13766604 0.07892207 0.06658053 0.26259854\n",
      " 0.0763814  0.02881094 0.07767515 0.06820578 0.07063533 0.03288603\n",
      " 0.04950674 0.03536146]\n",
      "TRAIN SCORE:\n",
      "[1.98805484e+09 1.92902348e+09 1.88000757e+09 1.83842372e+09\n",
      " 1.80288227e+09 1.77133542e+09 1.74400841e+09 1.71933841e+09\n",
      " 1.69708319e+09 1.67706293e+09 1.65811964e+09 1.64005447e+09\n",
      " 1.62270876e+09 1.60635487e+09 1.59073670e+09 1.57589057e+09\n",
      " 1.56102896e+09 1.54740407e+09 1.53440588e+09 1.52229206e+09\n",
      " 1.51026686e+09 1.49900172e+09 1.48827996e+09 1.47763013e+09\n",
      " 1.46728727e+09 1.45744043e+09 1.44767274e+09 1.43833645e+09\n",
      " 1.42906471e+09 1.42029174e+09 1.41148236e+09 1.40317899e+09\n",
      " 1.39509732e+09 1.38664785e+09 1.37891492e+09 1.37156194e+09\n",
      " 1.36440459e+09 1.35727293e+09 1.34980150e+09 1.34322572e+09\n",
      " 1.33672306e+09 1.33027524e+09 1.32335318e+09 1.31732302e+09\n",
      " 1.31143907e+09 1.30569406e+09 1.30032265e+09 1.29497059e+09\n",
      " 1.28976095e+09 1.28425737e+09 1.27928237e+09 1.27464503e+09\n",
      " 1.27000496e+09 1.26465810e+09 1.25994696e+09 1.25575666e+09\n",
      " 1.25172801e+09 1.24727002e+09 1.24322653e+09 1.23949462e+09\n",
      " 1.23573339e+09 1.23208101e+09 1.22854740e+09 1.22519246e+09\n",
      " 1.22126796e+09 1.21789273e+09 1.21476887e+09 1.21150753e+09\n",
      " 1.20847507e+09 1.20552948e+09 1.20271527e+09 1.19992251e+09\n",
      " 1.19711014e+09 1.19447036e+09 1.19192899e+09 1.18942900e+09\n",
      " 1.18702335e+09 1.18469715e+09 1.18236640e+09 1.18014588e+09\n",
      " 1.17796502e+09 1.17588702e+09 1.17379598e+09 1.17179104e+09\n",
      " 1.16985916e+09 1.16787024e+09 1.16605836e+09 1.16427868e+09\n",
      " 1.16250187e+09 1.16077799e+09 1.15919118e+09 1.15757958e+09\n",
      " 1.15596971e+09 1.15440335e+09 1.15281624e+09 1.15137999e+09\n",
      " 1.14998487e+09 1.14861493e+09 1.14718702e+09 1.14576961e+09]\n"
     ]
    }
   ],
   "source": [
    "print(\"INIT:\", gradBoost.init_)  # The estimator that provides the initial predictions\n",
    "print(\"ESTIMATORS (FIRST 5):\\n{}\".format(gradBoost.estimators_[:5]))  # The collection of fitted sub-estimators\n",
    "# The number of estimators as selected by early stopping (if 'n_iter_no_change' is specified).\n",
    "# Otherwise, it is set to 'n_estimators'\n",
    "print(\"# OF ESTIMATORS:\", gradBoost.n_estimators_)\n",
    "print(\"# OF FEATURES:\", gradBoost.n_features_in_)  # Number of features seen during fit\n",
    "print(\"MAX FEATURES:\", gradBoost.max_features_)  # The inferred value of max_features\n",
    "print(\"FEATURE IMPORTANCES:\", gradBoost.feature_importances_)  # The impurity-based feature importances\n",
    "# The i'th score 'train_score[i]' is the loss of the model at iteration i on the in-bag sample.\n",
    "# If subsample == 1, this is the loss on the training data.\n",
    "print(\"TRAIN SCORE:\\n{}\".format(gradBoost.train_score_))"
   ]
  },
  {
   "cell_type": "code",
   "execution_count": 66,
   "id": "bc3c7d3f",
   "metadata": {},
   "outputs": [
    {
     "name": "stdout",
     "output_type": "stream",
     "text": [
      "  101583.80078385018 |  69482.0\n",
      "   74600.73100953907 | 108098.0\n",
      "  101583.80078385018 | 189000.0\n",
      "  101583.80078385018 | 115000.0\n",
      "  101583.80078385018 |  47412.0\n",
      "  101583.80078385018 | 200000.0\n",
      "    73369.1106886872 |  84019.0\n",
      "  101583.80078385018 |  80172.0\n",
      "   58235.79551650497 |  37834.0\n",
      "   47807.44047982022 |  43239.0\n",
      "    73369.1106886872 | 148648.0\n",
      "  101583.80078385018 | 150000.0\n",
      "  101583.80078385018 | 183000.0\n",
      "   58235.79551650497 |  64859.0\n",
      "   74600.73100953907 |  70264.0\n",
      "  101583.80078385018 | 150000.0\n",
      "   97419.86750595148 |  66810.0\n",
      "   45236.23094210565 |  45360.0\n",
      "  101583.80078385018 |  84000.0\n",
      "   52861.35062570846 |  38916.0\n"
     ]
    }
   ],
   "source": [
    "# Compare the predicted values against the actual ones for the first 20 rows of the test set\n",
    "for i in range(20):\n",
    "    print(\"{:20} | {:8}\".format(y_pred[i], y_test.iloc[i]))"
   ]
  },
  {
   "cell_type": "code",
   "execution_count": 67,
   "id": "bec4c764",
   "metadata": {},
   "outputs": [
    {
     "name": "stdout",
     "output_type": "stream",
     "text": [
      "MSE: 1148295142.233124\n",
      "RMSE: 33886.50383608678\n",
      "MAE: 26159.15777189241\n",
      "R2 SCORE: 0.43686092734038373\n",
      "\n",
      "# CROSS VALIDATION #\n",
      "FITTING TIME: [0.47865438 0.4726069  0.41713762 0.4113121  0.42585874] -> 0.4411139488220215\n",
      "SCORING TIME: [0.         0.00067163 0.01562381 0.         0.00493574] -> 0.004246234893798828\n",
      "TRAIN SCORE: [0.45079004 0.43891333 0.44401728 0.43568924 0.43860537] -> 0.4416030502819305\n",
      "TEST SCORE: [0.40794081 0.45319767 0.44179128 0.41550108 0.4482888 ] -> 0.433343926939225\n"
     ]
    }
   ],
   "source": [
    "# Results of metrics\n",
    "mse, rmse, mae, r2 = mean_squared_error(y_test, y_pred), mean_squared_error(y_test, y_pred, squared=False), \\\n",
    "    mean_absolute_error(y_test, y_pred), r2_score(y_test, y_pred)\n",
    "print(\"MSE:\", mse)        \n",
    "print(\"RMSE:\", rmse)      \n",
    "print(\"MAE:\", mae)        \n",
    "print(\"R2 SCORE:\", r2)  \n",
    "res_mse.append(mse)\n",
    "res_rmse.append(rmse)\n",
    "res_mae.append(mae)\n",
    "res_r2.append(r2)\n",
    "print(\"\\n# CROSS VALIDATION #\")\n",
    "cross_val = cross_validate(gradBoost, X, Y, cv=5, return_train_score=True)\n",
    "print(\"FITTING TIME:\", cross_val['fit_time'], \"->\", cross_val['fit_time'].mean())\n",
    "print(\"SCORING TIME:\", cross_val['score_time'], \"->\", cross_val['score_time'].mean())\n",
    "print(\"TRAIN SCORE:\", cross_val['train_score'], \"->\", cross_val['train_score'].mean())\n",
    "res_cv_train.append(cross_val['train_score'].mean())\n",
    "print(\"TEST SCORE:\", cross_val['test_score'], \"->\", cross_val['test_score'].mean())\n",
    "res_cv_test.append(cross_val['test_score'].mean())"
   ]
  },
  {
   "cell_type": "markdown",
   "id": "e1e0ab1a",
   "metadata": {},
   "source": [
    "## 9 - XGBoost"
   ]
  },
  {
   "cell_type": "code",
   "execution_count": 68,
   "id": "26be52ff",
   "metadata": {},
   "outputs": [
    {
     "data": {
      "text/plain": [
       "{'objective': 'reg:squarederror',\n",
       " 'base_score': None,\n",
       " 'booster': None,\n",
       " 'callbacks': None,\n",
       " 'colsample_bylevel': None,\n",
       " 'colsample_bynode': None,\n",
       " 'colsample_bytree': None,\n",
       " 'device': None,\n",
       " 'early_stopping_rounds': None,\n",
       " 'enable_categorical': False,\n",
       " 'eval_metric': None,\n",
       " 'feature_types': None,\n",
       " 'gamma': None,\n",
       " 'grow_policy': None,\n",
       " 'importance_type': None,\n",
       " 'interaction_constraints': None,\n",
       " 'learning_rate': None,\n",
       " 'max_bin': None,\n",
       " 'max_cat_threshold': None,\n",
       " 'max_cat_to_onehot': None,\n",
       " 'max_delta_step': None,\n",
       " 'max_depth': None,\n",
       " 'max_leaves': None,\n",
       " 'min_child_weight': None,\n",
       " 'missing': nan,\n",
       " 'monotone_constraints': None,\n",
       " 'multi_strategy': None,\n",
       " 'n_estimators': None,\n",
       " 'n_jobs': None,\n",
       " 'num_parallel_tree': None,\n",
       " 'random_state': None,\n",
       " 'reg_alpha': None,\n",
       " 'reg_lambda': None,\n",
       " 'sampling_method': None,\n",
       " 'scale_pos_weight': None,\n",
       " 'subsample': None,\n",
       " 'tree_method': None,\n",
       " 'validate_parameters': None,\n",
       " 'verbosity': None}"
      ]
     },
     "execution_count": 68,
     "metadata": {},
     "output_type": "execute_result"
    }
   ],
   "source": [
    "xgb = xgboost.XGBRegressor()\n",
    "xgb.get_params()"
   ]
  },
  {
   "cell_type": "code",
   "execution_count": 69,
   "id": "e9075f85",
   "metadata": {},
   "outputs": [
    {
     "name": "stdout",
     "output_type": "stream",
     "text": [
      ">>> Fitting and prediction were completed in 0.098 seconds.\n"
     ]
    }
   ],
   "source": [
    "# Fit the training data into the extreme gradient boosting regression model, then make predictions on the test data\n",
    "s_time = time.time()\n",
    "xgb.fit(x_train, y_train)\n",
    "y_pred = xgb.predict(x_test)\n",
    "print(\">>> Fitting and prediction were completed in {:.3f} seconds.\".format(time.time()-s_time))"
   ]
  },
  {
   "cell_type": "code",
   "execution_count": 70,
   "id": "df0ba677",
   "metadata": {},
   "outputs": [
    {
     "name": "stdout",
     "output_type": "stream",
     "text": [
      "      108754.5859375 |  69482.0\n",
      "       72926.5546875 | 108098.0\n",
      "      108754.5859375 | 189000.0\n",
      "      108754.5859375 | 115000.0\n",
      "      108754.5859375 |  47412.0\n",
      "      108754.5859375 | 200000.0\n",
      "       66728.0859375 |  84019.0\n",
      "      108754.5859375 |  80172.0\n",
      "      52771.19140625 |  37834.0\n",
      "      39373.92578125 |  43239.0\n",
      "       66728.0859375 | 148648.0\n",
      "      108754.5859375 | 150000.0\n",
      "      115558.5859375 | 183000.0\n",
      "      52771.19140625 |  64859.0\n",
      "       72926.5546875 |  70264.0\n",
      "      108754.5859375 | 150000.0\n",
      "       99626.8671875 |  66810.0\n",
      "       33431.8046875 |  45360.0\n",
      "      108754.5859375 |  84000.0\n",
      "       46867.6484375 |  38916.0\n"
     ]
    }
   ],
   "source": [
    "# Compare the predicted values against the actual ones for the first 20 rows of the test set\n",
    "for i in range(20):\n",
    "    print(\"{:20} | {:8}\".format(y_pred[i], y_test.iloc[i]))"
   ]
  },
  {
   "cell_type": "code",
   "execution_count": 71,
   "id": "a7029c40",
   "metadata": {},
   "outputs": [
    {
     "name": "stdout",
     "output_type": "stream",
     "text": [
      "MSE: 1103946786.842813\n",
      "RMSE: 33225.69467810738\n",
      "MAE: 25173.732163036308\n",
      "R2 SCORE: 0.458609945349735\n",
      "\n",
      "# CROSS VALIDATION #\n",
      "FITTING TIME: [0.08883739 0.07045841 0.08602595 0.074512   0.06851459] -> 0.07766966819763184\n",
      "SCORING TIME: [0.00500107 0.01562524 0.0049994  0.         0.01562691] -> 0.00825052261352539\n",
      "TRAIN SCORE: [0.47664817 0.4634015  0.46776967 0.4624818  0.4639429 ] -> 0.466848807696547\n",
      "TEST SCORE: [0.42600849 0.47465638 0.45709183 0.45949813 0.47739045] -> 0.45892905712053844\n"
     ]
    }
   ],
   "source": [
    "# Results of metrics\n",
    "mse, rmse, mae, r2 = mean_squared_error(y_test, y_pred), mean_squared_error(y_test, y_pred, squared=False), \\\n",
    "    mean_absolute_error(y_test, y_pred), r2_score(y_test, y_pred)\n",
    "print(\"MSE:\", mse)        \n",
    "print(\"RMSE:\", rmse)      \n",
    "print(\"MAE:\", mae)        \n",
    "print(\"R2 SCORE:\", r2)  \n",
    "res_mse.append(mse)\n",
    "res_rmse.append(rmse)\n",
    "res_mae.append(mae)\n",
    "res_r2.append(r2)\n",
    "print(\"\\n# CROSS VALIDATION #\")\n",
    "cross_val = cross_validate(xgb, X, Y, cv=5, return_train_score=True)\n",
    "print(\"FITTING TIME:\", cross_val['fit_time'], \"->\", cross_val['fit_time'].mean())\n",
    "print(\"SCORING TIME:\", cross_val['score_time'], \"->\", cross_val['score_time'].mean())\n",
    "print(\"TRAIN SCORE:\", cross_val['train_score'], \"->\", cross_val['train_score'].mean())\n",
    "res_cv_train.append(cross_val['train_score'].mean())\n",
    "print(\"TEST SCORE:\", cross_val['test_score'], \"->\", cross_val['test_score'].mean())\n",
    "res_cv_test.append(cross_val['test_score'].mean())"
   ]
  },
  {
   "cell_type": "markdown",
   "id": "2358532c",
   "metadata": {},
   "source": [
    "## Results of Metrics of All ML Models Together"
   ]
  },
  {
   "cell_type": "code",
   "execution_count": 78,
   "id": "c4b4f472",
   "metadata": {},
   "outputs": [
    {
     "data": {
      "image/png": "[encoded data removed]",
      "text/plain": [
       "<Figure size 900x400 with 1 Axes>"
      ]
     },
     "metadata": {},
     "output_type": "display_data"
    }
   ],
   "source": [
    "methods = ['LinReg', 'Lasso', 'Ridge', 'PolyLasso', 'PolyRidge', 'DTree', 'RForest', 'KNNReg', 'GradBoost', 'XGBoost']\n",
    "plt.figure(figsize=(9,4))\n",
    "plt.barh(range(10), res_mse, color='#00afff')\n",
    "plt.title(\"MSE Results\", fontsize=18, fontweight='bold')\n",
    "plt.yticks(range(10), methods)\n",
    "plt.ylim(9.7,-0.7)\n",
    "plt.xlabel('MSE Values', fontsize=13, fontweight='bold')\n",
    "plt.ylabel('ML Models', fontsize=13, fontweight='bold')\n",
    "for i in range(10):\n",
    "    plt.text(res_mse[i]-250000000, i+0.12, \"{:.3f}\".format(res_mse[i]), fontweight='bold')\n",
    "plt.show()"
   ]
  },
  {
   "cell_type": "code",
   "execution_count": 73,
   "id": "f4642512",
   "metadata": {},
   "outputs": [
    {
     "data": {
      "image/png": "[encoded data removed]",
      "text/plain": [
       "<Figure size 900x400 with 1 Axes>"
      ]
     },
     "metadata": {},
     "output_type": "display_data"
    }
   ],
   "source": [
    "plt.figure(figsize=(9,4))\n",
    "plt.barh(range(10), res_rmse, color='#00afff')\n",
    "plt.title(\"RMSE Results\", fontsize=18, fontweight='bold')\n",
    "plt.yticks(range(10), methods)\n",
    "plt.ylim(9.7,-0.7)\n",
    "plt.xlabel('RMSE Values', fontsize=13, fontweight='bold')\n",
    "plt.ylabel('ML Models', fontsize=13, fontweight='bold')\n",
    "for i in range(10):\n",
    "    plt.text(res_rmse[i]-4500, i+0.12, \"{:.2f}\".format(res_rmse[i]), fontweight='bold')\n",
    "plt.show()"
   ]
  },
  {
   "cell_type": "code",
   "execution_count": 74,
   "id": "16590519",
   "metadata": {},
   "outputs": [
    {
     "data": {
      "image/png": "[encoded data removed]",
      "text/plain": [
       "<Figure size 900x400 with 1 Axes>"
      ]
     },
     "metadata": {},
     "output_type": "display_data"
    }
   ],
   "source": [
    "plt.figure(figsize=(9,4))\n",
    "plt.barh(range(10), res_mae, color='#00afff')\n",
    "plt.title(\"MAE Results\", fontsize=18, fontweight='bold')\n",
    "plt.yticks(range(10), methods)\n",
    "plt.ylim(9.7,-0.7)\n",
    "plt.xlabel('MAE Values', fontsize=13, fontweight='bold')\n",
    "plt.ylabel('ML Models', fontsize=13, fontweight='bold')\n",
    "for i in range(10):\n",
    "    plt.text(res_mae[i]-3500, i+0.12, \"{:.3f}\".format(res_mae[i]), fontweight='bold')\n",
    "plt.show()"
   ]
  },
  {
   "cell_type": "code",
   "execution_count": 79,
   "id": "cb35b000",
   "metadata": {},
   "outputs": [
    {
     "data": {
      "image/png": "[encoded data removed]",
      "text/plain": [
       "<Figure size 900x400 with 1 Axes>"
      ]
     },
     "metadata": {},
     "output_type": "display_data"
    }
   ],
   "source": [
    "plt.figure(figsize=(9,4))\n",
    "plt.barh(range(10), res_r2, color='#00afff')\n",
    "plt.title(\"R2 Score Results\", fontsize=18, fontweight='bold')\n",
    "plt.yticks(range(10), methods)\n",
    "plt.ylim(9.7,-0.7)\n",
    "plt.xlabel('R2 Scores', fontsize=13, fontweight='bold')\n",
    "plt.ylabel('ML Models', fontsize=13, fontweight='bold')\n",
    "for i in range(10):\n",
    "    plt.text(res_r2[i]-0.05, i+0.12, \"{:.4f}\".format(res_r2[i]), fontweight='bold')\n",
    "plt.show()"
   ]
  },
  {
   "cell_type": "code",
   "execution_count": 80,
   "id": "c7bd7e67",
   "metadata": {},
   "outputs": [
    {
     "data": {
      "image/png": "[encoded data removed]",
      "text/plain": [
       "<Figure size 900x400 with 1 Axes>"
      ]
     },
     "metadata": {},
     "output_type": "display_data"
    }
   ],
   "source": [
    "plt.figure(figsize=(9,4))\n",
    "plt.barh(range(10), res_cv_train, color='#00afff')\n",
    "plt.title(\"5-Fold CV Results (Train)\", fontsize=18, fontweight='bold')\n",
    "plt.yticks(range(10), methods)\n",
    "plt.ylim(9.7,-0.7)\n",
    "plt.xlabel('Train Scores', fontsize=13, fontweight='bold')\n",
    "plt.ylabel('ML Models', fontsize=13, fontweight='bold')\n",
    "for i in range(10):\n",
    "    plt.text(res_cv_train[i]-0.05, i+0.12, \"{:.4f}\".format(res_cv_train[i]), fontweight='bold')\n",
    "plt.show()"
   ]
  },
  {
   "cell_type": "code",
   "execution_count": 81,
   "id": "52473b78",
   "metadata": {},
   "outputs": [
    {
     "data": {
      "image/png": "[encoded data removed]",
      "text/plain": [
       "<Figure size 900x400 with 1 Axes>"
      ]
     },
     "metadata": {},
     "output_type": "display_data"
    }
   ],
   "source": [
    "plt.figure(figsize=(9,4))\n",
    "plt.barh(range(10), res_cv_test, color='#00afff')\n",
    "plt.title(\"5-Fold CV Results (Test)\", fontsize=18, fontweight='bold')\n",
    "plt.yticks(range(10), methods)\n",
    "plt.ylim(9.7,-0.7)\n",
    "plt.xlabel('Test Scores', fontsize=13, fontweight='bold')\n",
    "plt.ylabel('ML Models', fontsize=13, fontweight='bold')\n",
    "for i in range(10):\n",
    "    plt.text(res_cv_test[i]-0.05, i+0.12, \"{:.4f}\".format(res_cv_test[i]), fontweight='bold')\n",
    "plt.show()"
   ]
  }
 ],
 "metadata": {
  "kernelspec": {
   "display_name": "Python 3 (ipykernel)",
   "language": "python",
   "name": "python3"
  },
  "language_info": {
   "codemirror_mode": {
    "name": "ipython",
    "version": 3
   },
   "file_extension": ".py",
   "mimetype": "text/x-python",
   "name": "python",
   "nbconvert_exporter": "python",
   "pygments_lexer": "ipython3",
   "version": "3.10.8"
  }
 },
 "nbformat": 4,
 "nbformat_minor": 5
}
