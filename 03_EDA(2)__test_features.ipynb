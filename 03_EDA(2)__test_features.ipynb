{
 "cells": [
  {
   "cell_type": "markdown",
   "id": "6f0b1aaf",
   "metadata": {},
   "source": [
    "# 03. rajpurohitpooja/Salary_Prediction_Portfolio\n",
    "\n",
    "## Exploratory Data Analysis | Series 2 - test_features.csv"
   ]
  },
  {
   "cell_type": "code",
   "execution_count": 1,
   "id": "f8f1e8a8",
   "metadata": {},
   "outputs": [],
   "source": [
    "import numpy as np\n",
    "import pandas as pd\n",
    "import matplotlib.pyplot as plt\n",
    "import seaborn as sns\n",
    "import warnings\n",
    "warnings.filterwarnings('ignore')"
   ]
  },
  {
   "cell_type": "code",
   "execution_count": 2,
   "id": "719e0f6f",
   "metadata": {},
   "outputs": [],
   "source": [
    "df = pd.read_csv('03_test_features.csv')"
   ]
  },
  {
   "cell_type": "code",
   "execution_count": 3,
   "id": "30152c40",
   "metadata": {},
   "outputs": [
    {
     "data": {
      "text/html": [
       "<div>\n",
       "<style scoped>\n",
       "    .dataframe tbody tr th:only-of-type {\n",
       "        vertical-align: middle;\n",
       "    }\n",
       "\n",
       "    .dataframe tbody tr th {\n",
       "        vertical-align: top;\n",
       "    }\n",
       "\n",
       "    .dataframe thead th {\n",
       "        text-align: right;\n",
       "    }\n",
       "</style>\n",
       "<table border=\"1\" class=\"dataframe\">\n",
       "  <thead>\n",
       "    <tr style=\"text-align: right;\">\n",
       "      <th></th>\n",
       "      <th>jobId</th>\n",
       "      <th>companyId</th>\n",
       "      <th>jobType</th>\n",
       "      <th>degree</th>\n",
       "      <th>major</th>\n",
       "      <th>industry</th>\n",
       "      <th>yearsExperience</th>\n",
       "      <th>milesFromMetropolis</th>\n",
       "    </tr>\n",
       "  </thead>\n",
       "  <tbody>\n",
       "    <tr>\n",
       "      <th>0</th>\n",
       "      <td>JOB1362685407687</td>\n",
       "      <td>COMP33</td>\n",
       "      <td>MANAGER</td>\n",
       "      <td>HIGH_SCHOOL</td>\n",
       "      <td>NONE</td>\n",
       "      <td>HEALTH</td>\n",
       "      <td>22</td>\n",
       "      <td>73</td>\n",
       "    </tr>\n",
       "    <tr>\n",
       "      <th>1</th>\n",
       "      <td>JOB1362685407688</td>\n",
       "      <td>COMP13</td>\n",
       "      <td>JUNIOR</td>\n",
       "      <td>NONE</td>\n",
       "      <td>NONE</td>\n",
       "      <td>AUTO</td>\n",
       "      <td>20</td>\n",
       "      <td>47</td>\n",
       "    </tr>\n",
       "    <tr>\n",
       "      <th>2</th>\n",
       "      <td>JOB1362685407689</td>\n",
       "      <td>COMP10</td>\n",
       "      <td>CTO</td>\n",
       "      <td>MASTERS</td>\n",
       "      <td>BIOLOGY</td>\n",
       "      <td>HEALTH</td>\n",
       "      <td>17</td>\n",
       "      <td>9</td>\n",
       "    </tr>\n",
       "    <tr>\n",
       "      <th>3</th>\n",
       "      <td>JOB1362685407690</td>\n",
       "      <td>COMP21</td>\n",
       "      <td>MANAGER</td>\n",
       "      <td>HIGH_SCHOOL</td>\n",
       "      <td>NONE</td>\n",
       "      <td>OIL</td>\n",
       "      <td>14</td>\n",
       "      <td>96</td>\n",
       "    </tr>\n",
       "    <tr>\n",
       "      <th>4</th>\n",
       "      <td>JOB1362685407691</td>\n",
       "      <td>COMP36</td>\n",
       "      <td>JUNIOR</td>\n",
       "      <td>DOCTORAL</td>\n",
       "      <td>BIOLOGY</td>\n",
       "      <td>OIL</td>\n",
       "      <td>10</td>\n",
       "      <td>44</td>\n",
       "    </tr>\n",
       "  </tbody>\n",
       "</table>\n",
       "</div>"
      ],
      "text/plain": [
       "              jobId companyId  jobType       degree    major industry  \\\n",
       "0  JOB1362685407687    COMP33  MANAGER  HIGH_SCHOOL     NONE   HEALTH   \n",
       "1  JOB1362685407688    COMP13   JUNIOR         NONE     NONE     AUTO   \n",
       "2  JOB1362685407689    COMP10      CTO      MASTERS  BIOLOGY   HEALTH   \n",
       "3  JOB1362685407690    COMP21  MANAGER  HIGH_SCHOOL     NONE      OIL   \n",
       "4  JOB1362685407691    COMP36   JUNIOR     DOCTORAL  BIOLOGY      OIL   \n",
       "\n",
       "   yearsExperience  milesFromMetropolis  \n",
       "0               22                   73  \n",
       "1               20                   47  \n",
       "2               17                    9  \n",
       "3               14                   96  \n",
       "4               10                   44  "
      ]
     },
     "execution_count": 3,
     "metadata": {},
     "output_type": "execute_result"
    }
   ],
   "source": [
    "# First 5 rows of the dataset\n",
    "df.head()"
   ]
  },
  {
   "cell_type": "code",
   "execution_count": 4,
   "id": "265ae83a",
   "metadata": {},
   "outputs": [
    {
     "name": "stdout",
     "output_type": "stream",
     "text": [
      "<class 'pandas.core.frame.DataFrame'>\n",
      "RangeIndex: 1000000 entries, 0 to 999999\n",
      "Data columns (total 8 columns):\n",
      " #   Column               Non-Null Count    Dtype \n",
      "---  ------               --------------    ----- \n",
      " 0   jobId                1000000 non-null  object\n",
      " 1   companyId            1000000 non-null  object\n",
      " 2   jobType              1000000 non-null  object\n",
      " 3   degree               1000000 non-null  object\n",
      " 4   major                1000000 non-null  object\n",
      " 5   industry             1000000 non-null  object\n",
      " 6   yearsExperience      1000000 non-null  int64 \n",
      " 7   milesFromMetropolis  1000000 non-null  int64 \n",
      "dtypes: int64(2), object(6)\n",
      "memory usage: 61.0+ MB\n"
     ]
    }
   ],
   "source": [
    "# All columns, their counts and data types\n",
    "df.info()"
   ]
  },
  {
   "cell_type": "markdown",
   "id": "6b189772",
   "metadata": {},
   "source": [
    "As expected, there is no `salary` column in this dataset."
   ]
  },
  {
   "cell_type": "code",
   "execution_count": 5,
   "id": "813d7939",
   "metadata": {},
   "outputs": [
    {
     "name": "stdout",
     "output_type": "stream",
     "text": [
      "There are 63 different company IDs\n",
      "\n",
      "#### 10 MOST FREQUENT COMPANY IDS ####\n",
      "COMP13    16130\n",
      "COMP41    16127\n",
      "COMP54    16098\n",
      "COMP56    16058\n",
      "COMP61    16035\n",
      "COMP23    16026\n",
      "COMP62    16024\n",
      "COMP11    16010\n",
      "COMP60    16005\n",
      "COMP39    16004\n",
      "Name: companyId, dtype: int64\n",
      "\n",
      "#### 10 LEAST FREQUENT COMPANY IDS ####\n",
      "COMP17    15595\n",
      "COMP15    15611\n",
      "COMP14    15638\n",
      "COMP37    15644\n",
      "COMP28    15670\n",
      "COMP6     15684\n",
      "COMP25    15698\n",
      "COMP38    15707\n",
      "COMP24    15717\n",
      "COMP59    15720\n",
      "Name: companyId, dtype: int64\n"
     ]
    }
   ],
   "source": [
    "print(\"There are {} different company IDs\".format(df['companyId'].nunique()))\n",
    "print(\"\\n#### 10 MOST FREQUENT COMPANY IDS ####\")\n",
    "print(df['companyId'].value_counts().head(10))\n",
    "print(\"\\n#### 10 LEAST FREQUENT COMPANY IDS ####\")\n",
    "print(df['companyId'].value_counts(ascending=True).head(10))"
   ]
  },
  {
   "cell_type": "code",
   "execution_count": 6,
   "id": "4f64a65b",
   "metadata": {},
   "outputs": [
    {
     "name": "stdout",
     "output_type": "stream",
     "text": [
      "There are 8 different job types\n",
      "\n",
      "#### COUNTS OF JOB TYPES ####\n",
      "VICE_PRESIDENT    125434\n",
      "JANITOR           125253\n",
      "SENIOR            125202\n",
      "CFO               125092\n",
      "JUNIOR            125022\n",
      "CEO               124941\n",
      "CTO               124665\n",
      "MANAGER           124391\n",
      "Name: jobType, dtype: int64\n"
     ]
    }
   ],
   "source": [
    "print(\"There are {} different job types\".format(df['jobType'].nunique()))\n",
    "print(\"\\n#### COUNTS OF JOB TYPES ####\")\n",
    "print(df['jobType'].value_counts())"
   ]
  },
  {
   "cell_type": "code",
   "execution_count": 7,
   "id": "e0d5433a",
   "metadata": {},
   "outputs": [
    {
     "name": "stdout",
     "output_type": "stream",
     "text": [
      "There are 5 different degrees\n",
      "\n",
      "#### COUNTS OF DEGREES ####\n",
      "HIGH_SCHOOL    238255\n",
      "NONE           237467\n",
      "MASTERS        175236\n",
      "DOCTORAL       175105\n",
      "BACHELORS      173937\n",
      "Name: degree, dtype: int64\n"
     ]
    }
   ],
   "source": [
    "print(\"There are {} different degrees\".format(df['degree'].nunique()))\n",
    "print(\"\\n#### COUNTS OF DEGREES ####\")\n",
    "print(df['degree'].value_counts())"
   ]
  },
  {
   "cell_type": "code",
   "execution_count": 8,
   "id": "6b52752a",
   "metadata": {},
   "outputs": [
    {
     "name": "stdout",
     "output_type": "stream",
     "text": [
      "There are 9 different majors\n",
      "\n",
      "#### COUNTS OF MAJORS ####\n",
      "NONE           534068\n",
      "BIOLOGY         58804\n",
      "ENGINEERING     58496\n",
      "COMPSCI         58385\n",
      "PHYSICS         58248\n",
      "CHEMISTRY       58159\n",
      "LITERATURE      58062\n",
      "BUSINESS        57961\n",
      "MATH            57817\n",
      "Name: major, dtype: int64\n"
     ]
    }
   ],
   "source": [
    "print(\"There are {} different majors\".format(df['major'].nunique()))\n",
    "print(\"\\n#### COUNTS OF MAJORS ####\")\n",
    "print(df['major'].value_counts())"
   ]
  },
  {
   "cell_type": "code",
   "execution_count": 9,
   "id": "e1eb4fd8",
   "metadata": {},
   "outputs": [
    {
     "name": "stdout",
     "output_type": "stream",
     "text": [
      "There are 7 different industries\n",
      "\n",
      "#### COUNTS OF INDUSTRIES ####\n",
      "SERVICE      143161\n",
      "FINANCE      143101\n",
      "WEB          143012\n",
      "HEALTH       142978\n",
      "EDUCATION    142731\n",
      "OIL          142535\n",
      "AUTO         142482\n",
      "Name: industry, dtype: int64\n"
     ]
    }
   ],
   "source": [
    "print(\"There are {} different industries\".format(df['industry'].nunique()))\n",
    "print(\"\\n#### COUNTS OF INDUSTRIES ####\")\n",
    "print(df['industry'].value_counts())"
   ]
  },
  {
   "cell_type": "code",
   "execution_count": 11,
   "id": "ac24afa1",
   "metadata": {},
   "outputs": [
    {
     "data": {
      "text/html": [
       "<div>\n",
       "<style scoped>\n",
       "    .dataframe tbody tr th:only-of-type {\n",
       "        vertical-align: middle;\n",
       "    }\n",
       "\n",
       "    .dataframe tbody tr th {\n",
       "        vertical-align: top;\n",
       "    }\n",
       "\n",
       "    .dataframe thead th {\n",
       "        text-align: right;\n",
       "    }\n",
       "</style>\n",
       "<table border=\"1\" class=\"dataframe\">\n",
       "  <thead>\n",
       "    <tr style=\"text-align: right;\">\n",
       "      <th></th>\n",
       "      <th>yearsExperience</th>\n",
       "      <th>milesFromMetropolis</th>\n",
       "    </tr>\n",
       "  </thead>\n",
       "  <tbody>\n",
       "    <tr>\n",
       "      <th>count</th>\n",
       "      <td>1000000.000000</td>\n",
       "      <td>1000000.000000</td>\n",
       "    </tr>\n",
       "    <tr>\n",
       "      <th>mean</th>\n",
       "      <td>12.002104</td>\n",
       "      <td>49.526414</td>\n",
       "    </tr>\n",
       "    <tr>\n",
       "      <th>std</th>\n",
       "      <td>7.213179</td>\n",
       "      <td>28.889713</td>\n",
       "    </tr>\n",
       "    <tr>\n",
       "      <th>min</th>\n",
       "      <td>0.000000</td>\n",
       "      <td>0.000000</td>\n",
       "    </tr>\n",
       "    <tr>\n",
       "      <th>25%</th>\n",
       "      <td>6.000000</td>\n",
       "      <td>25.000000</td>\n",
       "    </tr>\n",
       "    <tr>\n",
       "      <th>50%</th>\n",
       "      <td>12.000000</td>\n",
       "      <td>50.000000</td>\n",
       "    </tr>\n",
       "    <tr>\n",
       "      <th>75%</th>\n",
       "      <td>18.000000</td>\n",
       "      <td>75.000000</td>\n",
       "    </tr>\n",
       "    <tr>\n",
       "      <th>max</th>\n",
       "      <td>24.000000</td>\n",
       "      <td>99.000000</td>\n",
       "    </tr>\n",
       "  </tbody>\n",
       "</table>\n",
       "</div>"
      ],
      "text/plain": [
       "       yearsExperience  milesFromMetropolis\n",
       "count   1000000.000000       1000000.000000\n",
       "mean         12.002104            49.526414\n",
       "std           7.213179            28.889713\n",
       "min           0.000000             0.000000\n",
       "25%           6.000000            25.000000\n",
       "50%          12.000000            50.000000\n",
       "75%          18.000000            75.000000\n",
       "max          24.000000            99.000000"
      ]
     },
     "execution_count": 11,
     "metadata": {},
     "output_type": "execute_result"
    }
   ],
   "source": [
    "# Get statistical info about numerical columns (yearsExperience, milesFromMetropolis)\n",
    "df.describe()"
   ]
  }
 ],
 "metadata": {
  "kernelspec": {
   "display_name": "Python 3 (ipykernel)",
   "language": "python",
   "name": "python3"
  },
  "language_info": {
   "codemirror_mode": {
    "name": "ipython",
    "version": 3
   },
   "file_extension": ".py",
   "mimetype": "text/x-python",
   "name": "python",
   "nbconvert_exporter": "python",
   "pygments_lexer": "ipython3",
   "version": "3.10.8"
  }
 },
 "nbformat": 4,
 "nbformat_minor": 5
}
