{
 "cells": [
  {
   "cell_type": "markdown",
   "id": "2e47589d",
   "metadata": {},
   "source": [
    "# 04. disha2sinha/Employee-Salary-Prediction\n",
    "\n",
    "## Predictions with ML Regression Models - empsalupdated.csv"
   ]
  },
  {
   "cell_type": "code",
   "execution_count": 130,
   "id": "bab5b574",
   "metadata": {},
   "outputs": [],
   "source": [
    "import numpy as np\n",
    "import pandas as pd\n",
    "import matplotlib.pyplot as plt\n",
    "import seaborn as sns\n",
    "import warnings\n",
    "warnings.filterwarnings('ignore')\n",
    "from sklearn.linear_model import LinearRegression, Lasso, Ridge, QuantileRegressor\n",
    "from sklearn.tree import DecisionTreeRegressor\n",
    "from sklearn.ensemble import RandomForestRegressor, GradientBoostingRegressor\n",
    "from sklearn.neighbors import KNeighborsRegressor\n",
    "from sklearn.svm import SVR\n",
    "from sklearn.neural_network import MLPRegressor\n",
    "import xgboost\n",
    "from sklearn.model_selection import train_test_split, cross_val_score, cross_validate\n",
    "from sklearn.preprocessing import OneHotEncoder, PolynomialFeatures, StandardScaler, MinMaxScaler\n",
    "from sklearn.metrics import mean_squared_error, mean_absolute_error, r2_score, get_scorer_names\n",
    "df = pd.read_csv('04_empsalupdated.csv')"
   ]
  },
  {
   "cell_type": "code",
   "execution_count": 131,
   "id": "7d610f3e",
   "metadata": {},
   "outputs": [
    {
     "data": {
      "text/html": [
       "<div>\n",
       "<style scoped>\n",
       "    .dataframe tbody tr th:only-of-type {\n",
       "        vertical-align: middle;\n",
       "    }\n",
       "\n",
       "    .dataframe tbody tr th {\n",
       "        vertical-align: top;\n",
       "    }\n",
       "\n",
       "    .dataframe thead th {\n",
       "        text-align: right;\n",
       "    }\n",
       "</style>\n",
       "<table border=\"1\" class=\"dataframe\">\n",
       "  <thead>\n",
       "    <tr style=\"text-align: right;\">\n",
       "      <th></th>\n",
       "      <th>empno</th>\n",
       "      <th>empname</th>\n",
       "      <th>dob</th>\n",
       "      <th>sex</th>\n",
       "      <th>city</th>\n",
       "      <th>state</th>\n",
       "      <th>expyr</th>\n",
       "      <th>salary</th>\n",
       "      <th>hra</th>\n",
       "      <th>Age</th>\n",
       "      <th>conv</th>\n",
       "      <th>total</th>\n",
       "    </tr>\n",
       "  </thead>\n",
       "  <tbody>\n",
       "    <tr>\n",
       "      <th>0</th>\n",
       "      <td>12556</td>\n",
       "      <td>Supriya Awasthi</td>\n",
       "      <td>1987-11-25</td>\n",
       "      <td>F</td>\n",
       "      <td>Nasik</td>\n",
       "      <td>Maharashtra</td>\n",
       "      <td>4.0</td>\n",
       "      <td>62000</td>\n",
       "      <td>8000</td>\n",
       "      <td>32</td>\n",
       "      <td>6200.0</td>\n",
       "      <td>76200.0</td>\n",
       "    </tr>\n",
       "    <tr>\n",
       "      <th>1</th>\n",
       "      <td>20101</td>\n",
       "      <td>Rishav Sen</td>\n",
       "      <td>1980-05-13</td>\n",
       "      <td>M</td>\n",
       "      <td>Kolkata</td>\n",
       "      <td>West Bengal</td>\n",
       "      <td>10.0</td>\n",
       "      <td>122131</td>\n",
       "      <td>10000</td>\n",
       "      <td>39</td>\n",
       "      <td>12213.1</td>\n",
       "      <td>144344.1</td>\n",
       "    </tr>\n",
       "    <tr>\n",
       "      <th>2</th>\n",
       "      <td>20669</td>\n",
       "      <td>Varun Mitra</td>\n",
       "      <td>1959-05-13</td>\n",
       "      <td>M</td>\n",
       "      <td>Chennai</td>\n",
       "      <td>Tamil Nadu</td>\n",
       "      <td>5.5</td>\n",
       "      <td>80000</td>\n",
       "      <td>6600</td>\n",
       "      <td>60</td>\n",
       "      <td>8000.0</td>\n",
       "      <td>94600.0</td>\n",
       "    </tr>\n",
       "    <tr>\n",
       "      <th>3</th>\n",
       "      <td>22781</td>\n",
       "      <td>Pradip Lal</td>\n",
       "      <td>1995-04-20</td>\n",
       "      <td>M</td>\n",
       "      <td>Kharagpur</td>\n",
       "      <td>West Bengal</td>\n",
       "      <td>1.3</td>\n",
       "      <td>42500</td>\n",
       "      <td>7500</td>\n",
       "      <td>24</td>\n",
       "      <td>4250.0</td>\n",
       "      <td>54250.0</td>\n",
       "    </tr>\n",
       "    <tr>\n",
       "      <th>4</th>\n",
       "      <td>23819</td>\n",
       "      <td>Biplab Mitra</td>\n",
       "      <td>1974-07-18</td>\n",
       "      <td>M</td>\n",
       "      <td>Kolkata</td>\n",
       "      <td>West Bengal</td>\n",
       "      <td>10.2</td>\n",
       "      <td>122000</td>\n",
       "      <td>8900</td>\n",
       "      <td>45</td>\n",
       "      <td>12200.0</td>\n",
       "      <td>143100.0</td>\n",
       "    </tr>\n",
       "    <tr>\n",
       "      <th>5</th>\n",
       "      <td>30955</td>\n",
       "      <td>Joydip Bose</td>\n",
       "      <td>1985-12-28</td>\n",
       "      <td>M</td>\n",
       "      <td>Kolkata</td>\n",
       "      <td>West Bengal</td>\n",
       "      <td>5.2</td>\n",
       "      <td>75000</td>\n",
       "      <td>6500</td>\n",
       "      <td>34</td>\n",
       "      <td>7500.0</td>\n",
       "      <td>89000.0</td>\n",
       "    </tr>\n",
       "    <tr>\n",
       "      <th>6</th>\n",
       "      <td>31504</td>\n",
       "      <td>Aminul Islam</td>\n",
       "      <td>1990-12-13</td>\n",
       "      <td>M</td>\n",
       "      <td>Mumbai</td>\n",
       "      <td>Maharashtra</td>\n",
       "      <td>3.5</td>\n",
       "      <td>62500</td>\n",
       "      <td>5500</td>\n",
       "      <td>29</td>\n",
       "      <td>6250.0</td>\n",
       "      <td>74250.0</td>\n",
       "    </tr>\n",
       "    <tr>\n",
       "      <th>7</th>\n",
       "      <td>32190</td>\n",
       "      <td>Himadri Sinha</td>\n",
       "      <td>1985-11-30</td>\n",
       "      <td>M</td>\n",
       "      <td>Hyderabad</td>\n",
       "      <td>Andhra Pradesh</td>\n",
       "      <td>7.0</td>\n",
       "      <td>92500</td>\n",
       "      <td>8500</td>\n",
       "      <td>34</td>\n",
       "      <td>9250.0</td>\n",
       "      <td>110250.0</td>\n",
       "    </tr>\n",
       "    <tr>\n",
       "      <th>8</th>\n",
       "      <td>37621</td>\n",
       "      <td>Ajay Sharma</td>\n",
       "      <td>1986-05-16</td>\n",
       "      <td>M</td>\n",
       "      <td>Mumbai</td>\n",
       "      <td>Maharashtra</td>\n",
       "      <td>4.1</td>\n",
       "      <td>64500</td>\n",
       "      <td>5000</td>\n",
       "      <td>33</td>\n",
       "      <td>6450.0</td>\n",
       "      <td>75950.0</td>\n",
       "    </tr>\n",
       "    <tr>\n",
       "      <th>9</th>\n",
       "      <td>44231</td>\n",
       "      <td>Deblina Bannerjee</td>\n",
       "      <td>1980-05-19</td>\n",
       "      <td>F</td>\n",
       "      <td>Vizag</td>\n",
       "      <td>Andhra Pradesh</td>\n",
       "      <td>6.3</td>\n",
       "      <td>76000</td>\n",
       "      <td>6700</td>\n",
       "      <td>39</td>\n",
       "      <td>7600.0</td>\n",
       "      <td>90300.0</td>\n",
       "    </tr>\n",
       "    <tr>\n",
       "      <th>10</th>\n",
       "      <td>53095</td>\n",
       "      <td>Melvin George</td>\n",
       "      <td>1983-08-21</td>\n",
       "      <td>M</td>\n",
       "      <td>Guwahati</td>\n",
       "      <td>Assam</td>\n",
       "      <td>5.0</td>\n",
       "      <td>78000</td>\n",
       "      <td>8000</td>\n",
       "      <td>36</td>\n",
       "      <td>7800.0</td>\n",
       "      <td>93800.0</td>\n",
       "    </tr>\n",
       "    <tr>\n",
       "      <th>11</th>\n",
       "      <td>55091</td>\n",
       "      <td>Savitha Nair</td>\n",
       "      <td>1989-06-28</td>\n",
       "      <td>F</td>\n",
       "      <td>Bangalore</td>\n",
       "      <td>Karnataka</td>\n",
       "      <td>4.1</td>\n",
       "      <td>65000</td>\n",
       "      <td>8000</td>\n",
       "      <td>30</td>\n",
       "      <td>6500.0</td>\n",
       "      <td>79500.0</td>\n",
       "    </tr>\n",
       "    <tr>\n",
       "      <th>12</th>\n",
       "      <td>55123</td>\n",
       "      <td>Dipa Arora</td>\n",
       "      <td>1980-10-17</td>\n",
       "      <td>F</td>\n",
       "      <td>Delhi</td>\n",
       "      <td>Delhi</td>\n",
       "      <td>7.9</td>\n",
       "      <td>101320</td>\n",
       "      <td>6000</td>\n",
       "      <td>39</td>\n",
       "      <td>10132.0</td>\n",
       "      <td>117452.0</td>\n",
       "    </tr>\n",
       "    <tr>\n",
       "      <th>13</th>\n",
       "      <td>56123</td>\n",
       "      <td>Ayan Goswami</td>\n",
       "      <td>1991-02-21</td>\n",
       "      <td>M</td>\n",
       "      <td>Guwahati</td>\n",
       "      <td>Assam</td>\n",
       "      <td>5.5</td>\n",
       "      <td>81000</td>\n",
       "      <td>9000</td>\n",
       "      <td>29</td>\n",
       "      <td>8100.0</td>\n",
       "      <td>98100.0</td>\n",
       "    </tr>\n",
       "    <tr>\n",
       "      <th>14</th>\n",
       "      <td>56128</td>\n",
       "      <td>Niladri Kumar</td>\n",
       "      <td>1988-12-15</td>\n",
       "      <td>M</td>\n",
       "      <td>Mangalore</td>\n",
       "      <td>Karnataka</td>\n",
       "      <td>3.0</td>\n",
       "      <td>61250</td>\n",
       "      <td>7600</td>\n",
       "      <td>31</td>\n",
       "      <td>6125.0</td>\n",
       "      <td>74975.0</td>\n",
       "    </tr>\n",
       "    <tr>\n",
       "      <th>15</th>\n",
       "      <td>56712</td>\n",
       "      <td>K Muralidharan</td>\n",
       "      <td>1979-03-17</td>\n",
       "      <td>M</td>\n",
       "      <td>Hyderabad</td>\n",
       "      <td>Andhra Pradesh</td>\n",
       "      <td>6.2</td>\n",
       "      <td>75400</td>\n",
       "      <td>5500</td>\n",
       "      <td>40</td>\n",
       "      <td>7540.0</td>\n",
       "      <td>88440.0</td>\n",
       "    </tr>\n",
       "    <tr>\n",
       "      <th>16</th>\n",
       "      <td>59012</td>\n",
       "      <td>Renuka Srivastav</td>\n",
       "      <td>1992-04-21</td>\n",
       "      <td>F</td>\n",
       "      <td>Delhi</td>\n",
       "      <td>Delhi</td>\n",
       "      <td>4.5</td>\n",
       "      <td>65000</td>\n",
       "      <td>6000</td>\n",
       "      <td>27</td>\n",
       "      <td>6500.0</td>\n",
       "      <td>77500.0</td>\n",
       "    </tr>\n",
       "    <tr>\n",
       "      <th>17</th>\n",
       "      <td>61299</td>\n",
       "      <td>Souvik Sinha</td>\n",
       "      <td>1990-01-13</td>\n",
       "      <td>M</td>\n",
       "      <td>Vellore</td>\n",
       "      <td>Tami Nadu</td>\n",
       "      <td>2.0</td>\n",
       "      <td>46000</td>\n",
       "      <td>7000</td>\n",
       "      <td>30</td>\n",
       "      <td>4600.0</td>\n",
       "      <td>57600.0</td>\n",
       "    </tr>\n",
       "    <tr>\n",
       "      <th>18</th>\n",
       "      <td>66120</td>\n",
       "      <td>Kiran Sethi</td>\n",
       "      <td>1996-05-15</td>\n",
       "      <td>F</td>\n",
       "      <td>Bangalore</td>\n",
       "      <td>Karnataka</td>\n",
       "      <td>1.1</td>\n",
       "      <td>39500</td>\n",
       "      <td>13500</td>\n",
       "      <td>23</td>\n",
       "      <td>3950.0</td>\n",
       "      <td>56950.0</td>\n",
       "    </tr>\n",
       "    <tr>\n",
       "      <th>19</th>\n",
       "      <td>67120</td>\n",
       "      <td>Sanjay Roy</td>\n",
       "      <td>1984-10-14</td>\n",
       "      <td>M</td>\n",
       "      <td>Delhi</td>\n",
       "      <td>Delhi</td>\n",
       "      <td>3.0</td>\n",
       "      <td>60150</td>\n",
       "      <td>5700</td>\n",
       "      <td>35</td>\n",
       "      <td>6015.0</td>\n",
       "      <td>71865.0</td>\n",
       "    </tr>\n",
       "    <tr>\n",
       "      <th>20</th>\n",
       "      <td>67991</td>\n",
       "      <td>Abida Jahan</td>\n",
       "      <td>1981-10-21</td>\n",
       "      <td>F</td>\n",
       "      <td>Chennai</td>\n",
       "      <td>Tami Nadu</td>\n",
       "      <td>7.6</td>\n",
       "      <td>101000</td>\n",
       "      <td>7500</td>\n",
       "      <td>38</td>\n",
       "      <td>10100.0</td>\n",
       "      <td>118600.0</td>\n",
       "    </tr>\n",
       "    <tr>\n",
       "      <th>21</th>\n",
       "      <td>72188</td>\n",
       "      <td>Akash Goel</td>\n",
       "      <td>1987-03-15</td>\n",
       "      <td>M</td>\n",
       "      <td>Bangalore</td>\n",
       "      <td>Karnataka</td>\n",
       "      <td>6.1</td>\n",
       "      <td>76000</td>\n",
       "      <td>9000</td>\n",
       "      <td>32</td>\n",
       "      <td>7600.0</td>\n",
       "      <td>92600.0</td>\n",
       "    </tr>\n",
       "    <tr>\n",
       "      <th>22</th>\n",
       "      <td>78123</td>\n",
       "      <td>Anitha Sharma</td>\n",
       "      <td>1981-12-21</td>\n",
       "      <td>F</td>\n",
       "      <td>Chennai</td>\n",
       "      <td>Tamil Nadu</td>\n",
       "      <td>7.2</td>\n",
       "      <td>98450</td>\n",
       "      <td>9000</td>\n",
       "      <td>38</td>\n",
       "      <td>9845.0</td>\n",
       "      <td>117295.0</td>\n",
       "    </tr>\n",
       "    <tr>\n",
       "      <th>23</th>\n",
       "      <td>82190</td>\n",
       "      <td>Kenneth Dcosta</td>\n",
       "      <td>1991-12-27</td>\n",
       "      <td>M</td>\n",
       "      <td>Guwahati</td>\n",
       "      <td>Assam</td>\n",
       "      <td>3.5</td>\n",
       "      <td>62100</td>\n",
       "      <td>5600</td>\n",
       "      <td>28</td>\n",
       "      <td>6210.0</td>\n",
       "      <td>73910.0</td>\n",
       "    </tr>\n",
       "    <tr>\n",
       "      <th>24</th>\n",
       "      <td>90102</td>\n",
       "      <td>Priya Mukherjee</td>\n",
       "      <td>1986-11-19</td>\n",
       "      <td>F</td>\n",
       "      <td>Kolkata</td>\n",
       "      <td>West Bengal</td>\n",
       "      <td>6.0</td>\n",
       "      <td>88200</td>\n",
       "      <td>9550</td>\n",
       "      <td>33</td>\n",
       "      <td>8820.0</td>\n",
       "      <td>106570.0</td>\n",
       "    </tr>\n",
       "    <tr>\n",
       "      <th>25</th>\n",
       "      <td>91556</td>\n",
       "      <td>P K Kamath</td>\n",
       "      <td>1983-01-14</td>\n",
       "      <td>M</td>\n",
       "      <td>Mumbai</td>\n",
       "      <td>Maharashtra</td>\n",
       "      <td>6.8</td>\n",
       "      <td>92850</td>\n",
       "      <td>15000</td>\n",
       "      <td>37</td>\n",
       "      <td>9285.0</td>\n",
       "      <td>117135.0</td>\n",
       "    </tr>\n",
       "  </tbody>\n",
       "</table>\n",
       "</div>"
      ],
      "text/plain": [
       "    empno            empname         dob sex       city           state  \\\n",
       "0   12556    Supriya Awasthi  1987-11-25   F      Nasik     Maharashtra   \n",
       "1   20101         Rishav Sen  1980-05-13   M    Kolkata     West Bengal   \n",
       "2   20669        Varun Mitra  1959-05-13   M    Chennai      Tamil Nadu   \n",
       "3   22781         Pradip Lal  1995-04-20   M  Kharagpur     West Bengal   \n",
       "4   23819       Biplab Mitra  1974-07-18   M    Kolkata     West Bengal   \n",
       "5   30955        Joydip Bose  1985-12-28   M    Kolkata     West Bengal   \n",
       "6   31504       Aminul Islam  1990-12-13   M     Mumbai     Maharashtra   \n",
       "7   32190      Himadri Sinha  1985-11-30   M  Hyderabad  Andhra Pradesh   \n",
       "8   37621        Ajay Sharma  1986-05-16   M     Mumbai     Maharashtra   \n",
       "9   44231  Deblina Bannerjee  1980-05-19   F      Vizag  Andhra Pradesh   \n",
       "10  53095      Melvin George  1983-08-21   M   Guwahati           Assam   \n",
       "11  55091       Savitha Nair  1989-06-28   F  Bangalore       Karnataka   \n",
       "12  55123         Dipa Arora  1980-10-17   F      Delhi           Delhi   \n",
       "13  56123       Ayan Goswami  1991-02-21   M   Guwahati           Assam   \n",
       "14  56128      Niladri Kumar  1988-12-15   M  Mangalore       Karnataka   \n",
       "15  56712     K Muralidharan  1979-03-17   M  Hyderabad  Andhra Pradesh   \n",
       "16  59012   Renuka Srivastav  1992-04-21   F      Delhi           Delhi   \n",
       "17  61299       Souvik Sinha  1990-01-13   M    Vellore       Tami Nadu   \n",
       "18  66120        Kiran Sethi  1996-05-15   F  Bangalore       Karnataka   \n",
       "19  67120         Sanjay Roy  1984-10-14   M      Delhi           Delhi   \n",
       "20  67991        Abida Jahan  1981-10-21   F    Chennai       Tami Nadu   \n",
       "21  72188         Akash Goel  1987-03-15   M  Bangalore       Karnataka   \n",
       "22  78123      Anitha Sharma  1981-12-21   F    Chennai      Tamil Nadu   \n",
       "23  82190     Kenneth Dcosta  1991-12-27   M   Guwahati           Assam   \n",
       "24  90102    Priya Mukherjee  1986-11-19   F    Kolkata     West Bengal   \n",
       "25  91556         P K Kamath  1983-01-14   M     Mumbai     Maharashtra   \n",
       "\n",
       "    expyr  salary    hra  Age     conv     total  \n",
       "0     4.0   62000   8000   32   6200.0   76200.0  \n",
       "1    10.0  122131  10000   39  12213.1  144344.1  \n",
       "2     5.5   80000   6600   60   8000.0   94600.0  \n",
       "3     1.3   42500   7500   24   4250.0   54250.0  \n",
       "4    10.2  122000   8900   45  12200.0  143100.0  \n",
       "5     5.2   75000   6500   34   7500.0   89000.0  \n",
       "6     3.5   62500   5500   29   6250.0   74250.0  \n",
       "7     7.0   92500   8500   34   9250.0  110250.0  \n",
       "8     4.1   64500   5000   33   6450.0   75950.0  \n",
       "9     6.3   76000   6700   39   7600.0   90300.0  \n",
       "10    5.0   78000   8000   36   7800.0   93800.0  \n",
       "11    4.1   65000   8000   30   6500.0   79500.0  \n",
       "12    7.9  101320   6000   39  10132.0  117452.0  \n",
       "13    5.5   81000   9000   29   8100.0   98100.0  \n",
       "14    3.0   61250   7600   31   6125.0   74975.0  \n",
       "15    6.2   75400   5500   40   7540.0   88440.0  \n",
       "16    4.5   65000   6000   27   6500.0   77500.0  \n",
       "17    2.0   46000   7000   30   4600.0   57600.0  \n",
       "18    1.1   39500  13500   23   3950.0   56950.0  \n",
       "19    3.0   60150   5700   35   6015.0   71865.0  \n",
       "20    7.6  101000   7500   38  10100.0  118600.0  \n",
       "21    6.1   76000   9000   32   7600.0   92600.0  \n",
       "22    7.2   98450   9000   38   9845.0  117295.0  \n",
       "23    3.5   62100   5600   28   6210.0   73910.0  \n",
       "24    6.0   88200   9550   33   8820.0  106570.0  \n",
       "25    6.8   92850  15000   37   9285.0  117135.0  "
      ]
     },
     "execution_count": 131,
     "metadata": {},
     "output_type": "execute_result"
    }
   ],
   "source": [
    "# Show the whole dataset\n",
    "df"
   ]
  },
  {
   "cell_type": "code",
   "execution_count": 132,
   "id": "74de7844",
   "metadata": {},
   "outputs": [
    {
     "name": "stdout",
     "output_type": "stream",
     "text": [
      "<class 'pandas.core.frame.DataFrame'>\n",
      "RangeIndex: 26 entries, 0 to 25\n",
      "Data columns (total 12 columns):\n",
      " #   Column   Non-Null Count  Dtype  \n",
      "---  ------   --------------  -----  \n",
      " 0   empno    26 non-null     int64  \n",
      " 1   empname  26 non-null     object \n",
      " 2   dob      26 non-null     object \n",
      " 3   sex      26 non-null     object \n",
      " 4   city     26 non-null     object \n",
      " 5   state    26 non-null     object \n",
      " 6   expyr    26 non-null     float64\n",
      " 7   salary   26 non-null     int64  \n",
      " 8   hra      26 non-null     int64  \n",
      " 9   Age      26 non-null     int64  \n",
      " 10  conv     26 non-null     float64\n",
      " 11  total    26 non-null     float64\n",
      "dtypes: float64(3), int64(4), object(5)\n",
      "memory usage: 2.6+ KB\n"
     ]
    }
   ],
   "source": [
    "# All columns, their counts and data types\n",
    "df.info()"
   ]
  },
  {
   "cell_type": "code",
   "execution_count": 133,
   "id": "e8d951cc",
   "metadata": {},
   "outputs": [
    {
     "data": {
      "text/html": [
       "<div>\n",
       "<style scoped>\n",
       "    .dataframe tbody tr th:only-of-type {\n",
       "        vertical-align: middle;\n",
       "    }\n",
       "\n",
       "    .dataframe tbody tr th {\n",
       "        vertical-align: top;\n",
       "    }\n",
       "\n",
       "    .dataframe thead th {\n",
       "        text-align: right;\n",
       "    }\n",
       "</style>\n",
       "<table border=\"1\" class=\"dataframe\">\n",
       "  <thead>\n",
       "    <tr style=\"text-align: right;\">\n",
       "      <th></th>\n",
       "      <th>empno</th>\n",
       "      <th>expyr</th>\n",
       "      <th>salary</th>\n",
       "      <th>hra</th>\n",
       "      <th>Age</th>\n",
       "      <th>conv</th>\n",
       "      <th>total</th>\n",
       "    </tr>\n",
       "  </thead>\n",
       "  <tbody>\n",
       "    <tr>\n",
       "      <th>count</th>\n",
       "      <td>26.000000</td>\n",
       "      <td>26.000000</td>\n",
       "      <td>26.000000</td>\n",
       "      <td>26.000000</td>\n",
       "      <td>26.000000</td>\n",
       "      <td>26.000000</td>\n",
       "      <td>26.000000</td>\n",
       "    </tr>\n",
       "    <tr>\n",
       "      <th>mean</th>\n",
       "      <td>51707.692308</td>\n",
       "      <td>5.253846</td>\n",
       "      <td>76551.961538</td>\n",
       "      <td>7890.384615</td>\n",
       "      <td>34.423077</td>\n",
       "      <td>7655.196154</td>\n",
       "      <td>92097.542308</td>\n",
       "    </tr>\n",
       "    <tr>\n",
       "      <th>std</th>\n",
       "      <td>22483.027070</td>\n",
       "      <td>2.338928</td>\n",
       "      <td>21472.419855</td>\n",
       "      <td>2345.293979</td>\n",
       "      <td>7.365721</td>\n",
       "      <td>2147.241986</td>\n",
       "      <td>24202.119685</td>\n",
       "    </tr>\n",
       "    <tr>\n",
       "      <th>min</th>\n",
       "      <td>12556.000000</td>\n",
       "      <td>1.100000</td>\n",
       "      <td>39500.000000</td>\n",
       "      <td>5000.000000</td>\n",
       "      <td>23.000000</td>\n",
       "      <td>3950.000000</td>\n",
       "      <td>54250.000000</td>\n",
       "    </tr>\n",
       "    <tr>\n",
       "      <th>25%</th>\n",
       "      <td>31675.500000</td>\n",
       "      <td>3.625000</td>\n",
       "      <td>62200.000000</td>\n",
       "      <td>6125.000000</td>\n",
       "      <td>30.000000</td>\n",
       "      <td>6220.000000</td>\n",
       "      <td>75218.750000</td>\n",
       "    </tr>\n",
       "    <tr>\n",
       "      <th>50%</th>\n",
       "      <td>55623.000000</td>\n",
       "      <td>5.350000</td>\n",
       "      <td>75700.000000</td>\n",
       "      <td>7550.000000</td>\n",
       "      <td>33.500000</td>\n",
       "      <td>7570.000000</td>\n",
       "      <td>89650.000000</td>\n",
       "    </tr>\n",
       "    <tr>\n",
       "      <th>75%</th>\n",
       "      <td>66870.000000</td>\n",
       "      <td>6.675000</td>\n",
       "      <td>91425.000000</td>\n",
       "      <td>8975.000000</td>\n",
       "      <td>38.000000</td>\n",
       "      <td>9142.500000</td>\n",
       "      <td>109330.000000</td>\n",
       "    </tr>\n",
       "    <tr>\n",
       "      <th>max</th>\n",
       "      <td>91556.000000</td>\n",
       "      <td>10.200000</td>\n",
       "      <td>122131.000000</td>\n",
       "      <td>15000.000000</td>\n",
       "      <td>60.000000</td>\n",
       "      <td>12213.100000</td>\n",
       "      <td>144344.100000</td>\n",
       "    </tr>\n",
       "  </tbody>\n",
       "</table>\n",
       "</div>"
      ],
      "text/plain": [
       "              empno      expyr         salary           hra        Age  \\\n",
       "count     26.000000  26.000000      26.000000     26.000000  26.000000   \n",
       "mean   51707.692308   5.253846   76551.961538   7890.384615  34.423077   \n",
       "std    22483.027070   2.338928   21472.419855   2345.293979   7.365721   \n",
       "min    12556.000000   1.100000   39500.000000   5000.000000  23.000000   \n",
       "25%    31675.500000   3.625000   62200.000000   6125.000000  30.000000   \n",
       "50%    55623.000000   5.350000   75700.000000   7550.000000  33.500000   \n",
       "75%    66870.000000   6.675000   91425.000000   8975.000000  38.000000   \n",
       "max    91556.000000  10.200000  122131.000000  15000.000000  60.000000   \n",
       "\n",
       "               conv          total  \n",
       "count     26.000000      26.000000  \n",
       "mean    7655.196154   92097.542308  \n",
       "std     2147.241986   24202.119685  \n",
       "min     3950.000000   54250.000000  \n",
       "25%     6220.000000   75218.750000  \n",
       "50%     7570.000000   89650.000000  \n",
       "75%     9142.500000  109330.000000  \n",
       "max    12213.100000  144344.100000  "
      ]
     },
     "execution_count": 133,
     "metadata": {},
     "output_type": "execute_result"
    }
   ],
   "source": [
    "# Get stats about numerical columns\n",
    "df.describe()"
   ]
  },
  {
   "cell_type": "markdown",
   "id": "922d46cc",
   "metadata": {},
   "source": [
    "## Prepare Train and Test Sets"
   ]
  },
  {
   "cell_type": "code",
   "execution_count": 134,
   "id": "7c01a669",
   "metadata": {},
   "outputs": [
    {
     "data": {
      "text/html": [
       "<div>\n",
       "<style scoped>\n",
       "    .dataframe tbody tr th:only-of-type {\n",
       "        vertical-align: middle;\n",
       "    }\n",
       "\n",
       "    .dataframe tbody tr th {\n",
       "        vertical-align: top;\n",
       "    }\n",
       "\n",
       "    .dataframe thead th {\n",
       "        text-align: right;\n",
       "    }\n",
       "</style>\n",
       "<table border=\"1\" class=\"dataframe\">\n",
       "  <thead>\n",
       "    <tr style=\"text-align: right;\">\n",
       "      <th></th>\n",
       "      <th>gender_F</th>\n",
       "      <th>gender_M</th>\n",
       "      <th>city_Bangalore</th>\n",
       "      <th>city_Chennai</th>\n",
       "      <th>city_Delhi</th>\n",
       "      <th>city_Guwahati</th>\n",
       "      <th>city_Hyderabad</th>\n",
       "      <th>city_Kharagpur</th>\n",
       "      <th>city_Kolkata</th>\n",
       "      <th>city_Mangalore</th>\n",
       "      <th>...</th>\n",
       "      <th>state_Assam</th>\n",
       "      <th>state_Delhi</th>\n",
       "      <th>state_Karnataka</th>\n",
       "      <th>state_Maharashtra</th>\n",
       "      <th>state_Tami Nadu</th>\n",
       "      <th>state_Tamil Nadu</th>\n",
       "      <th>state_West Bengal</th>\n",
       "      <th>expyr</th>\n",
       "      <th>Age</th>\n",
       "      <th>salary</th>\n",
       "    </tr>\n",
       "  </thead>\n",
       "  <tbody>\n",
       "    <tr>\n",
       "      <th>0</th>\n",
       "      <td>1</td>\n",
       "      <td>0</td>\n",
       "      <td>0</td>\n",
       "      <td>0</td>\n",
       "      <td>0</td>\n",
       "      <td>0</td>\n",
       "      <td>0</td>\n",
       "      <td>0</td>\n",
       "      <td>0</td>\n",
       "      <td>0</td>\n",
       "      <td>...</td>\n",
       "      <td>0</td>\n",
       "      <td>0</td>\n",
       "      <td>0</td>\n",
       "      <td>1</td>\n",
       "      <td>0</td>\n",
       "      <td>0</td>\n",
       "      <td>0</td>\n",
       "      <td>4.0</td>\n",
       "      <td>32</td>\n",
       "      <td>62000</td>\n",
       "    </tr>\n",
       "    <tr>\n",
       "      <th>1</th>\n",
       "      <td>0</td>\n",
       "      <td>1</td>\n",
       "      <td>0</td>\n",
       "      <td>0</td>\n",
       "      <td>0</td>\n",
       "      <td>0</td>\n",
       "      <td>0</td>\n",
       "      <td>0</td>\n",
       "      <td>1</td>\n",
       "      <td>0</td>\n",
       "      <td>...</td>\n",
       "      <td>0</td>\n",
       "      <td>0</td>\n",
       "      <td>0</td>\n",
       "      <td>0</td>\n",
       "      <td>0</td>\n",
       "      <td>0</td>\n",
       "      <td>1</td>\n",
       "      <td>10.0</td>\n",
       "      <td>39</td>\n",
       "      <td>122131</td>\n",
       "    </tr>\n",
       "    <tr>\n",
       "      <th>2</th>\n",
       "      <td>0</td>\n",
       "      <td>1</td>\n",
       "      <td>0</td>\n",
       "      <td>1</td>\n",
       "      <td>0</td>\n",
       "      <td>0</td>\n",
       "      <td>0</td>\n",
       "      <td>0</td>\n",
       "      <td>0</td>\n",
       "      <td>0</td>\n",
       "      <td>...</td>\n",
       "      <td>0</td>\n",
       "      <td>0</td>\n",
       "      <td>0</td>\n",
       "      <td>0</td>\n",
       "      <td>0</td>\n",
       "      <td>1</td>\n",
       "      <td>0</td>\n",
       "      <td>5.5</td>\n",
       "      <td>60</td>\n",
       "      <td>80000</td>\n",
       "    </tr>\n",
       "    <tr>\n",
       "      <th>3</th>\n",
       "      <td>0</td>\n",
       "      <td>1</td>\n",
       "      <td>0</td>\n",
       "      <td>0</td>\n",
       "      <td>0</td>\n",
       "      <td>0</td>\n",
       "      <td>0</td>\n",
       "      <td>1</td>\n",
       "      <td>0</td>\n",
       "      <td>0</td>\n",
       "      <td>...</td>\n",
       "      <td>0</td>\n",
       "      <td>0</td>\n",
       "      <td>0</td>\n",
       "      <td>0</td>\n",
       "      <td>0</td>\n",
       "      <td>0</td>\n",
       "      <td>1</td>\n",
       "      <td>1.3</td>\n",
       "      <td>24</td>\n",
       "      <td>42500</td>\n",
       "    </tr>\n",
       "    <tr>\n",
       "      <th>4</th>\n",
       "      <td>0</td>\n",
       "      <td>1</td>\n",
       "      <td>0</td>\n",
       "      <td>0</td>\n",
       "      <td>0</td>\n",
       "      <td>0</td>\n",
       "      <td>0</td>\n",
       "      <td>0</td>\n",
       "      <td>1</td>\n",
       "      <td>0</td>\n",
       "      <td>...</td>\n",
       "      <td>0</td>\n",
       "      <td>0</td>\n",
       "      <td>0</td>\n",
       "      <td>0</td>\n",
       "      <td>0</td>\n",
       "      <td>0</td>\n",
       "      <td>1</td>\n",
       "      <td>10.2</td>\n",
       "      <td>45</td>\n",
       "      <td>122000</td>\n",
       "    </tr>\n",
       "  </tbody>\n",
       "</table>\n",
       "<p>5 rows × 25 columns</p>\n",
       "</div>"
      ],
      "text/plain": [
       "   gender_F  gender_M  city_Bangalore  city_Chennai  city_Delhi  \\\n",
       "0         1         0               0             0           0   \n",
       "1         0         1               0             0           0   \n",
       "2         0         1               0             1           0   \n",
       "3         0         1               0             0           0   \n",
       "4         0         1               0             0           0   \n",
       "\n",
       "   city_Guwahati  city_Hyderabad  city_Kharagpur  city_Kolkata  \\\n",
       "0              0               0               0             0   \n",
       "1              0               0               0             1   \n",
       "2              0               0               0             0   \n",
       "3              0               0               1             0   \n",
       "4              0               0               0             1   \n",
       "\n",
       "   city_Mangalore  ...  state_Assam  state_Delhi  state_Karnataka  \\\n",
       "0               0  ...            0            0                0   \n",
       "1               0  ...            0            0                0   \n",
       "2               0  ...            0            0                0   \n",
       "3               0  ...            0            0                0   \n",
       "4               0  ...            0            0                0   \n",
       "\n",
       "   state_Maharashtra  state_Tami Nadu  state_Tamil Nadu  state_West Bengal  \\\n",
       "0                  1                0                 0                  0   \n",
       "1                  0                0                 0                  1   \n",
       "2                  0                0                 1                  0   \n",
       "3                  0                0                 0                  1   \n",
       "4                  0                0                 0                  1   \n",
       "\n",
       "   expyr  Age  salary  \n",
       "0    4.0   32   62000  \n",
       "1   10.0   39  122131  \n",
       "2    5.5   60   80000  \n",
       "3    1.3   24   42500  \n",
       "4   10.2   45  122000  \n",
       "\n",
       "[5 rows x 25 columns]"
      ]
     },
     "execution_count": 134,
     "metadata": {},
     "output_type": "execute_result"
    }
   ],
   "source": [
    "# Create dummy variables from these columns: sex, city, state\n",
    "dummy_gender = pd.get_dummies(df['sex'], prefix='gender')\n",
    "dummy_city = pd.get_dummies(df['city'], prefix='city')\n",
    "dummy_state = pd.get_dummies(df['state'], prefix='state')\n",
    "df_new = pd.concat([dummy_gender, dummy_city, dummy_state, df['expyr'], df['Age'], df['salary']], axis=1)\n",
    "df_new.head()"
   ]
  },
  {
   "cell_type": "code",
   "execution_count": 135,
   "id": "2d6a8f91",
   "metadata": {},
   "outputs": [
    {
     "data": {
      "image/png": "[encoded data removed]",
      "text/plain": [
       "<Figure size 1100x650 with 2 Axes>"
      ]
     },
     "metadata": {},
     "output_type": "display_data"
    },
    {
     "name": "stdout",
     "output_type": "stream",
     "text": [
      "#### CORRELATION VALUES AGAINST SALARIES ####\n",
      "gender_F                0.028806\n",
      "gender_M               -0.028806\n",
      "city_Bangalore         -0.281052\n",
      "city_Chennai            0.284701\n",
      "city_Delhi             -0.018216\n",
      "city_Guwahati          -0.048919\n",
      "city_Hyderabad          0.101429\n",
      "city_Kharagpur         -0.323450\n",
      "city_Kolkata            0.511971\n",
      "city_Mangalore         -0.145349\n",
      "city_Mumbai            -0.056066\n",
      "city_Nasik             -0.138225\n",
      "city_Vellore           -0.290205\n",
      "city_Vizag             -0.005243\n",
      "state_Andhra Pradesh    0.081442\n",
      "state_Assam            -0.048919\n",
      "state_Delhi            -0.018216\n",
      "state_Karnataka        -0.326340\n",
      "state_Maharashtra      -0.123320\n",
      "state_Tami Nadu        -0.041843\n",
      "state_Tamil Nadu        0.173750\n",
      "state_West Bengal       0.310869\n",
      "expyr                   0.980828\n",
      "Age                     0.597126\n",
      "salary                  1.000000\n",
      "Name: salary, dtype: float64\n"
     ]
    }
   ],
   "source": [
    "# Show the correlations of all concatenated columns in a heat map\n",
    "plt.figure(figsize=(11,6.5))\n",
    "sns.heatmap(df_new.corr())\n",
    "plt.show()\n",
    "print(\"#### CORRELATION VALUES AGAINST SALARIES ####\")\n",
    "print(df_new.corr()['salary'])"
   ]
  },
  {
   "cell_type": "code",
   "execution_count": 136,
   "id": "0cff20ac",
   "metadata": {},
   "outputs": [
    {
     "name": "stdout",
     "output_type": "stream",
     "text": [
      "TRAIN SIZE: (21, 24) (21,)   TEST SIZE: (5, 24) (5,)\n"
     ]
    }
   ],
   "source": [
    "# Use 80% of the dataset as train set, and 20% as test set\n",
    "X = df_new.drop(columns='salary', axis=1)\n",
    "Y = df_new.iloc[:,-1]\n",
    "x_train, x_test, y_train, y_test = train_test_split(X, Y, test_size=0.17, random_state=21)\n",
    "print(\"TRAIN SIZE:\", x_train.shape, y_train.shape, \"  TEST SIZE:\", x_test.shape, y_test.shape)"
   ]
  },
  {
   "cell_type": "code",
   "execution_count": 137,
   "id": "1d3bef46",
   "metadata": {},
   "outputs": [],
   "source": [
    "# Create lists to store results of error values of all regression methods\n",
    "res_mse, res_rmse, res_mae, res_r2, res_cv_train, res_cv_test = [], [], [], [], [], []"
   ]
  },
  {
   "cell_type": "markdown",
   "id": "50dbfc3d",
   "metadata": {},
   "source": [
    "# ML Regression Models\n",
    "\n",
    "## 1 - Linear Regression "
   ]
  },
  {
   "cell_type": "code",
   "execution_count": 138,
   "id": "2ce8b992",
   "metadata": {},
   "outputs": [
    {
     "data": {
      "text/plain": [
       "{'copy_X': True,\n",
       " 'fit_intercept': True,\n",
       " 'n_jobs': None,\n",
       " 'normalize': 'deprecated',\n",
       " 'positive': False}"
      ]
     },
     "execution_count": 138,
     "metadata": {},
     "output_type": "execute_result"
    }
   ],
   "source": [
    "linreg = LinearRegression()\n",
    "linreg.get_params()"
   ]
  },
  {
   "cell_type": "code",
   "execution_count": 139,
   "id": "17844106",
   "metadata": {},
   "outputs": [],
   "source": [
    "# Fit the training data into the linear reg. model, then make predictions on the test data\n",
    "linreg.fit(x_train, y_train)\n",
    "y_pred = linreg.predict(x_test)"
   ]
  },
  {
   "cell_type": "code",
   "execution_count": 140,
   "id": "3dc08494",
   "metadata": {},
   "outputs": [
    {
     "name": "stdout",
     "output_type": "stream",
     "text": [
      "COEF: [ 4524.40197955 -4524.40197955 -5486.78658701 -2507.27402712\n",
      " -3134.91874256  3815.85727108   760.52664585  4854.04593823\n",
      " -1170.46554829  7829.54491981  6123.44860275 -6752.5028814\n",
      "  3995.53381727 -8327.00940861 -7566.48276276  3815.85727108\n",
      " -3134.91874256  2342.7583328   -629.05427865   181.82588887\n",
      "  1306.43390128  3683.58038994  8994.35322627   260.70322727]\n",
      "RANK: 15\n",
      "INTERCEPT: 20537.23900271429\n"
     ]
    }
   ],
   "source": [
    "print(\"COEF:\", linreg.coef_)   # Estimated coefficients for the linear reg.\n",
    "print(\"RANK:\", linreg.rank_)   # Rank of matrix\n",
    "print(\"INTERCEPT:\", linreg.intercept_)   # Independent term in the linear model"
   ]
  },
  {
   "cell_type": "code",
   "execution_count": 141,
   "id": "8bb67302",
   "metadata": {},
   "outputs": [
    {
     "name": "stdout",
     "output_type": "stream",
     "text": [
      "  118636.90999111545 |   122131\n",
      "   45850.67217137093 |    60150\n",
      "   90144.08168150281 |    88200\n",
      "   74160.49836865392 |    75000\n",
      "   81031.26321738744 |    92500\n"
     ]
    }
   ],
   "source": [
    "# Compare the predicted values against the actual ones\n",
    "for i in range(x_test.shape[0]):\n",
    "    print(\"{:20} | {:8}\".format(y_pred[i], y_test.iloc[i]))"
   ]
  },
  {
   "cell_type": "code",
   "execution_count": 142,
   "id": "5ea80062",
   "metadata": {},
   "outputs": [
    {
     "name": "stdout",
     "output_type": "stream",
     "text": [
      "MSE: 70539116.26060608\n",
      "RMSE: 8398.756828281557\n",
      "MAE: 6409.147586595014\n",
      "R2 SCORE: 0.8343391863052115\n",
      "\n",
      "# CROSS VALIDATION #\n",
      "FITTING TIME: [0.00802875 0.002002   0.00354218 0.002002   0.00200224] -> 0.0035154342651367186\n",
      "SCORING TIME: [0.00357485 0.00099897 0.00300932 0.00099802 0.00101733] -> 0.001919698715209961\n",
      "TRAIN SCORE: [0.97768809 0.99230945 0.9909149  0.99188943 0.99455837] -> 0.989472049985733\n",
      "TEST SCORE: [0.98016975 0.6562355  0.81615716 0.92861989 0.10592339] -> 0.6974211376196626\n"
     ]
    }
   ],
   "source": [
    "# Results of metrics\n",
    "mse, rmse, mae, r2 = mean_squared_error(y_test, y_pred), mean_squared_error(y_test, y_pred, squared=False), \\\n",
    "    mean_absolute_error(y_test, y_pred), r2_score(y_test, y_pred)\n",
    "print(\"MSE:\", mse)         # Mean squared error\n",
    "print(\"RMSE:\", rmse)       # Root mean squared error\n",
    "print(\"MAE:\", mae)         # Mean absolute error\n",
    "print(\"R2 SCORE:\", r2)     # R2 score\n",
    "res_mse.append(mse)\n",
    "res_rmse.append(rmse)\n",
    "res_mae.append(mae)\n",
    "res_r2.append(r2)\n",
    "print(\"\\n# CROSS VALIDATION #\")\n",
    "cross_val = cross_validate(linreg, X, Y, cv=5, return_train_score=True)    # 5-fold Cross Validation\n",
    "print(\"FITTING TIME:\", cross_val['fit_time'], \"->\", cross_val['fit_time'].mean())\n",
    "print(\"SCORING TIME:\", cross_val['score_time'], \"->\", cross_val['score_time'].mean())\n",
    "print(\"TRAIN SCORE:\", cross_val['train_score'], \"->\", cross_val['train_score'].mean())\n",
    "res_cv_train.append(cross_val['train_score'].mean())\n",
    "print(\"TEST SCORE:\", cross_val['test_score'], \"->\", cross_val['test_score'].mean())\n",
    "res_cv_test.append(cross_val['test_score'].mean())"
   ]
  },
  {
   "cell_type": "markdown",
   "id": "2c5dd79d",
   "metadata": {},
   "source": [
    "## 2 - Lasso Regression"
   ]
  },
  {
   "cell_type": "code",
   "execution_count": 143,
   "id": "ae9aa77b",
   "metadata": {},
   "outputs": [
    {
     "data": {
      "text/plain": [
       "{'alpha': 1.0,\n",
       " 'copy_X': True,\n",
       " 'fit_intercept': True,\n",
       " 'max_iter': 1000,\n",
       " 'normalize': 'deprecated',\n",
       " 'positive': False,\n",
       " 'precompute': False,\n",
       " 'random_state': None,\n",
       " 'selection': 'cyclic',\n",
       " 'tol': 0.0001,\n",
       " 'warm_start': False}"
      ]
     },
     "execution_count": 143,
     "metadata": {},
     "output_type": "execute_result"
    }
   ],
   "source": [
    "lasso = Lasso()\n",
    "lasso.get_params()"
   ]
  },
  {
   "cell_type": "code",
   "execution_count": 144,
   "id": "fdca1e7f",
   "metadata": {},
   "outputs": [],
   "source": [
    "# Fit the training data into the lasso model, then make predictions on the test data\n",
    "lasso.fit(x_train, y_train)\n",
    "y_pred = lasso.predict(x_test)"
   ]
  },
  {
   "cell_type": "code",
   "execution_count": 145,
   "id": "af0c5233",
   "metadata": {},
   "outputs": [
    {
     "name": "stdout",
     "output_type": "stream",
     "text": [
      "COEF: [ 8845.8586145     -0.         -3837.11738292 -2371.10516721\n",
      " -6816.86501999  6565.07619059    -0.          5765.5431377\n",
      "     0.          9323.36570598  4693.5967729  -7967.27768993\n",
      "  3748.23097393 -8868.70481927 -7539.12822705   251.76062072\n",
      "   -16.4557915     -0.            -0.          -438.19322868\n",
      "   585.99035522  1859.11538445  8982.30202966   254.43684516]\n",
      "INTERCEPT: 17071.297680407537\n",
      "ITERATIONS: 700\n"
     ]
    }
   ],
   "source": [
    "print(\"COEF:\", lasso.coef_)   # Parameter vector (w in the cost function function formula)\n",
    "print(\"INTERCEPT:\", lasso.intercept_)   # Independent term in decision function\n",
    "# Number of iterations run by the coord. descent solver to reach the specified tolerance\n",
    "print(\"ITERATIONS:\", lasso.n_iter_)   "
   ]
  },
  {
   "cell_type": "code",
   "execution_count": 146,
   "id": "007e231c",
   "metadata": {},
   "outputs": [
    {
     "name": "stdout",
     "output_type": "stream",
     "text": [
      "  118676.47032263048 |   122131\n",
      "   46090.17253842016 |    60150\n",
      "   90066.49974753827 |    88200\n",
      "   74289.23635446052 |    75000\n",
      "   81059.13639635139 |    92500\n"
     ]
    }
   ],
   "source": [
    "# Compare the predicted values against the actual ones\n",
    "for i in range(x_test.shape[0]):\n",
    "    print(\"{:20} | {:8}\".format(y_pred[i], y_test.iloc[i]))"
   ]
  },
  {
   "cell_type": "code",
   "execution_count": 147,
   "id": "52d2fd9b",
   "metadata": {},
   "outputs": [
    {
     "name": "stdout",
     "output_type": "stream",
     "text": [
      "MSE: 68898977.96117875\n",
      "RMSE: 8300.540823414987\n",
      "MAE: 6306.496827135144\n",
      "R2 SCORE: 0.8381910441063682\n",
      "\n",
      "# CROSS VALIDATION #\n",
      "FITTING TIME: [0.00407887 0.00199509 0.00247288 0.00404334 0.00192881] -> 0.0029037952423095702\n",
      "SCORING TIME: [0.00147581 0.00197792 0.00200772 0.00098705 0.0020349 ] -> 0.0016966819763183593\n",
      "TRAIN SCORE: [0.97768753 0.9923088  0.99091407 0.99188769 0.9945552 ] -> 0.9894706565797234\n",
      "TEST SCORE: [0.97941516 0.4741552  0.84203307 0.93140062 0.13558571] -> 0.6725179511439441\n"
     ]
    }
   ],
   "source": [
    "# Results of metrics\n",
    "mse, rmse, mae, r2 = mean_squared_error(y_test, y_pred), mean_squared_error(y_test, y_pred, squared=False), \\\n",
    "    mean_absolute_error(y_test, y_pred), r2_score(y_test, y_pred)\n",
    "print(\"MSE:\", mse)          \n",
    "print(\"RMSE:\", rmse)       \n",
    "print(\"MAE:\", mae)        \n",
    "print(\"R2 SCORE:\", r2)\n",
    "res_mse.append(mse)\n",
    "res_rmse.append(rmse)\n",
    "res_mae.append(mae)\n",
    "res_r2.append(r2)\n",
    "print(\"\\n# CROSS VALIDATION #\")\n",
    "cross_val = cross_validate(lasso, X, Y, cv=5, return_train_score=True)\n",
    "print(\"FITTING TIME:\", cross_val['fit_time'], \"->\", cross_val['fit_time'].mean())\n",
    "print(\"SCORING TIME:\", cross_val['score_time'], \"->\", cross_val['score_time'].mean())\n",
    "print(\"TRAIN SCORE:\", cross_val['train_score'], \"->\", cross_val['train_score'].mean())\n",
    "res_cv_train.append(cross_val['train_score'].mean())\n",
    "print(\"TEST SCORE:\", cross_val['test_score'], \"->\", cross_val['test_score'].mean())\n",
    "res_cv_test.append(cross_val['test_score'].mean())"
   ]
  },
  {
   "cell_type": "markdown",
   "id": "02c261bd",
   "metadata": {},
   "source": [
    "## 3 - Ridge Regression"
   ]
  },
  {
   "cell_type": "code",
   "execution_count": 148,
   "id": "f492cfdf",
   "metadata": {},
   "outputs": [
    {
     "data": {
      "text/plain": [
       "{'alpha': 1.0,\n",
       " 'copy_X': True,\n",
       " 'fit_intercept': True,\n",
       " 'max_iter': None,\n",
       " 'normalize': 'deprecated',\n",
       " 'positive': False,\n",
       " 'random_state': None,\n",
       " 'solver': 'auto',\n",
       " 'tol': 0.001}"
      ]
     },
     "execution_count": 148,
     "metadata": {},
     "output_type": "execute_result"
    }
   ],
   "source": [
    "ridge = Ridge()\n",
    "ridge.get_params()"
   ]
  },
  {
   "cell_type": "code",
   "execution_count": 149,
   "id": "317d8013",
   "metadata": {},
   "outputs": [],
   "source": [
    "# Fit the training data into the ridge model, then make predictions on the test data\n",
    "ridge.fit(x_train, y_train)\n",
    "y_pred = ridge.predict(x_test)"
   ]
  },
  {
   "cell_type": "code",
   "execution_count": 150,
   "id": "d9f33691",
   "metadata": {},
   "outputs": [
    {
     "name": "stdout",
     "output_type": "stream",
     "text": [
      "COEF: [  657.99234676  -657.99234676 -2292.22061821  2132.2183003\n",
      "  -557.69496145  1656.72519763 -1835.90043564   384.18469795\n",
      "  1047.13401388  2730.36284665  1671.59644538 -1689.44341576\n",
      "  -638.42979137 -2608.53227935 -4444.43271499  1656.72519763\n",
      "  -557.69496145   438.14222843   -17.84697037   655.34453456\n",
      "   838.44397437  1431.31871183  8689.90547636    39.71155374]\n",
      "INTERCEPT: 28708.34983002158\n",
      "ITERATIONS: None\n"
     ]
    }
   ],
   "source": [
    "print(\"COEF:\", ridge.coef_)   # Weight vector(s)\n",
    "print(\"INTERCEPT:\", ridge.intercept_)   # Independent term in decision function\n",
    "print(\"ITERATIONS:\", ridge.n_iter_)   # Actual number of iterations for each target. (Only for 'sag' & 'lsqr' solvers)"
   ]
  },
  {
   "cell_type": "code",
   "execution_count": 151,
   "id": "a009ff85",
   "metadata": {},
   "outputs": [
    {
     "name": "stdout",
     "output_type": "stream",
     "text": [
      "  118976.61556841125 |   122131\n",
      "  54394.588370334954 |    60150\n",
      "   85294.70903405122 |    88200\n",
      "   77066.51151318621 |    75000\n",
      "   83949.55549429316 |    92500\n"
     ]
    }
   ],
   "source": [
    "# Compare the predicted values against the actual ones\n",
    "for i in range(x_test.shape[0]):\n",
    "    print(\"{:20} | {:8}\".format(y_pred[i], y_test.iloc[i]))"
   ]
  },
  {
   "cell_type": "code",
   "execution_count": 152,
   "id": "97e5e3ba",
   "metadata": {},
   "outputs": [
    {
     "name": "stdout",
     "output_type": "stream",
     "text": [
      "MSE: 25779238.169052027\n",
      "RMSE: 5077.325887615648\n",
      "MAE: 4486.4086092191255\n",
      "R2 SCORE: 0.9394575691062079\n",
      "ADJUSTED R2 SCORE: 0.5271272266772006\n",
      "\n",
      "# CROSS VALIDATION #\n",
      "FITTING TIME: [0.0049088  0.00400305 0.00306821 0.0015738  0.0020051 ] -> 0.0031117916107177733\n",
      "SCORING TIME: [0.00201392 0.00151753 0.0019381  0.00094366 0.00100565] -> 0.001483774185180664\n",
      "TRAIN SCORE: [0.97294843 0.98932436 0.98782097 0.98489219 0.99072266] -> 0.985141721275929\n",
      "TEST SCORE: [0.98279415 0.77431036 0.87504603 0.97151848 0.75771212] -> 0.8722762270610577\n"
     ]
    }
   ],
   "source": [
    "# Results of metrics\n",
    "mse, rmse, mae, r2 = mean_squared_error(y_test, y_pred), mean_squared_error(y_test, y_pred, squared=False), \\\n",
    "    mean_absolute_error(y_test, y_pred), r2_score(y_test, y_pred)\n",
    "adj_r2 = 1-(1-ridge.score(X, Y))*(len(Y)-1)/(len(Y)-X.shape[1]-1)\n",
    "print(\"MSE:\", mse)        \n",
    "print(\"RMSE:\", rmse)      \n",
    "print(\"MAE:\", mae)        \n",
    "print(\"R2 SCORE:\", r2)  \n",
    "print(\"ADJUSTED R2 SCORE:\", adj_r2)\n",
    "res_mse.append(mse)\n",
    "res_rmse.append(rmse)\n",
    "res_mae.append(mae)\n",
    "res_r2.append(r2)\n",
    "print(\"\\n# CROSS VALIDATION #\")\n",
    "cross_val = cross_validate(ridge, X, Y, cv=5, return_train_score=True)\n",
    "print(\"FITTING TIME:\", cross_val['fit_time'], \"->\", cross_val['fit_time'].mean())\n",
    "print(\"SCORING TIME:\", cross_val['score_time'], \"->\", cross_val['score_time'].mean())\n",
    "print(\"TRAIN SCORE:\", cross_val['train_score'], \"->\", cross_val['train_score'].mean())\n",
    "res_cv_train.append(cross_val['train_score'].mean())\n",
    "print(\"TEST SCORE:\", cross_val['test_score'], \"->\", cross_val['test_score'].mean())\n",
    "res_cv_test.append(cross_val['test_score'].mean())"
   ]
  },
  {
   "cell_type": "markdown",
   "id": "b80d9373",
   "metadata": {},
   "source": [
    "## 4 - Polynomial Regression"
   ]
  },
  {
   "cell_type": "code",
   "execution_count": 153,
   "id": "258d5a5c",
   "metadata": {},
   "outputs": [
    {
     "data": {
      "text/plain": [
       "{'degree': 2, 'include_bias': True, 'interaction_only': False, 'order': 'C'}"
      ]
     },
     "execution_count": 153,
     "metadata": {},
     "output_type": "execute_result"
    }
   ],
   "source": [
    "poly_feat = PolynomialFeatures(degree=2)\n",
    "poly_feat.get_params()"
   ]
  },
  {
   "cell_type": "code",
   "execution_count": 154,
   "id": "8bc2c9ce",
   "metadata": {},
   "outputs": [
    {
     "name": "stdout",
     "output_type": "stream",
     "text": [
      "(21, 325) (5, 325)\n"
     ]
    }
   ],
   "source": [
    "# Fit then transform for both training and test data (the number of columns must increase)\n",
    "x_poly_train = poly_feat.fit_transform(x_train)\n",
    "x_poly_test = poly_feat.fit_transform(x_test)\n",
    "print(x_poly_train.shape, x_poly_test.shape)"
   ]
  },
  {
   "cell_type": "markdown",
   "id": "d23b469c",
   "metadata": {},
   "source": [
    "### Polynomial Regression with Lasso"
   ]
  },
  {
   "cell_type": "code",
   "execution_count": 155,
   "id": "ee268bcc",
   "metadata": {},
   "outputs": [],
   "source": [
    "lasso = Lasso()\n",
    "lasso.fit(x_poly_train, y_train)\n",
    "y_poly_pred = lasso.predict(x_poly_test)"
   ]
  },
  {
   "cell_type": "code",
   "execution_count": 156,
   "id": "a5eb8130",
   "metadata": {
    "scrolled": true
   },
   "outputs": [
    {
     "name": "stdout",
     "output_type": "stream",
     "text": [
      "COEF: [ 0.00000000e+00 -0.00000000e+00  0.00000000e+00 -4.53648357e+03\n",
      "  8.70265309e+03 -0.00000000e+00 -6.30933100e+02 -0.00000000e+00\n",
      " -3.01832946e+03  1.08342879e+04 -0.00000000e+00  1.08785944e+04\n",
      " -0.00000000e+00  0.00000000e+00  0.00000000e+00  0.00000000e+00\n",
      " -0.00000000e+00 -0.00000000e+00 -8.28959783e+01  1.12037770e+03\n",
      "  0.00000000e+00  0.00000000e+00  0.00000000e+00  7.11034643e+03\n",
      " -1.24059930e+02 -0.00000000e+00  0.00000000e+00  5.72582423e+03\n",
      " -0.00000000e+00 -0.00000000e+00  0.00000000e+00  0.00000000e+00\n",
      "  0.00000000e+00  0.00000000e+00  0.00000000e+00  0.00000000e+00\n",
      "  0.00000000e+00  0.00000000e+00 -0.00000000e+00 -0.00000000e+00\n",
      "  0.00000000e+00 -0.00000000e+00  8.43057611e+02  0.00000000e+00\n",
      "  0.00000000e+00 -0.00000000e+00  0.00000000e+00  3.99342024e+02\n",
      " -3.32983622e+01  0.00000000e+00 -3.27172669e+02  1.35256516e+03\n",
      "  0.00000000e+00 -0.00000000e+00 -0.00000000e+00 -0.00000000e+00\n",
      "  0.00000000e+00  0.00000000e+00  2.70062673e+03  0.00000000e+00\n",
      "  0.00000000e+00  0.00000000e+00 -0.00000000e+00 -0.00000000e+00\n",
      "  0.00000000e+00 -0.00000000e+00  0.00000000e+00  0.00000000e+00\n",
      "  5.22117344e+02 -0.00000000e+00 -3.74080816e+01 -2.71355678e+00\n",
      " -0.00000000e+00  0.00000000e+00  0.00000000e+00  0.00000000e+00\n",
      "  0.00000000e+00  0.00000000e+00  0.00000000e+00  0.00000000e+00\n",
      "  0.00000000e+00  0.00000000e+00  0.00000000e+00  0.00000000e+00\n",
      "  0.00000000e+00  0.00000000e+00  0.00000000e+00 -0.00000000e+00\n",
      "  0.00000000e+00  0.00000000e+00  0.00000000e+00  0.00000000e+00\n",
      " -2.55770810e+01  8.92106905e+01  0.00000000e+00  0.00000000e+00\n",
      "  0.00000000e+00  0.00000000e+00  0.00000000e+00  0.00000000e+00\n",
      "  0.00000000e+00  0.00000000e+00  0.00000000e+00  0.00000000e+00\n",
      "  0.00000000e+00  0.00000000e+00  0.00000000e+00  0.00000000e+00\n",
      "  0.00000000e+00  0.00000000e+00  0.00000000e+00  0.00000000e+00\n",
      "  0.00000000e+00 -3.26948861e+02  3.63209598e+01 -2.88180452e+02\n",
      "  0.00000000e+00  0.00000000e+00  0.00000000e+00  0.00000000e+00\n",
      "  0.00000000e+00  0.00000000e+00  0.00000000e+00  0.00000000e+00\n",
      "  0.00000000e+00  0.00000000e+00  0.00000000e+00 -3.25129397e-12\n",
      "  0.00000000e+00  0.00000000e+00  0.00000000e+00  0.00000000e+00\n",
      "  0.00000000e+00  9.20023551e+02 -1.12467586e+02 -0.00000000e+00\n",
      "  0.00000000e+00  0.00000000e+00  0.00000000e+00  0.00000000e+00\n",
      "  0.00000000e+00  0.00000000e+00  0.00000000e+00  0.00000000e+00\n",
      "  0.00000000e+00 -0.00000000e+00  0.00000000e+00  0.00000000e+00\n",
      "  0.00000000e+00  0.00000000e+00  0.00000000e+00  0.00000000e+00\n",
      "  7.01769379e+02  2.56505118e+02 -0.00000000e+00  0.00000000e+00\n",
      "  0.00000000e+00  0.00000000e+00  0.00000000e+00  0.00000000e+00\n",
      "  0.00000000e+00  0.00000000e+00 -0.00000000e+00  0.00000000e+00\n",
      "  0.00000000e+00  0.00000000e+00  0.00000000e+00  0.00000000e+00\n",
      "  0.00000000e+00  0.00000000e+00 -1.04038700e+00 -1.15151639e+01\n",
      " -0.00000000e+00  0.00000000e+00  0.00000000e+00  0.00000000e+00\n",
      "  0.00000000e+00  0.00000000e+00  0.00000000e+00  0.00000000e+00\n",
      "  0.00000000e+00  0.00000000e+00  0.00000000e+00  0.00000000e+00\n",
      "  0.00000000e+00  0.00000000e+00 -0.00000000e+00 -0.00000000e+00\n",
      "  3.93286400e+02  0.00000000e+00  0.00000000e+00  0.00000000e+00\n",
      "  0.00000000e+00  0.00000000e+00  0.00000000e+00  0.00000000e+00\n",
      "  0.00000000e+00  0.00000000e+00  0.00000000e+00  0.00000000e+00\n",
      "  0.00000000e+00  0.00000000e+00  0.00000000e+00 -6.61925087e+02\n",
      " -3.71503268e+01  0.00000000e+00  0.00000000e+00  0.00000000e+00\n",
      "  0.00000000e+00  0.00000000e+00  0.00000000e+00  0.00000000e+00\n",
      "  0.00000000e+00  0.00000000e+00  0.00000000e+00  0.00000000e+00\n",
      "  0.00000000e+00  0.00000000e+00  1.59548102e+03  2.14151925e+02\n",
      "  2.27673077e+03  0.00000000e+00  0.00000000e+00  0.00000000e+00\n",
      "  0.00000000e+00  0.00000000e+00  0.00000000e+00  0.00000000e+00\n",
      "  0.00000000e+00  0.00000000e+00  0.00000000e+00  0.00000000e+00\n",
      "  1.13846230e+03 -4.45974184e+02  0.00000000e+00  0.00000000e+00\n",
      "  0.00000000e+00  0.00000000e+00  0.00000000e+00  0.00000000e+00\n",
      "  0.00000000e+00  0.00000000e+00  0.00000000e+00  0.00000000e+00\n",
      "  0.00000000e+00  0.00000000e+00  8.33745164e+01  0.00000000e+00\n",
      "  0.00000000e+00  0.00000000e+00  0.00000000e+00  0.00000000e+00\n",
      "  0.00000000e+00  0.00000000e+00  0.00000000e+00  0.00000000e+00\n",
      "  0.00000000e+00  0.00000000e+00  1.75029433e+02 -0.00000000e+00\n",
      " -0.00000000e+00  0.00000000e+00  0.00000000e+00  0.00000000e+00\n",
      "  0.00000000e+00  0.00000000e+00  0.00000000e+00  0.00000000e+00\n",
      " -7.44921006e+01 -5.59254438e+01 -0.00000000e+00  0.00000000e+00\n",
      "  0.00000000e+00  0.00000000e+00  0.00000000e+00  0.00000000e+00\n",
      "  0.00000000e+00  0.00000000e+00 -0.00000000e+00 -1.26418173e+01\n",
      " -3.22493193e+03  0.00000000e+00  0.00000000e+00  0.00000000e+00\n",
      "  0.00000000e+00  0.00000000e+00  0.00000000e+00 -6.44016522e+02\n",
      "  1.90532666e+02 -0.00000000e+00  0.00000000e+00  0.00000000e+00\n",
      "  0.00000000e+00  0.00000000e+00  0.00000000e+00  8.02790104e+02\n",
      " -1.10408224e+02  0.00000000e+00  0.00000000e+00  0.00000000e+00\n",
      "  0.00000000e+00  0.00000000e+00 -6.96388378e+01  5.44712262e+01\n",
      "  8.21398365e+03  0.00000000e+00  0.00000000e+00  0.00000000e+00\n",
      "  1.02685753e+03 -3.70473585e+02 -0.00000000e+00  0.00000000e+00\n",
      "  0.00000000e+00 -1.16630983e+02  2.01824781e+01 -0.00000000e+00\n",
      "  0.00000000e+00 -2.12156952e+02  8.38705182e+01 -0.00000000e+00\n",
      " -3.20761883e+01  8.18706025e+00  2.51490494e+02 -3.26874405e+00\n",
      " -6.98465228e-01]\n",
      "INTERCEPT: 29853.46893044193\n",
      "ITERATIONS: 1000\n"
     ]
    }
   ],
   "source": [
    "print(\"COEF:\", lasso.coef_)   # Parameter vector (w in the cost function function formula)\n",
    "print(\"INTERCEPT:\", lasso.intercept_)   # Independent term in decision function\n",
    "# Number of iterations run by the coord. descent solver to reach the specified tolerance\n",
    "print(\"ITERATIONS:\", lasso.n_iter_) "
   ]
  },
  {
   "cell_type": "code",
   "execution_count": 157,
   "id": "a50c9b8a",
   "metadata": {},
   "outputs": [
    {
     "name": "stdout",
     "output_type": "stream",
     "text": [
      "MSE: 64234377.874577425\n",
      "RMSE: 8014.63523028824\n",
      "MAE: 5993.268184209007\n",
      "R2 SCORE: 0.8491458375156345\n",
      "\n",
      "# CROSS VALIDATION #\n",
      "FITTING TIME: [0.00405455 0.00350976 0.0020051  0.00257468 0.00299478] -> 0.0030277729034423827\n",
      "SCORING TIME: [0.00202608 0.00102329 0.00100017 0.00098968 0.00164938] -> 0.001337718963623047\n",
      "TRAIN SCORE: [0.97768753 0.9923088  0.99091407 0.99188769 0.9945552 ] -> 0.9894706565797234\n",
      "TEST SCORE: [0.97941516 0.4741552  0.84203307 0.93140062 0.13558571] -> 0.6725179511439441\n"
     ]
    }
   ],
   "source": [
    "# Results of metrics\n",
    "mse, rmse, mae, r2 = mean_squared_error(y_test, y_poly_pred), mean_squared_error(y_test, y_poly_pred, squared=False), \\\n",
    "    mean_absolute_error(y_test, y_poly_pred), r2_score(y_test, y_poly_pred)\n",
    "print(\"MSE:\", mse)          \n",
    "print(\"RMSE:\", rmse)     \n",
    "print(\"MAE:\", mae)         \n",
    "print(\"R2 SCORE:\", r2)    \n",
    "res_mse.append(mse)\n",
    "res_rmse.append(rmse)\n",
    "res_mae.append(mae)\n",
    "res_r2.append(r2)\n",
    "print(\"\\n# CROSS VALIDATION #\")\n",
    "cross_val = cross_validate(lasso, X, Y, cv=5, return_train_score=True)\n",
    "print(\"FITTING TIME:\", cross_val['fit_time'], \"->\", cross_val['fit_time'].mean())\n",
    "print(\"SCORING TIME:\", cross_val['score_time'], \"->\", cross_val['score_time'].mean())\n",
    "print(\"TRAIN SCORE:\", cross_val['train_score'], \"->\", cross_val['train_score'].mean())\n",
    "res_cv_train.append(cross_val['train_score'].mean())\n",
    "print(\"TEST SCORE:\", cross_val['test_score'], \"->\", cross_val['test_score'].mean())\n",
    "res_cv_test.append(cross_val['test_score'].mean())"
   ]
  },
  {
   "cell_type": "markdown",
   "id": "4b33101a",
   "metadata": {},
   "source": [
    "### Polynomial Regression with Ridge"
   ]
  },
  {
   "cell_type": "code",
   "execution_count": 158,
   "id": "cabcf7b8",
   "metadata": {},
   "outputs": [],
   "source": [
    "ridge = Ridge()\n",
    "ridge.fit(x_poly_train, y_train)\n",
    "y_poly_pred = ridge.predict(x_poly_test)"
   ]
  },
  {
   "cell_type": "code",
   "execution_count": 159,
   "id": "b7b08999",
   "metadata": {
    "scrolled": true
   },
   "outputs": [
    {
     "name": "stdout",
     "output_type": "stream",
     "text": [
      "COEF: [ 0.00000000e+00 -7.26660609e+01  7.26660609e+01 -7.27707376e+01\n",
      " -5.20017496e+01 -3.13129616e+01 -2.53579881e+01 -1.25778664e+00\n",
      "  2.66098395e+00 -4.13668911e+00  7.21607834e+00  1.85744576e+02\n",
      " -5.36771135e+00  2.99683540e+00 -6.41284994e+00 -7.67063659e+00\n",
      " -2.53579881e+01 -3.13129616e+01 -6.55546592e+01  1.80376865e+02\n",
      " -7.17962889e-01 -4.82869513e+01 -1.47570516e+00  2.95396058e+02\n",
      " -7.51882518e+02 -7.26660609e+01  0.00000000e+00  1.09190865e+02\n",
      " -1.38763403e+02 -3.13129616e+01  0.00000000e+00  0.00000000e+00\n",
      "  0.00000000e+00  0.00000000e+00  0.00000000e+00  0.00000000e+00\n",
      " -5.36771135e+00  0.00000000e+00 -6.41284994e+00 -6.41284994e+00\n",
      "  0.00000000e+00 -3.13129616e+01  1.09190865e+02 -5.36771135e+00\n",
      " -3.71479829e+00 -1.35048605e+02  0.00000000e+00  4.11490790e+02\n",
      " -3.13173184e+02  7.26660609e+01 -1.81961602e+02  8.67616534e+01\n",
      "  0.00000000e+00 -2.53579881e+01 -1.25778664e+00  2.66098395e+00\n",
      " -4.13668911e+00  7.21607834e+00  1.85744576e+02  0.00000000e+00\n",
      "  2.99683540e+00  0.00000000e+00 -1.25778664e+00 -2.53579881e+01\n",
      "  0.00000000e+00 -1.74745524e+02  1.85744576e+02  2.99683540e+00\n",
      "  8.67616534e+01 -1.47570516e+00 -1.16094732e+02 -4.38709334e+02\n",
      " -7.27707376e+01  0.00000000e+00  0.00000000e+00  0.00000000e+00\n",
      "  0.00000000e+00  0.00000000e+00  0.00000000e+00  0.00000000e+00\n",
      "  0.00000000e+00  0.00000000e+00  0.00000000e+00  0.00000000e+00\n",
      "  0.00000000e+00  0.00000000e+00  0.00000000e+00 -7.27707376e+01\n",
      "  0.00000000e+00  0.00000000e+00  0.00000000e+00  0.00000000e+00\n",
      "  3.14239913e+02 -2.68491335e+02 -5.20017496e+01  0.00000000e+00\n",
      "  0.00000000e+00  0.00000000e+00  0.00000000e+00  0.00000000e+00\n",
      "  0.00000000e+00  0.00000000e+00  0.00000000e+00  0.00000000e+00\n",
      "  0.00000000e+00  0.00000000e+00  0.00000000e+00  0.00000000e+00\n",
      "  0.00000000e+00  0.00000000e+00 -3.71479829e+00 -4.82869513e+01\n",
      "  0.00000000e+00 -5.23393327e+02 -6.73101092e+01 -3.13129616e+01\n",
      "  0.00000000e+00  0.00000000e+00  0.00000000e+00  0.00000000e+00\n",
      "  0.00000000e+00  0.00000000e+00  0.00000000e+00  0.00000000e+00\n",
      "  0.00000000e+00  0.00000000e+00  0.00000000e+00 -3.13129616e+01\n",
      "  0.00000000e+00  0.00000000e+00  0.00000000e+00  0.00000000e+00\n",
      "  0.00000000e+00  4.97393227e+01 -1.72575904e+02 -2.53579881e+01\n",
      "  0.00000000e+00  0.00000000e+00  0.00000000e+00  0.00000000e+00\n",
      "  0.00000000e+00  0.00000000e+00  0.00000000e+00  0.00000000e+00\n",
      "  0.00000000e+00 -2.53579881e+01  0.00000000e+00  0.00000000e+00\n",
      "  0.00000000e+00  0.00000000e+00  0.00000000e+00  0.00000000e+00\n",
      "  6.45302356e+02 -4.76810609e+01 -1.25778664e+00  0.00000000e+00\n",
      "  0.00000000e+00  0.00000000e+00  0.00000000e+00  0.00000000e+00\n",
      "  0.00000000e+00  0.00000000e+00 -1.25778664e+00  0.00000000e+00\n",
      "  0.00000000e+00  0.00000000e+00  0.00000000e+00  0.00000000e+00\n",
      "  0.00000000e+00  0.00000000e+00 -7.79827717e+00 -5.03114656e+01\n",
      "  2.66098395e+00  0.00000000e+00  0.00000000e+00  0.00000000e+00\n",
      "  0.00000000e+00  0.00000000e+00  0.00000000e+00  0.00000000e+00\n",
      "  0.00000000e+00  0.00000000e+00  0.00000000e+00  0.00000000e+00\n",
      "  0.00000000e+00  0.00000000e+00  2.66098395e+00  3.45927914e+00\n",
      "  6.38636148e+01 -4.13668911e+00  0.00000000e+00  0.00000000e+00\n",
      "  0.00000000e+00  0.00000000e+00  0.00000000e+00  0.00000000e+00\n",
      "  0.00000000e+00  0.00000000e+00  0.00000000e+00  0.00000000e+00\n",
      "  0.00000000e+00  0.00000000e+00 -4.13668911e+00 -4.21942289e+01\n",
      " -1.86151010e+02  7.21607834e+00  0.00000000e+00  0.00000000e+00\n",
      "  0.00000000e+00  0.00000000e+00  0.00000000e+00  0.00000000e+00\n",
      "  0.00000000e+00  7.21607834e+00  0.00000000e+00  0.00000000e+00\n",
      "  0.00000000e+00  0.00000000e+00  2.16482350e+01  2.23698428e+02\n",
      "  1.85744576e+02  0.00000000e+00  0.00000000e+00  0.00000000e+00\n",
      "  0.00000000e+00  0.00000000e+00  0.00000000e+00  0.00000000e+00\n",
      "  1.85744576e+02  0.00000000e+00  0.00000000e+00  0.00000000e+00\n",
      " -1.09729085e+02  8.50391726e+01 -5.36771135e+00  0.00000000e+00\n",
      "  0.00000000e+00  0.00000000e+00  0.00000000e+00  0.00000000e+00\n",
      "  0.00000000e+00 -5.36771135e+00  0.00000000e+00  0.00000000e+00\n",
      "  0.00000000e+00 -2.14708454e+01 -1.71766763e+02  2.99683540e+00\n",
      "  0.00000000e+00  0.00000000e+00  0.00000000e+00  0.00000000e+00\n",
      "  0.00000000e+00  0.00000000e+00  2.99683540e+00  0.00000000e+00\n",
      "  0.00000000e+00  5.99367081e+00  8.99050621e+01 -6.41284994e+00\n",
      " -6.41284994e+00  0.00000000e+00  0.00000000e+00  0.00000000e+00\n",
      "  0.00000000e+00  0.00000000e+00  0.00000000e+00  0.00000000e+00\n",
      " -4.04009547e+01 -2.50101148e+02 -7.67063659e+00  0.00000000e+00\n",
      "  0.00000000e+00  0.00000000e+00  0.00000000e+00  0.00000000e+00\n",
      "  0.00000000e+00  0.00000000e+00 -4.81992318e+01 -3.00412613e+02\n",
      " -2.53579881e+01  0.00000000e+00  0.00000000e+00  0.00000000e+00\n",
      "  0.00000000e+00  0.00000000e+00  0.00000000e+00  6.45302356e+02\n",
      " -4.76810609e+01 -3.13129616e+01  0.00000000e+00  0.00000000e+00\n",
      "  0.00000000e+00  0.00000000e+00  0.00000000e+00  4.97393227e+01\n",
      " -1.72575904e+02 -6.55546592e+01  0.00000000e+00  0.00000000e+00\n",
      "  0.00000000e+00  0.00000000e+00  3.35888148e+02 -4.47929061e+01\n",
      "  1.80376865e+02  0.00000000e+00  0.00000000e+00  0.00000000e+00\n",
      " -1.31199931e+02 -8.67275908e+01 -7.17962889e-01  0.00000000e+00\n",
      "  0.00000000e+00 -2.22387962e+01 -5.12572730e+01 -4.82869513e+01\n",
      "  0.00000000e+00 -4.95160860e+02  7.38522259e+01 -1.47570516e+00\n",
      " -3.87349498e+01 -1.22287395e+02 -5.39960916e+02  4.36105993e+02\n",
      " -1.04232793e+01]\n",
      "INTERCEPT: 65444.76776073499\n",
      "ITERATIONS: None\n"
     ]
    }
   ],
   "source": [
    "print(\"COEF:\", ridge.coef_)   # Weight vector(s)\n",
    "print(\"INTERCEPT:\", ridge.intercept_)   # Independent term in decision function\n",
    "print(\"ITERATIONS:\", ridge.n_iter_)   # Actual number of iterations for each target. (Only for 'sag' & 'lsqr' solvers)"
   ]
  },
  {
   "cell_type": "code",
   "execution_count": 160,
   "id": "707b82c5",
   "metadata": {},
   "outputs": [
    {
     "name": "stdout",
     "output_type": "stream",
     "text": [
      "MSE: 182450195.13624507\n",
      "RMSE: 13507.41259961526\n",
      "MAE: 12964.624785945183\n",
      "R2 SCORE: 0.5715164948568692\n",
      "\n",
      "# CROSS VALIDATION #\n",
      "FITTING TIME: [0.00325561 0.00262332 0.00200009 0.00199413 0.00201154] -> 0.0023769378662109376\n",
      "SCORING TIME: [0.0009985  0.00192976 0.00099564 0.00099564 0.00100064] -> 0.0011840343475341796\n",
      "TRAIN SCORE: [0.97294843 0.98932436 0.98782097 0.98489219 0.99072266] -> 0.985141721275929\n",
      "TEST SCORE: [0.98279415 0.77431036 0.87504603 0.97151848 0.75771212] -> 0.8722762270610577\n"
     ]
    }
   ],
   "source": [
    "# Results of metrics\n",
    "mse, rmse, mae, r2 = mean_squared_error(y_test, y_poly_pred), mean_squared_error(y_test, y_poly_pred, squared=False), \\\n",
    "    mean_absolute_error(y_test, y_poly_pred), r2_score(y_test, y_poly_pred)\n",
    "print(\"MSE:\", mse)        \n",
    "print(\"RMSE:\", rmse)       \n",
    "print(\"MAE:\", mae)          \n",
    "print(\"R2 SCORE:\", r2)      \n",
    "res_mse.append(mse)\n",
    "res_rmse.append(rmse)\n",
    "res_mae.append(mae)\n",
    "res_r2.append(r2)\n",
    "print(\"\\n# CROSS VALIDATION #\")\n",
    "cross_val = cross_validate(ridge, X, Y, cv=5, return_train_score=True)\n",
    "print(\"FITTING TIME:\", cross_val['fit_time'], \"->\", cross_val['fit_time'].mean())\n",
    "print(\"SCORING TIME:\", cross_val['score_time'], \"->\", cross_val['score_time'].mean())\n",
    "print(\"TRAIN SCORE:\", cross_val['train_score'], \"->\", cross_val['train_score'].mean())\n",
    "res_cv_train.append(cross_val['train_score'].mean())\n",
    "print(\"TEST SCORE:\", cross_val['test_score'], \"->\", cross_val['test_score'].mean())\n",
    "res_cv_test.append(cross_val['test_score'].mean())"
   ]
  },
  {
   "cell_type": "markdown",
   "id": "a1b2547a",
   "metadata": {},
   "source": [
    "## 5 - Random Forest Regression"
   ]
  },
  {
   "cell_type": "code",
   "execution_count": 161,
   "id": "4927112c",
   "metadata": {},
   "outputs": [
    {
     "data": {
      "text/plain": [
       "{'bootstrap': True,\n",
       " 'ccp_alpha': 0.0,\n",
       " 'criterion': 'squared_error',\n",
       " 'max_depth': None,\n",
       " 'max_features': 1.0,\n",
       " 'max_leaf_nodes': None,\n",
       " 'max_samples': None,\n",
       " 'min_impurity_decrease': 0.0,\n",
       " 'min_samples_leaf': 1,\n",
       " 'min_samples_split': 2,\n",
       " 'min_weight_fraction_leaf': 0.0,\n",
       " 'n_estimators': 40,\n",
       " 'n_jobs': None,\n",
       " 'oob_score': False,\n",
       " 'random_state': None,\n",
       " 'verbose': 0,\n",
       " 'warm_start': False}"
      ]
     },
     "execution_count": 161,
     "metadata": {},
     "output_type": "execute_result"
    }
   ],
   "source": [
    "rforest = RandomForestRegressor(n_estimators=40)\n",
    "rforest.get_params()"
   ]
  },
  {
   "cell_type": "code",
   "execution_count": 162,
   "id": "c8416e54",
   "metadata": {},
   "outputs": [],
   "source": [
    "# Fit the training data into the random forest, then make predictions on the test data\n",
    "rforest.fit(x_train, y_train)\n",
    "y_pred = rforest.predict(x_test)"
   ]
  },
  {
   "cell_type": "code",
   "execution_count": 163,
   "id": "8efbfa2c",
   "metadata": {},
   "outputs": [
    {
     "name": "stdout",
     "output_type": "stream",
     "text": [
      "MSE: 64942483.1125\n",
      "RMSE: 8058.689912913885\n",
      "MAE: 6218.85\n",
      "R2 SCORE: 0.8474828553843812\n",
      "\n",
      "# CROSS VALIDATION #\n",
      "FITTING TIME: [0.03066635 0.02870345 0.03568673 0.02963996 0.02981639] -> 0.030902576446533204\n",
      "SCORING TIME: [0.00357342 0.00301313 0.00399876 0.00400758 0.00360417] -> 0.003639411926269531\n",
      "TRAIN SCORE: [0.97505461 0.98524338 0.98179068 0.98440559 0.98736565] -> 0.9827719797814485\n",
      "TEST SCORE: [0.70453634 0.87485874 0.94440809 0.82493678 0.77786166] -> 0.8253203220089432\n"
     ]
    }
   ],
   "source": [
    "# Results of metrics\n",
    "mse, rmse, mae, r2 = mean_squared_error(y_test, y_pred), mean_squared_error(y_test, y_pred, squared=False), \\\n",
    "    mean_absolute_error(y_test, y_pred), r2_score(y_test, y_pred)\n",
    "print(\"MSE:\", mse)        \n",
    "print(\"RMSE:\", rmse)      \n",
    "print(\"MAE:\", mae)        \n",
    "print(\"R2 SCORE:\", r2)  \n",
    "res_mse.append(mse)\n",
    "res_rmse.append(rmse)\n",
    "res_mae.append(mae)\n",
    "res_r2.append(r2)\n",
    "print(\"\\n# CROSS VALIDATION #\")\n",
    "cross_val = cross_validate(rforest, X, Y, cv=5, return_train_score=True)\n",
    "print(\"FITTING TIME:\", cross_val['fit_time'], \"->\", cross_val['fit_time'].mean())\n",
    "print(\"SCORING TIME:\", cross_val['score_time'], \"->\", cross_val['score_time'].mean())\n",
    "print(\"TRAIN SCORE:\", cross_val['train_score'], \"->\", cross_val['train_score'].mean())\n",
    "res_cv_train.append(cross_val['train_score'].mean())\n",
    "print(\"TEST SCORE:\", cross_val['test_score'], \"->\", cross_val['test_score'].mean())\n",
    "res_cv_test.append(cross_val['test_score'].mean())"
   ]
  },
  {
   "cell_type": "markdown",
   "id": "dbe3b603",
   "metadata": {},
   "source": [
    "## 6 - Quantile Regression"
   ]
  },
  {
   "cell_type": "code",
   "execution_count": 164,
   "id": "3de802c3",
   "metadata": {},
   "outputs": [
    {
     "data": {
      "text/plain": [
       "{'alpha': 0,\n",
       " 'fit_intercept': True,\n",
       " 'quantile': 0.5,\n",
       " 'solver': 'highs-ds',\n",
       " 'solver_options': None}"
      ]
     },
     "execution_count": 164,
     "metadata": {},
     "output_type": "execute_result"
    }
   ],
   "source": [
    "qr = QuantileRegressor(quantile=0.5, alpha=0, solver='highs-ds')\n",
    "qr.get_params()"
   ]
  },
  {
   "cell_type": "code",
   "execution_count": 165,
   "id": "9f86a773",
   "metadata": {},
   "outputs": [],
   "source": [
    "# Fit the training data into the quantile model, then make predictions on the test data\n",
    "qr.fit(x_train, y_train)\n",
    "y_pred = qr.predict(x_test)"
   ]
  },
  {
   "cell_type": "code",
   "execution_count": 166,
   "id": "56bb65b9",
   "metadata": {},
   "outputs": [
    {
     "name": "stdout",
     "output_type": "stream",
     "text": [
      "COEF: [  8068.95973154      0.              0.              0.\n",
      "   8493.37248322  22705.03355705   7975.16778523  24523.48993289\n",
      "  16191.3590604   14290.52013423      0.         -11681.45973154\n",
      "   7052.18120805   -176.76174497      0.              0.\n",
      "      0.          11471.1409396   20589.68120805  12993.95973154\n",
      "  14159.39597315      0.           9288.59060403    245.88926174]\n",
      "INTERCEPT: 0.0\n",
      "FEATURES: 24\n",
      "ITERATIONS: 14\n"
     ]
    }
   ],
   "source": [
    "print(\"COEF:\", qr.coef_)   # Estimated coefficients for the features\n",
    "print(\"INTERCEPT:\", qr.intercept_)   # The intercept of the model, a.k.a. bias term\n",
    "print(\"FEATURES:\", qr.n_features_in_)   # Number of features seen during fit\n",
    "print(\"ITERATIONS:\", qr.n_iter_)   # The actual number of iterations performed by the solver"
   ]
  },
  {
   "cell_type": "code",
   "execution_count": 167,
   "id": "440e08e4",
   "metadata": {},
   "outputs": [
    {
     "name": "stdout",
     "output_type": "stream",
     "text": [
      "  118666.94630872486 |   122131\n",
      "  44965.268456375845 |    60150\n",
      "   88106.20805369128 |    88200\n",
      "   72852.26510067117 |    75000\n",
      "   81355.53691275168 |    92500\n"
     ]
    }
   ],
   "source": [
    "# Compare the predicted values against the actual ones\n",
    "for i in range(x_test.shape[0]):\n",
    "    print(\"{:20} | {:8}\".format(y_pred[i], y_test.iloc[i]))"
   ]
  },
  {
   "cell_type": "code",
   "execution_count": 168,
   "id": "cb3eb92b",
   "metadata": {},
   "outputs": [
    {
     "name": "stdout",
     "output_type": "stream",
     "text": [
      "MSE: 74279271.93159984\n",
      "RMSE: 8618.542332181229\n",
      "MAE: 6406.955033557034\n",
      "R2 SCORE: 0.8255554466633239\n",
      "\n",
      "# CROSS VALIDATION #\n",
      "FITTING TIME: [0.00599813 0.00399876 0.00602794 0.00299597 0.00354576] -> 0.004513311386108399\n",
      "SCORING TIME: [0.00216913 0.00250649 0.00152516 0.00200033 0.00200391] -> 0.002041006088256836\n",
      "TRAIN SCORE: [0.94883904 0.98794058 0.97851155 0.9830557  0.98873556] -> 0.9774164879021594\n",
      "TEST SCORE: [ 0.91708356  0.4286689   0.80030252  0.94049193 -0.1467437 ] -> 0.5879606419290597\n"
     ]
    }
   ],
   "source": [
    "# Results of metrics\n",
    "mse, rmse, mae, r2 = mean_squared_error(y_test, y_pred), mean_squared_error(y_test, y_pred, squared=False), \\\n",
    "    mean_absolute_error(y_test, y_pred), r2_score(y_test, y_pred)\n",
    "print(\"MSE:\", mse)        \n",
    "print(\"RMSE:\", rmse)      \n",
    "print(\"MAE:\", mae)        \n",
    "print(\"R2 SCORE:\", r2)  \n",
    "res_mse.append(mse)\n",
    "res_rmse.append(rmse)\n",
    "res_mae.append(mae)\n",
    "res_r2.append(r2)\n",
    "print(\"\\n# CROSS VALIDATION #\")\n",
    "cross_val = cross_validate(qr, X, Y, cv=5, return_train_score=True)\n",
    "print(\"FITTING TIME:\", cross_val['fit_time'], \"->\", cross_val['fit_time'].mean())\n",
    "print(\"SCORING TIME:\", cross_val['score_time'], \"->\", cross_val['score_time'].mean())\n",
    "print(\"TRAIN SCORE:\", cross_val['train_score'], \"->\", cross_val['train_score'].mean())\n",
    "res_cv_train.append(cross_val['train_score'].mean())\n",
    "print(\"TEST SCORE:\", cross_val['test_score'], \"->\", cross_val['test_score'].mean())\n",
    "res_cv_test.append(cross_val['test_score'].mean())"
   ]
  },
  {
   "cell_type": "markdown",
   "id": "c9368f6d",
   "metadata": {},
   "source": [
    "## 7 - KNN Regression"
   ]
  },
  {
   "cell_type": "code",
   "execution_count": 169,
   "id": "0d6d679f",
   "metadata": {},
   "outputs": [
    {
     "data": {
      "text/plain": [
       "{'algorithm': 'auto',\n",
       " 'leaf_size': 30,\n",
       " 'metric': 'minkowski',\n",
       " 'metric_params': None,\n",
       " 'n_jobs': None,\n",
       " 'n_neighbors': 5,\n",
       " 'p': 2,\n",
       " 'weights': 'uniform'}"
      ]
     },
     "execution_count": 169,
     "metadata": {},
     "output_type": "execute_result"
    }
   ],
   "source": [
    "knnreg = KNeighborsRegressor()\n",
    "knnreg.get_params()"
   ]
  },
  {
   "cell_type": "code",
   "execution_count": 170,
   "id": "ab74e5e5",
   "metadata": {},
   "outputs": [],
   "source": [
    "# Fit the training data into the KNN regression model, then make predictions on the test data\n",
    "knnreg.fit(x_train, y_train)\n",
    "y_pred = knnreg.predict(x_test)"
   ]
  },
  {
   "cell_type": "code",
   "execution_count": 171,
   "id": "64eb158e",
   "metadata": {},
   "outputs": [
    {
     "name": "stdout",
     "output_type": "stream",
     "text": [
      "EFFECTIVE METRIC: euclidean\n",
      "EFFECTIVE METRIC PARAMS: {}\n",
      "FEATURES: 24\n",
      "FEATURE NAMES: ['gender_F' 'gender_M' 'city_Bangalore' 'city_Chennai' 'city_Delhi'\n",
      " 'city_Guwahati' 'city_Hyderabad' 'city_Kharagpur' 'city_Kolkata'\n",
      " 'city_Mangalore' 'city_Mumbai' 'city_Nasik' 'city_Vellore' 'city_Vizag'\n",
      " 'state_Andhra Pradesh' 'state_Assam' 'state_Delhi' 'state_Karnataka'\n",
      " 'state_Maharashtra' 'state_Tami Nadu' 'state_Tamil Nadu'\n",
      " 'state_West Bengal' 'expyr' 'Age']\n",
      "SAMPLES FIT: 21\n"
     ]
    }
   ],
   "source": [
    "# The distance metric to use. It will be the same as the 'metric' parameter or a synonym of it, e.g. 'euclidean' if the\n",
    "# metric parameter set to 'minkowski' and 'p' parameter is set to 2.\n",
    "print(\"EFFECTIVE METRIC:\", knnreg.effective_metric_)\n",
    "# Additional keyword arguments for the metric function. For most metrics will be same with 'metric_params' parameter,\n",
    "# but may also contain the 'p' parameter value if the 'effective_metric_' attribute is set to 'miknowski'.\n",
    "print(\"EFFECTIVE METRIC PARAMS:\", knnreg.effective_metric_params_)\n",
    "print(\"FEATURES:\", knnreg.n_features_in_)  # Number of features seen during fit\n",
    "print(\"FEATURE NAMES:\", knnreg.feature_names_in_)  # Names of features seen during fit\n",
    "print(\"SAMPLES FIT:\", knnreg.n_samples_fit_)  # Number of samples in the fitted data"
   ]
  },
  {
   "cell_type": "code",
   "execution_count": 172,
   "id": "b4e5a80a",
   "metadata": {},
   "outputs": [
    {
     "name": "stdout",
     "output_type": "stream",
     "text": [
      "             93804.0 |   122131\n",
      "             71720.0 |    60150\n",
      "             69100.0 |    88200\n",
      "             74670.0 |    75000\n",
      "             74670.0 |    92500\n"
     ]
    }
   ],
   "source": [
    "# Compare the predicted values against the actual ones\n",
    "for i in range(x_test.shape[0]):\n",
    "    print(\"{:20} | {:8}\".format(y_pred[i], y_test.iloc[i]))"
   ]
  },
  {
   "cell_type": "code",
   "execution_count": 173,
   "id": "79b7a16c",
   "metadata": {},
   "outputs": [
    {
     "name": "stdout",
     "output_type": "stream",
     "text": [
      "MSE: 323822325.8\n",
      "RMSE: 17995.063928755575\n",
      "MAE: 15431.4\n",
      "R2 SCORE: 0.23950464893298085\n",
      "\n",
      "# CROSS VALIDATION #\n",
      "FITTING TIME: [0.00199628 0.00195241 0.00200725 0.00200129 0.00200629] -> 0.0019927024841308594\n",
      "SCORING TIME: [0.00654387 0.00658631 0.00799942 0.00654578 0.00499964] -> 0.006535005569458008\n",
      "TRAIN SCORE: [0.7405323  0.77877337 0.7483691  0.67739437 0.71701153] -> 0.7324161343211331\n",
      "TEST SCORE: [0.58303939 0.08175731 0.11593118 0.50372671 0.56634955] -> 0.3701608295070146\n"
     ]
    }
   ],
   "source": [
    "# Results of metrics\n",
    "mse, rmse, mae, r2 = mean_squared_error(y_test, y_pred), mean_squared_error(y_test, y_pred, squared=False), \\\n",
    "    mean_absolute_error(y_test, y_pred), r2_score(y_test, y_pred)\n",
    "print(\"MSE:\", mse)        \n",
    "print(\"RMSE:\", rmse)      \n",
    "print(\"MAE:\", mae)        \n",
    "print(\"R2 SCORE:\", r2)  \n",
    "res_mse.append(mse)\n",
    "res_rmse.append(rmse)\n",
    "res_mae.append(mae)\n",
    "res_r2.append(r2)\n",
    "print(\"\\n# CROSS VALIDATION #\")\n",
    "cross_val = cross_validate(knnreg, X, Y, cv=5, return_train_score=True)\n",
    "print(\"FITTING TIME:\", cross_val['fit_time'], \"->\", cross_val['fit_time'].mean())\n",
    "print(\"SCORING TIME:\", cross_val['score_time'], \"->\", cross_val['score_time'].mean())\n",
    "print(\"TRAIN SCORE:\", cross_val['train_score'], \"->\", cross_val['train_score'].mean())\n",
    "res_cv_train.append(cross_val['train_score'].mean())\n",
    "print(\"TEST SCORE:\", cross_val['test_score'], \"->\", cross_val['test_score'].mean())\n",
    "res_cv_test.append(cross_val['test_score'].mean())"
   ]
  },
  {
   "cell_type": "markdown",
   "id": "11e639ce",
   "metadata": {},
   "source": [
    "## 8 - Gradient Boosting"
   ]
  },
  {
   "cell_type": "code",
   "execution_count": 174,
   "id": "9b24b600",
   "metadata": {},
   "outputs": [
    {
     "data": {
      "text/plain": [
       "{'alpha': 0.9,\n",
       " 'ccp_alpha': 0.0,\n",
       " 'criterion': 'friedman_mse',\n",
       " 'init': None,\n",
       " 'learning_rate': 0.1,\n",
       " 'loss': 'squared_error',\n",
       " 'max_depth': 3,\n",
       " 'max_features': None,\n",
       " 'max_leaf_nodes': None,\n",
       " 'min_impurity_decrease': 0.0,\n",
       " 'min_samples_leaf': 1,\n",
       " 'min_samples_split': 2,\n",
       " 'min_weight_fraction_leaf': 0.0,\n",
       " 'n_estimators': 100,\n",
       " 'n_iter_no_change': None,\n",
       " 'random_state': None,\n",
       " 'subsample': 1.0,\n",
       " 'tol': 0.0001,\n",
       " 'validation_fraction': 0.1,\n",
       " 'verbose': 0,\n",
       " 'warm_start': False}"
      ]
     },
     "execution_count": 174,
     "metadata": {},
     "output_type": "execute_result"
    }
   ],
   "source": [
    "gradBoost = GradientBoostingRegressor()\n",
    "gradBoost.get_params()"
   ]
  },
  {
   "cell_type": "code",
   "execution_count": 175,
   "id": "4c3acc2c",
   "metadata": {},
   "outputs": [],
   "source": [
    "# Fit the training data into the Gradient boosting regression model, then make predictions on the test data\n",
    "gradBoost.fit(x_train, y_train)\n",
    "y_pred = gradBoost.predict(x_test)"
   ]
  },
  {
   "cell_type": "code",
   "execution_count": 176,
   "id": "9a4ee6b1",
   "metadata": {},
   "outputs": [
    {
     "name": "stdout",
     "output_type": "stream",
     "text": [
      "INIT: DummyRegressor()\n",
      "ESTIMATORS (FIRST 5):\n",
      "[[DecisionTreeRegressor(criterion='friedman_mse', max_depth=3,\n",
      "                        random_state=RandomState(MT19937) at 0x2BD5BDF2740)]\n",
      " [DecisionTreeRegressor(criterion='friedman_mse', max_depth=3,\n",
      "                        random_state=RandomState(MT19937) at 0x2BD5BDF2740)]\n",
      " [DecisionTreeRegressor(criterion='friedman_mse', max_depth=3,\n",
      "                        random_state=RandomState(MT19937) at 0x2BD5BDF2740)]\n",
      " [DecisionTreeRegressor(criterion='friedman_mse', max_depth=3,\n",
      "                        random_state=RandomState(MT19937) at 0x2BD5BDF2740)]\n",
      " [DecisionTreeRegressor(criterion='friedman_mse', max_depth=3,\n",
      "                        random_state=RandomState(MT19937) at 0x2BD5BDF2740)]]\n",
      "# OF ESTIMATORS: 100\n",
      "# OF FEATURES: 24\n",
      "MAX FEATURES: 24\n",
      "FEATURE IMPORTANCES: [2.06713979e-03 1.10627429e-03 3.05164112e-04 6.85099257e-08\n",
      " 5.58770069e-07 2.85417461e-05 1.49470149e-05 1.30188854e-06\n",
      " 2.66521006e-02 5.36745577e-08 1.32332325e-03 6.76137392e-06\n",
      " 1.03505256e-04 0.00000000e+00 1.19006480e-03 7.77271498e-04\n",
      " 7.16209310e-07 5.51923421e-04 2.18730031e-04 3.66755928e-04\n",
      " 7.47253665e-05 8.39674156e-03 9.45035617e-01 1.17777136e-02]\n",
      "TRAIN SCORE:\n",
      "[3.33823593e+08 2.70866616e+08 2.19860167e+08 1.78544943e+08\n",
      " 1.45069711e+08 1.17944100e+08 9.59653267e+07 7.81544741e+07\n",
      " 6.37231440e+07 5.19343029e+07 4.23853417e+07 3.46460801e+07\n",
      " 2.83563159e+07 2.32584414e+07 1.91128456e+07 1.56514371e+07\n",
      " 1.29061554e+07 1.06595399e+07 8.77094051e+06 7.17446864e+06\n",
      " 5.93061291e+06 4.93946427e+06 4.05421657e+06 3.33487476e+06\n",
      " 2.76569810e+06 2.29560648e+06 1.92911703e+06 1.59286983e+06\n",
      " 1.31319876e+06 1.09260633e+06 9.20836391e+05 7.60220257e+05\n",
      " 6.30286413e+05 5.30854992e+05 4.55232882e+05 3.79607301e+05\n",
      " 3.18114202e+05 2.69302245e+05 2.28327225e+05 1.92133814e+05\n",
      " 1.65316246e+05 1.40243967e+05 1.19402942e+05 1.03537769e+05\n",
      " 8.84035217e+04 7.61803117e+04 6.51874903e+04 5.62631742e+04\n",
      " 4.96697710e+04 4.30805463e+04 3.75901092e+04 3.41004374e+04\n",
      " 2.96174963e+04 2.56559751e+04 2.27416397e+04 2.07226197e+04\n",
      " 1.81447493e+04 1.60278390e+04 1.39696189e+04 1.24626276e+04\n",
      " 1.10612740e+04 9.80570365e+03 8.80187183e+03 7.89092221e+03\n",
      " 6.69719588e+03 6.28764720e+03 5.84007595e+03 5.29448614e+03\n",
      " 5.00961691e+03 4.46696870e+03 4.07022189e+03 3.49878135e+03\n",
      " 3.17903618e+03 3.02527308e+03 2.89735849e+03 2.59150207e+03\n",
      " 2.37744273e+03 2.18192167e+03 2.00801224e+03 1.88152178e+03\n",
      " 1.69127607e+03 1.59046612e+03 1.52227406e+03 1.32520327e+03\n",
      " 1.21901624e+03 1.06898446e+03 1.01075347e+03 9.31950306e+02\n",
      " 8.15416769e+02 7.57390979e+02 6.67307947e+02 6.23259503e+02\n",
      " 5.48888892e+02 5.20571800e+02 4.77782089e+02 4.51861585e+02\n",
      " 4.25069984e+02 4.07904690e+02 3.63933953e+02 3.26322294e+02]\n"
     ]
    }
   ],
   "source": [
    "print(\"INIT:\", gradBoost.init_)  # The estimator that provides the initial predictions\n",
    "print(\"ESTIMATORS (FIRST 5):\\n{}\".format(gradBoost.estimators_[:5]))  # The collection of fitted sub-estimators\n",
    "# The number of estimators as selected by early stopping (if 'n_iter_no_change' is specified).\n",
    "# Otherwise, it is set to 'n_estimators'\n",
    "print(\"# OF ESTIMATORS:\", gradBoost.n_estimators_)\n",
    "print(\"# OF FEATURES:\", gradBoost.n_features_in_)  # Number of features seen during fit\n",
    "print(\"MAX FEATURES:\", gradBoost.max_features_)  # The inferred value of max_features\n",
    "print(\"FEATURE IMPORTANCES:\", gradBoost.feature_importances_)  # The impurity-based feature importances\n",
    "# The i'th score 'train_score[i]' is the loss of the model at iteration i on the in-bag sample.\n",
    "# If subsample == 1, this is the loss on the training data.\n",
    "print(\"TRAIN SCORE:\\n{}\".format(gradBoost.train_score_))"
   ]
  },
  {
   "cell_type": "code",
   "execution_count": 177,
   "id": "6260c220",
   "metadata": {},
   "outputs": [
    {
     "name": "stdout",
     "output_type": "stream",
     "text": [
      "   117059.4428637818 |   122131\n",
      "    61250.3502093691 |    60150\n",
      "   77698.40118216531 |    88200\n",
      "   77069.71148700343 |    75000\n",
      "   92537.57749036717 |    92500\n"
     ]
    }
   ],
   "source": [
    "# Compare the predicted values against the actual ones\n",
    "for i in range(x_test.shape[0]):\n",
    "    print(\"{:20} | {:8}\".format(y_pred[i], y_test.iloc[i]))"
   ]
  },
  {
   "cell_type": "code",
   "execution_count": 178,
   "id": "2f61ecb4",
   "metadata": {},
   "outputs": [
    {
     "name": "stdout",
     "output_type": "stream",
     "text": [
      "MSE: 28300031.561429493\n",
      "RMSE: 5319.777397732869\n",
      "MAE: 3756.159028158516\n",
      "R2 SCORE: 0.9335374965751758\n",
      "\n",
      "# CROSS VALIDATION #\n",
      "FITTING TIME: [0.02728343 0.01813269 0.01916361 0.01909471 0.01940846] -> 0.020616579055786132\n",
      "SCORING TIME: [0.00099587 0.         0.00099707 0.00193572 0.0019424 ] -> 0.0011742115020751953\n",
      "TRAIN SCORE: [0.99999962 0.99999942 0.99999915 0.99999377 0.99999952] -> 0.9999982950291422\n",
      "TEST SCORE: [0.7566677  0.89894874 0.98285155 0.83928932 0.90363858] -> 0.8762791779634217\n"
     ]
    }
   ],
   "source": [
    "# Results of metrics\n",
    "mse, rmse, mae, r2 = mean_squared_error(y_test, y_pred), mean_squared_error(y_test, y_pred, squared=False), \\\n",
    "    mean_absolute_error(y_test, y_pred), r2_score(y_test, y_pred)\n",
    "print(\"MSE:\", mse)        \n",
    "print(\"RMSE:\", rmse)      \n",
    "print(\"MAE:\", mae)        \n",
    "print(\"R2 SCORE:\", r2)  \n",
    "res_mse.append(mse)\n",
    "res_rmse.append(rmse)\n",
    "res_mae.append(mae)\n",
    "res_r2.append(r2)\n",
    "print(\"\\n# CROSS VALIDATION #\")\n",
    "cross_val = cross_validate(gradBoost, X, Y, cv=5, return_train_score=True)\n",
    "print(\"FITTING TIME:\", cross_val['fit_time'], \"->\", cross_val['fit_time'].mean())\n",
    "print(\"SCORING TIME:\", cross_val['score_time'], \"->\", cross_val['score_time'].mean())\n",
    "print(\"TRAIN SCORE:\", cross_val['train_score'], \"->\", cross_val['train_score'].mean())\n",
    "res_cv_train.append(cross_val['train_score'].mean())\n",
    "print(\"TEST SCORE:\", cross_val['test_score'], \"->\", cross_val['test_score'].mean())\n",
    "res_cv_test.append(cross_val['test_score'].mean())"
   ]
  },
  {
   "cell_type": "markdown",
   "id": "11978308",
   "metadata": {},
   "source": [
    "## 9 - XGBoost"
   ]
  },
  {
   "cell_type": "code",
   "execution_count": 179,
   "id": "4325ed13",
   "metadata": {},
   "outputs": [
    {
     "data": {
      "text/plain": [
       "{'objective': 'reg:squarederror',\n",
       " 'base_score': None,\n",
       " 'booster': None,\n",
       " 'callbacks': None,\n",
       " 'colsample_bylevel': None,\n",
       " 'colsample_bynode': None,\n",
       " 'colsample_bytree': None,\n",
       " 'device': None,\n",
       " 'early_stopping_rounds': None,\n",
       " 'enable_categorical': False,\n",
       " 'eval_metric': None,\n",
       " 'feature_types': None,\n",
       " 'gamma': None,\n",
       " 'grow_policy': None,\n",
       " 'importance_type': None,\n",
       " 'interaction_constraints': None,\n",
       " 'learning_rate': None,\n",
       " 'max_bin': None,\n",
       " 'max_cat_threshold': None,\n",
       " 'max_cat_to_onehot': None,\n",
       " 'max_delta_step': None,\n",
       " 'max_depth': None,\n",
       " 'max_leaves': None,\n",
       " 'min_child_weight': None,\n",
       " 'missing': nan,\n",
       " 'monotone_constraints': None,\n",
       " 'multi_strategy': None,\n",
       " 'n_estimators': None,\n",
       " 'n_jobs': None,\n",
       " 'num_parallel_tree': None,\n",
       " 'random_state': None,\n",
       " 'reg_alpha': None,\n",
       " 'reg_lambda': None,\n",
       " 'sampling_method': None,\n",
       " 'scale_pos_weight': None,\n",
       " 'subsample': None,\n",
       " 'tree_method': None,\n",
       " 'validate_parameters': None,\n",
       " 'verbosity': None}"
      ]
     },
     "execution_count": 179,
     "metadata": {},
     "output_type": "execute_result"
    }
   ],
   "source": [
    "xgb = xgboost.XGBRegressor()\n",
    "xgb.get_params()"
   ]
  },
  {
   "cell_type": "code",
   "execution_count": 180,
   "id": "3bb601ff",
   "metadata": {},
   "outputs": [],
   "source": [
    "# Fit the training data into the extreme gradient boosting regression model, then make predictions on the test data\n",
    "xgb.fit(x_train, y_train)\n",
    "y_pred = xgb.predict(x_test)"
   ]
  },
  {
   "cell_type": "code",
   "execution_count": 181,
   "id": "a6f9c50b",
   "metadata": {},
   "outputs": [
    {
     "name": "stdout",
     "output_type": "stream",
     "text": [
      "      121999.9765625 |   122131\n",
      "       61376.3984375 |    60150\n",
      "       98816.1171875 |    88200\n",
      "       96592.8828125 |    75000\n",
      "       90475.7578125 |    92500\n"
     ]
    }
   ],
   "source": [
    "# Compare the predicted values against the actual ones for the top 20 rows\n",
    "for i in range(x_test.shape[0]):\n",
    "    print(\"{:20} | {:8}\".format(y_pred[i], y_test.iloc[i]))"
   ]
  },
  {
   "cell_type": "code",
   "execution_count": 182,
   "id": "6f991f4a",
   "metadata": {},
   "outputs": [
    {
     "name": "stdout",
     "output_type": "stream",
     "text": [
      "MSE: 116914661.79908447\n",
      "RMSE: 10812.708347083282\n",
      "MAE: 7118.1328125\n",
      "R2 SCORE: 0.7254264153957956\n",
      "\n",
      "# CROSS VALIDATION #\n",
      "FITTING TIME: [0.04659343 0.04757524 0.04410982 0.04105878 0.04357314] -> 0.04458208084106445\n",
      "SCORING TIME: [0.00451517 0.00399876 0.00451589 0.00451183 0.00500393] -> 0.004509115219116211\n",
      "TRAIN SCORE: [1. 1. 1. 1. 1.] -> 0.9999999999997126\n",
      "TEST SCORE: [0.77417067 0.67744441 0.96812904 0.67228691 0.58427159] -> 0.7352605256634656\n"
     ]
    }
   ],
   "source": [
    "# Results of metrics\n",
    "mse, rmse, mae, r2 = mean_squared_error(y_test, y_pred), mean_squared_error(y_test, y_pred, squared=False), \\\n",
    "    mean_absolute_error(y_test, y_pred), r2_score(y_test, y_pred)\n",
    "print(\"MSE:\", mse)        \n",
    "print(\"RMSE:\", rmse)      \n",
    "print(\"MAE:\", mae)        \n",
    "print(\"R2 SCORE:\", r2)  \n",
    "res_mse.append(mse)\n",
    "res_rmse.append(rmse)\n",
    "res_mae.append(mae)\n",
    "res_r2.append(r2)\n",
    "print(\"\\n# CROSS VALIDATION #\")\n",
    "cross_val = cross_validate(xgb, X, Y, cv=5, return_train_score=True)\n",
    "print(\"FITTING TIME:\", cross_val['fit_time'], \"->\", cross_val['fit_time'].mean())\n",
    "print(\"SCORING TIME:\", cross_val['score_time'], \"->\", cross_val['score_time'].mean())\n",
    "print(\"TRAIN SCORE:\", cross_val['train_score'], \"->\", cross_val['train_score'].mean())\n",
    "res_cv_train.append(cross_val['train_score'].mean())\n",
    "print(\"TEST SCORE:\", cross_val['test_score'], \"->\", cross_val['test_score'].mean())\n",
    "res_cv_test.append(cross_val['test_score'].mean())"
   ]
  },
  {
   "cell_type": "markdown",
   "id": "42c5829a",
   "metadata": {},
   "source": [
    "## Results of Metrics of All ML Models Together"
   ]
  },
  {
   "cell_type": "code",
   "execution_count": 183,
   "id": "dbcec949",
   "metadata": {},
   "outputs": [
    {
     "data": {
      "image/png": "[encoded data removed]",
      "text/plain": [
       "<Figure size 900x400 with 1 Axes>"
      ]
     },
     "metadata": {},
     "output_type": "display_data"
    }
   ],
   "source": [
    "methods = ['LinReg', 'Lasso', 'Ridge', 'PolyLasso', 'PolyRidge', 'RForest', 'Quantile', 'KNNReg', 'GradBoost', 'XGBoost']\n",
    "plt.figure(figsize=(9,4))\n",
    "plt.barh(range(10), res_mse, color='#00afff')\n",
    "plt.title(\"MSE Results\", fontsize=18, fontweight='bold')\n",
    "plt.yticks(range(10), methods)\n",
    "plt.ylim(9.7,-0.7)\n",
    "plt.xlabel('MSE Values', fontsize=13, fontweight='bold')\n",
    "plt.ylabel('ML Models', fontsize=13, fontweight='bold')\n",
    "for i in range(10):\n",
    "    plt.text(res_mse[i], i+0.12, \"{:.3f}\".format(res_mse[i]), fontweight='bold')\n",
    "plt.show()"
   ]
  },
  {
   "cell_type": "code",
   "execution_count": 184,
   "id": "ca754e35",
   "metadata": {},
   "outputs": [
    {
     "data": {
      "image/png": "[encoded data removed]",
      "text/plain": [
       "<Figure size 900x400 with 1 Axes>"
      ]
     },
     "metadata": {},
     "output_type": "display_data"
    }
   ],
   "source": [
    "plt.figure(figsize=(9,4))\n",
    "plt.barh(range(10), res_rmse, color='#00afff')\n",
    "plt.title(\"RMSE Results\", fontsize=18, fontweight='bold')\n",
    "plt.yticks(range(10), methods)\n",
    "plt.ylim(9.7,-0.7)\n",
    "plt.xlabel('RMSE Values', fontsize=13, fontweight='bold')\n",
    "plt.ylabel('ML Models', fontsize=13, fontweight='bold')\n",
    "for i in range(10):\n",
    "    plt.text(res_rmse[i], i+0.12, \"{:.2f}\".format(res_rmse[i]), fontweight='bold')\n",
    "plt.show()"
   ]
  },
  {
   "cell_type": "code",
   "execution_count": 185,
   "id": "ffd8dcea",
   "metadata": {},
   "outputs": [
    {
     "data": {
      "image/png": "[encoded data removed]",
      "text/plain": [
       "<Figure size 900x400 with 1 Axes>"
      ]
     },
     "metadata": {},
     "output_type": "display_data"
    }
   ],
   "source": [
    "plt.figure(figsize=(9,4))\n",
    "plt.barh(range(10), res_mae, color='#00afff')\n",
    "plt.title(\"MAE Results\", fontsize=18, fontweight='bold')\n",
    "plt.yticks(range(10), methods)\n",
    "plt.ylim(9.7,-0.7)\n",
    "plt.xlabel('MAE Values', fontsize=13, fontweight='bold')\n",
    "plt.ylabel('ML Models', fontsize=13, fontweight='bold')\n",
    "for i in range(10):\n",
    "    plt.text(res_mae[i], i+0.12, \"{:.3f}\".format(res_mae[i]), fontweight='bold')\n",
    "plt.show()"
   ]
  },
  {
   "cell_type": "code",
   "execution_count": 186,
   "id": "d6ef55a0",
   "metadata": {},
   "outputs": [
    {
     "data": {
      "image/png": "[encoded data removed]",
      "text/plain": [
       "<Figure size 900x400 with 1 Axes>"
      ]
     },
     "metadata": {},
     "output_type": "display_data"
    }
   ],
   "source": [
    "plt.figure(figsize=(9,4))\n",
    "plt.barh(range(10), res_r2, color='#00afff')\n",
    "plt.title(\"R2 Score Results\", fontsize=18, fontweight='bold')\n",
    "plt.yticks(range(10), methods)\n",
    "plt.ylim(9.7,-0.7)\n",
    "plt.xlabel('R2 Scores', fontsize=13, fontweight='bold')\n",
    "plt.ylabel('ML Models', fontsize=13, fontweight='bold')\n",
    "for i in range(10):\n",
    "    plt.text(res_r2[i]-0.1, i+0.12, \"{:.4f}\".format(res_r2[i]), fontweight='bold')\n",
    "plt.show()"
   ]
  },
  {
   "cell_type": "code",
   "execution_count": 187,
   "id": "cf3170cc",
   "metadata": {},
   "outputs": [
    {
     "data": {
      "image/png": "[encoded data removed]",
      "text/plain": [
       "<Figure size 900x400 with 1 Axes>"
      ]
     },
     "metadata": {},
     "output_type": "display_data"
    }
   ],
   "source": [
    "plt.figure(figsize=(9,4))\n",
    "plt.barh(range(10), res_cv_train, color='#00afff')\n",
    "plt.title(\"5-Fold CV Results (Train)\", fontsize=18, fontweight='bold')\n",
    "plt.yticks(range(10), methods)\n",
    "plt.ylim(9.7,-0.7)\n",
    "plt.xlabel('Train Scores', fontsize=13, fontweight='bold')\n",
    "plt.ylabel('ML Models', fontsize=13, fontweight='bold')\n",
    "for i in range(10):\n",
    "    plt.text(res_cv_train[i]-0.1, i+0.12, \"{:.4f}\".format(res_cv_train[i]), fontweight='bold')\n",
    "plt.show()"
   ]
  },
  {
   "cell_type": "code",
   "execution_count": 188,
   "id": "737d068e",
   "metadata": {},
   "outputs": [
    {
     "data": {
      "image/png": "[encoded data removed]",
      "text/plain": [
       "<Figure size 900x400 with 1 Axes>"
      ]
     },
     "metadata": {},
     "output_type": "display_data"
    }
   ],
   "source": [
    "plt.figure(figsize=(9,4))\n",
    "plt.barh(range(10), res_cv_test, color='#00afff')\n",
    "plt.title(\"5-Fold CV Results (Test)\", fontsize=18, fontweight='bold')\n",
    "plt.yticks(range(10), methods)\n",
    "plt.ylim(9.7,-0.7)\n",
    "plt.xlabel('Test Scores', fontsize=13, fontweight='bold')\n",
    "plt.ylabel('ML Models', fontsize=13, fontweight='bold')\n",
    "for i in range(10):\n",
    "    plt.text(res_cv_test[i]-0.09, i+0.12, \"{:.4f}\".format(res_cv_test[i]), fontweight='bold')\n",
    "plt.show()"
   ]
  }
 ],
 "metadata": {
  "kernelspec": {
   "display_name": "Python 3 (ipykernel)",
   "language": "python",
   "name": "python3"
  },
  "language_info": {
   "codemirror_mode": {
    "name": "ipython",
    "version": 3
   },
   "file_extension": ".py",
   "mimetype": "text/x-python",
   "name": "python",
   "nbconvert_exporter": "python",
   "pygments_lexer": "ipython3",
   "version": "3.10.8"
  }
 },
 "nbformat": 4,
 "nbformat_minor": 5
}
