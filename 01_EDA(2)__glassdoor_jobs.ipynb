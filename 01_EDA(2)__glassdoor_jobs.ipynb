{
 "cells": [
  {
   "cell_type": "markdown",
   "id": "1c853dab",
   "metadata": {},
   "source": [
    "# 01. PlayingNumbers/ds_salary_proj\n",
    "\n",
    "## Exploratory Data Analysis | Series 2 - glassdoor_jobs.csv"
   ]
  },
  {
   "cell_type": "code",
   "execution_count": 1,
   "id": "5701d729",
   "metadata": {},
   "outputs": [],
   "source": [
    "import numpy as np\n",
    "import pandas as pd\n",
    "import matplotlib.pyplot as plt\n",
    "import seaborn as sns"
   ]
  },
  {
   "cell_type": "code",
   "execution_count": 2,
   "id": "75122c47",
   "metadata": {},
   "outputs": [],
   "source": [
    "df = pd.read_csv('01_glassdoor_jobs.csv')\n",
    "df = df.drop('Unnamed: 0',axis=1)"
   ]
  },
  {
   "cell_type": "code",
   "execution_count": 3,
   "id": "9cc530a6",
   "metadata": {},
   "outputs": [
    {
     "data": {
      "text/html": [
       "<div>\n",
       "<style scoped>\n",
       "    .dataframe tbody tr th:only-of-type {\n",
       "        vertical-align: middle;\n",
       "    }\n",
       "\n",
       "    .dataframe tbody tr th {\n",
       "        vertical-align: top;\n",
       "    }\n",
       "\n",
       "    .dataframe thead th {\n",
       "        text-align: right;\n",
       "    }\n",
       "</style>\n",
       "<table border=\"1\" class=\"dataframe\">\n",
       "  <thead>\n",
       "    <tr style=\"text-align: right;\">\n",
       "      <th></th>\n",
       "      <th>Job Title</th>\n",
       "      <th>Salary Estimate</th>\n",
       "      <th>Job Description</th>\n",
       "      <th>Rating</th>\n",
       "      <th>Company Name</th>\n",
       "      <th>Location</th>\n",
       "      <th>Headquarters</th>\n",
       "      <th>Size</th>\n",
       "      <th>Founded</th>\n",
       "      <th>Type of ownership</th>\n",
       "      <th>Industry</th>\n",
       "      <th>Sector</th>\n",
       "      <th>Revenue</th>\n",
       "      <th>Competitors</th>\n",
       "    </tr>\n",
       "  </thead>\n",
       "  <tbody>\n",
       "    <tr>\n",
       "      <th>0</th>\n",
       "      <td>Data Scientist</td>\n",
       "      <td>$53K-$91K (Glassdoor est.)</td>\n",
       "      <td>Data Scientist\\r\\nLocation: Albuquerque, NM\\r\\...</td>\n",
       "      <td>3.8</td>\n",
       "      <td>Tecolote Research\\r\\n3.8</td>\n",
       "      <td>Albuquerque, NM</td>\n",
       "      <td>Goleta, CA</td>\n",
       "      <td>501 to 1000 employees</td>\n",
       "      <td>1973</td>\n",
       "      <td>Company - Private</td>\n",
       "      <td>Aerospace &amp; Defense</td>\n",
       "      <td>Aerospace &amp; Defense</td>\n",
       "      <td>$50 to $100 million (USD)</td>\n",
       "      <td>-1</td>\n",
       "    </tr>\n",
       "    <tr>\n",
       "      <th>1</th>\n",
       "      <td>Healthcare Data Scientist</td>\n",
       "      <td>$63K-$112K (Glassdoor est.)</td>\n",
       "      <td>What You Will Do:\\r\\n\\r\\nI. General Summary\\r\\...</td>\n",
       "      <td>3.4</td>\n",
       "      <td>University of Maryland Medical System\\r\\n3.4</td>\n",
       "      <td>Linthicum, MD</td>\n",
       "      <td>Baltimore, MD</td>\n",
       "      <td>10000+ employees</td>\n",
       "      <td>1984</td>\n",
       "      <td>Other Organization</td>\n",
       "      <td>Health Care Services &amp; Hospitals</td>\n",
       "      <td>Health Care</td>\n",
       "      <td>$2 to $5 billion (USD)</td>\n",
       "      <td>-1</td>\n",
       "    </tr>\n",
       "    <tr>\n",
       "      <th>2</th>\n",
       "      <td>Data Scientist</td>\n",
       "      <td>$80K-$90K (Glassdoor est.)</td>\n",
       "      <td>KnowBe4, Inc. is a high growth information sec...</td>\n",
       "      <td>4.8</td>\n",
       "      <td>KnowBe4\\r\\n4.8</td>\n",
       "      <td>Clearwater, FL</td>\n",
       "      <td>Clearwater, FL</td>\n",
       "      <td>501 to 1000 employees</td>\n",
       "      <td>2010</td>\n",
       "      <td>Company - Private</td>\n",
       "      <td>Security Services</td>\n",
       "      <td>Business Services</td>\n",
       "      <td>$100 to $500 million (USD)</td>\n",
       "      <td>-1</td>\n",
       "    </tr>\n",
       "    <tr>\n",
       "      <th>3</th>\n",
       "      <td>Data Scientist</td>\n",
       "      <td>$56K-$97K (Glassdoor est.)</td>\n",
       "      <td>*Organization and Job ID**\\r\\nJob ID: 310709\\r...</td>\n",
       "      <td>3.8</td>\n",
       "      <td>PNNL\\r\\n3.8</td>\n",
       "      <td>Richland, WA</td>\n",
       "      <td>Richland, WA</td>\n",
       "      <td>1001 to 5000 employees</td>\n",
       "      <td>1965</td>\n",
       "      <td>Government</td>\n",
       "      <td>Energy</td>\n",
       "      <td>Oil, Gas, Energy &amp; Utilities</td>\n",
       "      <td>$500 million to $1 billion (USD)</td>\n",
       "      <td>Oak Ridge National Laboratory, National Renewa...</td>\n",
       "    </tr>\n",
       "    <tr>\n",
       "      <th>4</th>\n",
       "      <td>Data Scientist</td>\n",
       "      <td>$86K-$143K (Glassdoor est.)</td>\n",
       "      <td>Data Scientist\\r\\nAffinity Solutions / Marketi...</td>\n",
       "      <td>2.9</td>\n",
       "      <td>Affinity Solutions\\r\\n2.9</td>\n",
       "      <td>New York, NY</td>\n",
       "      <td>New York, NY</td>\n",
       "      <td>51 to 200 employees</td>\n",
       "      <td>1998</td>\n",
       "      <td>Company - Private</td>\n",
       "      <td>Advertising &amp; Marketing</td>\n",
       "      <td>Business Services</td>\n",
       "      <td>Unknown / Non-Applicable</td>\n",
       "      <td>Commerce Signals, Cardlytics, Yodlee</td>\n",
       "    </tr>\n",
       "  </tbody>\n",
       "</table>\n",
       "</div>"
      ],
      "text/plain": [
       "                   Job Title              Salary Estimate  \\\n",
       "0             Data Scientist   $53K-$91K (Glassdoor est.)   \n",
       "1  Healthcare Data Scientist  $63K-$112K (Glassdoor est.)   \n",
       "2             Data Scientist   $80K-$90K (Glassdoor est.)   \n",
       "3             Data Scientist   $56K-$97K (Glassdoor est.)   \n",
       "4             Data Scientist  $86K-$143K (Glassdoor est.)   \n",
       "\n",
       "                                     Job Description  Rating  \\\n",
       "0  Data Scientist\\r\\nLocation: Albuquerque, NM\\r\\...     3.8   \n",
       "1  What You Will Do:\\r\\n\\r\\nI. General Summary\\r\\...     3.4   \n",
       "2  KnowBe4, Inc. is a high growth information sec...     4.8   \n",
       "3  *Organization and Job ID**\\r\\nJob ID: 310709\\r...     3.8   \n",
       "4  Data Scientist\\r\\nAffinity Solutions / Marketi...     2.9   \n",
       "\n",
       "                                   Company Name         Location  \\\n",
       "0                      Tecolote Research\\r\\n3.8  Albuquerque, NM   \n",
       "1  University of Maryland Medical System\\r\\n3.4    Linthicum, MD   \n",
       "2                                KnowBe4\\r\\n4.8   Clearwater, FL   \n",
       "3                                   PNNL\\r\\n3.8     Richland, WA   \n",
       "4                     Affinity Solutions\\r\\n2.9     New York, NY   \n",
       "\n",
       "     Headquarters                    Size  Founded   Type of ownership  \\\n",
       "0      Goleta, CA   501 to 1000 employees     1973   Company - Private   \n",
       "1   Baltimore, MD        10000+ employees     1984  Other Organization   \n",
       "2  Clearwater, FL   501 to 1000 employees     2010   Company - Private   \n",
       "3    Richland, WA  1001 to 5000 employees     1965          Government   \n",
       "4    New York, NY     51 to 200 employees     1998   Company - Private   \n",
       "\n",
       "                           Industry                        Sector  \\\n",
       "0               Aerospace & Defense           Aerospace & Defense   \n",
       "1  Health Care Services & Hospitals                   Health Care   \n",
       "2                 Security Services             Business Services   \n",
       "3                            Energy  Oil, Gas, Energy & Utilities   \n",
       "4           Advertising & Marketing             Business Services   \n",
       "\n",
       "                            Revenue  \\\n",
       "0         $50 to $100 million (USD)   \n",
       "1            $2 to $5 billion (USD)   \n",
       "2        $100 to $500 million (USD)   \n",
       "3  $500 million to $1 billion (USD)   \n",
       "4          Unknown / Non-Applicable   \n",
       "\n",
       "                                         Competitors  \n",
       "0                                                 -1  \n",
       "1                                                 -1  \n",
       "2                                                 -1  \n",
       "3  Oak Ridge National Laboratory, National Renewa...  \n",
       "4               Commerce Signals, Cardlytics, Yodlee  "
      ]
     },
     "execution_count": 3,
     "metadata": {},
     "output_type": "execute_result"
    }
   ],
   "source": [
    "# First 5 rows of the dataset\n",
    "df.head()"
   ]
  },
  {
   "cell_type": "code",
   "execution_count": 4,
   "id": "0459a974",
   "metadata": {},
   "outputs": [
    {
     "name": "stdout",
     "output_type": "stream",
     "text": [
      "<class 'pandas.core.frame.DataFrame'>\n",
      "RangeIndex: 956 entries, 0 to 955\n",
      "Data columns (total 14 columns):\n",
      " #   Column             Non-Null Count  Dtype  \n",
      "---  ------             --------------  -----  \n",
      " 0   Job Title          956 non-null    object \n",
      " 1   Salary Estimate    956 non-null    object \n",
      " 2   Job Description    956 non-null    object \n",
      " 3   Rating             956 non-null    float64\n",
      " 4   Company Name       956 non-null    object \n",
      " 5   Location           956 non-null    object \n",
      " 6   Headquarters       956 non-null    object \n",
      " 7   Size               956 non-null    object \n",
      " 8   Founded            956 non-null    int64  \n",
      " 9   Type of ownership  956 non-null    object \n",
      " 10  Industry           956 non-null    object \n",
      " 11  Sector             956 non-null    object \n",
      " 12  Revenue            956 non-null    object \n",
      " 13  Competitors        956 non-null    object \n",
      "dtypes: float64(1), int64(1), object(12)\n",
      "memory usage: 104.7+ KB\n"
     ]
    }
   ],
   "source": [
    "# All columns, their counts and data types\n",
    "df.info()"
   ]
  },
  {
   "cell_type": "code",
   "execution_count": 5,
   "id": "fd9af51f",
   "metadata": {},
   "outputs": [
    {
     "data": {
      "text/html": [
       "<div>\n",
       "<style scoped>\n",
       "    .dataframe tbody tr th:only-of-type {\n",
       "        vertical-align: middle;\n",
       "    }\n",
       "\n",
       "    .dataframe tbody tr th {\n",
       "        vertical-align: top;\n",
       "    }\n",
       "\n",
       "    .dataframe thead th {\n",
       "        text-align: right;\n",
       "    }\n",
       "</style>\n",
       "<table border=\"1\" class=\"dataframe\">\n",
       "  <thead>\n",
       "    <tr style=\"text-align: right;\">\n",
       "      <th></th>\n",
       "      <th>Rating</th>\n",
       "      <th>Founded</th>\n",
       "    </tr>\n",
       "  </thead>\n",
       "  <tbody>\n",
       "    <tr>\n",
       "      <th>count</th>\n",
       "      <td>956.000000</td>\n",
       "      <td>956.000000</td>\n",
       "    </tr>\n",
       "    <tr>\n",
       "      <th>mean</th>\n",
       "      <td>3.601255</td>\n",
       "      <td>1774.605649</td>\n",
       "    </tr>\n",
       "    <tr>\n",
       "      <th>std</th>\n",
       "      <td>1.067619</td>\n",
       "      <td>598.942517</td>\n",
       "    </tr>\n",
       "    <tr>\n",
       "      <th>min</th>\n",
       "      <td>-1.000000</td>\n",
       "      <td>-1.000000</td>\n",
       "    </tr>\n",
       "    <tr>\n",
       "      <th>25%</th>\n",
       "      <td>3.300000</td>\n",
       "      <td>1937.000000</td>\n",
       "    </tr>\n",
       "    <tr>\n",
       "      <th>50%</th>\n",
       "      <td>3.800000</td>\n",
       "      <td>1992.000000</td>\n",
       "    </tr>\n",
       "    <tr>\n",
       "      <th>75%</th>\n",
       "      <td>4.200000</td>\n",
       "      <td>2008.000000</td>\n",
       "    </tr>\n",
       "    <tr>\n",
       "      <th>max</th>\n",
       "      <td>5.000000</td>\n",
       "      <td>2019.000000</td>\n",
       "    </tr>\n",
       "  </tbody>\n",
       "</table>\n",
       "</div>"
      ],
      "text/plain": [
       "           Rating      Founded\n",
       "count  956.000000   956.000000\n",
       "mean     3.601255  1774.605649\n",
       "std      1.067619   598.942517\n",
       "min     -1.000000    -1.000000\n",
       "25%      3.300000  1937.000000\n",
       "50%      3.800000  1992.000000\n",
       "75%      4.200000  2008.000000\n",
       "max      5.000000  2019.000000"
      ]
     },
     "execution_count": 5,
     "metadata": {},
     "output_type": "execute_result"
    }
   ],
   "source": [
    "# Stats about numerical columns (only two exist)\n",
    "df.describe()"
   ]
  },
  {
   "cell_type": "code",
   "execution_count": 6,
   "id": "738f330f",
   "metadata": {},
   "outputs": [
    {
     "name": "stdout",
     "output_type": "stream",
     "text": [
      "Job Title                                               Data Scientist\n",
      "Salary Estimate                            $71K-$119K (Glassdoor est.)\n",
      "Job Description      CyrusOne is seeking a talented Data Scientist ...\n",
      "Rating                                                             3.4\n",
      "Company Name                                           CyrusOne\\r\\n3.4\n",
      "Location                                                    Dallas, TX\n",
      "Headquarters                                                Dallas, TX\n",
      "Size                                              201 to 500 employees\n",
      "Founded                                                           2000\n",
      "Type of ownership                                     Company - Public\n",
      "Industry                                                   Real Estate\n",
      "Sector                                                     Real Estate\n",
      "Revenue                                         $1 to $2 billion (USD)\n",
      "Competitors                          Digital Realty, CoreSite, Equinix\n",
      "Name: 5, dtype: object\n",
      "CyrusOne is seeking a talented Data Scientist who holds a range of data-focused skills both in technical and analytical domains. The ideal candidate is adept at processing, cleansing, and verifying the integrity of data used for visualization and analysis. This role is dynamic, granting the candidate the opportunity to participate in a wide variety of projects and collaborate with many cross-functional teams throughout the business.\r\n",
      "\r\n",
      "Duties and Responsibilities:\r\n",
      "Participate in an agile scrum cadence\r\n",
      "Process, cleanse, and verify the integrity of data used for analysis\r\n",
      "Perform functional business requirements analysis and data analysis\r\n",
      "Develop data models and algorithms to apply to data sets\r\n",
      "Augment data collection procedures to include necessary information for building accurate analytics\r\n",
      "Collaborate with stakeholders throughout the organization to identify opportunities for leveraging data to drive business solutions\r\n",
      "Evaluate the effectiveness and accuracy of data sources and data gathering techniques\r\n",
      "Gather critical information from meetings with various stakeholders and produce useful reports\r\n",
      "Coordinate with cross-functional teams to implement models and monitor outcomes\r\n",
      "Develop automated discrepancy detection systems and distribute reconciliation reports to stakeholders\r\n",
      "Requirements:\r\n",
      "Must be legally authorized to work in the United States for any employer without sponsorship\r\n",
      "Professional experience using statistical software languages like R, Python, and SQL to query, manipulate, and draw insights from data sets\r\n",
      "Strong problem-solving skills with an emphasis on product development\r\n",
      "Extensive experience with Microsoft SQL, MySQL and MongoDB\r\n",
      "Understanding of version control (git) and project management with Azure DevOps\r\n",
      "Knowledge of machine learning techniques (clustering, decision tree learning, artificial neural networks, etc.)\r\n",
      "Experience visualizing data for stakeholders using visualization tools such as Power BI\r\n",
      "Experience working with and creating data architectures\r\n",
      "Understanding and adherence to agile principles and practices\r\n",
      "Ability to work on problems of any scope where the analysis of situations or data requires a review of a variety of factors\r\n",
      "Self-maintainability and reliability with minimal supervision\r\n",
      "Excellent interpersonal communication, decision making, presentation, and organizational skills\r\n",
      "Ability to build productive internal/external working relationships\r\n",
      "Harmonious with CyrusOne culture, core values, and business goals\r\n",
      "Minimum Qualifications:\r\n",
      "2+ years of related experience in a data analyst role\r\n",
      "Strong can-do attitude in a time sensitive environment\r\n",
      "Other important information about this position:\r\n",
      "This position requires typical weekday (Monday - Friday) attendance in an office setting, at times after hours work may be required to meet business and customer needs\r\n",
      "Every position requires certain physical capabilities. CyrusOne seeks to make reasonable accommodations that enable individuals with disabilities to perform essential duties when possible\r\n",
      "CyrusOne is an equal opportunity employer. All qualified applicants will receive consideration for employment without regard to race, color, sex, sexual orientation, gender identity, religion, national origin, disability, veteran status, or other legally protected status.\r\n",
      "\r\n",
      "CyrusOne provides reasonable accommodation for qualified individuals with disabilities in accordance with the Americans with Disabilities Act (ADA) and any other state or local laws. We will respond to requests for reasonable accommodations to assist you in applying for positions at CyrusOne, or to submit a resume. If you need to request an accommodation, please contact our Human Resources at 214.488.1365 (Option 7) or by email at HR@cyrusone.com.\n"
     ]
    }
   ],
   "source": [
    "# Example Row\n",
    "print(df.iloc[5])\n",
    "print(df.loc[5,'Job Description'])"
   ]
  },
  {
   "cell_type": "code",
   "execution_count": 7,
   "id": "abfa4b53",
   "metadata": {},
   "outputs": [
    {
     "data": {
      "text/plain": [
       "922                                       Data Scientist\n",
       "378                                       Data Scientist\n",
       "843                                       Data Scientist\n",
       "741        Scientist – Cancer Discovery, Molecular Assay\n",
       "244                                 Data Engineer with R\n",
       "772    Scientist, Upstream Process Development (Biore...\n",
       "702                                IT - Data Engineer II\n",
       "858      Associate Principal Scientist, Pharmacogenomics\n",
       "672                                 Senior Data Engineer\n",
       "612                                       Data Scientist\n",
       "Name: Job Title, dtype: object"
      ]
     },
     "execution_count": 7,
     "metadata": {},
     "output_type": "execute_result"
    }
   ],
   "source": [
    "# Random 10 job titles\n",
    "df['Job Title'].sample(10)"
   ]
  },
  {
   "cell_type": "code",
   "execution_count": 8,
   "id": "8f09342e",
   "metadata": {},
   "outputs": [
    {
     "data": {
      "text/plain": [
       "640      $43K-$86K (Glassdoor est.)\n",
       "1       $63K-$112K (Glassdoor est.)\n",
       "293     $74K-$119K (Glassdoor est.)\n",
       "711     $61K-$126K (Glassdoor est.)\n",
       "15     $102K-$190K (Glassdoor est.)\n",
       "63      $71K-$119K (Glassdoor est.)\n",
       "625     $89K-$144K (Glassdoor est.)\n",
       "575     $85K-$142K (Glassdoor est.)\n",
       "794      $49K-$76K (Glassdoor est.)\n",
       "735      $38K-$64K (Glassdoor est.)\n",
       "Name: Salary Estimate, dtype: object"
      ]
     },
     "execution_count": 8,
     "metadata": {},
     "output_type": "execute_result"
    }
   ],
   "source": [
    "# Random 10 salary estimates (-1 should mean no information provided)\n",
    "df['Salary Estimate'].sample(10)"
   ]
  },
  {
   "cell_type": "code",
   "execution_count": 9,
   "id": "5702b3b8",
   "metadata": {},
   "outputs": [
    {
     "name": "stdout",
     "output_type": "stream",
     "text": [
      "#### LONGEST JOB DESC LENGTHS ####\n",
      "202    10146\n",
      "319    10146\n",
      "257     9347\n",
      "46      9165\n",
      "509     9165\n",
      "749     8882\n",
      "498     8882\n",
      "526     8876\n",
      "789     8876\n",
      "440     8766\n",
      "Name: desc_len, dtype: int64\n",
      "#### SHORTEST JOB DESC LENGTHS ####\n",
      "901    407\n",
      "161    695\n",
      "404    709\n",
      "581    709\n",
      "328    714\n",
      "345    723\n",
      "214    723\n",
      "876    730\n",
      "130    745\n",
      "762    871\n",
      "Name: desc_len, dtype: int64\n"
     ]
    }
   ],
   "source": [
    "# Get the job description length\n",
    "df['desc_len'] = df['Job Description'].apply(lambda x: len(x))\n",
    "print(\"#### LONGEST JOB DESC LENGTHS ####\")\n",
    "print(df['desc_len'].sort_values(ascending=False).head(10))\n",
    "print(\"#### SHORTEST JOB DESC LENGTHS ####\")\n",
    "print(df['desc_len'].sort_values().head(10))"
   ]
  },
  {
   "cell_type": "code",
   "execution_count": 10,
   "id": "468fabb8",
   "metadata": {},
   "outputs": [
    {
     "data": {
      "text/html": [
       "<div>\n",
       "<style scoped>\n",
       "    .dataframe tbody tr th:only-of-type {\n",
       "        vertical-align: middle;\n",
       "    }\n",
       "\n",
       "    .dataframe tbody tr th {\n",
       "        vertical-align: top;\n",
       "    }\n",
       "\n",
       "    .dataframe thead th {\n",
       "        text-align: right;\n",
       "    }\n",
       "</style>\n",
       "<table border=\"1\" class=\"dataframe\">\n",
       "  <thead>\n",
       "    <tr style=\"text-align: right;\">\n",
       "      <th></th>\n",
       "      <th>Company Name</th>\n",
       "      <th>Founded</th>\n",
       "    </tr>\n",
       "  </thead>\n",
       "  <tbody>\n",
       "    <tr>\n",
       "      <th>731</th>\n",
       "      <td>Liberty Mutual Insurance\\r\\n3.3</td>\n",
       "      <td>1912</td>\n",
       "    </tr>\n",
       "    <tr>\n",
       "      <th>323</th>\n",
       "      <td>Vionic Group\\r\\n3.6</td>\n",
       "      <td>2006</td>\n",
       "    </tr>\n",
       "    <tr>\n",
       "      <th>26</th>\n",
       "      <td>Pfizer\\r\\n4.0</td>\n",
       "      <td>1849</td>\n",
       "    </tr>\n",
       "    <tr>\n",
       "      <th>654</th>\n",
       "      <td>The Church of Jesus Christ of Latter-day Saint...</td>\n",
       "      <td>-1</td>\n",
       "    </tr>\n",
       "    <tr>\n",
       "      <th>756</th>\n",
       "      <td>Reynolds American\\r\\n3.1</td>\n",
       "      <td>1875</td>\n",
       "    </tr>\n",
       "    <tr>\n",
       "      <th>574</th>\n",
       "      <td>Pyramid Consulting, Inc.\\r\\n3.9</td>\n",
       "      <td>1996</td>\n",
       "    </tr>\n",
       "    <tr>\n",
       "      <th>835</th>\n",
       "      <td>FrankCrum Staffing\\r\\n3.3</td>\n",
       "      <td>1981</td>\n",
       "    </tr>\n",
       "    <tr>\n",
       "      <th>233</th>\n",
       "      <td>Tapjoy\\r\\n3.9</td>\n",
       "      <td>2007</td>\n",
       "    </tr>\n",
       "    <tr>\n",
       "      <th>13</th>\n",
       "      <td>Yesler\\r\\n4.1</td>\n",
       "      <td>2012</td>\n",
       "    </tr>\n",
       "    <tr>\n",
       "      <th>69</th>\n",
       "      <td>Blue Owl\\r\\n4.5</td>\n",
       "      <td>2016</td>\n",
       "    </tr>\n",
       "  </tbody>\n",
       "</table>\n",
       "</div>"
      ],
      "text/plain": [
       "                                          Company Name  Founded\n",
       "731                    Liberty Mutual Insurance\\r\\n3.3     1912\n",
       "323                                Vionic Group\\r\\n3.6     2006\n",
       "26                                       Pfizer\\r\\n4.0     1849\n",
       "654  The Church of Jesus Christ of Latter-day Saint...       -1\n",
       "756                           Reynolds American\\r\\n3.1     1875\n",
       "574                    Pyramid Consulting, Inc.\\r\\n3.9     1996\n",
       "835                          FrankCrum Staffing\\r\\n3.3     1981\n",
       "233                                      Tapjoy\\r\\n3.9     2007\n",
       "13                                       Yesler\\r\\n4.1     2012\n",
       "69                                     Blue Owl\\r\\n4.5     2016"
      ]
     },
     "execution_count": 10,
     "metadata": {},
     "output_type": "execute_result"
    }
   ],
   "source": [
    "# Random 10 company names and the years they were founded in\n",
    "df[['Company Name','Founded']].sample(10)"
   ]
  },
  {
   "cell_type": "code",
   "execution_count": 11,
   "id": "c4a6ccce",
   "metadata": {},
   "outputs": [
    {
     "name": "stdout",
     "output_type": "stream",
     "text": [
      "#### MOST AVAILABLE LOCATIONS ####\n",
      "New York, NY               78\n",
      "San Francisco, CA          71\n",
      "Cambridge, MA              59\n",
      "Chicago, IL                37\n",
      "Boston, MA                 24\n",
      "South San Francisco, CA    18\n",
      "Pittsburgh, PA             18\n",
      "San Jose, CA               16\n",
      "Austin, TX                 13\n",
      "Chantilly, VA              13\n",
      "Name: Location, dtype: int64\n"
     ]
    }
   ],
   "source": [
    "# Top 10 most available locations\n",
    "print(\"#### MOST AVAILABLE LOCATIONS ####\")\n",
    "print(df['Location'].value_counts().head(10))"
   ]
  },
  {
   "cell_type": "code",
   "execution_count": 12,
   "id": "3cc47b51",
   "metadata": {},
   "outputs": [
    {
     "name": "stdout",
     "output_type": "stream",
     "text": [
      "#### MOST AVAILABLE HEADQUARTERS ####\n",
      "New York, NY               75\n",
      "San Francisco, CA          50\n",
      "Chicago, IL                33\n",
      "Cambridge, MA              22\n",
      "Boston, MA                 17\n",
      "Salt Lake City, UT         16\n",
      "Mountain View, CA          15\n",
      "Pittsburgh, PA             15\n",
      "South San Francisco, CA    15\n",
      "Reston, VA                 15\n",
      "Name: Headquarters, dtype: int64\n"
     ]
    }
   ],
   "source": [
    "# Top 10 most available 10 headquarters\n",
    "print(\"#### MOST AVAILABLE HEADQUARTERS ####\")\n",
    "print(df['Headquarters'].value_counts().head(10))"
   ]
  },
  {
   "cell_type": "code",
   "execution_count": 13,
   "id": "d93ab907",
   "metadata": {},
   "outputs": [
    {
     "data": {
      "text/plain": [
       "1001 to 5000 employees     177\n",
       "201 to 500 employees       160\n",
       "51 to 200 employees        155\n",
       "10000+ employees           154\n",
       "501 to 1000 employees      144\n",
       "5001 to 10000 employees     79\n",
       "1 to 50 employees           61\n",
       "Unknown                     15\n",
       "-1                          11\n",
       "Name: Size, dtype: int64"
      ]
     },
     "execution_count": 13,
     "metadata": {},
     "output_type": "execute_result"
    }
   ],
   "source": [
    "# All available sizes and counts\n",
    "df['Size'].value_counts()"
   ]
  },
  {
   "cell_type": "code",
   "execution_count": 14,
   "id": "1f0053a3",
   "metadata": {},
   "outputs": [
    {
     "data": {
      "text/plain": [
       "Company - Private                 532\n",
       "Company - Public                  237\n",
       "Nonprofit Organization             65\n",
       "Subsidiary or Business Segment     40\n",
       "Government                         17\n",
       "Hospital                           15\n",
       "College / University               15\n",
       "Unknown                            11\n",
       "-1                                 11\n",
       "Other Organization                  5\n",
       "Contract                            5\n",
       "School / School District            2\n",
       "Private Practice / Firm             1\n",
       "Name: Type of ownership, dtype: int64"
      ]
     },
     "execution_count": 14,
     "metadata": {},
     "output_type": "execute_result"
    }
   ],
   "source": [
    "# All available types of ownership and counts\n",
    "df['Type of ownership'].value_counts()"
   ]
  },
  {
   "cell_type": "code",
   "execution_count": 15,
   "id": "d4e4d5b9",
   "metadata": {},
   "outputs": [
    {
     "data": {
      "text/plain": [
       "Biotech & Pharmaceuticals                  148\n",
       "IT Services                                 77\n",
       "Computer Hardware & Software                70\n",
       "Insurance Carriers                          65\n",
       "Enterprise Software & Network Solutions     56\n",
       "Health Care Services & Hospitals            51\n",
       "Staffing & Outsourcing                      39\n",
       "-1                                          39\n",
       "Internet                                    36\n",
       "Consulting                                  34\n",
       "Name: Industry, dtype: int64"
      ]
     },
     "execution_count": 15,
     "metadata": {},
     "output_type": "execute_result"
    }
   ],
   "source": [
    "# Top 10 most available industries\n",
    "df['Industry'].value_counts().head(10)"
   ]
  },
  {
   "cell_type": "code",
   "execution_count": 16,
   "id": "8f78968e",
   "metadata": {},
   "outputs": [
    {
     "data": {
      "text/plain": [
       "Information Technology       239\n",
       "Biotech & Pharmaceuticals    148\n",
       "Business Services            134\n",
       "Insurance                     71\n",
       "Finance                       56\n",
       "Health Care                   51\n",
       "Manufacturing                 40\n",
       "-1                            39\n",
       "Aerospace & Defense           32\n",
       "Education                     26\n",
       "Name: Sector, dtype: int64"
      ]
     },
     "execution_count": 16,
     "metadata": {},
     "output_type": "execute_result"
    }
   ],
   "source": [
    "# Top 10 most available sectors\n",
    "df['Sector'].value_counts().head(10)"
   ]
  },
  {
   "cell_type": "code",
   "execution_count": 17,
   "id": "8d1cfc56",
   "metadata": {},
   "outputs": [
    {
     "data": {
      "text/plain": [
       "Unknown / Non-Applicable            299\n",
       "$10+ billion (USD)                  140\n",
       "$100 to $500 million (USD)          107\n",
       "$1 to $2 billion (USD)               68\n",
       "$500 million to $1 billion (USD)     62\n",
       "$25 to $50 million (USD)             59\n",
       "$50 to $100 million (USD)            52\n",
       "$2 to $5 billion (USD)               44\n",
       "$10 to $25 million (USD)             39\n",
       "$5 to $10 million (USD)              29\n",
       "$5 to $10 billion (USD)              20\n",
       "$1 to $5 million (USD)               17\n",
       "-1                                   11\n",
       "Less than $1 million (USD)            9\n",
       "Name: Revenue, dtype: int64"
      ]
     },
     "execution_count": 17,
     "metadata": {},
     "output_type": "execute_result"
    }
   ],
   "source": [
    "# All available revenues and counts\n",
    "df['Revenue'].value_counts()"
   ]
  },
  {
   "cell_type": "code",
   "execution_count": 18,
   "id": "ad06730b",
   "metadata": {},
   "outputs": [
    {
     "name": "stdout",
     "output_type": "stream",
     "text": [
      "290    See Tickets, TicketWeb, Vendini\n",
      "122                                 -1\n",
      "543                                 -1\n",
      "470                                 -1\n",
      "675    Travelers, Allstate, State Farm\n",
      "178                                 -1\n",
      "511    SPR, MATRIX Resources, NueVista\n",
      "732                                 -1\n",
      "583                                 -1\n",
      "417                                 -1\n",
      "Name: Competitors, dtype: object\n",
      "\n",
      "#### HIGHEST COMPETITOR COUNTS ####\n",
      "75     4\n",
      "167    3\n",
      "204    3\n",
      "818    3\n",
      "623    3\n",
      "210    3\n",
      "358    3\n",
      "206    3\n",
      "619    3\n",
      "826    3\n",
      "Name: num_comp, dtype: int64\n",
      "\n",
      "#### COUNTS OF DIFFERENT COMPETITOR COUNTS ####\n",
      "0    634\n",
      "3    253\n",
      "2     50\n",
      "1     18\n",
      "4      1\n",
      "Name: num_comp, dtype: int64\n"
     ]
    }
   ],
   "source": [
    "# Random 10 competitor groups (-1 should mean no competitors)\n",
    "print(df['Competitors'].sample(10))\n",
    "# Competitor counts\n",
    "print(\"\\n#### HIGHEST COMPETITOR COUNTS ####\")\n",
    "df['num_comp'] = df['Competitors'].apply(lambda x: len(x.split(',')) if x != '-1' else 0)\n",
    "print(df['num_comp'].sort_values(ascending=False).head(10))\n",
    "print(\"\\n#### COUNTS OF DIFFERENT COMPETITOR COUNTS ####\")\n",
    "print(df['num_comp'].value_counts())"
   ]
  }
 ],
 "metadata": {
  "kernelspec": {
   "display_name": "Python 3 (ipykernel)",
   "language": "python",
   "name": "python3"
  },
  "language_info": {
   "codemirror_mode": {
    "name": "ipython",
    "version": 3
   },
   "file_extension": ".py",
   "mimetype": "text/x-python",
   "name": "python",
   "nbconvert_exporter": "python",
   "pygments_lexer": "ipython3",
   "version": "3.10.8"
  }
 },
 "nbformat": 4,
 "nbformat_minor": 5
}
