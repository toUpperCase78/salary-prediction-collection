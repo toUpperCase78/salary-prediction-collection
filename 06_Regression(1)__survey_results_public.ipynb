{
 "cells": [
  {
   "cell_type": "markdown",
   "id": "697d3f9d",
   "metadata": {},
   "source": [
    "# 06. jhanvi831/Software-Engineer-Salary-Prediction\n",
    "\n",
    "## Predictions with ML Regression Models | Series 1 - survey_results_public.csv"
   ]
  },
  {
   "cell_type": "code",
   "execution_count": 452,
   "id": "b486d615",
   "metadata": {},
   "outputs": [],
   "source": [
    "import numpy as np\n",
    "import pandas as pd \n",
    "import matplotlib.pyplot as plt \n",
    "import seaborn as sns\n",
    "import warnings\n",
    "warnings.filterwarnings('ignore')\n",
    "from sklearn.linear_model import LinearRegression, Lasso, Ridge, QuantileRegressor\n",
    "from sklearn.tree import DecisionTreeRegressor\n",
    "from sklearn.ensemble import RandomForestRegressor, GradientBoostingRegressor\n",
    "from sklearn.neighbors import KNeighborsRegressor\n",
    "from sklearn.svm import SVR\n",
    "from sklearn.neural_network import MLPRegressor\n",
    "import xgboost\n",
    "from sklearn.model_selection import train_test_split, cross_val_score, cross_validate\n",
    "from sklearn.preprocessing import OneHotEncoder, LabelEncoder, PolynomialFeatures, StandardScaler, MinMaxScaler\n",
    "from sklearn.metrics import mean_squared_error, mean_absolute_error, r2_score, get_scorer_names\n",
    "df = pd.read_csv('06_survey_results_public.csv')"
   ]
  },
  {
   "cell_type": "code",
   "execution_count": 453,
   "id": "14162682",
   "metadata": {},
   "outputs": [
    {
     "data": {
      "text/html": [
       "<div>\n",
       "<style scoped>\n",
       "    .dataframe tbody tr th:only-of-type {\n",
       "        vertical-align: middle;\n",
       "    }\n",
       "\n",
       "    .dataframe tbody tr th {\n",
       "        vertical-align: top;\n",
       "    }\n",
       "\n",
       "    .dataframe thead th {\n",
       "        text-align: right;\n",
       "    }\n",
       "</style>\n",
       "<table border=\"1\" class=\"dataframe\">\n",
       "  <thead>\n",
       "    <tr style=\"text-align: right;\">\n",
       "      <th></th>\n",
       "      <th>ResponseId</th>\n",
       "      <th>MainBranch</th>\n",
       "      <th>Employment</th>\n",
       "      <th>Country</th>\n",
       "      <th>US_State</th>\n",
       "      <th>UK_Country</th>\n",
       "      <th>EdLevel</th>\n",
       "      <th>Age1stCode</th>\n",
       "      <th>LearnCode</th>\n",
       "      <th>YearsCode</th>\n",
       "      <th>...</th>\n",
       "      <th>Age</th>\n",
       "      <th>Gender</th>\n",
       "      <th>Trans</th>\n",
       "      <th>Sexuality</th>\n",
       "      <th>Ethnicity</th>\n",
       "      <th>Accessibility</th>\n",
       "      <th>MentalHealth</th>\n",
       "      <th>SurveyLength</th>\n",
       "      <th>SurveyEase</th>\n",
       "      <th>ConvertedCompYearly</th>\n",
       "    </tr>\n",
       "  </thead>\n",
       "  <tbody>\n",
       "    <tr>\n",
       "      <th>0</th>\n",
       "      <td>1</td>\n",
       "      <td>I am a developer by profession</td>\n",
       "      <td>Independent contractor, freelancer, or self-em...</td>\n",
       "      <td>Slovakia</td>\n",
       "      <td>NaN</td>\n",
       "      <td>NaN</td>\n",
       "      <td>Secondary school (e.g. American high school, G...</td>\n",
       "      <td>18 - 24 years</td>\n",
       "      <td>Coding Bootcamp;Other online resources (ex: vi...</td>\n",
       "      <td>NaN</td>\n",
       "      <td>...</td>\n",
       "      <td>25-34 years old</td>\n",
       "      <td>Man</td>\n",
       "      <td>No</td>\n",
       "      <td>Straight / Heterosexual</td>\n",
       "      <td>White or of European descent</td>\n",
       "      <td>None of the above</td>\n",
       "      <td>None of the above</td>\n",
       "      <td>Appropriate in length</td>\n",
       "      <td>Easy</td>\n",
       "      <td>62268.0</td>\n",
       "    </tr>\n",
       "    <tr>\n",
       "      <th>1</th>\n",
       "      <td>2</td>\n",
       "      <td>I am a student who is learning to code</td>\n",
       "      <td>Student, full-time</td>\n",
       "      <td>Netherlands</td>\n",
       "      <td>NaN</td>\n",
       "      <td>NaN</td>\n",
       "      <td>Bachelor’s degree (B.A., B.S., B.Eng., etc.)</td>\n",
       "      <td>11 - 17 years</td>\n",
       "      <td>Other online resources (ex: videos, blogs, etc...</td>\n",
       "      <td>7</td>\n",
       "      <td>...</td>\n",
       "      <td>18-24 years old</td>\n",
       "      <td>Man</td>\n",
       "      <td>No</td>\n",
       "      <td>Straight / Heterosexual</td>\n",
       "      <td>White or of European descent</td>\n",
       "      <td>None of the above</td>\n",
       "      <td>None of the above</td>\n",
       "      <td>Appropriate in length</td>\n",
       "      <td>Easy</td>\n",
       "      <td>NaN</td>\n",
       "    </tr>\n",
       "    <tr>\n",
       "      <th>2</th>\n",
       "      <td>3</td>\n",
       "      <td>I am not primarily a developer, but I write co...</td>\n",
       "      <td>Student, full-time</td>\n",
       "      <td>Russian Federation</td>\n",
       "      <td>NaN</td>\n",
       "      <td>NaN</td>\n",
       "      <td>Bachelor’s degree (B.A., B.S., B.Eng., etc.)</td>\n",
       "      <td>11 - 17 years</td>\n",
       "      <td>Other online resources (ex: videos, blogs, etc...</td>\n",
       "      <td>NaN</td>\n",
       "      <td>...</td>\n",
       "      <td>18-24 years old</td>\n",
       "      <td>Man</td>\n",
       "      <td>No</td>\n",
       "      <td>Prefer not to say</td>\n",
       "      <td>Prefer not to say</td>\n",
       "      <td>None of the above</td>\n",
       "      <td>None of the above</td>\n",
       "      <td>Appropriate in length</td>\n",
       "      <td>Easy</td>\n",
       "      <td>NaN</td>\n",
       "    </tr>\n",
       "    <tr>\n",
       "      <th>3</th>\n",
       "      <td>4</td>\n",
       "      <td>I am a developer by profession</td>\n",
       "      <td>Employed full-time</td>\n",
       "      <td>Austria</td>\n",
       "      <td>NaN</td>\n",
       "      <td>NaN</td>\n",
       "      <td>Master’s degree (M.A., M.S., M.Eng., MBA, etc.)</td>\n",
       "      <td>11 - 17 years</td>\n",
       "      <td>NaN</td>\n",
       "      <td>NaN</td>\n",
       "      <td>...</td>\n",
       "      <td>35-44 years old</td>\n",
       "      <td>Man</td>\n",
       "      <td>No</td>\n",
       "      <td>Straight / Heterosexual</td>\n",
       "      <td>White or of European descent</td>\n",
       "      <td>I am deaf / hard of hearing</td>\n",
       "      <td>NaN</td>\n",
       "      <td>Appropriate in length</td>\n",
       "      <td>Neither easy nor difficult</td>\n",
       "      <td>NaN</td>\n",
       "    </tr>\n",
       "    <tr>\n",
       "      <th>4</th>\n",
       "      <td>5</td>\n",
       "      <td>I am a developer by profession</td>\n",
       "      <td>Independent contractor, freelancer, or self-em...</td>\n",
       "      <td>United Kingdom of Great Britain and Northern I...</td>\n",
       "      <td>NaN</td>\n",
       "      <td>England</td>\n",
       "      <td>Master’s degree (M.A., M.S., M.Eng., MBA, etc.)</td>\n",
       "      <td>5 - 10 years</td>\n",
       "      <td>Friend or family member</td>\n",
       "      <td>17</td>\n",
       "      <td>...</td>\n",
       "      <td>25-34 years old</td>\n",
       "      <td>Man</td>\n",
       "      <td>No</td>\n",
       "      <td>NaN</td>\n",
       "      <td>White or of European descent</td>\n",
       "      <td>None of the above</td>\n",
       "      <td>NaN</td>\n",
       "      <td>Appropriate in length</td>\n",
       "      <td>Easy</td>\n",
       "      <td>NaN</td>\n",
       "    </tr>\n",
       "  </tbody>\n",
       "</table>\n",
       "<p>5 rows × 48 columns</p>\n",
       "</div>"
      ],
      "text/plain": [
       "   ResponseId                                         MainBranch  \\\n",
       "0           1                     I am a developer by profession   \n",
       "1           2             I am a student who is learning to code   \n",
       "2           3  I am not primarily a developer, but I write co...   \n",
       "3           4                     I am a developer by profession   \n",
       "4           5                     I am a developer by profession   \n",
       "\n",
       "                                          Employment  \\\n",
       "0  Independent contractor, freelancer, or self-em...   \n",
       "1                                 Student, full-time   \n",
       "2                                 Student, full-time   \n",
       "3                                 Employed full-time   \n",
       "4  Independent contractor, freelancer, or self-em...   \n",
       "\n",
       "                                             Country US_State UK_Country  \\\n",
       "0                                           Slovakia      NaN        NaN   \n",
       "1                                        Netherlands      NaN        NaN   \n",
       "2                                 Russian Federation      NaN        NaN   \n",
       "3                                            Austria      NaN        NaN   \n",
       "4  United Kingdom of Great Britain and Northern I...      NaN    England   \n",
       "\n",
       "                                             EdLevel     Age1stCode  \\\n",
       "0  Secondary school (e.g. American high school, G...  18 - 24 years   \n",
       "1       Bachelor’s degree (B.A., B.S., B.Eng., etc.)  11 - 17 years   \n",
       "2       Bachelor’s degree (B.A., B.S., B.Eng., etc.)  11 - 17 years   \n",
       "3    Master’s degree (M.A., M.S., M.Eng., MBA, etc.)  11 - 17 years   \n",
       "4    Master’s degree (M.A., M.S., M.Eng., MBA, etc.)   5 - 10 years   \n",
       "\n",
       "                                           LearnCode YearsCode  ...  \\\n",
       "0  Coding Bootcamp;Other online resources (ex: vi...       NaN  ...   \n",
       "1  Other online resources (ex: videos, blogs, etc...         7  ...   \n",
       "2  Other online resources (ex: videos, blogs, etc...       NaN  ...   \n",
       "3                                                NaN       NaN  ...   \n",
       "4                            Friend or family member        17  ...   \n",
       "\n",
       "               Age Gender Trans                Sexuality  \\\n",
       "0  25-34 years old    Man    No  Straight / Heterosexual   \n",
       "1  18-24 years old    Man    No  Straight / Heterosexual   \n",
       "2  18-24 years old    Man    No        Prefer not to say   \n",
       "3  35-44 years old    Man    No  Straight / Heterosexual   \n",
       "4  25-34 years old    Man    No                      NaN   \n",
       "\n",
       "                      Ethnicity                Accessibility  \\\n",
       "0  White or of European descent            None of the above   \n",
       "1  White or of European descent            None of the above   \n",
       "2             Prefer not to say            None of the above   \n",
       "3  White or of European descent  I am deaf / hard of hearing   \n",
       "4  White or of European descent            None of the above   \n",
       "\n",
       "        MentalHealth           SurveyLength                  SurveyEase  \\\n",
       "0  None of the above  Appropriate in length                        Easy   \n",
       "1  None of the above  Appropriate in length                        Easy   \n",
       "2  None of the above  Appropriate in length                        Easy   \n",
       "3                NaN  Appropriate in length  Neither easy nor difficult   \n",
       "4                NaN  Appropriate in length                        Easy   \n",
       "\n",
       "  ConvertedCompYearly  \n",
       "0             62268.0  \n",
       "1                 NaN  \n",
       "2                 NaN  \n",
       "3                 NaN  \n",
       "4                 NaN  \n",
       "\n",
       "[5 rows x 48 columns]"
      ]
     },
     "execution_count": 453,
     "metadata": {},
     "output_type": "execute_result"
    }
   ],
   "source": [
    "# First 5 rows of the dataset\n",
    "df.head()"
   ]
  },
  {
   "cell_type": "code",
   "execution_count": 454,
   "id": "8ac8c42b",
   "metadata": {},
   "outputs": [
    {
     "data": {
      "text/html": [
       "<div>\n",
       "<style scoped>\n",
       "    .dataframe tbody tr th:only-of-type {\n",
       "        vertical-align: middle;\n",
       "    }\n",
       "\n",
       "    .dataframe tbody tr th {\n",
       "        vertical-align: top;\n",
       "    }\n",
       "\n",
       "    .dataframe thead th {\n",
       "        text-align: right;\n",
       "    }\n",
       "</style>\n",
       "<table border=\"1\" class=\"dataframe\">\n",
       "  <thead>\n",
       "    <tr style=\"text-align: right;\">\n",
       "      <th></th>\n",
       "      <th>ResponseId</th>\n",
       "      <th>MainBranch</th>\n",
       "      <th>Employment</th>\n",
       "      <th>Country</th>\n",
       "      <th>US_State</th>\n",
       "      <th>UK_Country</th>\n",
       "      <th>EdLevel</th>\n",
       "      <th>Age1stCode</th>\n",
       "      <th>LearnCode</th>\n",
       "      <th>YearsCode</th>\n",
       "      <th>...</th>\n",
       "      <th>Age</th>\n",
       "      <th>Gender</th>\n",
       "      <th>Trans</th>\n",
       "      <th>Sexuality</th>\n",
       "      <th>Ethnicity</th>\n",
       "      <th>Accessibility</th>\n",
       "      <th>MentalHealth</th>\n",
       "      <th>SurveyLength</th>\n",
       "      <th>SurveyEase</th>\n",
       "      <th>ConvertedCompYearly</th>\n",
       "    </tr>\n",
       "  </thead>\n",
       "  <tbody>\n",
       "    <tr>\n",
       "      <th>83434</th>\n",
       "      <td>83435</td>\n",
       "      <td>I am a developer by profession</td>\n",
       "      <td>Employed full-time</td>\n",
       "      <td>United States of America</td>\n",
       "      <td>Texas</td>\n",
       "      <td>NaN</td>\n",
       "      <td>Bachelor’s degree (B.A., B.S., B.Eng., etc.)</td>\n",
       "      <td>11 - 17 years</td>\n",
       "      <td>Other online resources (ex: videos, blogs, etc...</td>\n",
       "      <td>6</td>\n",
       "      <td>...</td>\n",
       "      <td>25-34 years old</td>\n",
       "      <td>Man</td>\n",
       "      <td>No</td>\n",
       "      <td>Straight / Heterosexual</td>\n",
       "      <td>White or of European descent</td>\n",
       "      <td>None of the above</td>\n",
       "      <td>I have a concentration and/or memory disorder ...</td>\n",
       "      <td>Appropriate in length</td>\n",
       "      <td>Easy</td>\n",
       "      <td>160500.0</td>\n",
       "    </tr>\n",
       "    <tr>\n",
       "      <th>83435</th>\n",
       "      <td>83436</td>\n",
       "      <td>I am a developer by profession</td>\n",
       "      <td>Independent contractor, freelancer, or self-em...</td>\n",
       "      <td>Benin</td>\n",
       "      <td>NaN</td>\n",
       "      <td>NaN</td>\n",
       "      <td>Bachelor’s degree (B.A., B.S., B.Eng., etc.)</td>\n",
       "      <td>11 - 17 years</td>\n",
       "      <td>Other online resources (ex: videos, blogs, etc...</td>\n",
       "      <td>4</td>\n",
       "      <td>...</td>\n",
       "      <td>18-24 years old</td>\n",
       "      <td>Man</td>\n",
       "      <td>No</td>\n",
       "      <td>Straight / Heterosexual</td>\n",
       "      <td>Black or of African descent</td>\n",
       "      <td>None of the above</td>\n",
       "      <td>None of the above</td>\n",
       "      <td>Appropriate in length</td>\n",
       "      <td>Easy</td>\n",
       "      <td>3960.0</td>\n",
       "    </tr>\n",
       "    <tr>\n",
       "      <th>83436</th>\n",
       "      <td>83437</td>\n",
       "      <td>I am a developer by profession</td>\n",
       "      <td>Employed full-time</td>\n",
       "      <td>United States of America</td>\n",
       "      <td>New Jersey</td>\n",
       "      <td>NaN</td>\n",
       "      <td>Secondary school (e.g. American high school, G...</td>\n",
       "      <td>11 - 17 years</td>\n",
       "      <td>School</td>\n",
       "      <td>10</td>\n",
       "      <td>...</td>\n",
       "      <td>25-34 years old</td>\n",
       "      <td>Man</td>\n",
       "      <td>No</td>\n",
       "      <td>NaN</td>\n",
       "      <td>White or of European descent</td>\n",
       "      <td>None of the above</td>\n",
       "      <td>None of the above</td>\n",
       "      <td>Appropriate in length</td>\n",
       "      <td>Neither easy nor difficult</td>\n",
       "      <td>90000.0</td>\n",
       "    </tr>\n",
       "    <tr>\n",
       "      <th>83437</th>\n",
       "      <td>83438</td>\n",
       "      <td>I am a developer by profession</td>\n",
       "      <td>Employed full-time</td>\n",
       "      <td>Canada</td>\n",
       "      <td>NaN</td>\n",
       "      <td>NaN</td>\n",
       "      <td>Bachelor’s degree (B.A., B.S., B.Eng., etc.)</td>\n",
       "      <td>11 - 17 years</td>\n",
       "      <td>Online Courses or Certification;Books / Physic...</td>\n",
       "      <td>5</td>\n",
       "      <td>...</td>\n",
       "      <td>25-34 years old</td>\n",
       "      <td>Man</td>\n",
       "      <td>No</td>\n",
       "      <td>Straight / Heterosexual</td>\n",
       "      <td>White or of European descent</td>\n",
       "      <td>None of the above</td>\n",
       "      <td>I have a mood or emotional disorder (e.g. depr...</td>\n",
       "      <td>Appropriate in length</td>\n",
       "      <td>Neither easy nor difficult</td>\n",
       "      <td>816816.0</td>\n",
       "    </tr>\n",
       "    <tr>\n",
       "      <th>83438</th>\n",
       "      <td>83439</td>\n",
       "      <td>I am a developer by profession</td>\n",
       "      <td>Employed full-time</td>\n",
       "      <td>Brazil</td>\n",
       "      <td>NaN</td>\n",
       "      <td>NaN</td>\n",
       "      <td>Professional degree (JD, MD, etc.)</td>\n",
       "      <td>11 - 17 years</td>\n",
       "      <td>School</td>\n",
       "      <td>14</td>\n",
       "      <td>...</td>\n",
       "      <td>18-24 years old</td>\n",
       "      <td>Man</td>\n",
       "      <td>No</td>\n",
       "      <td>Straight / Heterosexual</td>\n",
       "      <td>Hispanic or Latino/a/x</td>\n",
       "      <td>None of the above</td>\n",
       "      <td>None of the above</td>\n",
       "      <td>Appropriate in length</td>\n",
       "      <td>Easy</td>\n",
       "      <td>21168.0</td>\n",
       "    </tr>\n",
       "  </tbody>\n",
       "</table>\n",
       "<p>5 rows × 48 columns</p>\n",
       "</div>"
      ],
      "text/plain": [
       "       ResponseId                      MainBranch  \\\n",
       "83434       83435  I am a developer by profession   \n",
       "83435       83436  I am a developer by profession   \n",
       "83436       83437  I am a developer by profession   \n",
       "83437       83438  I am a developer by profession   \n",
       "83438       83439  I am a developer by profession   \n",
       "\n",
       "                                              Employment  \\\n",
       "83434                                 Employed full-time   \n",
       "83435  Independent contractor, freelancer, or self-em...   \n",
       "83436                                 Employed full-time   \n",
       "83437                                 Employed full-time   \n",
       "83438                                 Employed full-time   \n",
       "\n",
       "                        Country    US_State UK_Country  \\\n",
       "83434  United States of America       Texas        NaN   \n",
       "83435                     Benin         NaN        NaN   \n",
       "83436  United States of America  New Jersey        NaN   \n",
       "83437                    Canada         NaN        NaN   \n",
       "83438                    Brazil         NaN        NaN   \n",
       "\n",
       "                                                 EdLevel     Age1stCode  \\\n",
       "83434       Bachelor’s degree (B.A., B.S., B.Eng., etc.)  11 - 17 years   \n",
       "83435       Bachelor’s degree (B.A., B.S., B.Eng., etc.)  11 - 17 years   \n",
       "83436  Secondary school (e.g. American high school, G...  11 - 17 years   \n",
       "83437       Bachelor’s degree (B.A., B.S., B.Eng., etc.)  11 - 17 years   \n",
       "83438                 Professional degree (JD, MD, etc.)  11 - 17 years   \n",
       "\n",
       "                                               LearnCode YearsCode  ...  \\\n",
       "83434  Other online resources (ex: videos, blogs, etc...         6  ...   \n",
       "83435  Other online resources (ex: videos, blogs, etc...         4  ...   \n",
       "83436                                             School        10  ...   \n",
       "83437  Online Courses or Certification;Books / Physic...         5  ...   \n",
       "83438                                             School        14  ...   \n",
       "\n",
       "                   Age Gender Trans                Sexuality  \\\n",
       "83434  25-34 years old    Man    No  Straight / Heterosexual   \n",
       "83435  18-24 years old    Man    No  Straight / Heterosexual   \n",
       "83436  25-34 years old    Man    No                      NaN   \n",
       "83437  25-34 years old    Man    No  Straight / Heterosexual   \n",
       "83438  18-24 years old    Man    No  Straight / Heterosexual   \n",
       "\n",
       "                          Ethnicity      Accessibility  \\\n",
       "83434  White or of European descent  None of the above   \n",
       "83435   Black or of African descent  None of the above   \n",
       "83436  White or of European descent  None of the above   \n",
       "83437  White or of European descent  None of the above   \n",
       "83438        Hispanic or Latino/a/x  None of the above   \n",
       "\n",
       "                                            MentalHealth  \\\n",
       "83434  I have a concentration and/or memory disorder ...   \n",
       "83435                                  None of the above   \n",
       "83436                                  None of the above   \n",
       "83437  I have a mood or emotional disorder (e.g. depr...   \n",
       "83438                                  None of the above   \n",
       "\n",
       "                SurveyLength                  SurveyEase ConvertedCompYearly  \n",
       "83434  Appropriate in length                        Easy            160500.0  \n",
       "83435  Appropriate in length                        Easy              3960.0  \n",
       "83436  Appropriate in length  Neither easy nor difficult             90000.0  \n",
       "83437  Appropriate in length  Neither easy nor difficult            816816.0  \n",
       "83438  Appropriate in length                        Easy             21168.0  \n",
       "\n",
       "[5 rows x 48 columns]"
      ]
     },
     "execution_count": 454,
     "metadata": {},
     "output_type": "execute_result"
    }
   ],
   "source": [
    "# Last 5 rows of the dataset\n",
    "df.tail()"
   ]
  },
  {
   "cell_type": "code",
   "execution_count": 455,
   "id": "012c9747",
   "metadata": {},
   "outputs": [
    {
     "name": "stdout",
     "output_type": "stream",
     "text": [
      "<class 'pandas.core.frame.DataFrame'>\n",
      "RangeIndex: 83439 entries, 0 to 83438\n",
      "Data columns (total 48 columns):\n",
      " #   Column                        Non-Null Count  Dtype  \n",
      "---  ------                        --------------  -----  \n",
      " 0   ResponseId                    83439 non-null  int64  \n",
      " 1   MainBranch                    83439 non-null  object \n",
      " 2   Employment                    83323 non-null  object \n",
      " 3   Country                       83439 non-null  object \n",
      " 4   US_State                      14920 non-null  object \n",
      " 5   UK_Country                    4418 non-null   object \n",
      " 6   EdLevel                       83126 non-null  object \n",
      " 7   Age1stCode                    83243 non-null  object \n",
      " 8   LearnCode                     82963 non-null  object \n",
      " 9   YearsCode                     81641 non-null  object \n",
      " 10  YearsCodePro                  61216 non-null  object \n",
      " 11  DevType                       66484 non-null  object \n",
      " 12  OrgSize                       60726 non-null  object \n",
      " 13  Currency                      61080 non-null  object \n",
      " 14  CompTotal                     47183 non-null  float64\n",
      " 15  CompFreq                      52150 non-null  object \n",
      " 16  LanguageHaveWorkedWith        82357 non-null  object \n",
      " 17  LanguageWantToWorkWith        76821 non-null  object \n",
      " 18  DatabaseHaveWorkedWith        69546 non-null  object \n",
      " 19  DatabaseWantToWorkWith        58299 non-null  object \n",
      " 20  PlatformHaveWorkedWith        52135 non-null  object \n",
      " 21  PlatformWantToWorkWith        41619 non-null  object \n",
      " 22  WebframeHaveWorkedWith        61707 non-null  object \n",
      " 23  WebframeWantToWorkWith        52095 non-null  object \n",
      " 24  MiscTechHaveWorkedWith        47055 non-null  object \n",
      " 25  MiscTechWantToWorkWith        38021 non-null  object \n",
      " 26  ToolsTechHaveWorkedWith       72537 non-null  object \n",
      " 27  ToolsTechWantToWorkWith       65480 non-null  object \n",
      " 28  NEWCollabToolsHaveWorkedWith  81234 non-null  object \n",
      " 29  NEWCollabToolsWantToWorkWith  73022 non-null  object \n",
      " 30  OpSys                         83294 non-null  object \n",
      " 31  NEWStuck                      83052 non-null  object \n",
      " 32  NEWSOSites                    83171 non-null  object \n",
      " 33  SOVisitFreq                   82413 non-null  object \n",
      " 34  SOAccount                     82525 non-null  object \n",
      " 35  SOPartFreq                    67553 non-null  object \n",
      " 36  SOComm                        82319 non-null  object \n",
      " 37  NEWOtherComms                 82828 non-null  object \n",
      " 38  Age                           82407 non-null  object \n",
      " 39  Gender                        82286 non-null  object \n",
      " 40  Trans                         80678 non-null  object \n",
      " 41  Sexuality                     73366 non-null  object \n",
      " 42  Ethnicity                     79464 non-null  object \n",
      " 43  Accessibility                 77603 non-null  object \n",
      " 44  MentalHealth                  76920 non-null  object \n",
      " 45  SurveyLength                  81711 non-null  object \n",
      " 46  SurveyEase                    81948 non-null  object \n",
      " 47  ConvertedCompYearly           46844 non-null  float64\n",
      "dtypes: float64(2), int64(1), object(45)\n",
      "memory usage: 30.6+ MB\n"
     ]
    }
   ],
   "source": [
    "# All available columns, their counts and data types\n",
    "df.info()"
   ]
  },
  {
   "cell_type": "markdown",
   "id": "fa17439b",
   "metadata": {},
   "source": [
    "## Preprocessing\n",
    "\n",
    "All preprocessing steps were carried out in almost exactly the same way as the author."
   ]
  },
  {
   "cell_type": "code",
   "execution_count": 456,
   "id": "27eda8a1",
   "metadata": {},
   "outputs": [
    {
     "name": "stdout",
     "output_type": "stream",
     "text": [
      "DATASET SHAPE: (83439, 5)\n"
     ]
    },
    {
     "data": {
      "text/html": [
       "<div>\n",
       "<style scoped>\n",
       "    .dataframe tbody tr th:only-of-type {\n",
       "        vertical-align: middle;\n",
       "    }\n",
       "\n",
       "    .dataframe tbody tr th {\n",
       "        vertical-align: top;\n",
       "    }\n",
       "\n",
       "    .dataframe thead th {\n",
       "        text-align: right;\n",
       "    }\n",
       "</style>\n",
       "<table border=\"1\" class=\"dataframe\">\n",
       "  <thead>\n",
       "    <tr style=\"text-align: right;\">\n",
       "      <th></th>\n",
       "      <th>Country</th>\n",
       "      <th>EdLevel</th>\n",
       "      <th>YearsCodePro</th>\n",
       "      <th>Employment</th>\n",
       "      <th>Salary</th>\n",
       "    </tr>\n",
       "  </thead>\n",
       "  <tbody>\n",
       "    <tr>\n",
       "      <th>0</th>\n",
       "      <td>Slovakia</td>\n",
       "      <td>Secondary school (e.g. American high school, G...</td>\n",
       "      <td>NaN</td>\n",
       "      <td>Independent contractor, freelancer, or self-em...</td>\n",
       "      <td>62268.0</td>\n",
       "    </tr>\n",
       "    <tr>\n",
       "      <th>1</th>\n",
       "      <td>Netherlands</td>\n",
       "      <td>Bachelor’s degree (B.A., B.S., B.Eng., etc.)</td>\n",
       "      <td>NaN</td>\n",
       "      <td>Student, full-time</td>\n",
       "      <td>NaN</td>\n",
       "    </tr>\n",
       "    <tr>\n",
       "      <th>2</th>\n",
       "      <td>Russian Federation</td>\n",
       "      <td>Bachelor’s degree (B.A., B.S., B.Eng., etc.)</td>\n",
       "      <td>NaN</td>\n",
       "      <td>Student, full-time</td>\n",
       "      <td>NaN</td>\n",
       "    </tr>\n",
       "    <tr>\n",
       "      <th>3</th>\n",
       "      <td>Austria</td>\n",
       "      <td>Master’s degree (M.A., M.S., M.Eng., MBA, etc.)</td>\n",
       "      <td>NaN</td>\n",
       "      <td>Employed full-time</td>\n",
       "      <td>NaN</td>\n",
       "    </tr>\n",
       "    <tr>\n",
       "      <th>4</th>\n",
       "      <td>United Kingdom of Great Britain and Northern I...</td>\n",
       "      <td>Master’s degree (M.A., M.S., M.Eng., MBA, etc.)</td>\n",
       "      <td>10</td>\n",
       "      <td>Independent contractor, freelancer, or self-em...</td>\n",
       "      <td>NaN</td>\n",
       "    </tr>\n",
       "    <tr>\n",
       "      <th>5</th>\n",
       "      <td>United States of America</td>\n",
       "      <td>Bachelor’s degree (B.A., B.S., B.Eng., etc.)</td>\n",
       "      <td>NaN</td>\n",
       "      <td>Student, part-time</td>\n",
       "      <td>NaN</td>\n",
       "    </tr>\n",
       "    <tr>\n",
       "      <th>6</th>\n",
       "      <td>United States of America</td>\n",
       "      <td>Secondary school (e.g. American high school, G...</td>\n",
       "      <td>NaN</td>\n",
       "      <td>I prefer not to say</td>\n",
       "      <td>NaN</td>\n",
       "    </tr>\n",
       "    <tr>\n",
       "      <th>7</th>\n",
       "      <td>Malaysia</td>\n",
       "      <td>Bachelor’s degree (B.A., B.S., B.Eng., etc.)</td>\n",
       "      <td>NaN</td>\n",
       "      <td>Student, full-time</td>\n",
       "      <td>NaN</td>\n",
       "    </tr>\n",
       "    <tr>\n",
       "      <th>8</th>\n",
       "      <td>India</td>\n",
       "      <td>Bachelor’s degree (B.A., B.S., B.Eng., etc.)</td>\n",
       "      <td>4</td>\n",
       "      <td>Employed part-time</td>\n",
       "      <td>NaN</td>\n",
       "    </tr>\n",
       "    <tr>\n",
       "      <th>9</th>\n",
       "      <td>Sweden</td>\n",
       "      <td>Master’s degree (M.A., M.S., M.Eng., MBA, etc.)</td>\n",
       "      <td>4</td>\n",
       "      <td>Employed full-time</td>\n",
       "      <td>51552.0</td>\n",
       "    </tr>\n",
       "  </tbody>\n",
       "</table>\n",
       "</div>"
      ],
      "text/plain": [
       "                                             Country  \\\n",
       "0                                           Slovakia   \n",
       "1                                        Netherlands   \n",
       "2                                 Russian Federation   \n",
       "3                                            Austria   \n",
       "4  United Kingdom of Great Britain and Northern I...   \n",
       "5                           United States of America   \n",
       "6                           United States of America   \n",
       "7                                           Malaysia   \n",
       "8                                              India   \n",
       "9                                             Sweden   \n",
       "\n",
       "                                             EdLevel YearsCodePro  \\\n",
       "0  Secondary school (e.g. American high school, G...          NaN   \n",
       "1       Bachelor’s degree (B.A., B.S., B.Eng., etc.)          NaN   \n",
       "2       Bachelor’s degree (B.A., B.S., B.Eng., etc.)          NaN   \n",
       "3    Master’s degree (M.A., M.S., M.Eng., MBA, etc.)          NaN   \n",
       "4    Master’s degree (M.A., M.S., M.Eng., MBA, etc.)           10   \n",
       "5       Bachelor’s degree (B.A., B.S., B.Eng., etc.)          NaN   \n",
       "6  Secondary school (e.g. American high school, G...          NaN   \n",
       "7       Bachelor’s degree (B.A., B.S., B.Eng., etc.)          NaN   \n",
       "8       Bachelor’s degree (B.A., B.S., B.Eng., etc.)            4   \n",
       "9    Master’s degree (M.A., M.S., M.Eng., MBA, etc.)            4   \n",
       "\n",
       "                                          Employment   Salary  \n",
       "0  Independent contractor, freelancer, or self-em...  62268.0  \n",
       "1                                 Student, full-time      NaN  \n",
       "2                                 Student, full-time      NaN  \n",
       "3                                 Employed full-time      NaN  \n",
       "4  Independent contractor, freelancer, or self-em...      NaN  \n",
       "5                                 Student, part-time      NaN  \n",
       "6                                I prefer not to say      NaN  \n",
       "7                                 Student, full-time      NaN  \n",
       "8                                 Employed part-time      NaN  \n",
       "9                                 Employed full-time  51552.0  "
      ]
     },
     "execution_count": 456,
     "metadata": {},
     "output_type": "execute_result"
    }
   ],
   "source": [
    "# Take only the meaningful columns:\n",
    "# country, education level, years of coding as professional, employment type & converted comp. yearly\n",
    "df_sub = df[[\"Country\", \"EdLevel\", \"YearsCodePro\", \"Employment\", \"ConvertedCompYearly\"]]\n",
    "# ConvertedCompYearly will be renamed to Salary\n",
    "df_sub = df_sub.rename({\"ConvertedCompYearly\": \"Salary\"}, axis=1)\n",
    "print(\"DATASET SHAPE:\", df_sub.shape)\n",
    "df_sub.head(10)"
   ]
  },
  {
   "cell_type": "code",
   "execution_count": 457,
   "id": "1b602edd",
   "metadata": {},
   "outputs": [
    {
     "name": "stdout",
     "output_type": "stream",
     "text": [
      "DATASET SHAPE AFTER REMOVAL OF NULL SALARIES: (46844, 5)\n"
     ]
    },
    {
     "data": {
      "text/html": [
       "<div>\n",
       "<style scoped>\n",
       "    .dataframe tbody tr th:only-of-type {\n",
       "        vertical-align: middle;\n",
       "    }\n",
       "\n",
       "    .dataframe tbody tr th {\n",
       "        vertical-align: top;\n",
       "    }\n",
       "\n",
       "    .dataframe thead th {\n",
       "        text-align: right;\n",
       "    }\n",
       "</style>\n",
       "<table border=\"1\" class=\"dataframe\">\n",
       "  <thead>\n",
       "    <tr style=\"text-align: right;\">\n",
       "      <th></th>\n",
       "      <th>Country</th>\n",
       "      <th>EdLevel</th>\n",
       "      <th>YearsCodePro</th>\n",
       "      <th>Employment</th>\n",
       "      <th>Salary</th>\n",
       "    </tr>\n",
       "  </thead>\n",
       "  <tbody>\n",
       "    <tr>\n",
       "      <th>0</th>\n",
       "      <td>Slovakia</td>\n",
       "      <td>Secondary school (e.g. American high school, G...</td>\n",
       "      <td>NaN</td>\n",
       "      <td>Independent contractor, freelancer, or self-em...</td>\n",
       "      <td>62268.0</td>\n",
       "    </tr>\n",
       "    <tr>\n",
       "      <th>9</th>\n",
       "      <td>Sweden</td>\n",
       "      <td>Master’s degree (M.A., M.S., M.Eng., MBA, etc.)</td>\n",
       "      <td>4</td>\n",
       "      <td>Employed full-time</td>\n",
       "      <td>51552.0</td>\n",
       "    </tr>\n",
       "    <tr>\n",
       "      <th>11</th>\n",
       "      <td>Spain</td>\n",
       "      <td>Bachelor’s degree (B.A., B.S., B.Eng., etc.)</td>\n",
       "      <td>5</td>\n",
       "      <td>Employed full-time</td>\n",
       "      <td>46482.0</td>\n",
       "    </tr>\n",
       "    <tr>\n",
       "      <th>12</th>\n",
       "      <td>Germany</td>\n",
       "      <td>Master’s degree (M.A., M.S., M.Eng., MBA, etc.)</td>\n",
       "      <td>6</td>\n",
       "      <td>Employed full-time</td>\n",
       "      <td>77290.0</td>\n",
       "    </tr>\n",
       "    <tr>\n",
       "      <th>16</th>\n",
       "      <td>Turkey</td>\n",
       "      <td>Bachelor’s degree (B.A., B.S., B.Eng., etc.)</td>\n",
       "      <td>2</td>\n",
       "      <td>Employed full-time</td>\n",
       "      <td>17748.0</td>\n",
       "    </tr>\n",
       "    <tr>\n",
       "      <th>17</th>\n",
       "      <td>Canada</td>\n",
       "      <td>Bachelor’s degree (B.A., B.S., B.Eng., etc.)</td>\n",
       "      <td>6</td>\n",
       "      <td>Employed full-time</td>\n",
       "      <td>46135.0</td>\n",
       "    </tr>\n",
       "    <tr>\n",
       "      <th>18</th>\n",
       "      <td>Singapore</td>\n",
       "      <td>Other doctoral degree (Ph.D., Ed.D., etc.)</td>\n",
       "      <td>30</td>\n",
       "      <td>I prefer not to say</td>\n",
       "      <td>160932.0</td>\n",
       "    </tr>\n",
       "    <tr>\n",
       "      <th>23</th>\n",
       "      <td>France</td>\n",
       "      <td>Master’s degree (M.A., M.S., M.Eng., MBA, etc.)</td>\n",
       "      <td>2</td>\n",
       "      <td>Employed full-time</td>\n",
       "      <td>38915.0</td>\n",
       "    </tr>\n",
       "    <tr>\n",
       "      <th>24</th>\n",
       "      <td>Germany</td>\n",
       "      <td>Master’s degree (M.A., M.S., M.Eng., MBA, etc.)</td>\n",
       "      <td>18</td>\n",
       "      <td>Employed full-time</td>\n",
       "      <td>77831.0</td>\n",
       "    </tr>\n",
       "    <tr>\n",
       "      <th>26</th>\n",
       "      <td>Switzerland</td>\n",
       "      <td>Master’s degree (M.A., M.S., M.Eng., MBA, etc.)</td>\n",
       "      <td>5</td>\n",
       "      <td>Employed full-time</td>\n",
       "      <td>81319.0</td>\n",
       "    </tr>\n",
       "  </tbody>\n",
       "</table>\n",
       "</div>"
      ],
      "text/plain": [
       "        Country                                            EdLevel  \\\n",
       "0      Slovakia  Secondary school (e.g. American high school, G...   \n",
       "9        Sweden    Master’s degree (M.A., M.S., M.Eng., MBA, etc.)   \n",
       "11        Spain       Bachelor’s degree (B.A., B.S., B.Eng., etc.)   \n",
       "12      Germany    Master’s degree (M.A., M.S., M.Eng., MBA, etc.)   \n",
       "16       Turkey       Bachelor’s degree (B.A., B.S., B.Eng., etc.)   \n",
       "17       Canada       Bachelor’s degree (B.A., B.S., B.Eng., etc.)   \n",
       "18    Singapore         Other doctoral degree (Ph.D., Ed.D., etc.)   \n",
       "23       France    Master’s degree (M.A., M.S., M.Eng., MBA, etc.)   \n",
       "24      Germany    Master’s degree (M.A., M.S., M.Eng., MBA, etc.)   \n",
       "26  Switzerland    Master’s degree (M.A., M.S., M.Eng., MBA, etc.)   \n",
       "\n",
       "   YearsCodePro                                         Employment    Salary  \n",
       "0           NaN  Independent contractor, freelancer, or self-em...   62268.0  \n",
       "9             4                                 Employed full-time   51552.0  \n",
       "11            5                                 Employed full-time   46482.0  \n",
       "12            6                                 Employed full-time   77290.0  \n",
       "16            2                                 Employed full-time   17748.0  \n",
       "17            6                                 Employed full-time   46135.0  \n",
       "18           30                                I prefer not to say  160932.0  \n",
       "23            2                                 Employed full-time   38915.0  \n",
       "24           18                                 Employed full-time   77831.0  \n",
       "26            5                                 Employed full-time   81319.0  "
      ]
     },
     "execution_count": 457,
     "metadata": {},
     "output_type": "execute_result"
    }
   ],
   "source": [
    "# Rows with null salaries will be removed\n",
    "df_sub = df_sub[df_sub['Salary'].notnull()]\n",
    "print(\"DATASET SHAPE AFTER REMOVAL OF NULL SALARIES:\", df_sub.shape)\n",
    "df_sub.head(10)"
   ]
  },
  {
   "cell_type": "code",
   "execution_count": 458,
   "id": "f3c724b8",
   "metadata": {},
   "outputs": [
    {
     "name": "stdout",
     "output_type": "stream",
     "text": [
      "<class 'pandas.core.frame.DataFrame'>\n",
      "Int64Index: 46844 entries, 0 to 83438\n",
      "Data columns (total 5 columns):\n",
      " #   Column        Non-Null Count  Dtype  \n",
      "---  ------        --------------  -----  \n",
      " 0   Country       46844 non-null  object \n",
      " 1   EdLevel       46823 non-null  object \n",
      " 2   YearsCodePro  46391 non-null  object \n",
      " 3   Employment    46831 non-null  object \n",
      " 4   Salary        46844 non-null  float64\n",
      "dtypes: float64(1), object(4)\n",
      "memory usage: 2.1+ MB\n"
     ]
    }
   ],
   "source": [
    "# Info about the current dataset\n",
    "df_sub.info()"
   ]
  },
  {
   "cell_type": "code",
   "execution_count": 459,
   "id": "1ab30f0b",
   "metadata": {},
   "outputs": [
    {
     "data": {
      "text/plain": [
       "Country           0\n",
       "EdLevel          21\n",
       "YearsCodePro    453\n",
       "Employment       13\n",
       "Salary            0\n",
       "dtype: int64"
      ]
     },
     "execution_count": 459,
     "metadata": {},
     "output_type": "execute_result"
    }
   ],
   "source": [
    "# Check if there are any null values in other columns\n",
    "df_sub.isnull().sum()"
   ]
  },
  {
   "cell_type": "code",
   "execution_count": 460,
   "id": "31e14faa",
   "metadata": {},
   "outputs": [
    {
     "name": "stdout",
     "output_type": "stream",
     "text": [
      "DATASET SHAPE AFTER REMOVAL OF ROWS WITH NULL: (46359, 5)\n"
     ]
    },
    {
     "data": {
      "text/plain": [
       "Country         0\n",
       "EdLevel         0\n",
       "YearsCodePro    0\n",
       "Employment      0\n",
       "Salary          0\n",
       "dtype: int64"
      ]
     },
     "execution_count": 460,
     "metadata": {},
     "output_type": "execute_result"
    }
   ],
   "source": [
    "# Then, remove those rows containing null values. There should be no more...\n",
    "df_sub = df_sub.dropna()\n",
    "print(\"DATASET SHAPE AFTER REMOVAL OF ROWS WITH NULL:\", df_sub.shape)\n",
    "df_sub.isnull().sum()"
   ]
  },
  {
   "cell_type": "code",
   "execution_count": 461,
   "id": "9d8e5a4c",
   "metadata": {},
   "outputs": [
    {
     "name": "stdout",
     "output_type": "stream",
     "text": [
      "<class 'pandas.core.frame.DataFrame'>\n",
      "Int64Index: 40211 entries, 9 to 83438\n",
      "Data columns (total 4 columns):\n",
      " #   Column        Non-Null Count  Dtype  \n",
      "---  ------        --------------  -----  \n",
      " 0   Country       40211 non-null  object \n",
      " 1   EdLevel       40211 non-null  object \n",
      " 2   YearsCodePro  40211 non-null  object \n",
      " 3   Salary        40211 non-null  float64\n",
      "dtypes: float64(1), object(3)\n",
      "memory usage: 1.5+ MB\n"
     ]
    }
   ],
   "source": [
    "# Also, select such rows where person was employed as full time\n",
    "df_sub = df_sub[df_sub[\"Employment\"] == \"Employed full-time\"]\n",
    "df_sub = df_sub.drop(\"Employment\", axis=1)\n",
    "df_sub.info()"
   ]
  },
  {
   "cell_type": "code",
   "execution_count": 462,
   "id": "a4046dee",
   "metadata": {},
   "outputs": [
    {
     "name": "stdout",
     "output_type": "stream",
     "text": [
      "#### 10 MOST FREQUENT COUNTRIES ####\n",
      "United States of America                                9175\n",
      "India                                                   3385\n",
      "Germany                                                 2753\n",
      "United Kingdom of Great Britain and Northern Ireland    2604\n",
      "Canada                                                  1553\n",
      "France                                                  1396\n",
      "Brazil                                                  1340\n",
      "Spain                                                    890\n",
      "Netherlands                                              835\n",
      "Australia                                                825\n",
      "Name: Country, dtype: int64\n",
      "#### 10 LEAST FREQUENT COUNTRIES ####\n",
      "Burundi                             1\n",
      "Monaco                              1\n",
      "Libyan Arab Jamahiriya              1\n",
      "Mauritania                          1\n",
      "Dominica                            1\n",
      "Guinea                              1\n",
      "Somalia                             1\n",
      "Saint Lucia                         1\n",
      "Saint Kitts and Nevis               1\n",
      "Saint Vincent and the Grenadines    1\n",
      "Name: Country, dtype: int64\n"
     ]
    }
   ],
   "source": [
    "# Let's count the countries\n",
    "print(\"#### 10 MOST FREQUENT COUNTRIES ####\")\n",
    "print(df_sub['Country'].value_counts()[:10])\n",
    "print(\"#### 10 LEAST FREQUENT COUNTRIES ####\")\n",
    "print(df_sub['Country'].value_counts(ascending=True)[:10])"
   ]
  },
  {
   "cell_type": "code",
   "execution_count": 463,
   "id": "dc67dfe5",
   "metadata": {},
   "outputs": [],
   "source": [
    "# Let's filter the countries such that their counts lower than the cutoff value are moved to 'Other'\n",
    "def shorten_categories(categories, cutoff):\n",
    "    categorical_map = {}\n",
    "    for i in range(len(categories)):\n",
    "        if categories.values[i] >= cutoff:\n",
    "            categorical_map[categories.index[i]] = categories.index[i]\n",
    "        else:\n",
    "            categorical_map[categories.index[i]] = 'Other'\n",
    "    return categorical_map"
   ]
  },
  {
   "cell_type": "code",
   "execution_count": 464,
   "id": "ac4bd610",
   "metadata": {},
   "outputs": [
    {
     "name": "stdout",
     "output_type": "stream",
     "text": [
      "CURRENT DATASET SHAPE: (40211, 4)\n"
     ]
    },
    {
     "data": {
      "text/plain": [
       "Other                                                   10725\n",
       "United States of America                                 9175\n",
       "India                                                    3385\n",
       "Germany                                                  2753\n",
       "United Kingdom of Great Britain and Northern Ireland     2604\n",
       "Canada                                                   1553\n",
       "France                                                   1396\n",
       "Brazil                                                   1340\n",
       "Spain                                                     890\n",
       "Netherlands                                               835\n",
       "Australia                                                 825\n",
       "Poland                                                    775\n",
       "Italy                                                     756\n",
       "Russian Federation                                        741\n",
       "Sweden                                                    735\n",
       "Turkey                                                    458\n",
       "Switzerland                                               438\n",
       "Israel                                                    425\n",
       "Norway                                                    402\n",
       "Name: Country, dtype: int64"
      ]
     },
     "execution_count": 464,
     "metadata": {},
     "output_type": "execute_result"
    }
   ],
   "source": [
    "# After that, we have these counts of countries as below\n",
    "country_map = shorten_categories(df_sub['Country'].value_counts(), 400)\n",
    "# print(country_map)\n",
    "print(\"CURRENT DATASET SHAPE:\", df_sub.shape)\n",
    "df_sub['Country'] = df_sub['Country'].map(country_map)\n",
    "df_sub['Country'].value_counts()"
   ]
  },
  {
   "cell_type": "code",
   "execution_count": 465,
   "id": "36b60ec4",
   "metadata": {},
   "outputs": [
    {
     "data": {
      "image/png": "[encoded data removed]",
      "text/plain": [
       "<Figure size 1000x600 with 1 Axes>"
      ]
     },
     "metadata": {},
     "output_type": "display_data"
    }
   ],
   "source": [
    "# Box plot visualization: Salaries vs Countries\n",
    "plt.figure(figsize=(10,6))\n",
    "sns.boxplot(data=df_sub, x='Country', y='Salary')\n",
    "plt.title(\"Salaries vs Countries\", fontsize=18)\n",
    "plt.xlabel('Countries', fontsize=14)\n",
    "plt.ylabel('Salaries', fontsize=14)\n",
    "plt.xticks(rotation=90)\n",
    "plt.grid(color='#dddddd')\n",
    "plt.show()"
   ]
  },
  {
   "cell_type": "code",
   "execution_count": 466,
   "id": "3c67c4f0",
   "metadata": {},
   "outputs": [],
   "source": [
    "# There are lots of outliers encountered above. It's better to remove them all!\n",
    "df_sub = df_sub[df_sub[\"Salary\"] <= 200000]\n",
    "df_sub = df_sub[df_sub[\"Salary\"] >= 10000]\n",
    "df_sub = df_sub[df_sub['Country'] != 'Other']  # Even other countries are dropped as well"
   ]
  },
  {
   "cell_type": "code",
   "execution_count": 467,
   "id": "d6537ca6",
   "metadata": {},
   "outputs": [
    {
     "data": {
      "image/png": "[encoded data removed]",
      "text/plain": [
       "<Figure size 1000x600 with 1 Axes>"
      ]
     },
     "metadata": {},
     "output_type": "display_data"
    }
   ],
   "source": [
    "# Updated Box plot visualization: Salaries vs Countries\n",
    "plt.figure(figsize=(10,6))\n",
    "sns.boxplot(data=df_sub, x='Country', y='Salary')\n",
    "plt.title(\"Salaries vs Countries\", fontsize=18)\n",
    "plt.xlabel('Countries', fontsize=14)\n",
    "plt.ylabel('Salaries', fontsize=14)\n",
    "plt.xticks(rotation=90)\n",
    "plt.grid(color='#dddddd')\n",
    "plt.show()"
   ]
  },
  {
   "cell_type": "code",
   "execution_count": 468,
   "id": "63162f04",
   "metadata": {},
   "outputs": [
    {
     "name": "stdout",
     "output_type": "stream",
     "text": [
      "CURRENT DATASET SHAPE: (25580, 4)\n"
     ]
    }
   ],
   "source": [
    "print(\"CURRENT DATASET SHAPE:\", df_sub.shape)"
   ]
  },
  {
   "cell_type": "code",
   "execution_count": 469,
   "id": "8e3c2bca",
   "metadata": {},
   "outputs": [
    {
     "data": {
      "text/plain": [
       "array(['4', '5', '6', '2', '18', '21', '16', '10', 'Less than 1 year',\n",
       "       '3', '15', '12', '8', '17', '1', '14', '26', '34', '11', '25',\n",
       "       '24', '22', '13', '9', '7', '39', '20', '27', '23', '30', '19',\n",
       "       '35', '33', '43', '40', '29', '38', '31', '42', '28', '46', '32',\n",
       "       '36', '37', '47', '45', '44', '41', 'More than 50 years', '50',\n",
       "       '49', '48'], dtype=object)"
      ]
     },
     "execution_count": 469,
     "metadata": {},
     "output_type": "execute_result"
    }
   ],
   "source": [
    "# Let's check the unique values of 'years of coding as professional' column (note the data type: object)\n",
    "df_sub[\"YearsCodePro\"].unique()"
   ]
  },
  {
   "cell_type": "code",
   "execution_count": 470,
   "id": "9fac069c",
   "metadata": {},
   "outputs": [],
   "source": [
    "# It's better to convert the such texts into numbers, so it can be processed appropriately.\n",
    "def clean_experience(x):\n",
    "    if x == 'More than 50 years':\n",
    "        return 50\n",
    "    if x == 'Less than 1 year':\n",
    "        return 0.5\n",
    "    return float(x)\n",
    "df_sub['YearsCodePro'] = df_sub['YearsCodePro'].apply(clean_experience)"
   ]
  },
  {
   "cell_type": "code",
   "execution_count": 471,
   "id": "58898311",
   "metadata": {},
   "outputs": [
    {
     "data": {
      "text/plain": [
       "array([ 4. ,  5. ,  6. ,  2. , 18. , 21. , 16. , 10. ,  0.5,  3. , 15. ,\n",
       "       12. ,  8. , 17. ,  1. , 14. , 26. , 34. , 11. , 25. , 24. , 22. ,\n",
       "       13. ,  9. ,  7. , 39. , 20. , 27. , 23. , 30. , 19. , 35. , 33. ,\n",
       "       43. , 40. , 29. , 38. , 31. , 42. , 28. , 46. , 32. , 36. , 37. ,\n",
       "       47. , 45. , 44. , 41. , 50. , 49. , 48. ])"
      ]
     },
     "execution_count": 471,
     "metadata": {},
     "output_type": "execute_result"
    }
   ],
   "source": [
    "df_sub[\"YearsCodePro\"].unique()"
   ]
  },
  {
   "cell_type": "code",
   "execution_count": 472,
   "id": "af46378f",
   "metadata": {},
   "outputs": [
    {
     "data": {
      "text/plain": [
       "array(['Master’s degree (M.A., M.S., M.Eng., MBA, etc.)',\n",
       "       'Bachelor’s degree (B.A., B.S., B.Eng., etc.)',\n",
       "       'Professional degree (JD, MD, etc.)',\n",
       "       'Some college/university study without earning a degree',\n",
       "       'Other doctoral degree (Ph.D., Ed.D., etc.)', 'Something else',\n",
       "       'Primary/elementary school', 'Associate degree (A.A., A.S., etc.)',\n",
       "       'Secondary school (e.g. American high school, German Realschule or Gymnasium, etc.)'],\n",
       "      dtype=object)"
      ]
     },
     "execution_count": 472,
     "metadata": {},
     "output_type": "execute_result"
    }
   ],
   "source": [
    "# How about education levels?\n",
    "df_sub[\"EdLevel\"].unique()"
   ]
  },
  {
   "cell_type": "code",
   "execution_count": 473,
   "id": "1b12c384",
   "metadata": {},
   "outputs": [],
   "source": [
    "# Well, these need to be simplified, thus they can be handled easily\n",
    "def clean_education(x):\n",
    "    if 'Bachelor’s degree' in x:\n",
    "        return 'Bachelor’s degree'\n",
    "    if 'Master’s degree' in x:\n",
    "        return 'Master’s degree'\n",
    "    if 'Professional degree' in x or 'Other doctoral' in x:\n",
    "        return 'Post grad'\n",
    "    return 'Less than a Bachelors'\n",
    "df_sub['EdLevel'] = df_sub['EdLevel'].apply(clean_education)"
   ]
  },
  {
   "cell_type": "code",
   "execution_count": 474,
   "id": "c3efc74b",
   "metadata": {},
   "outputs": [
    {
     "data": {
      "text/plain": [
       "array(['Master’s degree', 'Bachelor’s degree', 'Post grad',\n",
       "       'Less than a Bachelors'], dtype=object)"
      ]
     },
     "execution_count": 474,
     "metadata": {},
     "output_type": "execute_result"
    }
   ],
   "source": [
    "df_sub[\"EdLevel\"].unique()"
   ]
  },
  {
   "cell_type": "code",
   "execution_count": 475,
   "id": "9d699a0e",
   "metadata": {},
   "outputs": [
    {
     "data": {
      "text/plain": [
       "array([2, 0, 3, 1])"
      ]
     },
     "execution_count": 475,
     "metadata": {},
     "output_type": "execute_result"
    }
   ],
   "source": [
    "# But, that's not enough! Continue by encoding the education levels...\n",
    "le_education = LabelEncoder()\n",
    "df_sub['EdLevel'] = le_education.fit_transform(df_sub['EdLevel'])\n",
    "df_sub[\"EdLevel\"].unique()"
   ]
  },
  {
   "cell_type": "code",
   "execution_count": 476,
   "id": "45d71b22",
   "metadata": {},
   "outputs": [
    {
     "data": {
      "text/plain": [
       "array([13, 12,  4, 15,  2,  3, 14, 16, 11,  6, 17,  1,  7,  8, 10,  0,  5,\n",
       "        9])"
      ]
     },
     "execution_count": 476,
     "metadata": {},
     "output_type": "execute_result"
    }
   ],
   "source": [
    "# Then, encode the countries\n",
    "le_country = LabelEncoder()\n",
    "df_sub['Country'] = le_country.fit_transform(df_sub['Country'])\n",
    "df_sub[\"Country\"].unique()"
   ]
  },
  {
   "cell_type": "code",
   "execution_count": 477,
   "id": "cac361ce",
   "metadata": {},
   "outputs": [
    {
     "name": "stdout",
     "output_type": "stream",
     "text": [
      "CURRENT DATASET SHAPE: (25580, 4)\n"
     ]
    },
    {
     "data": {
      "text/html": [
       "<div>\n",
       "<style scoped>\n",
       "    .dataframe tbody tr th:only-of-type {\n",
       "        vertical-align: middle;\n",
       "    }\n",
       "\n",
       "    .dataframe tbody tr th {\n",
       "        vertical-align: top;\n",
       "    }\n",
       "\n",
       "    .dataframe thead th {\n",
       "        text-align: right;\n",
       "    }\n",
       "</style>\n",
       "<table border=\"1\" class=\"dataframe\">\n",
       "  <thead>\n",
       "    <tr style=\"text-align: right;\">\n",
       "      <th></th>\n",
       "      <th>Country</th>\n",
       "      <th>EdLevel</th>\n",
       "      <th>YearsCodePro</th>\n",
       "      <th>Salary</th>\n",
       "    </tr>\n",
       "  </thead>\n",
       "  <tbody>\n",
       "    <tr>\n",
       "      <th>9</th>\n",
       "      <td>13</td>\n",
       "      <td>2</td>\n",
       "      <td>4.0</td>\n",
       "      <td>51552.0</td>\n",
       "    </tr>\n",
       "    <tr>\n",
       "      <th>11</th>\n",
       "      <td>12</td>\n",
       "      <td>0</td>\n",
       "      <td>5.0</td>\n",
       "      <td>46482.0</td>\n",
       "    </tr>\n",
       "    <tr>\n",
       "      <th>12</th>\n",
       "      <td>4</td>\n",
       "      <td>2</td>\n",
       "      <td>6.0</td>\n",
       "      <td>77290.0</td>\n",
       "    </tr>\n",
       "    <tr>\n",
       "      <th>16</th>\n",
       "      <td>15</td>\n",
       "      <td>0</td>\n",
       "      <td>2.0</td>\n",
       "      <td>17748.0</td>\n",
       "    </tr>\n",
       "    <tr>\n",
       "      <th>17</th>\n",
       "      <td>2</td>\n",
       "      <td>0</td>\n",
       "      <td>6.0</td>\n",
       "      <td>46135.0</td>\n",
       "    </tr>\n",
       "    <tr>\n",
       "      <th>23</th>\n",
       "      <td>3</td>\n",
       "      <td>2</td>\n",
       "      <td>2.0</td>\n",
       "      <td>38915.0</td>\n",
       "    </tr>\n",
       "    <tr>\n",
       "      <th>24</th>\n",
       "      <td>4</td>\n",
       "      <td>2</td>\n",
       "      <td>18.0</td>\n",
       "      <td>77831.0</td>\n",
       "    </tr>\n",
       "    <tr>\n",
       "      <th>26</th>\n",
       "      <td>14</td>\n",
       "      <td>2</td>\n",
       "      <td>5.0</td>\n",
       "      <td>81319.0</td>\n",
       "    </tr>\n",
       "    <tr>\n",
       "      <th>27</th>\n",
       "      <td>16</td>\n",
       "      <td>0</td>\n",
       "      <td>21.0</td>\n",
       "      <td>68507.0</td>\n",
       "    </tr>\n",
       "    <tr>\n",
       "      <th>29</th>\n",
       "      <td>11</td>\n",
       "      <td>2</td>\n",
       "      <td>16.0</td>\n",
       "      <td>37752.0</td>\n",
       "    </tr>\n",
       "  </tbody>\n",
       "</table>\n",
       "</div>"
      ],
      "text/plain": [
       "    Country  EdLevel  YearsCodePro   Salary\n",
       "9        13        2           4.0  51552.0\n",
       "11       12        0           5.0  46482.0\n",
       "12        4        2           6.0  77290.0\n",
       "16       15        0           2.0  17748.0\n",
       "17        2        0           6.0  46135.0\n",
       "23        3        2           2.0  38915.0\n",
       "24        4        2          18.0  77831.0\n",
       "26       14        2           5.0  81319.0\n",
       "27       16        0          21.0  68507.0\n",
       "29       11        2          16.0  37752.0"
      ]
     },
     "execution_count": 477,
     "metadata": {},
     "output_type": "execute_result"
    }
   ],
   "source": [
    "# Current status of our dataset\n",
    "print(\"CURRENT DATASET SHAPE:\", df_sub.shape)\n",
    "df_sub.head(10)"
   ]
  },
  {
   "cell_type": "code",
   "execution_count": 478,
   "id": "8c0f2d52",
   "metadata": {},
   "outputs": [
    {
     "data": {
      "image/png": "[encoded data removed]",
      "text/plain": [
       "<Figure size 900x600 with 2 Axes>"
      ]
     },
     "metadata": {},
     "output_type": "display_data"
    }
   ],
   "source": [
    "# The correlations of all presented columns\n",
    "plt.figure(figsize=(9,6))\n",
    "sns.heatmap(df_sub.corr(), annot=True)\n",
    "plt.show()"
   ]
  },
  {
   "cell_type": "markdown",
   "id": "52f6e665",
   "metadata": {},
   "source": [
    "## Prepare Train and Test Sets"
   ]
  },
  {
   "cell_type": "code",
   "execution_count": 479,
   "id": "51f6b108",
   "metadata": {},
   "outputs": [
    {
     "name": "stdout",
     "output_type": "stream",
     "text": [
      "TRAIN SIZE: (20464, 3) (20464,)   TEST SIZE: (5116, 3) (5116,)\n"
     ]
    }
   ],
   "source": [
    "# Use 80% of the dataset as training, and 20% as testing\n",
    "X = df_sub.drop(columns='Salary', axis=1)\n",
    "Y = df_sub.iloc[:,-1]\n",
    "x_train, x_test, y_train, y_test = train_test_split(X, Y, test_size=0.2, random_state=21)\n",
    "print(\"TRAIN SIZE:\", x_train.shape, y_train.shape, \"  TEST SIZE:\", x_test.shape, y_test.shape)"
   ]
  },
  {
   "cell_type": "code",
   "execution_count": 480,
   "id": "6934deae",
   "metadata": {},
   "outputs": [],
   "source": [
    "# Create lists to store results of error values of all regression methods\n",
    "res_mse, res_rmse, res_mae, res_r2, res_cv_train, res_cv_test = [], [], [], [], [], []"
   ]
  },
  {
   "cell_type": "markdown",
   "id": "33eedcf3",
   "metadata": {},
   "source": [
    "# ML Regression Models\n",
    "\n",
    "## 1 - Linear Regression"
   ]
  },
  {
   "cell_type": "code",
   "execution_count": 481,
   "id": "d474ddaa",
   "metadata": {},
   "outputs": [
    {
     "data": {
      "text/plain": [
       "{'copy_X': True,\n",
       " 'fit_intercept': True,\n",
       " 'n_jobs': None,\n",
       " 'normalize': 'deprecated',\n",
       " 'positive': False}"
      ]
     },
     "execution_count": 481,
     "metadata": {},
     "output_type": "execute_result"
    }
   ],
   "source": [
    "linreg = LinearRegression()\n",
    "linreg.get_params()"
   ]
  },
  {
   "cell_type": "code",
   "execution_count": 482,
   "id": "8ab4e59f",
   "metadata": {},
   "outputs": [],
   "source": [
    "# Fit the training data into the linear reg. model, then make predictions on the test data\n",
    "linreg.fit(x_train, y_train)\n",
    "y_pred = linreg.predict(x_test)"
   ]
  },
  {
   "cell_type": "code",
   "execution_count": 483,
   "id": "387cb53f",
   "metadata": {},
   "outputs": [
    {
     "name": "stdout",
     "output_type": "stream",
     "text": [
      "COEF: [3278.31523413 -412.82651839 1800.69981412]\n",
      "RANK: 3\n",
      "INTERCEPT: 26305.088439949024\n"
     ]
    }
   ],
   "source": [
    "print(\"COEF:\", linreg.coef_)   # Estimated coefficients for the linear reg.\n",
    "print(\"RANK:\", linreg.rank_)   # Rank of matrix\n",
    "print(\"INTERCEPT:\", linreg.intercept_)   # Independent term in the linear model"
   ]
  },
  {
   "cell_type": "code",
   "execution_count": 484,
   "id": "eff195c3",
   "metadata": {},
   "outputs": [
    {
     "name": "stdout",
     "output_type": "stream",
     "text": [
      "    38909.9871387758 |  69482.0\n",
      "   56599.69448085972 | 108098.0\n",
      "   96442.04593301914 | 189000.0\n",
      "   91039.94649066479 | 115000.0\n",
      "   40710.68695289391 |  47412.0\n",
      "   107246.2448177278 | 200000.0\n",
      "  114359.30194992622 |  84019.0\n",
      "   74923.98342113804 |  80172.0\n",
      "   36214.73101261264 |  37834.0\n",
      "   61032.54074088042 |  43239.0\n",
      "   108957.2025075719 | 148648.0\n",
      "   87438.54686242857 | 150000.0\n",
      "  108221.29159507545 | 183000.0\n",
      "   46118.57999026225 |  64859.0\n",
      "   47596.19541026915 |  70264.0\n",
      "  109609.16489080832 | 150000.0\n",
      "    88916.7554156977 |  66810.0\n",
      "     88084.715650651 |  45360.0\n",
      "  54978.478915289656 |  84000.0\n",
      "   42930.00688041127 |  38916.0\n"
     ]
    }
   ],
   "source": [
    "# Compare the predicted values against the actual ones for the first 20 rows of the test set\n",
    "for i in range(20):\n",
    "    print(\"{:20} | {:8}\".format(y_pred[i], y_test.iloc[i]))"
   ]
  },
  {
   "cell_type": "code",
   "execution_count": 485,
   "id": "650ddca6",
   "metadata": {},
   "outputs": [
    {
     "name": "stdout",
     "output_type": "stream",
     "text": [
      "MSE: 1404218336.998113\n",
      "RMSE: 37472.90136883069\n",
      "MAE: 29892.24168696996\n",
      "R2 SCORE: 0.31135281947556503\n",
      "\n",
      "# CROSS VALIDATION #\n",
      "FITTING TIME: [0.00507379 0.00553894 0.00353789 0.00653315 0.00351   ] -> 0.004838752746582031\n",
      "SCORING TIME: [0.00198174 0.00200534 0.00197673 0.00199986 0.00100613] -> 0.0017939567565917968\n",
      "TRAIN SCORE: [0.33274989 0.32095542 0.32653378 0.31196476 0.31267897] -> 0.320976562027646\n",
      "TEST SCORE: [0.27320858 0.31280734 0.29142507 0.326669   0.35434307] -> 0.3116906099556931\n"
     ]
    }
   ],
   "source": [
    "# Results of metrics\n",
    "mse, rmse, mae, r2 = mean_squared_error(y_test, y_pred), mean_squared_error(y_test, y_pred, squared=False), \\\n",
    "    mean_absolute_error(y_test, y_pred), r2_score(y_test, y_pred)\n",
    "print(\"MSE:\", mse)         # Mean squared error\n",
    "print(\"RMSE:\", rmse)       # Root mean squared error\n",
    "print(\"MAE:\", mae)         # Mean absolute error\n",
    "print(\"R2 SCORE:\", r2)     # R2 score\n",
    "res_mse.append(mse)\n",
    "res_rmse.append(rmse)\n",
    "res_mae.append(mae)\n",
    "res_r2.append(r2)\n",
    "print(\"\\n# CROSS VALIDATION #\")\n",
    "cross_val = cross_validate(linreg, X, Y, cv=5, return_train_score=True)    # 5-fold Cross Validation\n",
    "print(\"FITTING TIME:\", cross_val['fit_time'], \"->\", cross_val['fit_time'].mean())\n",
    "print(\"SCORING TIME:\", cross_val['score_time'], \"->\", cross_val['score_time'].mean())\n",
    "print(\"TRAIN SCORE:\", cross_val['train_score'], \"->\", cross_val['train_score'].mean())\n",
    "res_cv_train.append(cross_val['train_score'].mean())\n",
    "print(\"TEST SCORE:\", cross_val['test_score'], \"->\", cross_val['test_score'].mean())\n",
    "res_cv_test.append(cross_val['test_score'].mean())"
   ]
  },
  {
   "cell_type": "markdown",
   "id": "e7d78214",
   "metadata": {},
   "source": [
    "## 2 - Lasso Regression"
   ]
  },
  {
   "cell_type": "code",
   "execution_count": 486,
   "id": "42662461",
   "metadata": {},
   "outputs": [
    {
     "data": {
      "text/plain": [
       "{'alpha': 1.0,\n",
       " 'copy_X': True,\n",
       " 'fit_intercept': True,\n",
       " 'max_iter': 1000,\n",
       " 'normalize': 'deprecated',\n",
       " 'positive': False,\n",
       " 'precompute': False,\n",
       " 'random_state': None,\n",
       " 'selection': 'cyclic',\n",
       " 'tol': 0.0001,\n",
       " 'warm_start': False}"
      ]
     },
     "execution_count": 486,
     "metadata": {},
     "output_type": "execute_result"
    }
   ],
   "source": [
    "lasso = Lasso()\n",
    "lasso.get_params()"
   ]
  },
  {
   "cell_type": "code",
   "execution_count": 487,
   "id": "2d7548b7",
   "metadata": {},
   "outputs": [],
   "source": [
    "# Fit the training data into the lasso model, then make predictions on the test data\n",
    "lasso.fit(x_train, y_train)\n",
    "y_pred = lasso.predict(x_test)"
   ]
  },
  {
   "cell_type": "code",
   "execution_count": 488,
   "id": "fb628749",
   "metadata": {},
   "outputs": [
    {
     "name": "stdout",
     "output_type": "stream",
     "text": [
      "COEF: [3278.3066434  -411.77427078 1800.67470573]\n",
      "INTERCEPT: 26304.466131100533\n",
      "ITERATIONS: 5\n"
     ]
    }
   ],
   "source": [
    "print(\"COEF:\", lasso.coef_)   # Parameter vector (w in the cost function function formula)\n",
    "print(\"INTERCEPT:\", lasso.intercept_)   # Independent term in decision function\n",
    "# Number of iterations run by the coord. descent solver to reach the specified tolerance\n",
    "print(\"ITERATIONS:\", lasso.n_iter_)  "
   ]
  },
  {
   "cell_type": "code",
   "execution_count": 489,
   "id": "1dbf91d5",
   "metadata": {},
   "outputs": [
    {
     "name": "stdout",
     "output_type": "stream",
     "text": [
      "  38909.189071224086 |  69482.0\n",
      "    56600.8912204501 | 108098.0\n",
      "   96441.07671472593 | 189000.0\n",
      "   91039.05259753013 | 115000.0\n",
      "   40709.86377695603 |  47412.0\n",
      "  107245.12494911755 | 200000.0\n",
      "  114359.09226932959 |  84019.0\n",
      "   74922.68318586281 |  80172.0\n",
      "   36216.17487259848 |  37834.0\n",
      "  61033.787033448985 |  43239.0\n",
      "  108957.06815213377 | 148648.0\n",
      "   87437.70318606625 | 150000.0\n",
      "  108222.25111328678 | 183000.0\n",
      "   46119.88575412413 |  64859.0\n",
      "   47597.51769179042 |  70264.0\n",
      "  109611.15154823735 | 150000.0\n",
      "   88916.30656093697 |  66810.0\n",
      "   88083.78872219754 |  45360.0\n",
      "    54977.6795201496 |  84000.0\n",
      "  42930.310613441616 |  38916.0\n"
     ]
    }
   ],
   "source": [
    "# Compare the predicted values against the actual ones for the first 20 rows of the test set\n",
    "for i in range(20):\n",
    "    print(\"{:20} | {:8}\".format(y_pred[i], y_test.iloc[i]))"
   ]
  },
  {
   "cell_type": "code",
   "execution_count": 490,
   "id": "059f4749",
   "metadata": {},
   "outputs": [
    {
     "name": "stdout",
     "output_type": "stream",
     "text": [
      "MSE: 1404217892.357005\n",
      "RMSE: 37472.89543599487\n",
      "MAE: 29892.245128884842\n",
      "R2 SCORE: 0.3113530375334248\n",
      "\n",
      "# CROSS VALIDATION #\n",
      "FITTING TIME: [0.02042437 0.00600863 0.0085175  0.00752378 0.00802398] -> 0.010099649429321289\n",
      "SCORING TIME: [0.00198746 0.00201106 0.00199866 0.00100017 0.0010066 ] -> 0.001600790023803711\n",
      "TRAIN SCORE: [0.33274989 0.32095542 0.32653378 0.31196476 0.31267897] -> 0.32097656149823744\n",
      "TEST SCORE: [0.2732077  0.31280848 0.29142568 0.32666771 0.35434341] -> 0.31169059647440733\n"
     ]
    }
   ],
   "source": [
    "# Results of metrics\n",
    "mse, rmse, mae, r2 = mean_squared_error(y_test, y_pred), mean_squared_error(y_test, y_pred, squared=False), \\\n",
    "    mean_absolute_error(y_test, y_pred), r2_score(y_test, y_pred)\n",
    "print(\"MSE:\", mse)          \n",
    "print(\"RMSE:\", rmse)       \n",
    "print(\"MAE:\", mae)        \n",
    "print(\"R2 SCORE:\", r2)\n",
    "res_mse.append(mse)\n",
    "res_rmse.append(rmse)\n",
    "res_mae.append(mae)\n",
    "res_r2.append(r2)\n",
    "print(\"\\n# CROSS VALIDATION #\")\n",
    "cross_val = cross_validate(lasso, X, Y, cv=5, return_train_score=True)\n",
    "print(\"FITTING TIME:\", cross_val['fit_time'], \"->\", cross_val['fit_time'].mean())\n",
    "print(\"SCORING TIME:\", cross_val['score_time'], \"->\", cross_val['score_time'].mean())\n",
    "print(\"TRAIN SCORE:\", cross_val['train_score'], \"->\", cross_val['train_score'].mean())\n",
    "res_cv_train.append(cross_val['train_score'].mean())\n",
    "print(\"TEST SCORE:\", cross_val['test_score'], \"->\", cross_val['test_score'].mean())\n",
    "res_cv_test.append(cross_val['test_score'].mean())"
   ]
  },
  {
   "cell_type": "markdown",
   "id": "018017fc",
   "metadata": {},
   "source": [
    "## 3 - Ridge Regression"
   ]
  },
  {
   "cell_type": "code",
   "execution_count": 491,
   "id": "a5f1e0f2",
   "metadata": {},
   "outputs": [
    {
     "data": {
      "text/plain": [
       "{'alpha': 1.0,\n",
       " 'copy_X': True,\n",
       " 'fit_intercept': True,\n",
       " 'max_iter': None,\n",
       " 'normalize': 'deprecated',\n",
       " 'positive': False,\n",
       " 'random_state': None,\n",
       " 'solver': 'auto',\n",
       " 'tol': 0.001}"
      ]
     },
     "execution_count": 491,
     "metadata": {},
     "output_type": "execute_result"
    }
   ],
   "source": [
    "ridge = Ridge()\n",
    "ridge.get_params()"
   ]
  },
  {
   "cell_type": "code",
   "execution_count": 492,
   "id": "2d116f11",
   "metadata": {},
   "outputs": [],
   "source": [
    "# Fit the training data into the ridge model, then make predictions on the test data\n",
    "ridge.fit(x_train, y_train)\n",
    "y_pred = ridge.predict(x_test)"
   ]
  },
  {
   "cell_type": "code",
   "execution_count": 493,
   "id": "800b920a",
   "metadata": {},
   "outputs": [
    {
     "name": "stdout",
     "output_type": "stream",
     "text": [
      "COEF: [3278.31146518 -412.80672365 1800.69848524]\n",
      "INTERCEPT: 26305.121594975455\n",
      "ITERATIONS: None\n"
     ]
    }
   ],
   "source": [
    "print(\"COEF:\", ridge.coef_)   # Weight vector(s)\n",
    "print(\"INTERCEPT:\", ridge.intercept_)   # Independent term in decision function\n",
    "print(\"ITERATIONS:\", ridge.n_iter_)   # Actual number of iterations for each target. (Only for 'sag' & 'lsqr' solvers)"
   ]
  },
  {
   "cell_type": "code",
   "execution_count": 494,
   "id": "c3009628",
   "metadata": {},
   "outputs": [
    {
     "name": "stdout",
     "output_type": "stream",
     "text": [
      "    38910.0109916211 |  69482.0\n",
      "   56599.73886073227 | 108098.0\n",
      "   96442.00438486559 | 189000.0\n",
      "   91039.90892916032 | 115000.0\n",
      "  40710.709476856195 |  47412.0\n",
      "  107246.19529627614 | 200000.0\n",
      "  114359.26801885858 |  84019.0\n",
      "   74923.98069632295 |  80172.0\n",
      "   36214.79178582187 |  37834.0\n",
      "  61032.577800558065 |  43239.0\n",
      "  108957.17256315329 | 148648.0\n",
      "   87438.51195869013 | 150000.0\n",
      "  108221.28033420903 | 183000.0\n",
      "   46118.63345461487 |  64859.0\n",
      "   47596.24643455681 |  70264.0\n",
      "  109609.17209579302 | 150000.0\n",
      "   88916.76185455258 |  66810.0\n",
      "   88084.68296927644 |  45360.0\n",
      "   54978.48281221306 |  84000.0\n",
      "  42930.043207795796 |  38916.0\n"
     ]
    }
   ],
   "source": [
    "# Compare the predicted values against the actual ones for the first 20 rows of the test set\n",
    "for i in range(20):\n",
    "    print(\"{:20} | {:8}\".format(y_pred[i], y_test.iloc[i]))"
   ]
  },
  {
   "cell_type": "code",
   "execution_count": 495,
   "id": "640b7822",
   "metadata": {},
   "outputs": [
    {
     "name": "stdout",
     "output_type": "stream",
     "text": [
      "MSE: 1404218295.8742\n",
      "RMSE: 37472.90082011533\n",
      "MAE: 29892.24135053223\n",
      "R2 SCORE: 0.311352839643274\n",
      "\n",
      "# CROSS VALIDATION #\n",
      "FITTING TIME: [0.00402904 0.00157261 0.00351667 0.00300598 0.00301719] -> 0.0030282974243164063\n",
      "SCORING TIME: [0.00199223 0.00197721 0.00203729 0.00099397 0.00100136] -> 0.0016004085540771485\n",
      "TRAIN SCORE: [0.33274989 0.32095542 0.32653378 0.31196476 0.31267897] -> 0.3209765620270887\n",
      "TEST SCORE: [0.2732086  0.31280737 0.29142512 0.32666894 0.35434304] -> 0.3116906151909892\n"
     ]
    }
   ],
   "source": [
    "# Results of metrics\n",
    "mse, rmse, mae, r2 = mean_squared_error(y_test, y_pred), mean_squared_error(y_test, y_pred, squared=False), \\\n",
    "    mean_absolute_error(y_test, y_pred), r2_score(y_test, y_pred)\n",
    "print(\"MSE:\", mse)        \n",
    "print(\"RMSE:\", rmse)      \n",
    "print(\"MAE:\", mae)        \n",
    "print(\"R2 SCORE:\", r2)  \n",
    "res_mse.append(mse)\n",
    "res_rmse.append(rmse)\n",
    "res_mae.append(mae)\n",
    "res_r2.append(r2)\n",
    "print(\"\\n# CROSS VALIDATION #\")\n",
    "cross_val = cross_validate(ridge, X, Y, cv=5, return_train_score=True)\n",
    "print(\"FITTING TIME:\", cross_val['fit_time'], \"->\", cross_val['fit_time'].mean())\n",
    "print(\"SCORING TIME:\", cross_val['score_time'], \"->\", cross_val['score_time'].mean())\n",
    "print(\"TRAIN SCORE:\", cross_val['train_score'], \"->\", cross_val['train_score'].mean())\n",
    "res_cv_train.append(cross_val['train_score'].mean())\n",
    "print(\"TEST SCORE:\", cross_val['test_score'], \"->\", cross_val['test_score'].mean())\n",
    "res_cv_test.append(cross_val['test_score'].mean())"
   ]
  },
  {
   "cell_type": "markdown",
   "id": "dce5aaa6",
   "metadata": {},
   "source": [
    "## 4 - Polynomial Regression"
   ]
  },
  {
   "cell_type": "code",
   "execution_count": 496,
   "id": "9a7d914d",
   "metadata": {},
   "outputs": [
    {
     "data": {
      "text/plain": [
       "{'degree': 2, 'include_bias': True, 'interaction_only': False, 'order': 'C'}"
      ]
     },
     "execution_count": 496,
     "metadata": {},
     "output_type": "execute_result"
    }
   ],
   "source": [
    "poly_feat = PolynomialFeatures(degree=2)\n",
    "poly_feat.get_params()"
   ]
  },
  {
   "cell_type": "code",
   "execution_count": 497,
   "id": "d403df4d",
   "metadata": {},
   "outputs": [
    {
     "name": "stdout",
     "output_type": "stream",
     "text": [
      "(20464, 10) (5116, 10)\n"
     ]
    }
   ],
   "source": [
    "# Fit then transform for both training and test data (the number of columns must increase)\n",
    "x_poly_train = poly_feat.fit_transform(x_train)\n",
    "x_poly_test = poly_feat.fit_transform(x_test)\n",
    "print(x_poly_train.shape, x_poly_test.shape)"
   ]
  },
  {
   "cell_type": "markdown",
   "id": "1d550f41",
   "metadata": {},
   "source": [
    "### Polynomial Regression with Lasso"
   ]
  },
  {
   "cell_type": "code",
   "execution_count": 498,
   "id": "a726faa9",
   "metadata": {},
   "outputs": [],
   "source": [
    "lasso = Lasso()\n",
    "lasso.fit(x_poly_train, y_train)\n",
    "y_poly_pred = lasso.predict(x_poly_test)"
   ]
  },
  {
   "cell_type": "code",
   "execution_count": 499,
   "id": "718a8a64",
   "metadata": {},
   "outputs": [
    {
     "name": "stdout",
     "output_type": "stream",
     "text": [
      "COEF: [    0.         -9277.66778308  -284.15458741  3698.72379804\n",
      "   647.74582671   -86.88197463    17.61762528  1575.23424705\n",
      "  -102.77963458   -72.48145129]\n",
      "INTERCEPT: 52257.32720290439\n",
      "ITERATIONS: 406\n"
     ]
    }
   ],
   "source": [
    "print(\"COEF:\", lasso.coef_)   # Parameter vector (w in the cost function function formula)\n",
    "print(\"INTERCEPT:\", lasso.intercept_)   # Independent term in decision function\n",
    "# Number of iterations run by the coord. descent solver to reach the specified tolerance\n",
    "print(\"ITERATIONS:\", lasso.n_iter_) "
   ]
  },
  {
   "cell_type": "code",
   "execution_count": 500,
   "id": "e60858e1",
   "metadata": {},
   "outputs": [
    {
     "name": "stdout",
     "output_type": "stream",
     "text": [
      "MSE: 1163038849.499711\n",
      "RMSE: 34103.355399428234\n",
      "MAE: 26726.336651986912\n",
      "R2 SCORE: 0.4296304189699276\n",
      "\n",
      "# CROSS VALIDATION #\n",
      "FITTING TIME: [0.01222181 0.00699472 0.00750899 0.00703907 0.00605893] -> 0.007964706420898438\n",
      "SCORING TIME: [0.00168419 0.00155568 0.00103259 0.00200081 0.00117016] -> 0.0014886856079101562\n",
      "TRAIN SCORE: [0.33274989 0.32095542 0.32653378 0.31196476 0.31267897] -> 0.32097656149823744\n",
      "TEST SCORE: [0.2732077  0.31280848 0.29142568 0.32666771 0.35434341] -> 0.31169059647440733\n"
     ]
    }
   ],
   "source": [
    "# Results of metrics\n",
    "mse, rmse, mae, r2 = mean_squared_error(y_test, y_poly_pred), mean_squared_error(y_test, y_poly_pred, squared=False), \\\n",
    "    mean_absolute_error(y_test, y_poly_pred), r2_score(y_test, y_poly_pred)\n",
    "print(\"MSE:\", mse)          \n",
    "print(\"RMSE:\", rmse)     \n",
    "print(\"MAE:\", mae)         \n",
    "print(\"R2 SCORE:\", r2)    \n",
    "res_mse.append(mse)\n",
    "res_rmse.append(rmse)\n",
    "res_mae.append(mae)\n",
    "res_r2.append(r2)\n",
    "print(\"\\n# CROSS VALIDATION #\")\n",
    "cross_val = cross_validate(lasso, X, Y, cv=5, return_train_score=True)\n",
    "print(\"FITTING TIME:\", cross_val['fit_time'], \"->\", cross_val['fit_time'].mean())\n",
    "print(\"SCORING TIME:\", cross_val['score_time'], \"->\", cross_val['score_time'].mean())\n",
    "print(\"TRAIN SCORE:\", cross_val['train_score'], \"->\", cross_val['train_score'].mean())\n",
    "res_cv_train.append(cross_val['train_score'].mean())\n",
    "print(\"TEST SCORE:\", cross_val['test_score'], \"->\", cross_val['test_score'].mean())\n",
    "res_cv_test.append(cross_val['test_score'].mean())"
   ]
  },
  {
   "cell_type": "markdown",
   "id": "8775fcf1",
   "metadata": {},
   "source": [
    "### Polynomial Regression with Ridge"
   ]
  },
  {
   "cell_type": "code",
   "execution_count": 501,
   "id": "6b46b465",
   "metadata": {},
   "outputs": [],
   "source": [
    "ridge = Ridge()\n",
    "ridge.fit(x_poly_train, y_train)\n",
    "y_poly_pred = ridge.predict(x_poly_test)"
   ]
  },
  {
   "cell_type": "code",
   "execution_count": 502,
   "id": "31d45662",
   "metadata": {},
   "outputs": [
    {
     "name": "stdout",
     "output_type": "stream",
     "text": [
      "COEF: [    0.         -9278.14591927  -301.17562297  3698.7839294\n",
      "   647.75627176   -86.62738396    17.61877892  1580.66261866\n",
      "  -102.71197917   -72.4851215 ]\n",
      "INTERCEPT: 52263.47367886397\n",
      "ITERATIONS: None\n"
     ]
    }
   ],
   "source": [
    "print(\"COEF:\", ridge.coef_)   # Weight vector(s)\n",
    "print(\"INTERCEPT:\", ridge.intercept_)   # Independent term in decision function\n",
    "print(\"ITERATIONS:\", ridge.n_iter_)   # Actual number of iterations for each target. (Only for 'sag' & 'lsqr' solvers)"
   ]
  },
  {
   "cell_type": "code",
   "execution_count": 503,
   "id": "471bd745",
   "metadata": {},
   "outputs": [
    {
     "name": "stdout",
     "output_type": "stream",
     "text": [
      "MSE: 1163034950.384839\n",
      "RMSE: 34103.29823323309\n",
      "MAE: 26726.301378714026\n",
      "R2 SCORE: 0.4296323311472524\n",
      "\n",
      "# CROSS VALIDATION #\n",
      "FITTING TIME: [0.00400352 0.00401354 0.00253892 0.00295758 0.00346065] -> 0.0033948421478271484\n",
      "SCORING TIME: [0.00099969 0.00099969 0.0009799  0.00099826 0.00102091] -> 0.0009996891021728516\n",
      "TRAIN SCORE: [0.33274989 0.32095542 0.32653378 0.31196476 0.31267897] -> 0.3209765620270887\n",
      "TEST SCORE: [0.2732086  0.31280737 0.29142512 0.32666894 0.35434304] -> 0.3116906151909892\n"
     ]
    }
   ],
   "source": [
    "# Results of metrics\n",
    "mse, rmse, mae, r2 = mean_squared_error(y_test, y_poly_pred), mean_squared_error(y_test, y_poly_pred, squared=False), \\\n",
    "    mean_absolute_error(y_test, y_poly_pred), r2_score(y_test, y_poly_pred)\n",
    "print(\"MSE:\", mse)        \n",
    "print(\"RMSE:\", rmse)       \n",
    "print(\"MAE:\", mae)          \n",
    "print(\"R2 SCORE:\", r2)      \n",
    "res_mse.append(mse)\n",
    "res_rmse.append(rmse)\n",
    "res_mae.append(mae)\n",
    "res_r2.append(r2)\n",
    "print(\"\\n# CROSS VALIDATION #\")\n",
    "cross_val = cross_validate(ridge, X, Y, cv=5, return_train_score=True)\n",
    "print(\"FITTING TIME:\", cross_val['fit_time'], \"->\", cross_val['fit_time'].mean())\n",
    "print(\"SCORING TIME:\", cross_val['score_time'], \"->\", cross_val['score_time'].mean())\n",
    "print(\"TRAIN SCORE:\", cross_val['train_score'], \"->\", cross_val['train_score'].mean())\n",
    "res_cv_train.append(cross_val['train_score'].mean())\n",
    "print(\"TEST SCORE:\", cross_val['test_score'], \"->\", cross_val['test_score'].mean())\n",
    "res_cv_test.append(cross_val['test_score'].mean())"
   ]
  },
  {
   "cell_type": "markdown",
   "id": "3d0dd602",
   "metadata": {},
   "source": [
    "## 5 - Decision Tree Regression"
   ]
  },
  {
   "cell_type": "code",
   "execution_count": 504,
   "id": "5637510b",
   "metadata": {},
   "outputs": [
    {
     "data": {
      "text/plain": [
       "{'ccp_alpha': 0.0,\n",
       " 'criterion': 'squared_error',\n",
       " 'max_depth': None,\n",
       " 'max_features': None,\n",
       " 'max_leaf_nodes': None,\n",
       " 'min_impurity_decrease': 0.0,\n",
       " 'min_samples_leaf': 1,\n",
       " 'min_samples_split': 2,\n",
       " 'min_weight_fraction_leaf': 0.0,\n",
       " 'random_state': None,\n",
       " 'splitter': 'best'}"
      ]
     },
     "execution_count": 504,
     "metadata": {},
     "output_type": "execute_result"
    }
   ],
   "source": [
    "# dtree = DecisionTreeRegressor(criterion='absolute_error', splitter='random', max_depth=None, min_samples_split=2,\n",
    "#                              min_samples_leaf=1, min_weight_fraction_leaf=0.0, max_features='log2', max_leaf_nodes=10,\n",
    "#                              min_impurity_decrease=0.2, ccp_alpha=0.0)\n",
    "dtree = DecisionTreeRegressor()\n",
    "dtree.get_params()"
   ]
  },
  {
   "cell_type": "code",
   "execution_count": 505,
   "id": "b4b07490",
   "metadata": {},
   "outputs": [],
   "source": [
    "# Fit the training data into the decision tree, then make predictions on the test data\n",
    "dtree.fit(x_train, y_train)\n",
    "y_pred = dtree.predict(x_test)"
   ]
  },
  {
   "cell_type": "code",
   "execution_count": 506,
   "id": "cd1f27a2",
   "metadata": {},
   "outputs": [
    {
     "name": "stdout",
     "output_type": "stream",
     "text": [
      "   81396.46666666666 |  69482.0\n",
      "   78603.14285714286 | 108098.0\n",
      "  125565.46242774566 | 189000.0\n",
      "  108410.38888888889 | 115000.0\n",
      "   81632.08695652174 |  47412.0\n",
      "   131443.0985915493 | 200000.0\n",
      "   94430.94444444444 |  84019.0\n",
      "           122762.75 |  80172.0\n",
      "  30416.333333333332 |  37834.0\n",
      "             35402.0 |  43239.0\n",
      "             93995.6 | 148648.0\n",
      "   98282.39252336448 | 150000.0\n",
      "  135508.94545454546 | 183000.0\n",
      "            55746.66 |  64859.0\n",
      "   65250.80952380953 |  70264.0\n",
      "             71000.0 | 150000.0\n",
      "             72823.0 |  66810.0\n",
      "   39343.61538461538 |  45360.0\n",
      "            97793.25 |  84000.0\n",
      "             35110.2 |  38916.0\n"
     ]
    }
   ],
   "source": [
    "# Compare the predicted values against the actual ones for the first 20 rows of the test set\n",
    "for i in range(20):\n",
    "    print(\"{:20} | {:8}\".format(y_pred[i], y_test.iloc[i]))"
   ]
  },
  {
   "cell_type": "code",
   "execution_count": 507,
   "id": "8e7c0d1c",
   "metadata": {},
   "outputs": [
    {
     "name": "stdout",
     "output_type": "stream",
     "text": [
      "MSE: 851003207.8188727\n",
      "RMSE: 29171.959272885197\n",
      "MAE: 21425.602538766696\n",
      "R2 SCORE: 0.5826568103828258\n",
      "\n",
      "# CROSS VALIDATION #\n",
      "FITTING TIME: [0.01658392 0.01673031 0.01451302 0.0155704  0.01454186] -> 0.015587902069091797\n",
      "SCORING TIME: [0.00202703 0.00197005 0.00200415 0.00197601 0.00152946] -> 0.0019013404846191407\n",
      "TRAIN SCORE: [0.66714392 0.6521666  0.65458312 0.65189324 0.6513408 ] -> 0.6554255328537429\n",
      "TEST SCORE: [0.53024698 0.59257018 0.57659243 0.58271178 0.60242326] -> 0.5769089254623834\n"
     ]
    }
   ],
   "source": [
    "# Results of metrics\n",
    "mse, rmse, mae, r2 = mean_squared_error(y_test, y_pred), mean_squared_error(y_test, y_pred, squared=False), \\\n",
    "    mean_absolute_error(y_test, y_pred), r2_score(y_test, y_pred)\n",
    "print(\"MSE:\", mse)        \n",
    "print(\"RMSE:\", rmse)      \n",
    "print(\"MAE:\", mae)        \n",
    "print(\"R2 SCORE:\", r2)  \n",
    "res_mse.append(mse)\n",
    "res_rmse.append(rmse)\n",
    "res_mae.append(mae)\n",
    "res_r2.append(r2)\n",
    "print(\"\\n# CROSS VALIDATION #\")\n",
    "cross_val = cross_validate(dtree, X, Y, cv=5, return_train_score=True)\n",
    "print(\"FITTING TIME:\", cross_val['fit_time'], \"->\", cross_val['fit_time'].mean())\n",
    "print(\"SCORING TIME:\", cross_val['score_time'], \"->\", cross_val['score_time'].mean())\n",
    "print(\"TRAIN SCORE:\", cross_val['train_score'], \"->\", cross_val['train_score'].mean())\n",
    "res_cv_train.append(cross_val['train_score'].mean())\n",
    "print(\"TEST SCORE:\", cross_val['test_score'], \"->\", cross_val['test_score'].mean())\n",
    "res_cv_test.append(cross_val['test_score'].mean())"
   ]
  },
  {
   "cell_type": "markdown",
   "id": "bf70f81f",
   "metadata": {},
   "source": [
    "## 6 - Random Forest Regression"
   ]
  },
  {
   "cell_type": "code",
   "execution_count": 508,
   "id": "01e549de",
   "metadata": {},
   "outputs": [
    {
     "data": {
      "text/plain": [
       "{'bootstrap': True,\n",
       " 'ccp_alpha': 0.0,\n",
       " 'criterion': 'squared_error',\n",
       " 'max_depth': None,\n",
       " 'max_features': 1.0,\n",
       " 'max_leaf_nodes': None,\n",
       " 'max_samples': None,\n",
       " 'min_impurity_decrease': 0.0,\n",
       " 'min_samples_leaf': 1,\n",
       " 'min_samples_split': 2,\n",
       " 'min_weight_fraction_leaf': 0.0,\n",
       " 'n_estimators': 100,\n",
       " 'n_jobs': None,\n",
       " 'oob_score': False,\n",
       " 'random_state': None,\n",
       " 'verbose': 0,\n",
       " 'warm_start': False}"
      ]
     },
     "execution_count": 508,
     "metadata": {},
     "output_type": "execute_result"
    }
   ],
   "source": [
    "# rforest = RandomForestRegressor(n_estimators=100, criterion='friedman_mse', max_depth=20, min_samples_split=4, \n",
    "#                                 min_samples_leaf=4, min_weight_fraction_leaf=0.1, max_features=None, max_leaf_nodes=None,\n",
    "#                                 bootstrap=True, warm_start=False, ccp_alpha=0.2, max_samples=None)\n",
    "rforest = RandomForestRegressor()\n",
    "rforest.get_params()"
   ]
  },
  {
   "cell_type": "code",
   "execution_count": 509,
   "id": "d1c9f34a",
   "metadata": {},
   "outputs": [],
   "source": [
    "# Fit the training data into the random forest, then make predictions on the test data\n",
    "rforest.fit(x_train, y_train)\n",
    "y_pred = rforest.predict(x_test)"
   ]
  },
  {
   "cell_type": "code",
   "execution_count": 510,
   "id": "ee2167ed",
   "metadata": {},
   "outputs": [
    {
     "name": "stdout",
     "output_type": "stream",
     "text": [
      "   82269.70772169296 |  69482.0\n",
      "    78569.8228465926 | 108098.0\n",
      "  125864.71329041503 | 189000.0\n",
      "  108395.38650201575 | 115000.0\n",
      "   82990.95432116157 |  47412.0\n",
      "  131113.47691277563 | 200000.0\n",
      "   94696.34615103819 |  84019.0\n",
      "  123122.61420670991 |  80172.0\n",
      "   30313.34564295319 |  37834.0\n",
      "   35202.87036688312 |  43239.0\n",
      "   95134.45987950938 | 148648.0\n",
      "   98389.88952238124 | 150000.0\n",
      "  135283.35279731362 | 183000.0\n",
      "   55778.18278483168 |  64859.0\n",
      "   65201.49563068212 |  70264.0\n",
      "   96302.66984607825 | 150000.0\n",
      "           79080.848 |  66810.0\n",
      "   41305.58557299654 |  45360.0\n",
      "   98247.93952166908 |  84000.0\n",
      "   34830.22313095237 |  38916.0\n"
     ]
    }
   ],
   "source": [
    "# Compare the predicted values against the actual ones for the first 20 rows of the test set\n",
    "for i in range(20):\n",
    "    print(\"{:20} | {:8}\".format(y_pred[i], y_test.iloc[i]))"
   ]
  },
  {
   "cell_type": "code",
   "execution_count": 511,
   "id": "31fc9df2",
   "metadata": {},
   "outputs": [
    {
     "name": "stdout",
     "output_type": "stream",
     "text": [
      "MSE: 824823485.6838169\n",
      "RMSE: 28719.740348474894\n",
      "MAE: 21157.097006515298\n",
      "R2 SCORE: 0.5954956911752246\n",
      "\n",
      "# CROSS VALIDATION #\n",
      "FITTING TIME: [1.05075264 1.04777575 1.03994322 1.07603836 1.08592606] -> 1.0600872039794922\n",
      "SCORING TIME: [0.06852508 0.0713191  0.07267475 0.07190752 0.08982253] -> 0.07484979629516601\n",
      "TRAIN SCORE: [0.66543571 0.65002975 0.65259037 0.64984698 0.64955182] -> 0.6534909241263475\n",
      "TEST SCORE: [0.54057637 0.60394492 0.58734003 0.59579843 0.61172018] -> 0.5878759862006596\n"
     ]
    }
   ],
   "source": [
    "# Results of metrics\n",
    "mse, rmse, mae, r2 = mean_squared_error(y_test, y_pred), mean_squared_error(y_test, y_pred, squared=False), \\\n",
    "    mean_absolute_error(y_test, y_pred), r2_score(y_test, y_pred)\n",
    "print(\"MSE:\", mse)        \n",
    "print(\"RMSE:\", rmse)      \n",
    "print(\"MAE:\", mae)        \n",
    "print(\"R2 SCORE:\", r2)  \n",
    "res_mse.append(mse)\n",
    "res_rmse.append(rmse)\n",
    "res_mae.append(mae)\n",
    "res_r2.append(r2)\n",
    "print(\"\\n# CROSS VALIDATION #\")\n",
    "cross_val = cross_validate(rforest, X, Y, cv=5, return_train_score=True)\n",
    "print(\"FITTING TIME:\", cross_val['fit_time'], \"->\", cross_val['fit_time'].mean())\n",
    "print(\"SCORING TIME:\", cross_val['score_time'], \"->\", cross_val['score_time'].mean())\n",
    "print(\"TRAIN SCORE:\", cross_val['train_score'], \"->\", cross_val['train_score'].mean())\n",
    "res_cv_train.append(cross_val['train_score'].mean())\n",
    "print(\"TEST SCORE:\", cross_val['test_score'], \"->\", cross_val['test_score'].mean())\n",
    "res_cv_test.append(cross_val['test_score'].mean())"
   ]
  },
  {
   "cell_type": "markdown",
   "id": "744bdd86",
   "metadata": {},
   "source": [
    "## 7 - KNN Regression"
   ]
  },
  {
   "cell_type": "code",
   "execution_count": 512,
   "id": "2637087a",
   "metadata": {},
   "outputs": [
    {
     "data": {
      "text/plain": [
       "{'algorithm': 'auto',\n",
       " 'leaf_size': 30,\n",
       " 'metric': 'minkowski',\n",
       " 'metric_params': None,\n",
       " 'n_jobs': None,\n",
       " 'n_neighbors': 5,\n",
       " 'p': 2,\n",
       " 'weights': 'uniform'}"
      ]
     },
     "execution_count": 512,
     "metadata": {},
     "output_type": "execute_result"
    }
   ],
   "source": [
    "knnreg = KNeighborsRegressor()\n",
    "knnreg.get_params()"
   ]
  },
  {
   "cell_type": "code",
   "execution_count": 513,
   "id": "afee58bd",
   "metadata": {},
   "outputs": [],
   "source": [
    "# Fit the training data into the KNN regression model, then make predictions on the test data\n",
    "knnreg.fit(x_train, y_train)\n",
    "y_pred = knnreg.predict(x_test)"
   ]
  },
  {
   "cell_type": "code",
   "execution_count": 514,
   "id": "d0c4838c",
   "metadata": {},
   "outputs": [
    {
     "name": "stdout",
     "output_type": "stream",
     "text": [
      "EFFECTIVE METRIC: euclidean\n",
      "EFFECTIVE METRIC PARAMS: {}\n",
      "FEATURES: 3\n",
      "FEATURE NAMES: ['Country' 'EdLevel' 'YearsCodePro']\n",
      "SAMPLES FIT: 20464\n"
     ]
    }
   ],
   "source": [
    "# The distance metric to use. It will be the same as the 'metric' parameter or a synonym of it, e.g. 'euclidean' if the\n",
    "# metric parameter set to 'minkowski' and 'p' parameter is set to 2.\n",
    "print(\"EFFECTIVE METRIC:\", knnreg.effective_metric_)\n",
    "# Additional keyword arguments for the metric function. For most metrics will be same with 'metric_params' parameter,\n",
    "# but may also contain the 'p' parameter value if the 'effective_metric_' attribute is set to 'miknowski'.\n",
    "print(\"EFFECTIVE METRIC PARAMS:\", knnreg.effective_metric_params_)\n",
    "print(\"FEATURES:\", knnreg.n_features_in_)  # Number of features seen during fit\n",
    "print(\"FEATURE NAMES:\", knnreg.feature_names_in_)  # Names of features seen during fit\n",
    "print(\"SAMPLES FIT:\", knnreg.n_samples_fit_)  # Number of samples in the fitted data"
   ]
  },
  {
   "cell_type": "code",
   "execution_count": 515,
   "id": "041410db",
   "metadata": {},
   "outputs": [
    {
     "name": "stdout",
     "output_type": "stream",
     "text": [
      "             77699.6 |  69482.0\n",
      "             91234.8 | 108098.0\n",
      "            157000.0 | 189000.0\n",
      "            114400.0 | 115000.0\n",
      "             81107.0 |  47412.0\n",
      "            144200.0 | 200000.0\n",
      "             89447.6 |  84019.0\n",
      "            114244.6 |  80172.0\n",
      "             25696.8 |  37834.0\n",
      "             32732.8 |  43239.0\n",
      "             93995.6 | 148648.0\n",
      "             67955.2 | 150000.0\n",
      "            101841.4 | 183000.0\n",
      "             61183.4 |  64859.0\n",
      "             64084.2 |  70264.0\n",
      "            137222.2 | 150000.0\n",
      "             89391.4 |  66810.0\n",
      "             51088.8 |  45360.0\n",
      "            108568.8 |  84000.0\n",
      "             35110.2 |  38916.0\n"
     ]
    }
   ],
   "source": [
    "# Compare the predicted values against the actual ones for the first 20 rows of the test set\n",
    "for i in range(20):\n",
    "    print(\"{:20} | {:8}\".format(y_pred[i], y_test.iloc[i]))"
   ]
  },
  {
   "cell_type": "code",
   "execution_count": 516,
   "id": "68d0de8e",
   "metadata": {},
   "outputs": [
    {
     "name": "stdout",
     "output_type": "stream",
     "text": [
      "MSE: 945672800.7366457\n",
      "RMSE: 30751.793455612402\n",
      "MAE: 22486.907701329164\n",
      "R2 SCORE: 0.5362295942395088\n",
      "\n",
      "# CROSS VALIDATION #\n",
      "FITTING TIME: [0.02210999 0.01705217 0.01773024 0.01756907 0.01769662] -> 0.018431615829467774\n",
      "SCORING TIME: [0.02880359 0.02524137 0.02322173 0.02455568 0.02606988] -> 0.02557845115661621\n",
      "TRAIN SCORE: [0.592653   0.5570698  0.57451764 0.57033384 0.56632381] -> 0.5721796203252181\n",
      "TEST SCORE: [0.47670446 0.51800082 0.53046507 0.52423282 0.52989812] -> 0.5158602591509626\n"
     ]
    }
   ],
   "source": [
    "# Results of metrics\n",
    "mse, rmse, mae, r2 = mean_squared_error(y_test, y_pred), mean_squared_error(y_test, y_pred, squared=False), \\\n",
    "    mean_absolute_error(y_test, y_pred), r2_score(y_test, y_pred)\n",
    "print(\"MSE:\", mse)        \n",
    "print(\"RMSE:\", rmse)      \n",
    "print(\"MAE:\", mae)        \n",
    "print(\"R2 SCORE:\", r2)  \n",
    "res_mse.append(mse)\n",
    "res_rmse.append(rmse)\n",
    "res_mae.append(mae)\n",
    "res_r2.append(r2)\n",
    "print(\"\\n# CROSS VALIDATION #\")\n",
    "cross_val = cross_validate(knnreg, X, Y, cv=5, return_train_score=True)\n",
    "print(\"FITTING TIME:\", cross_val['fit_time'], \"->\", cross_val['fit_time'].mean())\n",
    "print(\"SCORING TIME:\", cross_val['score_time'], \"->\", cross_val['score_time'].mean())\n",
    "print(\"TRAIN SCORE:\", cross_val['train_score'], \"->\", cross_val['train_score'].mean())\n",
    "res_cv_train.append(cross_val['train_score'].mean())\n",
    "print(\"TEST SCORE:\", cross_val['test_score'], \"->\", cross_val['test_score'].mean())\n",
    "res_cv_test.append(cross_val['test_score'].mean())"
   ]
  },
  {
   "cell_type": "markdown",
   "id": "310b4f4c",
   "metadata": {},
   "source": [
    "## 8 - Gradient Boosting"
   ]
  },
  {
   "cell_type": "code",
   "execution_count": 517,
   "id": "98cadb72",
   "metadata": {},
   "outputs": [
    {
     "data": {
      "text/plain": [
       "{'alpha': 0.9,\n",
       " 'ccp_alpha': 0.0,\n",
       " 'criterion': 'friedman_mse',\n",
       " 'init': None,\n",
       " 'learning_rate': 0.1,\n",
       " 'loss': 'squared_error',\n",
       " 'max_depth': 3,\n",
       " 'max_features': None,\n",
       " 'max_leaf_nodes': None,\n",
       " 'min_impurity_decrease': 0.0,\n",
       " 'min_samples_leaf': 1,\n",
       " 'min_samples_split': 2,\n",
       " 'min_weight_fraction_leaf': 0.0,\n",
       " 'n_estimators': 100,\n",
       " 'n_iter_no_change': None,\n",
       " 'random_state': None,\n",
       " 'subsample': 1.0,\n",
       " 'tol': 0.0001,\n",
       " 'validation_fraction': 0.1,\n",
       " 'verbose': 0,\n",
       " 'warm_start': False}"
      ]
     },
     "execution_count": 517,
     "metadata": {},
     "output_type": "execute_result"
    }
   ],
   "source": [
    "gradBoost = GradientBoostingRegressor()\n",
    "gradBoost.get_params()"
   ]
  },
  {
   "cell_type": "code",
   "execution_count": 518,
   "id": "b962debe",
   "metadata": {},
   "outputs": [],
   "source": [
    "# Fit the training data into the Gradient boosting regression model, then make predictions on the test data\n",
    "gradBoost.fit(x_train, y_train)\n",
    "y_pred = gradBoost.predict(x_test)"
   ]
  },
  {
   "cell_type": "code",
   "execution_count": 519,
   "id": "a33ea39d",
   "metadata": {},
   "outputs": [
    {
     "name": "stdout",
     "output_type": "stream",
     "text": [
      "INIT: DummyRegressor()\n",
      "ESTIMATORS (FIRST 5):\n",
      "[[DecisionTreeRegressor(criterion='friedman_mse', max_depth=3,\n",
      "                        random_state=RandomState(MT19937) at 0x23EB2B02440)]\n",
      " [DecisionTreeRegressor(criterion='friedman_mse', max_depth=3,\n",
      "                        random_state=RandomState(MT19937) at 0x23EB2B02440)]\n",
      " [DecisionTreeRegressor(criterion='friedman_mse', max_depth=3,\n",
      "                        random_state=RandomState(MT19937) at 0x23EB2B02440)]\n",
      " [DecisionTreeRegressor(criterion='friedman_mse', max_depth=3,\n",
      "                        random_state=RandomState(MT19937) at 0x23EB2B02440)]\n",
      " [DecisionTreeRegressor(criterion='friedman_mse', max_depth=3,\n",
      "                        random_state=RandomState(MT19937) at 0x23EB2B02440)]]\n",
      "# OF ESTIMATORS: 100\n",
      "# OF FEATURES: 3\n",
      "MAX FEATURES: 3\n",
      "FEATURE IMPORTANCES: [0.80896203 0.01302359 0.17801438]\n",
      "TRAIN SCORE:\n",
      "[1.87086443e+09 1.71886100e+09 1.59490770e+09 1.49381354e+09\n",
      " 1.41133577e+09 1.34362740e+09 1.28778785e+09 1.24212929e+09\n",
      " 1.20438358e+09 1.16433263e+09 1.13191381e+09 1.10657734e+09\n",
      " 1.08726740e+09 1.06665619e+09 1.04480587e+09 1.03238108e+09\n",
      " 1.01630981e+09 1.00723459e+09 9.93114209e+08 9.82230993e+08\n",
      " 9.75777031e+08 9.67239551e+08 9.61133688e+08 9.53223981e+08\n",
      " 9.49010613e+08 9.44551650e+08 9.37577085e+08 9.33346455e+08\n",
      " 9.30720322e+08 9.23775759e+08 9.18109329e+08 9.14564659e+08\n",
      " 9.04143250e+08 9.01078455e+08 8.96643367e+08 8.90181405e+08\n",
      " 8.86277417e+08 8.82653102e+08 8.75119172e+08 8.72601849e+08\n",
      " 8.66249945e+08 8.64637999e+08 8.62439929e+08 8.60859173e+08\n",
      " 8.58195141e+08 8.55891525e+08 8.53959633e+08 8.52128174e+08\n",
      " 8.47442023e+08 8.45807350e+08 8.42556694e+08 8.40599658e+08\n",
      " 8.39398708e+08 8.38121386e+08 8.34584141e+08 8.33533168e+08\n",
      " 8.32408239e+08 8.26759042e+08 8.25757336e+08 8.24835050e+08\n",
      " 8.20245397e+08 8.18460880e+08 8.17642267e+08 8.16828834e+08\n",
      " 8.16019770e+08 8.13882178e+08 8.12605874e+08 8.11960400e+08\n",
      " 8.10534392e+08 8.09617369e+08 8.08691548e+08 8.08115764e+08\n",
      " 8.07792934e+08 8.06915889e+08 8.06117575e+08 8.05666785e+08\n",
      " 8.03156164e+08 8.02504357e+08 8.01139354e+08 8.00211167e+08\n",
      " 7.99520915e+08 7.99148797e+08 7.98585856e+08 7.97849559e+08\n",
      " 7.96720028e+08 7.96175914e+08 7.95683424e+08 7.95221577e+08\n",
      " 7.94310734e+08 7.93706093e+08 7.93292593e+08 7.92912553e+08\n",
      " 7.92285801e+08 7.91606753e+08 7.91291272e+08 7.90340050e+08\n",
      " 7.90149818e+08 7.89945464e+08 7.89308290e+08 7.89135986e+08]\n"
     ]
    }
   ],
   "source": [
    "print(\"INIT:\", gradBoost.init_)  # The estimator that provides the initial predictions\n",
    "print(\"ESTIMATORS (FIRST 5):\\n{}\".format(gradBoost.estimators_[:5]))  # The collection of fitted sub-estimators\n",
    "# The number of estimators as selected by early stopping (if 'n_iter_no_change' is specified).\n",
    "# Otherwise, it is set to 'n_estimators'\n",
    "print(\"# OF ESTIMATORS:\", gradBoost.n_estimators_)\n",
    "print(\"# OF FEATURES:\", gradBoost.n_features_in_)  # Number of features seen during fit\n",
    "print(\"MAX FEATURES:\", gradBoost.max_features_)  # The inferred value of max_features\n",
    "print(\"FEATURE IMPORTANCES:\", gradBoost.feature_importances_)  # The impurity-based feature importances\n",
    "# The i'th score 'train_score[i]' is the loss of the model at iteration i on the in-bag sample.\n",
    "# If subsample == 1, this is the loss on the training data.\n",
    "print(\"TRAIN SCORE:\\n{}\".format(gradBoost.train_score_))"
   ]
  },
  {
   "cell_type": "code",
   "execution_count": 520,
   "id": "6a8e50e9",
   "metadata": {},
   "outputs": [
    {
     "name": "stdout",
     "output_type": "stream",
     "text": [
      "   76896.26693277963 |  69482.0\n",
      "   73910.38134015667 | 108098.0\n",
      "  125648.41189866792 | 189000.0\n",
      "  108097.07669676433 | 115000.0\n",
      "    79229.9685313311 |  47412.0\n",
      "  131171.61182665025 | 200000.0\n",
      "   86761.49861832052 |  84019.0\n",
      "  100835.83096147157 |  80172.0\n",
      "   36706.48623261287 |  37834.0\n",
      "   44422.58510321546 |  43239.0\n",
      "   86210.55219232905 | 148648.0\n",
      "    98230.0550792079 | 150000.0\n",
      "  137279.11535459533 | 183000.0\n",
      "  53973.781127793605 |  64859.0\n",
      "  64682.905449980135 |  70264.0\n",
      "   139558.2333861344 | 150000.0\n",
      "   98813.03929730406 |  66810.0\n",
      "   44955.70580631011 |  45360.0\n",
      "   92879.79674765201 |  84000.0\n",
      "    41822.2529856576 |  38916.0\n"
     ]
    }
   ],
   "source": [
    "# Compare the predicted values against the actual ones for the first 20 rows of the test set\n",
    "for i in range(20):\n",
    "    print(\"{:20} | {:8}\".format(y_pred[i], y_test.iloc[i]))"
   ]
  },
  {
   "cell_type": "code",
   "execution_count": 521,
   "id": "75c9e108",
   "metadata": {},
   "outputs": [
    {
     "name": "stdout",
     "output_type": "stream",
     "text": [
      "MSE: 792979420.3062683\n",
      "RMSE: 28159.890275110596\n",
      "MAE: 20828.64876429225\n",
      "R2 SCORE: 0.611112440551653\n",
      "\n",
      "# CROSS VALIDATION #\n",
      "FITTING TIME: [0.4971869  0.49495149 0.49329996 0.48064518 0.48533034] -> 0.4902827739715576\n",
      "SCORING TIME: [0.01060176 0.0105722  0.00951958 0.00861382 0.00858688] -> 0.009578847885131836\n",
      "TRAIN SCORE: [0.62719616 0.61166886 0.61511242 0.61115973 0.61280334] -> 0.6155881015470428\n",
      "TEST SCORE: [0.56358903 0.61879183 0.6103431  0.61341002 0.6273147 ] -> 0.6066897368066979\n"
     ]
    }
   ],
   "source": [
    "# Results of metrics\n",
    "mse, rmse, mae, r2 = mean_squared_error(y_test, y_pred), mean_squared_error(y_test, y_pred, squared=False), \\\n",
    "    mean_absolute_error(y_test, y_pred), r2_score(y_test, y_pred)\n",
    "print(\"MSE:\", mse)        \n",
    "print(\"RMSE:\", rmse)      \n",
    "print(\"MAE:\", mae)        \n",
    "print(\"R2 SCORE:\", r2)  \n",
    "res_mse.append(mse)\n",
    "res_rmse.append(rmse)\n",
    "res_mae.append(mae)\n",
    "res_r2.append(r2)\n",
    "print(\"\\n# CROSS VALIDATION #\")\n",
    "cross_val = cross_validate(gradBoost, X, Y, cv=5, return_train_score=True)\n",
    "print(\"FITTING TIME:\", cross_val['fit_time'], \"->\", cross_val['fit_time'].mean())\n",
    "print(\"SCORING TIME:\", cross_val['score_time'], \"->\", cross_val['score_time'].mean())\n",
    "print(\"TRAIN SCORE:\", cross_val['train_score'], \"->\", cross_val['train_score'].mean())\n",
    "res_cv_train.append(cross_val['train_score'].mean())\n",
    "print(\"TEST SCORE:\", cross_val['test_score'], \"->\", cross_val['test_score'].mean())\n",
    "res_cv_test.append(cross_val['test_score'].mean())"
   ]
  },
  {
   "cell_type": "markdown",
   "id": "0baa8e92",
   "metadata": {},
   "source": [
    "## 9 - XGBoost"
   ]
  },
  {
   "cell_type": "code",
   "execution_count": 522,
   "id": "27c70f16",
   "metadata": {},
   "outputs": [
    {
     "data": {
      "text/plain": [
       "{'objective': 'reg:squarederror',\n",
       " 'base_score': None,\n",
       " 'booster': None,\n",
       " 'callbacks': None,\n",
       " 'colsample_bylevel': None,\n",
       " 'colsample_bynode': None,\n",
       " 'colsample_bytree': None,\n",
       " 'device': None,\n",
       " 'early_stopping_rounds': None,\n",
       " 'enable_categorical': False,\n",
       " 'eval_metric': None,\n",
       " 'feature_types': None,\n",
       " 'gamma': None,\n",
       " 'grow_policy': None,\n",
       " 'importance_type': None,\n",
       " 'interaction_constraints': None,\n",
       " 'learning_rate': None,\n",
       " 'max_bin': None,\n",
       " 'max_cat_threshold': None,\n",
       " 'max_cat_to_onehot': None,\n",
       " 'max_delta_step': None,\n",
       " 'max_depth': None,\n",
       " 'max_leaves': None,\n",
       " 'min_child_weight': None,\n",
       " 'missing': nan,\n",
       " 'monotone_constraints': None,\n",
       " 'multi_strategy': None,\n",
       " 'n_estimators': None,\n",
       " 'n_jobs': None,\n",
       " 'num_parallel_tree': None,\n",
       " 'random_state': None,\n",
       " 'reg_alpha': None,\n",
       " 'reg_lambda': None,\n",
       " 'sampling_method': None,\n",
       " 'scale_pos_weight': None,\n",
       " 'subsample': None,\n",
       " 'tree_method': None,\n",
       " 'validate_parameters': None,\n",
       " 'verbosity': None}"
      ]
     },
     "execution_count": 522,
     "metadata": {},
     "output_type": "execute_result"
    }
   ],
   "source": [
    "xgb = xgboost.XGBRegressor()\n",
    "xgb.get_params()"
   ]
  },
  {
   "cell_type": "code",
   "execution_count": 523,
   "id": "d28e18c0",
   "metadata": {},
   "outputs": [],
   "source": [
    "# Fit the training data into the extreme gradient boosting regression model, then make predictions on the test data\n",
    "xgb.fit(x_train, y_train)\n",
    "y_pred = xgb.predict(x_test)"
   ]
  },
  {
   "cell_type": "code",
   "execution_count": 524,
   "id": "fa612d65",
   "metadata": {},
   "outputs": [
    {
     "name": "stdout",
     "output_type": "stream",
     "text": [
      "       82057.8828125 |  69482.0\n",
      "        80753.890625 | 108098.0\n",
      "      125122.1953125 | 189000.0\n",
      "      108910.7109375 | 115000.0\n",
      "       79794.9921875 |  47412.0\n",
      "      130230.1640625 | 200000.0\n",
      "       89801.3828125 |  84019.0\n",
      "      119303.4609375 |  80172.0\n",
      "      29956.78515625 |  37834.0\n",
      "         39531.34375 |  43239.0\n",
      "        83642.890625 | 148648.0\n",
      "       98428.7734375 | 150000.0\n",
      "       136424.765625 | 183000.0\n",
      "      53607.75390625 |  64859.0\n",
      "      63987.31640625 |  70264.0\n",
      "        113297.71875 | 150000.0\n",
      "         77486.34375 |  66810.0\n",
      "        41322.890625 |  45360.0\n",
      "        96857.265625 |  84000.0\n",
      "      36902.90234375 |  38916.0\n"
     ]
    }
   ],
   "source": [
    "# Compare the predicted values against the actual ones for the first 20 rows of the test set\n",
    "for i in range(20):\n",
    "    print(\"{:20} | {:8}\".format(y_pred[i], y_test.iloc[i]))"
   ]
  },
  {
   "cell_type": "code",
   "execution_count": 525,
   "id": "eeb0ac8d",
   "metadata": {},
   "outputs": [
    {
     "name": "stdout",
     "output_type": "stream",
     "text": [
      "MSE: 803029528.4103857\n",
      "RMSE: 28337.775643306686\n",
      "MAE: 20767.66126204096\n",
      "R2 SCORE: 0.6061837350736562\n",
      "\n",
      "# CROSS VALIDATION #\n",
      "FITTING TIME: [0.11077189 0.08768415 0.08973527 0.08883953 0.08916068] -> 0.09323830604553222\n",
      "SCORING TIME: [0.00500941 0.00499892 0.00401187 0.0049994  0.00500464] -> 0.004804849624633789\n",
      "TRAIN SCORE: [0.65740268 0.64252977 0.64475971 0.64187667 0.64186795] -> 0.6456873561197756\n",
      "TEST SCORE: [0.55180472 0.61379306 0.59965172 0.60638124 0.62137076] -> 0.5986003007745474\n"
     ]
    }
   ],
   "source": [
    "# Results of metrics\n",
    "mse, rmse, mae, r2 = mean_squared_error(y_test, y_pred), mean_squared_error(y_test, y_pred, squared=False), \\\n",
    "    mean_absolute_error(y_test, y_pred), r2_score(y_test, y_pred)\n",
    "print(\"MSE:\", mse)        \n",
    "print(\"RMSE:\", rmse)      \n",
    "print(\"MAE:\", mae)        \n",
    "print(\"R2 SCORE:\", r2)  \n",
    "res_mse.append(mse)\n",
    "res_rmse.append(rmse)\n",
    "res_mae.append(mae)\n",
    "res_r2.append(r2)\n",
    "print(\"\\n# CROSS VALIDATION #\")\n",
    "cross_val = cross_validate(xgb, X, Y, cv=5, return_train_score=True)\n",
    "print(\"FITTING TIME:\", cross_val['fit_time'], \"->\", cross_val['fit_time'].mean())\n",
    "print(\"SCORING TIME:\", cross_val['score_time'], \"->\", cross_val['score_time'].mean())\n",
    "print(\"TRAIN SCORE:\", cross_val['train_score'], \"->\", cross_val['train_score'].mean())\n",
    "res_cv_train.append(cross_val['train_score'].mean())\n",
    "print(\"TEST SCORE:\", cross_val['test_score'], \"->\", cross_val['test_score'].mean())\n",
    "res_cv_test.append(cross_val['test_score'].mean())"
   ]
  },
  {
   "cell_type": "markdown",
   "id": "eaa5dd79",
   "metadata": {},
   "source": [
    "## Results of Metrics of All ML Models Together"
   ]
  },
  {
   "cell_type": "code",
   "execution_count": 526,
   "id": "57c0271f",
   "metadata": {},
   "outputs": [
    {
     "data": {
      "image/png": "[encoded data removed]",
      "text/plain": [
       "<Figure size 900x400 with 1 Axes>"
      ]
     },
     "metadata": {},
     "output_type": "display_data"
    }
   ],
   "source": [
    "methods = ['LinReg', 'Lasso', 'Ridge', 'PolyLasso', 'PolyRidge', 'DTree', 'RForest', 'KNNReg', 'GradBoost', 'XGBoost']\n",
    "plt.figure(figsize=(9,4))\n",
    "plt.barh(range(10), res_mse, color='#00afff')\n",
    "plt.title(\"MSE Results\", fontsize=18, fontweight='bold')\n",
    "plt.yticks(range(10), methods)\n",
    "plt.ylim(9.7,-0.7)\n",
    "plt.xlabel('MSE Values', fontsize=13, fontweight='bold')\n",
    "plt.ylabel('ML Models', fontsize=13, fontweight='bold')\n",
    "for i in range(10):\n",
    "    plt.text(res_mse[i]-300000000, i+0.12, \"{:.3f}\".format(res_mse[i]), fontweight='bold')\n",
    "plt.show()"
   ]
  },
  {
   "cell_type": "code",
   "execution_count": 527,
   "id": "fcadeeb4",
   "metadata": {},
   "outputs": [
    {
     "data": {
      "image/png": "[encoded data removed]",
      "text/plain": [
       "<Figure size 900x400 with 1 Axes>"
      ]
     },
     "metadata": {},
     "output_type": "display_data"
    }
   ],
   "source": [
    "plt.figure(figsize=(9,4))\n",
    "plt.barh(range(10), res_rmse, color='#00afff')\n",
    "plt.title(\"RMSE Results\", fontsize=18, fontweight='bold')\n",
    "plt.yticks(range(10), methods)\n",
    "plt.ylim(9.7,-0.7)\n",
    "plt.xlabel('RMSE Values', fontsize=13, fontweight='bold')\n",
    "plt.ylabel('ML Models', fontsize=13, fontweight='bold')\n",
    "for i in range(10):\n",
    "    plt.text(res_rmse[i]-4500, i+0.12, \"{:.2f}\".format(res_rmse[i]), fontweight='bold')\n",
    "plt.show()"
   ]
  },
  {
   "cell_type": "code",
   "execution_count": 528,
   "id": "50ac8e20",
   "metadata": {},
   "outputs": [
    {
     "data": {
      "image/png": "[encoded data removed]",
      "text/plain": [
       "<Figure size 900x400 with 1 Axes>"
      ]
     },
     "metadata": {},
     "output_type": "display_data"
    }
   ],
   "source": [
    "plt.figure(figsize=(9,4))\n",
    "plt.barh(range(10), res_mae, color='#00afff')\n",
    "plt.title(\"MAE Results\", fontsize=18, fontweight='bold')\n",
    "plt.yticks(range(10), methods)\n",
    "plt.ylim(9.7,-0.7)\n",
    "plt.xlabel('MAE Values', fontsize=13, fontweight='bold')\n",
    "plt.ylabel('ML Models', fontsize=13, fontweight='bold')\n",
    "for i in range(10):\n",
    "    plt.text(res_mae[i]-4000, i+0.12, \"{:.3f}\".format(res_mae[i]), fontweight='bold')\n",
    "plt.show()"
   ]
  },
  {
   "cell_type": "code",
   "execution_count": 529,
   "id": "64c364ff",
   "metadata": {},
   "outputs": [
    {
     "data": {
      "image/png": "[encoded data removed]",
      "text/plain": [
       "<Figure size 900x400 with 1 Axes>"
      ]
     },
     "metadata": {},
     "output_type": "display_data"
    }
   ],
   "source": [
    "plt.figure(figsize=(9,4))\n",
    "plt.barh(range(10), res_r2, color='#00afff')\n",
    "plt.title(\"R2 Score Results\", fontsize=18, fontweight='bold')\n",
    "plt.yticks(range(10), methods)\n",
    "plt.ylim(9.7,-0.7)\n",
    "plt.xlabel('R2 Scores', fontsize=13, fontweight='bold')\n",
    "plt.ylabel('ML Models', fontsize=13, fontweight='bold')\n",
    "for i in range(10):\n",
    "    plt.text(res_r2[i]-0.06, i+0.12, \"{:.4f}\".format(res_r2[i]), fontweight='bold')\n",
    "plt.show()"
   ]
  },
  {
   "cell_type": "code",
   "execution_count": 530,
   "id": "3d837131",
   "metadata": {},
   "outputs": [
    {
     "data": {
      "image/png": "[encoded data removed]",
      "text/plain": [
       "<Figure size 900x400 with 1 Axes>"
      ]
     },
     "metadata": {},
     "output_type": "display_data"
    }
   ],
   "source": [
    "plt.figure(figsize=(9,4))\n",
    "plt.barh(range(10), res_cv_train, color='#00afff')\n",
    "plt.title(\"5-Fold CV Results (Train)\", fontsize=18, fontweight='bold')\n",
    "plt.yticks(range(10), methods)\n",
    "plt.ylim(9.7,-0.7)\n",
    "plt.xlabel('Train Scores', fontsize=13, fontweight='bold')\n",
    "plt.ylabel('ML Models', fontsize=13, fontweight='bold')\n",
    "for i in range(10):\n",
    "    plt.text(res_cv_train[i]-0.06, i+0.12, \"{:.4f}\".format(res_cv_train[i]), fontweight='bold')\n",
    "plt.show()"
   ]
  },
  {
   "cell_type": "code",
   "execution_count": 531,
   "id": "b8a26313",
   "metadata": {},
   "outputs": [
    {
     "data": {
      "image/png": "[encoded data removed]",
      "text/plain": [
       "<Figure size 900x400 with 1 Axes>"
      ]
     },
     "metadata": {},
     "output_type": "display_data"
    }
   ],
   "source": [
    "plt.figure(figsize=(9,4))\n",
    "plt.barh(range(10), res_cv_test, color='#00afff')\n",
    "plt.title(\"5-Fold CV Results (Test)\", fontsize=18, fontweight='bold')\n",
    "plt.yticks(range(10), methods)\n",
    "plt.ylim(9.7,-0.7)\n",
    "plt.xlabel('Test Scores', fontsize=13, fontweight='bold')\n",
    "plt.ylabel('ML Models', fontsize=13, fontweight='bold')\n",
    "for i in range(10):\n",
    "    plt.text(res_cv_test[i]-0.06, i+0.12, \"{:.4f}\".format(res_cv_test[i]), fontweight='bold')\n",
    "plt.show()"
   ]
  }
 ],
 "metadata": {
  "kernelspec": {
   "display_name": "Python 3 (ipykernel)",
   "language": "python",
   "name": "python3"
  },
  "language_info": {
   "codemirror_mode": {
    "name": "ipython",
    "version": 3
   },
   "file_extension": ".py",
   "mimetype": "text/x-python",
   "name": "python",
   "nbconvert_exporter": "python",
   "pygments_lexer": "ipython3",
   "version": "3.10.8"
  }
 },
 "nbformat": 4,
 "nbformat_minor": 5
}
