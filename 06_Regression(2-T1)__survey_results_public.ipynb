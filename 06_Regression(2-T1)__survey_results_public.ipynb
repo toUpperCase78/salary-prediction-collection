{
 "cells": [
  {
   "cell_type": "markdown",
   "id": "4e2ec67f",
   "metadata": {},
   "source": [
    "# 06. jhanvi831/Software-Engineer-Salary-Prediction\n",
    "\n",
    "## Predictions with ML Regression Models | Series 2 (T1) - survey_results_public.csv"
   ]
  },
  {
   "cell_type": "code",
   "execution_count": 1,
   "id": "17d11bfe",
   "metadata": {},
   "outputs": [],
   "source": [
    "import numpy as np\n",
    "import pandas as pd \n",
    "import matplotlib.pyplot as plt \n",
    "import seaborn as sns\n",
    "import warnings\n",
    "import time\n",
    "warnings.filterwarnings('ignore')\n",
    "from sklearn.linear_model import LinearRegression, Lasso, Ridge, QuantileRegressor\n",
    "from sklearn.tree import DecisionTreeRegressor\n",
    "from sklearn.ensemble import RandomForestRegressor, GradientBoostingRegressor\n",
    "from sklearn.neighbors import KNeighborsRegressor\n",
    "from sklearn.svm import SVR\n",
    "from sklearn.neural_network import MLPRegressor\n",
    "import xgboost\n",
    "from sklearn.model_selection import train_test_split, cross_val_score, cross_validate\n",
    "from sklearn.preprocessing import OneHotEncoder, LabelEncoder, PolynomialFeatures, StandardScaler, MinMaxScaler\n",
    "from sklearn.metrics import mean_squared_error, mean_absolute_error, r2_score, get_scorer_names\n",
    "df = pd.read_csv('06_survey_results_public.csv')"
   ]
  },
  {
   "cell_type": "code",
   "execution_count": 2,
   "id": "958407cc",
   "metadata": {},
   "outputs": [
    {
     "data": {
      "text/html": [
       "<div>\n",
       "<style scoped>\n",
       "    .dataframe tbody tr th:only-of-type {\n",
       "        vertical-align: middle;\n",
       "    }\n",
       "\n",
       "    .dataframe tbody tr th {\n",
       "        vertical-align: top;\n",
       "    }\n",
       "\n",
       "    .dataframe thead th {\n",
       "        text-align: right;\n",
       "    }\n",
       "</style>\n",
       "<table border=\"1\" class=\"dataframe\">\n",
       "  <thead>\n",
       "    <tr style=\"text-align: right;\">\n",
       "      <th></th>\n",
       "      <th>ResponseId</th>\n",
       "      <th>MainBranch</th>\n",
       "      <th>Employment</th>\n",
       "      <th>Country</th>\n",
       "      <th>US_State</th>\n",
       "      <th>UK_Country</th>\n",
       "      <th>EdLevel</th>\n",
       "      <th>Age1stCode</th>\n",
       "      <th>LearnCode</th>\n",
       "      <th>YearsCode</th>\n",
       "      <th>...</th>\n",
       "      <th>Age</th>\n",
       "      <th>Gender</th>\n",
       "      <th>Trans</th>\n",
       "      <th>Sexuality</th>\n",
       "      <th>Ethnicity</th>\n",
       "      <th>Accessibility</th>\n",
       "      <th>MentalHealth</th>\n",
       "      <th>SurveyLength</th>\n",
       "      <th>SurveyEase</th>\n",
       "      <th>ConvertedCompYearly</th>\n",
       "    </tr>\n",
       "  </thead>\n",
       "  <tbody>\n",
       "    <tr>\n",
       "      <th>0</th>\n",
       "      <td>1</td>\n",
       "      <td>I am a developer by profession</td>\n",
       "      <td>Independent contractor, freelancer, or self-em...</td>\n",
       "      <td>Slovakia</td>\n",
       "      <td>NaN</td>\n",
       "      <td>NaN</td>\n",
       "      <td>Secondary school (e.g. American high school, G...</td>\n",
       "      <td>18 - 24 years</td>\n",
       "      <td>Coding Bootcamp;Other online resources (ex: vi...</td>\n",
       "      <td>NaN</td>\n",
       "      <td>...</td>\n",
       "      <td>25-34 years old</td>\n",
       "      <td>Man</td>\n",
       "      <td>No</td>\n",
       "      <td>Straight / Heterosexual</td>\n",
       "      <td>White or of European descent</td>\n",
       "      <td>None of the above</td>\n",
       "      <td>None of the above</td>\n",
       "      <td>Appropriate in length</td>\n",
       "      <td>Easy</td>\n",
       "      <td>62268.0</td>\n",
       "    </tr>\n",
       "    <tr>\n",
       "      <th>1</th>\n",
       "      <td>2</td>\n",
       "      <td>I am a student who is learning to code</td>\n",
       "      <td>Student, full-time</td>\n",
       "      <td>Netherlands</td>\n",
       "      <td>NaN</td>\n",
       "      <td>NaN</td>\n",
       "      <td>Bachelor’s degree (B.A., B.S., B.Eng., etc.)</td>\n",
       "      <td>11 - 17 years</td>\n",
       "      <td>Other online resources (ex: videos, blogs, etc...</td>\n",
       "      <td>7</td>\n",
       "      <td>...</td>\n",
       "      <td>18-24 years old</td>\n",
       "      <td>Man</td>\n",
       "      <td>No</td>\n",
       "      <td>Straight / Heterosexual</td>\n",
       "      <td>White or of European descent</td>\n",
       "      <td>None of the above</td>\n",
       "      <td>None of the above</td>\n",
       "      <td>Appropriate in length</td>\n",
       "      <td>Easy</td>\n",
       "      <td>NaN</td>\n",
       "    </tr>\n",
       "    <tr>\n",
       "      <th>2</th>\n",
       "      <td>3</td>\n",
       "      <td>I am not primarily a developer, but I write co...</td>\n",
       "      <td>Student, full-time</td>\n",
       "      <td>Russian Federation</td>\n",
       "      <td>NaN</td>\n",
       "      <td>NaN</td>\n",
       "      <td>Bachelor’s degree (B.A., B.S., B.Eng., etc.)</td>\n",
       "      <td>11 - 17 years</td>\n",
       "      <td>Other online resources (ex: videos, blogs, etc...</td>\n",
       "      <td>NaN</td>\n",
       "      <td>...</td>\n",
       "      <td>18-24 years old</td>\n",
       "      <td>Man</td>\n",
       "      <td>No</td>\n",
       "      <td>Prefer not to say</td>\n",
       "      <td>Prefer not to say</td>\n",
       "      <td>None of the above</td>\n",
       "      <td>None of the above</td>\n",
       "      <td>Appropriate in length</td>\n",
       "      <td>Easy</td>\n",
       "      <td>NaN</td>\n",
       "    </tr>\n",
       "    <tr>\n",
       "      <th>3</th>\n",
       "      <td>4</td>\n",
       "      <td>I am a developer by profession</td>\n",
       "      <td>Employed full-time</td>\n",
       "      <td>Austria</td>\n",
       "      <td>NaN</td>\n",
       "      <td>NaN</td>\n",
       "      <td>Master’s degree (M.A., M.S., M.Eng., MBA, etc.)</td>\n",
       "      <td>11 - 17 years</td>\n",
       "      <td>NaN</td>\n",
       "      <td>NaN</td>\n",
       "      <td>...</td>\n",
       "      <td>35-44 years old</td>\n",
       "      <td>Man</td>\n",
       "      <td>No</td>\n",
       "      <td>Straight / Heterosexual</td>\n",
       "      <td>White or of European descent</td>\n",
       "      <td>I am deaf / hard of hearing</td>\n",
       "      <td>NaN</td>\n",
       "      <td>Appropriate in length</td>\n",
       "      <td>Neither easy nor difficult</td>\n",
       "      <td>NaN</td>\n",
       "    </tr>\n",
       "    <tr>\n",
       "      <th>4</th>\n",
       "      <td>5</td>\n",
       "      <td>I am a developer by profession</td>\n",
       "      <td>Independent contractor, freelancer, or self-em...</td>\n",
       "      <td>United Kingdom of Great Britain and Northern I...</td>\n",
       "      <td>NaN</td>\n",
       "      <td>England</td>\n",
       "      <td>Master’s degree (M.A., M.S., M.Eng., MBA, etc.)</td>\n",
       "      <td>5 - 10 years</td>\n",
       "      <td>Friend or family member</td>\n",
       "      <td>17</td>\n",
       "      <td>...</td>\n",
       "      <td>25-34 years old</td>\n",
       "      <td>Man</td>\n",
       "      <td>No</td>\n",
       "      <td>NaN</td>\n",
       "      <td>White or of European descent</td>\n",
       "      <td>None of the above</td>\n",
       "      <td>NaN</td>\n",
       "      <td>Appropriate in length</td>\n",
       "      <td>Easy</td>\n",
       "      <td>NaN</td>\n",
       "    </tr>\n",
       "  </tbody>\n",
       "</table>\n",
       "<p>5 rows × 48 columns</p>\n",
       "</div>"
      ],
      "text/plain": [
       "   ResponseId                                         MainBranch  \\\n",
       "0           1                     I am a developer by profession   \n",
       "1           2             I am a student who is learning to code   \n",
       "2           3  I am not primarily a developer, but I write co...   \n",
       "3           4                     I am a developer by profession   \n",
       "4           5                     I am a developer by profession   \n",
       "\n",
       "                                          Employment  \\\n",
       "0  Independent contractor, freelancer, or self-em...   \n",
       "1                                 Student, full-time   \n",
       "2                                 Student, full-time   \n",
       "3                                 Employed full-time   \n",
       "4  Independent contractor, freelancer, or self-em...   \n",
       "\n",
       "                                             Country US_State UK_Country  \\\n",
       "0                                           Slovakia      NaN        NaN   \n",
       "1                                        Netherlands      NaN        NaN   \n",
       "2                                 Russian Federation      NaN        NaN   \n",
       "3                                            Austria      NaN        NaN   \n",
       "4  United Kingdom of Great Britain and Northern I...      NaN    England   \n",
       "\n",
       "                                             EdLevel     Age1stCode  \\\n",
       "0  Secondary school (e.g. American high school, G...  18 - 24 years   \n",
       "1       Bachelor’s degree (B.A., B.S., B.Eng., etc.)  11 - 17 years   \n",
       "2       Bachelor’s degree (B.A., B.S., B.Eng., etc.)  11 - 17 years   \n",
       "3    Master’s degree (M.A., M.S., M.Eng., MBA, etc.)  11 - 17 years   \n",
       "4    Master’s degree (M.A., M.S., M.Eng., MBA, etc.)   5 - 10 years   \n",
       "\n",
       "                                           LearnCode YearsCode  ...  \\\n",
       "0  Coding Bootcamp;Other online resources (ex: vi...       NaN  ...   \n",
       "1  Other online resources (ex: videos, blogs, etc...         7  ...   \n",
       "2  Other online resources (ex: videos, blogs, etc...       NaN  ...   \n",
       "3                                                NaN       NaN  ...   \n",
       "4                            Friend or family member        17  ...   \n",
       "\n",
       "               Age Gender Trans                Sexuality  \\\n",
       "0  25-34 years old    Man    No  Straight / Heterosexual   \n",
       "1  18-24 years old    Man    No  Straight / Heterosexual   \n",
       "2  18-24 years old    Man    No        Prefer not to say   \n",
       "3  35-44 years old    Man    No  Straight / Heterosexual   \n",
       "4  25-34 years old    Man    No                      NaN   \n",
       "\n",
       "                      Ethnicity                Accessibility  \\\n",
       "0  White or of European descent            None of the above   \n",
       "1  White or of European descent            None of the above   \n",
       "2             Prefer not to say            None of the above   \n",
       "3  White or of European descent  I am deaf / hard of hearing   \n",
       "4  White or of European descent            None of the above   \n",
       "\n",
       "        MentalHealth           SurveyLength                  SurveyEase  \\\n",
       "0  None of the above  Appropriate in length                        Easy   \n",
       "1  None of the above  Appropriate in length                        Easy   \n",
       "2  None of the above  Appropriate in length                        Easy   \n",
       "3                NaN  Appropriate in length  Neither easy nor difficult   \n",
       "4                NaN  Appropriate in length                        Easy   \n",
       "\n",
       "  ConvertedCompYearly  \n",
       "0             62268.0  \n",
       "1                 NaN  \n",
       "2                 NaN  \n",
       "3                 NaN  \n",
       "4                 NaN  \n",
       "\n",
       "[5 rows x 48 columns]"
      ]
     },
     "execution_count": 2,
     "metadata": {},
     "output_type": "execute_result"
    }
   ],
   "source": [
    "# First 5 rows of the dataset\n",
    "df.head()"
   ]
  },
  {
   "cell_type": "code",
   "execution_count": 3,
   "id": "953f4e49",
   "metadata": {},
   "outputs": [
    {
     "data": {
      "text/html": [
       "<div>\n",
       "<style scoped>\n",
       "    .dataframe tbody tr th:only-of-type {\n",
       "        vertical-align: middle;\n",
       "    }\n",
       "\n",
       "    .dataframe tbody tr th {\n",
       "        vertical-align: top;\n",
       "    }\n",
       "\n",
       "    .dataframe thead th {\n",
       "        text-align: right;\n",
       "    }\n",
       "</style>\n",
       "<table border=\"1\" class=\"dataframe\">\n",
       "  <thead>\n",
       "    <tr style=\"text-align: right;\">\n",
       "      <th></th>\n",
       "      <th>ResponseId</th>\n",
       "      <th>MainBranch</th>\n",
       "      <th>Employment</th>\n",
       "      <th>Country</th>\n",
       "      <th>US_State</th>\n",
       "      <th>UK_Country</th>\n",
       "      <th>EdLevel</th>\n",
       "      <th>Age1stCode</th>\n",
       "      <th>LearnCode</th>\n",
       "      <th>YearsCode</th>\n",
       "      <th>...</th>\n",
       "      <th>Age</th>\n",
       "      <th>Gender</th>\n",
       "      <th>Trans</th>\n",
       "      <th>Sexuality</th>\n",
       "      <th>Ethnicity</th>\n",
       "      <th>Accessibility</th>\n",
       "      <th>MentalHealth</th>\n",
       "      <th>SurveyLength</th>\n",
       "      <th>SurveyEase</th>\n",
       "      <th>ConvertedCompYearly</th>\n",
       "    </tr>\n",
       "  </thead>\n",
       "  <tbody>\n",
       "    <tr>\n",
       "      <th>83434</th>\n",
       "      <td>83435</td>\n",
       "      <td>I am a developer by profession</td>\n",
       "      <td>Employed full-time</td>\n",
       "      <td>United States of America</td>\n",
       "      <td>Texas</td>\n",
       "      <td>NaN</td>\n",
       "      <td>Bachelor’s degree (B.A., B.S., B.Eng., etc.)</td>\n",
       "      <td>11 - 17 years</td>\n",
       "      <td>Other online resources (ex: videos, blogs, etc...</td>\n",
       "      <td>6</td>\n",
       "      <td>...</td>\n",
       "      <td>25-34 years old</td>\n",
       "      <td>Man</td>\n",
       "      <td>No</td>\n",
       "      <td>Straight / Heterosexual</td>\n",
       "      <td>White or of European descent</td>\n",
       "      <td>None of the above</td>\n",
       "      <td>I have a concentration and/or memory disorder ...</td>\n",
       "      <td>Appropriate in length</td>\n",
       "      <td>Easy</td>\n",
       "      <td>160500.0</td>\n",
       "    </tr>\n",
       "    <tr>\n",
       "      <th>83435</th>\n",
       "      <td>83436</td>\n",
       "      <td>I am a developer by profession</td>\n",
       "      <td>Independent contractor, freelancer, or self-em...</td>\n",
       "      <td>Benin</td>\n",
       "      <td>NaN</td>\n",
       "      <td>NaN</td>\n",
       "      <td>Bachelor’s degree (B.A., B.S., B.Eng., etc.)</td>\n",
       "      <td>11 - 17 years</td>\n",
       "      <td>Other online resources (ex: videos, blogs, etc...</td>\n",
       "      <td>4</td>\n",
       "      <td>...</td>\n",
       "      <td>18-24 years old</td>\n",
       "      <td>Man</td>\n",
       "      <td>No</td>\n",
       "      <td>Straight / Heterosexual</td>\n",
       "      <td>Black or of African descent</td>\n",
       "      <td>None of the above</td>\n",
       "      <td>None of the above</td>\n",
       "      <td>Appropriate in length</td>\n",
       "      <td>Easy</td>\n",
       "      <td>3960.0</td>\n",
       "    </tr>\n",
       "    <tr>\n",
       "      <th>83436</th>\n",
       "      <td>83437</td>\n",
       "      <td>I am a developer by profession</td>\n",
       "      <td>Employed full-time</td>\n",
       "      <td>United States of America</td>\n",
       "      <td>New Jersey</td>\n",
       "      <td>NaN</td>\n",
       "      <td>Secondary school (e.g. American high school, G...</td>\n",
       "      <td>11 - 17 years</td>\n",
       "      <td>School</td>\n",
       "      <td>10</td>\n",
       "      <td>...</td>\n",
       "      <td>25-34 years old</td>\n",
       "      <td>Man</td>\n",
       "      <td>No</td>\n",
       "      <td>NaN</td>\n",
       "      <td>White or of European descent</td>\n",
       "      <td>None of the above</td>\n",
       "      <td>None of the above</td>\n",
       "      <td>Appropriate in length</td>\n",
       "      <td>Neither easy nor difficult</td>\n",
       "      <td>90000.0</td>\n",
       "    </tr>\n",
       "    <tr>\n",
       "      <th>83437</th>\n",
       "      <td>83438</td>\n",
       "      <td>I am a developer by profession</td>\n",
       "      <td>Employed full-time</td>\n",
       "      <td>Canada</td>\n",
       "      <td>NaN</td>\n",
       "      <td>NaN</td>\n",
       "      <td>Bachelor’s degree (B.A., B.S., B.Eng., etc.)</td>\n",
       "      <td>11 - 17 years</td>\n",
       "      <td>Online Courses or Certification;Books / Physic...</td>\n",
       "      <td>5</td>\n",
       "      <td>...</td>\n",
       "      <td>25-34 years old</td>\n",
       "      <td>Man</td>\n",
       "      <td>No</td>\n",
       "      <td>Straight / Heterosexual</td>\n",
       "      <td>White or of European descent</td>\n",
       "      <td>None of the above</td>\n",
       "      <td>I have a mood or emotional disorder (e.g. depr...</td>\n",
       "      <td>Appropriate in length</td>\n",
       "      <td>Neither easy nor difficult</td>\n",
       "      <td>816816.0</td>\n",
       "    </tr>\n",
       "    <tr>\n",
       "      <th>83438</th>\n",
       "      <td>83439</td>\n",
       "      <td>I am a developer by profession</td>\n",
       "      <td>Employed full-time</td>\n",
       "      <td>Brazil</td>\n",
       "      <td>NaN</td>\n",
       "      <td>NaN</td>\n",
       "      <td>Professional degree (JD, MD, etc.)</td>\n",
       "      <td>11 - 17 years</td>\n",
       "      <td>School</td>\n",
       "      <td>14</td>\n",
       "      <td>...</td>\n",
       "      <td>18-24 years old</td>\n",
       "      <td>Man</td>\n",
       "      <td>No</td>\n",
       "      <td>Straight / Heterosexual</td>\n",
       "      <td>Hispanic or Latino/a/x</td>\n",
       "      <td>None of the above</td>\n",
       "      <td>None of the above</td>\n",
       "      <td>Appropriate in length</td>\n",
       "      <td>Easy</td>\n",
       "      <td>21168.0</td>\n",
       "    </tr>\n",
       "  </tbody>\n",
       "</table>\n",
       "<p>5 rows × 48 columns</p>\n",
       "</div>"
      ],
      "text/plain": [
       "       ResponseId                      MainBranch  \\\n",
       "83434       83435  I am a developer by profession   \n",
       "83435       83436  I am a developer by profession   \n",
       "83436       83437  I am a developer by profession   \n",
       "83437       83438  I am a developer by profession   \n",
       "83438       83439  I am a developer by profession   \n",
       "\n",
       "                                              Employment  \\\n",
       "83434                                 Employed full-time   \n",
       "83435  Independent contractor, freelancer, or self-em...   \n",
       "83436                                 Employed full-time   \n",
       "83437                                 Employed full-time   \n",
       "83438                                 Employed full-time   \n",
       "\n",
       "                        Country    US_State UK_Country  \\\n",
       "83434  United States of America       Texas        NaN   \n",
       "83435                     Benin         NaN        NaN   \n",
       "83436  United States of America  New Jersey        NaN   \n",
       "83437                    Canada         NaN        NaN   \n",
       "83438                    Brazil         NaN        NaN   \n",
       "\n",
       "                                                 EdLevel     Age1stCode  \\\n",
       "83434       Bachelor’s degree (B.A., B.S., B.Eng., etc.)  11 - 17 years   \n",
       "83435       Bachelor’s degree (B.A., B.S., B.Eng., etc.)  11 - 17 years   \n",
       "83436  Secondary school (e.g. American high school, G...  11 - 17 years   \n",
       "83437       Bachelor’s degree (B.A., B.S., B.Eng., etc.)  11 - 17 years   \n",
       "83438                 Professional degree (JD, MD, etc.)  11 - 17 years   \n",
       "\n",
       "                                               LearnCode YearsCode  ...  \\\n",
       "83434  Other online resources (ex: videos, blogs, etc...         6  ...   \n",
       "83435  Other online resources (ex: videos, blogs, etc...         4  ...   \n",
       "83436                                             School        10  ...   \n",
       "83437  Online Courses or Certification;Books / Physic...         5  ...   \n",
       "83438                                             School        14  ...   \n",
       "\n",
       "                   Age Gender Trans                Sexuality  \\\n",
       "83434  25-34 years old    Man    No  Straight / Heterosexual   \n",
       "83435  18-24 years old    Man    No  Straight / Heterosexual   \n",
       "83436  25-34 years old    Man    No                      NaN   \n",
       "83437  25-34 years old    Man    No  Straight / Heterosexual   \n",
       "83438  18-24 years old    Man    No  Straight / Heterosexual   \n",
       "\n",
       "                          Ethnicity      Accessibility  \\\n",
       "83434  White or of European descent  None of the above   \n",
       "83435   Black or of African descent  None of the above   \n",
       "83436  White or of European descent  None of the above   \n",
       "83437  White or of European descent  None of the above   \n",
       "83438        Hispanic or Latino/a/x  None of the above   \n",
       "\n",
       "                                            MentalHealth  \\\n",
       "83434  I have a concentration and/or memory disorder ...   \n",
       "83435                                  None of the above   \n",
       "83436                                  None of the above   \n",
       "83437  I have a mood or emotional disorder (e.g. depr...   \n",
       "83438                                  None of the above   \n",
       "\n",
       "                SurveyLength                  SurveyEase ConvertedCompYearly  \n",
       "83434  Appropriate in length                        Easy            160500.0  \n",
       "83435  Appropriate in length                        Easy              3960.0  \n",
       "83436  Appropriate in length  Neither easy nor difficult             90000.0  \n",
       "83437  Appropriate in length  Neither easy nor difficult            816816.0  \n",
       "83438  Appropriate in length                        Easy             21168.0  \n",
       "\n",
       "[5 rows x 48 columns]"
      ]
     },
     "execution_count": 3,
     "metadata": {},
     "output_type": "execute_result"
    }
   ],
   "source": [
    "# Last 5 rows of the dataset\n",
    "df.tail()"
   ]
  },
  {
   "cell_type": "code",
   "execution_count": 4,
   "id": "c9e66c4c",
   "metadata": {},
   "outputs": [
    {
     "name": "stdout",
     "output_type": "stream",
     "text": [
      "<class 'pandas.core.frame.DataFrame'>\n",
      "RangeIndex: 83439 entries, 0 to 83438\n",
      "Data columns (total 48 columns):\n",
      " #   Column                        Non-Null Count  Dtype  \n",
      "---  ------                        --------------  -----  \n",
      " 0   ResponseId                    83439 non-null  int64  \n",
      " 1   MainBranch                    83439 non-null  object \n",
      " 2   Employment                    83323 non-null  object \n",
      " 3   Country                       83439 non-null  object \n",
      " 4   US_State                      14920 non-null  object \n",
      " 5   UK_Country                    4418 non-null   object \n",
      " 6   EdLevel                       83126 non-null  object \n",
      " 7   Age1stCode                    83243 non-null  object \n",
      " 8   LearnCode                     82963 non-null  object \n",
      " 9   YearsCode                     81641 non-null  object \n",
      " 10  YearsCodePro                  61216 non-null  object \n",
      " 11  DevType                       66484 non-null  object \n",
      " 12  OrgSize                       60726 non-null  object \n",
      " 13  Currency                      61080 non-null  object \n",
      " 14  CompTotal                     47183 non-null  float64\n",
      " 15  CompFreq                      52150 non-null  object \n",
      " 16  LanguageHaveWorkedWith        82357 non-null  object \n",
      " 17  LanguageWantToWorkWith        76821 non-null  object \n",
      " 18  DatabaseHaveWorkedWith        69546 non-null  object \n",
      " 19  DatabaseWantToWorkWith        58299 non-null  object \n",
      " 20  PlatformHaveWorkedWith        52135 non-null  object \n",
      " 21  PlatformWantToWorkWith        41619 non-null  object \n",
      " 22  WebframeHaveWorkedWith        61707 non-null  object \n",
      " 23  WebframeWantToWorkWith        52095 non-null  object \n",
      " 24  MiscTechHaveWorkedWith        47055 non-null  object \n",
      " 25  MiscTechWantToWorkWith        38021 non-null  object \n",
      " 26  ToolsTechHaveWorkedWith       72537 non-null  object \n",
      " 27  ToolsTechWantToWorkWith       65480 non-null  object \n",
      " 28  NEWCollabToolsHaveWorkedWith  81234 non-null  object \n",
      " 29  NEWCollabToolsWantToWorkWith  73022 non-null  object \n",
      " 30  OpSys                         83294 non-null  object \n",
      " 31  NEWStuck                      83052 non-null  object \n",
      " 32  NEWSOSites                    83171 non-null  object \n",
      " 33  SOVisitFreq                   82413 non-null  object \n",
      " 34  SOAccount                     82525 non-null  object \n",
      " 35  SOPartFreq                    67553 non-null  object \n",
      " 36  SOComm                        82319 non-null  object \n",
      " 37  NEWOtherComms                 82828 non-null  object \n",
      " 38  Age                           82407 non-null  object \n",
      " 39  Gender                        82286 non-null  object \n",
      " 40  Trans                         80678 non-null  object \n",
      " 41  Sexuality                     73366 non-null  object \n",
      " 42  Ethnicity                     79464 non-null  object \n",
      " 43  Accessibility                 77603 non-null  object \n",
      " 44  MentalHealth                  76920 non-null  object \n",
      " 45  SurveyLength                  81711 non-null  object \n",
      " 46  SurveyEase                    81948 non-null  object \n",
      " 47  ConvertedCompYearly           46844 non-null  float64\n",
      "dtypes: float64(2), int64(1), object(45)\n",
      "memory usage: 30.6+ MB\n"
     ]
    }
   ],
   "source": [
    "# All available columns, their counts and data types\n",
    "df.info()"
   ]
  },
  {
   "cell_type": "markdown",
   "id": "5ddff6a2",
   "metadata": {},
   "source": [
    "## Preprocessing\n",
    "\n",
    "All preprocessing steps were carried out in almost exactly the same way as the author."
   ]
  },
  {
   "cell_type": "code",
   "execution_count": 5,
   "id": "58f24984",
   "metadata": {},
   "outputs": [
    {
     "name": "stdout",
     "output_type": "stream",
     "text": [
      "DATASET SHAPE: (83439, 5)\n"
     ]
    },
    {
     "data": {
      "text/html": [
       "<div>\n",
       "<style scoped>\n",
       "    .dataframe tbody tr th:only-of-type {\n",
       "        vertical-align: middle;\n",
       "    }\n",
       "\n",
       "    .dataframe tbody tr th {\n",
       "        vertical-align: top;\n",
       "    }\n",
       "\n",
       "    .dataframe thead th {\n",
       "        text-align: right;\n",
       "    }\n",
       "</style>\n",
       "<table border=\"1\" class=\"dataframe\">\n",
       "  <thead>\n",
       "    <tr style=\"text-align: right;\">\n",
       "      <th></th>\n",
       "      <th>Country</th>\n",
       "      <th>EdLevel</th>\n",
       "      <th>YearsCodePro</th>\n",
       "      <th>Employment</th>\n",
       "      <th>Salary</th>\n",
       "    </tr>\n",
       "  </thead>\n",
       "  <tbody>\n",
       "    <tr>\n",
       "      <th>0</th>\n",
       "      <td>Slovakia</td>\n",
       "      <td>Secondary school (e.g. American high school, G...</td>\n",
       "      <td>NaN</td>\n",
       "      <td>Independent contractor, freelancer, or self-em...</td>\n",
       "      <td>62268.0</td>\n",
       "    </tr>\n",
       "    <tr>\n",
       "      <th>1</th>\n",
       "      <td>Netherlands</td>\n",
       "      <td>Bachelor’s degree (B.A., B.S., B.Eng., etc.)</td>\n",
       "      <td>NaN</td>\n",
       "      <td>Student, full-time</td>\n",
       "      <td>NaN</td>\n",
       "    </tr>\n",
       "    <tr>\n",
       "      <th>2</th>\n",
       "      <td>Russian Federation</td>\n",
       "      <td>Bachelor’s degree (B.A., B.S., B.Eng., etc.)</td>\n",
       "      <td>NaN</td>\n",
       "      <td>Student, full-time</td>\n",
       "      <td>NaN</td>\n",
       "    </tr>\n",
       "    <tr>\n",
       "      <th>3</th>\n",
       "      <td>Austria</td>\n",
       "      <td>Master’s degree (M.A., M.S., M.Eng., MBA, etc.)</td>\n",
       "      <td>NaN</td>\n",
       "      <td>Employed full-time</td>\n",
       "      <td>NaN</td>\n",
       "    </tr>\n",
       "    <tr>\n",
       "      <th>4</th>\n",
       "      <td>United Kingdom of Great Britain and Northern I...</td>\n",
       "      <td>Master’s degree (M.A., M.S., M.Eng., MBA, etc.)</td>\n",
       "      <td>10</td>\n",
       "      <td>Independent contractor, freelancer, or self-em...</td>\n",
       "      <td>NaN</td>\n",
       "    </tr>\n",
       "    <tr>\n",
       "      <th>5</th>\n",
       "      <td>United States of America</td>\n",
       "      <td>Bachelor’s degree (B.A., B.S., B.Eng., etc.)</td>\n",
       "      <td>NaN</td>\n",
       "      <td>Student, part-time</td>\n",
       "      <td>NaN</td>\n",
       "    </tr>\n",
       "    <tr>\n",
       "      <th>6</th>\n",
       "      <td>United States of America</td>\n",
       "      <td>Secondary school (e.g. American high school, G...</td>\n",
       "      <td>NaN</td>\n",
       "      <td>I prefer not to say</td>\n",
       "      <td>NaN</td>\n",
       "    </tr>\n",
       "    <tr>\n",
       "      <th>7</th>\n",
       "      <td>Malaysia</td>\n",
       "      <td>Bachelor’s degree (B.A., B.S., B.Eng., etc.)</td>\n",
       "      <td>NaN</td>\n",
       "      <td>Student, full-time</td>\n",
       "      <td>NaN</td>\n",
       "    </tr>\n",
       "    <tr>\n",
       "      <th>8</th>\n",
       "      <td>India</td>\n",
       "      <td>Bachelor’s degree (B.A., B.S., B.Eng., etc.)</td>\n",
       "      <td>4</td>\n",
       "      <td>Employed part-time</td>\n",
       "      <td>NaN</td>\n",
       "    </tr>\n",
       "    <tr>\n",
       "      <th>9</th>\n",
       "      <td>Sweden</td>\n",
       "      <td>Master’s degree (M.A., M.S., M.Eng., MBA, etc.)</td>\n",
       "      <td>4</td>\n",
       "      <td>Employed full-time</td>\n",
       "      <td>51552.0</td>\n",
       "    </tr>\n",
       "  </tbody>\n",
       "</table>\n",
       "</div>"
      ],
      "text/plain": [
       "                                             Country  \\\n",
       "0                                           Slovakia   \n",
       "1                                        Netherlands   \n",
       "2                                 Russian Federation   \n",
       "3                                            Austria   \n",
       "4  United Kingdom of Great Britain and Northern I...   \n",
       "5                           United States of America   \n",
       "6                           United States of America   \n",
       "7                                           Malaysia   \n",
       "8                                              India   \n",
       "9                                             Sweden   \n",
       "\n",
       "                                             EdLevel YearsCodePro  \\\n",
       "0  Secondary school (e.g. American high school, G...          NaN   \n",
       "1       Bachelor’s degree (B.A., B.S., B.Eng., etc.)          NaN   \n",
       "2       Bachelor’s degree (B.A., B.S., B.Eng., etc.)          NaN   \n",
       "3    Master’s degree (M.A., M.S., M.Eng., MBA, etc.)          NaN   \n",
       "4    Master’s degree (M.A., M.S., M.Eng., MBA, etc.)           10   \n",
       "5       Bachelor’s degree (B.A., B.S., B.Eng., etc.)          NaN   \n",
       "6  Secondary school (e.g. American high school, G...          NaN   \n",
       "7       Bachelor’s degree (B.A., B.S., B.Eng., etc.)          NaN   \n",
       "8       Bachelor’s degree (B.A., B.S., B.Eng., etc.)            4   \n",
       "9    Master’s degree (M.A., M.S., M.Eng., MBA, etc.)            4   \n",
       "\n",
       "                                          Employment   Salary  \n",
       "0  Independent contractor, freelancer, or self-em...  62268.0  \n",
       "1                                 Student, full-time      NaN  \n",
       "2                                 Student, full-time      NaN  \n",
       "3                                 Employed full-time      NaN  \n",
       "4  Independent contractor, freelancer, or self-em...      NaN  \n",
       "5                                 Student, part-time      NaN  \n",
       "6                                I prefer not to say      NaN  \n",
       "7                                 Student, full-time      NaN  \n",
       "8                                 Employed part-time      NaN  \n",
       "9                                 Employed full-time  51552.0  "
      ]
     },
     "execution_count": 5,
     "metadata": {},
     "output_type": "execute_result"
    }
   ],
   "source": [
    "# Take only the meaningful columns:\n",
    "# country, education level, years of coding as professional, employment type & converted comp. yearly\n",
    "df_sub = df[[\"Country\", \"EdLevel\", \"YearsCodePro\", \"Employment\", \"ConvertedCompYearly\"]]\n",
    "# ConvertedCompYearly will be renamed to Salary\n",
    "df_sub = df_sub.rename({\"ConvertedCompYearly\": \"Salary\"}, axis=1)\n",
    "print(\"DATASET SHAPE:\", df_sub.shape)\n",
    "df_sub.head(10)"
   ]
  },
  {
   "cell_type": "code",
   "execution_count": 6,
   "id": "19fca85f",
   "metadata": {},
   "outputs": [
    {
     "name": "stdout",
     "output_type": "stream",
     "text": [
      "DATASET SHAPE AFTER REMOVAL OF NULL SALARIES: (46844, 5)\n"
     ]
    },
    {
     "data": {
      "text/html": [
       "<div>\n",
       "<style scoped>\n",
       "    .dataframe tbody tr th:only-of-type {\n",
       "        vertical-align: middle;\n",
       "    }\n",
       "\n",
       "    .dataframe tbody tr th {\n",
       "        vertical-align: top;\n",
       "    }\n",
       "\n",
       "    .dataframe thead th {\n",
       "        text-align: right;\n",
       "    }\n",
       "</style>\n",
       "<table border=\"1\" class=\"dataframe\">\n",
       "  <thead>\n",
       "    <tr style=\"text-align: right;\">\n",
       "      <th></th>\n",
       "      <th>Country</th>\n",
       "      <th>EdLevel</th>\n",
       "      <th>YearsCodePro</th>\n",
       "      <th>Employment</th>\n",
       "      <th>Salary</th>\n",
       "    </tr>\n",
       "  </thead>\n",
       "  <tbody>\n",
       "    <tr>\n",
       "      <th>0</th>\n",
       "      <td>Slovakia</td>\n",
       "      <td>Secondary school (e.g. American high school, G...</td>\n",
       "      <td>NaN</td>\n",
       "      <td>Independent contractor, freelancer, or self-em...</td>\n",
       "      <td>62268.0</td>\n",
       "    </tr>\n",
       "    <tr>\n",
       "      <th>9</th>\n",
       "      <td>Sweden</td>\n",
       "      <td>Master’s degree (M.A., M.S., M.Eng., MBA, etc.)</td>\n",
       "      <td>4</td>\n",
       "      <td>Employed full-time</td>\n",
       "      <td>51552.0</td>\n",
       "    </tr>\n",
       "    <tr>\n",
       "      <th>11</th>\n",
       "      <td>Spain</td>\n",
       "      <td>Bachelor’s degree (B.A., B.S., B.Eng., etc.)</td>\n",
       "      <td>5</td>\n",
       "      <td>Employed full-time</td>\n",
       "      <td>46482.0</td>\n",
       "    </tr>\n",
       "    <tr>\n",
       "      <th>12</th>\n",
       "      <td>Germany</td>\n",
       "      <td>Master’s degree (M.A., M.S., M.Eng., MBA, etc.)</td>\n",
       "      <td>6</td>\n",
       "      <td>Employed full-time</td>\n",
       "      <td>77290.0</td>\n",
       "    </tr>\n",
       "    <tr>\n",
       "      <th>16</th>\n",
       "      <td>Turkey</td>\n",
       "      <td>Bachelor’s degree (B.A., B.S., B.Eng., etc.)</td>\n",
       "      <td>2</td>\n",
       "      <td>Employed full-time</td>\n",
       "      <td>17748.0</td>\n",
       "    </tr>\n",
       "    <tr>\n",
       "      <th>17</th>\n",
       "      <td>Canada</td>\n",
       "      <td>Bachelor’s degree (B.A., B.S., B.Eng., etc.)</td>\n",
       "      <td>6</td>\n",
       "      <td>Employed full-time</td>\n",
       "      <td>46135.0</td>\n",
       "    </tr>\n",
       "    <tr>\n",
       "      <th>18</th>\n",
       "      <td>Singapore</td>\n",
       "      <td>Other doctoral degree (Ph.D., Ed.D., etc.)</td>\n",
       "      <td>30</td>\n",
       "      <td>I prefer not to say</td>\n",
       "      <td>160932.0</td>\n",
       "    </tr>\n",
       "    <tr>\n",
       "      <th>23</th>\n",
       "      <td>France</td>\n",
       "      <td>Master’s degree (M.A., M.S., M.Eng., MBA, etc.)</td>\n",
       "      <td>2</td>\n",
       "      <td>Employed full-time</td>\n",
       "      <td>38915.0</td>\n",
       "    </tr>\n",
       "    <tr>\n",
       "      <th>24</th>\n",
       "      <td>Germany</td>\n",
       "      <td>Master’s degree (M.A., M.S., M.Eng., MBA, etc.)</td>\n",
       "      <td>18</td>\n",
       "      <td>Employed full-time</td>\n",
       "      <td>77831.0</td>\n",
       "    </tr>\n",
       "    <tr>\n",
       "      <th>26</th>\n",
       "      <td>Switzerland</td>\n",
       "      <td>Master’s degree (M.A., M.S., M.Eng., MBA, etc.)</td>\n",
       "      <td>5</td>\n",
       "      <td>Employed full-time</td>\n",
       "      <td>81319.0</td>\n",
       "    </tr>\n",
       "  </tbody>\n",
       "</table>\n",
       "</div>"
      ],
      "text/plain": [
       "        Country                                            EdLevel  \\\n",
       "0      Slovakia  Secondary school (e.g. American high school, G...   \n",
       "9        Sweden    Master’s degree (M.A., M.S., M.Eng., MBA, etc.)   \n",
       "11        Spain       Bachelor’s degree (B.A., B.S., B.Eng., etc.)   \n",
       "12      Germany    Master’s degree (M.A., M.S., M.Eng., MBA, etc.)   \n",
       "16       Turkey       Bachelor’s degree (B.A., B.S., B.Eng., etc.)   \n",
       "17       Canada       Bachelor’s degree (B.A., B.S., B.Eng., etc.)   \n",
       "18    Singapore         Other doctoral degree (Ph.D., Ed.D., etc.)   \n",
       "23       France    Master’s degree (M.A., M.S., M.Eng., MBA, etc.)   \n",
       "24      Germany    Master’s degree (M.A., M.S., M.Eng., MBA, etc.)   \n",
       "26  Switzerland    Master’s degree (M.A., M.S., M.Eng., MBA, etc.)   \n",
       "\n",
       "   YearsCodePro                                         Employment    Salary  \n",
       "0           NaN  Independent contractor, freelancer, or self-em...   62268.0  \n",
       "9             4                                 Employed full-time   51552.0  \n",
       "11            5                                 Employed full-time   46482.0  \n",
       "12            6                                 Employed full-time   77290.0  \n",
       "16            2                                 Employed full-time   17748.0  \n",
       "17            6                                 Employed full-time   46135.0  \n",
       "18           30                                I prefer not to say  160932.0  \n",
       "23            2                                 Employed full-time   38915.0  \n",
       "24           18                                 Employed full-time   77831.0  \n",
       "26            5                                 Employed full-time   81319.0  "
      ]
     },
     "execution_count": 6,
     "metadata": {},
     "output_type": "execute_result"
    }
   ],
   "source": [
    "# Rows with null salaries will be removed\n",
    "df_sub = df_sub[df_sub['Salary'].notnull()]\n",
    "print(\"DATASET SHAPE AFTER REMOVAL OF NULL SALARIES:\", df_sub.shape)\n",
    "df_sub.head(10)"
   ]
  },
  {
   "cell_type": "code",
   "execution_count": 7,
   "id": "0c58f6ad",
   "metadata": {},
   "outputs": [
    {
     "name": "stdout",
     "output_type": "stream",
     "text": [
      "<class 'pandas.core.frame.DataFrame'>\n",
      "Int64Index: 46844 entries, 0 to 83438\n",
      "Data columns (total 5 columns):\n",
      " #   Column        Non-Null Count  Dtype  \n",
      "---  ------        --------------  -----  \n",
      " 0   Country       46844 non-null  object \n",
      " 1   EdLevel       46823 non-null  object \n",
      " 2   YearsCodePro  46391 non-null  object \n",
      " 3   Employment    46831 non-null  object \n",
      " 4   Salary        46844 non-null  float64\n",
      "dtypes: float64(1), object(4)\n",
      "memory usage: 2.1+ MB\n"
     ]
    }
   ],
   "source": [
    "# Info about the current dataset\n",
    "df_sub.info()"
   ]
  },
  {
   "cell_type": "code",
   "execution_count": 8,
   "id": "befedd38",
   "metadata": {},
   "outputs": [
    {
     "name": "stdout",
     "output_type": "stream",
     "text": [
      "DATASET SHAPE AFTER REMOVAL OF ROWS WITH NULL: (46359, 5)\n"
     ]
    },
    {
     "data": {
      "text/plain": [
       "Country         0\n",
       "EdLevel         0\n",
       "YearsCodePro    0\n",
       "Employment      0\n",
       "Salary          0\n",
       "dtype: int64"
      ]
     },
     "execution_count": 8,
     "metadata": {},
     "output_type": "execute_result"
    }
   ],
   "source": [
    "# Then, remove those rows containing null values. There should be no more...\n",
    "df_sub = df_sub.dropna()\n",
    "print(\"DATASET SHAPE AFTER REMOVAL OF ROWS WITH NULL:\", df_sub.shape)\n",
    "df_sub.isnull().sum()"
   ]
  },
  {
   "cell_type": "code",
   "execution_count": 9,
   "id": "b0dcf333",
   "metadata": {},
   "outputs": [
    {
     "name": "stdout",
     "output_type": "stream",
     "text": [
      "<class 'pandas.core.frame.DataFrame'>\n",
      "Int64Index: 40211 entries, 9 to 83438\n",
      "Data columns (total 4 columns):\n",
      " #   Column        Non-Null Count  Dtype  \n",
      "---  ------        --------------  -----  \n",
      " 0   Country       40211 non-null  object \n",
      " 1   EdLevel       40211 non-null  object \n",
      " 2   YearsCodePro  40211 non-null  object \n",
      " 3   Salary        40211 non-null  float64\n",
      "dtypes: float64(1), object(3)\n",
      "memory usage: 1.5+ MB\n"
     ]
    }
   ],
   "source": [
    "# Also, select such rows where person was employed as full time\n",
    "df_sub = df_sub[df_sub[\"Employment\"] == \"Employed full-time\"]\n",
    "df_sub = df_sub.drop(\"Employment\", axis=1)\n",
    "df_sub.info()"
   ]
  },
  {
   "cell_type": "code",
   "execution_count": 10,
   "id": "b0054748",
   "metadata": {},
   "outputs": [],
   "source": [
    "# Let's filter the countries such that their counts lower than the cutoff value are moved to 'Other'\n",
    "def shorten_categories(categories, cutoff):\n",
    "    categorical_map = {}\n",
    "    for i in range(len(categories)):\n",
    "        if categories.values[i] >= cutoff:\n",
    "            categorical_map[categories.index[i]] = categories.index[i]\n",
    "        else:\n",
    "            categorical_map[categories.index[i]] = 'Other'\n",
    "    return categorical_map"
   ]
  },
  {
   "cell_type": "code",
   "execution_count": 11,
   "id": "7495ffeb",
   "metadata": {},
   "outputs": [
    {
     "name": "stdout",
     "output_type": "stream",
     "text": [
      "CURRENT DATASET SHAPE: (40211, 4)\n"
     ]
    },
    {
     "data": {
      "text/plain": [
       "Other                                                   10725\n",
       "United States of America                                 9175\n",
       "India                                                    3385\n",
       "Germany                                                  2753\n",
       "United Kingdom of Great Britain and Northern Ireland     2604\n",
       "Canada                                                   1553\n",
       "France                                                   1396\n",
       "Brazil                                                   1340\n",
       "Spain                                                     890\n",
       "Netherlands                                               835\n",
       "Australia                                                 825\n",
       "Poland                                                    775\n",
       "Italy                                                     756\n",
       "Russian Federation                                        741\n",
       "Sweden                                                    735\n",
       "Turkey                                                    458\n",
       "Switzerland                                               438\n",
       "Israel                                                    425\n",
       "Norway                                                    402\n",
       "Name: Country, dtype: int64"
      ]
     },
     "execution_count": 11,
     "metadata": {},
     "output_type": "execute_result"
    }
   ],
   "source": [
    "# After that, we have these counts of countries as below\n",
    "country_map = shorten_categories(df_sub['Country'].value_counts(), 400)\n",
    "# print(country_map)\n",
    "print(\"CURRENT DATASET SHAPE:\", df_sub.shape)\n",
    "df_sub['Country'] = df_sub['Country'].map(country_map)\n",
    "df_sub['Country'].value_counts()"
   ]
  },
  {
   "cell_type": "code",
   "execution_count": 12,
   "id": "a624d7cd",
   "metadata": {},
   "outputs": [],
   "source": [
    "# It's better to remove the outliers once and for all!\n",
    "df_sub = df_sub[df_sub[\"Salary\"] <= 200000]\n",
    "df_sub = df_sub[df_sub[\"Salary\"] >= 10000]\n",
    "df_sub = df_sub[df_sub['Country'] != 'Other']  # Even other countries are dropped as well"
   ]
  },
  {
   "cell_type": "code",
   "execution_count": 13,
   "id": "b7b3a146",
   "metadata": {},
   "outputs": [
    {
     "data": {
      "image/png": "[encoded data removed]",
      "text/plain": [
       "<Figure size 1000x600 with 1 Axes>"
      ]
     },
     "metadata": {},
     "output_type": "display_data"
    }
   ],
   "source": [
    "# Box plot visualization: Salaries vs Countries\n",
    "plt.figure(figsize=(10,6))\n",
    "sns.boxplot(data=df_sub, x='Country', y='Salary')\n",
    "plt.title(\"Salaries vs Countries\", fontsize=18)\n",
    "plt.xlabel('Countries', fontsize=14)\n",
    "plt.ylabel('Salaries', fontsize=14)\n",
    "plt.xticks(rotation=90)\n",
    "plt.grid(color='#dddddd')\n",
    "plt.show()"
   ]
  },
  {
   "cell_type": "code",
   "execution_count": 14,
   "id": "881f08d7",
   "metadata": {},
   "outputs": [
    {
     "name": "stdout",
     "output_type": "stream",
     "text": [
      "CURRENT DATASET SHAPE: (25580, 4)\n"
     ]
    }
   ],
   "source": [
    "print(\"CURRENT DATASET SHAPE:\", df_sub.shape)"
   ]
  },
  {
   "cell_type": "code",
   "execution_count": 15,
   "id": "b6e08f01",
   "metadata": {},
   "outputs": [
    {
     "data": {
      "text/plain": [
       "array(['4', '5', '6', '2', '18', '21', '16', '10', 'Less than 1 year',\n",
       "       '3', '15', '12', '8', '17', '1', '14', '26', '34', '11', '25',\n",
       "       '24', '22', '13', '9', '7', '39', '20', '27', '23', '30', '19',\n",
       "       '35', '33', '43', '40', '29', '38', '31', '42', '28', '46', '32',\n",
       "       '36', '37', '47', '45', '44', '41', 'More than 50 years', '50',\n",
       "       '49', '48'], dtype=object)"
      ]
     },
     "execution_count": 15,
     "metadata": {},
     "output_type": "execute_result"
    }
   ],
   "source": [
    "# Let's check the unique values of 'years of coding as professional' column (note the data type: object)\n",
    "df_sub[\"YearsCodePro\"].unique()"
   ]
  },
  {
   "cell_type": "code",
   "execution_count": 16,
   "id": "5fdaa117",
   "metadata": {},
   "outputs": [],
   "source": [
    "# It's better to convert the such texts into numbers, so it can be processed appropriately.\n",
    "def clean_experience(x):\n",
    "    if x == 'More than 50 years':\n",
    "        return 50\n",
    "    if x == 'Less than 1 year':\n",
    "        return 0.5\n",
    "    return float(x)\n",
    "df_sub['YearsCodePro'] = df_sub['YearsCodePro'].apply(clean_experience)"
   ]
  },
  {
   "cell_type": "code",
   "execution_count": 17,
   "id": "f6bdb69f",
   "metadata": {},
   "outputs": [
    {
     "data": {
      "text/plain": [
       "array([ 4. ,  5. ,  6. ,  2. , 18. , 21. , 16. , 10. ,  0.5,  3. , 15. ,\n",
       "       12. ,  8. , 17. ,  1. , 14. , 26. , 34. , 11. , 25. , 24. , 22. ,\n",
       "       13. ,  9. ,  7. , 39. , 20. , 27. , 23. , 30. , 19. , 35. , 33. ,\n",
       "       43. , 40. , 29. , 38. , 31. , 42. , 28. , 46. , 32. , 36. , 37. ,\n",
       "       47. , 45. , 44. , 41. , 50. , 49. , 48. ])"
      ]
     },
     "execution_count": 17,
     "metadata": {},
     "output_type": "execute_result"
    }
   ],
   "source": [
    "df_sub[\"YearsCodePro\"].unique()"
   ]
  },
  {
   "cell_type": "code",
   "execution_count": 18,
   "id": "e2aee8a5",
   "metadata": {},
   "outputs": [
    {
     "data": {
      "text/plain": [
       "array(['Master’s degree (M.A., M.S., M.Eng., MBA, etc.)',\n",
       "       'Bachelor’s degree (B.A., B.S., B.Eng., etc.)',\n",
       "       'Professional degree (JD, MD, etc.)',\n",
       "       'Some college/university study without earning a degree',\n",
       "       'Other doctoral degree (Ph.D., Ed.D., etc.)', 'Something else',\n",
       "       'Primary/elementary school', 'Associate degree (A.A., A.S., etc.)',\n",
       "       'Secondary school (e.g. American high school, German Realschule or Gymnasium, etc.)'],\n",
       "      dtype=object)"
      ]
     },
     "execution_count": 18,
     "metadata": {},
     "output_type": "execute_result"
    }
   ],
   "source": [
    "# How about education levels?\n",
    "df_sub[\"EdLevel\"].unique()"
   ]
  },
  {
   "cell_type": "code",
   "execution_count": 19,
   "id": "87e5ca1f",
   "metadata": {},
   "outputs": [],
   "source": [
    "# Well, these need to be simplified, thus they can be handled easily\n",
    "def clean_education(x):\n",
    "    if 'Bachelor’s degree' in x:\n",
    "        return 'Bachelor'\n",
    "    if 'Master’s degree' in x:\n",
    "        return 'Master'\n",
    "    if 'Professional degree' in x or 'Other doctoral' in x:\n",
    "        return 'PostGrad'\n",
    "    return 'LessThanBachelor'\n",
    "df_sub['EdLevel'] = df_sub['EdLevel'].apply(clean_education)"
   ]
  },
  {
   "cell_type": "code",
   "execution_count": 20,
   "id": "42d9be04",
   "metadata": {},
   "outputs": [
    {
     "data": {
      "text/plain": [
       "array(['Master', 'Bachelor', 'PostGrad', 'LessThanBachelor'], dtype=object)"
      ]
     },
     "execution_count": 20,
     "metadata": {},
     "output_type": "execute_result"
    }
   ],
   "source": [
    "df_sub[\"EdLevel\"].unique()"
   ]
  },
  {
   "cell_type": "code",
   "execution_count": 21,
   "id": "b808f318",
   "metadata": {},
   "outputs": [],
   "source": [
    "# Simplify the country names especially for USA and United Kingdom\n",
    "def simplify_country_names(country):\n",
    "    if country == 'United States of America':\n",
    "        return 'USA'\n",
    "    elif country == 'United Kingdom of Great Britain and Northern Ireland':\n",
    "        return 'United Kingdom'\n",
    "    else:\n",
    "        return country\n",
    "df_sub['Country'] = df_sub['Country'].apply(simplify_country_names)"
   ]
  },
  {
   "cell_type": "code",
   "execution_count": 22,
   "id": "04d1688e",
   "metadata": {},
   "outputs": [
    {
     "data": {
      "text/plain": [
       "array(['Sweden', 'Spain', 'Germany', 'Turkey', 'Canada', 'France',\n",
       "       'Switzerland', 'United Kingdom', 'Russian Federation', 'Israel',\n",
       "       'USA', 'Brazil', 'Italy', 'Netherlands', 'Poland', 'Australia',\n",
       "       'India', 'Norway'], dtype=object)"
      ]
     },
     "execution_count": 22,
     "metadata": {},
     "output_type": "execute_result"
    }
   ],
   "source": [
    "df_sub['Country'].unique()"
   ]
  },
  {
   "cell_type": "markdown",
   "id": "30bde8f5",
   "metadata": {},
   "source": [
    "## Prepare Train and Test Sets"
   ]
  },
  {
   "cell_type": "code",
   "execution_count": 23,
   "id": "14d5f394",
   "metadata": {},
   "outputs": [
    {
     "name": "stdout",
     "output_type": "stream",
     "text": [
      "CURRENT DATASET SHAPE: (25580, 24)\n"
     ]
    },
    {
     "data": {
      "text/html": [
       "<div>\n",
       "<style scoped>\n",
       "    .dataframe tbody tr th:only-of-type {\n",
       "        vertical-align: middle;\n",
       "    }\n",
       "\n",
       "    .dataframe tbody tr th {\n",
       "        vertical-align: top;\n",
       "    }\n",
       "\n",
       "    .dataframe thead th {\n",
       "        text-align: right;\n",
       "    }\n",
       "</style>\n",
       "<table border=\"1\" class=\"dataframe\">\n",
       "  <thead>\n",
       "    <tr style=\"text-align: right;\">\n",
       "      <th></th>\n",
       "      <th>Bachelor</th>\n",
       "      <th>LessThanBachelor</th>\n",
       "      <th>Master</th>\n",
       "      <th>PostGrad</th>\n",
       "      <th>Australia</th>\n",
       "      <th>Brazil</th>\n",
       "      <th>Canada</th>\n",
       "      <th>France</th>\n",
       "      <th>Germany</th>\n",
       "      <th>India</th>\n",
       "      <th>...</th>\n",
       "      <th>Poland</th>\n",
       "      <th>Russian Federation</th>\n",
       "      <th>Spain</th>\n",
       "      <th>Sweden</th>\n",
       "      <th>Switzerland</th>\n",
       "      <th>Turkey</th>\n",
       "      <th>USA</th>\n",
       "      <th>United Kingdom</th>\n",
       "      <th>YearsCodePro</th>\n",
       "      <th>Salary</th>\n",
       "    </tr>\n",
       "  </thead>\n",
       "  <tbody>\n",
       "    <tr>\n",
       "      <th>9</th>\n",
       "      <td>0</td>\n",
       "      <td>0</td>\n",
       "      <td>1</td>\n",
       "      <td>0</td>\n",
       "      <td>0</td>\n",
       "      <td>0</td>\n",
       "      <td>0</td>\n",
       "      <td>0</td>\n",
       "      <td>0</td>\n",
       "      <td>0</td>\n",
       "      <td>...</td>\n",
       "      <td>0</td>\n",
       "      <td>0</td>\n",
       "      <td>0</td>\n",
       "      <td>1</td>\n",
       "      <td>0</td>\n",
       "      <td>0</td>\n",
       "      <td>0</td>\n",
       "      <td>0</td>\n",
       "      <td>4.0</td>\n",
       "      <td>51552.0</td>\n",
       "    </tr>\n",
       "    <tr>\n",
       "      <th>11</th>\n",
       "      <td>1</td>\n",
       "      <td>0</td>\n",
       "      <td>0</td>\n",
       "      <td>0</td>\n",
       "      <td>0</td>\n",
       "      <td>0</td>\n",
       "      <td>0</td>\n",
       "      <td>0</td>\n",
       "      <td>0</td>\n",
       "      <td>0</td>\n",
       "      <td>...</td>\n",
       "      <td>0</td>\n",
       "      <td>0</td>\n",
       "      <td>1</td>\n",
       "      <td>0</td>\n",
       "      <td>0</td>\n",
       "      <td>0</td>\n",
       "      <td>0</td>\n",
       "      <td>0</td>\n",
       "      <td>5.0</td>\n",
       "      <td>46482.0</td>\n",
       "    </tr>\n",
       "    <tr>\n",
       "      <th>12</th>\n",
       "      <td>0</td>\n",
       "      <td>0</td>\n",
       "      <td>1</td>\n",
       "      <td>0</td>\n",
       "      <td>0</td>\n",
       "      <td>0</td>\n",
       "      <td>0</td>\n",
       "      <td>0</td>\n",
       "      <td>1</td>\n",
       "      <td>0</td>\n",
       "      <td>...</td>\n",
       "      <td>0</td>\n",
       "      <td>0</td>\n",
       "      <td>0</td>\n",
       "      <td>0</td>\n",
       "      <td>0</td>\n",
       "      <td>0</td>\n",
       "      <td>0</td>\n",
       "      <td>0</td>\n",
       "      <td>6.0</td>\n",
       "      <td>77290.0</td>\n",
       "    </tr>\n",
       "    <tr>\n",
       "      <th>16</th>\n",
       "      <td>1</td>\n",
       "      <td>0</td>\n",
       "      <td>0</td>\n",
       "      <td>0</td>\n",
       "      <td>0</td>\n",
       "      <td>0</td>\n",
       "      <td>0</td>\n",
       "      <td>0</td>\n",
       "      <td>0</td>\n",
       "      <td>0</td>\n",
       "      <td>...</td>\n",
       "      <td>0</td>\n",
       "      <td>0</td>\n",
       "      <td>0</td>\n",
       "      <td>0</td>\n",
       "      <td>0</td>\n",
       "      <td>1</td>\n",
       "      <td>0</td>\n",
       "      <td>0</td>\n",
       "      <td>2.0</td>\n",
       "      <td>17748.0</td>\n",
       "    </tr>\n",
       "    <tr>\n",
       "      <th>17</th>\n",
       "      <td>1</td>\n",
       "      <td>0</td>\n",
       "      <td>0</td>\n",
       "      <td>0</td>\n",
       "      <td>0</td>\n",
       "      <td>0</td>\n",
       "      <td>1</td>\n",
       "      <td>0</td>\n",
       "      <td>0</td>\n",
       "      <td>0</td>\n",
       "      <td>...</td>\n",
       "      <td>0</td>\n",
       "      <td>0</td>\n",
       "      <td>0</td>\n",
       "      <td>0</td>\n",
       "      <td>0</td>\n",
       "      <td>0</td>\n",
       "      <td>0</td>\n",
       "      <td>0</td>\n",
       "      <td>6.0</td>\n",
       "      <td>46135.0</td>\n",
       "    </tr>\n",
       "    <tr>\n",
       "      <th>23</th>\n",
       "      <td>0</td>\n",
       "      <td>0</td>\n",
       "      <td>1</td>\n",
       "      <td>0</td>\n",
       "      <td>0</td>\n",
       "      <td>0</td>\n",
       "      <td>0</td>\n",
       "      <td>1</td>\n",
       "      <td>0</td>\n",
       "      <td>0</td>\n",
       "      <td>...</td>\n",
       "      <td>0</td>\n",
       "      <td>0</td>\n",
       "      <td>0</td>\n",
       "      <td>0</td>\n",
       "      <td>0</td>\n",
       "      <td>0</td>\n",
       "      <td>0</td>\n",
       "      <td>0</td>\n",
       "      <td>2.0</td>\n",
       "      <td>38915.0</td>\n",
       "    </tr>\n",
       "    <tr>\n",
       "      <th>24</th>\n",
       "      <td>0</td>\n",
       "      <td>0</td>\n",
       "      <td>1</td>\n",
       "      <td>0</td>\n",
       "      <td>0</td>\n",
       "      <td>0</td>\n",
       "      <td>0</td>\n",
       "      <td>0</td>\n",
       "      <td>1</td>\n",
       "      <td>0</td>\n",
       "      <td>...</td>\n",
       "      <td>0</td>\n",
       "      <td>0</td>\n",
       "      <td>0</td>\n",
       "      <td>0</td>\n",
       "      <td>0</td>\n",
       "      <td>0</td>\n",
       "      <td>0</td>\n",
       "      <td>0</td>\n",
       "      <td>18.0</td>\n",
       "      <td>77831.0</td>\n",
       "    </tr>\n",
       "    <tr>\n",
       "      <th>26</th>\n",
       "      <td>0</td>\n",
       "      <td>0</td>\n",
       "      <td>1</td>\n",
       "      <td>0</td>\n",
       "      <td>0</td>\n",
       "      <td>0</td>\n",
       "      <td>0</td>\n",
       "      <td>0</td>\n",
       "      <td>0</td>\n",
       "      <td>0</td>\n",
       "      <td>...</td>\n",
       "      <td>0</td>\n",
       "      <td>0</td>\n",
       "      <td>0</td>\n",
       "      <td>0</td>\n",
       "      <td>1</td>\n",
       "      <td>0</td>\n",
       "      <td>0</td>\n",
       "      <td>0</td>\n",
       "      <td>5.0</td>\n",
       "      <td>81319.0</td>\n",
       "    </tr>\n",
       "    <tr>\n",
       "      <th>27</th>\n",
       "      <td>1</td>\n",
       "      <td>0</td>\n",
       "      <td>0</td>\n",
       "      <td>0</td>\n",
       "      <td>0</td>\n",
       "      <td>0</td>\n",
       "      <td>0</td>\n",
       "      <td>0</td>\n",
       "      <td>0</td>\n",
       "      <td>0</td>\n",
       "      <td>...</td>\n",
       "      <td>0</td>\n",
       "      <td>0</td>\n",
       "      <td>0</td>\n",
       "      <td>0</td>\n",
       "      <td>0</td>\n",
       "      <td>0</td>\n",
       "      <td>0</td>\n",
       "      <td>1</td>\n",
       "      <td>21.0</td>\n",
       "      <td>68507.0</td>\n",
       "    </tr>\n",
       "    <tr>\n",
       "      <th>29</th>\n",
       "      <td>0</td>\n",
       "      <td>0</td>\n",
       "      <td>1</td>\n",
       "      <td>0</td>\n",
       "      <td>0</td>\n",
       "      <td>0</td>\n",
       "      <td>0</td>\n",
       "      <td>0</td>\n",
       "      <td>0</td>\n",
       "      <td>0</td>\n",
       "      <td>...</td>\n",
       "      <td>0</td>\n",
       "      <td>1</td>\n",
       "      <td>0</td>\n",
       "      <td>0</td>\n",
       "      <td>0</td>\n",
       "      <td>0</td>\n",
       "      <td>0</td>\n",
       "      <td>0</td>\n",
       "      <td>16.0</td>\n",
       "      <td>37752.0</td>\n",
       "    </tr>\n",
       "  </tbody>\n",
       "</table>\n",
       "<p>10 rows × 24 columns</p>\n",
       "</div>"
      ],
      "text/plain": [
       "    Bachelor  LessThanBachelor  Master  PostGrad  Australia  Brazil  Canada  \\\n",
       "9          0                 0       1         0          0       0       0   \n",
       "11         1                 0       0         0          0       0       0   \n",
       "12         0                 0       1         0          0       0       0   \n",
       "16         1                 0       0         0          0       0       0   \n",
       "17         1                 0       0         0          0       0       1   \n",
       "23         0                 0       1         0          0       0       0   \n",
       "24         0                 0       1         0          0       0       0   \n",
       "26         0                 0       1         0          0       0       0   \n",
       "27         1                 0       0         0          0       0       0   \n",
       "29         0                 0       1         0          0       0       0   \n",
       "\n",
       "    France  Germany  India  ...  Poland  Russian Federation  Spain  Sweden  \\\n",
       "9        0        0      0  ...       0                   0      0       1   \n",
       "11       0        0      0  ...       0                   0      1       0   \n",
       "12       0        1      0  ...       0                   0      0       0   \n",
       "16       0        0      0  ...       0                   0      0       0   \n",
       "17       0        0      0  ...       0                   0      0       0   \n",
       "23       1        0      0  ...       0                   0      0       0   \n",
       "24       0        1      0  ...       0                   0      0       0   \n",
       "26       0        0      0  ...       0                   0      0       0   \n",
       "27       0        0      0  ...       0                   0      0       0   \n",
       "29       0        0      0  ...       0                   1      0       0   \n",
       "\n",
       "    Switzerland  Turkey  USA  United Kingdom  YearsCodePro   Salary  \n",
       "9             0       0    0               0           4.0  51552.0  \n",
       "11            0       0    0               0           5.0  46482.0  \n",
       "12            0       0    0               0           6.0  77290.0  \n",
       "16            0       1    0               0           2.0  17748.0  \n",
       "17            0       0    0               0           6.0  46135.0  \n",
       "23            0       0    0               0           2.0  38915.0  \n",
       "24            0       0    0               0          18.0  77831.0  \n",
       "26            1       0    0               0           5.0  81319.0  \n",
       "27            0       0    0               1          21.0  68507.0  \n",
       "29            0       0    0               0          16.0  37752.0  \n",
       "\n",
       "[10 rows x 24 columns]"
      ]
     },
     "execution_count": 23,
     "metadata": {},
     "output_type": "execute_result"
    }
   ],
   "source": [
    "# Unlike what was done in 1st regression series, we'll create dummy variables for both education levels and countries\n",
    "dummy_edu = pd.get_dummies(df_sub['EdLevel'])\n",
    "dummy_country = pd.get_dummies(df_sub['Country'])\n",
    "df_sub2 = pd.concat([dummy_edu, dummy_country, df_sub['YearsCodePro'], df_sub['Salary']], axis=1)\n",
    "print(\"CURRENT DATASET SHAPE:\", df_sub2.shape)\n",
    "df_sub2.head(10)"
   ]
  },
  {
   "cell_type": "code",
   "execution_count": 24,
   "id": "947b4b3a",
   "metadata": {},
   "outputs": [
    {
     "data": {
      "image/png": "[encoded data removed]",
      "text/plain": [
       "<Figure size 900x600 with 2 Axes>"
      ]
     },
     "metadata": {},
     "output_type": "display_data"
    },
    {
     "name": "stdout",
     "output_type": "stream",
     "text": [
      "#### COLUMN CORRELATIONS AGAINST SALARIES ####\n",
      "Bachelor              0.044882\n",
      "LessThanBachelor     -0.051838\n",
      "Master               -0.015085\n",
      "PostGrad              0.021090\n",
      "Australia             0.021316\n",
      "Brazil               -0.208763\n",
      "Canada                0.008739\n",
      "France               -0.123342\n",
      "Germany              -0.069303\n",
      "India                -0.315436\n",
      "Israel                0.086299\n",
      "Italy                -0.140597\n",
      "Netherlands          -0.049947\n",
      "Norway                0.013708\n",
      "Poland               -0.136783\n",
      "Russian Federation   -0.135182\n",
      "Spain                -0.133264\n",
      "Sweden               -0.063445\n",
      "Switzerland           0.073046\n",
      "Turkey               -0.115985\n",
      "USA                   0.605722\n",
      "United Kingdom       -0.005894\n",
      "YearsCodePro          0.352294\n",
      "Salary                1.000000\n",
      "Name: Salary, dtype: float64\n"
     ]
    }
   ],
   "source": [
    "# The correlations of all presented columns\n",
    "plt.figure(figsize=(9,6))\n",
    "sns.heatmap(df_sub2.corr())\n",
    "plt.show()\n",
    "print(\"#### COLUMN CORRELATIONS AGAINST SALARIES ####\")\n",
    "print(df_sub2.corr()['Salary'])"
   ]
  },
  {
   "cell_type": "markdown",
   "id": "2813210f-da33-479f-ba43-a5626e43f44d",
   "metadata": {},
   "source": [
    "### Type 1: Use All Columns"
   ]
  },
  {
   "cell_type": "code",
   "execution_count": 25,
   "id": "e2be7113",
   "metadata": {},
   "outputs": [
    {
     "name": "stdout",
     "output_type": "stream",
     "text": [
      "TRAIN SIZE: (20464, 23) (20464,)   TEST SIZE: (5116, 23) (5116,)\n"
     ]
    }
   ],
   "source": [
    "# Use 80% of the dataset as training, and 20% as testing\n",
    "X = df_sub2.drop(columns='Salary', axis=1)\n",
    "Y = df_sub2.iloc[:,-1]\n",
    "x_train, x_test, y_train, y_test = train_test_split(X, Y, test_size=0.2, random_state=21)\n",
    "print(\"TRAIN SIZE:\", x_train.shape, y_train.shape, \"  TEST SIZE:\", x_test.shape, y_test.shape)"
   ]
  },
  {
   "cell_type": "code",
   "execution_count": 26,
   "id": "615a8626",
   "metadata": {},
   "outputs": [],
   "source": [
    "# Create lists to store results of error values of all regression methods\n",
    "res_mse, res_rmse, res_mae, res_r2, res_cv_train, res_cv_test = [], [], [], [], [], []"
   ]
  },
  {
   "cell_type": "markdown",
   "id": "0d688d9d",
   "metadata": {},
   "source": [
    "# ML Regression Models\n",
    "\n",
    "## 1 - Linear Regression"
   ]
  },
  {
   "cell_type": "code",
   "execution_count": 27,
   "id": "c0e5353b",
   "metadata": {},
   "outputs": [
    {
     "data": {
      "text/plain": [
       "{'copy_X': True,\n",
       " 'fit_intercept': True,\n",
       " 'n_jobs': None,\n",
       " 'normalize': 'deprecated',\n",
       " 'positive': False}"
      ]
     },
     "execution_count": 27,
     "metadata": {},
     "output_type": "execute_result"
    }
   ],
   "source": [
    "linreg = LinearRegression()\n",
    "linreg.get_params()"
   ]
  },
  {
   "cell_type": "code",
   "execution_count": 28,
   "id": "d5044612",
   "metadata": {},
   "outputs": [
    {
     "name": "stdout",
     "output_type": "stream",
     "text": [
      ">>> Fitting and prediction were completed in 0.018 seconds.\n"
     ]
    }
   ],
   "source": [
    "# Fit the training data into the linear reg. model, then make predictions on the test data\n",
    "s_time = time.time()\n",
    "linreg.fit(x_train, y_train)\n",
    "y_pred = linreg.predict(x_test)\n",
    "print(\">>> Fitting and prediction were completed in {:.3f} seconds.\".format(time.time()-s_time))"
   ]
  },
  {
   "cell_type": "code",
   "execution_count": 29,
   "id": "b1fcf4a5",
   "metadata": {},
   "outputs": [
    {
     "name": "stdout",
     "output_type": "stream",
     "text": [
      "COEF: [ 6.28506714e+15  6.28506714e+15  6.28506714e+15  6.28506714e+15\n",
      " -3.86862542e+15 -3.86862542e+15 -3.86862542e+15 -3.86862542e+15\n",
      " -3.86862542e+15 -3.86862542e+15 -3.86862542e+15 -3.86862542e+15\n",
      " -3.86862542e+15 -3.86862542e+15 -3.86862542e+15 -3.86862542e+15\n",
      " -3.86862542e+15 -3.86862542e+15 -3.86862542e+15 -3.86862542e+15\n",
      " -3.86862542e+15 -3.86862542e+15  1.49423988e+03]\n",
      "RANK: 23\n",
      "INTERCEPT: -2416441724900456.0\n"
     ]
    }
   ],
   "source": [
    "print(\"COEF:\", linreg.coef_)   # Estimated coefficients for the linear reg.\n",
    "print(\"RANK:\", linreg.rank_)   # Rank of matrix\n",
    "print(\"INTERCEPT:\", linreg.intercept_)   # Independent term in the linear model"
   ]
  },
  {
   "cell_type": "code",
   "execution_count": 30,
   "id": "dbd41d6c",
   "metadata": {},
   "outputs": [
    {
     "name": "stdout",
     "output_type": "stream",
     "text": [
      "             75729.5 |  69482.0\n",
      "             72744.0 | 108098.0\n",
      "            114715.5 | 189000.0\n",
      "            110232.5 | 115000.0\n",
      "             77224.0 |  47412.0\n",
      "            123681.0 | 200000.0\n",
      "             82635.0 |  84019.0\n",
      "            105614.5 |  80172.0\n",
      "             42079.5 |  37834.0\n",
      "             39614.0 |  43239.0\n",
      "             78152.0 | 148648.0\n",
      "            107244.0 | 150000.0\n",
      "            129578.0 | 183000.0\n",
      "             50298.0 |  64859.0\n",
      "             65272.5 |  70264.0\n",
      "            129708.5 | 150000.0\n",
      "            109854.5 |  66810.0\n",
      "             34345.0 |  45360.0\n",
      "            101697.0 |  84000.0\n",
      "             35192.5 |  38916.0\n"
     ]
    }
   ],
   "source": [
    "# Compare the predicted values against the actual ones for the first 20 rows of the test set\n",
    "for i in range(20):\n",
    "    print(\"{:20} | {:8}\".format(y_pred[i], y_test.iloc[i]))"
   ]
  },
  {
   "cell_type": "code",
   "execution_count": 31,
   "id": "bed0a4ab",
   "metadata": {},
   "outputs": [
    {
     "name": "stdout",
     "output_type": "stream",
     "text": [
      "MSE: 850458517.8364445\n",
      "RMSE: 29162.621930074198\n",
      "MAE: 21447.474687255668\n",
      "R2 SCORE: 0.5829239335294021\n",
      "\n",
      "# CROSS VALIDATION #\n",
      "FITTING TIME: [0.02852345 0.01800251 0.01866794 0.03014827 0.01597524] -> 0.022263479232788087\n",
      "SCORING TIME: [0.00202703 0.00199986 0.         0.00197744 0.        ] -> 0.00120086669921875\n",
      "TRAIN SCORE: [0.59865407 0.58357911 0.58690778 0.58243698 0.58240006] -> 0.5867956006996141\n",
      "TEST SCORE: [0.5385086  0.5948729  0.58283936 0.58650609 0.60416335] -> 0.5813780607711615\n"
     ]
    }
   ],
   "source": [
    "# Results of metrics\n",
    "mse, rmse, mae, r2 = mean_squared_error(y_test, y_pred), mean_squared_error(y_test, y_pred, squared=False), \\\n",
    "    mean_absolute_error(y_test, y_pred), r2_score(y_test, y_pred)\n",
    "print(\"MSE:\", mse)         # Mean squared error\n",
    "print(\"RMSE:\", rmse)       # Root mean squared error\n",
    "print(\"MAE:\", mae)         # Mean absolute error\n",
    "print(\"R2 SCORE:\", r2)     # R2 score\n",
    "res_mse.append(mse)\n",
    "res_rmse.append(rmse)\n",
    "res_mae.append(mae)\n",
    "res_r2.append(r2)\n",
    "print(\"\\n# CROSS VALIDATION #\")\n",
    "cross_val = cross_validate(linreg, X, Y, cv=5, return_train_score=True)    # 5-fold Cross Validation\n",
    "print(\"FITTING TIME:\", cross_val['fit_time'], \"->\", cross_val['fit_time'].mean())\n",
    "print(\"SCORING TIME:\", cross_val['score_time'], \"->\", cross_val['score_time'].mean())\n",
    "print(\"TRAIN SCORE:\", cross_val['train_score'], \"->\", cross_val['train_score'].mean())\n",
    "res_cv_train.append(cross_val['train_score'].mean())\n",
    "print(\"TEST SCORE:\", cross_val['test_score'], \"->\", cross_val['test_score'].mean())\n",
    "res_cv_test.append(cross_val['test_score'].mean())"
   ]
  },
  {
   "cell_type": "markdown",
   "id": "639c2667",
   "metadata": {},
   "source": [
    "## 2 - Lasso Regression"
   ]
  },
  {
   "cell_type": "code",
   "execution_count": 32,
   "id": "6ddee1b1",
   "metadata": {},
   "outputs": [
    {
     "data": {
      "text/plain": [
       "{'alpha': 1.0,\n",
       " 'copy_X': True,\n",
       " 'fit_intercept': True,\n",
       " 'max_iter': 1000,\n",
       " 'normalize': 'deprecated',\n",
       " 'positive': False,\n",
       " 'precompute': False,\n",
       " 'random_state': None,\n",
       " 'selection': 'cyclic',\n",
       " 'tol': 0.0001,\n",
       " 'warm_start': False}"
      ]
     },
     "execution_count": 32,
     "metadata": {},
     "output_type": "execute_result"
    }
   ],
   "source": [
    "lasso = Lasso()\n",
    "lasso.get_params()"
   ]
  },
  {
   "cell_type": "code",
   "execution_count": 33,
   "id": "ab374c92",
   "metadata": {},
   "outputs": [
    {
     "name": "stdout",
     "output_type": "stream",
     "text": [
      ">>> Fitting and prediction were completed in 5.000 seconds.\n"
     ]
    }
   ],
   "source": [
    "# Fit the training data into the lasso model, then make predictions on the test data\n",
    "s_time = time.time()\n",
    "lasso.fit(x_train, y_train)\n",
    "y_pred = lasso.predict(x_test)\n",
    "print(\">>> Fitting and prediction were completed in {:.3f} seconds.\".format(time.time()-s_time))"
   ]
  },
  {
   "cell_type": "code",
   "execution_count": 34,
   "id": "93d1e25e",
   "metadata": {},
   "outputs": [
    {
     "name": "stdout",
     "output_type": "stream",
     "text": [
      "COEF: [  -778.60267216  -8428.60655199   3750.71881424   2315.88053155\n",
      "   9029.59866365 -35717.38852141   8659.54563887 -19669.75339732\n",
      "  -3056.45051792 -36619.01243347  37686.62508413 -31650.12645915\n",
      "  -6717.40557037  10582.23710742 -26812.35804504 -30068.82439779\n",
      " -27213.2622166  -10746.7035444   31037.67259218 -32428.34085934\n",
      "  46391.37957131   4044.56916839   1495.29968307]\n",
      "INTERCEPT: 57113.88288205667\n",
      "ITERATIONS: 1000\n"
     ]
    }
   ],
   "source": [
    "print(\"COEF:\", lasso.coef_)   # Parameter vector (w in the cost function function formula)\n",
    "print(\"INTERCEPT:\", lasso.intercept_)   # Independent term in decision function\n",
    "# Number of iterations run by the coord. descent solver to reach the specified tolerance\n",
    "print(\"ITERATIONS:\", lasso.n_iter_)  "
   ]
  },
  {
   "cell_type": "code",
   "execution_count": 35,
   "id": "e6be6282",
   "metadata": {},
   "outputs": [
    {
     "name": "stdout",
     "output_type": "stream",
     "text": [
      "   75831.97665503796 |  69482.0\n",
      "   72761.14800908841 | 108098.0\n",
      "  114689.05724576635 | 189000.0\n",
      "  110203.15819655322 | 115000.0\n",
      "   77327.27633810899 |  47412.0\n",
      "  123660.85534419262 | 200000.0\n",
      "   82635.83915987152 |  84019.0\n",
      "  105737.97031645883 |  80172.0\n",
      "   41942.49814051571 |  37834.0\n",
      "   39681.57301864732 |  43239.0\n",
      "    78149.9401106584 | 148648.0\n",
      "  107212.55883041114 | 150000.0\n",
      "  129685.47651367048 | 183000.0\n",
      "   50166.64639740645 |  64859.0\n",
      "    65284.6495937332 |  70264.0\n",
      "  129745.93791405068 | 150000.0\n",
      "  110050.36390119694 |  66810.0\n",
      "    34374.0371320504 |  45360.0\n",
      "  101498.40370937934 |  84000.0\n",
      "  34996.721665027304 |  38916.0\n"
     ]
    }
   ],
   "source": [
    "# Compare the predicted values against the actual ones for the first 20 rows of the test set\n",
    "for i in range(20):\n",
    "    print(\"{:20} | {:8}\".format(y_pred[i], y_test.iloc[i]))"
   ]
  },
  {
   "cell_type": "code",
   "execution_count": 36,
   "id": "9dcf844a",
   "metadata": {},
   "outputs": [
    {
     "name": "stdout",
     "output_type": "stream",
     "text": [
      "MSE: 850469377.6342824\n",
      "RMSE: 29162.80812326348\n",
      "MAE: 21445.588424721118\n",
      "R2 SCORE: 0.5829186077414066\n",
      "\n",
      "# CROSS VALIDATION #\n",
      "FITTING TIME: [5.05236816 4.94772267 4.96891332 5.14623332 4.92890406] -> 5.0088283061981205\n",
      "SCORING TIME: [0.00199842 0.         0.         0.         0.        ] -> 0.0003996849060058594\n",
      "TRAIN SCORE: [0.59866554 0.58363913 0.58691846 0.58244987 0.58240008] -> 0.5868146161781836\n",
      "TEST SCORE: [0.53865014 0.59486684 0.58282793 0.58650191 0.60417282] -> 0.5814039301798134\n"
     ]
    }
   ],
   "source": [
    "# Results of metrics\n",
    "mse, rmse, mae, r2 = mean_squared_error(y_test, y_pred), mean_squared_error(y_test, y_pred, squared=False), \\\n",
    "    mean_absolute_error(y_test, y_pred), r2_score(y_test, y_pred)\n",
    "print(\"MSE:\", mse)          \n",
    "print(\"RMSE:\", rmse)       \n",
    "print(\"MAE:\", mae)        \n",
    "print(\"R2 SCORE:\", r2)\n",
    "res_mse.append(mse)\n",
    "res_rmse.append(rmse)\n",
    "res_mae.append(mae)\n",
    "res_r2.append(r2)\n",
    "print(\"\\n# CROSS VALIDATION #\")\n",
    "cross_val = cross_validate(lasso, X, Y, cv=5, return_train_score=True)\n",
    "print(\"FITTING TIME:\", cross_val['fit_time'], \"->\", cross_val['fit_time'].mean())\n",
    "print(\"SCORING TIME:\", cross_val['score_time'], \"->\", cross_val['score_time'].mean())\n",
    "print(\"TRAIN SCORE:\", cross_val['train_score'], \"->\", cross_val['train_score'].mean())\n",
    "res_cv_train.append(cross_val['train_score'].mean())\n",
    "print(\"TEST SCORE:\", cross_val['test_score'], \"->\", cross_val['test_score'].mean())\n",
    "res_cv_test.append(cross_val['test_score'].mean())"
   ]
  },
  {
   "cell_type": "markdown",
   "id": "d4e54acd",
   "metadata": {},
   "source": [
    "## 3 - Ridge Regression"
   ]
  },
  {
   "cell_type": "code",
   "execution_count": 37,
   "id": "a0489cd1",
   "metadata": {},
   "outputs": [
    {
     "data": {
      "text/plain": [
       "{'alpha': 1.0,\n",
       " 'copy_X': True,\n",
       " 'fit_intercept': True,\n",
       " 'max_iter': None,\n",
       " 'normalize': 'deprecated',\n",
       " 'positive': False,\n",
       " 'random_state': None,\n",
       " 'solver': 'auto',\n",
       " 'tol': 0.001}"
      ]
     },
     "execution_count": 37,
     "metadata": {},
     "output_type": "execute_result"
    }
   ],
   "source": [
    "ridge = Ridge()\n",
    "ridge.get_params()"
   ]
  },
  {
   "cell_type": "code",
   "execution_count": 38,
   "id": "94c874fc",
   "metadata": {},
   "outputs": [
    {
     "name": "stdout",
     "output_type": "stream",
     "text": [
      ">>> Fitting and prediction were completed in 0.017 seconds.\n"
     ]
    }
   ],
   "source": [
    "# Fit the training data into the ridge model, then make predictions on the test data\n",
    "s_time = time.time()\n",
    "ridge.fit(x_train, y_train)\n",
    "y_pred = ridge.predict(x_test)\n",
    "print(\">>> Fitting and prediction were completed in {:.3f} seconds.\".format(time.time()-s_time))"
   ]
  },
  {
   "cell_type": "code",
   "execution_count": 39,
   "id": "7a8d5e74",
   "metadata": {},
   "outputs": [
    {
     "name": "stdout",
     "output_type": "stream",
     "text": [
      "COEF: [-1.11091152e+00 -7.64892015e+03  4.53587451e+03  3.11415655e+03\n",
      "  1.53426700e+04 -2.94027993e+04  1.49681841e+04 -1.33780081e+04\n",
      "  3.23235473e+03 -3.03107600e+04  4.39169922e+04 -2.53421102e+04\n",
      " -4.48612460e+02  1.68933285e+04 -2.05132849e+04 -2.37651536e+04\n",
      " -2.09157952e+04 -4.47646538e+03  3.72817829e+04 -2.61098509e+04\n",
      "  5.26828278e+04  1.03446996e+04  1.49535268e+03]\n",
      "INTERCEPT: 50037.31952848708\n",
      "ITERATIONS: None\n"
     ]
    }
   ],
   "source": [
    "print(\"COEF:\", ridge.coef_)   # Weight vector(s)\n",
    "print(\"INTERCEPT:\", ridge.intercept_)   # Independent term in decision function\n",
    "print(\"ITERATIONS:\", ridge.n_iter_)   # Actual number of iterations for each target. (Only for 'sag' & 'lsqr' solvers)"
   ]
  },
  {
   "cell_type": "code",
   "execution_count": 40,
   "id": "e043c30e",
   "metadata": {},
   "outputs": [
    {
     "name": "stdout",
     "output_type": "stream",
     "text": [
      "   75846.34738515443 |  69482.0\n",
      "   72759.07559066641 | 108098.0\n",
      "  114681.85787369133 | 189000.0\n",
      "   110195.7998261505 | 115000.0\n",
      "   77341.70006766805 |  47412.0\n",
      "    123653.973968773 | 200000.0\n",
      "   82640.15264426376 |  84019.0\n",
      "  105753.40103542668 |  80172.0\n",
      "   41942.86232561464 |  37834.0\n",
      "  39698.552642299896 |  43239.0\n",
      "   78154.09459672292 | 148648.0\n",
      "  107205.09446112326 | 150000.0\n",
      "  129686.31207174587 | 183000.0\n",
      "   50167.30207943951 |  64859.0\n",
      "   65282.31217809834 |  70264.0\n",
      "  129759.94679949534 | 150000.0\n",
      "  110068.41325565273 |  66810.0\n",
      "  34393.826527657046 |  45360.0\n",
      "  101429.96426265745 |  84000.0\n",
      "   34991.80205407018 |  38916.0\n"
     ]
    }
   ],
   "source": [
    "# Compare the predicted values against the actual ones for the first 20 rows of the test set\n",
    "for i in range(20):\n",
    "    print(\"{:20} | {:8}\".format(y_pred[i], y_test.iloc[i]))"
   ]
  },
  {
   "cell_type": "code",
   "execution_count": 41,
   "id": "a77b95d5",
   "metadata": {},
   "outputs": [
    {
     "name": "stdout",
     "output_type": "stream",
     "text": [
      "MSE: 850484293.9672872\n",
      "RMSE: 29163.063864540833\n",
      "MAE: 21446.44811708722\n",
      "R2 SCORE: 0.582911292575099\n",
      "\n",
      "# CROSS VALIDATION #\n",
      "FITTING TIME: [0.01650667 0.0210371  0.00921059 0.00706005 0.01201677] -> 0.013166236877441406\n",
      "SCORING TIME: [0.         0.00162888 0.00200605 0.0040071  0.        ] -> 0.0015284061431884766\n",
      "TRAIN SCORE: [0.59866536 0.58363895 0.58691827 0.58244969 0.5823999 ] -> 0.5868144336358029\n",
      "TEST SCORE: [0.53865291 0.5948567  0.58281889 0.58651435 0.6041787 ] -> 0.5814043090678475\n"
     ]
    }
   ],
   "source": [
    "# Results of metrics\n",
    "mse, rmse, mae, r2 = mean_squared_error(y_test, y_pred), mean_squared_error(y_test, y_pred, squared=False), \\\n",
    "    mean_absolute_error(y_test, y_pred), r2_score(y_test, y_pred)\n",
    "print(\"MSE:\", mse)        \n",
    "print(\"RMSE:\", rmse)      \n",
    "print(\"MAE:\", mae)        \n",
    "print(\"R2 SCORE:\", r2)  \n",
    "res_mse.append(mse)\n",
    "res_rmse.append(rmse)\n",
    "res_mae.append(mae)\n",
    "res_r2.append(r2)\n",
    "print(\"\\n# CROSS VALIDATION #\")\n",
    "cross_val = cross_validate(ridge, X, Y, cv=5, return_train_score=True)\n",
    "print(\"FITTING TIME:\", cross_val['fit_time'], \"->\", cross_val['fit_time'].mean())\n",
    "print(\"SCORING TIME:\", cross_val['score_time'], \"->\", cross_val['score_time'].mean())\n",
    "print(\"TRAIN SCORE:\", cross_val['train_score'], \"->\", cross_val['train_score'].mean())\n",
    "res_cv_train.append(cross_val['train_score'].mean())\n",
    "print(\"TEST SCORE:\", cross_val['test_score'], \"->\", cross_val['test_score'].mean())\n",
    "res_cv_test.append(cross_val['test_score'].mean())"
   ]
  },
  {
   "cell_type": "markdown",
   "id": "8784c503",
   "metadata": {},
   "source": [
    "## 4 - Polynomial Regression"
   ]
  },
  {
   "cell_type": "code",
   "execution_count": 42,
   "id": "80d631b6",
   "metadata": {},
   "outputs": [
    {
     "data": {
      "text/plain": [
       "{'degree': 2, 'include_bias': True, 'interaction_only': False, 'order': 'C'}"
      ]
     },
     "execution_count": 42,
     "metadata": {},
     "output_type": "execute_result"
    }
   ],
   "source": [
    "poly_feat = PolynomialFeatures(degree=2)\n",
    "poly_feat.get_params()"
   ]
  },
  {
   "cell_type": "code",
   "execution_count": 43,
   "id": "263c2a3f",
   "metadata": {},
   "outputs": [
    {
     "name": "stdout",
     "output_type": "stream",
     "text": [
      "(20464, 300) (5116, 300)\n"
     ]
    }
   ],
   "source": [
    "# Fit then transform for both training and test data (the number of columns must increase)\n",
    "x_poly_train = poly_feat.fit_transform(x_train)\n",
    "x_poly_test = poly_feat.fit_transform(x_test)\n",
    "print(x_poly_train.shape, x_poly_test.shape)"
   ]
  },
  {
   "cell_type": "markdown",
   "id": "1e3abd95",
   "metadata": {},
   "source": [
    "### Polynomial Regression with Lasso"
   ]
  },
  {
   "cell_type": "code",
   "execution_count": 44,
   "id": "268ccb9f",
   "metadata": {},
   "outputs": [
    {
     "name": "stdout",
     "output_type": "stream",
     "text": [
      ">>> Fitting and prediction were completed in 26.681 seconds.\n"
     ]
    }
   ],
   "source": [
    "lasso = Lasso()\n",
    "s_time = time.time()\n",
    "lasso.fit(x_poly_train, y_train)\n",
    "y_poly_pred = lasso.predict(x_poly_test)\n",
    "print(\">>> Fitting and prediction were completed in {:.3f} seconds.\".format(time.time()-s_time))"
   ]
  },
  {
   "cell_type": "code",
   "execution_count": 45,
   "id": "7fd41ecd",
   "metadata": {
    "scrolled": true
   },
   "outputs": [
    {
     "name": "stdout",
     "output_type": "stream",
     "text": [
      "COEF: [ 0.00000000e+00 -0.00000000e+00 -4.00206997e+03  7.13489694e+02\n",
      "  2.58257037e+03  2.83805714e+02 -2.95958246e+04  1.12526503e+03\n",
      " -1.51744379e+04 -6.36733174e+02 -3.18602828e+04  2.09779176e+04\n",
      " -2.59044326e+04 -3.89761603e+03  6.03630423e+03 -2.22816423e+04\n",
      " -2.23201285e+04 -1.86526702e+04 -2.73701604e+03  1.48040348e+04\n",
      " -2.56873226e+04  4.45431616e+04  3.73627768e+03  3.93854993e+03\n",
      " -2.14664912e+02  0.00000000e+00  0.00000000e+00  0.00000000e+00\n",
      "  0.00000000e+00  0.00000000e+00  1.85827495e+03 -3.76274979e+03\n",
      "  6.28155882e+02 -3.10909208e+03  5.22862107e+03 -3.02763490e+02\n",
      " -5.48852138e+03  4.94013065e+03  0.00000000e+00 -1.10113753e+03\n",
      "  0.00000000e+00 -2.51712500e+03  3.11295348e+03  0.00000000e+00\n",
      " -5.35665272e+02 -0.00000000e+00 -3.07006530e+01 -4.98502916e+03\n",
      "  0.00000000e+00  0.00000000e+00 -2.81605750e+03  2.63896463e+03\n",
      "  0.00000000e+00  3.43873326e+02 -4.69955416e+03  0.00000000e+00\n",
      "  0.00000000e+00  1.89975547e+03 -0.00000000e+00 -4.48925076e+03\n",
      "  3.12117652e+03  0.00000000e+00  7.41518263e+02  0.00000000e+00\n",
      " -4.57129792e+03 -1.74184772e+03 -3.40735919e+03 -2.38174756e+03\n",
      "  2.25561285e+02  2.04711580e+03  0.00000000e+00  2.58206563e+02\n",
      " -2.10830636e+03 -2.71318125e+00 -4.98712179e+02  0.00000000e+00\n",
      " -8.09387141e+03  7.29477680e+03  0.00000000e+00  1.26744192e+03\n",
      "  6.56938284e+03 -2.27957469e+03 -3.26981868e+03 -4.47316598e+03\n",
      " -1.07098520e+03  2.03109813e+03  4.89131520e+03  3.40671515e+03\n",
      "  4.23941534e+03 -2.99968186e+01  5.94478379e+02  1.92482162e+03\n",
      " -5.82123340e+03  4.34003445e+03  0.00000000e+00 -0.00000000e+00\n",
      "  5.59224638e+03 -0.00000000e+00 -6.54454605e+02  0.00000000e+00\n",
      "  0.00000000e+00 -7.25121607e+03  0.00000000e+00 -9.26563645e+03\n",
      "  1.96717698e+03  0.00000000e+00 -4.56441926e+03  6.82518759e+03\n",
      "  6.41051231e+03 -2.72089139e+02  5.82426159e+03  0.00000000e+00\n",
      "  0.00000000e+00  0.00000000e+00  0.00000000e+00  0.00000000e+00\n",
      "  0.00000000e+00  0.00000000e+00  0.00000000e+00  0.00000000e+00\n",
      "  0.00000000e+00  0.00000000e+00  0.00000000e+00  0.00000000e+00\n",
      "  0.00000000e+00  0.00000000e+00  0.00000000e+00  0.00000000e+00\n",
      "  3.44052709e+02 -0.00000000e+00  0.00000000e+00  0.00000000e+00\n",
      "  0.00000000e+00  0.00000000e+00  0.00000000e+00  0.00000000e+00\n",
      "  0.00000000e+00  0.00000000e+00  0.00000000e+00  0.00000000e+00\n",
      "  0.00000000e+00  0.00000000e+00  0.00000000e+00  0.00000000e+00\n",
      "  0.00000000e+00  0.00000000e+00 -7.18523029e+02  8.09541495e+03\n",
      "  0.00000000e+00  0.00000000e+00  0.00000000e+00  0.00000000e+00\n",
      "  0.00000000e+00  0.00000000e+00  0.00000000e+00  0.00000000e+00\n",
      "  0.00000000e+00  0.00000000e+00  0.00000000e+00  0.00000000e+00\n",
      "  0.00000000e+00  0.00000000e+00  0.00000000e+00 -6.69716979e+01\n",
      " -0.00000000e+00  0.00000000e+00  0.00000000e+00  0.00000000e+00\n",
      "  0.00000000e+00  0.00000000e+00  0.00000000e+00  0.00000000e+00\n",
      "  0.00000000e+00  0.00000000e+00  0.00000000e+00  0.00000000e+00\n",
      "  0.00000000e+00  0.00000000e+00  0.00000000e+00 -1.93257185e+02\n",
      "  0.00000000e+00  0.00000000e+00  0.00000000e+00  0.00000000e+00\n",
      "  0.00000000e+00  0.00000000e+00  0.00000000e+00  0.00000000e+00\n",
      "  0.00000000e+00  0.00000000e+00  0.00000000e+00  0.00000000e+00\n",
      "  0.00000000e+00  0.00000000e+00 -1.01227157e+02  4.67610773e+03\n",
      "  0.00000000e+00  0.00000000e+00  0.00000000e+00  0.00000000e+00\n",
      "  0.00000000e+00  0.00000000e+00  0.00000000e+00  0.00000000e+00\n",
      "  0.00000000e+00  0.00000000e+00  0.00000000e+00  0.00000000e+00\n",
      " -6.92513236e+02  8.63685006e+03  0.00000000e+00  0.00000000e+00\n",
      "  0.00000000e+00  0.00000000e+00  0.00000000e+00  0.00000000e+00\n",
      "  0.00000000e+00  0.00000000e+00  0.00000000e+00  0.00000000e+00\n",
      "  0.00000000e+00  4.79378247e+02 -0.00000000e+00  0.00000000e+00\n",
      "  0.00000000e+00  0.00000000e+00  0.00000000e+00  0.00000000e+00\n",
      "  0.00000000e+00  0.00000000e+00  0.00000000e+00  0.00000000e+00\n",
      "  0.00000000e+00 -5.86321204e+02 -0.00000000e+00  0.00000000e+00\n",
      "  0.00000000e+00  0.00000000e+00  0.00000000e+00  0.00000000e+00\n",
      "  0.00000000e+00  0.00000000e+00  0.00000000e+00  0.00000000e+00\n",
      " -6.00162597e+01  5.23036040e+03  0.00000000e+00  0.00000000e+00\n",
      "  0.00000000e+00  0.00000000e+00  0.00000000e+00  0.00000000e+00\n",
      "  0.00000000e+00  0.00000000e+00 -4.05638925e+02 -0.00000000e+00\n",
      "  0.00000000e+00  0.00000000e+00  0.00000000e+00  0.00000000e+00\n",
      "  0.00000000e+00  0.00000000e+00  0.00000000e+00 -3.55786931e+02\n",
      " -0.00000000e+00  0.00000000e+00  0.00000000e+00  0.00000000e+00\n",
      "  0.00000000e+00  0.00000000e+00  0.00000000e+00 -6.91288221e+02\n",
      " -0.00000000e+00  0.00000000e+00  0.00000000e+00  0.00000000e+00\n",
      "  0.00000000e+00  0.00000000e+00 -5.56743182e+02 -0.00000000e+00\n",
      "  0.00000000e+00  0.00000000e+00  0.00000000e+00  0.00000000e+00\n",
      " -6.90543790e+02  1.20943078e+04  0.00000000e+00  0.00000000e+00\n",
      "  0.00000000e+00  4.57771595e+02 -0.00000000e+00  0.00000000e+00\n",
      "  0.00000000e+00 -9.09033386e+02  0.00000000e+00  0.00000000e+00\n",
      "  3.33463110e+02  2.99809574e+02  5.23298960e+00 -8.17968706e+01]\n",
      "INTERCEPT: 45362.759862457984\n",
      "ITERATIONS: 1000\n"
     ]
    }
   ],
   "source": [
    "print(\"COEF:\", lasso.coef_)   # Parameter vector (w in the cost function function formula)\n",
    "print(\"INTERCEPT:\", lasso.intercept_)   # Independent term in decision function\n",
    "# Number of iterations run by the coord. descent solver to reach the specified tolerance\n",
    "print(\"ITERATIONS:\", lasso.n_iter_) "
   ]
  },
  {
   "cell_type": "code",
   "execution_count": 46,
   "id": "735bd95a",
   "metadata": {},
   "outputs": [
    {
     "name": "stdout",
     "output_type": "stream",
     "text": [
      "MSE: 795252548.7156821\n",
      "RMSE: 28200.22249408118\n",
      "MAE: 20704.87188753659\n",
      "R2 SCORE: 0.6099976684190948\n",
      "\n",
      "# CROSS VALIDATION #\n",
      "FITTING TIME: [5.25399423 5.13957286 4.84607577 5.12262678 5.02317929] -> 5.077089786529541\n",
      "SCORING TIME: [0.         0.         0.         0.00202823 0.        ] -> 0.00040564537048339846\n",
      "TRAIN SCORE: [0.59866554 0.58363913 0.58691846 0.58244987 0.58240008] -> 0.5868146161781836\n",
      "TEST SCORE: [0.53865014 0.59486684 0.58282793 0.58650191 0.60417282] -> 0.5814039301798134\n"
     ]
    }
   ],
   "source": [
    "# Results of metrics\n",
    "mse, rmse, mae, r2 = mean_squared_error(y_test, y_poly_pred), mean_squared_error(y_test, y_poly_pred, squared=False), \\\n",
    "    mean_absolute_error(y_test, y_poly_pred), r2_score(y_test, y_poly_pred)\n",
    "print(\"MSE:\", mse)          \n",
    "print(\"RMSE:\", rmse)     \n",
    "print(\"MAE:\", mae)         \n",
    "print(\"R2 SCORE:\", r2)    \n",
    "res_mse.append(mse)\n",
    "res_rmse.append(rmse)\n",
    "res_mae.append(mae)\n",
    "res_r2.append(r2)\n",
    "print(\"\\n# CROSS VALIDATION #\")\n",
    "cross_val = cross_validate(lasso, X, Y, cv=5, return_train_score=True)\n",
    "print(\"FITTING TIME:\", cross_val['fit_time'], \"->\", cross_val['fit_time'].mean())\n",
    "print(\"SCORING TIME:\", cross_val['score_time'], \"->\", cross_val['score_time'].mean())\n",
    "print(\"TRAIN SCORE:\", cross_val['train_score'], \"->\", cross_val['train_score'].mean())\n",
    "res_cv_train.append(cross_val['train_score'].mean())\n",
    "print(\"TEST SCORE:\", cross_val['test_score'], \"->\", cross_val['test_score'].mean())\n",
    "res_cv_test.append(cross_val['test_score'].mean())"
   ]
  },
  {
   "cell_type": "markdown",
   "id": "d2b8e368",
   "metadata": {},
   "source": [
    "### Polynomial Regression with Ridge"
   ]
  },
  {
   "cell_type": "code",
   "execution_count": 47,
   "id": "c07a2d92",
   "metadata": {},
   "outputs": [
    {
     "name": "stdout",
     "output_type": "stream",
     "text": [
      ">>> Fitting and prediction were completed in 0.071 seconds.\n"
     ]
    }
   ],
   "source": [
    "ridge = Ridge()\n",
    "s_time = time.time()\n",
    "ridge.fit(x_poly_train, y_train)\n",
    "y_poly_pred = ridge.predict(x_poly_test)\n",
    "print(\">>> Fitting and prediction were completed in {:.3f} seconds.\".format(time.time()-s_time))"
   ]
  },
  {
   "cell_type": "code",
   "execution_count": 48,
   "id": "3637088e",
   "metadata": {
    "scrolled": true
   },
   "outputs": [
    {
     "name": "stdout",
     "output_type": "stream",
     "text": [
      "COEF: [ 0.00000000e+00  3.26884631e+02 -4.34012142e+03  2.04998040e+03\n",
      "  1.96325638e+03  4.32281805e+03 -1.21840483e+04  6.43173049e+03\n",
      " -5.55450531e+03  8.54935178e+02 -1.08539294e+04  1.60603078e+04\n",
      " -9.86419069e+03 -6.23500914e+02  7.41340604e+03 -9.12090405e+03\n",
      " -8.77319157e+03 -8.15308179e+03  2.11369764e+02  1.36301141e+04\n",
      " -1.02313840e+04  2.21025840e+04  4.33147070e+03  2.80794734e+03\n",
      "  3.26884631e+02  0.00000000e+00  0.00000000e+00  0.00000000e+00\n",
      "  1.04730635e+03 -1.68186915e+03  1.80137975e+03 -4.40242088e+03\n",
      "  1.85396910e+03 -4.97232038e+03  6.33747306e+03 -3.08356842e+03\n",
      " -4.68221899e+03  5.12435505e+03 -5.25298559e+02 -2.41999446e+03\n",
      "  1.17617434e+03 -2.27385201e+03  6.47873143e+03 -1.71855643e+03\n",
      "  3.34012651e+03 -1.07253169e+03  6.99297444e+02 -4.34012142e+03\n",
      "  0.00000000e+00  0.00000000e+00 -1.39536172e+03  1.58469421e+03\n",
      "  5.03600993e+02  6.26087356e+02 -2.98418637e+03 -9.51413918e+02\n",
      "  1.58065405e+03 -1.11053376e+02  1.27630318e+03 -4.26704963e+03\n",
      "  3.25261989e+03 -6.21711164e+02  2.58015802e+03  9.00669649e+02\n",
      " -1.05656521e+03 -3.31809687e+03  1.00822312e+03 -2.94769363e+03\n",
      "  9.56188774e+02  2.04998040e+03  0.00000000e+00  1.05692688e+03\n",
      " -4.39024843e+03 -6.46061256e+02 -1.50195035e+03  7.51214461e+02\n",
      " -1.04080913e+04  8.19874103e+03 -3.07188992e+03  1.76986028e+03\n",
      "  6.27027642e+03 -3.36459262e+03 -5.01595641e+03 -3.83738555e+03\n",
      " -1.29468633e+03  4.91011327e+03  3.02101928e+03  6.84989815e+03\n",
      "  2.75279276e+03  6.98155452e+02  1.96325638e+03  3.61394654e+03\n",
      " -7.69662490e+03  4.77281100e+03 -2.76221432e+02  1.23393799e+03\n",
      "  5.47789617e+03 -5.65603638e+01 -3.59767898e+03  1.01255461e+03\n",
      "  2.85824190e+02 -8.48363277e+03 -7.15529546e+02 -8.07202860e+03\n",
      "  2.87923845e+03  3.29783460e+03 -8.21575001e+03  1.09043362e+04\n",
      "  5.59890326e+03  4.54305660e+02  4.32281805e+03  0.00000000e+00\n",
      "  0.00000000e+00  0.00000000e+00  0.00000000e+00  0.00000000e+00\n",
      "  0.00000000e+00  0.00000000e+00  0.00000000e+00  0.00000000e+00\n",
      "  0.00000000e+00  0.00000000e+00  0.00000000e+00  0.00000000e+00\n",
      "  0.00000000e+00  0.00000000e+00  0.00000000e+00  0.00000000e+00\n",
      "  7.41094422e+02 -1.21840483e+04  0.00000000e+00  0.00000000e+00\n",
      "  0.00000000e+00  0.00000000e+00  0.00000000e+00  0.00000000e+00\n",
      "  0.00000000e+00  0.00000000e+00  0.00000000e+00  0.00000000e+00\n",
      "  0.00000000e+00  0.00000000e+00  0.00000000e+00  0.00000000e+00\n",
      "  0.00000000e+00  0.00000000e+00 -3.15830588e+02  6.43173049e+03\n",
      "  0.00000000e+00  0.00000000e+00  0.00000000e+00  0.00000000e+00\n",
      "  0.00000000e+00  0.00000000e+00  0.00000000e+00  0.00000000e+00\n",
      "  0.00000000e+00  0.00000000e+00  0.00000000e+00  0.00000000e+00\n",
      "  0.00000000e+00  0.00000000e+00  0.00000000e+00  3.31216033e+02\n",
      " -5.55450531e+03  0.00000000e+00  0.00000000e+00  0.00000000e+00\n",
      "  0.00000000e+00  0.00000000e+00  0.00000000e+00  0.00000000e+00\n",
      "  0.00000000e+00  0.00000000e+00  0.00000000e+00  0.00000000e+00\n",
      "  0.00000000e+00  0.00000000e+00  0.00000000e+00  2.07438312e+02\n",
      "  8.54935178e+02  0.00000000e+00  0.00000000e+00  0.00000000e+00\n",
      "  0.00000000e+00  0.00000000e+00  0.00000000e+00  0.00000000e+00\n",
      "  0.00000000e+00  0.00000000e+00  0.00000000e+00  0.00000000e+00\n",
      "  0.00000000e+00  0.00000000e+00  3.00045635e+02 -1.08539294e+04\n",
      "  0.00000000e+00  0.00000000e+00  0.00000000e+00  0.00000000e+00\n",
      "  0.00000000e+00  0.00000000e+00  0.00000000e+00  0.00000000e+00\n",
      "  0.00000000e+00  0.00000000e+00  0.00000000e+00  0.00000000e+00\n",
      " -3.02758501e+02  1.60603078e+04  0.00000000e+00  0.00000000e+00\n",
      "  0.00000000e+00  0.00000000e+00  0.00000000e+00  0.00000000e+00\n",
      "  0.00000000e+00  0.00000000e+00  0.00000000e+00  0.00000000e+00\n",
      "  0.00000000e+00  8.80719030e+02 -9.86419069e+03  0.00000000e+00\n",
      "  0.00000000e+00  0.00000000e+00  0.00000000e+00  0.00000000e+00\n",
      "  0.00000000e+00  0.00000000e+00  0.00000000e+00  0.00000000e+00\n",
      "  0.00000000e+00 -1.83348281e+02 -6.23500914e+02  0.00000000e+00\n",
      "  0.00000000e+00  0.00000000e+00  0.00000000e+00  0.00000000e+00\n",
      "  0.00000000e+00  0.00000000e+00  0.00000000e+00  0.00000000e+00\n",
      "  3.44238500e+02  7.41340604e+03  0.00000000e+00  0.00000000e+00\n",
      "  0.00000000e+00  0.00000000e+00  0.00000000e+00  0.00000000e+00\n",
      "  0.00000000e+00  0.00000000e+00 -1.21849636e+01 -9.12090405e+03\n",
      "  0.00000000e+00  0.00000000e+00  0.00000000e+00  0.00000000e+00\n",
      "  0.00000000e+00  0.00000000e+00  0.00000000e+00  5.38124363e+01\n",
      " -8.77319157e+03  0.00000000e+00  0.00000000e+00  0.00000000e+00\n",
      "  0.00000000e+00  0.00000000e+00  0.00000000e+00 -2.92373782e+02\n",
      " -8.15308179e+03  0.00000000e+00  0.00000000e+00  0.00000000e+00\n",
      "  0.00000000e+00  0.00000000e+00 -1.53447539e+02  2.11369764e+02\n",
      "  0.00000000e+00  0.00000000e+00  0.00000000e+00  0.00000000e+00\n",
      " -2.85415389e+02  1.36301141e+04  0.00000000e+00  0.00000000e+00\n",
      "  0.00000000e+00  8.56158557e+02 -1.02313840e+04  0.00000000e+00\n",
      "  0.00000000e+00 -5.00212134e+02  2.21025840e+04  0.00000000e+00\n",
      "  7.34047049e+02  4.33147070e+03  4.04748528e+02 -8.17741278e+01]\n",
      "INTERCEPT: 40947.45527401167\n",
      "ITERATIONS: None\n"
     ]
    }
   ],
   "source": [
    "print(\"COEF:\", ridge.coef_)   # Weight vector(s)\n",
    "print(\"INTERCEPT:\", ridge.intercept_)   # Independent term in decision function\n",
    "print(\"ITERATIONS:\", ridge.n_iter_)   # Actual number of iterations for each target. (Only for 'sag' & 'lsqr' solvers)"
   ]
  },
  {
   "cell_type": "code",
   "execution_count": 49,
   "id": "ac946068",
   "metadata": {},
   "outputs": [
    {
     "name": "stdout",
     "output_type": "stream",
     "text": [
      "MSE: 795373248.7175252\n",
      "RMSE: 28202.362466955234\n",
      "MAE: 20707.050503260416\n",
      "R2 SCORE: 0.6099384755473252\n",
      "\n",
      "# CROSS VALIDATION #\n",
      "FITTING TIME: [0.01044989 0.00308537 0.         0.         0.        ] -> 0.002707052230834961\n",
      "SCORING TIME: [0.         0.01053548 0.0115521  0.01170897 0.01331592] -> 0.009422492980957032\n",
      "TRAIN SCORE: [0.59866536 0.58363895 0.58691827 0.58244969 0.5823999 ] -> 0.5868144336358029\n",
      "TEST SCORE: [0.53865291 0.5948567  0.58281889 0.58651435 0.6041787 ] -> 0.5814043090678475\n"
     ]
    }
   ],
   "source": [
    "# Results of metrics\n",
    "mse, rmse, mae, r2 = mean_squared_error(y_test, y_poly_pred), mean_squared_error(y_test, y_poly_pred, squared=False), \\\n",
    "    mean_absolute_error(y_test, y_poly_pred), r2_score(y_test, y_poly_pred)\n",
    "print(\"MSE:\", mse)        \n",
    "print(\"RMSE:\", rmse)       \n",
    "print(\"MAE:\", mae)          \n",
    "print(\"R2 SCORE:\", r2)      \n",
    "res_mse.append(mse)\n",
    "res_rmse.append(rmse)\n",
    "res_mae.append(mae)\n",
    "res_r2.append(r2)\n",
    "print(\"\\n# CROSS VALIDATION #\")\n",
    "cross_val = cross_validate(ridge, X, Y, cv=5, return_train_score=True)\n",
    "print(\"FITTING TIME:\", cross_val['fit_time'], \"->\", cross_val['fit_time'].mean())\n",
    "print(\"SCORING TIME:\", cross_val['score_time'], \"->\", cross_val['score_time'].mean())\n",
    "print(\"TRAIN SCORE:\", cross_val['train_score'], \"->\", cross_val['train_score'].mean())\n",
    "res_cv_train.append(cross_val['train_score'].mean())\n",
    "print(\"TEST SCORE:\", cross_val['test_score'], \"->\", cross_val['test_score'].mean())\n",
    "res_cv_test.append(cross_val['test_score'].mean())"
   ]
  },
  {
   "cell_type": "markdown",
   "id": "735e01fb",
   "metadata": {},
   "source": [
    "## 5 - Decision Tree Regression"
   ]
  },
  {
   "cell_type": "code",
   "execution_count": 50,
   "id": "9f797d92",
   "metadata": {},
   "outputs": [
    {
     "data": {
      "text/plain": [
       "{'ccp_alpha': 0.0,\n",
       " 'criterion': 'squared_error',\n",
       " 'max_depth': None,\n",
       " 'max_features': None,\n",
       " 'max_leaf_nodes': None,\n",
       " 'min_impurity_decrease': 0.0,\n",
       " 'min_samples_leaf': 1,\n",
       " 'min_samples_split': 2,\n",
       " 'min_weight_fraction_leaf': 0.0,\n",
       " 'random_state': None,\n",
       " 'splitter': 'best'}"
      ]
     },
     "execution_count": 50,
     "metadata": {},
     "output_type": "execute_result"
    }
   ],
   "source": [
    "# dtree = DecisionTreeRegressor(criterion='absolute_error', splitter='random', max_depth=None, min_samples_split=2,\n",
    "#                              min_samples_leaf=1, min_weight_fraction_leaf=0.0, max_features='log2', max_leaf_nodes=10,\n",
    "#                              min_impurity_decrease=0.2, ccp_alpha=0.0)\n",
    "dtree = DecisionTreeRegressor()\n",
    "dtree.get_params()"
   ]
  },
  {
   "cell_type": "code",
   "execution_count": 51,
   "id": "905127c2",
   "metadata": {},
   "outputs": [
    {
     "name": "stdout",
     "output_type": "stream",
     "text": [
      ">>> Fitting and prediction were completed in 0.038 seconds.\n"
     ]
    }
   ],
   "source": [
    "# Fit the training data into the decision tree, then make predictions on the test data\n",
    "s_time = time.time()\n",
    "dtree.fit(x_train, y_train)\n",
    "y_pred = dtree.predict(x_test)\n",
    "print(\">>> Fitting and prediction were completed in {:.3f} seconds.\".format(time.time()-s_time))"
   ]
  },
  {
   "cell_type": "code",
   "execution_count": 52,
   "id": "99130013",
   "metadata": {},
   "outputs": [
    {
     "name": "stdout",
     "output_type": "stream",
     "text": [
      "   81396.46666666666 |  69482.0\n",
      "   78603.14285714286 | 108098.0\n",
      "  125565.46242774566 | 189000.0\n",
      "  108410.38888888889 | 115000.0\n",
      "   81632.08695652174 |  47412.0\n",
      "   131443.0985915493 | 200000.0\n",
      "   94430.94444444444 |  84019.0\n",
      "           122762.75 |  80172.0\n",
      "  30416.333333333332 |  37834.0\n",
      "             35402.0 |  43239.0\n",
      "             93995.6 | 148648.0\n",
      "   98282.39252336448 | 150000.0\n",
      "  135508.94545454546 | 183000.0\n",
      "            55746.66 |  64859.0\n",
      "   65250.80952380953 |  70264.0\n",
      "             71000.0 | 150000.0\n",
      "             72823.0 |  66810.0\n",
      "   39343.61538461538 |  45360.0\n",
      "            97793.25 |  84000.0\n",
      "             35110.2 |  38916.0\n"
     ]
    }
   ],
   "source": [
    "# Compare the predicted values against the actual ones for the first 20 rows of the test set\n",
    "for i in range(20):\n",
    "    print(\"{:20} | {:8}\".format(y_pred[i], y_test.iloc[i]))"
   ]
  },
  {
   "cell_type": "code",
   "execution_count": 53,
   "id": "d61512ec",
   "metadata": {},
   "outputs": [
    {
     "name": "stdout",
     "output_type": "stream",
     "text": [
      "MSE: 847939597.8804868\n",
      "RMSE: 29119.40243000338\n",
      "MAE: 21378.524167175212\n",
      "R2 SCORE: 0.584159245075999\n",
      "\n",
      "# CROSS VALIDATION #\n",
      "FITTING TIME: [0.04312325 0.03370142 0.03903461 0.02086306 0.04163337] -> 0.035671138763427736\n",
      "SCORING TIME: [0.00200057 0.00264192 0.00200105 0.01566458 0.00300574] -> 0.005062770843505859\n",
      "TRAIN SCORE: [0.66714392 0.6521666  0.65458312 0.65189324 0.6513408 ] -> 0.6554255328537429\n",
      "TEST SCORE: [0.53058738 0.59364002 0.57488991 0.58437389 0.599592  ] -> 0.5766166412140062\n"
     ]
    }
   ],
   "source": [
    "# Results of metrics\n",
    "mse, rmse, mae, r2 = mean_squared_error(y_test, y_pred), mean_squared_error(y_test, y_pred, squared=False), \\\n",
    "    mean_absolute_error(y_test, y_pred), r2_score(y_test, y_pred)\n",
    "print(\"MSE:\", mse)        \n",
    "print(\"RMSE:\", rmse)      \n",
    "print(\"MAE:\", mae)        \n",
    "print(\"R2 SCORE:\", r2)  \n",
    "res_mse.append(mse)\n",
    "res_rmse.append(rmse)\n",
    "res_mae.append(mae)\n",
    "res_r2.append(r2)\n",
    "print(\"\\n# CROSS VALIDATION #\")\n",
    "cross_val = cross_validate(dtree, X, Y, cv=5, return_train_score=True)\n",
    "print(\"FITTING TIME:\", cross_val['fit_time'], \"->\", cross_val['fit_time'].mean())\n",
    "print(\"SCORING TIME:\", cross_val['score_time'], \"->\", cross_val['score_time'].mean())\n",
    "print(\"TRAIN SCORE:\", cross_val['train_score'], \"->\", cross_val['train_score'].mean())\n",
    "res_cv_train.append(cross_val['train_score'].mean())\n",
    "print(\"TEST SCORE:\", cross_val['test_score'], \"->\", cross_val['test_score'].mean())\n",
    "res_cv_test.append(cross_val['test_score'].mean())"
   ]
  },
  {
   "cell_type": "markdown",
   "id": "d7885ebd",
   "metadata": {},
   "source": [
    "## 6 - Random Forest Regression"
   ]
  },
  {
   "cell_type": "code",
   "execution_count": 54,
   "id": "e75ec064",
   "metadata": {},
   "outputs": [
    {
     "data": {
      "text/plain": [
       "{'bootstrap': True,\n",
       " 'ccp_alpha': 0.0,\n",
       " 'criterion': 'squared_error',\n",
       " 'max_depth': None,\n",
       " 'max_features': 1.0,\n",
       " 'max_leaf_nodes': None,\n",
       " 'max_samples': None,\n",
       " 'min_impurity_decrease': 0.0,\n",
       " 'min_samples_leaf': 1,\n",
       " 'min_samples_split': 2,\n",
       " 'min_weight_fraction_leaf': 0.0,\n",
       " 'n_estimators': 100,\n",
       " 'n_jobs': None,\n",
       " 'oob_score': False,\n",
       " 'random_state': None,\n",
       " 'verbose': 0,\n",
       " 'warm_start': False}"
      ]
     },
     "execution_count": 54,
     "metadata": {},
     "output_type": "execute_result"
    }
   ],
   "source": [
    "# rforest = RandomForestRegressor(n_estimators=100, criterion='friedman_mse', max_depth=20, min_samples_split=4, \n",
    "#                                 min_samples_leaf=4, min_weight_fraction_leaf=0.1, max_features=None, max_leaf_nodes=None,\n",
    "#                                 bootstrap=True, warm_start=False, ccp_alpha=0.2, max_samples=None)\n",
    "rforest = RandomForestRegressor()\n",
    "rforest.get_params()"
   ]
  },
  {
   "cell_type": "code",
   "execution_count": 55,
   "id": "905c5f25",
   "metadata": {},
   "outputs": [
    {
     "name": "stdout",
     "output_type": "stream",
     "text": [
      ">>> Fitting and prediction were completed in 2.101 seconds.\n"
     ]
    }
   ],
   "source": [
    "# Fit the training data into the random forest, then make predictions on the test data\n",
    "s_time = time.time()\n",
    "rforest.fit(x_train, y_train)\n",
    "y_pred = rforest.predict(x_test)\n",
    "print(\">>> Fitting and prediction were completed in {:.3f} seconds.\".format(time.time()-s_time))"
   ]
  },
  {
   "cell_type": "code",
   "execution_count": 56,
   "id": "1d7ed70d",
   "metadata": {},
   "outputs": [
    {
     "name": "stdout",
     "output_type": "stream",
     "text": [
      "    80908.1746812427 |  69482.0\n",
      "   78550.28885663049 | 108098.0\n",
      "  125577.08924020689 | 189000.0\n",
      "  108509.37025556593 | 115000.0\n",
      "   81873.73175601037 |  47412.0\n",
      "  131001.22323794835 | 200000.0\n",
      "   94468.70369414068 |  84019.0\n",
      "  120618.87378571424 |  80172.0\n",
      "  30312.699174445617 |  37834.0\n",
      "   35380.88432142857 |  43239.0\n",
      "    92020.0851031746 | 148648.0\n",
      "   98224.68470321588 | 150000.0\n",
      "   136561.0938405532 | 183000.0\n",
      "  55646.569130113814 |  64859.0\n",
      "   65275.79449928941 |  70264.0\n",
      "    98549.2540715063 | 150000.0\n",
      "   77540.48833333333 |  66810.0\n",
      "   38656.21686851515 |  45360.0\n",
      "   97354.19075265141 |  84000.0\n",
      "  35361.885285714285 |  38916.0\n"
     ]
    }
   ],
   "source": [
    "# Compare the predicted values against the actual ones for the first 20 rows of the test set\n",
    "for i in range(20):\n",
    "    print(\"{:20} | {:8}\".format(y_pred[i], y_test.iloc[i]))"
   ]
  },
  {
   "cell_type": "code",
   "execution_count": 57,
   "id": "3a62f65c",
   "metadata": {},
   "outputs": [
    {
     "name": "stdout",
     "output_type": "stream",
     "text": [
      "MSE: 824547539.4141194\n",
      "RMSE: 28714.935824656117\n",
      "MAE: 21136.612259721012\n",
      "R2 SCORE: 0.595631018862947\n",
      "\n",
      "# CROSS VALIDATION #\n",
      "FITTING TIME: [2.0937078  2.02035761 1.99329209 1.99318814 2.03849864] -> 2.0278088569641115\n",
      "SCORING TIME: [0.08242869 0.07851386 0.06290889 0.07477927 0.07117701] -> 0.07396154403686524\n",
      "TRAIN SCORE: [0.66544741 0.65009727 0.65267186 0.64989425 0.64950937] -> 0.6535240316820621\n",
      "TEST SCORE: [0.54135941 0.60459058 0.58729677 0.59517814 0.61125959] -> 0.5879368989305769\n"
     ]
    }
   ],
   "source": [
    "# Results of metrics\n",
    "mse, rmse, mae, r2 = mean_squared_error(y_test, y_pred), mean_squared_error(y_test, y_pred, squared=False), \\\n",
    "    mean_absolute_error(y_test, y_pred), r2_score(y_test, y_pred)\n",
    "print(\"MSE:\", mse)        \n",
    "print(\"RMSE:\", rmse)      \n",
    "print(\"MAE:\", mae)        \n",
    "print(\"R2 SCORE:\", r2)  \n",
    "res_mse.append(mse)\n",
    "res_rmse.append(rmse)\n",
    "res_mae.append(mae)\n",
    "res_r2.append(r2)\n",
    "print(\"\\n# CROSS VALIDATION #\")\n",
    "cross_val = cross_validate(rforest, X, Y, cv=5, return_train_score=True)\n",
    "print(\"FITTING TIME:\", cross_val['fit_time'], \"->\", cross_val['fit_time'].mean())\n",
    "print(\"SCORING TIME:\", cross_val['score_time'], \"->\", cross_val['score_time'].mean())\n",
    "print(\"TRAIN SCORE:\", cross_val['train_score'], \"->\", cross_val['train_score'].mean())\n",
    "res_cv_train.append(cross_val['train_score'].mean())\n",
    "print(\"TEST SCORE:\", cross_val['test_score'], \"->\", cross_val['test_score'].mean())\n",
    "res_cv_test.append(cross_val['test_score'].mean())"
   ]
  },
  {
   "cell_type": "markdown",
   "id": "b4336914",
   "metadata": {},
   "source": [
    "## 7 - KNN Regression"
   ]
  },
  {
   "cell_type": "code",
   "execution_count": 58,
   "id": "f762b931",
   "metadata": {},
   "outputs": [
    {
     "data": {
      "text/plain": [
       "{'algorithm': 'auto',\n",
       " 'leaf_size': 30,\n",
       " 'metric': 'minkowski',\n",
       " 'metric_params': None,\n",
       " 'n_jobs': None,\n",
       " 'n_neighbors': 5,\n",
       " 'p': 2,\n",
       " 'weights': 'uniform'}"
      ]
     },
     "execution_count": 58,
     "metadata": {},
     "output_type": "execute_result"
    }
   ],
   "source": [
    "knnreg = KNeighborsRegressor()\n",
    "knnreg.get_params()"
   ]
  },
  {
   "cell_type": "code",
   "execution_count": 59,
   "id": "56d3c684",
   "metadata": {},
   "outputs": [
    {
     "name": "stdout",
     "output_type": "stream",
     "text": [
      ">>> Fitting and prediction were completed in 0.227 seconds.\n"
     ]
    }
   ],
   "source": [
    "# Fit the training data into the KNN regression model, then make predictions on the test data\n",
    "s_time = time.time()\n",
    "knnreg.fit(x_train, y_train)\n",
    "y_pred = knnreg.predict(x_test)\n",
    "print(\">>> Fitting and prediction were completed in {:.3f} seconds.\".format(time.time()-s_time))"
   ]
  },
  {
   "cell_type": "code",
   "execution_count": 60,
   "id": "5b9e7c4e",
   "metadata": {},
   "outputs": [
    {
     "name": "stdout",
     "output_type": "stream",
     "text": [
      "EFFECTIVE METRIC: euclidean\n",
      "EFFECTIVE METRIC PARAMS: {}\n",
      "FEATURES: 23\n",
      "FEATURE NAMES: ['Bachelor' 'LessThanBachelor' 'Master' 'PostGrad' 'Australia' 'Brazil'\n",
      " 'Canada' 'France' 'Germany' 'India' 'Israel' 'Italy' 'Netherlands'\n",
      " 'Norway' 'Poland' 'Russian Federation' 'Spain' 'Sweden' 'Switzerland'\n",
      " 'Turkey' 'USA' 'United Kingdom' 'YearsCodePro']\n",
      "SAMPLES FIT: 20464\n"
     ]
    }
   ],
   "source": [
    "# The distance metric to use. It will be the same as the 'metric' parameter or a synonym of it, e.g. 'euclidean' if the\n",
    "# metric parameter set to 'minkowski' and 'p' parameter is set to 2.\n",
    "print(\"EFFECTIVE METRIC:\", knnreg.effective_metric_)\n",
    "# Additional keyword arguments for the metric function. For most metrics will be same with 'metric_params' parameter,\n",
    "# but may also contain the 'p' parameter value if the 'effective_metric_' attribute is set to 'miknowski'.\n",
    "print(\"EFFECTIVE METRIC PARAMS:\", knnreg.effective_metric_params_)\n",
    "print(\"FEATURES:\", knnreg.n_features_in_)  # Number of features seen during fit\n",
    "print(\"FEATURE NAMES:\", knnreg.feature_names_in_)  # Names of features seen during fit\n",
    "print(\"SAMPLES FIT:\", knnreg.n_samples_fit_)  # Number of samples in the fitted data"
   ]
  },
  {
   "cell_type": "code",
   "execution_count": 61,
   "id": "0d7379be",
   "metadata": {},
   "outputs": [
    {
     "name": "stdout",
     "output_type": "stream",
     "text": [
      "             87721.0 |  69482.0\n",
      "             91234.8 | 108098.0\n",
      "            122800.0 | 189000.0\n",
      "            114400.0 | 115000.0\n",
      "             87520.8 |  47412.0\n",
      "            133800.0 | 200000.0\n",
      "             87120.8 |  84019.0\n",
      "            117718.6 |  80172.0\n",
      "             29772.6 |  37834.0\n",
      "             35456.0 |  43239.0\n",
      "             93995.6 | 148648.0\n",
      "             67955.2 | 150000.0\n",
      "            118041.4 | 183000.0\n",
      "             65086.2 |  64859.0\n",
      "             79261.8 |  70264.0\n",
      "            128200.0 | 150000.0\n",
      "             93130.6 |  66810.0\n",
      "             47927.2 |  45360.0\n",
      "             85454.4 |  84000.0\n",
      "             35110.2 |  38916.0\n"
     ]
    }
   ],
   "source": [
    "# Compare the predicted values against the actual ones for the first 20 rows of the test set\n",
    "for i in range(20):\n",
    "    print(\"{:20} | {:8}\".format(y_pred[i], y_test.iloc[i]))"
   ]
  },
  {
   "cell_type": "code",
   "execution_count": 62,
   "id": "96d8e93d",
   "metadata": {},
   "outputs": [
    {
     "name": "stdout",
     "output_type": "stream",
     "text": [
      "MSE: 965763825.3283579\n",
      "RMSE: 31076.74090583435\n",
      "MAE: 22836.693862392498\n",
      "R2 SCORE: 0.5263766909734064\n",
      "\n",
      "# CROSS VALIDATION #\n",
      "FITTING TIME: [0.01764011 0.01501179 0.00821209 0.01562524 0.01551294] -> 0.014400434494018555\n",
      "SCORING TIME: [0.14231753 0.15595031 0.20836091 0.18030739 0.14254355] -> 0.16589593887329102\n",
      "TRAIN SCORE: [0.59330287 0.56687869 0.57127775 0.56573846 0.57008853] -> 0.5734572592004807\n",
      "TEST SCORE: [0.48188628 0.53218459 0.51031299 0.52768567 0.53944851] -> 0.518303609391801\n"
     ]
    }
   ],
   "source": [
    "# Results of metrics\n",
    "mse, rmse, mae, r2 = mean_squared_error(y_test, y_pred), mean_squared_error(y_test, y_pred, squared=False), \\\n",
    "    mean_absolute_error(y_test, y_pred), r2_score(y_test, y_pred)\n",
    "print(\"MSE:\", mse)        \n",
    "print(\"RMSE:\", rmse)      \n",
    "print(\"MAE:\", mae)        \n",
    "print(\"R2 SCORE:\", r2)  \n",
    "res_mse.append(mse)\n",
    "res_rmse.append(rmse)\n",
    "res_mae.append(mae)\n",
    "res_r2.append(r2)\n",
    "print(\"\\n# CROSS VALIDATION #\")\n",
    "cross_val = cross_validate(knnreg, X, Y, cv=5, return_train_score=True)\n",
    "print(\"FITTING TIME:\", cross_val['fit_time'], \"->\", cross_val['fit_time'].mean())\n",
    "print(\"SCORING TIME:\", cross_val['score_time'], \"->\", cross_val['score_time'].mean())\n",
    "print(\"TRAIN SCORE:\", cross_val['train_score'], \"->\", cross_val['train_score'].mean())\n",
    "res_cv_train.append(cross_val['train_score'].mean())\n",
    "print(\"TEST SCORE:\", cross_val['test_score'], \"->\", cross_val['test_score'].mean())\n",
    "res_cv_test.append(cross_val['test_score'].mean())"
   ]
  },
  {
   "cell_type": "markdown",
   "id": "ce85a379",
   "metadata": {},
   "source": [
    "## 8 - Gradient Boosting"
   ]
  },
  {
   "cell_type": "code",
   "execution_count": 63,
   "id": "d5be5b6a",
   "metadata": {},
   "outputs": [
    {
     "data": {
      "text/plain": [
       "{'alpha': 0.9,\n",
       " 'ccp_alpha': 0.0,\n",
       " 'criterion': 'friedman_mse',\n",
       " 'init': None,\n",
       " 'learning_rate': 0.1,\n",
       " 'loss': 'squared_error',\n",
       " 'max_depth': 3,\n",
       " 'max_features': None,\n",
       " 'max_leaf_nodes': None,\n",
       " 'min_impurity_decrease': 0.0,\n",
       " 'min_samples_leaf': 1,\n",
       " 'min_samples_split': 2,\n",
       " 'min_weight_fraction_leaf': 0.0,\n",
       " 'n_estimators': 100,\n",
       " 'n_iter_no_change': None,\n",
       " 'random_state': None,\n",
       " 'subsample': 1.0,\n",
       " 'tol': 0.0001,\n",
       " 'validation_fraction': 0.1,\n",
       " 'verbose': 0,\n",
       " 'warm_start': False}"
      ]
     },
     "execution_count": 63,
     "metadata": {},
     "output_type": "execute_result"
    }
   ],
   "source": [
    "gradBoost = GradientBoostingRegressor()\n",
    "gradBoost.get_params()"
   ]
  },
  {
   "cell_type": "code",
   "execution_count": 64,
   "id": "3940d511",
   "metadata": {},
   "outputs": [
    {
     "name": "stdout",
     "output_type": "stream",
     "text": [
      ">>> Fitting and prediction were completed in 0.883 seconds.\n"
     ]
    }
   ],
   "source": [
    "# Fit the training data into the Gradient boosting regression model, then make predictions on the test data\n",
    "s_time = time.time()\n",
    "gradBoost.fit(x_train, y_train)\n",
    "y_pred = gradBoost.predict(x_test)\n",
    "print(\">>> Fitting and prediction were completed in {:.3f} seconds.\".format(time.time()-s_time))"
   ]
  },
  {
   "cell_type": "code",
   "execution_count": 65,
   "id": "46b8e554",
   "metadata": {},
   "outputs": [
    {
     "name": "stdout",
     "output_type": "stream",
     "text": [
      "INIT: DummyRegressor()\n",
      "ESTIMATORS (FIRST 5):\n",
      "[[DecisionTreeRegressor(criterion='friedman_mse', max_depth=3,\n",
      "                        random_state=RandomState(MT19937) at 0x21E9B091340)]\n",
      " [DecisionTreeRegressor(criterion='friedman_mse', max_depth=3,\n",
      "                        random_state=RandomState(MT19937) at 0x21E9B091340)]\n",
      " [DecisionTreeRegressor(criterion='friedman_mse', max_depth=3,\n",
      "                        random_state=RandomState(MT19937) at 0x21E9B091340)]\n",
      " [DecisionTreeRegressor(criterion='friedman_mse', max_depth=3,\n",
      "                        random_state=RandomState(MT19937) at 0x21E9B091340)]\n",
      " [DecisionTreeRegressor(criterion='friedman_mse', max_depth=3,\n",
      "                        random_state=RandomState(MT19937) at 0x21E9B091340)]]\n",
      "# OF ESTIMATORS: 100\n",
      "# OF FEATURES: 23\n",
      "MAX FEATURES: 23\n",
      "FEATURE IMPORTANCES: [4.33814871e-05 9.60863727e-03 2.14244157e-03 5.13494081e-04\n",
      " 5.32528417e-03 2.95802252e-02 1.14655018e-02 4.78914293e-03\n",
      " 6.75028003e-04 5.65719390e-02 2.45696926e-02 1.45836102e-02\n",
      " 0.00000000e+00 3.15780854e-03 8.67838026e-03 1.11870693e-02\n",
      " 1.03718198e-02 3.65632487e-04 1.81796248e-02 8.29674493e-03\n",
      " 5.90904166e-01 1.12728686e-02 1.77717507e-01]\n",
      "TRAIN SCORE:\n",
      "[1.86611191e+09 1.70940868e+09 1.58102486e+09 1.47636946e+09\n",
      " 1.38950772e+09 1.31822266e+09 1.25926117e+09 1.20998081e+09\n",
      " 1.16863484e+09 1.13361234e+09 1.10342257e+09 1.07854447e+09\n",
      " 1.05695098e+09 1.03824661e+09 1.02175195e+09 1.00779564e+09\n",
      " 9.95280947e+08 9.84049568e+08 9.72883820e+08 9.63064032e+08\n",
      " 9.53255209e+08 9.45210189e+08 9.37513848e+08 9.30876343e+08\n",
      " 9.24398554e+08 9.18291088e+08 9.12160230e+08 9.06726995e+08\n",
      " 9.01478630e+08 8.96465336e+08 8.91507663e+08 8.87117399e+08\n",
      " 8.82961375e+08 8.78938274e+08 8.74528186e+08 8.70784632e+08\n",
      " 8.67321983e+08 8.63753043e+08 8.60546486e+08 8.57457145e+08\n",
      " 8.54238677e+08 8.51358452e+08 8.48671438e+08 8.46042380e+08\n",
      " 8.43002151e+08 8.40609174e+08 8.37871815e+08 8.35655880e+08\n",
      " 8.33279051e+08 8.31193230e+08 8.29205887e+08 8.27346719e+08\n",
      " 8.25539760e+08 8.23873258e+08 8.22056228e+08 8.20497003e+08\n",
      " 8.18805283e+08 8.17279168e+08 8.15939989e+08 8.14440356e+08\n",
      " 8.13198673e+08 8.11863195e+08 8.10497308e+08 8.09313827e+08\n",
      " 8.08045067e+08 8.07012195e+08 8.06017951e+08 8.04925021e+08\n",
      " 8.03975694e+08 8.02911174e+08 8.02037688e+08 8.01068950e+08\n",
      " 8.00268789e+08 7.99455071e+08 7.98619674e+08 7.97877387e+08\n",
      " 7.97199338e+08 7.96519895e+08 7.95743606e+08 7.95125784e+08\n",
      " 7.94511191e+08 7.93821697e+08 7.93267482e+08 7.92610993e+08\n",
      " 7.92001309e+08 7.91415335e+08 7.90924082e+08 7.90396627e+08\n",
      " 7.89948162e+08 7.89489529e+08 7.89027635e+08 7.88520003e+08\n",
      " 7.87972680e+08 7.87449833e+08 7.87032587e+08 7.86627414e+08\n",
      " 7.86227978e+08 7.85855331e+08 7.85499528e+08 7.85160683e+08]\n"
     ]
    }
   ],
   "source": [
    "print(\"INIT:\", gradBoost.init_)  # The estimator that provides the initial predictions\n",
    "print(\"ESTIMATORS (FIRST 5):\\n{}\".format(gradBoost.estimators_[:5]))  # The collection of fitted sub-estimators\n",
    "# The number of estimators as selected by early stopping (if 'n_iter_no_change' is specified).\n",
    "# Otherwise, it is set to 'n_estimators'\n",
    "print(\"# OF ESTIMATORS:\", gradBoost.n_estimators_)\n",
    "print(\"# OF FEATURES:\", gradBoost.n_features_in_)  # Number of features seen during fit\n",
    "print(\"MAX FEATURES:\", gradBoost.max_features_)  # The inferred value of max_features\n",
    "print(\"FEATURE IMPORTANCES:\", gradBoost.feature_importances_)  # The impurity-based feature importances\n",
    "# The i'th score 'train_score[i]' is the loss of the model at iteration i on the in-bag sample.\n",
    "# If subsample == 1, this is the loss on the training data.\n",
    "print(\"TRAIN SCORE:\\n{}\".format(gradBoost.train_score_))"
   ]
  },
  {
   "cell_type": "code",
   "execution_count": 66,
   "id": "bc3c7d3f",
   "metadata": {},
   "outputs": [
    {
     "name": "stdout",
     "output_type": "stream",
     "text": [
      "    75677.5961140632 |  69482.0\n",
      "   73599.49264800076 | 108098.0\n",
      "  125891.20904016346 | 189000.0\n",
      "  110011.36122951652 | 115000.0\n",
      "   78237.90558517838 |  47412.0\n",
      "  130780.57262033655 | 200000.0\n",
      "   84966.53630548934 |  84019.0\n",
      "   97299.42553358026 |  80172.0\n",
      "   38800.82291786955 |  37834.0\n",
      "   44581.81189587199 |  43239.0\n",
      "   84689.72399553163 | 148648.0\n",
      "  100311.67990630586 | 150000.0\n",
      "  135260.08444475182 | 183000.0\n",
      "   55208.84844093888 |  64859.0\n",
      "  62846.682197529124 |  70264.0\n",
      "  136776.78807116873 | 150000.0\n",
      "   93476.83263392156 |  66810.0\n",
      "   43580.65862954357 |  45360.0\n",
      "   95385.05950382909 |  84000.0\n",
      "   42875.49248807723 |  38916.0\n"
     ]
    }
   ],
   "source": [
    "# Compare the predicted values against the actual ones for the first 20 rows of the test set\n",
    "for i in range(20):\n",
    "    print(\"{:20} | {:8}\".format(y_pred[i], y_test.iloc[i]))"
   ]
  },
  {
   "cell_type": "code",
   "execution_count": 67,
   "id": "bec4c764",
   "metadata": {},
   "outputs": [
    {
     "name": "stdout",
     "output_type": "stream",
     "text": [
      "MSE: 789289539.1122394\n",
      "RMSE: 28094.29727030451\n",
      "MAE: 20808.00894363779\n",
      "R2 SCORE: 0.6129220069230552\n",
      "\n",
      "# CROSS VALIDATION #\n",
      "FITTING TIME: [0.9984374  1.03851414 0.90304399 0.87404609 0.88894653] -> 0.9405976295471191\n",
      "SCORING TIME: [0.01563358 0.01856923 0.         0.01565599 0.01400685] -> 0.01277313232421875\n",
      "TRAIN SCORE: [0.63060102 0.6152982  0.61763474 0.61430245 0.61470344] -> 0.6185079696961384\n",
      "TEST SCORE: [0.56427021 0.62259026 0.61398441 0.61135991 0.62846025] -> 0.6081330104102289\n"
     ]
    }
   ],
   "source": [
    "# Results of metrics\n",
    "mse, rmse, mae, r2 = mean_squared_error(y_test, y_pred), mean_squared_error(y_test, y_pred, squared=False), \\\n",
    "    mean_absolute_error(y_test, y_pred), r2_score(y_test, y_pred)\n",
    "print(\"MSE:\", mse)        \n",
    "print(\"RMSE:\", rmse)      \n",
    "print(\"MAE:\", mae)        \n",
    "print(\"R2 SCORE:\", r2)  \n",
    "res_mse.append(mse)\n",
    "res_rmse.append(rmse)\n",
    "res_mae.append(mae)\n",
    "res_r2.append(r2)\n",
    "print(\"\\n# CROSS VALIDATION #\")\n",
    "cross_val = cross_validate(gradBoost, X, Y, cv=5, return_train_score=True)\n",
    "print(\"FITTING TIME:\", cross_val['fit_time'], \"->\", cross_val['fit_time'].mean())\n",
    "print(\"SCORING TIME:\", cross_val['score_time'], \"->\", cross_val['score_time'].mean())\n",
    "print(\"TRAIN SCORE:\", cross_val['train_score'], \"->\", cross_val['train_score'].mean())\n",
    "res_cv_train.append(cross_val['train_score'].mean())\n",
    "print(\"TEST SCORE:\", cross_val['test_score'], \"->\", cross_val['test_score'].mean())\n",
    "res_cv_test.append(cross_val['test_score'].mean())"
   ]
  },
  {
   "cell_type": "markdown",
   "id": "e1e0ab1a",
   "metadata": {},
   "source": [
    "## 9 - XGBoost"
   ]
  },
  {
   "cell_type": "code",
   "execution_count": 68,
   "id": "26be52ff",
   "metadata": {},
   "outputs": [
    {
     "data": {
      "text/plain": [
       "{'objective': 'reg:squarederror',\n",
       " 'base_score': None,\n",
       " 'booster': None,\n",
       " 'callbacks': None,\n",
       " 'colsample_bylevel': None,\n",
       " 'colsample_bynode': None,\n",
       " 'colsample_bytree': None,\n",
       " 'device': None,\n",
       " 'early_stopping_rounds': None,\n",
       " 'enable_categorical': False,\n",
       " 'eval_metric': None,\n",
       " 'feature_types': None,\n",
       " 'gamma': None,\n",
       " 'grow_policy': None,\n",
       " 'importance_type': None,\n",
       " 'interaction_constraints': None,\n",
       " 'learning_rate': None,\n",
       " 'max_bin': None,\n",
       " 'max_cat_threshold': None,\n",
       " 'max_cat_to_onehot': None,\n",
       " 'max_delta_step': None,\n",
       " 'max_depth': None,\n",
       " 'max_leaves': None,\n",
       " 'min_child_weight': None,\n",
       " 'missing': nan,\n",
       " 'monotone_constraints': None,\n",
       " 'multi_strategy': None,\n",
       " 'n_estimators': None,\n",
       " 'n_jobs': None,\n",
       " 'num_parallel_tree': None,\n",
       " 'random_state': None,\n",
       " 'reg_alpha': None,\n",
       " 'reg_lambda': None,\n",
       " 'sampling_method': None,\n",
       " 'scale_pos_weight': None,\n",
       " 'subsample': None,\n",
       " 'tree_method': None,\n",
       " 'validate_parameters': None,\n",
       " 'verbosity': None}"
      ]
     },
     "execution_count": 68,
     "metadata": {},
     "output_type": "execute_result"
    }
   ],
   "source": [
    "xgb = xgboost.XGBRegressor()\n",
    "xgb.get_params()"
   ]
  },
  {
   "cell_type": "code",
   "execution_count": 69,
   "id": "e9075f85",
   "metadata": {},
   "outputs": [
    {
     "name": "stdout",
     "output_type": "stream",
     "text": [
      ">>> Fitting and prediction were completed in 0.125 seconds.\n"
     ]
    }
   ],
   "source": [
    "# Fit the training data into the extreme gradient boosting regression model, then make predictions on the test data\n",
    "s_time = time.time()\n",
    "xgb.fit(x_train, y_train)\n",
    "y_pred = xgb.predict(x_test)\n",
    "print(\">>> Fitting and prediction were completed in {:.3f} seconds.\".format(time.time()-s_time))"
   ]
  },
  {
   "cell_type": "code",
   "execution_count": 70,
   "id": "df0ba677",
   "metadata": {},
   "outputs": [
    {
     "name": "stdout",
     "output_type": "stream",
     "text": [
      "        81921.703125 |  69482.0\n",
      "        79695.859375 | 108098.0\n",
      "      125449.7734375 | 189000.0\n",
      "      108742.1953125 | 115000.0\n",
      "       80461.5234375 |  47412.0\n",
      "      129704.9140625 | 200000.0\n",
      "       92188.2734375 |  84019.0\n",
      "      117977.6640625 |  80172.0\n",
      "       31018.8046875 |  37834.0\n",
      "      40686.87890625 |  43239.0\n",
      "       89477.8203125 | 148648.0\n",
      "       98519.0703125 | 150000.0\n",
      "       136433.390625 | 183000.0\n",
      "      54447.58984375 |  64859.0\n",
      "      65259.36328125 |  70264.0\n",
      "      128126.2265625 | 150000.0\n",
      "       84028.8046875 |  66810.0\n",
      "      39009.89453125 |  45360.0\n",
      "        99114.484375 |  84000.0\n",
      "      36054.39453125 |  38916.0\n"
     ]
    }
   ],
   "source": [
    "# Compare the predicted values against the actual ones for the first 20 rows of the test set\n",
    "for i in range(20):\n",
    "    print(\"{:20} | {:8}\".format(y_pred[i], y_test.iloc[i]))"
   ]
  },
  {
   "cell_type": "code",
   "execution_count": 71,
   "id": "a7029c40",
   "metadata": {},
   "outputs": [
    {
     "name": "stdout",
     "output_type": "stream",
     "text": [
      "MSE: 806626084.3532209\n",
      "RMSE: 28401.16343309233\n",
      "MAE: 20829.217144283863\n",
      "R2 SCORE: 0.6044199366354969\n",
      "\n",
      "# CROSS VALIDATION #\n",
      "FITTING TIME: [0.13573217 0.12841487 0.11242127 0.1284194  0.12540722] -> 0.12607898712158203\n",
      "SCORING TIME: [0.         0.         0.01562333 0.0130055  0.        ] -> 0.005725765228271484\n",
      "TRAIN SCORE: [0.65848452 0.64385655 0.64472587 0.64313483 0.64285725] -> 0.6466118031988632\n",
      "TEST SCORE: [0.55376947 0.61666002 0.60288479 0.60632622 0.62278849] -> 0.6004857974743738\n"
     ]
    }
   ],
   "source": [
    "# Results of metrics\n",
    "mse, rmse, mae, r2 = mean_squared_error(y_test, y_pred), mean_squared_error(y_test, y_pred, squared=False), \\\n",
    "    mean_absolute_error(y_test, y_pred), r2_score(y_test, y_pred)\n",
    "print(\"MSE:\", mse)        \n",
    "print(\"RMSE:\", rmse)      \n",
    "print(\"MAE:\", mae)        \n",
    "print(\"R2 SCORE:\", r2)  \n",
    "res_mse.append(mse)\n",
    "res_rmse.append(rmse)\n",
    "res_mae.append(mae)\n",
    "res_r2.append(r2)\n",
    "print(\"\\n# CROSS VALIDATION #\")\n",
    "cross_val = cross_validate(xgb, X, Y, cv=5, return_train_score=True)\n",
    "print(\"FITTING TIME:\", cross_val['fit_time'], \"->\", cross_val['fit_time'].mean())\n",
    "print(\"SCORING TIME:\", cross_val['score_time'], \"->\", cross_val['score_time'].mean())\n",
    "print(\"TRAIN SCORE:\", cross_val['train_score'], \"->\", cross_val['train_score'].mean())\n",
    "res_cv_train.append(cross_val['train_score'].mean())\n",
    "print(\"TEST SCORE:\", cross_val['test_score'], \"->\", cross_val['test_score'].mean())\n",
    "res_cv_test.append(cross_val['test_score'].mean())"
   ]
  },
  {
   "cell_type": "markdown",
   "id": "2358532c",
   "metadata": {},
   "source": [
    "## Results of Metrics of All ML Models Together"
   ]
  },
  {
   "cell_type": "code",
   "execution_count": 72,
   "id": "c4b4f472",
   "metadata": {},
   "outputs": [
    {
     "data": {
      "image/png": "[encoded data removed]",
      "text/plain": [
       "<Figure size 900x400 with 1 Axes>"
      ]
     },
     "metadata": {},
     "output_type": "display_data"
    }
   ],
   "source": [
    "methods = ['LinReg', 'Lasso', 'Ridge', 'PolyLasso', 'PolyRidge', 'DTree', 'RForest', 'KNNReg', 'GradBoost', 'XGBoost']\n",
    "plt.figure(figsize=(9,4))\n",
    "plt.barh(range(10), res_mse, color='#00afff')\n",
    "plt.title(\"MSE Results\", fontsize=18, fontweight='bold')\n",
    "plt.yticks(range(10), methods)\n",
    "plt.ylim(9.7,-0.7)\n",
    "plt.xlabel('MSE Values', fontsize=13, fontweight='bold')\n",
    "plt.ylabel('ML Models', fontsize=13, fontweight='bold')\n",
    "for i in range(10):\n",
    "    plt.text(res_mse[i]-200000000, i+0.12, \"{:.3f}\".format(res_mse[i]), fontweight='bold')\n",
    "plt.show()"
   ]
  },
  {
   "cell_type": "code",
   "execution_count": 73,
   "id": "f4642512",
   "metadata": {},
   "outputs": [
    {
     "data": {
      "image/png": "[encoded data removed]",
      "text/plain": [
       "<Figure size 900x400 with 1 Axes>"
      ]
     },
     "metadata": {},
     "output_type": "display_data"
    }
   ],
   "source": [
    "plt.figure(figsize=(9,4))\n",
    "plt.barh(range(10), res_rmse, color='#00afff')\n",
    "plt.title(\"RMSE Results\", fontsize=18, fontweight='bold')\n",
    "plt.yticks(range(10), methods)\n",
    "plt.ylim(9.7,-0.7)\n",
    "plt.xlabel('RMSE Values', fontsize=13, fontweight='bold')\n",
    "plt.ylabel('ML Models', fontsize=13, fontweight='bold')\n",
    "for i in range(10):\n",
    "    plt.text(res_rmse[i]-4500, i+0.12, \"{:.2f}\".format(res_rmse[i]), fontweight='bold')\n",
    "plt.show()"
   ]
  },
  {
   "cell_type": "code",
   "execution_count": 74,
   "id": "16590519",
   "metadata": {},
   "outputs": [
    {
     "data": {
      "image/png": "[encoded data removed]",
      "text/plain": [
       "<Figure size 900x400 with 1 Axes>"
      ]
     },
     "metadata": {},
     "output_type": "display_data"
    }
   ],
   "source": [
    "plt.figure(figsize=(9,4))\n",
    "plt.barh(range(10), res_mae, color='#00afff')\n",
    "plt.title(\"MAE Results\", fontsize=18, fontweight='bold')\n",
    "plt.yticks(range(10), methods)\n",
    "plt.ylim(9.7,-0.7)\n",
    "plt.xlabel('MAE Values', fontsize=13, fontweight='bold')\n",
    "plt.ylabel('ML Models', fontsize=13, fontweight='bold')\n",
    "for i in range(10):\n",
    "    plt.text(res_mae[i]-3500, i+0.12, \"{:.3f}\".format(res_mae[i]), fontweight='bold')\n",
    "plt.show()"
   ]
  },
  {
   "cell_type": "code",
   "execution_count": 75,
   "id": "cb35b000",
   "metadata": {},
   "outputs": [
    {
     "data": {
      "image/png": "[encoded data removed]",
      "text/plain": [
       "<Figure size 900x400 with 1 Axes>"
      ]
     },
     "metadata": {},
     "output_type": "display_data"
    }
   ],
   "source": [
    "plt.figure(figsize=(9,4))\n",
    "plt.barh(range(10), res_r2, color='#00afff')\n",
    "plt.title(\"R2 Score Results\", fontsize=18, fontweight='bold')\n",
    "plt.yticks(range(10), methods)\n",
    "plt.ylim(9.7,-0.7)\n",
    "plt.xlabel('R2 Scores', fontsize=13, fontweight='bold')\n",
    "plt.ylabel('ML Models', fontsize=13, fontweight='bold')\n",
    "for i in range(10):\n",
    "    plt.text(res_r2[i]-0.06, i+0.12, \"{:.4f}\".format(res_r2[i]), fontweight='bold')\n",
    "plt.show()"
   ]
  },
  {
   "cell_type": "code",
   "execution_count": 76,
   "id": "c7bd7e67",
   "metadata": {},
   "outputs": [
    {
     "data": {
      "image/png": "[encoded data removed]",
      "text/plain": [
       "<Figure size 900x400 with 1 Axes>"
      ]
     },
     "metadata": {},
     "output_type": "display_data"
    }
   ],
   "source": [
    "plt.figure(figsize=(9,4))\n",
    "plt.barh(range(10), res_cv_train, color='#00afff')\n",
    "plt.title(\"5-Fold CV Results (Train)\", fontsize=18, fontweight='bold')\n",
    "plt.yticks(range(10), methods)\n",
    "plt.ylim(9.7,-0.7)\n",
    "plt.xlabel('Train Scores', fontsize=13, fontweight='bold')\n",
    "plt.ylabel('ML Models', fontsize=13, fontweight='bold')\n",
    "for i in range(10):\n",
    "    plt.text(res_cv_train[i]-0.06, i+0.12, \"{:.4f}\".format(res_cv_train[i]), fontweight='bold')\n",
    "plt.show()"
   ]
  },
  {
   "cell_type": "code",
   "execution_count": 77,
   "id": "52473b78",
   "metadata": {},
   "outputs": [
    {
     "data": {
      "image/png": "[encoded data removed]",
      "text/plain": [
       "<Figure size 900x400 with 1 Axes>"
      ]
     },
     "metadata": {},
     "output_type": "display_data"
    }
   ],
   "source": [
    "plt.figure(figsize=(9,4))\n",
    "plt.barh(range(10), res_cv_test, color='#00afff')\n",
    "plt.title(\"5-Fold CV Results (Test)\", fontsize=18, fontweight='bold')\n",
    "plt.yticks(range(10), methods)\n",
    "plt.ylim(9.7,-0.7)\n",
    "plt.xlabel('Test Scores', fontsize=13, fontweight='bold')\n",
    "plt.ylabel('ML Models', fontsize=13, fontweight='bold')\n",
    "for i in range(10):\n",
    "    plt.text(res_cv_test[i]-0.06, i+0.12, \"{:.4f}\".format(res_cv_test[i]), fontweight='bold')\n",
    "plt.show()"
   ]
  }
 ],
 "metadata": {
  "kernelspec": {
   "display_name": "Python 3 (ipykernel)",
   "language": "python",
   "name": "python3"
  },
  "language_info": {
   "codemirror_mode": {
    "name": "ipython",
    "version": 3
   },
   "file_extension": ".py",
   "mimetype": "text/x-python",
   "name": "python",
   "nbconvert_exporter": "python",
   "pygments_lexer": "ipython3",
   "version": "3.10.8"
  }
 },
 "nbformat": 4,
 "nbformat_minor": 5
}
