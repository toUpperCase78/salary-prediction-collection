{
 "cells": [
  {
   "cell_type": "markdown",
   "id": "5669a614",
   "metadata": {},
   "source": [
    "# 05. DheerajKumar97/Employee-Salary-Prediction----python--ML\n",
    "\n",
    "## Predictions with ML Regression Models (T3) - train.csv"
   ]
  },
  {
   "cell_type": "code",
   "execution_count": 1,
   "id": "6a85fdc1",
   "metadata": {},
   "outputs": [],
   "source": [
    "import numpy as np\n",
    "import pandas as pd \n",
    "import matplotlib.pyplot as plt \n",
    "import seaborn as sns\n",
    "import warnings\n",
    "import time\n",
    "warnings.filterwarnings('ignore')\n",
    "from sklearn.linear_model import LinearRegression, Lasso, Ridge\n",
    "from sklearn.tree import DecisionTreeRegressor\n",
    "from sklearn.ensemble import RandomForestRegressor, GradientBoostingRegressor\n",
    "from sklearn.neighbors import KNeighborsRegressor\n",
    "from sklearn.svm import SVR\n",
    "from sklearn.neural_network import MLPRegressor\n",
    "import xgboost\n",
    "from sklearn.model_selection import train_test_split, cross_val_score, cross_validate\n",
    "from sklearn.preprocessing import OneHotEncoder, PolynomialFeatures, StandardScaler, MinMaxScaler\n",
    "from sklearn.metrics import mean_squared_error, mean_absolute_error, r2_score, get_scorer_names\n",
    "df = pd.read_csv('05_train.csv')"
   ]
  },
  {
   "cell_type": "code",
   "execution_count": 2,
   "id": "d868dd09",
   "metadata": {},
   "outputs": [
    {
     "data": {
      "text/html": [
       "<div>\n",
       "<style scoped>\n",
       "    .dataframe tbody tr th:only-of-type {\n",
       "        vertical-align: middle;\n",
       "    }\n",
       "\n",
       "    .dataframe tbody tr th {\n",
       "        vertical-align: top;\n",
       "    }\n",
       "\n",
       "    .dataframe thead th {\n",
       "        text-align: right;\n",
       "    }\n",
       "</style>\n",
       "<table border=\"1\" class=\"dataframe\">\n",
       "  <thead>\n",
       "    <tr style=\"text-align: right;\">\n",
       "      <th></th>\n",
       "      <th>User_ID</th>\n",
       "      <th>Product_ID</th>\n",
       "      <th>Gender</th>\n",
       "      <th>Age</th>\n",
       "      <th>Occupation</th>\n",
       "      <th>City_Category</th>\n",
       "      <th>Stay_In_Current_City_Years</th>\n",
       "      <th>Marital_Status</th>\n",
       "      <th>Product_Category_1</th>\n",
       "      <th>Product_Category_2</th>\n",
       "      <th>Product_Category_3</th>\n",
       "      <th>Purchase</th>\n",
       "    </tr>\n",
       "  </thead>\n",
       "  <tbody>\n",
       "    <tr>\n",
       "      <th>0</th>\n",
       "      <td>1000001</td>\n",
       "      <td>P00069042</td>\n",
       "      <td>F</td>\n",
       "      <td>0-17</td>\n",
       "      <td>10</td>\n",
       "      <td>A</td>\n",
       "      <td>2</td>\n",
       "      <td>0</td>\n",
       "      <td>3</td>\n",
       "      <td>NaN</td>\n",
       "      <td>NaN</td>\n",
       "      <td>8370</td>\n",
       "    </tr>\n",
       "    <tr>\n",
       "      <th>1</th>\n",
       "      <td>1000001</td>\n",
       "      <td>P00248942</td>\n",
       "      <td>F</td>\n",
       "      <td>0-17</td>\n",
       "      <td>10</td>\n",
       "      <td>A</td>\n",
       "      <td>2</td>\n",
       "      <td>0</td>\n",
       "      <td>1</td>\n",
       "      <td>6.0</td>\n",
       "      <td>14.0</td>\n",
       "      <td>15200</td>\n",
       "    </tr>\n",
       "    <tr>\n",
       "      <th>2</th>\n",
       "      <td>1000001</td>\n",
       "      <td>P00087842</td>\n",
       "      <td>F</td>\n",
       "      <td>0-17</td>\n",
       "      <td>10</td>\n",
       "      <td>A</td>\n",
       "      <td>2</td>\n",
       "      <td>0</td>\n",
       "      <td>12</td>\n",
       "      <td>NaN</td>\n",
       "      <td>NaN</td>\n",
       "      <td>1422</td>\n",
       "    </tr>\n",
       "    <tr>\n",
       "      <th>3</th>\n",
       "      <td>1000001</td>\n",
       "      <td>P00085442</td>\n",
       "      <td>F</td>\n",
       "      <td>0-17</td>\n",
       "      <td>10</td>\n",
       "      <td>A</td>\n",
       "      <td>2</td>\n",
       "      <td>0</td>\n",
       "      <td>12</td>\n",
       "      <td>14.0</td>\n",
       "      <td>NaN</td>\n",
       "      <td>1057</td>\n",
       "    </tr>\n",
       "    <tr>\n",
       "      <th>4</th>\n",
       "      <td>1000002</td>\n",
       "      <td>P00285442</td>\n",
       "      <td>M</td>\n",
       "      <td>55+</td>\n",
       "      <td>16</td>\n",
       "      <td>C</td>\n",
       "      <td>4+</td>\n",
       "      <td>0</td>\n",
       "      <td>8</td>\n",
       "      <td>NaN</td>\n",
       "      <td>NaN</td>\n",
       "      <td>7969</td>\n",
       "    </tr>\n",
       "  </tbody>\n",
       "</table>\n",
       "</div>"
      ],
      "text/plain": [
       "   User_ID Product_ID Gender   Age  Occupation City_Category  \\\n",
       "0  1000001  P00069042      F  0-17          10             A   \n",
       "1  1000001  P00248942      F  0-17          10             A   \n",
       "2  1000001  P00087842      F  0-17          10             A   \n",
       "3  1000001  P00085442      F  0-17          10             A   \n",
       "4  1000002  P00285442      M   55+          16             C   \n",
       "\n",
       "  Stay_In_Current_City_Years  Marital_Status  Product_Category_1  \\\n",
       "0                          2               0                   3   \n",
       "1                          2               0                   1   \n",
       "2                          2               0                  12   \n",
       "3                          2               0                  12   \n",
       "4                         4+               0                   8   \n",
       "\n",
       "   Product_Category_2  Product_Category_3  Purchase  \n",
       "0                 NaN                 NaN      8370  \n",
       "1                 6.0                14.0     15200  \n",
       "2                 NaN                 NaN      1422  \n",
       "3                14.0                 NaN      1057  \n",
       "4                 NaN                 NaN      7969  "
      ]
     },
     "execution_count": 2,
     "metadata": {},
     "output_type": "execute_result"
    }
   ],
   "source": [
    "# First 5 rows of the dataset\n",
    "df.head()"
   ]
  },
  {
   "cell_type": "code",
   "execution_count": 3,
   "id": "60296a76",
   "metadata": {},
   "outputs": [
    {
     "data": {
      "text/html": [
       "<div>\n",
       "<style scoped>\n",
       "    .dataframe tbody tr th:only-of-type {\n",
       "        vertical-align: middle;\n",
       "    }\n",
       "\n",
       "    .dataframe tbody tr th {\n",
       "        vertical-align: top;\n",
       "    }\n",
       "\n",
       "    .dataframe thead th {\n",
       "        text-align: right;\n",
       "    }\n",
       "</style>\n",
       "<table border=\"1\" class=\"dataframe\">\n",
       "  <thead>\n",
       "    <tr style=\"text-align: right;\">\n",
       "      <th></th>\n",
       "      <th>User_ID</th>\n",
       "      <th>Product_ID</th>\n",
       "      <th>Gender</th>\n",
       "      <th>Age</th>\n",
       "      <th>Occupation</th>\n",
       "      <th>City_Category</th>\n",
       "      <th>Stay_In_Current_City_Years</th>\n",
       "      <th>Marital_Status</th>\n",
       "      <th>Product_Category_1</th>\n",
       "      <th>Product_Category_2</th>\n",
       "      <th>Product_Category_3</th>\n",
       "      <th>Purchase</th>\n",
       "    </tr>\n",
       "  </thead>\n",
       "  <tbody>\n",
       "    <tr>\n",
       "      <th>550063</th>\n",
       "      <td>1006033</td>\n",
       "      <td>P00372445</td>\n",
       "      <td>M</td>\n",
       "      <td>51-55</td>\n",
       "      <td>13</td>\n",
       "      <td>B</td>\n",
       "      <td>1</td>\n",
       "      <td>1</td>\n",
       "      <td>20</td>\n",
       "      <td>NaN</td>\n",
       "      <td>NaN</td>\n",
       "      <td>368</td>\n",
       "    </tr>\n",
       "    <tr>\n",
       "      <th>550064</th>\n",
       "      <td>1006035</td>\n",
       "      <td>P00375436</td>\n",
       "      <td>F</td>\n",
       "      <td>26-35</td>\n",
       "      <td>1</td>\n",
       "      <td>C</td>\n",
       "      <td>3</td>\n",
       "      <td>0</td>\n",
       "      <td>20</td>\n",
       "      <td>NaN</td>\n",
       "      <td>NaN</td>\n",
       "      <td>371</td>\n",
       "    </tr>\n",
       "    <tr>\n",
       "      <th>550065</th>\n",
       "      <td>1006036</td>\n",
       "      <td>P00375436</td>\n",
       "      <td>F</td>\n",
       "      <td>26-35</td>\n",
       "      <td>15</td>\n",
       "      <td>B</td>\n",
       "      <td>4+</td>\n",
       "      <td>1</td>\n",
       "      <td>20</td>\n",
       "      <td>NaN</td>\n",
       "      <td>NaN</td>\n",
       "      <td>137</td>\n",
       "    </tr>\n",
       "    <tr>\n",
       "      <th>550066</th>\n",
       "      <td>1006038</td>\n",
       "      <td>P00375436</td>\n",
       "      <td>F</td>\n",
       "      <td>55+</td>\n",
       "      <td>1</td>\n",
       "      <td>C</td>\n",
       "      <td>2</td>\n",
       "      <td>0</td>\n",
       "      <td>20</td>\n",
       "      <td>NaN</td>\n",
       "      <td>NaN</td>\n",
       "      <td>365</td>\n",
       "    </tr>\n",
       "    <tr>\n",
       "      <th>550067</th>\n",
       "      <td>1006039</td>\n",
       "      <td>P00371644</td>\n",
       "      <td>F</td>\n",
       "      <td>46-50</td>\n",
       "      <td>0</td>\n",
       "      <td>B</td>\n",
       "      <td>4+</td>\n",
       "      <td>1</td>\n",
       "      <td>20</td>\n",
       "      <td>NaN</td>\n",
       "      <td>NaN</td>\n",
       "      <td>490</td>\n",
       "    </tr>\n",
       "  </tbody>\n",
       "</table>\n",
       "</div>"
      ],
      "text/plain": [
       "        User_ID Product_ID Gender    Age  Occupation City_Category  \\\n",
       "550063  1006033  P00372445      M  51-55          13             B   \n",
       "550064  1006035  P00375436      F  26-35           1             C   \n",
       "550065  1006036  P00375436      F  26-35          15             B   \n",
       "550066  1006038  P00375436      F    55+           1             C   \n",
       "550067  1006039  P00371644      F  46-50           0             B   \n",
       "\n",
       "       Stay_In_Current_City_Years  Marital_Status  Product_Category_1  \\\n",
       "550063                          1               1                  20   \n",
       "550064                          3               0                  20   \n",
       "550065                         4+               1                  20   \n",
       "550066                          2               0                  20   \n",
       "550067                         4+               1                  20   \n",
       "\n",
       "        Product_Category_2  Product_Category_3  Purchase  \n",
       "550063                 NaN                 NaN       368  \n",
       "550064                 NaN                 NaN       371  \n",
       "550065                 NaN                 NaN       137  \n",
       "550066                 NaN                 NaN       365  \n",
       "550067                 NaN                 NaN       490  "
      ]
     },
     "execution_count": 3,
     "metadata": {},
     "output_type": "execute_result"
    }
   ],
   "source": [
    "# Last 5 rows of the dataset\n",
    "df.tail()"
   ]
  },
  {
   "cell_type": "code",
   "execution_count": 4,
   "id": "8e90f5eb",
   "metadata": {},
   "outputs": [
    {
     "name": "stdout",
     "output_type": "stream",
     "text": [
      "<class 'pandas.core.frame.DataFrame'>\n",
      "RangeIndex: 550068 entries, 0 to 550067\n",
      "Data columns (total 12 columns):\n",
      " #   Column                      Non-Null Count   Dtype  \n",
      "---  ------                      --------------   -----  \n",
      " 0   User_ID                     550068 non-null  int64  \n",
      " 1   Product_ID                  550068 non-null  object \n",
      " 2   Gender                      550068 non-null  object \n",
      " 3   Age                         550068 non-null  object \n",
      " 4   Occupation                  550068 non-null  int64  \n",
      " 5   City_Category               550068 non-null  object \n",
      " 6   Stay_In_Current_City_Years  550068 non-null  object \n",
      " 7   Marital_Status              550068 non-null  int64  \n",
      " 8   Product_Category_1          550068 non-null  int64  \n",
      " 9   Product_Category_2          376430 non-null  float64\n",
      " 10  Product_Category_3          166821 non-null  float64\n",
      " 11  Purchase                    550068 non-null  int64  \n",
      "dtypes: float64(2), int64(5), object(5)\n",
      "memory usage: 50.4+ MB\n"
     ]
    }
   ],
   "source": [
    "# All available columns, their counts and data types\n",
    "df.info()"
   ]
  },
  {
   "cell_type": "markdown",
   "id": "960ba9cc",
   "metadata": {},
   "source": [
    "## Preprocessing\n",
    "\n",
    "All preprocessing steps are done in almost exactly the same way as the author."
   ]
  },
  {
   "cell_type": "code",
   "execution_count": 5,
   "id": "f4eada37",
   "metadata": {},
   "outputs": [
    {
     "name": "stdout",
     "output_type": "stream",
     "text": [
      "Gender -> ['F' 'M']\n",
      "Age -> ['0-17' '55+' '26-35' '46-50' '51-55' '36-45' '18-25']\n",
      "City_Category -> ['A' 'C' 'B']\n",
      "Stay_In_Current_City_Years -> ['2' '4+' '3' '1' '0']\n"
     ]
    },
    {
     "data": {
      "text/html": [
       "<div>\n",
       "<style scoped>\n",
       "    .dataframe tbody tr th:only-of-type {\n",
       "        vertical-align: middle;\n",
       "    }\n",
       "\n",
       "    .dataframe tbody tr th {\n",
       "        vertical-align: top;\n",
       "    }\n",
       "\n",
       "    .dataframe thead th {\n",
       "        text-align: right;\n",
       "    }\n",
       "</style>\n",
       "<table border=\"1\" class=\"dataframe\">\n",
       "  <thead>\n",
       "    <tr style=\"text-align: right;\">\n",
       "      <th></th>\n",
       "      <th>Product_ID</th>\n",
       "      <th>Gender</th>\n",
       "      <th>Age</th>\n",
       "      <th>City_Category</th>\n",
       "      <th>Stay_In_Current_City_Years</th>\n",
       "    </tr>\n",
       "  </thead>\n",
       "  <tbody>\n",
       "    <tr>\n",
       "      <th>0</th>\n",
       "      <td>P00069042</td>\n",
       "      <td>F</td>\n",
       "      <td>0-17</td>\n",
       "      <td>A</td>\n",
       "      <td>2</td>\n",
       "    </tr>\n",
       "    <tr>\n",
       "      <th>1</th>\n",
       "      <td>P00248942</td>\n",
       "      <td>F</td>\n",
       "      <td>0-17</td>\n",
       "      <td>A</td>\n",
       "      <td>2</td>\n",
       "    </tr>\n",
       "    <tr>\n",
       "      <th>2</th>\n",
       "      <td>P00087842</td>\n",
       "      <td>F</td>\n",
       "      <td>0-17</td>\n",
       "      <td>A</td>\n",
       "      <td>2</td>\n",
       "    </tr>\n",
       "    <tr>\n",
       "      <th>3</th>\n",
       "      <td>P00085442</td>\n",
       "      <td>F</td>\n",
       "      <td>0-17</td>\n",
       "      <td>A</td>\n",
       "      <td>2</td>\n",
       "    </tr>\n",
       "    <tr>\n",
       "      <th>4</th>\n",
       "      <td>P00285442</td>\n",
       "      <td>M</td>\n",
       "      <td>55+</td>\n",
       "      <td>C</td>\n",
       "      <td>4+</td>\n",
       "    </tr>\n",
       "    <tr>\n",
       "      <th>5</th>\n",
       "      <td>P00193542</td>\n",
       "      <td>M</td>\n",
       "      <td>26-35</td>\n",
       "      <td>A</td>\n",
       "      <td>3</td>\n",
       "    </tr>\n",
       "    <tr>\n",
       "      <th>6</th>\n",
       "      <td>P00184942</td>\n",
       "      <td>M</td>\n",
       "      <td>46-50</td>\n",
       "      <td>B</td>\n",
       "      <td>2</td>\n",
       "    </tr>\n",
       "    <tr>\n",
       "      <th>7</th>\n",
       "      <td>P00346142</td>\n",
       "      <td>M</td>\n",
       "      <td>46-50</td>\n",
       "      <td>B</td>\n",
       "      <td>2</td>\n",
       "    </tr>\n",
       "    <tr>\n",
       "      <th>8</th>\n",
       "      <td>P0097242</td>\n",
       "      <td>M</td>\n",
       "      <td>46-50</td>\n",
       "      <td>B</td>\n",
       "      <td>2</td>\n",
       "    </tr>\n",
       "    <tr>\n",
       "      <th>9</th>\n",
       "      <td>P00274942</td>\n",
       "      <td>M</td>\n",
       "      <td>26-35</td>\n",
       "      <td>A</td>\n",
       "      <td>1</td>\n",
       "    </tr>\n",
       "  </tbody>\n",
       "</table>\n",
       "</div>"
      ],
      "text/plain": [
       "  Product_ID Gender    Age City_Category Stay_In_Current_City_Years\n",
       "0  P00069042      F   0-17             A                          2\n",
       "1  P00248942      F   0-17             A                          2\n",
       "2  P00087842      F   0-17             A                          2\n",
       "3  P00085442      F   0-17             A                          2\n",
       "4  P00285442      M    55+             C                         4+\n",
       "5  P00193542      M  26-35             A                          3\n",
       "6  P00184942      M  46-50             B                          2\n",
       "7  P00346142      M  46-50             B                          2\n",
       "8   P0097242      M  46-50             B                          2\n",
       "9  P00274942      M  26-35             A                          1"
      ]
     },
     "execution_count": 5,
     "metadata": {},
     "output_type": "execute_result"
    }
   ],
   "source": [
    "# Let's get the categorical columns by checking the data type\n",
    "cat_var = [var for var in df.columns if df[var].dtypes == \"object\"]\n",
    "cat_var = df[cat_var]\n",
    "# Also check the unique values in those columns\n",
    "print(\"Gender ->\", cat_var['Gender'].unique())\n",
    "print(\"Age ->\", cat_var[\"Age\"].unique())\n",
    "print(\"City_Category ->\", cat_var[\"City_Category\"].unique())\n",
    "print(\"Stay_In_Current_City_Years ->\", cat_var['Stay_In_Current_City_Years'].unique())\n",
    "cat_var.head(10)"
   ]
  },
  {
   "cell_type": "code",
   "execution_count": 6,
   "id": "3da5ce0f",
   "metadata": {},
   "outputs": [
    {
     "data": {
      "text/plain": [
       "Product_ID                    0\n",
       "Gender                        0\n",
       "Age                           0\n",
       "City_Category                 0\n",
       "Stay_In_Current_City_Years    0\n",
       "dtype: int64"
      ]
     },
     "execution_count": 6,
     "metadata": {},
     "output_type": "execute_result"
    }
   ],
   "source": [
    "# Is there any NaN values in these columns?\n",
    "cat_var.isna().sum()"
   ]
  },
  {
   "cell_type": "code",
   "execution_count": 7,
   "id": "3400e1a1",
   "metadata": {},
   "outputs": [],
   "source": [
    "# Give these categorical age ranges some ordered values\n",
    "def order_age(Age):\n",
    "    if Age == \"0-17\":      return 1\n",
    "    elif Age == \"18-25\":   return 2\n",
    "    elif Age == \"26-35\":   return 3\n",
    "    elif Age == \"36-45\":   return 4\n",
    "    elif Age == \"46-50\":   return 5\n",
    "    elif Age == \"51-55\":   return 6\n",
    "    elif Age == \"55+\":     return 7\n",
    "    else:    return 0\n",
    "cat_var['Age'] = cat_var['Age'].apply(order_age)"
   ]
  },
  {
   "cell_type": "code",
   "execution_count": 8,
   "id": "5bb7438b",
   "metadata": {},
   "outputs": [],
   "source": [
    "# Give these categorical current city years being stayed some ordered values\n",
    "def order_stay_in_current_city_years(Stay_In_Current_City_Years):\n",
    "    if Stay_In_Current_City_Years == \"0\":      return 1\n",
    "    elif Stay_In_Current_City_Years == \"1\":    return 2\n",
    "    elif Stay_In_Current_City_Years == \"2\":    return 3\n",
    "    elif Stay_In_Current_City_Years == \"3\":    return 4\n",
    "    elif Stay_In_Current_City_Years == \"4+\":   return 5\n",
    "cat_var['Stay_In_Current_City_Years'] = cat_var['Stay_In_Current_City_Years'].apply(order_stay_in_current_city_years)"
   ]
  },
  {
   "cell_type": "code",
   "execution_count": 9,
   "id": "f8dde6fc",
   "metadata": {},
   "outputs": [
    {
     "data": {
      "text/html": [
       "<div>\n",
       "<style scoped>\n",
       "    .dataframe tbody tr th:only-of-type {\n",
       "        vertical-align: middle;\n",
       "    }\n",
       "\n",
       "    .dataframe tbody tr th {\n",
       "        vertical-align: top;\n",
       "    }\n",
       "\n",
       "    .dataframe thead th {\n",
       "        text-align: right;\n",
       "    }\n",
       "</style>\n",
       "<table border=\"1\" class=\"dataframe\">\n",
       "  <thead>\n",
       "    <tr style=\"text-align: right;\">\n",
       "      <th></th>\n",
       "      <th>Product_ID</th>\n",
       "      <th>Gender</th>\n",
       "      <th>Age</th>\n",
       "      <th>City_Category</th>\n",
       "      <th>Stay_In_Current_City_Years</th>\n",
       "    </tr>\n",
       "  </thead>\n",
       "  <tbody>\n",
       "    <tr>\n",
       "      <th>0</th>\n",
       "      <td>P00069042</td>\n",
       "      <td>F</td>\n",
       "      <td>1</td>\n",
       "      <td>A</td>\n",
       "      <td>3</td>\n",
       "    </tr>\n",
       "    <tr>\n",
       "      <th>1</th>\n",
       "      <td>P00248942</td>\n",
       "      <td>F</td>\n",
       "      <td>1</td>\n",
       "      <td>A</td>\n",
       "      <td>3</td>\n",
       "    </tr>\n",
       "    <tr>\n",
       "      <th>2</th>\n",
       "      <td>P00087842</td>\n",
       "      <td>F</td>\n",
       "      <td>1</td>\n",
       "      <td>A</td>\n",
       "      <td>3</td>\n",
       "    </tr>\n",
       "    <tr>\n",
       "      <th>3</th>\n",
       "      <td>P00085442</td>\n",
       "      <td>F</td>\n",
       "      <td>1</td>\n",
       "      <td>A</td>\n",
       "      <td>3</td>\n",
       "    </tr>\n",
       "    <tr>\n",
       "      <th>4</th>\n",
       "      <td>P00285442</td>\n",
       "      <td>M</td>\n",
       "      <td>7</td>\n",
       "      <td>C</td>\n",
       "      <td>5</td>\n",
       "    </tr>\n",
       "    <tr>\n",
       "      <th>...</th>\n",
       "      <td>...</td>\n",
       "      <td>...</td>\n",
       "      <td>...</td>\n",
       "      <td>...</td>\n",
       "      <td>...</td>\n",
       "    </tr>\n",
       "    <tr>\n",
       "      <th>550063</th>\n",
       "      <td>P00372445</td>\n",
       "      <td>M</td>\n",
       "      <td>6</td>\n",
       "      <td>B</td>\n",
       "      <td>2</td>\n",
       "    </tr>\n",
       "    <tr>\n",
       "      <th>550064</th>\n",
       "      <td>P00375436</td>\n",
       "      <td>F</td>\n",
       "      <td>3</td>\n",
       "      <td>C</td>\n",
       "      <td>4</td>\n",
       "    </tr>\n",
       "    <tr>\n",
       "      <th>550065</th>\n",
       "      <td>P00375436</td>\n",
       "      <td>F</td>\n",
       "      <td>3</td>\n",
       "      <td>B</td>\n",
       "      <td>5</td>\n",
       "    </tr>\n",
       "    <tr>\n",
       "      <th>550066</th>\n",
       "      <td>P00375436</td>\n",
       "      <td>F</td>\n",
       "      <td>7</td>\n",
       "      <td>C</td>\n",
       "      <td>3</td>\n",
       "    </tr>\n",
       "    <tr>\n",
       "      <th>550067</th>\n",
       "      <td>P00371644</td>\n",
       "      <td>F</td>\n",
       "      <td>5</td>\n",
       "      <td>B</td>\n",
       "      <td>5</td>\n",
       "    </tr>\n",
       "  </tbody>\n",
       "</table>\n",
       "<p>550068 rows × 5 columns</p>\n",
       "</div>"
      ],
      "text/plain": [
       "       Product_ID Gender  Age City_Category  Stay_In_Current_City_Years\n",
       "0       P00069042      F    1             A                           3\n",
       "1       P00248942      F    1             A                           3\n",
       "2       P00087842      F    1             A                           3\n",
       "3       P00085442      F    1             A                           3\n",
       "4       P00285442      M    7             C                           5\n",
       "...           ...    ...  ...           ...                         ...\n",
       "550063  P00372445      M    6             B                           2\n",
       "550064  P00375436      F    3             C                           4\n",
       "550065  P00375436      F    3             B                           5\n",
       "550066  P00375436      F    7             C                           3\n",
       "550067  P00371644      F    5             B                           5\n",
       "\n",
       "[550068 rows x 5 columns]"
      ]
     },
     "execution_count": 9,
     "metadata": {},
     "output_type": "execute_result"
    }
   ],
   "source": [
    "# Latest status of categorical columns\n",
    "cat_var"
   ]
  },
  {
   "cell_type": "code",
   "execution_count": 10,
   "id": "f548cc84",
   "metadata": {},
   "outputs": [
    {
     "data": {
      "text/html": [
       "<div>\n",
       "<style scoped>\n",
       "    .dataframe tbody tr th:only-of-type {\n",
       "        vertical-align: middle;\n",
       "    }\n",
       "\n",
       "    .dataframe tbody tr th {\n",
       "        vertical-align: top;\n",
       "    }\n",
       "\n",
       "    .dataframe thead th {\n",
       "        text-align: right;\n",
       "    }\n",
       "</style>\n",
       "<table border=\"1\" class=\"dataframe\">\n",
       "  <thead>\n",
       "    <tr style=\"text-align: right;\">\n",
       "      <th></th>\n",
       "      <th>User_ID</th>\n",
       "      <th>Occupation</th>\n",
       "      <th>Marital_Status</th>\n",
       "      <th>Product_Category_1</th>\n",
       "      <th>Product_Category_2</th>\n",
       "      <th>Product_Category_3</th>\n",
       "      <th>Purchase</th>\n",
       "    </tr>\n",
       "  </thead>\n",
       "  <tbody>\n",
       "    <tr>\n",
       "      <th>0</th>\n",
       "      <td>1000001</td>\n",
       "      <td>10</td>\n",
       "      <td>0</td>\n",
       "      <td>3</td>\n",
       "      <td>NaN</td>\n",
       "      <td>NaN</td>\n",
       "      <td>8370</td>\n",
       "    </tr>\n",
       "    <tr>\n",
       "      <th>1</th>\n",
       "      <td>1000001</td>\n",
       "      <td>10</td>\n",
       "      <td>0</td>\n",
       "      <td>1</td>\n",
       "      <td>6.0</td>\n",
       "      <td>14.0</td>\n",
       "      <td>15200</td>\n",
       "    </tr>\n",
       "    <tr>\n",
       "      <th>2</th>\n",
       "      <td>1000001</td>\n",
       "      <td>10</td>\n",
       "      <td>0</td>\n",
       "      <td>12</td>\n",
       "      <td>NaN</td>\n",
       "      <td>NaN</td>\n",
       "      <td>1422</td>\n",
       "    </tr>\n",
       "    <tr>\n",
       "      <th>3</th>\n",
       "      <td>1000001</td>\n",
       "      <td>10</td>\n",
       "      <td>0</td>\n",
       "      <td>12</td>\n",
       "      <td>14.0</td>\n",
       "      <td>NaN</td>\n",
       "      <td>1057</td>\n",
       "    </tr>\n",
       "    <tr>\n",
       "      <th>4</th>\n",
       "      <td>1000002</td>\n",
       "      <td>16</td>\n",
       "      <td>0</td>\n",
       "      <td>8</td>\n",
       "      <td>NaN</td>\n",
       "      <td>NaN</td>\n",
       "      <td>7969</td>\n",
       "    </tr>\n",
       "    <tr>\n",
       "      <th>...</th>\n",
       "      <td>...</td>\n",
       "      <td>...</td>\n",
       "      <td>...</td>\n",
       "      <td>...</td>\n",
       "      <td>...</td>\n",
       "      <td>...</td>\n",
       "      <td>...</td>\n",
       "    </tr>\n",
       "    <tr>\n",
       "      <th>550063</th>\n",
       "      <td>1006033</td>\n",
       "      <td>13</td>\n",
       "      <td>1</td>\n",
       "      <td>20</td>\n",
       "      <td>NaN</td>\n",
       "      <td>NaN</td>\n",
       "      <td>368</td>\n",
       "    </tr>\n",
       "    <tr>\n",
       "      <th>550064</th>\n",
       "      <td>1006035</td>\n",
       "      <td>1</td>\n",
       "      <td>0</td>\n",
       "      <td>20</td>\n",
       "      <td>NaN</td>\n",
       "      <td>NaN</td>\n",
       "      <td>371</td>\n",
       "    </tr>\n",
       "    <tr>\n",
       "      <th>550065</th>\n",
       "      <td>1006036</td>\n",
       "      <td>15</td>\n",
       "      <td>1</td>\n",
       "      <td>20</td>\n",
       "      <td>NaN</td>\n",
       "      <td>NaN</td>\n",
       "      <td>137</td>\n",
       "    </tr>\n",
       "    <tr>\n",
       "      <th>550066</th>\n",
       "      <td>1006038</td>\n",
       "      <td>1</td>\n",
       "      <td>0</td>\n",
       "      <td>20</td>\n",
       "      <td>NaN</td>\n",
       "      <td>NaN</td>\n",
       "      <td>365</td>\n",
       "    </tr>\n",
       "    <tr>\n",
       "      <th>550067</th>\n",
       "      <td>1006039</td>\n",
       "      <td>0</td>\n",
       "      <td>1</td>\n",
       "      <td>20</td>\n",
       "      <td>NaN</td>\n",
       "      <td>NaN</td>\n",
       "      <td>490</td>\n",
       "    </tr>\n",
       "  </tbody>\n",
       "</table>\n",
       "<p>550068 rows × 7 columns</p>\n",
       "</div>"
      ],
      "text/plain": [
       "        User_ID  Occupation  Marital_Status  Product_Category_1  \\\n",
       "0       1000001          10               0                   3   \n",
       "1       1000001          10               0                   1   \n",
       "2       1000001          10               0                  12   \n",
       "3       1000001          10               0                  12   \n",
       "4       1000002          16               0                   8   \n",
       "...         ...         ...             ...                 ...   \n",
       "550063  1006033          13               1                  20   \n",
       "550064  1006035           1               0                  20   \n",
       "550065  1006036          15               1                  20   \n",
       "550066  1006038           1               0                  20   \n",
       "550067  1006039           0               1                  20   \n",
       "\n",
       "        Product_Category_2  Product_Category_3  Purchase  \n",
       "0                      NaN                 NaN      8370  \n",
       "1                      6.0                14.0     15200  \n",
       "2                      NaN                 NaN      1422  \n",
       "3                     14.0                 NaN      1057  \n",
       "4                      NaN                 NaN      7969  \n",
       "...                    ...                 ...       ...  \n",
       "550063                 NaN                 NaN       368  \n",
       "550064                 NaN                 NaN       371  \n",
       "550065                 NaN                 NaN       137  \n",
       "550066                 NaN                 NaN       365  \n",
       "550067                 NaN                 NaN       490  \n",
       "\n",
       "[550068 rows x 7 columns]"
      ]
     },
     "execution_count": 10,
     "metadata": {},
     "output_type": "execute_result"
    }
   ],
   "source": [
    "# Let's get the numerical columns by checking the data type (by not being object)\n",
    "num_var = [var for var in df.columns if df[var].dtypes !=\"object\"]\n",
    "num_var = df[num_var]\n",
    "num_var"
   ]
  },
  {
   "cell_type": "code",
   "execution_count": 11,
   "id": "5d956de2",
   "metadata": {},
   "outputs": [
    {
     "data": {
      "text/html": [
       "<div>\n",
       "<style scoped>\n",
       "    .dataframe tbody tr th:only-of-type {\n",
       "        vertical-align: middle;\n",
       "    }\n",
       "\n",
       "    .dataframe tbody tr th {\n",
       "        vertical-align: top;\n",
       "    }\n",
       "\n",
       "    .dataframe thead th {\n",
       "        text-align: right;\n",
       "    }\n",
       "</style>\n",
       "<table border=\"1\" class=\"dataframe\">\n",
       "  <thead>\n",
       "    <tr style=\"text-align: right;\">\n",
       "      <th></th>\n",
       "      <th>Occupation</th>\n",
       "      <th>Marital_Status</th>\n",
       "      <th>Product_Category_1</th>\n",
       "      <th>Purchase</th>\n",
       "    </tr>\n",
       "  </thead>\n",
       "  <tbody>\n",
       "    <tr>\n",
       "      <th>0</th>\n",
       "      <td>10</td>\n",
       "      <td>0</td>\n",
       "      <td>3</td>\n",
       "      <td>8370</td>\n",
       "    </tr>\n",
       "    <tr>\n",
       "      <th>1</th>\n",
       "      <td>10</td>\n",
       "      <td>0</td>\n",
       "      <td>1</td>\n",
       "      <td>15200</td>\n",
       "    </tr>\n",
       "    <tr>\n",
       "      <th>2</th>\n",
       "      <td>10</td>\n",
       "      <td>0</td>\n",
       "      <td>12</td>\n",
       "      <td>1422</td>\n",
       "    </tr>\n",
       "    <tr>\n",
       "      <th>3</th>\n",
       "      <td>10</td>\n",
       "      <td>0</td>\n",
       "      <td>12</td>\n",
       "      <td>1057</td>\n",
       "    </tr>\n",
       "    <tr>\n",
       "      <th>4</th>\n",
       "      <td>16</td>\n",
       "      <td>0</td>\n",
       "      <td>8</td>\n",
       "      <td>7969</td>\n",
       "    </tr>\n",
       "    <tr>\n",
       "      <th>...</th>\n",
       "      <td>...</td>\n",
       "      <td>...</td>\n",
       "      <td>...</td>\n",
       "      <td>...</td>\n",
       "    </tr>\n",
       "    <tr>\n",
       "      <th>550063</th>\n",
       "      <td>13</td>\n",
       "      <td>1</td>\n",
       "      <td>20</td>\n",
       "      <td>368</td>\n",
       "    </tr>\n",
       "    <tr>\n",
       "      <th>550064</th>\n",
       "      <td>1</td>\n",
       "      <td>0</td>\n",
       "      <td>20</td>\n",
       "      <td>371</td>\n",
       "    </tr>\n",
       "    <tr>\n",
       "      <th>550065</th>\n",
       "      <td>15</td>\n",
       "      <td>1</td>\n",
       "      <td>20</td>\n",
       "      <td>137</td>\n",
       "    </tr>\n",
       "    <tr>\n",
       "      <th>550066</th>\n",
       "      <td>1</td>\n",
       "      <td>0</td>\n",
       "      <td>20</td>\n",
       "      <td>365</td>\n",
       "    </tr>\n",
       "    <tr>\n",
       "      <th>550067</th>\n",
       "      <td>0</td>\n",
       "      <td>1</td>\n",
       "      <td>20</td>\n",
       "      <td>490</td>\n",
       "    </tr>\n",
       "  </tbody>\n",
       "</table>\n",
       "<p>550068 rows × 4 columns</p>\n",
       "</div>"
      ],
      "text/plain": [
       "        Occupation  Marital_Status  Product_Category_1  Purchase\n",
       "0               10               0                   3      8370\n",
       "1               10               0                   1     15200\n",
       "2               10               0                  12      1422\n",
       "3               10               0                  12      1057\n",
       "4               16               0                   8      7969\n",
       "...            ...             ...                 ...       ...\n",
       "550063          13               1                  20       368\n",
       "550064           1               0                  20       371\n",
       "550065          15               1                  20       137\n",
       "550066           1               0                  20       365\n",
       "550067           0               1                  20       490\n",
       "\n",
       "[550068 rows x 4 columns]"
      ]
     },
     "execution_count": 11,
     "metadata": {},
     "output_type": "execute_result"
    }
   ],
   "source": [
    "# However, these two columns will be dropped due to having null values, plus user ID has no meaning here.\n",
    "num_var = num_var.drop(['Product_Category_2','Product_Category_3','User_ID'], axis=1)\n",
    "num_var"
   ]
  },
  {
   "cell_type": "markdown",
   "id": "0280f927",
   "metadata": {},
   "source": [
    "## Prepare Train and Test Sets"
   ]
  },
  {
   "cell_type": "code",
   "execution_count": 12,
   "id": "47f52d50",
   "metadata": {},
   "outputs": [
    {
     "data": {
      "text/html": [
       "<div>\n",
       "<style scoped>\n",
       "    .dataframe tbody tr th:only-of-type {\n",
       "        vertical-align: middle;\n",
       "    }\n",
       "\n",
       "    .dataframe tbody tr th {\n",
       "        vertical-align: top;\n",
       "    }\n",
       "\n",
       "    .dataframe thead th {\n",
       "        text-align: right;\n",
       "    }\n",
       "</style>\n",
       "<table border=\"1\" class=\"dataframe\">\n",
       "  <thead>\n",
       "    <tr style=\"text-align: right;\">\n",
       "      <th></th>\n",
       "      <th>gender_F</th>\n",
       "      <th>gender_M</th>\n",
       "      <th>age_1</th>\n",
       "      <th>age_2</th>\n",
       "      <th>age_3</th>\n",
       "      <th>age_4</th>\n",
       "      <th>age_5</th>\n",
       "      <th>age_6</th>\n",
       "      <th>age_7</th>\n",
       "      <th>city_A</th>\n",
       "      <th>...</th>\n",
       "      <th>prod_cat1_13</th>\n",
       "      <th>prod_cat1_14</th>\n",
       "      <th>prod_cat1_15</th>\n",
       "      <th>prod_cat1_16</th>\n",
       "      <th>prod_cat1_17</th>\n",
       "      <th>prod_cat1_18</th>\n",
       "      <th>prod_cat1_19</th>\n",
       "      <th>prod_cat1_20</th>\n",
       "      <th>Marital_Status</th>\n",
       "      <th>Purchase</th>\n",
       "    </tr>\n",
       "  </thead>\n",
       "  <tbody>\n",
       "    <tr>\n",
       "      <th>0</th>\n",
       "      <td>1</td>\n",
       "      <td>0</td>\n",
       "      <td>1</td>\n",
       "      <td>0</td>\n",
       "      <td>0</td>\n",
       "      <td>0</td>\n",
       "      <td>0</td>\n",
       "      <td>0</td>\n",
       "      <td>0</td>\n",
       "      <td>1</td>\n",
       "      <td>...</td>\n",
       "      <td>0</td>\n",
       "      <td>0</td>\n",
       "      <td>0</td>\n",
       "      <td>0</td>\n",
       "      <td>0</td>\n",
       "      <td>0</td>\n",
       "      <td>0</td>\n",
       "      <td>0</td>\n",
       "      <td>0</td>\n",
       "      <td>8370</td>\n",
       "    </tr>\n",
       "    <tr>\n",
       "      <th>1</th>\n",
       "      <td>1</td>\n",
       "      <td>0</td>\n",
       "      <td>1</td>\n",
       "      <td>0</td>\n",
       "      <td>0</td>\n",
       "      <td>0</td>\n",
       "      <td>0</td>\n",
       "      <td>0</td>\n",
       "      <td>0</td>\n",
       "      <td>1</td>\n",
       "      <td>...</td>\n",
       "      <td>0</td>\n",
       "      <td>0</td>\n",
       "      <td>0</td>\n",
       "      <td>0</td>\n",
       "      <td>0</td>\n",
       "      <td>0</td>\n",
       "      <td>0</td>\n",
       "      <td>0</td>\n",
       "      <td>0</td>\n",
       "      <td>15200</td>\n",
       "    </tr>\n",
       "    <tr>\n",
       "      <th>2</th>\n",
       "      <td>1</td>\n",
       "      <td>0</td>\n",
       "      <td>1</td>\n",
       "      <td>0</td>\n",
       "      <td>0</td>\n",
       "      <td>0</td>\n",
       "      <td>0</td>\n",
       "      <td>0</td>\n",
       "      <td>0</td>\n",
       "      <td>1</td>\n",
       "      <td>...</td>\n",
       "      <td>0</td>\n",
       "      <td>0</td>\n",
       "      <td>0</td>\n",
       "      <td>0</td>\n",
       "      <td>0</td>\n",
       "      <td>0</td>\n",
       "      <td>0</td>\n",
       "      <td>0</td>\n",
       "      <td>0</td>\n",
       "      <td>1422</td>\n",
       "    </tr>\n",
       "    <tr>\n",
       "      <th>3</th>\n",
       "      <td>1</td>\n",
       "      <td>0</td>\n",
       "      <td>1</td>\n",
       "      <td>0</td>\n",
       "      <td>0</td>\n",
       "      <td>0</td>\n",
       "      <td>0</td>\n",
       "      <td>0</td>\n",
       "      <td>0</td>\n",
       "      <td>1</td>\n",
       "      <td>...</td>\n",
       "      <td>0</td>\n",
       "      <td>0</td>\n",
       "      <td>0</td>\n",
       "      <td>0</td>\n",
       "      <td>0</td>\n",
       "      <td>0</td>\n",
       "      <td>0</td>\n",
       "      <td>0</td>\n",
       "      <td>0</td>\n",
       "      <td>1057</td>\n",
       "    </tr>\n",
       "    <tr>\n",
       "      <th>4</th>\n",
       "      <td>0</td>\n",
       "      <td>1</td>\n",
       "      <td>0</td>\n",
       "      <td>0</td>\n",
       "      <td>0</td>\n",
       "      <td>0</td>\n",
       "      <td>0</td>\n",
       "      <td>0</td>\n",
       "      <td>1</td>\n",
       "      <td>0</td>\n",
       "      <td>...</td>\n",
       "      <td>0</td>\n",
       "      <td>0</td>\n",
       "      <td>0</td>\n",
       "      <td>0</td>\n",
       "      <td>0</td>\n",
       "      <td>0</td>\n",
       "      <td>0</td>\n",
       "      <td>0</td>\n",
       "      <td>0</td>\n",
       "      <td>7969</td>\n",
       "    </tr>\n",
       "    <tr>\n",
       "      <th>5</th>\n",
       "      <td>0</td>\n",
       "      <td>1</td>\n",
       "      <td>0</td>\n",
       "      <td>0</td>\n",
       "      <td>1</td>\n",
       "      <td>0</td>\n",
       "      <td>0</td>\n",
       "      <td>0</td>\n",
       "      <td>0</td>\n",
       "      <td>1</td>\n",
       "      <td>...</td>\n",
       "      <td>0</td>\n",
       "      <td>0</td>\n",
       "      <td>0</td>\n",
       "      <td>0</td>\n",
       "      <td>0</td>\n",
       "      <td>0</td>\n",
       "      <td>0</td>\n",
       "      <td>0</td>\n",
       "      <td>0</td>\n",
       "      <td>15227</td>\n",
       "    </tr>\n",
       "    <tr>\n",
       "      <th>6</th>\n",
       "      <td>0</td>\n",
       "      <td>1</td>\n",
       "      <td>0</td>\n",
       "      <td>0</td>\n",
       "      <td>0</td>\n",
       "      <td>0</td>\n",
       "      <td>1</td>\n",
       "      <td>0</td>\n",
       "      <td>0</td>\n",
       "      <td>0</td>\n",
       "      <td>...</td>\n",
       "      <td>0</td>\n",
       "      <td>0</td>\n",
       "      <td>0</td>\n",
       "      <td>0</td>\n",
       "      <td>0</td>\n",
       "      <td>0</td>\n",
       "      <td>0</td>\n",
       "      <td>0</td>\n",
       "      <td>1</td>\n",
       "      <td>19215</td>\n",
       "    </tr>\n",
       "    <tr>\n",
       "      <th>7</th>\n",
       "      <td>0</td>\n",
       "      <td>1</td>\n",
       "      <td>0</td>\n",
       "      <td>0</td>\n",
       "      <td>0</td>\n",
       "      <td>0</td>\n",
       "      <td>1</td>\n",
       "      <td>0</td>\n",
       "      <td>0</td>\n",
       "      <td>0</td>\n",
       "      <td>...</td>\n",
       "      <td>0</td>\n",
       "      <td>0</td>\n",
       "      <td>0</td>\n",
       "      <td>0</td>\n",
       "      <td>0</td>\n",
       "      <td>0</td>\n",
       "      <td>0</td>\n",
       "      <td>0</td>\n",
       "      <td>1</td>\n",
       "      <td>15854</td>\n",
       "    </tr>\n",
       "  </tbody>\n",
       "</table>\n",
       "<p>8 rows × 60 columns</p>\n",
       "</div>"
      ],
      "text/plain": [
       "   gender_F  gender_M  age_1  age_2  age_3  age_4  age_5  age_6  age_7  \\\n",
       "0         1         0      1      0      0      0      0      0      0   \n",
       "1         1         0      1      0      0      0      0      0      0   \n",
       "2         1         0      1      0      0      0      0      0      0   \n",
       "3         1         0      1      0      0      0      0      0      0   \n",
       "4         0         1      0      0      0      0      0      0      1   \n",
       "5         0         1      0      0      1      0      0      0      0   \n",
       "6         0         1      0      0      0      0      1      0      0   \n",
       "7         0         1      0      0      0      0      1      0      0   \n",
       "\n",
       "   city_A  ...  prod_cat1_13  prod_cat1_14  prod_cat1_15  prod_cat1_16  \\\n",
       "0       1  ...             0             0             0             0   \n",
       "1       1  ...             0             0             0             0   \n",
       "2       1  ...             0             0             0             0   \n",
       "3       1  ...             0             0             0             0   \n",
       "4       0  ...             0             0             0             0   \n",
       "5       1  ...             0             0             0             0   \n",
       "6       0  ...             0             0             0             0   \n",
       "7       0  ...             0             0             0             0   \n",
       "\n",
       "   prod_cat1_17  prod_cat1_18  prod_cat1_19  prod_cat1_20  Marital_Status  \\\n",
       "0             0             0             0             0               0   \n",
       "1             0             0             0             0               0   \n",
       "2             0             0             0             0               0   \n",
       "3             0             0             0             0               0   \n",
       "4             0             0             0             0               0   \n",
       "5             0             0             0             0               0   \n",
       "6             0             0             0             0               1   \n",
       "7             0             0             0             0               1   \n",
       "\n",
       "   Purchase  \n",
       "0      8370  \n",
       "1     15200  \n",
       "2      1422  \n",
       "3      1057  \n",
       "4      7969  \n",
       "5     15227  \n",
       "6     19215  \n",
       "7     15854  \n",
       "\n",
       "[8 rows x 60 columns]"
      ]
     },
     "execution_count": 12,
     "metadata": {},
     "output_type": "execute_result"
    }
   ],
   "source": [
    "# Create several dummy columns from categorical and numerical ones, then merge them with some other columns and purchase\n",
    "dummy_gender = pd.get_dummies(cat_var['Gender'], prefix='gender')\n",
    "dummy_age = pd.get_dummies(cat_var['Age'], prefix='age')\n",
    "dummy_city = pd.get_dummies(cat_var['City_Category'], prefix='city')\n",
    "dummy_city_years = pd.get_dummies(cat_var['Stay_In_Current_City_Years'], prefix='cityyears')\n",
    "dummy_occupation = pd.get_dummies(num_var['Occupation'], prefix='occ')\n",
    "dummy_prod_cat = pd.get_dummies(num_var['Product_Category_1'], prefix='prod_cat1')\n",
    "df_cons = pd.concat([dummy_gender, dummy_age, dummy_city, dummy_city_years, dummy_occupation, dummy_prod_cat,\n",
    "                    num_var['Marital_Status'], df['Purchase']], axis=1)\n",
    "df_cons.head(8)"
   ]
  },
  {
   "cell_type": "code",
   "execution_count": 13,
   "id": "e99e9681",
   "metadata": {},
   "outputs": [
    {
     "data": {
      "image/png": "[encoded data removed]",
      "text/plain": [
       "<Figure size 1100x1200 with 2 Axes>"
      ]
     },
     "metadata": {},
     "output_type": "display_data"
    },
    {
     "name": "stdout",
     "output_type": "stream",
     "text": [
      "#### COLUMN CORRELATIONS AGAINST PURCHASE ####\n",
      "gender_F         -0.060346\n",
      "gender_M          0.060346\n",
      "age_1            -0.011055\n",
      "age_2            -0.008831\n",
      "age_3            -0.001830\n",
      "age_4             0.006707\n",
      "age_5            -0.003317\n",
      "age_6             0.014792\n",
      "age_7             0.002904\n",
      "city_A           -0.042465\n",
      "city_B           -0.019098\n",
      "city_C            0.061012\n",
      "cityyears_1      -0.006605\n",
      "cityyears_2      -0.002030\n",
      "cityyears_3       0.005358\n",
      "cityyears_4       0.002090\n",
      "cityyears_5       0.000988\n",
      "occ_0            -0.010576\n",
      "occ_1            -0.019005\n",
      "occ_2            -0.013975\n",
      "occ_3            -0.003095\n",
      "occ_4            -0.003872\n",
      "occ_5             0.002072\n",
      "occ_6            -0.000290\n",
      "occ_7             0.011176\n",
      "occ_8             0.002839\n",
      "occ_9            -0.013409\n",
      "occ_10           -0.009409\n",
      "occ_11           -0.001464\n",
      "occ_12            0.025995\n",
      "occ_13            0.001007\n",
      "occ_14            0.010772\n",
      "occ_15            0.015416\n",
      "occ_16            0.005713\n",
      "occ_17            0.031099\n",
      "occ_18           -0.002073\n",
      "occ_19           -0.013769\n",
      "occ_20           -0.021693\n",
      "prod_cat1_1       0.506021\n",
      "prod_cat1_2       0.084282\n",
      "prod_cat1_3       0.032380\n",
      "prod_cat1_4      -0.203982\n",
      "prod_cat1_5      -0.370193\n",
      "prod_cat1_6       0.257298\n",
      "prod_cat1_7       0.116678\n",
      "prod_cat1_8      -0.179587\n",
      "prod_cat1_9       0.034110\n",
      "prod_cat1_10      0.201011\n",
      "prod_cat1_11     -0.195911\n",
      "prod_cat1_12     -0.133927\n",
      "prod_cat1_13     -0.171660\n",
      "prod_cat1_14      0.040677\n",
      "prod_cat1_15      0.118116\n",
      "prod_cat1_16      0.147740\n",
      "prod_cat1_17      0.005855\n",
      "prod_cat1_18     -0.094670\n",
      "prod_cat1_19     -0.099307\n",
      "prod_cat1_20     -0.120830\n",
      "Marital_Status   -0.000463\n",
      "Purchase          1.000000\n",
      "Name: Purchase, dtype: float64\n"
     ]
    }
   ],
   "source": [
    "# Get the correlations of all involved columns in a heat map\n",
    "plt.figure(figsize=(11,12))\n",
    "sns.heatmap(df_cons.corr())\n",
    "plt.show()\n",
    "print(\"#### COLUMN CORRELATIONS AGAINST PURCHASE ####\")\n",
    "print(df_cons.corr()['Purchase'])"
   ]
  },
  {
   "cell_type": "markdown",
   "id": "01589dd5-5bd8-46fd-bcbc-11cff74c2581",
   "metadata": {},
   "source": [
    "### Type 3: Use Most Negatively and Positively Correlated Columns Only (>=0.1 or <=-0.1)"
   ]
  },
  {
   "cell_type": "code",
   "execution_count": 14,
   "id": "9d21e5cb",
   "metadata": {},
   "outputs": [
    {
     "name": "stdout",
     "output_type": "stream",
     "text": [
      "TRAIN SIZE: (440054, 13)  TEST SIZE: (110014, 13)\n",
      "Index(['prod_cat1_1', 'prod_cat1_4', 'prod_cat1_5', 'prod_cat1_6',\n",
      "       'prod_cat1_7', 'prod_cat1_8', 'prod_cat1_10', 'prod_cat1_11',\n",
      "       'prod_cat1_12', 'prod_cat1_13', 'prod_cat1_15', 'prod_cat1_16',\n",
      "       'prod_cat1_20'],\n",
      "      dtype='object')\n"
     ]
    }
   ],
   "source": [
    "# Use 80% of the dataset as training, and 20% as testing\n",
    "# X = df_cons.drop(columns='Purchase', axis=1)\n",
    "X = df_cons[['prod_cat1_1','prod_cat1_4','prod_cat1_5','prod_cat1_6','prod_cat1_7','prod_cat1_8','prod_cat1_10','prod_cat1_11',\n",
    "             'prod_cat1_12','prod_cat1_13','prod_cat1_15','prod_cat1_16','prod_cat1_20']]\n",
    "Y = df_cons.iloc[:,-1]\n",
    "x_train, x_test, y_train, y_test = train_test_split(X, Y, test_size=0.2, random_state=21)\n",
    "print(\"TRAIN SIZE:\", x_train.shape, \" TEST SIZE:\", x_test.shape)\n",
    "print(X.columns)"
   ]
  },
  {
   "cell_type": "code",
   "execution_count": 15,
   "id": "01e2e09b",
   "metadata": {},
   "outputs": [],
   "source": [
    "# Create lists to store results of error values of all regression methods\n",
    "res_mse, res_rmse, res_mae, res_r2, res_cv_train, res_cv_test = [], [], [], [], [], []"
   ]
  },
  {
   "cell_type": "markdown",
   "id": "40243f41",
   "metadata": {},
   "source": [
    "# ML Regression Models\n",
    "\n",
    "## 1 - Linear Regression"
   ]
  },
  {
   "cell_type": "code",
   "execution_count": 16,
   "id": "095fb072",
   "metadata": {},
   "outputs": [
    {
     "data": {
      "text/plain": [
       "{'copy_X': True,\n",
       " 'fit_intercept': True,\n",
       " 'n_jobs': None,\n",
       " 'normalize': 'deprecated',\n",
       " 'positive': False}"
      ]
     },
     "execution_count": 16,
     "metadata": {},
     "output_type": "execute_result"
    }
   ],
   "source": [
    "linreg = LinearRegression(fit_intercept=True, positive=False)\n",
    "linreg.get_params()"
   ]
  },
  {
   "cell_type": "code",
   "execution_count": 17,
   "id": "f3f8ec41",
   "metadata": {},
   "outputs": [
    {
     "name": "stdout",
     "output_type": "stream",
     "text": [
      ">>> Fitting and prediction were completed in 0.256 seconds.\n"
     ]
    }
   ],
   "source": [
    "# Fit the training data into the linear reg. model, then make predictions on the test data\n",
    "s_time = time.time()\n",
    "linreg.fit(x_train, y_train)\n",
    "y_pred = linreg.predict(x_test)\n",
    "print(\">>> Fitting and prediction were completed in {:.3f} seconds.\".format(time.time()-s_time))"
   ]
  },
  {
   "cell_type": "code",
   "execution_count": 18,
   "id": "99a216c7",
   "metadata": {},
   "outputs": [
    {
     "name": "stdout",
     "output_type": "stream",
     "text": [
      "COEF: [ 3588.79842778 -7686.123047   -3777.38287913  5804.1900579\n",
      "  6340.41028193 -2516.86077426  9668.33531425 -5337.31568374\n",
      " -8665.07443125 -9294.69233629  4788.46957069  4766.29768973\n",
      " -9644.20824123]\n",
      "RANK: 13\n",
      "INTERCEPT: 10017.305730157503\n"
     ]
    }
   ],
   "source": [
    "print(\"COEF:\", linreg.coef_)   # Estimated coefficients for the linear reg.\n",
    "print(\"RANK:\", linreg.rank_)   # Rank of matrix\n",
    "print(\"INTERCEPT:\", linreg.intercept_)   # Independent term in the linear model"
   ]
  },
  {
   "cell_type": "code",
   "execution_count": 19,
   "id": "4916ad0e",
   "metadata": {},
   "outputs": [
    {
     "name": "stdout",
     "output_type": "stream",
     "text": [
      "   7500.444955893916 |     5977\n",
      "  13606.104157933918 |    19203\n",
      "  13606.104157933918 |    15582\n",
      "   7500.444955893916 |     5942\n",
      "  14783.603419886756 |    20266\n",
      "    6239.92285102512 |     8611\n",
      "   2331.182683155007 |     2762\n",
      "   7500.444955893916 |     3935\n",
      "  10017.305730157503 |     5722\n",
      "   7500.444955893916 |     6038\n",
      "    6239.92285102512 |     5191\n",
      "  13606.104157933918 |    15719\n",
      "  13606.104157933918 |    15499\n",
      "    6239.92285102512 |     8612\n",
      "   7500.444955893916 |     7908\n",
      "    6239.92285102512 |     8584\n",
      "   7500.444955893916 |     3951\n",
      "    6239.92285102512 |     8770\n",
      "   7500.444955893916 |     7899\n",
      "  19685.641044405926 |    23301\n"
     ]
    }
   ],
   "source": [
    "# Compare the predicted values against the actual ones for the top 20 rows\n",
    "for i in range(20):\n",
    "    print(\"{:20} | {:8}\".format(y_pred[i], y_test.iloc[i]))"
   ]
  },
  {
   "cell_type": "code",
   "execution_count": 20,
   "id": "0ba0dfb7",
   "metadata": {},
   "outputs": [
    {
     "name": "stdout",
     "output_type": "stream",
     "text": [
      "MSE: 9820782.144167535\n",
      "RMSE: 3133.8127168303367\n",
      "MAE: 2369.382428001083\n",
      "R2 SCORE: 0.6098994737104695\n",
      "\n",
      "# CROSS VALIDATION #\n",
      "FITTING TIME: [0.26431561 0.28954363 0.30395865 0.25783896 0.2605679 ] -> 0.27524495124816895\n",
      "SCORING TIME: [0.         0.01562285 0.         0.0069921  0.00651073] -> 0.005825138092041016\n",
      "TRAIN SCORE: [0.60900207 0.60873675 0.6083145  0.60861667 0.61218137] -> 0.6093702717760682\n",
      "TEST SCORE: [0.61021332 0.61129013 0.61293464 0.61171054 0.50993865] -> 0.5912174563518633\n"
     ]
    }
   ],
   "source": [
    "# Results of metrics\n",
    "mse, rmse, mae, r2 = mean_squared_error(y_test, y_pred), mean_squared_error(y_test, y_pred, squared=False), \\\n",
    "    mean_absolute_error(y_test, y_pred), r2_score(y_test, y_pred)\n",
    "print(\"MSE:\", mse)         # Mean squared error\n",
    "print(\"RMSE:\", rmse)       # Root mean squared error\n",
    "print(\"MAE:\", mae)         # Mean absolute error\n",
    "print(\"R2 SCORE:\", r2)     # R2 score\n",
    "res_mse.append(mse)\n",
    "res_rmse.append(rmse)\n",
    "res_mae.append(mae)\n",
    "res_r2.append(r2)\n",
    "print(\"\\n# CROSS VALIDATION #\")\n",
    "cross_val = cross_validate(linreg, X, Y, cv=5, return_train_score=True)    # 5-fold Cross Validation\n",
    "# The time in seconds for fitting the estimator on the train set for each cv split\n",
    "print(\"FITTING TIME:\", cross_val['fit_time'], \"->\", cross_val['fit_time'].mean())\n",
    "# The time in seconds for scoring the estimator on the test set for each cv split\n",
    "print(\"SCORING TIME:\", cross_val['score_time'], \"->\", cross_val['score_time'].mean())\n",
    "# The score array for train scores for each cv split\n",
    "print(\"TRAIN SCORE:\", cross_val['train_score'], \"->\", cross_val['train_score'].mean())\n",
    "res_cv_train.append(cross_val['train_score'].mean())\n",
    "# The score array for test score for each cv split\n",
    "print(\"TEST SCORE:\", cross_val['test_score'], \"->\", cross_val['test_score'].mean())\n",
    "res_cv_test.append(cross_val['test_score'].mean())"
   ]
  },
  {
   "cell_type": "markdown",
   "id": "ff12a016",
   "metadata": {},
   "source": [
    "## 2 - Lasso Regression"
   ]
  },
  {
   "cell_type": "code",
   "execution_count": 21,
   "id": "230c44d6",
   "metadata": {},
   "outputs": [
    {
     "data": {
      "text/plain": [
       "{'alpha': 1.0,\n",
       " 'copy_X': True,\n",
       " 'fit_intercept': True,\n",
       " 'max_iter': 1000,\n",
       " 'normalize': 'deprecated',\n",
       " 'positive': False,\n",
       " 'precompute': False,\n",
       " 'random_state': None,\n",
       " 'selection': 'cyclic',\n",
       " 'tol': 0.0001,\n",
       " 'warm_start': False}"
      ]
     },
     "execution_count": 21,
     "metadata": {},
     "output_type": "execute_result"
    }
   ],
   "source": [
    "lasso = Lasso(alpha=1.0, fit_intercept=True, positive=False, tol=0.0001, selection='cyclic')\n",
    "lasso.get_params()"
   ]
  },
  {
   "cell_type": "code",
   "execution_count": 22,
   "id": "52478a76",
   "metadata": {},
   "outputs": [
    {
     "name": "stdout",
     "output_type": "stream",
     "text": [
      ">>> Fitting and prediction were completed in 0.342 seconds.\n"
     ]
    }
   ],
   "source": [
    "# Fit the training data into the lasso model, then make predictions on the test data\n",
    "s_time = time.time()\n",
    "lasso.fit(x_train, y_train)\n",
    "y_pred = lasso.predict(x_test)\n",
    "print(\">>> Fitting and prediction were completed in {:.3f} seconds.\".format(time.time()-s_time))"
   ]
  },
  {
   "cell_type": "code",
   "execution_count": 23,
   "id": "6f7a02d1",
   "metadata": {},
   "outputs": [
    {
     "name": "stdout",
     "output_type": "stream",
     "text": [
      "COEF: [ 3596.27285764 -7628.20818394 -3762.39794418  5788.66618092\n",
      "  6204.02858254 -2500.72320281  9572.25442067 -5303.32614054\n",
      " -8516.04886572 -9183.5017021   4712.94683303  4721.84657367\n",
      " -9416.25313711]\n",
      "INTERCEPT: 10006.019262166892\n",
      "ITERATIONS: 33\n"
     ]
    }
   ],
   "source": [
    "print(\"COEF:\", lasso.coef_)   # Parameter vector (w in the cost function function formula)\n",
    "print(\"INTERCEPT:\", lasso.intercept_)   # Independent term in decision function\n",
    "print(\"ITERATIONS:\", lasso.n_iter_)   # Number of iterations run by the coord. descent solver to reach the specified tolerance"
   ]
  },
  {
   "cell_type": "code",
   "execution_count": 24,
   "id": "40e92863",
   "metadata": {},
   "outputs": [
    {
     "name": "stdout",
     "output_type": "stream",
     "text": [
      "   7505.296059356693 |     5977\n",
      "  13602.292119802201 |    19203\n",
      "  13602.292119802201 |    15582\n",
      "   7505.296059356693 |     5942\n",
      "  14727.865835840114 |    20266\n",
      "   6243.621317984954 |     8611\n",
      "  2377.8110782265876 |     2762\n",
      "   7505.296059356693 |     3935\n",
      "  10006.019262166892 |     5722\n",
      "   7505.296059356693 |     6038\n",
      "   6243.621317984954 |     5191\n",
      "  13602.292119802201 |    15719\n",
      "  13602.292119802201 |    15499\n",
      "   6243.621317984954 |     8612\n",
      "   7505.296059356693 |     7908\n",
      "   6243.621317984954 |     8584\n",
      "   7505.296059356693 |     3951\n",
      "   6243.621317984954 |     8770\n",
      "   7505.296059356693 |     7899\n",
      "  19578.273682839914 |    23301\n"
     ]
    }
   ],
   "source": [
    "# Compare the predicted values against the actual ones for the top 20 rows\n",
    "for i in range(20):\n",
    "    print(\"{:20} | {:8}\".format(y_pred[i], y_test.iloc[i]))"
   ]
  },
  {
   "cell_type": "code",
   "execution_count": 25,
   "id": "725b70d7",
   "metadata": {},
   "outputs": [
    {
     "name": "stdout",
     "output_type": "stream",
     "text": [
      "MSE: 9821523.916482335\n",
      "RMSE: 3133.9310644113307\n",
      "MAE: 2370.908842641507\n",
      "R2 SCORE: 0.6098700090745431\n",
      "ADJUSTED R2 SCORE: 0.6092264196055752\n",
      "# CROSS VALIDATION #\n",
      "FITTING TIME: [0.39762926 0.41358638 0.38150454 0.37824011 0.34748745] -> 0.38368954658508303\n",
      "SCORING TIME: [0.01082373 0.00702214 0.00304055 0.0071249  0.01303649] -> 0.008209562301635743\n",
      "TRAIN SCORE: [0.60896541 0.60870006 0.60827758 0.6085799  0.61215151] -> 0.60933489322251\n",
      "TEST SCORE: [0.61015673 0.61122194 0.61287459 0.61162191 0.50994325] -> 0.5911636841818977\n"
     ]
    }
   ],
   "source": [
    "# Results of metrics\n",
    "mse, rmse, mae, r2 = mean_squared_error(y_test, y_pred), mean_squared_error(y_test, y_pred, squared=False), \\\n",
    "    mean_absolute_error(y_test, y_pred), r2_score(y_test, y_pred)\n",
    "adj_r2 = 1-(1-lasso.score(X, Y))*(len(Y)-1)/(len(Y)-X.shape[1]-1)\n",
    "print(\"MSE:\", mse)          \n",
    "print(\"RMSE:\", rmse)       \n",
    "print(\"MAE:\", mae)        \n",
    "print(\"R2 SCORE:\", r2)\n",
    "print(\"ADJUSTED R2 SCORE:\", adj_r2)\n",
    "res_mse.append(mse)\n",
    "res_rmse.append(rmse)\n",
    "res_mae.append(mae)\n",
    "res_r2.append(r2)\n",
    "cross_val = cross_validate(lasso, X, Y, cv=5, return_train_score=True)\n",
    "print(\"# CROSS VALIDATION #\")\n",
    "print(\"FITTING TIME:\", cross_val['fit_time'], \"->\", cross_val['fit_time'].mean())\n",
    "print(\"SCORING TIME:\", cross_val['score_time'], \"->\", cross_val['score_time'].mean())\n",
    "print(\"TRAIN SCORE:\", cross_val['train_score'], \"->\", cross_val['train_score'].mean())\n",
    "res_cv_train.append(cross_val['train_score'].mean())\n",
    "print(\"TEST SCORE:\", cross_val['test_score'], \"->\", cross_val['test_score'].mean())\n",
    "res_cv_test.append(cross_val['test_score'].mean())"
   ]
  },
  {
   "cell_type": "markdown",
   "id": "9e277ab7",
   "metadata": {},
   "source": [
    "## 3 - Ridge Regression"
   ]
  },
  {
   "cell_type": "code",
   "execution_count": 26,
   "id": "763f22ec",
   "metadata": {},
   "outputs": [
    {
     "data": {
      "text/plain": [
       "{'alpha': 1.0,\n",
       " 'copy_X': True,\n",
       " 'fit_intercept': True,\n",
       " 'max_iter': None,\n",
       " 'normalize': 'deprecated',\n",
       " 'positive': True,\n",
       " 'random_state': None,\n",
       " 'solver': 'auto',\n",
       " 'tol': 0.0001}"
      ]
     },
     "execution_count": 26,
     "metadata": {},
     "output_type": "execute_result"
    }
   ],
   "source": [
    "ridge = Ridge(alpha=1.0, fit_intercept=True, positive=True, tol=0.0001, solver='auto')\n",
    "ridge.get_params()"
   ]
  },
  {
   "cell_type": "code",
   "execution_count": 27,
   "id": "ea5d5e4e",
   "metadata": {},
   "outputs": [
    {
     "name": "stdout",
     "output_type": "stream",
     "text": [
      ">>> Fitting and prediction were completed in 0.248 seconds.\n"
     ]
    }
   ],
   "source": [
    "# Fit the training data into the ridge model, then make predictions on the test data\n",
    "s_time = time.time()\n",
    "ridge.fit(x_train, y_train)\n",
    "y_pred = ridge.predict(x_test)\n",
    "print(\">>> Fitting and prediction were completed in {:.3f} seconds.\".format(time.time()-s_time))"
   ]
  },
  {
   "cell_type": "code",
   "execution_count": 28,
   "id": "cc96f273",
   "metadata": {},
   "outputs": [
    {
     "name": "stdout",
     "output_type": "stream",
     "text": [
      "COEF: [ 7174.37297831     0.             0.          9435.24613776\n",
      "  9789.20226063  1070.06414661 13415.70109084     0.\n",
      "     0.             0.          8430.78572365  8295.09658142\n",
      "     0.        ]\n",
      "INTERCEPT: 6423.977821922474\n",
      "ITERATIONS: None\n"
     ]
    }
   ],
   "source": [
    "print(\"COEF:\", ridge.coef_)   # Weight vector(s)\n",
    "print(\"INTERCEPT:\", ridge.intercept_)   # Independent term in decision function\n",
    "print(\"ITERATIONS:\", ridge.n_iter_)   # Actual number of iterations for each target. (Only for 'sag' & 'lsqr' solvers)"
   ]
  },
  {
   "cell_type": "code",
   "execution_count": 29,
   "id": "22594a3e",
   "metadata": {},
   "outputs": [
    {
     "name": "stdout",
     "output_type": "stream",
     "text": [
      "   7494.041968531849 |     5977\n",
      "  13598.350800230886 |    19203\n",
      "  13598.350800230886 |    15582\n",
      "   7494.041968531849 |     5942\n",
      "   14719.07440334381 |    20266\n",
      "   6423.977821922474 |     8611\n",
      "   6423.977821922474 |     2762\n",
      "   7494.041968531849 |     3935\n",
      "   6423.977821922474 |     5722\n",
      "   7494.041968531849 |     6038\n",
      "   6423.977821922474 |     5191\n",
      "  13598.350800230886 |    15719\n",
      "  13598.350800230886 |    15499\n",
      "   6423.977821922474 |     8612\n",
      "   7494.041968531849 |     7908\n",
      "   6423.977821922474 |     8584\n",
      "   7494.041968531849 |     3951\n",
      "   6423.977821922474 |     8770\n",
      "   7494.041968531849 |     7899\n",
      "  19839.678912764848 |    23301\n"
     ]
    }
   ],
   "source": [
    "# Compare the predicted values against the actual ones for the top 20 rows\n",
    "for i in range(20):\n",
    "    print(\"{:20} | {:8}\".format(y_pred[i], y_test.iloc[i]))"
   ]
  },
  {
   "cell_type": "code",
   "execution_count": 30,
   "id": "cfd171d6",
   "metadata": {},
   "outputs": [
    {
     "name": "stdout",
     "output_type": "stream",
     "text": [
      "MSE: 12216471.913521418\n",
      "RMSE: 3495.2069915130087\n",
      "MAE: 2719.236583554264\n",
      "R2 SCORE: 0.5147380266757831\n",
      "ADJUSTED R2 SCORE: 0.5145099772588506\n",
      "# CROSS VALIDATION #\n",
      "FITTING TIME: [0.2777524  0.25140452 0.26705384 0.2775991  0.28268147] -> 0.2712982654571533\n",
      "SCORING TIME: [0.         0.01565027 0.         0.         0.        ] -> 0.003130054473876953\n",
      "TRAIN SCORE: [0.51513292 0.51441488 0.51425234 0.51455371 0.51441687] -> 0.5145541437244432\n",
      "TEST SCORE: [0.5119161  0.51483274 0.51542313 0.51425585 0.51250939] -> 0.5137874451285732\n"
     ]
    }
   ],
   "source": [
    "# Results of metrics\n",
    "mse, rmse, mae, r2 = mean_squared_error(y_test, y_pred), mean_squared_error(y_test, y_pred, squared=False), \\\n",
    "    mean_absolute_error(y_test, y_pred), r2_score(y_test, y_pred)\n",
    "adj_r2 = 1-(1-ridge.score(X, Y))*(len(Y)-1)/(len(Y)-X.shape[1]-1)\n",
    "print(\"MSE:\", mse)        \n",
    "print(\"RMSE:\", rmse)      \n",
    "print(\"MAE:\", mae)        \n",
    "print(\"R2 SCORE:\", r2)  \n",
    "print(\"ADJUSTED R2 SCORE:\", adj_r2)\n",
    "res_mse.append(mse)\n",
    "res_rmse.append(rmse)\n",
    "res_mae.append(mae)\n",
    "res_r2.append(r2)\n",
    "cross_val = cross_validate(ridge, X, Y, cv=5, return_train_score=True)\n",
    "print(\"# CROSS VALIDATION #\")\n",
    "print(\"FITTING TIME:\", cross_val['fit_time'], \"->\", cross_val['fit_time'].mean())\n",
    "print(\"SCORING TIME:\", cross_val['score_time'], \"->\", cross_val['score_time'].mean())\n",
    "print(\"TRAIN SCORE:\", cross_val['train_score'], \"->\", cross_val['train_score'].mean())\n",
    "res_cv_train.append(cross_val['train_score'].mean())\n",
    "print(\"TEST SCORE:\", cross_val['test_score'], \"->\", cross_val['test_score'].mean())\n",
    "res_cv_test.append(cross_val['test_score'].mean())"
   ]
  },
  {
   "cell_type": "markdown",
   "id": "f3d39b9f",
   "metadata": {},
   "source": [
    "## 4 - Polynomial Regression"
   ]
  },
  {
   "cell_type": "code",
   "execution_count": 31,
   "id": "e9403a1e",
   "metadata": {},
   "outputs": [
    {
     "data": {
      "text/plain": [
       "{'degree': 2, 'include_bias': True, 'interaction_only': True, 'order': 'C'}"
      ]
     },
     "execution_count": 31,
     "metadata": {},
     "output_type": "execute_result"
    }
   ],
   "source": [
    "poly_feat = PolynomialFeatures(degree=2, include_bias=True, interaction_only=True, order='C')\n",
    "poly_feat.get_params()"
   ]
  },
  {
   "cell_type": "code",
   "execution_count": 32,
   "id": "1820bb28",
   "metadata": {},
   "outputs": [
    {
     "name": "stdout",
     "output_type": "stream",
     "text": [
      "(440054, 92) (110014, 92)\n"
     ]
    }
   ],
   "source": [
    "# Fit then transform for both training and test data (the number of columns must increase)\n",
    "x_poly_train = poly_feat.fit_transform(x_train)\n",
    "x_poly_test = poly_feat.fit_transform(x_test)\n",
    "print(x_poly_train.shape, x_poly_test.shape)"
   ]
  },
  {
   "cell_type": "markdown",
   "id": "706a9449",
   "metadata": {},
   "source": [
    "### Polynomial Regression with Ridge"
   ]
  },
  {
   "cell_type": "code",
   "execution_count": 33,
   "id": "6f9ac4fa",
   "metadata": {},
   "outputs": [
    {
     "name": "stdout",
     "output_type": "stream",
     "text": [
      ">>> Fitting and prediction were completed in 0.429 seconds.\n"
     ]
    }
   ],
   "source": [
    "ridge = Ridge(max_iter=1000)\n",
    "s_time = time.time()\n",
    "ridge.fit(x_poly_train, y_train)\n",
    "y_poly_pred = ridge.predict(x_poly_test)\n",
    "print(\">>> Fitting and prediction were completed in {:.3f} seconds.\".format(time.time()-s_time))"
   ]
  },
  {
   "cell_type": "code",
   "execution_count": 34,
   "id": "746a5597-68ae-4352-96a2-4086a393a0e2",
   "metadata": {},
   "outputs": [
    {
     "name": "stdout",
     "output_type": "stream",
     "text": [
      "COEF: [    0.          3589.05774751 -7685.01928203 -3777.06032436\n",
      "  5804.12706804  6338.5738389  -2516.54181898  9666.26784651\n",
      " -5336.74914252 -8662.07198842 -9292.2915398   4787.8163511\n",
      "  4765.98532756 -9639.17090994     0.             0.\n",
      "     0.             0.             0.             0.\n",
      "     0.             0.             0.             0.\n",
      "     0.             0.             0.             0.\n",
      "     0.             0.             0.             0.\n",
      "     0.             0.             0.             0.\n",
      "     0.             0.             0.             0.\n",
      "     0.             0.             0.             0.\n",
      "     0.             0.             0.             0.\n",
      "     0.             0.             0.             0.\n",
      "     0.             0.             0.             0.\n",
      "     0.             0.             0.             0.\n",
      "     0.             0.             0.             0.\n",
      "     0.             0.             0.             0.\n",
      "     0.             0.             0.             0.\n",
      "     0.             0.             0.             0.\n",
      "     0.             0.             0.             0.\n",
      "     0.             0.             0.             0.\n",
      "     0.             0.             0.             0.\n",
      "     0.             0.             0.             0.        ]\n",
      "INTERCEPT: 10017.01442097109\n",
      "ITERATIONS: None\n",
      "FEATURES: 92\n"
     ]
    }
   ],
   "source": [
    "print(\"COEF:\", ridge.coef_)   # Weight vector(s)\n",
    "print(\"INTERCEPT:\", ridge.intercept_)   # Independent term in decision function. Set to 0.0 if fit_intercept = False\n",
    "# Actual number of iterations for each target. Only for 'sag' & 'lsqr' solvers. Other solvers will return None\n",
    "print(\"ITERATIONS:\", ridge.n_iter_)\n",
    "print(\"FEATURES:\", ridge.n_features_in_)   # Number of features seen during fit"
   ]
  },
  {
   "cell_type": "code",
   "execution_count": 35,
   "id": "e5c9cecb",
   "metadata": {},
   "outputs": [
    {
     "name": "stdout",
     "output_type": "stream",
     "text": [
      "MSE: 9820780.490466485\n",
      "RMSE: 3133.812452982227\n",
      "MAE: 2369.3864609205075\n",
      "R2 SCORE: 0.6098995393986847\n",
      "# CROSS VALIDATION #\n",
      "FITTING TIME: [0.09717894 0.10359645 0.10979271 0.12563229 0.10294175] -> 0.10782842636108399\n",
      "SCORING TIME: [0.01560402 0.         0.         0.01562357 0.        ] -> 0.00624551773071289\n",
      "TRAIN SCORE: [0.60900205 0.60873674 0.60831449 0.60861665 0.61218137] -> 0.6093702602333417\n",
      "TEST SCORE: [0.61021263 0.61128935 0.61293368 0.61170932 0.50994352] -> 0.5912177006686847\n"
     ]
    }
   ],
   "source": [
    "# Results of metrics\n",
    "mse, rmse, mae, r2 = mean_squared_error(y_test, y_poly_pred), mean_squared_error(y_test, y_poly_pred, squared=False), \\\n",
    "    mean_absolute_error(y_test, y_poly_pred), r2_score(y_test, y_poly_pred)\n",
    "print(\"MSE:\", mse)        \n",
    "print(\"RMSE:\", rmse)       \n",
    "print(\"MAE:\", mae)          \n",
    "print(\"R2 SCORE:\", r2)      \n",
    "res_mse.append(mse)\n",
    "res_rmse.append(rmse)\n",
    "res_mae.append(mae)\n",
    "res_r2.append(r2)\n",
    "cross_val = cross_validate(ridge, X, Y, cv=5, return_train_score=True)\n",
    "print(\"# CROSS VALIDATION #\")\n",
    "print(\"FITTING TIME:\", cross_val['fit_time'], \"->\", cross_val['fit_time'].mean())\n",
    "print(\"SCORING TIME:\", cross_val['score_time'], \"->\", cross_val['score_time'].mean())\n",
    "print(\"TRAIN SCORE:\", cross_val['train_score'], \"->\", cross_val['train_score'].mean())\n",
    "res_cv_train.append(cross_val['train_score'].mean())\n",
    "print(\"TEST SCORE:\", cross_val['test_score'], \"->\", cross_val['test_score'].mean())\n",
    "res_cv_test.append(cross_val['test_score'].mean())"
   ]
  },
  {
   "cell_type": "markdown",
   "id": "9bd56ca9",
   "metadata": {},
   "source": [
    "## 5 - Random Forest Regression"
   ]
  },
  {
   "cell_type": "code",
   "execution_count": 36,
   "id": "feabb351",
   "metadata": {},
   "outputs": [
    {
     "data": {
      "text/plain": [
       "{'bootstrap': True,\n",
       " 'ccp_alpha': 0.2,\n",
       " 'criterion': 'friedman_mse',\n",
       " 'max_depth': 25,\n",
       " 'max_features': None,\n",
       " 'max_leaf_nodes': None,\n",
       " 'max_samples': None,\n",
       " 'min_impurity_decrease': 0.0,\n",
       " 'min_samples_leaf': 2,\n",
       " 'min_samples_split': 2,\n",
       " 'min_weight_fraction_leaf': 0.1,\n",
       " 'n_estimators': 25,\n",
       " 'n_jobs': None,\n",
       " 'oob_score': True,\n",
       " 'random_state': None,\n",
       " 'verbose': 0,\n",
       " 'warm_start': False}"
      ]
     },
     "execution_count": 36,
     "metadata": {},
     "output_type": "execute_result"
    }
   ],
   "source": [
    "rforest = RandomForestRegressor(n_estimators=25, criterion='friedman_mse', max_depth=25, min_samples_split=2, \n",
    "                                min_samples_leaf=2, min_weight_fraction_leaf=0.1, max_features=None, max_leaf_nodes=None,\n",
    "                                bootstrap=True, warm_start=False, ccp_alpha=0.2, max_samples=None, oob_score=True)\n",
    "# rforest = RandomForestRegressor(n_estimators=40, criterion='friedman_mse', max_depth=20, min_samples_split=4, \n",
    "#                                 min_samples_leaf=4, min_weight_fraction_leaf=0.1, max_features=None, max_leaf_nodes=None,\n",
    "#                                 bootstrap=True, warm_start=False, ccp_alpha=0.2, max_samples=None)\n",
    "rforest.get_params()"
   ]
  },
  {
   "cell_type": "code",
   "execution_count": 37,
   "id": "125588f3",
   "metadata": {},
   "outputs": [
    {
     "name": "stdout",
     "output_type": "stream",
     "text": [
      ">>> Fitting and prediction were completed in 2.934 seconds.\n"
     ]
    }
   ],
   "source": [
    "# Fit the training data into the random forest, then make predictions on the test data\n",
    "s_time = time.time()\n",
    "rforest.fit(x_train, y_train)\n",
    "y_pred = rforest.predict(x_test)\n",
    "print(\">>> Fitting and prediction were completed in {:.3f} seconds.\".format(time.time()-s_time))"
   ]
  },
  {
   "cell_type": "code",
   "execution_count": 38,
   "id": "efd1ffaa",
   "metadata": {},
   "outputs": [
    {
     "name": "stdout",
     "output_type": "stream",
     "text": [
      "MSE: 17166166.907830786\n",
      "RMSE: 4143.207321367202\n",
      "MAE: 3137.745356487643\n",
      "R2 SCORE: 0.3181265354617694\n",
      "# CROSS VALIDATION #\n",
      "FITTING TIME: [2.55354619 2.74508214 2.66982746 2.76108408 2.45665336] -> 2.637238645553589\n",
      "SCORING TIME: [0.09663129 0.07867622 0.09120822 0.07868052 0.09307289] -> 0.08765382766723633\n",
      "TRAIN SCORE: [0.31455619 0.31399751 0.31506434 0.31471467 0.32703154] -> 0.31707284899909166\n",
      "TEST SCORE: [0.32611472 0.3282634  0.32379379 0.32520713 0.27378575] -> 0.31543295775745805\n"
     ]
    }
   ],
   "source": [
    "# Results of metrics\n",
    "mse, rmse, mae, r2 = mean_squared_error(y_test, y_pred), mean_squared_error(y_test, y_pred, squared=False), \\\n",
    "    mean_absolute_error(y_test, y_pred), r2_score(y_test, y_pred)\n",
    "print(\"MSE:\", mse)        \n",
    "print(\"RMSE:\", rmse)      \n",
    "print(\"MAE:\", mae)        \n",
    "print(\"R2 SCORE:\", r2)  \n",
    "res_mse.append(mse)\n",
    "res_rmse.append(rmse)\n",
    "res_mae.append(mae)\n",
    "res_r2.append(r2)\n",
    "cross_val = cross_validate(rforest, X, Y, cv=5, return_train_score=True)\n",
    "print(\"# CROSS VALIDATION #\")\n",
    "print(\"FITTING TIME:\", cross_val['fit_time'], \"->\", cross_val['fit_time'].mean())\n",
    "print(\"SCORING TIME:\", cross_val['score_time'], \"->\", cross_val['score_time'].mean())\n",
    "print(\"TRAIN SCORE:\", cross_val['train_score'], \"->\", cross_val['train_score'].mean())\n",
    "res_cv_train.append(cross_val['train_score'].mean())\n",
    "print(\"TEST SCORE:\", cross_val['test_score'], \"->\", cross_val['test_score'].mean())\n",
    "res_cv_test.append(cross_val['test_score'].mean())"
   ]
  },
  {
   "cell_type": "markdown",
   "id": "c294aae3",
   "metadata": {},
   "source": [
    "## 6 - Multi-Layer Perceptron Regression"
   ]
  },
  {
   "cell_type": "code",
   "execution_count": 39,
   "id": "b4a8b400",
   "metadata": {},
   "outputs": [
    {
     "data": {
      "text/plain": [
       "{'activation': 'relu',\n",
       " 'alpha': 0.1,\n",
       " 'batch_size': 'auto',\n",
       " 'beta_1': 0.9,\n",
       " 'beta_2': 0.999,\n",
       " 'early_stopping': False,\n",
       " 'epsilon': 1e-09,\n",
       " 'hidden_layer_sizes': (100,),\n",
       " 'learning_rate': 'adaptive',\n",
       " 'learning_rate_init': 0.01,\n",
       " 'max_fun': 15000,\n",
       " 'max_iter': 250,\n",
       " 'momentum': 0.9,\n",
       " 'n_iter_no_change': 10,\n",
       " 'nesterovs_momentum': True,\n",
       " 'power_t': 0.5,\n",
       " 'random_state': None,\n",
       " 'shuffle': True,\n",
       " 'solver': 'adam',\n",
       " 'tol': 0.01,\n",
       " 'validation_fraction': 0.5,\n",
       " 'verbose': False,\n",
       " 'warm_start': False}"
      ]
     },
     "execution_count": 39,
     "metadata": {},
     "output_type": "execute_result"
    }
   ],
   "source": [
    "mlpr = MLPRegressor(max_iter=250, hidden_layer_sizes=(100,), activation='relu', solver='adam', alpha=0.1,\n",
    "                    learning_rate='adaptive', learning_rate_init=0.01, shuffle=True, tol=0.01, max_fun=15000,\n",
    "                    beta_1=0.9, beta_2=0.999, epsilon=1e-9, n_iter_no_change=10, early_stopping=False, validation_fraction=0.5)\n",
    "mlpr.get_params()"
   ]
  },
  {
   "cell_type": "code",
   "execution_count": 40,
   "id": "3c576393",
   "metadata": {},
   "outputs": [
    {
     "name": "stdout",
     "output_type": "stream",
     "text": [
      ">>> Fitting and prediction were completed in 35.050 seconds.\n"
     ]
    }
   ],
   "source": [
    "# Fit the training data into the multi-layer perceptron regression model, then make predictions on the test data\n",
    "s_time = time.time()\n",
    "mlpr.fit(x_train, y_train)\n",
    "y_pred = mlpr.predict(x_test)\n",
    "print(\">>> Fitting and prediction were completed in {:.3f} seconds.\".format(time.time()-s_time))"
   ]
  },
  {
   "cell_type": "code",
   "execution_count": 41,
   "id": "f93caafb",
   "metadata": {},
   "outputs": [
    {
     "name": "stdout",
     "output_type": "stream",
     "text": [
      "   7461.337274821223 |     5977\n",
      "  13584.257702363819 |    19203\n",
      "  13584.257702363819 |    15582\n",
      "   7461.337274821223 |     5942\n",
      "  14818.119240401144 |    20266\n",
      "  6266.9868595893495 |     8611\n",
      "  2345.1867898250684 |     2762\n",
      "   7461.337274821223 |     3935\n",
      "  10005.621583004055 |     5722\n",
      "   7461.337274821223 |     6038\n",
      "  6266.9868595893495 |     5191\n",
      "  13584.257702363819 |    15719\n",
      "  13584.257702363819 |    15499\n",
      "  6266.9868595893495 |     8612\n",
      "   7461.337274821223 |     7908\n",
      "  6266.9868595893495 |     8584\n",
      "   7461.337274821223 |     3951\n",
      "  6266.9868595893495 |     8770\n",
      "   7461.337274821223 |     7899\n",
      "  19679.190976009584 |    23301\n"
     ]
    }
   ],
   "source": [
    "# Compare the predicted values against the actual ones for the first 20 rows\n",
    "for i in range(20):\n",
    "    print(\"{:20} | {:8}\".format(y_pred[i], y_test.iloc[i]))"
   ]
  },
  {
   "cell_type": "code",
   "execution_count": 42,
   "id": "e172e923",
   "metadata": {},
   "outputs": [
    {
     "name": "stdout",
     "output_type": "stream",
     "text": [
      "MSE: 9821469.035365995\n",
      "RMSE: 3133.9223084444825\n",
      "MAE: 2371.5314381187045\n",
      "R2 SCORE: 0.6098721890589938\n"
     ]
    }
   ],
   "source": [
    "# Results of metrics\n",
    "mse, rmse, mae, r2 = mean_squared_error(y_test, y_pred), mean_squared_error(y_test, y_pred, squared=False), \\\n",
    "    mean_absolute_error(y_test, y_pred), r2_score(y_test, y_pred)\n",
    "print(\"MSE:\", mse)         \n",
    "print(\"RMSE:\", rmse)        \n",
    "print(\"MAE:\", mae)           \n",
    "print(\"R2 SCORE:\", r2)      \n",
    "res_mse.append(mse)\n",
    "res_rmse.append(rmse)\n",
    "res_mae.append(mae)\n",
    "res_r2.append(r2)\n",
    "# Cross validation is disabled due to taking lots of time for fitting\n",
    "# cross_val = cross_validate(mlpr, X, Y, cv=5, return_train_score=True)\n",
    "# print(\"# CROSS VALIDATION #\")\n",
    "# print(\"FITTING TIME:\", cross_val['fit_time'], \"->\", cross_val['fit_time'].mean())\n",
    "# print(\"SCORING TIME:\", cross_val['score_time'], \"->\", cross_val['score_time'].mean())\n",
    "# print(\"TRAIN SCORE:\", cross_val['train_score'], \"->\", cross_val['train_score'].mean())\n",
    "# print(\"TEST SCORE:\", cross_val['test_score'], \"->\", cross_val['test_score'].mean())"
   ]
  },
  {
   "cell_type": "markdown",
   "id": "3fe8b26f",
   "metadata": {},
   "source": [
    "## 7 - Gradient Boosting"
   ]
  },
  {
   "cell_type": "code",
   "execution_count": 43,
   "id": "2f722876",
   "metadata": {},
   "outputs": [
    {
     "data": {
      "text/plain": [
       "{'alpha': 0.9,\n",
       " 'ccp_alpha': 0.0,\n",
       " 'criterion': 'friedman_mse',\n",
       " 'init': None,\n",
       " 'learning_rate': 0.1,\n",
       " 'loss': 'squared_error',\n",
       " 'max_depth': 3,\n",
       " 'max_features': None,\n",
       " 'max_leaf_nodes': None,\n",
       " 'min_impurity_decrease': 0.0,\n",
       " 'min_samples_leaf': 1,\n",
       " 'min_samples_split': 2,\n",
       " 'min_weight_fraction_leaf': 0.0,\n",
       " 'n_estimators': 100,\n",
       " 'n_iter_no_change': None,\n",
       " 'random_state': None,\n",
       " 'subsample': 1.0,\n",
       " 'tol': 0.0001,\n",
       " 'validation_fraction': 0.1,\n",
       " 'verbose': 0,\n",
       " 'warm_start': False}"
      ]
     },
     "execution_count": 43,
     "metadata": {},
     "output_type": "execute_result"
    }
   ],
   "source": [
    "gradBoost = GradientBoostingRegressor()\n",
    "gradBoost.get_params()"
   ]
  },
  {
   "cell_type": "code",
   "execution_count": 44,
   "id": "bdb39daf",
   "metadata": {},
   "outputs": [
    {
     "name": "stdout",
     "output_type": "stream",
     "text": [
      ">>> Fitting and prediction were completed in 11.291 seconds.\n"
     ]
    }
   ],
   "source": [
    "# Fit the training data into the Gradient boosting regression model, then make predictions on the test data\n",
    "s_time = time.time()\n",
    "gradBoost.fit(x_train, y_train)\n",
    "y_pred = gradBoost.predict(x_test)\n",
    "print(\">>> Fitting and prediction were completed in {:.3f} seconds.\".format(time.time()-s_time))"
   ]
  },
  {
   "cell_type": "code",
   "execution_count": 45,
   "id": "4d6a6ee9",
   "metadata": {},
   "outputs": [
    {
     "name": "stdout",
     "output_type": "stream",
     "text": [
      "INIT: DummyRegressor()\n",
      "ESTIMATORS (FIRST 5):\n",
      "[[DecisionTreeRegressor(criterion='friedman_mse', max_depth=3,\n",
      "                        random_state=RandomState(MT19937) at 0x272DD705340)]\n",
      " [DecisionTreeRegressor(criterion='friedman_mse', max_depth=3,\n",
      "                        random_state=RandomState(MT19937) at 0x272DD705340)]\n",
      " [DecisionTreeRegressor(criterion='friedman_mse', max_depth=3,\n",
      "                        random_state=RandomState(MT19937) at 0x272DD705340)]\n",
      " [DecisionTreeRegressor(criterion='friedman_mse', max_depth=3,\n",
      "                        random_state=RandomState(MT19937) at 0x272DD705340)]\n",
      " [DecisionTreeRegressor(criterion='friedman_mse', max_depth=3,\n",
      "                        random_state=RandomState(MT19937) at 0x272DD705340)]]\n",
      "# OF ESTIMATORS: 100\n",
      "# OF FEATURES: 13\n",
      "MAX FEATURES: 13\n",
      "FEATURE IMPORTANCES: [0.37942052 0.05431456 0.07664536 0.14673704 0.02703926 0.02199726\n",
      " 0.08177243 0.04586355 0.02542327 0.04002616 0.02938671 0.05083372\n",
      " 0.02054015]\n",
      "TRAIN SCORE:\n",
      "[23264138.88201535 21659505.08795472 20343946.59514929 19256458.88118388\n",
      " 18362727.83987643 17621021.00083777 17009765.08812574 16491738.69077348\n",
      " 15920338.42489352 15508692.32635744 15072448.69389627 14745902.76205881\n",
      " 14397212.81473674 14104833.26264683 13857856.90781388 13614948.54127205\n",
      " 13399774.25187186 13205648.58268892 13032259.97084781 12867053.93665091\n",
      " 12716214.19012786 12575873.23565074 12437062.80361357 12309271.92144521\n",
      " 12183998.40454723 12073246.235744   11963553.76630872 11860502.92573568\n",
      " 11771009.00617085 11656840.55892435 11564194.33380976 11485205.20306199\n",
      " 11408591.47844938 11331843.59330462 11263154.11857679 11186328.31639826\n",
      " 11119036.69906271 11058155.72147263 11003873.53337611 10951504.5498441\n",
      " 10883612.47825321 10836620.33443968 10792774.25618376 10750084.47792798\n",
      " 10712089.68154926 10676383.34179501 10627795.21897126 10591389.85558597\n",
      " 10553098.20459529 10520737.77788407 10491697.47585363 10464910.32089208\n",
      " 10439491.03008559 10405627.03221437 10381738.07758264 10358816.3774872\n",
      " 10338226.08463852 10318078.93314366 10299597.35930249 10281248.18104725\n",
      " 10258687.49777314 10242006.80450362 10226710.05192686 10211155.4482193\n",
      " 10197469.85611128 10184719.43880478 10171732.30570528 10157908.30865023\n",
      " 10146377.08324997 10136052.91661715 10126406.99678052 10117056.33740144\n",
      " 10108394.14710929 10099220.74793237 10088367.0925867  10080257.78507981\n",
      " 10072951.44450932 10066169.45880909 10059756.81640278 10053895.43972253\n",
      " 10046743.70644901 10040503.81572026 10035172.76129553 10030348.36841223\n",
      " 10024320.7763496  10019706.99207918 10015467.6483939  10011537.25510181\n",
      " 10007486.24782837 10003848.70437532 10000384.65902839  9996330.38310493\n",
      "  9992152.11936176  9988411.27823743  9985317.08440037  9981460.38878744\n",
      "  9978738.59432986  9976017.53549119  9973614.01421172  9970580.39722976]\n"
     ]
    }
   ],
   "source": [
    "print(\"INIT:\", gradBoost.init_)  # The estimator that provides the initial predictions\n",
    "print(\"ESTIMATORS (FIRST 5):\\n{}\".format(gradBoost.estimators_[:5]))  # The collection of fitted sub-estimators\n",
    "# The number of estimators as selected by early stopping (if 'n_iter_no_change' is specified).\n",
    "# Otherwise, it is set to 'n_estimators'\n",
    "print(\"# OF ESTIMATORS:\", gradBoost.n_estimators_)\n",
    "print(\"# OF FEATURES:\", gradBoost.n_features_in_)  # Number of features seen during fit\n",
    "print(\"MAX FEATURES:\", gradBoost.max_features_)  # The inferred value of max_features\n",
    "print(\"FEATURE IMPORTANCES:\", gradBoost.feature_importances_)  # The impurity-based feature importances\n",
    "# The i'th score 'train_score[i]' is the loss of the model at iteration i on the in-bag sample.\n",
    "# If subsample == 1, this is the loss on the training data.\n",
    "print(\"TRAIN SCORE:\\n{}\".format(gradBoost.train_score_))"
   ]
  },
  {
   "cell_type": "code",
   "execution_count": 46,
   "id": "3bd7d71b",
   "metadata": {},
   "outputs": [
    {
     "name": "stdout",
     "output_type": "stream",
     "text": [
      "   7628.135872479734 |     5977\n",
      "  13689.863419180974 |    19203\n",
      "  13689.863419180974 |    15582\n",
      "   7628.135872479734 |     5942\n",
      "  14346.976977096321 |    20266\n",
      "   6331.330705753394 |     8611\n",
      "   2751.195947157594 |     2762\n",
      "   7628.135872479734 |     3935\n",
      "   9214.970819910195 |     5722\n",
      "   7628.135872479734 |     6038\n",
      "   6331.330705753394 |     5191\n",
      "  13689.863419180974 |    15719\n",
      "  13689.863419180974 |    15499\n",
      "   6331.330705753394 |     8612\n",
      "   7628.135872479734 |     7908\n",
      "   6331.330705753394 |     8584\n",
      "   7628.135872479734 |     3951\n",
      "   6331.330705753394 |     8770\n",
      "   7628.135872479734 |     7899\n",
      "  19087.344998079578 |    23301\n"
     ]
    }
   ],
   "source": [
    "# Compare the predicted values against the actual ones for the first 20 rows\n",
    "for i in range(20):\n",
    "    print(\"{:20} | {:8}\".format(y_pred[i], y_test.iloc[i]))"
   ]
  },
  {
   "cell_type": "code",
   "execution_count": 47,
   "id": "6f0d43ee",
   "metadata": {},
   "outputs": [
    {
     "name": "stdout",
     "output_type": "stream",
     "text": [
      "MSE: 9924217.050486868\n",
      "RMSE: 3150.2725359065157\n",
      "MAE: 2397.716035477248\n",
      "R2 SCORE: 0.6057908384918538\n",
      "# CROSS VALIDATION #\n",
      "FITTING TIME: [10.26841497 10.38622069 10.34411931 10.34307837 10.00654578] -> 10.269675827026367\n",
      "SCORING TIME: [0.10993814 0.10998869 0.10068703 0.09434223 0.10044909] -> 0.10308103561401367\n",
      "TRAIN SCORE: [0.6045721  0.60422261 0.60370018 0.60406105 0.60924019] -> 0.605159223779482\n",
      "TEST SCORE: [0.60310378 0.60447306 0.60589823 0.60451182 0.52676994] -> 0.5889513643614563\n"
     ]
    }
   ],
   "source": [
    "# Results of metrics\n",
    "mse, rmse, mae, r2 = mean_squared_error(y_test, y_pred), mean_squared_error(y_test, y_pred, squared=False), \\\n",
    "    mean_absolute_error(y_test, y_pred), r2_score(y_test, y_pred)\n",
    "print(\"MSE:\", mse)         \n",
    "print(\"RMSE:\", rmse)        \n",
    "print(\"MAE:\", mae)           \n",
    "print(\"R2 SCORE:\", r2)      \n",
    "res_mse.append(mse)\n",
    "res_rmse.append(rmse)\n",
    "res_mae.append(mae)\n",
    "res_r2.append(r2)\n",
    "cross_val = cross_validate(gradBoost, X, Y, cv=5, return_train_score=True)\n",
    "print(\"# CROSS VALIDATION #\")\n",
    "print(\"FITTING TIME:\", cross_val['fit_time'], \"->\", cross_val['fit_time'].mean())\n",
    "print(\"SCORING TIME:\", cross_val['score_time'], \"->\", cross_val['score_time'].mean())\n",
    "print(\"TRAIN SCORE:\", cross_val['train_score'], \"->\", cross_val['train_score'].mean())\n",
    "res_cv_train.append(cross_val['train_score'].mean())\n",
    "print(\"TEST SCORE:\", cross_val['test_score'], \"->\", cross_val['test_score'].mean())\n",
    "res_cv_test.append(cross_val['test_score'].mean())"
   ]
  },
  {
   "cell_type": "markdown",
   "id": "cf68d669",
   "metadata": {},
   "source": [
    "## 8 - XGBoost"
   ]
  },
  {
   "cell_type": "code",
   "execution_count": 48,
   "id": "73d898a3",
   "metadata": {},
   "outputs": [
    {
     "data": {
      "text/plain": [
       "{'objective': 'reg:squarederror',\n",
       " 'base_score': None,\n",
       " 'booster': None,\n",
       " 'callbacks': None,\n",
       " 'colsample_bylevel': None,\n",
       " 'colsample_bynode': None,\n",
       " 'colsample_bytree': None,\n",
       " 'device': None,\n",
       " 'early_stopping_rounds': None,\n",
       " 'enable_categorical': False,\n",
       " 'eval_metric': None,\n",
       " 'feature_types': None,\n",
       " 'gamma': None,\n",
       " 'grow_policy': None,\n",
       " 'importance_type': None,\n",
       " 'interaction_constraints': None,\n",
       " 'learning_rate': None,\n",
       " 'max_bin': None,\n",
       " 'max_cat_threshold': None,\n",
       " 'max_cat_to_onehot': None,\n",
       " 'max_delta_step': None,\n",
       " 'max_depth': None,\n",
       " 'max_leaves': None,\n",
       " 'min_child_weight': None,\n",
       " 'missing': nan,\n",
       " 'monotone_constraints': None,\n",
       " 'multi_strategy': None,\n",
       " 'n_estimators': None,\n",
       " 'n_jobs': None,\n",
       " 'num_parallel_tree': None,\n",
       " 'random_state': None,\n",
       " 'reg_alpha': None,\n",
       " 'reg_lambda': None,\n",
       " 'sampling_method': None,\n",
       " 'scale_pos_weight': None,\n",
       " 'subsample': None,\n",
       " 'tree_method': None,\n",
       " 'validate_parameters': None,\n",
       " 'verbosity': None}"
      ]
     },
     "execution_count": 48,
     "metadata": {},
     "output_type": "execute_result"
    }
   ],
   "source": [
    "xgb = xgboost.XGBRegressor()\n",
    "xgb.get_params()"
   ]
  },
  {
   "cell_type": "code",
   "execution_count": 49,
   "id": "9511cf4f",
   "metadata": {},
   "outputs": [
    {
     "name": "stdout",
     "output_type": "stream",
     "text": [
      ">>> Fitting and prediction were completed in 1.264 seconds.\n"
     ]
    }
   ],
   "source": [
    "# Fit the training data into the extreme gradient boosting regression model, then make predictions on the test data\n",
    "s_time = time.time()\n",
    "xgb.fit(x_train, y_train)\n",
    "y_pred = xgb.predict(x_test)\n",
    "print(\">>> Fitting and prediction were completed in {:.3f} seconds.\".format(time.time()-s_time))"
   ]
  },
  {
   "cell_type": "code",
   "execution_count": 50,
   "id": "2132f44d",
   "metadata": {},
   "outputs": [
    {
     "name": "stdout",
     "output_type": "stream",
     "text": [
      "     7500.5673828125 |     5977\n",
      "    13606.1884765625 |    19203\n",
      "    13606.1884765625 |    15582\n",
      "     7500.5673828125 |     5942\n",
      "      14784.08984375 |    20266\n",
      "     6240.0205078125 |     8611\n",
      "    2331.61865234375 |     2762\n",
      "     7500.5673828125 |     3935\n",
      "    10015.5986328125 |     5722\n",
      "     7500.5673828125 |     6038\n",
      "     6240.0205078125 |     5191\n",
      "    13606.1884765625 |    15719\n",
      "    13606.1884765625 |    15499\n",
      "     6240.0205078125 |     8612\n",
      "     7500.5673828125 |     7908\n",
      "     6240.0205078125 |     8584\n",
      "     7500.5673828125 |     3951\n",
      "     6240.0205078125 |     8770\n",
      "     7500.5673828125 |     7899\n",
      "     19686.310546875 |    23301\n"
     ]
    }
   ],
   "source": [
    "# Compare the predicted values against the actual ones for the first 20 rows\n",
    "for i in range(20):\n",
    "    print(\"{:20} | {:8}\".format(y_pred[i], y_test.iloc[i]))"
   ]
  },
  {
   "cell_type": "code",
   "execution_count": 51,
   "id": "a981e44d",
   "metadata": {},
   "outputs": [
    {
     "name": "stdout",
     "output_type": "stream",
     "text": [
      "MSE: 9820788.858537674\n",
      "RMSE: 3133.813788108297\n",
      "MAE: 2369.380070423732\n",
      "R2 SCORE: 0.6098992070026569\n",
      "# CROSS VALIDATION #\n",
      "FITTING TIME: [1.25452375 1.15832973 1.18847346 1.20438552 1.31382251] -> 1.2239069938659668\n",
      "SCORING TIME: [0.08953381 0.04727244 0.0468719  0.04727149 0.06289339] -> 0.058768606185913085\n",
      "TRAIN SCORE: [0.60900205 0.60873674 0.60831448 0.60861665 0.61218137] -> 0.60937025824311\n",
      "TEST SCORE: [0.61020651 0.61128564 0.61292793 0.61170608 0.50995491] -> 0.5912162146065383\n"
     ]
    }
   ],
   "source": [
    "# Results of metrics\n",
    "mse, rmse, mae, r2 = mean_squared_error(y_test, y_pred), mean_squared_error(y_test, y_pred, squared=False), \\\n",
    "    mean_absolute_error(y_test, y_pred), r2_score(y_test, y_pred)\n",
    "print(\"MSE:\", mse)         \n",
    "print(\"RMSE:\", rmse)        \n",
    "print(\"MAE:\", mae)           \n",
    "print(\"R2 SCORE:\", r2)      \n",
    "res_mse.append(mse)\n",
    "res_rmse.append(rmse)\n",
    "res_mae.append(mae)\n",
    "res_r2.append(r2)\n",
    "cross_val = cross_validate(xgb, X, Y, cv=5, return_train_score=True)\n",
    "print(\"# CROSS VALIDATION #\")\n",
    "print(\"FITTING TIME:\", cross_val['fit_time'], \"->\", cross_val['fit_time'].mean())\n",
    "print(\"SCORING TIME:\", cross_val['score_time'], \"->\", cross_val['score_time'].mean())\n",
    "print(\"TRAIN SCORE:\", cross_val['train_score'], \"->\", cross_val['train_score'].mean())\n",
    "res_cv_train.append(cross_val['train_score'].mean())\n",
    "print(\"TEST SCORE:\", cross_val['test_score'], \"->\", cross_val['test_score'].mean())\n",
    "res_cv_test.append(cross_val['test_score'].mean())"
   ]
  },
  {
   "cell_type": "markdown",
   "id": "80237705",
   "metadata": {},
   "source": [
    "## Results of Metrics of All ML Methods Together"
   ]
  },
  {
   "cell_type": "code",
   "execution_count": 52,
   "id": "2762b7c3",
   "metadata": {},
   "outputs": [
    {
     "data": {
      "image/png": "[encoded data removed]",
      "text/plain": [
       "<Figure size 900x450 with 1 Axes>"
      ]
     },
     "metadata": {},
     "output_type": "display_data"
    }
   ],
   "source": [
    "methods = ['LinReg', 'Lasso', 'Ridge', 'PolyRidge', 'RForest', 'MLPR', 'GradBoost', 'XGBoost']\n",
    "plt.figure(figsize=(9,4.5))\n",
    "plt.barh(range(8), res_mse, color='#00afff')\n",
    "plt.title(\"MSE Results\", fontsize=18, fontweight='bold')\n",
    "plt.yticks(range(8), methods)\n",
    "plt.ylim(7.7,-0.7)\n",
    "plt.xlabel('MSE Values', fontsize=13, fontweight='bold')\n",
    "plt.ylabel('ML Models', fontsize=13, fontweight='bold')\n",
    "for i in range(8):\n",
    "    plt.text(res_mse[i]-3200000, i+0.12, \"{:.2f}\".format(res_mse[i]), fontweight='bold')\n",
    "plt.show()"
   ]
  },
  {
   "cell_type": "code",
   "execution_count": 53,
   "id": "35d1005d",
   "metadata": {},
   "outputs": [
    {
     "data": {
      "image/png": "[encoded data removed]",
      "text/plain": [
       "<Figure size 900x450 with 1 Axes>"
      ]
     },
     "metadata": {},
     "output_type": "display_data"
    }
   ],
   "source": [
    "plt.figure(figsize=(9,4.5))\n",
    "plt.barh(range(8), res_rmse, color='#00afff')\n",
    "plt.title(\"RMSE Results\", fontsize=18, fontweight='bold')\n",
    "plt.yticks(range(8), methods)\n",
    "plt.ylim(7.7,-0.7)\n",
    "plt.xlabel('RMSE Values', fontsize=13, fontweight='bold')\n",
    "plt.ylabel('ML Models', fontsize=13, fontweight='bold')\n",
    "for i in range(8):\n",
    "    plt.text(res_rmse[i]-450, i+0.12, \"{:.2f}\".format(res_rmse[i]), fontweight='bold')\n",
    "plt.show()"
   ]
  },
  {
   "cell_type": "code",
   "execution_count": 54,
   "id": "cdf02ba0",
   "metadata": {},
   "outputs": [
    {
     "data": {
      "image/png": "[encoded data removed]",
      "text/plain": [
       "<Figure size 900x450 with 1 Axes>"
      ]
     },
     "metadata": {},
     "output_type": "display_data"
    }
   ],
   "source": [
    "plt.figure(figsize=(9,4.5))\n",
    "plt.barh(range(8), res_mae, color='#00afff')\n",
    "plt.title(\"MAE Results\", fontsize=18, fontweight='bold')\n",
    "plt.yticks(range(8), methods)\n",
    "plt.ylim(7.7,-0.7)\n",
    "plt.xlabel('MAE Values', fontsize=13, fontweight='bold')\n",
    "plt.ylabel('ML Models', fontsize=13, fontweight='bold')\n",
    "for i in range(8):\n",
    "    plt.text(res_mae[i]-350, i+0.12, \"{:.2f}\".format(res_mae[i]), fontweight='bold')\n",
    "plt.show()"
   ]
  },
  {
   "cell_type": "code",
   "execution_count": 55,
   "id": "7a1af8d7",
   "metadata": {},
   "outputs": [
    {
     "data": {
      "image/png": "[encoded data removed]",
      "text/plain": [
       "<Figure size 900x450 with 1 Axes>"
      ]
     },
     "metadata": {},
     "output_type": "display_data"
    }
   ],
   "source": [
    "plt.figure(figsize=(9,4.5))\n",
    "plt.barh(range(8), res_r2, color='#00afff')\n",
    "plt.title(\"R2 Score Results\", fontsize=18, fontweight='bold')\n",
    "plt.yticks(range(8), methods)\n",
    "plt.ylim(7.7,-0.7)\n",
    "plt.xlabel('R2 Scores', fontsize=13, fontweight='bold')\n",
    "plt.ylabel('ML Models', fontsize=13, fontweight='bold')\n",
    "for i in range(8):\n",
    "    plt.text(res_r2[i]-0.06, i+0.12, \"{:.4f}\".format(res_r2[i]), fontweight='bold')\n",
    "plt.show()"
   ]
  },
  {
   "cell_type": "code",
   "execution_count": 56,
   "id": "0db51e8a-51bc-425b-b680-6d63a7fe9c12",
   "metadata": {},
   "outputs": [
    {
     "data": {
      "image/png": "[encoded data removed]",
      "text/plain": [
       "<Figure size 900x400 with 1 Axes>"
      ]
     },
     "metadata": {},
     "output_type": "display_data"
    }
   ],
   "source": [
    "plt.figure(figsize=(9,4))\n",
    "plt.barh(range(7), res_cv_train, color='#00afff')\n",
    "plt.title(\"5-Fold CV Results (Train)\", fontsize=18, fontweight='bold')\n",
    "plt.yticks(range(7), methods[:5]+methods[6:])\n",
    "plt.ylim(6.7,-0.7)\n",
    "plt.xlabel('Train Scores', fontsize=13, fontweight='bold')\n",
    "plt.ylabel('ML Models', fontsize=13, fontweight='bold')\n",
    "for i in range(7):\n",
    "    plt.text(res_cv_train[i]-0.055, i+0.12, \"{:.4f}\".format(res_cv_train[i]), fontweight='bold')\n",
    "plt.show()"
   ]
  },
  {
   "cell_type": "code",
   "execution_count": 57,
   "id": "dd7726ce-dfcf-4dbe-925d-f5069ab84f2b",
   "metadata": {},
   "outputs": [
    {
     "data": {
      "image/png": "[encoded data removed]",
      "text/plain": [
       "<Figure size 900x400 with 1 Axes>"
      ]
     },
     "metadata": {},
     "output_type": "display_data"
    }
   ],
   "source": [
    "plt.figure(figsize=(9,4))\n",
    "plt.barh(range(7), res_cv_test, color='#00afff')\n",
    "plt.title(\"5-Fold CV Results (Test)\", fontsize=18, fontweight='bold')\n",
    "plt.yticks(range(7), methods[:5]+methods[6:])\n",
    "plt.ylim(6.7,-0.7)\n",
    "plt.xlabel('Test Scores', fontsize=13, fontweight='bold')\n",
    "plt.ylabel('ML Models', fontsize=13, fontweight='bold')\n",
    "for i in range(7):\n",
    "    plt.text(res_cv_test[i]-0.055, i+0.12, \"{:.4f}\".format(res_cv_test[i]), fontweight='bold')\n",
    "plt.show()"
   ]
  }
 ],
 "metadata": {
  "kernelspec": {
   "display_name": "Python 3 (ipykernel)",
   "language": "python",
   "name": "python3"
  },
  "language_info": {
   "codemirror_mode": {
    "name": "ipython",
    "version": 3
   },
   "file_extension": ".py",
   "mimetype": "text/x-python",
   "name": "python",
   "nbconvert_exporter": "python",
   "pygments_lexer": "ipython3",
   "version": "3.10.8"
  }
 },
 "nbformat": 4,
 "nbformat_minor": 5
}
