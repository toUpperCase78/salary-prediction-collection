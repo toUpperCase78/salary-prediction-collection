{
 "cells": [
  {
   "cell_type": "markdown",
   "id": "ba281020",
   "metadata": {},
   "source": [
    "# 03. rajpurohitpooja/Salary_Prediction_Portfolio\n",
    "\n",
    "## Predictions with ML Regression Models (T2) - train_features.csv & train_salaries.csv"
   ]
  },
  {
   "cell_type": "code",
   "execution_count": 1,
   "id": "cd4037f8",
   "metadata": {},
   "outputs": [],
   "source": [
    "import numpy as np\n",
    "import pandas as pd\n",
    "import matplotlib.pyplot as plt\n",
    "import seaborn as sns\n",
    "import warnings\n",
    "import time\n",
    "warnings.filterwarnings('ignore')\n",
    "from sklearn.linear_model import LinearRegression, Lasso, Ridge, QuantileRegressor\n",
    "from sklearn.tree import DecisionTreeRegressor\n",
    "from sklearn.ensemble import RandomForestRegressor, GradientBoostingRegressor\n",
    "from sklearn.neighbors import KNeighborsRegressor\n",
    "from sklearn.svm import SVR\n",
    "from sklearn.neural_network import MLPRegressor\n",
    "import xgboost\n",
    "from sklearn.model_selection import train_test_split, cross_val_score, cross_validate\n",
    "from sklearn.preprocessing import OneHotEncoder, PolynomialFeatures, StandardScaler, MinMaxScaler\n",
    "from sklearn.metrics import mean_squared_error, mean_absolute_error, r2_score, get_scorer_names\n",
    "df = pd.read_csv('03_train_features.csv')\n",
    "df_salary = pd.read_csv('03_train_salaries.csv')"
   ]
  },
  {
   "cell_type": "code",
   "execution_count": 2,
   "id": "1b7dd3b1",
   "metadata": {},
   "outputs": [
    {
     "name": "stdout",
     "output_type": "stream",
     "text": [
      "<class 'pandas.core.frame.DataFrame'>\n",
      "Int64Index: 1000000 entries, 0 to 999999\n",
      "Data columns (total 9 columns):\n",
      " #   Column               Non-Null Count    Dtype \n",
      "---  ------               --------------    ----- \n",
      " 0   jobId                1000000 non-null  object\n",
      " 1   companyId            1000000 non-null  object\n",
      " 2   jobType              1000000 non-null  object\n",
      " 3   degree               1000000 non-null  object\n",
      " 4   major                1000000 non-null  object\n",
      " 5   industry             1000000 non-null  object\n",
      " 6   yearsExperience      1000000 non-null  int64 \n",
      " 7   milesFromMetropolis  1000000 non-null  int64 \n",
      " 8   salary               1000000 non-null  int64 \n",
      "dtypes: int64(3), object(6)\n",
      "memory usage: 76.3+ MB\n"
     ]
    }
   ],
   "source": [
    "# Merge these two datasets with 'jobId' column; then show all the columns, counts and their data types\n",
    "df = df.merge(df_salary, on='jobId')\n",
    "df.info()"
   ]
  },
  {
   "cell_type": "code",
   "execution_count": 3,
   "id": "891faaca",
   "metadata": {},
   "outputs": [
    {
     "data": {
      "text/html": [
       "<div>\n",
       "<style scoped>\n",
       "    .dataframe tbody tr th:only-of-type {\n",
       "        vertical-align: middle;\n",
       "    }\n",
       "\n",
       "    .dataframe tbody tr th {\n",
       "        vertical-align: top;\n",
       "    }\n",
       "\n",
       "    .dataframe thead th {\n",
       "        text-align: right;\n",
       "    }\n",
       "</style>\n",
       "<table border=\"1\" class=\"dataframe\">\n",
       "  <thead>\n",
       "    <tr style=\"text-align: right;\">\n",
       "      <th></th>\n",
       "      <th>jobId</th>\n",
       "      <th>companyId</th>\n",
       "      <th>jobType</th>\n",
       "      <th>degree</th>\n",
       "      <th>major</th>\n",
       "      <th>industry</th>\n",
       "      <th>yearsExperience</th>\n",
       "      <th>milesFromMetropolis</th>\n",
       "      <th>salary</th>\n",
       "    </tr>\n",
       "  </thead>\n",
       "  <tbody>\n",
       "    <tr>\n",
       "      <th>0</th>\n",
       "      <td>JOB1362684407687</td>\n",
       "      <td>COMP37</td>\n",
       "      <td>CFO</td>\n",
       "      <td>MASTERS</td>\n",
       "      <td>MATH</td>\n",
       "      <td>HEALTH</td>\n",
       "      <td>10</td>\n",
       "      <td>83</td>\n",
       "      <td>130</td>\n",
       "    </tr>\n",
       "    <tr>\n",
       "      <th>1</th>\n",
       "      <td>JOB1362684407688</td>\n",
       "      <td>COMP19</td>\n",
       "      <td>CEO</td>\n",
       "      <td>HIGH_SCHOOL</td>\n",
       "      <td>NONE</td>\n",
       "      <td>WEB</td>\n",
       "      <td>3</td>\n",
       "      <td>73</td>\n",
       "      <td>101</td>\n",
       "    </tr>\n",
       "    <tr>\n",
       "      <th>2</th>\n",
       "      <td>JOB1362684407689</td>\n",
       "      <td>COMP52</td>\n",
       "      <td>VICE_PRESIDENT</td>\n",
       "      <td>DOCTORAL</td>\n",
       "      <td>PHYSICS</td>\n",
       "      <td>HEALTH</td>\n",
       "      <td>10</td>\n",
       "      <td>38</td>\n",
       "      <td>137</td>\n",
       "    </tr>\n",
       "    <tr>\n",
       "      <th>3</th>\n",
       "      <td>JOB1362684407690</td>\n",
       "      <td>COMP38</td>\n",
       "      <td>MANAGER</td>\n",
       "      <td>DOCTORAL</td>\n",
       "      <td>CHEMISTRY</td>\n",
       "      <td>AUTO</td>\n",
       "      <td>8</td>\n",
       "      <td>17</td>\n",
       "      <td>142</td>\n",
       "    </tr>\n",
       "    <tr>\n",
       "      <th>4</th>\n",
       "      <td>JOB1362684407691</td>\n",
       "      <td>COMP7</td>\n",
       "      <td>VICE_PRESIDENT</td>\n",
       "      <td>BACHELORS</td>\n",
       "      <td>PHYSICS</td>\n",
       "      <td>FINANCE</td>\n",
       "      <td>8</td>\n",
       "      <td>16</td>\n",
       "      <td>163</td>\n",
       "    </tr>\n",
       "  </tbody>\n",
       "</table>\n",
       "</div>"
      ],
      "text/plain": [
       "              jobId companyId         jobType       degree      major  \\\n",
       "0  JOB1362684407687    COMP37             CFO      MASTERS       MATH   \n",
       "1  JOB1362684407688    COMP19             CEO  HIGH_SCHOOL       NONE   \n",
       "2  JOB1362684407689    COMP52  VICE_PRESIDENT     DOCTORAL    PHYSICS   \n",
       "3  JOB1362684407690    COMP38         MANAGER     DOCTORAL  CHEMISTRY   \n",
       "4  JOB1362684407691     COMP7  VICE_PRESIDENT    BACHELORS    PHYSICS   \n",
       "\n",
       "  industry  yearsExperience  milesFromMetropolis  salary  \n",
       "0   HEALTH               10                   83     130  \n",
       "1      WEB                3                   73     101  \n",
       "2   HEALTH               10                   38     137  \n",
       "3     AUTO                8                   17     142  \n",
       "4  FINANCE                8                   16     163  "
      ]
     },
     "execution_count": 3,
     "metadata": {},
     "output_type": "execute_result"
    }
   ],
   "source": [
    "# First 5 rows of the dataset\n",
    "df.head()"
   ]
  },
  {
   "cell_type": "code",
   "execution_count": 4,
   "id": "0e9dae9d",
   "metadata": {},
   "outputs": [
    {
     "data": {
      "text/html": [
       "<div>\n",
       "<style scoped>\n",
       "    .dataframe tbody tr th:only-of-type {\n",
       "        vertical-align: middle;\n",
       "    }\n",
       "\n",
       "    .dataframe tbody tr th {\n",
       "        vertical-align: top;\n",
       "    }\n",
       "\n",
       "    .dataframe thead th {\n",
       "        text-align: right;\n",
       "    }\n",
       "</style>\n",
       "<table border=\"1\" class=\"dataframe\">\n",
       "  <thead>\n",
       "    <tr style=\"text-align: right;\">\n",
       "      <th></th>\n",
       "      <th>jobId</th>\n",
       "      <th>companyId</th>\n",
       "      <th>jobType</th>\n",
       "      <th>degree</th>\n",
       "      <th>major</th>\n",
       "      <th>industry</th>\n",
       "      <th>yearsExperience</th>\n",
       "      <th>milesFromMetropolis</th>\n",
       "      <th>salary</th>\n",
       "    </tr>\n",
       "  </thead>\n",
       "  <tbody>\n",
       "    <tr>\n",
       "      <th>999995</th>\n",
       "      <td>JOB1362685407682</td>\n",
       "      <td>COMP56</td>\n",
       "      <td>VICE_PRESIDENT</td>\n",
       "      <td>BACHELORS</td>\n",
       "      <td>CHEMISTRY</td>\n",
       "      <td>HEALTH</td>\n",
       "      <td>19</td>\n",
       "      <td>94</td>\n",
       "      <td>88</td>\n",
       "    </tr>\n",
       "    <tr>\n",
       "      <th>999996</th>\n",
       "      <td>JOB1362685407683</td>\n",
       "      <td>COMP24</td>\n",
       "      <td>CTO</td>\n",
       "      <td>HIGH_SCHOOL</td>\n",
       "      <td>NONE</td>\n",
       "      <td>FINANCE</td>\n",
       "      <td>12</td>\n",
       "      <td>35</td>\n",
       "      <td>160</td>\n",
       "    </tr>\n",
       "    <tr>\n",
       "      <th>999997</th>\n",
       "      <td>JOB1362685407684</td>\n",
       "      <td>COMP23</td>\n",
       "      <td>JUNIOR</td>\n",
       "      <td>HIGH_SCHOOL</td>\n",
       "      <td>NONE</td>\n",
       "      <td>EDUCATION</td>\n",
       "      <td>16</td>\n",
       "      <td>81</td>\n",
       "      <td>64</td>\n",
       "    </tr>\n",
       "    <tr>\n",
       "      <th>999998</th>\n",
       "      <td>JOB1362685407685</td>\n",
       "      <td>COMP3</td>\n",
       "      <td>CFO</td>\n",
       "      <td>MASTERS</td>\n",
       "      <td>NONE</td>\n",
       "      <td>HEALTH</td>\n",
       "      <td>6</td>\n",
       "      <td>5</td>\n",
       "      <td>149</td>\n",
       "    </tr>\n",
       "    <tr>\n",
       "      <th>999999</th>\n",
       "      <td>JOB1362685407686</td>\n",
       "      <td>COMP59</td>\n",
       "      <td>JUNIOR</td>\n",
       "      <td>BACHELORS</td>\n",
       "      <td>NONE</td>\n",
       "      <td>EDUCATION</td>\n",
       "      <td>20</td>\n",
       "      <td>11</td>\n",
       "      <td>88</td>\n",
       "    </tr>\n",
       "  </tbody>\n",
       "</table>\n",
       "</div>"
      ],
      "text/plain": [
       "                   jobId companyId         jobType       degree      major  \\\n",
       "999995  JOB1362685407682    COMP56  VICE_PRESIDENT    BACHELORS  CHEMISTRY   \n",
       "999996  JOB1362685407683    COMP24             CTO  HIGH_SCHOOL       NONE   \n",
       "999997  JOB1362685407684    COMP23          JUNIOR  HIGH_SCHOOL       NONE   \n",
       "999998  JOB1362685407685     COMP3             CFO      MASTERS       NONE   \n",
       "999999  JOB1362685407686    COMP59          JUNIOR    BACHELORS       NONE   \n",
       "\n",
       "         industry  yearsExperience  milesFromMetropolis  salary  \n",
       "999995     HEALTH               19                   94      88  \n",
       "999996    FINANCE               12                   35     160  \n",
       "999997  EDUCATION               16                   81      64  \n",
       "999998     HEALTH                6                    5     149  \n",
       "999999  EDUCATION               20                   11      88  "
      ]
     },
     "execution_count": 4,
     "metadata": {},
     "output_type": "execute_result"
    }
   ],
   "source": [
    "# Last 5 rows of the dataset\n",
    "df.tail()"
   ]
  },
  {
   "cell_type": "markdown",
   "id": "d8a4e0ff",
   "metadata": {},
   "source": [
    "## Prepare Train and Test Sets"
   ]
  },
  {
   "cell_type": "code",
   "execution_count": 5,
   "id": "310ffa3a",
   "metadata": {},
   "outputs": [
    {
     "data": {
      "text/html": [
       "<div>\n",
       "<style scoped>\n",
       "    .dataframe tbody tr th:only-of-type {\n",
       "        vertical-align: middle;\n",
       "    }\n",
       "\n",
       "    .dataframe tbody tr th {\n",
       "        vertical-align: top;\n",
       "    }\n",
       "\n",
       "    .dataframe thead th {\n",
       "        text-align: right;\n",
       "    }\n",
       "</style>\n",
       "<table border=\"1\" class=\"dataframe\">\n",
       "  <thead>\n",
       "    <tr style=\"text-align: right;\">\n",
       "      <th></th>\n",
       "      <th>job_CEO</th>\n",
       "      <th>job_CFO</th>\n",
       "      <th>job_CTO</th>\n",
       "      <th>job_JANITOR</th>\n",
       "      <th>job_JUNIOR</th>\n",
       "      <th>job_MANAGER</th>\n",
       "      <th>job_SENIOR</th>\n",
       "      <th>job_VICE_PRESIDENT</th>\n",
       "      <th>deg_BACHELORS</th>\n",
       "      <th>deg_DOCTORAL</th>\n",
       "      <th>...</th>\n",
       "      <th>ind_AUTO</th>\n",
       "      <th>ind_EDUCATION</th>\n",
       "      <th>ind_FINANCE</th>\n",
       "      <th>ind_HEALTH</th>\n",
       "      <th>ind_OIL</th>\n",
       "      <th>ind_SERVICE</th>\n",
       "      <th>ind_WEB</th>\n",
       "      <th>yearsExperience</th>\n",
       "      <th>milesFromMetropolis</th>\n",
       "      <th>salary</th>\n",
       "    </tr>\n",
       "  </thead>\n",
       "  <tbody>\n",
       "    <tr>\n",
       "      <th>0</th>\n",
       "      <td>0</td>\n",
       "      <td>1</td>\n",
       "      <td>0</td>\n",
       "      <td>0</td>\n",
       "      <td>0</td>\n",
       "      <td>0</td>\n",
       "      <td>0</td>\n",
       "      <td>0</td>\n",
       "      <td>0</td>\n",
       "      <td>0</td>\n",
       "      <td>...</td>\n",
       "      <td>0</td>\n",
       "      <td>0</td>\n",
       "      <td>0</td>\n",
       "      <td>1</td>\n",
       "      <td>0</td>\n",
       "      <td>0</td>\n",
       "      <td>0</td>\n",
       "      <td>10</td>\n",
       "      <td>83</td>\n",
       "      <td>130</td>\n",
       "    </tr>\n",
       "    <tr>\n",
       "      <th>1</th>\n",
       "      <td>1</td>\n",
       "      <td>0</td>\n",
       "      <td>0</td>\n",
       "      <td>0</td>\n",
       "      <td>0</td>\n",
       "      <td>0</td>\n",
       "      <td>0</td>\n",
       "      <td>0</td>\n",
       "      <td>0</td>\n",
       "      <td>0</td>\n",
       "      <td>...</td>\n",
       "      <td>0</td>\n",
       "      <td>0</td>\n",
       "      <td>0</td>\n",
       "      <td>0</td>\n",
       "      <td>0</td>\n",
       "      <td>0</td>\n",
       "      <td>1</td>\n",
       "      <td>3</td>\n",
       "      <td>73</td>\n",
       "      <td>101</td>\n",
       "    </tr>\n",
       "    <tr>\n",
       "      <th>2</th>\n",
       "      <td>0</td>\n",
       "      <td>0</td>\n",
       "      <td>0</td>\n",
       "      <td>0</td>\n",
       "      <td>0</td>\n",
       "      <td>0</td>\n",
       "      <td>0</td>\n",
       "      <td>1</td>\n",
       "      <td>0</td>\n",
       "      <td>1</td>\n",
       "      <td>...</td>\n",
       "      <td>0</td>\n",
       "      <td>0</td>\n",
       "      <td>0</td>\n",
       "      <td>1</td>\n",
       "      <td>0</td>\n",
       "      <td>0</td>\n",
       "      <td>0</td>\n",
       "      <td>10</td>\n",
       "      <td>38</td>\n",
       "      <td>137</td>\n",
       "    </tr>\n",
       "    <tr>\n",
       "      <th>3</th>\n",
       "      <td>0</td>\n",
       "      <td>0</td>\n",
       "      <td>0</td>\n",
       "      <td>0</td>\n",
       "      <td>0</td>\n",
       "      <td>1</td>\n",
       "      <td>0</td>\n",
       "      <td>0</td>\n",
       "      <td>0</td>\n",
       "      <td>1</td>\n",
       "      <td>...</td>\n",
       "      <td>1</td>\n",
       "      <td>0</td>\n",
       "      <td>0</td>\n",
       "      <td>0</td>\n",
       "      <td>0</td>\n",
       "      <td>0</td>\n",
       "      <td>0</td>\n",
       "      <td>8</td>\n",
       "      <td>17</td>\n",
       "      <td>142</td>\n",
       "    </tr>\n",
       "    <tr>\n",
       "      <th>4</th>\n",
       "      <td>0</td>\n",
       "      <td>0</td>\n",
       "      <td>0</td>\n",
       "      <td>0</td>\n",
       "      <td>0</td>\n",
       "      <td>0</td>\n",
       "      <td>0</td>\n",
       "      <td>1</td>\n",
       "      <td>1</td>\n",
       "      <td>0</td>\n",
       "      <td>...</td>\n",
       "      <td>0</td>\n",
       "      <td>0</td>\n",
       "      <td>1</td>\n",
       "      <td>0</td>\n",
       "      <td>0</td>\n",
       "      <td>0</td>\n",
       "      <td>0</td>\n",
       "      <td>8</td>\n",
       "      <td>16</td>\n",
       "      <td>163</td>\n",
       "    </tr>\n",
       "    <tr>\n",
       "      <th>5</th>\n",
       "      <td>0</td>\n",
       "      <td>0</td>\n",
       "      <td>0</td>\n",
       "      <td>0</td>\n",
       "      <td>0</td>\n",
       "      <td>1</td>\n",
       "      <td>0</td>\n",
       "      <td>0</td>\n",
       "      <td>0</td>\n",
       "      <td>1</td>\n",
       "      <td>...</td>\n",
       "      <td>0</td>\n",
       "      <td>0</td>\n",
       "      <td>1</td>\n",
       "      <td>0</td>\n",
       "      <td>0</td>\n",
       "      <td>0</td>\n",
       "      <td>0</td>\n",
       "      <td>2</td>\n",
       "      <td>31</td>\n",
       "      <td>113</td>\n",
       "    </tr>\n",
       "    <tr>\n",
       "      <th>6</th>\n",
       "      <td>0</td>\n",
       "      <td>1</td>\n",
       "      <td>0</td>\n",
       "      <td>0</td>\n",
       "      <td>0</td>\n",
       "      <td>0</td>\n",
       "      <td>0</td>\n",
       "      <td>0</td>\n",
       "      <td>0</td>\n",
       "      <td>0</td>\n",
       "      <td>...</td>\n",
       "      <td>0</td>\n",
       "      <td>0</td>\n",
       "      <td>0</td>\n",
       "      <td>1</td>\n",
       "      <td>0</td>\n",
       "      <td>0</td>\n",
       "      <td>0</td>\n",
       "      <td>23</td>\n",
       "      <td>24</td>\n",
       "      <td>178</td>\n",
       "    </tr>\n",
       "    <tr>\n",
       "      <th>7</th>\n",
       "      <td>0</td>\n",
       "      <td>0</td>\n",
       "      <td>0</td>\n",
       "      <td>0</td>\n",
       "      <td>1</td>\n",
       "      <td>0</td>\n",
       "      <td>0</td>\n",
       "      <td>0</td>\n",
       "      <td>1</td>\n",
       "      <td>0</td>\n",
       "      <td>...</td>\n",
       "      <td>0</td>\n",
       "      <td>1</td>\n",
       "      <td>0</td>\n",
       "      <td>0</td>\n",
       "      <td>0</td>\n",
       "      <td>0</td>\n",
       "      <td>0</td>\n",
       "      <td>9</td>\n",
       "      <td>70</td>\n",
       "      <td>73</td>\n",
       "    </tr>\n",
       "    <tr>\n",
       "      <th>8</th>\n",
       "      <td>0</td>\n",
       "      <td>0</td>\n",
       "      <td>0</td>\n",
       "      <td>1</td>\n",
       "      <td>0</td>\n",
       "      <td>0</td>\n",
       "      <td>0</td>\n",
       "      <td>0</td>\n",
       "      <td>0</td>\n",
       "      <td>0</td>\n",
       "      <td>...</td>\n",
       "      <td>0</td>\n",
       "      <td>1</td>\n",
       "      <td>0</td>\n",
       "      <td>0</td>\n",
       "      <td>0</td>\n",
       "      <td>0</td>\n",
       "      <td>0</td>\n",
       "      <td>1</td>\n",
       "      <td>54</td>\n",
       "      <td>31</td>\n",
       "    </tr>\n",
       "    <tr>\n",
       "      <th>9</th>\n",
       "      <td>0</td>\n",
       "      <td>0</td>\n",
       "      <td>0</td>\n",
       "      <td>0</td>\n",
       "      <td>0</td>\n",
       "      <td>0</td>\n",
       "      <td>0</td>\n",
       "      <td>1</td>\n",
       "      <td>1</td>\n",
       "      <td>0</td>\n",
       "      <td>...</td>\n",
       "      <td>1</td>\n",
       "      <td>0</td>\n",
       "      <td>0</td>\n",
       "      <td>0</td>\n",
       "      <td>0</td>\n",
       "      <td>0</td>\n",
       "      <td>0</td>\n",
       "      <td>17</td>\n",
       "      <td>68</td>\n",
       "      <td>104</td>\n",
       "    </tr>\n",
       "  </tbody>\n",
       "</table>\n",
       "<p>10 rows × 32 columns</p>\n",
       "</div>"
      ],
      "text/plain": [
       "   job_CEO  job_CFO  job_CTO  job_JANITOR  job_JUNIOR  job_MANAGER  \\\n",
       "0        0        1        0            0           0            0   \n",
       "1        1        0        0            0           0            0   \n",
       "2        0        0        0            0           0            0   \n",
       "3        0        0        0            0           0            1   \n",
       "4        0        0        0            0           0            0   \n",
       "5        0        0        0            0           0            1   \n",
       "6        0        1        0            0           0            0   \n",
       "7        0        0        0            0           1            0   \n",
       "8        0        0        0            1           0            0   \n",
       "9        0        0        0            0           0            0   \n",
       "\n",
       "   job_SENIOR  job_VICE_PRESIDENT  deg_BACHELORS  deg_DOCTORAL  ...  ind_AUTO  \\\n",
       "0           0                   0              0             0  ...         0   \n",
       "1           0                   0              0             0  ...         0   \n",
       "2           0                   1              0             1  ...         0   \n",
       "3           0                   0              0             1  ...         1   \n",
       "4           0                   1              1             0  ...         0   \n",
       "5           0                   0              0             1  ...         0   \n",
       "6           0                   0              0             0  ...         0   \n",
       "7           0                   0              1             0  ...         0   \n",
       "8           0                   0              0             0  ...         0   \n",
       "9           0                   1              1             0  ...         1   \n",
       "\n",
       "   ind_EDUCATION  ind_FINANCE  ind_HEALTH  ind_OIL  ind_SERVICE  ind_WEB  \\\n",
       "0              0            0           1        0            0        0   \n",
       "1              0            0           0        0            0        1   \n",
       "2              0            0           1        0            0        0   \n",
       "3              0            0           0        0            0        0   \n",
       "4              0            1           0        0            0        0   \n",
       "5              0            1           0        0            0        0   \n",
       "6              0            0           1        0            0        0   \n",
       "7              1            0           0        0            0        0   \n",
       "8              1            0           0        0            0        0   \n",
       "9              0            0           0        0            0        0   \n",
       "\n",
       "   yearsExperience  milesFromMetropolis  salary  \n",
       "0               10                   83     130  \n",
       "1                3                   73     101  \n",
       "2               10                   38     137  \n",
       "3                8                   17     142  \n",
       "4                8                   16     163  \n",
       "5                2                   31     113  \n",
       "6               23                   24     178  \n",
       "7                9                   70      73  \n",
       "8                1                   54      31  \n",
       "9               17                   68     104  \n",
       "\n",
       "[10 rows x 32 columns]"
      ]
     },
     "execution_count": 5,
     "metadata": {},
     "output_type": "execute_result"
    }
   ],
   "source": [
    "# Create dummy variables from these columns: jobType, degree, major, industry\n",
    "dummy_jobtype = pd.get_dummies(df['jobType'], prefix='job')\n",
    "dummy_degree = pd.get_dummies(df['degree'], prefix='deg')\n",
    "dummy_major = pd.get_dummies(df['major'], prefix='maj')\n",
    "dummy_industry = pd.get_dummies(df['industry'], prefix='ind')\n",
    "df_concat = pd.concat([dummy_jobtype, dummy_degree, dummy_major, dummy_industry,\n",
    "                       df['yearsExperience'], df['milesFromMetropolis'], df['salary']], axis=1)\n",
    "df_concat.head(10)"
   ]
  },
  {
   "cell_type": "code",
   "execution_count": 6,
   "id": "c194751d",
   "metadata": {},
   "outputs": [
    {
     "data": {
      "image/png": "[encoded data removed]",
      "text/plain": [
       "<Figure size 1100x650 with 2 Axes>"
      ]
     },
     "metadata": {},
     "output_type": "display_data"
    },
    {
     "name": "stdout",
     "output_type": "stream",
     "text": [
      "#### CORRELATION VALUES AGAINST SALARIES ####\n",
      "job_CEO                0.285245\n",
      "job_CFO                0.188804\n",
      "job_CTO                0.189600\n",
      "job_JANITOR           -0.441660\n",
      "job_JUNIOR            -0.201993\n",
      "job_MANAGER           -0.006781\n",
      "job_SENIOR            -0.103642\n",
      "job_VICE_PRESIDENT     0.090941\n",
      "deg_BACHELORS          0.111923\n",
      "deg_DOCTORAL           0.231391\n",
      "deg_HIGH_SCHOOL       -0.203543\n",
      "deg_MASTERS            0.171992\n",
      "deg_NONE              -0.257349\n",
      "maj_BIOLOGY            0.076341\n",
      "maj_BUSINESS           0.126124\n",
      "maj_CHEMISTRY          0.084046\n",
      "maj_COMPSCI            0.102987\n",
      "maj_ENGINEERING        0.144176\n",
      "maj_LITERATURE         0.053920\n",
      "maj_MATH               0.110401\n",
      "maj_NONE              -0.371421\n",
      "maj_PHYSICS            0.092057\n",
      "ind_AUTO              -0.069913\n",
      "ind_EDUCATION         -0.175148\n",
      "ind_FINANCE            0.154847\n",
      "ind_HEALTH            -0.003439\n",
      "ind_OIL                0.156959\n",
      "ind_SERVICE           -0.122361\n",
      "ind_WEB                0.058949\n",
      "yearsExperience        0.375013\n",
      "milesFromMetropolis   -0.297666\n",
      "salary                 1.000000\n",
      "Name: salary, dtype: float64\n"
     ]
    }
   ],
   "source": [
    "# Show the correlations of all concatenated columns in a heat map\n",
    "plt.figure(figsize=(11,6.5))\n",
    "sns.heatmap(df_concat.corr())\n",
    "plt.show()\n",
    "print(\"#### CORRELATION VALUES AGAINST SALARIES ####\")\n",
    "print(df_concat.corr()['salary'])"
   ]
  },
  {
   "cell_type": "markdown",
   "id": "17e46044-9482-43ce-8dcc-448dd7a29dd6",
   "metadata": {},
   "source": [
    "### Type 2: Use Positively Correlated Columns Only"
   ]
  },
  {
   "cell_type": "code",
   "execution_count": 7,
   "id": "54d7bd1c",
   "metadata": {},
   "outputs": [
    {
     "name": "stdout",
     "output_type": "stream",
     "text": [
      "TRAIN SIZE: (800000, 19) (800000,)   TEST SIZE: (200000, 19) (200000,)\n",
      "Index(['job_CEO', 'job_CFO', 'job_CTO', 'job_VICE_PRESIDENT', 'deg_BACHELORS',\n",
      "       'deg_DOCTORAL', 'deg_MASTERS', 'maj_BIOLOGY', 'maj_BUSINESS',\n",
      "       'maj_CHEMISTRY', 'maj_COMPSCI', 'maj_ENGINEERING', 'maj_LITERATURE',\n",
      "       'maj_MATH', 'maj_PHYSICS', 'ind_FINANCE', 'ind_OIL', 'ind_WEB',\n",
      "       'yearsExperience'],\n",
      "      dtype='object')\n"
     ]
    }
   ],
   "source": [
    "# Use 80% of the dataset as train set, and 20% as test set\n",
    "# X = df_concat.drop(columns='salary', axis=1)\n",
    "X = df_concat[['job_CEO','job_CFO','job_CTO','job_VICE_PRESIDENT','deg_BACHELORS','deg_DOCTORAL','deg_MASTERS','maj_BIOLOGY',\n",
    "               'maj_BUSINESS','maj_CHEMISTRY','maj_COMPSCI','maj_ENGINEERING','maj_LITERATURE','maj_MATH','maj_PHYSICS','ind_FINANCE',\n",
    "               'ind_OIL','ind_WEB','yearsExperience']]\n",
    "Y = df_concat.iloc[:,-1]\n",
    "x_train, x_test, y_train, y_test = train_test_split(X, Y, test_size=0.2, random_state=21)\n",
    "print(\"TRAIN SIZE:\", x_train.shape, y_train.shape, \"  TEST SIZE:\", x_test.shape, y_test.shape)\n",
    "print(X.columns)"
   ]
  },
  {
   "cell_type": "code",
   "execution_count": 8,
   "id": "c772d188",
   "metadata": {},
   "outputs": [],
   "source": [
    "# Create lists to store results of error values of all regression methods\n",
    "res_mse, res_rmse, res_mae, res_r2, res_cv_train, res_cv_test = [], [], [], [], [], []"
   ]
  },
  {
   "cell_type": "markdown",
   "id": "f26dde5a",
   "metadata": {},
   "source": [
    "# ML Regression Models\n",
    "\n",
    "## 1 - Linear Regression"
   ]
  },
  {
   "cell_type": "code",
   "execution_count": 9,
   "id": "bcb6ebb4",
   "metadata": {},
   "outputs": [
    {
     "data": {
      "text/plain": [
       "{'copy_X': True,\n",
       " 'fit_intercept': True,\n",
       " 'n_jobs': None,\n",
       " 'normalize': 'deprecated',\n",
       " 'positive': False}"
      ]
     },
     "execution_count": 9,
     "metadata": {},
     "output_type": "execute_result"
    }
   ],
   "source": [
    "linreg = LinearRegression()\n",
    "linreg.get_params()"
   ]
  },
  {
   "cell_type": "code",
   "execution_count": 10,
   "id": "60343309",
   "metadata": {},
   "outputs": [
    {
     "name": "stdout",
     "output_type": "stream",
     "text": [
      ">>> Fitting and prediction were completed in 0.719 seconds.\n"
     ]
    }
   ],
   "source": [
    "# Fit the training data into the linear reg. model, then make predictions on the test data\n",
    "s_time = time.time()\n",
    "linreg.fit(x_train, y_train)\n",
    "y_pred = linreg.predict(x_test)\n",
    "print(\">>> Fitting and prediction were completed in {:.3f} seconds.\".format(time.time()-s_time))"
   ]
  },
  {
   "cell_type": "code",
   "execution_count": 11,
   "id": "bf63691e",
   "metadata": {},
   "outputs": [
    {
     "name": "stdout",
     "output_type": "stream",
     "text": [
      "COEF: [44.65952599 34.86343585 34.80404761 24.87108769 12.7039796  22.70979375\n",
      " 17.73064112  5.07961794 12.53843579  6.0332088   8.98416998 15.53328457\n",
      "  1.3773579  10.1527189   7.3387289  23.35123411 23.52721911 14.31255794\n",
      "  2.00909314]\n",
      "RANK: 19\n",
      "INTERCEPT: 52.61134037737867\n"
     ]
    }
   ],
   "source": [
    "print(\"COEF:\", linreg.coef_)   # Estimated coefficients for the linear reg.\n",
    "print(\"RANK:\", linreg.rank_)   # Rank of matrix\n",
    "print(\"INTERCEPT:\", linreg.intercept_)   # Independent term in the linear model"
   ]
  },
  {
   "cell_type": "code",
   "execution_count": 12,
   "id": "0ef67f47",
   "metadata": {},
   "outputs": [
    {
     "name": "stdout",
     "output_type": "stream",
     "text": [
      "   78.72955124991617 |       73\n",
      "  115.54269200731044 |      100\n",
      "   131.1460443382147 |      101\n",
      "  120.16262365747762 |      112\n",
      "  135.94191762207805 |      130\n",
      "  102.75079445887141 |      108\n",
      "  131.99702284728588 |      130\n",
      "    70.6931786737508 |       43\n",
      "   161.2239546407755 |      174\n",
      "  124.18080994556033 |       88\n",
      "   94.80229640224695 |      103\n",
      "  149.78781516825222 |      162\n",
      "  102.90897755858632 |       73\n",
      "  114.34966101549696 |       96\n",
      "  131.92373133399536 |      121\n",
      "  133.43454295561529 |      187\n",
      "  148.45780503013484 |      173\n",
      "   76.13855948521677 |       89\n",
      "  101.92322192299059 |      106\n",
      "  129.94578966175825 |      160\n"
     ]
    }
   ],
   "source": [
    "# Compare the predicted values against the actual ones for the top 20 rows\n",
    "for i in range(20):\n",
    "    print(\"{:20} | {:8}\".format(y_pred[i], y_test.iloc[i]))"
   ]
  },
  {
   "cell_type": "code",
   "execution_count": 13,
   "id": "0f6557b2",
   "metadata": {},
   "outputs": [
    {
     "name": "stdout",
     "output_type": "stream",
     "text": [
      "MSE: 607.3530954159696\n",
      "RMSE: 24.644534798124504\n",
      "MAE: 19.82450789573937\n",
      "R2 SCORE: 0.5965433786423942\n",
      "ADJUSTED R2 SCORE: 0.5958743498015635\n",
      "\n",
      "# CROSS VALIDATION #\n",
      "FITTING TIME: [0.8270936  0.85643458 0.8007915  0.80084658 0.83262086] -> 0.8235574245452881\n",
      "SCORING TIME: [0.01556635 0.03123236 0.03183341 0.03122616 0.03169799] -> 0.02831125259399414\n",
      "TRAIN SCORE: [0.59607359 0.59551271 0.59632689 0.59552361 0.59599335] -> 0.5958860305007108\n",
      "TEST SCORE: [0.59510796 0.59734645 0.59409402 0.59730853 0.59542445] -> 0.5958562814867129\n"
     ]
    }
   ],
   "source": [
    "# Results of metrics\n",
    "mse, rmse, mae, r2 = mean_squared_error(y_test, y_pred), mean_squared_error(y_test, y_pred, squared=False), \\\n",
    "    mean_absolute_error(y_test, y_pred), r2_score(y_test, y_pred)\n",
    "adj_r2 = 1-(1-linreg.score(X, Y))*(len(Y)-1)/(len(Y)-X.shape[1]-1)\n",
    "print(\"MSE:\", mse)         # Mean squared error\n",
    "print(\"RMSE:\", rmse)       # Root mean squared error\n",
    "print(\"MAE:\", mae)         # Mean absolute error\n",
    "print(\"R2 SCORE:\", r2)     # R2 score\n",
    "print(\"ADJUSTED R2 SCORE:\", adj_r2)   # Adjusted R2 score\n",
    "res_mse.append(mse)\n",
    "res_rmse.append(rmse)\n",
    "res_mae.append(mae)\n",
    "res_r2.append(r2)\n",
    "print(\"\\n# CROSS VALIDATION #\")\n",
    "cross_val = cross_validate(linreg, X, Y, cv=5, return_train_score=True)    # 5-fold Cross Validation\n",
    "# The time in seconds for fitting the estimator on the train set for each cv split\n",
    "print(\"FITTING TIME:\", cross_val['fit_time'], \"->\", cross_val['fit_time'].mean())\n",
    "# The time in seconds for scoring the estimator on the test set for each cv split\n",
    "print(\"SCORING TIME:\", cross_val['score_time'], \"->\", cross_val['score_time'].mean())\n",
    "# The score array for train scores for each cv split\n",
    "print(\"TRAIN SCORE:\", cross_val['train_score'], \"->\", cross_val['train_score'].mean())\n",
    "res_cv_train.append(cross_val['train_score'].mean())\n",
    "# The score array for test score for each cv split\n",
    "print(\"TEST SCORE:\", cross_val['test_score'], \"->\", cross_val['test_score'].mean())\n",
    "res_cv_test.append(cross_val['test_score'].mean())"
   ]
  },
  {
   "cell_type": "markdown",
   "id": "432bb649",
   "metadata": {},
   "source": [
    "## 2 - Lasso Regression"
   ]
  },
  {
   "cell_type": "code",
   "execution_count": 14,
   "id": "061780a1",
   "metadata": {},
   "outputs": [
    {
     "data": {
      "text/plain": [
       "{'alpha': 1.0,\n",
       " 'copy_X': True,\n",
       " 'fit_intercept': True,\n",
       " 'max_iter': 1000,\n",
       " 'normalize': 'deprecated',\n",
       " 'positive': False,\n",
       " 'precompute': False,\n",
       " 'random_state': None,\n",
       " 'selection': 'cyclic',\n",
       " 'tol': 0.0001,\n",
       " 'warm_start': False}"
      ]
     },
     "execution_count": 14,
     "metadata": {},
     "output_type": "execute_result"
    }
   ],
   "source": [
    "lasso = Lasso()\n",
    "lasso.get_params()"
   ]
  },
  {
   "cell_type": "code",
   "execution_count": 15,
   "id": "2b5f4842",
   "metadata": {},
   "outputs": [
    {
     "name": "stdout",
     "output_type": "stream",
     "text": [
      ">>> Fitting and prediction were completed in 0.498 seconds.\n"
     ]
    }
   ],
   "source": [
    "# Fit the training data into the lasso model, then make predictions on the test data\n",
    "s_time = time.time()\n",
    "lasso.fit(x_train, y_train)\n",
    "y_pred = lasso.predict(x_test)\n",
    "print(\">>> Fitting and prediction were completed in {:.3f} seconds.\".format(time.time()-s_time))"
   ]
  },
  {
   "cell_type": "code",
   "execution_count": 16,
   "id": "fbb0a995",
   "metadata": {},
   "outputs": [
    {
     "name": "stdout",
     "output_type": "stream",
     "text": [
      "COEF: [30.15358689 20.3321139  20.33848204 10.39196294 10.30778587 20.2594796\n",
      " 15.33015275  0.          0.          0.          0.          0.\n",
      " -0.          0.          0.         11.11704941 11.29605135  2.0911005\n",
      "  1.99129078]\n",
      "INTERCEPT: 70.49537350430701\n",
      "ITERATIONS: 8\n"
     ]
    }
   ],
   "source": [
    "print(\"COEF:\", lasso.coef_)   # Parameter vector (w in the cost function function formula)\n",
    "print(\"INTERCEPT:\", lasso.intercept_)   # Independent term in decision function\n",
    "# Number of iterations run by the coord. descent solver to reach the specified tolerance\n",
    "print(\"ITERATIONS:\", lasso.n_iter_)   "
   ]
  },
  {
   "cell_type": "code",
   "execution_count": 17,
   "id": "a2892497",
   "metadata": {},
   "outputs": [
    {
     "name": "stdout",
     "output_type": "stream",
     "text": [
      "   96.38215364887475 |       73\n",
      "  118.71192647308159 |      100\n",
      "  122.05274950314892 |      101\n",
      "  125.42082008264481 |      112\n",
      "  126.77053117171737 |      130\n",
      "  110.66776091188181 |      108\n",
      "  108.25510879971527 |      130\n",
      "   88.41699052746928 |       43\n",
      "   156.7516740444678 |      174\n",
      "  129.40340164334754 |       88\n",
      "  112.31247989168565 |      103\n",
      "  148.93779477924375 |      162\n",
      "  102.70259779047636 |       73\n",
      "  105.11785483133906 |       96\n",
      "  122.78794961101464 |      121\n",
      "   136.4921944404066 |      187\n",
      "  143.99216497496448 |      173\n",
      "   81.79142485543565 |       89\n",
      "  104.69388857082772 |      106\n",
      "  117.17695201777474 |      160\n"
     ]
    }
   ],
   "source": [
    "# Compare the predicted values against the actual ones for the top 20 rows\n",
    "for i in range(20):\n",
    "    print(\"{:20} | {:8}\".format(y_pred[i], y_test.iloc[i]))"
   ]
  },
  {
   "cell_type": "code",
   "execution_count": 18,
   "id": "b93d6ed6",
   "metadata": {},
   "outputs": [
    {
     "name": "stdout",
     "output_type": "stream",
     "text": [
      "MSE: 745.1283109982749\n",
      "RMSE: 27.29703850234078\n",
      "MAE: 21.92435475821309\n",
      "R2 SCORE: 0.5050211267510423\n",
      "ADJUSTED R2 SCORE: 0.5049250587689829\n",
      "\n",
      "# CROSS VALIDATION #\n",
      "FITTING TIME: [0.56271601 0.54907465 0.56609535 0.56520057 0.565202  ] -> 0.56165771484375\n",
      "SCORING TIME: [0.03880906 0.01562047 0.03124666 0.03127956 0.03522134] -> 0.0304354190826416\n",
      "TRAIN SCORE: [0.50512935 0.50456793 0.50554918 0.50476835 0.50547035] -> 0.5050970318952446\n",
      "TEST SCORE: [0.50502308 0.506388   0.50288412 0.50568009 0.50542319] -> 0.5050796953361651\n"
     ]
    }
   ],
   "source": [
    "# Results of metrics\n",
    "mse, rmse, mae, r2 = mean_squared_error(y_test, y_pred), mean_squared_error(y_test, y_pred, squared=False), \\\n",
    "    mean_absolute_error(y_test, y_pred), r2_score(y_test, y_pred)\n",
    "adj_r2 = 1-(1-lasso.score(X, Y))*(len(Y)-1)/(len(Y)-X.shape[1]-1)\n",
    "print(\"MSE:\", mse)          \n",
    "print(\"RMSE:\", rmse)       \n",
    "print(\"MAE:\", mae)        \n",
    "print(\"R2 SCORE:\", r2)\n",
    "print(\"ADJUSTED R2 SCORE:\", adj_r2)\n",
    "res_mse.append(mse)\n",
    "res_rmse.append(rmse)\n",
    "res_mae.append(mae)\n",
    "res_r2.append(r2)\n",
    "print(\"\\n# CROSS VALIDATION #\")\n",
    "cross_val = cross_validate(lasso, X, Y, cv=5, return_train_score=True)\n",
    "print(\"FITTING TIME:\", cross_val['fit_time'], \"->\", cross_val['fit_time'].mean())\n",
    "print(\"SCORING TIME:\", cross_val['score_time'], \"->\", cross_val['score_time'].mean())\n",
    "print(\"TRAIN SCORE:\", cross_val['train_score'], \"->\", cross_val['train_score'].mean())\n",
    "res_cv_train.append(cross_val['train_score'].mean())\n",
    "print(\"TEST SCORE:\", cross_val['test_score'], \"->\", cross_val['test_score'].mean())\n",
    "res_cv_test.append(cross_val['test_score'].mean())"
   ]
  },
  {
   "cell_type": "markdown",
   "id": "d1399233",
   "metadata": {},
   "source": [
    "## 3 - Ridge Regression"
   ]
  },
  {
   "cell_type": "code",
   "execution_count": 19,
   "id": "26788dc5",
   "metadata": {},
   "outputs": [
    {
     "data": {
      "text/plain": [
       "{'alpha': 1.0,\n",
       " 'copy_X': True,\n",
       " 'fit_intercept': True,\n",
       " 'max_iter': None,\n",
       " 'normalize': 'deprecated',\n",
       " 'positive': False,\n",
       " 'random_state': None,\n",
       " 'solver': 'auto',\n",
       " 'tol': 0.001}"
      ]
     },
     "execution_count": 19,
     "metadata": {},
     "output_type": "execute_result"
    }
   ],
   "source": [
    "ridge = Ridge()\n",
    "ridge.get_params()"
   ]
  },
  {
   "cell_type": "code",
   "execution_count": 20,
   "id": "b53cbb77",
   "metadata": {},
   "outputs": [
    {
     "name": "stdout",
     "output_type": "stream",
     "text": [
      ">>> Fitting and prediction were completed in 0.216 seconds.\n"
     ]
    }
   ],
   "source": [
    "# Fit the training data into the ridge model, then make predictions on the test data\n",
    "s_time = time.time()\n",
    "ridge.fit(x_train, y_train)\n",
    "y_pred = ridge.predict(x_test)\n",
    "print(\">>> Fitting and prediction were completed in {:.3f} seconds.\".format(time.time()-s_time))"
   ]
  },
  {
   "cell_type": "code",
   "execution_count": 21,
   "id": "52b7c16a",
   "metadata": {},
   "outputs": [
    {
     "name": "stdout",
     "output_type": "stream",
     "text": [
      "COEF: [44.65875554 34.86276308 34.80337799 24.87051711 12.70427377 22.7100142\n",
      " 17.73089898  5.07921085 12.5378722   6.03278455  8.9836829  15.53265159\n",
      "  1.37703193 10.15220537  7.3382754  23.35089681 23.52688072 14.31230019\n",
      "  2.00909316]\n",
      "INTERCEPT: 52.61189538894321\n",
      "ITERATIONS: None\n"
     ]
    }
   ],
   "source": [
    "print(\"COEF:\", ridge.coef_)   # Weight vector(s)\n",
    "print(\"INTERCEPT:\", ridge.intercept_)   # Independent term in decision function\n",
    "print(\"ITERATIONS:\", ridge.n_iter_)   # Actual number of iterations for each target. (Only for 'sag' & 'lsqr' solvers)"
   ]
  },
  {
   "cell_type": "code",
   "execution_count": 22,
   "id": "ce0c46c6",
   "metadata": {},
   "outputs": [
    {
     "name": "stdout",
     "output_type": "stream",
     "text": [
      "   78.73010647352903 |       73\n",
      "  115.54257762513654 |      100\n",
      "  131.14569062541278 |      101\n",
      "  120.16284172536764 |      112\n",
      "   135.9415423836158 |      130\n",
      "   102.7511165918867 |      108\n",
      "  131.99634475558577 |      130\n",
      "   70.69373383211801 |       43\n",
      "  161.22355286606083 |      174\n",
      "  124.18102804607314 |       88\n",
      "   94.80285175635109 |      103\n",
      "  149.78769447486894 |      162\n",
      "  102.90912014179489 |       73\n",
      "  114.34932391994766 |       96\n",
      "  131.92335606291027 |      121\n",
      "  133.43432781511953 |      187\n",
      "  148.45753834156352 |      173\n",
      "   76.13877611044308 |       89\n",
      "  101.92343391781387 |      106\n",
      "  129.94541094021486 |      160\n"
     ]
    }
   ],
   "source": [
    "# Compare the predicted values against the actual ones for the top 20 rows\n",
    "for i in range(20):\n",
    "    print(\"{:20} | {:8}\".format(y_pred[i], y_test.iloc[i]))"
   ]
  },
  {
   "cell_type": "code",
   "execution_count": 23,
   "id": "ff41a939",
   "metadata": {},
   "outputs": [
    {
     "name": "stdout",
     "output_type": "stream",
     "text": [
      "MSE: 607.3531443343384\n",
      "RMSE: 24.64453579060353\n",
      "MAE: 19.824513549766504\n",
      "R2 SCORE: 0.5965433461465693\n",
      "ADJUSTED R2 SCORE: 0.5958743431839439\n",
      "\n",
      "# CROSS VALIDATION #\n",
      "FITTING TIME: [0.29848671 0.28205967 0.28251934 0.29850388 0.34576392] -> 0.301466703414917\n",
      "SCORING TIME: [0.04072523 0.03167295 0.03129363 0.03121257 0.03127122] -> 0.03323512077331543\n",
      "TRAIN SCORE: [0.59607359 0.59551271 0.59632689 0.59552361 0.59599335] -> 0.5958860303865882\n",
      "TEST SCORE: [0.59510797 0.59734645 0.59409401 0.59730851 0.59542446] -> 0.5958562822682477\n"
     ]
    }
   ],
   "source": [
    "# Results of metrics\n",
    "mse, rmse, mae, r2 = mean_squared_error(y_test, y_pred), mean_squared_error(y_test, y_pred, squared=False), \\\n",
    "    mean_absolute_error(y_test, y_pred), r2_score(y_test, y_pred)\n",
    "adj_r2 = 1-(1-ridge.score(X, Y))*(len(Y)-1)/(len(Y)-X.shape[1]-1)\n",
    "print(\"MSE:\", mse)        \n",
    "print(\"RMSE:\", rmse)      \n",
    "print(\"MAE:\", mae)        \n",
    "print(\"R2 SCORE:\", r2)  \n",
    "print(\"ADJUSTED R2 SCORE:\", adj_r2)\n",
    "res_mse.append(mse)\n",
    "res_rmse.append(rmse)\n",
    "res_mae.append(mae)\n",
    "res_r2.append(r2)\n",
    "print(\"\\n# CROSS VALIDATION #\")\n",
    "cross_val = cross_validate(ridge, X, Y, cv=5, return_train_score=True)\n",
    "print(\"FITTING TIME:\", cross_val['fit_time'], \"->\", cross_val['fit_time'].mean())\n",
    "print(\"SCORING TIME:\", cross_val['score_time'], \"->\", cross_val['score_time'].mean())\n",
    "print(\"TRAIN SCORE:\", cross_val['train_score'], \"->\", cross_val['train_score'].mean())\n",
    "res_cv_train.append(cross_val['train_score'].mean())\n",
    "print(\"TEST SCORE:\", cross_val['test_score'], \"->\", cross_val['test_score'].mean())\n",
    "res_cv_test.append(cross_val['test_score'].mean())"
   ]
  },
  {
   "cell_type": "markdown",
   "id": "c83dd2ed",
   "metadata": {},
   "source": [
    "## 4 - Polynomial Regression"
   ]
  },
  {
   "cell_type": "code",
   "execution_count": 24,
   "id": "23746f6d",
   "metadata": {},
   "outputs": [
    {
     "data": {
      "text/plain": [
       "{'degree': 2, 'include_bias': True, 'interaction_only': False, 'order': 'C'}"
      ]
     },
     "execution_count": 24,
     "metadata": {},
     "output_type": "execute_result"
    }
   ],
   "source": [
    "poly_feat = PolynomialFeatures(degree=2)\n",
    "poly_feat.get_params()"
   ]
  },
  {
   "cell_type": "code",
   "execution_count": 25,
   "id": "fa5b5926",
   "metadata": {},
   "outputs": [
    {
     "name": "stdout",
     "output_type": "stream",
     "text": [
      "(800000, 210) (200000, 210)\n"
     ]
    }
   ],
   "source": [
    "# Fit then transform for both training and test data (the number of columns must increase)\n",
    "x_poly_train = poly_feat.fit_transform(x_train)\n",
    "x_poly_test = poly_feat.fit_transform(x_test)\n",
    "print(x_poly_train.shape, x_poly_test.shape)"
   ]
  },
  {
   "cell_type": "markdown",
   "id": "9fa321b4",
   "metadata": {},
   "source": [
    "### Polynomial Regression with Lasso"
   ]
  },
  {
   "cell_type": "code",
   "execution_count": 26,
   "id": "d44b7edf",
   "metadata": {},
   "outputs": [
    {
     "name": "stdout",
     "output_type": "stream",
     "text": [
      ">>> Fitting and prediction were completed in 11.854 seconds.\n"
     ]
    }
   ],
   "source": [
    "lasso = Lasso(max_iter=500)\n",
    "s_time = time.time()\n",
    "lasso.fit(x_poly_train, y_train)\n",
    "y_poly_pred = lasso.predict(x_poly_test)\n",
    "print(\">>> Fitting and prediction were completed in {:.3f} seconds.\".format(time.time()-s_time))"
   ]
  },
  {
   "cell_type": "code",
   "execution_count": 27,
   "id": "8862f52d",
   "metadata": {},
   "outputs": [
    {
     "name": "stdout",
     "output_type": "stream",
     "text": [
      "COEF: [ 0.          0.80901038  0.          0.          0.          0.\n",
      "  0.          0.          0.          0.          0.          0.\n",
      "  0.          0.          0.          0.          0.          0.\n",
      "  0.         -0.01479698  0.18010593  0.          0.          0.\n",
      "  0.          0.          0.          0.          0.          0.\n",
      "  0.          0.          0.          0.          0.          0.\n",
      "  0.          0.          2.59598398  0.          0.          0.\n",
      "  0.          0.          0.          0.          0.          0.\n",
      "  0.          0.          0.          0.          0.          0.\n",
      "  0.          0.          2.04758041  0.          0.          0.\n",
      "  0.          0.          0.          0.          0.          0.\n",
      "  0.          0.          0.          0.          0.          0.\n",
      "  0.          2.05177082  0.          0.          0.          0.\n",
      "  0.          0.          0.          0.          0.          0.\n",
      "  0.          0.          0.          0.          0.          1.44093603\n",
      "  0.          0.          0.          0.          0.          0.\n",
      "  0.          0.         -0.          0.          0.          0.\n",
      "  0.          0.          0.9891141   0.          0.          0.\n",
      "  0.          0.          0.          0.          0.          0.\n",
      "  0.          0.          0.          0.          1.60535392  0.\n",
      "  0.          0.          0.          0.          0.          0.\n",
      "  0.          0.          0.          0.          0.          1.30046202\n",
      "  0.          0.          0.          0.          0.          0.\n",
      "  0.          0.          0.          0.          0.          0.\n",
      "  0.          0.          0.          0.          0.          0.\n",
      "  0.          0.          0.          0.          0.434868    0.\n",
      "  0.          0.          0.          0.          0.          0.\n",
      "  0.          0.          0.04298468  0.          0.          0.\n",
      "  0.          0.          0.          0.          0.          0.21508078\n",
      "  0.          0.          0.          0.          0.          0.\n",
      "  0.          0.62323466  0.          0.          0.          0.\n",
      "  0.          0.         -0.07791463  0.          0.          0.\n",
      "  0.          0.          0.2906396   0.          0.          0.\n",
      "  0.          0.11288707  0.          0.          0.          1.35673898\n",
      "  0.          0.          1.36814794  0.          0.80149117 -0.01064462]\n",
      "INTERCEPT: 90.62431484928595\n",
      "ITERATIONS: 54\n"
     ]
    }
   ],
   "source": [
    "print(\"COEF:\", lasso.coef_)   # Parameter vector (w in the cost function function formula)\n",
    "print(\"INTERCEPT:\", lasso.intercept_)   # Independent term in decision function\n",
    "# Number of iterations run by the coord. descent solver to reach the specified tolerance\n",
    "print(\"ITERATIONS:\", lasso.n_iter_)  "
   ]
  },
  {
   "cell_type": "code",
   "execution_count": 28,
   "id": "9410c2a8",
   "metadata": {},
   "outputs": [
    {
     "name": "stdout",
     "output_type": "stream",
     "text": [
      "MSE: 790.3356003895632\n",
      "RMSE: 28.11290807422034\n",
      "MAE: 22.669507581954278\n",
      "R2 SCORE: 0.4749905228466481\n",
      "\n",
      "# CROSS VALIDATION #\n",
      "FITTING TIME: [0.566118   0.59663844 0.55319524 0.59584212 0.56549191] -> 0.5754571437835694\n",
      "SCORING TIME: [0.01563978 0.03125215 0.04791355 0.03125191 0.01559782] -> 0.02833104133605957\n",
      "TRAIN SCORE: [0.50512935 0.50456793 0.50554918 0.50476835 0.50547035] -> 0.5050970318952446\n",
      "TEST SCORE: [0.50502308 0.506388   0.50288412 0.50568009 0.50542319] -> 0.5050796953361651\n"
     ]
    }
   ],
   "source": [
    "# Results of metrics\n",
    "mse, rmse, mae, r2 = mean_squared_error(y_test, y_poly_pred), mean_squared_error(y_test, y_poly_pred, squared=False), \\\n",
    "    mean_absolute_error(y_test, y_poly_pred), r2_score(y_test, y_poly_pred)\n",
    "print(\"MSE:\", mse)          \n",
    "print(\"RMSE:\", rmse)     \n",
    "print(\"MAE:\", mae)         \n",
    "print(\"R2 SCORE:\", r2)    \n",
    "res_mse.append(mse)\n",
    "res_rmse.append(rmse)\n",
    "res_mae.append(mae)\n",
    "res_r2.append(r2)\n",
    "print(\"\\n# CROSS VALIDATION #\")\n",
    "cross_val = cross_validate(lasso, X, Y, cv=5, return_train_score=True)\n",
    "print(\"FITTING TIME:\", cross_val['fit_time'], \"->\", cross_val['fit_time'].mean())\n",
    "print(\"SCORING TIME:\", cross_val['score_time'], \"->\", cross_val['score_time'].mean())\n",
    "print(\"TRAIN SCORE:\", cross_val['train_score'], \"->\", cross_val['train_score'].mean())\n",
    "res_cv_train.append(cross_val['train_score'].mean())\n",
    "print(\"TEST SCORE:\", cross_val['test_score'], \"->\", cross_val['test_score'].mean())\n",
    "res_cv_test.append(cross_val['test_score'].mean())"
   ]
  },
  {
   "cell_type": "markdown",
   "id": "cfcd0bfd",
   "metadata": {},
   "source": [
    "### Polynomial Regression with Ridge"
   ]
  },
  {
   "cell_type": "code",
   "execution_count": 29,
   "id": "4649ec44",
   "metadata": {},
   "outputs": [
    {
     "name": "stdout",
     "output_type": "stream",
     "text": [
      ">>> Fitting and prediction were completed in 1.801 seconds.\n"
     ]
    }
   ],
   "source": [
    "ridge = Ridge(max_iter=2000)\n",
    "s_time = time.time()\n",
    "ridge.fit(x_poly_train, y_train)\n",
    "y_poly_pred = ridge.predict(x_poly_test)\n",
    "print(\">>> Fitting and prediction were completed in {:.3f} seconds.\".format(time.time()-s_time))"
   ]
  },
  {
   "cell_type": "code",
   "execution_count": 30,
   "id": "195d27f2",
   "metadata": {},
   "outputs": [
    {
     "name": "stdout",
     "output_type": "stream",
     "text": [
      "COEF: [ 0.00000000e+00  2.49323156e+01  2.02419979e+01  2.00969147e+01\n",
      "  1.52048790e+01  8.73542879e+00  1.38054530e+01  1.14149104e+01\n",
      "  2.79341357e+00  4.15064900e+00  3.31517894e+00  3.93967454e+00\n",
      "  4.01074973e+00  1.27294054e+00  3.45450101e+00  2.68209060e+00\n",
      "  1.13268524e+01  1.12428471e+01  6.27995694e+00  2.00795868e+00\n",
      "  2.49323156e+01  0.00000000e+00  0.00000000e+00  0.00000000e+00\n",
      " -1.00966043e+01 -1.05136238e+01 -1.02709981e+01  3.13563605e-03\n",
      "  1.42631213e-01 -8.48279982e-01  2.25464751e-01  5.76443806e-01\n",
      "  1.77254076e-01  5.76159803e-01  3.79523390e-02 -1.62294970e-01\n",
      "  3.65804565e-01 -3.15387046e-01  1.81925495e-02  2.02419979e+01\n",
      "  0.00000000e+00  0.00000000e+00 -1.02684809e+01 -1.02801262e+01\n",
      " -1.08981583e+01  1.79315432e-01 -3.75487182e-01  8.64418155e-02\n",
      "  5.68948666e-03  9.32483505e-01  4.05234344e-01  2.60299373e-01\n",
      "  4.08964113e-01 -3.75485316e-02  4.77503455e-02 -1.77451954e-01\n",
      " -1.38701287e-02  2.00969147e+01  0.00000000e+00 -9.94980210e+00\n",
      " -9.91688779e+00 -9.85580344e+00 -4.60061280e-01 -8.05957947e-01\n",
      " -4.86186706e-01  1.68464470e-01 -1.00586980e-02 -1.03173997e+00\n",
      " -2.22335012e-01 -2.81108455e-01 -2.32323375e-01 -3.18450269e-01\n",
      " -8.24504580e-03  8.17329374e-03  1.52048790e+01 -1.02905731e+01\n",
      " -1.02411934e+01 -1.05246938e+01  3.10962677e-01 -4.93909178e-01\n",
      " -4.99986432e-01 -2.46956256e-01 -3.61250619e-01  2.65662134e-01\n",
      " -1.63632832e-01 -5.33812666e-01 -4.03428344e-02  7.27167894e-02\n",
      "  5.94881790e-01 -4.96268007e-03  8.73542879e+00  0.00000000e+00\n",
      "  0.00000000e+00  1.39782842e+00  1.72484377e+00  1.29152332e+00\n",
      "  1.56921118e+00  1.52080473e+00  5.00947487e-01  1.39452990e+00\n",
      "  9.89741940e-01  8.84746668e-02  3.57141138e-01  1.32393592e-01\n",
      " -7.64715028e-03  1.38054530e+01  0.00000000e+00  6.21814565e-01\n",
      "  9.91682589e-01  1.01467620e+00  1.00336410e+00  1.34283037e+00\n",
      "  5.19225555e-01  9.04060401e-01  6.89158863e-01  5.87976764e-01\n",
      "  6.39562698e-01  2.91965189e-01  5.09847386e-03  1.14149104e+01\n",
      "  7.73770549e-01  1.43412267e+00  1.00897943e+00  1.36709925e+00\n",
      "  1.14711462e+00  2.52767499e-01  1.15591072e+00  1.00318979e+00\n",
      "  1.48980675e-01 -2.38104346e-02  2.29537783e-01  5.84045700e-04\n",
      "  2.79341357e+00  0.00000000e+00  0.00000000e+00  0.00000000e+00\n",
      "  0.00000000e+00  0.00000000e+00  0.00000000e+00  0.00000000e+00\n",
      " -3.98512454e+00 -3.68355954e+00 -3.19311845e+00  6.74128254e-03\n",
      "  4.15064900e+00  0.00000000e+00  0.00000000e+00  0.00000000e+00\n",
      "  0.00000000e+00  0.00000000e+00  0.00000000e+00  1.73229797e+01\n",
      "  7.69841648e+00 -3.32515456e+00 -3.10863409e-03  3.31517894e+00\n",
      "  0.00000000e+00  0.00000000e+00  0.00000000e+00  0.00000000e+00\n",
      "  0.00000000e+00 -4.25110655e+00 -3.78422937e+00 -3.59202317e+00\n",
      "  1.75876144e-02  3.93967454e+00  0.00000000e+00  0.00000000e+00\n",
      "  0.00000000e+00  0.00000000e+00 -1.55339901e-02  2.78889188e-01\n",
      " -8.79019880e-02 -2.06392164e-02  4.01074973e+00  0.00000000e+00\n",
      "  0.00000000e+00  0.00000000e+00  6.87415530e+00  1.72402964e+01\n",
      "  1.69503210e+01  1.26015176e-02  1.27294051e+00  0.00000000e+00\n",
      "  0.00000000e+00 -3.30166453e+00 -2.37762411e+00 -3.41903175e+00\n",
      " -2.18359038e-02  3.45450101e+00  0.00000000e+00 -6.45102952e-01\n",
      " -1.69214623e-01  1.45569342e+01  5.01212247e-03  2.68209060e+00\n",
      " -7.46384634e-01 -2.48221635e-01  9.61376511e+00 -1.04962293e-02\n",
      "  1.13268524e+01  0.00000000e+00  0.00000000e+00 -4.15296016e-03\n",
      "  1.12428471e+01  0.00000000e+00 -7.62679598e-04  6.27995694e+00\n",
      "  2.15376903e-03  6.07885063e-05]\n",
      "INTERCEPT: 50.82981269412262\n",
      "ITERATIONS: None\n"
     ]
    }
   ],
   "source": [
    "print(\"COEF:\", ridge.coef_)   # Weight vector(s)\n",
    "print(\"INTERCEPT:\", ridge.intercept_)   # Independent term in decision function\n",
    "print(\"ITERATIONS:\", ridge.n_iter_)   # Actual number of iterations for each target. (Only for 'sag' & 'lsqr' solvers)"
   ]
  },
  {
   "cell_type": "code",
   "execution_count": 31,
   "id": "7b94db4b",
   "metadata": {},
   "outputs": [
    {
     "name": "stdout",
     "output_type": "stream",
     "text": [
      "MSE: 592.40474571282\n",
      "RMSE: 24.339366173193994\n",
      "MAE: 19.598737812580108\n",
      "R2 SCORE: 0.6064733694691868\n",
      "\n",
      "# CROSS VALIDATION #\n",
      "FITTING TIME: [0.31418657 0.31341934 0.32936311 0.29842424 0.31432199] -> 0.31394305229187014\n",
      "SCORING TIME: [0.0312252  0.01564455 0.01561308 0.03127551 0.02461529] -> 0.023674726486206055\n",
      "TRAIN SCORE: [0.59607359 0.59551271 0.59632689 0.59552361 0.59599335] -> 0.5958860303865882\n",
      "TEST SCORE: [0.59510797 0.59734645 0.59409401 0.59730851 0.59542446] -> 0.5958562822682477\n"
     ]
    }
   ],
   "source": [
    "# Results of metrics\n",
    "mse, rmse, mae, r2 = mean_squared_error(y_test, y_poly_pred), mean_squared_error(y_test, y_poly_pred, squared=False), \\\n",
    "    mean_absolute_error(y_test, y_poly_pred), r2_score(y_test, y_poly_pred)\n",
    "print(\"MSE:\", mse)        \n",
    "print(\"RMSE:\", rmse)       \n",
    "print(\"MAE:\", mae)          \n",
    "print(\"R2 SCORE:\", r2)      \n",
    "res_mse.append(mse)\n",
    "res_rmse.append(rmse)\n",
    "res_mae.append(mae)\n",
    "res_r2.append(r2)\n",
    "print(\"\\n# CROSS VALIDATION #\")\n",
    "cross_val = cross_validate(ridge, X, Y, cv=5, return_train_score=True)\n",
    "print(\"FITTING TIME:\", cross_val['fit_time'], \"->\", cross_val['fit_time'].mean())\n",
    "print(\"SCORING TIME:\", cross_val['score_time'], \"->\", cross_val['score_time'].mean())\n",
    "print(\"TRAIN SCORE:\", cross_val['train_score'], \"->\", cross_val['train_score'].mean())\n",
    "res_cv_train.append(cross_val['train_score'].mean())\n",
    "print(\"TEST SCORE:\", cross_val['test_score'], \"->\", cross_val['test_score'].mean())\n",
    "res_cv_test.append(cross_val['test_score'].mean())"
   ]
  },
  {
   "cell_type": "markdown",
   "id": "a980b65b",
   "metadata": {},
   "source": [
    "## 5 - Random Forest Regression"
   ]
  },
  {
   "cell_type": "code",
   "execution_count": 32,
   "id": "057ec43a",
   "metadata": {},
   "outputs": [
    {
     "data": {
      "text/plain": [
       "{'bootstrap': True,\n",
       " 'ccp_alpha': 0.2,\n",
       " 'criterion': 'friedman_mse',\n",
       " 'max_depth': 25,\n",
       " 'max_features': None,\n",
       " 'max_leaf_nodes': None,\n",
       " 'max_samples': None,\n",
       " 'min_impurity_decrease': 0.0,\n",
       " 'min_samples_leaf': 2,\n",
       " 'min_samples_split': 2,\n",
       " 'min_weight_fraction_leaf': 0.1,\n",
       " 'n_estimators': 25,\n",
       " 'n_jobs': None,\n",
       " 'oob_score': True,\n",
       " 'random_state': None,\n",
       " 'verbose': 0,\n",
       " 'warm_start': False}"
      ]
     },
     "execution_count": 32,
     "metadata": {},
     "output_type": "execute_result"
    }
   ],
   "source": [
    "rforest = RandomForestRegressor(n_estimators=25, criterion='friedman_mse', max_depth=25, min_samples_split=2, \n",
    "                                min_samples_leaf=2, min_weight_fraction_leaf=0.1, max_features=None, max_leaf_nodes=None,\n",
    "                                bootstrap=True, warm_start=False, ccp_alpha=0.2, max_samples=None, oob_score=True)\n",
    "# rforest = RandomForestRegressor(n_estimators=25, criterion='friedman_mse', max_depth=20, min_samples_split=4, \n",
    "#                                 min_samples_leaf=4, min_weight_fraction_leaf=0.1, max_features=None, max_leaf_nodes=None,\n",
    "#                                 bootstrap=True, warm_start=False, ccp_alpha=0.2, max_samples=None)\n",
    "# rforest = RandomForestRegressor(n_estimators=40)\n",
    "rforest.get_params()"
   ]
  },
  {
   "cell_type": "code",
   "execution_count": 33,
   "id": "cc0d5b39",
   "metadata": {},
   "outputs": [
    {
     "name": "stdout",
     "output_type": "stream",
     "text": [
      ">>> Fitting and prediction were completed in 10.241 seconds.\n"
     ]
    }
   ],
   "source": [
    "# Fit the training data into the random forest, then make predictions on the test data\n",
    "s_time = time.time()\n",
    "rforest.fit(x_train, y_train)\n",
    "y_pred = rforest.predict(x_test)\n",
    "print(\">>> Fitting and prediction were completed in {:.3f} seconds.\".format(time.time()-s_time))"
   ]
  },
  {
   "cell_type": "code",
   "execution_count": 34,
   "id": "43e93bf5-06ea-4796-8a14-2a50280e4bce",
   "metadata": {},
   "outputs": [
    {
     "name": "stdout",
     "output_type": "stream",
     "text": [
      "BASE ESTIMATOR: DecisionTreeRegressor()\n",
      "FEATURE IMPORTANCES: [0. 0. 0. 0. 0. 0. 0. 0. 0. 0. 0. 0. 0. 0. 0. 0. 0. 0. 1.]\n",
      "OOB SCORE: 0.138839538108828\n",
      "OOB PREDICTION: [118.09230307 130.83848805  99.87553761 ... 138.28810653 124.03915128\n",
      " 105.86736671]  800000\n",
      "FEATURES: 19\n",
      "OUTPUTS: 1 \n",
      "\n"
     ]
    }
   ],
   "source": [
    "print(\"BASE ESTIMATOR:\", rforest.base_estimator_)   # Estimator used to grow the ensemble\n",
    "# print(\"ESTIMATORS:\", rforest.estimators_)   # The collection of fitted sub-estimators\n",
    "print(\"FEATURE IMPORTANCES:\", rforest.feature_importances_)   # The impurity-based feature importances\n",
    "# Score of the training dataset obtained using an out-of-bag estimate. Exists only when oob_score = True\n",
    "print(\"OOB SCORE:\", rforest.oob_score_)\n",
    "# Prediction computed with out-of-bag estimate on the training set. Exists only when oob_score = True\n",
    "print(\"OOB PREDICTION:\", rforest.oob_prediction_, \"\", len(rforest.oob_prediction_))\n",
    "print(\"FEATURES:\", rforest.n_features_in_)   # Number of features seen during fit\n",
    "print(\"OUTPUTS:\", rforest.n_outputs_, \"\\n\")   # The number of outputs when fit is performed"
   ]
  },
  {
   "cell_type": "code",
   "execution_count": 35,
   "id": "8ad03f34",
   "metadata": {},
   "outputs": [
    {
     "name": "stdout",
     "output_type": "stream",
     "text": [
      "MSE: 1297.232382446697\n",
      "RMSE: 36.01711235574969\n",
      "MAE: 28.959846140563158\n",
      "R2 SCORE: 0.13826570064787969\n",
      "\n",
      "# CROSS VALIDATION #\n",
      "FITTING TIME: [10.22857094 10.17737341 10.25732589  9.88063097 10.17693281] -> 10.144166803359985\n",
      "SCORING TIME: [0.20074534 0.20424223 0.2042532  0.21958256 0.20445514] -> 0.20665569305419923\n",
      "TRAIN SCORE: [0.13905547 0.13853298 0.13972303 0.13983021 0.13899634] -> 0.13922760634726997\n",
      "TEST SCORE: [0.13962689 0.1404852  0.13716092 0.1379345  0.14059487] -> 0.13916047750504673\n"
     ]
    }
   ],
   "source": [
    "# Results of metrics\n",
    "mse, rmse, mae, r2 = mean_squared_error(y_test, y_pred), mean_squared_error(y_test, y_pred, squared=False), \\\n",
    "    mean_absolute_error(y_test, y_pred), r2_score(y_test, y_pred)\n",
    "print(\"MSE:\", mse)        \n",
    "print(\"RMSE:\", rmse)      \n",
    "print(\"MAE:\", mae)        \n",
    "print(\"R2 SCORE:\", r2)  \n",
    "res_mse.append(mse)\n",
    "res_rmse.append(rmse)\n",
    "res_mae.append(mae)\n",
    "res_r2.append(r2)\n",
    "print(\"\\n# CROSS VALIDATION #\")\n",
    "cross_val = cross_validate(rforest, X, Y, cv=5, return_train_score=True)\n",
    "print(\"FITTING TIME:\", cross_val['fit_time'], \"->\", cross_val['fit_time'].mean())\n",
    "print(\"SCORING TIME:\", cross_val['score_time'], \"->\", cross_val['score_time'].mean())\n",
    "print(\"TRAIN SCORE:\", cross_val['train_score'], \"->\", cross_val['train_score'].mean())\n",
    "res_cv_train.append(cross_val['train_score'].mean())\n",
    "print(\"TEST SCORE:\", cross_val['test_score'], \"->\", cross_val['test_score'].mean())\n",
    "res_cv_test.append(cross_val['test_score'].mean())"
   ]
  },
  {
   "cell_type": "markdown",
   "id": "06e9a324",
   "metadata": {},
   "source": [
    "## 6 - Gradient Boosting"
   ]
  },
  {
   "cell_type": "code",
   "execution_count": 36,
   "id": "7670a48d",
   "metadata": {},
   "outputs": [
    {
     "data": {
      "text/plain": [
       "{'alpha': 0.9,\n",
       " 'ccp_alpha': 0.0,\n",
       " 'criterion': 'friedman_mse',\n",
       " 'init': None,\n",
       " 'learning_rate': 0.1,\n",
       " 'loss': 'squared_error',\n",
       " 'max_depth': 3,\n",
       " 'max_features': None,\n",
       " 'max_leaf_nodes': None,\n",
       " 'min_impurity_decrease': 0.0,\n",
       " 'min_samples_leaf': 1,\n",
       " 'min_samples_split': 2,\n",
       " 'min_weight_fraction_leaf': 0.0,\n",
       " 'n_estimators': 100,\n",
       " 'n_iter_no_change': None,\n",
       " 'random_state': None,\n",
       " 'subsample': 1.0,\n",
       " 'tol': 0.0001,\n",
       " 'validation_fraction': 0.1,\n",
       " 'verbose': 0,\n",
       " 'warm_start': False}"
      ]
     },
     "execution_count": 36,
     "metadata": {},
     "output_type": "execute_result"
    }
   ],
   "source": [
    "gradBoost = GradientBoostingRegressor()\n",
    "gradBoost.get_params()"
   ]
  },
  {
   "cell_type": "code",
   "execution_count": 37,
   "id": "52c8fa6a",
   "metadata": {},
   "outputs": [
    {
     "name": "stdout",
     "output_type": "stream",
     "text": [
      ">>> Fitting and prediction were completed in 54.024 seconds.\n"
     ]
    }
   ],
   "source": [
    "# Fit the training data into the Gradient boosting regression model, then make predictions on the test data\n",
    "s_time = time.time()\n",
    "gradBoost.fit(x_train, y_train)\n",
    "y_pred = gradBoost.predict(x_test)\n",
    "print(\">>> Fitting and prediction were completed in {:.3f} seconds.\".format(time.time()-s_time))"
   ]
  },
  {
   "cell_type": "code",
   "execution_count": 38,
   "id": "b3a3b749",
   "metadata": {},
   "outputs": [
    {
     "name": "stdout",
     "output_type": "stream",
     "text": [
      "INIT: DummyRegressor()\n",
      "ESTIMATORS (FIRST 5):\n",
      "[[DecisionTreeRegressor(criterion='friedman_mse', max_depth=3,\n",
      "                        random_state=RandomState(MT19937) at 0x21871429340)]\n",
      " [DecisionTreeRegressor(criterion='friedman_mse', max_depth=3,\n",
      "                        random_state=RandomState(MT19937) at 0x21871429340)]\n",
      " [DecisionTreeRegressor(criterion='friedman_mse', max_depth=3,\n",
      "                        random_state=RandomState(MT19937) at 0x21871429340)]\n",
      " [DecisionTreeRegressor(criterion='friedman_mse', max_depth=3,\n",
      "                        random_state=RandomState(MT19937) at 0x21871429340)]\n",
      " [DecisionTreeRegressor(criterion='friedman_mse', max_depth=3,\n",
      "                        random_state=RandomState(MT19937) at 0x21871429340)]]\n",
      "# OF ESTIMATORS: 100\n",
      "# OF FEATURES: 19\n",
      "MAX FEATURES: 19\n",
      "FEATURE IMPORTANCES: [1.61192165e-01 1.00451280e-01 9.54780878e-02 4.98781560e-02\n",
      " 3.73738948e-02 8.43953870e-02 8.45091206e-02 0.00000000e+00\n",
      " 9.40023077e-03 1.19970193e-05 1.56455839e-03 1.24102755e-02\n",
      " 9.70384314e-04 2.57488624e-03 4.85757828e-04 4.41440358e-02\n",
      " 5.27322073e-02 2.74343621e-02 2.34993214e-01]\n",
      "TRAIN SCORE:\n",
      "[1427.87379648 1367.9568534  1317.9168431  1273.72066548 1233.89858256\n",
      " 1197.934106   1165.21763309 1136.4912916  1110.1840892  1079.72508749\n",
      " 1056.97473896 1034.45956064 1015.01150793  991.59840245  964.46295209\n",
      "  943.97988577  927.53330798  912.71329848  897.59425196  880.78938243\n",
      "  865.67038103  847.25222631  836.35886394  824.71237344  815.00944276\n",
      "  803.60780225  790.19168289  780.36451389  772.30064195  765.25614278\n",
      "  754.8189981   748.32532192  740.60141959  733.65865775  728.39951451\n",
      "  722.25332853  714.44290493  708.35128892  703.95299262  699.74745194\n",
      "  695.66309515  690.94509616  686.50276055  682.41318998  678.56317556\n",
      "  675.32894009  671.73573307  668.83673963  664.84583361  661.84113274\n",
      "  659.43982499  656.69505697  654.55958885  652.14097556  650.18488695\n",
      "  647.27704262  645.53768719  643.60771757  641.53415343  639.6047767\n",
      "  637.87908595  636.44266473  634.40638001  633.15916336  632.0540963\n",
      "  630.71636114  629.45859396  628.39356675  627.1511265   626.00243425\n",
      "  624.63831659  623.62595808  622.77974981  621.68376572  620.89454418\n",
      "  620.19881325  619.21585671  618.49498891  617.68277507  617.07663518\n",
      "  616.5204671   615.91789279  615.33627597  614.71221666  614.13588603\n",
      "  613.67815112  612.99570378  612.51963227  612.08935177  611.59927306\n",
      "  611.15657578  610.6805488   610.27111334  609.75707349  609.44030803\n",
      "  609.01961505  608.61181323  608.32648645  607.99611425  607.67235543]\n"
     ]
    }
   ],
   "source": [
    "print(\"INIT:\", gradBoost.init_)  # The estimator that provides the initial predictions\n",
    "print(\"ESTIMATORS (FIRST 5):\\n{}\".format(gradBoost.estimators_[:5]))  # The collection of fitted sub-estimators\n",
    "# The number of estimators as selected by early stopping (if 'n_iter_no_change' is specified).\n",
    "# Otherwise, it is set to 'n_estimators'\n",
    "print(\"# OF ESTIMATORS:\", gradBoost.n_estimators_)\n",
    "print(\"# OF FEATURES:\", gradBoost.n_features_in_)  # Number of features seen during fit\n",
    "print(\"MAX FEATURES:\", gradBoost.max_features_)  # The inferred value of max_features\n",
    "print(\"FEATURE IMPORTANCES:\", gradBoost.feature_importances_)  # The impurity-based feature importances\n",
    "# The i'th score 'train_score[i]' is the loss of the model at iteration i on the in-bag sample.\n",
    "# If subsample == 1, this is the loss on the training data.\n",
    "print(\"TRAIN SCORE:\\n{}\".format(gradBoost.train_score_))"
   ]
  },
  {
   "cell_type": "code",
   "execution_count": 39,
   "id": "5e8337fe",
   "metadata": {},
   "outputs": [
    {
     "name": "stdout",
     "output_type": "stream",
     "text": [
      "   83.19733996690336 |       73\n",
      "  115.99895599869512 |      100\n",
      "  127.57459376929368 |      101\n",
      "  117.82955982753563 |      112\n",
      "   133.8419516646365 |      130\n",
      "  101.71478454753186 |      108\n",
      "  123.68544740955429 |      130\n",
      "   76.18007568817795 |       43\n",
      "    159.141000534296 |      174\n",
      "  119.74370907565124 |       88\n",
      "   97.86232787980627 |      103\n",
      "  147.17133633042482 |      162\n",
      "   99.00923460271495 |       73\n",
      "   110.1530692462956 |       96\n",
      "  127.36511901116987 |      121\n",
      "  134.20620409679398 |      187\n",
      "  146.32394464838015 |      173\n",
      "   78.24078716782381 |       89\n",
      "   99.48351750113585 |      106\n",
      "  128.93014411564064 |      160\n"
     ]
    }
   ],
   "source": [
    "# Compare the predicted values against the actual ones for the top 20 rows\n",
    "for i in range(20):\n",
    "    print(\"{:20} | {:8}\".format(y_pred[i], y_test.iloc[i]))"
   ]
  },
  {
   "cell_type": "code",
   "execution_count": 40,
   "id": "af1bbca1",
   "metadata": {},
   "outputs": [
    {
     "name": "stdout",
     "output_type": "stream",
     "text": [
      "MSE: 609.9236714231266\n",
      "RMSE: 24.696632795244103\n",
      "MAE: 19.913890755962367\n",
      "R2 SCORE: 0.5948357790292232\n",
      "\n",
      "# CROSS VALIDATION #\n",
      "FITTING TIME: [52.97323918 52.57265282 53.7551825  51.57800341 51.13539958] -> 52.402895498275754\n",
      "SCORING TIME: [0.31505108 0.30019236 0.30952573 0.29761982 0.32976174] -> 0.31043014526367185\n",
      "TRAIN SCORE: [0.59457311 0.59385112 0.59461842 0.59402061 0.5943124 ] -> 0.5942751313400647\n",
      "TEST SCORE: [0.59342525 0.59538189 0.59221814 0.59559265 0.59361919] -> 0.5940474231688038\n"
     ]
    }
   ],
   "source": [
    "# Results of metrics\n",
    "mse, rmse, mae, r2 = mean_squared_error(y_test, y_pred), mean_squared_error(y_test, y_pred, squared=False), \\\n",
    "    mean_absolute_error(y_test, y_pred), r2_score(y_test, y_pred)\n",
    "print(\"MSE:\", mse)        \n",
    "print(\"RMSE:\", rmse)      \n",
    "print(\"MAE:\", mae)        \n",
    "print(\"R2 SCORE:\", r2)  \n",
    "res_mse.append(mse)\n",
    "res_rmse.append(rmse)\n",
    "res_mae.append(mae)\n",
    "res_r2.append(r2)\n",
    "print(\"\\n# CROSS VALIDATION #\")\n",
    "cross_val = cross_validate(gradBoost, X, Y, cv=5, return_train_score=True)\n",
    "print(\"FITTING TIME:\", cross_val['fit_time'], \"->\", cross_val['fit_time'].mean())\n",
    "print(\"SCORING TIME:\", cross_val['score_time'], \"->\", cross_val['score_time'].mean())\n",
    "print(\"TRAIN SCORE:\", cross_val['train_score'], \"->\", cross_val['train_score'].mean())\n",
    "res_cv_train.append(cross_val['train_score'].mean())\n",
    "print(\"TEST SCORE:\", cross_val['test_score'], \"->\", cross_val['test_score'].mean())\n",
    "res_cv_test.append(cross_val['test_score'].mean())"
   ]
  },
  {
   "cell_type": "markdown",
   "id": "6565d504",
   "metadata": {},
   "source": [
    "## 7 - XGBoost"
   ]
  },
  {
   "cell_type": "code",
   "execution_count": 41,
   "id": "545496d8",
   "metadata": {},
   "outputs": [
    {
     "data": {
      "text/plain": [
       "{'objective': 'reg:squarederror',\n",
       " 'base_score': None,\n",
       " 'booster': None,\n",
       " 'callbacks': None,\n",
       " 'colsample_bylevel': None,\n",
       " 'colsample_bynode': None,\n",
       " 'colsample_bytree': None,\n",
       " 'device': None,\n",
       " 'early_stopping_rounds': None,\n",
       " 'enable_categorical': False,\n",
       " 'eval_metric': None,\n",
       " 'feature_types': None,\n",
       " 'gamma': None,\n",
       " 'grow_policy': None,\n",
       " 'importance_type': None,\n",
       " 'interaction_constraints': None,\n",
       " 'learning_rate': None,\n",
       " 'max_bin': None,\n",
       " 'max_cat_threshold': None,\n",
       " 'max_cat_to_onehot': None,\n",
       " 'max_delta_step': None,\n",
       " 'max_depth': None,\n",
       " 'max_leaves': None,\n",
       " 'min_child_weight': None,\n",
       " 'missing': nan,\n",
       " 'monotone_constraints': None,\n",
       " 'multi_strategy': None,\n",
       " 'n_estimators': None,\n",
       " 'n_jobs': None,\n",
       " 'num_parallel_tree': None,\n",
       " 'random_state': None,\n",
       " 'reg_alpha': None,\n",
       " 'reg_lambda': None,\n",
       " 'sampling_method': None,\n",
       " 'scale_pos_weight': None,\n",
       " 'subsample': None,\n",
       " 'tree_method': None,\n",
       " 'validate_parameters': None,\n",
       " 'verbosity': None}"
      ]
     },
     "execution_count": 41,
     "metadata": {},
     "output_type": "execute_result"
    }
   ],
   "source": [
    "xgb = xgboost.XGBRegressor()\n",
    "xgb.get_params()"
   ]
  },
  {
   "cell_type": "code",
   "execution_count": 42,
   "id": "5a88a248",
   "metadata": {},
   "outputs": [
    {
     "name": "stdout",
     "output_type": "stream",
     "text": [
      ">>> Fitting and prediction were completed in 4.100 seconds.\n"
     ]
    }
   ],
   "source": [
    "# Fit the training data into the extreme gradient boosting regression model, then make predictions on the test data\n",
    "s_time = time.time()\n",
    "xgb.fit(x_train, y_train)\n",
    "y_pred = xgb.predict(x_test)\n",
    "print(\">>> Fitting and prediction were completed in {:.3f} seconds.\".format(time.time()-s_time))"
   ]
  },
  {
   "cell_type": "code",
   "execution_count": 43,
   "id": "6dd1d5a0",
   "metadata": {},
   "outputs": [
    {
     "name": "stdout",
     "output_type": "stream",
     "text": [
      "   77.42082977294922 |       73\n",
      "  119.39478302001953 |      100\n",
      "  134.05062866210938 |      101\n",
      "  117.74444580078125 |      112\n",
      "   136.7091827392578 |      130\n",
      "  105.03202819824219 |      108\n",
      "   121.0099105834961 |      130\n",
      "    69.0289535522461 |       43\n",
      "    161.537841796875 |      174\n",
      "  121.74459838867188 |       88\n",
      "   92.85769653320312 |      103\n",
      "  145.96217346191406 |      162\n",
      "   99.56478118896484 |       73\n",
      "  111.12750244140625 |       96\n",
      "  132.54331970214844 |      121\n",
      "   138.9333038330078 |      187\n",
      "  147.39971923828125 |      173\n",
      "   72.78199005126953 |       89\n",
      "    99.4849624633789 |      106\n",
      "  125.11688232421875 |      160\n"
     ]
    }
   ],
   "source": [
    "# Compare the predicted values against the actual ones for the top 20 rows\n",
    "for i in range(20):\n",
    "    print(\"{:20} | {:8}\".format(y_pred[i], y_test.iloc[i]))"
   ]
  },
  {
   "cell_type": "code",
   "execution_count": 44,
   "id": "faf39bed",
   "metadata": {},
   "outputs": [
    {
     "name": "stdout",
     "output_type": "stream",
     "text": [
      "MSE: 594.1583336978764\n",
      "RMSE: 24.375363252634337\n",
      "MAE: 19.62410818943024\n",
      "R2 SCORE: 0.6053084841840966\n",
      "\n",
      "# CROSS VALIDATION #\n",
      "FITTING TIME: [3.95597315 3.8467195  3.75290155 3.98968172 3.94802427] -> 3.8986600399017335\n",
      "SCORING TIME: [0.10996222 0.10977554 0.10977364 0.10978818 0.12580609] -> 0.1130211353302002\n",
      "TRAIN SCORE: [0.60754128 0.60700235 0.60767121 0.60696877 0.60746037] -> 0.6073287965812183\n",
      "TEST SCORE: [0.60390267 0.60536601 0.6027369  0.60487954 0.60365066] -> 0.6041071579780537\n"
     ]
    }
   ],
   "source": [
    "# Results of metrics\n",
    "mse, rmse, mae, r2 = mean_squared_error(y_test, y_pred), mean_squared_error(y_test, y_pred, squared=False), \\\n",
    "    mean_absolute_error(y_test, y_pred), r2_score(y_test, y_pred)\n",
    "print(\"MSE:\", mse)        \n",
    "print(\"RMSE:\", rmse)      \n",
    "print(\"MAE:\", mae)        \n",
    "print(\"R2 SCORE:\", r2)  \n",
    "res_mse.append(mse)\n",
    "res_rmse.append(rmse)\n",
    "res_mae.append(mae)\n",
    "res_r2.append(r2)\n",
    "print(\"\\n# CROSS VALIDATION #\")\n",
    "cross_val = cross_validate(xgb, X, Y, cv=5, return_train_score=True)\n",
    "print(\"FITTING TIME:\", cross_val['fit_time'], \"->\", cross_val['fit_time'].mean())\n",
    "print(\"SCORING TIME:\", cross_val['score_time'], \"->\", cross_val['score_time'].mean())\n",
    "print(\"TRAIN SCORE:\", cross_val['train_score'], \"->\", cross_val['train_score'].mean())\n",
    "res_cv_train.append(cross_val['train_score'].mean())\n",
    "print(\"TEST SCORE:\", cross_val['test_score'], \"->\", cross_val['test_score'].mean())\n",
    "res_cv_test.append(cross_val['test_score'].mean())"
   ]
  },
  {
   "cell_type": "markdown",
   "id": "196c40f5",
   "metadata": {},
   "source": [
    "## Results of Metrics of All ML Models Together"
   ]
  },
  {
   "cell_type": "code",
   "execution_count": 45,
   "id": "4e70bc10",
   "metadata": {},
   "outputs": [
    {
     "data": {
      "image/png": "[encoded data removed]",
      "text/plain": [
       "<Figure size 900x400 with 1 Axes>"
      ]
     },
     "metadata": {},
     "output_type": "display_data"
    }
   ],
   "source": [
    "methods = ['LinReg', 'Lasso', 'Ridge', 'PolyLasso', 'PolyRidge', 'RForest', 'GradBoost', 'XGBoost']\n",
    "plt.figure(figsize=(9,4))\n",
    "plt.barh(range(8), res_mse, color='#00afff')\n",
    "plt.title(\"MSE Results\", fontsize=18, fontweight='bold')\n",
    "plt.yticks(range(8), methods)\n",
    "plt.ylim(7.7,-0.7)\n",
    "plt.xlabel('MSE Values', fontsize=13, fontweight='bold')\n",
    "plt.ylabel('ML Models', fontsize=13, fontweight='bold')\n",
    "for i in range(8):\n",
    "    plt.text(res_mse[i]-145, i+0.12, \"{:.3f}\".format(res_mse[i]), fontweight='bold')\n",
    "plt.show()"
   ]
  },
  {
   "cell_type": "code",
   "execution_count": 46,
   "id": "1659d6b4",
   "metadata": {},
   "outputs": [
    {
     "data": {
      "image/png": "[encoded data removed]",
      "text/plain": [
       "<Figure size 900x400 with 1 Axes>"
      ]
     },
     "metadata": {},
     "output_type": "display_data"
    }
   ],
   "source": [
    "plt.figure(figsize=(9,4))\n",
    "plt.barh(range(8), res_rmse, color='#00afff')\n",
    "plt.title(\"RMSE Results\", fontsize=18, fontweight='bold')\n",
    "plt.yticks(range(8), methods)\n",
    "plt.ylim(7.7,-0.7)\n",
    "plt.xlabel('RMSE Values', fontsize=13, fontweight='bold')\n",
    "plt.ylabel('ML Models', fontsize=13, fontweight='bold')\n",
    "for i in range(8):\n",
    "    plt.text(res_rmse[i]-3.5, i+0.12, \"{:.3f}\".format(res_rmse[i]), fontweight='bold')\n",
    "plt.show()"
   ]
  },
  {
   "cell_type": "code",
   "execution_count": 47,
   "id": "e1b0a21d",
   "metadata": {},
   "outputs": [
    {
     "data": {
      "image/png": "[encoded data removed]",
      "text/plain": [
       "<Figure size 900x400 with 1 Axes>"
      ]
     },
     "metadata": {},
     "output_type": "display_data"
    }
   ],
   "source": [
    "plt.figure(figsize=(9,4))\n",
    "plt.barh(range(8), res_mae, color='#00afff')\n",
    "plt.title(\"MAE Results\", fontsize=18, fontweight='bold')\n",
    "plt.yticks(range(8), methods)\n",
    "plt.ylim(7.7,-0.7)\n",
    "plt.xlabel('MAE Values', fontsize=13, fontweight='bold')\n",
    "plt.ylabel('ML Models', fontsize=13, fontweight='bold')\n",
    "for i in range(8):\n",
    "    plt.text(res_mae[i]-2.4, i+0.12, \"{:.3f}\".format(res_mae[i]), fontweight='bold')\n",
    "plt.show()"
   ]
  },
  {
   "cell_type": "code",
   "execution_count": 48,
   "id": "38072650",
   "metadata": {},
   "outputs": [
    {
     "data": {
      "image/png": "[encoded data removed]",
      "text/plain": [
       "<Figure size 900x400 with 1 Axes>"
      ]
     },
     "metadata": {},
     "output_type": "display_data"
    }
   ],
   "source": [
    "plt.figure(figsize=(9,4))\n",
    "plt.barh(range(8), res_r2, color='#00afff')\n",
    "plt.title(\"R2 Score Results\", fontsize=18, fontweight='bold')\n",
    "plt.yticks(range(8), methods)\n",
    "plt.ylim(7.7,-0.7)\n",
    "plt.xlabel('R2 Scores', fontsize=13, fontweight='bold')\n",
    "plt.ylabel('ML Models', fontsize=13, fontweight='bold')\n",
    "for i in range(8):\n",
    "    plt.text(res_r2[i]-0.05, i+0.12, \"{:.4f}\".format(res_r2[i]), fontweight='bold')\n",
    "plt.show()"
   ]
  },
  {
   "cell_type": "code",
   "execution_count": 49,
   "id": "afa8edbb",
   "metadata": {},
   "outputs": [
    {
     "data": {
      "image/png": "[encoded data removed]",
      "text/plain": [
       "<Figure size 900x400 with 1 Axes>"
      ]
     },
     "metadata": {},
     "output_type": "display_data"
    }
   ],
   "source": [
    "plt.figure(figsize=(9,4))\n",
    "plt.barh(range(8), res_cv_train, color='#00afff')\n",
    "plt.title(\"5-Fold CV Results (Train)\", fontsize=18, fontweight='bold')\n",
    "plt.yticks(range(8), methods)\n",
    "plt.ylim(7.7,-0.7)\n",
    "plt.xlabel('Train Scores', fontsize=13, fontweight='bold')\n",
    "plt.ylabel('ML Models', fontsize=13, fontweight='bold')\n",
    "for i in range(8):\n",
    "    plt.text(res_cv_train[i]-0.05, i+0.12, \"{:.4f}\".format(res_cv_train[i]), fontweight='bold')\n",
    "plt.show()"
   ]
  },
  {
   "cell_type": "code",
   "execution_count": 50,
   "id": "5fe8c322",
   "metadata": {},
   "outputs": [
    {
     "data": {
      "image/png": "[encoded data removed]",
      "text/plain": [
       "<Figure size 900x400 with 1 Axes>"
      ]
     },
     "metadata": {},
     "output_type": "display_data"
    }
   ],
   "source": [
    "plt.figure(figsize=(9,4))\n",
    "plt.barh(range(8), res_cv_test, color='#00afff')\n",
    "plt.title(\"5-Fold CV Results (Test)\", fontsize=18, fontweight='bold')\n",
    "plt.yticks(range(8), methods)\n",
    "plt.ylim(7.7,-0.7)\n",
    "plt.xlabel('Test Scores', fontsize=13, fontweight='bold')\n",
    "plt.ylabel('ML Models', fontsize=13, fontweight='bold')\n",
    "for i in range(8):\n",
    "    plt.text(res_cv_test[i]-0.05, i+0.12, \"{:.4f}\".format(res_cv_test[i]), fontweight='bold')\n",
    "plt.show()"
   ]
  }
 ],
 "metadata": {
  "kernelspec": {
   "display_name": "Python 3 (ipykernel)",
   "language": "python",
   "name": "python3"
  },
  "language_info": {
   "codemirror_mode": {
    "name": "ipython",
    "version": 3
   },
   "file_extension": ".py",
   "mimetype": "text/x-python",
   "name": "python",
   "nbconvert_exporter": "python",
   "pygments_lexer": "ipython3",
   "version": "3.10.8"
  }
 },
 "nbformat": 4,
 "nbformat_minor": 5
}
