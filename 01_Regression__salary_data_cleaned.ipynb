{
 "cells": [
  {
   "cell_type": "markdown",
   "id": "39ea8fa4",
   "metadata": {},
   "source": [
    "# 01. PlayingNumbers/ds_salary_proj\n",
    "\n",
    "## Predictions with ML Regression Models - salary_data_cleaned.csv"
   ]
  },
  {
   "cell_type": "code",
   "execution_count": 1,
   "id": "346c3332",
   "metadata": {},
   "outputs": [],
   "source": [
    "import numpy as np\n",
    "import pandas as pd \n",
    "import matplotlib.pyplot as plt \n",
    "import seaborn as sns\n",
    "from sklearn.linear_model import LinearRegression, Lasso, Ridge\n",
    "from sklearn.tree import DecisionTreeRegressor\n",
    "from sklearn.ensemble import RandomForestRegressor, GradientBoostingRegressor\n",
    "from sklearn.neighbors import KNeighborsRegressor\n",
    "from sklearn.svm import SVR\n",
    "from sklearn.neural_network import MLPRegressor\n",
    "import xgboost\n",
    "from sklearn.model_selection import train_test_split, cross_val_score, cross_validate\n",
    "from sklearn.preprocessing import OneHotEncoder, PolynomialFeatures, StandardScaler, MinMaxScaler\n",
    "from sklearn.metrics import mean_squared_error, mean_absolute_error, r2_score, get_scorer_names\n",
    "import warnings\n",
    "warnings.filterwarnings('ignore')"
   ]
  },
  {
   "cell_type": "code",
   "execution_count": 2,
   "id": "b3ea4a2f",
   "metadata": {},
   "outputs": [],
   "source": [
    "df = pd.read_csv('01_salary_data_cleaned.csv')"
   ]
  },
  {
   "cell_type": "code",
   "execution_count": 3,
   "id": "66f3aa30",
   "metadata": {},
   "outputs": [
    {
     "data": {
      "text/html": [
       "<div>\n",
       "<style scoped>\n",
       "    .dataframe tbody tr th:only-of-type {\n",
       "        vertical-align: middle;\n",
       "    }\n",
       "\n",
       "    .dataframe tbody tr th {\n",
       "        vertical-align: top;\n",
       "    }\n",
       "\n",
       "    .dataframe thead th {\n",
       "        text-align: right;\n",
       "    }\n",
       "</style>\n",
       "<table border=\"1\" class=\"dataframe\">\n",
       "  <thead>\n",
       "    <tr style=\"text-align: right;\">\n",
       "      <th></th>\n",
       "      <th>Job Title</th>\n",
       "      <th>Salary Estimate</th>\n",
       "      <th>Job Description</th>\n",
       "      <th>Rating</th>\n",
       "      <th>Company Name</th>\n",
       "      <th>Location</th>\n",
       "      <th>Headquarters</th>\n",
       "      <th>Size</th>\n",
       "      <th>Founded</th>\n",
       "      <th>Type of ownership</th>\n",
       "      <th>...</th>\n",
       "      <th>avg_salary</th>\n",
       "      <th>company_txt</th>\n",
       "      <th>job_state</th>\n",
       "      <th>same_state</th>\n",
       "      <th>age</th>\n",
       "      <th>python_yn</th>\n",
       "      <th>R_yn</th>\n",
       "      <th>spark</th>\n",
       "      <th>aws</th>\n",
       "      <th>excel</th>\n",
       "    </tr>\n",
       "  </thead>\n",
       "  <tbody>\n",
       "    <tr>\n",
       "      <th>0</th>\n",
       "      <td>Data Scientist</td>\n",
       "      <td>$53K-$91K (Glassdoor est.)</td>\n",
       "      <td>Data Scientist\\r\\nLocation: Albuquerque, NM\\r\\...</td>\n",
       "      <td>3.8</td>\n",
       "      <td>Tecolote Research\\r\\n3.8</td>\n",
       "      <td>Albuquerque, NM</td>\n",
       "      <td>Goleta, CA</td>\n",
       "      <td>501 to 1000 employees</td>\n",
       "      <td>1973</td>\n",
       "      <td>Company - Private</td>\n",
       "      <td>...</td>\n",
       "      <td>72.0</td>\n",
       "      <td>Tecolote Research\\r\\n</td>\n",
       "      <td>NM</td>\n",
       "      <td>0</td>\n",
       "      <td>47</td>\n",
       "      <td>1</td>\n",
       "      <td>0</td>\n",
       "      <td>0</td>\n",
       "      <td>0</td>\n",
       "      <td>1</td>\n",
       "    </tr>\n",
       "    <tr>\n",
       "      <th>1</th>\n",
       "      <td>Healthcare Data Scientist</td>\n",
       "      <td>$63K-$112K (Glassdoor est.)</td>\n",
       "      <td>What You Will Do:\\r\\n\\r\\nI. General Summary\\r\\...</td>\n",
       "      <td>3.4</td>\n",
       "      <td>University of Maryland Medical System\\r\\n3.4</td>\n",
       "      <td>Linthicum, MD</td>\n",
       "      <td>Baltimore, MD</td>\n",
       "      <td>10000+ employees</td>\n",
       "      <td>1984</td>\n",
       "      <td>Other Organization</td>\n",
       "      <td>...</td>\n",
       "      <td>87.5</td>\n",
       "      <td>University of Maryland Medical System\\r\\n</td>\n",
       "      <td>MD</td>\n",
       "      <td>0</td>\n",
       "      <td>36</td>\n",
       "      <td>1</td>\n",
       "      <td>0</td>\n",
       "      <td>0</td>\n",
       "      <td>0</td>\n",
       "      <td>0</td>\n",
       "    </tr>\n",
       "    <tr>\n",
       "      <th>2</th>\n",
       "      <td>Data Scientist</td>\n",
       "      <td>$80K-$90K (Glassdoor est.)</td>\n",
       "      <td>KnowBe4, Inc. is a high growth information sec...</td>\n",
       "      <td>4.8</td>\n",
       "      <td>KnowBe4\\r\\n4.8</td>\n",
       "      <td>Clearwater, FL</td>\n",
       "      <td>Clearwater, FL</td>\n",
       "      <td>501 to 1000 employees</td>\n",
       "      <td>2010</td>\n",
       "      <td>Company - Private</td>\n",
       "      <td>...</td>\n",
       "      <td>85.0</td>\n",
       "      <td>KnowBe4\\r\\n</td>\n",
       "      <td>FL</td>\n",
       "      <td>1</td>\n",
       "      <td>10</td>\n",
       "      <td>1</td>\n",
       "      <td>0</td>\n",
       "      <td>1</td>\n",
       "      <td>0</td>\n",
       "      <td>1</td>\n",
       "    </tr>\n",
       "    <tr>\n",
       "      <th>3</th>\n",
       "      <td>Data Scientist</td>\n",
       "      <td>$56K-$97K (Glassdoor est.)</td>\n",
       "      <td>*Organization and Job ID**\\r\\nJob ID: 310709\\r...</td>\n",
       "      <td>3.8</td>\n",
       "      <td>PNNL\\r\\n3.8</td>\n",
       "      <td>Richland, WA</td>\n",
       "      <td>Richland, WA</td>\n",
       "      <td>1001 to 5000 employees</td>\n",
       "      <td>1965</td>\n",
       "      <td>Government</td>\n",
       "      <td>...</td>\n",
       "      <td>76.5</td>\n",
       "      <td>PNNL\\r\\n</td>\n",
       "      <td>WA</td>\n",
       "      <td>1</td>\n",
       "      <td>55</td>\n",
       "      <td>1</td>\n",
       "      <td>0</td>\n",
       "      <td>0</td>\n",
       "      <td>0</td>\n",
       "      <td>0</td>\n",
       "    </tr>\n",
       "    <tr>\n",
       "      <th>4</th>\n",
       "      <td>Data Scientist</td>\n",
       "      <td>$86K-$143K (Glassdoor est.)</td>\n",
       "      <td>Data Scientist\\r\\nAffinity Solutions / Marketi...</td>\n",
       "      <td>2.9</td>\n",
       "      <td>Affinity Solutions\\r\\n2.9</td>\n",
       "      <td>New York, NY</td>\n",
       "      <td>New York, NY</td>\n",
       "      <td>51 to 200 employees</td>\n",
       "      <td>1998</td>\n",
       "      <td>Company - Private</td>\n",
       "      <td>...</td>\n",
       "      <td>114.5</td>\n",
       "      <td>Affinity Solutions\\r\\n</td>\n",
       "      <td>NY</td>\n",
       "      <td>1</td>\n",
       "      <td>22</td>\n",
       "      <td>1</td>\n",
       "      <td>0</td>\n",
       "      <td>0</td>\n",
       "      <td>0</td>\n",
       "      <td>1</td>\n",
       "    </tr>\n",
       "  </tbody>\n",
       "</table>\n",
       "<p>5 rows × 28 columns</p>\n",
       "</div>"
      ],
      "text/plain": [
       "                   Job Title              Salary Estimate  \\\n",
       "0             Data Scientist   $53K-$91K (Glassdoor est.)   \n",
       "1  Healthcare Data Scientist  $63K-$112K (Glassdoor est.)   \n",
       "2             Data Scientist   $80K-$90K (Glassdoor est.)   \n",
       "3             Data Scientist   $56K-$97K (Glassdoor est.)   \n",
       "4             Data Scientist  $86K-$143K (Glassdoor est.)   \n",
       "\n",
       "                                     Job Description  Rating  \\\n",
       "0  Data Scientist\\r\\nLocation: Albuquerque, NM\\r\\...     3.8   \n",
       "1  What You Will Do:\\r\\n\\r\\nI. General Summary\\r\\...     3.4   \n",
       "2  KnowBe4, Inc. is a high growth information sec...     4.8   \n",
       "3  *Organization and Job ID**\\r\\nJob ID: 310709\\r...     3.8   \n",
       "4  Data Scientist\\r\\nAffinity Solutions / Marketi...     2.9   \n",
       "\n",
       "                                   Company Name         Location  \\\n",
       "0                      Tecolote Research\\r\\n3.8  Albuquerque, NM   \n",
       "1  University of Maryland Medical System\\r\\n3.4    Linthicum, MD   \n",
       "2                                KnowBe4\\r\\n4.8   Clearwater, FL   \n",
       "3                                   PNNL\\r\\n3.8     Richland, WA   \n",
       "4                     Affinity Solutions\\r\\n2.9     New York, NY   \n",
       "\n",
       "     Headquarters                    Size  Founded   Type of ownership  ...  \\\n",
       "0      Goleta, CA   501 to 1000 employees     1973   Company - Private  ...   \n",
       "1   Baltimore, MD        10000+ employees     1984  Other Organization  ...   \n",
       "2  Clearwater, FL   501 to 1000 employees     2010   Company - Private  ...   \n",
       "3    Richland, WA  1001 to 5000 employees     1965          Government  ...   \n",
       "4    New York, NY     51 to 200 employees     1998   Company - Private  ...   \n",
       "\n",
       "  avg_salary                                company_txt job_state same_state  \\\n",
       "0       72.0                      Tecolote Research\\r\\n        NM          0   \n",
       "1       87.5  University of Maryland Medical System\\r\\n        MD          0   \n",
       "2       85.0                                KnowBe4\\r\\n        FL          1   \n",
       "3       76.5                                   PNNL\\r\\n        WA          1   \n",
       "4      114.5                     Affinity Solutions\\r\\n        NY          1   \n",
       "\n",
       "   age  python_yn  R_yn  spark  aws excel  \n",
       "0   47          1     0      0    0     1  \n",
       "1   36          1     0      0    0     0  \n",
       "2   10          1     0      1    0     1  \n",
       "3   55          1     0      0    0     0  \n",
       "4   22          1     0      0    0     1  \n",
       "\n",
       "[5 rows x 28 columns]"
      ]
     },
     "execution_count": 3,
     "metadata": {},
     "output_type": "execute_result"
    }
   ],
   "source": [
    "df.head()"
   ]
  },
  {
   "cell_type": "code",
   "execution_count": 4,
   "id": "9644b603",
   "metadata": {},
   "outputs": [
    {
     "name": "stdout",
     "output_type": "stream",
     "text": [
      "<class 'pandas.core.frame.DataFrame'>\n",
      "RangeIndex: 742 entries, 0 to 741\n",
      "Data columns (total 28 columns):\n",
      " #   Column             Non-Null Count  Dtype  \n",
      "---  ------             --------------  -----  \n",
      " 0   Job Title          742 non-null    object \n",
      " 1   Salary Estimate    742 non-null    object \n",
      " 2   Job Description    742 non-null    object \n",
      " 3   Rating             742 non-null    float64\n",
      " 4   Company Name       742 non-null    object \n",
      " 5   Location           742 non-null    object \n",
      " 6   Headquarters       742 non-null    object \n",
      " 7   Size               742 non-null    object \n",
      " 8   Founded            742 non-null    int64  \n",
      " 9   Type of ownership  742 non-null    object \n",
      " 10  Industry           742 non-null    object \n",
      " 11  Sector             742 non-null    object \n",
      " 12  Revenue            742 non-null    object \n",
      " 13  Competitors        742 non-null    object \n",
      " 14  hourly             742 non-null    int64  \n",
      " 15  employer_provided  742 non-null    int64  \n",
      " 16  min_salary         742 non-null    int64  \n",
      " 17  max_salary         742 non-null    int64  \n",
      " 18  avg_salary         742 non-null    float64\n",
      " 19  company_txt        742 non-null    object \n",
      " 20  job_state          742 non-null    object \n",
      " 21  same_state         742 non-null    int64  \n",
      " 22  age                742 non-null    int64  \n",
      " 23  python_yn          742 non-null    int64  \n",
      " 24  R_yn               742 non-null    int64  \n",
      " 25  spark              742 non-null    int64  \n",
      " 26  aws                742 non-null    int64  \n",
      " 27  excel              742 non-null    int64  \n",
      "dtypes: float64(2), int64(12), object(14)\n",
      "memory usage: 162.4+ KB\n"
     ]
    }
   ],
   "source": [
    "df.info()"
   ]
  },
  {
   "cell_type": "markdown",
   "id": "4c476b50",
   "metadata": {},
   "source": [
    "## Preprocessing\n",
    "\n",
    "All preprocessing steps are done in almost exactly the same way as the author..."
   ]
  },
  {
   "cell_type": "code",
   "execution_count": 5,
   "id": "7c85febd",
   "metadata": {},
   "outputs": [],
   "source": [
    "def title_simplifier(title):\n",
    "    if 'data scientist' in title.lower():\n",
    "        return 'data scientist'\n",
    "    elif 'data engineer' in title.lower():\n",
    "        return 'data engineer'\n",
    "    elif 'analyst' in title.lower():\n",
    "        return 'analyst'\n",
    "    elif 'machine learning' in title.lower():\n",
    "        return 'mle'\n",
    "    elif 'manager' in title.lower():\n",
    "        return 'manager'\n",
    "    elif 'director' in title.lower():\n",
    "        return 'director'\n",
    "    else:\n",
    "        return 'na'\n",
    "    \n",
    "def seniority(title):\n",
    "    if 'sr' in title.lower() or 'senior' in title.lower() or 'sr' in title.lower() \\\n",
    "        or 'lead' in title.lower() or 'principal' in title.lower():\n",
    "            return 'senior'\n",
    "    elif 'jr' in title.lower() or 'jr.' in title.lower():\n",
    "        return 'jr'\n",
    "    else:\n",
    "        return 'na'"
   ]
  },
  {
   "cell_type": "code",
   "execution_count": 6,
   "id": "cc20307a",
   "metadata": {},
   "outputs": [
    {
     "data": {
      "text/plain": [
       "data scientist    279\n",
       "na                184\n",
       "data engineer     119\n",
       "analyst           102\n",
       "manager            22\n",
       "mle                22\n",
       "director           14\n",
       "Name: job_simp, dtype: int64"
      ]
     },
     "execution_count": 6,
     "metadata": {},
     "output_type": "execute_result"
    }
   ],
   "source": [
    "# Simplify the job titles\n",
    "df['job_simp'] = df['Job Title'].apply(title_simplifier)\n",
    "df['job_simp'].value_counts()"
   ]
  },
  {
   "cell_type": "code",
   "execution_count": 7,
   "id": "0a180b22",
   "metadata": {},
   "outputs": [
    {
     "data": {
      "text/plain": [
       "na        520\n",
       "senior    220\n",
       "jr          2\n",
       "Name: seniority, dtype: int64"
      ]
     },
     "execution_count": 7,
     "metadata": {},
     "output_type": "execute_result"
    }
   ],
   "source": [
    "# Simplify seniorities\n",
    "df['seniority'] = df['Job Title'].apply(seniority)\n",
    "df.seniority.value_counts()"
   ]
  },
  {
   "cell_type": "code",
   "execution_count": 8,
   "id": "47b2cdf6",
   "metadata": {},
   "outputs": [
    {
     "data": {
      "text/plain": [
       "CA    152\n",
       "MA    103\n",
       "NY     72\n",
       "VA     41\n",
       "IL     40\n",
       "MD     35\n",
       "PA     33\n",
       "TX     28\n",
       "NC     21\n",
       "WA     21\n",
       "NJ     17\n",
       "FL     16\n",
       "OH     14\n",
       "TN     13\n",
       "DC     11\n",
       "CO     11\n",
       "WI     10\n",
       "UT     10\n",
       "IN     10\n",
       "AZ      9\n",
       "MO      9\n",
       "AL      8\n",
       "GA      6\n",
       "DE      6\n",
       "KY      6\n",
       "MI      6\n",
       "CT      5\n",
       "IA      5\n",
       "LA      4\n",
       "OR      4\n",
       "NE      4\n",
       "NM      3\n",
       "KS      3\n",
       "ID      2\n",
       "MN      2\n",
       "RI      1\n",
       "SC      1\n",
       "Name: job_state, dtype: int64"
      ]
     },
     "execution_count": 8,
     "metadata": {},
     "output_type": "execute_result"
    }
   ],
   "source": [
    "# Fix state Los Angeles and make it count as 'CA'\n",
    "df['job_state'] = df['job_state'].apply(lambda x: x.strip() if x.strip().lower() != 'los angeles' else 'CA')\n",
    "df.job_state.value_counts()"
   ]
  },
  {
   "cell_type": "code",
   "execution_count": 9,
   "id": "15d5d36f",
   "metadata": {},
   "outputs": [
    {
     "data": {
      "text/plain": [
       "0      2555\n",
       "1      4828\n",
       "2      3495\n",
       "3      3926\n",
       "4      2748\n",
       "       ... \n",
       "737    6219\n",
       "738    6167\n",
       "739    3107\n",
       "740    1678\n",
       "741    3710\n",
       "Name: desc_len, Length: 742, dtype: int64"
      ]
     },
     "execution_count": 9,
     "metadata": {},
     "output_type": "execute_result"
    }
   ],
   "source": [
    "# Get the length of all job descriptions\n",
    "df['desc_len'] = df['Job Description'].apply(lambda x: len(x))\n",
    "df['desc_len']"
   ]
  },
  {
   "cell_type": "code",
   "execution_count": 10,
   "id": "d3b6c220",
   "metadata": {},
   "outputs": [
    {
     "data": {
      "text/plain": [
       "0    460\n",
       "3    228\n",
       "2     41\n",
       "1     12\n",
       "4      1\n",
       "Name: num_comp, dtype: int64"
      ]
     },
     "execution_count": 10,
     "metadata": {},
     "output_type": "execute_result"
    }
   ],
   "source": [
    "# Get the competitor counts for all jobs\n",
    "df['num_comp'] = df['Competitors'].apply(lambda x: len(x.split(',')) if x != '-1' else 0)\n",
    "df['num_comp'].value_counts()"
   ]
  },
  {
   "cell_type": "code",
   "execution_count": 11,
   "id": "ba0026b7",
   "metadata": {},
   "outputs": [
    {
     "data": {
      "text/html": [
       "<div>\n",
       "<style scoped>\n",
       "    .dataframe tbody tr th:only-of-type {\n",
       "        vertical-align: middle;\n",
       "    }\n",
       "\n",
       "    .dataframe tbody tr th {\n",
       "        vertical-align: top;\n",
       "    }\n",
       "\n",
       "    .dataframe thead th {\n",
       "        text-align: right;\n",
       "    }\n",
       "</style>\n",
       "<table border=\"1\" class=\"dataframe\">\n",
       "  <thead>\n",
       "    <tr style=\"text-align: right;\">\n",
       "      <th></th>\n",
       "      <th>hourly</th>\n",
       "      <th>min_salary</th>\n",
       "      <th>max_salary</th>\n",
       "      <th>avg_salary</th>\n",
       "    </tr>\n",
       "  </thead>\n",
       "  <tbody>\n",
       "    <tr>\n",
       "      <th>165</th>\n",
       "      <td>1</td>\n",
       "      <td>34</td>\n",
       "      <td>48</td>\n",
       "      <td>20.5</td>\n",
       "    </tr>\n",
       "    <tr>\n",
       "      <th>177</th>\n",
       "      <td>1</td>\n",
       "      <td>42</td>\n",
       "      <td>68</td>\n",
       "      <td>27.5</td>\n",
       "    </tr>\n",
       "    <tr>\n",
       "      <th>197</th>\n",
       "      <td>1</td>\n",
       "      <td>36</td>\n",
       "      <td>50</td>\n",
       "      <td>21.5</td>\n",
       "    </tr>\n",
       "    <tr>\n",
       "      <th>202</th>\n",
       "      <td>1</td>\n",
       "      <td>42</td>\n",
       "      <td>68</td>\n",
       "      <td>27.5</td>\n",
       "    </tr>\n",
       "    <tr>\n",
       "      <th>210</th>\n",
       "      <td>1</td>\n",
       "      <td>30</td>\n",
       "      <td>50</td>\n",
       "      <td>20.0</td>\n",
       "    </tr>\n",
       "    <tr>\n",
       "      <th>246</th>\n",
       "      <td>1</td>\n",
       "      <td>34</td>\n",
       "      <td>48</td>\n",
       "      <td>20.5</td>\n",
       "    </tr>\n",
       "    <tr>\n",
       "      <th>271</th>\n",
       "      <td>1</td>\n",
       "      <td>42</td>\n",
       "      <td>68</td>\n",
       "      <td>27.5</td>\n",
       "    </tr>\n",
       "    <tr>\n",
       "      <th>337</th>\n",
       "      <td>1</td>\n",
       "      <td>36</td>\n",
       "      <td>50</td>\n",
       "      <td>21.5</td>\n",
       "    </tr>\n",
       "    <tr>\n",
       "      <th>345</th>\n",
       "      <td>1</td>\n",
       "      <td>48</td>\n",
       "      <td>78</td>\n",
       "      <td>31.5</td>\n",
       "    </tr>\n",
       "    <tr>\n",
       "      <th>357</th>\n",
       "      <td>1</td>\n",
       "      <td>42</td>\n",
       "      <td>68</td>\n",
       "      <td>27.5</td>\n",
       "    </tr>\n",
       "    <tr>\n",
       "      <th>363</th>\n",
       "      <td>1</td>\n",
       "      <td>50</td>\n",
       "      <td>56</td>\n",
       "      <td>26.5</td>\n",
       "    </tr>\n",
       "    <tr>\n",
       "      <th>408</th>\n",
       "      <td>1</td>\n",
       "      <td>42</td>\n",
       "      <td>58</td>\n",
       "      <td>25.0</td>\n",
       "    </tr>\n",
       "    <tr>\n",
       "      <th>409</th>\n",
       "      <td>1</td>\n",
       "      <td>20</td>\n",
       "      <td>34</td>\n",
       "      <td>13.5</td>\n",
       "    </tr>\n",
       "    <tr>\n",
       "      <th>492</th>\n",
       "      <td>1</td>\n",
       "      <td>36</td>\n",
       "      <td>50</td>\n",
       "      <td>21.5</td>\n",
       "    </tr>\n",
       "    <tr>\n",
       "      <th>509</th>\n",
       "      <td>1</td>\n",
       "      <td>48</td>\n",
       "      <td>78</td>\n",
       "      <td>31.5</td>\n",
       "    </tr>\n",
       "    <tr>\n",
       "      <th>533</th>\n",
       "      <td>1</td>\n",
       "      <td>42</td>\n",
       "      <td>68</td>\n",
       "      <td>27.5</td>\n",
       "    </tr>\n",
       "    <tr>\n",
       "      <th>542</th>\n",
       "      <td>1</td>\n",
       "      <td>50</td>\n",
       "      <td>56</td>\n",
       "      <td>26.5</td>\n",
       "    </tr>\n",
       "    <tr>\n",
       "      <th>617</th>\n",
       "      <td>1</td>\n",
       "      <td>42</td>\n",
       "      <td>58</td>\n",
       "      <td>25.0</td>\n",
       "    </tr>\n",
       "    <tr>\n",
       "      <th>618</th>\n",
       "      <td>1</td>\n",
       "      <td>20</td>\n",
       "      <td>34</td>\n",
       "      <td>13.5</td>\n",
       "    </tr>\n",
       "    <tr>\n",
       "      <th>645</th>\n",
       "      <td>1</td>\n",
       "      <td>54</td>\n",
       "      <td>94</td>\n",
       "      <td>37.0</td>\n",
       "    </tr>\n",
       "    <tr>\n",
       "      <th>666</th>\n",
       "      <td>1</td>\n",
       "      <td>36</td>\n",
       "      <td>50</td>\n",
       "      <td>21.5</td>\n",
       "    </tr>\n",
       "    <tr>\n",
       "      <th>682</th>\n",
       "      <td>1</td>\n",
       "      <td>48</td>\n",
       "      <td>78</td>\n",
       "      <td>31.5</td>\n",
       "    </tr>\n",
       "    <tr>\n",
       "      <th>711</th>\n",
       "      <td>1</td>\n",
       "      <td>42</td>\n",
       "      <td>68</td>\n",
       "      <td>27.5</td>\n",
       "    </tr>\n",
       "    <tr>\n",
       "      <th>724</th>\n",
       "      <td>1</td>\n",
       "      <td>50</td>\n",
       "      <td>56</td>\n",
       "      <td>26.5</td>\n",
       "    </tr>\n",
       "  </tbody>\n",
       "</table>\n",
       "</div>"
      ],
      "text/plain": [
       "     hourly  min_salary  max_salary  avg_salary\n",
       "165       1          34          48        20.5\n",
       "177       1          42          68        27.5\n",
       "197       1          36          50        21.5\n",
       "202       1          42          68        27.5\n",
       "210       1          30          50        20.0\n",
       "246       1          34          48        20.5\n",
       "271       1          42          68        27.5\n",
       "337       1          36          50        21.5\n",
       "345       1          48          78        31.5\n",
       "357       1          42          68        27.5\n",
       "363       1          50          56        26.5\n",
       "408       1          42          58        25.0\n",
       "409       1          20          34        13.5\n",
       "492       1          36          50        21.5\n",
       "509       1          48          78        31.5\n",
       "533       1          42          68        27.5\n",
       "542       1          50          56        26.5\n",
       "617       1          42          58        25.0\n",
       "618       1          20          34        13.5\n",
       "645       1          54          94        37.0\n",
       "666       1          36          50        21.5\n",
       "682       1          48          78        31.5\n",
       "711       1          42          68        27.5\n",
       "724       1          50          56        26.5"
      ]
     },
     "execution_count": 11,
     "metadata": {},
     "output_type": "execute_result"
    }
   ],
   "source": [
    "# Convert hourly wage to annual (there are 24 jobs marked as hourly)\n",
    "df['min_salary'] = df.apply(lambda x: x.min_salary * 2 if x.hourly == 1 else x.min_salary, axis=1)\n",
    "df['max_salary'] = df.apply(lambda x: x.max_salary * 2 if x.hourly == 1 else x.max_salary, axis=1)\n",
    "df[df['hourly'] == 1][['hourly','min_salary','max_salary','avg_salary']]"
   ]
  },
  {
   "cell_type": "code",
   "execution_count": 12,
   "id": "60c271c1",
   "metadata": {},
   "outputs": [
    {
     "data": {
      "text/plain": [
       "0                          Tecolote Research\n",
       "1      University of Maryland Medical System\n",
       "2                                    KnowBe4\n",
       "3                                       PNNL\n",
       "4                         Affinity Solutions\n",
       "                       ...                  \n",
       "737                                      GSK\n",
       "738                               Eventbrite\n",
       "739           Software Engineering Institute\n",
       "740                             Numeric, LLC\n",
       "741             Riverside Research Institute\n",
       "Name: company_txt, Length: 742, dtype: object"
      ]
     },
     "execution_count": 12,
     "metadata": {},
     "output_type": "execute_result"
    }
   ],
   "source": [
    "# Get rid of the backslash characters in all company texts\n",
    "df['company_txt'] = df['company_txt'].apply(lambda x: x.replace('\\n', ''))\n",
    "df['company_txt'] = df['company_txt'].apply(lambda x: x.replace('\\r', ''))\n",
    "df['company_txt']"
   ]
  },
  {
   "cell_type": "code",
   "execution_count": 13,
   "id": "5b63d8e7",
   "metadata": {},
   "outputs": [],
   "source": [
    "# Get the average of company ratings and ages to replace those with -1 values\n",
    "rating_avg = round(df[df['Rating'] != -1.0]['Rating'].mean(), 2)\n",
    "age_avg = round(df[df['age'] != -1]['age'].mean(), 2)\n",
    "df['Rating'] = df['Rating'].apply(lambda x: rating_avg if x == -1.0 else x)\n",
    "df['age'] = df['age'].apply(lambda x: age_avg if x == -1 else x)"
   ]
  },
  {
   "cell_type": "code",
   "execution_count": 14,
   "id": "1760e135",
   "metadata": {},
   "outputs": [
    {
     "data": {
      "text/html": [
       "<div>\n",
       "<style scoped>\n",
       "    .dataframe tbody tr th:only-of-type {\n",
       "        vertical-align: middle;\n",
       "    }\n",
       "\n",
       "    .dataframe tbody tr th {\n",
       "        vertical-align: top;\n",
       "    }\n",
       "\n",
       "    .dataframe thead th {\n",
       "        text-align: right;\n",
       "    }\n",
       "</style>\n",
       "<table border=\"1\" class=\"dataframe\">\n",
       "  <thead>\n",
       "    <tr style=\"text-align: right;\">\n",
       "      <th></th>\n",
       "      <th>Rating</th>\n",
       "      <th>Founded</th>\n",
       "      <th>hourly</th>\n",
       "      <th>employer_provided</th>\n",
       "      <th>min_salary</th>\n",
       "      <th>max_salary</th>\n",
       "      <th>avg_salary</th>\n",
       "      <th>same_state</th>\n",
       "      <th>age</th>\n",
       "      <th>python_yn</th>\n",
       "      <th>R_yn</th>\n",
       "      <th>spark</th>\n",
       "      <th>aws</th>\n",
       "      <th>excel</th>\n",
       "      <th>desc_len</th>\n",
       "      <th>num_comp</th>\n",
       "    </tr>\n",
       "  </thead>\n",
       "  <tbody>\n",
       "    <tr>\n",
       "      <th>count</th>\n",
       "      <td>742.000000</td>\n",
       "      <td>742.000000</td>\n",
       "      <td>742.000000</td>\n",
       "      <td>742.000000</td>\n",
       "      <td>742.000000</td>\n",
       "      <td>742.000000</td>\n",
       "      <td>742.000000</td>\n",
       "      <td>742.000000</td>\n",
       "      <td>742.000000</td>\n",
       "      <td>742.000000</td>\n",
       "      <td>742.000000</td>\n",
       "      <td>742.000000</td>\n",
       "      <td>742.000000</td>\n",
       "      <td>742.000000</td>\n",
       "      <td>742.000000</td>\n",
       "      <td>742.000000</td>\n",
       "    </tr>\n",
       "    <tr>\n",
       "      <th>mean</th>\n",
       "      <td>3.688396</td>\n",
       "      <td>1837.154987</td>\n",
       "      <td>0.032345</td>\n",
       "      <td>0.022911</td>\n",
       "      <td>74.719677</td>\n",
       "      <td>128.149596</td>\n",
       "      <td>100.626011</td>\n",
       "      <td>0.557951</td>\n",
       "      <td>50.030323</td>\n",
       "      <td>0.528302</td>\n",
       "      <td>0.002695</td>\n",
       "      <td>0.225067</td>\n",
       "      <td>0.237197</td>\n",
       "      <td>0.522911</td>\n",
       "      <td>3910.172507</td>\n",
       "      <td>1.053908</td>\n",
       "    </tr>\n",
       "    <tr>\n",
       "      <th>std</th>\n",
       "      <td>0.566104</td>\n",
       "      <td>497.183763</td>\n",
       "      <td>0.177034</td>\n",
       "      <td>0.149721</td>\n",
       "      <td>30.980593</td>\n",
       "      <td>45.220324</td>\n",
       "      <td>38.855948</td>\n",
       "      <td>0.496965</td>\n",
       "      <td>52.233003</td>\n",
       "      <td>0.499535</td>\n",
       "      <td>0.051882</td>\n",
       "      <td>0.417908</td>\n",
       "      <td>0.425651</td>\n",
       "      <td>0.499812</td>\n",
       "      <td>1533.827777</td>\n",
       "      <td>1.384239</td>\n",
       "    </tr>\n",
       "    <tr>\n",
       "      <th>min</th>\n",
       "      <td>1.900000</td>\n",
       "      <td>-1.000000</td>\n",
       "      <td>0.000000</td>\n",
       "      <td>0.000000</td>\n",
       "      <td>15.000000</td>\n",
       "      <td>16.000000</td>\n",
       "      <td>13.500000</td>\n",
       "      <td>0.000000</td>\n",
       "      <td>1.000000</td>\n",
       "      <td>0.000000</td>\n",
       "      <td>0.000000</td>\n",
       "      <td>0.000000</td>\n",
       "      <td>0.000000</td>\n",
       "      <td>0.000000</td>\n",
       "      <td>407.000000</td>\n",
       "      <td>0.000000</td>\n",
       "    </tr>\n",
       "    <tr>\n",
       "      <th>25%</th>\n",
       "      <td>3.300000</td>\n",
       "      <td>1939.000000</td>\n",
       "      <td>0.000000</td>\n",
       "      <td>0.000000</td>\n",
       "      <td>52.000000</td>\n",
       "      <td>96.000000</td>\n",
       "      <td>73.500000</td>\n",
       "      <td>0.000000</td>\n",
       "      <td>13.000000</td>\n",
       "      <td>0.000000</td>\n",
       "      <td>0.000000</td>\n",
       "      <td>0.000000</td>\n",
       "      <td>0.000000</td>\n",
       "      <td>0.000000</td>\n",
       "      <td>2834.000000</td>\n",
       "      <td>0.000000</td>\n",
       "    </tr>\n",
       "    <tr>\n",
       "      <th>50%</th>\n",
       "      <td>3.700000</td>\n",
       "      <td>1988.000000</td>\n",
       "      <td>0.000000</td>\n",
       "      <td>0.000000</td>\n",
       "      <td>69.500000</td>\n",
       "      <td>124.000000</td>\n",
       "      <td>97.500000</td>\n",
       "      <td>1.000000</td>\n",
       "      <td>32.000000</td>\n",
       "      <td>1.000000</td>\n",
       "      <td>0.000000</td>\n",
       "      <td>0.000000</td>\n",
       "      <td>0.000000</td>\n",
       "      <td>1.000000</td>\n",
       "      <td>3781.500000</td>\n",
       "      <td>0.000000</td>\n",
       "    </tr>\n",
       "    <tr>\n",
       "      <th>75%</th>\n",
       "      <td>4.000000</td>\n",
       "      <td>2007.000000</td>\n",
       "      <td>0.000000</td>\n",
       "      <td>0.000000</td>\n",
       "      <td>91.000000</td>\n",
       "      <td>155.000000</td>\n",
       "      <td>122.500000</td>\n",
       "      <td>1.000000</td>\n",
       "      <td>59.000000</td>\n",
       "      <td>1.000000</td>\n",
       "      <td>0.000000</td>\n",
       "      <td>0.000000</td>\n",
       "      <td>0.000000</td>\n",
       "      <td>1.000000</td>\n",
       "      <td>4772.000000</td>\n",
       "      <td>3.000000</td>\n",
       "    </tr>\n",
       "    <tr>\n",
       "      <th>max</th>\n",
       "      <td>5.000000</td>\n",
       "      <td>2019.000000</td>\n",
       "      <td>1.000000</td>\n",
       "      <td>1.000000</td>\n",
       "      <td>202.000000</td>\n",
       "      <td>306.000000</td>\n",
       "      <td>254.000000</td>\n",
       "      <td>1.000000</td>\n",
       "      <td>276.000000</td>\n",
       "      <td>1.000000</td>\n",
       "      <td>1.000000</td>\n",
       "      <td>1.000000</td>\n",
       "      <td>1.000000</td>\n",
       "      <td>1.000000</td>\n",
       "      <td>10146.000000</td>\n",
       "      <td>4.000000</td>\n",
       "    </tr>\n",
       "  </tbody>\n",
       "</table>\n",
       "</div>"
      ],
      "text/plain": [
       "           Rating      Founded      hourly  employer_provided  min_salary  \\\n",
       "count  742.000000   742.000000  742.000000         742.000000  742.000000   \n",
       "mean     3.688396  1837.154987    0.032345           0.022911   74.719677   \n",
       "std      0.566104   497.183763    0.177034           0.149721   30.980593   \n",
       "min      1.900000    -1.000000    0.000000           0.000000   15.000000   \n",
       "25%      3.300000  1939.000000    0.000000           0.000000   52.000000   \n",
       "50%      3.700000  1988.000000    0.000000           0.000000   69.500000   \n",
       "75%      4.000000  2007.000000    0.000000           0.000000   91.000000   \n",
       "max      5.000000  2019.000000    1.000000           1.000000  202.000000   \n",
       "\n",
       "       max_salary  avg_salary  same_state         age   python_yn        R_yn  \\\n",
       "count  742.000000  742.000000  742.000000  742.000000  742.000000  742.000000   \n",
       "mean   128.149596  100.626011    0.557951   50.030323    0.528302    0.002695   \n",
       "std     45.220324   38.855948    0.496965   52.233003    0.499535    0.051882   \n",
       "min     16.000000   13.500000    0.000000    1.000000    0.000000    0.000000   \n",
       "25%     96.000000   73.500000    0.000000   13.000000    0.000000    0.000000   \n",
       "50%    124.000000   97.500000    1.000000   32.000000    1.000000    0.000000   \n",
       "75%    155.000000  122.500000    1.000000   59.000000    1.000000    0.000000   \n",
       "max    306.000000  254.000000    1.000000  276.000000    1.000000    1.000000   \n",
       "\n",
       "            spark         aws       excel      desc_len    num_comp  \n",
       "count  742.000000  742.000000  742.000000    742.000000  742.000000  \n",
       "mean     0.225067    0.237197    0.522911   3910.172507    1.053908  \n",
       "std      0.417908    0.425651    0.499812   1533.827777    1.384239  \n",
       "min      0.000000    0.000000    0.000000    407.000000    0.000000  \n",
       "25%      0.000000    0.000000    0.000000   2834.000000    0.000000  \n",
       "50%      0.000000    0.000000    1.000000   3781.500000    0.000000  \n",
       "75%      0.000000    0.000000    1.000000   4772.000000    3.000000  \n",
       "max      1.000000    1.000000    1.000000  10146.000000    4.000000  "
      ]
     },
     "execution_count": 14,
     "metadata": {},
     "output_type": "execute_result"
    }
   ],
   "source": [
    "# Now is the time to reveal the statistics of all numerical columns\n",
    "df.describe()"
   ]
  },
  {
   "cell_type": "code",
   "execution_count": 15,
   "id": "24fdfd6b",
   "metadata": {},
   "outputs": [
    {
     "data": {
      "text/plain": [
       "Index(['Job Title', 'Salary Estimate', 'Job Description', 'Rating',\n",
       "       'Company Name', 'Location', 'Headquarters', 'Size', 'Founded',\n",
       "       'Type of ownership', 'Industry', 'Sector', 'Revenue', 'Competitors',\n",
       "       'hourly', 'employer_provided', 'min_salary', 'max_salary', 'avg_salary',\n",
       "       'company_txt', 'job_state', 'same_state', 'age', 'python_yn', 'R_yn',\n",
       "       'spark', 'aws', 'excel', 'job_simp', 'seniority', 'desc_len',\n",
       "       'num_comp'],\n",
       "      dtype='object')"
      ]
     },
     "execution_count": 15,
     "metadata": {},
     "output_type": "execute_result"
    }
   ],
   "source": [
    "# All columns in the dataset right now\n",
    "df.columns"
   ]
  },
  {
   "cell_type": "markdown",
   "id": "811c375b",
   "metadata": {},
   "source": [
    "## Prepare Train and Test Sets"
   ]
  },
  {
   "cell_type": "code",
   "execution_count": 17,
   "id": "ad5dcbc7",
   "metadata": {},
   "outputs": [
    {
     "data": {
      "text/html": [
       "<div>\n",
       "<style scoped>\n",
       "    .dataframe tbody tr th:only-of-type {\n",
       "        vertical-align: middle;\n",
       "    }\n",
       "\n",
       "    .dataframe tbody tr th {\n",
       "        vertical-align: top;\n",
       "    }\n",
       "\n",
       "    .dataframe thead th {\n",
       "        text-align: right;\n",
       "    }\n",
       "</style>\n",
       "<table border=\"1\" class=\"dataframe\">\n",
       "  <thead>\n",
       "    <tr style=\"text-align: right;\">\n",
       "      <th></th>\n",
       "      <th>analyst</th>\n",
       "      <th>data engineer</th>\n",
       "      <th>data scientist</th>\n",
       "      <th>director</th>\n",
       "      <th>manager</th>\n",
       "      <th>mle</th>\n",
       "      <th>na</th>\n",
       "      <th>jr</th>\n",
       "      <th>na</th>\n",
       "      <th>senior</th>\n",
       "      <th>...</th>\n",
       "      <th>same_state</th>\n",
       "      <th>age</th>\n",
       "      <th>python_yn</th>\n",
       "      <th>R_yn</th>\n",
       "      <th>spark</th>\n",
       "      <th>aws</th>\n",
       "      <th>excel</th>\n",
       "      <th>desc_len</th>\n",
       "      <th>num_comp</th>\n",
       "      <th>avg_salary</th>\n",
       "    </tr>\n",
       "  </thead>\n",
       "  <tbody>\n",
       "    <tr>\n",
       "      <th>0</th>\n",
       "      <td>0</td>\n",
       "      <td>0</td>\n",
       "      <td>1</td>\n",
       "      <td>0</td>\n",
       "      <td>0</td>\n",
       "      <td>0</td>\n",
       "      <td>0</td>\n",
       "      <td>0</td>\n",
       "      <td>1</td>\n",
       "      <td>0</td>\n",
       "      <td>...</td>\n",
       "      <td>0</td>\n",
       "      <td>47.00</td>\n",
       "      <td>1</td>\n",
       "      <td>0</td>\n",
       "      <td>0</td>\n",
       "      <td>0</td>\n",
       "      <td>1</td>\n",
       "      <td>2555</td>\n",
       "      <td>0</td>\n",
       "      <td>72.0</td>\n",
       "    </tr>\n",
       "    <tr>\n",
       "      <th>1</th>\n",
       "      <td>0</td>\n",
       "      <td>0</td>\n",
       "      <td>1</td>\n",
       "      <td>0</td>\n",
       "      <td>0</td>\n",
       "      <td>0</td>\n",
       "      <td>0</td>\n",
       "      <td>0</td>\n",
       "      <td>1</td>\n",
       "      <td>0</td>\n",
       "      <td>...</td>\n",
       "      <td>0</td>\n",
       "      <td>36.00</td>\n",
       "      <td>1</td>\n",
       "      <td>0</td>\n",
       "      <td>0</td>\n",
       "      <td>0</td>\n",
       "      <td>0</td>\n",
       "      <td>4828</td>\n",
       "      <td>0</td>\n",
       "      <td>87.5</td>\n",
       "    </tr>\n",
       "    <tr>\n",
       "      <th>2</th>\n",
       "      <td>0</td>\n",
       "      <td>0</td>\n",
       "      <td>1</td>\n",
       "      <td>0</td>\n",
       "      <td>0</td>\n",
       "      <td>0</td>\n",
       "      <td>0</td>\n",
       "      <td>0</td>\n",
       "      <td>1</td>\n",
       "      <td>0</td>\n",
       "      <td>...</td>\n",
       "      <td>1</td>\n",
       "      <td>10.00</td>\n",
       "      <td>1</td>\n",
       "      <td>0</td>\n",
       "      <td>1</td>\n",
       "      <td>0</td>\n",
       "      <td>1</td>\n",
       "      <td>3495</td>\n",
       "      <td>0</td>\n",
       "      <td>85.0</td>\n",
       "    </tr>\n",
       "    <tr>\n",
       "      <th>3</th>\n",
       "      <td>0</td>\n",
       "      <td>0</td>\n",
       "      <td>1</td>\n",
       "      <td>0</td>\n",
       "      <td>0</td>\n",
       "      <td>0</td>\n",
       "      <td>0</td>\n",
       "      <td>0</td>\n",
       "      <td>1</td>\n",
       "      <td>0</td>\n",
       "      <td>...</td>\n",
       "      <td>1</td>\n",
       "      <td>55.00</td>\n",
       "      <td>1</td>\n",
       "      <td>0</td>\n",
       "      <td>0</td>\n",
       "      <td>0</td>\n",
       "      <td>0</td>\n",
       "      <td>3926</td>\n",
       "      <td>3</td>\n",
       "      <td>76.5</td>\n",
       "    </tr>\n",
       "    <tr>\n",
       "      <th>4</th>\n",
       "      <td>0</td>\n",
       "      <td>0</td>\n",
       "      <td>1</td>\n",
       "      <td>0</td>\n",
       "      <td>0</td>\n",
       "      <td>0</td>\n",
       "      <td>0</td>\n",
       "      <td>0</td>\n",
       "      <td>1</td>\n",
       "      <td>0</td>\n",
       "      <td>...</td>\n",
       "      <td>1</td>\n",
       "      <td>22.00</td>\n",
       "      <td>1</td>\n",
       "      <td>0</td>\n",
       "      <td>0</td>\n",
       "      <td>0</td>\n",
       "      <td>1</td>\n",
       "      <td>2748</td>\n",
       "      <td>3</td>\n",
       "      <td>114.5</td>\n",
       "    </tr>\n",
       "    <tr>\n",
       "      <th>...</th>\n",
       "      <td>...</td>\n",
       "      <td>...</td>\n",
       "      <td>...</td>\n",
       "      <td>...</td>\n",
       "      <td>...</td>\n",
       "      <td>...</td>\n",
       "      <td>...</td>\n",
       "      <td>...</td>\n",
       "      <td>...</td>\n",
       "      <td>...</td>\n",
       "      <td>...</td>\n",
       "      <td>...</td>\n",
       "      <td>...</td>\n",
       "      <td>...</td>\n",
       "      <td>...</td>\n",
       "      <td>...</td>\n",
       "      <td>...</td>\n",
       "      <td>...</td>\n",
       "      <td>...</td>\n",
       "      <td>...</td>\n",
       "      <td>...</td>\n",
       "    </tr>\n",
       "    <tr>\n",
       "      <th>737</th>\n",
       "      <td>0</td>\n",
       "      <td>0</td>\n",
       "      <td>0</td>\n",
       "      <td>0</td>\n",
       "      <td>0</td>\n",
       "      <td>0</td>\n",
       "      <td>1</td>\n",
       "      <td>0</td>\n",
       "      <td>0</td>\n",
       "      <td>1</td>\n",
       "      <td>...</td>\n",
       "      <td>0</td>\n",
       "      <td>190.00</td>\n",
       "      <td>0</td>\n",
       "      <td>0</td>\n",
       "      <td>0</td>\n",
       "      <td>1</td>\n",
       "      <td>0</td>\n",
       "      <td>6219</td>\n",
       "      <td>3</td>\n",
       "      <td>84.5</td>\n",
       "    </tr>\n",
       "    <tr>\n",
       "      <th>738</th>\n",
       "      <td>0</td>\n",
       "      <td>1</td>\n",
       "      <td>0</td>\n",
       "      <td>0</td>\n",
       "      <td>0</td>\n",
       "      <td>0</td>\n",
       "      <td>0</td>\n",
       "      <td>0</td>\n",
       "      <td>0</td>\n",
       "      <td>1</td>\n",
       "      <td>...</td>\n",
       "      <td>0</td>\n",
       "      <td>14.00</td>\n",
       "      <td>1</td>\n",
       "      <td>0</td>\n",
       "      <td>1</td>\n",
       "      <td>1</td>\n",
       "      <td>0</td>\n",
       "      <td>6167</td>\n",
       "      <td>3</td>\n",
       "      <td>102.5</td>\n",
       "    </tr>\n",
       "    <tr>\n",
       "      <th>739</th>\n",
       "      <td>0</td>\n",
       "      <td>0</td>\n",
       "      <td>0</td>\n",
       "      <td>0</td>\n",
       "      <td>0</td>\n",
       "      <td>0</td>\n",
       "      <td>1</td>\n",
       "      <td>0</td>\n",
       "      <td>1</td>\n",
       "      <td>0</td>\n",
       "      <td>...</td>\n",
       "      <td>1</td>\n",
       "      <td>36.00</td>\n",
       "      <td>0</td>\n",
       "      <td>0</td>\n",
       "      <td>0</td>\n",
       "      <td>0</td>\n",
       "      <td>1</td>\n",
       "      <td>3107</td>\n",
       "      <td>0</td>\n",
       "      <td>73.5</td>\n",
       "    </tr>\n",
       "    <tr>\n",
       "      <th>740</th>\n",
       "      <td>0</td>\n",
       "      <td>0</td>\n",
       "      <td>0</td>\n",
       "      <td>0</td>\n",
       "      <td>1</td>\n",
       "      <td>0</td>\n",
       "      <td>0</td>\n",
       "      <td>0</td>\n",
       "      <td>1</td>\n",
       "      <td>0</td>\n",
       "      <td>...</td>\n",
       "      <td>0</td>\n",
       "      <td>50.03</td>\n",
       "      <td>0</td>\n",
       "      <td>0</td>\n",
       "      <td>0</td>\n",
       "      <td>0</td>\n",
       "      <td>1</td>\n",
       "      <td>1678</td>\n",
       "      <td>0</td>\n",
       "      <td>127.5</td>\n",
       "    </tr>\n",
       "    <tr>\n",
       "      <th>741</th>\n",
       "      <td>0</td>\n",
       "      <td>0</td>\n",
       "      <td>0</td>\n",
       "      <td>0</td>\n",
       "      <td>0</td>\n",
       "      <td>0</td>\n",
       "      <td>1</td>\n",
       "      <td>0</td>\n",
       "      <td>1</td>\n",
       "      <td>0</td>\n",
       "      <td>...</td>\n",
       "      <td>0</td>\n",
       "      <td>53.00</td>\n",
       "      <td>1</td>\n",
       "      <td>0</td>\n",
       "      <td>0</td>\n",
       "      <td>0</td>\n",
       "      <td>0</td>\n",
       "      <td>3710</td>\n",
       "      <td>0</td>\n",
       "      <td>93.5</td>\n",
       "    </tr>\n",
       "  </tbody>\n",
       "</table>\n",
       "<p>742 rows × 60 columns</p>\n",
       "</div>"
      ],
      "text/plain": [
       "     analyst  data engineer  data scientist  director  manager  mle  na  jr  \\\n",
       "0          0              0               1         0        0    0   0   0   \n",
       "1          0              0               1         0        0    0   0   0   \n",
       "2          0              0               1         0        0    0   0   0   \n",
       "3          0              0               1         0        0    0   0   0   \n",
       "4          0              0               1         0        0    0   0   0   \n",
       "..       ...            ...             ...       ...      ...  ...  ..  ..   \n",
       "737        0              0               0         0        0    0   1   0   \n",
       "738        0              1               0         0        0    0   0   0   \n",
       "739        0              0               0         0        0    0   1   0   \n",
       "740        0              0               0         0        1    0   0   0   \n",
       "741        0              0               0         0        0    0   1   0   \n",
       "\n",
       "     na  senior  ...  same_state     age  python_yn  R_yn  spark  aws  excel  \\\n",
       "0     1       0  ...           0   47.00          1     0      0    0      1   \n",
       "1     1       0  ...           0   36.00          1     0      0    0      0   \n",
       "2     1       0  ...           1   10.00          1     0      1    0      1   \n",
       "3     1       0  ...           1   55.00          1     0      0    0      0   \n",
       "4     1       0  ...           1   22.00          1     0      0    0      1   \n",
       "..   ..     ...  ...         ...     ...        ...   ...    ...  ...    ...   \n",
       "737   0       1  ...           0  190.00          0     0      0    1      0   \n",
       "738   0       1  ...           0   14.00          1     0      1    1      0   \n",
       "739   1       0  ...           1   36.00          0     0      0    0      1   \n",
       "740   1       0  ...           0   50.03          0     0      0    0      1   \n",
       "741   1       0  ...           0   53.00          1     0      0    0      0   \n",
       "\n",
       "     desc_len  num_comp  avg_salary  \n",
       "0        2555         0        72.0  \n",
       "1        4828         0        87.5  \n",
       "2        3495         0        85.0  \n",
       "3        3926         3        76.5  \n",
       "4        2748         3       114.5  \n",
       "..        ...       ...         ...  \n",
       "737      6219         3        84.5  \n",
       "738      6167         3       102.5  \n",
       "739      3107         0        73.5  \n",
       "740      1678         0       127.5  \n",
       "741      3710         0        93.5  \n",
       "\n",
       "[742 rows x 60 columns]"
      ]
     },
     "execution_count": 17,
     "metadata": {},
     "output_type": "execute_result"
    }
   ],
   "source": [
    "# Create dummies of all categorized columns and merge them with numericals\n",
    "dummy_job_simp = pd.get_dummies(df['job_simp'])\n",
    "dummy_seniority = pd.get_dummies(df['seniority'])\n",
    "dummy_job_state = pd.get_dummies(df['job_state'])\n",
    "df_numeric = df[['Rating','hourly','employer_provided','same_state','age',\n",
    "                 'python_yn','R_yn','spark','aws','excel','desc_len','num_comp']]\n",
    "df_cons = pd.concat([dummy_job_simp, dummy_seniority, dummy_job_state, df_numeric, df['avg_salary']], axis=1)\n",
    "df_cons"
   ]
  },
  {
   "cell_type": "code",
   "execution_count": 23,
   "id": "eacc2481",
   "metadata": {
    "scrolled": false
   },
   "outputs": [
    {
     "data": {
      "image/png": "[encoded data removed]",
      "text/plain": [
       "<Figure size 1100x1200 with 2 Axes>"
      ]
     },
     "metadata": {},
     "output_type": "display_data"
    },
    {
     "name": "stdout",
     "output_type": "stream",
     "text": [
      "#### CORRELATION VALUES AGAINST AVERAGE SALARIES ####\n",
      "analyst             -0.357460\n",
      "data engineer        0.053771\n",
      "data scientist       0.338627\n",
      "director             0.242785\n",
      "manager             -0.074744\n",
      "mle                  0.116171\n",
      "na                  -0.233257\n",
      "jr                  -0.025607\n",
      "na                  -0.346247\n",
      "senior               0.350057\n",
      "AL                  -0.114774\n",
      "AZ                  -0.042689\n",
      "CA                   0.299173\n",
      "CO                  -0.074495\n",
      "CT                  -0.062631\n",
      "DC                   0.030188\n",
      "DE                  -0.170037\n",
      "FL                  -0.087937\n",
      "GA                  -0.046411\n",
      "IA                  -0.046086\n",
      "ID                  -0.059413\n",
      "IL                   0.098584\n",
      "IN                  -0.031082\n",
      "KS                  -0.022358\n",
      "KY                  -0.008431\n",
      "LA                  -0.091721\n",
      "MA                   0.058476\n",
      "MD                  -0.018731\n",
      "MI                  -0.000874\n",
      "MN                  -0.020252\n",
      "MO                  -0.045384\n",
      "NC                  -0.009554\n",
      "NE                  -0.113051\n",
      "NJ                   0.015509\n",
      "NM                  -0.043143\n",
      "NY                  -0.016659\n",
      "OH                  -0.046623\n",
      "OR                  -0.016118\n",
      "PA                  -0.044812\n",
      "RI                  -0.000592\n",
      "SC                  -0.037962\n",
      "TN                  -0.046464\n",
      "TX                  -0.057288\n",
      "UT                  -0.019493\n",
      "VA                  -0.031167\n",
      "WA                  -0.032681\n",
      "WI                  -0.082254\n",
      "Rating               0.131634\n",
      "hourly              -0.356082\n",
      "employer_provided    0.076287\n",
      "same_state          -0.034641\n",
      "age                  0.023365\n",
      "python_yn            0.327796\n",
      "R_yn                -0.040000\n",
      "spark                0.176559\n",
      "aws                  0.171379\n",
      "excel               -0.057252\n",
      "desc_len             0.078093\n",
      "num_comp             0.093813\n",
      "avg_salary           1.000000\n",
      "Name: avg_salary, dtype: float64\n"
     ]
    }
   ],
   "source": [
    "# Show the correlations in a heat map\n",
    "plt.figure(figsize=(11,12))\n",
    "cmap = sns.diverging_palette(250, 10, as_cmap=True)\n",
    "sns.heatmap(df_cons.corr(), center=0, cmap='mako', square=True, cbar_kws={\"shrink\": .8}, annot_kws={'fontsize': 8})\n",
    "plt.show()\n",
    "print(\"#### CORRELATION VALUES AGAINST AVERAGE SALARIES ####\")\n",
    "print(df_cons.corr()['avg_salary'])"
   ]
  },
  {
   "cell_type": "code",
   "execution_count": 18,
   "id": "67db1e98",
   "metadata": {},
   "outputs": [
    {
     "name": "stdout",
     "output_type": "stream",
     "text": [
      "TRAIN SIZE: (593, 59)  TEST SIZE: (149, 59)\n"
     ]
    }
   ],
   "source": [
    "# Use 80% of the dataset as training, and 20% as testing\n",
    "X = df_cons.drop(columns='avg_salary', axis=1)\n",
    "Y = df_cons.iloc[:,-1]\n",
    "x_train, x_test, y_train, y_test = train_test_split(X, Y, test_size=0.2, random_state=21)\n",
    "print(\"TRAIN SIZE:\", x_train.shape, \" TEST SIZE:\", x_test.shape)"
   ]
  },
  {
   "cell_type": "code",
   "execution_count": 19,
   "id": "2c4cbddb",
   "metadata": {},
   "outputs": [],
   "source": [
    "# Create lists to store results of error values of all regression methods\n",
    "res_mse, res_rmse, res_mae, res_r2, res_cv_train, res_cv_test = [], [], [], [], [], []"
   ]
  },
  {
   "cell_type": "markdown",
   "id": "b55b041f",
   "metadata": {},
   "source": [
    "# ML Regression Models"
   ]
  },
  {
   "cell_type": "markdown",
   "id": "e6731dd5",
   "metadata": {},
   "source": [
    "## 1 - Linear Regression"
   ]
  },
  {
   "cell_type": "code",
   "execution_count": 216,
   "id": "9893e111",
   "metadata": {},
   "outputs": [
    {
     "data": {
      "text/plain": [
       "{'copy_X': True,\n",
       " 'fit_intercept': True,\n",
       " 'n_jobs': None,\n",
       " 'normalize': 'deprecated',\n",
       " 'positive': False}"
      ]
     },
     "execution_count": 216,
     "metadata": {},
     "output_type": "execute_result"
    }
   ],
   "source": [
    "linreg = LinearRegression(fit_intercept=True, positive=False)\n",
    "linreg.get_params()"
   ]
  },
  {
   "cell_type": "code",
   "execution_count": 217,
   "id": "75b0305d",
   "metadata": {},
   "outputs": [],
   "source": [
    "# Fit the training data into the linear reg. model, then make predictions on the test data\n",
    "linreg.fit(x_train, y_train)\n",
    "y_pred = linreg.predict(x_test)"
   ]
  },
  {
   "cell_type": "code",
   "execution_count": 218,
   "id": "bd0dcf54",
   "metadata": {},
   "outputs": [
    {
     "name": "stdout",
     "output_type": "stream",
     "text": [
      "COEF: [-3.74761335e+01 -4.65046697e+00  8.63689494e-01  6.52675960e+01\n",
      " -2.63967871e+01  2.06172528e+01 -1.82251508e+01 -9.65489305e+00\n",
      " -8.62598477e+00  1.82808778e+01 -7.77946431e+00 -1.10724081e+01\n",
      "  3.05029943e+01  1.52375045e-01 -1.11282779e+01  6.77859478e+00\n",
      "  5.30900801e+00 -8.76835390e+00 -1.44747668e+01 -4.81910632e+00\n",
      "  1.58791532e+01  9.55987105e+00 -6.82407278e-01 -2.97926301e+01\n",
      "  1.21912569e+01 -7.92650085e+00  7.51491895e+00  1.18124585e+01\n",
      "  2.02529623e+00  9.05823960e+00  5.00253875e+00 -3.27226356e+00\n",
      " -6.07217826e+00  1.66429755e+01 -2.54469625e+01  5.77757648e+00\n",
      "  4.26607350e+00 -4.88180203e+00  6.60727507e+00  2.26745601e+01\n",
      " -1.64248979e+01 -1.38225092e+01  8.63847404e-01  7.42947701e+00\n",
      " -9.00843003e-01 -7.00317327e+00 -5.77994516e+00  3.69778097e+00\n",
      " -4.60606228e+01  3.35730926e+01 -3.42252600e+00  4.34679037e-02\n",
      "  8.01605869e+00 -2.59800602e+01  2.96867083e+00  1.54639145e+00\n",
      "  1.53570682e+00  6.22016583e-04  1.53835806e+00]\n",
      "RANK: 56\n",
      "INTERCEPT: 77.71785727872783\n"
     ]
    }
   ],
   "source": [
    "print(\"COEF:\", linreg.coef_)   # Estimated coefficients for the linear reg.\n",
    "print(\"RANK:\", linreg.rank_)   # Rank of matrix\n",
    "print(\"INTERCEPT:\", linreg.intercept_)   # Independent term in the linear model"
   ]
  },
  {
   "cell_type": "code",
   "execution_count": 219,
   "id": "0b346859",
   "metadata": {},
   "outputs": [
    {
     "name": "stdout",
     "output_type": "stream",
     "text": [
      "  147.10451558077227 |    181.0\n",
      "   59.28323912949179 |     26.5\n",
      "   132.4248499469528 |    107.0\n",
      "   89.00744026328148 |    118.5\n",
      "   41.20005999084978 |     44.5\n",
      "  53.263562384052385 |     60.0\n",
      "  169.22499218904278 |    179.5\n",
      "  113.37449176663463 |    115.0\n",
      "  128.10744008825787 |    100.0\n",
      "   96.01199511281709 |    129.5\n",
      "   96.92084364834466 |     64.5\n",
      "   99.13441504726967 |     65.5\n",
      "    79.2732126447564 |     93.5\n",
      "  109.89946293733482 |     92.5\n",
      "   67.95772355799782 |     99.5\n",
      "  109.77754661258587 |    112.5\n",
      "   56.50997990894251 |     65.0\n",
      "   134.3517639405019 |    124.0\n",
      "  101.21717086720318 |    134.5\n",
      "   135.6777460410338 |    237.5\n"
     ]
    }
   ],
   "source": [
    "# Compare the predicted values against the actual ones for the top 20 rows\n",
    "for i in range(20):\n",
    "    print(\"{:20} | {:8}\".format(y_pred[i], y_test.iloc[i]))"
   ]
  },
  {
   "cell_type": "code",
   "execution_count": 220,
   "id": "2db0c1dd",
   "metadata": {},
   "outputs": [
    {
     "name": "stdout",
     "output_type": "stream",
     "text": [
      "MSE: 679.9375084045932\n",
      "RMSE: 26.07561137163601\n",
      "MAE: 20.768941464503516\n",
      "R2 SCORE: 0.5183108721768981\n",
      "ADJUSTED R2 SCORE: 0.5806806192322314\n",
      "\n",
      "# CROSS VALIDATION #\n",
      "FITTING TIME: [0.01530933 0.0121088  0.01253176 0.01302528 0.0115087 ] -> 0.01289677619934082\n",
      "SCORING TIME: [0.00201845 0.00203276 0.00152898 0.00101542 0.00200057] -> 0.0017192363739013672\n",
      "TRAIN SCORE: [0.6379214  0.59609677 0.62271175 0.62420036 0.65391916] -> 0.6269698897077722\n",
      "TEST SCORE: [0.46190047 0.65135738 0.5817575  0.59254004 0.44615817] -> 0.5467427114601675\n"
     ]
    }
   ],
   "source": [
    "# Results of metrics\n",
    "mse, rmse, mae, r2 = mean_squared_error(y_test, y_pred), mean_squared_error(y_test, y_pred, squared=False), \\\n",
    "    mean_absolute_error(y_test, y_pred), r2_score(y_test, y_pred)\n",
    "adj_r2 = 1-(1-linreg.score(X, Y))*(len(Y)-1)/(len(Y)-X.shape[1]-1)\n",
    "print(\"MSE:\", mse)         # Mean squared error\n",
    "print(\"RMSE:\", rmse)       # Root mean squared error\n",
    "print(\"MAE:\", mae)         # Mean absolute error\n",
    "print(\"R2 SCORE:\", r2)     # R2 score\n",
    "print(\"ADJUSTED R2 SCORE:\", adj_r2)   # Adjusted R2 score\n",
    "res_mse.append(mse)\n",
    "res_rmse.append(rmse)\n",
    "res_mae.append(mae)\n",
    "res_r2.append(r2)\n",
    "print(\"\\n# CROSS VALIDATION #\")\n",
    "cross_val = cross_validate(linreg, X, Y, cv=5, return_train_score=True)    # 5-fold Cross Validation\n",
    "# The time in seconds for fitting the estimator on the train set for each cv split\n",
    "print(\"FITTING TIME:\", cross_val['fit_time'], \"->\", cross_val['fit_time'].mean())\n",
    "# The time in seconds for scoring the estimator on the test set for each cv split\n",
    "print(\"SCORING TIME:\", cross_val['score_time'], \"->\", cross_val['score_time'].mean())\n",
    "# The score array for train scores for each cv split\n",
    "print(\"TRAIN SCORE:\", cross_val['train_score'], \"->\", cross_val['train_score'].mean())\n",
    "res_cv_train.append(cross_val['train_score'].mean())\n",
    "# The score array for test score for each cv split\n",
    "print(\"TEST SCORE:\", cross_val['test_score'], \"->\", cross_val['test_score'].mean())\n",
    "res_cv_test.append(cross_val['test_score'].mean())"
   ]
  },
  {
   "cell_type": "markdown",
   "id": "5dcb0a24",
   "metadata": {},
   "source": [
    "## 2 - Lasso Regression"
   ]
  },
  {
   "cell_type": "code",
   "execution_count": 221,
   "id": "ddc7e02d",
   "metadata": {},
   "outputs": [
    {
     "data": {
      "text/plain": [
       "{'alpha': 1.0,\n",
       " 'copy_X': True,\n",
       " 'fit_intercept': True,\n",
       " 'max_iter': 1000,\n",
       " 'normalize': 'deprecated',\n",
       " 'positive': False,\n",
       " 'precompute': False,\n",
       " 'random_state': None,\n",
       " 'selection': 'cyclic',\n",
       " 'tol': 0.0001,\n",
       " 'warm_start': False}"
      ]
     },
     "execution_count": 221,
     "metadata": {},
     "output_type": "execute_result"
    }
   ],
   "source": [
    "lasso = Lasso(alpha=1.0, fit_intercept=True, positive=False, tol=0.0001, selection='cyclic')\n",
    "lasso.get_params()"
   ]
  },
  {
   "cell_type": "code",
   "execution_count": 222,
   "id": "baa0508f",
   "metadata": {},
   "outputs": [],
   "source": [
    "# Fit the training data into the lasso model, then make predictions on the test data\n",
    "lasso.fit(x_train, y_train)\n",
    "y_pred = lasso.predict(x_test)"
   ]
  },
  {
   "cell_type": "code",
   "execution_count": 223,
   "id": "23ae0938",
   "metadata": {},
   "outputs": [
    {
     "name": "stdout",
     "output_type": "stream",
     "text": [
      "COEF: [-2.65523187e+01  0.00000000e+00  4.31480480e+00  1.84523876e+01\n",
      " -0.00000000e+00  0.00000000e+00 -1.12128370e+01 -0.00000000e+00\n",
      " -0.00000000e+00  2.27390493e+01 -0.00000000e+00 -0.00000000e+00\n",
      "  2.19281480e+01 -0.00000000e+00 -0.00000000e+00  0.00000000e+00\n",
      " -0.00000000e+00 -0.00000000e+00 -0.00000000e+00 -0.00000000e+00\n",
      " -0.00000000e+00  0.00000000e+00 -0.00000000e+00 -0.00000000e+00\n",
      "  0.00000000e+00 -0.00000000e+00  0.00000000e+00  0.00000000e+00\n",
      "  0.00000000e+00  0.00000000e+00 -0.00000000e+00 -0.00000000e+00\n",
      " -0.00000000e+00  0.00000000e+00 -0.00000000e+00  0.00000000e+00\n",
      " -0.00000000e+00 -0.00000000e+00 -0.00000000e+00  0.00000000e+00\n",
      " -0.00000000e+00 -0.00000000e+00 -0.00000000e+00  0.00000000e+00\n",
      " -0.00000000e+00 -0.00000000e+00 -0.00000000e+00  2.60477830e-01\n",
      " -2.02903948e+01  0.00000000e+00 -0.00000000e+00  5.87178544e-02\n",
      "  1.09426630e+01 -0.00000000e+00  0.00000000e+00  0.00000000e+00\n",
      " -0.00000000e+00  7.59675508e-04  1.41040666e+00]\n",
      "INTERCEPT: 79.39971072125587\n",
      "ITERATIONS: 295\n"
     ]
    }
   ],
   "source": [
    "print(\"COEF:\", lasso.coef_)   # Parameter vector (w in the cost function function formula)\n",
    "print(\"INTERCEPT:\", lasso.intercept_)   # Independent term in decision function\n",
    "print(\"ITERATIONS:\", lasso.n_iter_)   # Number of iterations run by the coord. descent solver to reach the specified tolerance"
   ]
  },
  {
   "cell_type": "code",
   "execution_count": 224,
   "id": "24e27c34",
   "metadata": {},
   "outputs": [
    {
     "name": "stdout",
     "output_type": "stream",
     "text": [
      "  118.41798971455088 |    181.0\n",
      "   52.75719593107593 |     26.5\n",
      "  130.15518621177046 |    107.0\n",
      "    94.0027830232411 |    118.5\n",
      "   59.28322629077266 |     44.5\n",
      "   70.02875932140446 |     60.0\n",
      "  117.41833158828891 |    179.5\n",
      "  112.69604116637018 |    115.0\n",
      "  125.35228344091672 |    100.0\n",
      "   93.53901866439165 |    129.5\n",
      "    98.6516867849623 |     64.5\n",
      "   101.6550825847374 |     65.5\n",
      "   73.83642978646581 |     93.5\n",
      "  103.52128411430549 |     92.5\n",
      "   82.98494466309666 |     99.5\n",
      "  102.03156054443497 |    112.5\n",
      "   61.02377827492765 |     65.0\n",
      "  109.04804607385648 |    124.0\n",
      "   95.87424197004307 |    134.5\n",
      "   130.2368740591902 |    237.5\n"
     ]
    }
   ],
   "source": [
    "# Compare the predicted values against the actual ones for the top 20 rows\n",
    "for i in range(20):\n",
    "    print(\"{:20} | {:8}\".format(y_pred[i], y_test.iloc[i]))"
   ]
  },
  {
   "cell_type": "code",
   "execution_count": 225,
   "id": "6b05c640",
   "metadata": {},
   "outputs": [
    {
     "name": "stdout",
     "output_type": "stream",
     "text": [
      "MSE: 828.4769923204815\n",
      "RMSE: 28.783276261059676\n",
      "MAE: 23.40807242516331\n",
      "R2 SCORE: 0.41308082740025\n",
      "ADJUSTED R2 SCORE: 0.4403244508168751\n",
      "\n",
      "# CROSS VALIDATION #\n",
      "FITTING TIME: [0.00650978 0.00552869 0.00604939 0.00568032 0.00456309] -> 0.005666255950927734\n",
      "SCORING TIME: [0.00301647 0.00298429 0.00198197 0.00103521 0.00153422] -> 0.0021104335784912108\n",
      "TRAIN SCORE: [0.52409118 0.45622454 0.47618556 0.49148944 0.49690886] -> 0.48897991728531787\n",
      "TEST SCORE: [0.36933757 0.55213828 0.41244153 0.49664957 0.33625983] -> 0.4333653559606619\n"
     ]
    }
   ],
   "source": [
    "# Results of metrics\n",
    "mse, rmse, mae, r2 = mean_squared_error(y_test, y_pred), mean_squared_error(y_test, y_pred, squared=False), \\\n",
    "    mean_absolute_error(y_test, y_pred), r2_score(y_test, y_pred)\n",
    "adj_r2 = 1-(1-lasso.score(X, Y))*(len(Y)-1)/(len(Y)-X.shape[1]-1)\n",
    "print(\"MSE:\", mse)          \n",
    "print(\"RMSE:\", rmse)       \n",
    "print(\"MAE:\", mae)        \n",
    "print(\"R2 SCORE:\", r2)\n",
    "print(\"ADJUSTED R2 SCORE:\", adj_r2)\n",
    "res_mse.append(mse)\n",
    "res_rmse.append(rmse)\n",
    "res_mae.append(mae)\n",
    "res_r2.append(r2)\n",
    "print(\"\\n# CROSS VALIDATION #\")\n",
    "cross_val = cross_validate(lasso, X, Y, cv=5, return_train_score=True)\n",
    "print(\"FITTING TIME:\", cross_val['fit_time'], \"->\", cross_val['fit_time'].mean())\n",
    "print(\"SCORING TIME:\", cross_val['score_time'], \"->\", cross_val['score_time'].mean())\n",
    "print(\"TRAIN SCORE:\", cross_val['train_score'], \"->\", cross_val['train_score'].mean())\n",
    "res_cv_train.append(cross_val['train_score'].mean())\n",
    "print(\"TEST SCORE:\", cross_val['test_score'], \"->\", cross_val['test_score'].mean())\n",
    "res_cv_test.append(cross_val['test_score'].mean())"
   ]
  },
  {
   "cell_type": "markdown",
   "id": "9e137e3f",
   "metadata": {},
   "source": [
    "## 3 - Ridge Regression"
   ]
  },
  {
   "cell_type": "code",
   "execution_count": 226,
   "id": "eb2a0c2b",
   "metadata": {},
   "outputs": [
    {
     "data": {
      "text/plain": [
       "{'alpha': 1.0,\n",
       " 'copy_X': True,\n",
       " 'fit_intercept': True,\n",
       " 'max_iter': None,\n",
       " 'normalize': 'deprecated',\n",
       " 'positive': True,\n",
       " 'random_state': None,\n",
       " 'solver': 'auto',\n",
       " 'tol': 0.0001}"
      ]
     },
     "execution_count": 226,
     "metadata": {},
     "output_type": "execute_result"
    }
   ],
   "source": [
    "ridge = Ridge(alpha=1.0, fit_intercept=True, positive=True, tol=0.0001, solver='auto')\n",
    "ridge.get_params()"
   ]
  },
  {
   "cell_type": "code",
   "execution_count": 227,
   "id": "4f6f985e",
   "metadata": {},
   "outputs": [],
   "source": [
    "# Fit the training data into the ridge model, then make predictions on the test data\n",
    "ridge.fit(x_train, y_train)\n",
    "y_pred = ridge.predict(x_test)"
   ]
  },
  {
   "cell_type": "code",
   "execution_count": 228,
   "id": "fd113075",
   "metadata": {},
   "outputs": [
    {
     "name": "stdout",
     "output_type": "stream",
     "text": [
      "COEF: [0.00000000e+00 1.04308029e-06 5.39924282e-06 1.12850332e-06\n",
      " 0.00000000e+00 6.62795965e-07 0.00000000e+00 0.00000000e+00\n",
      " 0.00000000e+00 5.55885185e-06 0.00000000e+00 0.00000000e+00\n",
      " 4.61153206e-06 0.00000000e+00 0.00000000e+00 0.00000000e+00\n",
      " 0.00000000e+00 0.00000000e+00 0.00000000e+00 0.00000000e+00\n",
      " 0.00000000e+00 9.02409519e-07 2.48133363e-08 0.00000000e+00\n",
      " 0.00000000e+00 0.00000000e+00 5.77839648e-07 0.00000000e+00\n",
      " 1.46218015e-08 0.00000000e+00 0.00000000e+00 0.00000000e+00\n",
      " 0.00000000e+00 7.26984995e-08 0.00000000e+00 0.00000000e+00\n",
      " 0.00000000e+00 0.00000000e+00 0.00000000e+00 0.00000000e+00\n",
      " 0.00000000e+00 0.00000000e+00 0.00000000e+00 0.00000000e+00\n",
      " 0.00000000e+00 0.00000000e+00 0.00000000e+00 2.30753637e-06\n",
      " 0.00000000e+00 5.72573834e-07 0.00000000e+00 1.26965357e-05\n",
      " 6.03251510e-06 0.00000000e+00 2.71701743e-06 2.30737103e-06\n",
      " 0.00000000e+00 2.05364482e-03 4.27431464e-06]\n",
      "INTERCEPT: 91.77787248144757\n",
      "ITERATIONS: None\n"
     ]
    }
   ],
   "source": [
    "print(\"COEF:\", ridge.coef_)   # Weight vector(s)\n",
    "print(\"INTERCEPT:\", ridge.intercept_)   # Independent term in decision function\n",
    "print(\"ITERATIONS:\", ridge.n_iter_)   # Actual number of iterations for each target. (Only for 'sag' & 'lsqr' solvers)"
   ]
  },
  {
   "cell_type": "code",
   "execution_count": 229,
   "id": "5eea7c79",
   "metadata": {},
   "outputs": [
    {
     "name": "stdout",
     "output_type": "stream",
     "text": [
      "   95.96134360143965 |    181.0\n",
      "   95.61054112366328 |     26.5\n",
      "  101.74390061917396 |    107.0\n",
      "   98.87327082282891 |    118.5\n",
      "  100.27433180219754 |     44.5\n",
      "  100.30242685317111 |     60.0\n",
      "   97.79419530013647 |    179.5\n",
      "  101.57989169900829 |    115.0\n",
      "   107.8870224553937 |    100.0\n",
      "  101.37261308016159 |    129.5\n",
      "   97.85074563778184 |     64.5\n",
      "    96.4753736683707 |     65.5\n",
      "   101.3768461259988 |     93.5\n",
      "  108.65304819327412 |     92.5\n",
      "  106.58444612148344 |     99.5\n",
      "  105.06940256355568 |    112.5\n",
      "    96.9101810094806 |     65.0\n",
      "  102.91115033337331 |    124.0\n",
      "  100.94544811214783 |    134.5\n",
      "   98.60325292057415 |    237.5\n"
     ]
    }
   ],
   "source": [
    "# Compare the predicted values against the actual ones for the top 20 rows\n",
    "for i in range(20):\n",
    "    print(\"{:20} | {:8}\".format(y_pred[i], y_test.iloc[i]))"
   ]
  },
  {
   "cell_type": "code",
   "execution_count": 230,
   "id": "bbae7d0b",
   "metadata": {},
   "outputs": [
    {
     "name": "stdout",
     "output_type": "stream",
     "text": [
      "MSE: 1420.2748838288576\n",
      "RMSE: 37.686534516042435\n",
      "MAE: 30.09738878842735\n",
      "R2 SCORE: -0.006167422158877667\n",
      "ADJUSTED R2 SCORE: -0.08037454622527984\n",
      "\n",
      "# CROSS VALIDATION #\n",
      "FITTING TIME: [0.01425815 0.01220512 0.00900674 0.00776935 0.00397825] -> 0.009443521499633789\n",
      "SCORING TIME: [0.00149465 0.00199938 0.00155544 0.00203848 0.00182748] -> 0.0017830848693847657\n",
      "TRAIN SCORE: [0.37791108 0.3945668  0.24368643 0.23847755 0.00308879] -> 0.2515461290774856\n",
      "TEST SCORE: [0.20584996 0.57469989 0.19814021 0.24443538 0.01033325] -> 0.24669173735156366\n"
     ]
    }
   ],
   "source": [
    "# Results of metrics\n",
    "mse, rmse, mae, r2 = mean_squared_error(y_test, y_pred), mean_squared_error(y_test, y_pred, squared=False), \\\n",
    "    mean_absolute_error(y_test, y_pred), r2_score(y_test, y_pred)\n",
    "adj_r2 = 1-(1-ridge.score(X, Y))*(len(Y)-1)/(len(Y)-X.shape[1]-1)\n",
    "print(\"MSE:\", mse)        \n",
    "print(\"RMSE:\", rmse)      \n",
    "print(\"MAE:\", mae)        \n",
    "print(\"R2 SCORE:\", r2)  \n",
    "print(\"ADJUSTED R2 SCORE:\", adj_r2)\n",
    "res_mse.append(mse)\n",
    "res_rmse.append(rmse)\n",
    "res_mae.append(mae)\n",
    "res_r2.append(r2)\n",
    "print(\"\\n# CROSS VALIDATION #\")\n",
    "cross_val = cross_validate(ridge, X, Y, cv=5, return_train_score=True)\n",
    "print(\"FITTING TIME:\", cross_val['fit_time'], \"->\", cross_val['fit_time'].mean())\n",
    "print(\"SCORING TIME:\", cross_val['score_time'], \"->\", cross_val['score_time'].mean())\n",
    "print(\"TRAIN SCORE:\", cross_val['train_score'], \"->\", cross_val['train_score'].mean())\n",
    "res_cv_train.append(cross_val['train_score'].mean())\n",
    "print(\"TEST SCORE:\", cross_val['test_score'], \"->\", cross_val['test_score'].mean())\n",
    "res_cv_test.append(cross_val['test_score'].mean())"
   ]
  },
  {
   "cell_type": "markdown",
   "id": "ff12b57c",
   "metadata": {},
   "source": [
    "## 4 - Polynomial Regression"
   ]
  },
  {
   "cell_type": "code",
   "execution_count": 231,
   "id": "5d31a350",
   "metadata": {},
   "outputs": [
    {
     "data": {
      "text/plain": [
       "{'degree': 2, 'include_bias': True, 'interaction_only': True, 'order': 'C'}"
      ]
     },
     "execution_count": 231,
     "metadata": {},
     "output_type": "execute_result"
    }
   ],
   "source": [
    "poly_feat = PolynomialFeatures(degree=2, include_bias=True, interaction_only=True, order='C')\n",
    "poly_feat.get_params()"
   ]
  },
  {
   "cell_type": "code",
   "execution_count": 232,
   "id": "ab9eec13",
   "metadata": {},
   "outputs": [
    {
     "name": "stdout",
     "output_type": "stream",
     "text": [
      "(593, 1771) (149, 1771)\n"
     ]
    }
   ],
   "source": [
    "# Fit then transform for both training and test data (the number of columns must increase)\n",
    "x_poly_train = poly_feat.fit_transform(x_train)\n",
    "x_poly_test = poly_feat.fit_transform(x_test)\n",
    "print(x_poly_train.shape, x_poly_test.shape)"
   ]
  },
  {
   "cell_type": "markdown",
   "id": "775e5eed",
   "metadata": {},
   "source": [
    "### Polynomial Regression with Lasso"
   ]
  },
  {
   "cell_type": "code",
   "execution_count": 233,
   "id": "07240f4c",
   "metadata": {},
   "outputs": [],
   "source": [
    "lasso = Lasso(max_iter=5000)\n",
    "lasso.fit(x_poly_train, y_train)\n",
    "y_poly_pred = lasso.predict(x_poly_test)"
   ]
  },
  {
   "cell_type": "code",
   "execution_count": 234,
   "id": "fd9c432f",
   "metadata": {},
   "outputs": [
    {
     "name": "stdout",
     "output_type": "stream",
     "text": [
      "MSE: 762.7280952397249\n",
      "RMSE: 27.617532388678843\n",
      "MAE: 20.977345652990195\n",
      "R2 SCORE: 0.4596594151361617\n",
      "\n",
      "# CROSS VALIDATION #\n",
      "FITTING TIME: [0.01124072 0.00402355 0.00356698 0.00454259 0.00399804] -> 0.005474376678466797\n",
      "SCORING TIME: [0.00104523 0.00100064 0.0019753  0.00103307 0.00255847] -> 0.0015225410461425781\n",
      "TRAIN SCORE: [0.52409118 0.45622454 0.47618556 0.49148944 0.49690886] -> 0.48897991728531787\n",
      "TEST SCORE: [0.36933757 0.55213828 0.41244153 0.49664957 0.33625983] -> 0.4333653559606619\n"
     ]
    }
   ],
   "source": [
    "# Results of metrics\n",
    "mse, rmse, mae, r2 = mean_squared_error(y_test, y_poly_pred), mean_squared_error(y_test, y_poly_pred, squared=False), \\\n",
    "    mean_absolute_error(y_test, y_poly_pred), r2_score(y_test, y_poly_pred)\n",
    "print(\"MSE:\", mse)          \n",
    "print(\"RMSE:\", rmse)     \n",
    "print(\"MAE:\", mae)         \n",
    "print(\"R2 SCORE:\", r2)    \n",
    "res_mse.append(mse)\n",
    "res_rmse.append(rmse)\n",
    "res_mae.append(mae)\n",
    "res_r2.append(r2)\n",
    "print(\"\\n# CROSS VALIDATION #\")\n",
    "cross_val = cross_validate(lasso, X, Y, cv=5, return_train_score=True)\n",
    "print(\"FITTING TIME:\", cross_val['fit_time'], \"->\", cross_val['fit_time'].mean())\n",
    "print(\"SCORING TIME:\", cross_val['score_time'], \"->\", cross_val['score_time'].mean())\n",
    "print(\"TRAIN SCORE:\", cross_val['train_score'], \"->\", cross_val['train_score'].mean())\n",
    "res_cv_train.append(cross_val['train_score'].mean())\n",
    "print(\"TEST SCORE:\", cross_val['test_score'], \"->\", cross_val['test_score'].mean())\n",
    "res_cv_test.append(cross_val['test_score'].mean())"
   ]
  },
  {
   "cell_type": "markdown",
   "id": "d6246723",
   "metadata": {},
   "source": [
    "### Polynomial Regression with Ridge"
   ]
  },
  {
   "cell_type": "code",
   "execution_count": 235,
   "id": "72dc304d",
   "metadata": {},
   "outputs": [],
   "source": [
    "ridge = Ridge(max_iter=4000)\n",
    "ridge.fit(x_poly_train, y_train)\n",
    "y_poly_pred = ridge.predict(x_poly_test)"
   ]
  },
  {
   "cell_type": "code",
   "execution_count": 236,
   "id": "d0ec07aa",
   "metadata": {},
   "outputs": [
    {
     "name": "stdout",
     "output_type": "stream",
     "text": [
      "MSE: 971.6723330390344\n",
      "RMSE: 31.17165913195886\n",
      "MAE: 20.2701168255238\n",
      "R2 SCORE: 0.3116367418387751\n",
      "\n",
      "# CROSS VALIDATION #\n",
      "FITTING TIME: [0.00600481 0.00394726 0.00350738 0.00199842 0.00354004] -> 0.003799581527709961\n",
      "SCORING TIME: [0.00100851 0.00099921 0.00200844 0.00100064 0.00097466] -> 0.0011982917785644531\n",
      "TRAIN SCORE: [0.63633899 0.59446194 0.62079526 0.62261103 0.65184184] -> 0.6252098121175559\n",
      "TEST SCORE: [0.46225048 0.65932161 0.58523724 0.58936796 0.45925237] -> 0.5510859313065023\n"
     ]
    }
   ],
   "source": [
    "# Results of metrics\n",
    "mse, rmse, mae, r2 = mean_squared_error(y_test, y_poly_pred), mean_squared_error(y_test, y_poly_pred, squared=False), \\\n",
    "    mean_absolute_error(y_test, y_poly_pred), r2_score(y_test, y_poly_pred)\n",
    "print(\"MSE:\", mse)        \n",
    "print(\"RMSE:\", rmse)       \n",
    "print(\"MAE:\", mae)          \n",
    "print(\"R2 SCORE:\", r2)      \n",
    "res_mse.append(mse)\n",
    "res_rmse.append(rmse)\n",
    "res_mae.append(mae)\n",
    "res_r2.append(r2)\n",
    "print(\"\\n# CROSS VALIDATION #\")\n",
    "cross_val = cross_validate(ridge, X, Y, cv=5, return_train_score=True)\n",
    "print(\"FITTING TIME:\", cross_val['fit_time'], \"->\", cross_val['fit_time'].mean())\n",
    "print(\"SCORING TIME:\", cross_val['score_time'], \"->\", cross_val['score_time'].mean())\n",
    "print(\"TRAIN SCORE:\", cross_val['train_score'], \"->\", cross_val['train_score'].mean())\n",
    "res_cv_train.append(cross_val['train_score'].mean())\n",
    "print(\"TEST SCORE:\", cross_val['test_score'], \"->\", cross_val['test_score'].mean())\n",
    "res_cv_test.append(cross_val['test_score'].mean())"
   ]
  },
  {
   "cell_type": "markdown",
   "id": "93055359",
   "metadata": {},
   "source": [
    "## 5 - Decision Tree Regression"
   ]
  },
  {
   "cell_type": "code",
   "execution_count": 237,
   "id": "43444db7",
   "metadata": {},
   "outputs": [
    {
     "data": {
      "text/plain": [
       "{'ccp_alpha': 0.0,\n",
       " 'criterion': 'absolute_error',\n",
       " 'max_depth': None,\n",
       " 'max_features': 'log2',\n",
       " 'max_leaf_nodes': 10,\n",
       " 'min_impurity_decrease': 0.2,\n",
       " 'min_samples_leaf': 1,\n",
       " 'min_samples_split': 2,\n",
       " 'min_weight_fraction_leaf': 0.0,\n",
       " 'random_state': None,\n",
       " 'splitter': 'random'}"
      ]
     },
     "execution_count": 237,
     "metadata": {},
     "output_type": "execute_result"
    }
   ],
   "source": [
    "dtree = DecisionTreeRegressor(criterion='absolute_error', splitter='random', max_depth=None, min_samples_split=2,\n",
    "                             min_samples_leaf=1, min_weight_fraction_leaf=0.0, max_features='log2', max_leaf_nodes=10,\n",
    "                             min_impurity_decrease=0.2, ccp_alpha=0.0)\n",
    "dtree.get_params()"
   ]
  },
  {
   "cell_type": "code",
   "execution_count": 238,
   "id": "5ce2f64d",
   "metadata": {},
   "outputs": [],
   "source": [
    "# In every execution, decision tree can produce slightly different results, thus 8 of them are recorded\n",
    "dtree_mse, dtree_rmse, dtree_mae, dtree_r2 = [], [], [], []\n",
    "for _ in range(8):\n",
    "    # Fit the training data into the decision tree and make predictions on the test data\n",
    "    dtree.fit(x_train, y_train)\n",
    "    y_pred = dtree.predict(x_test)\n",
    "    # Append the results of metrics into the corresponding lists\n",
    "    dtree_mse.append(round(mean_squared_error(y_test, y_pred), 2))\n",
    "    dtree_rmse.append(round(mean_squared_error(y_test, y_pred, squared=False), 3))\n",
    "    dtree_mae.append(round(mean_absolute_error(y_test, y_pred), 3))\n",
    "    dtree_r2.append(round(r2_score(y_test, y_pred), 4))"
   ]
  },
  {
   "cell_type": "code",
   "execution_count": 239,
   "id": "2ed939f4",
   "metadata": {},
   "outputs": [
    {
     "name": "stdout",
     "output_type": "stream",
     "text": [
      "MSE: [1222.58, 1167.22, 1402.61, 1104.14, 1178.93, 1295.86, 1451.26, 1068.5] -> 1236.39\n",
      "RMSE: [34.965, 34.165, 37.451, 33.229, 34.336, 35.998, 38.095, 32.688] -> 35.116\n",
      "MAE: [27.05, 27.738, 28.805, 25.379, 26.446, 28.07, 29.076, 25.807] -> 27.296\n",
      "R2 SCORE: [0.1339, 0.1731, 0.0063, 0.2178, 0.1648, 0.082, -0.0281, 0.243] -> 0.1241\n",
      "\n",
      "# CROSS VALIDATION #\n",
      "FITTING TIME: [0.00700784 0.00628209 0.01055288 0.00716352 0.00657392] -> 0.007516050338745117\n",
      "SCORING TIME: [0.00234365 0.00153589 0.00099874 0.00100446 0.00099111] -> 0.0013747692108154296\n",
      "TRAIN SCORE: [0.02197781 0.29173178 0.30946057 0.13196569 0.23166037] -> 0.19735924637757735\n",
      "TEST SCORE: [-0.04018435  0.52764595  0.25163149  0.1492391   0.29474241] -> 0.23661491864678075\n"
     ]
    }
   ],
   "source": [
    "# Results of metrics (all produced results, plus their averages)\n",
    "mse, rmse, mae, r2 = round(sum(dtree_mse) / len(dtree_mse), 2), round(sum(dtree_rmse) / len(dtree_rmse), 3), \\\n",
    "    round(sum(dtree_mae) / len(dtree_mae), 3), round(sum(dtree_r2) / len(dtree_r2), 4)\n",
    "print(\"MSE:\", dtree_mse, '->', mse)\n",
    "print(\"RMSE:\", dtree_rmse, '->', rmse)\n",
    "print(\"MAE:\", dtree_mae, '->', mae)\n",
    "print(\"R2 SCORE:\", dtree_r2, '->', r2)\n",
    "res_mse.append(mse)\n",
    "res_rmse.append(rmse)\n",
    "res_mae.append(mae)\n",
    "res_r2.append(r2)\n",
    "# Cross validation is executed only once\n",
    "print(\"\\n# CROSS VALIDATION #\")\n",
    "cross_val = cross_validate(dtree, X, Y, cv=5, return_train_score=True)\n",
    "print(\"FITTING TIME:\", cross_val['fit_time'], \"->\", cross_val['fit_time'].mean())\n",
    "print(\"SCORING TIME:\", cross_val['score_time'], \"->\", cross_val['score_time'].mean())\n",
    "print(\"TRAIN SCORE:\", cross_val['train_score'], \"->\", cross_val['train_score'].mean())\n",
    "res_cv_train.append(cross_val['train_score'].mean())\n",
    "print(\"TEST SCORE:\", cross_val['test_score'], \"->\", cross_val['test_score'].mean())\n",
    "res_cv_test.append(cross_val['test_score'].mean())"
   ]
  },
  {
   "cell_type": "markdown",
   "id": "f4e9a3a8",
   "metadata": {},
   "source": [
    "## 6 - Random Forest Regression"
   ]
  },
  {
   "cell_type": "code",
   "execution_count": 240,
   "id": "9a96af3a",
   "metadata": {},
   "outputs": [
    {
     "data": {
      "text/plain": [
       "{'bootstrap': True,\n",
       " 'ccp_alpha': 0.2,\n",
       " 'criterion': 'friedman_mse',\n",
       " 'max_depth': 20,\n",
       " 'max_features': None,\n",
       " 'max_leaf_nodes': None,\n",
       " 'max_samples': None,\n",
       " 'min_impurity_decrease': 0.0,\n",
       " 'min_samples_leaf': 4,\n",
       " 'min_samples_split': 4,\n",
       " 'min_weight_fraction_leaf': 0.1,\n",
       " 'n_estimators': 100,\n",
       " 'n_jobs': None,\n",
       " 'oob_score': False,\n",
       " 'random_state': None,\n",
       " 'verbose': 0,\n",
       " 'warm_start': False}"
      ]
     },
     "execution_count": 240,
     "metadata": {},
     "output_type": "execute_result"
    }
   ],
   "source": [
    "rforest = RandomForestRegressor(n_estimators=100, criterion='friedman_mse', max_depth=20, min_samples_split=4, \n",
    "                                min_samples_leaf=4, min_weight_fraction_leaf=0.1, max_features=None, max_leaf_nodes=None,\n",
    "                                bootstrap=True, warm_start=False, ccp_alpha=0.2, max_samples=None)\n",
    "rforest.get_params()"
   ]
  },
  {
   "cell_type": "code",
   "execution_count": 241,
   "id": "68c1f55f",
   "metadata": {},
   "outputs": [],
   "source": [
    "# In every execution, random forest can produce slightly different results, so 5 of them are recorded\n",
    "rforest_mse, rforest_rmse, rforest_mae, rforest_r2 = [], [], [], []\n",
    "for _ in range(5):\n",
    "    # Fit the training data into the random forest, then make predictions on the test data\n",
    "    rforest.fit(x_train, y_train)\n",
    "    y_pred = rforest.predict(x_test)\n",
    "    rforest_mse.append(round(mean_squared_error(y_test, y_pred), 2))\n",
    "    rforest_rmse.append(round(mean_squared_error(y_test, y_pred, squared=False), 3))\n",
    "    rforest_mae.append(round(mean_absolute_error(y_test, y_pred), 3))\n",
    "    rforest_r2.append(round(r2_score(y_test, y_pred), 4))"
   ]
  },
  {
   "cell_type": "code",
   "execution_count": 242,
   "id": "83ed4889",
   "metadata": {},
   "outputs": [
    {
     "name": "stdout",
     "output_type": "stream",
     "text": [
      "MSE: [999.71, 982.43, 980.44, 976.47, 982.88] -> 984.386\n",
      "RMSE: [31.618, 31.344, 31.312, 31.248, 31.351] -> 31.3746\n",
      "MAE: [25.512, 25.404, 25.271, 25.092, 25.471] -> 25.35\n",
      "R2 SCORE: [0.2918, 0.304, 0.3054, 0.3082, 0.3037] -> 0.3026\n",
      "\n",
      "# CROSS VALIDATION #\n",
      "FITTING TIME: [0.13292265 0.13988805 0.12717319 0.12745667 0.12978005] -> 0.1314441204071045\n",
      "SCORING TIME: [0.00655508 0.0077436  0.00604653 0.00679779 0.00752044] -> 0.006932687759399414\n",
      "TRAIN SCORE: [0.41172991 0.37906352 0.40552911 0.41312004 0.44302161] -> 0.4104928345793567\n",
      "TEST SCORE: [0.23797659 0.4392562  0.34201673 0.39428378 0.28354266] -> 0.33941519383911195\n"
     ]
    }
   ],
   "source": [
    "# Results of metrics (all produced results, plus their averages)\n",
    "mse, rmse, mae, r2 = round(sum(rforest_mse) / len(rforest_mse), 4), round(sum(rforest_rmse) / len(rforest_rmse), 4), \\\n",
    "    round(sum(rforest_mae) / len(rforest_mae), 4), round(sum(rforest_r2) / len(rforest_r2), 4)\n",
    "print(\"MSE:\", rforest_mse, '->', mse)\n",
    "print(\"RMSE:\", rforest_rmse, '->', rmse)\n",
    "print(\"MAE:\", rforest_mae, '->', mae)\n",
    "print(\"R2 SCORE:\", rforest_r2, '->', r2)\n",
    "res_mse.append(mse)\n",
    "res_rmse.append(rmse)\n",
    "res_mae.append(mae)\n",
    "res_r2.append(r2)\n",
    "# Cross validation is executed only once\n",
    "print(\"\\n# CROSS VALIDATION #\")\n",
    "cross_val = cross_validate(rforest, X, Y, cv=5, return_train_score=True)\n",
    "print(\"FITTING TIME:\", cross_val['fit_time'], \"->\", cross_val['fit_time'].mean())\n",
    "print(\"SCORING TIME:\", cross_val['score_time'], \"->\", cross_val['score_time'].mean())\n",
    "print(\"TRAIN SCORE:\", cross_val['train_score'], \"->\", cross_val['train_score'].mean())\n",
    "res_cv_train.append(cross_val['train_score'].mean())\n",
    "print(\"TEST SCORE:\", cross_val['test_score'], \"->\", cross_val['test_score'].mean())\n",
    "res_cv_test.append(cross_val['test_score'].mean())"
   ]
  },
  {
   "cell_type": "markdown",
   "id": "f4d8a657",
   "metadata": {},
   "source": [
    "## 7 - KNN Regression"
   ]
  },
  {
   "cell_type": "code",
   "execution_count": 243,
   "id": "60ec38bc",
   "metadata": {},
   "outputs": [
    {
     "data": {
      "text/plain": [
       "{'algorithm': 'auto',\n",
       " 'leaf_size': 100,\n",
       " 'metric': 'minkowski',\n",
       " 'metric_params': None,\n",
       " 'n_jobs': None,\n",
       " 'n_neighbors': 10,\n",
       " 'p': 1,\n",
       " 'weights': 'uniform'}"
      ]
     },
     "execution_count": 243,
     "metadata": {},
     "output_type": "execute_result"
    }
   ],
   "source": [
    "knnreg = KNeighborsRegressor(n_neighbors=10, leaf_size=100, weights='uniform', algorithm='auto', p=1)\n",
    "knnreg.get_params()"
   ]
  },
  {
   "cell_type": "code",
   "execution_count": 244,
   "id": "d31aa5bb",
   "metadata": {},
   "outputs": [],
   "source": [
    "# Fit the training data into the KNN regression model, then make predictions on the test data\n",
    "knnreg.fit(x_train, y_train)\n",
    "y_pred = knnreg.predict(x_test)"
   ]
  },
  {
   "cell_type": "code",
   "execution_count": 245,
   "id": "4d1ddcb8",
   "metadata": {},
   "outputs": [
    {
     "name": "stdout",
     "output_type": "stream",
     "text": [
      "EFFECTIVE METRIC: manhattan\n"
     ]
    }
   ],
   "source": [
    "print(\"EFFECTIVE METRIC:\", knnreg.effective_metric_)"
   ]
  },
  {
   "cell_type": "code",
   "execution_count": 246,
   "id": "c2160a35",
   "metadata": {},
   "outputs": [
    {
     "name": "stdout",
     "output_type": "stream",
     "text": [
      "               122.4 |    181.0\n",
      "               75.25 |     26.5\n",
      "               101.5 |    107.0\n",
      "               105.0 |    118.5\n",
      "                98.5 |     44.5\n",
      "               94.85 |     60.0\n",
      "               88.85 |    179.5\n",
      "                92.5 |    115.0\n",
      "               112.5 |    100.0\n",
      "               105.7 |    129.5\n",
      "               91.55 |     64.5\n",
      "                75.9 |     65.5\n",
      "                84.5 |     93.5\n",
      "               102.4 |     92.5\n",
      "               127.0 |     99.5\n",
      "              102.35 |    112.5\n",
      "               80.45 |     65.0\n",
      "              127.75 |    124.0\n",
      "               105.2 |    134.5\n",
      "               116.5 |    237.5\n"
     ]
    }
   ],
   "source": [
    "# Compare the predicted values against the actual ones for the first 20 rows\n",
    "for i in range(20):\n",
    "    print(\"{:20} | {:8}\".format(y_pred[i], y_test.iloc[i]))"
   ]
  },
  {
   "cell_type": "code",
   "execution_count": 247,
   "id": "0c22d3e4",
   "metadata": {},
   "outputs": [
    {
     "name": "stdout",
     "output_type": "stream",
     "text": [
      "MSE: 1245.8720302013423\n",
      "RMSE: 35.29691247405844\n",
      "MAE: 28.503691275167785\n",
      "R2 SCORE: 0.1173850476126671\n",
      "\n",
      "# CROSS VALIDATION #\n",
      "FITTING TIME: [0.00399971 0.00199699 0.00200462 0.00299954 0.00200653] -> 0.002601480484008789\n",
      "SCORING TIME: [0.00955129 0.00677538 0.00600791 0.00521851 0.00705099] -> 0.006920814514160156\n",
      "TRAIN SCORE: [0.31838534 0.26330277 0.21208856 0.23169416 0.23505322] -> 0.2521048117218123\n",
      "TEST SCORE: [-0.36710751 -0.01482489  0.22364871  0.17462435  0.16665135] -> 0.036598403026390544\n"
     ]
    }
   ],
   "source": [
    "# Results of metrics\n",
    "mse, rmse, mae, r2 = mean_squared_error(y_test, y_pred), mean_squared_error(y_test, y_pred, squared=False), \\\n",
    "    mean_absolute_error(y_test, y_pred), r2_score(y_test, y_pred)\n",
    "print(\"MSE:\", mse)          \n",
    "print(\"RMSE:\", rmse)       \n",
    "print(\"MAE:\", mae)         \n",
    "print(\"R2 SCORE:\", r2)     \n",
    "res_mse.append(mse)\n",
    "res_rmse.append(rmse)\n",
    "res_mae.append(mae)\n",
    "res_r2.append(r2)\n",
    "print(\"\\n# CROSS VALIDATION #\")\n",
    "cross_val = cross_validate(knnreg, X, Y, cv=5, return_train_score=True)\n",
    "print(\"FITTING TIME:\", cross_val['fit_time'], \"->\", cross_val['fit_time'].mean())\n",
    "print(\"SCORING TIME:\", cross_val['score_time'], \"->\", cross_val['score_time'].mean())\n",
    "print(\"TRAIN SCORE:\", cross_val['train_score'], \"->\", cross_val['train_score'].mean())\n",
    "res_cv_train.append(cross_val['train_score'].mean())\n",
    "print(\"TEST SCORE:\", cross_val['test_score'], \"->\", cross_val['test_score'].mean())\n",
    "res_cv_test.append(cross_val['test_score'].mean())"
   ]
  },
  {
   "cell_type": "markdown",
   "id": "7933e7ae",
   "metadata": {},
   "source": [
    "## 8 - Support Vector Machine Regression"
   ]
  },
  {
   "cell_type": "code",
   "execution_count": 248,
   "id": "62c8fbcc",
   "metadata": {},
   "outputs": [
    {
     "data": {
      "text/plain": [
       "{'C': 100,\n",
       " 'cache_size': 200,\n",
       " 'coef0': 0.0,\n",
       " 'degree': 3,\n",
       " 'epsilon': 0.1,\n",
       " 'gamma': 'scale',\n",
       " 'kernel': 'rbf',\n",
       " 'max_iter': -1,\n",
       " 'shrinking': True,\n",
       " 'tol': 0.001,\n",
       " 'verbose': False}"
      ]
     },
     "execution_count": 248,
     "metadata": {},
     "output_type": "execute_result"
    }
   ],
   "source": [
    "svr = SVR(kernel='rbf', coef0=0.0, epsilon=0.1, gamma='scale', tol=0.001, C=100, shrinking=True)\n",
    "svr.get_params()"
   ]
  },
  {
   "cell_type": "code",
   "execution_count": 249,
   "id": "028e3de1",
   "metadata": {},
   "outputs": [],
   "source": [
    "# Fit the training data into the SVR regression model, then make predictions on the test data\n",
    "svr.fit(x_train, y_train)\n",
    "y_pred = svr.predict(x_test)"
   ]
  },
  {
   "cell_type": "code",
   "execution_count": 250,
   "id": "dce713df",
   "metadata": {},
   "outputs": [
    {
     "name": "stdout",
     "output_type": "stream",
     "text": [
      "    90.5796423632825 |    181.0\n",
      "   91.60700505179713 |     26.5\n",
      "  100.94348579257306 |    107.0\n",
      "   92.98027436025667 |    118.5\n",
      "   97.37463008300986 |     44.5\n",
      "   97.55176911217201 |     60.0\n",
      "    90.3034104933621 |    179.5\n",
      "  100.69244498567066 |    115.0\n",
      "  101.67077273004821 |    100.0\n",
      "  100.30873675523101 |    129.5\n",
      "   90.39415156429082 |     64.5\n",
      "   89.67820030659152 |     65.5\n",
      "  100.12829925058529 |     93.5\n",
      "  102.82324002281834 |     92.5\n",
      "  101.13345223980882 |     99.5\n",
      "   101.1239092712508 |    112.5\n",
      "   89.44739419186061 |     65.0\n",
      "  101.88414429578171 |    124.0\n",
      "    99.1693381181682 |    134.5\n",
      "    92.2189680212803 |    237.5\n"
     ]
    }
   ],
   "source": [
    "# Compare the predicted values against the actual ones for the first 20 rows\n",
    "for i in range(20):\n",
    "    print(\"{:20} | {:8}\".format(y_pred[i], y_test.iloc[i]))"
   ]
  },
  {
   "cell_type": "code",
   "execution_count": 251,
   "id": "5ba356b2",
   "metadata": {},
   "outputs": [
    {
     "name": "stdout",
     "output_type": "stream",
     "text": [
      "MSE: 1467.1345764706282\n",
      "RMSE: 38.30319277123812\n",
      "MAE: 30.364947182390793\n",
      "R2 SCORE: -0.0393643030481754\n",
      "\n",
      "# CROSS VALIDATION #\n",
      "FITTING TIME: [0.02631354 0.02530956 0.02570248 0.02524185 0.02488828] -> 0.02549114227294922\n",
      "SCORING TIME: [0.01211977 0.01052642 0.01070833 0.01106501 0.01163983] -> 0.011211872100830078\n",
      "TRAIN SCORE: [0.00555428 0.0090045  0.00586817 0.00305963 0.00165096] -> 0.005027506326475817\n",
      "TEST SCORE: [-0.06673825 -0.03284472 -0.00801679  0.00365707  0.0116114 ] -> -0.018466258611774533\n"
     ]
    }
   ],
   "source": [
    "# Results of metrics\n",
    "mse, rmse, mae, r2 = mean_squared_error(y_test, y_pred), mean_squared_error(y_test, y_pred, squared=False), \\\n",
    "    mean_absolute_error(y_test, y_pred), r2_score(y_test, y_pred)\n",
    "print(\"MSE:\", mse)          \n",
    "print(\"RMSE:\", rmse)       \n",
    "print(\"MAE:\", mae)         \n",
    "print(\"R2 SCORE:\", r2)      \n",
    "res_mse.append(mse)\n",
    "res_rmse.append(rmse)\n",
    "res_mae.append(mae)\n",
    "res_r2.append(r2)\n",
    "print(\"\\n# CROSS VALIDATION #\")\n",
    "cross_val = cross_validate(svr, X, Y, cv=5, return_train_score=True)\n",
    "print(\"FITTING TIME:\", cross_val['fit_time'], \"->\", cross_val['fit_time'].mean())\n",
    "print(\"SCORING TIME:\", cross_val['score_time'], \"->\", cross_val['score_time'].mean())\n",
    "print(\"TRAIN SCORE:\", cross_val['train_score'], \"->\", cross_val['train_score'].mean())\n",
    "res_cv_train.append(cross_val['train_score'].mean())\n",
    "print(\"TEST SCORE:\", cross_val['test_score'], \"->\", cross_val['test_score'].mean())\n",
    "res_cv_test.append(cross_val['test_score'].mean())"
   ]
  },
  {
   "cell_type": "markdown",
   "id": "028bdbe5",
   "metadata": {},
   "source": [
    "## 9 - Multi-Layer Perceptron Regression"
   ]
  },
  {
   "cell_type": "code",
   "execution_count": 252,
   "id": "3f2a1ee8",
   "metadata": {},
   "outputs": [
    {
     "data": {
      "text/plain": [
       "{'activation': 'relu',\n",
       " 'alpha': 0.1,\n",
       " 'batch_size': 'auto',\n",
       " 'beta_1': 0.9,\n",
       " 'beta_2': 0.999,\n",
       " 'early_stopping': False,\n",
       " 'epsilon': 1e-09,\n",
       " 'hidden_layer_sizes': (100,),\n",
       " 'learning_rate': 'adaptive',\n",
       " 'learning_rate_init': 0.01,\n",
       " 'max_fun': 15000,\n",
       " 'max_iter': 1000,\n",
       " 'momentum': 0.9,\n",
       " 'n_iter_no_change': 10,\n",
       " 'nesterovs_momentum': True,\n",
       " 'power_t': 0.5,\n",
       " 'random_state': None,\n",
       " 'shuffle': True,\n",
       " 'solver': 'adam',\n",
       " 'tol': 0.01,\n",
       " 'validation_fraction': 0.5,\n",
       " 'verbose': False,\n",
       " 'warm_start': False}"
      ]
     },
     "execution_count": 252,
     "metadata": {},
     "output_type": "execute_result"
    }
   ],
   "source": [
    "mlpr = MLPRegressor(max_iter=1000, hidden_layer_sizes=(100,), activation='relu', solver='adam', alpha=0.1,\n",
    "                    learning_rate='adaptive', learning_rate_init=0.01, shuffle=True, tol=0.01, max_fun=15000,\n",
    "                    beta_1=0.9, beta_2=0.999, epsilon=1e-9, n_iter_no_change=10, early_stopping=False, validation_fraction=0.5)\n",
    "mlpr.get_params()"
   ]
  },
  {
   "cell_type": "code",
   "execution_count": 253,
   "id": "44874a13",
   "metadata": {},
   "outputs": [],
   "source": [
    "# Fit the training data into the multi-layer perceptron regression model, then make predictions on the test data\n",
    "mlpr.fit(x_train, y_train)\n",
    "y_pred = mlpr.predict(x_test)"
   ]
  },
  {
   "cell_type": "code",
   "execution_count": 254,
   "id": "02fd39ad",
   "metadata": {},
   "outputs": [
    {
     "name": "stdout",
     "output_type": "stream",
     "text": [
      "  127.09855151556066 |    181.0\n",
      "   62.02079175323108 |     26.5\n",
      "   131.6727043509097 |    107.0\n",
      "   76.64268950228698 |    118.5\n",
      "   39.97593235421725 |     44.5\n",
      "  62.870293271016735 |     60.0\n",
      "  119.76140466999486 |    179.5\n",
      "  110.22284020246592 |    115.0\n",
      "  105.81107566297696 |    100.0\n",
      "   99.12171499240286 |    129.5\n",
      "   93.68279467913963 |     64.5\n",
      "   75.05360509577048 |     65.5\n",
      "   71.20320265555925 |     93.5\n",
      "  121.85877813612841 |     92.5\n",
      "  61.649595408571074 |     99.5\n",
      "   103.7391842768029 |    112.5\n",
      "  54.347301778492195 |     65.0\n",
      "  102.15944164282091 |    124.0\n",
      "   81.49988464077511 |    134.5\n",
      "  125.80272574012382 |    237.5\n"
     ]
    }
   ],
   "source": [
    "# Compare the predicted values against the actual ones for the first 20 rows\n",
    "for i in range(20):\n",
    "    print(\"{:20} | {:8}\".format(y_pred[i], y_test.iloc[i]))"
   ]
  },
  {
   "cell_type": "code",
   "execution_count": 255,
   "id": "ca6fb8bd",
   "metadata": {},
   "outputs": [
    {
     "name": "stdout",
     "output_type": "stream",
     "text": [
      "MSE: 1033.534370121943\n",
      "RMSE: 32.14862936614784\n",
      "MAE: 25.96308826458373\n",
      "R2 SCORE: 0.26781172804045483\n"
     ]
    }
   ],
   "source": [
    "# Results of metrics\n",
    "mse, rmse, mae, r2 = mean_squared_error(y_test, y_pred), mean_squared_error(y_test, y_pred, squared=False), \\\n",
    "    mean_absolute_error(y_test, y_pred), r2_score(y_test, y_pred)\n",
    "print(\"MSE:\", mse)         \n",
    "print(\"RMSE:\", rmse)        \n",
    "print(\"MAE:\", mae)           \n",
    "print(\"R2 SCORE:\", r2)      \n",
    "res_mse.append(mse)\n",
    "res_rmse.append(rmse)\n",
    "res_mae.append(mae)\n",
    "res_r2.append(r2)\n",
    "# Cross validation is disabled due to taking lots of time for fitting\n",
    "# print(\"\\n# CROSS VALIDATION #\")\n",
    "# cross_val = cross_validate(mlpr, X, Y, cv=5, return_train_score=True)\n",
    "# print(\"FITTING TIME:\", cross_val['fit_time'], \"->\", cross_val['fit_time'].mean())\n",
    "# print(\"SCORING TIME:\", cross_val['score_time'], \"->\", cross_val['score_time'].mean())\n",
    "# print(\"TRAIN SCORE:\", cross_val['train_score'], \"->\", cross_val['train_score'].mean())\n",
    "# res_cv_train.append(cross_val['train_score'].mean())\n",
    "# print(\"TEST SCORE:\", cross_val['test_score'], \"->\", cross_val['test_score'].mean())\n",
    "# res_cv_test.append(cross_val['test_score'].mean())"
   ]
  },
  {
   "cell_type": "markdown",
   "id": "ef1c2fdd",
   "metadata": {},
   "source": [
    "## 10 - Gradient Boosting"
   ]
  },
  {
   "cell_type": "code",
   "execution_count": 256,
   "id": "7e9c4cfc",
   "metadata": {},
   "outputs": [
    {
     "data": {
      "text/plain": [
       "{'alpha': 0.9,\n",
       " 'ccp_alpha': 0.0,\n",
       " 'criterion': 'friedman_mse',\n",
       " 'init': None,\n",
       " 'learning_rate': 0.1,\n",
       " 'loss': 'squared_error',\n",
       " 'max_depth': 3,\n",
       " 'max_features': None,\n",
       " 'max_leaf_nodes': None,\n",
       " 'min_impurity_decrease': 0.0,\n",
       " 'min_samples_leaf': 1,\n",
       " 'min_samples_split': 2,\n",
       " 'min_weight_fraction_leaf': 0.0,\n",
       " 'n_estimators': 100,\n",
       " 'n_iter_no_change': None,\n",
       " 'random_state': None,\n",
       " 'subsample': 1.0,\n",
       " 'tol': 0.0001,\n",
       " 'validation_fraction': 0.1,\n",
       " 'verbose': 0,\n",
       " 'warm_start': False}"
      ]
     },
     "execution_count": 256,
     "metadata": {},
     "output_type": "execute_result"
    }
   ],
   "source": [
    "gradBoost = GradientBoostingRegressor()\n",
    "gradBoost.get_params()"
   ]
  },
  {
   "cell_type": "code",
   "execution_count": 257,
   "id": "65833d6f",
   "metadata": {},
   "outputs": [],
   "source": [
    "# Fit the training data into the Gradient boosting regression model, then make predictions on the test data\n",
    "gradBoost.fit(x_train, y_train)\n",
    "y_pred = gradBoost.predict(x_test)"
   ]
  },
  {
   "cell_type": "code",
   "execution_count": 258,
   "id": "2c5f80db",
   "metadata": {},
   "outputs": [
    {
     "name": "stdout",
     "output_type": "stream",
     "text": [
      "INIT: DummyRegressor()\n",
      "ESTIMATORS (FIRST 5):\n",
      "[[DecisionTreeRegressor(criterion='friedman_mse', max_depth=3,\n",
      "                        random_state=RandomState(MT19937) at 0x1F78FC7E440)]\n",
      " [DecisionTreeRegressor(criterion='friedman_mse', max_depth=3,\n",
      "                        random_state=RandomState(MT19937) at 0x1F78FC7E440)]\n",
      " [DecisionTreeRegressor(criterion='friedman_mse', max_depth=3,\n",
      "                        random_state=RandomState(MT19937) at 0x1F78FC7E440)]\n",
      " [DecisionTreeRegressor(criterion='friedman_mse', max_depth=3,\n",
      "                        random_state=RandomState(MT19937) at 0x1F78FC7E440)]\n",
      " [DecisionTreeRegressor(criterion='friedman_mse', max_depth=3,\n",
      "                        random_state=RandomState(MT19937) at 0x1F78FC7E440)]]\n",
      "# OF ESTIMATORS: 100\n",
      "# OF FEATURES: 59\n",
      "MAX FEATURES: 59\n",
      "FEATURE IMPORTANCES: [1.03211939e-01 1.16720237e-03 5.49630419e-02 9.41910151e-02\n",
      " 8.75690035e-03 1.54697432e-02 3.77567063e-02 0.00000000e+00\n",
      " 1.09266103e-02 1.27628126e-01 1.94047098e-03 0.00000000e+00\n",
      " 1.17292075e-01 3.02414025e-05 0.00000000e+00 0.00000000e+00\n",
      " 2.33483852e-05 3.95391322e-03 3.31655191e-04 0.00000000e+00\n",
      " 0.00000000e+00 1.67111809e-02 0.00000000e+00 0.00000000e+00\n",
      " 1.71392323e-03 4.43699854e-04 9.64634169e-03 1.62047376e-03\n",
      " 0.00000000e+00 0.00000000e+00 4.85534730e-04 6.22728604e-04\n",
      " 7.55356542e-04 2.65065108e-03 1.12288066e-03 1.59211053e-05\n",
      " 0.00000000e+00 0.00000000e+00 0.00000000e+00 4.04169633e-04\n",
      " 0.00000000e+00 0.00000000e+00 4.17557116e-04 0.00000000e+00\n",
      " 1.12732105e-06 2.70073611e-03 1.45596050e-03 3.23404022e-02\n",
      " 9.04662237e-02 1.39684855e-02 4.83088576e-03 5.51136055e-02\n",
      " 7.66327370e-02 0.00000000e+00 4.02592435e-03 2.98990275e-03\n",
      " 1.80654028e-03 8.40386683e-02 1.53753922e-02]\n",
      "TRAIN SCORE:\n",
      "[1407.88034654 1299.4629376  1208.73440276 1122.74885208 1049.91288717\n",
      "  986.10171218  932.94437254  886.69125589  842.50384684  806.27215313\n",
      "  773.52991144  744.53090554  718.54228578  694.42097522  673.86809293\n",
      "  650.37225888  632.1374446   607.38952606  594.38446137  578.11937284\n",
      "  564.85099454  553.0689528   541.52168926  534.38388042  519.74968571\n",
      "  508.97380175  498.97809846  490.54562759  482.08418839  476.24356492\n",
      "  469.34900221  465.07238181  459.48438519  453.48316842  449.08368034\n",
      "  442.07022811  437.3075839   431.2400176   426.6515656   422.87048544\n",
      "  417.39707609  413.27130304  408.74033779  405.60906321  401.7812825\n",
      "  398.43493663  395.90066288  390.72343353  387.84583169  385.45083368\n",
      "  382.88966954  378.44102777  374.74090625  372.69570301  370.74300174\n",
      "  368.57029431  366.80924616  364.59333542  361.54524726  358.21766639\n",
      "  353.78428282  351.13320305  347.91075309  346.02689457  345.11323584\n",
      "  343.63633586  342.60110862  341.00527957  336.79695127  335.45713251\n",
      "  330.90231976  330.11097612  329.02117237  325.70988541  323.71486621\n",
      "  319.20825963  315.23004822  314.06118035  312.95018025  311.84474437\n",
      "  310.50765554  307.73972992  301.33479952  298.92998374  295.05008652\n",
      "  294.08653852  292.69897351  291.57565826  290.19126294  289.67387572\n",
      "  287.40932606  286.30943328  285.50066588  284.1354077   282.65512629\n",
      "  282.07559998  281.08264081  280.30129366  278.43393201  278.02131161]\n"
     ]
    }
   ],
   "source": [
    "print(\"INIT:\", gradBoost.init_)  # The estimator that provides the initial predictions\n",
    "print(\"ESTIMATORS (FIRST 5):\\n{}\".format(gradBoost.estimators_[:5]))  # The collection of fitted sub-estimators\n",
    "# The number of estimators as selected by early stopping (if 'n_iter_no_change' is specified).\n",
    "# Otherwise, it is set to 'n_estimators'\n",
    "print(\"# OF ESTIMATORS:\", gradBoost.n_estimators_)\n",
    "print(\"# OF FEATURES:\", gradBoost.n_features_in_)  # Number of features seen during fit\n",
    "print(\"MAX FEATURES:\", gradBoost.max_features_)  # The inferred value of max_features\n",
    "print(\"FEATURE IMPORTANCES:\", gradBoost.feature_importances_)  # The impurity-based feature importances\n",
    "# The i'th score 'train_score[i]' is the loss of the model at iteration i on the in-bag sample.\n",
    "# If subsample == 1, this is the loss on the training data.\n",
    "print(\"TRAIN SCORE:\\n{}\".format(gradBoost.train_score_))"
   ]
  },
  {
   "cell_type": "code",
   "execution_count": 259,
   "id": "16ccbb31",
   "metadata": {},
   "outputs": [
    {
     "name": "stdout",
     "output_type": "stream",
     "text": [
      "  166.97717118221476 |    181.0\n",
      "   39.54962318873919 |     26.5\n",
      "  129.62247806120462 |    107.0\n",
      "   98.37553583651416 |    118.5\n",
      "    56.1154789809655 |     44.5\n",
      "   58.75918194558005 |     60.0\n",
      "  146.93120196034562 |    179.5\n",
      "  104.05371671241762 |    115.0\n",
      "  129.72749901226075 |    100.0\n",
      "   99.19367246294192 |    129.5\n",
      "   93.00946540472339 |     64.5\n",
      "   86.00811256677268 |     65.5\n",
      "   87.56255079308237 |     93.5\n",
      "  101.41104249917554 |     92.5\n",
      "   90.03318147211411 |     99.5\n",
      "   97.47172606741584 |    112.5\n",
      "   55.50468358700589 |     65.0\n",
      "  121.85673346920889 |    124.0\n",
      "  111.44432048728699 |    134.5\n",
      "    118.278895427102 |    237.5\n"
     ]
    }
   ],
   "source": [
    "# Compare the predicted values against the actual ones for the top 20 rows\n",
    "for i in range(20):\n",
    "    print(\"{:20} | {:8}\".format(y_pred[i], y_test.iloc[i]))"
   ]
  },
  {
   "cell_type": "code",
   "execution_count": 260,
   "id": "b1ba0c79",
   "metadata": {},
   "outputs": [
    {
     "name": "stdout",
     "output_type": "stream",
     "text": [
      "MSE: 564.0586818814818\n",
      "RMSE: 23.749919618421487\n",
      "MAE: 18.269783061412383\n",
      "R2 SCORE: 0.6004030794623183\n",
      "\n",
      "# CROSS VALIDATION #\n",
      "FITTING TIME: [0.09656167 0.08625913 0.0943923  0.09546328 0.08773422] -> 0.09208211898803711\n",
      "SCORING TIME: [0.00203919 0.0009973  0.00205302 0.0024395  0.00200009] -> 0.00190582275390625\n",
      "TRAIN SCORE: [0.83275073 0.80360033 0.7896563  0.8074805  0.81104067] -> 0.8089057062973147\n",
      "TEST SCORE: [0.43517021 0.63164253 0.7258918  0.71722491 0.55439774] -> 0.6128654380551419\n"
     ]
    }
   ],
   "source": [
    "# Results of metrics\n",
    "mse, rmse, mae, r2 = mean_squared_error(y_test, y_pred), mean_squared_error(y_test, y_pred, squared=False), \\\n",
    "    mean_absolute_error(y_test, y_pred), r2_score(y_test, y_pred)\n",
    "print(\"MSE:\", mse)        \n",
    "print(\"RMSE:\", rmse)      \n",
    "print(\"MAE:\", mae)        \n",
    "print(\"R2 SCORE:\", r2)  \n",
    "res_mse.append(mse)\n",
    "res_rmse.append(rmse)\n",
    "res_mae.append(mae)\n",
    "res_r2.append(r2)\n",
    "print(\"\\n# CROSS VALIDATION #\")\n",
    "cross_val = cross_validate(gradBoost, X, Y, cv=5, return_train_score=True)\n",
    "print(\"FITTING TIME:\", cross_val['fit_time'], \"->\", cross_val['fit_time'].mean())\n",
    "print(\"SCORING TIME:\", cross_val['score_time'], \"->\", cross_val['score_time'].mean())\n",
    "print(\"TRAIN SCORE:\", cross_val['train_score'], \"->\", cross_val['train_score'].mean())\n",
    "res_cv_train.append(cross_val['train_score'].mean())\n",
    "print(\"TEST SCORE:\", cross_val['test_score'], \"->\", cross_val['test_score'].mean())\n",
    "res_cv_test.append(cross_val['test_score'].mean())"
   ]
  },
  {
   "cell_type": "markdown",
   "id": "3fc1a63b",
   "metadata": {},
   "source": [
    "## Results of Metrics of All ML Models Together"
   ]
  },
  {
   "cell_type": "code",
   "execution_count": 262,
   "id": "4ed9b5b1",
   "metadata": {},
   "outputs": [
    {
     "data": {
      "image/png": "[encoded data removed]",
      "text/plain": [
       "<Figure size 900x450 with 1 Axes>"
      ]
     },
     "metadata": {},
     "output_type": "display_data"
    }
   ],
   "source": [
    "methods = ['LinReg', 'Lasso', 'Ridge', 'PolyLasso', 'PolyRidge', 'DTree', 'RForest', 'KNNReg', 'SVMReg',\n",
    "           'MLPR', 'GradBoost']\n",
    "plt.figure(figsize=(9,4.5))\n",
    "plt.barh(range(11), res_mse, color='#00afff')\n",
    "plt.title(\"MSE Results\", fontsize=18, fontweight='bold')\n",
    "plt.yticks(range(11), methods)\n",
    "plt.ylim(10.7,-0.7)\n",
    "plt.xlabel('MSE Values', fontsize=13, fontweight='bold')\n",
    "plt.ylabel('ML Models', fontsize=13, fontweight='bold')\n",
    "for i in range(11):\n",
    "    plt.text(res_mse[i]-150, i+0.12, \"{:.2f}\".format(res_mse[i]), fontweight='bold')\n",
    "plt.show()"
   ]
  },
  {
   "cell_type": "code",
   "execution_count": 263,
   "id": "9cb780f3",
   "metadata": {},
   "outputs": [
    {
     "data": {
      "image/png": "[encoded data removed]",
      "text/plain": [
       "<Figure size 900x450 with 1 Axes>"
      ]
     },
     "metadata": {},
     "output_type": "display_data"
    }
   ],
   "source": [
    "plt.figure(figsize=(9,4.5))\n",
    "plt.barh(range(11), res_rmse, color='#00afff')\n",
    "plt.title(\"RMSE Results\", fontsize=18, fontweight='bold')\n",
    "plt.yticks(range(11), methods)\n",
    "plt.ylim(10.7,-0.7)\n",
    "plt.xlabel('RMSE Values', fontsize=13, fontweight='bold')\n",
    "plt.ylabel('ML Models', fontsize=13, fontweight='bold')\n",
    "for i in range(11):\n",
    "    plt.text(res_rmse[i]-3, i+0.12, \"{:.2f}\".format(res_rmse[i]), fontweight='bold')\n",
    "plt.show()"
   ]
  },
  {
   "cell_type": "code",
   "execution_count": 266,
   "id": "5010e2de",
   "metadata": {},
   "outputs": [
    {
     "data": {
      "image/png": "[encoded data removed]",
      "text/plain": [
       "<Figure size 900x450 with 1 Axes>"
      ]
     },
     "metadata": {},
     "output_type": "display_data"
    }
   ],
   "source": [
    "plt.figure(figsize=(9,4.5))\n",
    "plt.barh(range(11), res_mae, color='#00afff')\n",
    "plt.title(\"MAE Results\", fontsize=18, fontweight='bold')\n",
    "plt.yticks(range(11), methods)\n",
    "plt.ylim(10.7,-0.7)\n",
    "plt.xlabel('MAE Values', fontsize=13, fontweight='bold')\n",
    "plt.ylabel('ML Models', fontsize=13, fontweight='bold')\n",
    "for i in range(11):\n",
    "    plt.text(res_mae[i]-2.5, i+0.12, \"{:.2f}\".format(res_mae[i]), fontweight='bold')\n",
    "plt.show()"
   ]
  },
  {
   "cell_type": "code",
   "execution_count": 267,
   "id": "728cc9bc",
   "metadata": {},
   "outputs": [
    {
     "data": {
      "image/png": "[encoded data removed]",
      "text/plain": [
       "<Figure size 900x450 with 1 Axes>"
      ]
     },
     "metadata": {},
     "output_type": "display_data"
    }
   ],
   "source": [
    "plt.figure(figsize=(9,4.5))\n",
    "plt.barh(range(11), res_r2, color='#00afff')\n",
    "plt.title(\"R2 Score Results\", fontsize=18, fontweight='bold')\n",
    "plt.yticks(range(11), methods)\n",
    "plt.ylim(10.7,-0.7)\n",
    "plt.xlabel('R2 Scores', fontsize=13, fontweight='bold')\n",
    "plt.ylabel('ML Models', fontsize=13, fontweight='bold')\n",
    "for i in range(11):\n",
    "    plt.text(res_r2[i]-0.06, i+0.12, \"{:.4f}\".format(res_r2[i]), fontweight='bold')\n",
    "plt.show()"
   ]
  },
  {
   "cell_type": "code",
   "execution_count": 278,
   "id": "99504b71",
   "metadata": {},
   "outputs": [
    {
     "data": {
      "image/png": "[encoded data removed]",
      "text/plain": [
       "<Figure size 900x450 with 1 Axes>"
      ]
     },
     "metadata": {},
     "output_type": "display_data"
    }
   ],
   "source": [
    "plt.figure(figsize=(9,4.5))\n",
    "plt.barh(range(10), res_cv_train, color='#00afff')\n",
    "plt.title(\"5-Fold CV Results (Train)\", fontsize=18, fontweight='bold')\n",
    "plt.yticks(range(10), methods[:9]+[methods[10]])\n",
    "plt.ylim(9.7,-0.7)\n",
    "plt.xlabel('Train Scores', fontsize=13, fontweight='bold')\n",
    "plt.ylabel('ML Models', fontsize=13, fontweight='bold')\n",
    "for i in range(10):\n",
    "    plt.text(res_cv_train[i]-0.08, i+0.12, \"{:.4f}\".format(res_cv_train[i]), fontweight='bold')\n",
    "plt.show()"
   ]
  },
  {
   "cell_type": "code",
   "execution_count": 279,
   "id": "a6ce2667",
   "metadata": {},
   "outputs": [
    {
     "data": {
      "image/png": "[encoded data removed]",
      "text/plain": [
       "<Figure size 900x450 with 1 Axes>"
      ]
     },
     "metadata": {},
     "output_type": "display_data"
    }
   ],
   "source": [
    "plt.figure(figsize=(9,4.5))\n",
    "plt.barh(range(10), res_cv_test, color='#00afff')\n",
    "plt.title(\"5-Fold CV Results (Test)\", fontsize=18, fontweight='bold')\n",
    "plt.yticks(range(10), methods[:9]+[methods[10]])\n",
    "plt.ylim(9.7,-0.7)\n",
    "plt.xlabel('Test Scores', fontsize=13, fontweight='bold')\n",
    "plt.ylabel('ML Models', fontsize=13, fontweight='bold')\n",
    "for i in range(10):\n",
    "    plt.text(res_cv_test[i]-0.06, i+0.12, \"{:.4f}\".format(res_cv_test[i]), fontweight='bold')\n",
    "plt.show()"
   ]
  }
 ],
 "metadata": {
  "kernelspec": {
   "display_name": "Python 3 (ipykernel)",
   "language": "python",
   "name": "python3"
  },
  "language_info": {
   "codemirror_mode": {
    "name": "ipython",
    "version": 3
   },
   "file_extension": ".py",
   "mimetype": "text/x-python",
   "name": "python",
   "nbconvert_exporter": "python",
   "pygments_lexer": "ipython3",
   "version": "3.10.8"
  }
 },
 "nbformat": 4,
 "nbformat_minor": 5
}
