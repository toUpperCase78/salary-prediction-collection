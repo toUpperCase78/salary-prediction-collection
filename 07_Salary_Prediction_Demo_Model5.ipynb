{
 "cells": [
  {
   "cell_type": "markdown",
   "id": "fab43df4",
   "metadata": {},
   "source": [
    "# 07. bonniema/salary-predictor\n",
    "\n",
    "## Model 5: Pre-trained Word2Vec as the Embedding Layer\n",
    "\n",
    "## Import libraries and the final salary dataset"
   ]
  },
  {
   "cell_type": "code",
   "execution_count": 32,
   "id": "5482f7a8",
   "metadata": {},
   "outputs": [
    {
     "name": "stderr",
     "output_type": "stream",
     "text": [
      "[nltk_data] Downloading package stopwords to C:\\Users\\Doğan Yiğit\n",
      "[nltk_data]     Yenigün\\AppData\\Roaming\\nltk_data...\n",
      "[nltk_data]   Package stopwords is already up-to-date!\n"
     ]
    }
   ],
   "source": [
    "import time\n",
    "from time import time\n",
    "from pprint import pprint\n",
    "import pickle\n",
    "import pandas as pd\n",
    "import numpy as np\n",
    "import seaborn as sns\n",
    "import matplotlib.pyplot as plt\n",
    "import logging\n",
    "\n",
    "# NLP\n",
    "import nltk\n",
    "nltk.download('stopwords')\n",
    "from nltk.corpus import stopwords\n",
    "from nltk import word_tokenize, FreqDist\n",
    "from nltk.collocations import *\n",
    "import string, re\n",
    "from gensim.models import Word2Vec\n",
    "from sklearn.manifold import TSNE\n",
    "from sklearn.feature_extraction.text import TfidfVectorizer\n",
    "\n",
    "# Model Data Preparation\n",
    "from sklearn.model_selection import train_test_split\n",
    "from sklearn.preprocessing import StandardScaler, OneHotEncoder\n",
    "from sklearn.impute import SimpleImputer\n",
    "\n",
    "# Machine Learning\n",
    "from sklearn.metrics import accuracy_score, f1_score, mean_squared_error, r2_score\n",
    "from sklearn.ensemble import RandomForestRegressor, RandomForestClassifier\n",
    "from sklearn.ensemble import GradientBoostingClassifier\n",
    "from sklearn.feature_extraction.text import CountVectorizer, TfidfTransformer\n",
    "from sklearn.decomposition import PCA\n",
    "from sklearn.svm import SVC\n",
    "from sklearn.svm import SVR\n",
    "from sklearn.linear_model import LinearRegression, SGDClassifier\n",
    "from sklearn.pipeline import Pipeline\n",
    "from sklearn.model_selection import cross_val_score\n",
    "from sklearn.model_selection import GridSearchCV\n",
    "from sklearn.metrics import confusion_matrix\n",
    "\n",
    "# Deep learning\n",
    "import tensorflow as tf\n",
    "# from keras.preprocessing.sequence import pad_sequences\n",
    "from keras.utils import pad_sequences\n",
    "from keras.layers import Input, Dense, LSTM, Embedding, GRU\n",
    "from keras.layers import Dropout, Activation, Bidirectional, GlobalMaxPool1D\n",
    "from keras.layers.convolutional import Conv1D, Conv2D\n",
    "from keras.layers.convolutional import MaxPooling1D, MaxPooling2D\n",
    "from keras.models import Sequential\n",
    "from keras import initializers, regularizers, constraints, optimizers, layers\n",
    "from keras.preprocessing import text, sequence\n",
    "from keras.layers import Flatten\n",
    "from keras.utils import to_categorical\n",
    "from keras.callbacks import EarlyStopping\n",
    "from keras import regularizers\n",
    "from keras.wrappers.scikit_learn import KerasClassifier #to use Keras in sklearn\n",
    "from keras.initializers import Constant\n",
    "\n",
    "# Deep Learning - Mixed inputs\n",
    "# from keras.layers.normalization import BatchNormalization\n",
    "from tensorflow.keras.layers import BatchNormalization\n",
    "from keras.layers.core import Activation\n",
    "from keras.layers.core import Dropout\n",
    "from keras.layers.core import Dense\n",
    "from keras.layers import Flatten\n",
    "from keras.layers import Input\n",
    "from keras.models import Model\n",
    "from keras.layers import concatenate\n",
    "from keras.optimizers import Adam, RMSprop\n",
    "\n",
    "%matplotlib inline\n",
    "np.random.seed(0)"
   ]
  },
  {
   "cell_type": "code",
   "execution_count": 2,
   "id": "22a8cc6a",
   "metadata": {},
   "outputs": [],
   "source": [
    "salary_df = pd.read_csv('salary_final_done.csv')"
   ]
  },
  {
   "cell_type": "code",
   "execution_count": 3,
   "id": "940d5a2f",
   "metadata": {},
   "outputs": [
    {
     "name": "stdout",
     "output_type": "stream",
     "text": [
      "(963, 27)\n"
     ]
    },
    {
     "data": {
      "text/html": [
       "<div>\n",
       "<style scoped>\n",
       "    .dataframe tbody tr th:only-of-type {\n",
       "        vertical-align: middle;\n",
       "    }\n",
       "\n",
       "    .dataframe tbody tr th {\n",
       "        vertical-align: top;\n",
       "    }\n",
       "\n",
       "    .dataframe thead th {\n",
       "        text-align: right;\n",
       "    }\n",
       "</style>\n",
       "<table border=\"1\" class=\"dataframe\">\n",
       "  <thead>\n",
       "    <tr style=\"text-align: right;\">\n",
       "      <th></th>\n",
       "      <th>Title</th>\n",
       "      <th>Company</th>\n",
       "      <th>Link</th>\n",
       "      <th>Review</th>\n",
       "      <th>Salary</th>\n",
       "      <th>Description</th>\n",
       "      <th>Location2</th>\n",
       "      <th>Rate_by</th>\n",
       "      <th>low</th>\n",
       "      <th>high</th>\n",
       "      <th>...</th>\n",
       "      <th>Rank</th>\n",
       "      <th>City</th>\n",
       "      <th>Cost of Living Index</th>\n",
       "      <th>Rent Index</th>\n",
       "      <th>Cost of Living Plus Rent Index</th>\n",
       "      <th>Groceries Index</th>\n",
       "      <th>Restaurant Price Index</th>\n",
       "      <th>Local Purchasing Power Index</th>\n",
       "      <th>combined_text</th>\n",
       "      <th>Salary_Bins</th>\n",
       "    </tr>\n",
       "  </thead>\n",
       "  <tbody>\n",
       "    <tr>\n",
       "      <th>0</th>\n",
       "      <td>2021048 Data Scientist $215,000.00</td>\n",
       "      <td>B4CORP</td>\n",
       "      <td>https://www.indeed.com/pagead/clk?mo=r&amp;ad=-6NY...</td>\n",
       "      <td>None</td>\n",
       "      <td>Up to $215,000 a year</td>\n",
       "      <td>Position Requires a Top Secret (TS/SCI) Cleara...</td>\n",
       "      <td>Arlington, VA</td>\n",
       "      <td>Yearly</td>\n",
       "      <td>Up to $215,000 a year</td>\n",
       "      <td>NaN</td>\n",
       "      <td>...</td>\n",
       "      <td>36.0</td>\n",
       "      <td>Arlington, VA</td>\n",
       "      <td>80.159143</td>\n",
       "      <td>58.838571</td>\n",
       "      <td>69.961143</td>\n",
       "      <td>76.886286</td>\n",
       "      <td>78.608571</td>\n",
       "      <td>115.594571</td>\n",
       "      <td>2021048 Data Scientist $215,000.00 Position Re...</td>\n",
       "      <td>5</td>\n",
       "    </tr>\n",
       "    <tr>\n",
       "      <th>1</th>\n",
       "      <td>Data Science/Data Analyst</td>\n",
       "      <td>CRAiC LLC</td>\n",
       "      <td>https://www.indeed.com/company/CRAiC-LLC/jobs/...</td>\n",
       "      <td>None</td>\n",
       "      <td>$60,000 a year</td>\n",
       "      <td>Cost Readiness Analytics (CRAiC LLC) is lookin...</td>\n",
       "      <td>Arlington, VA</td>\n",
       "      <td>Yearly</td>\n",
       "      <td>$60,000 a year</td>\n",
       "      <td>NaN</td>\n",
       "      <td>...</td>\n",
       "      <td>36.0</td>\n",
       "      <td>Arlington, VA</td>\n",
       "      <td>80.159143</td>\n",
       "      <td>58.838571</td>\n",
       "      <td>69.961143</td>\n",
       "      <td>76.886286</td>\n",
       "      <td>78.608571</td>\n",
       "      <td>115.594571</td>\n",
       "      <td>Data Science/Data Analyst Cost Readiness Analy...</td>\n",
       "      <td>1</td>\n",
       "    </tr>\n",
       "    <tr>\n",
       "      <th>2</th>\n",
       "      <td>Data Science Intern</td>\n",
       "      <td>MilliporeSigma</td>\n",
       "      <td>https://www.indeed.com/company/Serono/jobs/Dat...</td>\n",
       "      <td>3.9</td>\n",
       "      <td>$20 - $25 an hour</td>\n",
       "      <td>Job Title: Data Science Intern\\rA career with ...</td>\n",
       "      <td>Arlington, VA</td>\n",
       "      <td>Hourly</td>\n",
       "      <td>$20</td>\n",
       "      <td>$25 an hour</td>\n",
       "      <td>...</td>\n",
       "      <td>36.0</td>\n",
       "      <td>Arlington, VA</td>\n",
       "      <td>80.159143</td>\n",
       "      <td>58.838571</td>\n",
       "      <td>69.961143</td>\n",
       "      <td>76.886286</td>\n",
       "      <td>78.608571</td>\n",
       "      <td>115.594571</td>\n",
       "      <td>Data Science Intern Job Title: Data Science In...</td>\n",
       "      <td>0</td>\n",
       "    </tr>\n",
       "    <tr>\n",
       "      <th>3</th>\n",
       "      <td>Jr. Data Scientist</td>\n",
       "      <td>Numero Data LLC</td>\n",
       "      <td>https://www.indeed.com/company/Numero-Data-LLC...</td>\n",
       "      <td>None</td>\n",
       "      <td>$70,000 - $85,000 a year</td>\n",
       "      <td>Ideal candidate should have a degree in a quan...</td>\n",
       "      <td>Arlington, VA</td>\n",
       "      <td>Yearly</td>\n",
       "      <td>$70,000</td>\n",
       "      <td>$85,000 a year</td>\n",
       "      <td>...</td>\n",
       "      <td>36.0</td>\n",
       "      <td>Arlington, VA</td>\n",
       "      <td>80.159143</td>\n",
       "      <td>58.838571</td>\n",
       "      <td>69.961143</td>\n",
       "      <td>76.886286</td>\n",
       "      <td>78.608571</td>\n",
       "      <td>115.594571</td>\n",
       "      <td>Jr. Data Scientist Ideal candidate should have...</td>\n",
       "      <td>2</td>\n",
       "    </tr>\n",
       "    <tr>\n",
       "      <th>4</th>\n",
       "      <td>Business Data Quality Engineer</td>\n",
       "      <td>HRU Technical Resources</td>\n",
       "      <td>https://www.indeed.com/pagead/clk?mo=r&amp;ad=-6NY...</td>\n",
       "      <td>None</td>\n",
       "      <td>$45 - $55 an hour</td>\n",
       "      <td>Please note that this is not a corp to corp or...</td>\n",
       "      <td>Arlington, VA</td>\n",
       "      <td>Hourly</td>\n",
       "      <td>$45</td>\n",
       "      <td>$55 an hour</td>\n",
       "      <td>...</td>\n",
       "      <td>36.0</td>\n",
       "      <td>Arlington, VA</td>\n",
       "      <td>80.159143</td>\n",
       "      <td>58.838571</td>\n",
       "      <td>69.961143</td>\n",
       "      <td>76.886286</td>\n",
       "      <td>78.608571</td>\n",
       "      <td>115.594571</td>\n",
       "      <td>Business Data Quality Engineer Please note tha...</td>\n",
       "      <td>3</td>\n",
       "    </tr>\n",
       "  </tbody>\n",
       "</table>\n",
       "<p>5 rows × 24 columns</p>\n",
       "</div>"
      ],
      "text/plain": [
       "                                Title                  Company  \\\n",
       "0  2021048 Data Scientist $215,000.00                   B4CORP   \n",
       "1           Data Science/Data Analyst                CRAiC LLC   \n",
       "2                 Data Science Intern           MilliporeSigma   \n",
       "3                  Jr. Data Scientist          Numero Data LLC   \n",
       "4      Business Data Quality Engineer  HRU Technical Resources   \n",
       "\n",
       "                                                Link Review  \\\n",
       "0  https://www.indeed.com/pagead/clk?mo=r&ad=-6NY...   None   \n",
       "1  https://www.indeed.com/company/CRAiC-LLC/jobs/...   None   \n",
       "2  https://www.indeed.com/company/Serono/jobs/Dat...    3.9   \n",
       "3  https://www.indeed.com/company/Numero-Data-LLC...   None   \n",
       "4  https://www.indeed.com/pagead/clk?mo=r&ad=-6NY...   None   \n",
       "\n",
       "                     Salary  \\\n",
       "0     Up to $215,000 a year   \n",
       "1            $60,000 a year   \n",
       "2         $20 - $25 an hour   \n",
       "3  $70,000 - $85,000 a year   \n",
       "4         $45 - $55 an hour   \n",
       "\n",
       "                                         Description      Location2 Rate_by  \\\n",
       "0  Position Requires a Top Secret (TS/SCI) Cleara...  Arlington, VA  Yearly   \n",
       "1  Cost Readiness Analytics (CRAiC LLC) is lookin...  Arlington, VA  Yearly   \n",
       "2  Job Title: Data Science Intern\\rA career with ...  Arlington, VA  Hourly   \n",
       "3  Ideal candidate should have a degree in a quan...  Arlington, VA  Yearly   \n",
       "4  Please note that this is not a corp to corp or...  Arlington, VA  Hourly   \n",
       "\n",
       "                     low             high  ...  Rank           City  \\\n",
       "0  Up to $215,000 a year              NaN  ...  36.0  Arlington, VA   \n",
       "1         $60,000 a year              NaN  ...  36.0  Arlington, VA   \n",
       "2                   $20       $25 an hour  ...  36.0  Arlington, VA   \n",
       "3               $70,000    $85,000 a year  ...  36.0  Arlington, VA   \n",
       "4                   $45       $55 an hour  ...  36.0  Arlington, VA   \n",
       "\n",
       "   Cost of Living Index  Rent Index  Cost of Living Plus Rent Index  \\\n",
       "0             80.159143   58.838571                       69.961143   \n",
       "1             80.159143   58.838571                       69.961143   \n",
       "2             80.159143   58.838571                       69.961143   \n",
       "3             80.159143   58.838571                       69.961143   \n",
       "4             80.159143   58.838571                       69.961143   \n",
       "\n",
       "  Groceries Index  Restaurant Price Index  Local Purchasing Power Index  \\\n",
       "0       76.886286               78.608571                    115.594571   \n",
       "1       76.886286               78.608571                    115.594571   \n",
       "2       76.886286               78.608571                    115.594571   \n",
       "3       76.886286               78.608571                    115.594571   \n",
       "4       76.886286               78.608571                    115.594571   \n",
       "\n",
       "                                       combined_text  Salary_Bins  \n",
       "0  2021048 Data Scientist $215,000.00 Position Re...            5  \n",
       "1  Data Science/Data Analyst Cost Readiness Analy...            1  \n",
       "2  Data Science Intern Job Title: Data Science In...            0  \n",
       "3  Jr. Data Scientist Ideal candidate should have...            2  \n",
       "4  Business Data Quality Engineer Please note tha...            3  \n",
       "\n",
       "[5 rows x 24 columns]"
      ]
     },
     "execution_count": 3,
     "metadata": {},
     "output_type": "execute_result"
    }
   ],
   "source": [
    "print(salary_df.shape)\n",
    "salary_df.drop('Unnamed: 0.2', axis=1, inplace=True)\n",
    "salary_df.drop('Unnamed: 0.1', axis=1, inplace=True)\n",
    "salary_df.drop('Unnamed: 0', axis=1, inplace=True)\n",
    "salary_df.head()"
   ]
  },
  {
   "cell_type": "code",
   "execution_count": 4,
   "id": "7d2d45c4",
   "metadata": {},
   "outputs": [
    {
     "name": "stdout",
     "output_type": "stream",
     "text": [
      "<class 'pandas.core.frame.DataFrame'>\n",
      "RangeIndex: 963 entries, 0 to 962\n",
      "Data columns (total 24 columns):\n",
      " #   Column                          Non-Null Count  Dtype  \n",
      "---  ------                          --------------  -----  \n",
      " 0   Title                           963 non-null    object \n",
      " 1   Company                         963 non-null    object \n",
      " 2   Link                            963 non-null    object \n",
      " 3   Review                          963 non-null    object \n",
      " 4   Salary                          963 non-null    object \n",
      " 5   Description                     963 non-null    object \n",
      " 6   Location2                       958 non-null    object \n",
      " 7   Rate_by                         963 non-null    object \n",
      " 8   low                             963 non-null    object \n",
      " 9   high                            762 non-null    object \n",
      " 10  min                             963 non-null    float64\n",
      " 11  max                             963 non-null    float64\n",
      " 12  adjusted_salary                 963 non-null    float64\n",
      " 13  adjusted_yearly_salary          963 non-null    float64\n",
      " 14  Rank                            893 non-null    float64\n",
      " 15  City                            893 non-null    object \n",
      " 16  Cost of Living Index            893 non-null    float64\n",
      " 17  Rent Index                      893 non-null    float64\n",
      " 18  Cost of Living Plus Rent Index  893 non-null    float64\n",
      " 19  Groceries Index                 893 non-null    float64\n",
      " 20  Restaurant Price Index          893 non-null    float64\n",
      " 21  Local Purchasing Power Index    893 non-null    float64\n",
      " 22  combined_text                   963 non-null    object \n",
      " 23  Salary_Bins                     963 non-null    int64  \n",
      "dtypes: float64(11), int64(1), object(12)\n",
      "memory usage: 180.7+ KB\n"
     ]
    }
   ],
   "source": [
    "salary_df.info()"
   ]
  },
  {
   "cell_type": "code",
   "execution_count": 5,
   "id": "e5750b2b",
   "metadata": {},
   "outputs": [
    {
     "data": {
      "image/png": "[encoded data removed]",
      "text/plain": [
       "<Figure size 640x480 with 1 Axes>"
      ]
     },
     "metadata": {},
     "output_type": "display_data"
    }
   ],
   "source": [
    "salary_df.hist('adjusted_yearly_salary', bins=50)\n",
    "plt.grid(axis='both')\n",
    "plt.show()"
   ]
  },
  {
   "cell_type": "code",
   "execution_count": 6,
   "id": "eac70665",
   "metadata": {},
   "outputs": [
    {
     "data": {
      "text/plain": [
       "352500.0"
      ]
     },
     "execution_count": 6,
     "metadata": {},
     "output_type": "execute_result"
    }
   ],
   "source": [
    "salary_df['adjusted_yearly_salary'].max() - salary_df['adjusted_yearly_salary'].min()"
   ]
  },
  {
   "cell_type": "code",
   "execution_count": 7,
   "id": "f6594b6a",
   "metadata": {},
   "outputs": [
    {
     "data": {
      "text/plain": [
       "0.000000     10000.000000\n",
       "0.166667     54026.666667\n",
       "0.333333     70000.000000\n",
       "0.500000     90000.000000\n",
       "0.666667    114400.000000\n",
       "0.833333    145600.000000\n",
       "1.000000    362500.000000\n",
       "Name: adjusted_yearly_salary, dtype: float64"
      ]
     },
     "execution_count": 7,
     "metadata": {},
     "output_type": "execute_result"
    }
   ],
   "source": [
    "salary_df['adjusted_yearly_salary'].quantile(list(np.linspace(0,1,7)))"
   ]
  },
  {
   "cell_type": "code",
   "execution_count": 8,
   "id": "255b5099",
   "metadata": {},
   "outputs": [
    {
     "data": {
      "text/plain": [
       "0      5\n",
       "1      1\n",
       "2      0\n",
       "3      2\n",
       "4      3\n",
       "      ..\n",
       "958    3\n",
       "959    3\n",
       "960    3\n",
       "961    2\n",
       "962    2\n",
       "Name: Salary_Bins, Length: 963, dtype: int64"
      ]
     },
     "execution_count": 8,
     "metadata": {},
     "output_type": "execute_result"
    }
   ],
   "source": [
    "salary_df['Salary_Bins']"
   ]
  },
  {
   "cell_type": "code",
   "execution_count": 9,
   "id": "86d77fc4",
   "metadata": {},
   "outputs": [
    {
     "data": {
      "image/png": "[encoded data removed]",
      "text/plain": [
       "<Figure size 640x480 with 1 Axes>"
      ]
     },
     "metadata": {},
     "output_type": "display_data"
    }
   ],
   "source": [
    "salary_df.groupby('Salary_Bins')['Location2'].count().plot.bar()\n",
    "plt.show()"
   ]
  },
  {
   "cell_type": "code",
   "execution_count": 10,
   "id": "259d0330",
   "metadata": {},
   "outputs": [],
   "source": [
    "# Categorical target\n",
    "target_class = salary_df['Salary_Bins'].astype('category')"
   ]
  },
  {
   "cell_type": "code",
   "execution_count": 11,
   "id": "e9d86e37",
   "metadata": {},
   "outputs": [
    {
     "data": {
      "text/plain": [
       "0      5\n",
       "1      1\n",
       "2      0\n",
       "3      2\n",
       "4      3\n",
       "      ..\n",
       "958    3\n",
       "959    3\n",
       "960    3\n",
       "961    2\n",
       "962    2\n",
       "Name: Salary_Bins, Length: 963, dtype: category\n",
       "Categories (6, int64): [0, 1, 2, 3, 4, 5]"
      ]
     },
     "execution_count": 11,
     "metadata": {},
     "output_type": "execute_result"
    }
   ],
   "source": [
    "target_class"
   ]
  },
  {
   "cell_type": "code",
   "execution_count": 12,
   "id": "06e86ec1",
   "metadata": {},
   "outputs": [],
   "source": [
    "def clean_word(job_descriptions):\n",
    "    jd_data=[]\n",
    "    pattern = \"([a-zA-Z]+(?:'[a-z]+)?)\"\n",
    "    stopwords_list = stopwords.words('english')\n",
    "    stopwords_list += list(string.punctuation)\n",
    "    stopwords_list += ['0', '1', '2', '3', '4', '5', '6', '7', '8', '9']\n",
    "    stopwords_list += ['www','http','com','llc','covid','non','pm','am','eg','e','g','ie','i']\n",
    "    \n",
    "    for jd in job_descriptions:\n",
    "        jd_tokens_raw = nltk.regexp_tokenize(jd, pattern)\n",
    "        jd_tokens=[word.lower() for word in jd_tokens_raw]\n",
    "        jd_words_stopped = [word for word in jd_tokens if word not in stopwords_list]\n",
    "        jd_data.append(jd_words_stopped)\n",
    "\n",
    "    return pd.Series(jd_data) # Turn list of lists to series of lists to use in Word2Vec"
   ]
  },
  {
   "cell_type": "code",
   "execution_count": 13,
   "id": "6505fd32",
   "metadata": {},
   "outputs": [],
   "source": [
    "data = clean_word(salary_df['combined_text'])"
   ]
  },
  {
   "cell_type": "code",
   "execution_count": 14,
   "id": "6dce3f7e",
   "metadata": {},
   "outputs": [
    {
     "data": {
      "text/plain": [
       "0      [data, scientist, position, requires, top, sec...\n",
       "1      [data, science, data, analyst, cost, readiness...\n",
       "2      [data, science, intern, job, title, data, scie...\n",
       "3      [jr, data, scientist, ideal, candidate, degree...\n",
       "4      [business, data, quality, engineer, please, no...\n",
       "                             ...                        \n",
       "958    [data, engineering, ii, data, engineering, ii,...\n",
       "959    [ir, day, shift, tier, ir, day, shift, salary,...\n",
       "960    [security, engineer, security, engineer, salar...\n",
       "961    [fdp, analyst, position, title, fdp, analyst, ...\n",
       "962    [junior, ms, access, vba, developer, want, acc...\n",
       "Length: 963, dtype: object"
      ]
     },
     "execution_count": 14,
     "metadata": {},
     "output_type": "execute_result"
    }
   ],
   "source": [
    "data"
   ]
  },
  {
   "cell_type": "markdown",
   "id": "d2b74f48",
   "metadata": {},
   "source": [
    "## Model 5: Pre-trained Word2Vec as the Embedding Layer"
   ]
  },
  {
   "cell_type": "code",
   "execution_count": 16,
   "id": "274b5fa9",
   "metadata": {},
   "outputs": [],
   "source": [
    "# Create a Word2Vec model with 100 dimensions\n",
    "# vector_size = the number of dimensions of the N-dimensional space and Word2Vec maps the words into\n",
    "# min_count = min frequency appeared in the corpus\n",
    "w2v_model1 = Word2Vec(data, vector_size=100, window=5, min_count=3, workers=4)"
   ]
  },
  {
   "cell_type": "code",
   "execution_count": 21,
   "id": "cabd6903",
   "metadata": {},
   "outputs": [
    {
     "data": {
      "text/plain": [
       "(2992914, 3458620)"
      ]
     },
     "execution_count": 21,
     "metadata": {},
     "output_type": "execute_result"
    }
   ],
   "source": [
    "w2v_model1.train(data,total_examples=w2v_model1.corpus_count, epochs=10)"
   ]
  },
  {
   "cell_type": "code",
   "execution_count": 23,
   "id": "80dfe7c9",
   "metadata": {},
   "outputs": [],
   "source": [
    "wv = w2v_model1.wv"
   ]
  },
  {
   "cell_type": "code",
   "execution_count": 25,
   "id": "dc900bc4",
   "metadata": {},
   "outputs": [],
   "source": [
    "# Save model to be used in deep learning step\n",
    "filename = 'jd_embedding_word2vec1.txt'\n",
    "w2v_model1.wv.save_word2vec_format(filename, binary=False)"
   ]
  },
  {
   "cell_type": "code",
   "execution_count": 26,
   "id": "848f1355",
   "metadata": {},
   "outputs": [],
   "source": [
    "# load the word embedding as a directory of words to vectors\n",
    "import os\n",
    "embeddings_index = {}\n",
    "f = open(os.path.join('','jd_embedding_word2vec1.txt'), encoding = \"utf-8\")\n",
    "for line in f:\n",
    "    values = line.split()\n",
    "    word = values[0]\n",
    "    coefs = np.asarray(values[1:])\n",
    "    embeddings_index[word] = coefs\n",
    "f.close()"
   ]
  },
  {
   "cell_type": "code",
   "execution_count": 27,
   "id": "2c419c8e",
   "metadata": {},
   "outputs": [
    {
     "name": "stdout",
     "output_type": "stream",
     "text": [
      "There are 13262 unique tokens in the dataset.\n"
     ]
    }
   ],
   "source": [
    "# Get the total_vocabulary in the corpus\n",
    "total_vocabulary = set(word for jd in data for word in jd)\n",
    "max_length = len(total_vocabulary)\n",
    "print('There are {} unique tokens in the dataset.'.format(len(total_vocabulary)))"
   ]
  },
  {
   "cell_type": "code",
   "execution_count": 28,
   "id": "caa0337f",
   "metadata": {},
   "outputs": [
    {
     "name": "stdout",
     "output_type": "stream",
     "text": [
      "Found 26519 unique tokens.\n",
      "Shape of the jd tensor: (963, 500)\n"
     ]
    }
   ],
   "source": [
    "# Convert the word embedding into tokenized vector. \n",
    "new_tokenizer = text.Tokenizer() \n",
    "new_tokenizer.num_words = 1000  # Limit the number of words to keep most common 1000 words\n",
    "new_tokenizer.fit_on_texts(list(salary_df['combined_text']))\n",
    "list_tokenized_jd = new_tokenizer.texts_to_sequences(salary_df['combined_text'])\n",
    "\n",
    "# Pad sequences\n",
    "word_index = new_tokenizer.word_index\n",
    "print('Found %s unique tokens.' % len(word_index))\n",
    "\n",
    "jd_pad = pad_sequences(list_tokenized_jd, maxlen=500, padding = 'post') \n",
    "print('Shape of the jd tensor:', jd_pad.shape)"
   ]
  },
  {
   "cell_type": "code",
   "execution_count": 29,
   "id": "e99bcb8a",
   "metadata": {},
   "outputs": [],
   "source": [
    "# Map embeddings from word2vec model for each word to new_tokenzier.word_index and create a matrix with word vectors\n",
    "num_words = len(word_index)+1  # 1000  + 1\n",
    "embedding_matrix = np.zeros((num_words, 100)) # Embedding size = 100\n",
    "for word, i in word_index.items():\n",
    "    if i > num_words:\n",
    "        continue\n",
    "    embedding_vector = embeddings_index.get(word)\n",
    "    if embedding_vector is not None:\n",
    "        # Words not found in embedding index will be all-zeros.\n",
    "        embedding_matrix[i] = embedding_vector"
   ]
  },
  {
   "cell_type": "code",
   "execution_count": 30,
   "id": "7c49e58e",
   "metadata": {},
   "outputs": [
    {
     "name": "stdout",
     "output_type": "stream",
     "text": [
      "26520\n"
     ]
    }
   ],
   "source": [
    "print(num_words)"
   ]
  },
  {
   "cell_type": "markdown",
   "id": "72225c7f",
   "metadata": {},
   "source": [
    "### Define deep learning model"
   ]
  },
  {
   "cell_type": "code",
   "execution_count": 33,
   "id": "6d84a7a2",
   "metadata": {},
   "outputs": [],
   "source": [
    "model = Sequential()\n",
    "embedding_size = 100  # word2vec has a 100 dimension space\n",
    "embedding_layer = Embedding(input_dim = num_words, # input_dim: size of the vocabulary\n",
    "                    output_dim = embedding_size,  # dimension of the dense embedding\n",
    "                    embeddings_initializer = Constant(embedding_matrix),\n",
    "                    input_length = 500, #length of input sequences\n",
    "                    trainable = False)\n",
    "model.add(embedding_layer)\n",
    "#model.add(LSTM(128))\n",
    "model.add(Dense(128, activation='relu'))\n",
    "model.add(Dense(32, activation='relu'))\n",
    "model.add(Flatten())   # add Flatten layer \n",
    "model.add(Dense(6, activation='softmax'))"
   ]
  },
  {
   "cell_type": "code",
   "execution_count": 34,
   "id": "c6e1fe85",
   "metadata": {},
   "outputs": [
    {
     "name": "stdout",
     "output_type": "stream",
     "text": [
      "Model: \"sequential_1\"\n",
      "_________________________________________________________________\n",
      " Layer (type)                Output Shape              Param #   \n",
      "=================================================================\n",
      " embedding (Embedding)       (None, 500, 100)          2652000   \n",
      "                                                                 \n",
      " dense (Dense)               (None, 500, 128)          12928     \n",
      "                                                                 \n",
      " dense_1 (Dense)             (None, 500, 32)           4128      \n",
      "                                                                 \n",
      " flatten (Flatten)           (None, 16000)             0         \n",
      "                                                                 \n",
      " dense_2 (Dense)             (None, 6)                 96006     \n",
      "                                                                 \n",
      "=================================================================\n",
      "Total params: 2,765,062\n",
      "Trainable params: 113,062\n",
      "Non-trainable params: 2,652,000\n",
      "_________________________________________________________________\n"
     ]
    }
   ],
   "source": [
    "model.summary()"
   ]
  },
  {
   "cell_type": "code",
   "execution_count": 35,
   "id": "2b1f535c",
   "metadata": {},
   "outputs": [],
   "source": [
    "model.compile(loss='categorical_crossentropy', optimizer='adam', metrics=['accuracy'])"
   ]
  },
  {
   "cell_type": "code",
   "execution_count": 37,
   "id": "b162234d",
   "metadata": {},
   "outputs": [],
   "source": [
    "# Encoding to categorical classes\n",
    "y = to_categorical(target_class.values, num_classes=6, dtype=\"float32\")"
   ]
  },
  {
   "cell_type": "code",
   "execution_count": 38,
   "id": "ccb1bbca",
   "metadata": {},
   "outputs": [
    {
     "data": {
      "text/plain": [
       "array([[0., 0., 0., 0., 0., 1.],\n",
       "       [0., 1., 0., 0., 0., 0.],\n",
       "       [1., 0., 0., 0., 0., 0.],\n",
       "       ...,\n",
       "       [0., 0., 0., 1., 0., 0.],\n",
       "       [0., 0., 1., 0., 0., 0.],\n",
       "       [0., 0., 1., 0., 0., 0.]], dtype=float32)"
      ]
     },
     "execution_count": 38,
     "metadata": {},
     "output_type": "execute_result"
    }
   ],
   "source": [
    "y"
   ]
  },
  {
   "cell_type": "code",
   "execution_count": 39,
   "id": "3045d931",
   "metadata": {},
   "outputs": [],
   "source": [
    "X_train, X_test, y_train, y_test = train_test_split(jd_pad, y, test_size=0.1, random_state=4)"
   ]
  },
  {
   "cell_type": "code",
   "execution_count": 40,
   "id": "0d3f48a4",
   "metadata": {},
   "outputs": [
    {
     "name": "stdout",
     "output_type": "stream",
     "text": [
      "Epoch 1/10\n",
      "28/28 [==============================] - 1s 29ms/step - loss: 1.9464 - accuracy: 0.2575 - val_loss: 1.5660 - val_accuracy: 0.3608\n",
      "Epoch 2/10\n",
      "28/28 [==============================] - 1s 20ms/step - loss: 0.5734 - accuracy: 0.8995 - val_loss: 1.4886 - val_accuracy: 0.4330\n",
      "Epoch 3/10\n",
      "28/28 [==============================] - 1s 19ms/step - loss: 0.1355 - accuracy: 0.9861 - val_loss: 1.5923 - val_accuracy: 0.4536\n",
      "Epoch 4/10\n",
      "28/28 [==============================] - 1s 22ms/step - loss: 0.0440 - accuracy: 0.9965 - val_loss: 1.6946 - val_accuracy: 0.4948\n",
      "Epoch 5/10\n",
      "28/28 [==============================] - 1s 20ms/step - loss: 0.0246 - accuracy: 0.9977 - val_loss: 1.8996 - val_accuracy: 0.4433\n",
      "Epoch 6/10\n",
      "28/28 [==============================] - 1s 21ms/step - loss: 0.0119 - accuracy: 0.9988 - val_loss: 1.8530 - val_accuracy: 0.4845\n",
      "Epoch 7/10\n",
      "28/28 [==============================] - 1s 20ms/step - loss: 0.0080 - accuracy: 0.9988 - val_loss: 1.8907 - val_accuracy: 0.4536\n",
      "Epoch 8/10\n",
      "28/28 [==============================] - 1s 20ms/step - loss: 0.0063 - accuracy: 0.9988 - val_loss: 1.9324 - val_accuracy: 0.4845\n",
      "Epoch 9/10\n",
      "28/28 [==============================] - 1s 21ms/step - loss: 0.0051 - accuracy: 0.9988 - val_loss: 1.9623 - val_accuracy: 0.4742\n",
      "Epoch 10/10\n",
      "28/28 [==============================] - 1s 20ms/step - loss: 0.0043 - accuracy: 0.9988 - val_loss: 1.9958 - val_accuracy: 0.4639\n"
     ]
    }
   ],
   "source": [
    "# Lower the learning rate since it is training too fast. Limit the input length\n",
    "history = model.fit(X_train, y_train, epochs=10, batch_size=32, validation_data=[X_test, y_test])"
   ]
  },
  {
   "cell_type": "markdown",
   "id": "08b32d7a",
   "metadata": {},
   "source": [
    "### Tuning the model"
   ]
  },
  {
   "cell_type": "code",
   "execution_count": 41,
   "id": "1cee40d8",
   "metadata": {},
   "outputs": [],
   "source": [
    "embedding_size = 100  # word2vec has a 100 dimension space\n",
    "embedding_layer = Embedding(input_dim = num_words, # input_dim: size of the vocabulary\n",
    "                    output_dim = embedding_size,   # dimension of the dense embedding\n",
    "                    embeddings_initializer = Constant(embedding_matrix),\n",
    "                    input_length = 500,  # length of input sequences\n",
    "                    trainable = False)\n",
    "sequence_input = Input(shape=(500,), dtype='int32')\n",
    "embedded_sequences = embedding_layer(sequence_input)\n",
    "x = Conv1D(128, 5, activation='relu')(embedded_sequences)\n",
    "x = MaxPooling1D(3)(x)\n",
    "x = Flatten()(x)\n",
    "x = Dense(64, activation='relu')(x)\n",
    "x = Dense(16, activation='relu')(x)\n",
    "preds = Dense(6, activation='softmax')(x)\n",
    "\n",
    "opt = Adam(learning_rate=0.001)\n",
    "model = Model(sequence_input, preds)\n",
    "model.compile(loss='categorical_crossentropy', optimizer=opt, metrics=['accuracy'])"
   ]
  },
  {
   "cell_type": "code",
   "execution_count": 42,
   "id": "261161c4",
   "metadata": {},
   "outputs": [
    {
     "name": "stdout",
     "output_type": "stream",
     "text": [
      "Epoch 1/100\n",
      "7/7 [==============================] - 2s 221ms/step - loss: 2.0734 - accuracy: 0.1836 - val_loss: 1.7889 - val_accuracy: 0.1546\n",
      "Epoch 2/100\n",
      "7/7 [==============================] - 1s 168ms/step - loss: 1.7941 - accuracy: 0.1594 - val_loss: 1.7995 - val_accuracy: 0.2062\n",
      "Epoch 3/100\n",
      "7/7 [==============================] - 1s 149ms/step - loss: 1.7895 - accuracy: 0.2252 - val_loss: 1.7914 - val_accuracy: 0.2268\n",
      "Epoch 4/100\n",
      "7/7 [==============================] - 1s 174ms/step - loss: 1.7900 - accuracy: 0.2229 - val_loss: 1.7910 - val_accuracy: 0.2268\n",
      "Epoch 5/100\n",
      "7/7 [==============================] - 1s 157ms/step - loss: 1.7853 - accuracy: 0.2252 - val_loss: 1.7785 - val_accuracy: 0.2062\n",
      "Epoch 6/100\n",
      "7/7 [==============================] - 1s 149ms/step - loss: 1.7682 - accuracy: 0.2413 - val_loss: 1.7588 - val_accuracy: 0.2268\n",
      "Epoch 7/100\n",
      "7/7 [==============================] - 1s 147ms/step - loss: 1.7378 - accuracy: 0.2413 - val_loss: 1.7517 - val_accuracy: 0.2268\n",
      "Epoch 8/100\n",
      "7/7 [==============================] - 1s 149ms/step - loss: 1.7018 - accuracy: 0.2517 - val_loss: 1.7478 - val_accuracy: 0.2680\n",
      "Epoch 9/100\n",
      "7/7 [==============================] - 1s 146ms/step - loss: 1.6611 - accuracy: 0.2633 - val_loss: 1.7355 - val_accuracy: 0.2680\n",
      "Epoch 10/100\n",
      "7/7 [==============================] - 1s 166ms/step - loss: 1.6223 - accuracy: 0.2887 - val_loss: 1.8550 - val_accuracy: 0.2062\n",
      "Epoch 11/100\n",
      "7/7 [==============================] - 1s 153ms/step - loss: 1.6140 - accuracy: 0.2898 - val_loss: 1.7243 - val_accuracy: 0.2887\n",
      "Epoch 12/100\n",
      "7/7 [==============================] - 1s 170ms/step - loss: 1.5836 - accuracy: 0.3303 - val_loss: 1.7043 - val_accuracy: 0.2474\n",
      "Epoch 13/100\n",
      "7/7 [==============================] - 1s 145ms/step - loss: 1.5294 - accuracy: 0.3383 - val_loss: 1.9030 - val_accuracy: 0.2062\n",
      "Epoch 14/100\n",
      "7/7 [==============================] - 1s 169ms/step - loss: 1.5031 - accuracy: 0.3303 - val_loss: 1.6981 - val_accuracy: 0.2990\n",
      "Epoch 15/100\n",
      "7/7 [==============================] - 1s 164ms/step - loss: 1.4844 - accuracy: 0.3949 - val_loss: 1.7812 - val_accuracy: 0.2268\n",
      "Epoch 16/100\n",
      "7/7 [==============================] - 1s 150ms/step - loss: 1.4548 - accuracy: 0.3730 - val_loss: 1.8584 - val_accuracy: 0.2577\n",
      "Epoch 17/100\n",
      "7/7 [==============================] - 1s 155ms/step - loss: 1.4293 - accuracy: 0.3868 - val_loss: 1.7461 - val_accuracy: 0.2268\n",
      "Epoch 18/100\n",
      "7/7 [==============================] - 1s 153ms/step - loss: 1.4041 - accuracy: 0.4042 - val_loss: 1.9152 - val_accuracy: 0.2165\n",
      "Epoch 19/100\n",
      "7/7 [==============================] - 1s 163ms/step - loss: 1.3667 - accuracy: 0.4122 - val_loss: 2.0120 - val_accuracy: 0.2268\n",
      "Epoch 20/100\n",
      "7/7 [==============================] - 1s 150ms/step - loss: 1.4122 - accuracy: 0.4203 - val_loss: 1.7859 - val_accuracy: 0.2680\n",
      "Epoch 21/100\n",
      "7/7 [==============================] - 1s 171ms/step - loss: 1.3454 - accuracy: 0.4215 - val_loss: 1.9074 - val_accuracy: 0.3093\n",
      "Epoch 22/100\n",
      "7/7 [==============================] - 1s 165ms/step - loss: 1.3039 - accuracy: 0.3995 - val_loss: 1.6537 - val_accuracy: 0.2784\n",
      "Epoch 23/100\n",
      "7/7 [==============================] - 1s 159ms/step - loss: 1.1928 - accuracy: 0.4850 - val_loss: 1.9085 - val_accuracy: 0.2784\n",
      "Epoch 24/100\n",
      "7/7 [==============================] - 1s 162ms/step - loss: 1.0619 - accuracy: 0.4838 - val_loss: 2.1848 - val_accuracy: 0.2887\n",
      "Epoch 25/100\n",
      "7/7 [==============================] - 1s 161ms/step - loss: 0.9813 - accuracy: 0.5370 - val_loss: 2.1206 - val_accuracy: 0.2990\n",
      "Epoch 26/100\n",
      "7/7 [==============================] - 1s 170ms/step - loss: 0.8958 - accuracy: 0.5670 - val_loss: 2.1798 - val_accuracy: 0.2680\n",
      "Epoch 27/100\n",
      "7/7 [==============================] - 1s 153ms/step - loss: 0.8531 - accuracy: 0.5566 - val_loss: 2.5842 - val_accuracy: 0.2784\n",
      "Epoch 28/100\n",
      "7/7 [==============================] - 1s 155ms/step - loss: 0.8089 - accuracy: 0.5600 - val_loss: 2.2855 - val_accuracy: 0.3093\n",
      "Epoch 29/100\n",
      "7/7 [==============================] - 1s 150ms/step - loss: 0.7567 - accuracy: 0.5751 - val_loss: 2.3795 - val_accuracy: 0.2990\n",
      "Epoch 30/100\n",
      "7/7 [==============================] - 1s 160ms/step - loss: 0.7093 - accuracy: 0.5739 - val_loss: 2.7157 - val_accuracy: 0.2887\n",
      "Epoch 31/100\n",
      "7/7 [==============================] - 1s 163ms/step - loss: 0.6796 - accuracy: 0.5797 - val_loss: 2.5837 - val_accuracy: 0.3093\n",
      "Epoch 32/100\n",
      "7/7 [==============================] - 1s 159ms/step - loss: 0.6512 - accuracy: 0.5774 - val_loss: 2.8251 - val_accuracy: 0.2577\n",
      "Epoch 33/100\n",
      "7/7 [==============================] - 1s 154ms/step - loss: 0.6154 - accuracy: 0.6028 - val_loss: 2.7948 - val_accuracy: 0.2990\n",
      "Epoch 34/100\n",
      "7/7 [==============================] - 1s 165ms/step - loss: 0.5743 - accuracy: 0.6247 - val_loss: 3.0152 - val_accuracy: 0.2990\n",
      "Epoch 35/100\n",
      "7/7 [==============================] - 1s 168ms/step - loss: 0.5358 - accuracy: 0.7182 - val_loss: 2.9475 - val_accuracy: 0.3299\n",
      "Epoch 36/100\n",
      "7/7 [==============================] - 1s 156ms/step - loss: 0.4943 - accuracy: 0.7921 - val_loss: 3.1813 - val_accuracy: 0.3814\n",
      "Epoch 37/100\n",
      "7/7 [==============================] - 1s 166ms/step - loss: 0.4493 - accuracy: 0.9076 - val_loss: 3.3089 - val_accuracy: 0.3711\n",
      "Epoch 38/100\n",
      "7/7 [==============================] - 1s 155ms/step - loss: 0.4008 - accuracy: 0.9457 - val_loss: 3.4693 - val_accuracy: 0.4124\n",
      "Epoch 39/100\n",
      "7/7 [==============================] - 1s 165ms/step - loss: 0.6094 - accuracy: 0.7760 - val_loss: 4.2510 - val_accuracy: 0.2474\n",
      "Epoch 40/100\n",
      "7/7 [==============================] - 1s 167ms/step - loss: 1.0752 - accuracy: 0.5831 - val_loss: 3.9421 - val_accuracy: 0.2990\n",
      "Epoch 41/100\n",
      "7/7 [==============================] - 1s 167ms/step - loss: 0.6473 - accuracy: 0.7159 - val_loss: 3.3167 - val_accuracy: 0.2577\n",
      "Epoch 42/100\n",
      "7/7 [==============================] - 1s 165ms/step - loss: 0.5175 - accuracy: 0.7760 - val_loss: 3.8464 - val_accuracy: 0.3299\n",
      "Epoch 43/100\n",
      "7/7 [==============================] - 1s 167ms/step - loss: 0.4522 - accuracy: 0.8406 - val_loss: 3.1871 - val_accuracy: 0.3711\n",
      "Epoch 44/100\n",
      "7/7 [==============================] - 1s 164ms/step - loss: 0.4007 - accuracy: 0.8753 - val_loss: 3.9726 - val_accuracy: 0.3711\n",
      "Epoch 45/100\n",
      "7/7 [==============================] - 1s 154ms/step - loss: 0.3338 - accuracy: 0.9053 - val_loss: 4.0267 - val_accuracy: 0.3608\n",
      "Epoch 46/100\n",
      "7/7 [==============================] - 1s 160ms/step - loss: 0.2838 - accuracy: 0.9376 - val_loss: 4.5618 - val_accuracy: 0.3505\n",
      "Epoch 47/100\n",
      "7/7 [==============================] - 1s 164ms/step - loss: 0.2211 - accuracy: 0.9665 - val_loss: 4.2886 - val_accuracy: 0.3814\n",
      "Epoch 48/100\n",
      "7/7 [==============================] - 1s 152ms/step - loss: 0.1759 - accuracy: 0.9769 - val_loss: 5.0902 - val_accuracy: 0.4021\n",
      "Epoch 49/100\n",
      "7/7 [==============================] - 1s 152ms/step - loss: 0.1317 - accuracy: 0.9792 - val_loss: 5.1161 - val_accuracy: 0.3711\n",
      "Epoch 50/100\n",
      "7/7 [==============================] - 1s 163ms/step - loss: 0.0867 - accuracy: 0.9942 - val_loss: 5.1192 - val_accuracy: 0.4021\n",
      "Epoch 51/100\n",
      "7/7 [==============================] - 1s 151ms/step - loss: 0.0697 - accuracy: 0.9931 - val_loss: 5.4800 - val_accuracy: 0.3918\n",
      "Epoch 52/100\n",
      "7/7 [==============================] - 1s 165ms/step - loss: 0.0581 - accuracy: 0.9954 - val_loss: 5.6203 - val_accuracy: 0.3918\n",
      "Epoch 53/100\n",
      "7/7 [==============================] - 1s 162ms/step - loss: 0.0477 - accuracy: 0.9954 - val_loss: 5.6959 - val_accuracy: 0.3918\n",
      "Epoch 54/100\n",
      "7/7 [==============================] - 1s 151ms/step - loss: 0.0361 - accuracy: 0.9977 - val_loss: 5.8408 - val_accuracy: 0.3918\n",
      "Epoch 55/100\n",
      "7/7 [==============================] - 1s 151ms/step - loss: 0.0283 - accuracy: 0.9988 - val_loss: 6.0160 - val_accuracy: 0.3711\n",
      "Epoch 56/100\n",
      "7/7 [==============================] - 1s 175ms/step - loss: 0.0256 - accuracy: 0.9977 - val_loss: 6.1590 - val_accuracy: 0.3711\n",
      "Epoch 57/100\n",
      "7/7 [==============================] - 1s 170ms/step - loss: 0.0215 - accuracy: 0.9988 - val_loss: 6.2103 - val_accuracy: 0.3814\n",
      "Epoch 58/100\n",
      "7/7 [==============================] - 1s 162ms/step - loss: 0.0173 - accuracy: 1.0000 - val_loss: 6.2515 - val_accuracy: 0.3814\n"
     ]
    },
    {
     "name": "stdout",
     "output_type": "stream",
     "text": [
      "Epoch 59/100\n",
      "7/7 [==============================] - 1s 176ms/step - loss: 0.0151 - accuracy: 1.0000 - val_loss: 6.3924 - val_accuracy: 0.3814\n",
      "Epoch 60/100\n",
      "7/7 [==============================] - 1s 159ms/step - loss: 0.0133 - accuracy: 1.0000 - val_loss: 6.4645 - val_accuracy: 0.3814\n",
      "Epoch 61/100\n",
      "7/7 [==============================] - 1s 161ms/step - loss: 0.0122 - accuracy: 1.0000 - val_loss: 6.5120 - val_accuracy: 0.3814\n",
      "Epoch 62/100\n",
      "7/7 [==============================] - 1s 156ms/step - loss: 0.0111 - accuracy: 1.0000 - val_loss: 6.5810 - val_accuracy: 0.3814\n",
      "Epoch 63/100\n",
      "7/7 [==============================] - 1s 163ms/step - loss: 0.0103 - accuracy: 1.0000 - val_loss: 6.6346 - val_accuracy: 0.3814\n",
      "Epoch 64/100\n",
      "7/7 [==============================] - 1s 163ms/step - loss: 0.0096 - accuracy: 1.0000 - val_loss: 6.7054 - val_accuracy: 0.3814\n",
      "Epoch 65/100\n",
      "7/7 [==============================] - 1s 158ms/step - loss: 0.0090 - accuracy: 1.0000 - val_loss: 6.7643 - val_accuracy: 0.3814\n",
      "Epoch 66/100\n",
      "7/7 [==============================] - 1s 167ms/step - loss: 0.0084 - accuracy: 1.0000 - val_loss: 6.8254 - val_accuracy: 0.3814\n",
      "Epoch 67/100\n",
      "7/7 [==============================] - 1s 154ms/step - loss: 0.0079 - accuracy: 1.0000 - val_loss: 6.8772 - val_accuracy: 0.3814\n",
      "Epoch 68/100\n",
      "7/7 [==============================] - 1s 154ms/step - loss: 0.0075 - accuracy: 1.0000 - val_loss: 6.9259 - val_accuracy: 0.3814\n",
      "Epoch 69/100\n",
      "7/7 [==============================] - 1s 153ms/step - loss: 0.0071 - accuracy: 1.0000 - val_loss: 6.9750 - val_accuracy: 0.3814\n",
      "Epoch 70/100\n",
      "7/7 [==============================] - 1s 167ms/step - loss: 0.0067 - accuracy: 1.0000 - val_loss: 7.0165 - val_accuracy: 0.3814\n",
      "Epoch 71/100\n",
      "7/7 [==============================] - 1s 178ms/step - loss: 0.0064 - accuracy: 1.0000 - val_loss: 7.0644 - val_accuracy: 0.3814\n",
      "Epoch 72/100\n",
      "7/7 [==============================] - 1s 182ms/step - loss: 0.0061 - accuracy: 1.0000 - val_loss: 7.1112 - val_accuracy: 0.3814\n",
      "Epoch 73/100\n",
      "7/7 [==============================] - 1s 162ms/step - loss: 0.0058 - accuracy: 1.0000 - val_loss: 7.1640 - val_accuracy: 0.3814\n",
      "Epoch 74/100\n",
      "7/7 [==============================] - 1s 181ms/step - loss: 0.0058 - accuracy: 1.0000 - val_loss: 7.1872 - val_accuracy: 0.3814\n",
      "Epoch 75/100\n",
      "7/7 [==============================] - 1s 164ms/step - loss: 0.0052 - accuracy: 1.0000 - val_loss: 7.2267 - val_accuracy: 0.3814\n",
      "Epoch 76/100\n",
      "7/7 [==============================] - 1s 160ms/step - loss: 0.0049 - accuracy: 1.0000 - val_loss: 7.2707 - val_accuracy: 0.3814\n",
      "Epoch 77/100\n",
      "7/7 [==============================] - 1s 158ms/step - loss: 0.0046 - accuracy: 1.0000 - val_loss: 7.3123 - val_accuracy: 0.3814\n",
      "Epoch 78/100\n",
      "7/7 [==============================] - 1s 155ms/step - loss: 0.0043 - accuracy: 1.0000 - val_loss: 7.3226 - val_accuracy: 0.3814\n",
      "Epoch 79/100\n",
      "7/7 [==============================] - 1s 161ms/step - loss: 0.0041 - accuracy: 1.0000 - val_loss: 7.3654 - val_accuracy: 0.3814\n",
      "Epoch 80/100\n",
      "7/7 [==============================] - 1s 168ms/step - loss: 0.0039 - accuracy: 1.0000 - val_loss: 7.3905 - val_accuracy: 0.3814\n",
      "Epoch 81/100\n",
      "7/7 [==============================] - 1s 152ms/step - loss: 0.0037 - accuracy: 1.0000 - val_loss: 7.4133 - val_accuracy: 0.3814\n",
      "Epoch 82/100\n",
      "7/7 [==============================] - 1s 153ms/step - loss: 0.0036 - accuracy: 1.0000 - val_loss: 7.4593 - val_accuracy: 0.3814\n",
      "Epoch 83/100\n",
      "7/7 [==============================] - 1s 155ms/step - loss: 0.0035 - accuracy: 1.0000 - val_loss: 7.4845 - val_accuracy: 0.3814\n",
      "Epoch 84/100\n",
      "7/7 [==============================] - 1s 153ms/step - loss: 0.0033 - accuracy: 1.0000 - val_loss: 7.5133 - val_accuracy: 0.3814\n",
      "Epoch 85/100\n",
      "7/7 [==============================] - 1s 160ms/step - loss: 0.0032 - accuracy: 1.0000 - val_loss: 7.5497 - val_accuracy: 0.3814\n",
      "Epoch 86/100\n",
      "7/7 [==============================] - 1s 160ms/step - loss: 0.0031 - accuracy: 1.0000 - val_loss: 7.5706 - val_accuracy: 0.3814\n",
      "Epoch 87/100\n",
      "7/7 [==============================] - 1s 154ms/step - loss: 0.0030 - accuracy: 1.0000 - val_loss: 7.6004 - val_accuracy: 0.3814\n",
      "Epoch 88/100\n",
      "7/7 [==============================] - 1s 152ms/step - loss: 0.0029 - accuracy: 1.0000 - val_loss: 7.6230 - val_accuracy: 0.3814\n",
      "Epoch 89/100\n",
      "7/7 [==============================] - 1s 166ms/step - loss: 0.0028 - accuracy: 1.0000 - val_loss: 7.6523 - val_accuracy: 0.3814\n",
      "Epoch 90/100\n",
      "7/7 [==============================] - 1s 163ms/step - loss: 0.0027 - accuracy: 1.0000 - val_loss: 7.6856 - val_accuracy: 0.3814\n",
      "Epoch 91/100\n",
      "7/7 [==============================] - 1s 163ms/step - loss: 0.0026 - accuracy: 1.0000 - val_loss: 7.7203 - val_accuracy: 0.3814\n",
      "Epoch 92/100\n",
      "7/7 [==============================] - 1s 171ms/step - loss: 0.0026 - accuracy: 1.0000 - val_loss: 7.7467 - val_accuracy: 0.3814\n",
      "Epoch 93/100\n",
      "7/7 [==============================] - 1s 159ms/step - loss: 0.0025 - accuracy: 1.0000 - val_loss: 7.7686 - val_accuracy: 0.3814\n",
      "Epoch 94/100\n",
      "7/7 [==============================] - 1s 166ms/step - loss: 0.0024 - accuracy: 1.0000 - val_loss: 7.7989 - val_accuracy: 0.3814\n",
      "Epoch 95/100\n",
      "7/7 [==============================] - 1s 182ms/step - loss: 0.0024 - accuracy: 1.0000 - val_loss: 7.8433 - val_accuracy: 0.3814\n",
      "Epoch 96/100\n",
      "7/7 [==============================] - 1s 163ms/step - loss: 0.0023 - accuracy: 1.0000 - val_loss: 7.8407 - val_accuracy: 0.3814\n",
      "Epoch 97/100\n",
      "7/7 [==============================] - 1s 163ms/step - loss: 0.0022 - accuracy: 1.0000 - val_loss: 7.8714 - val_accuracy: 0.3814\n",
      "Epoch 98/100\n",
      "7/7 [==============================] - 1s 165ms/step - loss: 0.0022 - accuracy: 1.0000 - val_loss: 7.9161 - val_accuracy: 0.3814\n",
      "Epoch 99/100\n",
      "7/7 [==============================] - 1s 164ms/step - loss: 0.0021 - accuracy: 1.0000 - val_loss: 7.9479 - val_accuracy: 0.3814\n",
      "Epoch 100/100\n",
      "7/7 [==============================] - 1s 163ms/step - loss: 0.0020 - accuracy: 1.0000 - val_loss: 7.9619 - val_accuracy: 0.3814\n"
     ]
    },
    {
     "data": {
      "text/plain": [
       "<keras.callbacks.History at 0x1d968c24910>"
      ]
     },
     "execution_count": 42,
     "metadata": {},
     "output_type": "execute_result"
    }
   ],
   "source": [
    "model.fit(X_train, y_train, validation_data=(X_test, y_test), epochs=100, batch_size=128)"
   ]
  },
  {
   "cell_type": "markdown",
   "id": "bf01e35f",
   "metadata": {},
   "source": [
    "This result shows that the model becomes overfit and test accuracy is fixed at 38% and the loss is very high!"
   ]
  },
  {
   "cell_type": "markdown",
   "id": "68537a4d",
   "metadata": {},
   "source": [
    "### Grid Search"
   ]
  },
  {
   "cell_type": "code",
   "execution_count": 44,
   "id": "4816672d",
   "metadata": {},
   "outputs": [
    {
     "name": "stderr",
     "output_type": "stream",
     "text": [
      "C:\\Users\\Doğan Yiğit Yenigün\\AppData\\Local\\Temp\\ipykernel_17836\\1778992493.py:31: DeprecationWarning: KerasClassifier is deprecated, use Sci-Keras (https://github.com/adriangb/scikeras) instead. See https://www.adriangb.com/scikeras/stable/migration.html for help migrating.\n",
      "  model = KerasClassifier(build_fn=create_model, verbose=0, epochs=20, batch_size=50)\n"
     ]
    }
   ],
   "source": [
    "import numpy\n",
    "from sklearn.model_selection import GridSearchCV\n",
    "from keras.models import Sequential\n",
    "from keras.layers import Dense\n",
    "from keras.wrappers.scikit_learn import KerasClassifier\n",
    "\n",
    "def create_model(learn_rate=0.1):\n",
    "    # Create model\n",
    "    embedding_size = 100  # word2vec has a 100 dimension space\n",
    "    embedding_layer = Embedding(input_dim = num_words, # input_dim: size of the vocabulary\n",
    "                    output_dim = embedding_size,       # dimension of the dense embedding\n",
    "                    embeddings_initializer = Constant(embedding_matrix),\n",
    "                    input_length = 500,    # length of input sequences\n",
    "                    trainable = False)\n",
    "\n",
    "    sequence_input = Input(shape=(500,), dtype='int32')\n",
    "    embedded_sequences = embedding_layer(sequence_input)\n",
    "    x = Conv1D(128, 10, activation='relu')(embedded_sequences)\n",
    "    x = MaxPooling1D(5)(x)\n",
    "    x = Flatten()(x)\n",
    "    x = Dense(128, activation='relu')(x)\n",
    "    preds = Dense(6, activation='softmax')(x)\n",
    "    \n",
    "    opt=Adam(learning_rate=learn_rate)\n",
    "    model = Model(sequence_input, preds)\n",
    "    \n",
    "    #Compile model\n",
    "    model.compile(loss='categorical_crossentropy', optimizer=opt, metrics=['accuracy'])\n",
    "    return model\n",
    "\n",
    "model = KerasClassifier(build_fn=create_model, verbose=0, epochs=20, batch_size=50)"
   ]
  },
  {
   "cell_type": "code",
   "execution_count": 45,
   "id": "3d0ad6ed",
   "metadata": {},
   "outputs": [
    {
     "name": "stdout",
     "output_type": "stream",
     "text": [
      "Best: 0.431881 using {'learn_rate': 0.001}\n",
      "0.431881 (0.009550) with: {'learn_rate': 0.001}\n",
      "0.378785 (0.028743) with: {'learn_rate': 0.005}\n",
      "0.342981 (0.016287) with: {'learn_rate': 0.01}\n",
      "0.228654 (0.019775) with: {'learn_rate': 0.05}\n"
     ]
    }
   ],
   "source": [
    "param_grid = {'learn_rate':[0.001,0.005,0.01,0.05]}\n",
    "grid = GridSearchCV(estimator=model, param_grid=param_grid, n_jobs=-1, cv=3)\n",
    "grid_result = grid.fit(X_train, y_train)\n",
    "# Summarize results\n",
    "print(\"Best: %f using %s\" % (grid_result.best_score_, grid_result.best_params_))\n",
    "means = grid_result.cv_results_['mean_test_score']\n",
    "stds = grid_result.cv_results_['std_test_score']\n",
    "params = grid_result.cv_results_['params']\n",
    "for mean, stdev, param in zip(means, stds, params):\n",
    "    print(\"%f (%f) with: %r\" % (mean, stdev, param))"
   ]
  },
  {
   "cell_type": "markdown",
   "id": "8368cae0",
   "metadata": {},
   "source": [
    "### Try CountVectorizer and TF-IDF in Deep Learning Models with Grid Search"
   ]
  },
  {
   "cell_type": "code",
   "execution_count": 47,
   "id": "239fdb2a",
   "metadata": {},
   "outputs": [],
   "source": [
    "text = salary_df['combined_text']"
   ]
  },
  {
   "cell_type": "code",
   "execution_count": 48,
   "id": "ce24b747",
   "metadata": {},
   "outputs": [],
   "source": [
    "count_vectorizer = CountVectorizer(max_features = 300, max_df = 0.5, min_df = 0.03, ngram_range=(1,3), stop_words='english')\n",
    "word_count_vector = count_vectorizer.fit_transform(text)"
   ]
  },
  {
   "cell_type": "code",
   "execution_count": 51,
   "id": "a2cd5799",
   "metadata": {},
   "outputs": [
    {
     "data": {
      "text/html": [
       "<style>#sk-container-id-2 {color: black;background-color: white;}#sk-container-id-2 pre{padding: 0;}#sk-container-id-2 div.sk-toggleable {background-color: white;}#sk-container-id-2 label.sk-toggleable__label {cursor: pointer;display: block;width: 100%;margin-bottom: 0;padding: 0.3em;box-sizing: border-box;text-align: center;}#sk-container-id-2 label.sk-toggleable__label-arrow:before {content: \"▸\";float: left;margin-right: 0.25em;color: #696969;}#sk-container-id-2 label.sk-toggleable__label-arrow:hover:before {color: black;}#sk-container-id-2 div.sk-estimator:hover label.sk-toggleable__label-arrow:before {color: black;}#sk-container-id-2 div.sk-toggleable__content {max-height: 0;max-width: 0;overflow: hidden;text-align: left;background-color: #f0f8ff;}#sk-container-id-2 div.sk-toggleable__content pre {margin: 0.2em;color: black;border-radius: 0.25em;background-color: #f0f8ff;}#sk-container-id-2 input.sk-toggleable__control:checked~div.sk-toggleable__content {max-height: 200px;max-width: 100%;overflow: auto;}#sk-container-id-2 input.sk-toggleable__control:checked~label.sk-toggleable__label-arrow:before {content: \"▾\";}#sk-container-id-2 div.sk-estimator input.sk-toggleable__control:checked~label.sk-toggleable__label {background-color: #d4ebff;}#sk-container-id-2 div.sk-label input.sk-toggleable__control:checked~label.sk-toggleable__label {background-color: #d4ebff;}#sk-container-id-2 input.sk-hidden--visually {border: 0;clip: rect(1px 1px 1px 1px);clip: rect(1px, 1px, 1px, 1px);height: 1px;margin: -1px;overflow: hidden;padding: 0;position: absolute;width: 1px;}#sk-container-id-2 div.sk-estimator {font-family: monospace;background-color: #f0f8ff;border: 1px dotted black;border-radius: 0.25em;box-sizing: border-box;margin-bottom: 0.5em;}#sk-container-id-2 div.sk-estimator:hover {background-color: #d4ebff;}#sk-container-id-2 div.sk-parallel-item::after {content: \"\";width: 100%;border-bottom: 1px solid gray;flex-grow: 1;}#sk-container-id-2 div.sk-label:hover label.sk-toggleable__label {background-color: #d4ebff;}#sk-container-id-2 div.sk-serial::before {content: \"\";position: absolute;border-left: 1px solid gray;box-sizing: border-box;top: 0;bottom: 0;left: 50%;z-index: 0;}#sk-container-id-2 div.sk-serial {display: flex;flex-direction: column;align-items: center;background-color: white;padding-right: 0.2em;padding-left: 0.2em;position: relative;}#sk-container-id-2 div.sk-item {position: relative;z-index: 1;}#sk-container-id-2 div.sk-parallel {display: flex;align-items: stretch;justify-content: center;background-color: white;position: relative;}#sk-container-id-2 div.sk-item::before, #sk-container-id-2 div.sk-parallel-item::before {content: \"\";position: absolute;border-left: 1px solid gray;box-sizing: border-box;top: 0;bottom: 0;left: 50%;z-index: -1;}#sk-container-id-2 div.sk-parallel-item {display: flex;flex-direction: column;z-index: 1;position: relative;background-color: white;}#sk-container-id-2 div.sk-parallel-item:first-child::after {align-self: flex-end;width: 50%;}#sk-container-id-2 div.sk-parallel-item:last-child::after {align-self: flex-start;width: 50%;}#sk-container-id-2 div.sk-parallel-item:only-child::after {width: 0;}#sk-container-id-2 div.sk-dashed-wrapped {border: 1px dashed gray;margin: 0 0.4em 0.5em 0.4em;box-sizing: border-box;padding-bottom: 0.4em;background-color: white;}#sk-container-id-2 div.sk-label label {font-family: monospace;font-weight: bold;display: inline-block;line-height: 1.2em;}#sk-container-id-2 div.sk-label-container {text-align: center;}#sk-container-id-2 div.sk-container {/* jupyter's `normalize.less` sets `[hidden] { display: none; }` but bootstrap.min.css set `[hidden] { display: none !important; }` so we also need the `!important` here to be able to override the default hidden behavior on the sphinx rendered scikit-learn.org. See: https://github.com/scikit-learn/scikit-learn/issues/21755 */display: inline-block !important;position: relative;}#sk-container-id-2 div.sk-text-repr-fallback {display: none;}</style><div id=\"sk-container-id-2\" class=\"sk-top-container\"><div class=\"sk-text-repr-fallback\"><pre>TfidfTransformer()</pre><b>In a Jupyter environment, please rerun this cell to show the HTML representation or trust the notebook. <br />On GitHub, the HTML representation is unable to render, please try loading this page with nbviewer.org.</b></div><div class=\"sk-container\" hidden><div class=\"sk-item\"><div class=\"sk-estimator sk-toggleable\"><input class=\"sk-toggleable__control sk-hidden--visually\" id=\"sk-estimator-id-2\" type=\"checkbox\" checked><label for=\"sk-estimator-id-2\" class=\"sk-toggleable__label sk-toggleable__label-arrow\">TfidfTransformer</label><div class=\"sk-toggleable__content\"><pre>TfidfTransformer()</pre></div></div></div></div></div>"
      ],
      "text/plain": [
       "TfidfTransformer()"
      ]
     },
     "execution_count": 51,
     "metadata": {},
     "output_type": "execute_result"
    }
   ],
   "source": [
    "tfidf_transformer = TfidfTransformer(smooth_idf=True, use_idf=True)\n",
    "tfidf_transformer.fit(word_count_vector)"
   ]
  },
  {
   "cell_type": "code",
   "execution_count": 52,
   "id": "29dd6870",
   "metadata": {},
   "outputs": [
    {
     "name": "stderr",
     "output_type": "stream",
     "text": [
      "C:\\Users\\Doğan Yiğit Yenigün\\AppData\\Local\\Programs\\Python\\Python310\\lib\\site-packages\\sklearn\\utils\\deprecation.py:87: FutureWarning: Function get_feature_names is deprecated; get_feature_names is deprecated in 1.0 and will be removed in 1.2. Please use get_feature_names_out instead.\n",
      "  warnings.warn(msg, category=FutureWarning)\n"
     ]
    }
   ],
   "source": [
    "df_idf = pd.DataFrame(tfidf_transformer.idf_, index=count_vectorizer.get_feature_names(), columns=['idf_weights'])"
   ]
  },
  {
   "cell_type": "code",
   "execution_count": 55,
   "id": "dd99caec",
   "metadata": {},
   "outputs": [
    {
     "data": {
      "text/html": [
       "<div>\n",
       "<style scoped>\n",
       "    .dataframe tbody tr th:only-of-type {\n",
       "        vertical-align: middle;\n",
       "    }\n",
       "\n",
       "    .dataframe tbody tr th {\n",
       "        vertical-align: top;\n",
       "    }\n",
       "\n",
       "    .dataframe thead th {\n",
       "        text-align: right;\n",
       "    }\n",
       "</style>\n",
       "<table border=\"1\" class=\"dataframe\">\n",
       "  <thead>\n",
       "    <tr style=\"text-align: right;\">\n",
       "      <th></th>\n",
       "      <th>idf_weights</th>\n",
       "    </tr>\n",
       "  </thead>\n",
       "  <tbody>\n",
       "    <tr>\n",
       "      <th>00 hour</th>\n",
       "      <td>2.468414</td>\n",
       "    </tr>\n",
       "    <tr>\n",
       "      <th>00 year</th>\n",
       "      <td>2.053980</td>\n",
       "    </tr>\n",
       "    <tr>\n",
       "      <th>000</th>\n",
       "      <td>1.718359</td>\n",
       "    </tr>\n",
       "    <tr>\n",
       "      <th>000 00</th>\n",
       "      <td>2.102770</td>\n",
       "    </tr>\n",
       "    <tr>\n",
       "      <th>000 00 year</th>\n",
       "      <td>2.147506</td>\n",
       "    </tr>\n",
       "    <tr>\n",
       "      <th>...</th>\n",
       "      <td>...</td>\n",
       "    </tr>\n",
       "    <tr>\n",
       "      <th>year preferred</th>\n",
       "      <td>3.126159</td>\n",
       "    </tr>\n",
       "    <tr>\n",
       "      <th>years experience</th>\n",
       "      <td>2.280104</td>\n",
       "    </tr>\n",
       "    <tr>\n",
       "      <th>years preferred</th>\n",
       "      <td>2.753097</td>\n",
       "    </tr>\n",
       "    <tr>\n",
       "      <th>years required</th>\n",
       "      <td>2.656156</td>\n",
       "    </tr>\n",
       "    <tr>\n",
       "      <th>ès</th>\n",
       "      <td>2.951110</td>\n",
       "    </tr>\n",
       "  </tbody>\n",
       "</table>\n",
       "<p>300 rows × 1 columns</p>\n",
       "</div>"
      ],
      "text/plain": [
       "                  idf_weights\n",
       "00 hour              2.468414\n",
       "00 year              2.053980\n",
       "000                  1.718359\n",
       "000 00               2.102770\n",
       "000 00 year          2.147506\n",
       "...                       ...\n",
       "year preferred       3.126159\n",
       "years experience     2.280104\n",
       "years preferred      2.753097\n",
       "years required       2.656156\n",
       "ès                   2.951110\n",
       "\n",
       "[300 rows x 1 columns]"
      ]
     },
     "execution_count": 55,
     "metadata": {},
     "output_type": "execute_result"
    }
   ],
   "source": [
    "df_idf"
   ]
  },
  {
   "cell_type": "code",
   "execution_count": 56,
   "id": "99ac7cc5",
   "metadata": {},
   "outputs": [],
   "source": [
    "tfidf_mat = tfidf_transformer.transform(word_count_vector)"
   ]
  },
  {
   "cell_type": "code",
   "execution_count": 57,
   "id": "c52cdca7",
   "metadata": {},
   "outputs": [
    {
     "data": {
      "text/plain": [
       "scipy.sparse._csr.csr_matrix"
      ]
     },
     "execution_count": 57,
     "metadata": {},
     "output_type": "execute_result"
    }
   ],
   "source": [
    "type(tfidf_mat)"
   ]
  },
  {
   "cell_type": "code",
   "execution_count": 58,
   "id": "e9120b04",
   "metadata": {},
   "outputs": [
    {
     "data": {
      "text/plain": [
       "<963x300 sparse matrix of type '<class 'numpy.float64'>'\n",
       "\twith 73819 stored elements in Compressed Sparse Row format>"
      ]
     },
     "execution_count": 58,
     "metadata": {},
     "output_type": "execute_result"
    }
   ],
   "source": [
    "# Each job description has 300 features, each feature is one word\n",
    "tfidf_mat"
   ]
  },
  {
   "cell_type": "code",
   "execution_count": 75,
   "id": "e3b2d03b",
   "metadata": {},
   "outputs": [
    {
     "data": {
      "text/plain": [
       "array([[0.        , 0.02904836, 0.34022575, ..., 0.        , 0.        ,\n",
       "        0.37562398],\n",
       "       [0.        , 0.06373466, 0.05332038, ..., 0.08542815, 0.        ,\n",
       "        0.        ],\n",
       "       [0.04120745, 0.        , 0.0286861 , ..., 0.        , 0.        ,\n",
       "        0.        ],\n",
       "       ...,\n",
       "       [0.        , 0.        , 0.        , ..., 0.        , 0.        ,\n",
       "        0.        ],\n",
       "       [0.        , 0.        , 0.        , ..., 0.        , 0.        ,\n",
       "        0.        ],\n",
       "       [0.        , 0.        , 0.        , ..., 0.        , 0.        ,\n",
       "        0.        ]])"
      ]
     },
     "execution_count": 75,
     "metadata": {},
     "output_type": "execute_result"
    }
   ],
   "source": [
    "tfidf_mat.toarray()"
   ]
  },
  {
   "cell_type": "code",
   "execution_count": 59,
   "id": "e509ab60",
   "metadata": {},
   "outputs": [],
   "source": [
    "# Encoding to categorical classes\n",
    "y = to_categorical(target_class.values, num_classes=6, dtype=\"float32\")"
   ]
  },
  {
   "cell_type": "code",
   "execution_count": 91,
   "id": "e1c223d9",
   "metadata": {},
   "outputs": [
    {
     "name": "stdout",
     "output_type": "stream",
     "text": [
      "(770, 300) (193, 300)\n"
     ]
    }
   ],
   "source": [
    "# Train Test split\n",
    "X_train, X_test, y_train, y_test = train_test_split(tfidf_mat, y, test_size=0.2)\n",
    "print(X_train.shape, X_test.shape)"
   ]
  },
  {
   "cell_type": "code",
   "execution_count": 95,
   "id": "ec7a4014",
   "metadata": {},
   "outputs": [
    {
     "data": {
      "text/plain": [
       "array([[0.        , 0.        , 0.        , ..., 0.        , 0.        ,\n",
       "        0.10009615],\n",
       "       [0.        , 0.05181733, 0.0867007 , ..., 0.        , 0.        ,\n",
       "        0.07444992],\n",
       "       [0.        , 0.05501234, 0.18409318, ..., 0.        , 0.14228117,\n",
       "        0.        ],\n",
       "       ...,\n",
       "       [0.        , 0.05828828, 0.04876394, ..., 0.23438392, 0.        ,\n",
       "        0.        ],\n",
       "       [0.1523592 , 0.        , 0.        , ..., 0.16993087, 0.        ,\n",
       "        0.        ],\n",
       "       [0.        , 0.03689705, 0.0617361 , ..., 0.04945577, 0.        ,\n",
       "        0.        ]])"
      ]
     },
     "execution_count": 95,
     "metadata": {},
     "output_type": "execute_result"
    }
   ],
   "source": [
    "X_train.toarray()"
   ]
  },
  {
   "cell_type": "code",
   "execution_count": 100,
   "id": "4802cbbd",
   "metadata": {},
   "outputs": [
    {
     "data": {
      "text/plain": [
       "array([[0.        , 0.        , 0.        , ..., 0.        , 0.        ,\n",
       "        0.17881404],\n",
       "       [0.15546513, 0.        , 0.        , ..., 0.        , 0.        ,\n",
       "        0.        ],\n",
       "       [0.        , 0.03705615, 0.09300347, ..., 0.        , 0.        ,\n",
       "        0.        ],\n",
       "       ...,\n",
       "       [0.        , 0.        , 0.        , ..., 0.        , 0.        ,\n",
       "        0.10898443],\n",
       "       [0.10246622, 0.        , 0.        , ..., 0.        , 0.        ,\n",
       "        0.        ],\n",
       "       [0.        , 0.        , 0.07203407, ..., 0.        , 0.        ,\n",
       "        0.        ]])"
      ]
     },
     "execution_count": 100,
     "metadata": {},
     "output_type": "execute_result"
    }
   ],
   "source": [
    "X_test.toarray()"
   ]
  },
  {
   "cell_type": "code",
   "execution_count": 63,
   "id": "59a10762",
   "metadata": {},
   "outputs": [
    {
     "name": "stdout",
     "output_type": "stream",
     "text": [
      "Model: \"sequential_2\"\n",
      "_________________________________________________________________\n",
      " Layer (type)                Output Shape              Param #   \n",
      "=================================================================\n",
      " dense_8 (Dense)             (None, 100)               30100     \n",
      "                                                                 \n",
      " dense_9 (Dense)             (None, 64)                6464      \n",
      "                                                                 \n",
      " dropout (Dropout)           (None, 64)                0         \n",
      "                                                                 \n",
      " dense_10 (Dense)            (None, 6)                 390       \n",
      "                                                                 \n",
      "=================================================================\n",
      "Total params: 36,954\n",
      "Trainable params: 36,954\n",
      "Non-trainable params: 0\n",
      "_________________________________________________________________\n"
     ]
    }
   ],
   "source": [
    "model = Sequential()\n",
    "model.add(Dense(100, input_shape=(300,), activation='relu'))\n",
    "model.add(Dense(64, activation='relu'))\n",
    "model.add(Dropout(0.5))\n",
    "# model.add(Flatten())   # add Flatten layer \n",
    "model.add(Dense(6, activation='softmax'))\n",
    "\n",
    "opt = optimizers.Adam(learning_rate=0.001)\n",
    "# Compile model\n",
    "model.compile(loss='categorical_crossentropy', optimizer=opt, metrics=['accuracy'])\n",
    "model.summary()"
   ]
  },
  {
   "cell_type": "code",
   "execution_count": 99,
   "id": "dbda7cb0",
   "metadata": {},
   "outputs": [
    {
     "name": "stdout",
     "output_type": "stream",
     "text": [
      "Epoch 1/40\n",
      "13/13 [==============================] - 0s 13ms/step - loss: 1.7815 - accuracy: 0.2104 - val_loss: 1.7702 - val_accuracy: 0.1865\n",
      "Epoch 2/40\n",
      "13/13 [==============================] - 0s 5ms/step - loss: 1.7489 - accuracy: 0.2805 - val_loss: 1.7523 - val_accuracy: 0.1813\n",
      "Epoch 3/40\n",
      "13/13 [==============================] - 0s 4ms/step - loss: 1.7224 - accuracy: 0.2831 - val_loss: 1.7244 - val_accuracy: 0.2539\n",
      "Epoch 4/40\n",
      "13/13 [==============================] - 0s 4ms/step - loss: 1.6900 - accuracy: 0.3429 - val_loss: 1.6932 - val_accuracy: 0.3316\n",
      "Epoch 5/40\n",
      "13/13 [==============================] - 0s 4ms/step - loss: 1.6488 - accuracy: 0.3649 - val_loss: 1.6551 - val_accuracy: 0.3472\n",
      "Epoch 6/40\n",
      "13/13 [==============================] - 0s 4ms/step - loss: 1.5899 - accuracy: 0.3779 - val_loss: 1.6202 - val_accuracy: 0.3782\n",
      "Epoch 7/40\n",
      "13/13 [==============================] - 0s 4ms/step - loss: 1.5398 - accuracy: 0.4156 - val_loss: 1.5751 - val_accuracy: 0.3938\n",
      "Epoch 8/40\n",
      "13/13 [==============================] - 0s 4ms/step - loss: 1.4832 - accuracy: 0.4273 - val_loss: 1.5293 - val_accuracy: 0.3990\n",
      "Epoch 9/40\n",
      "13/13 [==============================] - 0s 4ms/step - loss: 1.4483 - accuracy: 0.4468 - val_loss: 1.4982 - val_accuracy: 0.4093\n",
      "Epoch 10/40\n",
      "13/13 [==============================] - 0s 4ms/step - loss: 1.4061 - accuracy: 0.4455 - val_loss: 1.4632 - val_accuracy: 0.4404\n",
      "Epoch 11/40\n",
      "13/13 [==============================] - 0s 4ms/step - loss: 1.3390 - accuracy: 0.4896 - val_loss: 1.4323 - val_accuracy: 0.4352\n",
      "Epoch 12/40\n",
      "13/13 [==============================] - 0s 6ms/step - loss: 1.2870 - accuracy: 0.5169 - val_loss: 1.3973 - val_accuracy: 0.4560\n",
      "Epoch 13/40\n",
      "13/13 [==============================] - 0s 5ms/step - loss: 1.2774 - accuracy: 0.5052 - val_loss: 1.3789 - val_accuracy: 0.4663\n",
      "Epoch 14/40\n",
      "13/13 [==============================] - 0s 4ms/step - loss: 1.2297 - accuracy: 0.5468 - val_loss: 1.3649 - val_accuracy: 0.4560\n",
      "Epoch 15/40\n",
      "13/13 [==============================] - 0s 5ms/step - loss: 1.1838 - accuracy: 0.5429 - val_loss: 1.3466 - val_accuracy: 0.4663\n",
      "Epoch 16/40\n",
      "13/13 [==============================] - 0s 4ms/step - loss: 1.1677 - accuracy: 0.5532 - val_loss: 1.3338 - val_accuracy: 0.4922\n",
      "Epoch 17/40\n",
      "13/13 [==============================] - 0s 5ms/step - loss: 1.1220 - accuracy: 0.5909 - val_loss: 1.3261 - val_accuracy: 0.4870\n",
      "Epoch 18/40\n",
      "13/13 [==============================] - 0s 4ms/step - loss: 1.0993 - accuracy: 0.5766 - val_loss: 1.3161 - val_accuracy: 0.5130\n",
      "Epoch 19/40\n",
      "13/13 [==============================] - 0s 4ms/step - loss: 1.0693 - accuracy: 0.6065 - val_loss: 1.2885 - val_accuracy: 0.5181\n",
      "Epoch 20/40\n",
      "13/13 [==============================] - 0s 4ms/step - loss: 1.0254 - accuracy: 0.6273 - val_loss: 1.2859 - val_accuracy: 0.5181\n",
      "Epoch 21/40\n",
      "13/13 [==============================] - 0s 4ms/step - loss: 0.9938 - accuracy: 0.6156 - val_loss: 1.2828 - val_accuracy: 0.5026\n",
      "Epoch 22/40\n",
      "13/13 [==============================] - 0s 4ms/step - loss: 0.9618 - accuracy: 0.6636 - val_loss: 1.2614 - val_accuracy: 0.5233\n",
      "Epoch 23/40\n",
      "13/13 [==============================] - 0s 4ms/step - loss: 0.9673 - accuracy: 0.6701 - val_loss: 1.2847 - val_accuracy: 0.5233\n",
      "Epoch 24/40\n",
      "13/13 [==============================] - 0s 4ms/step - loss: 0.9061 - accuracy: 0.7182 - val_loss: 1.2594 - val_accuracy: 0.5130\n",
      "Epoch 25/40\n",
      "13/13 [==============================] - 0s 4ms/step - loss: 0.8902 - accuracy: 0.6935 - val_loss: 1.2690 - val_accuracy: 0.5233\n",
      "Epoch 26/40\n",
      "13/13 [==============================] - 0s 4ms/step - loss: 0.8755 - accuracy: 0.6922 - val_loss: 1.2613 - val_accuracy: 0.5078\n",
      "Epoch 27/40\n",
      "13/13 [==============================] - 0s 4ms/step - loss: 0.8223 - accuracy: 0.7169 - val_loss: 1.2661 - val_accuracy: 0.5078\n",
      "Epoch 28/40\n",
      "13/13 [==============================] - 0s 4ms/step - loss: 0.8033 - accuracy: 0.7519 - val_loss: 1.2641 - val_accuracy: 0.5233\n",
      "Epoch 29/40\n",
      "13/13 [==============================] - 0s 4ms/step - loss: 0.7938 - accuracy: 0.7325 - val_loss: 1.2539 - val_accuracy: 0.5337\n",
      "Epoch 30/40\n",
      "13/13 [==============================] - 0s 4ms/step - loss: 0.7544 - accuracy: 0.7610 - val_loss: 1.2737 - val_accuracy: 0.5285\n",
      "Epoch 31/40\n",
      "13/13 [==============================] - 0s 5ms/step - loss: 0.7734 - accuracy: 0.7558 - val_loss: 1.2584 - val_accuracy: 0.5440\n",
      "Epoch 32/40\n",
      "13/13 [==============================] - 0s 4ms/step - loss: 0.7328 - accuracy: 0.7701 - val_loss: 1.2856 - val_accuracy: 0.5181\n",
      "Epoch 33/40\n",
      "13/13 [==============================] - 0s 4ms/step - loss: 0.6941 - accuracy: 0.7805 - val_loss: 1.2898 - val_accuracy: 0.5440\n",
      "Epoch 34/40\n",
      "13/13 [==============================] - 0s 5ms/step - loss: 0.6844 - accuracy: 0.7805 - val_loss: 1.2625 - val_accuracy: 0.5233\n",
      "Epoch 35/40\n",
      "13/13 [==============================] - 0s 4ms/step - loss: 0.6733 - accuracy: 0.8000 - val_loss: 1.2664 - val_accuracy: 0.5233\n",
      "Epoch 36/40\n",
      "13/13 [==============================] - 0s 4ms/step - loss: 0.6803 - accuracy: 0.7974 - val_loss: 1.2722 - val_accuracy: 0.5233\n",
      "Epoch 37/40\n",
      "13/13 [==============================] - 0s 4ms/step - loss: 0.6514 - accuracy: 0.8039 - val_loss: 1.3033 - val_accuracy: 0.5337\n",
      "Epoch 38/40\n",
      "13/13 [==============================] - 0s 4ms/step - loss: 0.6188 - accuracy: 0.8260 - val_loss: 1.2762 - val_accuracy: 0.5285\n",
      "Epoch 39/40\n",
      "13/13 [==============================] - 0s 4ms/step - loss: 0.6131 - accuracy: 0.8221 - val_loss: 1.2826 - val_accuracy: 0.5285\n",
      "Epoch 39: early stopping\n"
     ]
    }
   ],
   "source": [
    "es = EarlyStopping(monitor='val_loss', patience=10, mode='min', verbose=1)\n",
    "# This can give InvalidArgumentError in the current setting, advises using 'tf.sparse.reorder' and SparseTensor\n",
    "history = model.fit(X_train_arr, y_train, validation_data=(X_test_arr, y_test), epochs=40, batch_size=64, callbacks=[es])"
   ]
  },
  {
   "cell_type": "code",
   "execution_count": 102,
   "id": "c2b23411",
   "metadata": {},
   "outputs": [
    {
     "name": "stdout",
     "output_type": "stream",
     "text": [
      "Train: 0.901, Test: 0.528\n"
     ]
    },
    {
     "data": {
      "image/png": "[encoded data removed]",
      "text/plain": [
       "<Figure size 640x480 with 1 Axes>"
      ]
     },
     "metadata": {},
     "output_type": "display_data"
    }
   ],
   "source": [
    "# Evaluate the model\n",
    "_, train_acc = model.evaluate(X_train_arr, y_train, verbose=0)\n",
    "_, test_acc = model.evaluate(X_test_arr, y_test, verbose=0)\n",
    "print('Train: %.3f, Test: %.3f' % (train_acc, test_acc))\n",
    "# Plot training history\n",
    "plt.plot(history.history['accuracy'], label='train')\n",
    "plt.plot(history.history['val_accuracy'], label='test')\n",
    "plt.title('Training and test Accuracy at each epoch', fontsize=14)\n",
    "plt.legend()\n",
    "plt.show()"
   ]
  },
  {
   "cell_type": "markdown",
   "id": "0551d2ae",
   "metadata": {},
   "source": [
    "### Grid Search"
   ]
  },
  {
   "cell_type": "code",
   "execution_count": 103,
   "id": "b62a2bc2",
   "metadata": {},
   "outputs": [
    {
     "name": "stderr",
     "output_type": "stream",
     "text": [
      "C:\\Users\\Doğan Yiğit Yenigün\\AppData\\Local\\Temp\\ipykernel_17836\\1454629559.py:19: DeprecationWarning: KerasClassifier is deprecated, use Sci-Keras (https://github.com/adriangb/scikeras) instead. See https://www.adriangb.com/scikeras/stable/migration.html for help migrating.\n",
      "  model = KerasClassifier(build_fn=create_model, verbose=0, epochs=20, batch_size=50)\n"
     ]
    }
   ],
   "source": [
    "import numpy\n",
    "from sklearn.model_selection import GridSearchCV\n",
    "from keras.models import Sequential\n",
    "from keras.layers import Dense\n",
    "from keras.wrappers.scikit_learn import KerasClassifier\n",
    "\n",
    "def create_model(neurons=1):\n",
    "    # Create model\n",
    "    model = Sequential()\n",
    "    model.add(Dense(neurons, input_shape=(300,), activation='relu'))\n",
    "    model.add(Dense(16, activation='relu'))\n",
    "    # model.add(Flatten())   # add Flatten layer \n",
    "    model.add(Dense(6, activation='softmax'))\n",
    "    \n",
    "    # Compile model\n",
    "    model.compile(loss='categorical_crossentropy', optimizer='adam', metrics=['accuracy'])\n",
    "    return model\n",
    "\n",
    "model = KerasClassifier(build_fn=create_model, verbose=0, epochs=20, batch_size=50)"
   ]
  },
  {
   "cell_type": "code",
   "execution_count": 105,
   "id": "d4afff57",
   "metadata": {},
   "outputs": [
    {
     "name": "stdout",
     "output_type": "stream",
     "text": [
      "Best: 0.442794 using {'neurons': 256}\n",
      "0.427225 (0.026315) with: {'neurons': 32}\n",
      "0.435012 (0.029321) with: {'neurons': 64}\n",
      "0.433715 (0.028114) with: {'neurons': 128}\n",
      "0.442794 (0.034275) with: {'neurons': 256}\n"
     ]
    }
   ],
   "source": [
    "# Define the grid search parameters\n",
    "# learning_rate = [0.001,0.0001]\n",
    "param_grid = {'neurons':[32,64,128,256]}\n",
    "grid = GridSearchCV(estimator=model, param_grid=param_grid, n_jobs=-1, cv=3)\n",
    "grid_result = grid.fit(X_train_arr, y_train)\n",
    "# Summarize results\n",
    "print(\"Best: %f using %s\" % (grid_result.best_score_, grid_result.best_params_))\n",
    "means = grid_result.cv_results_['mean_test_score']\n",
    "stds = grid_result.cv_results_['std_test_score']\n",
    "params = grid_result.cv_results_['params']\n",
    "for mean, stdev, param in zip(means, stds, params):\n",
    "    print(\"%f (%f) with: %r\" % (mean, stdev, param))"
   ]
  },
  {
   "cell_type": "code",
   "execution_count": null,
   "id": "9a83418b",
   "metadata": {},
   "outputs": [],
   "source": []
  }
 ],
 "metadata": {
  "kernelspec": {
   "display_name": "Python 3 (ipykernel)",
   "language": "python",
   "name": "python3"
  },
  "language_info": {
   "codemirror_mode": {
    "name": "ipython",
    "version": 3
   },
   "file_extension": ".py",
   "mimetype": "text/x-python",
   "name": "python",
   "nbconvert_exporter": "python",
   "pygments_lexer": "ipython3",
   "version": "3.10.8"
  }
 },
 "nbformat": 4,
 "nbformat_minor": 5
}
