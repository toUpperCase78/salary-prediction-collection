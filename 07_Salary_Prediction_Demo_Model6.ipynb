{
 "cells": [
  {
   "cell_type": "markdown",
   "id": "76769df4",
   "metadata": {},
   "source": [
    "# 07. bonniema/salary-predictor\n",
    "\n",
    "## Model 6: Mixed Input Model with City, Rate Type and Cost of Living Indexes\n",
    "\n",
    "## Import libraries and the final salary dataset"
   ]
  },
  {
   "cell_type": "code",
   "execution_count": 79,
   "id": "7d754283",
   "metadata": {},
   "outputs": [
    {
     "name": "stderr",
     "output_type": "stream",
     "text": [
      "[nltk_data] Downloading package stopwords to C:\\Users\\Doğan Yiğit\n",
      "[nltk_data]     Yenigün\\AppData\\Roaming\\nltk_data...\n",
      "[nltk_data]   Package stopwords is already up-to-date!\n"
     ]
    }
   ],
   "source": [
    "import time\n",
    "from time import time\n",
    "from pprint import pprint\n",
    "import pickle\n",
    "import pandas as pd\n",
    "import numpy as np\n",
    "import seaborn as sns\n",
    "import matplotlib.pyplot as plt\n",
    "import logging\n",
    "\n",
    "# NLP\n",
    "import nltk\n",
    "nltk.download('stopwords')\n",
    "from nltk.corpus import stopwords\n",
    "from nltk import word_tokenize, FreqDist\n",
    "from nltk.collocations import *\n",
    "import string, re\n",
    "from gensim.models import Word2Vec\n",
    "from sklearn.manifold import TSNE\n",
    "from sklearn.feature_extraction.text import TfidfVectorizer\n",
    "\n",
    "# Model Data Preparation\n",
    "from sklearn.model_selection import train_test_split\n",
    "from sklearn.preprocessing import StandardScaler, OneHotEncoder\n",
    "from sklearn.impute import SimpleImputer\n",
    "\n",
    "# Machine Learning\n",
    "from sklearn.metrics import accuracy_score, f1_score, mean_squared_error, r2_score\n",
    "from sklearn.ensemble import RandomForestRegressor, RandomForestClassifier\n",
    "from sklearn.ensemble import GradientBoostingClassifier\n",
    "from sklearn.feature_extraction.text import CountVectorizer, TfidfTransformer\n",
    "from sklearn.decomposition import PCA\n",
    "from sklearn.svm import SVC\n",
    "from sklearn.svm import SVR\n",
    "from sklearn.linear_model import LinearRegression, SGDClassifier\n",
    "from sklearn.pipeline import Pipeline\n",
    "from sklearn.model_selection import cross_val_score\n",
    "from sklearn.model_selection import GridSearchCV\n",
    "from sklearn.metrics import confusion_matrix\n",
    "\n",
    "# Deep learning\n",
    "import tensorflow as tf\n",
    "# from keras.preprocessing.sequence import pad_sequences\n",
    "from keras.utils import pad_sequences\n",
    "from keras.layers import Input, Dense, LSTM, Embedding, GRU\n",
    "from keras.layers import Dropout, Activation, Bidirectional, GlobalMaxPool1D\n",
    "from keras.layers.convolutional import Conv1D, Conv2D\n",
    "from keras.layers.convolutional import MaxPooling1D, MaxPooling2D\n",
    "from keras.models import Sequential\n",
    "from keras import initializers, regularizers, constraints, optimizers, layers\n",
    "from keras.preprocessing import text, sequence\n",
    "from keras.layers import Flatten\n",
    "from keras.utils import to_categorical\n",
    "from keras.callbacks import EarlyStopping\n",
    "from keras import regularizers\n",
    "from keras.wrappers.scikit_learn import KerasClassifier #to use Keras in sklearn\n",
    "from keras.initializers import Constant\n",
    "\n",
    "# Deep Learning - Mixed inputs\n",
    "# from keras.layers.normalization import BatchNormalization\n",
    "from tensorflow.keras.layers import BatchNormalization\n",
    "from keras.layers.core import Activation\n",
    "from keras.layers.core import Dropout\n",
    "from keras.layers.core import Dense\n",
    "from keras.layers import Flatten\n",
    "from keras.layers import Input\n",
    "from keras.models import Model\n",
    "from keras.layers import concatenate\n",
    "from keras.optimizers import Adam, RMSprop\n",
    "\n",
    "%matplotlib inline\n",
    "np.random.seed(0)"
   ]
  },
  {
   "cell_type": "code",
   "execution_count": 80,
   "id": "3aeca411",
   "metadata": {},
   "outputs": [],
   "source": [
    "salary_df = pd.read_csv('salary_final_2.csv')"
   ]
  },
  {
   "cell_type": "code",
   "execution_count": 81,
   "id": "8d034eb1",
   "metadata": {},
   "outputs": [
    {
     "name": "stdout",
     "output_type": "stream",
     "text": [
      "(963, 27)\n"
     ]
    },
    {
     "data": {
      "text/html": [
       "<div>\n",
       "<style scoped>\n",
       "    .dataframe tbody tr th:only-of-type {\n",
       "        vertical-align: middle;\n",
       "    }\n",
       "\n",
       "    .dataframe tbody tr th {\n",
       "        vertical-align: top;\n",
       "    }\n",
       "\n",
       "    .dataframe thead th {\n",
       "        text-align: right;\n",
       "    }\n",
       "</style>\n",
       "<table border=\"1\" class=\"dataframe\">\n",
       "  <thead>\n",
       "    <tr style=\"text-align: right;\">\n",
       "      <th></th>\n",
       "      <th>Title</th>\n",
       "      <th>Company</th>\n",
       "      <th>Link</th>\n",
       "      <th>Review</th>\n",
       "      <th>Salary</th>\n",
       "      <th>Description</th>\n",
       "      <th>Location2</th>\n",
       "      <th>Rate_by</th>\n",
       "      <th>low</th>\n",
       "      <th>high</th>\n",
       "      <th>...</th>\n",
       "      <th>City</th>\n",
       "      <th>Cost of Living Index</th>\n",
       "      <th>Rent Index</th>\n",
       "      <th>Cost of Living Plus Rent Index</th>\n",
       "      <th>Groceries Index</th>\n",
       "      <th>Restaurant Price Index</th>\n",
       "      <th>Local Purchasing Power Index</th>\n",
       "      <th>City_Bins</th>\n",
       "      <th>combined_text</th>\n",
       "      <th>Salary_Bins</th>\n",
       "    </tr>\n",
       "  </thead>\n",
       "  <tbody>\n",
       "    <tr>\n",
       "      <th>0</th>\n",
       "      <td>2021048 Data Scientist $215,000.00</td>\n",
       "      <td>B4CORP</td>\n",
       "      <td>https://www.indeed.com/pagead/clk?mo=r&amp;ad=-6NY...</td>\n",
       "      <td>None</td>\n",
       "      <td>Up to $215,000 a year</td>\n",
       "      <td>Position Requires a Top Secret (TS/SCI) Cleara...</td>\n",
       "      <td>Arlington, VA</td>\n",
       "      <td>Yearly</td>\n",
       "      <td>Up to $215,000 a year</td>\n",
       "      <td>NaN</td>\n",
       "      <td>...</td>\n",
       "      <td>Arlington, VA</td>\n",
       "      <td>80.159143</td>\n",
       "      <td>58.838571</td>\n",
       "      <td>69.961143</td>\n",
       "      <td>76.886286</td>\n",
       "      <td>78.608571</td>\n",
       "      <td>115.594571</td>\n",
       "      <td>medium</td>\n",
       "      <td>2021048 Data Scientist $215,000.00 Position Re...</td>\n",
       "      <td>5</td>\n",
       "    </tr>\n",
       "    <tr>\n",
       "      <th>1</th>\n",
       "      <td>Data Science/Data Analyst</td>\n",
       "      <td>CRAiC LLC</td>\n",
       "      <td>https://www.indeed.com/company/CRAiC-LLC/jobs/...</td>\n",
       "      <td>None</td>\n",
       "      <td>$60,000 a year</td>\n",
       "      <td>Cost Readiness Analytics (CRAiC LLC) is lookin...</td>\n",
       "      <td>Arlington, VA</td>\n",
       "      <td>Yearly</td>\n",
       "      <td>$60,000 a year</td>\n",
       "      <td>NaN</td>\n",
       "      <td>...</td>\n",
       "      <td>Arlington, VA</td>\n",
       "      <td>80.159143</td>\n",
       "      <td>58.838571</td>\n",
       "      <td>69.961143</td>\n",
       "      <td>76.886286</td>\n",
       "      <td>78.608571</td>\n",
       "      <td>115.594571</td>\n",
       "      <td>medium</td>\n",
       "      <td>Data Science/Data Analyst Cost Readiness Analy...</td>\n",
       "      <td>1</td>\n",
       "    </tr>\n",
       "    <tr>\n",
       "      <th>2</th>\n",
       "      <td>Data Science Intern</td>\n",
       "      <td>MilliporeSigma</td>\n",
       "      <td>https://www.indeed.com/company/Serono/jobs/Dat...</td>\n",
       "      <td>3.9</td>\n",
       "      <td>$20 - $25 an hour</td>\n",
       "      <td>Job Title: Data Science Intern\\rA career with ...</td>\n",
       "      <td>Arlington, VA</td>\n",
       "      <td>Hourly</td>\n",
       "      <td>$20</td>\n",
       "      <td>$25 an hour</td>\n",
       "      <td>...</td>\n",
       "      <td>Arlington, VA</td>\n",
       "      <td>80.159143</td>\n",
       "      <td>58.838571</td>\n",
       "      <td>69.961143</td>\n",
       "      <td>76.886286</td>\n",
       "      <td>78.608571</td>\n",
       "      <td>115.594571</td>\n",
       "      <td>medium</td>\n",
       "      <td>Data Science Intern Job Title: Data Science In...</td>\n",
       "      <td>0</td>\n",
       "    </tr>\n",
       "    <tr>\n",
       "      <th>3</th>\n",
       "      <td>Jr. Data Scientist</td>\n",
       "      <td>Numero Data LLC</td>\n",
       "      <td>https://www.indeed.com/company/Numero-Data-LLC...</td>\n",
       "      <td>None</td>\n",
       "      <td>$70,000 - $85,000 a year</td>\n",
       "      <td>Ideal candidate should have a degree in a quan...</td>\n",
       "      <td>Arlington, VA</td>\n",
       "      <td>Yearly</td>\n",
       "      <td>$70,000</td>\n",
       "      <td>$85,000 a year</td>\n",
       "      <td>...</td>\n",
       "      <td>Arlington, VA</td>\n",
       "      <td>80.159143</td>\n",
       "      <td>58.838571</td>\n",
       "      <td>69.961143</td>\n",
       "      <td>76.886286</td>\n",
       "      <td>78.608571</td>\n",
       "      <td>115.594571</td>\n",
       "      <td>medium</td>\n",
       "      <td>Jr. Data Scientist Ideal candidate should have...</td>\n",
       "      <td>2</td>\n",
       "    </tr>\n",
       "    <tr>\n",
       "      <th>4</th>\n",
       "      <td>Business Data Quality Engineer</td>\n",
       "      <td>HRU Technical Resources</td>\n",
       "      <td>https://www.indeed.com/pagead/clk?mo=r&amp;ad=-6NY...</td>\n",
       "      <td>None</td>\n",
       "      <td>$45 - $55 an hour</td>\n",
       "      <td>Please note that this is not a corp to corp or...</td>\n",
       "      <td>Arlington, VA</td>\n",
       "      <td>Hourly</td>\n",
       "      <td>$45</td>\n",
       "      <td>$55 an hour</td>\n",
       "      <td>...</td>\n",
       "      <td>Arlington, VA</td>\n",
       "      <td>80.159143</td>\n",
       "      <td>58.838571</td>\n",
       "      <td>69.961143</td>\n",
       "      <td>76.886286</td>\n",
       "      <td>78.608571</td>\n",
       "      <td>115.594571</td>\n",
       "      <td>medium</td>\n",
       "      <td>Business Data Quality Engineer Please note tha...</td>\n",
       "      <td>3</td>\n",
       "    </tr>\n",
       "  </tbody>\n",
       "</table>\n",
       "<p>5 rows × 25 columns</p>\n",
       "</div>"
      ],
      "text/plain": [
       "                                Title                  Company  \\\n",
       "0  2021048 Data Scientist $215,000.00                   B4CORP   \n",
       "1           Data Science/Data Analyst                CRAiC LLC   \n",
       "2                 Data Science Intern           MilliporeSigma   \n",
       "3                  Jr. Data Scientist          Numero Data LLC   \n",
       "4      Business Data Quality Engineer  HRU Technical Resources   \n",
       "\n",
       "                                                Link Review  \\\n",
       "0  https://www.indeed.com/pagead/clk?mo=r&ad=-6NY...   None   \n",
       "1  https://www.indeed.com/company/CRAiC-LLC/jobs/...   None   \n",
       "2  https://www.indeed.com/company/Serono/jobs/Dat...    3.9   \n",
       "3  https://www.indeed.com/company/Numero-Data-LLC...   None   \n",
       "4  https://www.indeed.com/pagead/clk?mo=r&ad=-6NY...   None   \n",
       "\n",
       "                     Salary  \\\n",
       "0     Up to $215,000 a year   \n",
       "1            $60,000 a year   \n",
       "2         $20 - $25 an hour   \n",
       "3  $70,000 - $85,000 a year   \n",
       "4         $45 - $55 an hour   \n",
       "\n",
       "                                         Description      Location2 Rate_by  \\\n",
       "0  Position Requires a Top Secret (TS/SCI) Cleara...  Arlington, VA  Yearly   \n",
       "1  Cost Readiness Analytics (CRAiC LLC) is lookin...  Arlington, VA  Yearly   \n",
       "2  Job Title: Data Science Intern\\rA career with ...  Arlington, VA  Hourly   \n",
       "3  Ideal candidate should have a degree in a quan...  Arlington, VA  Yearly   \n",
       "4  Please note that this is not a corp to corp or...  Arlington, VA  Hourly   \n",
       "\n",
       "                     low             high  ...           City  \\\n",
       "0  Up to $215,000 a year              NaN  ...  Arlington, VA   \n",
       "1         $60,000 a year              NaN  ...  Arlington, VA   \n",
       "2                   $20       $25 an hour  ...  Arlington, VA   \n",
       "3               $70,000    $85,000 a year  ...  Arlington, VA   \n",
       "4                   $45       $55 an hour  ...  Arlington, VA   \n",
       "\n",
       "   Cost of Living Index  Rent Index  Cost of Living Plus Rent Index  \\\n",
       "0             80.159143   58.838571                       69.961143   \n",
       "1             80.159143   58.838571                       69.961143   \n",
       "2             80.159143   58.838571                       69.961143   \n",
       "3             80.159143   58.838571                       69.961143   \n",
       "4             80.159143   58.838571                       69.961143   \n",
       "\n",
       "   Groceries Index Restaurant Price Index  Local Purchasing Power Index  \\\n",
       "0        76.886286              78.608571                    115.594571   \n",
       "1        76.886286              78.608571                    115.594571   \n",
       "2        76.886286              78.608571                    115.594571   \n",
       "3        76.886286              78.608571                    115.594571   \n",
       "4        76.886286              78.608571                    115.594571   \n",
       "\n",
       "   City_Bins                                      combined_text  Salary_Bins  \n",
       "0     medium  2021048 Data Scientist $215,000.00 Position Re...            5  \n",
       "1     medium  Data Science/Data Analyst Cost Readiness Analy...            1  \n",
       "2     medium  Data Science Intern Job Title: Data Science In...            0  \n",
       "3     medium  Jr. Data Scientist Ideal candidate should have...            2  \n",
       "4     medium  Business Data Quality Engineer Please note tha...            3  \n",
       "\n",
       "[5 rows x 25 columns]"
      ]
     },
     "execution_count": 81,
     "metadata": {},
     "output_type": "execute_result"
    }
   ],
   "source": [
    "print(salary_df.shape)\n",
    "# salary_df.drop('Unnamed: 0.2', axis=1, inplace=True)\n",
    "salary_df.drop('Unnamed: 0.1', axis=1, inplace=True)\n",
    "salary_df.drop('Unnamed: 0', axis=1, inplace=True)\n",
    "salary_df.head()"
   ]
  },
  {
   "cell_type": "code",
   "execution_count": 82,
   "id": "694dee22",
   "metadata": {},
   "outputs": [
    {
     "name": "stdout",
     "output_type": "stream",
     "text": [
      "<class 'pandas.core.frame.DataFrame'>\n",
      "RangeIndex: 963 entries, 0 to 962\n",
      "Data columns (total 25 columns):\n",
      " #   Column                          Non-Null Count  Dtype  \n",
      "---  ------                          --------------  -----  \n",
      " 0   Title                           963 non-null    object \n",
      " 1   Company                         963 non-null    object \n",
      " 2   Link                            963 non-null    object \n",
      " 3   Review                          963 non-null    object \n",
      " 4   Salary                          963 non-null    object \n",
      " 5   Description                     963 non-null    object \n",
      " 6   Location2                       958 non-null    object \n",
      " 7   Rate_by                         963 non-null    object \n",
      " 8   low                             963 non-null    object \n",
      " 9   high                            762 non-null    object \n",
      " 10  min                             963 non-null    float64\n",
      " 11  max                             963 non-null    float64\n",
      " 12  adjusted_salary                 963 non-null    float64\n",
      " 13  adjusted_yearly_salary          963 non-null    float64\n",
      " 14  Rank                            939 non-null    float64\n",
      " 15  City                            939 non-null    object \n",
      " 16  Cost of Living Index            939 non-null    float64\n",
      " 17  Rent Index                      939 non-null    float64\n",
      " 18  Cost of Living Plus Rent Index  939 non-null    float64\n",
      " 19  Groceries Index                 939 non-null    float64\n",
      " 20  Restaurant Price Index          939 non-null    float64\n",
      " 21  Local Purchasing Power Index    939 non-null    float64\n",
      " 22  City_Bins                       939 non-null    object \n",
      " 23  combined_text                   963 non-null    object \n",
      " 24  Salary_Bins                     963 non-null    int64  \n",
      "dtypes: float64(11), int64(1), object(13)\n",
      "memory usage: 188.2+ KB\n"
     ]
    }
   ],
   "source": [
    "salary_df.info()"
   ]
  },
  {
   "cell_type": "code",
   "execution_count": 152,
   "id": "22221a08",
   "metadata": {},
   "outputs": [
    {
     "data": {
      "image/png": "[encoded data removed]",
      "text/plain": [
       "<Figure size 640x480 with 1 Axes>"
      ]
     },
     "metadata": {},
     "output_type": "display_data"
    }
   ],
   "source": [
    "salary_df.hist('adjusted_yearly_salary', bins=50)\n",
    "# plt.grid(axis='both')\n",
    "plt.show()"
   ]
  },
  {
   "cell_type": "code",
   "execution_count": 84,
   "id": "9806976b",
   "metadata": {},
   "outputs": [
    {
     "data": {
      "text/plain": [
       "352500.0"
      ]
     },
     "execution_count": 84,
     "metadata": {},
     "output_type": "execute_result"
    }
   ],
   "source": [
    "salary_df['adjusted_yearly_salary'].max() - salary_df['adjusted_yearly_salary'].min()"
   ]
  },
  {
   "cell_type": "code",
   "execution_count": 85,
   "id": "f837a1cd",
   "metadata": {},
   "outputs": [
    {
     "data": {
      "text/plain": [
       "0.000000     10000.000000\n",
       "0.166667     54026.666667\n",
       "0.333333     70000.000000\n",
       "0.500000     90000.000000\n",
       "0.666667    114400.000000\n",
       "0.833333    145600.000000\n",
       "1.000000    362500.000000\n",
       "Name: adjusted_yearly_salary, dtype: float64"
      ]
     },
     "execution_count": 85,
     "metadata": {},
     "output_type": "execute_result"
    }
   ],
   "source": [
    "salary_df['adjusted_yearly_salary'].quantile(list(np.linspace(0,1,7)))"
   ]
  },
  {
   "cell_type": "code",
   "execution_count": 86,
   "id": "4b2850a8",
   "metadata": {},
   "outputs": [
    {
     "data": {
      "text/plain": [
       "0      5\n",
       "1      1\n",
       "2      0\n",
       "3      2\n",
       "4      3\n",
       "      ..\n",
       "958    3\n",
       "959    3\n",
       "960    3\n",
       "961    2\n",
       "962    2\n",
       "Name: Salary_Bins, Length: 963, dtype: int64"
      ]
     },
     "execution_count": 86,
     "metadata": {},
     "output_type": "execute_result"
    }
   ],
   "source": [
    "salary_df['Salary_Bins']"
   ]
  },
  {
   "cell_type": "code",
   "execution_count": 87,
   "id": "5f07a238",
   "metadata": {},
   "outputs": [
    {
     "data": {
      "image/png": "[encoded data removed]",
      "text/plain": [
       "<Figure size 640x480 with 1 Axes>"
      ]
     },
     "metadata": {},
     "output_type": "display_data"
    }
   ],
   "source": [
    "salary_df.groupby('Salary_Bins')['Location2'].count().plot.bar()\n",
    "plt.show()"
   ]
  },
  {
   "cell_type": "code",
   "execution_count": 88,
   "id": "0565f389",
   "metadata": {},
   "outputs": [],
   "source": [
    "# Categorical target\n",
    "target_class = salary_df['Salary_Bins'].astype('category')"
   ]
  },
  {
   "cell_type": "code",
   "execution_count": 89,
   "id": "30aa9aee",
   "metadata": {},
   "outputs": [
    {
     "data": {
      "text/plain": [
       "0      5\n",
       "1      1\n",
       "2      0\n",
       "3      2\n",
       "4      3\n",
       "      ..\n",
       "958    3\n",
       "959    3\n",
       "960    3\n",
       "961    2\n",
       "962    2\n",
       "Name: Salary_Bins, Length: 963, dtype: category\n",
       "Categories (6, int64): [0, 1, 2, 3, 4, 5]"
      ]
     },
     "execution_count": 89,
     "metadata": {},
     "output_type": "execute_result"
    }
   ],
   "source": [
    "target_class"
   ]
  },
  {
   "cell_type": "code",
   "execution_count": 90,
   "id": "527d5e4a",
   "metadata": {},
   "outputs": [],
   "source": [
    "def clean_word(job_descriptions):\n",
    "    jd_data=[]\n",
    "    pattern = \"([a-zA-Z]+(?:'[a-z]+)?)\"\n",
    "    stopwords_list = stopwords.words('english')\n",
    "    stopwords_list += list(string.punctuation)\n",
    "    stopwords_list += ['0', '1', '2', '3', '4', '5', '6', '7', '8', '9']\n",
    "    stopwords_list += ['www','http','com','llc','covid','non','pm','am','eg','e','g','ie','i']\n",
    "    \n",
    "    for jd in job_descriptions:\n",
    "        jd_tokens_raw = nltk.regexp_tokenize(jd, pattern)\n",
    "        jd_tokens=[word.lower() for word in jd_tokens_raw]\n",
    "        jd_words_stopped = [word for word in jd_tokens if word not in stopwords_list]\n",
    "        jd_data.append(jd_words_stopped)\n",
    "\n",
    "    return pd.Series(jd_data) # Turn list of lists to series of lists to use in Word2Vec"
   ]
  },
  {
   "cell_type": "code",
   "execution_count": 91,
   "id": "9c18c746",
   "metadata": {},
   "outputs": [],
   "source": [
    "data = clean_word(salary_df['combined_text'])"
   ]
  },
  {
   "cell_type": "code",
   "execution_count": 92,
   "id": "c6517af2",
   "metadata": {},
   "outputs": [
    {
     "data": {
      "text/plain": [
       "0      [data, scientist, position, requires, top, sec...\n",
       "1      [data, science, data, analyst, cost, readiness...\n",
       "2      [data, science, intern, job, title, data, scie...\n",
       "3      [jr, data, scientist, ideal, candidate, degree...\n",
       "4      [business, data, quality, engineer, please, no...\n",
       "                             ...                        \n",
       "958    [data, engineering, ii, data, engineering, ii,...\n",
       "959    [ir, day, shift, tier, ir, day, shift, salary,...\n",
       "960    [security, engineer, security, engineer, salar...\n",
       "961    [fdp, analyst, position, title, fdp, analyst, ...\n",
       "962    [junior, ms, access, vba, developer, want, acc...\n",
       "Length: 963, dtype: object"
      ]
     },
     "execution_count": 92,
     "metadata": {},
     "output_type": "execute_result"
    }
   ],
   "source": [
    "data"
   ]
  },
  {
   "cell_type": "markdown",
   "id": "c5c253f1",
   "metadata": {},
   "source": [
    "## Model 6: Mixed Input Model with City, Rate Type and Cost of Living Indexes\n",
    "\n",
    "Use Functional API:  https://machinelearningmastery.com/keras-functional-api-deep-learning/\n",
    "\n",
    "Multi-input full example: https://www.pyimagesearch.com/2019/02/04/keras-multiple-inputs-and-mixed-data/"
   ]
  },
  {
   "cell_type": "code",
   "execution_count": 93,
   "id": "dbd48beb",
   "metadata": {},
   "outputs": [
    {
     "data": {
      "text/html": [
       "<div>\n",
       "<style scoped>\n",
       "    .dataframe tbody tr th:only-of-type {\n",
       "        vertical-align: middle;\n",
       "    }\n",
       "\n",
       "    .dataframe tbody tr th {\n",
       "        vertical-align: top;\n",
       "    }\n",
       "\n",
       "    .dataframe thead th {\n",
       "        text-align: right;\n",
       "    }\n",
       "</style>\n",
       "<table border=\"1\" class=\"dataframe\">\n",
       "  <thead>\n",
       "    <tr style=\"text-align: right;\">\n",
       "      <th></th>\n",
       "      <th>Title</th>\n",
       "      <th>Company</th>\n",
       "      <th>Link</th>\n",
       "      <th>Review</th>\n",
       "      <th>Salary</th>\n",
       "      <th>Description</th>\n",
       "      <th>Location2</th>\n",
       "      <th>Rate_by</th>\n",
       "      <th>low</th>\n",
       "      <th>high</th>\n",
       "      <th>...</th>\n",
       "      <th>City</th>\n",
       "      <th>Cost of Living Index</th>\n",
       "      <th>Rent Index</th>\n",
       "      <th>Cost of Living Plus Rent Index</th>\n",
       "      <th>Groceries Index</th>\n",
       "      <th>Restaurant Price Index</th>\n",
       "      <th>Local Purchasing Power Index</th>\n",
       "      <th>City_Bins</th>\n",
       "      <th>combined_text</th>\n",
       "      <th>Salary_Bins</th>\n",
       "    </tr>\n",
       "  </thead>\n",
       "  <tbody>\n",
       "    <tr>\n",
       "      <th>0</th>\n",
       "      <td>2021048 Data Scientist $215,000.00</td>\n",
       "      <td>B4CORP</td>\n",
       "      <td>https://www.indeed.com/pagead/clk?mo=r&amp;ad=-6NY...</td>\n",
       "      <td>None</td>\n",
       "      <td>Up to $215,000 a year</td>\n",
       "      <td>Position Requires a Top Secret (TS/SCI) Cleara...</td>\n",
       "      <td>Arlington, VA</td>\n",
       "      <td>Yearly</td>\n",
       "      <td>Up to $215,000 a year</td>\n",
       "      <td>NaN</td>\n",
       "      <td>...</td>\n",
       "      <td>Arlington, VA</td>\n",
       "      <td>80.159143</td>\n",
       "      <td>58.838571</td>\n",
       "      <td>69.961143</td>\n",
       "      <td>76.886286</td>\n",
       "      <td>78.608571</td>\n",
       "      <td>115.594571</td>\n",
       "      <td>medium</td>\n",
       "      <td>2021048 Data Scientist $215,000.00 Position Re...</td>\n",
       "      <td>5</td>\n",
       "    </tr>\n",
       "    <tr>\n",
       "      <th>1</th>\n",
       "      <td>Data Science/Data Analyst</td>\n",
       "      <td>CRAiC LLC</td>\n",
       "      <td>https://www.indeed.com/company/CRAiC-LLC/jobs/...</td>\n",
       "      <td>None</td>\n",
       "      <td>$60,000 a year</td>\n",
       "      <td>Cost Readiness Analytics (CRAiC LLC) is lookin...</td>\n",
       "      <td>Arlington, VA</td>\n",
       "      <td>Yearly</td>\n",
       "      <td>$60,000 a year</td>\n",
       "      <td>NaN</td>\n",
       "      <td>...</td>\n",
       "      <td>Arlington, VA</td>\n",
       "      <td>80.159143</td>\n",
       "      <td>58.838571</td>\n",
       "      <td>69.961143</td>\n",
       "      <td>76.886286</td>\n",
       "      <td>78.608571</td>\n",
       "      <td>115.594571</td>\n",
       "      <td>medium</td>\n",
       "      <td>Data Science/Data Analyst Cost Readiness Analy...</td>\n",
       "      <td>1</td>\n",
       "    </tr>\n",
       "    <tr>\n",
       "      <th>2</th>\n",
       "      <td>Data Science Intern</td>\n",
       "      <td>MilliporeSigma</td>\n",
       "      <td>https://www.indeed.com/company/Serono/jobs/Dat...</td>\n",
       "      <td>3.9</td>\n",
       "      <td>$20 - $25 an hour</td>\n",
       "      <td>Job Title: Data Science Intern\\rA career with ...</td>\n",
       "      <td>Arlington, VA</td>\n",
       "      <td>Hourly</td>\n",
       "      <td>$20</td>\n",
       "      <td>$25 an hour</td>\n",
       "      <td>...</td>\n",
       "      <td>Arlington, VA</td>\n",
       "      <td>80.159143</td>\n",
       "      <td>58.838571</td>\n",
       "      <td>69.961143</td>\n",
       "      <td>76.886286</td>\n",
       "      <td>78.608571</td>\n",
       "      <td>115.594571</td>\n",
       "      <td>medium</td>\n",
       "      <td>Data Science Intern Job Title: Data Science In...</td>\n",
       "      <td>0</td>\n",
       "    </tr>\n",
       "    <tr>\n",
       "      <th>3</th>\n",
       "      <td>Jr. Data Scientist</td>\n",
       "      <td>Numero Data LLC</td>\n",
       "      <td>https://www.indeed.com/company/Numero-Data-LLC...</td>\n",
       "      <td>None</td>\n",
       "      <td>$70,000 - $85,000 a year</td>\n",
       "      <td>Ideal candidate should have a degree in a quan...</td>\n",
       "      <td>Arlington, VA</td>\n",
       "      <td>Yearly</td>\n",
       "      <td>$70,000</td>\n",
       "      <td>$85,000 a year</td>\n",
       "      <td>...</td>\n",
       "      <td>Arlington, VA</td>\n",
       "      <td>80.159143</td>\n",
       "      <td>58.838571</td>\n",
       "      <td>69.961143</td>\n",
       "      <td>76.886286</td>\n",
       "      <td>78.608571</td>\n",
       "      <td>115.594571</td>\n",
       "      <td>medium</td>\n",
       "      <td>Jr. Data Scientist Ideal candidate should have...</td>\n",
       "      <td>2</td>\n",
       "    </tr>\n",
       "    <tr>\n",
       "      <th>4</th>\n",
       "      <td>Business Data Quality Engineer</td>\n",
       "      <td>HRU Technical Resources</td>\n",
       "      <td>https://www.indeed.com/pagead/clk?mo=r&amp;ad=-6NY...</td>\n",
       "      <td>None</td>\n",
       "      <td>$45 - $55 an hour</td>\n",
       "      <td>Please note that this is not a corp to corp or...</td>\n",
       "      <td>Arlington, VA</td>\n",
       "      <td>Hourly</td>\n",
       "      <td>$45</td>\n",
       "      <td>$55 an hour</td>\n",
       "      <td>...</td>\n",
       "      <td>Arlington, VA</td>\n",
       "      <td>80.159143</td>\n",
       "      <td>58.838571</td>\n",
       "      <td>69.961143</td>\n",
       "      <td>76.886286</td>\n",
       "      <td>78.608571</td>\n",
       "      <td>115.594571</td>\n",
       "      <td>medium</td>\n",
       "      <td>Business Data Quality Engineer Please note tha...</td>\n",
       "      <td>3</td>\n",
       "    </tr>\n",
       "  </tbody>\n",
       "</table>\n",
       "<p>5 rows × 25 columns</p>\n",
       "</div>"
      ],
      "text/plain": [
       "                                Title                  Company  \\\n",
       "0  2021048 Data Scientist $215,000.00                   B4CORP   \n",
       "1           Data Science/Data Analyst                CRAiC LLC   \n",
       "2                 Data Science Intern           MilliporeSigma   \n",
       "3                  Jr. Data Scientist          Numero Data LLC   \n",
       "4      Business Data Quality Engineer  HRU Technical Resources   \n",
       "\n",
       "                                                Link Review  \\\n",
       "0  https://www.indeed.com/pagead/clk?mo=r&ad=-6NY...   None   \n",
       "1  https://www.indeed.com/company/CRAiC-LLC/jobs/...   None   \n",
       "2  https://www.indeed.com/company/Serono/jobs/Dat...    3.9   \n",
       "3  https://www.indeed.com/company/Numero-Data-LLC...   None   \n",
       "4  https://www.indeed.com/pagead/clk?mo=r&ad=-6NY...   None   \n",
       "\n",
       "                     Salary  \\\n",
       "0     Up to $215,000 a year   \n",
       "1            $60,000 a year   \n",
       "2         $20 - $25 an hour   \n",
       "3  $70,000 - $85,000 a year   \n",
       "4         $45 - $55 an hour   \n",
       "\n",
       "                                         Description      Location2 Rate_by  \\\n",
       "0  Position Requires a Top Secret (TS/SCI) Cleara...  Arlington, VA  Yearly   \n",
       "1  Cost Readiness Analytics (CRAiC LLC) is lookin...  Arlington, VA  Yearly   \n",
       "2  Job Title: Data Science Intern\\rA career with ...  Arlington, VA  Hourly   \n",
       "3  Ideal candidate should have a degree in a quan...  Arlington, VA  Yearly   \n",
       "4  Please note that this is not a corp to corp or...  Arlington, VA  Hourly   \n",
       "\n",
       "                     low             high  ...           City  \\\n",
       "0  Up to $215,000 a year              NaN  ...  Arlington, VA   \n",
       "1         $60,000 a year              NaN  ...  Arlington, VA   \n",
       "2                   $20       $25 an hour  ...  Arlington, VA   \n",
       "3               $70,000    $85,000 a year  ...  Arlington, VA   \n",
       "4                   $45       $55 an hour  ...  Arlington, VA   \n",
       "\n",
       "   Cost of Living Index  Rent Index  Cost of Living Plus Rent Index  \\\n",
       "0             80.159143   58.838571                       69.961143   \n",
       "1             80.159143   58.838571                       69.961143   \n",
       "2             80.159143   58.838571                       69.961143   \n",
       "3             80.159143   58.838571                       69.961143   \n",
       "4             80.159143   58.838571                       69.961143   \n",
       "\n",
       "   Groceries Index Restaurant Price Index  Local Purchasing Power Index  \\\n",
       "0        76.886286              78.608571                    115.594571   \n",
       "1        76.886286              78.608571                    115.594571   \n",
       "2        76.886286              78.608571                    115.594571   \n",
       "3        76.886286              78.608571                    115.594571   \n",
       "4        76.886286              78.608571                    115.594571   \n",
       "\n",
       "   City_Bins                                      combined_text  Salary_Bins  \n",
       "0     medium  2021048 Data Scientist $215,000.00 Position Re...            5  \n",
       "1     medium  Data Science/Data Analyst Cost Readiness Analy...            1  \n",
       "2     medium  Data Science Intern Job Title: Data Science In...            0  \n",
       "3     medium  Jr. Data Scientist Ideal candidate should have...            2  \n",
       "4     medium  Business Data Quality Engineer Please note tha...            3  \n",
       "\n",
       "[5 rows x 25 columns]"
      ]
     },
     "execution_count": 93,
     "metadata": {},
     "output_type": "execute_result"
    }
   ],
   "source": [
    "# Let's explore continuous and categorical variables\n",
    "salary_df.head()"
   ]
  },
  {
   "cell_type": "code",
   "execution_count": 94,
   "id": "dc16ae58",
   "metadata": {},
   "outputs": [],
   "source": [
    "cont_features = ['Cost of Living Index','Rent Index','Cost of Living Plus Rent Index','Local Purchasing Power Index']\n",
    "X_cont_df = salary_df.loc[:, cont_features]"
   ]
  },
  {
   "cell_type": "code",
   "execution_count": 95,
   "id": "b78d90cc",
   "metadata": {},
   "outputs": [
    {
     "data": {
      "text/html": [
       "<div>\n",
       "<style scoped>\n",
       "    .dataframe tbody tr th:only-of-type {\n",
       "        vertical-align: middle;\n",
       "    }\n",
       "\n",
       "    .dataframe tbody tr th {\n",
       "        vertical-align: top;\n",
       "    }\n",
       "\n",
       "    .dataframe thead th {\n",
       "        text-align: right;\n",
       "    }\n",
       "</style>\n",
       "<table border=\"1\" class=\"dataframe\">\n",
       "  <thead>\n",
       "    <tr style=\"text-align: right;\">\n",
       "      <th></th>\n",
       "      <th>Cost of Living Index</th>\n",
       "      <th>Rent Index</th>\n",
       "      <th>Cost of Living Plus Rent Index</th>\n",
       "      <th>Local Purchasing Power Index</th>\n",
       "    </tr>\n",
       "  </thead>\n",
       "  <tbody>\n",
       "    <tr>\n",
       "      <th>0</th>\n",
       "      <td>80.159143</td>\n",
       "      <td>58.838571</td>\n",
       "      <td>69.961143</td>\n",
       "      <td>115.594571</td>\n",
       "    </tr>\n",
       "    <tr>\n",
       "      <th>1</th>\n",
       "      <td>80.159143</td>\n",
       "      <td>58.838571</td>\n",
       "      <td>69.961143</td>\n",
       "      <td>115.594571</td>\n",
       "    </tr>\n",
       "    <tr>\n",
       "      <th>2</th>\n",
       "      <td>80.159143</td>\n",
       "      <td>58.838571</td>\n",
       "      <td>69.961143</td>\n",
       "      <td>115.594571</td>\n",
       "    </tr>\n",
       "    <tr>\n",
       "      <th>3</th>\n",
       "      <td>80.159143</td>\n",
       "      <td>58.838571</td>\n",
       "      <td>69.961143</td>\n",
       "      <td>115.594571</td>\n",
       "    </tr>\n",
       "    <tr>\n",
       "      <th>4</th>\n",
       "      <td>80.159143</td>\n",
       "      <td>58.838571</td>\n",
       "      <td>69.961143</td>\n",
       "      <td>115.594571</td>\n",
       "    </tr>\n",
       "    <tr>\n",
       "      <th>...</th>\n",
       "      <td>...</td>\n",
       "      <td>...</td>\n",
       "      <td>...</td>\n",
       "      <td>...</td>\n",
       "    </tr>\n",
       "    <tr>\n",
       "      <th>958</th>\n",
       "      <td>87.740000</td>\n",
       "      <td>78.180000</td>\n",
       "      <td>83.170000</td>\n",
       "      <td>130.250000</td>\n",
       "    </tr>\n",
       "    <tr>\n",
       "      <th>959</th>\n",
       "      <td>87.740000</td>\n",
       "      <td>78.180000</td>\n",
       "      <td>83.170000</td>\n",
       "      <td>130.250000</td>\n",
       "    </tr>\n",
       "    <tr>\n",
       "      <th>960</th>\n",
       "      <td>87.740000</td>\n",
       "      <td>78.180000</td>\n",
       "      <td>83.170000</td>\n",
       "      <td>130.250000</td>\n",
       "    </tr>\n",
       "    <tr>\n",
       "      <th>961</th>\n",
       "      <td>87.740000</td>\n",
       "      <td>78.180000</td>\n",
       "      <td>83.170000</td>\n",
       "      <td>130.250000</td>\n",
       "    </tr>\n",
       "    <tr>\n",
       "      <th>962</th>\n",
       "      <td>87.740000</td>\n",
       "      <td>78.180000</td>\n",
       "      <td>83.170000</td>\n",
       "      <td>130.250000</td>\n",
       "    </tr>\n",
       "  </tbody>\n",
       "</table>\n",
       "<p>963 rows × 4 columns</p>\n",
       "</div>"
      ],
      "text/plain": [
       "     Cost of Living Index  Rent Index  Cost of Living Plus Rent Index  \\\n",
       "0               80.159143   58.838571                       69.961143   \n",
       "1               80.159143   58.838571                       69.961143   \n",
       "2               80.159143   58.838571                       69.961143   \n",
       "3               80.159143   58.838571                       69.961143   \n",
       "4               80.159143   58.838571                       69.961143   \n",
       "..                    ...         ...                             ...   \n",
       "958             87.740000   78.180000                       83.170000   \n",
       "959             87.740000   78.180000                       83.170000   \n",
       "960             87.740000   78.180000                       83.170000   \n",
       "961             87.740000   78.180000                       83.170000   \n",
       "962             87.740000   78.180000                       83.170000   \n",
       "\n",
       "     Local Purchasing Power Index  \n",
       "0                      115.594571  \n",
       "1                      115.594571  \n",
       "2                      115.594571  \n",
       "3                      115.594571  \n",
       "4                      115.594571  \n",
       "..                            ...  \n",
       "958                    130.250000  \n",
       "959                    130.250000  \n",
       "960                    130.250000  \n",
       "961                    130.250000  \n",
       "962                    130.250000  \n",
       "\n",
       "[963 rows x 4 columns]"
      ]
     },
     "execution_count": 95,
     "metadata": {},
     "output_type": "execute_result"
    }
   ],
   "source": [
    "X_cont_df"
   ]
  },
  {
   "cell_type": "code",
   "execution_count": 96,
   "id": "4dd8cec6",
   "metadata": {},
   "outputs": [
    {
     "name": "stdout",
     "output_type": "stream",
     "text": [
      "<class 'pandas.core.frame.DataFrame'>\n",
      "RangeIndex: 963 entries, 0 to 962\n",
      "Data columns (total 4 columns):\n",
      " #   Column                          Non-Null Count  Dtype  \n",
      "---  ------                          --------------  -----  \n",
      " 0   Cost of Living Index            939 non-null    float64\n",
      " 1   Rent Index                      939 non-null    float64\n",
      " 2   Cost of Living Plus Rent Index  939 non-null    float64\n",
      " 3   Local Purchasing Power Index    939 non-null    float64\n",
      "dtypes: float64(4)\n",
      "memory usage: 30.2 KB\n"
     ]
    }
   ],
   "source": [
    "X_cont_df.info()"
   ]
  },
  {
   "cell_type": "code",
   "execution_count": 97,
   "id": "d10bdc3c",
   "metadata": {},
   "outputs": [
    {
     "data": {
      "image/png": "[encoded data removed]",
      "text/plain": [
       "<Figure size 600x400 with 2 Axes>"
      ]
     },
     "metadata": {},
     "output_type": "display_data"
    }
   ],
   "source": [
    "# Look at the correlation among continous variables\n",
    "np.random.seed(0)\n",
    "sns.set()\n",
    "plt.figure(figsize=(6,4))\n",
    "ax = sns.heatmap(X_cont_df.corr(), annot=True)\n",
    "plt.title(\"Correlation Matrix\")\n",
    "plt.show()"
   ]
  },
  {
   "cell_type": "markdown",
   "id": "f44486a2",
   "metadata": {},
   "source": [
    "It looks like 'Cost of Living Index' largely corralates with 'Rent Index' and negatively corralates with 'Local Purchasing Power Index'. In this model, we'll keep 'Cost of Living Plus Rent Index' and 'Local Purchasing Power Index'."
   ]
  },
  {
   "cell_type": "code",
   "execution_count": 98,
   "id": "1a2917f3",
   "metadata": {},
   "outputs": [],
   "source": [
    "# Keep 'Cost of Living Plus Rent Index', 'Local Purchasing Power Index' and fill missing values with the mean\n",
    "cont_imp = SimpleImputer(strategy='mean')\n",
    "cont_imp.fit(X_cont_df[['Cost of Living Plus Rent Index','Local Purchasing Power Index']])\n",
    "X_cont = cont_imp.transform(X_cont_df[['Cost of Living Plus Rent Index','Local Purchasing Power Index']])\n",
    "\n",
    "# Standardize inputs\n",
    "sc=StandardScaler()\n",
    "sc.fit(X_cont)\n",
    "X_cont_scaled = sc.transform(X_cont)\n",
    "\n",
    "# Continous Features Dataframe\n",
    "cont_scaled_df = pd.DataFrame(X_cont_scaled, columns = ['Cost of Living Plus Rent Index','Local Purchasing Power Index'])"
   ]
  },
  {
   "cell_type": "code",
   "execution_count": 99,
   "id": "95901ee8",
   "metadata": {},
   "outputs": [
    {
     "data": {
      "text/html": [
       "<div>\n",
       "<style scoped>\n",
       "    .dataframe tbody tr th:only-of-type {\n",
       "        vertical-align: middle;\n",
       "    }\n",
       "\n",
       "    .dataframe tbody tr th {\n",
       "        vertical-align: top;\n",
       "    }\n",
       "\n",
       "    .dataframe thead th {\n",
       "        text-align: right;\n",
       "    }\n",
       "</style>\n",
       "<table border=\"1\" class=\"dataframe\">\n",
       "  <thead>\n",
       "    <tr style=\"text-align: right;\">\n",
       "      <th></th>\n",
       "      <th>Cost of Living Plus Rent Index</th>\n",
       "      <th>Local Purchasing Power Index</th>\n",
       "    </tr>\n",
       "  </thead>\n",
       "  <tbody>\n",
       "    <tr>\n",
       "      <th>0</th>\n",
       "      <td>-0.393615</td>\n",
       "      <td>-0.604979</td>\n",
       "    </tr>\n",
       "    <tr>\n",
       "      <th>1</th>\n",
       "      <td>-0.393615</td>\n",
       "      <td>-0.604979</td>\n",
       "    </tr>\n",
       "    <tr>\n",
       "      <th>2</th>\n",
       "      <td>-0.393615</td>\n",
       "      <td>-0.604979</td>\n",
       "    </tr>\n",
       "    <tr>\n",
       "      <th>3</th>\n",
       "      <td>-0.393615</td>\n",
       "      <td>-0.604979</td>\n",
       "    </tr>\n",
       "    <tr>\n",
       "      <th>4</th>\n",
       "      <td>-0.393615</td>\n",
       "      <td>-0.604979</td>\n",
       "    </tr>\n",
       "  </tbody>\n",
       "</table>\n",
       "</div>"
      ],
      "text/plain": [
       "   Cost of Living Plus Rent Index  Local Purchasing Power Index\n",
       "0                       -0.393615                     -0.604979\n",
       "1                       -0.393615                     -0.604979\n",
       "2                       -0.393615                     -0.604979\n",
       "3                       -0.393615                     -0.604979\n",
       "4                       -0.393615                     -0.604979"
      ]
     },
     "execution_count": 99,
     "metadata": {},
     "output_type": "execute_result"
    }
   ],
   "source": [
    "cont_scaled_df.head()"
   ]
  },
  {
   "cell_type": "code",
   "execution_count": 100,
   "id": "04b712b4",
   "metadata": {},
   "outputs": [],
   "source": [
    "# Also try unscaled Index\n",
    "con_unscaled_df = pd.DataFrame(X_cont_df, columns = ['Cost of Living Plus Rent Index','Local Purchasing Power Index'])"
   ]
  },
  {
   "cell_type": "code",
   "execution_count": 101,
   "id": "2e887e2b",
   "metadata": {},
   "outputs": [
    {
     "data": {
      "text/html": [
       "<div>\n",
       "<style scoped>\n",
       "    .dataframe tbody tr th:only-of-type {\n",
       "        vertical-align: middle;\n",
       "    }\n",
       "\n",
       "    .dataframe tbody tr th {\n",
       "        vertical-align: top;\n",
       "    }\n",
       "\n",
       "    .dataframe thead th {\n",
       "        text-align: right;\n",
       "    }\n",
       "</style>\n",
       "<table border=\"1\" class=\"dataframe\">\n",
       "  <thead>\n",
       "    <tr style=\"text-align: right;\">\n",
       "      <th></th>\n",
       "      <th>Cost of Living Plus Rent Index</th>\n",
       "      <th>Local Purchasing Power Index</th>\n",
       "    </tr>\n",
       "  </thead>\n",
       "  <tbody>\n",
       "    <tr>\n",
       "      <th>0</th>\n",
       "      <td>69.961143</td>\n",
       "      <td>115.594571</td>\n",
       "    </tr>\n",
       "    <tr>\n",
       "      <th>1</th>\n",
       "      <td>69.961143</td>\n",
       "      <td>115.594571</td>\n",
       "    </tr>\n",
       "    <tr>\n",
       "      <th>2</th>\n",
       "      <td>69.961143</td>\n",
       "      <td>115.594571</td>\n",
       "    </tr>\n",
       "    <tr>\n",
       "      <th>3</th>\n",
       "      <td>69.961143</td>\n",
       "      <td>115.594571</td>\n",
       "    </tr>\n",
       "    <tr>\n",
       "      <th>4</th>\n",
       "      <td>69.961143</td>\n",
       "      <td>115.594571</td>\n",
       "    </tr>\n",
       "  </tbody>\n",
       "</table>\n",
       "</div>"
      ],
      "text/plain": [
       "   Cost of Living Plus Rent Index  Local Purchasing Power Index\n",
       "0                       69.961143                    115.594571\n",
       "1                       69.961143                    115.594571\n",
       "2                       69.961143                    115.594571\n",
       "3                       69.961143                    115.594571\n",
       "4                       69.961143                    115.594571"
      ]
     },
     "execution_count": 101,
     "metadata": {},
     "output_type": "execute_result"
    }
   ],
   "source": [
    "con_unscaled_df.head()"
   ]
  },
  {
   "cell_type": "code",
   "execution_count": 102,
   "id": "6f9fa3fc",
   "metadata": {},
   "outputs": [
    {
     "name": "stdout",
     "output_type": "stream",
     "text": [
      "<class 'pandas.core.frame.DataFrame'>\n",
      "RangeIndex: 963 entries, 0 to 962\n",
      "Data columns (total 2 columns):\n",
      " #   Column                          Non-Null Count  Dtype  \n",
      "---  ------                          --------------  -----  \n",
      " 0   Cost of Living Plus Rent Index  939 non-null    float64\n",
      " 1   Local Purchasing Power Index    939 non-null    float64\n",
      "dtypes: float64(2)\n",
      "memory usage: 15.2 KB\n"
     ]
    }
   ],
   "source": [
    "con_unscaled_df.info()"
   ]
  },
  {
   "cell_type": "code",
   "execution_count": 103,
   "id": "eef569f5",
   "metadata": {},
   "outputs": [
    {
     "data": {
      "text/plain": [
       "array(['Arlington, VA', 'Atlanta, GA', nan, 'Austin, TX', 'Boston, MA',\n",
       "       'Cambridge, MA', 'Charlotte, NC', 'Chicago, IL', 'Dallas, TX',\n",
       "       'Denver, CO', 'Hartford, CT', 'Houston, TX', 'Irving, TX',\n",
       "       'Los Angeles, CA', 'New York, NY', 'Palo Alto, CA',\n",
       "       'Philadelphia, PA', 'Pittsburg, PA', 'Portland, OR',\n",
       "       'Raleigh-Durham, NC', 'San Antonio, TX', 'San Francisco, CA',\n",
       "       'San Jose, CA', 'Seattle, WA', 'Washington, DC'], dtype=object)"
      ]
     },
     "execution_count": 103,
     "metadata": {},
     "output_type": "execute_result"
    }
   ],
   "source": [
    "salary_df['City'].unique()"
   ]
  },
  {
   "cell_type": "code",
   "execution_count": 104,
   "id": "4610154b",
   "metadata": {},
   "outputs": [],
   "source": [
    "salary_df['City_Bins'] = salary_df['City_Bins'].astype('category')"
   ]
  },
  {
   "cell_type": "code",
   "execution_count": 105,
   "id": "57d2cd20",
   "metadata": {},
   "outputs": [
    {
     "data": {
      "text/plain": [
       "low       363\n",
       "high      294\n",
       "medium    282\n",
       "Name: City_Bins, dtype: int64"
      ]
     },
     "execution_count": 105,
     "metadata": {},
     "output_type": "execute_result"
    }
   ],
   "source": [
    "salary_df['City_Bins'].value_counts()"
   ]
  },
  {
   "cell_type": "code",
   "execution_count": 106,
   "id": "bed85546",
   "metadata": {},
   "outputs": [
    {
     "data": {
      "text/plain": [
       "array(['Yearly', 'Hourly', 'Monthly', 'Daily'], dtype=object)"
      ]
     },
     "execution_count": 106,
     "metadata": {},
     "output_type": "execute_result"
    }
   ],
   "source": [
    "salary_df['Rate_by'].unique()"
   ]
  },
  {
   "cell_type": "code",
   "execution_count": 107,
   "id": "e2ef683d",
   "metadata": {},
   "outputs": [
    {
     "name": "stderr",
     "output_type": "stream",
     "text": [
      "C:\\Users\\Doğan Yiğit Yenigün\\AppData\\Local\\Programs\\Python\\Python310\\lib\\site-packages\\sklearn\\utils\\deprecation.py:87: FutureWarning: Function get_feature_names is deprecated; get_feature_names is deprecated in 1.0 and will be removed in 1.2. Please use get_feature_names_out instead.\n",
      "  warnings.warn(msg, category=FutureWarning)\n"
     ]
    }
   ],
   "source": [
    "# Categorical Features\n",
    "cat_features = ['Rate_by','City_Bins']\n",
    "X_cat = salary_df.loc[:, cat_features]\n",
    "\n",
    "# Replace NaNs with 'missing'\n",
    "cat_imp = SimpleImputer(strategy='constant', fill_value='missing')\n",
    "cat_imp.fit(X_cat)\n",
    "X_cat = cat_imp.transform(X_cat)\n",
    "\n",
    "# Encode Categorical Features\n",
    "ohe = OneHotEncoder(handle_unknown='ignore')\n",
    "ohe.fit(X_cat)\n",
    "X_cat_ohe = ohe.transform(X_cat)\n",
    "\n",
    "# Create categorical features dataframe\n",
    "cat_df = pd.DataFrame(X_cat_ohe.todense(), columns=ohe.get_feature_names(input_features=cat_features))"
   ]
  },
  {
   "cell_type": "code",
   "execution_count": 108,
   "id": "c399fde4",
   "metadata": {},
   "outputs": [
    {
     "data": {
      "text/html": [
       "<div>\n",
       "<style scoped>\n",
       "    .dataframe tbody tr th:only-of-type {\n",
       "        vertical-align: middle;\n",
       "    }\n",
       "\n",
       "    .dataframe tbody tr th {\n",
       "        vertical-align: top;\n",
       "    }\n",
       "\n",
       "    .dataframe thead th {\n",
       "        text-align: right;\n",
       "    }\n",
       "</style>\n",
       "<table border=\"1\" class=\"dataframe\">\n",
       "  <thead>\n",
       "    <tr style=\"text-align: right;\">\n",
       "      <th></th>\n",
       "      <th>Rate_by_Daily</th>\n",
       "      <th>Rate_by_Hourly</th>\n",
       "      <th>Rate_by_Monthly</th>\n",
       "      <th>Rate_by_Yearly</th>\n",
       "      <th>City_Bins_high</th>\n",
       "      <th>City_Bins_low</th>\n",
       "      <th>City_Bins_medium</th>\n",
       "      <th>City_Bins_missing</th>\n",
       "    </tr>\n",
       "  </thead>\n",
       "  <tbody>\n",
       "    <tr>\n",
       "      <th>count</th>\n",
       "      <td>963.000000</td>\n",
       "      <td>963.000000</td>\n",
       "      <td>963.000000</td>\n",
       "      <td>963.000000</td>\n",
       "      <td>963.000000</td>\n",
       "      <td>963.000000</td>\n",
       "      <td>963.000000</td>\n",
       "      <td>963.000000</td>\n",
       "    </tr>\n",
       "    <tr>\n",
       "      <th>mean</th>\n",
       "      <td>0.001038</td>\n",
       "      <td>0.305296</td>\n",
       "      <td>0.032191</td>\n",
       "      <td>0.661475</td>\n",
       "      <td>0.305296</td>\n",
       "      <td>0.376947</td>\n",
       "      <td>0.292835</td>\n",
       "      <td>0.024922</td>\n",
       "    </tr>\n",
       "    <tr>\n",
       "      <th>std</th>\n",
       "      <td>0.032225</td>\n",
       "      <td>0.460772</td>\n",
       "      <td>0.176599</td>\n",
       "      <td>0.473454</td>\n",
       "      <td>0.460772</td>\n",
       "      <td>0.484873</td>\n",
       "      <td>0.455300</td>\n",
       "      <td>0.155969</td>\n",
       "    </tr>\n",
       "    <tr>\n",
       "      <th>min</th>\n",
       "      <td>0.000000</td>\n",
       "      <td>0.000000</td>\n",
       "      <td>0.000000</td>\n",
       "      <td>0.000000</td>\n",
       "      <td>0.000000</td>\n",
       "      <td>0.000000</td>\n",
       "      <td>0.000000</td>\n",
       "      <td>0.000000</td>\n",
       "    </tr>\n",
       "    <tr>\n",
       "      <th>25%</th>\n",
       "      <td>0.000000</td>\n",
       "      <td>0.000000</td>\n",
       "      <td>0.000000</td>\n",
       "      <td>0.000000</td>\n",
       "      <td>0.000000</td>\n",
       "      <td>0.000000</td>\n",
       "      <td>0.000000</td>\n",
       "      <td>0.000000</td>\n",
       "    </tr>\n",
       "    <tr>\n",
       "      <th>50%</th>\n",
       "      <td>0.000000</td>\n",
       "      <td>0.000000</td>\n",
       "      <td>0.000000</td>\n",
       "      <td>1.000000</td>\n",
       "      <td>0.000000</td>\n",
       "      <td>0.000000</td>\n",
       "      <td>0.000000</td>\n",
       "      <td>0.000000</td>\n",
       "    </tr>\n",
       "    <tr>\n",
       "      <th>75%</th>\n",
       "      <td>0.000000</td>\n",
       "      <td>1.000000</td>\n",
       "      <td>0.000000</td>\n",
       "      <td>1.000000</td>\n",
       "      <td>1.000000</td>\n",
       "      <td>1.000000</td>\n",
       "      <td>1.000000</td>\n",
       "      <td>0.000000</td>\n",
       "    </tr>\n",
       "    <tr>\n",
       "      <th>max</th>\n",
       "      <td>1.000000</td>\n",
       "      <td>1.000000</td>\n",
       "      <td>1.000000</td>\n",
       "      <td>1.000000</td>\n",
       "      <td>1.000000</td>\n",
       "      <td>1.000000</td>\n",
       "      <td>1.000000</td>\n",
       "      <td>1.000000</td>\n",
       "    </tr>\n",
       "  </tbody>\n",
       "</table>\n",
       "</div>"
      ],
      "text/plain": [
       "       Rate_by_Daily  Rate_by_Hourly  Rate_by_Monthly  Rate_by_Yearly  \\\n",
       "count     963.000000      963.000000       963.000000      963.000000   \n",
       "mean        0.001038        0.305296         0.032191        0.661475   \n",
       "std         0.032225        0.460772         0.176599        0.473454   \n",
       "min         0.000000        0.000000         0.000000        0.000000   \n",
       "25%         0.000000        0.000000         0.000000        0.000000   \n",
       "50%         0.000000        0.000000         0.000000        1.000000   \n",
       "75%         0.000000        1.000000         0.000000        1.000000   \n",
       "max         1.000000        1.000000         1.000000        1.000000   \n",
       "\n",
       "       City_Bins_high  City_Bins_low  City_Bins_medium  City_Bins_missing  \n",
       "count      963.000000     963.000000        963.000000         963.000000  \n",
       "mean         0.305296       0.376947          0.292835           0.024922  \n",
       "std          0.460772       0.484873          0.455300           0.155969  \n",
       "min          0.000000       0.000000          0.000000           0.000000  \n",
       "25%          0.000000       0.000000          0.000000           0.000000  \n",
       "50%          0.000000       0.000000          0.000000           0.000000  \n",
       "75%          1.000000       1.000000          1.000000           0.000000  \n",
       "max          1.000000       1.000000          1.000000           1.000000  "
      ]
     },
     "execution_count": 108,
     "metadata": {},
     "output_type": "execute_result"
    }
   ],
   "source": [
    "cat_df.describe()"
   ]
  },
  {
   "cell_type": "code",
   "execution_count": 109,
   "id": "31c03c97",
   "metadata": {},
   "outputs": [],
   "source": [
    "# cat_df['City_Bins']= salary_df['City_Bins']\n",
    "# Drop Rate_by_Daily and City_Bins_missing since too many zeros\n",
    "cat_df_clean = cat_df.drop(['Rate_by_Daily', 'City_Bins_missing'], axis=1)"
   ]
  },
  {
   "cell_type": "code",
   "execution_count": 110,
   "id": "a9e8da51",
   "metadata": {},
   "outputs": [],
   "source": [
    "# Combine continuous and categorical variables into one data frame\n",
    "# Other_inputs = pd.concat([cont_scaled_df, cat_df], axis=1)\n",
    "Other_inputs = pd.concat([cont_scaled_df, cat_df_clean], axis=1)"
   ]
  },
  {
   "cell_type": "code",
   "execution_count": 111,
   "id": "484e36f4",
   "metadata": {},
   "outputs": [
    {
     "name": "stdout",
     "output_type": "stream",
     "text": [
      "<class 'pandas.core.frame.DataFrame'>\n",
      "RangeIndex: 963 entries, 0 to 962\n",
      "Data columns (total 8 columns):\n",
      " #   Column                          Non-Null Count  Dtype  \n",
      "---  ------                          --------------  -----  \n",
      " 0   Cost of Living Plus Rent Index  963 non-null    float64\n",
      " 1   Local Purchasing Power Index    963 non-null    float64\n",
      " 2   Rate_by_Hourly                  963 non-null    float64\n",
      " 3   Rate_by_Monthly                 963 non-null    float64\n",
      " 4   Rate_by_Yearly                  963 non-null    float64\n",
      " 5   City_Bins_high                  963 non-null    float64\n",
      " 6   City_Bins_low                   963 non-null    float64\n",
      " 7   City_Bins_medium                963 non-null    float64\n",
      "dtypes: float64(8)\n",
      "memory usage: 60.3 KB\n"
     ]
    }
   ],
   "source": [
    "Other_inputs.info()"
   ]
  },
  {
   "cell_type": "code",
   "execution_count": 113,
   "id": "f20221aa",
   "metadata": {},
   "outputs": [],
   "source": [
    "# Text inputs - embedding layer\n",
    "tokenizer = text.Tokenizer() \n",
    "tokenizer.num_words = 1000    # Limit the number of words to keep most common 1000 words\n",
    "tokenizer.fit_on_texts(list(salary_df['combined_text']))\n",
    "list_tokenized_jd = tokenizer.texts_to_sequences(salary_df['combined_text'])\n",
    "\n",
    "X_t = pad_sequences(list_tokenized_jd, maxlen=500, padding = 'post') "
   ]
  },
  {
   "cell_type": "code",
   "execution_count": 114,
   "id": "2496dd39",
   "metadata": {},
   "outputs": [
    {
     "data": {
      "text/plain": [
       "array([[  6, 509,   7, ..., 227, 111, 893],\n",
       "       [  9,  69,   9, ...,   0,   0,   0],\n",
       "       [ 49,   1, 568, ...,   2, 305, 281],\n",
       "       ...,\n",
       "       [151,  97, 151, ...,   0,   0,   0],\n",
       "       [ 62,  47, 806, ...,   0,   0,   0],\n",
       "       [416, 460, 789, ...,   0,   0,   0]])"
      ]
     },
     "execution_count": 114,
     "metadata": {},
     "output_type": "execute_result"
    }
   ],
   "source": [
    "X_t"
   ]
  },
  {
   "cell_type": "code",
   "execution_count": 115,
   "id": "80feaccc",
   "metadata": {},
   "outputs": [],
   "source": [
    "y = to_categorical(target_class.values, num_classes=6, dtype=\"float32\")"
   ]
  },
  {
   "cell_type": "code",
   "execution_count": 116,
   "id": "089930d2",
   "metadata": {},
   "outputs": [
    {
     "data": {
      "text/plain": [
       "array([[0., 0., 0., 0., 0., 1.],\n",
       "       [0., 1., 0., 0., 0., 0.],\n",
       "       [1., 0., 0., 0., 0., 0.],\n",
       "       ...,\n",
       "       [0., 0., 0., 1., 0., 0.],\n",
       "       [0., 0., 1., 0., 0., 0.],\n",
       "       [0., 0., 1., 0., 0., 0.]], dtype=float32)"
      ]
     },
     "execution_count": 116,
     "metadata": {},
     "output_type": "execute_result"
    }
   ],
   "source": [
    "y"
   ]
  },
  {
   "cell_type": "code",
   "execution_count": 119,
   "id": "149d81be",
   "metadata": {},
   "outputs": [],
   "source": [
    "# Train Test split on text inputs use Keras embedding layer\n",
    "X_train, X_test, y_train, y_test = train_test_split(X_t, y, test_size=0.1, random_state=4)"
   ]
  },
  {
   "cell_type": "code",
   "execution_count": 120,
   "id": "9ab726cc",
   "metadata": {},
   "outputs": [],
   "source": [
    "# Train Test split on other inputs\n",
    "X2_train, X2_test, y2_train, y2_test = train_test_split(Other_inputs, y, test_size=0.1, random_state=4)"
   ]
  },
  {
   "cell_type": "code",
   "execution_count": 123,
   "id": "dd357ef2",
   "metadata": {},
   "outputs": [
    {
     "name": "stdout",
     "output_type": "stream",
     "text": [
      "(866, 500) (866, 8) (97, 500) (97, 8)\n"
     ]
    }
   ],
   "source": [
    "print(X_train.shape, X2_train.shape, X_test.shape, X2_test.shape)"
   ]
  },
  {
   "cell_type": "code",
   "execution_count": 124,
   "id": "c94b11c5",
   "metadata": {},
   "outputs": [
    {
     "name": "stdout",
     "output_type": "stream",
     "text": [
      "(866, 6) (866, 6) (97, 6) (97, 6)\n"
     ]
    }
   ],
   "source": [
    "print(y_train.shape, y2_train.shape, y_test.shape, y2_test.shape)"
   ]
  },
  {
   "cell_type": "code",
   "execution_count": 125,
   "id": "fa370327",
   "metadata": {},
   "outputs": [
    {
     "data": {
      "text/plain": [
       "0      5\n",
       "1      1\n",
       "2      0\n",
       "3      2\n",
       "4      3\n",
       "      ..\n",
       "958    3\n",
       "959    3\n",
       "960    3\n",
       "961    2\n",
       "962    2\n",
       "Name: Salary_Bins, Length: 963, dtype: category\n",
       "Categories (6, int64): [0, 1, 2, 3, 4, 5]"
      ]
     },
     "execution_count": 125,
     "metadata": {},
     "output_type": "execute_result"
    }
   ],
   "source": [
    "target_class"
   ]
  },
  {
   "cell_type": "markdown",
   "id": "3729c3e1",
   "metadata": {},
   "source": [
    "### Put them together"
   ]
  },
  {
   "cell_type": "code",
   "execution_count": 126,
   "id": "63f221ce",
   "metadata": {},
   "outputs": [],
   "source": [
    "# Define two sets of inputs\n",
    "inputA = Input(shape=(8,)) # non-words input\n",
    "inputB = Input(shape=(500,))  # word vectors \n",
    "\n",
    "# The first branch operates on the first input\n",
    "# hiddenA1 = Dense(16, activation=\"relu\")(inputA)\n",
    "# hiddenA2 = Dense(16, activation=\"relu\")(hiddenA1)\n",
    "outputA = Dense(4, activation=\"relu\")(inputA)\n",
    "modelA = Model(inputs=inputA, outputs=outputA)\n",
    "\n",
    "# The second branch opreates on the second input\n",
    "# Each word onto a 32 length real valued vector\n",
    "embedB1 =  Embedding(input_dim = 1000, output_dim = 32, input_length = 500)(inputB) \n",
    "convB1 = Conv1D(filters=32, kernel_size = 3, padding='same', activation='relu')(embedB1)\n",
    "poolB1 = MaxPooling1D(pool_size=2)(convB1)\n",
    "LSTMB1 = LSTM(128, return_sequences=True)(poolB1)\n",
    "hiddenB1 = Dense(100, activation='relu')(LSTMB1)\n",
    "dropB1 = Dropout(0.5)(hiddenB1)\n",
    "flat = Flatten()(dropB1)\n",
    "outputB = Dense(128, activation='relu')(flat)\n",
    "modelB = Model(inputs=inputB, outputs=outputB)\n",
    "\n",
    "# Combine the output of the two branches\n",
    "combined = concatenate([modelA.output, modelB.output])\n",
    "# apply a FC layer and then a regression prediction on the combined outputs\n",
    "z = Dense(16, activation=\"relu\")(combined)\n",
    "z = Dense(6, activation=\"softmax\")(z)\n",
    "# our model will accept the inputs of the two branches and\n",
    "# then output a single value\n",
    "model = Model(inputs=[modelA.input, modelB.input], outputs=z)"
   ]
  },
  {
   "cell_type": "code",
   "execution_count": 127,
   "id": "43795dc0",
   "metadata": {},
   "outputs": [
    {
     "name": "stdout",
     "output_type": "stream",
     "text": [
      "Model: \"model_2\"\n",
      "__________________________________________________________________________________________________\n",
      " Layer (type)                   Output Shape         Param #     Connected to                     \n",
      "==================================================================================================\n",
      " input_2 (InputLayer)           [(None, 500)]        0           []                               \n",
      "                                                                                                  \n",
      " embedding (Embedding)          (None, 500, 32)      32000       ['input_2[0][0]']                \n",
      "                                                                                                  \n",
      " conv1d (Conv1D)                (None, 500, 32)      3104        ['embedding[0][0]']              \n",
      "                                                                                                  \n",
      " max_pooling1d (MaxPooling1D)   (None, 250, 32)      0           ['conv1d[0][0]']                 \n",
      "                                                                                                  \n",
      " lstm (LSTM)                    (None, 250, 128)     82432       ['max_pooling1d[0][0]']          \n",
      "                                                                                                  \n",
      " dense_1 (Dense)                (None, 250, 100)     12900       ['lstm[0][0]']                   \n",
      "                                                                                                  \n",
      " dropout (Dropout)              (None, 250, 100)     0           ['dense_1[0][0]']                \n",
      "                                                                                                  \n",
      " input_1 (InputLayer)           [(None, 8)]          0           []                               \n",
      "                                                                                                  \n",
      " flatten (Flatten)              (None, 25000)        0           ['dropout[0][0]']                \n",
      "                                                                                                  \n",
      " dense (Dense)                  (None, 4)            36          ['input_1[0][0]']                \n",
      "                                                                                                  \n",
      " dense_2 (Dense)                (None, 128)          3200128     ['flatten[0][0]']                \n",
      "                                                                                                  \n",
      " concatenate (Concatenate)      (None, 132)          0           ['dense[0][0]',                  \n",
      "                                                                  'dense_2[0][0]']                \n",
      "                                                                                                  \n",
      " dense_3 (Dense)                (None, 16)           2128        ['concatenate[0][0]']            \n",
      "                                                                                                  \n",
      " dense_4 (Dense)                (None, 6)            102         ['dense_3[0][0]']                \n",
      "                                                                                                  \n",
      "==================================================================================================\n",
      "Total params: 3,332,830\n",
      "Trainable params: 3,332,830\n",
      "Non-trainable params: 0\n",
      "__________________________________________________________________________________________________\n"
     ]
    }
   ],
   "source": [
    "model.summary()"
   ]
  },
  {
   "cell_type": "code",
   "execution_count": 128,
   "id": "1d5e3941",
   "metadata": {},
   "outputs": [
    {
     "name": "stdout",
     "output_type": "stream",
     "text": [
      "Epoch 1/40\n"
     ]
    },
    {
     "name": "stderr",
     "output_type": "stream",
     "text": [
      "C:\\Users\\Doğan Yiğit Yenigün\\AppData\\Local\\Programs\\Python\\Python310\\lib\\site-packages\\keras\\optimizers\\optimizer_v2\\adam.py:114: UserWarning: The `lr` argument is deprecated, use `learning_rate` instead.\n",
      "  super().__init__(name, **kwargs)\n"
     ]
    },
    {
     "name": "stdout",
     "output_type": "stream",
     "text": [
      "7/7 [==============================] - 5s 541ms/step - loss: 1.7974 - accuracy: 0.1940 - val_loss: 1.7816 - val_accuracy: 0.1856\n",
      "Epoch 2/40\n",
      "7/7 [==============================] - 3s 478ms/step - loss: 1.7903 - accuracy: 0.1755 - val_loss: 1.7854 - val_accuracy: 0.1959\n",
      "Epoch 3/40\n",
      "7/7 [==============================] - 3s 505ms/step - loss: 1.7836 - accuracy: 0.2102 - val_loss: 1.7776 - val_accuracy: 0.2577\n",
      "Epoch 4/40\n",
      "7/7 [==============================] - 3s 496ms/step - loss: 1.7724 - accuracy: 0.2079 - val_loss: 1.7837 - val_accuracy: 0.2062\n",
      "Epoch 5/40\n",
      "7/7 [==============================] - 4s 570ms/step - loss: 1.7563 - accuracy: 0.2171 - val_loss: 1.7426 - val_accuracy: 0.2165\n",
      "Epoch 6/40\n",
      "7/7 [==============================] - 4s 545ms/step - loss: 1.7201 - accuracy: 0.2506 - val_loss: 1.6755 - val_accuracy: 0.2680\n",
      "Epoch 7/40\n",
      "7/7 [==============================] - 4s 554ms/step - loss: 1.6530 - accuracy: 0.2852 - val_loss: 1.6016 - val_accuracy: 0.4330\n",
      "Epoch 8/40\n",
      "7/7 [==============================] - 4s 575ms/step - loss: 1.5406 - accuracy: 0.3591 - val_loss: 1.5263 - val_accuracy: 0.4330\n",
      "Epoch 9/40\n",
      "7/7 [==============================] - 4s 552ms/step - loss: 1.4314 - accuracy: 0.4203 - val_loss: 1.6862 - val_accuracy: 0.4124\n",
      "Epoch 10/40\n",
      "7/7 [==============================] - 4s 563ms/step - loss: 1.3813 - accuracy: 0.4446 - val_loss: 1.5283 - val_accuracy: 0.4639\n",
      "Epoch 11/40\n",
      "7/7 [==============================] - 4s 577ms/step - loss: 1.2431 - accuracy: 0.5196 - val_loss: 1.5553 - val_accuracy: 0.4536\n",
      "Epoch 12/40\n",
      "7/7 [==============================] - 4s 615ms/step - loss: 1.1167 - accuracy: 0.5751 - val_loss: 1.4796 - val_accuracy: 0.4433\n",
      "Epoch 13/40\n",
      "7/7 [==============================] - 4s 588ms/step - loss: 1.0442 - accuracy: 0.6143 - val_loss: 1.7402 - val_accuracy: 0.4742\n",
      "Epoch 14/40\n",
      "7/7 [==============================] - 4s 605ms/step - loss: 0.9702 - accuracy: 0.6212 - val_loss: 1.5271 - val_accuracy: 0.4948\n",
      "Epoch 15/40\n",
      "7/7 [==============================] - 4s 635ms/step - loss: 0.8762 - accuracy: 0.6640 - val_loss: 1.7722 - val_accuracy: 0.4742\n",
      "Epoch 16/40\n",
      "7/7 [==============================] - 4s 608ms/step - loss: 0.6968 - accuracy: 0.7275 - val_loss: 2.0811 - val_accuracy: 0.4433\n",
      "Epoch 17/40\n",
      "7/7 [==============================] - 5s 688ms/step - loss: 0.6343 - accuracy: 0.7644 - val_loss: 1.8866 - val_accuracy: 0.4742\n",
      "Epoch 18/40\n",
      "7/7 [==============================] - 5s 710ms/step - loss: 0.6328 - accuracy: 0.7760 - val_loss: 1.9816 - val_accuracy: 0.4845\n",
      "Epoch 19/40\n",
      "7/7 [==============================] - 5s 652ms/step - loss: 0.5484 - accuracy: 0.7921 - val_loss: 2.2901 - val_accuracy: 0.4845\n",
      "Epoch 20/40\n",
      "7/7 [==============================] - 4s 640ms/step - loss: 0.4306 - accuracy: 0.8522 - val_loss: 2.6216 - val_accuracy: 0.4845\n",
      "Epoch 21/40\n",
      "7/7 [==============================] - 4s 613ms/step - loss: 0.3542 - accuracy: 0.8811 - val_loss: 2.9246 - val_accuracy: 0.4639\n",
      "Epoch 22/40\n",
      "7/7 [==============================] - 4s 608ms/step - loss: 0.3269 - accuracy: 0.8730 - val_loss: 3.1951 - val_accuracy: 0.4845\n",
      "Epoch 22: early stopping\n"
     ]
    }
   ],
   "source": [
    "opt = Adam(lr=1e-3, decay=1e-3/200)\n",
    "model.compile(loss = 'categorical_crossentropy', metrics=['accuracy'], optimizer=opt)\n",
    "es = EarlyStopping(monitor='val_loss', patience = 10, mode='min', verbose=1)\n",
    "history = model.fit([X2_train, X_train], y_train, validation_data = ([X2_test, X_test], y_test), \n",
    "                    epochs=40, batch_size=128, callbacks=[es])"
   ]
  },
  {
   "cell_type": "markdown",
   "id": "414a0b11",
   "metadata": {},
   "source": [
    "### Try Word2Vec Embedding in Mixed Input Model"
   ]
  },
  {
   "cell_type": "code",
   "execution_count": 131,
   "id": "e494fb10",
   "metadata": {},
   "outputs": [],
   "source": [
    "# Create a Word2Vec model with 100 dimensions\n",
    "# vector_size = the number of dimensions of the N-dimensional space and Word2Vec maps the words into\n",
    "# min_count = min frequency appeared in the corpus\n",
    "w2v_model1 = Word2Vec(data, vector_size=100, window=5, min_count=3, workers=4)"
   ]
  },
  {
   "cell_type": "code",
   "execution_count": 132,
   "id": "60d48e79",
   "metadata": {},
   "outputs": [
    {
     "data": {
      "text/plain": [
       "(3184260, 3458620)"
      ]
     },
     "execution_count": 132,
     "metadata": {},
     "output_type": "execute_result"
    }
   ],
   "source": [
    "w2v_model1.train(data,total_examples=w2v_model1.corpus_count, epochs=10)"
   ]
  },
  {
   "cell_type": "code",
   "execution_count": 133,
   "id": "4d8924e1",
   "metadata": {},
   "outputs": [],
   "source": [
    "wv = w2v_model1.wv"
   ]
  },
  {
   "cell_type": "code",
   "execution_count": 134,
   "id": "a4396112",
   "metadata": {},
   "outputs": [],
   "source": [
    "# Save model to be used in deep learning step\n",
    "filename = 'jd_embedding_word2vec2.txt'\n",
    "w2v_model1.wv.save_word2vec_format(filename, binary=False)"
   ]
  },
  {
   "cell_type": "code",
   "execution_count": 135,
   "id": "6e18784d",
   "metadata": {},
   "outputs": [],
   "source": [
    "# load the word embedding as a directory of words to vectors\n",
    "import os\n",
    "embeddings_index = {}\n",
    "f = open(os.path.join('','jd_embedding_word2vec2.txt'), encoding = \"utf-8\")\n",
    "for line in f:\n",
    "    values = line.split()\n",
    "    word = values[0]\n",
    "    coefs = np.asarray(values[1:])\n",
    "    embeddings_index[word] = coefs\n",
    "f.close()"
   ]
  },
  {
   "cell_type": "code",
   "execution_count": 136,
   "id": "6e75be14",
   "metadata": {},
   "outputs": [
    {
     "name": "stdout",
     "output_type": "stream",
     "text": [
      "There are 13262 unique tokens in the dataset.\n"
     ]
    }
   ],
   "source": [
    "# Get the total_vocabulary in the corpus\n",
    "total_vocabulary = set(word for jd in data for word in jd)\n",
    "max_length = len(total_vocabulary)\n",
    "print('There are {} unique tokens in the dataset.'.format(len(total_vocabulary)))"
   ]
  },
  {
   "cell_type": "code",
   "execution_count": 137,
   "id": "7aca293b",
   "metadata": {},
   "outputs": [
    {
     "name": "stdout",
     "output_type": "stream",
     "text": [
      "Found 26519 unique tokens.\n",
      "Shape of the jd tensor: (963, 500)\n"
     ]
    }
   ],
   "source": [
    "# Convert the word embedding into tokenized vector. \n",
    "new_tokenizer = text.Tokenizer() \n",
    "new_tokenizer.num_words = 1000  # Limit the number of words to keep most common 1000 words\n",
    "new_tokenizer.fit_on_texts(list(salary_df['combined_text']))\n",
    "list_tokenized_jd = new_tokenizer.texts_to_sequences(salary_df['combined_text'])\n",
    "\n",
    "# Pad sequences\n",
    "word_index = new_tokenizer.word_index\n",
    "print('Found %s unique tokens.' % len(word_index))\n",
    "\n",
    "jd_pad = pad_sequences(list_tokenized_jd, maxlen=500, padding = 'post') \n",
    "print('Shape of the jd tensor:', jd_pad.shape)"
   ]
  },
  {
   "cell_type": "code",
   "execution_count": 138,
   "id": "2813e35c",
   "metadata": {},
   "outputs": [],
   "source": [
    "# Map embeddings from word2vec model for each word to new_tokenzier.word_index and create a matrix with word vectors\n",
    "num_words = len(word_index)+1  # 1000  + 1\n",
    "embedding_matrix = np.zeros((num_words, 100)) # Embedding size = 100\n",
    "for word, i in word_index.items():\n",
    "    if i > num_words:\n",
    "        continue\n",
    "    embedding_vector = embeddings_index.get(word)\n",
    "    if embedding_vector is not None:\n",
    "        # Words not found in embedding index will be all-zeros.\n",
    "        embedding_matrix[i] = embedding_vector"
   ]
  },
  {
   "cell_type": "code",
   "execution_count": 139,
   "id": "fe034508",
   "metadata": {},
   "outputs": [
    {
     "name": "stdout",
     "output_type": "stream",
     "text": [
      "26520\n"
     ]
    }
   ],
   "source": [
    "print(num_words)"
   ]
  },
  {
   "cell_type": "code",
   "execution_count": 140,
   "id": "bde3fbda",
   "metadata": {
    "scrolled": false
   },
   "outputs": [],
   "source": [
    "# X_train, X_test using pad sequences from Word2Vec model\n",
    "X_train, X_test, y_train, y_test = train_test_split(jd_pad, y, test_size=0.1, random_state=4)"
   ]
  },
  {
   "cell_type": "code",
   "execution_count": 141,
   "id": "053be4db",
   "metadata": {},
   "outputs": [
    {
     "data": {
      "text/plain": [
       "array([[114, 186, 211, ...,   0,   0,   0],\n",
       "       [  9, 344, 135, ...,   0,   0,   0],\n",
       "       [875, 825, 210, ...,   0,   0,   0],\n",
       "       ...,\n",
       "       [962,  34, 825, ...,   0,   0,   0],\n",
       "       [ 15, 499,  41, ..., 169, 337, 100],\n",
       "       [958, 319,  11, ...,   0,   0,   0]])"
      ]
     },
     "execution_count": 141,
     "metadata": {},
     "output_type": "execute_result"
    }
   ],
   "source": [
    "X_train"
   ]
  },
  {
   "cell_type": "code",
   "execution_count": 142,
   "id": "053751a8",
   "metadata": {},
   "outputs": [
    {
     "data": {
      "text/plain": [
       "array([[  9,  97,  24, ...,   0,   0,   0],\n",
       "       [ 16,   9,  62, ...,   0,   0,   0],\n",
       "       [ 58, 137,   3, ...,   0,   0,   0],\n",
       "       ...,\n",
       "       [  2, 981,  49, ...,  31,  91, 641],\n",
       "       [  7,   3,   4, ...,   4,  10, 159],\n",
       "       [518,   6, 100, ..., 482,  57,  80]])"
      ]
     },
     "execution_count": 142,
     "metadata": {},
     "output_type": "execute_result"
    }
   ],
   "source": [
    "X_test"
   ]
  },
  {
   "cell_type": "code",
   "execution_count": 144,
   "id": "22f22f14",
   "metadata": {},
   "outputs": [],
   "source": [
    "# Define two sets of inputs\n",
    "inputA = Input(shape=(8,)) #non-words input\n",
    "inputB = Input(shape=(500,))  #word vectors \n",
    "\n",
    "# The first branch operates on the first input\n",
    "#hiddenA1 = Dense(16, activation=\"relu\")(inputA)\n",
    "#hiddenA2 = Dense(16, activation=\"relu\")(hiddenA1)\n",
    "outputA = Dense(4, activation=\"relu\")(inputA)\n",
    "modelA = Model(inputs=inputA, outputs=outputA)\n",
    "\n",
    "# The second branch opreates on the second input\n",
    "# Word2Vec Embedding layer\n",
    "embedding_size = 100  #word2vec has a 100 dimension space\n",
    "embedding_layer = Embedding(input_dim = num_words, #input_dim: size of the vocabulary\n",
    "                    output_dim = embedding_size,  #dimension of the dense embedding\n",
    "                    embeddings_initializer = Constant(embedding_matrix),\n",
    "                    input_length = 500, #length of input sequences\n",
    "                    trainable = False)\n",
    "\n",
    "embedded_sequences = embedding_layer(inputB)\n",
    "# Each word onto a 32 length real valued vector\n",
    "# embedB1 =  Embedding(input_dim = 1000, output_dim = 32, input_length = 500)(inputB) \n",
    "convB1 = Conv1D(filters=32, kernel_size = 3, padding='same', activation='relu')(embedded_sequences)\n",
    "poolB1 = MaxPooling1D(pool_size=2)(convB1)\n",
    "LSTMB1 = LSTM(128, return_sequences=True)(poolB1)\n",
    "dropB1 = Dropout(0.5)(poolB1)\n",
    "hiddenB1 = Dense(100, activation='relu')(dropB1)\n",
    "dropB2 = Dropout(0.5)(hiddenB1)\n",
    "flat = Flatten()(dropB2)\n",
    "outputB = Dense(128, activation='relu')(flat)\n",
    "modelB = Model(inputs=inputB, outputs=outputB)\n",
    "\n",
    "# Combine the output of the two branches\n",
    "combined = concatenate([modelA.output, modelB.output])\n",
    "# Qpply a FC layer and then a regression prediction on the combined outputs\n",
    "z = Dense(64, activation=\"relu\")(combined)\n",
    "z = Dense(32, activation=\"relu\")(z)\n",
    "z = Dense(6, activation=\"softmax\")(z)\n",
    "# Our model will accept the inputs of the two branches and then output a single value\n",
    "model = Model(inputs=[modelA.input, modelB.input], outputs=z)"
   ]
  },
  {
   "cell_type": "code",
   "execution_count": 145,
   "id": "63b5ef6d",
   "metadata": {},
   "outputs": [
    {
     "name": "stdout",
     "output_type": "stream",
     "text": [
      "Model: \"model_5\"\n",
      "__________________________________________________________________________________________________\n",
      " Layer (type)                   Output Shape         Param #     Connected to                     \n",
      "==================================================================================================\n",
      " input_4 (InputLayer)           [(None, 500)]        0           []                               \n",
      "                                                                                                  \n",
      " embedding_1 (Embedding)        (None, 500, 100)     2652000     ['input_4[0][0]']                \n",
      "                                                                                                  \n",
      " conv1d_1 (Conv1D)              (None, 500, 32)      9632        ['embedding_1[0][0]']            \n",
      "                                                                                                  \n",
      " max_pooling1d_1 (MaxPooling1D)  (None, 250, 32)     0           ['conv1d_1[0][0]']               \n",
      "                                                                                                  \n",
      " dropout_1 (Dropout)            (None, 250, 32)      0           ['max_pooling1d_1[0][0]']        \n",
      "                                                                                                  \n",
      " dense_6 (Dense)                (None, 250, 100)     3300        ['dropout_1[0][0]']              \n",
      "                                                                                                  \n",
      " dropout_2 (Dropout)            (None, 250, 100)     0           ['dense_6[0][0]']                \n",
      "                                                                                                  \n",
      " input_3 (InputLayer)           [(None, 8)]          0           []                               \n",
      "                                                                                                  \n",
      " flatten_1 (Flatten)            (None, 25000)        0           ['dropout_2[0][0]']              \n",
      "                                                                                                  \n",
      " dense_5 (Dense)                (None, 4)            36          ['input_3[0][0]']                \n",
      "                                                                                                  \n",
      " dense_7 (Dense)                (None, 128)          3200128     ['flatten_1[0][0]']              \n",
      "                                                                                                  \n",
      " concatenate_1 (Concatenate)    (None, 132)          0           ['dense_5[0][0]',                \n",
      "                                                                  'dense_7[0][0]']                \n",
      "                                                                                                  \n",
      " dense_8 (Dense)                (None, 64)           8512        ['concatenate_1[0][0]']          \n",
      "                                                                                                  \n",
      " dense_9 (Dense)                (None, 32)           2080        ['dense_8[0][0]']                \n",
      "                                                                                                  \n",
      " dense_10 (Dense)               (None, 6)            198         ['dense_9[0][0]']                \n",
      "                                                                                                  \n",
      "==================================================================================================\n",
      "Total params: 5,875,886\n",
      "Trainable params: 3,223,886\n",
      "Non-trainable params: 2,652,000\n",
      "__________________________________________________________________________________________________\n"
     ]
    }
   ],
   "source": [
    "model.summary()"
   ]
  },
  {
   "cell_type": "code",
   "execution_count": 146,
   "id": "6cf2002f",
   "metadata": {},
   "outputs": [
    {
     "name": "stdout",
     "output_type": "stream",
     "text": [
      "Epoch 1/40\n"
     ]
    },
    {
     "name": "stderr",
     "output_type": "stream",
     "text": [
      "C:\\Users\\Doğan Yiğit Yenigün\\AppData\\Local\\Programs\\Python\\Python310\\lib\\site-packages\\keras\\optimizers\\optimizer_v2\\rmsprop.py:140: UserWarning: The `lr` argument is deprecated, use `learning_rate` instead.\n",
      "  super().__init__(name, **kwargs)\n"
     ]
    },
    {
     "name": "stdout",
     "output_type": "stream",
     "text": [
      "7/7 [==============================] - 2s 170ms/step - loss: 1.8537 - accuracy: 0.1975 - val_loss: 1.7749 - val_accuracy: 0.2680\n",
      "Epoch 2/40\n",
      "7/7 [==============================] - 1s 165ms/step - loss: 1.7788 - accuracy: 0.2136 - val_loss: 1.7621 - val_accuracy: 0.2371\n",
      "Epoch 3/40\n",
      "7/7 [==============================] - 1s 148ms/step - loss: 1.7510 - accuracy: 0.2425 - val_loss: 1.7441 - val_accuracy: 0.2680\n",
      "Epoch 4/40\n",
      "7/7 [==============================] - 1s 150ms/step - loss: 1.7057 - accuracy: 0.2783 - val_loss: 1.7373 - val_accuracy: 0.2577\n",
      "Epoch 5/40\n",
      "7/7 [==============================] - 1s 147ms/step - loss: 1.6798 - accuracy: 0.2875 - val_loss: 1.7300 - val_accuracy: 0.2784\n",
      "Epoch 6/40\n",
      "7/7 [==============================] - 1s 158ms/step - loss: 1.6430 - accuracy: 0.3268 - val_loss: 1.7158 - val_accuracy: 0.2784\n",
      "Epoch 7/40\n",
      "7/7 [==============================] - 1s 154ms/step - loss: 1.6086 - accuracy: 0.3360 - val_loss: 1.6747 - val_accuracy: 0.2784\n",
      "Epoch 8/40\n",
      "7/7 [==============================] - 1s 136ms/step - loss: 1.5845 - accuracy: 0.3857 - val_loss: 1.6813 - val_accuracy: 0.3196\n",
      "Epoch 9/40\n",
      "7/7 [==============================] - 1s 162ms/step - loss: 1.5499 - accuracy: 0.3995 - val_loss: 1.6525 - val_accuracy: 0.3814\n",
      "Epoch 10/40\n",
      "7/7 [==============================] - 1s 145ms/step - loss: 1.5054 - accuracy: 0.4053 - val_loss: 1.6531 - val_accuracy: 0.3196\n",
      "Epoch 11/40\n",
      "7/7 [==============================] - 1s 138ms/step - loss: 1.4832 - accuracy: 0.4111 - val_loss: 1.5922 - val_accuracy: 0.3918\n",
      "Epoch 12/40\n",
      "7/7 [==============================] - 1s 144ms/step - loss: 1.4011 - accuracy: 0.4838 - val_loss: 1.6403 - val_accuracy: 0.3711\n",
      "Epoch 13/40\n",
      "7/7 [==============================] - 1s 142ms/step - loss: 1.3624 - accuracy: 0.4781 - val_loss: 1.6171 - val_accuracy: 0.3814\n",
      "Epoch 14/40\n",
      "7/7 [==============================] - 1s 138ms/step - loss: 1.2966 - accuracy: 0.5139 - val_loss: 1.6192 - val_accuracy: 0.3608\n",
      "Epoch 15/40\n",
      "7/7 [==============================] - 1s 142ms/step - loss: 1.3358 - accuracy: 0.4861 - val_loss: 1.5256 - val_accuracy: 0.4021\n",
      "Epoch 16/40\n",
      "7/7 [==============================] - 1s 146ms/step - loss: 1.1949 - accuracy: 0.5751 - val_loss: 1.4887 - val_accuracy: 0.4742\n",
      "Epoch 17/40\n",
      "7/7 [==============================] - 1s 138ms/step - loss: 1.2154 - accuracy: 0.5462 - val_loss: 1.5825 - val_accuracy: 0.3814\n",
      "Epoch 18/40\n",
      "7/7 [==============================] - 1s 139ms/step - loss: 1.1626 - accuracy: 0.5855 - val_loss: 1.5128 - val_accuracy: 0.4330\n",
      "Epoch 19/40\n",
      "7/7 [==============================] - 1s 145ms/step - loss: 1.0865 - accuracy: 0.6155 - val_loss: 1.4645 - val_accuracy: 0.4948\n",
      "Epoch 20/40\n",
      "7/7 [==============================] - 1s 141ms/step - loss: 1.0424 - accuracy: 0.6443 - val_loss: 1.4689 - val_accuracy: 0.3918\n",
      "Epoch 21/40\n",
      "7/7 [==============================] - 1s 143ms/step - loss: 1.0250 - accuracy: 0.6478 - val_loss: 1.5464 - val_accuracy: 0.4021\n",
      "Epoch 22/40\n",
      "7/7 [==============================] - 1s 144ms/step - loss: 1.0062 - accuracy: 0.6674 - val_loss: 1.4392 - val_accuracy: 0.4536\n",
      "Epoch 23/40\n",
      "7/7 [==============================] - 1s 140ms/step - loss: 0.9274 - accuracy: 0.6536 - val_loss: 1.4537 - val_accuracy: 0.4433\n",
      "Epoch 24/40\n",
      "7/7 [==============================] - 1s 140ms/step - loss: 0.9293 - accuracy: 0.6905 - val_loss: 1.5090 - val_accuracy: 0.4330\n",
      "Epoch 25/40\n",
      "7/7 [==============================] - 1s 147ms/step - loss: 0.8244 - accuracy: 0.7309 - val_loss: 1.4227 - val_accuracy: 0.4433\n",
      "Epoch 26/40\n",
      "7/7 [==============================] - 1s 142ms/step - loss: 0.8254 - accuracy: 0.7286 - val_loss: 1.4555 - val_accuracy: 0.4433\n",
      "Epoch 27/40\n",
      "7/7 [==============================] - 1s 140ms/step - loss: 0.8833 - accuracy: 0.6986 - val_loss: 1.5589 - val_accuracy: 0.4433\n",
      "Epoch 28/40\n",
      "7/7 [==============================] - 1s 149ms/step - loss: 0.7649 - accuracy: 0.7413 - val_loss: 1.4224 - val_accuracy: 0.4845\n",
      "Epoch 29/40\n",
      "7/7 [==============================] - 1s 142ms/step - loss: 0.7077 - accuracy: 0.7818 - val_loss: 1.4891 - val_accuracy: 0.4948\n",
      "Epoch 30/40\n",
      "7/7 [==============================] - 1s 142ms/step - loss: 0.7633 - accuracy: 0.7194 - val_loss: 1.4455 - val_accuracy: 0.4948\n",
      "Epoch 31/40\n",
      "7/7 [==============================] - 1s 153ms/step - loss: 0.7193 - accuracy: 0.7540 - val_loss: 1.4876 - val_accuracy: 0.4639\n",
      "Epoch 32/40\n",
      "7/7 [==============================] - 1s 142ms/step - loss: 0.6879 - accuracy: 0.7702 - val_loss: 1.3958 - val_accuracy: 0.4845\n",
      "Epoch 33/40\n",
      "7/7 [==============================] - 1s 141ms/step - loss: 0.6131 - accuracy: 0.8014 - val_loss: 1.4421 - val_accuracy: 0.4330\n",
      "Epoch 34/40\n",
      "7/7 [==============================] - 1s 146ms/step - loss: 0.6108 - accuracy: 0.7945 - val_loss: 1.4029 - val_accuracy: 0.4536\n",
      "Epoch 35/40\n",
      "7/7 [==============================] - 1s 150ms/step - loss: 0.6131 - accuracy: 0.7968 - val_loss: 1.4507 - val_accuracy: 0.4536\n",
      "Epoch 36/40\n",
      "7/7 [==============================] - 1s 146ms/step - loss: 0.5686 - accuracy: 0.8303 - val_loss: 1.4502 - val_accuracy: 0.4227\n",
      "Epoch 37/40\n",
      "7/7 [==============================] - 1s 148ms/step - loss: 0.5072 - accuracy: 0.8383 - val_loss: 1.4866 - val_accuracy: 0.4433\n",
      "Epoch 38/40\n",
      "7/7 [==============================] - 1s 146ms/step - loss: 0.6228 - accuracy: 0.7864 - val_loss: 1.4121 - val_accuracy: 0.5052\n",
      "Epoch 39/40\n",
      "7/7 [==============================] - 1s 147ms/step - loss: 0.5469 - accuracy: 0.8025 - val_loss: 1.4491 - val_accuracy: 0.4639\n",
      "Epoch 40/40\n",
      "7/7 [==============================] - 1s 147ms/step - loss: 0.5036 - accuracy: 0.8349 - val_loss: 1.4077 - val_accuracy: 0.5155\n"
     ]
    }
   ],
   "source": [
    "opt = RMSprop(lr=1e-4)\n",
    "model.compile(loss = 'categorical_crossentropy', metrics=['accuracy'], optimizer=opt)\n",
    "es = EarlyStopping(monitor='val_loss', patience = 10, mode='min', verbose=1)\n",
    "history = model.fit([X2_train,X_train], y_train, validation_data = ([X2_test, X_test], y_test), \n",
    "                    epochs=40, batch_size=128, callbacks=[es])"
   ]
  },
  {
   "cell_type": "markdown",
   "id": "5f66ba72",
   "metadata": {},
   "source": [
    "**Word2Vec was not able to improve the performance further...**"
   ]
  },
  {
   "cell_type": "code",
   "execution_count": null,
   "id": "7635e32f",
   "metadata": {},
   "outputs": [],
   "source": []
  }
 ],
 "metadata": {
  "kernelspec": {
   "display_name": "Python 3 (ipykernel)",
   "language": "python",
   "name": "python3"
  },
  "language_info": {
   "codemirror_mode": {
    "name": "ipython",
    "version": 3
   },
   "file_extension": ".py",
   "mimetype": "text/x-python",
   "name": "python",
   "nbconvert_exporter": "python",
   "pygments_lexer": "ipython3",
   "version": "3.10.8"
  }
 },
 "nbformat": 4,
 "nbformat_minor": 5
}
