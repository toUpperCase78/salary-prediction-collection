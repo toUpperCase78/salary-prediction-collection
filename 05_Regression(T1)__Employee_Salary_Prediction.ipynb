{
 "cells": [
  {
   "cell_type": "markdown",
   "id": "5669a614",
   "metadata": {},
   "source": [
    "# 05. DheerajKumar97/Employee-Salary-Prediction----python--ML\n",
    "\n",
    "## Predictions with ML Regression Models (T1) - train.csv"
   ]
  },
  {
   "cell_type": "code",
   "execution_count": 1,
   "id": "6a85fdc1",
   "metadata": {},
   "outputs": [],
   "source": [
    "import numpy as np\n",
    "import pandas as pd \n",
    "import matplotlib.pyplot as plt \n",
    "import seaborn as sns\n",
    "import warnings\n",
    "import time\n",
    "warnings.filterwarnings('ignore')\n",
    "from sklearn.linear_model import LinearRegression, Lasso, Ridge\n",
    "from sklearn.tree import DecisionTreeRegressor\n",
    "from sklearn.ensemble import RandomForestRegressor, GradientBoostingRegressor\n",
    "from sklearn.neighbors import KNeighborsRegressor\n",
    "from sklearn.svm import SVR\n",
    "from sklearn.neural_network import MLPRegressor\n",
    "import xgboost\n",
    "from sklearn.model_selection import train_test_split, cross_val_score, cross_validate\n",
    "from sklearn.preprocessing import OneHotEncoder, PolynomialFeatures, StandardScaler, MinMaxScaler\n",
    "from sklearn.metrics import mean_squared_error, mean_absolute_error, r2_score, get_scorer_names\n",
    "df = pd.read_csv('05_train.csv')"
   ]
  },
  {
   "cell_type": "code",
   "execution_count": 2,
   "id": "d868dd09",
   "metadata": {},
   "outputs": [
    {
     "data": {
      "text/html": [
       "<div>\n",
       "<style scoped>\n",
       "    .dataframe tbody tr th:only-of-type {\n",
       "        vertical-align: middle;\n",
       "    }\n",
       "\n",
       "    .dataframe tbody tr th {\n",
       "        vertical-align: top;\n",
       "    }\n",
       "\n",
       "    .dataframe thead th {\n",
       "        text-align: right;\n",
       "    }\n",
       "</style>\n",
       "<table border=\"1\" class=\"dataframe\">\n",
       "  <thead>\n",
       "    <tr style=\"text-align: right;\">\n",
       "      <th></th>\n",
       "      <th>User_ID</th>\n",
       "      <th>Product_ID</th>\n",
       "      <th>Gender</th>\n",
       "      <th>Age</th>\n",
       "      <th>Occupation</th>\n",
       "      <th>City_Category</th>\n",
       "      <th>Stay_In_Current_City_Years</th>\n",
       "      <th>Marital_Status</th>\n",
       "      <th>Product_Category_1</th>\n",
       "      <th>Product_Category_2</th>\n",
       "      <th>Product_Category_3</th>\n",
       "      <th>Purchase</th>\n",
       "    </tr>\n",
       "  </thead>\n",
       "  <tbody>\n",
       "    <tr>\n",
       "      <th>0</th>\n",
       "      <td>1000001</td>\n",
       "      <td>P00069042</td>\n",
       "      <td>F</td>\n",
       "      <td>0-17</td>\n",
       "      <td>10</td>\n",
       "      <td>A</td>\n",
       "      <td>2</td>\n",
       "      <td>0</td>\n",
       "      <td>3</td>\n",
       "      <td>NaN</td>\n",
       "      <td>NaN</td>\n",
       "      <td>8370</td>\n",
       "    </tr>\n",
       "    <tr>\n",
       "      <th>1</th>\n",
       "      <td>1000001</td>\n",
       "      <td>P00248942</td>\n",
       "      <td>F</td>\n",
       "      <td>0-17</td>\n",
       "      <td>10</td>\n",
       "      <td>A</td>\n",
       "      <td>2</td>\n",
       "      <td>0</td>\n",
       "      <td>1</td>\n",
       "      <td>6.0</td>\n",
       "      <td>14.0</td>\n",
       "      <td>15200</td>\n",
       "    </tr>\n",
       "    <tr>\n",
       "      <th>2</th>\n",
       "      <td>1000001</td>\n",
       "      <td>P00087842</td>\n",
       "      <td>F</td>\n",
       "      <td>0-17</td>\n",
       "      <td>10</td>\n",
       "      <td>A</td>\n",
       "      <td>2</td>\n",
       "      <td>0</td>\n",
       "      <td>12</td>\n",
       "      <td>NaN</td>\n",
       "      <td>NaN</td>\n",
       "      <td>1422</td>\n",
       "    </tr>\n",
       "    <tr>\n",
       "      <th>3</th>\n",
       "      <td>1000001</td>\n",
       "      <td>P00085442</td>\n",
       "      <td>F</td>\n",
       "      <td>0-17</td>\n",
       "      <td>10</td>\n",
       "      <td>A</td>\n",
       "      <td>2</td>\n",
       "      <td>0</td>\n",
       "      <td>12</td>\n",
       "      <td>14.0</td>\n",
       "      <td>NaN</td>\n",
       "      <td>1057</td>\n",
       "    </tr>\n",
       "    <tr>\n",
       "      <th>4</th>\n",
       "      <td>1000002</td>\n",
       "      <td>P00285442</td>\n",
       "      <td>M</td>\n",
       "      <td>55+</td>\n",
       "      <td>16</td>\n",
       "      <td>C</td>\n",
       "      <td>4+</td>\n",
       "      <td>0</td>\n",
       "      <td>8</td>\n",
       "      <td>NaN</td>\n",
       "      <td>NaN</td>\n",
       "      <td>7969</td>\n",
       "    </tr>\n",
       "  </tbody>\n",
       "</table>\n",
       "</div>"
      ],
      "text/plain": [
       "   User_ID Product_ID Gender   Age  Occupation City_Category  \\\n",
       "0  1000001  P00069042      F  0-17          10             A   \n",
       "1  1000001  P00248942      F  0-17          10             A   \n",
       "2  1000001  P00087842      F  0-17          10             A   \n",
       "3  1000001  P00085442      F  0-17          10             A   \n",
       "4  1000002  P00285442      M   55+          16             C   \n",
       "\n",
       "  Stay_In_Current_City_Years  Marital_Status  Product_Category_1  \\\n",
       "0                          2               0                   3   \n",
       "1                          2               0                   1   \n",
       "2                          2               0                  12   \n",
       "3                          2               0                  12   \n",
       "4                         4+               0                   8   \n",
       "\n",
       "   Product_Category_2  Product_Category_3  Purchase  \n",
       "0                 NaN                 NaN      8370  \n",
       "1                 6.0                14.0     15200  \n",
       "2                 NaN                 NaN      1422  \n",
       "3                14.0                 NaN      1057  \n",
       "4                 NaN                 NaN      7969  "
      ]
     },
     "execution_count": 2,
     "metadata": {},
     "output_type": "execute_result"
    }
   ],
   "source": [
    "# First 5 rows of the dataset\n",
    "df.head()"
   ]
  },
  {
   "cell_type": "code",
   "execution_count": 3,
   "id": "60296a76",
   "metadata": {},
   "outputs": [
    {
     "data": {
      "text/html": [
       "<div>\n",
       "<style scoped>\n",
       "    .dataframe tbody tr th:only-of-type {\n",
       "        vertical-align: middle;\n",
       "    }\n",
       "\n",
       "    .dataframe tbody tr th {\n",
       "        vertical-align: top;\n",
       "    }\n",
       "\n",
       "    .dataframe thead th {\n",
       "        text-align: right;\n",
       "    }\n",
       "</style>\n",
       "<table border=\"1\" class=\"dataframe\">\n",
       "  <thead>\n",
       "    <tr style=\"text-align: right;\">\n",
       "      <th></th>\n",
       "      <th>User_ID</th>\n",
       "      <th>Product_ID</th>\n",
       "      <th>Gender</th>\n",
       "      <th>Age</th>\n",
       "      <th>Occupation</th>\n",
       "      <th>City_Category</th>\n",
       "      <th>Stay_In_Current_City_Years</th>\n",
       "      <th>Marital_Status</th>\n",
       "      <th>Product_Category_1</th>\n",
       "      <th>Product_Category_2</th>\n",
       "      <th>Product_Category_3</th>\n",
       "      <th>Purchase</th>\n",
       "    </tr>\n",
       "  </thead>\n",
       "  <tbody>\n",
       "    <tr>\n",
       "      <th>550063</th>\n",
       "      <td>1006033</td>\n",
       "      <td>P00372445</td>\n",
       "      <td>M</td>\n",
       "      <td>51-55</td>\n",
       "      <td>13</td>\n",
       "      <td>B</td>\n",
       "      <td>1</td>\n",
       "      <td>1</td>\n",
       "      <td>20</td>\n",
       "      <td>NaN</td>\n",
       "      <td>NaN</td>\n",
       "      <td>368</td>\n",
       "    </tr>\n",
       "    <tr>\n",
       "      <th>550064</th>\n",
       "      <td>1006035</td>\n",
       "      <td>P00375436</td>\n",
       "      <td>F</td>\n",
       "      <td>26-35</td>\n",
       "      <td>1</td>\n",
       "      <td>C</td>\n",
       "      <td>3</td>\n",
       "      <td>0</td>\n",
       "      <td>20</td>\n",
       "      <td>NaN</td>\n",
       "      <td>NaN</td>\n",
       "      <td>371</td>\n",
       "    </tr>\n",
       "    <tr>\n",
       "      <th>550065</th>\n",
       "      <td>1006036</td>\n",
       "      <td>P00375436</td>\n",
       "      <td>F</td>\n",
       "      <td>26-35</td>\n",
       "      <td>15</td>\n",
       "      <td>B</td>\n",
       "      <td>4+</td>\n",
       "      <td>1</td>\n",
       "      <td>20</td>\n",
       "      <td>NaN</td>\n",
       "      <td>NaN</td>\n",
       "      <td>137</td>\n",
       "    </tr>\n",
       "    <tr>\n",
       "      <th>550066</th>\n",
       "      <td>1006038</td>\n",
       "      <td>P00375436</td>\n",
       "      <td>F</td>\n",
       "      <td>55+</td>\n",
       "      <td>1</td>\n",
       "      <td>C</td>\n",
       "      <td>2</td>\n",
       "      <td>0</td>\n",
       "      <td>20</td>\n",
       "      <td>NaN</td>\n",
       "      <td>NaN</td>\n",
       "      <td>365</td>\n",
       "    </tr>\n",
       "    <tr>\n",
       "      <th>550067</th>\n",
       "      <td>1006039</td>\n",
       "      <td>P00371644</td>\n",
       "      <td>F</td>\n",
       "      <td>46-50</td>\n",
       "      <td>0</td>\n",
       "      <td>B</td>\n",
       "      <td>4+</td>\n",
       "      <td>1</td>\n",
       "      <td>20</td>\n",
       "      <td>NaN</td>\n",
       "      <td>NaN</td>\n",
       "      <td>490</td>\n",
       "    </tr>\n",
       "  </tbody>\n",
       "</table>\n",
       "</div>"
      ],
      "text/plain": [
       "        User_ID Product_ID Gender    Age  Occupation City_Category  \\\n",
       "550063  1006033  P00372445      M  51-55          13             B   \n",
       "550064  1006035  P00375436      F  26-35           1             C   \n",
       "550065  1006036  P00375436      F  26-35          15             B   \n",
       "550066  1006038  P00375436      F    55+           1             C   \n",
       "550067  1006039  P00371644      F  46-50           0             B   \n",
       "\n",
       "       Stay_In_Current_City_Years  Marital_Status  Product_Category_1  \\\n",
       "550063                          1               1                  20   \n",
       "550064                          3               0                  20   \n",
       "550065                         4+               1                  20   \n",
       "550066                          2               0                  20   \n",
       "550067                         4+               1                  20   \n",
       "\n",
       "        Product_Category_2  Product_Category_3  Purchase  \n",
       "550063                 NaN                 NaN       368  \n",
       "550064                 NaN                 NaN       371  \n",
       "550065                 NaN                 NaN       137  \n",
       "550066                 NaN                 NaN       365  \n",
       "550067                 NaN                 NaN       490  "
      ]
     },
     "execution_count": 3,
     "metadata": {},
     "output_type": "execute_result"
    }
   ],
   "source": [
    "# Last 5 rows of the dataset\n",
    "df.tail()"
   ]
  },
  {
   "cell_type": "code",
   "execution_count": 4,
   "id": "8e90f5eb",
   "metadata": {},
   "outputs": [
    {
     "name": "stdout",
     "output_type": "stream",
     "text": [
      "<class 'pandas.core.frame.DataFrame'>\n",
      "RangeIndex: 550068 entries, 0 to 550067\n",
      "Data columns (total 12 columns):\n",
      " #   Column                      Non-Null Count   Dtype  \n",
      "---  ------                      --------------   -----  \n",
      " 0   User_ID                     550068 non-null  int64  \n",
      " 1   Product_ID                  550068 non-null  object \n",
      " 2   Gender                      550068 non-null  object \n",
      " 3   Age                         550068 non-null  object \n",
      " 4   Occupation                  550068 non-null  int64  \n",
      " 5   City_Category               550068 non-null  object \n",
      " 6   Stay_In_Current_City_Years  550068 non-null  object \n",
      " 7   Marital_Status              550068 non-null  int64  \n",
      " 8   Product_Category_1          550068 non-null  int64  \n",
      " 9   Product_Category_2          376430 non-null  float64\n",
      " 10  Product_Category_3          166821 non-null  float64\n",
      " 11  Purchase                    550068 non-null  int64  \n",
      "dtypes: float64(2), int64(5), object(5)\n",
      "memory usage: 50.4+ MB\n"
     ]
    }
   ],
   "source": [
    "# All available columns, their counts and data types\n",
    "df.info()"
   ]
  },
  {
   "cell_type": "markdown",
   "id": "960ba9cc",
   "metadata": {},
   "source": [
    "## Preprocessing\n",
    "\n",
    "All preprocessing steps are done in almost exactly the same way as the author."
   ]
  },
  {
   "cell_type": "code",
   "execution_count": 5,
   "id": "f4eada37",
   "metadata": {},
   "outputs": [
    {
     "name": "stdout",
     "output_type": "stream",
     "text": [
      "Gender -> ['F' 'M']\n",
      "Age -> ['0-17' '55+' '26-35' '46-50' '51-55' '36-45' '18-25']\n",
      "City_Category -> ['A' 'C' 'B']\n",
      "Stay_In_Current_City_Years -> ['2' '4+' '3' '1' '0']\n"
     ]
    },
    {
     "data": {
      "text/html": [
       "<div>\n",
       "<style scoped>\n",
       "    .dataframe tbody tr th:only-of-type {\n",
       "        vertical-align: middle;\n",
       "    }\n",
       "\n",
       "    .dataframe tbody tr th {\n",
       "        vertical-align: top;\n",
       "    }\n",
       "\n",
       "    .dataframe thead th {\n",
       "        text-align: right;\n",
       "    }\n",
       "</style>\n",
       "<table border=\"1\" class=\"dataframe\">\n",
       "  <thead>\n",
       "    <tr style=\"text-align: right;\">\n",
       "      <th></th>\n",
       "      <th>Product_ID</th>\n",
       "      <th>Gender</th>\n",
       "      <th>Age</th>\n",
       "      <th>City_Category</th>\n",
       "      <th>Stay_In_Current_City_Years</th>\n",
       "    </tr>\n",
       "  </thead>\n",
       "  <tbody>\n",
       "    <tr>\n",
       "      <th>0</th>\n",
       "      <td>P00069042</td>\n",
       "      <td>F</td>\n",
       "      <td>0-17</td>\n",
       "      <td>A</td>\n",
       "      <td>2</td>\n",
       "    </tr>\n",
       "    <tr>\n",
       "      <th>1</th>\n",
       "      <td>P00248942</td>\n",
       "      <td>F</td>\n",
       "      <td>0-17</td>\n",
       "      <td>A</td>\n",
       "      <td>2</td>\n",
       "    </tr>\n",
       "    <tr>\n",
       "      <th>2</th>\n",
       "      <td>P00087842</td>\n",
       "      <td>F</td>\n",
       "      <td>0-17</td>\n",
       "      <td>A</td>\n",
       "      <td>2</td>\n",
       "    </tr>\n",
       "    <tr>\n",
       "      <th>3</th>\n",
       "      <td>P00085442</td>\n",
       "      <td>F</td>\n",
       "      <td>0-17</td>\n",
       "      <td>A</td>\n",
       "      <td>2</td>\n",
       "    </tr>\n",
       "    <tr>\n",
       "      <th>4</th>\n",
       "      <td>P00285442</td>\n",
       "      <td>M</td>\n",
       "      <td>55+</td>\n",
       "      <td>C</td>\n",
       "      <td>4+</td>\n",
       "    </tr>\n",
       "    <tr>\n",
       "      <th>5</th>\n",
       "      <td>P00193542</td>\n",
       "      <td>M</td>\n",
       "      <td>26-35</td>\n",
       "      <td>A</td>\n",
       "      <td>3</td>\n",
       "    </tr>\n",
       "    <tr>\n",
       "      <th>6</th>\n",
       "      <td>P00184942</td>\n",
       "      <td>M</td>\n",
       "      <td>46-50</td>\n",
       "      <td>B</td>\n",
       "      <td>2</td>\n",
       "    </tr>\n",
       "    <tr>\n",
       "      <th>7</th>\n",
       "      <td>P00346142</td>\n",
       "      <td>M</td>\n",
       "      <td>46-50</td>\n",
       "      <td>B</td>\n",
       "      <td>2</td>\n",
       "    </tr>\n",
       "    <tr>\n",
       "      <th>8</th>\n",
       "      <td>P0097242</td>\n",
       "      <td>M</td>\n",
       "      <td>46-50</td>\n",
       "      <td>B</td>\n",
       "      <td>2</td>\n",
       "    </tr>\n",
       "    <tr>\n",
       "      <th>9</th>\n",
       "      <td>P00274942</td>\n",
       "      <td>M</td>\n",
       "      <td>26-35</td>\n",
       "      <td>A</td>\n",
       "      <td>1</td>\n",
       "    </tr>\n",
       "  </tbody>\n",
       "</table>\n",
       "</div>"
      ],
      "text/plain": [
       "  Product_ID Gender    Age City_Category Stay_In_Current_City_Years\n",
       "0  P00069042      F   0-17             A                          2\n",
       "1  P00248942      F   0-17             A                          2\n",
       "2  P00087842      F   0-17             A                          2\n",
       "3  P00085442      F   0-17             A                          2\n",
       "4  P00285442      M    55+             C                         4+\n",
       "5  P00193542      M  26-35             A                          3\n",
       "6  P00184942      M  46-50             B                          2\n",
       "7  P00346142      M  46-50             B                          2\n",
       "8   P0097242      M  46-50             B                          2\n",
       "9  P00274942      M  26-35             A                          1"
      ]
     },
     "execution_count": 5,
     "metadata": {},
     "output_type": "execute_result"
    }
   ],
   "source": [
    "# Let's get the categorical columns by checking the data type\n",
    "cat_var = [var for var in df.columns if df[var].dtypes == \"object\"]\n",
    "cat_var = df[cat_var]\n",
    "# Also check the unique values in those columns\n",
    "print(\"Gender ->\", cat_var['Gender'].unique())\n",
    "print(\"Age ->\", cat_var[\"Age\"].unique())\n",
    "print(\"City_Category ->\", cat_var[\"City_Category\"].unique())\n",
    "print(\"Stay_In_Current_City_Years ->\", cat_var['Stay_In_Current_City_Years'].unique())\n",
    "cat_var.head(10)"
   ]
  },
  {
   "cell_type": "code",
   "execution_count": 6,
   "id": "3da5ce0f",
   "metadata": {},
   "outputs": [
    {
     "data": {
      "text/plain": [
       "Product_ID                    0\n",
       "Gender                        0\n",
       "Age                           0\n",
       "City_Category                 0\n",
       "Stay_In_Current_City_Years    0\n",
       "dtype: int64"
      ]
     },
     "execution_count": 6,
     "metadata": {},
     "output_type": "execute_result"
    }
   ],
   "source": [
    "# Is there any NaN values in these columns?\n",
    "cat_var.isna().sum()"
   ]
  },
  {
   "cell_type": "code",
   "execution_count": 7,
   "id": "3400e1a1",
   "metadata": {},
   "outputs": [],
   "source": [
    "# Give these categorical age ranges some ordered values\n",
    "def order_age(Age):\n",
    "    if Age == \"0-17\":      return 1\n",
    "    elif Age == \"18-25\":   return 2\n",
    "    elif Age == \"26-35\":   return 3\n",
    "    elif Age == \"36-45\":   return 4\n",
    "    elif Age == \"46-50\":   return 5\n",
    "    elif Age == \"51-55\":   return 6\n",
    "    elif Age == \"55+\":     return 7\n",
    "    else:    return 0\n",
    "cat_var['Age'] = cat_var['Age'].apply(order_age)"
   ]
  },
  {
   "cell_type": "code",
   "execution_count": 8,
   "id": "5bb7438b",
   "metadata": {},
   "outputs": [],
   "source": [
    "# Give these categorical current city years being stayed some ordered values\n",
    "def order_stay_in_current_city_years(Stay_In_Current_City_Years):\n",
    "    if Stay_In_Current_City_Years == \"0\":      return 1\n",
    "    elif Stay_In_Current_City_Years == \"1\":    return 2\n",
    "    elif Stay_In_Current_City_Years == \"2\":    return 3\n",
    "    elif Stay_In_Current_City_Years == \"3\":    return 4\n",
    "    elif Stay_In_Current_City_Years == \"4+\":   return 5\n",
    "cat_var['Stay_In_Current_City_Years'] = cat_var['Stay_In_Current_City_Years'].apply(order_stay_in_current_city_years)"
   ]
  },
  {
   "cell_type": "code",
   "execution_count": 9,
   "id": "f8dde6fc",
   "metadata": {},
   "outputs": [
    {
     "data": {
      "text/html": [
       "<div>\n",
       "<style scoped>\n",
       "    .dataframe tbody tr th:only-of-type {\n",
       "        vertical-align: middle;\n",
       "    }\n",
       "\n",
       "    .dataframe tbody tr th {\n",
       "        vertical-align: top;\n",
       "    }\n",
       "\n",
       "    .dataframe thead th {\n",
       "        text-align: right;\n",
       "    }\n",
       "</style>\n",
       "<table border=\"1\" class=\"dataframe\">\n",
       "  <thead>\n",
       "    <tr style=\"text-align: right;\">\n",
       "      <th></th>\n",
       "      <th>Product_ID</th>\n",
       "      <th>Gender</th>\n",
       "      <th>Age</th>\n",
       "      <th>City_Category</th>\n",
       "      <th>Stay_In_Current_City_Years</th>\n",
       "    </tr>\n",
       "  </thead>\n",
       "  <tbody>\n",
       "    <tr>\n",
       "      <th>0</th>\n",
       "      <td>P00069042</td>\n",
       "      <td>F</td>\n",
       "      <td>1</td>\n",
       "      <td>A</td>\n",
       "      <td>3</td>\n",
       "    </tr>\n",
       "    <tr>\n",
       "      <th>1</th>\n",
       "      <td>P00248942</td>\n",
       "      <td>F</td>\n",
       "      <td>1</td>\n",
       "      <td>A</td>\n",
       "      <td>3</td>\n",
       "    </tr>\n",
       "    <tr>\n",
       "      <th>2</th>\n",
       "      <td>P00087842</td>\n",
       "      <td>F</td>\n",
       "      <td>1</td>\n",
       "      <td>A</td>\n",
       "      <td>3</td>\n",
       "    </tr>\n",
       "    <tr>\n",
       "      <th>3</th>\n",
       "      <td>P00085442</td>\n",
       "      <td>F</td>\n",
       "      <td>1</td>\n",
       "      <td>A</td>\n",
       "      <td>3</td>\n",
       "    </tr>\n",
       "    <tr>\n",
       "      <th>4</th>\n",
       "      <td>P00285442</td>\n",
       "      <td>M</td>\n",
       "      <td>7</td>\n",
       "      <td>C</td>\n",
       "      <td>5</td>\n",
       "    </tr>\n",
       "    <tr>\n",
       "      <th>...</th>\n",
       "      <td>...</td>\n",
       "      <td>...</td>\n",
       "      <td>...</td>\n",
       "      <td>...</td>\n",
       "      <td>...</td>\n",
       "    </tr>\n",
       "    <tr>\n",
       "      <th>550063</th>\n",
       "      <td>P00372445</td>\n",
       "      <td>M</td>\n",
       "      <td>6</td>\n",
       "      <td>B</td>\n",
       "      <td>2</td>\n",
       "    </tr>\n",
       "    <tr>\n",
       "      <th>550064</th>\n",
       "      <td>P00375436</td>\n",
       "      <td>F</td>\n",
       "      <td>3</td>\n",
       "      <td>C</td>\n",
       "      <td>4</td>\n",
       "    </tr>\n",
       "    <tr>\n",
       "      <th>550065</th>\n",
       "      <td>P00375436</td>\n",
       "      <td>F</td>\n",
       "      <td>3</td>\n",
       "      <td>B</td>\n",
       "      <td>5</td>\n",
       "    </tr>\n",
       "    <tr>\n",
       "      <th>550066</th>\n",
       "      <td>P00375436</td>\n",
       "      <td>F</td>\n",
       "      <td>7</td>\n",
       "      <td>C</td>\n",
       "      <td>3</td>\n",
       "    </tr>\n",
       "    <tr>\n",
       "      <th>550067</th>\n",
       "      <td>P00371644</td>\n",
       "      <td>F</td>\n",
       "      <td>5</td>\n",
       "      <td>B</td>\n",
       "      <td>5</td>\n",
       "    </tr>\n",
       "  </tbody>\n",
       "</table>\n",
       "<p>550068 rows × 5 columns</p>\n",
       "</div>"
      ],
      "text/plain": [
       "       Product_ID Gender  Age City_Category  Stay_In_Current_City_Years\n",
       "0       P00069042      F    1             A                           3\n",
       "1       P00248942      F    1             A                           3\n",
       "2       P00087842      F    1             A                           3\n",
       "3       P00085442      F    1             A                           3\n",
       "4       P00285442      M    7             C                           5\n",
       "...           ...    ...  ...           ...                         ...\n",
       "550063  P00372445      M    6             B                           2\n",
       "550064  P00375436      F    3             C                           4\n",
       "550065  P00375436      F    3             B                           5\n",
       "550066  P00375436      F    7             C                           3\n",
       "550067  P00371644      F    5             B                           5\n",
       "\n",
       "[550068 rows x 5 columns]"
      ]
     },
     "execution_count": 9,
     "metadata": {},
     "output_type": "execute_result"
    }
   ],
   "source": [
    "# Latest status of categorical columns\n",
    "cat_var"
   ]
  },
  {
   "cell_type": "code",
   "execution_count": 10,
   "id": "f548cc84",
   "metadata": {},
   "outputs": [
    {
     "data": {
      "text/html": [
       "<div>\n",
       "<style scoped>\n",
       "    .dataframe tbody tr th:only-of-type {\n",
       "        vertical-align: middle;\n",
       "    }\n",
       "\n",
       "    .dataframe tbody tr th {\n",
       "        vertical-align: top;\n",
       "    }\n",
       "\n",
       "    .dataframe thead th {\n",
       "        text-align: right;\n",
       "    }\n",
       "</style>\n",
       "<table border=\"1\" class=\"dataframe\">\n",
       "  <thead>\n",
       "    <tr style=\"text-align: right;\">\n",
       "      <th></th>\n",
       "      <th>User_ID</th>\n",
       "      <th>Occupation</th>\n",
       "      <th>Marital_Status</th>\n",
       "      <th>Product_Category_1</th>\n",
       "      <th>Product_Category_2</th>\n",
       "      <th>Product_Category_3</th>\n",
       "      <th>Purchase</th>\n",
       "    </tr>\n",
       "  </thead>\n",
       "  <tbody>\n",
       "    <tr>\n",
       "      <th>0</th>\n",
       "      <td>1000001</td>\n",
       "      <td>10</td>\n",
       "      <td>0</td>\n",
       "      <td>3</td>\n",
       "      <td>NaN</td>\n",
       "      <td>NaN</td>\n",
       "      <td>8370</td>\n",
       "    </tr>\n",
       "    <tr>\n",
       "      <th>1</th>\n",
       "      <td>1000001</td>\n",
       "      <td>10</td>\n",
       "      <td>0</td>\n",
       "      <td>1</td>\n",
       "      <td>6.0</td>\n",
       "      <td>14.0</td>\n",
       "      <td>15200</td>\n",
       "    </tr>\n",
       "    <tr>\n",
       "      <th>2</th>\n",
       "      <td>1000001</td>\n",
       "      <td>10</td>\n",
       "      <td>0</td>\n",
       "      <td>12</td>\n",
       "      <td>NaN</td>\n",
       "      <td>NaN</td>\n",
       "      <td>1422</td>\n",
       "    </tr>\n",
       "    <tr>\n",
       "      <th>3</th>\n",
       "      <td>1000001</td>\n",
       "      <td>10</td>\n",
       "      <td>0</td>\n",
       "      <td>12</td>\n",
       "      <td>14.0</td>\n",
       "      <td>NaN</td>\n",
       "      <td>1057</td>\n",
       "    </tr>\n",
       "    <tr>\n",
       "      <th>4</th>\n",
       "      <td>1000002</td>\n",
       "      <td>16</td>\n",
       "      <td>0</td>\n",
       "      <td>8</td>\n",
       "      <td>NaN</td>\n",
       "      <td>NaN</td>\n",
       "      <td>7969</td>\n",
       "    </tr>\n",
       "    <tr>\n",
       "      <th>...</th>\n",
       "      <td>...</td>\n",
       "      <td>...</td>\n",
       "      <td>...</td>\n",
       "      <td>...</td>\n",
       "      <td>...</td>\n",
       "      <td>...</td>\n",
       "      <td>...</td>\n",
       "    </tr>\n",
       "    <tr>\n",
       "      <th>550063</th>\n",
       "      <td>1006033</td>\n",
       "      <td>13</td>\n",
       "      <td>1</td>\n",
       "      <td>20</td>\n",
       "      <td>NaN</td>\n",
       "      <td>NaN</td>\n",
       "      <td>368</td>\n",
       "    </tr>\n",
       "    <tr>\n",
       "      <th>550064</th>\n",
       "      <td>1006035</td>\n",
       "      <td>1</td>\n",
       "      <td>0</td>\n",
       "      <td>20</td>\n",
       "      <td>NaN</td>\n",
       "      <td>NaN</td>\n",
       "      <td>371</td>\n",
       "    </tr>\n",
       "    <tr>\n",
       "      <th>550065</th>\n",
       "      <td>1006036</td>\n",
       "      <td>15</td>\n",
       "      <td>1</td>\n",
       "      <td>20</td>\n",
       "      <td>NaN</td>\n",
       "      <td>NaN</td>\n",
       "      <td>137</td>\n",
       "    </tr>\n",
       "    <tr>\n",
       "      <th>550066</th>\n",
       "      <td>1006038</td>\n",
       "      <td>1</td>\n",
       "      <td>0</td>\n",
       "      <td>20</td>\n",
       "      <td>NaN</td>\n",
       "      <td>NaN</td>\n",
       "      <td>365</td>\n",
       "    </tr>\n",
       "    <tr>\n",
       "      <th>550067</th>\n",
       "      <td>1006039</td>\n",
       "      <td>0</td>\n",
       "      <td>1</td>\n",
       "      <td>20</td>\n",
       "      <td>NaN</td>\n",
       "      <td>NaN</td>\n",
       "      <td>490</td>\n",
       "    </tr>\n",
       "  </tbody>\n",
       "</table>\n",
       "<p>550068 rows × 7 columns</p>\n",
       "</div>"
      ],
      "text/plain": [
       "        User_ID  Occupation  Marital_Status  Product_Category_1  \\\n",
       "0       1000001          10               0                   3   \n",
       "1       1000001          10               0                   1   \n",
       "2       1000001          10               0                  12   \n",
       "3       1000001          10               0                  12   \n",
       "4       1000002          16               0                   8   \n",
       "...         ...         ...             ...                 ...   \n",
       "550063  1006033          13               1                  20   \n",
       "550064  1006035           1               0                  20   \n",
       "550065  1006036          15               1                  20   \n",
       "550066  1006038           1               0                  20   \n",
       "550067  1006039           0               1                  20   \n",
       "\n",
       "        Product_Category_2  Product_Category_3  Purchase  \n",
       "0                      NaN                 NaN      8370  \n",
       "1                      6.0                14.0     15200  \n",
       "2                      NaN                 NaN      1422  \n",
       "3                     14.0                 NaN      1057  \n",
       "4                      NaN                 NaN      7969  \n",
       "...                    ...                 ...       ...  \n",
       "550063                 NaN                 NaN       368  \n",
       "550064                 NaN                 NaN       371  \n",
       "550065                 NaN                 NaN       137  \n",
       "550066                 NaN                 NaN       365  \n",
       "550067                 NaN                 NaN       490  \n",
       "\n",
       "[550068 rows x 7 columns]"
      ]
     },
     "execution_count": 10,
     "metadata": {},
     "output_type": "execute_result"
    }
   ],
   "source": [
    "# Let's get the numerical columns by checking the data type (by not being object)\n",
    "num_var = [var for var in df.columns if df[var].dtypes !=\"object\"]\n",
    "num_var = df[num_var]\n",
    "num_var"
   ]
  },
  {
   "cell_type": "code",
   "execution_count": 11,
   "id": "5d956de2",
   "metadata": {},
   "outputs": [
    {
     "data": {
      "text/html": [
       "<div>\n",
       "<style scoped>\n",
       "    .dataframe tbody tr th:only-of-type {\n",
       "        vertical-align: middle;\n",
       "    }\n",
       "\n",
       "    .dataframe tbody tr th {\n",
       "        vertical-align: top;\n",
       "    }\n",
       "\n",
       "    .dataframe thead th {\n",
       "        text-align: right;\n",
       "    }\n",
       "</style>\n",
       "<table border=\"1\" class=\"dataframe\">\n",
       "  <thead>\n",
       "    <tr style=\"text-align: right;\">\n",
       "      <th></th>\n",
       "      <th>Occupation</th>\n",
       "      <th>Marital_Status</th>\n",
       "      <th>Product_Category_1</th>\n",
       "      <th>Purchase</th>\n",
       "    </tr>\n",
       "  </thead>\n",
       "  <tbody>\n",
       "    <tr>\n",
       "      <th>0</th>\n",
       "      <td>10</td>\n",
       "      <td>0</td>\n",
       "      <td>3</td>\n",
       "      <td>8370</td>\n",
       "    </tr>\n",
       "    <tr>\n",
       "      <th>1</th>\n",
       "      <td>10</td>\n",
       "      <td>0</td>\n",
       "      <td>1</td>\n",
       "      <td>15200</td>\n",
       "    </tr>\n",
       "    <tr>\n",
       "      <th>2</th>\n",
       "      <td>10</td>\n",
       "      <td>0</td>\n",
       "      <td>12</td>\n",
       "      <td>1422</td>\n",
       "    </tr>\n",
       "    <tr>\n",
       "      <th>3</th>\n",
       "      <td>10</td>\n",
       "      <td>0</td>\n",
       "      <td>12</td>\n",
       "      <td>1057</td>\n",
       "    </tr>\n",
       "    <tr>\n",
       "      <th>4</th>\n",
       "      <td>16</td>\n",
       "      <td>0</td>\n",
       "      <td>8</td>\n",
       "      <td>7969</td>\n",
       "    </tr>\n",
       "    <tr>\n",
       "      <th>...</th>\n",
       "      <td>...</td>\n",
       "      <td>...</td>\n",
       "      <td>...</td>\n",
       "      <td>...</td>\n",
       "    </tr>\n",
       "    <tr>\n",
       "      <th>550063</th>\n",
       "      <td>13</td>\n",
       "      <td>1</td>\n",
       "      <td>20</td>\n",
       "      <td>368</td>\n",
       "    </tr>\n",
       "    <tr>\n",
       "      <th>550064</th>\n",
       "      <td>1</td>\n",
       "      <td>0</td>\n",
       "      <td>20</td>\n",
       "      <td>371</td>\n",
       "    </tr>\n",
       "    <tr>\n",
       "      <th>550065</th>\n",
       "      <td>15</td>\n",
       "      <td>1</td>\n",
       "      <td>20</td>\n",
       "      <td>137</td>\n",
       "    </tr>\n",
       "    <tr>\n",
       "      <th>550066</th>\n",
       "      <td>1</td>\n",
       "      <td>0</td>\n",
       "      <td>20</td>\n",
       "      <td>365</td>\n",
       "    </tr>\n",
       "    <tr>\n",
       "      <th>550067</th>\n",
       "      <td>0</td>\n",
       "      <td>1</td>\n",
       "      <td>20</td>\n",
       "      <td>490</td>\n",
       "    </tr>\n",
       "  </tbody>\n",
       "</table>\n",
       "<p>550068 rows × 4 columns</p>\n",
       "</div>"
      ],
      "text/plain": [
       "        Occupation  Marital_Status  Product_Category_1  Purchase\n",
       "0               10               0                   3      8370\n",
       "1               10               0                   1     15200\n",
       "2               10               0                  12      1422\n",
       "3               10               0                  12      1057\n",
       "4               16               0                   8      7969\n",
       "...            ...             ...                 ...       ...\n",
       "550063          13               1                  20       368\n",
       "550064           1               0                  20       371\n",
       "550065          15               1                  20       137\n",
       "550066           1               0                  20       365\n",
       "550067           0               1                  20       490\n",
       "\n",
       "[550068 rows x 4 columns]"
      ]
     },
     "execution_count": 11,
     "metadata": {},
     "output_type": "execute_result"
    }
   ],
   "source": [
    "# However, these two columns will be dropped due to having null values, plus user ID has no meaning here.\n",
    "num_var = num_var.drop(['Product_Category_2','Product_Category_3','User_ID'], axis=1)\n",
    "num_var"
   ]
  },
  {
   "cell_type": "markdown",
   "id": "0280f927",
   "metadata": {},
   "source": [
    "## Prepare Train and Test Sets"
   ]
  },
  {
   "cell_type": "code",
   "execution_count": 12,
   "id": "47f52d50",
   "metadata": {},
   "outputs": [
    {
     "data": {
      "text/html": [
       "<div>\n",
       "<style scoped>\n",
       "    .dataframe tbody tr th:only-of-type {\n",
       "        vertical-align: middle;\n",
       "    }\n",
       "\n",
       "    .dataframe tbody tr th {\n",
       "        vertical-align: top;\n",
       "    }\n",
       "\n",
       "    .dataframe thead th {\n",
       "        text-align: right;\n",
       "    }\n",
       "</style>\n",
       "<table border=\"1\" class=\"dataframe\">\n",
       "  <thead>\n",
       "    <tr style=\"text-align: right;\">\n",
       "      <th></th>\n",
       "      <th>gender_F</th>\n",
       "      <th>gender_M</th>\n",
       "      <th>age_1</th>\n",
       "      <th>age_2</th>\n",
       "      <th>age_3</th>\n",
       "      <th>age_4</th>\n",
       "      <th>age_5</th>\n",
       "      <th>age_6</th>\n",
       "      <th>age_7</th>\n",
       "      <th>city_A</th>\n",
       "      <th>...</th>\n",
       "      <th>prod_cat1_13</th>\n",
       "      <th>prod_cat1_14</th>\n",
       "      <th>prod_cat1_15</th>\n",
       "      <th>prod_cat1_16</th>\n",
       "      <th>prod_cat1_17</th>\n",
       "      <th>prod_cat1_18</th>\n",
       "      <th>prod_cat1_19</th>\n",
       "      <th>prod_cat1_20</th>\n",
       "      <th>Marital_Status</th>\n",
       "      <th>Purchase</th>\n",
       "    </tr>\n",
       "  </thead>\n",
       "  <tbody>\n",
       "    <tr>\n",
       "      <th>0</th>\n",
       "      <td>1</td>\n",
       "      <td>0</td>\n",
       "      <td>1</td>\n",
       "      <td>0</td>\n",
       "      <td>0</td>\n",
       "      <td>0</td>\n",
       "      <td>0</td>\n",
       "      <td>0</td>\n",
       "      <td>0</td>\n",
       "      <td>1</td>\n",
       "      <td>...</td>\n",
       "      <td>0</td>\n",
       "      <td>0</td>\n",
       "      <td>0</td>\n",
       "      <td>0</td>\n",
       "      <td>0</td>\n",
       "      <td>0</td>\n",
       "      <td>0</td>\n",
       "      <td>0</td>\n",
       "      <td>0</td>\n",
       "      <td>8370</td>\n",
       "    </tr>\n",
       "    <tr>\n",
       "      <th>1</th>\n",
       "      <td>1</td>\n",
       "      <td>0</td>\n",
       "      <td>1</td>\n",
       "      <td>0</td>\n",
       "      <td>0</td>\n",
       "      <td>0</td>\n",
       "      <td>0</td>\n",
       "      <td>0</td>\n",
       "      <td>0</td>\n",
       "      <td>1</td>\n",
       "      <td>...</td>\n",
       "      <td>0</td>\n",
       "      <td>0</td>\n",
       "      <td>0</td>\n",
       "      <td>0</td>\n",
       "      <td>0</td>\n",
       "      <td>0</td>\n",
       "      <td>0</td>\n",
       "      <td>0</td>\n",
       "      <td>0</td>\n",
       "      <td>15200</td>\n",
       "    </tr>\n",
       "    <tr>\n",
       "      <th>2</th>\n",
       "      <td>1</td>\n",
       "      <td>0</td>\n",
       "      <td>1</td>\n",
       "      <td>0</td>\n",
       "      <td>0</td>\n",
       "      <td>0</td>\n",
       "      <td>0</td>\n",
       "      <td>0</td>\n",
       "      <td>0</td>\n",
       "      <td>1</td>\n",
       "      <td>...</td>\n",
       "      <td>0</td>\n",
       "      <td>0</td>\n",
       "      <td>0</td>\n",
       "      <td>0</td>\n",
       "      <td>0</td>\n",
       "      <td>0</td>\n",
       "      <td>0</td>\n",
       "      <td>0</td>\n",
       "      <td>0</td>\n",
       "      <td>1422</td>\n",
       "    </tr>\n",
       "    <tr>\n",
       "      <th>3</th>\n",
       "      <td>1</td>\n",
       "      <td>0</td>\n",
       "      <td>1</td>\n",
       "      <td>0</td>\n",
       "      <td>0</td>\n",
       "      <td>0</td>\n",
       "      <td>0</td>\n",
       "      <td>0</td>\n",
       "      <td>0</td>\n",
       "      <td>1</td>\n",
       "      <td>...</td>\n",
       "      <td>0</td>\n",
       "      <td>0</td>\n",
       "      <td>0</td>\n",
       "      <td>0</td>\n",
       "      <td>0</td>\n",
       "      <td>0</td>\n",
       "      <td>0</td>\n",
       "      <td>0</td>\n",
       "      <td>0</td>\n",
       "      <td>1057</td>\n",
       "    </tr>\n",
       "    <tr>\n",
       "      <th>4</th>\n",
       "      <td>0</td>\n",
       "      <td>1</td>\n",
       "      <td>0</td>\n",
       "      <td>0</td>\n",
       "      <td>0</td>\n",
       "      <td>0</td>\n",
       "      <td>0</td>\n",
       "      <td>0</td>\n",
       "      <td>1</td>\n",
       "      <td>0</td>\n",
       "      <td>...</td>\n",
       "      <td>0</td>\n",
       "      <td>0</td>\n",
       "      <td>0</td>\n",
       "      <td>0</td>\n",
       "      <td>0</td>\n",
       "      <td>0</td>\n",
       "      <td>0</td>\n",
       "      <td>0</td>\n",
       "      <td>0</td>\n",
       "      <td>7969</td>\n",
       "    </tr>\n",
       "    <tr>\n",
       "      <th>5</th>\n",
       "      <td>0</td>\n",
       "      <td>1</td>\n",
       "      <td>0</td>\n",
       "      <td>0</td>\n",
       "      <td>1</td>\n",
       "      <td>0</td>\n",
       "      <td>0</td>\n",
       "      <td>0</td>\n",
       "      <td>0</td>\n",
       "      <td>1</td>\n",
       "      <td>...</td>\n",
       "      <td>0</td>\n",
       "      <td>0</td>\n",
       "      <td>0</td>\n",
       "      <td>0</td>\n",
       "      <td>0</td>\n",
       "      <td>0</td>\n",
       "      <td>0</td>\n",
       "      <td>0</td>\n",
       "      <td>0</td>\n",
       "      <td>15227</td>\n",
       "    </tr>\n",
       "    <tr>\n",
       "      <th>6</th>\n",
       "      <td>0</td>\n",
       "      <td>1</td>\n",
       "      <td>0</td>\n",
       "      <td>0</td>\n",
       "      <td>0</td>\n",
       "      <td>0</td>\n",
       "      <td>1</td>\n",
       "      <td>0</td>\n",
       "      <td>0</td>\n",
       "      <td>0</td>\n",
       "      <td>...</td>\n",
       "      <td>0</td>\n",
       "      <td>0</td>\n",
       "      <td>0</td>\n",
       "      <td>0</td>\n",
       "      <td>0</td>\n",
       "      <td>0</td>\n",
       "      <td>0</td>\n",
       "      <td>0</td>\n",
       "      <td>1</td>\n",
       "      <td>19215</td>\n",
       "    </tr>\n",
       "    <tr>\n",
       "      <th>7</th>\n",
       "      <td>0</td>\n",
       "      <td>1</td>\n",
       "      <td>0</td>\n",
       "      <td>0</td>\n",
       "      <td>0</td>\n",
       "      <td>0</td>\n",
       "      <td>1</td>\n",
       "      <td>0</td>\n",
       "      <td>0</td>\n",
       "      <td>0</td>\n",
       "      <td>...</td>\n",
       "      <td>0</td>\n",
       "      <td>0</td>\n",
       "      <td>0</td>\n",
       "      <td>0</td>\n",
       "      <td>0</td>\n",
       "      <td>0</td>\n",
       "      <td>0</td>\n",
       "      <td>0</td>\n",
       "      <td>1</td>\n",
       "      <td>15854</td>\n",
       "    </tr>\n",
       "  </tbody>\n",
       "</table>\n",
       "<p>8 rows × 60 columns</p>\n",
       "</div>"
      ],
      "text/plain": [
       "   gender_F  gender_M  age_1  age_2  age_3  age_4  age_5  age_6  age_7  \\\n",
       "0         1         0      1      0      0      0      0      0      0   \n",
       "1         1         0      1      0      0      0      0      0      0   \n",
       "2         1         0      1      0      0      0      0      0      0   \n",
       "3         1         0      1      0      0      0      0      0      0   \n",
       "4         0         1      0      0      0      0      0      0      1   \n",
       "5         0         1      0      0      1      0      0      0      0   \n",
       "6         0         1      0      0      0      0      1      0      0   \n",
       "7         0         1      0      0      0      0      1      0      0   \n",
       "\n",
       "   city_A  ...  prod_cat1_13  prod_cat1_14  prod_cat1_15  prod_cat1_16  \\\n",
       "0       1  ...             0             0             0             0   \n",
       "1       1  ...             0             0             0             0   \n",
       "2       1  ...             0             0             0             0   \n",
       "3       1  ...             0             0             0             0   \n",
       "4       0  ...             0             0             0             0   \n",
       "5       1  ...             0             0             0             0   \n",
       "6       0  ...             0             0             0             0   \n",
       "7       0  ...             0             0             0             0   \n",
       "\n",
       "   prod_cat1_17  prod_cat1_18  prod_cat1_19  prod_cat1_20  Marital_Status  \\\n",
       "0             0             0             0             0               0   \n",
       "1             0             0             0             0               0   \n",
       "2             0             0             0             0               0   \n",
       "3             0             0             0             0               0   \n",
       "4             0             0             0             0               0   \n",
       "5             0             0             0             0               0   \n",
       "6             0             0             0             0               1   \n",
       "7             0             0             0             0               1   \n",
       "\n",
       "   Purchase  \n",
       "0      8370  \n",
       "1     15200  \n",
       "2      1422  \n",
       "3      1057  \n",
       "4      7969  \n",
       "5     15227  \n",
       "6     19215  \n",
       "7     15854  \n",
       "\n",
       "[8 rows x 60 columns]"
      ]
     },
     "execution_count": 12,
     "metadata": {},
     "output_type": "execute_result"
    }
   ],
   "source": [
    "# Create several dummy columns from categorical and numerical ones, then merge them with some other columns and purchase\n",
    "dummy_gender = pd.get_dummies(cat_var['Gender'], prefix='gender')\n",
    "dummy_age = pd.get_dummies(cat_var['Age'], prefix='age')\n",
    "dummy_city = pd.get_dummies(cat_var['City_Category'], prefix='city')\n",
    "dummy_city_years = pd.get_dummies(cat_var['Stay_In_Current_City_Years'], prefix='cityyears')\n",
    "dummy_occupation = pd.get_dummies(num_var['Occupation'], prefix='occ')\n",
    "dummy_prod_cat = pd.get_dummies(num_var['Product_Category_1'], prefix='prod_cat1')\n",
    "df_cons = pd.concat([dummy_gender, dummy_age, dummy_city, dummy_city_years, dummy_occupation, dummy_prod_cat,\n",
    "                    num_var['Marital_Status'], df['Purchase']], axis=1)\n",
    "df_cons.head(8)"
   ]
  },
  {
   "cell_type": "code",
   "execution_count": 13,
   "id": "e99e9681",
   "metadata": {},
   "outputs": [
    {
     "data": {
      "image/png": "[encoded data removed]",
      "text/plain": [
       "<Figure size 1100x1200 with 2 Axes>"
      ]
     },
     "metadata": {},
     "output_type": "display_data"
    },
    {
     "name": "stdout",
     "output_type": "stream",
     "text": [
      "#### COLUMN CORRELATIONS AGAINST PURCHASE ####\n",
      "gender_F         -0.060346\n",
      "gender_M          0.060346\n",
      "age_1            -0.011055\n",
      "age_2            -0.008831\n",
      "age_3            -0.001830\n",
      "age_4             0.006707\n",
      "age_5            -0.003317\n",
      "age_6             0.014792\n",
      "age_7             0.002904\n",
      "city_A           -0.042465\n",
      "city_B           -0.019098\n",
      "city_C            0.061012\n",
      "cityyears_1      -0.006605\n",
      "cityyears_2      -0.002030\n",
      "cityyears_3       0.005358\n",
      "cityyears_4       0.002090\n",
      "cityyears_5       0.000988\n",
      "occ_0            -0.010576\n",
      "occ_1            -0.019005\n",
      "occ_2            -0.013975\n",
      "occ_3            -0.003095\n",
      "occ_4            -0.003872\n",
      "occ_5             0.002072\n",
      "occ_6            -0.000290\n",
      "occ_7             0.011176\n",
      "occ_8             0.002839\n",
      "occ_9            -0.013409\n",
      "occ_10           -0.009409\n",
      "occ_11           -0.001464\n",
      "occ_12            0.025995\n",
      "occ_13            0.001007\n",
      "occ_14            0.010772\n",
      "occ_15            0.015416\n",
      "occ_16            0.005713\n",
      "occ_17            0.031099\n",
      "occ_18           -0.002073\n",
      "occ_19           -0.013769\n",
      "occ_20           -0.021693\n",
      "prod_cat1_1       0.506021\n",
      "prod_cat1_2       0.084282\n",
      "prod_cat1_3       0.032380\n",
      "prod_cat1_4      -0.203982\n",
      "prod_cat1_5      -0.370193\n",
      "prod_cat1_6       0.257298\n",
      "prod_cat1_7       0.116678\n",
      "prod_cat1_8      -0.179587\n",
      "prod_cat1_9       0.034110\n",
      "prod_cat1_10      0.201011\n",
      "prod_cat1_11     -0.195911\n",
      "prod_cat1_12     -0.133927\n",
      "prod_cat1_13     -0.171660\n",
      "prod_cat1_14      0.040677\n",
      "prod_cat1_15      0.118116\n",
      "prod_cat1_16      0.147740\n",
      "prod_cat1_17      0.005855\n",
      "prod_cat1_18     -0.094670\n",
      "prod_cat1_19     -0.099307\n",
      "prod_cat1_20     -0.120830\n",
      "Marital_Status   -0.000463\n",
      "Purchase          1.000000\n",
      "Name: Purchase, dtype: float64\n"
     ]
    }
   ],
   "source": [
    "# Get the correlations of all involved columns in a heat map\n",
    "plt.figure(figsize=(11,12))\n",
    "sns.heatmap(df_cons.corr())\n",
    "plt.show()\n",
    "print(\"#### COLUMN CORRELATIONS AGAINST PURCHASE ####\")\n",
    "print(df_cons.corr()['Purchase'])"
   ]
  },
  {
   "cell_type": "markdown",
   "id": "01589dd5-5bd8-46fd-bcbc-11cff74c2581",
   "metadata": {},
   "source": [
    "### Type 1: Use All Columns"
   ]
  },
  {
   "cell_type": "code",
   "execution_count": 14,
   "id": "9d21e5cb",
   "metadata": {},
   "outputs": [
    {
     "name": "stdout",
     "output_type": "stream",
     "text": [
      "TRAIN SIZE: (440054, 59)  TEST SIZE: (110014, 59)\n"
     ]
    }
   ],
   "source": [
    "# Use 80% of the dataset as training, and 20% as testing\n",
    "X = df_cons.drop(columns='Purchase', axis=1)\n",
    "Y = df_cons.iloc[:,-1]\n",
    "x_train, x_test, y_train, y_test = train_test_split(X, Y, test_size=0.2, random_state=21)\n",
    "print(\"TRAIN SIZE:\", x_train.shape, \" TEST SIZE:\", x_test.shape)"
   ]
  },
  {
   "cell_type": "code",
   "execution_count": 15,
   "id": "01e2e09b",
   "metadata": {},
   "outputs": [],
   "source": [
    "# Create lists to store results of error values of all regression methods\n",
    "res_mse, res_rmse, res_mae, res_r2, res_cv_train, res_cv_test = [], [], [], [], [], []"
   ]
  },
  {
   "cell_type": "markdown",
   "id": "40243f41",
   "metadata": {},
   "source": [
    "# ML Regression Models\n",
    "\n",
    "## 1 - Linear Regression"
   ]
  },
  {
   "cell_type": "code",
   "execution_count": 16,
   "id": "095fb072",
   "metadata": {},
   "outputs": [
    {
     "data": {
      "text/plain": [
       "{'copy_X': True,\n",
       " 'fit_intercept': True,\n",
       " 'n_jobs': None,\n",
       " 'normalize': 'deprecated',\n",
       " 'positive': False}"
      ]
     },
     "execution_count": 16,
     "metadata": {},
     "output_type": "execute_result"
    }
   ],
   "source": [
    "linreg = LinearRegression(fit_intercept=True, positive=False)\n",
    "linreg.get_params()"
   ]
  },
  {
   "cell_type": "code",
   "execution_count": 17,
   "id": "f3f8ec41",
   "metadata": {},
   "outputs": [
    {
     "name": "stdout",
     "output_type": "stream",
     "text": [
      ">>> Fitting and prediction were completed in 2.863 seconds.\n"
     ]
    }
   ],
   "source": [
    "# Fit the training data into the linear reg. model, then make predictions on the test data\n",
    "s_time = time.time()\n",
    "linreg.fit(x_train, y_train)\n",
    "y_pred = linreg.predict(x_test)\n",
    "print(\">>> Fitting and prediction were completed in {:.3f} seconds.\".format(time.time()-s_time))"
   ]
  },
  {
   "cell_type": "code",
   "execution_count": 18,
   "id": "99a216c7",
   "metadata": {},
   "outputs": [
    {
     "name": "stdout",
     "output_type": "stream",
     "text": [
      "COEF: [-6.43252617e+12 -6.43252617e+12 -6.18831420e+12 -6.18831420e+12\n",
      " -6.18831420e+12 -6.18831420e+12 -6.18831420e+12 -6.18831420e+12\n",
      " -6.18831420e+12  3.18975408e+13  3.18975408e+13  3.18975408e+13\n",
      "  7.31589033e+13  7.31589033e+13  7.31589033e+13  7.31589033e+13\n",
      "  7.31589033e+13 -5.00877543e+13 -5.00877543e+13 -5.00877543e+13\n",
      " -5.00877543e+13 -5.00877543e+13 -5.00877543e+13 -5.00877543e+13\n",
      " -5.00877543e+13 -5.00877543e+13 -5.00877543e+13 -5.00877543e+13\n",
      " -5.00877543e+13 -5.00877543e+13 -5.00877543e+13 -5.00877543e+13\n",
      " -5.00877543e+13 -5.00877543e+13 -5.00877543e+13 -5.00877543e+13\n",
      " -5.00877543e+13 -5.00877543e+13  1.14495652e+14  1.14495652e+14\n",
      "  1.14495652e+14  1.14495652e+14  1.14495652e+14  1.14495652e+14\n",
      "  1.14495652e+14  1.14495652e+14  1.14495652e+14  1.14495652e+14\n",
      "  1.14495652e+14  1.14495652e+14  1.14495652e+14  1.14495652e+14\n",
      "  1.14495652e+14  1.14495652e+14  1.14495652e+14  1.14495652e+14\n",
      "  1.14495652e+14  1.14495652e+14 -4.86250000e+01]\n",
      "RANK: 59\n",
      "INTERCEPT: -156843501420211.3\n"
     ]
    }
   ],
   "source": [
    "print(\"COEF:\", linreg.coef_)   # Estimated coefficients for the linear reg.\n",
    "print(\"RANK:\", linreg.rank_)   # Rank of matrix\n",
    "print(\"INTERCEPT:\", linreg.intercept_)   # Independent term in the linear model"
   ]
  },
  {
   "cell_type": "code",
   "execution_count": 19,
   "id": "4916ad0e",
   "metadata": {},
   "outputs": [
    {
     "name": "stdout",
     "output_type": "stream",
     "text": [
      "          6930.40625 |     5977\n",
      "           13499.625 |    19203\n",
      "           13912.875 |    15582\n",
      "          7654.03125 |     5942\n",
      "         14706.46875 |    20266\n",
      "           6054.0625 |     8611\n",
      "          2214.40625 |     2762\n",
      "            7214.375 |     3935\n",
      "           10322.625 |     5722\n",
      "             8010.75 |     6038\n",
      "          6074.59375 |     5191\n",
      "          13881.9375 |    15719\n",
      "          13489.6875 |    15499\n",
      "           6545.3125 |     8612\n",
      "            7112.125 |     7908\n",
      "            6321.125 |     8584\n",
      "          7937.34375 |     3951\n",
      "            5806.875 |     8770\n",
      "          7742.53125 |     7899\n",
      "         19434.90625 |    23301\n"
     ]
    }
   ],
   "source": [
    "# Compare the predicted values against the actual ones for the top 20 rows\n",
    "for i in range(20):\n",
    "    print(\"{:20} | {:8}\".format(y_pred[i], y_test.iloc[i]))"
   ]
  },
  {
   "cell_type": "code",
   "execution_count": 20,
   "id": "0ba0dfb7",
   "metadata": {},
   "outputs": [
    {
     "name": "stdout",
     "output_type": "stream",
     "text": [
      "MSE: 9045577.917398138\n",
      "RMSE: 3007.586726496534\n",
      "MAE: 2280.1414149562784\n",
      "R2 SCORE: 0.6406920900627433\n",
      "\n",
      "# CROSS VALIDATION #\n",
      "FITTING TIME: [2.58628845 2.52077889 2.54764128 2.68803859 2.31251645] -> 2.5310527324676513\n",
      "SCORING TIME: [0.0394547  0.04290271 0.05032563 0.06874895 0.0382998 ] -> 0.04794635772705078\n",
      "TRAIN SCORE: [0.64262757 0.64230771 0.64189785 0.64203455 0.63141868] -> 0.6400572723884616\n",
      "TEST SCORE: [ 6.29670372e-01  6.30924917e-01  6.32610795e-01  6.32069794e-01\n",
      " -1.74704396e+19] -> -3.494087912638411e+18\n"
     ]
    }
   ],
   "source": [
    "# Results of metrics\n",
    "mse, rmse, mae, r2 = mean_squared_error(y_test, y_pred), mean_squared_error(y_test, y_pred, squared=False), \\\n",
    "    mean_absolute_error(y_test, y_pred), r2_score(y_test, y_pred)\n",
    "print(\"MSE:\", mse)         # Mean squared error\n",
    "print(\"RMSE:\", rmse)       # Root mean squared error\n",
    "print(\"MAE:\", mae)         # Mean absolute error\n",
    "print(\"R2 SCORE:\", r2)     # R2 score\n",
    "res_mse.append(mse)\n",
    "res_rmse.append(rmse)\n",
    "res_mae.append(mae)\n",
    "res_r2.append(r2)\n",
    "print(\"\\n# CROSS VALIDATION #\")\n",
    "cross_val = cross_validate(linreg, X, Y, cv=5, return_train_score=True)    # 5-fold Cross Validation\n",
    "# The time in seconds for fitting the estimator on the train set for each cv split\n",
    "print(\"FITTING TIME:\", cross_val['fit_time'], \"->\", cross_val['fit_time'].mean())\n",
    "# The time in seconds for scoring the estimator on the test set for each cv split\n",
    "print(\"SCORING TIME:\", cross_val['score_time'], \"->\", cross_val['score_time'].mean())\n",
    "# The score array for train scores for each cv split\n",
    "print(\"TRAIN SCORE:\", cross_val['train_score'], \"->\", cross_val['train_score'].mean())\n",
    "# The score array for test score for each cv split\n",
    "print(\"TEST SCORE:\", cross_val['test_score'], \"->\", cross_val['test_score'].mean())"
   ]
  },
  {
   "cell_type": "markdown",
   "id": "ff12a016",
   "metadata": {},
   "source": [
    "## 2 - Lasso Regression"
   ]
  },
  {
   "cell_type": "code",
   "execution_count": 21,
   "id": "230c44d6",
   "metadata": {},
   "outputs": [
    {
     "data": {
      "text/plain": [
       "{'alpha': 1.0,\n",
       " 'copy_X': True,\n",
       " 'fit_intercept': True,\n",
       " 'max_iter': 1000,\n",
       " 'normalize': 'deprecated',\n",
       " 'positive': False,\n",
       " 'precompute': False,\n",
       " 'random_state': None,\n",
       " 'selection': 'cyclic',\n",
       " 'tol': 0.0001,\n",
       " 'warm_start': False}"
      ]
     },
     "execution_count": 21,
     "metadata": {},
     "output_type": "execute_result"
    }
   ],
   "source": [
    "lasso = Lasso(alpha=1.0, fit_intercept=True, positive=False, tol=0.0001, selection='cyclic')\n",
    "lasso.get_params()"
   ]
  },
  {
   "cell_type": "code",
   "execution_count": 22,
   "id": "52478a76",
   "metadata": {},
   "outputs": [
    {
     "name": "stdout",
     "output_type": "stream",
     "text": [
      ">>> Fitting and prediction were completed in 20.868 seconds.\n"
     ]
    }
   ],
   "source": [
    "# Fit the training data into the lasso model, then make predictions on the test data\n",
    "s_time = time.time()\n",
    "lasso.fit(x_train, y_train)\n",
    "y_pred = lasso.predict(x_test)\n",
    "print(\">>> Fitting and prediction were completed in {:.3f} seconds.\".format(time.time()-s_time))"
   ]
  },
  {
   "cell_type": "code",
   "execution_count": 23,
   "id": "6f7a02d1",
   "metadata": {},
   "outputs": [
    {
     "name": "stdout",
     "output_type": "stream",
     "text": [
      "COEF: [   44.48177398    -0.           -53.13401336  -221.52321732\n",
      "  -125.50712302     0.             0.           229.77830361\n",
      "   110.01865654  -136.2568275      0.           414.48254553\n",
      "    -0.            -0.            26.38143069    -0.\n",
      "    15.94725014  -109.24586598  -111.06230661   -36.77996056\n",
      "   106.79606903    43.94176415   -33.90289315    81.49514026\n",
      "     0.           -24.81768995     0.          -138.77542861\n",
      "     0.           153.95150449     0.            69.57277653\n",
      "   245.42631095     0.            65.97902563   -65.79633204\n",
      "  -367.08491159  -163.59882042  3501.99353971  1146.44537144\n",
      "     0.         -7696.046564   -3834.8784593   5706.79567518\n",
      "  6164.22656569 -2587.40655503  3963.09425651  9447.20809261\n",
      " -5364.40952653 -8643.47957193 -9281.70484657  2699.55706873\n",
      "  4619.94464588  4640.75336358    -0.         -6983.14909867\n",
      " -9846.09763618 -9614.05742891   -36.81663352]\n",
      "INTERCEPT: 10077.51365580757\n",
      "ITERATIONS: 538\n"
     ]
    }
   ],
   "source": [
    "print(\"COEF:\", lasso.coef_)   # Parameter vector (w in the cost function function formula)\n",
    "print(\"INTERCEPT:\", lasso.intercept_)   # Independent term in decision function\n",
    "print(\"ITERATIONS:\", lasso.n_iter_)   # Number of iterations run by the coord. descent solver to reach the specified tolerance"
   ]
  },
  {
   "cell_type": "code",
   "execution_count": 24,
   "id": "40e92863",
   "metadata": {},
   "outputs": [
    {
     "name": "stdout",
     "output_type": "stream",
     "text": [
      "   6976.393375995849 |     5977\n",
      "   13483.16246460479 |    19203\n",
      "  13851.314937159605 |    15582\n",
      "   7712.680204339766 |     5942\n",
      "  14651.582968407518 |    20266\n",
      "   6050.547540857471 |     8611\n",
      "  2245.6800555258296 |     2762\n",
      "   7236.008290709975 |     3935\n",
      "  10344.568533345295 |     5722\n",
      "   7977.791669329418 |     6038\n",
      "   6076.928971546253 |     5191\n",
      "  13868.482618027349 |    15719\n",
      "  13487.641999617495 |    15499\n",
      "  6524.0180628491635 |     8612\n",
      "   7145.478714960546 |     7908\n",
      "   6287.313703253358 |     8584\n",
      "    7938.09620762132 |     3951\n",
      "   5846.472490373013 |     8770\n",
      "   7719.885404392501 |     7899\n",
      "  19332.530574424884 |    23301\n"
     ]
    }
   ],
   "source": [
    "# Compare the predicted values against the actual ones for the top 20 rows\n",
    "for i in range(20):\n",
    "    print(\"{:20} | {:8}\".format(y_pred[i], y_test.iloc[i]))"
   ]
  },
  {
   "cell_type": "code",
   "execution_count": 25,
   "id": "725b70d7",
   "metadata": {},
   "outputs": [
    {
     "name": "stdout",
     "output_type": "stream",
     "text": [
      "MSE: 9050253.918524114\n",
      "RMSE: 3008.3639936889476\n",
      "MAE: 2281.7679824054544\n",
      "R2 SCORE: 0.6405063502231463\n",
      "ADJUSTED R2 SCORE: 0.6398843455980567\n",
      "# CROSS VALIDATION #\n",
      "FITTING TIME: [23.08907747 22.43275881 23.76906323 23.35278249 50.00922418] -> 28.53058123588562\n",
      "SCORING TIME: [0.04788804 0.04244566 0.04359484 0.04164457 0.04608822] -> 0.044332265853881836\n",
      "TRAIN SCORE: [0.64246687 0.64215092 0.64173821 0.6418791  0.63124137] -> 0.6398952945027048\n",
      "TEST SCORE: [0.62957669 0.63085884 0.63244663 0.63190911 0.5090068 ] -> 0.6067596159641664\n"
     ]
    }
   ],
   "source": [
    "# Results of metrics\n",
    "mse, rmse, mae, r2 = mean_squared_error(y_test, y_pred), mean_squared_error(y_test, y_pred, squared=False), \\\n",
    "    mean_absolute_error(y_test, y_pred), r2_score(y_test, y_pred)\n",
    "adj_r2 = 1-(1-lasso.score(X, Y))*(len(Y)-1)/(len(Y)-X.shape[1]-1)\n",
    "print(\"MSE:\", mse)          \n",
    "print(\"RMSE:\", rmse)       \n",
    "print(\"MAE:\", mae)        \n",
    "print(\"R2 SCORE:\", r2)\n",
    "print(\"ADJUSTED R2 SCORE:\", adj_r2)\n",
    "res_mse.append(mse)\n",
    "res_rmse.append(rmse)\n",
    "res_mae.append(mae)\n",
    "res_r2.append(r2)\n",
    "cross_val = cross_validate(lasso, X, Y, cv=5, return_train_score=True)\n",
    "print(\"# CROSS VALIDATION #\")\n",
    "print(\"FITTING TIME:\", cross_val['fit_time'], \"->\", cross_val['fit_time'].mean())\n",
    "print(\"SCORING TIME:\", cross_val['score_time'], \"->\", cross_val['score_time'].mean())\n",
    "print(\"TRAIN SCORE:\", cross_val['train_score'], \"->\", cross_val['train_score'].mean())\n",
    "print(\"TEST SCORE:\", cross_val['test_score'], \"->\", cross_val['test_score'].mean())"
   ]
  },
  {
   "cell_type": "markdown",
   "id": "9e277ab7",
   "metadata": {},
   "source": [
    "## 3 - Ridge Regression"
   ]
  },
  {
   "cell_type": "code",
   "execution_count": 26,
   "id": "763f22ec",
   "metadata": {},
   "outputs": [
    {
     "data": {
      "text/plain": [
       "{'alpha': 1.0,\n",
       " 'copy_X': True,\n",
       " 'fit_intercept': True,\n",
       " 'max_iter': None,\n",
       " 'normalize': 'deprecated',\n",
       " 'positive': True,\n",
       " 'random_state': None,\n",
       " 'solver': 'auto',\n",
       " 'tol': 0.0001}"
      ]
     },
     "execution_count": 26,
     "metadata": {},
     "output_type": "execute_result"
    }
   ],
   "source": [
    "ridge = Ridge(alpha=1.0, fit_intercept=True, positive=True, tol=0.0001, solver='auto')\n",
    "ridge.get_params()"
   ]
  },
  {
   "cell_type": "code",
   "execution_count": 27,
   "id": "ea5d5e4e",
   "metadata": {},
   "outputs": [
    {
     "name": "stdout",
     "output_type": "stream",
     "text": [
      ">>> Fitting and prediction were completed in 1.777 seconds.\n"
     ]
    }
   ],
   "source": [
    "# Fit the training data into the ridge model, then make predictions on the test data\n",
    "s_time = time.time()\n",
    "ridge.fit(x_train, y_train)\n",
    "y_pred = ridge.predict(x_test)\n",
    "print(\">>> Fitting and prediction were completed in {:.3f} seconds.\".format(time.time()-s_time))"
   ]
  },
  {
   "cell_type": "code",
   "execution_count": 28,
   "id": "cc96f273",
   "metadata": {},
   "outputs": [
    {
     "name": "stdout",
     "output_type": "stream",
     "text": [
      "COEF: [1.48344095e+03 1.42611754e+03 4.33874640e+02 2.82646670e+02\n",
      " 3.61491203e+02 5.00562667e+02 5.07352711e+02 7.27759455e+02\n",
      " 6.10558567e+02 6.57658236e+02 8.27739628e+02 1.19154857e+03\n",
      " 1.48230740e+02 1.20568807e+02 1.84914296e+02 1.48992314e+02\n",
      " 1.72870329e+02 3.14158339e+02 3.00120661e+02 3.69162625e+02\n",
      " 5.62180154e+02 4.94251158e+02 3.52145563e+02 5.38136310e+02\n",
      " 4.33638270e+02 3.14335659e+01 4.80968178e+02 2.77761577e+02\n",
      " 4.42201989e+02 5.96004872e+02 4.36966117e+02 5.21529109e+02\n",
      " 7.25359789e+02 4.35077125e+02 5.13537658e+02 2.99940413e+02\n",
      " 1.28522805e+00 2.46673075e+02 1.31496454e+04 1.07868829e+04\n",
      " 9.64449280e+03 1.87564240e+03 5.81931529e+03 1.53327206e+04\n",
      " 1.59934008e+04 7.06251896e+03 1.38683305e+04 1.94124938e+04\n",
      " 4.25198343e+03 1.11339408e+03 1.45444499e+02 1.26389466e+04\n",
      " 1.42235139e+04 1.43855650e+04 1.00349616e+04 2.33645839e+03\n",
      " 0.00000000e+00 0.00000000e+00 0.00000000e+00]\n",
      "INTERCEPT: -2888.3213909737024\n",
      "ITERATIONS: None\n"
     ]
    }
   ],
   "source": [
    "print(\"COEF:\", ridge.coef_)   # Weight vector(s)\n",
    "print(\"INTERCEPT:\", ridge.intercept_)   # Independent term in decision function\n",
    "print(\"ITERATIONS:\", ridge.n_iter_)   # Actual number of iterations for each target. (Only for 'sag' & 'lsqr' solvers)"
   ]
  },
  {
   "cell_type": "code",
   "execution_count": 29,
   "id": "22594a3e",
   "metadata": {},
   "outputs": [
    {
     "name": "stdout",
     "output_type": "stream",
     "text": [
      "   6993.608816013664 |     5977\n",
      "  13510.778862511554 |    19203\n",
      "  13926.017945905951 |    15582\n",
      "   7651.730634742109 |     5942\n",
      "  14752.103510329973 |    20266\n",
      "   6024.355148685776 |     8611\n",
      "   2148.616513738578 |     2762\n",
      "   7230.995036980621 |     3935\n",
      "  10291.789459687421 |     5722\n",
      "  7988.3806755648475 |     6038\n",
      "   6088.700637604816 |     5191\n",
      "  13822.350351526551 |    15719\n",
      "  13475.466207163705 |    15499\n",
      "   6531.873564083155 |     8612\n",
      "  7118.5371798812175 |     7908\n",
      "    6350.90889072404 |     8584\n",
      "   7971.591798685526 |     3951\n",
      "   5853.812390883808 |     8770\n",
      "   7737.683197979088 |     7899\n",
      "   19611.53728582682 |    23301\n"
     ]
    }
   ],
   "source": [
    "# Compare the predicted values against the actual ones for the top 20 rows\n",
    "for i in range(20):\n",
    "    print(\"{:20} | {:8}\".format(y_pred[i], y_test.iloc[i]))"
   ]
  },
  {
   "cell_type": "code",
   "execution_count": 30,
   "id": "cfd171d6",
   "metadata": {},
   "outputs": [
    {
     "name": "stdout",
     "output_type": "stream",
     "text": [
      "MSE: 9052203.535451354\n",
      "RMSE: 3008.688008991852\n",
      "MAE: 2282.7060460746457\n",
      "R2 SCORE: 0.6404289076551091\n",
      "ADJUSTED R2 SCORE: 0.639842439012449\n",
      "# CROSS VALIDATION #\n",
      "FITTING TIME: [2.23538208 1.91675663 2.14885974 2.05119419 1.99440932] -> 2.0693203926086428\n",
      "SCORING TIME: [0.04649448 0.0458982  0.05594468 0.06398082 0.06365418] -> 0.05519447326660156\n",
      "TRAIN SCORE: [0.64245825 0.64216637 0.6417334  0.6418789  0.63132961] -> 0.6399133070350812\n",
      "TEST SCORE: [0.62956278 0.63081447 0.63252614 0.63194265 0.67017821] -> 0.6390048485731323\n"
     ]
    }
   ],
   "source": [
    "# Results of metrics\n",
    "mse, rmse, mae, r2 = mean_squared_error(y_test, y_pred), mean_squared_error(y_test, y_pred, squared=False), \\\n",
    "    mean_absolute_error(y_test, y_pred), r2_score(y_test, y_pred)\n",
    "adj_r2 = 1-(1-ridge.score(X, Y))*(len(Y)-1)/(len(Y)-X.shape[1]-1)\n",
    "print(\"MSE:\", mse)        \n",
    "print(\"RMSE:\", rmse)      \n",
    "print(\"MAE:\", mae)        \n",
    "print(\"R2 SCORE:\", r2)  \n",
    "print(\"ADJUSTED R2 SCORE:\", adj_r2)\n",
    "res_mse.append(mse)\n",
    "res_rmse.append(rmse)\n",
    "res_mae.append(mae)\n",
    "res_r2.append(r2)\n",
    "cross_val = cross_validate(ridge, X, Y, cv=5, return_train_score=True)\n",
    "print(\"# CROSS VALIDATION #\")\n",
    "print(\"FITTING TIME:\", cross_val['fit_time'], \"->\", cross_val['fit_time'].mean())\n",
    "print(\"SCORING TIME:\", cross_val['score_time'], \"->\", cross_val['score_time'].mean())\n",
    "print(\"TRAIN SCORE:\", cross_val['train_score'], \"->\", cross_val['train_score'].mean())\n",
    "print(\"TEST SCORE:\", cross_val['test_score'], \"->\", cross_val['test_score'].mean())"
   ]
  },
  {
   "cell_type": "markdown",
   "id": "f3d39b9f",
   "metadata": {},
   "source": [
    "## 4 - Polynomial Regression"
   ]
  },
  {
   "cell_type": "code",
   "execution_count": 31,
   "id": "e9403a1e",
   "metadata": {},
   "outputs": [
    {
     "data": {
      "text/plain": [
       "{'degree': 2, 'include_bias': True, 'interaction_only': True, 'order': 'C'}"
      ]
     },
     "execution_count": 31,
     "metadata": {},
     "output_type": "execute_result"
    }
   ],
   "source": [
    "poly_feat = PolynomialFeatures(degree=2, include_bias=True, interaction_only=True, order='C')\n",
    "poly_feat.get_params()"
   ]
  },
  {
   "cell_type": "code",
   "execution_count": 32,
   "id": "1820bb28",
   "metadata": {},
   "outputs": [
    {
     "name": "stdout",
     "output_type": "stream",
     "text": [
      "(440054, 1771) (110014, 1771)\n"
     ]
    }
   ],
   "source": [
    "# Fit then transform for both training and test data (the number of columns must increase)\n",
    "x_poly_train = poly_feat.fit_transform(x_train)\n",
    "x_poly_test = poly_feat.fit_transform(x_test)\n",
    "print(x_poly_train.shape, x_poly_test.shape)"
   ]
  },
  {
   "cell_type": "markdown",
   "id": "706a9449",
   "metadata": {},
   "source": [
    "### Polynomial Regression with Ridge"
   ]
  },
  {
   "cell_type": "code",
   "execution_count": 33,
   "id": "6f9ac4fa",
   "metadata": {},
   "outputs": [
    {
     "name": "stdout",
     "output_type": "stream",
     "text": [
      ">>> Fitting and prediction were completed in 59.971 seconds.\n"
     ]
    }
   ],
   "source": [
    "ridge = Ridge(max_iter=1000)\n",
    "s_time = time.time()\n",
    "ridge.fit(x_poly_train, y_train)\n",
    "y_poly_pred = ridge.predict(x_poly_test)\n",
    "print(\">>> Fitting and prediction were completed in {:.3f} seconds.\".format(time.time()-s_time))"
   ]
  },
  {
   "cell_type": "code",
   "execution_count": 34,
   "id": "746a5597-68ae-4352-96a2-4086a393a0e2",
   "metadata": {},
   "outputs": [
    {
     "name": "stdout",
     "output_type": "stream",
     "text": [
      "COEF: [  0.          15.30242725 -15.30242725 ...   0.          55.95210838\n",
      " 114.66941556]\n",
      "INTERCEPT: 9190.363379510927\n",
      "ITERATIONS: None\n",
      "FEATURES: 1771\n"
     ]
    }
   ],
   "source": [
    "print(\"COEF:\", ridge.coef_)   # Weight vector(s)\n",
    "print(\"INTERCEPT:\", ridge.intercept_)   # Independent term in decision function. Set to 0.0 if fit_intercept = False\n",
    "# Actual number of iterations for each target. Only for 'sag' & 'lsqr' solvers. Other solvers will return None\n",
    "print(\"ITERATIONS:\", ridge.n_iter_)\n",
    "print(\"FEATURES:\", ridge.n_features_in_)   # Number of features seen during fit"
   ]
  },
  {
   "cell_type": "code",
   "execution_count": 35,
   "id": "e5c9cecb",
   "metadata": {},
   "outputs": [
    {
     "name": "stdout",
     "output_type": "stream",
     "text": [
      "MSE: 8898842.301552737\n",
      "RMSE: 2983.0927410244453\n",
      "MAE: 2247.4639133941855\n",
      "R2 SCORE: 0.6465207134988821\n",
      "# CROSS VALIDATION #\n",
      "FITTING TIME: [0.86338758 0.76515865 0.72827935 0.75009012 0.71851373] -> 0.7650858879089355\n",
      "SCORING TIME: [0.05791211 0.05455637 0.05555534 0.05221152 0.09332752] -> 0.06271257400512695\n",
      "TRAIN SCORE: [0.64263063 0.64230932 0.64190017 0.6420408  0.63141987] -> 0.6400601593563813\n",
      "TEST SCORE: [0.62967553 0.63092256 0.63261617 0.63206692 0.53307529] -> 0.6116712930939678\n"
     ]
    }
   ],
   "source": [
    "# Results of metrics\n",
    "mse, rmse, mae, r2 = mean_squared_error(y_test, y_poly_pred), mean_squared_error(y_test, y_poly_pred, squared=False), \\\n",
    "    mean_absolute_error(y_test, y_poly_pred), r2_score(y_test, y_poly_pred)\n",
    "print(\"MSE:\", mse)        \n",
    "print(\"RMSE:\", rmse)       \n",
    "print(\"MAE:\", mae)          \n",
    "print(\"R2 SCORE:\", r2)      \n",
    "res_mse.append(mse)\n",
    "res_rmse.append(rmse)\n",
    "res_mae.append(mae)\n",
    "res_r2.append(r2)\n",
    "cross_val = cross_validate(ridge, X, Y, cv=5, return_train_score=True)\n",
    "print(\"# CROSS VALIDATION #\")\n",
    "print(\"FITTING TIME:\", cross_val['fit_time'], \"->\", cross_val['fit_time'].mean())\n",
    "print(\"SCORING TIME:\", cross_val['score_time'], \"->\", cross_val['score_time'].mean())\n",
    "print(\"TRAIN SCORE:\", cross_val['train_score'], \"->\", cross_val['train_score'].mean())\n",
    "print(\"TEST SCORE:\", cross_val['test_score'], \"->\", cross_val['test_score'].mean())"
   ]
  },
  {
   "cell_type": "markdown",
   "id": "9bd56ca9",
   "metadata": {},
   "source": [
    "## 5 - Random Forest Regression"
   ]
  },
  {
   "cell_type": "code",
   "execution_count": 36,
   "id": "feabb351",
   "metadata": {},
   "outputs": [
    {
     "data": {
      "text/plain": [
       "{'bootstrap': True,\n",
       " 'ccp_alpha': 0.2,\n",
       " 'criterion': 'friedman_mse',\n",
       " 'max_depth': 25,\n",
       " 'max_features': None,\n",
       " 'max_leaf_nodes': None,\n",
       " 'max_samples': None,\n",
       " 'min_impurity_decrease': 0.0,\n",
       " 'min_samples_leaf': 2,\n",
       " 'min_samples_split': 2,\n",
       " 'min_weight_fraction_leaf': 0.1,\n",
       " 'n_estimators': 25,\n",
       " 'n_jobs': None,\n",
       " 'oob_score': True,\n",
       " 'random_state': None,\n",
       " 'verbose': 0,\n",
       " 'warm_start': False}"
      ]
     },
     "execution_count": 36,
     "metadata": {},
     "output_type": "execute_result"
    }
   ],
   "source": [
    "rforest = RandomForestRegressor(n_estimators=25, criterion='friedman_mse', max_depth=25, min_samples_split=2, \n",
    "                                min_samples_leaf=2, min_weight_fraction_leaf=0.1, max_features=None, max_leaf_nodes=None,\n",
    "                                bootstrap=True, warm_start=False, ccp_alpha=0.2, max_samples=None, oob_score=True)\n",
    "# rforest = RandomForestRegressor(n_estimators=40, criterion='friedman_mse', max_depth=20, min_samples_split=4, \n",
    "#                                 min_samples_leaf=4, min_weight_fraction_leaf=0.1, max_features=None, max_leaf_nodes=None,\n",
    "#                                 bootstrap=True, warm_start=False, ccp_alpha=0.2, max_samples=None)\n",
    "rforest.get_params()"
   ]
  },
  {
   "cell_type": "code",
   "execution_count": 37,
   "id": "125588f3",
   "metadata": {},
   "outputs": [
    {
     "name": "stdout",
     "output_type": "stream",
     "text": [
      ">>> Fitting and prediction were completed in 13.226 seconds.\n"
     ]
    }
   ],
   "source": [
    "# Fit the training data into the random forest, then make predictions on the test data\n",
    "s_time = time.time()\n",
    "rforest.fit(x_train, y_train)\n",
    "y_pred = rforest.predict(x_test)\n",
    "print(\">>> Fitting and prediction were completed in {:.3f} seconds.\".format(time.time()-s_time))"
   ]
  },
  {
   "cell_type": "code",
   "execution_count": 38,
   "id": "efd1ffaa",
   "metadata": {},
   "outputs": [
    {
     "name": "stdout",
     "output_type": "stream",
     "text": [
      "MSE: 17153898.35256752\n",
      "RMSE: 4141.726494176978\n",
      "MAE: 3135.9838760454218\n",
      "R2 SCORE: 0.3186138662868252\n",
      "# CROSS VALIDATION #\n",
      "FITTING TIME: [12.09190345 12.10127544 12.38721013 12.00702381 11.97444272] -> 12.112371110916138\n",
      "SCORING TIME: [0.12442493 0.12805009 0.1319263  0.12949681 0.12368155] -> 0.12751593589782714\n",
      "TRAIN SCORE: [0.31503226 0.31442267 0.31546027 0.31514149 0.32757394] -> 0.3175261270322233\n",
      "TEST SCORE: [0.32650217 0.32857429 0.32416925 0.325585   0.27328785] -> 0.31562370954383445\n"
     ]
    }
   ],
   "source": [
    "# Results of metrics\n",
    "mse, rmse, mae, r2 = mean_squared_error(y_test, y_pred), mean_squared_error(y_test, y_pred, squared=False), \\\n",
    "    mean_absolute_error(y_test, y_pred), r2_score(y_test, y_pred)\n",
    "print(\"MSE:\", mse)        \n",
    "print(\"RMSE:\", rmse)      \n",
    "print(\"MAE:\", mae)        \n",
    "print(\"R2 SCORE:\", r2)  \n",
    "res_mse.append(mse)\n",
    "res_rmse.append(rmse)\n",
    "res_mae.append(mae)\n",
    "res_r2.append(r2)\n",
    "cross_val = cross_validate(rforest, X, Y, cv=5, return_train_score=True)\n",
    "print(\"# CROSS VALIDATION #\")\n",
    "print(\"FITTING TIME:\", cross_val['fit_time'], \"->\", cross_val['fit_time'].mean())\n",
    "print(\"SCORING TIME:\", cross_val['score_time'], \"->\", cross_val['score_time'].mean())\n",
    "print(\"TRAIN SCORE:\", cross_val['train_score'], \"->\", cross_val['train_score'].mean())\n",
    "print(\"TEST SCORE:\", cross_val['test_score'], \"->\", cross_val['test_score'].mean())"
   ]
  },
  {
   "cell_type": "markdown",
   "id": "c294aae3",
   "metadata": {},
   "source": [
    "## 6 - Multi-Layer Perceptron Regression"
   ]
  },
  {
   "cell_type": "code",
   "execution_count": 39,
   "id": "b4a8b400",
   "metadata": {},
   "outputs": [
    {
     "data": {
      "text/plain": [
       "{'activation': 'relu',\n",
       " 'alpha': 0.1,\n",
       " 'batch_size': 'auto',\n",
       " 'beta_1': 0.9,\n",
       " 'beta_2': 0.999,\n",
       " 'early_stopping': False,\n",
       " 'epsilon': 1e-09,\n",
       " 'hidden_layer_sizes': (100,),\n",
       " 'learning_rate': 'adaptive',\n",
       " 'learning_rate_init': 0.01,\n",
       " 'max_fun': 15000,\n",
       " 'max_iter': 250,\n",
       " 'momentum': 0.9,\n",
       " 'n_iter_no_change': 10,\n",
       " 'nesterovs_momentum': True,\n",
       " 'power_t': 0.5,\n",
       " 'random_state': None,\n",
       " 'shuffle': True,\n",
       " 'solver': 'adam',\n",
       " 'tol': 0.01,\n",
       " 'validation_fraction': 0.5,\n",
       " 'verbose': False,\n",
       " 'warm_start': False}"
      ]
     },
     "execution_count": 39,
     "metadata": {},
     "output_type": "execute_result"
    }
   ],
   "source": [
    "mlpr = MLPRegressor(max_iter=250, hidden_layer_sizes=(100,), activation='relu', solver='adam', alpha=0.1,\n",
    "                    learning_rate='adaptive', learning_rate_init=0.01, shuffle=True, tol=0.01, max_fun=15000,\n",
    "                    beta_1=0.9, beta_2=0.999, epsilon=1e-9, n_iter_no_change=10, early_stopping=False, validation_fraction=0.5)\n",
    "mlpr.get_params()"
   ]
  },
  {
   "cell_type": "code",
   "execution_count": 40,
   "id": "3c576393",
   "metadata": {},
   "outputs": [
    {
     "name": "stdout",
     "output_type": "stream",
     "text": [
      ">>> Fitting and prediction were completed in 574.585 seconds.\n"
     ]
    }
   ],
   "source": [
    "# Fit the training data into the multi-layer perceptron regression model, then make predictions on the test data\n",
    "s_time = time.time()\n",
    "mlpr.fit(x_train, y_train)\n",
    "y_pred = mlpr.predict(x_test)\n",
    "print(\">>> Fitting and prediction were completed in {:.3f} seconds.\".format(time.time()-s_time))"
   ]
  },
  {
   "cell_type": "code",
   "execution_count": 41,
   "id": "f93caafb",
   "metadata": {},
   "outputs": [
    {
     "name": "stdout",
     "output_type": "stream",
     "text": [
      "   6371.854251982589 |     5977\n",
      "   13445.38640163886 |    19203\n",
      "  14031.453598029684 |    15582\n",
      "   7889.219006893265 |     5942\n",
      "  15292.129761216242 |    20266\n",
      "   6351.780115063089 |     8611\n",
      "   2351.402708828327 |     2762\n",
      "   7527.601782405841 |     3935\n",
      "  10354.588578176388 |     5722\n",
      "   7847.781154133372 |     6038\n",
      "   6436.780696280488 |     5191\n",
      "  14229.505513717764 |    15719\n",
      "  13170.947896521593 |    15499\n",
      "   6085.325493296647 |     8612\n",
      "   7272.154855094128 |     7908\n",
      "   6731.785404460559 |     8584\n",
      "   8666.540933261096 |     3951\n",
      "   6310.350539431195 |     8770\n",
      "   7832.713100186754 |     7899\n",
      "  19327.990197043575 |    23301\n"
     ]
    }
   ],
   "source": [
    "# Compare the predicted values against the actual ones for the first 20 rows\n",
    "for i in range(20):\n",
    "    print(\"{:20} | {:8}\".format(y_pred[i], y_test.iloc[i]))"
   ]
  },
  {
   "cell_type": "code",
   "execution_count": 42,
   "id": "e172e923",
   "metadata": {},
   "outputs": [
    {
     "name": "stdout",
     "output_type": "stream",
     "text": [
      "MSE: 8910588.681424946\n",
      "RMSE: 2985.060917540033\n",
      "MAE: 2238.2226667910168\n",
      "R2 SCORE: 0.6460541244937623\n"
     ]
    }
   ],
   "source": [
    "# Results of metrics\n",
    "mse, rmse, mae, r2 = mean_squared_error(y_test, y_pred), mean_squared_error(y_test, y_pred, squared=False), \\\n",
    "    mean_absolute_error(y_test, y_pred), r2_score(y_test, y_pred)\n",
    "print(\"MSE:\", mse)         \n",
    "print(\"RMSE:\", rmse)        \n",
    "print(\"MAE:\", mae)           \n",
    "print(\"R2 SCORE:\", r2)      \n",
    "res_mse.append(mse)\n",
    "res_rmse.append(rmse)\n",
    "res_mae.append(mae)\n",
    "res_r2.append(r2)\n",
    "# Cross validation is disabled due to taking lots of time for fitting\n",
    "# cross_val = cross_validate(mlpr, X, Y, cv=5, return_train_score=True)\n",
    "# print(\"# CROSS VALIDATION #\")\n",
    "# print(\"FITTING TIME:\", cross_val['fit_time'], \"->\", cross_val['fit_time'].mean())\n",
    "# print(\"SCORING TIME:\", cross_val['score_time'], \"->\", cross_val['score_time'].mean())\n",
    "# print(\"TRAIN SCORE:\", cross_val['train_score'], \"->\", cross_val['train_score'].mean())\n",
    "# print(\"TEST SCORE:\", cross_val['test_score'], \"->\", cross_val['test_score'].mean())"
   ]
  },
  {
   "cell_type": "markdown",
   "id": "3fe8b26f",
   "metadata": {},
   "source": [
    "## 7 - Gradient Boosting"
   ]
  },
  {
   "cell_type": "code",
   "execution_count": 43,
   "id": "2f722876",
   "metadata": {},
   "outputs": [
    {
     "data": {
      "text/plain": [
       "{'alpha': 0.9,\n",
       " 'ccp_alpha': 0.0,\n",
       " 'criterion': 'friedman_mse',\n",
       " 'init': None,\n",
       " 'learning_rate': 0.1,\n",
       " 'loss': 'squared_error',\n",
       " 'max_depth': 3,\n",
       " 'max_features': None,\n",
       " 'max_leaf_nodes': None,\n",
       " 'min_impurity_decrease': 0.0,\n",
       " 'min_samples_leaf': 1,\n",
       " 'min_samples_split': 2,\n",
       " 'min_weight_fraction_leaf': 0.0,\n",
       " 'n_estimators': 100,\n",
       " 'n_iter_no_change': None,\n",
       " 'random_state': None,\n",
       " 'subsample': 1.0,\n",
       " 'tol': 0.0001,\n",
       " 'validation_fraction': 0.1,\n",
       " 'verbose': 0,\n",
       " 'warm_start': False}"
      ]
     },
     "execution_count": 43,
     "metadata": {},
     "output_type": "execute_result"
    }
   ],
   "source": [
    "gradBoost = GradientBoostingRegressor()\n",
    "gradBoost.get_params()"
   ]
  },
  {
   "cell_type": "code",
   "execution_count": 44,
   "id": "bdb39daf",
   "metadata": {},
   "outputs": [
    {
     "name": "stdout",
     "output_type": "stream",
     "text": [
      ">>> Fitting and prediction were completed in 62.020 seconds.\n"
     ]
    }
   ],
   "source": [
    "# Fit the training data into the Gradient boosting regression model, then make predictions on the test data\n",
    "s_time = time.time()\n",
    "gradBoost.fit(x_train, y_train)\n",
    "y_pred = gradBoost.predict(x_test)\n",
    "print(\">>> Fitting and prediction were completed in {:.3f} seconds.\".format(time.time()-s_time))"
   ]
  },
  {
   "cell_type": "code",
   "execution_count": 45,
   "id": "4d6a6ee9",
   "metadata": {},
   "outputs": [
    {
     "name": "stdout",
     "output_type": "stream",
     "text": [
      "INIT: DummyRegressor()\n",
      "ESTIMATORS (FIRST 5):\n",
      "[[DecisionTreeRegressor(criterion='friedman_mse', max_depth=3,\n",
      "                        random_state=RandomState(MT19937) at 0x263CAD49740)]\n",
      " [DecisionTreeRegressor(criterion='friedman_mse', max_depth=3,\n",
      "                        random_state=RandomState(MT19937) at 0x263CAD49740)]\n",
      " [DecisionTreeRegressor(criterion='friedman_mse', max_depth=3,\n",
      "                        random_state=RandomState(MT19937) at 0x263CAD49740)]\n",
      " [DecisionTreeRegressor(criterion='friedman_mse', max_depth=3,\n",
      "                        random_state=RandomState(MT19937) at 0x263CAD49740)]\n",
      " [DecisionTreeRegressor(criterion='friedman_mse', max_depth=3,\n",
      "                        random_state=RandomState(MT19937) at 0x263CAD49740)]]\n",
      "# OF ESTIMATORS: 100\n",
      "# OF FEATURES: 59\n",
      "MAX FEATURES: 59\n",
      "FEATURE IMPORTANCES: [6.70255441e-05 2.53221672e-05 4.79861524e-05 1.52370341e-04\n",
      " 8.64457614e-06 6.48437611e-05 7.94463541e-09 3.32182380e-04\n",
      " 2.51285372e-05 1.85882307e-04 2.01692556e-04 3.91329167e-03\n",
      " 2.92007474e-07 2.89612789e-05 1.21336526e-06 2.26381965e-05\n",
      " 4.22159646e-06 7.06366199e-05 1.66547986e-05 1.06920278e-05\n",
      " 1.10225202e-05 3.98383737e-06 1.14267735e-05 3.75211248e-05\n",
      " 5.89064560e-06 0.00000000e+00 7.14239037e-06 1.69159351e-06\n",
      " 0.00000000e+00 1.36988519e-06 2.67738045e-06 8.98644389e-11\n",
      " 3.35558176e-06 3.95082642e-06 1.26894351e-06 7.99239584e-06\n",
      " 1.74115840e-04 3.86164326e-05 3.81625375e-01 3.03823497e-02\n",
      " 9.95620866e-03 4.45570314e-02 5.07937927e-02 1.49207388e-01\n",
      " 2.92668128e-02 1.50038623e-03 2.04926759e-03 8.17773126e-02\n",
      " 3.41727629e-02 1.94269959e-02 3.39963747e-02 4.12447572e-03\n",
      " 3.33129669e-02 5.36438418e-02 0.00000000e+00 8.09716882e-03\n",
      " 1.07320455e-02 1.58787866e-02 6.94255719e-06]\n",
      "TRAIN SCORE:\n",
      "[23252236.03849198 21637936.71930726 20314486.21013853 19220454.8827127\n",
      " 18321362.23484579 17575160.91813737 16948289.6483825  16416998.80216041\n",
      " 15846166.47149041 15425687.8264644  14993691.69320949 14655444.91254069\n",
      " 14312633.06408443 14030553.80141833 13761197.97246503 13528364.34651966\n",
      " 13306588.50136543 13124501.61777459 12932506.35525437 12772573.71135557\n",
      " 12600892.69017524 12453532.36468845 12299249.84745219 12164476.65646764\n",
      " 12036760.61685708 11922061.39017814 11807174.60782875 11702538.2444897\n",
      " 11598122.47308773 11496267.58583715 11400187.45271206 11308391.93807832\n",
      " 11223313.51271636 11138392.52592658 11058595.33363188 10981259.92815502\n",
      " 10905851.66209561 10835134.48075205 10767397.23848181 10704594.5481934\n",
      " 10644003.8259738  10584490.884741   10527525.04952782 10473286.03495809\n",
      " 10420834.27403409 10371470.77310082 10322282.84225103 10277901.66726649\n",
      " 10234348.92713087 10193162.15062585 10150485.1725635  10110690.55388255\n",
      " 10072798.25505299 10037221.46721975 10002745.28826794  9969087.78362412\n",
      "  9936693.98477504  9906191.53824306  9875247.91776638  9847038.76410051\n",
      "  9818390.50014107  9792205.81754974  9767074.54081469  9742874.79479666\n",
      "  9719400.29566831  9696820.13433257  9674623.58117559  9653984.3747839\n",
      "  9633918.72647979  9614982.65826596  9595982.40507788  9577908.41532809\n",
      "  9560119.940388    9543232.25205815  9527422.99489112  9510915.22196767\n",
      "  9495465.5470549   9481204.07294979  9466023.81896231  9452781.23617993\n",
      "  9439658.17562726  9427052.96083318  9414873.67678898  9403082.97617525\n",
      "  9392172.71664078  9381378.8629718   9370509.10343745  9360386.23795583\n",
      "  9350399.20925389  9340905.70839301  9332396.97582938  9323485.72360112\n",
      "  9315134.3440958   9306735.50662557  9299280.45897475  9291498.80682353\n",
      "  9284392.54637372  9277662.26499383  9270563.28062088  9263722.01661005]\n"
     ]
    }
   ],
   "source": [
    "print(\"INIT:\", gradBoost.init_)  # The estimator that provides the initial predictions\n",
    "print(\"ESTIMATORS (FIRST 5):\\n{}\".format(gradBoost.estimators_[:5]))  # The collection of fitted sub-estimators\n",
    "# The number of estimators as selected by early stopping (if 'n_iter_no_change' is specified).\n",
    "# Otherwise, it is set to 'n_estimators'\n",
    "print(\"# OF ESTIMATORS:\", gradBoost.n_estimators_)\n",
    "print(\"# OF FEATURES:\", gradBoost.n_features_in_)  # Number of features seen during fit\n",
    "print(\"MAX FEATURES:\", gradBoost.max_features_)  # The inferred value of max_features\n",
    "print(\"FEATURE IMPORTANCES:\", gradBoost.feature_importances_)  # The impurity-based feature importances\n",
    "# The i'th score 'train_score[i]' is the loss of the model at iteration i on the in-bag sample.\n",
    "# If subsample == 1, this is the loss on the training data.\n",
    "print(\"TRAIN SCORE:\\n{}\".format(gradBoost.train_score_))"
   ]
  },
  {
   "cell_type": "code",
   "execution_count": 46,
   "id": "3bd7d71b",
   "metadata": {},
   "outputs": [
    {
     "name": "stdout",
     "output_type": "stream",
     "text": [
      "   7657.861234294635 |     5977\n",
      "   13290.33094026697 |    19203\n",
      "   13290.33094026697 |    15582\n",
      "   7657.861234294635 |     5942\n",
      "  13880.620294425034 |    20266\n",
      "   6333.811143635811 |     8611\n",
      "  3087.1804937166544 |     2762\n",
      "   7657.861234294635 |     3935\n",
      "    9432.03868138849 |     5722\n",
      "   7657.861234294635 |     6038\n",
      "   6333.811143635811 |     5191\n",
      "  13948.689648731817 |    15719\n",
      "   13073.46195594517 |    15499\n",
      "   6503.363353429655 |     8612\n",
      "   7657.861234294635 |     7908\n",
      "   6333.811143635811 |     8584\n",
      "   7657.861234294635 |     3951\n",
      "   6333.811143635811 |     8770\n",
      "   7657.861234294635 |     7899\n",
      "   18612.35749810945 |    23301\n"
     ]
    }
   ],
   "source": [
    "# Compare the predicted values against the actual ones for the first 20 rows\n",
    "for i in range(20):\n",
    "    print(\"{:20} | {:8}\".format(y_pred[i], y_test.iloc[i]))"
   ]
  },
  {
   "cell_type": "code",
   "execution_count": 48,
   "id": "6f0d43ee",
   "metadata": {},
   "outputs": [
    {
     "name": "stdout",
     "output_type": "stream",
     "text": [
      "MSE: 9233670.02508801\n",
      "RMSE: 3038.695447899972\n",
      "MAE: 2331.489426341046\n",
      "R2 SCORE: 0.6332207065086031\n"
     ]
    }
   ],
   "source": [
    "# Results of metrics\n",
    "mse, rmse, mae, r2 = mean_squared_error(y_test, y_pred), mean_squared_error(y_test, y_pred, squared=False), \\\n",
    "    mean_absolute_error(y_test, y_pred), r2_score(y_test, y_pred)\n",
    "print(\"MSE:\", mse)         \n",
    "print(\"RMSE:\", rmse)        \n",
    "print(\"MAE:\", mae)           \n",
    "print(\"R2 SCORE:\", r2)      \n",
    "res_mse.append(mse)\n",
    "res_rmse.append(rmse)\n",
    "res_mae.append(mae)\n",
    "res_r2.append(r2)\n",
    "# cross_val = cross_validate(gradBoost, X, Y, cv=5, return_train_score=True)\n",
    "# print(\"# CROSS VALIDATION #\")\n",
    "# print(\"FITTING TIME:\", cross_val['fit_time'], \"->\", cross_val['fit_time'].mean())\n",
    "# print(\"SCORING TIME:\", cross_val['score_time'], \"->\", cross_val['score_time'].mean())\n",
    "# print(\"TRAIN SCORE:\", cross_val['train_score'], \"->\", cross_val['train_score'].mean())\n",
    "# print(\"TEST SCORE:\", cross_val['test_score'], \"->\", cross_val['test_score'].mean())"
   ]
  },
  {
   "cell_type": "markdown",
   "id": "cf68d669",
   "metadata": {},
   "source": [
    "## 8 - XGBoost"
   ]
  },
  {
   "cell_type": "code",
   "execution_count": 49,
   "id": "73d898a3",
   "metadata": {},
   "outputs": [
    {
     "data": {
      "text/plain": [
       "{'objective': 'reg:squarederror',\n",
       " 'base_score': None,\n",
       " 'booster': None,\n",
       " 'callbacks': None,\n",
       " 'colsample_bylevel': None,\n",
       " 'colsample_bynode': None,\n",
       " 'colsample_bytree': None,\n",
       " 'device': None,\n",
       " 'early_stopping_rounds': None,\n",
       " 'enable_categorical': False,\n",
       " 'eval_metric': None,\n",
       " 'feature_types': None,\n",
       " 'gamma': None,\n",
       " 'grow_policy': None,\n",
       " 'importance_type': None,\n",
       " 'interaction_constraints': None,\n",
       " 'learning_rate': None,\n",
       " 'max_bin': None,\n",
       " 'max_cat_threshold': None,\n",
       " 'max_cat_to_onehot': None,\n",
       " 'max_delta_step': None,\n",
       " 'max_depth': None,\n",
       " 'max_leaves': None,\n",
       " 'min_child_weight': None,\n",
       " 'missing': nan,\n",
       " 'monotone_constraints': None,\n",
       " 'multi_strategy': None,\n",
       " 'n_estimators': None,\n",
       " 'n_jobs': None,\n",
       " 'num_parallel_tree': None,\n",
       " 'random_state': None,\n",
       " 'reg_alpha': None,\n",
       " 'reg_lambda': None,\n",
       " 'sampling_method': None,\n",
       " 'scale_pos_weight': None,\n",
       " 'subsample': None,\n",
       " 'tree_method': None,\n",
       " 'validate_parameters': None,\n",
       " 'verbosity': None}"
      ]
     },
     "execution_count": 49,
     "metadata": {},
     "output_type": "execute_result"
    }
   ],
   "source": [
    "xgb = xgboost.XGBRegressor()\n",
    "xgb.get_params()"
   ]
  },
  {
   "cell_type": "code",
   "execution_count": 50,
   "id": "9511cf4f",
   "metadata": {},
   "outputs": [
    {
     "name": "stdout",
     "output_type": "stream",
     "text": [
      ">>> Fitting and prediction were completed in 3.996 seconds.\n"
     ]
    }
   ],
   "source": [
    "# Fit the training data into the extreme gradient boosting regression model, then make predictions on the test data\n",
    "s_time = time.time()\n",
    "xgb.fit(x_train, y_train)\n",
    "y_pred = xgb.predict(x_test)\n",
    "print(\">>> Fitting and prediction were completed in {:.3f} seconds.\".format(time.time()-s_time))"
   ]
  },
  {
   "cell_type": "code",
   "execution_count": 51,
   "id": "2132f44d",
   "metadata": {},
   "outputs": [
    {
     "name": "stdout",
     "output_type": "stream",
     "text": [
      "    5744.36181640625 |     5977\n",
      "     13460.927734375 |    19203\n",
      "     13993.751953125 |    15582\n",
      "    7619.58837890625 |     5942\n",
      "    15559.0224609375 |    20266\n",
      "     5836.9130859375 |     8611\n",
      "    2647.07861328125 |     2762\n",
      "    7587.45751953125 |     3935\n",
      "    10235.4755859375 |     5722\n",
      "     7709.6748046875 |     6038\n",
      "     6159.1845703125 |     5191\n",
      "     14259.884765625 |    15719\n",
      "       13268.5859375 |    15499\n",
      "        6432.6171875 |     8612\n",
      "      7535.583984375 |     7908\n",
      "     6665.0927734375 |     8584\n",
      "      7789.935546875 |     3951\n",
      "    6247.41943359375 |     8770\n",
      "    7118.92333984375 |     7899\n",
      "     19223.654296875 |    23301\n"
     ]
    }
   ],
   "source": [
    "# Compare the predicted values against the actual ones for the first 20 rows\n",
    "for i in range(20):\n",
    "    print(\"{:20} | {:8}\".format(y_pred[i], y_test.iloc[i]))"
   ]
  },
  {
   "cell_type": "code",
   "execution_count": 52,
   "id": "a981e44d",
   "metadata": {},
   "outputs": [
    {
     "name": "stdout",
     "output_type": "stream",
     "text": [
      "MSE: 8641033.825470567\n",
      "RMSE: 2939.5635433632942\n",
      "MAE: 2205.991977893565\n",
      "R2 SCORE: 0.6567613665064722\n",
      "# CROSS VALIDATION #\n",
      "FITTING TIME: [3.1899972  3.50589061 3.84815478 3.39864206 4.29347348] -> 3.64723162651062\n",
      "SCORING TIME: [0.10606885 0.09704208 0.10482645 0.09532213 0.13531113] -> 0.10771412849426269\n",
      "TRAIN SCORE: [0.66335874 0.66371618 0.66375384 0.66348985 0.65339834] -> 0.661543388209651\n",
      "TEST SCORE: [0.64576703 0.6476496  0.64917467 0.6477987  0.59029671] -> 0.6361373426752067\n"
     ]
    }
   ],
   "source": [
    "# Results of metrics\n",
    "mse, rmse, mae, r2 = mean_squared_error(y_test, y_pred), mean_squared_error(y_test, y_pred, squared=False), \\\n",
    "    mean_absolute_error(y_test, y_pred), r2_score(y_test, y_pred)\n",
    "print(\"MSE:\", mse)         \n",
    "print(\"RMSE:\", rmse)        \n",
    "print(\"MAE:\", mae)           \n",
    "print(\"R2 SCORE:\", r2)      \n",
    "res_mse.append(mse)\n",
    "res_rmse.append(rmse)\n",
    "res_mae.append(mae)\n",
    "res_r2.append(r2)\n",
    "cross_val = cross_validate(xgb, X, Y, cv=5, return_train_score=True)\n",
    "print(\"# CROSS VALIDATION #\")\n",
    "print(\"FITTING TIME:\", cross_val['fit_time'], \"->\", cross_val['fit_time'].mean())\n",
    "print(\"SCORING TIME:\", cross_val['score_time'], \"->\", cross_val['score_time'].mean())\n",
    "print(\"TRAIN SCORE:\", cross_val['train_score'], \"->\", cross_val['train_score'].mean())\n",
    "print(\"TEST SCORE:\", cross_val['test_score'], \"->\", cross_val['test_score'].mean())"
   ]
  },
  {
   "cell_type": "markdown",
   "id": "80237705",
   "metadata": {},
   "source": [
    "## Results of Metrics of All ML Methods Together"
   ]
  },
  {
   "cell_type": "code",
   "execution_count": 57,
   "id": "2762b7c3",
   "metadata": {},
   "outputs": [
    {
     "data": {
      "image/png": "[encoded data removed]",
      "text/plain": [
       "<Figure size 900x450 with 1 Axes>"
      ]
     },
     "metadata": {},
     "output_type": "display_data"
    }
   ],
   "source": [
    "methods = ['LinReg', 'Lasso', 'Ridge', 'PolyRidge', 'RForest', 'MLPR', 'GradBoost', 'XGBoost']\n",
    "plt.figure(figsize=(9,4.5))\n",
    "plt.barh(range(8), res_mse, color='#00afff')\n",
    "plt.title(\"MSE Results\", fontsize=18, fontweight='bold')\n",
    "plt.yticks(range(8), methods)\n",
    "plt.ylim(7.7,-0.7)\n",
    "plt.xlabel('MSE Values', fontsize=13, fontweight='bold')\n",
    "plt.ylabel('ML Models', fontsize=13, fontweight='bold')\n",
    "for i in range(8):\n",
    "    plt.text(res_mse[i]-2800000, i+0.12, \"{:.2f}\".format(res_mse[i]), fontweight='bold')\n",
    "plt.show()"
   ]
  },
  {
   "cell_type": "code",
   "execution_count": 58,
   "id": "35d1005d",
   "metadata": {},
   "outputs": [
    {
     "data": {
      "image/png": "[encoded data removed]",
      "text/plain": [
       "<Figure size 800x450 with 1 Axes>"
      ]
     },
     "metadata": {},
     "output_type": "display_data"
    }
   ],
   "source": [
    "plt.figure(figsize=(8,4.5))\n",
    "plt.barh(range(8), res_rmse, color='#00afff')\n",
    "plt.title(\"RMSE Results\", fontsize=18, fontweight='bold')\n",
    "plt.yticks(range(8), methods)\n",
    "plt.ylim(7.7,-0.7)\n",
    "plt.xlabel('RMSE Values', fontsize=13, fontweight='bold')\n",
    "plt.ylabel('ML Models', fontsize=13, fontweight='bold')\n",
    "for i in range(8):\n",
    "    plt.text(res_rmse[i]-450, i+0.12, \"{:.2f}\".format(res_rmse[i]), fontweight='bold')\n",
    "plt.show()"
   ]
  },
  {
   "cell_type": "code",
   "execution_count": 59,
   "id": "cdf02ba0",
   "metadata": {},
   "outputs": [
    {
     "data": {
      "image/png": "[encoded data removed]",
      "text/plain": [
       "<Figure size 800x450 with 1 Axes>"
      ]
     },
     "metadata": {},
     "output_type": "display_data"
    }
   ],
   "source": [
    "plt.figure(figsize=(8,4.5))\n",
    "plt.barh(range(8), res_mae, color='#00afff')\n",
    "plt.title(\"MAE Results\", fontsize=18, fontweight='bold')\n",
    "plt.yticks(range(8), methods)\n",
    "plt.ylim(7.7,-0.7)\n",
    "plt.xlabel('MAE Values', fontsize=13, fontweight='bold')\n",
    "plt.ylabel('ML Models', fontsize=13, fontweight='bold')\n",
    "for i in range(8):\n",
    "    plt.text(res_mae[i]-350, i+0.12, \"{:.2f}\".format(res_mae[i]), fontweight='bold')\n",
    "plt.show()"
   ]
  },
  {
   "cell_type": "code",
   "execution_count": 60,
   "id": "7a1af8d7",
   "metadata": {},
   "outputs": [
    {
     "data": {
      "image/png": "[encoded data removed]",
      "text/plain": [
       "<Figure size 800x450 with 1 Axes>"
      ]
     },
     "metadata": {},
     "output_type": "display_data"
    }
   ],
   "source": [
    "plt.figure(figsize=(8,4.5))\n",
    "plt.barh(range(8), res_r2, color='#00afff')\n",
    "plt.title(\"R2 Score Results\", fontsize=18, fontweight='bold')\n",
    "plt.yticks(range(8), methods)\n",
    "plt.ylim(7.7,-0.7)\n",
    "plt.xlabel('R2 Scores', fontsize=13, fontweight='bold')\n",
    "plt.ylabel('ML Models', fontsize=13, fontweight='bold')\n",
    "for i in range(8):\n",
    "    plt.text(res_r2[i]-0.06, i+0.12, \"{:.4f}\".format(res_r2[i]), fontweight='bold')\n",
    "plt.show()"
   ]
  }
 ],
 "metadata": {
  "kernelspec": {
   "display_name": "Python 3 (ipykernel)",
   "language": "python",
   "name": "python3"
  },
  "language_info": {
   "codemirror_mode": {
    "name": "ipython",
    "version": 3
   },
   "file_extension": ".py",
   "mimetype": "text/x-python",
   "name": "python",
   "nbconvert_exporter": "python",
   "pygments_lexer": "ipython3",
   "version": "3.10.8"
  }
 },
 "nbformat": 4,
 "nbformat_minor": 5
}
