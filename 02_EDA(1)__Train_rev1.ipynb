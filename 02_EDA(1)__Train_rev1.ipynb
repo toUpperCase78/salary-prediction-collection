{
 "cells": [
  {
   "cell_type": "markdown",
   "id": "0c35709f",
   "metadata": {},
   "source": [
    "# 02. Trouble404/kaggle-Job-Salary-Prediction\n",
    "\n",
    "## Exploratory Data Analysis | Series 1 - Train_rev1.csv"
   ]
  },
  {
   "cell_type": "code",
   "execution_count": 1,
   "id": "c2b6cd8e",
   "metadata": {},
   "outputs": [],
   "source": [
    "import numpy as np\n",
    "import pandas as pd\n",
    "import matplotlib.pyplot as plt\n",
    "import seaborn as sns\n",
    "import warnings\n",
    "warnings.filterwarnings('ignore')\n",
    "salary_data = pd.read_csv('02_Train_rev1.csv')"
   ]
  },
  {
   "cell_type": "code",
   "execution_count": 2,
   "id": "d98eb508",
   "metadata": {},
   "outputs": [
    {
     "data": {
      "text/html": [
       "<div>\n",
       "<style scoped>\n",
       "    .dataframe tbody tr th:only-of-type {\n",
       "        vertical-align: middle;\n",
       "    }\n",
       "\n",
       "    .dataframe tbody tr th {\n",
       "        vertical-align: top;\n",
       "    }\n",
       "\n",
       "    .dataframe thead th {\n",
       "        text-align: right;\n",
       "    }\n",
       "</style>\n",
       "<table border=\"1\" class=\"dataframe\">\n",
       "  <thead>\n",
       "    <tr style=\"text-align: right;\">\n",
       "      <th></th>\n",
       "      <th>Id</th>\n",
       "      <th>Title</th>\n",
       "      <th>FullDescription</th>\n",
       "      <th>LocationRaw</th>\n",
       "      <th>LocationNormalized</th>\n",
       "      <th>ContractType</th>\n",
       "      <th>ContractTime</th>\n",
       "      <th>Company</th>\n",
       "      <th>Category</th>\n",
       "      <th>SalaryRaw</th>\n",
       "      <th>SalaryNormalized</th>\n",
       "      <th>SourceName</th>\n",
       "    </tr>\n",
       "  </thead>\n",
       "  <tbody>\n",
       "    <tr>\n",
       "      <th>0</th>\n",
       "      <td>12612628</td>\n",
       "      <td>Engineering Systems Analyst</td>\n",
       "      <td>Engineering Systems Analyst Dorking Surrey Sal...</td>\n",
       "      <td>Dorking, Surrey, Surrey</td>\n",
       "      <td>Dorking</td>\n",
       "      <td>NaN</td>\n",
       "      <td>permanent</td>\n",
       "      <td>Gregory Martin International</td>\n",
       "      <td>Engineering Jobs</td>\n",
       "      <td>20000 - 30000/annum 20-30K</td>\n",
       "      <td>25000</td>\n",
       "      <td>cv-library.co.uk</td>\n",
       "    </tr>\n",
       "    <tr>\n",
       "      <th>1</th>\n",
       "      <td>12612830</td>\n",
       "      <td>Stress Engineer Glasgow</td>\n",
       "      <td>Stress Engineer Glasgow Salary **** to **** We...</td>\n",
       "      <td>Glasgow, Scotland, Scotland</td>\n",
       "      <td>Glasgow</td>\n",
       "      <td>NaN</td>\n",
       "      <td>permanent</td>\n",
       "      <td>Gregory Martin International</td>\n",
       "      <td>Engineering Jobs</td>\n",
       "      <td>25000 - 35000/annum 25-35K</td>\n",
       "      <td>30000</td>\n",
       "      <td>cv-library.co.uk</td>\n",
       "    </tr>\n",
       "    <tr>\n",
       "      <th>2</th>\n",
       "      <td>12612844</td>\n",
       "      <td>Modelling and simulation analyst</td>\n",
       "      <td>Mathematical Modeller / Simulation Analyst / O...</td>\n",
       "      <td>Hampshire, South East, South East</td>\n",
       "      <td>Hampshire</td>\n",
       "      <td>NaN</td>\n",
       "      <td>permanent</td>\n",
       "      <td>Gregory Martin International</td>\n",
       "      <td>Engineering Jobs</td>\n",
       "      <td>20000 - 40000/annum 20-40K</td>\n",
       "      <td>30000</td>\n",
       "      <td>cv-library.co.uk</td>\n",
       "    </tr>\n",
       "    <tr>\n",
       "      <th>3</th>\n",
       "      <td>12613049</td>\n",
       "      <td>Engineering Systems Analyst / Mathematical Mod...</td>\n",
       "      <td>Engineering Systems Analyst / Mathematical Mod...</td>\n",
       "      <td>Surrey, South East, South East</td>\n",
       "      <td>Surrey</td>\n",
       "      <td>NaN</td>\n",
       "      <td>permanent</td>\n",
       "      <td>Gregory Martin International</td>\n",
       "      <td>Engineering Jobs</td>\n",
       "      <td>25000 - 30000/annum 25K-30K negotiable</td>\n",
       "      <td>27500</td>\n",
       "      <td>cv-library.co.uk</td>\n",
       "    </tr>\n",
       "    <tr>\n",
       "      <th>4</th>\n",
       "      <td>12613647</td>\n",
       "      <td>Pioneer, Miser Engineering Systems Analyst</td>\n",
       "      <td>Pioneer, Miser  Engineering Systems Analyst Do...</td>\n",
       "      <td>Surrey, South East, South East</td>\n",
       "      <td>Surrey</td>\n",
       "      <td>NaN</td>\n",
       "      <td>permanent</td>\n",
       "      <td>Gregory Martin International</td>\n",
       "      <td>Engineering Jobs</td>\n",
       "      <td>20000 - 30000/annum 20-30K</td>\n",
       "      <td>25000</td>\n",
       "      <td>cv-library.co.uk</td>\n",
       "    </tr>\n",
       "  </tbody>\n",
       "</table>\n",
       "</div>"
      ],
      "text/plain": [
       "         Id                                              Title  \\\n",
       "0  12612628                        Engineering Systems Analyst   \n",
       "1  12612830                            Stress Engineer Glasgow   \n",
       "2  12612844                   Modelling and simulation analyst   \n",
       "3  12613049  Engineering Systems Analyst / Mathematical Mod...   \n",
       "4  12613647         Pioneer, Miser Engineering Systems Analyst   \n",
       "\n",
       "                                     FullDescription  \\\n",
       "0  Engineering Systems Analyst Dorking Surrey Sal...   \n",
       "1  Stress Engineer Glasgow Salary **** to **** We...   \n",
       "2  Mathematical Modeller / Simulation Analyst / O...   \n",
       "3  Engineering Systems Analyst / Mathematical Mod...   \n",
       "4  Pioneer, Miser  Engineering Systems Analyst Do...   \n",
       "\n",
       "                         LocationRaw LocationNormalized ContractType  \\\n",
       "0            Dorking, Surrey, Surrey            Dorking          NaN   \n",
       "1        Glasgow, Scotland, Scotland            Glasgow          NaN   \n",
       "2  Hampshire, South East, South East          Hampshire          NaN   \n",
       "3     Surrey, South East, South East             Surrey          NaN   \n",
       "4     Surrey, South East, South East             Surrey          NaN   \n",
       "\n",
       "  ContractTime                       Company          Category  \\\n",
       "0    permanent  Gregory Martin International  Engineering Jobs   \n",
       "1    permanent  Gregory Martin International  Engineering Jobs   \n",
       "2    permanent  Gregory Martin International  Engineering Jobs   \n",
       "3    permanent  Gregory Martin International  Engineering Jobs   \n",
       "4    permanent  Gregory Martin International  Engineering Jobs   \n",
       "\n",
       "                                SalaryRaw  SalaryNormalized        SourceName  \n",
       "0              20000 - 30000/annum 20-30K             25000  cv-library.co.uk  \n",
       "1              25000 - 35000/annum 25-35K             30000  cv-library.co.uk  \n",
       "2              20000 - 40000/annum 20-40K             30000  cv-library.co.uk  \n",
       "3  25000 - 30000/annum 25K-30K negotiable             27500  cv-library.co.uk  \n",
       "4              20000 - 30000/annum 20-30K             25000  cv-library.co.uk  "
      ]
     },
     "execution_count": 2,
     "metadata": {},
     "output_type": "execute_result"
    }
   ],
   "source": [
    "# First 5 rows of the dataset\n",
    "salary_data.head()"
   ]
  },
  {
   "cell_type": "code",
   "execution_count": 3,
   "id": "94794d0e",
   "metadata": {},
   "outputs": [
    {
     "name": "stdout",
     "output_type": "stream",
     "text": [
      "<class 'pandas.core.frame.DataFrame'>\n",
      "RangeIndex: 244768 entries, 0 to 244767\n",
      "Data columns (total 12 columns):\n",
      " #   Column              Non-Null Count   Dtype \n",
      "---  ------              --------------   ----- \n",
      " 0   Id                  244768 non-null  int64 \n",
      " 1   Title               244767 non-null  object\n",
      " 2   FullDescription     244768 non-null  object\n",
      " 3   LocationRaw         244768 non-null  object\n",
      " 4   LocationNormalized  244768 non-null  object\n",
      " 5   ContractType        65442 non-null   object\n",
      " 6   ContractTime        180863 non-null  object\n",
      " 7   Company             212338 non-null  object\n",
      " 8   Category            244768 non-null  object\n",
      " 9   SalaryRaw           244768 non-null  object\n",
      " 10  SalaryNormalized    244768 non-null  int64 \n",
      " 11  SourceName          244767 non-null  object\n",
      "dtypes: int64(2), object(10)\n",
      "memory usage: 22.4+ MB\n"
     ]
    }
   ],
   "source": [
    "# All columns, their counts and data types\n",
    "salary_data.info()"
   ]
  },
  {
   "cell_type": "code",
   "execution_count": 4,
   "id": "bcfe4a82",
   "metadata": {},
   "outputs": [
    {
     "name": "stdout",
     "output_type": "stream",
     "text": [
      "Id                                                             12612628\n",
      "Title                                       Engineering Systems Analyst\n",
      "FullDescription       Engineering Systems Analyst Dorking Surrey Sal...\n",
      "LocationRaw                                     Dorking, Surrey, Surrey\n",
      "LocationNormalized                                              Dorking\n",
      "ContractType                                                        NaN\n",
      "ContractTime                                                  permanent\n",
      "Company                                    Gregory Martin International\n",
      "Category                                               Engineering Jobs\n",
      "SalaryRaw                                    20000 - 30000/annum 20-30K\n",
      "SalaryNormalized                                                  25000\n",
      "SourceName                                             cv-library.co.uk\n",
      "Name: 0, dtype: object\n"
     ]
    },
    {
     "data": {
      "text/plain": [
       "'Engineering Systems Analyst Dorking Surrey Salary ****K Our client is located in Dorking, Surrey and are looking for Engineering Systems Analyst our client provides specialist software development Keywords Mathematical Modelling, Risk Analysis, System Modelling, Optimisation, MISER, PIONEEER Engineering Systems Analyst Dorking Surrey Salary ****K'"
      ]
     },
     "execution_count": 4,
     "metadata": {},
     "output_type": "execute_result"
    }
   ],
   "source": [
    "# Example row\n",
    "print(salary_data.iloc[0])\n",
    "salary_data.loc[0,'FullDescription']"
   ]
  },
  {
   "cell_type": "markdown",
   "id": "89dd7103",
   "metadata": {},
   "source": [
    "## Column Analysis"
   ]
  },
  {
   "cell_type": "code",
   "execution_count": 5,
   "id": "56ccf853",
   "metadata": {},
   "outputs": [
    {
     "name": "stdout",
     "output_type": "stream",
     "text": [
      "135435 different titles available\n",
      "\n",
      "#### MOST FREQUENT TIILES ####\n",
      "Business Development Manager    921\n",
      "Project Manager                 749\n",
      "Management Accountant           661\n",
      "Sales Executive                 603\n",
      "Account Manager                 540\n",
      "Mechanical Design Engineer      459\n",
      "Finance Manager                 458\n",
      "Cleaner                         439\n",
      "Credit Controller               439\n",
      "Accounts Assistant              435\n",
      "Administrator                   428\n",
      "Recruitment Consultant          423\n",
      "Assistant Manager               398\n",
      "Financial Controller            387\n",
      "Sales Manager                   361\n",
      "Business Analyst                354\n",
      "Quality Engineer                311\n",
      "Marketing Manager               288\n",
      "Quantity Surveyor               280\n",
      "Project Engineer                279\n",
      "Name: Title, dtype: int64\n"
     ]
    }
   ],
   "source": [
    "print(salary_data['Title'].nunique(), \"different titles available\")\n",
    "print(\"\\n#### MOST FREQUENT TIILES ####\")\n",
    "print(salary_data['Title'].value_counts()[:20])"
   ]
  },
  {
   "cell_type": "code",
   "execution_count": 6,
   "id": "7a7fa278",
   "metadata": {},
   "outputs": [
    {
     "name": "stdout",
     "output_type": "stream",
     "text": [
      "#### THE LONGEST DESCRIPTION LENGTHS ####\n",
      "89482     14472\n",
      "123403    14114\n",
      "150751    13388\n",
      "102762    13172\n",
      "208374    12937\n",
      "123444    12752\n",
      "175046    12528\n",
      "69108     12257\n",
      "194377    12233\n",
      "11290     11315\n",
      "38790     11260\n",
      "180521    11174\n",
      "168629    10476\n",
      "110224    10360\n",
      "115549    10241\n",
      "140957     9975\n",
      "127894     9857\n",
      "18656      9841\n",
      "141970     9828\n",
      "18912      9788\n",
      "Name: FullDescriptionLength, dtype: int64\n"
     ]
    }
   ],
   "source": [
    "salary_data['FullDescriptionLength'] = salary_data['FullDescription'].apply(lambda x: len(x))\n",
    "print(\"#### THE LONGEST DESCRIPTION LENGTHS ####\")\n",
    "print(salary_data['FullDescriptionLength'].sort_values(ascending=False)[:20])"
   ]
  },
  {
   "cell_type": "code",
   "execution_count": 7,
   "id": "b2fa5055",
   "metadata": {},
   "outputs": [
    {
     "name": "stdout",
     "output_type": "stream",
     "text": [
      "20986 unique raw locations\n",
      "\n",
      "#### MOST FREQUENT LOCATIONS ####\n",
      "London                                             15605\n",
      "London South East                                   8689\n",
      "UK                                                  5538\n",
      "City London South East                              2843\n",
      "City of London - London                             2344\n",
      "West Midlands                                       2263\n",
      "City of London                                      2200\n",
      "Manchester Lancashire North West                    1887\n",
      "Birmingham                                          1879\n",
      "Central London                                      1714\n",
      "Manchester                                          1599\n",
      "Belfast                                             1518\n",
      "Birmingham West Midlands (County) West Midlands     1411\n",
      "South East                                          1382\n",
      "Greater London                                      1371\n",
      "Leeds West Yorkshire Yorkshire                      1312\n",
      "Surrey                                              1299\n",
      "Bristol                                             1212\n",
      "Bristol Avon South West                             1122\n",
      "Leeds                                               1111\n",
      "Name: LocationRaw, dtype: int64\n"
     ]
    }
   ],
   "source": [
    "print(salary_data['LocationRaw'].nunique(), \"unique raw locations\")\n",
    "print(\"\\n#### MOST FREQUENT LOCATIONS ####\")\n",
    "print(salary_data['LocationRaw'].value_counts()[:20])"
   ]
  },
  {
   "cell_type": "code",
   "execution_count": 8,
   "id": "951b60e0",
   "metadata": {},
   "outputs": [
    {
     "name": "stdout",
     "output_type": "stream",
     "text": [
      "2732 unique normalized locations\n",
      "\n",
      "#### MOST FREQUENT LOCATIONS (NORMALIZED) ####\n",
      "UK                   41093\n",
      "London               30522\n",
      "South East London    11713\n",
      "The City              6678\n",
      "Manchester            3516\n",
      "Leeds                 3401\n",
      "Birmingham            3061\n",
      "Central London        2607\n",
      "West Midlands         2540\n",
      "Surrey                2397\n",
      "Reading               2187\n",
      "Bristol               2085\n",
      "Nottingham            1873\n",
      "Sheffield             1766\n",
      "Aberdeen              1634\n",
      "Hampshire             1557\n",
      "Belfast               1537\n",
      "East Sheen            1531\n",
      "Milton Keynes         1523\n",
      "Berkshire             1502\n",
      "Name: LocationNormalized, dtype: int64\n"
     ]
    }
   ],
   "source": [
    "print(salary_data['LocationNormalized'].nunique(), \"unique normalized locations\")\n",
    "print(\"\\n#### MOST FREQUENT LOCATIONS (NORMALIZED) ####\")\n",
    "print(salary_data['LocationNormalized'].value_counts()[:20])"
   ]
  },
  {
   "cell_type": "code",
   "execution_count": 9,
   "id": "5b8e4433",
   "metadata": {},
   "outputs": [
    {
     "name": "stdout",
     "output_type": "stream",
     "text": [
      "179326 contract types are null!\n",
      "\n",
      "#### CONTRACT TYPES ####\n",
      "full_time    57538\n",
      "part_time     7904\n",
      "Name: ContractType, dtype: int64\n"
     ]
    }
   ],
   "source": [
    "print(salary_data['ContractType'].isnull().sum(), \"contract types are null!\")\n",
    "print(\"\\n#### CONTRACT TYPES ####\")\n",
    "print(salary_data['ContractType'].value_counts())"
   ]
  },
  {
   "cell_type": "code",
   "execution_count": 10,
   "id": "96ac1d39",
   "metadata": {},
   "outputs": [
    {
     "name": "stdout",
     "output_type": "stream",
     "text": [
      "63905 contract times are null!\n",
      "\n",
      "#### CONTRACT TIMES ####\n",
      "permanent    151521\n",
      "contract      29342\n",
      "Name: ContractTime, dtype: int64\n"
     ]
    }
   ],
   "source": [
    "print(salary_data['ContractTime'].isnull().sum(), \"contract times are null!\")\n",
    "print(\"\\n#### CONTRACT TIMES ####\")\n",
    "print(salary_data['ContractTime'].value_counts())"
   ]
  },
  {
   "cell_type": "code",
   "execution_count": 11,
   "id": "32e4539a",
   "metadata": {},
   "outputs": [
    {
     "name": "stdout",
     "output_type": "stream",
     "text": [
      "20812 unique company names\n",
      "32430 company names are null!\n",
      "\n",
      "#### MOST FREQUENT COMPANITES ####\n",
      "UKStaffsearch                  4997\n",
      "CVbrowser                      2977\n",
      "London4Jobs                    2345\n",
      "Hays                           1784\n",
      "JAM Recruitment Ltd            1122\n",
      "Office Angels                   961\n",
      "Jobsite Jobs                    932\n",
      "Perfect Placement               865\n",
      "ARRAY                           847\n",
      "JOBG8                           841\n",
      "Matchtech Group plc.            834\n",
      "Penguin Recruitment             752\n",
      "Randstad                        748\n",
      "Adecco                          701\n",
      "Michael Page Finance            634\n",
      "Adecco Group                    592\n",
      "BMS Sales Specialists LLP       559\n",
      "COREcruitment International     551\n",
      "Page Personnel Finance          536\n",
      "Capita Resourcing               495\n",
      "Name: Company, dtype: int64\n"
     ]
    }
   ],
   "source": [
    "print(salary_data['Company'].nunique(), \"unique company names\")\n",
    "print(salary_data['Company'].isnull().sum(), \"company names are null!\")\n",
    "print(\"\\n#### MOST FREQUENT COMPANITES ####\")\n",
    "print(salary_data['Company'].value_counts()[:20])"
   ]
  },
  {
   "cell_type": "code",
   "execution_count": 12,
   "id": "9d57240a",
   "metadata": {},
   "outputs": [
    {
     "name": "stdout",
     "output_type": "stream",
     "text": [
      "#### ALL JOB CATEGORIES ####\n",
      "IT Jobs                             38483\n",
      "Engineering Jobs                    25174\n",
      "Accounting & Finance Jobs           21846\n",
      "Healthcare & Nursing Jobs           21076\n",
      "Sales Jobs                          17272\n",
      "Other/General Jobs                  17055\n",
      "Teaching Jobs                       12637\n",
      "Hospitality & Catering Jobs         11351\n",
      "PR, Advertising & Marketing Jobs     8854\n",
      "Trade & Construction Jobs            8837\n",
      "HR & Recruitment Jobs                7713\n",
      "Admin Jobs                           7614\n",
      "Retail Jobs                          6584\n",
      "Customer Services Jobs               6063\n",
      "Legal Jobs                           3939\n",
      "Manufacturing Jobs                   3765\n",
      "Logistics & Warehouse Jobs           3633\n",
      "Social work Jobs                     3455\n",
      "Consultancy Jobs                     3263\n",
      "Travel Jobs                          3126\n",
      "Scientific & QA Jobs                 2489\n",
      "Charity & Voluntary Jobs             2332\n",
      "Energy, Oil & Gas Jobs               2255\n",
      "Creative & Design Jobs               1605\n",
      "Maintenance Jobs                     1542\n",
      "Graduate Jobs                        1331\n",
      "Property Jobs                        1038\n",
      "Domestic help & Cleaning Jobs         291\n",
      "Part time Jobs                        145\n",
      "Name: Category, dtype: int64\n"
     ]
    }
   ],
   "source": [
    "print(\"#### ALL JOB CATEGORIES ####\")\n",
    "print(salary_data['Category'].value_counts())"
   ]
  },
  {
   "cell_type": "code",
   "execution_count": 13,
   "id": "36efdee7",
   "metadata": {},
   "outputs": [
    {
     "name": "stdout",
     "output_type": "stream",
     "text": [
      "97286 unique raw salaries\n",
      "\n",
      "#### MOST ENCOUNTERED RAW SALARY TEXTS ####\n",
      "50,000-74,999 yearly       1923\n",
      "35000                       868\n",
      "40000                       834\n",
      "45000                       764\n",
      "30k - 40k                   742\n",
      "6.19 per hour               691\n",
      "50000                       675\n",
      "30000                       639\n",
      "25000                       568\n",
      "25k - 30k                   562\n",
      "20k - 25k                   561\n",
      "60000                       489\n",
      "55000                       467\n",
      "40k - 50k                   437\n",
      "30000 - 35000/annum         430\n",
      "30000 - 35000 per annum     425\n",
      "6.19 - 6.19 per hour        422\n",
      "30000 - 40000               388\n",
      "15k - 20k                   376\n",
      "75,000-99,999 yearly        373\n",
      "Name: SalaryRaw, dtype: int64\n"
     ]
    }
   ],
   "source": [
    "print(salary_data['SalaryRaw'].nunique(), \"unique raw salaries\")\n",
    "print(\"\\n#### MOST ENCOUNTERED RAW SALARY TEXTS ####\")\n",
    "print(salary_data['SalaryRaw'].value_counts()[:20])"
   ]
  },
  {
   "cell_type": "code",
   "execution_count": 14,
   "id": "f7d8ad39",
   "metadata": {},
   "outputs": [
    {
     "name": "stdout",
     "output_type": "stream",
     "text": [
      "167 unique source names\n",
      "\n",
      "#### MOST ENCOUNTERED SOURCE NAMES ####\n",
      "totaljobs.com                     48149\n",
      "cv-library.co.uk                  34279\n",
      "Jobcentre Plus                    17929\n",
      "jobsite.co.uk                     12225\n",
      "cwjobs.co.uk                       7011\n",
      "fish4.co.uk                        6016\n",
      "MyUkJobs                           5522\n",
      "ukstaffsearch.com                  4997\n",
      "jobs.guardian.co.uk                4965\n",
      "technojobs.co.uk                   4638\n",
      "staffnurse.com                     4472\n",
      "caterer.com                        4256\n",
      "careworx.co.uk                     4228\n",
      "jobserve.com                       4176\n",
      "jobs.catererandhotelkeeper.com     3691\n",
      "hays.co.uk                         3187\n",
      "cvbrowser.com                      2977\n",
      "gojobsearch.co.uk                  2871\n",
      "retailchoice.com                   2515\n",
      "theitjobboard.co.uk                2496\n",
      "Name: SourceName, dtype: int64\n"
     ]
    }
   ],
   "source": [
    "print(salary_data['SourceName'].nunique(), \"unique source names\")\n",
    "print(\"\\n#### MOST ENCOUNTERED SOURCE NAMES ####\")\n",
    "print(salary_data['SourceName'].value_counts()[:20])"
   ]
  },
  {
   "cell_type": "code",
   "execution_count": 15,
   "id": "53e7a587",
   "metadata": {},
   "outputs": [
    {
     "name": "stdout",
     "output_type": "stream",
     "text": [
      "#### THE HIGHEST SALARIES (NORMALIZED) ####\n",
      "41495     200000\n",
      "206647    200000\n",
      "219830    200000\n",
      "224445    200000\n",
      "166819    200000\n",
      "99191     200000\n",
      "152150    200000\n",
      "29006     200000\n",
      "19357     199680\n",
      "19539     199200\n",
      "97425     192000\n",
      "145862    192000\n",
      "96363     192000\n",
      "128076    192000\n",
      "210270    192000\n",
      "180294    192000\n",
      "234479    192000\n",
      "214389    190809\n",
      "145443    182400\n",
      "22932     180000\n",
      "Name: SalaryNormalized, dtype: int64\n"
     ]
    }
   ],
   "source": [
    "print(\"#### THE HIGHEST SALARIES (NORMALIZED) ####\")\n",
    "print(salary_data['SalaryNormalized'].sort_values(ascending=False)[:20])"
   ]
  },
  {
   "cell_type": "code",
   "execution_count": 16,
   "id": "7f8c862e",
   "metadata": {},
   "outputs": [
    {
     "data": {
      "text/plain": [
       "count    244768.000000\n",
       "mean      34122.577576\n",
       "std       17640.543124\n",
       "min        5000.000000\n",
       "25%       21500.000000\n",
       "50%       30000.000000\n",
       "75%       42500.000000\n",
       "max      200000.000000\n",
       "Name: SalaryNormalized, dtype: float64"
      ]
     },
     "execution_count": 16,
     "metadata": {},
     "output_type": "execute_result"
    }
   ],
   "source": [
    "# Get the stats about normalized salaries\n",
    "salary_data['SalaryNormalized'].describe()"
   ]
  },
  {
   "cell_type": "code",
   "execution_count": 17,
   "id": "11d91396",
   "metadata": {},
   "outputs": [
    {
     "name": "stdout",
     "output_type": "stream",
     "text": [
      "297 salaries are greater than 100000\n"
     ]
    }
   ],
   "source": [
    "print(len(salary_data[salary_data['SalaryNormalized'] > 100000]), \"salaries are greater than 100000\")"
   ]
  },
  {
   "cell_type": "markdown",
   "id": "85d6575d",
   "metadata": {},
   "source": [
    "## Visualizations"
   ]
  },
  {
   "cell_type": "code",
   "execution_count": 18,
   "id": "2f15e4c8",
   "metadata": {},
   "outputs": [
    {
     "data": {
      "image/png": "[encoded data removed]",
      "text/plain": [
       "<Figure size 1000x1200 with 3 Axes>"
      ]
     },
     "metadata": {},
     "output_type": "display_data"
    }
   ],
   "source": [
    "plt.figure(figsize=(10,12))\n",
    "plt.subplot(3,1,1)\n",
    "plt.hist(salary_data['SalaryNormalized'], bins=50, zorder=2)\n",
    "plt.title(\"Salary Normalized - All Values\", fontsize=16)\n",
    "plt.grid(color=\"#dddddd\", axis='y', zorder=1)\n",
    "plt.subplot(3,1,2)\n",
    "plt.hist(salary_data[salary_data['SalaryNormalized'] <= 100000]['SalaryNormalized'], bins=50, zorder=2)\n",
    "plt.title(\"Salary Normalized <= 100000\", fontsize=16)\n",
    "plt.grid(color=\"#dddddd\", axis='y', zorder=1)\n",
    "plt.subplot(3,1,3)\n",
    "plt.hist(salary_data[salary_data['SalaryNormalized'] > 100000]['SalaryNormalized'], bins=50, zorder=2)\n",
    "plt.title(\"Salary Normalized > 100000\", fontsize=16)\n",
    "plt.grid(color=\"#dddddd\", axis='y', zorder=1)\n",
    "plt.show()"
   ]
  },
  {
   "cell_type": "code",
   "execution_count": 19,
   "id": "fb4bf7c4",
   "metadata": {},
   "outputs": [
    {
     "name": "stdout",
     "output_type": "stream",
     "text": [
      "179326 rows have null contract types!\n"
     ]
    },
    {
     "data": {
      "image/png": "[encoded data removed]",
      "text/plain": [
       "<Figure size 1200x500 with 2 Axes>"
      ]
     },
     "metadata": {},
     "output_type": "display_data"
    }
   ],
   "source": [
    "print(salary_data['ContractType'].isnull().sum(), \"rows have null contract types!\")\n",
    "plt.figure(figsize=(12,5))\n",
    "plt.subplot(1,2,1)\n",
    "plt.hist(salary_data[(salary_data['SalaryNormalized'] <= 100000) & \n",
    "                     (salary_data['ContractType'] == 'full_time')]['SalaryNormalized'], bins=30, color='#440000', zorder=2)\n",
    "plt.title(\"Salary Normalized <= 100000\\nContract Type = Full Time\")\n",
    "plt.grid(color=\"#dddddd\", axis='y', zorder=1)\n",
    "plt.subplot(1,2,2)\n",
    "plt.hist(salary_data[(salary_data['SalaryNormalized'] <= 100000) & \n",
    "                     (salary_data['ContractType'] == 'part_time')]['SalaryNormalized'], bins=30, color='#440000', zorder=2)\n",
    "plt.title(\"Salary Normalized <= 100000\\nContract Type = Part Time\")\n",
    "plt.grid(color=\"#dddddd\", axis='y', zorder=1)\n",
    "plt.show()"
   ]
  },
  {
   "cell_type": "code",
   "execution_count": 20,
   "id": "b9abdc11",
   "metadata": {},
   "outputs": [
    {
     "name": "stdout",
     "output_type": "stream",
     "text": [
      "63905 rows have null contract times!\n"
     ]
    },
    {
     "data": {
      "image/png": "[encoded data removed]",
      "text/plain": [
       "<Figure size 1200x500 with 2 Axes>"
      ]
     },
     "metadata": {},
     "output_type": "display_data"
    }
   ],
   "source": [
    "print(salary_data['ContractTime'].isnull().sum(), \"rows have null contract times!\")\n",
    "plt.figure(figsize=(12,5))\n",
    "plt.subplot(1,2,1)\n",
    "plt.hist(salary_data[(salary_data['SalaryNormalized'] <= 100000) & \n",
    "                     (salary_data['ContractTime'] == 'permanent')]['SalaryNormalized'], bins=30, color='green', zorder=2)\n",
    "plt.title(\"Salary Normalized <= 100000\\nContract Time = Permanent\")\n",
    "plt.grid(color=\"#dddddd\", axis='y', zorder=1)\n",
    "plt.subplot(1,2,2)\n",
    "plt.hist(salary_data[(salary_data['SalaryNormalized'] <= 100000) & \n",
    "                     (salary_data['ContractTime'] == 'contract')]['SalaryNormalized'], bins=30, color='green', zorder=2)\n",
    "plt.title(\"Salary Normalized <= 100000\\nContract Time = Contract\")\n",
    "plt.grid(color=\"#dddddd\", axis='y', zorder=1)\n",
    "plt.show()"
   ]
  }
 ],
 "metadata": {
  "kernelspec": {
   "display_name": "Python 3 (ipykernel)",
   "language": "python",
   "name": "python3"
  },
  "language_info": {
   "codemirror_mode": {
    "name": "ipython",
    "version": 3
   },
   "file_extension": ".py",
   "mimetype": "text/x-python",
   "name": "python",
   "nbconvert_exporter": "python",
   "pygments_lexer": "ipython3",
   "version": "3.10.8"
  }
 },
 "nbformat": 4,
 "nbformat_minor": 5
}
